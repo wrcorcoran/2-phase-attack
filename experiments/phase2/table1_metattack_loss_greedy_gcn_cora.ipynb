{
 "cells": [
  {
   "cell_type": "code",
   "execution_count": 1,
   "id": "cbc284fc-8e46-4645-bb36-6f79054e5e53",
   "metadata": {},
   "outputs": [],
   "source": [
    "from greedy_mcmc_attack import *\n",
    "from data_collection.recordings import *\n",
    "import sys\n",
    "sys.path.append(\"../../\")\n",
    "from src.models.gcn import *\n",
    "from src.models.gat import *\n",
    "from src.models.gsage import *"
   ]
  },
  {
   "cell_type": "code",
   "execution_count": 2,
   "id": "b484ec46-7057-4bcf-b042-f76d632d7dcb",
   "metadata": {},
   "outputs": [],
   "source": [
    "device = \"cuda\" if torch.cuda.is_available() else \"cpu\""
   ]
  },
  {
   "cell_type": "code",
   "execution_count": 3,
   "id": "8e03370f-1e5a-45ce-a6c4-6577604acf39",
   "metadata": {},
   "outputs": [
    {
     "name": "stdout",
     "output_type": "stream",
     "text": [
      "Data(x=[2708, 1433], edge_index=[2, 10556], y=[2708], train_mask=[2708], val_mask=[2708], test_mask=[2708])\n"
     ]
    }
   ],
   "source": [
    "# dataset_directory = \"../Cora\"\n",
    "cora_dataset = Planetoid(root='', name='Cora')\n",
    "data = cora_dataset[0].to(device)\n",
    "print(data)\n",
    "\n",
    "trials = 5"
   ]
  },
  {
   "cell_type": "code",
   "execution_count": 4,
   "id": "f17fd5eb-4632-4d81-8f51-ade39a1a3007",
   "metadata": {},
   "outputs": [],
   "source": [
    "edges_to_add = None"
   ]
  },
  {
   "cell_type": "code",
   "execution_count": 5,
   "id": "e08cf2cd-3107-4fc4-abba-0bf6224d3c3b",
   "metadata": {},
   "outputs": [],
   "source": [
    "model = GCN(data.x.shape[1], cora_dataset.num_classes, [16]).to(device)"
   ]
  },
  {
   "cell_type": "code",
   "execution_count": 6,
   "id": "ebee2287-3fc4-4710-99fd-a6499fde0a54",
   "metadata": {},
   "outputs": [],
   "source": [
    "model_save_path = \"../models/cora_gcn_model.pth\"\n",
    "list_save_path = \"../attacks/cora_gcn_edges_full_run.pth\"\n",
    "# list_save_path = \"../attacks/cora_gcn_edges.pth\"\n",
    "# # multi_metattack_edges_list.pth\n",
    "# list_save_path = \"multi_metattack_edges_list.pth\""
   ]
  },
  {
   "cell_type": "code",
   "execution_count": 7,
   "id": "ef3f201c-a315-427b-882d-c5e73dbad164",
   "metadata": {},
   "outputs": [],
   "source": [
    "model, edges_to_add, train = load_model_and_edges(model_save_path, list_save_path, model, device)"
   ]
  },
  {
   "cell_type": "code",
   "execution_count": 8,
   "id": "837669c2-a06f-4e8c-8629-4083497e088e",
   "metadata": {},
   "outputs": [
    {
     "name": "stdout",
     "output_type": "stream",
     "text": [
      "Initial Accuracy: 0.806\n",
      "Initial Loss: 0.655889093875885\n"
     ]
    }
   ],
   "source": [
    "# Get initial accuracy\n",
    "initial_loss, initial_accuracy = train.test(data)\n",
    "print(f\"Initial Accuracy: {initial_accuracy}\")\n",
    "print(f\"Initial Loss: {initial_loss}\")"
   ]
  },
  {
   "cell_type": "code",
   "execution_count": 9,
   "id": "de652b4f-cff6-41db-8e78-29644d232917",
   "metadata": {},
   "outputs": [],
   "source": [
    "G, initial_edge_count, ptb_rate, budget = initialize(data, _ptb_rate=0.20)"
   ]
  },
  {
   "cell_type": "code",
   "execution_count": null,
   "id": "0c2d8085-bebd-43d7-b6b1-044f292389c0",
   "metadata": {},
   "outputs": [
    {
     "data": {
      "application/vnd.jupyter.widget-view+json": {
       "model_id": "f4ce4d2c76004a72acd1e6e2b79c9e9e",
       "version_major": 2,
       "version_minor": 0
      },
      "text/plain": [
       "Peturbing graph...:   0%|          | 0/527 [00:00<?, ?it/s]"
      ]
     },
     "metadata": {},
     "output_type": "display_data"
    },
    {
     "name": "stdout",
     "output_type": "stream",
     "text": [
      "Surrogate loss on unlabled data: 0.6076424717903137\n",
      "Surrogate acc on unlabled data: 0.805\n",
      "Attack loss: 0.2829137444496155\n",
      "Surrogate loss on unlabled data: 0.7039027810096741\n",
      "Surrogate acc on unlabled data: 0.781\n",
      "Attack loss: 0.4154606759548187\n",
      "Surrogate loss on unlabled data: 0.9057208299636841\n",
      "Surrogate acc on unlabled data: 0.736\n",
      "Attack loss: 0.6127167344093323\n",
      "Surrogate loss on unlabled data: 0.8646247982978821\n",
      "Surrogate acc on unlabled data: 0.725\n",
      "Attack loss: 0.6141096353530884\n",
      "Surrogate loss on unlabled data: 1.0203737020492554\n",
      "Surrogate acc on unlabled data: 0.682\n",
      "Attack loss: 0.7593544721603394\n",
      "Surrogate loss on unlabled data: 1.1040681600570679\n",
      "Surrogate acc on unlabled data: 0.645\n",
      "Attack loss: 0.867948591709137\n",
      "Surrogate loss on unlabled data: 1.1518312692642212\n",
      "Surrogate acc on unlabled data: 0.642\n",
      "Attack loss: 0.9360206723213196\n",
      "Surrogate loss on unlabled data: 1.2556995153427124\n",
      "Surrogate acc on unlabled data: 0.635\n",
      "Attack loss: 1.0342254638671875\n",
      "Surrogate loss on unlabled data: 1.364932894706726\n",
      "Surrogate acc on unlabled data: 0.615\n",
      "Attack loss: 1.1457223892211914\n",
      "Surrogate loss on unlabled data: 1.4177448749542236\n",
      "Surrogate acc on unlabled data: 0.605\n",
      "Attack loss: 1.181996464729309\n",
      "Surrogate loss on unlabled data: 1.5401625633239746\n",
      "Surrogate acc on unlabled data: 0.579\n",
      "Attack loss: 1.3135713338851929\n",
      "Surrogate loss on unlabled data: 1.6687126159667969\n",
      "Surrogate acc on unlabled data: 0.5630000000000001\n",
      "Attack loss: 1.451040506362915\n",
      "Surrogate loss on unlabled data: 1.7195507287979126\n",
      "Surrogate acc on unlabled data: 0.548\n",
      "Attack loss: 1.4954314231872559\n",
      "Surrogate loss on unlabled data: 2.033043384552002\n",
      "Surrogate acc on unlabled data: 0.558\n",
      "Attack loss: 1.8259068727493286\n",
      "Surrogate loss on unlabled data: 1.9177045822143555\n",
      "Surrogate acc on unlabled data: 0.549\n",
      "Attack loss: 1.68918776512146\n",
      "Surrogate loss on unlabled data: 1.965250015258789\n",
      "Surrogate acc on unlabled data: 0.53\n",
      "Attack loss: 1.7691948413848877\n",
      "Surrogate loss on unlabled data: 2.115370512008667\n",
      "Surrogate acc on unlabled data: 0.54\n",
      "Attack loss: 1.9168639183044434\n",
      "Surrogate loss on unlabled data: 2.1535744667053223\n",
      "Surrogate acc on unlabled data: 0.531\n",
      "Attack loss: 1.9657589197158813\n",
      "Surrogate loss on unlabled data: 2.357187032699585\n",
      "Surrogate acc on unlabled data: 0.52\n",
      "Attack loss: 2.1593101024627686\n",
      "Surrogate loss on unlabled data: 2.5164151191711426\n",
      "Surrogate acc on unlabled data: 0.53\n",
      "Attack loss: 2.2690858840942383\n",
      "Surrogate loss on unlabled data: 2.4140172004699707\n",
      "Surrogate acc on unlabled data: 0.522\n",
      "Attack loss: 2.222536087036133\n",
      "Surrogate loss on unlabled data: 2.944733142852783\n",
      "Surrogate acc on unlabled data: 0.514\n",
      "Attack loss: 2.755464792251587\n",
      "Surrogate loss on unlabled data: 3.0431511402130127\n",
      "Surrogate acc on unlabled data: 0.52\n",
      "Attack loss: 2.830630302429199\n",
      "Surrogate loss on unlabled data: 3.2619707584381104\n",
      "Surrogate acc on unlabled data: 0.508\n",
      "Attack loss: 3.062587022781372\n",
      "Surrogate loss on unlabled data: 2.777036666870117\n",
      "Surrogate acc on unlabled data: 0.528\n",
      "Attack loss: 2.5817394256591797\n",
      "Surrogate loss on unlabled data: 3.2160768508911133\n",
      "Surrogate acc on unlabled data: 0.514\n",
      "Attack loss: 3.022639751434326\n",
      "Surrogate loss on unlabled data: 3.5045087337493896\n",
      "Surrogate acc on unlabled data: 0.506\n",
      "Attack loss: 3.3145456314086914\n"
     ]
    },
    {
     "data": {
      "application/vnd.jupyter.widget-view+json": {
       "model_id": "7e36f92755e6487ab374725b6fc32f15",
       "version_major": 2,
       "version_minor": 0
      },
      "text/plain": [
       "Peturbing graph...:   0%|          | 0/527 [00:00<?, ?it/s]"
      ]
     },
     "metadata": {},
     "output_type": "display_data"
    },
    {
     "name": "stdout",
     "output_type": "stream",
     "text": [
      "Surrogate loss on unlabled data: 0.5966231226921082\n",
      "Surrogate acc on unlabled data: 0.808\n",
      "Attack loss: 0.28638315200805664\n",
      "Surrogate loss on unlabled data: 0.7257119417190552\n",
      "Surrogate acc on unlabled data: 0.78\n",
      "Attack loss: 0.4335567057132721\n",
      "Surrogate loss on unlabled data: 0.8151730298995972\n",
      "Surrogate acc on unlabled data: 0.751\n",
      "Attack loss: 0.519555926322937\n",
      "Surrogate loss on unlabled data: 0.9013957381248474\n",
      "Surrogate acc on unlabled data: 0.741\n",
      "Attack loss: 0.630111813545227\n",
      "Surrogate loss on unlabled data: 0.987515389919281\n",
      "Surrogate acc on unlabled data: 0.714\n",
      "Attack loss: 0.7207518815994263\n",
      "Surrogate loss on unlabled data: 1.046435832977295\n",
      "Surrogate acc on unlabled data: 0.6910000000000001\n",
      "Attack loss: 0.8036395907402039\n",
      "Surrogate loss on unlabled data: 1.1538233757019043\n",
      "Surrogate acc on unlabled data: 0.659\n",
      "Attack loss: 0.9270074367523193\n",
      "Surrogate loss on unlabled data: 1.2712140083312988\n",
      "Surrogate acc on unlabled data: 0.631\n",
      "Attack loss: 1.0364372730255127\n",
      "Surrogate loss on unlabled data: 1.4003539085388184\n",
      "Surrogate acc on unlabled data: 0.603\n",
      "Attack loss: 1.1776117086410522\n",
      "Surrogate loss on unlabled data: 1.425157904624939\n",
      "Surrogate acc on unlabled data: 0.597\n",
      "Attack loss: 1.191386342048645\n",
      "Surrogate loss on unlabled data: 1.451074481010437\n",
      "Surrogate acc on unlabled data: 0.58\n",
      "Attack loss: 1.2331557273864746\n",
      "Surrogate loss on unlabled data: 1.6249384880065918\n",
      "Surrogate acc on unlabled data: 0.559\n",
      "Attack loss: 1.4251673221588135\n",
      "Surrogate loss on unlabled data: 1.7833000421524048\n",
      "Surrogate acc on unlabled data: 0.556\n",
      "Attack loss: 1.5723811388015747\n",
      "Surrogate loss on unlabled data: 1.9651539325714111\n",
      "Surrogate acc on unlabled data: 0.556\n",
      "Attack loss: 1.7488702535629272\n",
      "Surrogate loss on unlabled data: 1.990264654159546\n",
      "Surrogate acc on unlabled data: 0.544\n",
      "Attack loss: 1.7568930387496948\n",
      "Surrogate loss on unlabled data: 2.090541362762451\n",
      "Surrogate acc on unlabled data: 0.545\n",
      "Attack loss: 1.8839128017425537\n",
      "Surrogate loss on unlabled data: 2.2995197772979736\n",
      "Surrogate acc on unlabled data: 0.537\n",
      "Attack loss: 2.0888283252716064\n",
      "Surrogate loss on unlabled data: 2.3700804710388184\n",
      "Surrogate acc on unlabled data: 0.536\n",
      "Attack loss: 2.149007558822632\n",
      "Surrogate loss on unlabled data: 2.319377899169922\n",
      "Surrogate acc on unlabled data: 0.536\n",
      "Attack loss: 2.1209142208099365\n",
      "Surrogate loss on unlabled data: 2.3901069164276123\n",
      "Surrogate acc on unlabled data: 0.531\n",
      "Attack loss: 2.201747417449951\n",
      "Surrogate loss on unlabled data: 2.6078803539276123\n",
      "Surrogate acc on unlabled data: 0.523\n",
      "Attack loss: 2.406360149383545\n",
      "Surrogate loss on unlabled data: 2.6158523559570312\n",
      "Surrogate acc on unlabled data: 0.532\n",
      "Attack loss: 2.4318861961364746\n",
      "Surrogate loss on unlabled data: 2.9342691898345947\n",
      "Surrogate acc on unlabled data: 0.511\n",
      "Attack loss: 2.733745574951172\n",
      "Surrogate loss on unlabled data: 2.721029281616211\n",
      "Surrogate acc on unlabled data: 0.514\n",
      "Attack loss: 2.5452089309692383\n"
     ]
    }
   ],
   "source": [
    "full_metattack_acc, full_metattack_loss, full_metattack_itrs = [], [], []\n",
    "for _ in range(trials):\n",
    "    acc, loss, itrs = two_phase_attack_greedy(data, train, model, 0.0, edges_to_add, constant_fn, device, is_reversed=False, verbose=True)\n",
    "    full_metattack_acc.append(acc)\n",
    "    full_metattack_loss.append(loss)\n",
    "    full_metattack_itrs.append(itrs)"
   ]
  },
  {
   "cell_type": "code",
   "execution_count": null,
   "id": "bfa56f73-a50a-4e1b-97c7-682ae6e5a217",
   "metadata": {},
   "outputs": [],
   "source": [
    "edges_to_add"
   ]
  },
  {
   "cell_type": "markdown",
   "id": "29abb8dc-3581-4297-af1e-46d8f8fccd77",
   "metadata": {},
   "source": [
    "##### ideally, we could show some metric, where (change in loss after hidden for %) > (% * max change in loss)"
   ]
  },
  {
   "cell_type": "markdown",
   "id": "1bf3a801-f644-478f-af37-b1d672de1570",
   "metadata": {},
   "source": [
    "# regular, secondary attack, not reversed"
   ]
  },
  {
   "cell_type": "code",
   "execution_count": null,
   "id": "345755e4-2500-4c33-872e-716b386f0c8f",
   "metadata": {},
   "outputs": [],
   "source": [
    "# split_dic_acc"
   ]
  },
  {
   "cell_type": "code",
   "execution_count": null,
   "id": "1da493d7-4d26-4112-a0b7-751ee418c442",
   "metadata": {},
   "outputs": [],
   "source": [
    "splits = [0.0, 0.5]\n",
    "\n",
    "split_dic_acc = defaultdict(lambda: defaultdict(list))\n",
    "split_dic_loss = defaultdict(lambda: defaultdict(list))\n",
    "itrs_one = defaultdict(lambda: defaultdict(int))"
   ]
  },
  {
   "cell_type": "code",
   "execution_count": null,
   "id": "a9dae5ec-f221-46a7-babe-f94b36ee1493",
   "metadata": {},
   "outputs": [],
   "source": [
    "# data"
   ]
  },
  {
   "cell_type": "code",
   "execution_count": null,
   "id": "1ca9d53e-b66d-42fb-bb6c-9cfcedde7a3e",
   "metadata": {
    "scrolled": true
   },
   "outputs": [],
   "source": [
    "for s in splits:\n",
    "    for j in range(trials):\n",
    "        if s == 0.0:\n",
    "            split_dic_acc[s][j], split_dic_loss[s][j], itrs_one[s][j] = full_metattack_acc[j], full_metattack_loss[j], full_metattack_itrs[j]\n",
    "        else:\n",
    "            split_dic_acc[s][j], split_dic_loss[s][j], itrs_one[s][j] = two_phase_attack_greedy(data, train, model, s, edges_to_add, constant_fn, device, is_reversed=False, verbose=True)"
   ]
  },
  {
   "cell_type": "code",
   "execution_count": null,
   "id": "5158de82-c636-471a-88b4-d652daeae0e9",
   "metadata": {},
   "outputs": [],
   "source": [
    "record1 = Recording(split_dic_loss, split_dic_acc, itrs_one, Model.GCN, Dataset.CORA, AcceptFn.CONSTANT, SelectFn.NONE, Reverse.ATTACKED)\n",
    "record1.save(f'data_collection/{\"greedy\"}_{\"gcn\"}_{\"cora\"}_{\"constant\"}_{\"attacked\"}_results.pkl')"
   ]
  },
  {
   "cell_type": "code",
   "execution_count": null,
   "id": "73d05238-ee7b-4cf3-b6a7-a8b9beddcc78",
   "metadata": {},
   "outputs": [],
   "source": [
    "split_dic_loss"
   ]
  },
  {
   "cell_type": "code",
   "execution_count": null,
   "id": "aab17342-ef23-497c-8283-ac76ea8f32e6",
   "metadata": {},
   "outputs": [],
   "source": [
    "# plot_results({0: split_dic_acc[0.0][0], 0.5: split_dic_acc[0.5][0]}, ptb_rate, \"Greedy\", \"\", \"constant\", \"accuracy\", \"regular\")"
   ]
  },
  {
   "cell_type": "code",
   "execution_count": null,
   "id": "29656bc7-6361-4342-bc6f-f0d40ae5ffc8",
   "metadata": {},
   "outputs": [],
   "source": [
    "# plot_results({0: split_dic_loss[0.0][0], 0.5: split_dic_loss[0.5][0]}, ptb_rate, \"Greedy\", \"\", \"constant\", \"loss\", \"regular\")"
   ]
  },
  {
   "cell_type": "markdown",
   "id": "d1f3b467-1160-45d3-bd50-2e4a4d473b6a",
   "metadata": {},
   "source": [
    "##### ideally, we could show some metric, where (change in loss after hidden for %) > (% * max change in loss)"
   ]
  },
  {
   "cell_type": "code",
   "execution_count": null,
   "id": "0bf054d8-566a-44ca-a8fc-194878368373",
   "metadata": {},
   "outputs": [],
   "source": [
    "split_dic_decreasing_acc = defaultdict(lambda: defaultdict(list))\n",
    "itrs_two = defaultdict(lambda: defaultdict(int))\n",
    "split_dic_decreasing_loss = defaultdict(lambda: defaultdict(list))"
   ]
  },
  {
   "cell_type": "code",
   "execution_count": null,
   "id": "ee71e6c2-4494-42d4-98fd-c0a10495c87d",
   "metadata": {},
   "outputs": [],
   "source": [
    "for s in splits:\n",
    "    for j in range(trials):\n",
    "        if s == 0.0:\n",
    "            split_dic_decreasing_acc[s][j], split_dic_decreasing_loss[s][j], itrs_two[s][j] = full_metattack_acc[j], full_metattack_loss[j], full_metattack_itrs[j]\n",
    "        else:\n",
    "            split_dic_decreasing_acc[s][j], split_dic_decreasing_loss[s][j], itrs_two[s][j] = two_phase_attack_greedy(data, train, model, s, edges_to_add, increasing_fn, device, is_reversed=False, verbose=True)"
   ]
  },
  {
   "cell_type": "code",
   "execution_count": null,
   "id": "fd519c61-69b9-40ef-83df-5968e12dad9e",
   "metadata": {},
   "outputs": [],
   "source": [
    "split_dic_decreasing_loss"
   ]
  },
  {
   "cell_type": "code",
   "execution_count": null,
   "id": "e5d49ae7-8750-4167-90b7-1f9ede26c473",
   "metadata": {},
   "outputs": [],
   "source": [
    "record1 = Recording(split_dic_decreasing_loss, split_dic_decreasing_acc, itrs_two, Model.GCN, Dataset.CORA, AcceptFn.INCREASING, SelectFn.NONE, Reverse.ATTACKED)\n",
    "record1.save(f'data_collection/{\"greedy\"}_{\"gcn\"}_{\"cora\"}_{\"increasing\"}_{\"attacked\"}_results.pkl')"
   ]
  },
  {
   "cell_type": "code",
   "execution_count": null,
   "id": "0e1a048d-5a43-4d9e-b759-452571d6542c",
   "metadata": {},
   "outputs": [],
   "source": [
    "# plot_results({0: split_dic_decreasing_acc[0.0][0], 0.5: split_dic_decreasing_acc[0.5][0]}, ptb_rate, \"Greedy\", \"\", \"increasing\", \"accuracy\", \"regular\")"
   ]
  },
  {
   "cell_type": "code",
   "execution_count": null,
   "id": "7383f4a6-8e55-44a5-9328-cf00bc09f4f5",
   "metadata": {},
   "outputs": [],
   "source": [
    "# plot_results({0: split_dic_decreasing_loss[0.0][0], 0.5: split_dic_decreasing_loss[0.5][0]}, ptb_rate, \"Greedy\", \"\", \"increasing\", \"loss\", \"regular\")"
   ]
  }
 ],
 "metadata": {
  "kernelspec": {
   "display_name": "Python 3 (ipykernel)",
   "language": "python",
   "name": "python3"
  },
  "language_info": {
   "codemirror_mode": {
    "name": "ipython",
    "version": 3
   },
   "file_extension": ".py",
   "mimetype": "text/x-python",
   "name": "python",
   "nbconvert_exporter": "python",
   "pygments_lexer": "ipython3",
   "version": "3.8.18"
  }
 },
 "nbformat": 4,
 "nbformat_minor": 5
}
