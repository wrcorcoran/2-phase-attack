{
 "cells": [
  {
   "cell_type": "code",
   "execution_count": 1,
   "id": "7b436979-f710-444b-baf9-caba91a93626",
   "metadata": {},
   "outputs": [],
   "source": [
    "import torch\n",
    "import numpy as np\n",
    "from deeprobust.graph.data import Dataset\n",
    "from deeprobust.graph.defense import GCN as GCN_DR\n",
    "from deeprobust.graph.targeted_attack import Nettack"
   ]
  },
  {
   "cell_type": "code",
   "execution_count": 2,
   "id": "baf1bf7c-fb38-41b4-8037-d4d2195e74d7",
   "metadata": {},
   "outputs": [],
   "source": [
    "from greedy_mcmc_attack import *\n",
    "from collections import defaultdict\n",
    "device = torch.device(\"cuda:0\" if torch.cuda.is_available() else \"cpu\")"
   ]
  },
  {
   "cell_type": "code",
   "execution_count": 3,
   "id": "398e36c6-0370-4e71-9bcd-1907e9f4cc8f",
   "metadata": {},
   "outputs": [
    {
     "name": "stdout",
     "output_type": "stream",
     "text": [
      "Data(x=[3327, 3703], edge_index=[2, 9104], y=[3327], train_mask=[3327], val_mask=[3327], test_mask=[3327])\n"
     ]
    }
   ],
   "source": [
    "cora_dataset = Planetoid(root='', name='Citeseer')\n",
    "data = cora_dataset[0].to(device)\n",
    "print(data)\n",
    "idx_train, idx_val, idx_test = data.train_mask.nonzero(as_tuple=True)[0].tolist(), data.val_mask.nonzero(as_tuple=True)[0].tolist(), data.test_mask.nonzero(as_tuple=True)[0].tolist()"
   ]
  },
  {
   "cell_type": "code",
   "execution_count": 4,
   "id": "4ec0d645-a3c4-4bd6-b227-f7ff724bde18",
   "metadata": {},
   "outputs": [
    {
     "name": "stdout",
     "output_type": "stream",
     "text": [
      "Loading citeseer dataset...\n",
      "Selecting 1 largest connected components\n"
     ]
    }
   ],
   "source": [
    "data_dr = Dataset(root='/tmp/', name='citeseer', setting='nettack')\n",
    "adj, features, labels = data_dr.adj, data_dr.features, data_dr.labels\n",
    "# idx_train, idx_val, idx_test = data_dr.idx_train, data_dr.idx_val, data_dr.idx_test\n",
    "idx_unlabeled = np.union1d(idx_val, idx_test)"
   ]
  },
  {
   "cell_type": "code",
   "execution_count": 5,
   "id": "34db0cab-0c09-4bbb-b494-5fe1227d291a",
   "metadata": {},
   "outputs": [],
   "source": [
    "degrees = np.array(adj.sum(axis=1)).flatten()\n",
    "max_degree_vertex = degrees.argmax()"
   ]
  },
  {
   "cell_type": "code",
   "execution_count": 6,
   "id": "7b3bc665-5140-46f0-bce3-9964efb948a0",
   "metadata": {},
   "outputs": [],
   "source": [
    "surrogate = GCN_DR(nfeat=features.shape[1], nclass=labels.max().item()+1, nhid=16,\n",
    "                with_relu=False, device=device)\n",
    "surrogate = surrogate.to(device)\n",
    "surrogate.fit(features, adj, labels, idx_train)"
   ]
  },
  {
   "cell_type": "code",
   "execution_count": 7,
   "id": "93445f95-4b4a-4a34-b9af-7a64697cbcd3",
   "metadata": {},
   "outputs": [],
   "source": [
    "ptb_rate = 0.1"
   ]
  },
  {
   "cell_type": "code",
   "execution_count": 8,
   "id": "0d20751f-ad8c-4498-b83d-cd1a54c7bf21",
   "metadata": {},
   "outputs": [
    {
     "name": "stdout",
     "output_type": "stream",
     "text": [
      "##### Starting attack #####\n",
      "##### Attack only using structure perturbations #####\n",
      "##### Attacking the node directly #####\n",
      "##### Performing 366 perturbations #####\n",
      "##### ...1/366 perturbations ... #####\n"
     ]
    },
    {
     "name": "stderr",
     "output_type": "stream",
     "text": [
      "/home/wcorcoran/anaconda3/envs/mesp/lib/python3.8/site-packages/numba/core/ir_utils.py:2172: NumbaPendingDeprecationWarning: \u001b[1m\n",
      "Encountered the use of a type that is scheduled for deprecation: type 'reflected set' found for argument 'edges_set' of function 'compute_new_a_hat_uv'.\n",
      "\n",
      "For more information visit https://numba.readthedocs.io/en/stable/reference/deprecation.html#deprecation-of-reflection-for-list-and-set-types\n",
      "\u001b[1m\n",
      "File \"../../../../anaconda3/envs/mesp/lib/python3.8/site-packages/deeprobust/graph/targeted_attack/nettack.py\", line 501:\u001b[0m\n",
      "\u001b[1m@jit(nopython=True)\n",
      "\u001b[1mdef compute_new_a_hat_uv(edge_ixs, node_nb_ixs, edges_set, twohop_ixs, values_before, degs, potential_edges, u):\n",
      "\u001b[0m\u001b[1m^\u001b[0m\u001b[0m\n",
      "\u001b[0m\n",
      "  warnings.warn(NumbaPendingDeprecationWarning(msg, loc=loc))\n"
     ]
    },
    {
     "name": "stdout",
     "output_type": "stream",
     "text": [
      "##### ...2/366 perturbations ... #####\n",
      "##### ...3/366 perturbations ... #####\n",
      "##### ...4/366 perturbations ... #####\n",
      "##### ...5/366 perturbations ... #####\n",
      "##### ...6/366 perturbations ... #####\n",
      "##### ...7/366 perturbations ... #####\n",
      "##### ...8/366 perturbations ... #####\n",
      "##### ...9/366 perturbations ... #####\n",
      "##### ...10/366 perturbations ... #####\n",
      "##### ...11/366 perturbations ... #####\n",
      "##### ...12/366 perturbations ... #####\n",
      "##### ...13/366 perturbations ... #####\n",
      "##### ...14/366 perturbations ... #####\n",
      "##### ...15/366 perturbations ... #####\n",
      "##### ...16/366 perturbations ... #####\n",
      "##### ...17/366 perturbations ... #####\n",
      "##### ...18/366 perturbations ... #####\n",
      "##### ...19/366 perturbations ... #####\n",
      "##### ...20/366 perturbations ... #####\n",
      "##### ...21/366 perturbations ... #####\n",
      "##### ...22/366 perturbations ... #####\n",
      "##### ...23/366 perturbations ... #####\n",
      "##### ...24/366 perturbations ... #####\n",
      "##### ...25/366 perturbations ... #####\n",
      "##### ...26/366 perturbations ... #####\n",
      "##### ...27/366 perturbations ... #####\n",
      "##### ...28/366 perturbations ... #####\n",
      "##### ...29/366 perturbations ... #####\n",
      "##### ...30/366 perturbations ... #####\n",
      "##### ...31/366 perturbations ... #####\n",
      "##### ...32/366 perturbations ... #####\n",
      "##### ...33/366 perturbations ... #####\n",
      "##### ...34/366 perturbations ... #####\n",
      "##### ...35/366 perturbations ... #####\n",
      "##### ...36/366 perturbations ... #####\n",
      "##### ...37/366 perturbations ... #####\n",
      "##### ...38/366 perturbations ... #####\n",
      "##### ...39/366 perturbations ... #####\n",
      "##### ...40/366 perturbations ... #####\n",
      "##### ...41/366 perturbations ... #####\n",
      "##### ...42/366 perturbations ... #####\n",
      "##### ...43/366 perturbations ... #####\n",
      "##### ...44/366 perturbations ... #####\n",
      "##### ...45/366 perturbations ... #####\n",
      "##### ...46/366 perturbations ... #####\n",
      "##### ...47/366 perturbations ... #####\n",
      "##### ...48/366 perturbations ... #####\n",
      "##### ...49/366 perturbations ... #####\n",
      "##### ...50/366 perturbations ... #####\n",
      "##### ...51/366 perturbations ... #####\n",
      "##### ...52/366 perturbations ... #####\n",
      "##### ...53/366 perturbations ... #####\n",
      "##### ...54/366 perturbations ... #####\n",
      "##### ...55/366 perturbations ... #####\n",
      "##### ...56/366 perturbations ... #####\n",
      "##### ...57/366 perturbations ... #####\n",
      "##### ...58/366 perturbations ... #####\n",
      "##### ...59/366 perturbations ... #####\n",
      "##### ...60/366 perturbations ... #####\n",
      "##### ...61/366 perturbations ... #####\n",
      "##### ...62/366 perturbations ... #####\n",
      "##### ...63/366 perturbations ... #####\n",
      "##### ...64/366 perturbations ... #####\n",
      "##### ...65/366 perturbations ... #####\n",
      "##### ...66/366 perturbations ... #####\n",
      "##### ...67/366 perturbations ... #####\n",
      "##### ...68/366 perturbations ... #####\n",
      "##### ...69/366 perturbations ... #####\n",
      "##### ...70/366 perturbations ... #####\n",
      "##### ...71/366 perturbations ... #####\n",
      "##### ...72/366 perturbations ... #####\n",
      "##### ...73/366 perturbations ... #####\n",
      "##### ...74/366 perturbations ... #####\n",
      "##### ...75/366 perturbations ... #####\n",
      "##### ...76/366 perturbations ... #####\n",
      "##### ...77/366 perturbations ... #####\n",
      "##### ...78/366 perturbations ... #####\n",
      "##### ...79/366 perturbations ... #####\n",
      "##### ...80/366 perturbations ... #####\n",
      "##### ...81/366 perturbations ... #####\n",
      "##### ...82/366 perturbations ... #####\n",
      "##### ...83/366 perturbations ... #####\n",
      "##### ...84/366 perturbations ... #####\n",
      "##### ...85/366 perturbations ... #####\n",
      "##### ...86/366 perturbations ... #####\n",
      "##### ...87/366 perturbations ... #####\n",
      "##### ...88/366 perturbations ... #####\n",
      "##### ...89/366 perturbations ... #####\n",
      "##### ...90/366 perturbations ... #####\n",
      "##### ...91/366 perturbations ... #####\n",
      "##### ...92/366 perturbations ... #####\n",
      "##### ...93/366 perturbations ... #####\n",
      "##### ...94/366 perturbations ... #####\n",
      "##### ...95/366 perturbations ... #####\n",
      "##### ...96/366 perturbations ... #####\n",
      "##### ...97/366 perturbations ... #####\n",
      "##### ...98/366 perturbations ... #####\n",
      "##### ...99/366 perturbations ... #####\n",
      "##### ...100/366 perturbations ... #####\n",
      "##### ...101/366 perturbations ... #####\n",
      "##### ...102/366 perturbations ... #####\n",
      "##### ...103/366 perturbations ... #####\n",
      "##### ...104/366 perturbations ... #####\n",
      "##### ...105/366 perturbations ... #####\n",
      "##### ...106/366 perturbations ... #####\n",
      "##### ...107/366 perturbations ... #####\n",
      "##### ...108/366 perturbations ... #####\n",
      "##### ...109/366 perturbations ... #####\n",
      "##### ...110/366 perturbations ... #####\n",
      "##### ...111/366 perturbations ... #####\n",
      "##### ...112/366 perturbations ... #####\n",
      "##### ...113/366 perturbations ... #####\n",
      "##### ...114/366 perturbations ... #####\n",
      "##### ...115/366 perturbations ... #####\n",
      "##### ...116/366 perturbations ... #####\n",
      "##### ...117/366 perturbations ... #####\n",
      "##### ...118/366 perturbations ... #####\n",
      "##### ...119/366 perturbations ... #####\n",
      "##### ...120/366 perturbations ... #####\n",
      "##### ...121/366 perturbations ... #####\n",
      "##### ...122/366 perturbations ... #####\n",
      "##### ...123/366 perturbations ... #####\n",
      "##### ...124/366 perturbations ... #####\n",
      "##### ...125/366 perturbations ... #####\n",
      "##### ...126/366 perturbations ... #####\n",
      "##### ...127/366 perturbations ... #####\n",
      "##### ...128/366 perturbations ... #####\n",
      "##### ...129/366 perturbations ... #####\n",
      "##### ...130/366 perturbations ... #####\n",
      "##### ...131/366 perturbations ... #####\n",
      "##### ...132/366 perturbations ... #####\n",
      "##### ...133/366 perturbations ... #####\n",
      "##### ...134/366 perturbations ... #####\n",
      "##### ...135/366 perturbations ... #####\n",
      "##### ...136/366 perturbations ... #####\n",
      "##### ...137/366 perturbations ... #####\n",
      "##### ...138/366 perturbations ... #####\n",
      "##### ...139/366 perturbations ... #####\n",
      "##### ...140/366 perturbations ... #####\n",
      "##### ...141/366 perturbations ... #####\n",
      "##### ...142/366 perturbations ... #####\n",
      "##### ...143/366 perturbations ... #####\n",
      "##### ...144/366 perturbations ... #####\n",
      "##### ...145/366 perturbations ... #####\n",
      "##### ...146/366 perturbations ... #####\n",
      "##### ...147/366 perturbations ... #####\n",
      "##### ...148/366 perturbations ... #####\n",
      "##### ...149/366 perturbations ... #####\n",
      "##### ...150/366 perturbations ... #####\n",
      "##### ...151/366 perturbations ... #####\n",
      "##### ...152/366 perturbations ... #####\n",
      "##### ...153/366 perturbations ... #####\n",
      "##### ...154/366 perturbations ... #####\n",
      "##### ...155/366 perturbations ... #####\n",
      "##### ...156/366 perturbations ... #####\n",
      "##### ...157/366 perturbations ... #####\n",
      "##### ...158/366 perturbations ... #####\n",
      "##### ...159/366 perturbations ... #####\n",
      "##### ...160/366 perturbations ... #####\n",
      "##### ...161/366 perturbations ... #####\n",
      "##### ...162/366 perturbations ... #####\n",
      "##### ...163/366 perturbations ... #####\n",
      "##### ...164/366 perturbations ... #####\n",
      "##### ...165/366 perturbations ... #####\n",
      "##### ...166/366 perturbations ... #####\n",
      "##### ...167/366 perturbations ... #####\n",
      "##### ...168/366 perturbations ... #####\n",
      "##### ...169/366 perturbations ... #####\n",
      "##### ...170/366 perturbations ... #####\n",
      "##### ...171/366 perturbations ... #####\n",
      "##### ...172/366 perturbations ... #####\n",
      "##### ...173/366 perturbations ... #####\n",
      "##### ...174/366 perturbations ... #####\n",
      "##### ...175/366 perturbations ... #####\n",
      "##### ...176/366 perturbations ... #####\n",
      "##### ...177/366 perturbations ... #####\n",
      "##### ...178/366 perturbations ... #####\n",
      "##### ...179/366 perturbations ... #####\n",
      "##### ...180/366 perturbations ... #####\n",
      "##### ...181/366 perturbations ... #####\n",
      "##### ...182/366 perturbations ... #####\n",
      "##### ...183/366 perturbations ... #####\n",
      "##### ...184/366 perturbations ... #####\n",
      "##### ...185/366 perturbations ... #####\n",
      "##### ...186/366 perturbations ... #####\n",
      "##### ...187/366 perturbations ... #####\n",
      "##### ...188/366 perturbations ... #####\n",
      "##### ...189/366 perturbations ... #####\n",
      "##### ...190/366 perturbations ... #####\n",
      "##### ...191/366 perturbations ... #####\n",
      "##### ...192/366 perturbations ... #####\n",
      "##### ...193/366 perturbations ... #####\n",
      "##### ...194/366 perturbations ... #####\n",
      "##### ...195/366 perturbations ... #####\n",
      "##### ...196/366 perturbations ... #####\n",
      "##### ...197/366 perturbations ... #####\n",
      "##### ...198/366 perturbations ... #####\n",
      "##### ...199/366 perturbations ... #####\n",
      "##### ...200/366 perturbations ... #####\n",
      "##### ...201/366 perturbations ... #####\n",
      "##### ...202/366 perturbations ... #####\n",
      "##### ...203/366 perturbations ... #####\n",
      "##### ...204/366 perturbations ... #####\n",
      "##### ...205/366 perturbations ... #####\n",
      "##### ...206/366 perturbations ... #####\n",
      "##### ...207/366 perturbations ... #####\n",
      "##### ...208/366 perturbations ... #####\n",
      "##### ...209/366 perturbations ... #####\n",
      "##### ...210/366 perturbations ... #####\n",
      "##### ...211/366 perturbations ... #####\n",
      "##### ...212/366 perturbations ... #####\n",
      "##### ...213/366 perturbations ... #####\n",
      "##### ...214/366 perturbations ... #####\n",
      "##### ...215/366 perturbations ... #####\n",
      "##### ...216/366 perturbations ... #####\n",
      "##### ...217/366 perturbations ... #####\n",
      "##### ...218/366 perturbations ... #####\n",
      "##### ...219/366 perturbations ... #####\n",
      "##### ...220/366 perturbations ... #####\n",
      "##### ...221/366 perturbations ... #####\n",
      "##### ...222/366 perturbations ... #####\n",
      "##### ...223/366 perturbations ... #####\n",
      "##### ...224/366 perturbations ... #####\n",
      "##### ...225/366 perturbations ... #####\n",
      "##### ...226/366 perturbations ... #####\n",
      "##### ...227/366 perturbations ... #####\n",
      "##### ...228/366 perturbations ... #####\n",
      "##### ...229/366 perturbations ... #####\n",
      "##### ...230/366 perturbations ... #####\n",
      "##### ...231/366 perturbations ... #####\n",
      "##### ...232/366 perturbations ... #####\n",
      "##### ...233/366 perturbations ... #####\n",
      "##### ...234/366 perturbations ... #####\n",
      "##### ...235/366 perturbations ... #####\n",
      "##### ...236/366 perturbations ... #####\n",
      "##### ...237/366 perturbations ... #####\n",
      "##### ...238/366 perturbations ... #####\n",
      "##### ...239/366 perturbations ... #####\n",
      "##### ...240/366 perturbations ... #####\n",
      "##### ...241/366 perturbations ... #####\n",
      "##### ...242/366 perturbations ... #####\n",
      "##### ...243/366 perturbations ... #####\n",
      "##### ...244/366 perturbations ... #####\n",
      "##### ...245/366 perturbations ... #####\n",
      "##### ...246/366 perturbations ... #####\n",
      "##### ...247/366 perturbations ... #####\n",
      "##### ...248/366 perturbations ... #####\n",
      "##### ...249/366 perturbations ... #####\n",
      "##### ...250/366 perturbations ... #####\n",
      "##### ...251/366 perturbations ... #####\n",
      "##### ...252/366 perturbations ... #####\n",
      "##### ...253/366 perturbations ... #####\n",
      "##### ...254/366 perturbations ... #####\n",
      "##### ...255/366 perturbations ... #####\n",
      "##### ...256/366 perturbations ... #####\n",
      "##### ...257/366 perturbations ... #####\n",
      "##### ...258/366 perturbations ... #####\n",
      "##### ...259/366 perturbations ... #####\n",
      "##### ...260/366 perturbations ... #####\n",
      "##### ...261/366 perturbations ... #####\n",
      "##### ...262/366 perturbations ... #####\n",
      "##### ...263/366 perturbations ... #####\n",
      "##### ...264/366 perturbations ... #####\n",
      "##### ...265/366 perturbations ... #####\n",
      "##### ...266/366 perturbations ... #####\n",
      "##### ...267/366 perturbations ... #####\n",
      "##### ...268/366 perturbations ... #####\n",
      "##### ...269/366 perturbations ... #####\n",
      "##### ...270/366 perturbations ... #####\n",
      "##### ...271/366 perturbations ... #####\n",
      "##### ...272/366 perturbations ... #####\n",
      "##### ...273/366 perturbations ... #####\n",
      "##### ...274/366 perturbations ... #####\n",
      "##### ...275/366 perturbations ... #####\n",
      "##### ...276/366 perturbations ... #####\n",
      "##### ...277/366 perturbations ... #####\n",
      "##### ...278/366 perturbations ... #####\n",
      "##### ...279/366 perturbations ... #####\n",
      "##### ...280/366 perturbations ... #####\n",
      "##### ...281/366 perturbations ... #####\n",
      "##### ...282/366 perturbations ... #####\n",
      "##### ...283/366 perturbations ... #####\n",
      "##### ...284/366 perturbations ... #####\n",
      "##### ...285/366 perturbations ... #####\n",
      "##### ...286/366 perturbations ... #####\n",
      "##### ...287/366 perturbations ... #####\n",
      "##### ...288/366 perturbations ... #####\n",
      "##### ...289/366 perturbations ... #####\n",
      "##### ...290/366 perturbations ... #####\n",
      "##### ...291/366 perturbations ... #####\n",
      "##### ...292/366 perturbations ... #####\n",
      "##### ...293/366 perturbations ... #####\n",
      "##### ...294/366 perturbations ... #####\n",
      "##### ...295/366 perturbations ... #####\n",
      "##### ...296/366 perturbations ... #####\n",
      "##### ...297/366 perturbations ... #####\n",
      "##### ...298/366 perturbations ... #####\n",
      "##### ...299/366 perturbations ... #####\n",
      "##### ...300/366 perturbations ... #####\n",
      "##### ...301/366 perturbations ... #####\n",
      "##### ...302/366 perturbations ... #####\n",
      "##### ...303/366 perturbations ... #####\n",
      "##### ...304/366 perturbations ... #####\n",
      "##### ...305/366 perturbations ... #####\n",
      "##### ...306/366 perturbations ... #####\n",
      "##### ...307/366 perturbations ... #####\n",
      "##### ...308/366 perturbations ... #####\n",
      "##### ...309/366 perturbations ... #####\n",
      "##### ...310/366 perturbations ... #####\n",
      "##### ...311/366 perturbations ... #####\n",
      "##### ...312/366 perturbations ... #####\n",
      "##### ...313/366 perturbations ... #####\n",
      "##### ...314/366 perturbations ... #####\n",
      "##### ...315/366 perturbations ... #####\n",
      "##### ...316/366 perturbations ... #####\n",
      "##### ...317/366 perturbations ... #####\n",
      "##### ...318/366 perturbations ... #####\n",
      "##### ...319/366 perturbations ... #####\n",
      "##### ...320/366 perturbations ... #####\n",
      "##### ...321/366 perturbations ... #####\n",
      "##### ...322/366 perturbations ... #####\n",
      "##### ...323/366 perturbations ... #####\n",
      "##### ...324/366 perturbations ... #####\n",
      "##### ...325/366 perturbations ... #####\n",
      "##### ...326/366 perturbations ... #####\n",
      "##### ...327/366 perturbations ... #####\n",
      "##### ...328/366 perturbations ... #####\n",
      "##### ...329/366 perturbations ... #####\n",
      "##### ...330/366 perturbations ... #####\n",
      "##### ...331/366 perturbations ... #####\n",
      "##### ...332/366 perturbations ... #####\n",
      "##### ...333/366 perturbations ... #####\n",
      "##### ...334/366 perturbations ... #####\n",
      "##### ...335/366 perturbations ... #####\n",
      "##### ...336/366 perturbations ... #####\n",
      "##### ...337/366 perturbations ... #####\n",
      "##### ...338/366 perturbations ... #####\n",
      "##### ...339/366 perturbations ... #####\n",
      "##### ...340/366 perturbations ... #####\n",
      "##### ...341/366 perturbations ... #####\n",
      "##### ...342/366 perturbations ... #####\n",
      "##### ...343/366 perturbations ... #####\n",
      "##### ...344/366 perturbations ... #####\n",
      "##### ...345/366 perturbations ... #####\n",
      "##### ...346/366 perturbations ... #####\n",
      "##### ...347/366 perturbations ... #####\n",
      "##### ...348/366 perturbations ... #####\n",
      "##### ...349/366 perturbations ... #####\n",
      "##### ...350/366 perturbations ... #####\n",
      "##### ...351/366 perturbations ... #####\n",
      "##### ...352/366 perturbations ... #####\n",
      "##### ...353/366 perturbations ... #####\n",
      "##### ...354/366 perturbations ... #####\n",
      "##### ...355/366 perturbations ... #####\n",
      "##### ...356/366 perturbations ... #####\n",
      "##### ...357/366 perturbations ... #####\n",
      "##### ...358/366 perturbations ... #####\n",
      "##### ...359/366 perturbations ... #####\n",
      "##### ...360/366 perturbations ... #####\n",
      "##### ...361/366 perturbations ... #####\n",
      "##### ...362/366 perturbations ... #####\n",
      "##### ...363/366 perturbations ... #####\n",
      "##### ...364/366 perturbations ... #####\n",
      "##### ...365/366 perturbations ... #####\n",
      "##### ...366/366 perturbations ... #####\n"
     ]
    }
   ],
   "source": [
    "model = Nettack(model=surrogate, nnodes=adj.shape[0], attack_structure=True, attack_features=False, device=device)\n",
    "model = model.to(device)\n",
    "perturbations = int(ptb_rate * (adj.sum() // 2))\n",
    "model.attack(features, adj, labels, max_degree_vertex, n_perturbations=perturbations)\n",
    "modified_adj = model.modified_adj"
   ]
  },
  {
   "cell_type": "markdown",
   "id": "013d1a25-f36c-4f2d-a131-a37230a2fc6e",
   "metadata": {},
   "source": [
    "### arch tests"
   ]
  },
  {
   "cell_type": "code",
   "execution_count": 50,
   "id": "4e0b5584-ef73-4f77-bd79-6c7ac9e6f0ee",
   "metadata": {},
   "outputs": [],
   "source": [
    "model = GCN(data.x.shape[1], cora_dataset.num_classes, [16]).to(device)"
   ]
  },
  {
   "cell_type": "code",
   "execution_count": 51,
   "id": "caaae491-a476-49cc-815c-6b6013c1d4f9",
   "metadata": {},
   "outputs": [],
   "source": [
    "model_save_path = \"../models/citeseer_gcn_model.pth\"\n",
    "list_save_path = \"../attacks/citeseer_gcn_edges.pth\""
   ]
  },
  {
   "cell_type": "code",
   "execution_count": 52,
   "id": "dd80d082-255d-48f1-b9db-f4ba5a0568cc",
   "metadata": {},
   "outputs": [],
   "source": [
    "model, edges_to_add, train = load_model_and_edges(model_save_path, list_save_path, model, device)"
   ]
  },
  {
   "cell_type": "code",
   "execution_count": 53,
   "id": "df4d5578-160d-4424-a66c-4ad88bada6b6",
   "metadata": {},
   "outputs": [
    {
     "name": "stdout",
     "output_type": "stream",
     "text": [
      "Initial Accuracy: 0.69\n",
      "Initial Loss: 1.2167096138000488\n"
     ]
    }
   ],
   "source": [
    "initial_loss, initial_accuracy = train.test(data)\n",
    "print(f\"Initial Accuracy: {initial_accuracy}\")\n",
    "print(f\"Initial Loss: {initial_loss}\")"
   ]
  },
  {
   "cell_type": "code",
   "execution_count": 54,
   "id": "5564fa7c-9e77-4f15-a94c-468423322388",
   "metadata": {},
   "outputs": [],
   "source": [
    "from scipy.sparse import csr_matrix\n",
    "\n",
    "adj1 = data_dr.adj.tocsr()\n",
    "adj2 = modified_adj.tocsr()\n",
    "\n",
    "arr_diff = (adj1 - adj2).tocoo()"
   ]
  },
  {
   "cell_type": "code",
   "execution_count": 55,
   "id": "4b540331-4573-4614-a240-f64cad8183cf",
   "metadata": {
    "scrolled": true
   },
   "outputs": [
    {
     "data": {
      "text/plain": [
       "<2110x2110 sparse matrix of type '<class 'numpy.float32'>'\n",
       "\twith 732 stored elements in COOrdinate format>"
      ]
     },
     "execution_count": 55,
     "metadata": {},
     "output_type": "execute_result"
    }
   ],
   "source": [
    "arr_diff"
   ]
  },
  {
   "cell_type": "code",
   "execution_count": 56,
   "id": "c227fdc0-1fab-4a15-97ca-bd28c763b979",
   "metadata": {},
   "outputs": [],
   "source": [
    "data_modded = copy.deepcopy(data)"
   ]
  },
  {
   "cell_type": "code",
   "execution_count": 57,
   "id": "90c753fb-3b76-49ad-b5b8-001b1b61a760",
   "metadata": {},
   "outputs": [
    {
     "name": "stdout",
     "output_type": "stream",
     "text": [
      "9104\n",
      "732\n"
     ]
    }
   ],
   "source": [
    "# thanks gpt\n",
    "existing = data_modded.edge_index.t().cpu().numpy()\n",
    "\n",
    "diff_coo = arr_diff.tocoo()\n",
    "diff_edges = np.stack([diff_coo.row, diff_coo.col], axis=1)\n",
    "\n",
    "existing_set = set(map(tuple, existing))\n",
    "diff_set = set(map(tuple, diff_edges))\n",
    "diff_set_full = diff_set | set((v, u) for u, v in diff_set)\n",
    "\n",
    "cleaned_edges = existing_set - diff_set_full\n",
    "print(len(cleaned_edges))\n",
    "\n",
    "added_edges = diff_set_full - existing_set\n",
    "print(len(added_edges))\n",
    "\n",
    "final_edges = cleaned_edges | added_edges\n",
    "\n",
    "final_edges = torch.tensor(list(final_edges), dtype=torch.long).t().to(device)\n",
    "data_modded.edge_index = final_edges"
   ]
  },
  {
   "cell_type": "code",
   "execution_count": 58,
   "id": "ee8f1b41-0856-4bd6-9493-d5a539f8a6d4",
   "metadata": {},
   "outputs": [
    {
     "name": "stdout",
     "output_type": "stream",
     "text": [
      "Evasion Change in Accuracy: 0.0000%\n",
      "Evasion Change in Loss: -1.9251%\n",
      "Epoch 0, Train Loss - 1.792391300201416, Val Loss - 1.7295587062835693, Val Accuracy - 0.448\n",
      "Epoch 20, Train Loss - 0.15240797400474548, Val Loss - 1.1294240951538086, Val Accuracy - 0.646\n",
      "Epoch 40, Train Loss - 0.07772330939769745, Val Loss - 1.179220199584961, Val Accuracy - 0.64\n",
      "Epoch 60, Train Loss - 0.048672474920749664, Val Loss - 1.2037588357925415, Val Accuracy - 0.646\n",
      "Epoch 80, Train Loss - 0.0421464778482914, Val Loss - 1.1544861793518066, Val Accuracy - 0.66\n",
      "Epoch 100, Train Loss - 0.041596509516239166, Val Loss - 1.191360592842102, Val Accuracy - 0.652\n",
      "Epoch 120, Train Loss - 0.056029241532087326, Val Loss - 1.1886845827102661, Val Accuracy - 0.658\n",
      "Epoch 140, Train Loss - 0.03486502543091774, Val Loss - 1.2094087600708008, Val Accuracy - 0.672\n",
      "Epoch 160, Train Loss - 0.04513043165206909, Val Loss - 1.2036957740783691, Val Accuracy - 0.658\n",
      "Epoch 180, Train Loss - 0.031188927590847015, Val Loss - 1.2177753448486328, Val Accuracy - 0.666\n",
      "Epoch 200, Train Loss - 0.02435167320072651, Val Loss - 1.261885166168213, Val Accuracy - 0.67\n",
      "Epoch 220, Train Loss - 0.022919300943613052, Val Loss - 1.2468920946121216, Val Accuracy - 0.662\n",
      "Epoch 240, Train Loss - 0.034251704812049866, Val Loss - 1.2613681554794312, Val Accuracy - 0.676\n",
      "Epoch 260, Train Loss - 0.026335163041949272, Val Loss - 1.2354066371917725, Val Accuracy - 0.682\n",
      "Epoch 280, Train Loss - 0.03546864911913872, Val Loss - 1.339015007019043, Val Accuracy - 0.664\n",
      "Epoch 300, Train Loss - 0.02977655455470085, Val Loss - 1.2934225797653198, Val Accuracy - 0.68\n",
      "Epoch 320, Train Loss - 0.025472139939665794, Val Loss - 1.3086934089660645, Val Accuracy - 0.68\n",
      "Epoch 340, Train Loss - 0.021490972489118576, Val Loss - 1.3956302404403687, Val Accuracy - 0.66\n",
      "Epoch 360, Train Loss - 0.03126471862196922, Val Loss - 1.3907673358917236, Val Accuracy - 0.656\n",
      "Epoch 380, Train Loss - 0.02908165380358696, Val Loss - 1.326804280281067, Val Accuracy - 0.67\n",
      "Epoch 400, Train Loss - 0.015252867713570595, Val Loss - 1.356826663017273, Val Accuracy - 0.682\n",
      "Epoch 420, Train Loss - 0.01846262626349926, Val Loss - 1.354222059249878, Val Accuracy - 0.68\n",
      "Epoch 440, Train Loss - 0.05818400904536247, Val Loss - 1.3851492404937744, Val Accuracy - 0.66\n",
      "Epoch 460, Train Loss - 0.03241194412112236, Val Loss - 1.3094279766082764, Val Accuracy - 0.674\n",
      "Epoch 480, Train Loss - 0.018517544493079185, Val Loss - 1.3644380569458008, Val Accuracy - 0.676\n",
      "Epoch 500, Train Loss - 0.03404216468334198, Val Loss - 1.3929122686386108, Val Accuracy - 0.654\n",
      "Epoch 520, Train Loss - 0.011241317726671696, Val Loss - 1.353225827217102, Val Accuracy - 0.674\n",
      "Epoch 540, Train Loss - 0.032386209815740585, Val Loss - 1.36810302734375, Val Accuracy - 0.676\n",
      "Epoch 560, Train Loss - 0.054438911378383636, Val Loss - 1.396069049835205, Val Accuracy - 0.668\n",
      "Epoch 580, Train Loss - 0.01734820008277893, Val Loss - 1.3556146621704102, Val Accuracy - 0.678\n",
      "Epoch 600, Train Loss - 0.022993773221969604, Val Loss - 1.380566120147705, Val Accuracy - 0.676\n",
      "Epoch 620, Train Loss - 0.012698858045041561, Val Loss - 1.360758662223816, Val Accuracy - 0.668\n",
      "Epoch 640, Train Loss - 0.020101862028241158, Val Loss - 1.336906909942627, Val Accuracy - 0.69\n",
      "Epoch 660, Train Loss - 0.021582970395684242, Val Loss - 1.3985041379928589, Val Accuracy - 0.678\n",
      "Epoch 680, Train Loss - 0.010962328873574734, Val Loss - 1.3536975383758545, Val Accuracy - 0.676\n",
      "Epoch 700, Train Loss - 0.026040557771921158, Val Loss - 1.3182939291000366, Val Accuracy - 0.692\n",
      "Epoch 720, Train Loss - 0.041839297860860825, Val Loss - 1.3894448280334473, Val Accuracy - 0.686\n",
      "Epoch 740, Train Loss - 0.033834703266620636, Val Loss - 1.363011121749878, Val Accuracy - 0.682\n",
      "Epoch 760, Train Loss - 0.030189553275704384, Val Loss - 1.4118714332580566, Val Accuracy - 0.678\n",
      "Epoch 780, Train Loss - 0.01410242635756731, Val Loss - 1.404201626777649, Val Accuracy - 0.674\n",
      "Epoch 800, Train Loss - 0.023213736712932587, Val Loss - 1.3098580837249756, Val Accuracy - 0.672\n",
      "Epoch 820, Train Loss - 0.03320273384451866, Val Loss - 1.4187963008880615, Val Accuracy - 0.658\n",
      "Epoch 840, Train Loss - 0.0227870661765337, Val Loss - 1.3665316104888916, Val Accuracy - 0.68\n",
      "Epoch 860, Train Loss - 0.030002323910593987, Val Loss - 1.3947954177856445, Val Accuracy - 0.662\n",
      "Epoch 880, Train Loss - 0.01783624477684498, Val Loss - 1.3857346773147583, Val Accuracy - 0.688\n",
      "Epoch 900, Train Loss - 0.01895126886665821, Val Loss - 1.3593597412109375, Val Accuracy - 0.674\n",
      "Epoch 920, Train Loss - 0.03776654973626137, Val Loss - 1.4261080026626587, Val Accuracy - 0.66\n",
      "Epoch 940, Train Loss - 0.03492438420653343, Val Loss - 1.4018778800964355, Val Accuracy - 0.662\n",
      "Epoch 960, Train Loss - 0.024489616975188255, Val Loss - 1.43399977684021, Val Accuracy - 0.662\n",
      "Epoch 980, Train Loss - 0.020451871678233147, Val Loss - 1.4284632205963135, Val Accuracy - 0.662\n",
      "Epoch 1000, Train Loss - 0.011856512166559696, Val Loss - 1.3792519569396973, Val Accuracy - 0.68\n",
      "Loaded best model with Val Accuracy: 0.7060\n",
      "Poisoning Change in Accuracy: -1.0145%\n",
      "Poisoning Change in Loss: 8.9447%\n"
     ]
    }
   ],
   "source": [
    "new_loss, new_accuracy = train.test(data_modded)\n",
    "\n",
    "print(f\"Evasion Change in Accuracy: {(100 * ((new_accuracy - initial_accuracy) / initial_accuracy)):.4f}%\")\n",
    "print(f\"Evasion Change in Loss: {(100 * ((new_loss - initial_loss) / initial_loss)):.4f}%\")\n",
    "\n",
    "### poisoning\n",
    "model_poisoning = GCN(data_modded.x.shape[1], cora_dataset.num_classes, [16]).to(device)\n",
    "model_poisoning.reset_parameters()\n",
    "train_modded = Trainable(model_poisoning)\n",
    "train_modded.fit(data_modded, 1000)\n",
    "\n",
    "poisoning_loss, poisoning_accuracy = train_modded.test(data_modded)\n",
    "print(f\"Poisoning Change in Accuracy: {(100 * ((poisoning_accuracy - initial_accuracy) / initial_accuracy)):.4f}%\")\n",
    "print(f\"Poisoning Change in Loss: {(100 * ((poisoning_loss - initial_loss) / initial_loss)):.4f}%\")"
   ]
  },
  {
   "cell_type": "code",
   "execution_count": 48,
   "id": "d6bd4012-246f-45e0-b79d-c246b9b4e820",
   "metadata": {},
   "outputs": [
    {
     "data": {
      "text/plain": [
       "0.69"
      ]
     },
     "execution_count": 48,
     "metadata": {},
     "output_type": "execute_result"
    }
   ],
   "source": [
    "initial_accuracy"
   ]
  },
  {
   "cell_type": "code",
   "execution_count": 49,
   "id": "abff4c59-db2b-4e45-bbbb-7f1e3d97424a",
   "metadata": {},
   "outputs": [
    {
     "data": {
      "text/plain": [
       "0.688"
      ]
     },
     "execution_count": 49,
     "metadata": {},
     "output_type": "execute_result"
    }
   ],
   "source": [
    "poisoning_accuracy"
   ]
  }
 ],
 "metadata": {
  "kernelspec": {
   "display_name": "Python 3 (ipykernel)",
   "language": "python",
   "name": "python3"
  },
  "language_info": {
   "codemirror_mode": {
    "name": "ipython",
    "version": 3
   },
   "file_extension": ".py",
   "mimetype": "text/x-python",
   "name": "python",
   "nbconvert_exporter": "python",
   "pygments_lexer": "ipython3",
   "version": "3.8.18"
  }
 },
 "nbformat": 4,
 "nbformat_minor": 5
}
