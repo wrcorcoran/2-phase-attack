{
 "cells": [
  {
   "cell_type": "code",
   "execution_count": 1,
   "id": "7b436979-f710-444b-baf9-caba91a93626",
   "metadata": {},
   "outputs": [],
   "source": [
    "import torch\n",
    "import numpy as np\n",
    "from deeprobust.graph.data import Dataset\n",
    "from deeprobust.graph.defense import GCN as GCN_DR\n",
    "from deeprobust.graph.global_attack import DICE"
   ]
  },
  {
   "cell_type": "code",
   "execution_count": 2,
   "id": "baf1bf7c-fb38-41b4-8037-d4d2195e74d7",
   "metadata": {},
   "outputs": [],
   "source": [
    "from greedy_mcmc_attack import *\n",
    "from collections import defaultdict\n",
    "device = torch.device(\"cuda:0\" if torch.cuda.is_available() else \"cpu\")"
   ]
  },
  {
   "cell_type": "code",
   "execution_count": 3,
   "id": "398e36c6-0370-4e71-9bcd-1907e9f4cc8f",
   "metadata": {},
   "outputs": [
    {
     "name": "stdout",
     "output_type": "stream",
     "text": [
      "Data(x=[2708, 1433], edge_index=[2, 10556], y=[2708], train_mask=[2708], val_mask=[2708], test_mask=[2708])\n"
     ]
    }
   ],
   "source": [
    "cora_dataset = Planetoid(root='', name='Cora')\n",
    "data = cora_dataset[0].to(device)\n",
    "print(data)\n",
    "idx_train, idx_val, idx_test = data.train_mask.nonzero(as_tuple=True)[0].tolist(), data.val_mask.nonzero(as_tuple=True)[0].tolist(), data.test_mask.nonzero(as_tuple=True)[0].tolist()"
   ]
  },
  {
   "cell_type": "code",
   "execution_count": 4,
   "id": "4ec0d645-a3c4-4bd6-b227-f7ff724bde18",
   "metadata": {},
   "outputs": [
    {
     "name": "stdout",
     "output_type": "stream",
     "text": [
      "Loading cora dataset...\n",
      "Selecting 1 largest connected components\n"
     ]
    }
   ],
   "source": [
    "data_dr = Dataset(root='/tmp/', name='cora', setting='nettack')\n",
    "adj, features, labels = data_dr.adj, data_dr.features, data_dr.labels\n",
    "# idx_train, idx_val, idx_test = data_dr.idx_train, data_dr.idx_val, data_dr.idx_test\n",
    "idx_unlabeled = np.union1d(idx_val, idx_test)"
   ]
  },
  {
   "cell_type": "code",
   "execution_count": 5,
   "id": "7b3bc665-5140-46f0-bce3-9964efb948a0",
   "metadata": {},
   "outputs": [],
   "source": [
    "surrogate = GCN_DR(nfeat=features.shape[1], nclass=labels.max().item()+1, nhid=16,\n",
    "                with_relu=False, device=device)\n",
    "surrogate = surrogate.to(device)\n",
    "surrogate.fit(features, adj, labels, idx_train)"
   ]
  },
  {
   "cell_type": "code",
   "execution_count": 6,
   "id": "93445f95-4b4a-4a34-b9af-7a64697cbcd3",
   "metadata": {},
   "outputs": [],
   "source": [
    "ptb_rate = 0.1"
   ]
  },
  {
   "cell_type": "code",
   "execution_count": 7,
   "id": "0d20751f-ad8c-4498-b83d-cd1a54c7bf21",
   "metadata": {},
   "outputs": [
    {
     "name": "stdout",
     "output_type": "stream",
     "text": [
      "number of pertubations: 506\n"
     ]
    }
   ],
   "source": [
    "model = DICE()\n",
    "model = model.to(device)\n",
    "perturbations = int(ptb_rate * (adj.sum() // 2))\n",
    "model.attack(adj, labels, n_perturbations=perturbations)\n",
    "modified_adj = model.modified_adj"
   ]
  },
  {
   "cell_type": "markdown",
   "id": "013d1a25-f36c-4f2d-a131-a37230a2fc6e",
   "metadata": {},
   "source": [
    "### arch tests"
   ]
  },
  {
   "cell_type": "code",
   "execution_count": 18,
   "id": "4e0b5584-ef73-4f77-bd79-6c7ac9e6f0ee",
   "metadata": {},
   "outputs": [],
   "source": [
    "model = GCN(data.x.shape[1], cora_dataset.num_classes, [16]).to(device)"
   ]
  },
  {
   "cell_type": "code",
   "execution_count": 19,
   "id": "caaae491-a476-49cc-815c-6b6013c1d4f9",
   "metadata": {},
   "outputs": [],
   "source": [
    "model_save_path = \"../models/cora_gcn_model.pth\"\n",
    "list_save_path = \"../attacks/cora_gcn_edges.pth\""
   ]
  },
  {
   "cell_type": "code",
   "execution_count": 20,
   "id": "dd80d082-255d-48f1-b9db-f4ba5a0568cc",
   "metadata": {},
   "outputs": [],
   "source": [
    "model, edges_to_add, train = load_model_and_edges(model_save_path, list_save_path, model, device)"
   ]
  },
  {
   "cell_type": "code",
   "execution_count": 21,
   "id": "df4d5578-160d-4424-a66c-4ad88bada6b6",
   "metadata": {},
   "outputs": [
    {
     "name": "stdout",
     "output_type": "stream",
     "text": [
      "Initial Accuracy: 0.806\n",
      "Initial Loss: 0.655889093875885\n"
     ]
    }
   ],
   "source": [
    "initial_loss, initial_accuracy = train.test(data)\n",
    "print(f\"Initial Accuracy: {initial_accuracy}\")\n",
    "print(f\"Initial Loss: {initial_loss}\")"
   ]
  },
  {
   "cell_type": "code",
   "execution_count": 22,
   "id": "5564fa7c-9e77-4f15-a94c-468423322388",
   "metadata": {},
   "outputs": [],
   "source": [
    "from scipy.sparse import csr_matrix\n",
    "\n",
    "adj1 = data_dr.adj.tocsr()\n",
    "adj2 = modified_adj.tocsr()\n",
    "\n",
    "arr_diff = (adj1 - adj2).tocoo()"
   ]
  },
  {
   "cell_type": "code",
   "execution_count": 23,
   "id": "4b540331-4573-4614-a240-f64cad8183cf",
   "metadata": {},
   "outputs": [
    {
     "data": {
      "text/plain": [
       "<2485x2485 sparse matrix of type '<class 'numpy.float32'>'\n",
       "\twith 1012 stored elements in COOrdinate format>"
      ]
     },
     "execution_count": 23,
     "metadata": {},
     "output_type": "execute_result"
    }
   ],
   "source": [
    "arr_diff"
   ]
  },
  {
   "cell_type": "code",
   "execution_count": 24,
   "id": "c227fdc0-1fab-4a15-97ca-bd28c763b979",
   "metadata": {},
   "outputs": [],
   "source": [
    "data_modded = copy.deepcopy(data)"
   ]
  },
  {
   "cell_type": "code",
   "execution_count": 25,
   "id": "62738eaa-f69b-4ebe-8e0d-801230897553",
   "metadata": {},
   "outputs": [
    {
     "name": "stdout",
     "output_type": "stream",
     "text": [
      "10550\n",
      "1006\n"
     ]
    }
   ],
   "source": [
    "# thanks gpt\n",
    "existing = data_modded.edge_index.t().cpu().numpy()\n",
    "\n",
    "diff_coo = arr_diff.tocoo()\n",
    "diff_edges = np.stack([diff_coo.row, diff_coo.col], axis=1)\n",
    "\n",
    "existing_set = set(map(tuple, existing))\n",
    "diff_set = set(map(tuple, diff_edges))\n",
    "diff_set_full = diff_set | set((v, u) for u, v in diff_set)\n",
    "\n",
    "cleaned_edges = existing_set - diff_set_full\n",
    "print(len(cleaned_edges))\n",
    "\n",
    "added_edges = diff_set_full - existing_set\n",
    "print(len(added_edges))\n",
    "\n",
    "final_edges = cleaned_edges | added_edges\n",
    "\n",
    "final_edges = torch.tensor(list(final_edges), dtype=torch.long).t().to(device)\n",
    "data_modded.edge_index = final_edges"
   ]
  },
  {
   "cell_type": "code",
   "execution_count": 26,
   "id": "a09bce75-78ca-47ef-b5b9-a9dc54ffe7ba",
   "metadata": {},
   "outputs": [
    {
     "data": {
      "text/plain": [
       "torch.Size([2, 11556])"
      ]
     },
     "execution_count": 26,
     "metadata": {},
     "output_type": "execute_result"
    }
   ],
   "source": [
    "data_modded.edge_index.size()"
   ]
  },
  {
   "cell_type": "code",
   "execution_count": 27,
   "id": "ee8f1b41-0856-4bd6-9493-d5a539f8a6d4",
   "metadata": {
    "scrolled": true
   },
   "outputs": [
    {
     "name": "stdout",
     "output_type": "stream",
     "text": [
      "Evasion Change in Accuracy: -0.4963%\n",
      "Evasion Change in Loss: -2.5823%\n",
      "Epoch 0, Train Loss - 1.9299582242965698, Val Loss - 1.8596833944320679, Val Accuracy - 0.406\n",
      "Epoch 20, Train Loss - 0.2518244683742523, Val Loss - 0.8695088624954224, Val Accuracy - 0.736\n",
      "Epoch 40, Train Loss - 0.0750839114189148, Val Loss - 0.8267417550086975, Val Accuracy - 0.734\n",
      "Epoch 60, Train Loss - 0.07162811607122421, Val Loss - 0.7942968606948853, Val Accuracy - 0.748\n",
      "Epoch 80, Train Loss - 0.03167028725147247, Val Loss - 0.7712323665618896, Val Accuracy - 0.754\n",
      "Epoch 100, Train Loss - 0.03714919090270996, Val Loss - 0.7703956365585327, Val Accuracy - 0.758\n",
      "Epoch 120, Train Loss - 0.03903079032897949, Val Loss - 0.7812204957008362, Val Accuracy - 0.76\n",
      "Epoch 140, Train Loss - 0.02727861888706684, Val Loss - 0.789792001247406, Val Accuracy - 0.75\n",
      "Epoch 160, Train Loss - 0.03804800659418106, Val Loss - 0.7636592388153076, Val Accuracy - 0.762\n",
      "Epoch 180, Train Loss - 0.04206070676445961, Val Loss - 0.7653950452804565, Val Accuracy - 0.768\n",
      "Epoch 200, Train Loss - 0.029373185709118843, Val Loss - 0.766348123550415, Val Accuracy - 0.766\n",
      "Epoch 220, Train Loss - 0.02103419043123722, Val Loss - 0.7800472974777222, Val Accuracy - 0.772\n",
      "Epoch 240, Train Loss - 0.02140621282160282, Val Loss - 0.7917059063911438, Val Accuracy - 0.756\n",
      "Epoch 260, Train Loss - 0.022693106904625893, Val Loss - 0.8192265033721924, Val Accuracy - 0.764\n",
      "Epoch 280, Train Loss - 0.02368300035595894, Val Loss - 0.834782600402832, Val Accuracy - 0.76\n",
      "Epoch 300, Train Loss - 0.024570226669311523, Val Loss - 0.8309198617935181, Val Accuracy - 0.76\n",
      "Epoch 320, Train Loss - 0.0179677065461874, Val Loss - 0.8062453866004944, Val Accuracy - 0.756\n",
      "Epoch 340, Train Loss - 0.014895007945597172, Val Loss - 0.7814619541168213, Val Accuracy - 0.772\n",
      "Epoch 360, Train Loss - 0.03638884797692299, Val Loss - 0.780528724193573, Val Accuracy - 0.772\n",
      "Epoch 380, Train Loss - 0.019369427114725113, Val Loss - 0.8102606534957886, Val Accuracy - 0.762\n",
      "Epoch 400, Train Loss - 0.01653139479458332, Val Loss - 0.7807415723800659, Val Accuracy - 0.766\n",
      "Epoch 420, Train Loss - 0.014301978051662445, Val Loss - 0.83094322681427, Val Accuracy - 0.76\n",
      "Epoch 440, Train Loss - 0.022128082811832428, Val Loss - 0.8006423115730286, Val Accuracy - 0.756\n",
      "Epoch 460, Train Loss - 0.024991808459162712, Val Loss - 0.8217403292655945, Val Accuracy - 0.766\n",
      "Epoch 480, Train Loss - 0.016567954793572426, Val Loss - 0.8323166370391846, Val Accuracy - 0.766\n",
      "Epoch 500, Train Loss - 0.01672978699207306, Val Loss - 0.803642988204956, Val Accuracy - 0.758\n",
      "Epoch 520, Train Loss - 0.022797301411628723, Val Loss - 0.8210368752479553, Val Accuracy - 0.756\n",
      "Epoch 540, Train Loss - 0.030959581956267357, Val Loss - 0.8149043321609497, Val Accuracy - 0.758\n",
      "Epoch 560, Train Loss - 0.013847907073795795, Val Loss - 0.8383520245552063, Val Accuracy - 0.744\n",
      "Epoch 580, Train Loss - 0.01605633646249771, Val Loss - 0.8469854593276978, Val Accuracy - 0.764\n",
      "Epoch 600, Train Loss - 0.02275560423731804, Val Loss - 0.8254061341285706, Val Accuracy - 0.768\n",
      "Epoch 620, Train Loss - 0.014907479286193848, Val Loss - 0.8818650841712952, Val Accuracy - 0.756\n",
      "Epoch 640, Train Loss - 0.02887800708413124, Val Loss - 0.8346301913261414, Val Accuracy - 0.766\n",
      "Epoch 660, Train Loss - 0.013629807159304619, Val Loss - 0.8389270305633545, Val Accuracy - 0.758\n",
      "Epoch 680, Train Loss - 0.011717275716364384, Val Loss - 0.8364933133125305, Val Accuracy - 0.768\n",
      "Epoch 700, Train Loss - 0.023482628166675568, Val Loss - 0.8164646625518799, Val Accuracy - 0.762\n",
      "Epoch 720, Train Loss - 0.022184303030371666, Val Loss - 0.8457998037338257, Val Accuracy - 0.762\n",
      "Epoch 740, Train Loss - 0.015223545953631401, Val Loss - 0.8393459320068359, Val Accuracy - 0.766\n",
      "Epoch 760, Train Loss - 0.018709354102611542, Val Loss - 0.8136716485023499, Val Accuracy - 0.768\n",
      "Epoch 780, Train Loss - 0.01803496479988098, Val Loss - 0.9026415944099426, Val Accuracy - 0.76\n",
      "Epoch 800, Train Loss - 0.017917077988386154, Val Loss - 0.8663009405136108, Val Accuracy - 0.764\n",
      "Epoch 820, Train Loss - 0.022542765364050865, Val Loss - 0.8483196496963501, Val Accuracy - 0.75\n",
      "Epoch 840, Train Loss - 0.027758469805121422, Val Loss - 0.8228575587272644, Val Accuracy - 0.754\n",
      "Epoch 860, Train Loss - 0.01198645681142807, Val Loss - 0.8136812448501587, Val Accuracy - 0.766\n",
      "Epoch 880, Train Loss - 0.03550828993320465, Val Loss - 0.8464399576187134, Val Accuracy - 0.75\n",
      "Epoch 900, Train Loss - 0.013005412183701992, Val Loss - 0.8316347002983093, Val Accuracy - 0.756\n",
      "Epoch 920, Train Loss - 0.016041692346334457, Val Loss - 0.8203719854354858, Val Accuracy - 0.762\n",
      "Epoch 940, Train Loss - 0.017114944756031036, Val Loss - 0.8130716681480408, Val Accuracy - 0.756\n",
      "Epoch 960, Train Loss - 0.022638415917754173, Val Loss - 0.8497973084449768, Val Accuracy - 0.752\n",
      "Epoch 980, Train Loss - 0.027038738131523132, Val Loss - 0.8444451689720154, Val Accuracy - 0.76\n",
      "Epoch 1000, Train Loss - 0.01634143851697445, Val Loss - 0.8251751065254211, Val Accuracy - 0.76\n",
      "Loaded best model with Val Accuracy: 0.7840\n",
      "Poisoning Change in Accuracy: -0.7444%\n",
      "Poisoning Change in Loss: 0.8544%\n"
     ]
    }
   ],
   "source": [
    "new_loss, new_accuracy = train.test(data_modded)\n",
    "\n",
    "print(f\"Evasion Change in Accuracy: {(100 * ((new_accuracy - initial_accuracy) / initial_accuracy)):.4f}%\")\n",
    "print(f\"Evasion Change in Loss: {(100 * ((new_loss - initial_loss) / initial_loss)):.4f}%\")\n",
    "\n",
    "### poisoning\n",
    "model_poisoning = GCN(data_modded.x.shape[1], cora_dataset.num_classes, [16]).to(device)\n",
    "model_poisoning.reset_parameters()\n",
    "train_modded = Trainable(model_poisoning)\n",
    "train_modded.fit(data_modded, 1000)\n",
    "\n",
    "poisoning_loss, poisoning_accuracy = train_modded.test(data_modded)\n",
    "print(f\"Poisoning Change in Accuracy: {(100 * ((poisoning_accuracy - initial_accuracy) / initial_accuracy)):.4f}%\")\n",
    "print(f\"Poisoning Change in Loss: {(100 * ((poisoning_loss - initial_loss) / initial_loss)):.4f}%\")"
   ]
  }
 ],
 "metadata": {
  "kernelspec": {
   "display_name": "Python 3 (ipykernel)",
   "language": "python",
   "name": "python3"
  },
  "language_info": {
   "codemirror_mode": {
    "name": "ipython",
    "version": 3
   },
   "file_extension": ".py",
   "mimetype": "text/x-python",
   "name": "python",
   "nbconvert_exporter": "python",
   "pygments_lexer": "ipython3",
   "version": "3.8.18"
  }
 },
 "nbformat": 4,
 "nbformat_minor": 5
}
