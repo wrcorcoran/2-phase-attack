{
 "cells": [
  {
   "cell_type": "code",
   "execution_count": 1,
   "id": "cbc284fc-8e46-4645-bb36-6f79054e5e53",
   "metadata": {},
   "outputs": [],
   "source": [
    "from greedy_mcmc_attack import *\n",
    "from data_collection.recordings import *\n",
    "import sys\n",
    "sys.path.append(\"../../\")\n",
    "from src.models.gcn import *\n",
    "from src.models.gat import *\n",
    "from src.models.gsage import *"
   ]
  },
  {
   "cell_type": "code",
   "execution_count": 2,
   "id": "b484ec46-7057-4bcf-b042-f76d632d7dcb",
   "metadata": {},
   "outputs": [],
   "source": [
    "device = \"cuda\" if torch.cuda.is_available() else \"cpu\""
   ]
  },
  {
   "cell_type": "code",
   "execution_count": 3,
   "id": "8e03370f-1e5a-45ce-a6c4-6577604acf39",
   "metadata": {},
   "outputs": [
    {
     "name": "stdout",
     "output_type": "stream",
     "text": [
      "Data(x=[2708, 1433], edge_index=[2, 10556], y=[2708], train_mask=[2708], val_mask=[2708], test_mask=[2708])\n"
     ]
    }
   ],
   "source": [
    "# dataset_directory = \"../Cora\"\n",
    "cora_dataset = Planetoid(root='', name='Cora')\n",
    "data = cora_dataset[0].to(device)\n",
    "print(data)\n",
    "\n",
    "trials = 5"
   ]
  },
  {
   "cell_type": "code",
   "execution_count": 4,
   "id": "f17fd5eb-4632-4d81-8f51-ade39a1a3007",
   "metadata": {},
   "outputs": [],
   "source": [
    "edges_to_add = None"
   ]
  },
  {
   "cell_type": "code",
   "execution_count": 5,
   "id": "e08cf2cd-3107-4fc4-abba-0bf6224d3c3b",
   "metadata": {},
   "outputs": [],
   "source": [
    "model = GCN(data.x.shape[1], cora_dataset.num_classes, [16]).to(device)"
   ]
  },
  {
   "cell_type": "code",
   "execution_count": 6,
   "id": "ebee2287-3fc4-4710-99fd-a6499fde0a54",
   "metadata": {},
   "outputs": [],
   "source": [
    "model_save_path = \"../models/cora_gcn_model.pth\"\n",
    "list_save_path = \"../attacks/cora_gcn_edges_full_run.pth\"\n",
    "# # multi_metattack_edges_list.pth\n",
    "# list_save_path = \"multi_metattack_edges_list.pth\""
   ]
  },
  {
   "cell_type": "code",
   "execution_count": 7,
   "id": "ef3f201c-a315-427b-882d-c5e73dbad164",
   "metadata": {},
   "outputs": [],
   "source": [
    "model, edges_to_add, train = load_model_and_edges(model_save_path, list_save_path, model, device)"
   ]
  },
  {
   "cell_type": "code",
   "execution_count": 8,
   "id": "837669c2-a06f-4e8c-8629-4083497e088e",
   "metadata": {},
   "outputs": [
    {
     "name": "stdout",
     "output_type": "stream",
     "text": [
      "Initial Accuracy: 0.806\n",
      "Initial Loss: 0.655889093875885\n"
     ]
    }
   ],
   "source": [
    "# Get initial accuracy\n",
    "initial_loss, initial_accuracy = train.test(data)\n",
    "print(f\"Initial Accuracy: {initial_accuracy}\")\n",
    "print(f\"Initial Loss: {initial_loss}\")"
   ]
  },
  {
   "cell_type": "code",
   "execution_count": 9,
   "id": "de652b4f-cff6-41db-8e78-29644d232917",
   "metadata": {},
   "outputs": [],
   "source": [
    "G, initial_edge_count, ptb_rate, budget = initialize(data, _ptb_rate=0.20)"
   ]
  },
  {
   "cell_type": "code",
   "execution_count": null,
   "id": "5ad3a8ce-a31e-4183-bdbc-60d41a0b3ec6",
   "metadata": {},
   "outputs": [
    {
     "data": {
      "application/vnd.jupyter.widget-view+json": {
       "model_id": "d98eda32de6e418095f859d650688d9d",
       "version_major": 2,
       "version_minor": 0
      },
      "text/plain": [
       "Peturbing graph...:   0%|          | 0/527 [00:00<?, ?it/s]"
      ]
     },
     "metadata": {},
     "output_type": "display_data"
    },
    {
     "name": "stdout",
     "output_type": "stream",
     "text": [
      "Surrogate loss on unlabled data: 0.6236100792884827\n",
      "Surrogate acc on unlabled data: 0.798\n",
      "Attack loss: 0.28566595911979675\n",
      "Surrogate loss on unlabled data: 0.6994355320930481\n",
      "Surrogate acc on unlabled data: 0.782\n",
      "Attack loss: 0.4052053689956665\n",
      "Surrogate loss on unlabled data: 0.8351637125015259\n",
      "Surrogate acc on unlabled data: 0.755\n",
      "Attack loss: 0.5723212957382202\n",
      "Surrogate loss on unlabled data: 0.8673900365829468\n",
      "Surrogate acc on unlabled data: 0.743\n",
      "Attack loss: 0.6142011880874634\n",
      "Surrogate loss on unlabled data: 0.9535175561904907\n",
      "Surrogate acc on unlabled data: 0.714\n",
      "Attack loss: 0.7186201214790344\n",
      "Surrogate loss on unlabled data: 1.054160714149475\n",
      "Surrogate acc on unlabled data: 0.7000000000000001\n",
      "Attack loss: 0.8014763593673706\n",
      "Surrogate loss on unlabled data: 1.1016607284545898\n",
      "Surrogate acc on unlabled data: 0.681\n",
      "Attack loss: 0.8752995133399963\n",
      "Surrogate loss on unlabled data: 1.2500213384628296\n",
      "Surrogate acc on unlabled data: 0.668\n",
      "Attack loss: 1.0125107765197754\n",
      "Surrogate loss on unlabled data: 1.2513071298599243\n",
      "Surrogate acc on unlabled data: 0.646\n",
      "Attack loss: 0.9946591258049011\n",
      "Surrogate loss on unlabled data: 1.4426796436309814\n",
      "Surrogate acc on unlabled data: 0.612\n",
      "Attack loss: 1.2014366388320923\n",
      "Surrogate loss on unlabled data: 1.4973055124282837\n",
      "Surrogate acc on unlabled data: 0.601\n",
      "Attack loss: 1.2617733478546143\n",
      "Surrogate loss on unlabled data: 1.4498512744903564\n",
      "Surrogate acc on unlabled data: 0.602\n",
      "Attack loss: 1.2480971813201904\n",
      "Surrogate loss on unlabled data: 1.6356035470962524\n",
      "Surrogate acc on unlabled data: 0.5650000000000001\n",
      "Attack loss: 1.4491698741912842\n",
      "Surrogate loss on unlabled data: 1.714719533920288\n",
      "Surrogate acc on unlabled data: 0.558\n",
      "Attack loss: 1.5103765726089478\n",
      "Surrogate loss on unlabled data: 1.749240517616272\n",
      "Surrogate acc on unlabled data: 0.54\n",
      "Attack loss: 1.5447007417678833\n",
      "Surrogate loss on unlabled data: 1.9286824464797974\n",
      "Surrogate acc on unlabled data: 0.527\n",
      "Attack loss: 1.7526967525482178\n",
      "Surrogate loss on unlabled data: 1.8471261262893677\n",
      "Surrogate acc on unlabled data: 0.527\n",
      "Attack loss: 1.6755770444869995\n",
      "Surrogate loss on unlabled data: 2.130156993865967\n",
      "Surrogate acc on unlabled data: 0.503\n",
      "Attack loss: 1.952846646308899\n",
      "Surrogate loss on unlabled data: 2.1637401580810547\n",
      "Surrogate acc on unlabled data: 0.513\n",
      "Attack loss: 1.9873621463775635\n",
      "Surrogate loss on unlabled data: 2.2244560718536377\n",
      "Surrogate acc on unlabled data: 0.503\n",
      "Attack loss: 2.061004161834717\n",
      "Surrogate loss on unlabled data: 2.3625316619873047\n",
      "Surrogate acc on unlabled data: 0.499\n",
      "Attack loss: 2.184028387069702\n",
      "Surrogate loss on unlabled data: 2.4879117012023926\n",
      "Surrogate acc on unlabled data: 0.495\n",
      "Attack loss: 2.316471815109253\n",
      "Surrogate loss on unlabled data: 2.386775255203247\n",
      "Surrogate acc on unlabled data: 0.5\n",
      "Attack loss: 2.2376651763916016\n",
      "Surrogate loss on unlabled data: 2.7018072605133057\n",
      "Surrogate acc on unlabled data: 0.46900000000000003\n",
      "Attack loss: 2.520240545272827\n",
      "Surrogate loss on unlabled data: 2.68532395362854\n",
      "Surrogate acc on unlabled data: 0.46900000000000003\n",
      "Attack loss: 2.4796535968780518\n",
      "Surrogate loss on unlabled data: 2.8784024715423584\n",
      "Surrogate acc on unlabled data: 0.457\n",
      "Attack loss: 2.717376470565796\n",
      "Surrogate loss on unlabled data: 3.090500593185425\n",
      "Surrogate acc on unlabled data: 0.427\n",
      "Attack loss: 2.9280905723571777\n"
     ]
    },
    {
     "data": {
      "application/vnd.jupyter.widget-view+json": {
       "model_id": "0e6854c6cf2d42fb84692040e64285cb",
       "version_major": 2,
       "version_minor": 0
      },
      "text/plain": [
       "Peturbing graph...:   0%|          | 0/527 [00:00<?, ?it/s]"
      ]
     },
     "metadata": {},
     "output_type": "display_data"
    },
    {
     "name": "stdout",
     "output_type": "stream",
     "text": [
      "Surrogate loss on unlabled data: 0.6105505228042603\n",
      "Surrogate acc on unlabled data: 0.796\n",
      "Attack loss: 0.28948280215263367\n",
      "Surrogate loss on unlabled data: 0.7543007731437683\n",
      "Surrogate acc on unlabled data: 0.777\n",
      "Attack loss: 0.4499451518058777\n",
      "Surrogate loss on unlabled data: 0.8335283994674683\n",
      "Surrogate acc on unlabled data: 0.745\n",
      "Attack loss: 0.5339338779449463\n",
      "Surrogate loss on unlabled data: 0.9373815655708313\n",
      "Surrogate acc on unlabled data: 0.737\n",
      "Attack loss: 0.6194344758987427\n",
      "Surrogate loss on unlabled data: 0.9992719292640686\n",
      "Surrogate acc on unlabled data: 0.715\n",
      "Attack loss: 0.7294621467590332\n",
      "Surrogate loss on unlabled data: 1.1124342679977417\n",
      "Surrogate acc on unlabled data: 0.6910000000000001\n",
      "Attack loss: 0.8369702696800232\n",
      "Surrogate loss on unlabled data: 1.2044308185577393\n",
      "Surrogate acc on unlabled data: 0.673\n",
      "Attack loss: 0.9409142136573792\n",
      "Surrogate loss on unlabled data: 1.2444406747817993\n",
      "Surrogate acc on unlabled data: 0.647\n",
      "Attack loss: 0.9901265501976013\n",
      "Surrogate loss on unlabled data: 1.4329638481140137\n",
      "Surrogate acc on unlabled data: 0.609\n",
      "Attack loss: 1.141886830329895\n",
      "Surrogate loss on unlabled data: 1.5128731727600098\n",
      "Surrogate acc on unlabled data: 0.5720000000000001\n",
      "Attack loss: 1.2674968242645264\n",
      "Surrogate loss on unlabled data: 1.7112641334533691\n",
      "Surrogate acc on unlabled data: 0.561\n",
      "Attack loss: 1.4629396200180054\n",
      "Surrogate loss on unlabled data: 1.8130923509597778\n",
      "Surrogate acc on unlabled data: 0.561\n",
      "Attack loss: 1.5942716598510742\n",
      "Surrogate loss on unlabled data: 2.0153791904449463\n",
      "Surrogate acc on unlabled data: 0.546\n",
      "Attack loss: 1.7418254613876343\n",
      "Surrogate loss on unlabled data: 2.0780651569366455\n",
      "Surrogate acc on unlabled data: 0.554\n",
      "Attack loss: 1.8501732349395752\n",
      "Surrogate loss on unlabled data: 2.2226741313934326\n",
      "Surrogate acc on unlabled data: 0.537\n",
      "Attack loss: 1.9816094636917114\n",
      "Surrogate loss on unlabled data: 2.3318493366241455\n",
      "Surrogate acc on unlabled data: 0.535\n",
      "Attack loss: 2.077937602996826\n",
      "Surrogate loss on unlabled data: 2.1956043243408203\n",
      "Surrogate acc on unlabled data: 0.545\n",
      "Attack loss: 1.9765172004699707\n",
      "Surrogate loss on unlabled data: 2.455582857131958\n",
      "Surrogate acc on unlabled data: 0.531\n",
      "Attack loss: 2.202037811279297\n",
      "Surrogate loss on unlabled data: 2.6609909534454346\n",
      "Surrogate acc on unlabled data: 0.538\n",
      "Attack loss: 2.425729751586914\n",
      "Surrogate loss on unlabled data: 2.5118820667266846\n",
      "Surrogate acc on unlabled data: 0.543\n",
      "Attack loss: 2.291454792022705\n",
      "Surrogate loss on unlabled data: 2.8938159942626953\n",
      "Surrogate acc on unlabled data: 0.533\n",
      "Attack loss: 2.668058156967163\n",
      "Surrogate loss on unlabled data: 2.8002030849456787\n",
      "Surrogate acc on unlabled data: 0.534\n",
      "Attack loss: 2.5647389888763428\n",
      "Surrogate loss on unlabled data: 2.7973246574401855\n",
      "Surrogate acc on unlabled data: 0.536\n",
      "Attack loss: 2.6041982173919678\n"
     ]
    }
   ],
   "source": [
    "full_metattack_acc, full_metattack_loss, full_metattack_itrs = [], [], []\n",
    "for _ in range(trials):\n",
    "    acc, loss, itrs = two_phase_attack_mcmc(data, train, model, 0.0, edges_to_add, binary_fn, constant_fn, device, is_reversed=False, verbose=True)\n",
    "    full_metattack_acc.append(acc)\n",
    "    full_metattack_loss.append(loss)\n",
    "    full_metattack_itrs.append(itrs)"
   ]
  },
  {
   "cell_type": "markdown",
   "id": "1bf3a801-f644-478f-af37-b1d672de1570",
   "metadata": {},
   "source": [
    "# regular, secondary attack, not reversed"
   ]
  },
  {
   "cell_type": "code",
   "execution_count": null,
   "id": "01ce1d12-3cd2-476f-b9b6-f1ee46145e4b",
   "metadata": {},
   "outputs": [],
   "source": [
    "splits = [0.0, 0.5]\n",
    "split_dic_acc = defaultdict(lambda: defaultdict(list))\n",
    "split_dic_loss = defaultdict(lambda: defaultdict(list))\n",
    "itrs_one = defaultdict(lambda: defaultdict(int))"
   ]
  },
  {
   "cell_type": "code",
   "execution_count": null,
   "id": "1ca9d53e-b66d-42fb-bb6c-9cfcedde7a3e",
   "metadata": {
    "scrolled": true
   },
   "outputs": [],
   "source": [
    "for s in splits:\n",
    "    for j in range(trials):\n",
    "        if s == 0.0:\n",
    "            split_dic_acc[s][j], split_dic_loss[s][j], itrs_one[s][j] = full_metattack_acc[j], full_metattack_loss[j], full_metattack_itrs[j]\n",
    "        else:\n",
    "            split_dic_acc[s][j], split_dic_loss[s][j], itrs_one[s][j] = two_phase_attack_mcmc(data, train, model, s, edges_to_add, binary_fn, constant_fn, device, is_reversed=False, verbose=True)"
   ]
  },
  {
   "cell_type": "code",
   "execution_count": null,
   "id": "5158de82-c636-471a-88b4-d652daeae0e9",
   "metadata": {},
   "outputs": [],
   "source": [
    "record1 = Recording(split_dic_loss, split_dic_acc, itrs_one, Model.GCN, Dataset.CORA, AcceptFn.CONSTANT, SelectFn.BINARY, Reverse.ATTACKED)\n",
    "record1.save(f'data_collection/{\"mcmc\"}_{\"gcn\"}_{\"cora\"}_{\"constant\"}_{\"binary\"}_{\"attacked\"}_results.pkl')"
   ]
  },
  {
   "cell_type": "code",
   "execution_count": null,
   "id": "aab17342-ef23-497c-8283-ac76ea8f32e6",
   "metadata": {},
   "outputs": [],
   "source": [
    "# plot_results(split_dic_acc, ptb_rate, \"MCMC\", \"binary\", \"constant\", \"accuracy\", \"regular\")"
   ]
  },
  {
   "cell_type": "code",
   "execution_count": null,
   "id": "29656bc7-6361-4342-bc6f-f0d40ae5ffc8",
   "metadata": {},
   "outputs": [],
   "source": [
    "# plot_results(split_dic_loss, ptb_rate, \"MCMC\", \"binary\", \"constant\", \"loss\", \"regular\")"
   ]
  },
  {
   "cell_type": "markdown",
   "id": "d1f3b467-1160-45d3-bd50-2e4a4d473b6a",
   "metadata": {},
   "source": [
    "##### ideally, we could show some metric, where (change in loss after hidden for %) > (% * max change in loss)"
   ]
  },
  {
   "cell_type": "code",
   "execution_count": null,
   "id": "0bf054d8-566a-44ca-a8fc-194878368373",
   "metadata": {},
   "outputs": [],
   "source": [
    "split_dic_decreasing_acc = defaultdict(lambda: defaultdict(list))\n",
    "itrs_two = defaultdict(lambda: defaultdict(int))\n",
    "split_dic_decreasing_loss = defaultdict(lambda: defaultdict(list))"
   ]
  },
  {
   "cell_type": "code",
   "execution_count": null,
   "id": "ee71e6c2-4494-42d4-98fd-c0a10495c87d",
   "metadata": {},
   "outputs": [],
   "source": [
    "for s in splits:\n",
    "    for j in range(trials):\n",
    "        if s == 0.0:\n",
    "            split_dic_decreasing_acc[s][j], split_dic_decreasing_loss[s][j], itrs_two[s][j] = full_metattack_acc[j], full_metattack_loss[j], full_metattack_itrs[j]\n",
    "        else:\n",
    "            split_dic_decreasing_acc[s][j], split_dic_decreasing_loss[s][j], itrs_two[s][j] = two_phase_attack_mcmc(data, train, model, s, edges_to_add, binary_fn, increasing_fn, device, is_reversed=False, verbose=True)"
   ]
  },
  {
   "cell_type": "code",
   "execution_count": null,
   "id": "e5d49ae7-8750-4167-90b7-1f9ede26c473",
   "metadata": {},
   "outputs": [],
   "source": [
    "record1 = Recording(split_dic_decreasing_loss, split_dic_decreasing_acc, itrs_two, Model.GCN, Dataset.CORA, AcceptFn.INCREASING, SelectFn.BINARY, Reverse.ATTACKED)\n",
    "record1.save(f'data_collection/{\"mcmc\"}_{\"gcn\"}_{\"cora\"}_{\"increasing\"}_{\"binary\"}_{\"attacked\"}_results.pkl')"
   ]
  },
  {
   "cell_type": "code",
   "execution_count": null,
   "id": "0e1a048d-5a43-4d9e-b759-452571d6542c",
   "metadata": {},
   "outputs": [],
   "source": [
    "# plot_results(split_dic_decreasing_acc, ptb_rate, \"MCMC\", \"binary\", \"increasing\", \"accuracy\", \"regular\")"
   ]
  },
  {
   "cell_type": "code",
   "execution_count": null,
   "id": "7383f4a6-8e55-44a5-9328-cf00bc09f4f5",
   "metadata": {},
   "outputs": [],
   "source": [
    "# plot_results(split_dic_decreasing_loss, ptb_rate, \"MCMC\", \"binary\", \"increasing\", \"loss\", \"regular\")"
   ]
  },
  {
   "cell_type": "code",
   "execution_count": null,
   "id": "7a7a2b74-a236-4df7-a7ff-5c1b98b4d4e1",
   "metadata": {},
   "outputs": [],
   "source": [
    "split_dic_decreasing_constant_acc = defaultdict(lambda: defaultdict(list))\n",
    "split_dic_decreasing_constant_loss = defaultdict(lambda: defaultdict(list))\n",
    "itrs_three = defaultdict(lambda: defaultdict(int))"
   ]
  },
  {
   "cell_type": "code",
   "execution_count": null,
   "id": "9bdd788c-d5a1-461f-b792-18080e2dee19",
   "metadata": {},
   "outputs": [],
   "source": [
    "for s in splits:\n",
    "    for j in range(trials):\n",
    "        if s == 0.0:\n",
    "            split_dic_decreasing_constant_acc[s][j], split_dic_decreasing_constant_loss[s][j], itrs_three[s][j] = full_metattack_acc[j], full_metattack_loss[j], full_metattack_itrs[j]\n",
    "        else:\n",
    "            split_dic_decreasing_constant_acc[s][j], split_dic_decreasing_constant_loss[s][j], itrs_three[s][j] = two_phase_attack_mcmc(data, train, model, s, edges_to_add, decreasing_fn, constant_fn, device, is_reversed=False, verbose=True)"
   ]
  },
  {
   "cell_type": "code",
   "execution_count": null,
   "id": "6d58e8a5-66ec-4373-b06c-45e896bd3928",
   "metadata": {},
   "outputs": [],
   "source": [
    "record1 = Recording(split_dic_decreasing_constant_loss, split_dic_decreasing_constant_acc, itrs_three, Model.GCN, Dataset.CORA, AcceptFn.CONSTANT, SelectFn.DECAYING, Reverse.ATTACKED)\n",
    "record1.save(f'data_collection/{\"mcmc\"}_{\"gcn\"}_{\"cora\"}_{\"constant\"}_{\"decaying\"}_{\"attacked\"}_results.pkl')"
   ]
  },
  {
   "cell_type": "code",
   "execution_count": null,
   "id": "c85298c0-9354-4395-9d73-0a064156e9c8",
   "metadata": {},
   "outputs": [],
   "source": [
    "# plot_results(split_dic_decreasing_constant_acc, ptb_rate, \"MCMC\", \"decaying\", \"constant\", \"accuracy\", \"regular\")"
   ]
  },
  {
   "cell_type": "code",
   "execution_count": null,
   "id": "7edbbd36-3300-4910-84bf-fb25ee148dce",
   "metadata": {},
   "outputs": [],
   "source": [
    "# plot_results(split_dic_decreasing_constant_loss, ptb_rate, \"MCMC\", \"decaying\", \"constant\", \"loss\", \"regular\")"
   ]
  },
  {
   "cell_type": "code",
   "execution_count": null,
   "id": "7b0b7094-9a73-44d1-9b93-1e06559a9e68",
   "metadata": {},
   "outputs": [],
   "source": [
    "split_dic_decreasing_gradual_acc = defaultdict(lambda: defaultdict(list))\n",
    "split_dic_decreasing_gradual_loss = defaultdict(lambda: defaultdict(list))\n",
    "itrs_four = defaultdict(lambda: defaultdict(int))"
   ]
  },
  {
   "cell_type": "code",
   "execution_count": null,
   "id": "68bea7a9-1b1b-4ed4-86f5-e8922a4aca7f",
   "metadata": {},
   "outputs": [],
   "source": [
    "for s in splits:\n",
    "    for j in range(trials):\n",
    "        if s == 0.0:\n",
    "            split_dic_decreasing_gradual_acc[s][j], split_dic_decreasing_gradual_loss[s][j], itrs_four[s][j] = full_metattack_acc[j], full_metattack_loss[j], full_metattack_itrs[j]\n",
    "        else:\n",
    "            split_dic_decreasing_gradual_acc[s][j], split_dic_decreasing_gradual_loss[s][j], itrs_four[s][j] = two_phase_attack_mcmc(data, train, model, s, edges_to_add, decreasing_fn, increasing_fn, device, is_reversed=False, verbose=True)"
   ]
  },
  {
   "cell_type": "code",
   "execution_count": null,
   "id": "9c11d39b-1954-4c81-bf35-94b9d47270a3",
   "metadata": {},
   "outputs": [],
   "source": [
    "record1 = Recording(split_dic_decreasing_gradual_loss, split_dic_decreasing_gradual_acc, itrs_four, Model.GCN, Dataset.CORA, AcceptFn.CONSTANT, SelectFn.DECAYING, Reverse.ATTACKED)\n",
    "record1.save(f'data_collection/{\"mcmc\"}_{\"gcn\"}_{\"cora\"}_{\"increasing\"}_{\"decaying\"}_{\"attacked\"}_results.pkl')"
   ]
  },
  {
   "cell_type": "code",
   "execution_count": null,
   "id": "3f7f093b-2d88-46b3-b668-01566c8e8516",
   "metadata": {},
   "outputs": [],
   "source": [
    "# plot_results(split_dic_decreasing_gradual_acc, ptb_rate, \"MCMC\", \"decaying\", \"increasing\", \"accuracy\", \"regular\")"
   ]
  },
  {
   "cell_type": "code",
   "execution_count": null,
   "id": "6f174c07-8a32-4102-8290-bf50e8ebf934",
   "metadata": {},
   "outputs": [],
   "source": [
    "# plot_results(split_dic_decreasing_gradual_loss, ptb_rate, \"MCMC\", \"decaying\", \"increasing\", \"accuracy\", \"regular\")"
   ]
  }
 ],
 "metadata": {
  "kernelspec": {
   "display_name": "Python 3 (ipykernel)",
   "language": "python",
   "name": "python3"
  },
  "language_info": {
   "codemirror_mode": {
    "name": "ipython",
    "version": 3
   },
   "file_extension": ".py",
   "mimetype": "text/x-python",
   "name": "python",
   "nbconvert_exporter": "python",
   "pygments_lexer": "ipython3",
   "version": "3.8.18"
  }
 },
 "nbformat": 4,
 "nbformat_minor": 5
}
