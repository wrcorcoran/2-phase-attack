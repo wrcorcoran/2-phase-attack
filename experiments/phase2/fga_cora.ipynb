{
 "cells": [
  {
   "cell_type": "code",
   "execution_count": 1,
   "id": "7b436979-f710-444b-baf9-caba91a93626",
   "metadata": {},
   "outputs": [],
   "source": [
    "import torch\n",
    "import numpy as np\n",
    "from deeprobust.graph.data import Dataset\n",
    "from deeprobust.graph.defense import GCN as GCN_DR\n",
    "from deeprobust.graph.targeted_attack import FGA"
   ]
  },
  {
   "cell_type": "code",
   "execution_count": 2,
   "id": "baf1bf7c-fb38-41b4-8037-d4d2195e74d7",
   "metadata": {},
   "outputs": [],
   "source": [
    "from greedy_mcmc_attack import *\n",
    "from collections import defaultdict\n",
    "device = torch.device(\"cuda:0\" if torch.cuda.is_available() else \"cpu\")"
   ]
  },
  {
   "cell_type": "code",
   "execution_count": 3,
   "id": "398e36c6-0370-4e71-9bcd-1907e9f4cc8f",
   "metadata": {},
   "outputs": [
    {
     "name": "stdout",
     "output_type": "stream",
     "text": [
      "Data(x=[2708, 1433], edge_index=[2, 10556], y=[2708], train_mask=[2708], val_mask=[2708], test_mask=[2708])\n"
     ]
    }
   ],
   "source": [
    "cora_dataset = Planetoid(root='', name='Cora')\n",
    "data = cora_dataset[0].to(device)\n",
    "print(data)"
   ]
  },
  {
   "cell_type": "code",
   "execution_count": 4,
   "id": "4ec0d645-a3c4-4bd6-b227-f7ff724bde18",
   "metadata": {},
   "outputs": [
    {
     "name": "stdout",
     "output_type": "stream",
     "text": [
      "Loading cora dataset...\n",
      "Selecting 1 largest connected components\n"
     ]
    }
   ],
   "source": [
    "data_dr = Dataset(root='/tmp/', name='cora', setting='nettack')\n",
    "adj, features, labels = data_dr.adj, data_dr.features, data_dr.labels\n",
    "idx_train, idx_val, idx_test = data.train_mask.nonzero(as_tuple=True)[0].tolist(), data.val_mask.nonzero(as_tuple=True)[0].tolist(), data.test_mask.nonzero(as_tuple=True)[0].tolist()\n",
    "idx_unlabeled = np.union1d(idx_val, idx_test)"
   ]
  },
  {
   "cell_type": "code",
   "execution_count": 5,
   "id": "34db0cab-0c09-4bbb-b494-5fe1227d291a",
   "metadata": {},
   "outputs": [],
   "source": [
    "degrees = np.array(adj.sum(axis=1)).flatten()\n",
    "max_degree_vertex = degrees.argmax()"
   ]
  },
  {
   "cell_type": "code",
   "execution_count": 6,
   "id": "7b3bc665-5140-46f0-bce3-9964efb948a0",
   "metadata": {},
   "outputs": [],
   "source": [
    "surrogate = GCN_DR(nfeat=features.shape[1], nclass=labels.max().item()+1, nhid=16,\n",
    "                with_relu=False, device=device)\n",
    "surrogate = surrogate.to(device)\n",
    "surrogate.fit(features, adj, labels, idx_train)"
   ]
  },
  {
   "cell_type": "code",
   "execution_count": 7,
   "id": "93445f95-4b4a-4a34-b9af-7a64697cbcd3",
   "metadata": {},
   "outputs": [],
   "source": [
    "ptb_rate = 0.1"
   ]
  },
  {
   "cell_type": "code",
   "execution_count": 8,
   "id": "0d20751f-ad8c-4498-b83d-cd1a54c7bf21",
   "metadata": {},
   "outputs": [],
   "source": [
    "model = FGA(surrogate, nnodes=adj.shape[0], attack_structure=True, attack_features=False, device=device)\n",
    "model = model.to(device)\n",
    "perturbations = int(ptb_rate * (adj.sum() // 2))\n",
    "model.attack(features, adj, labels, idx_train, max_degree_vertex, n_perturbations=perturbations)\n",
    "modified_adj = model.modified_adj"
   ]
  },
  {
   "cell_type": "markdown",
   "id": "013d1a25-f36c-4f2d-a131-a37230a2fc6e",
   "metadata": {},
   "source": [
    "### arch tests"
   ]
  },
  {
   "cell_type": "code",
   "execution_count": 18,
   "id": "4e0b5584-ef73-4f77-bd79-6c7ac9e6f0ee",
   "metadata": {},
   "outputs": [],
   "source": [
    "model = GCN(data.x.shape[1], cora_dataset.num_classes, [16]).to(device)"
   ]
  },
  {
   "cell_type": "code",
   "execution_count": 19,
   "id": "caaae491-a476-49cc-815c-6b6013c1d4f9",
   "metadata": {},
   "outputs": [],
   "source": [
    "model_save_path = \"../models/cora_gcn_model.pth\"\n",
    "list_save_path = \"../attacks/cora_gcn_edges.pth\""
   ]
  },
  {
   "cell_type": "code",
   "execution_count": 20,
   "id": "dd80d082-255d-48f1-b9db-f4ba5a0568cc",
   "metadata": {},
   "outputs": [],
   "source": [
    "model, edges_to_add, train = load_model_and_edges(model_save_path, list_save_path, model, device)"
   ]
  },
  {
   "cell_type": "code",
   "execution_count": 21,
   "id": "df4d5578-160d-4424-a66c-4ad88bada6b6",
   "metadata": {},
   "outputs": [
    {
     "name": "stdout",
     "output_type": "stream",
     "text": [
      "Initial Accuracy: 0.806\n",
      "Initial Loss: 0.655889093875885\n"
     ]
    }
   ],
   "source": [
    "initial_loss, initial_accuracy = train.test(data)\n",
    "print(f\"Initial Accuracy: {initial_accuracy}\")\n",
    "print(f\"Initial Loss: {initial_loss}\")"
   ]
  },
  {
   "cell_type": "code",
   "execution_count": 22,
   "id": "5564fa7c-9e77-4f15-a94c-468423322388",
   "metadata": {},
   "outputs": [],
   "source": [
    "from scipy.sparse import csr_matrix\n",
    "\n",
    "adj1 = data_dr.adj.tocsr()\n",
    "adj2 = modified_adj.tocsr()\n",
    "\n",
    "arr_diff = (adj1 - adj2).tocoo()"
   ]
  },
  {
   "cell_type": "code",
   "execution_count": 23,
   "id": "4b540331-4573-4614-a240-f64cad8183cf",
   "metadata": {
    "scrolled": true
   },
   "outputs": [
    {
     "data": {
      "text/plain": [
       "<2485x2485 sparse matrix of type '<class 'numpy.float32'>'\n",
       "\twith 924 stored elements in COOrdinate format>"
      ]
     },
     "execution_count": 23,
     "metadata": {},
     "output_type": "execute_result"
    }
   ],
   "source": [
    "arr_diff"
   ]
  },
  {
   "cell_type": "code",
   "execution_count": 24,
   "id": "c227fdc0-1fab-4a15-97ca-bd28c763b979",
   "metadata": {},
   "outputs": [],
   "source": [
    "data_modded = copy.deepcopy(data)"
   ]
  },
  {
   "cell_type": "code",
   "execution_count": 25,
   "id": "90c753fb-3b76-49ad-b5b8-001b1b61a760",
   "metadata": {},
   "outputs": [
    {
     "name": "stdout",
     "output_type": "stream",
     "text": [
      "10556\n",
      "924\n"
     ]
    }
   ],
   "source": [
    "# thanks gpt\n",
    "existing = data_modded.edge_index.t().cpu().numpy()\n",
    "\n",
    "diff_coo = arr_diff.tocoo()\n",
    "diff_edges = np.stack([diff_coo.row, diff_coo.col], axis=1)\n",
    "\n",
    "existing_set = set(map(tuple, existing))\n",
    "diff_set = set(map(tuple, diff_edges))\n",
    "diff_set_full = diff_set | set((v, u) for u, v in diff_set)\n",
    "\n",
    "cleaned_edges = existing_set - diff_set_full\n",
    "print(len(cleaned_edges))\n",
    "\n",
    "added_edges = diff_set_full - existing_set\n",
    "print(len(added_edges))\n",
    "\n",
    "final_edges = cleaned_edges | added_edges\n",
    "\n",
    "final_edges = torch.tensor(list(final_edges), dtype=torch.long).t().to(device)\n",
    "data_modded.edge_index = final_edges"
   ]
  },
  {
   "cell_type": "code",
   "execution_count": 26,
   "id": "ee8f1b41-0856-4bd6-9493-d5a539f8a6d4",
   "metadata": {},
   "outputs": [
    {
     "name": "stdout",
     "output_type": "stream",
     "text": [
      "Evasion Change in Accuracy: 0.3722%\n",
      "Evasion Change in Loss: -2.6435%\n",
      "Epoch 0, Train Loss - 1.9583345651626587, Val Loss - 1.8984183073043823, Val Accuracy - 0.45\n",
      "Epoch 20, Train Loss - 0.2821345329284668, Val Loss - 0.8179425001144409, Val Accuracy - 0.782\n",
      "Epoch 40, Train Loss - 0.08674629777669907, Val Loss - 0.73023521900177, Val Accuracy - 0.772\n",
      "Epoch 60, Train Loss - 0.03959911689162254, Val Loss - 0.7255879640579224, Val Accuracy - 0.772\n",
      "Epoch 80, Train Loss - 0.04902716726064682, Val Loss - 0.7112460136413574, Val Accuracy - 0.78\n",
      "Epoch 100, Train Loss - 0.0592188835144043, Val Loss - 0.7010799050331116, Val Accuracy - 0.78\n",
      "Epoch 120, Train Loss - 0.04886127635836601, Val Loss - 0.7198644280433655, Val Accuracy - 0.772\n",
      "Epoch 140, Train Loss - 0.025603201240301132, Val Loss - 0.7294042110443115, Val Accuracy - 0.772\n",
      "Epoch 160, Train Loss - 0.034698110073804855, Val Loss - 0.7227955460548401, Val Accuracy - 0.77\n",
      "Epoch 180, Train Loss - 0.02267429232597351, Val Loss - 0.7500129342079163, Val Accuracy - 0.758\n",
      "Epoch 200, Train Loss - 0.02581433393061161, Val Loss - 0.7276321053504944, Val Accuracy - 0.78\n",
      "Epoch 220, Train Loss - 0.025447485968470573, Val Loss - 0.7262096405029297, Val Accuracy - 0.78\n",
      "Epoch 240, Train Loss - 0.03324911743402481, Val Loss - 0.7531362771987915, Val Accuracy - 0.764\n",
      "Epoch 260, Train Loss - 0.02809329889714718, Val Loss - 0.7560396194458008, Val Accuracy - 0.772\n",
      "Epoch 280, Train Loss - 0.030946966260671616, Val Loss - 0.7569776773452759, Val Accuracy - 0.766\n",
      "Epoch 300, Train Loss - 0.018243320286273956, Val Loss - 0.7755352854728699, Val Accuracy - 0.772\n",
      "Epoch 320, Train Loss - 0.024918964132666588, Val Loss - 0.7696686387062073, Val Accuracy - 0.766\n",
      "Epoch 340, Train Loss - 0.03274420276284218, Val Loss - 0.7656845450401306, Val Accuracy - 0.766\n",
      "Epoch 360, Train Loss - 0.017194263637065887, Val Loss - 0.7667306065559387, Val Accuracy - 0.766\n",
      "Epoch 380, Train Loss - 0.018931761384010315, Val Loss - 0.7829086184501648, Val Accuracy - 0.77\n",
      "Epoch 400, Train Loss - 0.029452217742800713, Val Loss - 0.7763897180557251, Val Accuracy - 0.778\n",
      "Epoch 420, Train Loss - 0.02148141898214817, Val Loss - 0.7992197871208191, Val Accuracy - 0.762\n",
      "Epoch 440, Train Loss - 0.02200649306178093, Val Loss - 0.8027924299240112, Val Accuracy - 0.768\n",
      "Epoch 460, Train Loss - 0.024816159158945084, Val Loss - 0.7621097564697266, Val Accuracy - 0.78\n",
      "Epoch 480, Train Loss - 0.015663372352719307, Val Loss - 0.7799671292304993, Val Accuracy - 0.762\n",
      "Epoch 500, Train Loss - 0.01292278990149498, Val Loss - 0.8009315729141235, Val Accuracy - 0.77\n",
      "Epoch 520, Train Loss - 0.016457267105579376, Val Loss - 0.7778632044792175, Val Accuracy - 0.764\n",
      "Epoch 540, Train Loss - 0.022423360496759415, Val Loss - 0.7858539819717407, Val Accuracy - 0.766\n",
      "Epoch 560, Train Loss - 0.01739993691444397, Val Loss - 0.7711024880409241, Val Accuracy - 0.778\n",
      "Epoch 580, Train Loss - 0.02309621125459671, Val Loss - 0.836659848690033, Val Accuracy - 0.752\n",
      "Epoch 600, Train Loss - 0.018216675147414207, Val Loss - 0.7906649708747864, Val Accuracy - 0.77\n",
      "Epoch 620, Train Loss - 0.033082179725170135, Val Loss - 0.7743729948997498, Val Accuracy - 0.766\n",
      "Epoch 640, Train Loss - 0.018570352345705032, Val Loss - 0.7648314833641052, Val Accuracy - 0.774\n",
      "Epoch 660, Train Loss - 0.027578527107834816, Val Loss - 0.7659891843795776, Val Accuracy - 0.772\n",
      "Epoch 680, Train Loss - 0.028015146031975746, Val Loss - 0.812187671661377, Val Accuracy - 0.764\n",
      "Epoch 700, Train Loss - 0.019808685407042503, Val Loss - 0.7543454170227051, Val Accuracy - 0.784\n",
      "Epoch 720, Train Loss - 0.021932704374194145, Val Loss - 0.7694880962371826, Val Accuracy - 0.78\n",
      "Epoch 740, Train Loss - 0.02383672259747982, Val Loss - 0.8097243309020996, Val Accuracy - 0.758\n",
      "Epoch 760, Train Loss - 0.016385886818170547, Val Loss - 0.7684731483459473, Val Accuracy - 0.776\n",
      "Epoch 780, Train Loss - 0.017068156972527504, Val Loss - 0.7375532984733582, Val Accuracy - 0.772\n",
      "Epoch 800, Train Loss - 0.017180906608700752, Val Loss - 0.778795063495636, Val Accuracy - 0.776\n",
      "Epoch 820, Train Loss - 0.027419274672865868, Val Loss - 0.7923837304115295, Val Accuracy - 0.77\n",
      "Epoch 840, Train Loss - 0.02239838056266308, Val Loss - 0.7775845527648926, Val Accuracy - 0.766\n",
      "Epoch 860, Train Loss - 0.02871824987232685, Val Loss - 0.7842354774475098, Val Accuracy - 0.766\n",
      "Epoch 880, Train Loss - 0.02524571679532528, Val Loss - 0.7791456580162048, Val Accuracy - 0.774\n",
      "Epoch 900, Train Loss - 0.0305483341217041, Val Loss - 0.8080253005027771, Val Accuracy - 0.766\n",
      "Epoch 920, Train Loss - 0.01254985947161913, Val Loss - 0.8011367917060852, Val Accuracy - 0.772\n",
      "Epoch 940, Train Loss - 0.026403531432151794, Val Loss - 0.8084532618522644, Val Accuracy - 0.772\n",
      "Epoch 960, Train Loss - 0.028999386355280876, Val Loss - 0.7957153916358948, Val Accuracy - 0.77\n",
      "Epoch 980, Train Loss - 0.016353555023670197, Val Loss - 0.7747379541397095, Val Accuracy - 0.764\n",
      "Epoch 1000, Train Loss - 0.017665963619947433, Val Loss - 0.7887265086174011, Val Accuracy - 0.77\n",
      "Loaded best model with Val Accuracy: 0.7900\n",
      "Poisoning Change in Accuracy: 1.3648%\n",
      "Poisoning Change in Loss: -1.3834%\n"
     ]
    }
   ],
   "source": [
    "new_loss, new_accuracy = train.test(data_modded)\n",
    "\n",
    "print(f\"Evasion Change in Accuracy: {(100 * ((new_accuracy - initial_accuracy) / initial_accuracy)):.4f}%\")\n",
    "print(f\"Evasion Change in Loss: {(100 * ((new_loss - initial_loss) / initial_loss)):.4f}%\")\n",
    "\n",
    "### poisoning\n",
    "model_poisoning = GCN(data_modded.x.shape[1], cora_dataset.num_classes, [16]).to(device)\n",
    "model_poisoning.reset_parameters()\n",
    "train_modded = Trainable(model_poisoning)\n",
    "train_modded.fit(data_modded, 1000)\n",
    "\n",
    "poisoning_loss, poisoning_accuracy = train_modded.test(data_modded)\n",
    "print(f\"Poisoning Change in Accuracy: {(100 * ((poisoning_accuracy - initial_accuracy) / initial_accuracy)):.4f}%\")\n",
    "print(f\"Poisoning Change in Loss: {(100 * ((poisoning_loss - initial_loss) / initial_loss)):.4f}%\")"
   ]
  }
 ],
 "metadata": {
  "kernelspec": {
   "display_name": "Python 3 (ipykernel)",
   "language": "python",
   "name": "python3"
  },
  "language_info": {
   "codemirror_mode": {
    "name": "ipython",
    "version": 3
   },
   "file_extension": ".py",
   "mimetype": "text/x-python",
   "name": "python",
   "nbconvert_exporter": "python",
   "pygments_lexer": "ipython3",
   "version": "3.8.18"
  }
 },
 "nbformat": 4,
 "nbformat_minor": 5
}
