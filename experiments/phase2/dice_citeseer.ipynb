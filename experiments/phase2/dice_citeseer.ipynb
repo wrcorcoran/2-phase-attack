{
 "cells": [
  {
   "cell_type": "code",
   "execution_count": 1,
   "id": "7b436979-f710-444b-baf9-caba91a93626",
   "metadata": {},
   "outputs": [],
   "source": [
    "import torch\n",
    "import numpy as np\n",
    "from deeprobust.graph.data import Dataset\n",
    "from deeprobust.graph.defense import GCN as GCN_DR\n",
    "from deeprobust.graph.global_attack import DICE"
   ]
  },
  {
   "cell_type": "code",
   "execution_count": 2,
   "id": "baf1bf7c-fb38-41b4-8037-d4d2195e74d7",
   "metadata": {},
   "outputs": [],
   "source": [
    "from greedy_mcmc_attack import *\n",
    "from collections import defaultdict\n",
    "device = torch.device(\"cuda:0\" if torch.cuda.is_available() else \"cpu\")"
   ]
  },
  {
   "cell_type": "code",
   "execution_count": 3,
   "id": "398e36c6-0370-4e71-9bcd-1907e9f4cc8f",
   "metadata": {},
   "outputs": [
    {
     "name": "stdout",
     "output_type": "stream",
     "text": [
      "Data(x=[3327, 3703], edge_index=[2, 9104], y=[3327], train_mask=[3327], val_mask=[3327], test_mask=[3327])\n"
     ]
    }
   ],
   "source": [
    "cora_dataset = Planetoid(root='', name='Citeseer')\n",
    "data = cora_dataset[0].to(device)\n",
    "print(data)\n",
    "idx_train, idx_val, idx_test = data.train_mask.nonzero(as_tuple=True)[0].tolist(), data.val_mask.nonzero(as_tuple=True)[0].tolist(), data.test_mask.nonzero(as_tuple=True)[0].tolist()"
   ]
  },
  {
   "cell_type": "code",
   "execution_count": 4,
   "id": "4ec0d645-a3c4-4bd6-b227-f7ff724bde18",
   "metadata": {},
   "outputs": [
    {
     "name": "stdout",
     "output_type": "stream",
     "text": [
      "Loading citeseer dataset...\n",
      "Selecting 1 largest connected components\n"
     ]
    }
   ],
   "source": [
    "data_dr = Dataset(root='/tmp/', name='citeseer', setting='nettack')\n",
    "adj, features, labels = data_dr.adj, data_dr.features, data_dr.labels\n",
    "# idx_train, idx_val, idx_test = data_dr.idx_train, data_dr.idx_val, data_dr.idx_test\n",
    "idx_unlabeled = np.union1d(idx_val, idx_test)"
   ]
  },
  {
   "cell_type": "code",
   "execution_count": 5,
   "id": "7b3bc665-5140-46f0-bce3-9964efb948a0",
   "metadata": {},
   "outputs": [],
   "source": [
    "surrogate = GCN_DR(nfeat=features.shape[1], nclass=labels.max().item()+1, nhid=16,\n",
    "                with_relu=False, device=device)\n",
    "surrogate = surrogate.to(device)\n",
    "surrogate.fit(features, adj, labels, idx_train)"
   ]
  },
  {
   "cell_type": "code",
   "execution_count": 6,
   "id": "93445f95-4b4a-4a34-b9af-7a64697cbcd3",
   "metadata": {},
   "outputs": [],
   "source": [
    "ptb_rate = 0.1"
   ]
  },
  {
   "cell_type": "code",
   "execution_count": 7,
   "id": "0d20751f-ad8c-4498-b83d-cd1a54c7bf21",
   "metadata": {},
   "outputs": [
    {
     "name": "stdout",
     "output_type": "stream",
     "text": [
      "number of pertubations: 366\n"
     ]
    }
   ],
   "source": [
    "model = DICE()\n",
    "model = model.to(device)\n",
    "perturbations = int(ptb_rate * (adj.sum() // 2))\n",
    "model.attack(adj, labels, n_perturbations=perturbations)\n",
    "modified_adj = model.modified_adj"
   ]
  },
  {
   "cell_type": "markdown",
   "id": "013d1a25-f36c-4f2d-a131-a37230a2fc6e",
   "metadata": {},
   "source": [
    "### arch tests"
   ]
  },
  {
   "cell_type": "code",
   "execution_count": 18,
   "id": "4e0b5584-ef73-4f77-bd79-6c7ac9e6f0ee",
   "metadata": {},
   "outputs": [],
   "source": [
    "model = GCN(data.x.shape[1], cora_dataset.num_classes, [16]).to(device)"
   ]
  },
  {
   "cell_type": "code",
   "execution_count": 19,
   "id": "caaae491-a476-49cc-815c-6b6013c1d4f9",
   "metadata": {},
   "outputs": [],
   "source": [
    "model_save_path = \"../models/citeseer_gcn_model.pth\"\n",
    "list_save_path = \"../attacks/citeseer_gcn_edges.pth\""
   ]
  },
  {
   "cell_type": "code",
   "execution_count": 20,
   "id": "dd80d082-255d-48f1-b9db-f4ba5a0568cc",
   "metadata": {},
   "outputs": [],
   "source": [
    "model, edges_to_add, train = load_model_and_edges(model_save_path, list_save_path, model, device)"
   ]
  },
  {
   "cell_type": "code",
   "execution_count": 21,
   "id": "df4d5578-160d-4424-a66c-4ad88bada6b6",
   "metadata": {},
   "outputs": [
    {
     "name": "stdout",
     "output_type": "stream",
     "text": [
      "Initial Accuracy: 0.69\n",
      "Initial Loss: 1.2167096138000488\n"
     ]
    }
   ],
   "source": [
    "initial_loss, initial_accuracy = train.test(data)\n",
    "print(f\"Initial Accuracy: {initial_accuracy}\")\n",
    "print(f\"Initial Loss: {initial_loss}\")"
   ]
  },
  {
   "cell_type": "code",
   "execution_count": 22,
   "id": "5564fa7c-9e77-4f15-a94c-468423322388",
   "metadata": {},
   "outputs": [],
   "source": [
    "from scipy.sparse import csr_matrix\n",
    "\n",
    "adj1 = data_dr.adj.tocsr()\n",
    "adj2 = modified_adj.tocsr()\n",
    "\n",
    "arr_diff = (adj1 - adj2).tocoo()"
   ]
  },
  {
   "cell_type": "code",
   "execution_count": 23,
   "id": "4b540331-4573-4614-a240-f64cad8183cf",
   "metadata": {},
   "outputs": [
    {
     "data": {
      "text/plain": [
       "<2110x2110 sparse matrix of type '<class 'numpy.float32'>'\n",
       "\twith 732 stored elements in COOrdinate format>"
      ]
     },
     "execution_count": 23,
     "metadata": {},
     "output_type": "execute_result"
    }
   ],
   "source": [
    "arr_diff"
   ]
  },
  {
   "cell_type": "code",
   "execution_count": 24,
   "id": "c227fdc0-1fab-4a15-97ca-bd28c763b979",
   "metadata": {},
   "outputs": [],
   "source": [
    "data_modded = copy.deepcopy(data)"
   ]
  },
  {
   "cell_type": "code",
   "execution_count": 25,
   "id": "62738eaa-f69b-4ebe-8e0d-801230897553",
   "metadata": {},
   "outputs": [
    {
     "name": "stdout",
     "output_type": "stream",
     "text": [
      "9104\n",
      "732\n"
     ]
    }
   ],
   "source": [
    "# thanks gpt\n",
    "existing = data_modded.edge_index.t().cpu().numpy()\n",
    "\n",
    "diff_coo = arr_diff.tocoo()\n",
    "diff_edges = np.stack([diff_coo.row, diff_coo.col], axis=1)\n",
    "\n",
    "existing_set = set(map(tuple, existing))\n",
    "diff_set = set(map(tuple, diff_edges))\n",
    "diff_set_full = diff_set | set((v, u) for u, v in diff_set)\n",
    "\n",
    "cleaned_edges = existing_set - diff_set_full\n",
    "print(len(cleaned_edges))\n",
    "\n",
    "added_edges = diff_set_full - existing_set\n",
    "print(len(added_edges))\n",
    "\n",
    "final_edges = cleaned_edges | added_edges\n",
    "\n",
    "final_edges = torch.tensor(list(final_edges), dtype=torch.long).t().to(device)\n",
    "data_modded.edge_index = final_edges"
   ]
  },
  {
   "cell_type": "code",
   "execution_count": 26,
   "id": "a09bce75-78ca-47ef-b5b9-a9dc54ffe7ba",
   "metadata": {},
   "outputs": [
    {
     "data": {
      "text/plain": [
       "torch.Size([2, 9836])"
      ]
     },
     "execution_count": 26,
     "metadata": {},
     "output_type": "execute_result"
    }
   ],
   "source": [
    "data_modded.edge_index.size()"
   ]
  },
  {
   "cell_type": "code",
   "execution_count": 27,
   "id": "ee8f1b41-0856-4bd6-9493-d5a539f8a6d4",
   "metadata": {},
   "outputs": [
    {
     "name": "stdout",
     "output_type": "stream",
     "text": [
      "Evasion Change in Accuracy: -0.8696%\n",
      "Evasion Change in Loss: -1.8765%\n",
      "Epoch 0, Train Loss - 1.7888739109039307, Val Loss - 1.7302885055541992, Val Accuracy - 0.538\n",
      "Epoch 20, Train Loss - 0.10500776767730713, Val Loss - 1.2133896350860596, Val Accuracy - 0.61\n",
      "Epoch 40, Train Loss - 0.036458492279052734, Val Loss - 1.2351949214935303, Val Accuracy - 0.622\n",
      "Epoch 60, Train Loss - 0.045897211879491806, Val Loss - 1.2179068326950073, Val Accuracy - 0.634\n",
      "Epoch 80, Train Loss - 0.0548294261097908, Val Loss - 1.2183051109313965, Val Accuracy - 0.642\n",
      "Epoch 100, Train Loss - 0.03489895537495613, Val Loss - 1.197122573852539, Val Accuracy - 0.65\n",
      "Epoch 120, Train Loss - 0.028685038909316063, Val Loss - 1.2454395294189453, Val Accuracy - 0.642\n",
      "Epoch 140, Train Loss - 0.06237972527742386, Val Loss - 1.2419074773788452, Val Accuracy - 0.644\n",
      "Epoch 160, Train Loss - 0.01981065794825554, Val Loss - 1.2449619770050049, Val Accuracy - 0.642\n",
      "Epoch 180, Train Loss - 0.025235284119844437, Val Loss - 1.2940949201583862, Val Accuracy - 0.644\n",
      "Epoch 200, Train Loss - 0.015142847783863544, Val Loss - 1.332018256187439, Val Accuracy - 0.63\n",
      "Epoch 220, Train Loss - 0.024881714954972267, Val Loss - 1.288149118423462, Val Accuracy - 0.652\n",
      "Epoch 240, Train Loss - 0.022627949714660645, Val Loss - 1.2935571670532227, Val Accuracy - 0.654\n",
      "Epoch 260, Train Loss - 0.03260129317641258, Val Loss - 1.3096354007720947, Val Accuracy - 0.648\n",
      "Epoch 280, Train Loss - 0.024450983852148056, Val Loss - 1.3207920789718628, Val Accuracy - 0.646\n",
      "Epoch 300, Train Loss - 0.01421025488525629, Val Loss - 1.2812546491622925, Val Accuracy - 0.662\n",
      "Epoch 320, Train Loss - 0.03013470582664013, Val Loss - 1.3422824144363403, Val Accuracy - 0.654\n",
      "Epoch 340, Train Loss - 0.01585054211318493, Val Loss - 1.3184443712234497, Val Accuracy - 0.652\n",
      "Epoch 360, Train Loss - 0.022452915087342262, Val Loss - 1.3828288316726685, Val Accuracy - 0.666\n",
      "Epoch 380, Train Loss - 0.027650056406855583, Val Loss - 1.325989007949829, Val Accuracy - 0.656\n",
      "Epoch 400, Train Loss - 0.016592586413025856, Val Loss - 1.3779025077819824, Val Accuracy - 0.642\n",
      "Epoch 420, Train Loss - 0.02482449822127819, Val Loss - 1.3492628335952759, Val Accuracy - 0.662\n",
      "Epoch 440, Train Loss - 0.02201680652797222, Val Loss - 1.3428431749343872, Val Accuracy - 0.66\n",
      "Epoch 460, Train Loss - 0.021780291572213173, Val Loss - 1.4267512559890747, Val Accuracy - 0.642\n",
      "Epoch 480, Train Loss - 0.02450048178434372, Val Loss - 1.3256410360336304, Val Accuracy - 0.67\n",
      "Epoch 500, Train Loss - 0.026967862620949745, Val Loss - 1.4545409679412842, Val Accuracy - 0.65\n",
      "Epoch 520, Train Loss - 0.009592545218765736, Val Loss - 1.344436764717102, Val Accuracy - 0.664\n",
      "Epoch 540, Train Loss - 0.010640906170010567, Val Loss - 1.3465136289596558, Val Accuracy - 0.656\n",
      "Epoch 560, Train Loss - 0.014412806369364262, Val Loss - 1.3813430070877075, Val Accuracy - 0.652\n",
      "Epoch 580, Train Loss - 0.013154895976185799, Val Loss - 1.3602471351623535, Val Accuracy - 0.662\n",
      "Epoch 600, Train Loss - 0.043374624103307724, Val Loss - 1.3943971395492554, Val Accuracy - 0.648\n",
      "Epoch 620, Train Loss - 0.024890122935175896, Val Loss - 1.3720213174819946, Val Accuracy - 0.662\n",
      "Epoch 640, Train Loss - 0.01799812726676464, Val Loss - 1.4219096899032593, Val Accuracy - 0.646\n",
      "Epoch 660, Train Loss - 0.016108157113194466, Val Loss - 1.4207631349563599, Val Accuracy - 0.64\n",
      "Epoch 680, Train Loss - 0.026270892471075058, Val Loss - 1.434107780456543, Val Accuracy - 0.638\n",
      "Epoch 700, Train Loss - 0.016034316271543503, Val Loss - 1.3254016637802124, Val Accuracy - 0.658\n",
      "Epoch 720, Train Loss - 0.037330906838178635, Val Loss - 1.3994406461715698, Val Accuracy - 0.662\n",
      "Epoch 740, Train Loss - 0.033250559121370316, Val Loss - 1.3530480861663818, Val Accuracy - 0.672\n",
      "Epoch 760, Train Loss - 0.033675774931907654, Val Loss - 1.410171389579773, Val Accuracy - 0.65\n",
      "Epoch 780, Train Loss - 0.017568418756127357, Val Loss - 1.3272995948791504, Val Accuracy - 0.664\n",
      "Epoch 800, Train Loss - 0.01148365531116724, Val Loss - 1.333011507987976, Val Accuracy - 0.664\n",
      "Epoch 820, Train Loss - 0.0253647081553936, Val Loss - 1.3737293481826782, Val Accuracy - 0.652\n",
      "Epoch 840, Train Loss - 0.023735828697681427, Val Loss - 1.3432073593139648, Val Accuracy - 0.65\n",
      "Epoch 860, Train Loss - 0.013564602471888065, Val Loss - 1.370949387550354, Val Accuracy - 0.658\n",
      "Epoch 880, Train Loss - 0.014568581245839596, Val Loss - 1.4186122417449951, Val Accuracy - 0.648\n",
      "Epoch 900, Train Loss - 0.024218600243330002, Val Loss - 1.4097557067871094, Val Accuracy - 0.656\n",
      "Epoch 920, Train Loss - 0.010384669527411461, Val Loss - 1.4474490880966187, Val Accuracy - 0.646\n",
      "Epoch 940, Train Loss - 0.01647433079779148, Val Loss - 1.4043623208999634, Val Accuracy - 0.66\n",
      "Epoch 960, Train Loss - 0.02308514714241028, Val Loss - 1.4819352626800537, Val Accuracy - 0.658\n",
      "Epoch 980, Train Loss - 0.026628928259015083, Val Loss - 1.3856431245803833, Val Accuracy - 0.644\n",
      "Epoch 1000, Train Loss - 0.02663145400583744, Val Loss - 1.403078317642212, Val Accuracy - 0.652\n",
      "Loaded best model with Val Accuracy: 0.6760\n",
      "Poisoning Change in Accuracy: -4.3478%\n",
      "Poisoning Change in Loss: 4.5885%\n"
     ]
    }
   ],
   "source": [
    "new_loss, new_accuracy = train.test(data_modded)\n",
    "\n",
    "print(f\"Evasion Change in Accuracy: {(100 * ((new_accuracy - initial_accuracy) / initial_accuracy)):.4f}%\")\n",
    "print(f\"Evasion Change in Loss: {(100 * ((new_loss - initial_loss) / initial_loss)):.4f}%\")\n",
    "\n",
    "### poisoning\n",
    "model_poisoning = GCN(data_modded.x.shape[1], cora_dataset.num_classes, [16]).to(device)\n",
    "model_poisoning.reset_parameters()\n",
    "train_modded = Trainable(model_poisoning)\n",
    "train_modded.fit(data_modded, 1000)\n",
    "\n",
    "poisoning_loss, poisoning_accuracy = train_modded.test(data_modded)\n",
    "print(f\"Poisoning Change in Accuracy: {(100 * ((poisoning_accuracy - initial_accuracy) / initial_accuracy)):.4f}%\")\n",
    "print(f\"Poisoning Change in Loss: {(100 * ((poisoning_loss - initial_loss) / initial_loss)):.4f}%\")"
   ]
  }
 ],
 "metadata": {
  "kernelspec": {
   "display_name": "Python 3 (ipykernel)",
   "language": "python",
   "name": "python3"
  },
  "language_info": {
   "codemirror_mode": {
    "name": "ipython",
    "version": 3
   },
   "file_extension": ".py",
   "mimetype": "text/x-python",
   "name": "python",
   "nbconvert_exporter": "python",
   "pygments_lexer": "ipython3",
   "version": "3.8.18"
  }
 },
 "nbformat": 4,
 "nbformat_minor": 5
}
