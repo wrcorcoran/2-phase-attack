{
 "cells": [
  {
   "cell_type": "code",
   "execution_count": null,
   "id": "cbc284fc-8e46-4645-bb36-6f79054e5e53",
   "metadata": {},
   "outputs": [],
   "source": [
    "from greedy_mcmc_attack import *\n",
    "from data_collection.recordings import *\n",
    "import sys\n",
    "sys.path.append(\"../../\")\n",
    "from src.models.gcn import *\n",
    "from src.models.gat import *\n",
    "from src.models.gsage import *"
   ]
  },
  {
   "cell_type": "code",
   "execution_count": null,
   "id": "b484ec46-7057-4bcf-b042-f76d632d7dcb",
   "metadata": {},
   "outputs": [],
   "source": [
    "device = \"cuda\" if torch.cuda.is_available() else \"cpu\""
   ]
  },
  {
   "cell_type": "code",
   "execution_count": null,
   "id": "8e03370f-1e5a-45ce-a6c4-6577604acf39",
   "metadata": {},
   "outputs": [],
   "source": [
    "# dataset_directory = \"../Citeseer\"\n",
    "citeseer_dataset = Planetoid(root='', name='Citeseer')\n",
    "data = citeseer_dataset[0].to(device)\n",
    "print(data)"
   ]
  },
  {
   "cell_type": "code",
   "execution_count": 1,
   "id": "8254a6d9-10c0-48cb-93d8-e362eff96b0a",
   "metadata": {},
   "outputs": [],
   "source": [
    "trials = 5"
   ]
  },
  {
   "cell_type": "code",
   "execution_count": null,
   "id": "f17fd5eb-4632-4d81-8f51-ade39a1a3007",
   "metadata": {},
   "outputs": [],
   "source": [
    "edges_to_add = None"
   ]
  },
  {
   "cell_type": "code",
   "execution_count": null,
   "id": "e08cf2cd-3107-4fc4-abba-0bf6224d3c3b",
   "metadata": {},
   "outputs": [],
   "source": [
    "model = GCN(data.x.shape[1], citeseer_dataset.num_classes, [16]).to(device)"
   ]
  },
  {
   "cell_type": "code",
   "execution_count": null,
   "id": "ebee2287-3fc4-4710-99fd-a6499fde0a54",
   "metadata": {},
   "outputs": [],
   "source": [
    "model_save_path = \"../models/citeseer_gcn_model.pth\"\n",
    "list_save_path = \"../attacks/citeseer_gcn_edges_full_run.pth\"\n",
    "# # multi_metattack_edges_list.pth\n",
    "# list_save_path = \"multi_metattack_edges_list.pth\""
   ]
  },
  {
   "cell_type": "code",
   "execution_count": null,
   "id": "ef3f201c-a315-427b-882d-c5e73dbad164",
   "metadata": {},
   "outputs": [],
   "source": [
    "model, edges_to_add, train = load_model_and_edges(model_save_path, list_save_path, model, device)"
   ]
  },
  {
   "cell_type": "code",
   "execution_count": null,
   "id": "837669c2-a06f-4e8c-8629-4083497e088e",
   "metadata": {},
   "outputs": [],
   "source": [
    "# Get initial accuracy\n",
    "initial_loss, initial_accuracy = train.test(data)\n",
    "print(f\"Initial Accuracy: {initial_accuracy}\")\n",
    "print(f\"Initial Loss: {initial_loss}\")"
   ]
  },
  {
   "cell_type": "code",
   "execution_count": null,
   "id": "de652b4f-cff6-41db-8e78-29644d232917",
   "metadata": {},
   "outputs": [],
   "source": [
    "G, initial_edge_count, ptb_rate, budget = initialize(data, _ptb_rate=0.05)"
   ]
  },
  {
   "cell_type": "code",
   "execution_count": null,
   "id": "5ad3a8ce-a31e-4183-bdbc-60d41a0b3ec6",
   "metadata": {},
   "outputs": [],
   "source": [
    "full_metattack_acc, full_metattack_loss, full_metattack_itrs = [], [], []\n",
    "for _ in range(trials):\n",
    "    acc, loss, itrs = two_phase_attack_mcmc_poisoning(data, train, model, 0.0, edges_to_add, binary_fn, constant_fn, device, is_reversed=False, verbose=True)\n",
    "    full_metattack_acc.append(acc)\n",
    "    full_metattack_loss.append(loss)\n",
    "    full_metattack_itrs.append(itrs)"
   ]
  },
  {
   "cell_type": "markdown",
   "id": "1bf3a801-f644-478f-af37-b1d672de1570",
   "metadata": {},
   "source": [
    "# regular, secondary attack, not reversed"
   ]
  },
  {
   "cell_type": "code",
   "execution_count": null,
   "id": "01ce1d12-3cd2-476f-b9b6-f1ee46145e4b",
   "metadata": {},
   "outputs": [],
   "source": [
    "splits = [0.0, 0.5]\n",
    "# splits = [0.0, 0.5, 0.7, 0.9]\n",
    "# splits = [0.9]\n",
    "split_dic_acc = defaultdict(lambda: defaultdict(list))\n",
    "split_dic_loss = defaultdict(lambda: defaultdict(list))\n",
    "itrs_one = defaultdict(lambda: defaultdict(int))"
   ]
  },
  {
   "cell_type": "code",
   "execution_count": null,
   "id": "1ca9d53e-b66d-42fb-bb6c-9cfcedde7a3e",
   "metadata": {
    "scrolled": true
   },
   "outputs": [],
   "source": [
    "for s in splits:\n",
    "    for j in range(trials):\n",
    "        if s == 0.0:\n",
    "            split_dic_acc[s][j], split_dic_loss[s][j], itrs_one[s][j] = full_metattack_acc[j], full_metattack_loss[j], full_metattack_itrs[j]\n",
    "        else:\n",
    "            split_dic_acc[s][j], split_dic_loss[s][j], itrs_one[s][j] = two_phase_attack_mcmc_poisoning(data, train, model, s, edges_to_add, binary_fn, constant_fn, device, is_reversed=False, verbose=True)"
   ]
  },
  {
   "cell_type": "code",
   "execution_count": null,
   "id": "426e8230-4314-4f97-9ba8-2c4ce88a5b16",
   "metadata": {},
   "outputs": [],
   "source": [
    "split_dic_acc = dict(split_dic_acc)\n",
    "split_dic_loss = dict(split_dic_loss)\n",
    "itrs_one = dict(itrs_one)"
   ]
  },
  {
   "cell_type": "code",
   "execution_count": null,
   "id": "5158de82-c636-471a-88b4-d652daeae0e9",
   "metadata": {},
   "outputs": [],
   "source": [
    "record1 = Recording(split_dic_loss, split_dic_acc, itrs_one, Model.GCN, Dataset.CITESEER, AcceptFn.CONSTANT, SelectFn.BINARY, Reverse.ATTACKED)\n",
    "record1.save(f'data_collection/{\"poisoning\"}_{\"mcmc\"}_{\"gcn\"}_{\"citeseer\"}_{\"constant\"}_{\"binary\"}_{\"attacked\"}_results.pkl')"
   ]
  },
  {
   "cell_type": "code",
   "execution_count": null,
   "id": "aab17342-ef23-497c-8283-ac76ea8f32e6",
   "metadata": {},
   "outputs": [],
   "source": [
    "# plot_results(split_dic_acc, ptb_rate, \"MCMC\", \"binary\", \"constant\", \"accuracy\", \"regular\")"
   ]
  },
  {
   "cell_type": "code",
   "execution_count": null,
   "id": "29656bc7-6361-4342-bc6f-f0d40ae5ffc8",
   "metadata": {},
   "outputs": [],
   "source": [
    "# plot_results(split_dic_loss, ptb_rate, \"MCMC\", \"binary\", \"constant\", \"loss\", \"regular\")"
   ]
  },
  {
   "cell_type": "markdown",
   "id": "d1f3b467-1160-45d3-bd50-2e4a4d473b6a",
   "metadata": {},
   "source": [
    "##### ideally, we could show some metric, where (change in loss after hidden for %) > (% * max change in loss)"
   ]
  },
  {
   "cell_type": "code",
   "execution_count": null,
   "id": "0bf054d8-566a-44ca-a8fc-194878368373",
   "metadata": {},
   "outputs": [],
   "source": [
    "split_dic_decreasing_acc = defaultdict(lambda: defaultdict(list))\n",
    "itrs_two = defaultdict(lambda: defaultdict(int))\n",
    "split_dic_decreasing_loss = defaultdict(lambda: defaultdict(list))"
   ]
  },
  {
   "cell_type": "code",
   "execution_count": null,
   "id": "ee71e6c2-4494-42d4-98fd-c0a10495c87d",
   "metadata": {},
   "outputs": [],
   "source": [
    "for s in splits:\n",
    "    for j in range(trials):\n",
    "        if s == 0.0:\n",
    "            split_dic_decreasing_acc[s][j], split_dic_decreasing_loss[s][j], itrs_two[s][j] = full_metattack_acc[j], full_metattack_loss[j], full_metattack_itrs[j]\n",
    "        else:\n",
    "            split_dic_decreasing_acc[s][j], split_dic_decreasing_loss[s][j], itrs_two[s][j] = two_phase_attack_mcmc_poisoning(data, train, model, s, edges_to_add, binary_fn, increasing_fn, device, is_reversed=False, verbose=True)"
   ]
  },
  {
   "cell_type": "code",
   "execution_count": null,
   "id": "626a37ee-f2fd-44a9-b2ae-05297cf88f48",
   "metadata": {},
   "outputs": [],
   "source": [
    "split_dic_decreasing_acc = dict(split_dic_decreasing_acc)\n",
    "split_dic_decreasing_loss = dict(split_dic_decreasing_loss)\n",
    "itrs_two = dict(itrs_two)"
   ]
  },
  {
   "cell_type": "code",
   "execution_count": null,
   "id": "e5d49ae7-8750-4167-90b7-1f9ede26c473",
   "metadata": {},
   "outputs": [],
   "source": [
    "record1 = Recording(split_dic_decreasing_loss, split_dic_decreasing_acc, itrs_two, Model.GCN, Dataset.CITESEER, AcceptFn.INCREASING, SelectFn.BINARY, Reverse.ATTACKED)\n",
    "record1.save(f'data_collection/{\"poisoning\"}_{\"mcmc\"}_{\"gcn\"}_{\"citeseer\"}_{\"increasing\"}_{\"binary\"}_{\"attacked\"}_results.pkl')"
   ]
  },
  {
   "cell_type": "code",
   "execution_count": null,
   "id": "0e1a048d-5a43-4d9e-b759-452571d6542c",
   "metadata": {},
   "outputs": [],
   "source": [
    "# plot_results(split_dic_decreasing_acc, ptb_rate, \"MCMC\", \"binary\", \"increasing\", \"accuracy\", \"regular\")"
   ]
  },
  {
   "cell_type": "code",
   "execution_count": null,
   "id": "7383f4a6-8e55-44a5-9328-cf00bc09f4f5",
   "metadata": {},
   "outputs": [],
   "source": [
    "# plot_results(split_dic_decreasing_loss, ptb_rate, \"MCMC\", \"binary\", \"increasing\", \"loss\", \"regular\")"
   ]
  },
  {
   "cell_type": "code",
   "execution_count": null,
   "id": "7a7a2b74-a236-4df7-a7ff-5c1b98b4d4e1",
   "metadata": {},
   "outputs": [],
   "source": [
    "split_dic_decreasing_constant_acc = defaultdict(lambda: defaultdict(list))\n",
    "split_dic_decreasing_constant_loss = defaultdict(lambda: defaultdict(list))\n",
    "itrs_three = defaultdict(lambda: defaultdict(int))"
   ]
  },
  {
   "cell_type": "code",
   "execution_count": null,
   "id": "9bdd788c-d5a1-461f-b792-18080e2dee19",
   "metadata": {},
   "outputs": [],
   "source": [
    "for s in splits:\n",
    "    for j in range(trials):\n",
    "        if s == 0.0:\n",
    "            split_dic_decreasing_constant_acc[s][j], split_dic_decreasing_constant_loss[s][j], itrs_three[s][j] = full_metattack_acc[j], full_metattack_loss[j], full_metattack_itrs[j]\n",
    "        else:\n",
    "            split_dic_decreasing_constant_acc[s][j], split_dic_decreasing_constant_loss[s][j], itrs_three[s][j] = two_phase_attack_mcmc_poisoning(data, train, model, s, edges_to_add, decreasing_fn, constant_fn, device, is_reversed=False, verbose=True)"
   ]
  },
  {
   "cell_type": "code",
   "execution_count": null,
   "id": "250db2fb-4e9e-42c4-afc8-6af0d0297f78",
   "metadata": {},
   "outputs": [],
   "source": [
    "split_dic_decreasing_constant_acc = dict(split_dic_decreasing_constant_acc)\n",
    "split_dic_decreasing_constant_loss = dict(split_dic_decreasing_constant_loss)\n",
    "itrs_three = dict(itrs_three)"
   ]
  },
  {
   "cell_type": "code",
   "execution_count": null,
   "id": "6d58e8a5-66ec-4373-b06c-45e896bd3928",
   "metadata": {},
   "outputs": [],
   "source": [
    "record1 = Recording(split_dic_decreasing_constant_loss, split_dic_decreasing_constant_acc, itrs_three, Model.GCN, Dataset.CITESEER, AcceptFn.CONSTANT, SelectFn.DECAYING, Reverse.ATTACKED)\n",
    "record1.save(f'data_collection/{\"poisoning\"}_{\"mcmc\"}_{\"gcn\"}_{\"citeseer\"}_{\"constant\"}_{\"decaying\"}_{\"attacked\"}_results.pkl')"
   ]
  },
  {
   "cell_type": "code",
   "execution_count": null,
   "id": "c85298c0-9354-4395-9d73-0a064156e9c8",
   "metadata": {},
   "outputs": [],
   "source": [
    "# plot_results(split_dic_decreasing_constant_acc, ptb_rate, \"MCMC\", \"decaying\", \"constant\", \"accuracy\", \"regular\")"
   ]
  },
  {
   "cell_type": "code",
   "execution_count": null,
   "id": "7edbbd36-3300-4910-84bf-fb25ee148dce",
   "metadata": {},
   "outputs": [],
   "source": [
    "# plot_results(split_dic_decreasing_constant_loss, ptb_rate, \"MCMC\", \"decaying\", \"constant\", \"loss\", \"regular\")"
   ]
  },
  {
   "cell_type": "code",
   "execution_count": null,
   "id": "7b0b7094-9a73-44d1-9b93-1e06559a9e68",
   "metadata": {},
   "outputs": [],
   "source": [
    "split_dic_decreasing_gradual_acc = defaultdict(lambda: defaultdict(list))\n",
    "split_dic_decreasing_gradual_loss = defaultdict(lambda: defaultdict(list))\n",
    "itrs_four = defaultdict(lambda: defaultdict(int))"
   ]
  },
  {
   "cell_type": "code",
   "execution_count": null,
   "id": "68bea7a9-1b1b-4ed4-86f5-e8922a4aca7f",
   "metadata": {},
   "outputs": [],
   "source": [
    "for s in splits:\n",
    "    for j in range(trials):\n",
    "        if s == 0.0:\n",
    "            split_dic_decreasing_gradual_acc[s][j], split_dic_decreasing_gradual_loss[s][j], itrs_four[s][j] = full_metattack_acc[j], full_metattack_loss[j], full_metattack_itrs[j]\n",
    "        else:\n",
    "            split_dic_decreasing_gradual_acc[s][j], split_dic_decreasing_gradual_loss[s][j], itrs_four[s][j] = two_phase_attack_mcmc_poisoning(data, train, model, s, edges_to_add, decreasing_fn, increasing_fn, device, is_reversed=False, verbose=True)"
   ]
  },
  {
   "cell_type": "code",
   "execution_count": null,
   "id": "5cf98bb1-844c-421c-8b11-b0958ec87f57",
   "metadata": {},
   "outputs": [],
   "source": [
    "split_dic_decreasing_gradual_acc = dict(split_dic_decreasing_gradual_acc)\n",
    "split_dic_decreasing_gradual_loss = dict(split_dic_decreasing_gradual_loss)\n",
    "itrs_four = dict(itrs_four)"
   ]
  },
  {
   "cell_type": "code",
   "execution_count": null,
   "id": "9c11d39b-1954-4c81-bf35-94b9d47270a3",
   "metadata": {},
   "outputs": [],
   "source": [
    "record1 = Recording(split_dic_decreasing_gradual_loss, split_dic_decreasing_gradual_acc, itrs_four, Model.GCN, Dataset.CITESEER, AcceptFn.CONSTANT, SelectFn.DECAYING, Reverse.ATTACKED)\n",
    "record1.save(f'data_collection/{\"poisoning\"}_{\"mcmc\"}_{\"gcn\"}_{\"citeseer\"}_{\"increasing\"}_{\"decaying\"}_{\"attacked\"}_results.pkl')"
   ]
  },
  {
   "cell_type": "code",
   "execution_count": null,
   "id": "3f7f093b-2d88-46b3-b668-01566c8e8516",
   "metadata": {},
   "outputs": [],
   "source": [
    "# plot_results(split_dic_decreasing_gradual_acc, ptb_rate, \"MCMC\", \"decaying\", \"increasing\", \"accuracy\", \"regular\")"
   ]
  },
  {
   "cell_type": "code",
   "execution_count": null,
   "id": "6f174c07-8a32-4102-8290-bf50e8ebf934",
   "metadata": {},
   "outputs": [],
   "source": [
    "# plot_results(split_dic_decreasing_gradual_loss, ptb_rate, \"MCMC\", \"decaying\", \"increasing\", \"accuracy\", \"regular\")"
   ]
  }
 ],
 "metadata": {
  "kernelspec": {
   "display_name": "Python 3 (ipykernel)",
   "language": "python",
   "name": "python3"
  },
  "language_info": {
   "codemirror_mode": {
    "name": "ipython",
    "version": 3
   },
   "file_extension": ".py",
   "mimetype": "text/x-python",
   "name": "python",
   "nbconvert_exporter": "python",
   "pygments_lexer": "ipython3",
   "version": "3.8.18"
  }
 },
 "nbformat": 4,
 "nbformat_minor": 5
}
