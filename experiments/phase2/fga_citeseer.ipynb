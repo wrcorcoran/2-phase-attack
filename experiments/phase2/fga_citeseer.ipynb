{
 "cells": [
  {
   "cell_type": "code",
   "execution_count": 1,
   "id": "7b436979-f710-444b-baf9-caba91a93626",
   "metadata": {},
   "outputs": [],
   "source": [
    "import torch\n",
    "import numpy as np\n",
    "from deeprobust.graph.data import Dataset\n",
    "from deeprobust.graph.defense import GCN as GCN_DR\n",
    "from deeprobust.graph.targeted_attack import FGA"
   ]
  },
  {
   "cell_type": "code",
   "execution_count": 2,
   "id": "baf1bf7c-fb38-41b4-8037-d4d2195e74d7",
   "metadata": {},
   "outputs": [],
   "source": [
    "from greedy_mcmc_attack import *\n",
    "from collections import defaultdict\n",
    "device = torch.device(\"cuda:0\" if torch.cuda.is_available() else \"cpu\")"
   ]
  },
  {
   "cell_type": "code",
   "execution_count": 3,
   "id": "398e36c6-0370-4e71-9bcd-1907e9f4cc8f",
   "metadata": {},
   "outputs": [
    {
     "name": "stdout",
     "output_type": "stream",
     "text": [
      "Data(x=[3327, 3703], edge_index=[2, 9104], y=[3327], train_mask=[3327], val_mask=[3327], test_mask=[3327])\n"
     ]
    }
   ],
   "source": [
    "cora_dataset = Planetoid(root='', name='Citeseer')\n",
    "data = cora_dataset[0].to(device)\n",
    "print(data)\n",
    "idx_train, idx_val, idx_test = data.train_mask.nonzero(as_tuple=True)[0].tolist(), data.val_mask.nonzero(as_tuple=True)[0].tolist(), data.test_mask.nonzero(as_tuple=True)[0].tolist()"
   ]
  },
  {
   "cell_type": "code",
   "execution_count": 4,
   "id": "4ec0d645-a3c4-4bd6-b227-f7ff724bde18",
   "metadata": {},
   "outputs": [
    {
     "name": "stdout",
     "output_type": "stream",
     "text": [
      "Loading citeseer dataset...\n",
      "Selecting 1 largest connected components\n"
     ]
    }
   ],
   "source": [
    "data_dr = Dataset(root='/tmp/', name='citeseer', setting='nettack')\n",
    "adj, features, labels = data_dr.adj, data_dr.features, data_dr.labels\n",
    "# idx_train, idx_val, idx_test = data_dr.idx_train, data_dr.idx_val, data_dr.idx_test\n",
    "idx_unlabeled = np.union1d(idx_val, idx_test)"
   ]
  },
  {
   "cell_type": "code",
   "execution_count": 5,
   "id": "34db0cab-0c09-4bbb-b494-5fe1227d291a",
   "metadata": {},
   "outputs": [],
   "source": [
    "degrees = np.array(adj.sum(axis=1)).flatten()\n",
    "max_degree_vertex = degrees.argmax()"
   ]
  },
  {
   "cell_type": "code",
   "execution_count": 6,
   "id": "7b3bc665-5140-46f0-bce3-9964efb948a0",
   "metadata": {},
   "outputs": [],
   "source": [
    "surrogate = GCN_DR(nfeat=features.shape[1], nclass=labels.max().item()+1, nhid=16,\n",
    "                with_relu=False, device=device)\n",
    "surrogate = surrogate.to(device)\n",
    "surrogate.fit(features, adj, labels, idx_train)"
   ]
  },
  {
   "cell_type": "code",
   "execution_count": 7,
   "id": "93445f95-4b4a-4a34-b9af-7a64697cbcd3",
   "metadata": {},
   "outputs": [],
   "source": [
    "ptb_rate = 0.1"
   ]
  },
  {
   "cell_type": "code",
   "execution_count": 8,
   "id": "0d20751f-ad8c-4498-b83d-cd1a54c7bf21",
   "metadata": {},
   "outputs": [],
   "source": [
    "model = FGA(surrogate, nnodes=adj.shape[0], attack_structure=True, attack_features=False, device=device)\n",
    "model = model.to(device)\n",
    "perturbations = int(ptb_rate * (adj.sum() // 2))\n",
    "model.attack(features, adj, labels, idx_train, max_degree_vertex, n_perturbations=perturbations)\n",
    "modified_adj = model.modified_adj"
   ]
  },
  {
   "cell_type": "markdown",
   "id": "013d1a25-f36c-4f2d-a131-a37230a2fc6e",
   "metadata": {},
   "source": [
    "### arch tests"
   ]
  },
  {
   "cell_type": "code",
   "execution_count": 18,
   "id": "4e0b5584-ef73-4f77-bd79-6c7ac9e6f0ee",
   "metadata": {},
   "outputs": [],
   "source": [
    "model = GCN(data.x.shape[1], cora_dataset.num_classes, [16]).to(device)"
   ]
  },
  {
   "cell_type": "code",
   "execution_count": 19,
   "id": "caaae491-a476-49cc-815c-6b6013c1d4f9",
   "metadata": {},
   "outputs": [],
   "source": [
    "model_save_path = \"../models/citeseer_gcn_model.pth\"\n",
    "list_save_path = \"../attacks/citeseer_gcn_edges.pth\""
   ]
  },
  {
   "cell_type": "code",
   "execution_count": 20,
   "id": "dd80d082-255d-48f1-b9db-f4ba5a0568cc",
   "metadata": {},
   "outputs": [],
   "source": [
    "model, edges_to_add, train = load_model_and_edges(model_save_path, list_save_path, model, device)"
   ]
  },
  {
   "cell_type": "code",
   "execution_count": 21,
   "id": "df4d5578-160d-4424-a66c-4ad88bada6b6",
   "metadata": {},
   "outputs": [
    {
     "name": "stdout",
     "output_type": "stream",
     "text": [
      "Initial Accuracy: 0.69\n",
      "Initial Loss: 1.2167096138000488\n"
     ]
    }
   ],
   "source": [
    "initial_loss, initial_accuracy = train.test(data)\n",
    "print(f\"Initial Accuracy: {initial_accuracy}\")\n",
    "print(f\"Initial Loss: {initial_loss}\")"
   ]
  },
  {
   "cell_type": "code",
   "execution_count": 22,
   "id": "5564fa7c-9e77-4f15-a94c-468423322388",
   "metadata": {},
   "outputs": [],
   "source": [
    "from scipy.sparse import csr_matrix\n",
    "\n",
    "adj1 = data_dr.adj.tocsr()\n",
    "adj2 = modified_adj.tocsr()\n",
    "\n",
    "arr_diff = (adj1 - adj2).tocoo()"
   ]
  },
  {
   "cell_type": "code",
   "execution_count": 23,
   "id": "4b540331-4573-4614-a240-f64cad8183cf",
   "metadata": {
    "scrolled": true
   },
   "outputs": [
    {
     "data": {
      "text/plain": [
       "<2110x2110 sparse matrix of type '<class 'numpy.float32'>'\n",
       "\twith 732 stored elements in COOrdinate format>"
      ]
     },
     "execution_count": 23,
     "metadata": {},
     "output_type": "execute_result"
    }
   ],
   "source": [
    "arr_diff"
   ]
  },
  {
   "cell_type": "code",
   "execution_count": 24,
   "id": "c227fdc0-1fab-4a15-97ca-bd28c763b979",
   "metadata": {},
   "outputs": [],
   "source": [
    "data_modded = copy.deepcopy(data)"
   ]
  },
  {
   "cell_type": "code",
   "execution_count": 25,
   "id": "90c753fb-3b76-49ad-b5b8-001b1b61a760",
   "metadata": {},
   "outputs": [
    {
     "name": "stdout",
     "output_type": "stream",
     "text": [
      "9104\n",
      "732\n"
     ]
    }
   ],
   "source": [
    "# thanks gpt\n",
    "existing = data_modded.edge_index.t().cpu().numpy()\n",
    "\n",
    "diff_coo = arr_diff.tocoo()\n",
    "diff_edges = np.stack([diff_coo.row, diff_coo.col], axis=1)\n",
    "\n",
    "existing_set = set(map(tuple, existing))\n",
    "diff_set = set(map(tuple, diff_edges))\n",
    "diff_set_full = diff_set | set((v, u) for u, v in diff_set)\n",
    "\n",
    "cleaned_edges = existing_set - diff_set_full\n",
    "print(len(cleaned_edges))\n",
    "\n",
    "added_edges = diff_set_full - existing_set\n",
    "print(len(added_edges))\n",
    "\n",
    "final_edges = cleaned_edges | added_edges\n",
    "\n",
    "final_edges = torch.tensor(list(final_edges), dtype=torch.long).t().to(device)\n",
    "data_modded.edge_index = final_edges"
   ]
  },
  {
   "cell_type": "code",
   "execution_count": 26,
   "id": "ee8f1b41-0856-4bd6-9493-d5a539f8a6d4",
   "metadata": {},
   "outputs": [
    {
     "name": "stdout",
     "output_type": "stream",
     "text": [
      "Evasion Change in Accuracy: -0.1449%\n",
      "Evasion Change in Loss: -1.7357%\n",
      "Epoch 0, Train Loss - 1.7856364250183105, Val Loss - 1.72316312789917, Val Accuracy - 0.506\n",
      "Epoch 20, Train Loss - 0.11799069494009018, Val Loss - 1.0272996425628662, Val Accuracy - 0.666\n",
      "Epoch 40, Train Loss - 0.05477059260010719, Val Loss - 1.096648931503296, Val Accuracy - 0.68\n",
      "Epoch 60, Train Loss - 0.04265357181429863, Val Loss - 1.0711075067520142, Val Accuracy - 0.678\n",
      "Epoch 80, Train Loss - 0.07732152193784714, Val Loss - 1.0922363996505737, Val Accuracy - 0.678\n",
      "Epoch 100, Train Loss - 0.07432007044553757, Val Loss - 1.1023225784301758, Val Accuracy - 0.686\n",
      "Epoch 120, Train Loss - 0.03718380630016327, Val Loss - 1.133830189704895, Val Accuracy - 0.68\n",
      "Epoch 140, Train Loss - 0.054592110216617584, Val Loss - 1.1571366786956787, Val Accuracy - 0.684\n",
      "Epoch 160, Train Loss - 0.03617800027132034, Val Loss - 1.1248778104782104, Val Accuracy - 0.684\n",
      "Epoch 180, Train Loss - 0.03651595488190651, Val Loss - 1.203403353691101, Val Accuracy - 0.684\n",
      "Epoch 200, Train Loss - 0.04586227610707283, Val Loss - 1.1493358612060547, Val Accuracy - 0.698\n",
      "Epoch 220, Train Loss - 0.03741829842329025, Val Loss - 1.1586005687713623, Val Accuracy - 0.696\n",
      "Epoch 240, Train Loss - 0.029385438188910484, Val Loss - 1.1816048622131348, Val Accuracy - 0.676\n",
      "Epoch 260, Train Loss - 0.02328317239880562, Val Loss - 1.1653963327407837, Val Accuracy - 0.694\n",
      "Epoch 280, Train Loss - 0.04269738495349884, Val Loss - 1.2286282777786255, Val Accuracy - 0.676\n",
      "Epoch 300, Train Loss - 0.036722421646118164, Val Loss - 1.2870584726333618, Val Accuracy - 0.67\n",
      "Epoch 320, Train Loss - 0.040768444538116455, Val Loss - 1.2158198356628418, Val Accuracy - 0.684\n",
      "Epoch 340, Train Loss - 0.02793062850832939, Val Loss - 1.2533602714538574, Val Accuracy - 0.676\n",
      "Epoch 360, Train Loss - 0.02163257636129856, Val Loss - 1.2771639823913574, Val Accuracy - 0.676\n",
      "Epoch 380, Train Loss - 0.025154966861009598, Val Loss - 1.2695729732513428, Val Accuracy - 0.676\n",
      "Epoch 400, Train Loss - 0.01645551435649395, Val Loss - 1.234214425086975, Val Accuracy - 0.678\n",
      "Epoch 420, Train Loss - 0.03180190548300743, Val Loss - 1.2752039432525635, Val Accuracy - 0.682\n",
      "Epoch 440, Train Loss - 0.013126369565725327, Val Loss - 1.2735427618026733, Val Accuracy - 0.676\n",
      "Epoch 460, Train Loss - 0.039379384368658066, Val Loss - 1.275084137916565, Val Accuracy - 0.676\n",
      "Epoch 480, Train Loss - 0.020460497587919235, Val Loss - 1.2892223596572876, Val Accuracy - 0.68\n",
      "Epoch 500, Train Loss - 0.032999854534864426, Val Loss - 1.3102059364318848, Val Accuracy - 0.67\n",
      "Epoch 520, Train Loss - 0.017547430470585823, Val Loss - 1.2125357389450073, Val Accuracy - 0.698\n",
      "Epoch 540, Train Loss - 0.03304314985871315, Val Loss - 1.2474195957183838, Val Accuracy - 0.692\n",
      "Epoch 560, Train Loss - 0.017550664022564888, Val Loss - 1.289728045463562, Val Accuracy - 0.682\n",
      "Epoch 580, Train Loss - 0.016582375392317772, Val Loss - 1.296589970588684, Val Accuracy - 0.666\n",
      "Epoch 600, Train Loss - 0.019658604636788368, Val Loss - 1.2976748943328857, Val Accuracy - 0.68\n",
      "Epoch 620, Train Loss - 0.01592062972486019, Val Loss - 1.2750709056854248, Val Accuracy - 0.692\n",
      "Epoch 640, Train Loss - 0.015318287536501884, Val Loss - 1.315409779548645, Val Accuracy - 0.67\n",
      "Epoch 660, Train Loss - 0.029474835842847824, Val Loss - 1.343275547027588, Val Accuracy - 0.676\n",
      "Epoch 680, Train Loss - 0.032985541969537735, Val Loss - 1.2734544277191162, Val Accuracy - 0.702\n",
      "Epoch 700, Train Loss - 0.015266853384673595, Val Loss - 1.2826544046401978, Val Accuracy - 0.688\n",
      "Epoch 720, Train Loss - 0.020779233425855637, Val Loss - 1.2764426469802856, Val Accuracy - 0.692\n",
      "Epoch 740, Train Loss - 0.022929418832063675, Val Loss - 1.3031748533248901, Val Accuracy - 0.682\n",
      "Epoch 760, Train Loss - 0.04127306491136551, Val Loss - 1.3359200954437256, Val Accuracy - 0.678\n",
      "Epoch 780, Train Loss - 0.039152275770902634, Val Loss - 1.2995022535324097, Val Accuracy - 0.662\n",
      "Epoch 800, Train Loss - 0.022775346413254738, Val Loss - 1.3518198728561401, Val Accuracy - 0.678\n",
      "Epoch 820, Train Loss - 0.016158264130353928, Val Loss - 1.265409231185913, Val Accuracy - 0.672\n",
      "Epoch 840, Train Loss - 0.015120971016585827, Val Loss - 1.3599164485931396, Val Accuracy - 0.668\n",
      "Epoch 860, Train Loss - 0.009153943508863449, Val Loss - 1.3770580291748047, Val Accuracy - 0.676\n",
      "Epoch 880, Train Loss - 0.025965774431824684, Val Loss - 1.3359816074371338, Val Accuracy - 0.68\n",
      "Epoch 900, Train Loss - 0.013763933442533016, Val Loss - 1.261746883392334, Val Accuracy - 0.686\n",
      "Epoch 920, Train Loss - 0.050697486847639084, Val Loss - 1.3318355083465576, Val Accuracy - 0.684\n",
      "Epoch 940, Train Loss - 0.02262149006128311, Val Loss - 1.3604795932769775, Val Accuracy - 0.666\n",
      "Epoch 960, Train Loss - 0.024704936891794205, Val Loss - 1.3801605701446533, Val Accuracy - 0.67\n",
      "Epoch 980, Train Loss - 0.026736730709671974, Val Loss - 1.403493046760559, Val Accuracy - 0.672\n",
      "Epoch 1000, Train Loss - 0.020634861662983894, Val Loss - 1.3003097772598267, Val Accuracy - 0.688\n",
      "Loaded best model with Val Accuracy: 0.7080\n",
      "Poisoning Change in Accuracy: -0.8696%\n",
      "Poisoning Change in Loss: 6.3184%\n"
     ]
    }
   ],
   "source": [
    "new_loss, new_accuracy = train.test(data_modded)\n",
    "\n",
    "print(f\"Evasion Change in Accuracy: {(100 * ((new_accuracy - initial_accuracy) / initial_accuracy)):.4f}%\")\n",
    "print(f\"Evasion Change in Loss: {(100 * ((new_loss - initial_loss) / initial_loss)):.4f}%\")\n",
    "\n",
    "### poisoning\n",
    "model_poisoning = GCN(data_modded.x.shape[1], cora_dataset.num_classes, [16]).to(device)\n",
    "model_poisoning.reset_parameters()\n",
    "train_modded = Trainable(model_poisoning)\n",
    "train_modded.fit(data_modded, 1000)\n",
    "\n",
    "poisoning_loss, poisoning_accuracy = train_modded.test(data_modded)\n",
    "print(f\"Poisoning Change in Accuracy: {(100 * ((poisoning_accuracy - initial_accuracy) / initial_accuracy)):.4f}%\")\n",
    "print(f\"Poisoning Change in Loss: {(100 * ((poisoning_loss - initial_loss) / initial_loss)):.4f}%\")"
   ]
  }
 ],
 "metadata": {
  "kernelspec": {
   "display_name": "Python 3 (ipykernel)",
   "language": "python",
   "name": "python3"
  },
  "language_info": {
   "codemirror_mode": {
    "name": "ipython",
    "version": 3
   },
   "file_extension": ".py",
   "mimetype": "text/x-python",
   "name": "python",
   "nbconvert_exporter": "python",
   "pygments_lexer": "ipython3",
   "version": "3.8.18"
  }
 },
 "nbformat": 4,
 "nbformat_minor": 5
}
