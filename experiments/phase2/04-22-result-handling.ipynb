{
 "cells": [
  {
   "cell_type": "code",
   "execution_count": 1,
   "id": "64563ce1-d083-4b0d-a06b-5645fca4fcf6",
   "metadata": {},
   "outputs": [],
   "source": [
    "from data_collection.recordings import *"
   ]
  },
  {
   "cell_type": "code",
   "execution_count": 2,
   "id": "931ce24d-762c-4d60-aa23-f3bb1162e672",
   "metadata": {},
   "outputs": [
    {
     "name": "stdout",
     "output_type": "stream",
     "text": [
      "MCMC GCN Citeseer Increasing Decaying Change in Accuracy: -0.030999999999999917\n",
      "MCMC GCN Citeseer Increasing Decaying Change in Loss: 0.2987253665924072\n",
      "MCMC GCN Citeseer Increasing Decaying ITRS: 4.381578947368421\n",
      "\n",
      "MCMC GCN Cora Increasing Decaying Change in Accuracy: -0.02400000000000002\n",
      "MCMC GCN Cora Increasing Decaying Change in Loss: 0.1096259355545044\n",
      "MCMC GCN Cora Increasing Decaying ITRS: 5.090909090909091\n",
      "\n",
      "MCMC GCN Citeseer Constant Decaying Change in Accuracy: -0.03299999999999992\n",
      "MCMC GCN Citeseer Constant Decaying Change in Loss: 0.293658971786499\n",
      "MCMC GCN Citeseer Constant Decaying ITRS: 6.692982456140351\n",
      "\n",
      "MCMC GCN Cora Constant Decaying Change in Accuracy: -0.013000000000000012\n",
      "MCMC GCN Cora Constant Decaying Change in Loss: 0.11693668365478516\n",
      "MCMC GCN Cora Constant Decaying ITRS: 5.693181818181818\n",
      "\n",
      "MCMC GCN Citeseer Increasing Binary Change in Accuracy: -0.030999999999999917\n",
      "MCMC GCN Citeseer Increasing Binary Change in Loss: 0.25206828117370605\n",
      "MCMC GCN Citeseer Increasing Binary ITRS: 1.7675438596491229\n",
      "\n",
      "MCMC GCN Cora Increasing Binary Change in Accuracy: -0.0050000000000000044\n",
      "MCMC GCN Cora Increasing Binary Change in Loss: 0.10286378860473633\n",
      "MCMC GCN Cora Increasing Binary ITRS: 1.6818181818181819\n",
      "\n",
      "MCMC GCN Citeseer Constant Binary Change in Accuracy: -0.03199999999999992\n",
      "MCMC GCN Citeseer Constant Binary Change in Loss: 0.3195972442626953\n",
      "MCMC GCN Citeseer Constant Binary ITRS: 1.8771929824561404\n",
      "\n",
      "MCMC GCN Cora Constant Binary Change in Accuracy: -0.018000000000000016\n",
      "MCMC GCN Cora Constant Binary Change in Loss: 0.14136874675750732\n",
      "MCMC GCN Cora Constant Binary ITRS: 1.6401515151515151\n",
      "\n"
     ]
    }
   ],
   "source": [
    "mcmc_variants = {\n",
    "    \"Citeseer Increasing Decaying\": \"./data_collection/mcmc_gcn_citeseer_increasing_decaying_attacked_results.pkl\",\n",
    "    \"Cora Increasing Decaying\": \"./data_collection/mcmc_gcn_cora_increasing_decaying_attacked_results.pkl\",\n",
    "    \"Citeseer Constant Decaying\": \"./data_collection/mcmc_gcn_citeseer_constant_decaying_attacked_results.pkl\",\n",
    "    \"Cora Constant Decaying\": \"./data_collection/mcmc_gcn_cora_constant_decaying_attacked_results.pkl\",\n",
    "    \"Citeseer Increasing Binary\": \"./data_collection/mcmc_gcn_citeseer_increasing_binary_attacked_results.pkl\",\n",
    "    \"Cora Increasing Binary\": \"./data_collection/mcmc_gcn_cora_increasing_binary_attacked_results.pkl\",\n",
    "    \"Citeseer Constant Binary\": \"./data_collection/mcmc_gcn_citeseer_constant_binary_attacked_results.pkl\",\n",
    "    \"Cora Constant Binary\": \"./data_collection/mcmc_gcn_cora_constant_binary_attacked_results.pkl\"\n",
    "}\n",
    "\n",
    "for name, path in mcmc_variants.items():\n",
    "    data = Recording.load(path)\n",
    "    acc_change = data.accuracies[0.5][-1] - data.accuracies[0.5][0]\n",
    "    loss_change = data.losses[0.5][-1] - data.losses[0.5][0]\n",
    "    iterations = data.iterations[0.5]\n",
    "\n",
    "    print(f\"MCMC GCN {name} Change in Accuracy: {acc_change}\")\n",
    "    print(f\"MCMC GCN {name} Change in Loss: {loss_change}\")\n",
    "    print(f\"MCMC GCN {name} ITRS: {iterations}\")\n",
    "    print()"
   ]
  },
  {
   "cell_type": "code",
   "execution_count": 3,
   "id": "bced094e-ea50-4df2-816b-79c8b7c80e1e",
   "metadata": {},
   "outputs": [
    {
     "name": "stdout",
     "output_type": "stream",
     "text": [
      "Greedy GCN Cora Constant Change in Accuracy: -0.018000000000000016\n",
      "Greedy GCN Cora Constant Change in Loss: 0.18737506866455078\n",
      "Greedy GCN Cora Constant ITRS: 5.96969696969697\n",
      "\n",
      "Greedy GCN Citeseer Constant Change in Accuracy: -0.019999999999999907\n",
      "Greedy GCN Citeseer Constant Change in Loss: 0.24893927574157715\n",
      "Greedy GCN Citeseer Constant ITRS: 5.890350877192983\n",
      "\n",
      "Greedy GCN Cora Increasing Change in Accuracy: -0.026000000000000023\n",
      "Greedy GCN Cora Increasing Change in Loss: 0.15687954425811768\n",
      "Greedy GCN Cora Increasing ITRS: 4.356060606060606\n",
      "\n",
      "Greedy GCN Citeseer Increasing Change in Accuracy: -0.03399999999999992\n",
      "Greedy GCN Citeseer Increasing Change in Loss: 0.27080869674682617\n",
      "Greedy GCN Citeseer Increasing ITRS: 3.6973684210526314\n",
      "\n"
     ]
    }
   ],
   "source": [
    "greedy_variants = {\n",
    "    \"Cora Constant\": \"./data_collection/greedy_gcn_cora_constant_attacked_results.pkl\",\n",
    "    \"Citeseer Constant\": \"./data_collection/greedy_gcn_citeseer_constant_attacked_results.pkl\",\n",
    "    \"Cora Increasing\": \"./data_collection/greedy_gcn_cora_increasing_attacked_results.pkl\",\n",
    "    \"Citeseer Increasing\": \"./data_collection/greedy_gcn_citeseer_increasing_attacked_results.pkl\"\n",
    "}\n",
    "\n",
    "for name, path in greedy_variants.items():\n",
    "    data = Recording.load(path)\n",
    "    acc_change = data.accuracies[0.5][-1] - data.accuracies[0.5][0]\n",
    "    loss_change = data.losses[0.5][-1] - data.losses[0.5][0]\n",
    "    iterations = data.iterations[0.5]\n",
    "\n",
    "    print(f\"Greedy GCN {name} Change in Accuracy: {acc_change}\")\n",
    "    print(f\"Greedy GCN {name} Change in Loss: {loss_change}\")\n",
    "    print(f\"Greedy GCN {name} ITRS: {iterations}\")\n",
    "    print()"
   ]
  }
 ],
 "metadata": {
  "kernelspec": {
   "display_name": "Python 3 (ipykernel)",
   "language": "python",
   "name": "python3"
  },
  "language_info": {
   "codemirror_mode": {
    "name": "ipython",
    "version": 3
   },
   "file_extension": ".py",
   "mimetype": "text/x-python",
   "name": "python",
   "nbconvert_exporter": "python",
   "pygments_lexer": "ipython3",
   "version": "3.8.18"
  }
 },
 "nbformat": 4,
 "nbformat_minor": 5
}
