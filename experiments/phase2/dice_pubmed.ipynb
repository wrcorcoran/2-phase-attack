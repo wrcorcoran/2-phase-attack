{
 "cells": [
  {
   "cell_type": "code",
   "execution_count": 1,
   "id": "7b436979-f710-444b-baf9-caba91a93626",
   "metadata": {},
   "outputs": [],
   "source": [
    "import torch\n",
    "import numpy as np\n",
    "from deeprobust.graph.data import Dataset\n",
    "from deeprobust.graph.defense import GCN as GCN_DR\n",
    "from deeprobust.graph.global_attack import DICE\n",
    "from scipy.sparse import csr_matrix"
   ]
  },
  {
   "cell_type": "code",
   "execution_count": 2,
   "id": "baf1bf7c-fb38-41b4-8037-d4d2195e74d7",
   "metadata": {},
   "outputs": [],
   "source": [
    "from greedy_mcmc_attack import *\n",
    "from collections import defaultdict\n",
    "\n",
    "device = torch.device(\"cuda:0\" if torch.cuda.is_available() else \"cpu\")"
   ]
  },
  {
   "cell_type": "code",
   "execution_count": 3,
   "id": "398e36c6-0370-4e71-9bcd-1907e9f4cc8f",
   "metadata": {},
   "outputs": [
    {
     "name": "stdout",
     "output_type": "stream",
     "text": [
      "Data(x=[19717, 500], edge_index=[2, 88648], y=[19717], train_mask=[19717], val_mask=[19717], test_mask=[19717])\n"
     ]
    }
   ],
   "source": [
    "cora_dataset = Planetoid(root='', name='Pubmed')\n",
    "data = cora_dataset[0].to(device)\n",
    "print(data)\n",
    "idx_train, idx_val, idx_test = data.train_mask.nonzero(as_tuple=True)[0].tolist(), data.val_mask.nonzero(as_tuple=True)[0].tolist(), data.test_mask.nonzero(as_tuple=True)[0].tolist()"
   ]
  },
  {
   "cell_type": "code",
   "execution_count": 4,
   "id": "4ec0d645-a3c4-4bd6-b227-f7ff724bde18",
   "metadata": {},
   "outputs": [
    {
     "name": "stdout",
     "output_type": "stream",
     "text": [
      "Loading pubmed dataset...\n"
     ]
    }
   ],
   "source": [
    "data_dr = Dataset(root='/tmp/', name='pubmed', setting='nettack')\n",
    "adj, features, labels = data_dr.adj, data_dr.features, data_dr.labels\n",
    "# idx_train, idx_val, idx_test = data_dr.idx_train, data_dr.idx_val, data_dr.idx_test\n",
    "idx_unlabeled = np.union1d(idx_val, idx_test)"
   ]
  },
  {
   "cell_type": "code",
   "execution_count": 5,
   "id": "7b3bc665-5140-46f0-bce3-9964efb948a0",
   "metadata": {},
   "outputs": [],
   "source": [
    "surrogate = GCN_DR(nfeat=features.shape[1], nclass=labels.max().item()+1, nhid=16,\n",
    "                with_relu=False, device=device)\n",
    "surrogate = surrogate.to(device)\n",
    "surrogate.fit(features, adj, labels, idx_train)"
   ]
  },
  {
   "cell_type": "code",
   "execution_count": 6,
   "id": "c24b22c0-6824-4994-bf86-7bc7c2d7a741",
   "metadata": {},
   "outputs": [],
   "source": [
    "adj = csr_matrix(adj)"
   ]
  },
  {
   "cell_type": "code",
   "execution_count": 7,
   "id": "93445f95-4b4a-4a34-b9af-7a64697cbcd3",
   "metadata": {},
   "outputs": [],
   "source": [
    "ptb_rate = 0.1"
   ]
  },
  {
   "cell_type": "code",
   "execution_count": 8,
   "id": "0d20751f-ad8c-4498-b83d-cd1a54c7bf21",
   "metadata": {},
   "outputs": [
    {
     "name": "stdout",
     "output_type": "stream",
     "text": [
      "number of pertubations: 4432\n"
     ]
    }
   ],
   "source": [
    "model = DICE()\n",
    "model = model.to(device)\n",
    "perturbations = int(ptb_rate * (adj.sum() // 2))\n",
    "model.attack(adj, labels, n_perturbations=perturbations)\n",
    "modified_adj = model.modified_adj"
   ]
  },
  {
   "cell_type": "markdown",
   "id": "013d1a25-f36c-4f2d-a131-a37230a2fc6e",
   "metadata": {},
   "source": [
    "### arch tests"
   ]
  },
  {
   "cell_type": "code",
   "execution_count": 19,
   "id": "4e0b5584-ef73-4f77-bd79-6c7ac9e6f0ee",
   "metadata": {},
   "outputs": [],
   "source": [
    "model = GCN(data.x.shape[1], cora_dataset.num_classes, [16]).to(device)"
   ]
  },
  {
   "cell_type": "code",
   "execution_count": 20,
   "id": "caaae491-a476-49cc-815c-6b6013c1d4f9",
   "metadata": {},
   "outputs": [],
   "source": [
    "model_save_path = \"../models/pubmed_gcn_model.pth\"\n",
    "list_save_path = \"../attacks/cora_gcn_edges.pth\" # pubmed doesn't exist yet... have to satiate"
   ]
  },
  {
   "cell_type": "code",
   "execution_count": 21,
   "id": "dd80d082-255d-48f1-b9db-f4ba5a0568cc",
   "metadata": {},
   "outputs": [],
   "source": [
    "model, edges_to_add, train = load_model_and_edges(model_save_path, list_save_path, model, device)"
   ]
  },
  {
   "cell_type": "code",
   "execution_count": 22,
   "id": "df4d5578-160d-4424-a66c-4ad88bada6b6",
   "metadata": {},
   "outputs": [
    {
     "name": "stdout",
     "output_type": "stream",
     "text": [
      "Initial Accuracy: 0.784\n",
      "Initial Loss: 0.5719911456108093\n"
     ]
    }
   ],
   "source": [
    "initial_loss, initial_accuracy = train.test(data)\n",
    "print(f\"Initial Accuracy: {initial_accuracy}\")\n",
    "print(f\"Initial Loss: {initial_loss}\")"
   ]
  },
  {
   "cell_type": "code",
   "execution_count": 23,
   "id": "5564fa7c-9e77-4f15-a94c-468423322388",
   "metadata": {},
   "outputs": [],
   "source": [
    "from scipy.sparse import csr_matrix\n",
    "\n",
    "adj1 = data_dr.adj.tocsr()\n",
    "adj2 = modified_adj.tocsr()\n",
    "\n",
    "arr_diff = (adj1 - adj2).tocoo()"
   ]
  },
  {
   "cell_type": "code",
   "execution_count": 24,
   "id": "4b540331-4573-4614-a240-f64cad8183cf",
   "metadata": {},
   "outputs": [
    {
     "data": {
      "text/plain": [
       "<19717x19717 sparse array of type '<class 'numpy.int64'>'\n",
       "\twith 8863 stored elements in COOrdinate format>"
      ]
     },
     "execution_count": 24,
     "metadata": {},
     "output_type": "execute_result"
    }
   ],
   "source": [
    "arr_diff"
   ]
  },
  {
   "cell_type": "code",
   "execution_count": 25,
   "id": "c227fdc0-1fab-4a15-97ca-bd28c763b979",
   "metadata": {},
   "outputs": [],
   "source": [
    "data_modded = copy.deepcopy(data)"
   ]
  },
  {
   "cell_type": "code",
   "execution_count": 26,
   "id": "62738eaa-f69b-4ebe-8e0d-801230897553",
   "metadata": {},
   "outputs": [
    {
     "name": "stdout",
     "output_type": "stream",
     "text": [
      "84210\n",
      "4425\n"
     ]
    }
   ],
   "source": [
    "# thanks gpt\n",
    "existing = data_modded.edge_index.t().cpu().numpy()\n",
    "\n",
    "diff_coo = arr_diff.tocoo()\n",
    "diff_edges = np.stack([diff_coo.row, diff_coo.col], axis=1)\n",
    "\n",
    "existing_set = set(map(tuple, existing))\n",
    "diff_set = set(map(tuple, diff_edges))\n",
    "diff_set_full = diff_set | set((v, u) for u, v in diff_set)\n",
    "\n",
    "cleaned_edges = existing_set - diff_set_full\n",
    "print(len(cleaned_edges))\n",
    "\n",
    "added_edges = diff_set_full - existing_set\n",
    "print(len(added_edges))\n",
    "\n",
    "final_edges = cleaned_edges | added_edges\n",
    "\n",
    "final_edges = torch.tensor(list(final_edges), dtype=torch.long).t().to(device)\n",
    "data_modded.edge_index = final_edges"
   ]
  },
  {
   "cell_type": "code",
   "execution_count": 27,
   "id": "a09bce75-78ca-47ef-b5b9-a9dc54ffe7ba",
   "metadata": {},
   "outputs": [
    {
     "data": {
      "text/plain": [
       "torch.Size([2, 88635])"
      ]
     },
     "execution_count": 27,
     "metadata": {},
     "output_type": "execute_result"
    }
   ],
   "source": [
    "data_modded.edge_index.size()"
   ]
  },
  {
   "cell_type": "code",
   "execution_count": 28,
   "id": "ee8f1b41-0856-4bd6-9493-d5a539f8a6d4",
   "metadata": {},
   "outputs": [
    {
     "name": "stdout",
     "output_type": "stream",
     "text": [
      "Evasion Change in Accuracy: -2.6786%\n",
      "Evasion Change in Loss: 7.0909%\n",
      "Epoch 0, Train Loss - 1.098446011543274, Val Loss - 1.0931408405303955, Val Accuracy - 0.554\n",
      "Epoch 20, Train Loss - 0.7190119028091431, Val Loss - 0.8770945072174072, Val Accuracy - 0.744\n",
      "Epoch 40, Train Loss - 0.35322800278663635, Val Loss - 0.6844544410705566, Val Accuracy - 0.756\n",
      "Epoch 60, Train Loss - 0.22162680327892303, Val Loss - 0.6194964051246643, Val Accuracy - 0.766\n",
      "Epoch 80, Train Loss - 0.1710447520017624, Val Loss - 0.6164628863334656, Val Accuracy - 0.762\n",
      "Epoch 100, Train Loss - 0.13820190727710724, Val Loss - 0.619831919670105, Val Accuracy - 0.76\n",
      "Epoch 120, Train Loss - 0.12509037554264069, Val Loss - 0.6089637875556946, Val Accuracy - 0.758\n",
      "Epoch 140, Train Loss - 0.10900295525789261, Val Loss - 0.6102266311645508, Val Accuracy - 0.752\n",
      "Epoch 160, Train Loss - 0.08434725552797318, Val Loss - 0.6131449937820435, Val Accuracy - 0.754\n",
      "Epoch 180, Train Loss - 0.08533189445734024, Val Loss - 0.612061083316803, Val Accuracy - 0.756\n",
      "Epoch 200, Train Loss - 0.09033899754285812, Val Loss - 0.6214008331298828, Val Accuracy - 0.752\n",
      "Epoch 220, Train Loss - 0.10367190837860107, Val Loss - 0.6182889342308044, Val Accuracy - 0.746\n",
      "Epoch 240, Train Loss - 0.09517300873994827, Val Loss - 0.6268520951271057, Val Accuracy - 0.752\n",
      "Epoch 260, Train Loss - 0.08515391498804092, Val Loss - 0.6250907182693481, Val Accuracy - 0.756\n",
      "Epoch 280, Train Loss - 0.0700409784913063, Val Loss - 0.6385138034820557, Val Accuracy - 0.75\n",
      "Epoch 300, Train Loss - 0.06371729075908661, Val Loss - 0.6347795724868774, Val Accuracy - 0.754\n",
      "Epoch 320, Train Loss - 0.05703342705965042, Val Loss - 0.6457770466804504, Val Accuracy - 0.75\n",
      "Epoch 340, Train Loss - 0.07210930436849594, Val Loss - 0.6345183849334717, Val Accuracy - 0.752\n",
      "Epoch 360, Train Loss - 0.10001086443662643, Val Loss - 0.6363860964775085, Val Accuracy - 0.746\n",
      "Epoch 380, Train Loss - 0.06039416417479515, Val Loss - 0.6377561092376709, Val Accuracy - 0.748\n",
      "Epoch 400, Train Loss - 0.04939616471529007, Val Loss - 0.6422944068908691, Val Accuracy - 0.748\n",
      "Epoch 420, Train Loss - 0.07009195536375046, Val Loss - 0.6375243067741394, Val Accuracy - 0.752\n",
      "Epoch 440, Train Loss - 0.06397604942321777, Val Loss - 0.6409130692481995, Val Accuracy - 0.742\n",
      "Epoch 460, Train Loss - 0.05853138118982315, Val Loss - 0.6454293131828308, Val Accuracy - 0.754\n",
      "Epoch 480, Train Loss - 0.07915966212749481, Val Loss - 0.6627067923545837, Val Accuracy - 0.748\n",
      "Epoch 500, Train Loss - 0.06724889576435089, Val Loss - 0.6434193253517151, Val Accuracy - 0.748\n",
      "Epoch 520, Train Loss - 0.07774803042411804, Val Loss - 0.6626404523849487, Val Accuracy - 0.748\n",
      "Epoch 540, Train Loss - 0.061385564506053925, Val Loss - 0.6553930640220642, Val Accuracy - 0.75\n",
      "Epoch 560, Train Loss - 0.0661565363407135, Val Loss - 0.6518359780311584, Val Accuracy - 0.746\n",
      "Epoch 580, Train Loss - 0.06325936317443848, Val Loss - 0.6505234241485596, Val Accuracy - 0.746\n",
      "Epoch 600, Train Loss - 0.05041224882006645, Val Loss - 0.6565776467323303, Val Accuracy - 0.748\n",
      "Epoch 620, Train Loss - 0.06423833966255188, Val Loss - 0.6583335399627686, Val Accuracy - 0.742\n",
      "Epoch 640, Train Loss - 0.04171266034245491, Val Loss - 0.6709743738174438, Val Accuracy - 0.748\n",
      "Epoch 660, Train Loss - 0.040642186999320984, Val Loss - 0.6659322381019592, Val Accuracy - 0.744\n",
      "Epoch 680, Train Loss - 0.03685171157121658, Val Loss - 0.6574636697769165, Val Accuracy - 0.744\n",
      "Epoch 700, Train Loss - 0.05429776757955551, Val Loss - 0.6680964231491089, Val Accuracy - 0.74\n",
      "Epoch 720, Train Loss - 0.0835050418972969, Val Loss - 0.6632845401763916, Val Accuracy - 0.75\n",
      "Epoch 740, Train Loss - 0.03468446433544159, Val Loss - 0.6885066032409668, Val Accuracy - 0.748\n",
      "Epoch 760, Train Loss - 0.05328647792339325, Val Loss - 0.6588265895843506, Val Accuracy - 0.754\n",
      "Epoch 780, Train Loss - 0.045296598225831985, Val Loss - 0.6539689302444458, Val Accuracy - 0.742\n",
      "Epoch 800, Train Loss - 0.0462661050260067, Val Loss - 0.6573737263679504, Val Accuracy - 0.74\n",
      "Epoch 820, Train Loss - 0.04122348502278328, Val Loss - 0.6630715131759644, Val Accuracy - 0.75\n",
      "Epoch 840, Train Loss - 0.06449873000383377, Val Loss - 0.6516072154045105, Val Accuracy - 0.748\n",
      "Epoch 860, Train Loss - 0.04975912347435951, Val Loss - 0.6643927097320557, Val Accuracy - 0.744\n",
      "Epoch 880, Train Loss - 0.045503515750169754, Val Loss - 0.6629511117935181, Val Accuracy - 0.744\n",
      "Epoch 900, Train Loss - 0.05598669871687889, Val Loss - 0.674937903881073, Val Accuracy - 0.746\n",
      "Epoch 920, Train Loss - 0.05704827606678009, Val Loss - 0.6569788455963135, Val Accuracy - 0.74\n",
      "Epoch 940, Train Loss - 0.04323787987232208, Val Loss - 0.6559199094772339, Val Accuracy - 0.746\n",
      "Epoch 960, Train Loss - 0.058686841279268265, Val Loss - 0.6716011166572571, Val Accuracy - 0.75\n",
      "Epoch 980, Train Loss - 0.05575929954648018, Val Loss - 0.6663810610771179, Val Accuracy - 0.748\n",
      "Epoch 1000, Train Loss - 0.04679179936647415, Val Loss - 0.6579270362854004, Val Accuracy - 0.748\n",
      "Loaded best model with Val Accuracy: 0.7680\n",
      "Poisoning Change in Accuracy: -5.4847%\n",
      "Poisoning Change in Loss: 13.2343%\n"
     ]
    }
   ],
   "source": [
    "new_loss, new_accuracy = train.test(data_modded)\n",
    "\n",
    "print(f\"Evasion Change in Accuracy: {(100 * ((new_accuracy - initial_accuracy) / initial_accuracy)):.4f}%\")\n",
    "print(f\"Evasion Change in Loss: {(100 * ((new_loss - initial_loss) / initial_loss)):.4f}%\")\n",
    "\n",
    "### poisoning\n",
    "model_poisoning = GCN(data_modded.x.shape[1], cora_dataset.num_classes, [16]).to(device)\n",
    "model_poisoning.reset_parameters()\n",
    "train_modded = Trainable(model_poisoning)\n",
    "train_modded.fit(data_modded, 1000)\n",
    "\n",
    "poisoning_loss, poisoning_accuracy = train_modded.test(data_modded)\n",
    "print(f\"Poisoning Change in Accuracy: {(100 * ((poisoning_accuracy - initial_accuracy) / initial_accuracy)):.4f}%\")\n",
    "print(f\"Poisoning Change in Loss: {(100 * ((poisoning_loss - initial_loss) / initial_loss)):.4f}%\")"
   ]
  }
 ],
 "metadata": {
  "kernelspec": {
   "display_name": "Python 3 (ipykernel)",
   "language": "python",
   "name": "python3"
  },
  "language_info": {
   "codemirror_mode": {
    "name": "ipython",
    "version": 3
   },
   "file_extension": ".py",
   "mimetype": "text/x-python",
   "name": "python",
   "nbconvert_exporter": "python",
   "pygments_lexer": "ipython3",
   "version": "3.8.18"
  }
 },
 "nbformat": 4,
 "nbformat_minor": 5
}
