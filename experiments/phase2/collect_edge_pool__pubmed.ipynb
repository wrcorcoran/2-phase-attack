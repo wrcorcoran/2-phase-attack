{
 "cells": [
  {
   "cell_type": "code",
   "execution_count": 10,
   "id": "cbc284fc-8e46-4645-bb36-6f79054e5e53",
   "metadata": {},
   "outputs": [],
   "source": [
    "from greedy_mcmc_attack import *\n",
    "from collections import defaultdict\n",
    "from torch_geometric.utils import subgraph"
   ]
  },
  {
   "cell_type": "code",
   "execution_count": 11,
   "id": "b484ec46-7057-4bcf-b042-f76d632d7dcb",
   "metadata": {},
   "outputs": [],
   "source": [
    "device = \"cuda\" if torch.cuda.is_available() else \"cpu\""
   ]
  },
  {
   "cell_type": "code",
   "execution_count": 12,
   "id": "8e03370f-1e5a-45ce-a6c4-6577604acf39",
   "metadata": {},
   "outputs": [
    {
     "name": "stdout",
     "output_type": "stream",
     "text": [
      "Data(x=[19717, 500], edge_index=[2, 88648], y=[19717], train_mask=[19717], val_mask=[19717], test_mask=[19717])\n"
     ]
    }
   ],
   "source": [
    "# dataset_directory = \"../Cora\"\n",
    "cora_dataset = Planetoid(root='', name='Pubmed')\n",
    "data = cora_dataset[0].to(device)\n",
    "print(data)"
   ]
  },
  {
   "cell_type": "code",
   "execution_count": 21,
   "id": "95984753-2fe2-4f01-b62d-8bf6ee0eaadf",
   "metadata": {},
   "outputs": [
    {
     "name": "stdout",
     "output_type": "stream",
     "text": [
      "19717\n"
     ]
    }
   ],
   "source": [
    "print(len(*nx.connected_components(G)))"
   ]
  },
  {
   "cell_type": "code",
   "execution_count": 17,
   "id": "abeb6eb3-a2db-4b50-bdb6-73a939b00be3",
   "metadata": {},
   "outputs": [
    {
     "data": {
      "text/plain": [
       "tensor([True, True, True,  ..., True, True, True], device='cuda:0')"
      ]
     },
     "execution_count": 17,
     "metadata": {},
     "output_type": "execute_result"
    }
   ],
   "source": [
    "node_mask"
   ]
  },
  {
   "cell_type": "code",
   "execution_count": 15,
   "id": "5ddaa31d-77b8-41e8-8038-dce2fadae87d",
   "metadata": {},
   "outputs": [
    {
     "data": {
      "text/plain": [
       "Data(x=[19717, 500], edge_index=[2, 88648], y=[19717], train_mask=[19717], val_mask=[19717], test_mask=[19717])"
      ]
     },
     "execution_count": 15,
     "metadata": {},
     "output_type": "execute_result"
    }
   ],
   "source": [
    "data"
   ]
  },
  {
   "cell_type": "code",
   "execution_count": 4,
   "id": "d17f0802-5411-4c38-b89f-d30c040dea50",
   "metadata": {},
   "outputs": [],
   "source": [
    "model = GCN(data.x.shape[1], cora_dataset.num_classes, [16]).to(device)"
   ]
  },
  {
   "cell_type": "code",
   "execution_count": 5,
   "id": "ea9fee66-7c98-4969-ac3e-74473473372e",
   "metadata": {},
   "outputs": [],
   "source": [
    "model_save_path = \"../models/pubmed_gcn_model.pth\"\n",
    "list_save_path = \"../attacks/pubmed_gcn_edges.pth\"\n",
    "# # multi_metattack_edges_list.pth\n",
    "# list_save_path = \"multi_metattack_edges_list.pth\""
   ]
  },
  {
   "cell_type": "code",
   "execution_count": 6,
   "id": "31dc21cc-385e-47a1-a048-e6c93de4963b",
   "metadata": {},
   "outputs": [],
   "source": [
    "model, edges_to_add, train = load_model_and_edges(model_save_path, list_save_path, model, device)"
   ]
  },
  {
   "cell_type": "code",
   "execution_count": 7,
   "id": "70e55a87-64f5-4ba1-923f-208e7ca2c40b",
   "metadata": {},
   "outputs": [
    {
     "name": "stdout",
     "output_type": "stream",
     "text": [
      "Initial Accuracy: 0.784\n",
      "Initial Loss: 0.5719911456108093\n"
     ]
    }
   ],
   "source": [
    "# Get initial accuracy\n",
    "initial_loss, initial_accuracy = train.test(data)\n",
    "print(f\"Initial Accuracy: {initial_accuracy}\")\n",
    "print(f\"Initial Loss: {initial_loss}\")"
   ]
  },
  {
   "cell_type": "code",
   "execution_count": 8,
   "id": "9329ce0b-3ced-4ec6-ab22-3e14cf2ba0ba",
   "metadata": {},
   "outputs": [
    {
     "data": {
      "application/vnd.jupyter.widget-view+json": {
       "model_id": "0c50967a89fb47db81bf6ec9fd84ea35",
       "version_major": 2,
       "version_minor": 0
      },
      "text/plain": [
       "Peturbing graph...:   0%|          | 0/88648 [00:00<?, ?it/s]"
      ]
     },
     "metadata": {},
     "output_type": "display_data"
    },
    {
     "ename": "OutOfMemoryError",
     "evalue": "CUDA out of memory. Tried to allocate 2.90 GiB (GPU 0; 31.74 GiB total capacity; 23.63 GiB already allocated; 2.67 GiB free; 26.20 GiB reserved in total by PyTorch) If reserved memory is >> allocated memory try setting max_split_size_mb to avoid fragmentation.  See documentation for Memory Management and PYTORCH_CUDA_ALLOC_CONF",
     "output_type": "error",
     "traceback": [
      "\u001b[0;31m---------------------------------------------------------------------------\u001b[0m",
      "\u001b[0;31mOutOfMemoryError\u001b[0m                          Traceback (most recent call last)",
      "Cell \u001b[0;32mIn[8], line 12\u001b[0m\n\u001b[1;32m      5\u001b[0m attacker\u001b[38;5;241m.\u001b[39msetup_surrogate(\n\u001b[1;32m      6\u001b[0m     model,\n\u001b[1;32m      7\u001b[0m     labeled_nodes\u001b[38;5;241m=\u001b[39mdata\u001b[38;5;241m.\u001b[39mtrain_mask,\n\u001b[1;32m      8\u001b[0m     unlabeled_nodes\u001b[38;5;241m=\u001b[39mdata\u001b[38;5;241m.\u001b[39mtest_mask,\n\u001b[1;32m      9\u001b[0m     lambda_\u001b[38;5;241m=\u001b[39m\u001b[38;5;241m0.0\u001b[39m,\n\u001b[1;32m     10\u001b[0m )\n\u001b[1;32m     11\u001b[0m attacker\u001b[38;5;241m.\u001b[39mreset()\n\u001b[0;32m---> 12\u001b[0m \u001b[43mattacker\u001b[49m\u001b[38;5;241;43m.\u001b[39;49m\u001b[43mattack\u001b[49m\u001b[43m(\u001b[49m\u001b[38;5;241;43m2\u001b[39;49m\u001b[43m)\u001b[49m\n\u001b[1;32m     14\u001b[0m \u001b[38;5;28;01mfor\u001b[39;00m edge, itr \u001b[38;5;129;01min\u001b[39;00m attacker\u001b[38;5;241m.\u001b[39m_added_edges\u001b[38;5;241m.\u001b[39mitems():\n\u001b[1;32m     15\u001b[0m     amts[edge] \u001b[38;5;241m=\u001b[39m itr\n",
      "File \u001b[0;32m~/research/2-phase-attack/experiments/phase2/../../src/attacks/greedy_gd.py:276\u001b[0m, in \u001b[0;36mMetattack.attack\u001b[0;34m(self, num_budgets, structure_attack, feature_attack, disable, ll_cutoff)\u001b[0m\n\u001b[1;32m    273\u001b[0m singleton_mask \u001b[38;5;241m=\u001b[39m \u001b[38;5;28mself\u001b[39m\u001b[38;5;241m.\u001b[39mfilter_potential_singletons(modified_adj, \u001b[38;5;28mself\u001b[39m\u001b[38;5;241m.\u001b[39mdegree)\n\u001b[1;32m    275\u001b[0m \u001b[38;5;66;03m#This returns a tuple so take the first index and put it on the right device\u001b[39;00m\n\u001b[0;32m--> 276\u001b[0m ll_mask \u001b[38;5;241m=\u001b[39m \u001b[38;5;28;43mself\u001b[39;49m\u001b[38;5;241;43m.\u001b[39;49m\u001b[43mlog_likelihood_constraint\u001b[49m\u001b[43m(\u001b[49m\u001b[43mmodified_adj\u001b[49m\u001b[43m,\u001b[49m\u001b[43m \u001b[49m\u001b[38;5;28;43mself\u001b[39;49m\u001b[38;5;241;43m.\u001b[39;49m\u001b[43madj\u001b[49m\u001b[43m,\u001b[49m\u001b[43m \u001b[49m\u001b[43mll_cutoff\u001b[49m\u001b[43m)\u001b[49m[\u001b[38;5;241m0\u001b[39m]\u001b[38;5;241m.\u001b[39mto(\u001b[38;5;28mself\u001b[39m\u001b[38;5;241m.\u001b[39mdevice)\n\u001b[1;32m    278\u001b[0m adj_grad_score \u001b[38;5;241m*\u001b[39m\u001b[38;5;241m=\u001b[39m singleton_mask\u001b[38;5;241m.\u001b[39mview(\u001b[38;5;241m-\u001b[39m\u001b[38;5;241m1\u001b[39m)\n\u001b[1;32m    279\u001b[0m adj_grad_score \u001b[38;5;241m*\u001b[39m\u001b[38;5;241m=\u001b[39m ll_mask\u001b[38;5;241m.\u001b[39mview(\u001b[38;5;241m-\u001b[39m\u001b[38;5;241m1\u001b[39m)\n",
      "File \u001b[0;32m~/research/2-phase-attack/experiments/phase2/../../src/attacks/greedy_gd.py:176\u001b[0m, in \u001b[0;36mMetattack.log_likelihood_constraint\u001b[0;34m(self, modified_adj, ori_adj, ll_cutoff)\u001b[0m\n\u001b[1;32m    174\u001b[0m t_d_min \u001b[38;5;241m=\u001b[39m torch\u001b[38;5;241m.\u001b[39mtensor(\u001b[38;5;241m2.0\u001b[39m)\u001b[38;5;241m.\u001b[39mto(\u001b[38;5;28mself\u001b[39m\u001b[38;5;241m.\u001b[39mdevice)\n\u001b[1;32m    175\u001b[0m t_possible_edges \u001b[38;5;241m=\u001b[39m np\u001b[38;5;241m.\u001b[39marray(np\u001b[38;5;241m.\u001b[39mtriu(np\u001b[38;5;241m.\u001b[39mones((\u001b[38;5;28mself\u001b[39m\u001b[38;5;241m.\u001b[39mnum_nodes, \u001b[38;5;28mself\u001b[39m\u001b[38;5;241m.\u001b[39mnum_nodes)), k\u001b[38;5;241m=\u001b[39m\u001b[38;5;241m1\u001b[39m)\u001b[38;5;241m.\u001b[39mnonzero())\u001b[38;5;241m.\u001b[39mT\n\u001b[0;32m--> 176\u001b[0m allowed_mask, current_ratio \u001b[38;5;241m=\u001b[39m \u001b[43mutil\u001b[49m\u001b[38;5;241;43m.\u001b[39;49m\u001b[43mlikelihood_ratio_filter\u001b[49m\u001b[43m(\u001b[49m\u001b[43mt_possible_edges\u001b[49m\u001b[43m,\u001b[49m\n\u001b[1;32m    177\u001b[0m \u001b[43m                                                            \u001b[49m\u001b[43mmodified_adj\u001b[49m\u001b[43m,\u001b[49m\n\u001b[1;32m    178\u001b[0m \u001b[43m                                                            \u001b[49m\u001b[43mori_adj\u001b[49m\u001b[43m,\u001b[49m\u001b[43m \u001b[49m\u001b[43mt_d_min\u001b[49m\u001b[43m,\u001b[49m\n\u001b[1;32m    179\u001b[0m \u001b[43m                                                            \u001b[49m\u001b[43mll_cutoff\u001b[49m\u001b[43m)\u001b[49m\n\u001b[1;32m    180\u001b[0m \u001b[38;5;28;01mreturn\u001b[39;00m allowed_mask, current_ratio\n",
      "File \u001b[0;32m~/research/2-phase-attack/src/attacks/attack_utils.py:36\u001b[0m, in \u001b[0;36mlikelihood_ratio_filter\u001b[0;34m(node_pairs, modified_adjacency, original_adjacency, d_min, threshold, undirected)\u001b[0m\n\u001b[1;32m     32\u001b[0m current_ratio \u001b[38;5;241m=\u001b[39m \u001b[38;5;241m-\u001b[39m\u001b[38;5;241m2\u001b[39m \u001b[38;5;241m*\u001b[39m ll_comb \u001b[38;5;241m+\u001b[39m \u001b[38;5;241m2\u001b[39m \u001b[38;5;241m*\u001b[39m (ll_orig \u001b[38;5;241m+\u001b[39m ll_current)\n\u001b[1;32m     34\u001b[0m \u001b[38;5;66;03m# Compute new log likelihood values that would arise if we add/remove the edges corresponding to each node pair.\u001b[39;00m\n\u001b[0;32m---> 36\u001b[0m new_lls, new_alphas, new_ns, new_sum_log_degrees \u001b[38;5;241m=\u001b[39m \u001b[43mupdated_log_likelihood_for_edge_changes\u001b[49m\u001b[43m(\u001b[49m\u001b[43mnode_pairs\u001b[49m\u001b[43m,\u001b[49m\n\u001b[1;32m     37\u001b[0m \u001b[43m                                                                                           \u001b[49m\u001b[43mmodified_adjacency\u001b[49m\u001b[43m,\u001b[49m\u001b[43m \u001b[49m\u001b[43md_min\u001b[49m\u001b[43m)\u001b[49m\n\u001b[1;32m     39\u001b[0m \u001b[38;5;66;03m# Combination of the original degree distribution with the distributions corresponding to each node pair.\u001b[39;00m\n\u001b[1;32m     40\u001b[0m n_combined \u001b[38;5;241m=\u001b[39m n_orig \u001b[38;5;241m+\u001b[39m new_ns\n",
      "File \u001b[0;32m~/research/2-phase-attack/src/attacks/attack_utils.py:100\u001b[0m, in \u001b[0;36mupdated_log_likelihood_for_edge_changes\u001b[0;34m(node_pairs, adjacency_matrix, d_min)\u001b[0m\n\u001b[1;32m     97\u001b[0m d_edges_after \u001b[38;5;241m=\u001b[39m degree_sequence[node_pairs] \u001b[38;5;241m+\u001b[39m deltas[:, \u001b[38;5;28;01mNone\u001b[39;00m]\n\u001b[1;32m     99\u001b[0m \u001b[38;5;66;03m# Sum the log of the degrees after the potential changes which are >= d_min\u001b[39;00m\n\u001b[0;32m--> 100\u001b[0m sum_log_degrees_after, new_n \u001b[38;5;241m=\u001b[39m \u001b[43mupdate_sum_log_degrees\u001b[49m\u001b[43m(\u001b[49m\u001b[43msum_log_degrees\u001b[49m\u001b[43m,\u001b[49m\u001b[43m \u001b[49m\u001b[43mn\u001b[49m\u001b[43m,\u001b[49m\u001b[43m \u001b[49m\u001b[43md_edges_before\u001b[49m\u001b[43m,\u001b[49m\u001b[43m \u001b[49m\u001b[43md_edges_after\u001b[49m\u001b[43m,\u001b[49m\u001b[43m \u001b[49m\u001b[43md_min\u001b[49m\u001b[43m)\u001b[49m\n\u001b[1;32m    102\u001b[0m \u001b[38;5;66;03m# Updated estimates of the Powerlaw exponents\u001b[39;00m\n\u001b[1;32m    103\u001b[0m new_alpha \u001b[38;5;241m=\u001b[39m compute_alpha(new_n, sum_log_degrees_after, d_min)\n",
      "File \u001b[0;32m~/research/2-phase-attack/src/attacks/attack_utils.py:122\u001b[0m, in \u001b[0;36mupdate_sum_log_degrees\u001b[0;34m(sum_log_degrees_before, n_old, d_old, d_new, d_min)\u001b[0m\n\u001b[1;32m    118\u001b[0m sum_log_degrees_after \u001b[38;5;241m=\u001b[39m sum_log_degrees_before \u001b[38;5;241m-\u001b[39m (torch\u001b[38;5;241m.\u001b[39mlog(torch\u001b[38;5;241m.\u001b[39mclamp(d_old_in_range, \u001b[38;5;28mmin\u001b[39m\u001b[38;5;241m=\u001b[39m\u001b[38;5;241m1\u001b[39m)))\u001b[38;5;241m.\u001b[39msum(\u001b[38;5;241m1\u001b[39m) \\\n\u001b[1;32m    119\u001b[0m                              \u001b[38;5;241m+\u001b[39m (torch\u001b[38;5;241m.\u001b[39mlog(torch\u001b[38;5;241m.\u001b[39mclamp(d_new_in_range, \u001b[38;5;28mmin\u001b[39m\u001b[38;5;241m=\u001b[39m\u001b[38;5;241m1\u001b[39m)))\u001b[38;5;241m.\u001b[39msum(\u001b[38;5;241m1\u001b[39m)\n\u001b[1;32m    121\u001b[0m \u001b[38;5;66;03m# Update the number of degrees >= d_min\u001b[39;00m\n\u001b[0;32m--> 122\u001b[0m new_n \u001b[38;5;241m=\u001b[39m n_old \u001b[38;5;241m-\u001b[39m (old_in_range\u001b[38;5;241m!=\u001b[39m\u001b[38;5;241m0\u001b[39m)\u001b[38;5;241m.\u001b[39msum(\u001b[38;5;241m1\u001b[39m) \u001b[38;5;241m+\u001b[39m \u001b[43m(\u001b[49m\u001b[43mnew_in_range\u001b[49m\u001b[38;5;241;43m!=\u001b[39;49m\u001b[38;5;241;43m0\u001b[39;49m\u001b[43m)\u001b[49m\u001b[38;5;241;43m.\u001b[39;49m\u001b[43msum\u001b[49m\u001b[43m(\u001b[49m\u001b[38;5;241;43m1\u001b[39;49m\u001b[43m)\u001b[49m\n\u001b[1;32m    123\u001b[0m new_n \u001b[38;5;241m=\u001b[39m new_n\u001b[38;5;241m.\u001b[39mfloat()\n\u001b[1;32m    124\u001b[0m \u001b[38;5;28;01mreturn\u001b[39;00m sum_log_degrees_after, new_n\n",
      "\u001b[0;31mOutOfMemoryError\u001b[0m: CUDA out of memory. Tried to allocate 2.90 GiB (GPU 0; 31.74 GiB total capacity; 23.63 GiB already allocated; 2.67 GiB free; 26.20 GiB reserved in total by PyTorch) If reserved memory is >> allocated memory try setting max_split_size_mb to avoid fragmentation.  See documentation for Memory Management and PYTORCH_CUDA_ALLOC_CONF"
     ]
    }
   ],
   "source": [
    "amts = defaultdict(int)\n",
    "\n",
    "for _ in range(1):\n",
    "    attacker = Metattack(data, device=device)\n",
    "    attacker.setup_surrogate(\n",
    "        model,\n",
    "        labeled_nodes=data.train_mask,\n",
    "        unlabeled_nodes=data.test_mask,\n",
    "        lambda_=0.0,\n",
    "    )\n",
    "    attacker.reset()\n",
    "    attacker.attack(2)\n",
    "\n",
    "    for edge, itr in attacker._added_edges.items():\n",
    "        amts[edge] = itr\n",
    "\n",
    "    for edge, itr in attacker._removed_edges.items():\n",
    "        amts[edge] = itr\n",
    "\n",
    "sorted_list = sorted(amts.items(), key=lambda item: item[1], reverse=False)\n",
    "sorted_keys = [key for key, value in sorted_list]\n",
    "\n",
    "sorted_keys"
   ]
  },
  {
   "cell_type": "code",
   "execution_count": null,
   "id": "ccda2801-1bdb-4c77-be3b-02abc60680f1",
   "metadata": {},
   "outputs": [],
   "source": [
    "list_save_path = \"../attacks/pubmed_gcn_edges_full_run.pth\"\n",
    "torch.save(edges_to_add, list_save_path)"
   ]
  },
  {
   "cell_type": "code",
   "execution_count": null,
   "id": "2da8cd03-9f57-45bb-a874-4b0ef83d3969",
   "metadata": {},
   "outputs": [],
   "source": [
    "# # save model\n",
    "# model_save_path = \"multi_metattack_gcn_model.pth\"\n",
    "# torch.save(model.state_dict(), model_save_path)\n",
    "\n",
    "# # save edges\n",
    "# list_save_path = \"multi_metattack_edges_list.pth\"\n",
    "# torch.save(edges_to_add, list_save_path)"
   ]
  },
  {
   "cell_type": "code",
   "execution_count": null,
   "id": "ef3f201c-a315-427b-882d-c5e73dbad164",
   "metadata": {},
   "outputs": [],
   "source": [
    "# loaded_model_state_dict = torch.load(model_save_path)\n",
    "\n",
    "# model = GCN(data.x.shape[1], cora_dataset.num_classes, [16]).to(device)\n",
    "# model.load_state_dict(loaded_model_state_dict)\n",
    "\n",
    "# # Load the saved list\n",
    "# edges_to_add = torch.load(list_save_path)"
   ]
  },
  {
   "cell_type": "code",
   "execution_count": null,
   "id": "efa4286e-e30e-41bb-9c3e-a1f6596a1185",
   "metadata": {},
   "outputs": [],
   "source": [
    "# model_save_path = \"multi_metattack_gcn_model.pth\"\n",
    "# list_save_path = \"multi_metattack_edges_list.pth\""
   ]
  },
  {
   "cell_type": "code",
   "execution_count": null,
   "id": "c0fdf0f0-3307-4c75-8542-8c7e5bd08a9d",
   "metadata": {},
   "outputs": [],
   "source": [
    "# model, edges_to_add, train = load_model_and_edges(model_save_path, list_save_path, data.x.shape[1], cora_dataset.num_classes, [16], device)"
   ]
  },
  {
   "cell_type": "code",
   "execution_count": null,
   "id": "36c68be1-6eab-4254-861e-8fa00c3a96c2",
   "metadata": {},
   "outputs": [],
   "source": [
    "# G, initial_edge_count, ptb_rate, budget = initialize(data, _ptb_rate=0.15)"
   ]
  },
  {
   "cell_type": "code",
   "execution_count": null,
   "id": "584084e6-3fae-4f6a-8df5-fbe5ac77cec4",
   "metadata": {},
   "outputs": [],
   "source": [
    "# len(edges_to_add)"
   ]
  },
  {
   "cell_type": "code",
   "execution_count": null,
   "id": "40026090-7f45-428a-b366-b4a802dc9fd4",
   "metadata": {},
   "outputs": [],
   "source": [
    "# def two_phase_attack(split):\n",
    "#     diff_threshold = abs(initial_loss/200)\n",
    "#     first_phase_edges = int(budget * split)\n",
    "#     second_phase_percent = ptb_rate * (1 - split) * 1/2\n",
    "#     print(second_phase_percent)\n",
    "#     accuracies = []\n",
    "#     G = to_networkx(data, to_undirected=True)\n",
    "    \n",
    "#     data_copy = copy.copy(data)\n",
    "#     i, j = 0, 0 # i - number added, j - spot in list\n",
    "#     while i < first_phase_edges:\n",
    "#         u, v = edges_to_add[j]\n",
    "    \n",
    "#         G.add_edge(u, v)\n",
    "    \n",
    "#         modified_data = from_networkx(G).to(device)\n",
    "#         modified_data.x = data.x \n",
    "#         modified_data.y = data.y \n",
    "#         modified_data.train_mask = data.train_mask\n",
    "#         modified_data.test_mask = data.test_mask\n",
    "    \n",
    "#         modified_loss, modified_accuracy = train.test(modified_data)\n",
    "#         # print(modified_loss)\n",
    "    \n",
    "#         if (abs(modified_loss - initial_loss) / max(modified_loss, initial_loss)) <= diff_threshold:\n",
    "#         # if modified_accuracy == initial_accuracy:\n",
    "#             # print(modified_accuracy, i)\n",
    "#             i += 1\n",
    "#             # accuracies.append(modified_accuracy)\n",
    "#             accuracies.append(modified_loss)\n",
    "#         else:\n",
    "#             # print(i, 'miss!')\n",
    "#             G.remove_edge(u, v)\n",
    "            \n",
    "#         j += 1\n",
    "    \n",
    "#     modified_data = from_networkx(G).to(device)\n",
    "#     modified_data.x = data.x \n",
    "#     modified_data.y = data.y \n",
    "#     modified_data.train_mask = data.train_mask\n",
    "#     modified_data.test_mask = data.test_mask\n",
    "    \n",
    "#     attacker = Metattack(modified_data, device=device)\n",
    "#     attacker.setup_surrogate(model,\n",
    "#                              labeled_nodes=data.train_mask,\n",
    "#                              unlabeled_nodes=data.test_mask, lambda_=0.)\n",
    "#     attacker.reset()\n",
    "#     attacker.attack(second_phase_percent)\n",
    "\n",
    "#     degs = defaultdict(tuple)\n",
    "    \n",
    "#     for k, v in attacker._added_edges.items():\n",
    "#         degs[v] = (k, True)\n",
    "        \n",
    "#     for k, v in attacker._removed_edges.items():\n",
    "#         degs[v] = (k, False)\n",
    "    \n",
    "#     for _, second in degs.items():\n",
    "#         u, v = second[0]\n",
    "#         if second[1]:\n",
    "#             G.add_edge(u, v)\n",
    "#         else:\n",
    "#             G.remove_edge(u, v)\n",
    "    \n",
    "#         modified_data = from_networkx(G).to(device)\n",
    "#         modified_data.x = data.x \n",
    "#         modified_data.y = data.y \n",
    "#         modified_data.train_mask = data.train_mask\n",
    "#         modified_data.test_mask = data.test_mask\n",
    "    \n",
    "#         modified_loss, modified_accuracy = train.test(modified_data)\n",
    "    \n",
    "#         # accuracies.append(modified_accuracy)\n",
    "#         accuracies.append(modified_loss)\n",
    "\n",
    "#     print(accuracies)\n",
    "#     return accuracies"
   ]
  },
  {
   "cell_type": "code",
   "execution_count": null,
   "id": "80fd073a-4423-4e8c-9274-932328a3449d",
   "metadata": {},
   "outputs": [],
   "source": [
    "# splits = [0, 0.5, 0.7, 0.9]\n",
    "# split_dic_acc = defaultdict(list)\n",
    "# split_dic_loss = defaultdict(list)\n",
    "# itrs = defaultdict(int)"
   ]
  },
  {
   "cell_type": "code",
   "execution_count": null,
   "id": "87ee51e3-0ebe-493d-9d05-ead595134f58",
   "metadata": {},
   "outputs": [],
   "source": [
    "# for s in splits:\n",
    "#     print(s)\n",
    "#     split_dic_acc[s], split_dic_loss[s], itrs[s] = two_phase_attack_greedy(data, train, model, s, edges_to_add, constant_fn, device, verbose=True)"
   ]
  },
  {
   "cell_type": "code",
   "execution_count": null,
   "id": "d5737e7a-83c6-40be-aaea-57e9a28da178",
   "metadata": {},
   "outputs": [],
   "source": [
    "# plot_results(split_dic_acc, ptb_rate, \"Greedy\", \"no\", \"constant\", \"accuracy\")"
   ]
  },
  {
   "cell_type": "code",
   "execution_count": null,
   "id": "f0b85dcd-7f2c-41c2-9849-2bf2f21d552b",
   "metadata": {},
   "outputs": [],
   "source": [
    "# plot_results(split_dic_loss, ptb_rate, \"Greedy\", \"no\", \"constant\", \"loss\")"
   ]
  },
  {
   "cell_type": "code",
   "execution_count": null,
   "id": "93475417-e0cc-4ce1-aa65-c2485759ad56",
   "metadata": {},
   "outputs": [],
   "source": [
    "# itrs"
   ]
  }
 ],
 "metadata": {
  "kernelspec": {
   "display_name": "Python 3 (ipykernel)",
   "language": "python",
   "name": "python3"
  },
  "language_info": {
   "codemirror_mode": {
    "name": "ipython",
    "version": 3
   },
   "file_extension": ".py",
   "mimetype": "text/x-python",
   "name": "python",
   "nbconvert_exporter": "python",
   "pygments_lexer": "ipython3",
   "version": "3.8.18"
  }
 },
 "nbformat": 4,
 "nbformat_minor": 5
}
