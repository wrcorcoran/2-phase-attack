{
 "cells": [
  {
   "cell_type": "code",
   "execution_count": null,
   "id": "cbc284fc-8e46-4645-bb36-6f79054e5e53",
   "metadata": {},
   "outputs": [],
   "source": [
    "from greedy_mcmc_attack import *\n",
    "from data_collection.recordings import *\n",
    "import sys\n",
    "sys.path.append(\"../../\")\n",
    "from src.models.gcn import *\n",
    "from src.models.gat import *\n",
    "from src.models.gsage import *"
   ]
  },
  {
   "cell_type": "code",
   "execution_count": null,
   "id": "b484ec46-7057-4bcf-b042-f76d632d7dcb",
   "metadata": {},
   "outputs": [],
   "source": [
    "device = \"cuda\" if torch.cuda.is_available() else \"cpu\""
   ]
  },
  {
   "cell_type": "code",
   "execution_count": null,
   "id": "8e03370f-1e5a-45ce-a6c4-6577604acf39",
   "metadata": {},
   "outputs": [],
   "source": [
    "# dataset_directory = \"../Pubmed\"\n",
    "pubmed_dataset = Planetoid(root='', name='Pubmed')\n",
    "data = pubmed_dataset[0].to(device)\n",
    "print(data)\n",
    "\n",
    "trials = 5"
   ]
  },
  {
   "cell_type": "code",
   "execution_count": null,
   "id": "f17fd5eb-4632-4d81-8f51-ade39a1a3007",
   "metadata": {},
   "outputs": [],
   "source": [
    "edges_to_add = None"
   ]
  },
  {
   "cell_type": "code",
   "execution_count": null,
   "id": "e08cf2cd-3107-4fc4-abba-0bf6224d3c3b",
   "metadata": {},
   "outputs": [],
   "source": [
    "model = GCN(data.x.shape[1], pubmed_dataset.num_classes, [16]).to(device)"
   ]
  },
  {
   "cell_type": "code",
   "execution_count": null,
   "id": "ebee2287-3fc4-4710-99fd-a6499fde0a54",
   "metadata": {},
   "outputs": [],
   "source": [
    "model_save_path = \"../models/pubmed_gcn_model.pth\"\n",
    "list_save_path = \"../attacks/pubmed_gcn_edges_full_run.pth\"\n",
    "# list_save_path = \"../attacks/pubmed_gcn_edges.pth\"\n",
    "# # multi_metattack_edges_list.pth\n",
    "# list_save_path = \"multi_metattack_edges_list.pth\""
   ]
  },
  {
   "cell_type": "code",
   "execution_count": null,
   "id": "ef3f201c-a315-427b-882d-c5e73dbad164",
   "metadata": {},
   "outputs": [],
   "source": [
    "model, edges_to_add, train = load_model_and_edges(model_save_path, list_save_path, model, device)"
   ]
  },
  {
   "cell_type": "code",
   "execution_count": null,
   "id": "837669c2-a06f-4e8c-8629-4083497e088e",
   "metadata": {},
   "outputs": [],
   "source": [
    "# Get initial accuracy\n",
    "initial_loss, initial_accuracy = train.test(data)\n",
    "print(f\"Initial Accuracy: {initial_accuracy}\")\n",
    "print(f\"Initial Loss: {initial_loss}\")"
   ]
  },
  {
   "cell_type": "code",
   "execution_count": null,
   "id": "de652b4f-cff6-41db-8e78-29644d232917",
   "metadata": {},
   "outputs": [],
   "source": [
    "G, initial_edge_count, ptb_rate, budget = initialize(data, _ptb_rate=0.20)"
   ]
  },
  {
   "cell_type": "code",
   "execution_count": null,
   "id": "0c2d8085-bebd-43d7-b6b1-044f292389c0",
   "metadata": {},
   "outputs": [],
   "source": [
    "full_metattack_acc, full_metattack_loss, full_metattack_itrs = [], [], []\n",
    "for _ in range(trials):\n",
    "    acc, loss, itrs = two_phase_attack_greedy(data, train, model, 0.0, edges_to_add, constant_fn, device, is_reversed=False, verbose=True)\n",
    "    full_metattack_acc.append(acc)\n",
    "    full_metattack_loss.append(loss)\n",
    "    full_metattack_itrs.append(itrs)"
   ]
  },
  {
   "cell_type": "code",
   "execution_count": null,
   "id": "bfa56f73-a50a-4e1b-97c7-682ae6e5a217",
   "metadata": {},
   "outputs": [],
   "source": [
    "edges_to_add"
   ]
  },
  {
   "cell_type": "markdown",
   "id": "29abb8dc-3581-4297-af1e-46d8f8fccd77",
   "metadata": {},
   "source": [
    "##### ideally, we could show some metric, where (change in loss after hidden for %) > (% * max change in loss)"
   ]
  },
  {
   "cell_type": "markdown",
   "id": "1bf3a801-f644-478f-af37-b1d672de1570",
   "metadata": {},
   "source": [
    "# regular, secondary attack, not reversed"
   ]
  },
  {
   "cell_type": "code",
   "execution_count": null,
   "id": "345755e4-2500-4c33-872e-716b386f0c8f",
   "metadata": {},
   "outputs": [],
   "source": [
    "# split_dic_acc"
   ]
  },
  {
   "cell_type": "code",
   "execution_count": null,
   "id": "1da493d7-4d26-4112-a0b7-751ee418c442",
   "metadata": {},
   "outputs": [],
   "source": [
    "splits = [0.0, 0.5]\n",
    "\n",
    "split_dic_acc = defaultdict(lambda: defaultdict(list))\n",
    "split_dic_loss = defaultdict(lambda: defaultdict(list))\n",
    "itrs_one = defaultdict(lambda: defaultdict(int))"
   ]
  },
  {
   "cell_type": "code",
   "execution_count": null,
   "id": "a9dae5ec-f221-46a7-babe-f94b36ee1493",
   "metadata": {},
   "outputs": [],
   "source": [
    "# data"
   ]
  },
  {
   "cell_type": "code",
   "execution_count": null,
   "id": "1ca9d53e-b66d-42fb-bb6c-9cfcedde7a3e",
   "metadata": {
    "scrolled": true
   },
   "outputs": [],
   "source": [
    "for s in splits:\n",
    "    for j in range(trials):\n",
    "        if s == 0.0:\n",
    "            split_dic_acc[s][j], split_dic_loss[s][j], itrs_one[s][j] = full_metattack_acc[j], full_metattack_loss[j], full_metattack_itrs[j]\n",
    "        else:\n",
    "            split_dic_acc[s][j], split_dic_loss[s][j], itrs_one[s][j] = two_phase_attack_greedy(data, train, model, s, edges_to_add, constant_fn, device, is_reversed=False, verbose=True)"
   ]
  },
  {
   "cell_type": "code",
   "execution_count": null,
   "id": "1617b910-17af-460a-97f5-42c00fb81fb6",
   "metadata": {},
   "outputs": [],
   "source": [
    "split_dic_acc = dict(split_dic_acc)\n",
    "split_dic_loss = dict(split_dic_loss)\n",
    "itrs_one = dict(itrs_one)"
   ]
  },
  {
   "cell_type": "code",
   "execution_count": null,
   "id": "5158de82-c636-471a-88b4-d652daeae0e9",
   "metadata": {},
   "outputs": [],
   "source": [
    "record1 = Recording(split_dic_loss, split_dic_acc, itrs_one, Model.GCN, Dataset.PUBMED, AcceptFn.CONSTANT, SelectFn.NONE, Reverse.ATTACKED)\n",
    "record1.save(f'data_collection/{\"greedy\"}_{\"gcn\"}_{\"pubmed\"}_{\"constant\"}_{\"attacked\"}_results.pkl')"
   ]
  },
  {
   "cell_type": "code",
   "execution_count": null,
   "id": "73d05238-ee7b-4cf3-b6a7-a8b9beddcc78",
   "metadata": {},
   "outputs": [],
   "source": [
    "split_dic_loss"
   ]
  },
  {
   "cell_type": "code",
   "execution_count": null,
   "id": "aab17342-ef23-497c-8283-ac76ea8f32e6",
   "metadata": {},
   "outputs": [],
   "source": [
    "# plot_results({0: split_dic_acc[0.0][0], 0.5: split_dic_acc[0.5][0]}, ptb_rate, \"Greedy\", \"\", \"constant\", \"accuracy\", \"regular\")"
   ]
  },
  {
   "cell_type": "code",
   "execution_count": null,
   "id": "29656bc7-6361-4342-bc6f-f0d40ae5ffc8",
   "metadata": {},
   "outputs": [],
   "source": [
    "# plot_results({0: split_dic_loss[0.0][0], 0.5: split_dic_loss[0.5][0]}, ptb_rate, \"Greedy\", \"\", \"constant\", \"loss\", \"regular\")"
   ]
  },
  {
   "cell_type": "markdown",
   "id": "d1f3b467-1160-45d3-bd50-2e4a4d473b6a",
   "metadata": {},
   "source": [
    "##### ideally, we could show some metric, where (change in loss after hidden for %) > (% * max change in loss)"
   ]
  },
  {
   "cell_type": "code",
   "execution_count": null,
   "id": "0bf054d8-566a-44ca-a8fc-194878368373",
   "metadata": {},
   "outputs": [],
   "source": [
    "split_dic_decreasing_acc = defaultdict(lambda: defaultdict(list))\n",
    "itrs_two = defaultdict(lambda: defaultdict(int))\n",
    "split_dic_decreasing_loss = defaultdict(lambda: defaultdict(list))"
   ]
  },
  {
   "cell_type": "code",
   "execution_count": null,
   "id": "ee71e6c2-4494-42d4-98fd-c0a10495c87d",
   "metadata": {},
   "outputs": [],
   "source": [
    "for s in splits:\n",
    "    for j in range(trials):\n",
    "        if s == 0.0:\n",
    "            split_dic_decreasing_acc[s][j], split_dic_decreasing_loss[s][j], itrs_two[s][j] = full_metattack_acc[j], full_metattack_loss[j], full_metattack_itrs[j]\n",
    "        else:\n",
    "            split_dic_decreasing_acc[s][j], split_dic_decreasing_loss[s][j], itrs_two[s][j] = two_phase_attack_greedy(data, train, model, s, edges_to_add, increasing_fn, device, is_reversed=False, verbose=True)"
   ]
  },
  {
   "cell_type": "code",
   "execution_count": null,
   "id": "fd519c61-69b9-40ef-83df-5968e12dad9e",
   "metadata": {},
   "outputs": [],
   "source": [
    "split_dic_decreasing_acc = dict(split_dic_decreasing_acc)\n",
    "split_dic_decreasing_loss = dict(split_dic_decreasing_loss)\n",
    "itrs_two = dict(itrs_two)"
   ]
  },
  {
   "cell_type": "code",
   "execution_count": null,
   "id": "e5d49ae7-8750-4167-90b7-1f9ede26c473",
   "metadata": {},
   "outputs": [],
   "source": [
    "record1 = Recording(split_dic_decreasing_loss, split_dic_decreasing_acc, itrs_two, Model.GCN, Dataset.PUBMED, AcceptFn.INCREASING, SelectFn.NONE, Reverse.ATTACKED)\n",
    "record1.save(f'data_collection/{\"greedy\"}_{\"gcn\"}_{\"pubmed\"}_{\"increasing\"}_{\"attacked\"}_results.pkl')"
   ]
  },
  {
   "cell_type": "code",
   "execution_count": null,
   "id": "0e1a048d-5a43-4d9e-b759-452571d6542c",
   "metadata": {},
   "outputs": [],
   "source": [
    "# plot_results({0: split_dic_decreasing_acc[0.0][0], 0.5: split_dic_decreasing_acc[0.5][0]}, ptb_rate, \"Greedy\", \"\", \"increasing\", \"accuracy\", \"regular\")"
   ]
  },
  {
   "cell_type": "code",
   "execution_count": null,
   "id": "7383f4a6-8e55-44a5-9328-cf00bc09f4f5",
   "metadata": {},
   "outputs": [],
   "source": [
    "# plot_results({0: split_dic_decreasing_loss[0.0][0], 0.5: split_dic_decreasing_loss[0.5][0]}, ptb_rate, \"Greedy\", \"\", \"increasing\", \"loss\", \"regular\")"
   ]
  }
 ],
 "metadata": {
  "kernelspec": {
   "display_name": "Python 3 (ipykernel)",
   "language": "python",
   "name": "python3"
  },
  "language_info": {
   "codemirror_mode": {
    "name": "ipython",
    "version": 3
   },
   "file_extension": ".py",
   "mimetype": "text/x-python",
   "name": "python",
   "nbconvert_exporter": "python",
   "pygments_lexer": "ipython3",
   "version": "3.8.18"
  }
 },
 "nbformat": 4,
 "nbformat_minor": 5
}
