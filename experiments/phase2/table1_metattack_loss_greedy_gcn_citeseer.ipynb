{
 "cells": [
  {
   "cell_type": "code",
   "execution_count": 1,
   "id": "cbc284fc-8e46-4645-bb36-6f79054e5e53",
   "metadata": {},
   "outputs": [],
   "source": [
    "from greedy_mcmc_attack import *\n",
    "from data_collection.recordings import *\n",
    "import sys\n",
    "sys.path.append(\"../../\")\n",
    "from src.models.gcn import *\n",
    "from src.models.gat import *\n",
    "from src.models.gsage import *"
   ]
  },
  {
   "cell_type": "code",
   "execution_count": 2,
   "id": "b484ec46-7057-4bcf-b042-f76d632d7dcb",
   "metadata": {},
   "outputs": [],
   "source": [
    "device = \"cuda\" if torch.cuda.is_available() else \"cpu\""
   ]
  },
  {
   "cell_type": "code",
   "execution_count": 3,
   "id": "8e03370f-1e5a-45ce-a6c4-6577604acf39",
   "metadata": {},
   "outputs": [
    {
     "name": "stdout",
     "output_type": "stream",
     "text": [
      "Data(x=[3327, 3703], edge_index=[2, 9104], y=[3327], train_mask=[3327], val_mask=[3327], test_mask=[3327])\n"
     ]
    }
   ],
   "source": [
    "# dataset_directory = \"../Cora\"\n",
    "cora_dataset = Planetoid(root='', name='Citeseer')\n",
    "data = cora_dataset[0].to(device)\n",
    "print(data)\n",
    "trials = 5"
   ]
  },
  {
   "cell_type": "code",
   "execution_count": 4,
   "id": "f17fd5eb-4632-4d81-8f51-ade39a1a3007",
   "metadata": {},
   "outputs": [],
   "source": [
    "edges_to_add = None"
   ]
  },
  {
   "cell_type": "code",
   "execution_count": 5,
   "id": "e08cf2cd-3107-4fc4-abba-0bf6224d3c3b",
   "metadata": {},
   "outputs": [],
   "source": [
    "model = GCN(data.x.shape[1], cora_dataset.num_classes, [16]).to(device)"
   ]
  },
  {
   "cell_type": "code",
   "execution_count": 6,
   "id": "ebee2287-3fc4-4710-99fd-a6499fde0a54",
   "metadata": {},
   "outputs": [],
   "source": [
    "model_save_path = \"../models/citeseer_gcn_model.pth\"\n",
    "list_save_path = \"../attacks/citeseer_gcn_edges_full_run.pth\"\n",
    "# # multi_metattack_edges_list.pth\n",
    "# list_save_path = \"multi_metattack_edges_list.pth\""
   ]
  },
  {
   "cell_type": "code",
   "execution_count": 7,
   "id": "ef3f201c-a315-427b-882d-c5e73dbad164",
   "metadata": {},
   "outputs": [],
   "source": [
    "model, edges_to_add, train = load_model_and_edges(model_save_path, list_save_path, model, device)"
   ]
  },
  {
   "cell_type": "code",
   "execution_count": 8,
   "id": "837669c2-a06f-4e8c-8629-4083497e088e",
   "metadata": {},
   "outputs": [
    {
     "name": "stdout",
     "output_type": "stream",
     "text": [
      "Initial Accuracy: 0.69\n",
      "Initial Loss: 1.2167097330093384\n"
     ]
    }
   ],
   "source": [
    "# Get initial accuracy\n",
    "initial_loss, initial_accuracy = train.test(data)\n",
    "print(f\"Initial Accuracy: {initial_accuracy}\")\n",
    "print(f\"Initial Loss: {initial_loss}\")"
   ]
  },
  {
   "cell_type": "code",
   "execution_count": 9,
   "id": "de652b4f-cff6-41db-8e78-29644d232917",
   "metadata": {},
   "outputs": [],
   "source": [
    "G, initial_edge_count, ptb_rate, budget = initialize(data, _ptb_rate=0.20)"
   ]
  },
  {
   "cell_type": "code",
   "execution_count": null,
   "id": "5ad3a8ce-a31e-4183-bdbc-60d41a0b3ec6",
   "metadata": {},
   "outputs": [
    {
     "data": {
      "application/vnd.jupyter.widget-view+json": {
       "model_id": "8f340f64d3564bc1b6c3345a6f251daf",
       "version_major": 2,
       "version_minor": 0
      },
      "text/plain": [
       "Peturbing graph...:   0%|          | 0/455 [00:00<?, ?it/s]"
      ]
     },
     "metadata": {},
     "output_type": "display_data"
    },
    {
     "name": "stdout",
     "output_type": "stream",
     "text": [
      "Surrogate loss on unlabled data: 0.9855559468269348\n",
      "Surrogate acc on unlabled data: 0.6990000000000001\n",
      "Attack loss: 0.32994788885116577\n",
      "Surrogate loss on unlabled data: 1.2558293342590332\n",
      "Surrogate acc on unlabled data: 0.642\n",
      "Attack loss: 0.6012729406356812\n",
      "Surrogate loss on unlabled data: 1.3341989517211914\n",
      "Surrogate acc on unlabled data: 0.628\n",
      "Attack loss: 0.7639239430427551\n",
      "Surrogate loss on unlabled data: 1.420682668685913\n",
      "Surrogate acc on unlabled data: 0.613\n",
      "Attack loss: 0.9208765029907227\n",
      "Surrogate loss on unlabled data: 1.6383326053619385\n",
      "Surrogate acc on unlabled data: 0.562\n",
      "Attack loss: 1.133531093597412\n",
      "Surrogate loss on unlabled data: 1.6173580884933472\n",
      "Surrogate acc on unlabled data: 0.554\n",
      "Attack loss: 1.184903860092163\n",
      "Surrogate loss on unlabled data: 1.7345726490020752\n",
      "Surrogate acc on unlabled data: 0.549\n",
      "Attack loss: 1.2981828451156616\n",
      "Surrogate loss on unlabled data: 2.0600335597991943\n",
      "Surrogate acc on unlabled data: 0.524\n",
      "Attack loss: 1.6107633113861084\n",
      "Surrogate loss on unlabled data: 2.0057802200317383\n",
      "Surrogate acc on unlabled data: 0.526\n",
      "Attack loss: 1.5690250396728516\n",
      "Surrogate loss on unlabled data: 2.109835147857666\n",
      "Surrogate acc on unlabled data: 0.505\n",
      "Attack loss: 1.7271736860275269\n",
      "Surrogate loss on unlabled data: 2.1270430088043213\n",
      "Surrogate acc on unlabled data: 0.483\n",
      "Attack loss: 1.8170591592788696\n",
      "Surrogate loss on unlabled data: 2.300138235092163\n",
      "Surrogate acc on unlabled data: 0.455\n",
      "Attack loss: 1.9948058128356934\n",
      "Surrogate loss on unlabled data: 2.4727132320404053\n",
      "Surrogate acc on unlabled data: 0.443\n",
      "Attack loss: 2.1460680961608887\n",
      "Surrogate loss on unlabled data: 2.559502124786377\n",
      "Surrogate acc on unlabled data: 0.432\n",
      "Attack loss: 2.237102508544922\n",
      "Surrogate loss on unlabled data: 2.6209962368011475\n",
      "Surrogate acc on unlabled data: 0.42\n",
      "Attack loss: 2.2982866764068604\n",
      "Surrogate loss on unlabled data: 2.957821846008301\n",
      "Surrogate acc on unlabled data: 0.395\n",
      "Attack loss: 2.647196054458618\n",
      "Surrogate loss on unlabled data: 2.8851025104522705\n",
      "Surrogate acc on unlabled data: 0.392\n",
      "Attack loss: 2.5842268466949463\n",
      "Surrogate loss on unlabled data: 3.213669538497925\n",
      "Surrogate acc on unlabled data: 0.373\n",
      "Attack loss: 2.914874792098999\n",
      "Surrogate loss on unlabled data: 3.521275281906128\n",
      "Surrogate acc on unlabled data: 0.378\n",
      "Attack loss: 3.19111704826355\n",
      "Surrogate loss on unlabled data: 3.4557950496673584\n",
      "Surrogate acc on unlabled data: 0.371\n",
      "Attack loss: 3.134680986404419\n",
      "Surrogate loss on unlabled data: 3.749079942703247\n",
      "Surrogate acc on unlabled data: 0.377\n",
      "Attack loss: 3.4064853191375732\n",
      "Surrogate loss on unlabled data: 3.8644745349884033\n",
      "Surrogate acc on unlabled data: 0.34800000000000003\n",
      "Attack loss: 3.523974895477295\n",
      "Surrogate loss on unlabled data: 4.054840564727783\n",
      "Surrogate acc on unlabled data: 0.356\n",
      "Attack loss: 3.7862658500671387\n"
     ]
    },
    {
     "data": {
      "application/vnd.jupyter.widget-view+json": {
       "model_id": "12c95a933cf54546a7ca46999f9525cc",
       "version_major": 2,
       "version_minor": 0
      },
      "text/plain": [
       "Peturbing graph...:   0%|          | 0/455 [00:00<?, ?it/s]"
      ]
     },
     "metadata": {},
     "output_type": "display_data"
    },
    {
     "name": "stdout",
     "output_type": "stream",
     "text": [
      "Surrogate loss on unlabled data: 0.9931710958480835\n",
      "Surrogate acc on unlabled data: 0.687\n",
      "Attack loss: 0.3328549861907959\n",
      "Surrogate loss on unlabled data: 1.1444406509399414\n",
      "Surrogate acc on unlabled data: 0.67\n",
      "Attack loss: 0.5647733211517334\n",
      "Surrogate loss on unlabled data: 1.3164896965026855\n",
      "Surrogate acc on unlabled data: 0.631\n",
      "Attack loss: 0.7717063426971436\n",
      "Surrogate loss on unlabled data: 1.5090131759643555\n",
      "Surrogate acc on unlabled data: 0.61\n",
      "Attack loss: 0.9843701720237732\n",
      "Surrogate loss on unlabled data: 1.5806121826171875\n",
      "Surrogate acc on unlabled data: 0.578\n",
      "Attack loss: 1.0521540641784668\n",
      "Surrogate loss on unlabled data: 1.7531664371490479\n",
      "Surrogate acc on unlabled data: 0.545\n",
      "Attack loss: 1.2412980794906616\n",
      "Surrogate loss on unlabled data: 1.825074315071106\n",
      "Surrogate acc on unlabled data: 0.529\n",
      "Attack loss: 1.3524757623672485\n",
      "Surrogate loss on unlabled data: 1.9374980926513672\n",
      "Surrogate acc on unlabled data: 0.521\n",
      "Attack loss: 1.4676785469055176\n"
     ]
    }
   ],
   "source": [
    "full_metattack_acc, full_metattack_loss, full_metattack_itrs = [], [], []\n",
    "for _ in range(trials):\n",
    "    acc, loss, itrs = two_phase_attack_mcmc(data, train, model, 0.0, edges_to_add, binary_fn, constant_fn, device, is_reversed=False, verbose=True)\n",
    "    full_metattack_acc.append(acc)\n",
    "    full_metattack_loss.append(loss)\n",
    "    full_metattack_itrs.append(itrs)"
   ]
  },
  {
   "cell_type": "markdown",
   "id": "1bf3a801-f644-478f-af37-b1d672de1570",
   "metadata": {},
   "source": [
    "# regular, secondary attack, not reversed"
   ]
  },
  {
   "cell_type": "code",
   "execution_count": null,
   "id": "01ce1d12-3cd2-476f-b9b6-f1ee46145e4b",
   "metadata": {},
   "outputs": [],
   "source": [
    "splits = [0.0, 0.5]\n",
    "\n",
    "split_dic_acc = defaultdict(lambda: defaultdict(list))\n",
    "split_dic_loss = defaultdict(lambda: defaultdict(list))\n",
    "itrs_one = defaultdict(lambda: defaultdict(int))"
   ]
  },
  {
   "cell_type": "code",
   "execution_count": null,
   "id": "1ca9d53e-b66d-42fb-bb6c-9cfcedde7a3e",
   "metadata": {
    "scrolled": true
   },
   "outputs": [],
   "source": [
    "for s in splits:\n",
    "    for j in range(trials):\n",
    "        if s == 0.0:\n",
    "            split_dic_acc[s][j], split_dic_loss[s][j], itrs_one[s][j] = full_metattack_acc[j], full_metattack_loss[j], full_metattack_itrs[j]\n",
    "        else:\n",
    "            split_dic_acc[s][j], split_dic_loss[s][j], itrs_one[s][j] = two_phase_attack_greedy(data, train, model, s, edges_to_add, constant_fn, device, is_reversed=False, verbose=True)"
   ]
  },
  {
   "cell_type": "code",
   "execution_count": null,
   "id": "5158de82-c636-471a-88b4-d652daeae0e9",
   "metadata": {},
   "outputs": [],
   "source": [
    "record1 = Recording(split_dic_loss, split_dic_acc, itrs_one, Model.GCN, Dataset.CITESEER, AcceptFn.CONSTANT, SelectFn.NONE, Reverse.ATTACKED)\n",
    "record1.save(f'data_collection/{\"greedy\"}_{\"gcn\"}_{\"citeseer\"}_{\"constant\"}_{\"attacked\"}_results.pkl')"
   ]
  },
  {
   "cell_type": "code",
   "execution_count": null,
   "id": "aab17342-ef23-497c-8283-ac76ea8f32e6",
   "metadata": {},
   "outputs": [],
   "source": [
    "# plot_results(split_dic_acc, ptb_rate, \"Greedy\", \"\", \"constant\", \"accuracy\", \"regular\")"
   ]
  },
  {
   "cell_type": "code",
   "execution_count": null,
   "id": "29656bc7-6361-4342-bc6f-f0d40ae5ffc8",
   "metadata": {},
   "outputs": [],
   "source": [
    "# plot_results(split_dic_loss, ptb_rate, \"Greedy\", \"\", \"constant\", \"loss\", \"regular\")"
   ]
  },
  {
   "cell_type": "markdown",
   "id": "d1f3b467-1160-45d3-bd50-2e4a4d473b6a",
   "metadata": {},
   "source": [
    "##### ideally, we could show some metric, where (change in loss after hidden for %) > (% * max change in loss)"
   ]
  },
  {
   "cell_type": "code",
   "execution_count": null,
   "id": "0bf054d8-566a-44ca-a8fc-194878368373",
   "metadata": {},
   "outputs": [],
   "source": [
    "split_dic_decreasing_acc = defaultdict(lambda: defaultdict(list))\n",
    "itrs_two = defaultdict(lambda: defaultdict(int))\n",
    "split_dic_decreasing_loss = defaultdict(lambda: defaultdict(list))"
   ]
  },
  {
   "cell_type": "code",
   "execution_count": null,
   "id": "ee71e6c2-4494-42d4-98fd-c0a10495c87d",
   "metadata": {},
   "outputs": [],
   "source": [
    "for s in splits:\n",
    "    for j in range(trials):\n",
    "        if s == 0.0:\n",
    "            split_dic_decreasing_acc[s][j], split_dic_decreasing_loss[s][j], itrs_two[s][j] = full_metattack_acc[j], full_metattack_loss[j], full_metattack_itrs[j]\n",
    "        else:\n",
    "            split_dic_decreasing_acc[s][j], split_dic_decreasing_loss[s][j], itrs_two[s][j] = two_phase_attack_greedy(data, train, model, s, edges_to_add, increasing_fn, device, is_reversed=False, verbose=True)"
   ]
  },
  {
   "cell_type": "code",
   "execution_count": null,
   "id": "e5d49ae7-8750-4167-90b7-1f9ede26c473",
   "metadata": {},
   "outputs": [],
   "source": [
    "record1 = Recording(split_dic_decreasing_loss, split_dic_decreasing_acc, itrs_two, Model.GCN, Dataset.CITESEER, AcceptFn.INCREASING, SelectFn.NONE, Reverse.ATTACKED)\n",
    "record1.save(f'data_collection/{\"greedy\"}_{\"gcn\"}_{\"citeseer\"}_{\"increasing\"}_{\"attacked\"}_results.pkl')"
   ]
  },
  {
   "cell_type": "code",
   "execution_count": null,
   "id": "0e1a048d-5a43-4d9e-b759-452571d6542c",
   "metadata": {},
   "outputs": [],
   "source": [
    "# plot_results(split_dic_decreasing_acc, ptb_rate, \"Greedy\", \"\", \"increasing\", \"accuracy\", \"regular\")"
   ]
  },
  {
   "cell_type": "code",
   "execution_count": null,
   "id": "7383f4a6-8e55-44a5-9328-cf00bc09f4f5",
   "metadata": {},
   "outputs": [],
   "source": [
    "# plot_results(split_dic_decreasing_loss, ptb_rate, \"Greedy\", \"\", \"increasing\", \"loss\", \"regular\")"
   ]
  }
 ],
 "metadata": {
  "kernelspec": {
   "display_name": "Python 3 (ipykernel)",
   "language": "python",
   "name": "python3"
  },
  "language_info": {
   "codemirror_mode": {
    "name": "ipython",
    "version": 3
   },
   "file_extension": ".py",
   "mimetype": "text/x-python",
   "name": "python",
   "nbconvert_exporter": "python",
   "pygments_lexer": "ipython3",
   "version": "3.8.18"
  }
 },
 "nbformat": 4,
 "nbformat_minor": 5
}
