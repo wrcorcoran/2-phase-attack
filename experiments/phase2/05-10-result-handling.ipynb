{
 "cells": [
  {
   "cell_type": "code",
   "execution_count": 37,
   "id": "64563ce1-d083-4b0d-a06b-5645fca4fcf6",
   "metadata": {},
   "outputs": [],
   "source": [
    "from data_collection.recordings import *\n",
    "import numpy as np\n",
    "from greedy_mcmc_attack import *"
   ]
  },
  {
   "cell_type": "code",
   "execution_count": 27,
   "id": "931ce24d-762c-4d60-aa23-f3bb1162e672",
   "metadata": {},
   "outputs": [
    {
     "name": "stdout",
     "output_type": "stream",
     "text": [
      "MCMC GCN Cora Constant Binary Change in Accuracy: -1.365%\n",
      "MCMC GCN Cora Constant Binary Change in Loss: 2.972%\n",
      "MCMC GCN Cora Constant Binary ITRS: 1.867\n",
      "\n",
      "MCMC GCN Citeseer Constant Binary Change in Accuracy: -2.609%\n",
      "MCMC GCN Citeseer Constant Binary Change in Loss: -1.267%\n",
      "MCMC GCN Citeseer Constant Binary ITRS: 2.022\n",
      "\n",
      "Metattack Cora GCN Change in Accuracy: -1.241%\n",
      "Metattack Cora GCN Change in Loss: 2.076%\n",
      "Metattack Cora GCN ITRS: 0.000\n",
      "\n",
      "MCMC GCN Cora Constant Decaying Change in Accuracy: -1.489%\n",
      "MCMC GCN Cora Constant Decaying Change in Loss: 5.007%\n",
      "MCMC GCN Cora Constant Decaying ITRS: 7.186\n",
      "\n",
      "Metattack Citeseer GCN Change in Accuracy: -2.319%\n",
      "Metattack Citeseer GCN Change in Loss: -2.247%\n",
      "Metattack Citeseer GCN ITRS: 0.000\n",
      "\n",
      "MCMC GCN Citeseer Constant Decaying Change in Accuracy: -1.884%\n",
      "MCMC GCN Citeseer Constant Decaying Change in Loss: -0.261%\n",
      "MCMC GCN Citeseer Constant Decaying ITRS: 6.439\n",
      "\n",
      "MCMC GCN Cora Increasing Binary Change in Accuracy: -1.737%\n",
      "MCMC GCN Cora Increasing Binary Change in Loss: 2.604%\n",
      "MCMC GCN Cora Increasing Binary ITRS: 1.697\n",
      "\n",
      "MCMC GCN Citeseer Increasing Binary Change in Accuracy: -1.594%\n",
      "MCMC GCN Citeseer Increasing Binary Change in Loss: -1.690%\n",
      "MCMC GCN Citeseer Increasing Binary ITRS: 2.658\n",
      "\n",
      "MCMC GCN Cora Increasing Decaying Change in Accuracy: -0.993%\n",
      "MCMC GCN Cora Increasing Decaying Change in Loss: 3.543%\n",
      "MCMC GCN Cora Increasing Decaying ITRS: 3.246\n",
      "\n",
      "MCMC GCN Citeseer Increasing Decaying Change in Accuracy: -2.754%\n",
      "MCMC GCN Citeseer Increasing Decaying Change in Loss: -0.053%\n",
      "MCMC GCN Citeseer Increasing Decaying ITRS: 4.329\n",
      "\n"
     ]
    }
   ],
   "source": [
    "mcmc_variants = {\n",
    "    \"Cora Constant Binary\": \"./data_collection/mcmc_gcn_cora_constant_binary_attacked_results.pkl\",\n",
    "    \"Citeseer Constant Binary\": \"./data_collection/mcmc_gcn_citeseer_constant_binary_attacked_results.pkl\",\n",
    "    \"Cora Constant Decaying\": \"./data_collection/mcmc_gcn_cora_constant_decaying_attacked_results.pkl\",\n",
    "    \"Citeseer Constant Decaying\": \"./data_collection/mcmc_gcn_citeseer_constant_decaying_attacked_results.pkl\",\n",
    "    \"Cora Increasing Binary\": \"./data_collection/mcmc_gcn_cora_increasing_binary_attacked_results.pkl\",\n",
    "    \"Citeseer Increasing Binary\": \"./data_collection/mcmc_gcn_citeseer_increasing_binary_attacked_results.pkl\",\n",
    "    \"Cora Increasing Decaying\": \"./data_collection/mcmc_gcn_cora_increasing_decaying_attacked_results.pkl\",\n",
    "    \"Citeseer Increasing Decaying\": \"./data_collection/mcmc_gcn_citeseer_increasing_decaying_attacked_results.pkl\"\n",
    "}\n",
    "\n",
    "for name, path in mcmc_variants.items():\n",
    "    data = Recording.load(path)\n",
    "\n",
    "    if name == \"Cora Constant Decaying\" or name == \"Citeseer Constant Decaying\":\n",
    "        acc_change = np.median([(v[-1] - v[0]) / v[0] for v in data.accuracies[0].values()])\n",
    "        loss_change = np.median([(v[-1] - v[0]) / v[0] for v in data.losses[0].values()])\n",
    "        iterations = np.median(list(data.iterations[0].values()))\n",
    "\n",
    "        print(f\"Metattack {name.split()[0]} GCN Change in Accuracy: {acc_change * 100:.3f}%\")\n",
    "        print(f\"Metattack {name.split()[0]} GCN Change in Loss: {loss_change * 100:.3f}%\")\n",
    "        print(f\"Metattack {name.split()[0]} GCN ITRS: {iterations:.3f}\")\n",
    "        print()\n",
    "\n",
    "    acc_change = np.median([(v[-1] - data.accuracies[0][k][0]) / data.accuracies[0][k][0]\n",
    "                            for k, v in data.accuracies[0.5].items()])\n",
    "    loss_change = np.median([(v[-1] - data.losses[0][k][0]) / data.losses[0][k][0]\n",
    "                             for k, v in data.losses[0.5].items()])\n",
    "    iterations = np.median(list(data.iterations[0.5].values()))\n",
    "\n",
    "    print(f\"MCMC GCN {name} Change in Accuracy: {acc_change * 100:.3f}%\")\n",
    "    print(f\"MCMC GCN {name} Change in Loss: {loss_change * 100:.3f}%\")\n",
    "    print(f\"MCMC GCN {name} ITRS: {iterations:.3f}\")\n",
    "    print()"
   ]
  },
  {
   "cell_type": "code",
   "execution_count": 34,
   "id": "31fa6de6-e165-48de-bc4e-cf73458cffd5",
   "metadata": {},
   "outputs": [
    {
     "data": {
      "text/plain": [
       "1.1823506355285645"
      ]
     },
     "execution_count": 34,
     "metadata": {},
     "output_type": "execute_result"
    }
   ],
   "source": [
    "data = Recording.load(\"./data_collection/greedy_gcn_citeseer_constant_attacked_results.pkl\")\n",
    "data.losses[0.0][0][-1]"
   ]
  },
  {
   "cell_type": "code",
   "execution_count": 29,
   "id": "bced094e-ea50-4df2-816b-79c8b7c80e1e",
   "metadata": {},
   "outputs": [
    {
     "name": "stdout",
     "output_type": "stream",
     "text": [
      "Metattack Cora GCN Change in Accuracy: -1.737%\n",
      "Metattack Cora GCN Change in Loss: 2.326%\n",
      "Metattack Cora GCN ITRS: 0.000\n",
      "\n",
      "Greedy GCN Cora Constant Change in Accuracy: -1.117%\n",
      "Greedy GCN Cora Constant Change in Loss: 1.743%\n",
      "Greedy GCN Cora Constant ITRS: 6.917\n",
      "\n",
      "Metattack Citeseer GCN Change in Accuracy: -2.464%\n",
      "Metattack Citeseer GCN Change in Loss: -2.140%\n",
      "Metattack Citeseer GCN ITRS: 0.000\n",
      "\n",
      "Greedy GCN Citeseer Constant Change in Accuracy: -2.464%\n",
      "Greedy GCN Citeseer Constant Change in Loss: 1.528%\n",
      "Greedy GCN Citeseer Constant ITRS: 7.338\n",
      "\n",
      "Greedy GCN Cora Increasing Change in Accuracy: -1.241%\n",
      "Greedy GCN Cora Increasing Change in Loss: 2.500%\n",
      "Greedy GCN Cora Increasing ITRS: 3.265\n",
      "\n",
      "Greedy GCN Citeseer Increasing Change in Accuracy: -1.594%\n",
      "Greedy GCN Citeseer Increasing Change in Loss: -0.962%\n",
      "Greedy GCN Citeseer Increasing ITRS: 3.982\n",
      "\n"
     ]
    }
   ],
   "source": [
    "greedy_variants = {\n",
    "    \"Cora Constant\": \"./data_collection/greedy_gcn_cora_constant_attacked_results.pkl\",\n",
    "    \"Citeseer Constant\": \"./data_collection/greedy_gcn_citeseer_constant_attacked_results.pkl\",\n",
    "    \"Cora Increasing\": \"./data_collection/greedy_gcn_cora_increasing_attacked_results.pkl\",\n",
    "    \"Citeseer Increasing\": \"./data_collection/greedy_gcn_citeseer_increasing_attacked_results.pkl\"\n",
    "}\n",
    "\n",
    "for name, path in greedy_variants.items():\n",
    "    data = Recording.load(path)\n",
    "\n",
    "    if name == \"Cora Constant\" or name == \"Citeseer Constant\":\n",
    "        acc_change = np.median([(v[-1] - v[0]) / v[0] for v in data.accuracies[0].values()])\n",
    "        loss_change = np.median([(v[-1] - v[0]) / v[0] for v in data.losses[0].values()])\n",
    "        iterations = np.median(list(data.iterations[0].values()))\n",
    "\n",
    "        print(f\"Metattack {name.split()[0]} GCN Change in Accuracy: {acc_change * 100:.3f}%\")\n",
    "        print(f\"Metattack {name.split()[0]} GCN Change in Loss: {loss_change * 100:.3f}%\")\n",
    "        print(f\"Metattack {name.split()[0]} GCN ITRS: {iterations:.3f}\")\n",
    "        print()\n",
    "\n",
    "    acc_change = np.median([(v[-1] - data.accuracies[0][k][0]) / data.accuracies[0][k][0]\n",
    "                            for k, v in data.accuracies[0.5].items()])\n",
    "    loss_change = np.median([(v[-1] - data.losses[0][k][0]) / data.losses[0][k][0]\n",
    "                             for k, v in data.losses[0.5].items()])\n",
    "    iterations = np.median(list(data.iterations[0.5].values()))\n",
    "\n",
    "    print(f\"Greedy GCN {name} Change in Accuracy: {acc_change * 100:.3f}%\")\n",
    "    print(f\"Greedy GCN {name} Change in Loss: {loss_change * 100:.3f}%\")\n",
    "    print(f\"Greedy GCN {name} ITRS: {iterations:.3f}\")\n",
    "    print()"
   ]
  },
  {
   "cell_type": "code",
   "execution_count": 35,
   "id": "b2e78a1b-4f60-47d3-9825-333560931530",
   "metadata": {},
   "outputs": [],
   "source": [
    "### original"
   ]
  },
  {
   "cell_type": "code",
   "execution_count": 40,
   "id": "0e5a16a1-55e6-42cd-9440-f5a90a36fa74",
   "metadata": {},
   "outputs": [],
   "source": [
    "# dataset_directory = \"../Cora\"\n",
    "device = \"cuda\" if torch.cuda.is_available() else \"cpu\"\n",
    "cora_dataset = Planetoid(root='', name='Citeseer')\n",
    "data = cora_dataset[0].to(device)"
   ]
  },
  {
   "cell_type": "code",
   "execution_count": 42,
   "id": "837dd2ff-986b-423c-8df5-074c899a8e77",
   "metadata": {},
   "outputs": [
    {
     "name": "stdout",
     "output_type": "stream",
     "text": [
      "Initial Accuracy: 0.69\n",
      "Initial Loss: 1.2167096138000488\n"
     ]
    }
   ],
   "source": [
    "model = GCN(data.x.shape[1], cora_dataset.num_classes, [16]).to(device)\n",
    "model_save_path = \"../models/citeseer_gcn_model.pth\"\n",
    "list_save_path = \"../attacks/citeseer_gcn_edges_full_run.pth\"\n",
    "model, edges_to_add, train = load_model_and_edges(model_save_path, list_save_path, model, device)\n",
    "initial_loss, initial_accuracy = train.test(data)\n",
    "print(f\"Initial Accuracy: {initial_accuracy}\")\n",
    "print(f\"Initial Loss: {initial_loss}\")"
   ]
  },
  {
   "cell_type": "code",
   "execution_count": null,
   "id": "87059c19-b1a1-42b1-9c0f-83306c386a3c",
   "metadata": {},
   "outputs": [],
   "source": [
    "## cora"
   ]
  },
  {
   "cell_type": "code",
   "execution_count": 43,
   "id": "123c30e4-0b9e-48c3-ae8f-f4389f6a75c3",
   "metadata": {},
   "outputs": [],
   "source": [
    "# dataset_directory = \"../Cora\"\n",
    "device = \"cuda\" if torch.cuda.is_available() else \"cpu\"\n",
    "cora_dataset = Planetoid(root='', name='Cora')\n",
    "data = cora_dataset[0].to(device)"
   ]
  },
  {
   "cell_type": "code",
   "execution_count": 44,
   "id": "849fd226-906a-4bf6-b492-644b0433603e",
   "metadata": {},
   "outputs": [
    {
     "name": "stdout",
     "output_type": "stream",
     "text": [
      "Initial Accuracy: 0.806\n",
      "Initial Loss: 0.655889093875885\n"
     ]
    }
   ],
   "source": [
    "model = GCN(data.x.shape[1], cora_dataset.num_classes, [16]).to(device)\n",
    "model_save_path = \"../models/cora_gcn_model.pth\"\n",
    "list_save_path = \"../attacks/cora_gcn_edges_full_run.pth\"\n",
    "model, edges_to_add, train = load_model_and_edges(model_save_path, list_save_path, model, device)\n",
    "initial_loss, initial_accuracy = train.test(data)\n",
    "print(f\"Initial Accuracy: {initial_accuracy}\")\n",
    "print(f\"Initial Loss: {initial_loss}\")"
   ]
  },
  {
   "cell_type": "code",
   "execution_count": null,
   "id": "d23cd0ad-924d-4dd6-ae86-7abcdd9ebdbc",
   "metadata": {},
   "outputs": [],
   "source": [
    "## pubmed"
   ]
  },
  {
   "cell_type": "code",
   "execution_count": 45,
   "id": "3b9a02fd-f01a-4f22-aeef-f455ee5d11d8",
   "metadata": {},
   "outputs": [],
   "source": [
    "# dataset_directory = \"../Cora\"\n",
    "device = \"cuda\" if torch.cuda.is_available() else \"cpu\"\n",
    "cora_dataset = Planetoid(root='', name='Pubmed')\n",
    "data = cora_dataset[0].to(device)"
   ]
  },
  {
   "cell_type": "code",
   "execution_count": 47,
   "id": "71691bdc-f1da-4453-bddb-392e4de85141",
   "metadata": {},
   "outputs": [
    {
     "name": "stdout",
     "output_type": "stream",
     "text": [
      "Initial Accuracy: 0.784\n",
      "Initial Loss: 0.5719911456108093\n"
     ]
    }
   ],
   "source": [
    "model = GCN(data.x.shape[1], cora_dataset.num_classes, [16]).to(device)\n",
    "model_save_path = \"../models/pubmed_gcn_model.pth\"\n",
    "list_save_path = \"../attacks/cora_gcn_edges_full_run.pth\" ## just to appease\n",
    "model, edges_to_add, train = load_model_and_edges(model_save_path, list_save_path, model, device)\n",
    "initial_loss, initial_accuracy = train.test(data)\n",
    "print(f\"Initial Accuracy: {initial_accuracy}\")\n",
    "print(f\"Initial Loss: {initial_loss}\")"
   ]
  }
 ],
 "metadata": {
  "kernelspec": {
   "display_name": "Python 3 (ipykernel)",
   "language": "python",
   "name": "python3"
  },
  "language_info": {
   "codemirror_mode": {
    "name": "ipython",
    "version": 3
   },
   "file_extension": ".py",
   "mimetype": "text/x-python",
   "name": "python",
   "nbconvert_exporter": "python",
   "pygments_lexer": "ipython3",
   "version": "3.8.18"
  }
 },
 "nbformat": 4,
 "nbformat_minor": 5
}
