{
 "cells": [
  {
   "cell_type": "code",
   "execution_count": 1,
   "id": "64563ce1-d083-4b0d-a06b-5645fca4fcf6",
   "metadata": {},
   "outputs": [],
   "source": [
    "from data_collection.recordings import *\n",
    "import numpy as np"
   ]
  },
  {
   "cell_type": "code",
   "execution_count": 4,
   "id": "931ce24d-762c-4d60-aa23-f3bb1162e672",
   "metadata": {},
   "outputs": [
    {
     "ename": "AttributeError",
     "evalue": "'list' object has no attribute 'values'",
     "output_type": "error",
     "traceback": [
      "\u001b[0;31m---------------------------------------------------------------------------\u001b[0m",
      "\u001b[0;31mAttributeError\u001b[0m                            Traceback (most recent call last)",
      "Cell \u001b[0;32mIn[4], line 17\u001b[0m\n\u001b[1;32m     13\u001b[0m data \u001b[38;5;241m=\u001b[39m Recording\u001b[38;5;241m.\u001b[39mload(path)\n\u001b[1;32m     14\u001b[0m \u001b[38;5;66;03m# acc_change = data.accuracies[0.5][-1] - data.accuracies[0.5][0]\u001b[39;00m\n\u001b[1;32m     15\u001b[0m \u001b[38;5;66;03m# loss_change = data.losses[0.5][-1] - data.losses[0.5][0]\u001b[39;00m\n\u001b[1;32m     16\u001b[0m \u001b[38;5;66;03m# iterations = data.iterations[0.5]\u001b[39;00m\n\u001b[0;32m---> 17\u001b[0m acc_change \u001b[38;5;241m=\u001b[39m np\u001b[38;5;241m.\u001b[39mmedian([v[\u001b[38;5;241m-\u001b[39m\u001b[38;5;241m1\u001b[39m] \u001b[38;5;28;01mfor\u001b[39;00m v \u001b[38;5;129;01min\u001b[39;00m \u001b[43mdata\u001b[49m\u001b[38;5;241;43m.\u001b[39;49m\u001b[43maccuracies\u001b[49m\u001b[43m[\u001b[49m\u001b[38;5;241;43m0.5\u001b[39;49m\u001b[43m]\u001b[49m\u001b[38;5;241;43m.\u001b[39;49m\u001b[43mvalues\u001b[49m()]) \u001b[38;5;241m-\u001b[39m np\u001b[38;5;241m.\u001b[39mmedian([v[\u001b[38;5;241m0\u001b[39m] \u001b[38;5;28;01mfor\u001b[39;00m v \u001b[38;5;129;01min\u001b[39;00m data\u001b[38;5;241m.\u001b[39maccuracies[\u001b[38;5;241m0.5\u001b[39m]\u001b[38;5;241m.\u001b[39mvalues()])\n\u001b[1;32m     18\u001b[0m loss_change \u001b[38;5;241m=\u001b[39m np\u001b[38;5;241m.\u001b[39mmedian([v[\u001b[38;5;241m-\u001b[39m\u001b[38;5;241m1\u001b[39m] \u001b[38;5;28;01mfor\u001b[39;00m v \u001b[38;5;129;01min\u001b[39;00m data\u001b[38;5;241m.\u001b[39mlosses[\u001b[38;5;241m0.5\u001b[39m]\u001b[38;5;241m.\u001b[39mvalues()]) \u001b[38;5;241m-\u001b[39m np\u001b[38;5;241m.\u001b[39mmedian([v[\u001b[38;5;241m0\u001b[39m] \u001b[38;5;28;01mfor\u001b[39;00m v \u001b[38;5;129;01min\u001b[39;00m data\u001b[38;5;241m.\u001b[39mlosses[\u001b[38;5;241m0.5\u001b[39m]\u001b[38;5;241m.\u001b[39mvalues()])\n\u001b[1;32m     19\u001b[0m iterations \u001b[38;5;241m=\u001b[39m np\u001b[38;5;241m.\u001b[39mmedian([v[\u001b[38;5;241m-\u001b[39m\u001b[38;5;241m1\u001b[39m] \u001b[38;5;28;01mfor\u001b[39;00m v \u001b[38;5;129;01min\u001b[39;00m data\u001b[38;5;241m.\u001b[39miterations[\u001b[38;5;241m0.5\u001b[39m]\u001b[38;5;241m.\u001b[39mvalues()])\n",
      "\u001b[0;31mAttributeError\u001b[0m: 'list' object has no attribute 'values'"
     ]
    }
   ],
   "source": [
    "mcmc_variants = {\n",
    "    \"Citeseer Increasing Decaying\": \"./data_collection/mcmc_gcn_citeseer_increasing_decaying_attacked_results.pkl\",\n",
    "    \"Cora Increasing Decaying\": \"./data_collection/mcmc_gcn_cora_increasing_decaying_attacked_results.pkl\",\n",
    "    \"Citeseer Constant Decaying\": \"./data_collection/mcmc_gcn_citeseer_constant_decaying_attacked_results.pkl\",\n",
    "    \"Cora Constant Decaying\": \"./data_collection/mcmc_gcn_cora_constant_decaying_attacked_results.pkl\",\n",
    "    \"Citeseer Increasing Binary\": \"./data_collection/mcmc_gcn_citeseer_increasing_binary_attacked_results.pkl\",\n",
    "    \"Cora Increasing Binary\": \"./data_collection/mcmc_gcn_cora_increasing_binary_attacked_results.pkl\",\n",
    "    \"Citeseer Constant Binary\": \"./data_collection/mcmc_gcn_citeseer_constant_binary_attacked_results.pkl\",\n",
    "    \"Cora Constant Binary\": \"./data_collection/mcmc_gcn_cora_constant_binary_attacked_results.pkl\"\n",
    "}\n",
    "\n",
    "for name, path in mcmc_variants.items():\n",
    "    data = Recording.load(path)\n",
    "    # acc_change = data.accuracies[0.5][-1] - data.accuracies[0.5][0]\n",
    "    # loss_change = data.losses[0.5][-1] - data.losses[0.5][0]\n",
    "    # iterations = data.iterations[0.5]\n",
    "    acc_change = np.median([v[-1] for v in data.accuracies[0.5].values()]) - np.median([v[0] for v in data.accuracies[0.5].values()])\n",
    "    loss_change = np.median([v[-1] for v in data.losses[0.5].values()]) - np.median([v[0] for v in data.losses[0.5].values()])\n",
    "    iterations = np.median([v[-1] for v in data.iterations[0.5].values()])\n",
    "\n",
    "    print(f\"MCMC GCN {name} Change in Accuracy: {acc_change:.3f}\")\n",
    "    print(f\"MCMC GCN {name} Change in Loss: {loss_change:.3f}\")\n",
    "    print(f\"MCMC GCN {name} ITRS: {iterations:.3f}\")\n",
    "    print()"
   ]
  },
  {
   "cell_type": "code",
   "execution_count": 3,
   "id": "bced094e-ea50-4df2-816b-79c8b7c80e1e",
   "metadata": {},
   "outputs": [
    {
     "name": "stdout",
     "output_type": "stream",
     "text": [
      "Greedy GCN Cora Constant Change in Accuracy: -0.018000000000000016\n",
      "Greedy GCN Cora Constant Change in Loss: 0.18737506866455078\n",
      "Greedy GCN Cora Constant ITRS: 5.96969696969697\n",
      "\n",
      "Greedy GCN Citeseer Constant Change in Accuracy: -0.019999999999999907\n",
      "Greedy GCN Citeseer Constant Change in Loss: 0.24893927574157715\n",
      "Greedy GCN Citeseer Constant ITRS: 5.890350877192983\n",
      "\n",
      "Greedy GCN Cora Increasing Change in Accuracy: -0.026000000000000023\n",
      "Greedy GCN Cora Increasing Change in Loss: 0.15687954425811768\n",
      "Greedy GCN Cora Increasing ITRS: 4.356060606060606\n",
      "\n",
      "Greedy GCN Citeseer Increasing Change in Accuracy: -0.03399999999999992\n",
      "Greedy GCN Citeseer Increasing Change in Loss: 0.27080869674682617\n",
      "Greedy GCN Citeseer Increasing ITRS: 3.6973684210526314\n",
      "\n"
     ]
    }
   ],
   "source": [
    "greedy_variants = {\n",
    "    \"Cora Constant\": \"./data_collection/greedy_gcn_cora_constant_attacked_results.pkl\",\n",
    "    \"Citeseer Constant\": \"./data_collection/greedy_gcn_citeseer_constant_attacked_results.pkl\",\n",
    "    \"Cora Increasing\": \"./data_collection/greedy_gcn_cora_increasing_attacked_results.pkl\",\n",
    "    \"Citeseer Increasing\": \"./data_collection/greedy_gcn_citeseer_increasing_attacked_results.pkl\"\n",
    "}\n",
    "\n",
    "for name, path in greedy_variants.items():\n",
    "    data = Recording.load(path)\n",
    "    # acc_change = data.accuracies[0.5][-1] - data.accuracies[0.5][0]\n",
    "    # loss_change = data.losses[0.5][-1] - data.losses[0.5][0]\n",
    "    # iterations = data.iterations[0.5]\n",
    "    \n",
    "    acc_change = np.median([v[-1] for v in data.accuracies[0.5].values()]) - np.median([v[0] for v in data.accuracies[0.5].values()])\n",
    "    loss_change = np.median([v[-1] for v in data.losses[0.5].values()]) - np.median([v[0] for v in data.losses[0.5].values()])\n",
    "    iterations = np.median([v[-1] for v in data.iterations[0.5].values()])\n",
    "\n",
    "    print(f\"Greedy GCN {name} Change in Accuracy: {acc_change:.3f}\")\n",
    "    print(f\"Greedy GCN {name} Change in Loss: {loss_change:.3f}\")\n",
    "    print(f\"Greedy GCN {name} ITRS: {iterations:.3f}\")\n",
    "    print()"
   ]
  }
 ],
 "metadata": {
  "kernelspec": {
   "display_name": "Python 3 (ipykernel)",
   "language": "python",
   "name": "python3"
  },
  "language_info": {
   "codemirror_mode": {
    "name": "ipython",
    "version": 3
   },
   "file_extension": ".py",
   "mimetype": "text/x-python",
   "name": "python",
   "nbconvert_exporter": "python",
   "pygments_lexer": "ipython3",
   "version": "3.8.18"
  }
 },
 "nbformat": 4,
 "nbformat_minor": 5
}
