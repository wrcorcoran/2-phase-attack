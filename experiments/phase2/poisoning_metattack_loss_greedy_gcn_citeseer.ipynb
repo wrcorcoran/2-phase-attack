{
 "cells": [
  {
   "cell_type": "code",
   "execution_count": null,
   "id": "cbc284fc-8e46-4645-bb36-6f79054e5e53",
   "metadata": {},
   "outputs": [],
   "source": [
    "from greedy_mcmc_attack import *\n",
    "from data_collection.recordings import *\n",
    "import sys\n",
    "sys.path.append(\"../../\")\n",
    "from src.models.gcn import *\n",
    "from src.models.gat import *\n",
    "from src.models.gsage import *"
   ]
  },
  {
   "cell_type": "code",
   "execution_count": null,
   "id": "b484ec46-7057-4bcf-b042-f76d632d7dcb",
   "metadata": {},
   "outputs": [],
   "source": [
    "device = \"cuda\" if torch.cuda.is_available() else \"cpu\""
   ]
  },
  {
   "cell_type": "code",
   "execution_count": null,
   "id": "8e03370f-1e5a-45ce-a6c4-6577604acf39",
   "metadata": {},
   "outputs": [],
   "source": [
    "# dataset_directory = \"../Citeseer\"\n",
    "citeseer_dataset = Planetoid(root='', name='Citeseer')\n",
    "data = citeseer_dataset[0].to(device)\n",
    "print(data)"
   ]
  },
  {
   "cell_type": "code",
   "execution_count": null,
   "id": "8164c447-02f9-4edf-8c79-8acb8e70d47e",
   "metadata": {},
   "outputs": [],
   "source": [
    "trials = 5"
   ]
  },
  {
   "cell_type": "code",
   "execution_count": null,
   "id": "f17fd5eb-4632-4d81-8f51-ade39a1a3007",
   "metadata": {},
   "outputs": [],
   "source": [
    "edges_to_add = None"
   ]
  },
  {
   "cell_type": "code",
   "execution_count": null,
   "id": "e08cf2cd-3107-4fc4-abba-0bf6224d3c3b",
   "metadata": {},
   "outputs": [],
   "source": [
    "model = GCN(data.x.shape[1], citeseer_dataset.num_classes, [16]).to(device)"
   ]
  },
  {
   "cell_type": "code",
   "execution_count": null,
   "id": "ebee2287-3fc4-4710-99fd-a6499fde0a54",
   "metadata": {},
   "outputs": [],
   "source": [
    "model_save_path = \"../models/citeseer_gcn_model.pth\"\n",
    "list_save_path = \"../attacks/citeseer_gcn_edges_full_run.pth\"\n",
    "# # multi_metattack_edges_list.pth\n",
    "# list_save_path = \"multi_metattack_edges_list.pth\""
   ]
  },
  {
   "cell_type": "code",
   "execution_count": null,
   "id": "ef3f201c-a315-427b-882d-c5e73dbad164",
   "metadata": {},
   "outputs": [],
   "source": [
    "model, edges_to_add, train = load_model_and_edges(model_save_path, list_save_path, model, device)"
   ]
  },
  {
   "cell_type": "code",
   "execution_count": null,
   "id": "837669c2-a06f-4e8c-8629-4083497e088e",
   "metadata": {},
   "outputs": [],
   "source": [
    "# Get initial accuracy\n",
    "initial_loss, initial_accuracy = train.test(data)\n",
    "print(f\"Initial Accuracy: {initial_accuracy}\")\n",
    "print(f\"Initial Loss: {initial_loss}\")"
   ]
  },
  {
   "cell_type": "code",
   "execution_count": null,
   "id": "de652b4f-cff6-41db-8e78-29644d232917",
   "metadata": {},
   "outputs": [],
   "source": [
    "G, initial_edge_count, ptb_rate, budget = initialize(data, _ptb_rate=0.05)"
   ]
  },
  {
   "cell_type": "code",
   "execution_count": null,
   "id": "0c2d8085-bebd-43d7-b6b1-044f292389c0",
   "metadata": {},
   "outputs": [],
   "source": [
    "full_metattack_acc, full_metattack_loss, full_metattack_itrs = [], [], []\n",
    "for _ in range(trials):\n",
    "    acc, loss, itrs = two_phase_attack_greedy_poisoning(data, train, model, 0.0, edges_to_add, constant_fn, device, is_reversed=False, verbose=True)\n",
    "    full_metattack_acc.append(acc)\n",
    "    full_metattack_loss.append(loss)\n",
    "    full_metattack_itrs.append(itrs)"
   ]
  },
  {
   "cell_type": "code",
   "execution_count": null,
   "id": "13885854-9928-4ee7-9315-cdce8d9b66bf",
   "metadata": {},
   "outputs": [],
   "source": [
    "full_metattack_acc"
   ]
  },
  {
   "cell_type": "code",
   "execution_count": null,
   "id": "5ad3a8ce-a31e-4183-bdbc-60d41a0b3ec6",
   "metadata": {},
   "outputs": [],
   "source": [
    "# full_metattack_acc, full_metattack_loss, full_metattack_itrs = two_phase_attack_mcmc(data, train, model, 0.0, edges_to_add, binary_fn, constant_fn, device, is_reversed=False, verbose=True)"
   ]
  },
  {
   "cell_type": "code",
   "execution_count": null,
   "id": "bfa56f73-a50a-4e1b-97c7-682ae6e5a217",
   "metadata": {},
   "outputs": [],
   "source": [
    "edges_to_add"
   ]
  },
  {
   "cell_type": "markdown",
   "id": "1bf3a801-f644-478f-af37-b1d672de1570",
   "metadata": {},
   "source": [
    "# regular, secondary attack, not reversed"
   ]
  },
  {
   "cell_type": "code",
   "execution_count": null,
   "id": "01ce1d12-3cd2-476f-b9b6-f1ee46145e4b",
   "metadata": {},
   "outputs": [],
   "source": [
    "splits = [0.0, 0.5]\n",
    "split_dic_acc = defaultdict(lambda: defaultdict(list))\n",
    "split_dic_loss = defaultdict(lambda: defaultdict(list))\n",
    "itrs_one = defaultdict(lambda: defaultdict(int))"
   ]
  },
  {
   "cell_type": "code",
   "execution_count": null,
   "id": "1ca9d53e-b66d-42fb-bb6c-9cfcedde7a3e",
   "metadata": {
    "scrolled": true
   },
   "outputs": [],
   "source": [
    "for s in splits:\n",
    "    for j in range(trials):\n",
    "        if s == 0.0:\n",
    "            split_dic_acc[s][j], split_dic_loss[s][j], itrs_one[s][j] = full_metattack_acc[j], full_metattack_loss[j], full_metattack_itrs[j]\n",
    "        else:\n",
    "            split_dic_acc[s][j], split_dic_loss[s][j], itrs_one[s][j] = two_phase_attack_greedy_poisoning(data, train, model, s, edges_to_add, constant_fn, device, is_reversed=False, verbose=True)"
   ]
  },
  {
   "cell_type": "code",
   "execution_count": null,
   "id": "5158de82-c636-471a-88b4-d652daeae0e9",
   "metadata": {},
   "outputs": [],
   "source": [
    "record1 = Recording(split_dic_loss, split_dic_acc, itrs_one, Model.GCN, Dataset.CITESEER, AcceptFn.CONSTANT, SelectFn.NONE, Reverse.ATTACKED)\n",
    "record1.save(f'data_collection/{\"poisoning\"}_{\"greedy\"}_{\"gcn\"}_{\"citeseer\"}_{\"constant\"}_{\"attacked\"}_results.pkl')"
   ]
  },
  {
   "cell_type": "code",
   "execution_count": null,
   "id": "73d05238-ee7b-4cf3-b6a7-a8b9beddcc78",
   "metadata": {},
   "outputs": [],
   "source": [
    "split_dic_loss"
   ]
  },
  {
   "cell_type": "code",
   "execution_count": null,
   "id": "aab17342-ef23-497c-8283-ac76ea8f32e6",
   "metadata": {},
   "outputs": [],
   "source": [
    "# plot_results(split_dic_acc, ptb_rate, \"Greedy\", \"\", \"constant\", \"accuracy\", \"regular\")"
   ]
  },
  {
   "cell_type": "code",
   "execution_count": null,
   "id": "29656bc7-6361-4342-bc6f-f0d40ae5ffc8",
   "metadata": {},
   "outputs": [],
   "source": [
    "# plot_results(split_dic_loss, ptb_rate, \"Greedy\", \"\", \"constant\", \"loss\", \"regular\")"
   ]
  },
  {
   "cell_type": "code",
   "execution_count": null,
   "id": "0bf054d8-566a-44ca-a8fc-194878368373",
   "metadata": {},
   "outputs": [],
   "source": [
    "split_dic_acc = defaultdict(lambda: defaultdict(list))\n",
    "split_dic_loss = defaultdict(lambda: defaultdict(list))\n",
    "itrs_one = defaultdict(lambda: defaultdict(int))"
   ]
  },
  {
   "cell_type": "code",
   "execution_count": null,
   "id": "ee71e6c2-4494-42d4-98fd-c0a10495c87d",
   "metadata": {},
   "outputs": [],
   "source": [
    "for s in splits:\n",
    "    for j in range(trials):\n",
    "        if s == 0.0:\n",
    "            split_dic_decreasing_acc[s][j], split_dic_decreasing_loss[s][j], itrs_two[s][j] = full_metattack_acc, full_metattack_loss, full_metattack_itrs\n",
    "        else:\n",
    "            split_dic_decreasing_acc[s][j], split_dic_decreasing_loss[s][j], itrs_two[s][j] = two_phase_attack_greedy_poisoning(data, train, model, s, edges_to_add, increasing_fn, device, is_reversed=False, verbose=True)"
   ]
  },
  {
   "cell_type": "code",
   "execution_count": null,
   "id": "e5d49ae7-8750-4167-90b7-1f9ede26c473",
   "metadata": {},
   "outputs": [],
   "source": [
    "record1 = Recording(split_dic_decreasing_loss, split_dic_decreasing_acc, itrs_two, Model.GCN, Dataset.CITESEER, AcceptFn.INCREASING, SelectFn.NONE, Reverse.ATTACKED)\n",
    "record1.save(f'data_collection/{\"poisoning\"}_{\"greedy\"}_{\"gcn\"}_{\"citeseer\"}_{\"increasing\"}_{\"attacked\"}_results.pkl')"
   ]
  },
  {
   "cell_type": "code",
   "execution_count": null,
   "id": "0e1a048d-5a43-4d9e-b759-452571d6542c",
   "metadata": {},
   "outputs": [],
   "source": [
    "# plot_results(split_dic_decreasing_acc, ptb_rate, \"Greedy\", \"\", \"increasing\", \"accuracy\", \"regular\")"
   ]
  },
  {
   "cell_type": "code",
   "execution_count": null,
   "id": "7383f4a6-8e55-44a5-9328-cf00bc09f4f5",
   "metadata": {},
   "outputs": [],
   "source": [
    "# plot_results(split_dic_decreasing_loss, ptb_rate, \"Greedy\", \"\", \"increasing\", \"loss\", \"regular\")"
   ]
  }
 ],
 "metadata": {
  "kernelspec": {
   "display_name": "Python 3 (ipykernel)",
   "language": "python",
   "name": "python3"
  },
  "language_info": {
   "codemirror_mode": {
    "name": "ipython",
    "version": 3
   },
   "file_extension": ".py",
   "mimetype": "text/x-python",
   "name": "python",
   "nbconvert_exporter": "python",
   "pygments_lexer": "ipython3",
   "version": "3.8.18"
  }
 },
 "nbformat": 4,
 "nbformat_minor": 5
}
