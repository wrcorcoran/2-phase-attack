{
 "cells": [
  {
   "cell_type": "code",
   "execution_count": 4,
   "id": "7b436979-f710-444b-baf9-caba91a93626",
   "metadata": {},
   "outputs": [],
   "source": [
    "import torch\n",
    "import numpy as np\n",
    "from deeprobust.graph.data import Dataset\n",
    "from deeprobust.graph.defense import GCN\n",
    "from deeprobust.graph.targeted_attack import Nettack"
   ]
  },
  {
   "cell_type": "code",
   "execution_count": 5,
   "id": "4ec0d645-a3c4-4bd6-b227-f7ff724bde18",
   "metadata": {},
   "outputs": [
    {
     "name": "stdout",
     "output_type": "stream",
     "text": [
      "Loading cora dataset...\n",
      "Downloading from https://raw.githubusercontent.com/danielzuegner/gnn-meta-attack/master/data/cora.npz to /tmp/cora.npz\n",
      "Done!\n",
      "Selecting 1 largest connected components\n"
     ]
    }
   ],
   "source": [
    "data = Dataset(root='/tmp/', name='cora', setting='nettack')\n",
    "adj, features, labels = data.adj, data.features, data.labels\n",
    "idx_train, idx_val, idx_test = data.idx_train, data.idx_val, data.idx_test\n",
    "idx_unlabeled = np.union1d(idx_val, idx_test)"
   ]
  },
  {
   "cell_type": "code",
   "execution_count": 6,
   "id": "7b3bc665-5140-46f0-bce3-9964efb948a0",
   "metadata": {},
   "outputs": [],
   "source": [
    "device = torch.device(\"cuda:0\" if torch.cuda.is_available() else \"cpu\")\n",
    "surrogate = GCN(nfeat=features.shape[1], nclass=labels.max().item()+1, nhid=16,\n",
    "                with_relu=False, device=device)\n",
    "surrogate = surrogate.to(device)\n",
    "surrogate.fit(features, adj, labels, idx_train)"
   ]
  },
  {
   "cell_type": "code",
   "execution_count": 10,
   "id": "0d20751f-ad8c-4498-b83d-cd1a54c7bf21",
   "metadata": {},
   "outputs": [
    {
     "name": "stderr",
     "output_type": "stream",
     "text": [
      "Perturbing graph:   0%|          | 0/506 [00:00<?, ?it/s]"
     ]
    },
    {
     "name": "stdout",
     "output_type": "stream",
     "text": [
      "GCN loss on unlabled data: 0.5387644171714783\n",
      "GCN acc on unlabled data: 0.8390701832811802\n",
      "attack loss: 0.19425657391548157\n"
     ]
    },
    {
     "name": "stderr",
     "output_type": "stream",
     "text": [
      "Perturbing graph:   0%|          | 1/506 [00:00<07:25,  1.13it/s]"
     ]
    },
    {
     "name": "stdout",
     "output_type": "stream",
     "text": [
      "GCN loss on unlabled data: 0.5325974822044373\n",
      "GCN acc on unlabled data: 0.8426464014304873\n",
      "attack loss: 0.21203003823757172\n"
     ]
    },
    {
     "name": "stderr",
     "output_type": "stream",
     "text": [
      "Perturbing graph:   0%|          | 2/506 [00:01<07:04,  1.19it/s]"
     ]
    },
    {
     "name": "stdout",
     "output_type": "stream",
     "text": [
      "GCN loss on unlabled data: 0.511603593826294\n",
      "GCN acc on unlabled data: 0.8399642378185069\n",
      "attack loss: 0.21673806011676788\n"
     ]
    },
    {
     "name": "stderr",
     "output_type": "stream",
     "text": [
      "Perturbing graph:   1%|          | 3/506 [00:02<06:55,  1.21it/s]"
     ]
    },
    {
     "name": "stdout",
     "output_type": "stream",
     "text": [
      "GCN loss on unlabled data: 0.5092856884002686\n",
      "GCN acc on unlabled data: 0.8390701832811802\n",
      "attack loss: 0.21636438369750977\n"
     ]
    },
    {
     "name": "stderr",
     "output_type": "stream",
     "text": [
      "Perturbing graph:   1%|          | 4/506 [00:03<06:51,  1.22it/s]"
     ]
    },
    {
     "name": "stdout",
     "output_type": "stream",
     "text": [
      "GCN loss on unlabled data: 0.5274144411087036\n",
      "GCN acc on unlabled data: 0.8386231560125168\n",
      "attack loss: 0.21280509233474731\n"
     ]
    },
    {
     "name": "stderr",
     "output_type": "stream",
     "text": [
      "Perturbing graph:   1%|          | 5/506 [00:04<06:47,  1.23it/s]"
     ]
    },
    {
     "name": "stdout",
     "output_type": "stream",
     "text": [
      "GCN loss on unlabled data: 0.5227218270301819\n",
      "GCN acc on unlabled data: 0.8421993741618239\n",
      "attack loss: 0.23127710819244385\n"
     ]
    },
    {
     "name": "stderr",
     "output_type": "stream",
     "text": [
      "Perturbing graph:   1%|          | 6/506 [00:04<06:43,  1.24it/s]"
     ]
    },
    {
     "name": "stdout",
     "output_type": "stream",
     "text": [
      "GCN loss on unlabled data: 0.5252088904380798\n",
      "GCN acc on unlabled data: 0.8341528833258829\n",
      "attack loss: 0.22408129274845123\n"
     ]
    },
    {
     "name": "stderr",
     "output_type": "stream",
     "text": [
      "Perturbing graph:   1%|▏         | 7/506 [00:05<06:39,  1.25it/s]"
     ]
    },
    {
     "name": "stdout",
     "output_type": "stream",
     "text": [
      "GCN loss on unlabled data: 0.515892744064331\n",
      "GCN acc on unlabled data: 0.8345999105945463\n",
      "attack loss: 0.2312757670879364\n"
     ]
    },
    {
     "name": "stderr",
     "output_type": "stream",
     "text": [
      "Perturbing graph:   2%|▏         | 8/506 [00:06<06:37,  1.25it/s]"
     ]
    },
    {
     "name": "stdout",
     "output_type": "stream",
     "text": [
      "GCN loss on unlabled data: 0.5388780236244202\n",
      "GCN acc on unlabled data: 0.8319177469825659\n",
      "attack loss: 0.22967319190502167\n"
     ]
    },
    {
     "name": "stderr",
     "output_type": "stream",
     "text": [
      "Perturbing graph:   2%|▏         | 9/506 [00:07<06:35,  1.26it/s]"
     ]
    },
    {
     "name": "stdout",
     "output_type": "stream",
     "text": [
      "GCN loss on unlabled data: 0.5400475263595581\n",
      "GCN acc on unlabled data: 0.8270004470272687\n",
      "attack loss: 0.23584836721420288\n"
     ]
    },
    {
     "name": "stderr",
     "output_type": "stream",
     "text": [
      "Perturbing graph:   2%|▏         | 10/506 [00:08<06:32,  1.26it/s]"
     ]
    },
    {
     "name": "stdout",
     "output_type": "stream",
     "text": [
      "GCN loss on unlabled data: 0.5391475558280945\n",
      "GCN acc on unlabled data: 0.8359409924005364\n",
      "attack loss: 0.23277123272418976\n"
     ]
    },
    {
     "name": "stderr",
     "output_type": "stream",
     "text": [
      "Perturbing graph:   2%|▏         | 11/506 [00:08<06:30,  1.27it/s]"
     ]
    },
    {
     "name": "stdout",
     "output_type": "stream",
     "text": [
      "GCN loss on unlabled data: 0.5172852873802185\n",
      "GCN acc on unlabled data: 0.8390701832811802\n",
      "attack loss: 0.23599515855312347\n"
     ]
    },
    {
     "name": "stderr",
     "output_type": "stream",
     "text": [
      "Perturbing graph:   2%|▏         | 12/506 [00:09<06:28,  1.27it/s]"
     ]
    },
    {
     "name": "stdout",
     "output_type": "stream",
     "text": [
      "GCN loss on unlabled data: 0.5453615188598633\n",
      "GCN acc on unlabled data: 0.83772910147519\n",
      "attack loss: 0.24366077780723572\n"
     ]
    },
    {
     "name": "stderr",
     "output_type": "stream",
     "text": [
      "Perturbing graph:   3%|▎         | 13/506 [00:10<06:30,  1.26it/s]"
     ]
    },
    {
     "name": "stdout",
     "output_type": "stream",
     "text": [
      "GCN loss on unlabled data: 0.5443150401115417\n",
      "GCN acc on unlabled data: 0.8404112650871703\n",
      "attack loss: 0.2469676434993744\n"
     ]
    },
    {
     "name": "stderr",
     "output_type": "stream",
     "text": [
      "Perturbing graph:   3%|▎         | 14/506 [00:11<06:28,  1.27it/s]"
     ]
    },
    {
     "name": "stdout",
     "output_type": "stream",
     "text": [
      "GCN loss on unlabled data: 0.5243245363235474\n",
      "GCN acc on unlabled data: 0.835493965131873\n",
      "attack loss: 0.2594856321811676\n"
     ]
    },
    {
     "name": "stderr",
     "output_type": "stream",
     "text": [
      "Perturbing graph:   3%|▎         | 15/506 [00:11<06:25,  1.27it/s]"
     ]
    },
    {
     "name": "stdout",
     "output_type": "stream",
     "text": [
      "GCN loss on unlabled data: 0.53631591796875\n",
      "GCN acc on unlabled data: 0.8305766651765758\n",
      "attack loss: 0.2526332139968872\n"
     ]
    },
    {
     "name": "stderr",
     "output_type": "stream",
     "text": [
      "Perturbing graph:   3%|▎         | 16/506 [00:12<06:22,  1.28it/s]"
     ]
    },
    {
     "name": "stdout",
     "output_type": "stream",
     "text": [
      "GCN loss on unlabled data: 0.5462497472763062\n",
      "GCN acc on unlabled data: 0.8310236924452392\n",
      "attack loss: 0.25988227128982544\n"
     ]
    },
    {
     "name": "stderr",
     "output_type": "stream",
     "text": [
      "Perturbing graph:   3%|▎         | 17/506 [00:13<06:20,  1.28it/s]"
     ]
    },
    {
     "name": "stdout",
     "output_type": "stream",
     "text": [
      "GCN loss on unlabled data: 0.5428449511528015\n",
      "GCN acc on unlabled data: 0.829682610639249\n",
      "attack loss: 0.2671882212162018\n"
     ]
    },
    {
     "name": "stderr",
     "output_type": "stream",
     "text": [
      "Perturbing graph:   4%|▎         | 18/506 [00:14<06:21,  1.28it/s]"
     ]
    },
    {
     "name": "stdout",
     "output_type": "stream",
     "text": [
      "GCN loss on unlabled data: 0.558883011341095\n",
      "GCN acc on unlabled data: 0.829682610639249\n",
      "attack loss: 0.26328662037849426\n"
     ]
    },
    {
     "name": "stderr",
     "output_type": "stream",
     "text": [
      "Perturbing graph:   4%|▍         | 19/506 [00:15<06:21,  1.28it/s]"
     ]
    },
    {
     "name": "stdout",
     "output_type": "stream",
     "text": [
      "GCN loss on unlabled data: 0.554094672203064\n",
      "GCN acc on unlabled data: 0.83772910147519\n",
      "attack loss: 0.2633017897605896\n"
     ]
    },
    {
     "name": "stderr",
     "output_type": "stream",
     "text": [
      "Perturbing graph:   4%|▍         | 20/506 [00:15<06:18,  1.28it/s]"
     ]
    },
    {
     "name": "stdout",
     "output_type": "stream",
     "text": [
      "GCN loss on unlabled data: 0.5611094236373901\n",
      "GCN acc on unlabled data: 0.8292355833705857\n",
      "attack loss: 0.2786253094673157\n"
     ]
    },
    {
     "name": "stderr",
     "output_type": "stream",
     "text": [
      "Perturbing graph:   4%|▍         | 21/506 [00:16<06:16,  1.29it/s]"
     ]
    },
    {
     "name": "stdout",
     "output_type": "stream",
     "text": [
      "GCN loss on unlabled data: 0.546471357345581\n",
      "GCN acc on unlabled data: 0.829682610639249\n",
      "attack loss: 0.2543354630470276\n"
     ]
    },
    {
     "name": "stderr",
     "output_type": "stream",
     "text": [
      "Perturbing graph:   4%|▍         | 22/506 [00:17<06:16,  1.29it/s]"
     ]
    },
    {
     "name": "stdout",
     "output_type": "stream",
     "text": [
      "GCN loss on unlabled data: 0.5505855679512024\n",
      "GCN acc on unlabled data: 0.8274474742959321\n",
      "attack loss: 0.2834068238735199\n"
     ]
    },
    {
     "name": "stderr",
     "output_type": "stream",
     "text": [
      "Perturbing graph:   5%|▍         | 23/506 [00:18<06:16,  1.28it/s]"
     ]
    },
    {
     "name": "stdout",
     "output_type": "stream",
     "text": [
      "GCN loss on unlabled data: 0.556759238243103\n",
      "GCN acc on unlabled data: 0.8278945015645954\n",
      "attack loss: 0.2681378126144409\n"
     ]
    },
    {
     "name": "stderr",
     "output_type": "stream",
     "text": [
      "Perturbing graph:   5%|▍         | 24/506 [00:18<06:16,  1.28it/s]"
     ]
    },
    {
     "name": "stdout",
     "output_type": "stream",
     "text": [
      "GCN loss on unlabled data: 0.5504310131072998\n",
      "GCN acc on unlabled data: 0.8390701832811802\n",
      "attack loss: 0.2645774483680725\n"
     ]
    },
    {
     "name": "stderr",
     "output_type": "stream",
     "text": [
      "Perturbing graph:   5%|▍         | 25/506 [00:19<06:17,  1.27it/s]"
     ]
    },
    {
     "name": "stdout",
     "output_type": "stream",
     "text": [
      "GCN loss on unlabled data: 0.5725147724151611\n",
      "GCN acc on unlabled data: 0.8287885561019223\n",
      "attack loss: 0.27500250935554504\n"
     ]
    },
    {
     "name": "stderr",
     "output_type": "stream",
     "text": [
      "Perturbing graph:   5%|▌         | 26/506 [00:20<06:17,  1.27it/s]"
     ]
    },
    {
     "name": "stdout",
     "output_type": "stream",
     "text": [
      "GCN loss on unlabled data: 0.5864027142524719\n",
      "GCN acc on unlabled data: 0.8225301743406348\n",
      "attack loss: 0.2767449915409088\n"
     ]
    },
    {
     "name": "stderr",
     "output_type": "stream",
     "text": [
      "Perturbing graph:   5%|▌         | 27/506 [00:21<06:15,  1.28it/s]"
     ]
    },
    {
     "name": "stdout",
     "output_type": "stream",
     "text": [
      "GCN loss on unlabled data: 0.5734405517578125\n",
      "GCN acc on unlabled data: 0.8238712561466249\n",
      "attack loss: 0.2723502814769745\n"
     ]
    },
    {
     "name": "stderr",
     "output_type": "stream",
     "text": [
      "Perturbing graph:   6%|▌         | 28/506 [00:22<06:16,  1.27it/s]"
     ]
    },
    {
     "name": "stdout",
     "output_type": "stream",
     "text": [
      "GCN loss on unlabled data: 0.556045651435852\n",
      "GCN acc on unlabled data: 0.829682610639249\n",
      "attack loss: 0.2673411965370178\n"
     ]
    },
    {
     "name": "stderr",
     "output_type": "stream",
     "text": [
      "Perturbing graph:   6%|▌         | 29/506 [00:22<06:21,  1.25it/s]"
     ]
    },
    {
     "name": "stdout",
     "output_type": "stream",
     "text": [
      "GCN loss on unlabled data: 0.5939657688140869\n",
      "GCN acc on unlabled data: 0.8305766651765758\n",
      "attack loss: 0.29368919134140015\n"
     ]
    },
    {
     "name": "stderr",
     "output_type": "stream",
     "text": [
      "Perturbing graph:   6%|▌         | 30/506 [00:23<06:19,  1.25it/s]"
     ]
    },
    {
     "name": "stdout",
     "output_type": "stream",
     "text": [
      "GCN loss on unlabled data: 0.5822164416313171\n",
      "GCN acc on unlabled data: 0.8270004470272687\n",
      "attack loss: 0.2929808497428894\n"
     ]
    },
    {
     "name": "stderr",
     "output_type": "stream",
     "text": [
      "Perturbing graph:   6%|▌         | 31/506 [00:24<06:19,  1.25it/s]"
     ]
    },
    {
     "name": "stdout",
     "output_type": "stream",
     "text": [
      "GCN loss on unlabled data: 0.6478905081748962\n",
      "GCN acc on unlabled data: 0.8135896289673671\n",
      "attack loss: 0.30298322439193726\n"
     ]
    },
    {
     "name": "stderr",
     "output_type": "stream",
     "text": [
      "Perturbing graph:   6%|▋         | 32/506 [00:25<06:18,  1.25it/s]"
     ]
    },
    {
     "name": "stdout",
     "output_type": "stream",
     "text": [
      "GCN loss on unlabled data: 0.6108579039573669\n",
      "GCN acc on unlabled data: 0.8225301743406348\n",
      "attack loss: 0.3013501465320587\n"
     ]
    },
    {
     "name": "stderr",
     "output_type": "stream",
     "text": [
      "Perturbing graph:   7%|▋         | 33/506 [00:26<06:19,  1.24it/s]"
     ]
    },
    {
     "name": "stdout",
     "output_type": "stream",
     "text": [
      "GCN loss on unlabled data: 0.6207459568977356\n",
      "GCN acc on unlabled data: 0.8238712561466249\n",
      "attack loss: 0.3099377751350403\n"
     ]
    },
    {
     "name": "stderr",
     "output_type": "stream",
     "text": [
      "Perturbing graph:   7%|▋         | 34/506 [00:27<06:21,  1.24it/s]"
     ]
    },
    {
     "name": "stdout",
     "output_type": "stream",
     "text": [
      "GCN loss on unlabled data: 0.6193692684173584\n",
      "GCN acc on unlabled data: 0.8198480107286544\n",
      "attack loss: 0.27958348393440247\n"
     ]
    },
    {
     "name": "stderr",
     "output_type": "stream",
     "text": [
      "Perturbing graph:   7%|▋         | 35/506 [00:27<06:19,  1.24it/s]"
     ]
    },
    {
     "name": "stdout",
     "output_type": "stream",
     "text": [
      "GCN loss on unlabled data: 0.6203776001930237\n",
      "GCN acc on unlabled data: 0.8167188198480108\n",
      "attack loss: 0.29007023572921753\n"
     ]
    },
    {
     "name": "stderr",
     "output_type": "stream",
     "text": [
      "Perturbing graph:   7%|▋         | 36/506 [00:28<06:20,  1.23it/s]"
     ]
    },
    {
     "name": "stdout",
     "output_type": "stream",
     "text": [
      "GCN loss on unlabled data: 0.6092668175697327\n",
      "GCN acc on unlabled data: 0.8243182834152883\n",
      "attack loss: 0.2991359531879425\n"
     ]
    },
    {
     "name": "stderr",
     "output_type": "stream",
     "text": [
      "Perturbing graph:   7%|▋         | 37/506 [00:29<06:17,  1.24it/s]"
     ]
    },
    {
     "name": "stdout",
     "output_type": "stream",
     "text": [
      "GCN loss on unlabled data: 0.642942488193512\n",
      "GCN acc on unlabled data: 0.8198480107286544\n",
      "attack loss: 0.3079938292503357\n"
     ]
    },
    {
     "name": "stderr",
     "output_type": "stream",
     "text": [
      "Perturbing graph:   8%|▊         | 38/506 [00:30<06:15,  1.25it/s]"
     ]
    },
    {
     "name": "stdout",
     "output_type": "stream",
     "text": [
      "GCN loss on unlabled data: 0.6398276090621948\n",
      "GCN acc on unlabled data: 0.8144836835046938\n",
      "attack loss: 0.30556952953338623\n"
     ]
    },
    {
     "name": "stderr",
     "output_type": "stream",
     "text": [
      "Perturbing graph:   8%|▊         | 39/506 [00:31<06:15,  1.24it/s]"
     ]
    },
    {
     "name": "stdout",
     "output_type": "stream",
     "text": [
      "GCN loss on unlabled data: 0.6225392818450928\n",
      "GCN acc on unlabled data: 0.8283415288332588\n",
      "attack loss: 0.31106120347976685\n"
     ]
    },
    {
     "name": "stderr",
     "output_type": "stream",
     "text": [
      "Perturbing graph:   8%|▊         | 40/506 [00:31<06:12,  1.25it/s]"
     ]
    },
    {
     "name": "stdout",
     "output_type": "stream",
     "text": [
      "GCN loss on unlabled data: 0.5899737477302551\n",
      "GCN acc on unlabled data: 0.8256593652212785\n",
      "attack loss: 0.2975703775882721\n"
     ]
    },
    {
     "name": "stderr",
     "output_type": "stream",
     "text": [
      "Perturbing graph:   8%|▊         | 41/506 [00:32<06:11,  1.25it/s]"
     ]
    },
    {
     "name": "stdout",
     "output_type": "stream",
     "text": [
      "GCN loss on unlabled data: 0.6185319423675537\n",
      "GCN acc on unlabled data: 0.8113544926240501\n",
      "attack loss: 0.29976484179496765\n"
     ]
    },
    {
     "name": "stderr",
     "output_type": "stream",
     "text": [
      "Perturbing graph:   8%|▊         | 42/506 [00:33<06:07,  1.26it/s]"
     ]
    },
    {
     "name": "stdout",
     "output_type": "stream",
     "text": [
      "GCN loss on unlabled data: 0.6609402298927307\n",
      "GCN acc on unlabled data: 0.8185069289226643\n",
      "attack loss: 0.31600087881088257\n"
     ]
    },
    {
     "name": "stderr",
     "output_type": "stream",
     "text": [
      "Perturbing graph:   8%|▊         | 43/506 [00:34<06:07,  1.26it/s]"
     ]
    },
    {
     "name": "stdout",
     "output_type": "stream",
     "text": [
      "GCN loss on unlabled data: 0.6327804923057556\n",
      "GCN acc on unlabled data: 0.8207420652659813\n",
      "attack loss: 0.32301050424575806\n"
     ]
    },
    {
     "name": "stderr",
     "output_type": "stream",
     "text": [
      "Perturbing graph:   9%|▊         | 44/506 [00:35<06:11,  1.24it/s]"
     ]
    },
    {
     "name": "stdout",
     "output_type": "stream",
     "text": [
      "GCN loss on unlabled data: 0.645761251449585\n",
      "GCN acc on unlabled data: 0.8162717925793473\n",
      "attack loss: 0.3159834146499634\n"
     ]
    },
    {
     "name": "stderr",
     "output_type": "stream",
     "text": [
      "Perturbing graph:   9%|▉         | 45/506 [00:35<06:12,  1.24it/s]"
     ]
    },
    {
     "name": "stdout",
     "output_type": "stream",
     "text": [
      "GCN loss on unlabled data: 0.6343206167221069\n",
      "GCN acc on unlabled data: 0.8162717925793473\n",
      "attack loss: 0.32881960272789\n"
     ]
    },
    {
     "name": "stderr",
     "output_type": "stream",
     "text": [
      "Perturbing graph:   9%|▉         | 46/506 [00:36<06:11,  1.24it/s]"
     ]
    },
    {
     "name": "stdout",
     "output_type": "stream",
     "text": [
      "GCN loss on unlabled data: 0.6901964545249939\n",
      "GCN acc on unlabled data: 0.8122485471613768\n",
      "attack loss: 0.3411102294921875\n"
     ]
    },
    {
     "name": "stderr",
     "output_type": "stream",
     "text": [
      "Perturbing graph:   9%|▉         | 47/506 [00:37<06:09,  1.24it/s]"
     ]
    },
    {
     "name": "stdout",
     "output_type": "stream",
     "text": [
      "GCN loss on unlabled data: 0.6549122333526611\n",
      "GCN acc on unlabled data: 0.8167188198480108\n",
      "attack loss: 0.31069689989089966\n"
     ]
    },
    {
     "name": "stderr",
     "output_type": "stream",
     "text": [
      "Perturbing graph:   9%|▉         | 48/506 [00:38<06:07,  1.25it/s]"
     ]
    },
    {
     "name": "stdout",
     "output_type": "stream",
     "text": [
      "GCN loss on unlabled data: 0.6530967950820923\n",
      "GCN acc on unlabled data: 0.8095663835493966\n",
      "attack loss: 0.3201855421066284\n"
     ]
    },
    {
     "name": "stderr",
     "output_type": "stream",
     "text": [
      "Perturbing graph:  10%|▉         | 49/506 [00:39<06:05,  1.25it/s]"
     ]
    },
    {
     "name": "stdout",
     "output_type": "stream",
     "text": [
      "GCN loss on unlabled data: 0.6733991503715515\n",
      "GCN acc on unlabled data: 0.8126955744300403\n",
      "attack loss: 0.32735466957092285\n"
     ]
    },
    {
     "name": "stderr",
     "output_type": "stream",
     "text": [
      "Perturbing graph:  10%|▉         | 50/506 [00:39<06:04,  1.25it/s]"
     ]
    },
    {
     "name": "stdout",
     "output_type": "stream",
     "text": [
      "GCN loss on unlabled data: 0.6435356736183167\n",
      "GCN acc on unlabled data: 0.8194009834599911\n",
      "attack loss: 0.32797226309776306\n"
     ]
    },
    {
     "name": "stderr",
     "output_type": "stream",
     "text": [
      "Perturbing graph:  10%|█         | 51/506 [00:40<06:04,  1.25it/s]"
     ]
    },
    {
     "name": "stdout",
     "output_type": "stream",
     "text": [
      "GCN loss on unlabled data: 0.6564395427703857\n",
      "GCN acc on unlabled data: 0.8176128743853376\n",
      "attack loss: 0.3340221047401428\n"
     ]
    },
    {
     "name": "stderr",
     "output_type": "stream",
     "text": [
      "Perturbing graph:  10%|█         | 52/506 [00:41<06:02,  1.25it/s]"
     ]
    },
    {
     "name": "stdout",
     "output_type": "stream",
     "text": [
      "GCN loss on unlabled data: 0.6844218969345093\n",
      "GCN acc on unlabled data: 0.8055431381314261\n",
      "attack loss: 0.32859668135643005\n"
     ]
    },
    {
     "name": "stderr",
     "output_type": "stream",
     "text": [
      "Perturbing graph:  10%|█         | 53/506 [00:42<06:00,  1.26it/s]"
     ]
    },
    {
     "name": "stdout",
     "output_type": "stream",
     "text": [
      "GCN loss on unlabled data: 0.716161847114563\n",
      "GCN acc on unlabled data: 0.8033080017881091\n",
      "attack loss: 0.3454865515232086\n"
     ]
    },
    {
     "name": "stderr",
     "output_type": "stream",
     "text": [
      "Perturbing graph:  11%|█         | 54/506 [00:43<05:58,  1.26it/s]"
     ]
    },
    {
     "name": "stdout",
     "output_type": "stream",
     "text": [
      "GCN loss on unlabled data: 0.6835841536521912\n",
      "GCN acc on unlabled data: 0.8104604380867233\n",
      "attack loss: 0.3543878197669983\n"
     ]
    },
    {
     "name": "stderr",
     "output_type": "stream",
     "text": [
      "Perturbing graph:  11%|█         | 55/506 [00:43<05:56,  1.27it/s]"
     ]
    },
    {
     "name": "stdout",
     "output_type": "stream",
     "text": [
      "GCN loss on unlabled data: 0.657260000705719\n",
      "GCN acc on unlabled data: 0.8109074653553867\n",
      "attack loss: 0.3224203586578369\n"
     ]
    },
    {
     "name": "stderr",
     "output_type": "stream",
     "text": [
      "Perturbing graph:  11%|█         | 56/506 [00:44<05:53,  1.27it/s]"
     ]
    },
    {
     "name": "stdout",
     "output_type": "stream",
     "text": [
      "GCN loss on unlabled data: 0.6722341179847717\n",
      "GCN acc on unlabled data: 0.8059901654000894\n",
      "attack loss: 0.34948471188545227\n"
     ]
    },
    {
     "name": "stderr",
     "output_type": "stream",
     "text": [
      "Perturbing graph:  11%|█▏        | 57/506 [00:45<05:50,  1.28it/s]"
     ]
    },
    {
     "name": "stdout",
     "output_type": "stream",
     "text": [
      "GCN loss on unlabled data: 0.6518272161483765\n",
      "GCN acc on unlabled data: 0.8176128743853376\n",
      "attack loss: 0.34150275588035583\n"
     ]
    },
    {
     "name": "stderr",
     "output_type": "stream",
     "text": [
      "Perturbing graph:  11%|█▏        | 58/506 [00:46<05:51,  1.27it/s]"
     ]
    },
    {
     "name": "stdout",
     "output_type": "stream",
     "text": [
      "GCN loss on unlabled data: 0.6639124155044556\n",
      "GCN acc on unlabled data: 0.8126955744300403\n",
      "attack loss: 0.3320292830467224\n"
     ]
    },
    {
     "name": "stderr",
     "output_type": "stream",
     "text": [
      "Perturbing graph:  12%|█▏        | 59/506 [00:46<05:52,  1.27it/s]"
     ]
    },
    {
     "name": "stdout",
     "output_type": "stream",
     "text": [
      "GCN loss on unlabled data: 0.6901333332061768\n",
      "GCN acc on unlabled data: 0.8113544926240501\n",
      "attack loss: 0.35332122445106506\n"
     ]
    },
    {
     "name": "stderr",
     "output_type": "stream",
     "text": [
      "Perturbing graph:  12%|█▏        | 60/506 [00:47<05:51,  1.27it/s]"
     ]
    },
    {
     "name": "stdout",
     "output_type": "stream",
     "text": [
      "GCN loss on unlabled data: 0.6698550581932068\n",
      "GCN acc on unlabled data: 0.8171658471166742\n",
      "attack loss: 0.33147597312927246\n"
     ]
    },
    {
     "name": "stderr",
     "output_type": "stream",
     "text": [
      "Perturbing graph:  12%|█▏        | 61/506 [00:48<05:48,  1.28it/s]"
     ]
    },
    {
     "name": "stdout",
     "output_type": "stream",
     "text": [
      "GCN loss on unlabled data: 0.6946272253990173\n",
      "GCN acc on unlabled data: 0.8135896289673671\n",
      "attack loss: 0.35430100560188293\n"
     ]
    },
    {
     "name": "stderr",
     "output_type": "stream",
     "text": [
      "Perturbing graph:  12%|█▏        | 62/506 [00:49<05:49,  1.27it/s]"
     ]
    },
    {
     "name": "stdout",
     "output_type": "stream",
     "text": [
      "GCN loss on unlabled data: 0.704519510269165\n",
      "GCN acc on unlabled data: 0.8055431381314261\n",
      "attack loss: 0.3515080511569977\n"
     ]
    },
    {
     "name": "stderr",
     "output_type": "stream",
     "text": [
      "Perturbing graph:  12%|█▏        | 63/506 [00:50<05:48,  1.27it/s]"
     ]
    },
    {
     "name": "stdout",
     "output_type": "stream",
     "text": [
      "GCN loss on unlabled data: 0.6897572875022888\n",
      "GCN acc on unlabled data: 0.8064371926687528\n",
      "attack loss: 0.3658454716205597\n"
     ]
    },
    {
     "name": "stderr",
     "output_type": "stream",
     "text": [
      "Perturbing graph:  13%|█▎        | 64/506 [00:50<05:47,  1.27it/s]"
     ]
    },
    {
     "name": "stdout",
     "output_type": "stream",
     "text": [
      "GCN loss on unlabled data: 0.7036474943161011\n",
      "GCN acc on unlabled data: 0.8046490835940993\n",
      "attack loss: 0.34683117270469666\n"
     ]
    },
    {
     "name": "stderr",
     "output_type": "stream",
     "text": [
      "Perturbing graph:  13%|█▎        | 65/506 [00:51<05:46,  1.27it/s]"
     ]
    },
    {
     "name": "stdout",
     "output_type": "stream",
     "text": [
      "GCN loss on unlabled data: 0.7072004675865173\n",
      "GCN acc on unlabled data: 0.8006258381761288\n",
      "attack loss: 0.3569437265396118\n"
     ]
    },
    {
     "name": "stderr",
     "output_type": "stream",
     "text": [
      "Perturbing graph:  13%|█▎        | 66/506 [00:52<05:46,  1.27it/s]"
     ]
    },
    {
     "name": "stdout",
     "output_type": "stream",
     "text": [
      "GCN loss on unlabled data: 0.7223717570304871\n",
      "GCN acc on unlabled data: 0.8077782744747429\n",
      "attack loss: 0.3578137755393982\n"
     ]
    },
    {
     "name": "stderr",
     "output_type": "stream",
     "text": [
      "Perturbing graph:  13%|█▎        | 67/506 [00:53<05:45,  1.27it/s]"
     ]
    },
    {
     "name": "stdout",
     "output_type": "stream",
     "text": [
      "GCN loss on unlabled data: 0.7026655673980713\n",
      "GCN acc on unlabled data: 0.8068842199374162\n",
      "attack loss: 0.3504827618598938\n"
     ]
    },
    {
     "name": "stderr",
     "output_type": "stream",
     "text": [
      "Perturbing graph:  13%|█▎        | 68/506 [00:54<05:45,  1.27it/s]"
     ]
    },
    {
     "name": "stdout",
     "output_type": "stream",
     "text": [
      "GCN loss on unlabled data: 0.7112239599227905\n",
      "GCN acc on unlabled data: 0.8059901654000894\n",
      "attack loss: 0.36792540550231934\n"
     ]
    },
    {
     "name": "stderr",
     "output_type": "stream",
     "text": [
      "Perturbing graph:  14%|█▎        | 69/506 [00:54<05:44,  1.27it/s]"
     ]
    },
    {
     "name": "stdout",
     "output_type": "stream",
     "text": [
      "GCN loss on unlabled data: 0.7185875773429871\n",
      "GCN acc on unlabled data: 0.8028609745194457\n",
      "attack loss: 0.34757834672927856\n"
     ]
    },
    {
     "name": "stderr",
     "output_type": "stream",
     "text": [
      "Perturbing graph:  14%|█▍        | 70/506 [00:55<05:42,  1.27it/s]"
     ]
    },
    {
     "name": "stdout",
     "output_type": "stream",
     "text": [
      "GCN loss on unlabled data: 0.6855524778366089\n",
      "GCN acc on unlabled data: 0.8077782744747429\n",
      "attack loss: 0.3612830638885498\n"
     ]
    },
    {
     "name": "stderr",
     "output_type": "stream",
     "text": [
      "Perturbing graph:  14%|█▍        | 71/506 [00:56<05:46,  1.25it/s]"
     ]
    },
    {
     "name": "stdout",
     "output_type": "stream",
     "text": [
      "GCN loss on unlabled data: 0.6612541079521179\n",
      "GCN acc on unlabled data: 0.8131426016987037\n",
      "attack loss: 0.33317190408706665\n"
     ]
    },
    {
     "name": "stderr",
     "output_type": "stream",
     "text": [
      "Perturbing graph:  14%|█▍        | 72/506 [00:57<05:46,  1.25it/s]"
     ]
    },
    {
     "name": "stdout",
     "output_type": "stream",
     "text": [
      "GCN loss on unlabled data: 0.6951907277107239\n",
      "GCN acc on unlabled data: 0.8015198927134556\n",
      "attack loss: 0.3582281768321991\n"
     ]
    },
    {
     "name": "stderr",
     "output_type": "stream",
     "text": [
      "Perturbing graph:  14%|█▍        | 73/506 [00:57<05:45,  1.25it/s]"
     ]
    },
    {
     "name": "stdout",
     "output_type": "stream",
     "text": [
      "GCN loss on unlabled data: 0.7016632556915283\n",
      "GCN acc on unlabled data: 0.8046490835940993\n",
      "attack loss: 0.3453783690929413\n"
     ]
    },
    {
     "name": "stderr",
     "output_type": "stream",
     "text": [
      "Perturbing graph:  15%|█▍        | 74/506 [00:58<05:47,  1.24it/s]"
     ]
    },
    {
     "name": "stdout",
     "output_type": "stream",
     "text": [
      "GCN loss on unlabled data: 0.6777732968330383\n",
      "GCN acc on unlabled data: 0.7992847563701386\n",
      "attack loss: 0.3658784031867981\n"
     ]
    },
    {
     "name": "stderr",
     "output_type": "stream",
     "text": [
      "Perturbing graph:  15%|█▍        | 75/506 [00:59<05:44,  1.25it/s]"
     ]
    },
    {
     "name": "stdout",
     "output_type": "stream",
     "text": [
      "GCN loss on unlabled data: 0.7208977937698364\n",
      "GCN acc on unlabled data: 0.8015198927134556\n",
      "attack loss: 0.36785364151000977\n"
     ]
    },
    {
     "name": "stderr",
     "output_type": "stream",
     "text": [
      "Perturbing graph:  15%|█▌        | 76/506 [01:00<05:43,  1.25it/s]"
     ]
    },
    {
     "name": "stdout",
     "output_type": "stream",
     "text": [
      "GCN loss on unlabled data: 0.697894275188446\n",
      "GCN acc on unlabled data: 0.8042020563254358\n",
      "attack loss: 0.3680279850959778\n"
     ]
    },
    {
     "name": "stderr",
     "output_type": "stream",
     "text": [
      "Perturbing graph:  15%|█▌        | 77/506 [01:01<05:39,  1.26it/s]"
     ]
    },
    {
     "name": "stdout",
     "output_type": "stream",
     "text": [
      "GCN loss on unlabled data: 0.7104209065437317\n",
      "GCN acc on unlabled data: 0.8037550290567725\n",
      "attack loss: 0.35949766635894775\n"
     ]
    },
    {
     "name": "stderr",
     "output_type": "stream",
     "text": [
      "Perturbing graph:  15%|█▌        | 78/506 [01:01<05:41,  1.25it/s]"
     ]
    },
    {
     "name": "stdout",
     "output_type": "stream",
     "text": [
      "GCN loss on unlabled data: 0.766592264175415\n",
      "GCN acc on unlabled data: 0.7979436745641484\n",
      "attack loss: 0.39453554153442383\n"
     ]
    },
    {
     "name": "stderr",
     "output_type": "stream",
     "text": [
      "Perturbing graph:  16%|█▌        | 79/506 [01:02<05:42,  1.25it/s]"
     ]
    },
    {
     "name": "stdout",
     "output_type": "stream",
     "text": [
      "GCN loss on unlabled data: 0.7265560030937195\n",
      "GCN acc on unlabled data: 0.7966025927581583\n",
      "attack loss: 0.35640624165534973\n"
     ]
    },
    {
     "name": "stderr",
     "output_type": "stream",
     "text": [
      "Perturbing graph:  16%|█▌        | 80/506 [01:03<05:39,  1.26it/s]"
     ]
    },
    {
     "name": "stdout",
     "output_type": "stream",
     "text": [
      "GCN loss on unlabled data: 0.7484095096588135\n",
      "GCN acc on unlabled data: 0.7939204291461779\n",
      "attack loss: 0.3725425601005554\n"
     ]
    },
    {
     "name": "stderr",
     "output_type": "stream",
     "text": [
      "Perturbing graph:  16%|█▌        | 81/506 [01:04<05:36,  1.26it/s]"
     ]
    },
    {
     "name": "stdout",
     "output_type": "stream",
     "text": [
      "GCN loss on unlabled data: 0.7301535606384277\n",
      "GCN acc on unlabled data: 0.7988377291014752\n",
      "attack loss: 0.37885433435440063\n"
     ]
    },
    {
     "name": "stderr",
     "output_type": "stream",
     "text": [
      "Perturbing graph:  16%|█▌        | 82/506 [01:05<05:35,  1.26it/s]"
     ]
    },
    {
     "name": "stdout",
     "output_type": "stream",
     "text": [
      "GCN loss on unlabled data: 0.784200131893158\n",
      "GCN acc on unlabled data: 0.7948144836835047\n",
      "attack loss: 0.3939214050769806\n"
     ]
    },
    {
     "name": "stderr",
     "output_type": "stream",
     "text": [
      "Perturbing graph:  16%|█▋        | 83/506 [01:05<05:35,  1.26it/s]"
     ]
    },
    {
     "name": "stdout",
     "output_type": "stream",
     "text": [
      "GCN loss on unlabled data: 0.7655225396156311\n",
      "GCN acc on unlabled data: 0.7952615109521681\n",
      "attack loss: 0.3912745416164398\n"
     ]
    },
    {
     "name": "stderr",
     "output_type": "stream",
     "text": [
      "Perturbing graph:  17%|█▋        | 84/506 [01:06<05:34,  1.26it/s]"
     ]
    },
    {
     "name": "stdout",
     "output_type": "stream",
     "text": [
      "GCN loss on unlabled data: 0.7221648693084717\n",
      "GCN acc on unlabled data: 0.799731783638802\n",
      "attack loss: 0.3795817494392395\n"
     ]
    },
    {
     "name": "stderr",
     "output_type": "stream",
     "text": [
      "Perturbing graph:  17%|█▋        | 85/506 [01:07<05:32,  1.26it/s]"
     ]
    },
    {
     "name": "stdout",
     "output_type": "stream",
     "text": [
      "GCN loss on unlabled data: 0.7604970932006836\n",
      "GCN acc on unlabled data: 0.7979436745641484\n",
      "attack loss: 0.3854149580001831\n"
     ]
    },
    {
     "name": "stderr",
     "output_type": "stream",
     "text": [
      "Perturbing graph:  17%|█▋        | 86/506 [01:08<05:31,  1.27it/s]"
     ]
    },
    {
     "name": "stdout",
     "output_type": "stream",
     "text": [
      "GCN loss on unlabled data: 0.7033438682556152\n",
      "GCN acc on unlabled data: 0.7934734018775146\n",
      "attack loss: 0.35471487045288086\n"
     ]
    },
    {
     "name": "stderr",
     "output_type": "stream",
     "text": [
      "Perturbing graph:  17%|█▋        | 87/506 [01:09<05:31,  1.26it/s]"
     ]
    },
    {
     "name": "stdout",
     "output_type": "stream",
     "text": [
      "GCN loss on unlabled data: 0.7525126338005066\n",
      "GCN acc on unlabled data: 0.7939204291461779\n",
      "attack loss: 0.3671669661998749\n"
     ]
    },
    {
     "name": "stderr",
     "output_type": "stream",
     "text": [
      "Perturbing graph:  17%|█▋        | 88/506 [01:09<05:40,  1.23it/s]"
     ]
    },
    {
     "name": "stdout",
     "output_type": "stream",
     "text": [
      "GCN loss on unlabled data: 0.7336245179176331\n",
      "GCN acc on unlabled data: 0.7988377291014752\n",
      "attack loss: 0.4045526385307312\n"
     ]
    },
    {
     "name": "stderr",
     "output_type": "stream",
     "text": [
      "Perturbing graph:  18%|█▊        | 89/506 [01:10<05:49,  1.19it/s]"
     ]
    },
    {
     "name": "stdout",
     "output_type": "stream",
     "text": [
      "GCN loss on unlabled data: 0.7631980776786804\n",
      "GCN acc on unlabled data: 0.7952615109521681\n",
      "attack loss: 0.38214439153671265\n"
     ]
    },
    {
     "name": "stderr",
     "output_type": "stream",
     "text": [
      "Perturbing graph:  18%|█▊        | 90/506 [01:11<05:53,  1.18it/s]"
     ]
    },
    {
     "name": "stdout",
     "output_type": "stream",
     "text": [
      "GCN loss on unlabled data: 0.7187197208404541\n",
      "GCN acc on unlabled data: 0.8015198927134556\n",
      "attack loss: 0.3629622161388397\n"
     ]
    },
    {
     "name": "stderr",
     "output_type": "stream",
     "text": [
      "Perturbing graph:  18%|█▊        | 91/506 [01:12<05:56,  1.16it/s]"
     ]
    },
    {
     "name": "stdout",
     "output_type": "stream",
     "text": [
      "GCN loss on unlabled data: 0.7624505758285522\n",
      "GCN acc on unlabled data: 0.7903442109968708\n",
      "attack loss: 0.3774920701980591\n"
     ]
    },
    {
     "name": "stderr",
     "output_type": "stream",
     "text": [
      "Perturbing graph:  18%|█▊        | 92/506 [01:13<05:48,  1.19it/s]"
     ]
    },
    {
     "name": "stdout",
     "output_type": "stream",
     "text": [
      "GCN loss on unlabled data: 0.7404860854148865\n",
      "GCN acc on unlabled data: 0.8024139472507823\n",
      "attack loss: 0.37300610542297363\n"
     ]
    },
    {
     "name": "stderr",
     "output_type": "stream",
     "text": [
      "Perturbing graph:  18%|█▊        | 93/506 [01:14<05:42,  1.21it/s]"
     ]
    },
    {
     "name": "stdout",
     "output_type": "stream",
     "text": [
      "GCN loss on unlabled data: 0.7503422498703003\n",
      "GCN acc on unlabled data: 0.8015198927134556\n",
      "attack loss: 0.3914163410663605\n"
     ]
    },
    {
     "name": "stderr",
     "output_type": "stream",
     "text": [
      "Perturbing graph:  19%|█▊        | 94/506 [01:15<05:40,  1.21it/s]"
     ]
    },
    {
     "name": "stdout",
     "output_type": "stream",
     "text": [
      "GCN loss on unlabled data: 0.7739535570144653\n",
      "GCN acc on unlabled data: 0.7925793473401878\n",
      "attack loss: 0.3868282437324524\n"
     ]
    },
    {
     "name": "stderr",
     "output_type": "stream",
     "text": [
      "Perturbing graph:  19%|█▉        | 95/506 [01:15<05:38,  1.21it/s]"
     ]
    },
    {
     "name": "stdout",
     "output_type": "stream",
     "text": [
      "GCN loss on unlabled data: 0.7631050944328308\n",
      "GCN acc on unlabled data: 0.7957085382208315\n",
      "attack loss: 0.3897091746330261\n"
     ]
    },
    {
     "name": "stderr",
     "output_type": "stream",
     "text": [
      "Perturbing graph:  19%|█▉        | 96/506 [01:16<05:34,  1.22it/s]"
     ]
    },
    {
     "name": "stdout",
     "output_type": "stream",
     "text": [
      "GCN loss on unlabled data: 0.7878921627998352\n",
      "GCN acc on unlabled data: 0.7912382655341976\n",
      "attack loss: 0.399275541305542\n"
     ]
    },
    {
     "name": "stderr",
     "output_type": "stream",
     "text": [
      "Perturbing graph:  19%|█▉        | 97/506 [01:17<05:33,  1.23it/s]"
     ]
    },
    {
     "name": "stdout",
     "output_type": "stream",
     "text": [
      "GCN loss on unlabled data: 0.7511269450187683\n",
      "GCN acc on unlabled data: 0.7934734018775146\n",
      "attack loss: 0.38446295261383057\n"
     ]
    },
    {
     "name": "stderr",
     "output_type": "stream",
     "text": [
      "Perturbing graph:  19%|█▉        | 98/506 [01:18<05:33,  1.22it/s]"
     ]
    },
    {
     "name": "stdout",
     "output_type": "stream",
     "text": [
      "GCN loss on unlabled data: 0.7172844409942627\n",
      "GCN acc on unlabled data: 0.7934734018775146\n",
      "attack loss: 0.37967824935913086\n"
     ]
    },
    {
     "name": "stderr",
     "output_type": "stream",
     "text": [
      "Perturbing graph:  20%|█▉        | 99/506 [01:19<05:32,  1.22it/s]"
     ]
    },
    {
     "name": "stdout",
     "output_type": "stream",
     "text": [
      "GCN loss on unlabled data: 0.7547602653503418\n",
      "GCN acc on unlabled data: 0.7912382655341976\n",
      "attack loss: 0.38076305389404297\n"
     ]
    },
    {
     "name": "stderr",
     "output_type": "stream",
     "text": [
      "Perturbing graph:  20%|█▉        | 100/506 [01:19<05:31,  1.23it/s]"
     ]
    },
    {
     "name": "stdout",
     "output_type": "stream",
     "text": [
      "GCN loss on unlabled data: 0.7679480314254761\n",
      "GCN acc on unlabled data: 0.7898971837282075\n",
      "attack loss: 0.40321826934814453\n"
     ]
    },
    {
     "name": "stderr",
     "output_type": "stream",
     "text": [
      "Perturbing graph:  20%|█▉        | 101/506 [01:20<05:28,  1.23it/s]"
     ]
    },
    {
     "name": "stdout",
     "output_type": "stream",
     "text": [
      "GCN loss on unlabled data: 0.7477737665176392\n",
      "GCN acc on unlabled data: 0.791685292802861\n",
      "attack loss: 0.39769965410232544\n"
     ]
    },
    {
     "name": "stderr",
     "output_type": "stream",
     "text": [
      "Perturbing graph:  20%|██        | 102/506 [01:21<05:27,  1.23it/s]"
     ]
    },
    {
     "name": "stdout",
     "output_type": "stream",
     "text": [
      "GCN loss on unlabled data: 0.7742437720298767\n",
      "GCN acc on unlabled data: 0.7966025927581583\n",
      "attack loss: 0.3991036117076874\n"
     ]
    },
    {
     "name": "stderr",
     "output_type": "stream",
     "text": [
      "Perturbing graph:  20%|██        | 103/506 [01:22<05:23,  1.24it/s]"
     ]
    },
    {
     "name": "stdout",
     "output_type": "stream",
     "text": [
      "GCN loss on unlabled data: 0.7626420259475708\n",
      "GCN acc on unlabled data: 0.8019669199821189\n",
      "attack loss: 0.41376084089279175\n"
     ]
    },
    {
     "name": "stderr",
     "output_type": "stream",
     "text": [
      "Perturbing graph:  21%|██        | 104/506 [01:23<05:20,  1.26it/s]"
     ]
    },
    {
     "name": "stdout",
     "output_type": "stream",
     "text": [
      "GCN loss on unlabled data: 0.7776226997375488\n",
      "GCN acc on unlabled data: 0.7863209655789003\n",
      "attack loss: 0.3900538980960846\n"
     ]
    },
    {
     "name": "stderr",
     "output_type": "stream",
     "text": [
      "Perturbing graph:  21%|██        | 105/506 [01:23<05:16,  1.27it/s]"
     ]
    },
    {
     "name": "stdout",
     "output_type": "stream",
     "text": [
      "GCN loss on unlabled data: 0.8013486266136169\n",
      "GCN acc on unlabled data: 0.7822977201609298\n",
      "attack loss: 0.408338338136673\n"
     ]
    },
    {
     "name": "stderr",
     "output_type": "stream",
     "text": [
      "Perturbing graph:  21%|██        | 106/506 [01:24<05:14,  1.27it/s]"
     ]
    },
    {
     "name": "stdout",
     "output_type": "stream",
     "text": [
      "GCN loss on unlabled data: 0.784277617931366\n",
      "GCN acc on unlabled data: 0.7849798837729102\n",
      "attack loss: 0.3965296447277069\n"
     ]
    },
    {
     "name": "stderr",
     "output_type": "stream",
     "text": [
      "Perturbing graph:  21%|██        | 107/506 [01:25<05:14,  1.27it/s]"
     ]
    },
    {
     "name": "stdout",
     "output_type": "stream",
     "text": [
      "GCN loss on unlabled data: 0.7678790092468262\n",
      "GCN acc on unlabled data: 0.7934734018775146\n",
      "attack loss: 0.4059925973415375\n"
     ]
    },
    {
     "name": "stderr",
     "output_type": "stream",
     "text": [
      "Perturbing graph:  21%|██▏       | 108/506 [01:26<05:12,  1.27it/s]"
     ]
    },
    {
     "name": "stdout",
     "output_type": "stream",
     "text": [
      "GCN loss on unlabled data: 0.8599655628204346\n",
      "GCN acc on unlabled data: 0.7787215020116227\n",
      "attack loss: 0.42634740471839905\n"
     ]
    },
    {
     "name": "stderr",
     "output_type": "stream",
     "text": [
      "Perturbing graph:  22%|██▏       | 109/506 [01:27<05:11,  1.27it/s]"
     ]
    },
    {
     "name": "stdout",
     "output_type": "stream",
     "text": [
      "GCN loss on unlabled data: 0.8180122375488281\n",
      "GCN acc on unlabled data: 0.7863209655789003\n",
      "attack loss: 0.43320202827453613\n"
     ]
    },
    {
     "name": "stderr",
     "output_type": "stream",
     "text": [
      "Perturbing graph:  22%|██▏       | 110/506 [01:27<05:12,  1.27it/s]"
     ]
    },
    {
     "name": "stdout",
     "output_type": "stream",
     "text": [
      "GCN loss on unlabled data: 0.8291864991188049\n",
      "GCN acc on unlabled data: 0.785873938310237\n",
      "attack loss: 0.43036890029907227\n"
     ]
    },
    {
     "name": "stderr",
     "output_type": "stream",
     "text": [
      "Perturbing graph:  22%|██▏       | 111/506 [01:28<05:10,  1.27it/s]"
     ]
    },
    {
     "name": "stdout",
     "output_type": "stream",
     "text": [
      "GCN loss on unlabled data: 0.7680357694625854\n",
      "GCN acc on unlabled data: 0.7907912382655342\n",
      "attack loss: 0.3996107876300812\n"
     ]
    },
    {
     "name": "stderr",
     "output_type": "stream",
     "text": [
      "Perturbing graph:  22%|██▏       | 112/506 [01:29<05:07,  1.28it/s]"
     ]
    },
    {
     "name": "stdout",
     "output_type": "stream",
     "text": [
      "GCN loss on unlabled data: 0.7867107391357422\n",
      "GCN acc on unlabled data: 0.7787215020116227\n",
      "attack loss: 0.39023736119270325\n"
     ]
    },
    {
     "name": "stderr",
     "output_type": "stream",
     "text": [
      "Perturbing graph:  22%|██▏       | 113/506 [01:30<05:07,  1.28it/s]"
     ]
    },
    {
     "name": "stdout",
     "output_type": "stream",
     "text": [
      "GCN loss on unlabled data: 0.8238388299942017\n",
      "GCN acc on unlabled data: 0.7782744747429593\n",
      "attack loss: 0.4374579191207886\n"
     ]
    },
    {
     "name": "stderr",
     "output_type": "stream",
     "text": [
      "Perturbing graph:  23%|██▎       | 114/506 [01:30<05:07,  1.28it/s]"
     ]
    },
    {
     "name": "stdout",
     "output_type": "stream",
     "text": [
      "GCN loss on unlabled data: 0.8126102089881897\n",
      "GCN acc on unlabled data: 0.7822977201609298\n",
      "attack loss: 0.43267717957496643\n"
     ]
    },
    {
     "name": "stderr",
     "output_type": "stream",
     "text": [
      "Perturbing graph:  23%|██▎       | 115/506 [01:31<05:06,  1.28it/s]"
     ]
    },
    {
     "name": "stdout",
     "output_type": "stream",
     "text": [
      "GCN loss on unlabled data: 0.8023847937583923\n",
      "GCN acc on unlabled data: 0.7782744747429593\n",
      "attack loss: 0.4405454695224762\n"
     ]
    },
    {
     "name": "stderr",
     "output_type": "stream",
     "text": [
      "Perturbing graph:  23%|██▎       | 116/506 [01:32<05:07,  1.27it/s]"
     ]
    },
    {
     "name": "stdout",
     "output_type": "stream",
     "text": [
      "GCN loss on unlabled data: 0.8153445720672607\n",
      "GCN acc on unlabled data: 0.7863209655789003\n",
      "attack loss: 0.4336259663105011\n"
     ]
    },
    {
     "name": "stderr",
     "output_type": "stream",
     "text": [
      "Perturbing graph:  23%|██▎       | 117/506 [01:33<05:08,  1.26it/s]"
     ]
    },
    {
     "name": "stdout",
     "output_type": "stream",
     "text": [
      "GCN loss on unlabled data: 0.8105270266532898\n",
      "GCN acc on unlabled data: 0.7881090746535538\n",
      "attack loss: 0.42028212547302246\n"
     ]
    },
    {
     "name": "stderr",
     "output_type": "stream",
     "text": [
      "Perturbing graph:  23%|██▎       | 118/506 [01:34<05:06,  1.27it/s]"
     ]
    },
    {
     "name": "stdout",
     "output_type": "stream",
     "text": [
      "GCN loss on unlabled data: 0.8309258222579956\n",
      "GCN acc on unlabled data: 0.7907912382655342\n",
      "attack loss: 0.4339822232723236\n"
     ]
    },
    {
     "name": "stderr",
     "output_type": "stream",
     "text": [
      "Perturbing graph:  24%|██▎       | 119/506 [01:34<05:06,  1.26it/s]"
     ]
    },
    {
     "name": "stdout",
     "output_type": "stream",
     "text": [
      "GCN loss on unlabled data: 0.8218971490859985\n",
      "GCN acc on unlabled data: 0.791685292802861\n",
      "attack loss: 0.44389817118644714\n"
     ]
    },
    {
     "name": "stderr",
     "output_type": "stream",
     "text": [
      "Perturbing graph:  24%|██▎       | 120/506 [01:35<05:06,  1.26it/s]"
     ]
    },
    {
     "name": "stdout",
     "output_type": "stream",
     "text": [
      "GCN loss on unlabled data: 0.7908568382263184\n",
      "GCN acc on unlabled data: 0.78363880196692\n",
      "attack loss: 0.42164772748947144\n"
     ]
    },
    {
     "name": "stderr",
     "output_type": "stream",
     "text": [
      "Perturbing graph:  24%|██▍       | 121/506 [01:36<05:06,  1.26it/s]"
     ]
    },
    {
     "name": "stdout",
     "output_type": "stream",
     "text": [
      "GCN loss on unlabled data: 0.7853301167488098\n",
      "GCN acc on unlabled data: 0.7934734018775146\n",
      "attack loss: 0.40870553255081177\n"
     ]
    },
    {
     "name": "stderr",
     "output_type": "stream",
     "text": [
      "Perturbing graph:  24%|██▍       | 122/506 [01:37<05:07,  1.25it/s]"
     ]
    },
    {
     "name": "stdout",
     "output_type": "stream",
     "text": [
      "GCN loss on unlabled data: 0.7730949521064758\n",
      "GCN acc on unlabled data: 0.7769333929369692\n",
      "attack loss: 0.4028433859348297\n"
     ]
    },
    {
     "name": "stderr",
     "output_type": "stream",
     "text": [
      "Perturbing graph:  24%|██▍       | 123/506 [01:38<05:05,  1.25it/s]"
     ]
    },
    {
     "name": "stdout",
     "output_type": "stream",
     "text": [
      "GCN loss on unlabled data: 0.8361157774925232\n",
      "GCN acc on unlabled data: 0.7840858292355833\n",
      "attack loss: 0.4310113191604614\n"
     ]
    },
    {
     "name": "stderr",
     "output_type": "stream",
     "text": [
      "Perturbing graph:  25%|██▍       | 124/506 [01:38<05:04,  1.25it/s]"
     ]
    },
    {
     "name": "stdout",
     "output_type": "stream",
     "text": [
      "GCN loss on unlabled data: 0.8043500781059265\n",
      "GCN acc on unlabled data: 0.7854269110415736\n",
      "attack loss: 0.42291688919067383\n"
     ]
    },
    {
     "name": "stderr",
     "output_type": "stream",
     "text": [
      "Perturbing graph:  25%|██▍       | 125/506 [01:39<05:02,  1.26it/s]"
     ]
    },
    {
     "name": "stdout",
     "output_type": "stream",
     "text": [
      "GCN loss on unlabled data: 0.8551194667816162\n",
      "GCN acc on unlabled data: 0.7863209655789003\n",
      "attack loss: 0.45441871881484985\n"
     ]
    },
    {
     "name": "stderr",
     "output_type": "stream",
     "text": [
      "Perturbing graph:  25%|██▍       | 126/506 [01:40<05:00,  1.26it/s]"
     ]
    },
    {
     "name": "stdout",
     "output_type": "stream",
     "text": [
      "GCN loss on unlabled data: 0.8601177930831909\n",
      "GCN acc on unlabled data: 0.7751452838623156\n",
      "attack loss: 0.444315642118454\n"
     ]
    },
    {
     "name": "stderr",
     "output_type": "stream",
     "text": [
      "Perturbing graph:  25%|██▌       | 127/506 [01:41<04:57,  1.27it/s]"
     ]
    },
    {
     "name": "stdout",
     "output_type": "stream",
     "text": [
      "GCN loss on unlabled data: 0.8447403311729431\n",
      "GCN acc on unlabled data: 0.7867679928475637\n",
      "attack loss: 0.4483366906642914\n"
     ]
    },
    {
     "name": "stderr",
     "output_type": "stream",
     "text": [
      "Perturbing graph:  25%|██▌       | 128/506 [01:42<04:56,  1.27it/s]"
     ]
    },
    {
     "name": "stdout",
     "output_type": "stream",
     "text": [
      "GCN loss on unlabled data: 0.7820064425468445\n",
      "GCN acc on unlabled data: 0.7872150201162271\n",
      "attack loss: 0.4278124272823334\n"
     ]
    },
    {
     "name": "stderr",
     "output_type": "stream",
     "text": [
      "Perturbing graph:  25%|██▌       | 129/506 [01:42<04:58,  1.26it/s]"
     ]
    },
    {
     "name": "stdout",
     "output_type": "stream",
     "text": [
      "GCN loss on unlabled data: 0.8288399577140808\n",
      "GCN acc on unlabled data: 0.7890031291908807\n",
      "attack loss: 0.44570687413215637\n"
     ]
    },
    {
     "name": "stderr",
     "output_type": "stream",
     "text": [
      "Perturbing graph:  26%|██▌       | 130/506 [01:43<04:59,  1.26it/s]"
     ]
    },
    {
     "name": "stdout",
     "output_type": "stream",
     "text": [
      "GCN loss on unlabled data: 0.843510627746582\n",
      "GCN acc on unlabled data: 0.7890031291908807\n",
      "attack loss: 0.464232861995697\n"
     ]
    },
    {
     "name": "stderr",
     "output_type": "stream",
     "text": [
      "Perturbing graph:  26%|██▌       | 131/506 [01:44<04:58,  1.26it/s]"
     ]
    },
    {
     "name": "stdout",
     "output_type": "stream",
     "text": [
      "GCN loss on unlabled data: 0.7578824758529663\n",
      "GCN acc on unlabled data: 0.785873938310237\n",
      "attack loss: 0.4075472056865692\n"
     ]
    },
    {
     "name": "stderr",
     "output_type": "stream",
     "text": [
      "Perturbing graph:  26%|██▌       | 132/506 [01:45<04:57,  1.26it/s]"
     ]
    },
    {
     "name": "stdout",
     "output_type": "stream",
     "text": [
      "GCN loss on unlabled data: 0.8627557754516602\n",
      "GCN acc on unlabled data: 0.775592311130979\n",
      "attack loss: 0.4663105607032776\n"
     ]
    },
    {
     "name": "stderr",
     "output_type": "stream",
     "text": [
      "Perturbing graph:  26%|██▋       | 133/506 [01:46<04:56,  1.26it/s]"
     ]
    },
    {
     "name": "stdout",
     "output_type": "stream",
     "text": [
      "GCN loss on unlabled data: 0.8401883244514465\n",
      "GCN acc on unlabled data: 0.775592311130979\n",
      "attack loss: 0.44043073058128357\n"
     ]
    },
    {
     "name": "stderr",
     "output_type": "stream",
     "text": [
      "Perturbing graph:  26%|██▋       | 134/506 [01:46<04:57,  1.25it/s]"
     ]
    },
    {
     "name": "stdout",
     "output_type": "stream",
     "text": [
      "GCN loss on unlabled data: 0.8055062890052795\n",
      "GCN acc on unlabled data: 0.7863209655789003\n",
      "attack loss: 0.42832526564598083\n"
     ]
    },
    {
     "name": "stderr",
     "output_type": "stream",
     "text": [
      "Perturbing graph:  27%|██▋       | 135/506 [01:47<04:58,  1.24it/s]"
     ]
    },
    {
     "name": "stdout",
     "output_type": "stream",
     "text": [
      "GCN loss on unlabled data: 0.8546907305717468\n",
      "GCN acc on unlabled data: 0.7751452838623156\n",
      "attack loss: 0.45347344875335693\n"
     ]
    },
    {
     "name": "stderr",
     "output_type": "stream",
     "text": [
      "Perturbing graph:  27%|██▋       | 136/506 [01:48<04:55,  1.25it/s]"
     ]
    },
    {
     "name": "stdout",
     "output_type": "stream",
     "text": [
      "GCN loss on unlabled data: 0.7645614147186279\n",
      "GCN acc on unlabled data: 0.7934734018775146\n",
      "attack loss: 0.43190106749534607\n"
     ]
    },
    {
     "name": "stderr",
     "output_type": "stream",
     "text": [
      "Perturbing graph:  27%|██▋       | 137/506 [01:49<04:53,  1.26it/s]"
     ]
    },
    {
     "name": "stdout",
     "output_type": "stream",
     "text": [
      "GCN loss on unlabled data: 0.8575813174247742\n",
      "GCN acc on unlabled data: 0.7840858292355833\n",
      "attack loss: 0.46446627378463745\n"
     ]
    },
    {
     "name": "stderr",
     "output_type": "stream",
     "text": [
      "Perturbing graph:  27%|██▋       | 138/506 [01:50<04:51,  1.26it/s]"
     ]
    },
    {
     "name": "stdout",
     "output_type": "stream",
     "text": [
      "GCN loss on unlabled data: 0.8275579214096069\n",
      "GCN acc on unlabled data: 0.7805096110862763\n",
      "attack loss: 0.4394986033439636\n"
     ]
    },
    {
     "name": "stderr",
     "output_type": "stream",
     "text": [
      "Perturbing graph:  27%|██▋       | 139/506 [01:50<04:52,  1.26it/s]"
     ]
    },
    {
     "name": "stdout",
     "output_type": "stream",
     "text": [
      "GCN loss on unlabled data: 0.8481468558311462\n",
      "GCN acc on unlabled data: 0.7742512293249888\n",
      "attack loss: 0.468060702085495\n"
     ]
    },
    {
     "name": "stderr",
     "output_type": "stream",
     "text": [
      "Perturbing graph:  28%|██▊       | 140/506 [01:51<04:50,  1.26it/s]"
     ]
    },
    {
     "name": "stdout",
     "output_type": "stream",
     "text": [
      "GCN loss on unlabled data: 0.813336193561554\n",
      "GCN acc on unlabled data: 0.7782744747429593\n",
      "attack loss: 0.438303679227829\n"
     ]
    },
    {
     "name": "stderr",
     "output_type": "stream",
     "text": [
      "Perturbing graph:  28%|██▊       | 141/506 [01:52<04:49,  1.26it/s]"
     ]
    },
    {
     "name": "stdout",
     "output_type": "stream",
     "text": [
      "GCN loss on unlabled data: 0.8712279796600342\n",
      "GCN acc on unlabled data: 0.7760393383996425\n",
      "attack loss: 0.45587900280952454\n"
     ]
    },
    {
     "name": "stderr",
     "output_type": "stream",
     "text": [
      "Perturbing graph:  28%|██▊       | 142/506 [01:53<04:49,  1.26it/s]"
     ]
    },
    {
     "name": "stdout",
     "output_type": "stream",
     "text": [
      "GCN loss on unlabled data: 0.834392786026001\n",
      "GCN acc on unlabled data: 0.7791685292802861\n",
      "attack loss: 0.4600968360900879\n"
     ]
    },
    {
     "name": "stderr",
     "output_type": "stream",
     "text": [
      "Perturbing graph:  28%|██▊       | 143/506 [01:53<04:48,  1.26it/s]"
     ]
    },
    {
     "name": "stdout",
     "output_type": "stream",
     "text": [
      "GCN loss on unlabled data: 0.8037905097007751\n",
      "GCN acc on unlabled data: 0.7809566383549397\n",
      "attack loss: 0.454813152551651\n"
     ]
    },
    {
     "name": "stderr",
     "output_type": "stream",
     "text": [
      "Perturbing graph:  28%|██▊       | 144/506 [01:54<04:47,  1.26it/s]"
     ]
    },
    {
     "name": "stdout",
     "output_type": "stream",
     "text": [
      "GCN loss on unlabled data: 0.8391762971878052\n",
      "GCN acc on unlabled data: 0.772016092981672\n",
      "attack loss: 0.4622397720813751\n"
     ]
    },
    {
     "name": "stderr",
     "output_type": "stream",
     "text": [
      "Perturbing graph:  29%|██▊       | 145/506 [01:55<04:47,  1.25it/s]"
     ]
    },
    {
     "name": "stdout",
     "output_type": "stream",
     "text": [
      "GCN loss on unlabled data: 0.8456520438194275\n",
      "GCN acc on unlabled data: 0.7805096110862763\n",
      "attack loss: 0.44689658284187317\n"
     ]
    },
    {
     "name": "stderr",
     "output_type": "stream",
     "text": [
      "Perturbing graph:  29%|██▉       | 146/506 [01:56<04:49,  1.24it/s]"
     ]
    },
    {
     "name": "stdout",
     "output_type": "stream",
     "text": [
      "GCN loss on unlabled data: 0.8273716568946838\n",
      "GCN acc on unlabled data: 0.780062583817613\n",
      "attack loss: 0.4400850832462311\n"
     ]
    },
    {
     "name": "stderr",
     "output_type": "stream",
     "text": [
      "Perturbing graph:  29%|██▉       | 147/506 [01:57<04:49,  1.24it/s]"
     ]
    },
    {
     "name": "stdout",
     "output_type": "stream",
     "text": [
      "GCN loss on unlabled data: 0.8759368658065796\n",
      "GCN acc on unlabled data: 0.7662047384890479\n",
      "attack loss: 0.46348121762275696\n"
     ]
    },
    {
     "name": "stderr",
     "output_type": "stream",
     "text": [
      "Perturbing graph:  29%|██▉       | 148/506 [01:58<04:46,  1.25it/s]"
     ]
    },
    {
     "name": "stdout",
     "output_type": "stream",
     "text": [
      "GCN loss on unlabled data: 0.8476036190986633\n",
      "GCN acc on unlabled data: 0.7746982565936522\n",
      "attack loss: 0.45976582169532776\n"
     ]
    },
    {
     "name": "stderr",
     "output_type": "stream",
     "text": [
      "Perturbing graph:  29%|██▉       | 149/506 [01:58<04:45,  1.25it/s]"
     ]
    },
    {
     "name": "stdout",
     "output_type": "stream",
     "text": [
      "GCN loss on unlabled data: 0.8257220387458801\n",
      "GCN acc on unlabled data: 0.7805096110862763\n",
      "attack loss: 0.4269564747810364\n"
     ]
    },
    {
     "name": "stderr",
     "output_type": "stream",
     "text": [
      "Perturbing graph:  30%|██▉       | 150/506 [01:59<04:41,  1.26it/s]"
     ]
    },
    {
     "name": "stdout",
     "output_type": "stream",
     "text": [
      "GCN loss on unlabled data: 0.8996103405952454\n",
      "GCN acc on unlabled data: 0.7742512293249888\n",
      "attack loss: 0.48725637793540955\n"
     ]
    },
    {
     "name": "stderr",
     "output_type": "stream",
     "text": [
      "Perturbing graph:  30%|██▉       | 151/506 [02:00<04:38,  1.28it/s]"
     ]
    },
    {
     "name": "stdout",
     "output_type": "stream",
     "text": [
      "GCN loss on unlabled data: 0.9076578617095947\n",
      "GCN acc on unlabled data: 0.7796155565489495\n",
      "attack loss: 0.49707791209220886\n"
     ]
    },
    {
     "name": "stderr",
     "output_type": "stream",
     "text": [
      "Perturbing graph:  30%|███       | 152/506 [02:01<04:36,  1.28it/s]"
     ]
    },
    {
     "name": "stdout",
     "output_type": "stream",
     "text": [
      "GCN loss on unlabled data: 0.8926340937614441\n",
      "GCN acc on unlabled data: 0.7738042020563255\n",
      "attack loss: 0.48091980814933777\n"
     ]
    },
    {
     "name": "stderr",
     "output_type": "stream",
     "text": [
      "Perturbing graph:  30%|███       | 153/506 [02:01<04:36,  1.28it/s]"
     ]
    },
    {
     "name": "stdout",
     "output_type": "stream",
     "text": [
      "GCN loss on unlabled data: 0.9121274948120117\n",
      "GCN acc on unlabled data: 0.7621814930710774\n",
      "attack loss: 0.4825819134712219\n"
     ]
    },
    {
     "name": "stderr",
     "output_type": "stream",
     "text": [
      "Perturbing graph:  30%|███       | 154/506 [02:02<04:37,  1.27it/s]"
     ]
    },
    {
     "name": "stdout",
     "output_type": "stream",
     "text": [
      "GCN loss on unlabled data: 0.8534649014472961\n",
      "GCN acc on unlabled data: 0.7769333929369692\n",
      "attack loss: 0.46841001510620117\n"
     ]
    },
    {
     "name": "stderr",
     "output_type": "stream",
     "text": [
      "Perturbing graph:  31%|███       | 155/506 [02:03<04:36,  1.27it/s]"
     ]
    },
    {
     "name": "stdout",
     "output_type": "stream",
     "text": [
      "GCN loss on unlabled data: 0.8776581287384033\n",
      "GCN acc on unlabled data: 0.7863209655789003\n",
      "attack loss: 0.469801664352417\n"
     ]
    },
    {
     "name": "stderr",
     "output_type": "stream",
     "text": [
      "Perturbing graph:  31%|███       | 156/506 [02:04<04:34,  1.28it/s]"
     ]
    },
    {
     "name": "stdout",
     "output_type": "stream",
     "text": [
      "GCN loss on unlabled data: 0.8647890090942383\n",
      "GCN acc on unlabled data: 0.7733571747876621\n",
      "attack loss: 0.46935516595840454\n"
     ]
    },
    {
     "name": "stderr",
     "output_type": "stream",
     "text": [
      "Perturbing graph:  31%|███       | 157/506 [02:05<04:33,  1.28it/s]"
     ]
    },
    {
     "name": "stdout",
     "output_type": "stream",
     "text": [
      "GCN loss on unlabled data: 0.8774391412734985\n",
      "GCN acc on unlabled data: 0.7724631202503353\n",
      "attack loss: 0.46838951110839844\n"
     ]
    },
    {
     "name": "stderr",
     "output_type": "stream",
     "text": [
      "Perturbing graph:  31%|███       | 158/506 [02:05<04:33,  1.27it/s]"
     ]
    },
    {
     "name": "stdout",
     "output_type": "stream",
     "text": [
      "GCN loss on unlabled data: 0.9062562584877014\n",
      "GCN acc on unlabled data: 0.7742512293249888\n",
      "attack loss: 0.49608114361763\n"
     ]
    },
    {
     "name": "stderr",
     "output_type": "stream",
     "text": [
      "Perturbing graph:  31%|███▏      | 159/506 [02:06<04:32,  1.27it/s]"
     ]
    },
    {
     "name": "stdout",
     "output_type": "stream",
     "text": [
      "GCN loss on unlabled data: 0.8590335249900818\n",
      "GCN acc on unlabled data: 0.7742512293249888\n",
      "attack loss: 0.4684026837348938\n"
     ]
    },
    {
     "name": "stderr",
     "output_type": "stream",
     "text": [
      "Perturbing graph:  32%|███▏      | 160/506 [02:07<04:30,  1.28it/s]"
     ]
    },
    {
     "name": "stdout",
     "output_type": "stream",
     "text": [
      "GCN loss on unlabled data: 0.9048196077346802\n",
      "GCN acc on unlabled data: 0.7738042020563255\n",
      "attack loss: 0.48659566044807434\n"
     ]
    },
    {
     "name": "stderr",
     "output_type": "stream",
     "text": [
      "Perturbing graph:  32%|███▏      | 161/506 [02:08<04:29,  1.28it/s]"
     ]
    },
    {
     "name": "stdout",
     "output_type": "stream",
     "text": [
      "GCN loss on unlabled data: 0.8868650197982788\n",
      "GCN acc on unlabled data: 0.7729101475189987\n",
      "attack loss: 0.47258374094963074\n"
     ]
    },
    {
     "name": "stderr",
     "output_type": "stream",
     "text": [
      "Perturbing graph:  32%|███▏      | 162/506 [02:08<04:28,  1.28it/s]"
     ]
    },
    {
     "name": "stdout",
     "output_type": "stream",
     "text": [
      "GCN loss on unlabled data: 0.8992937207221985\n",
      "GCN acc on unlabled data: 0.7702279839070183\n",
      "attack loss: 0.4839419722557068\n"
     ]
    },
    {
     "name": "stderr",
     "output_type": "stream",
     "text": [
      "Perturbing graph:  32%|███▏      | 163/506 [02:09<04:28,  1.28it/s]"
     ]
    },
    {
     "name": "stdout",
     "output_type": "stream",
     "text": [
      "GCN loss on unlabled data: 0.8948855400085449\n",
      "GCN acc on unlabled data: 0.7706750111756817\n",
      "attack loss: 0.4829390048980713\n"
     ]
    },
    {
     "name": "stderr",
     "output_type": "stream",
     "text": [
      "Perturbing graph:  32%|███▏      | 164/506 [02:10<04:29,  1.27it/s]"
     ]
    },
    {
     "name": "stdout",
     "output_type": "stream",
     "text": [
      "GCN loss on unlabled data: 0.8788272142410278\n",
      "GCN acc on unlabled data: 0.7791685292802861\n",
      "attack loss: 0.48226141929626465\n"
     ]
    },
    {
     "name": "stderr",
     "output_type": "stream",
     "text": [
      "Perturbing graph:  33%|███▎      | 165/506 [02:11<04:27,  1.27it/s]"
     ]
    },
    {
     "name": "stdout",
     "output_type": "stream",
     "text": [
      "GCN loss on unlabled data: 0.9172568321228027\n",
      "GCN acc on unlabled data: 0.7693339293696916\n",
      "attack loss: 0.48615562915802\n"
     ]
    },
    {
     "name": "stderr",
     "output_type": "stream",
     "text": [
      "Perturbing graph:  33%|███▎      | 166/506 [02:12<04:29,  1.26it/s]"
     ]
    },
    {
     "name": "stdout",
     "output_type": "stream",
     "text": [
      "GCN loss on unlabled data: 0.8893551826477051\n",
      "GCN acc on unlabled data: 0.772016092981672\n",
      "attack loss: 0.478960782289505\n"
     ]
    },
    {
     "name": "stderr",
     "output_type": "stream",
     "text": [
      "Perturbing graph:  33%|███▎      | 167/506 [02:12<04:28,  1.26it/s]"
     ]
    },
    {
     "name": "stdout",
     "output_type": "stream",
     "text": [
      "GCN loss on unlabled data: 0.8371288180351257\n",
      "GCN acc on unlabled data: 0.7782744747429593\n",
      "attack loss: 0.45834022760391235\n"
     ]
    },
    {
     "name": "stderr",
     "output_type": "stream",
     "text": [
      "Perturbing graph:  33%|███▎      | 168/506 [02:13<04:26,  1.27it/s]"
     ]
    },
    {
     "name": "stdout",
     "output_type": "stream",
     "text": [
      "GCN loss on unlabled data: 0.8603021502494812\n",
      "GCN acc on unlabled data: 0.7809566383549397\n",
      "attack loss: 0.4720941483974457\n"
     ]
    },
    {
     "name": "stderr",
     "output_type": "stream",
     "text": [
      "Perturbing graph:  33%|███▎      | 169/506 [02:14<04:26,  1.26it/s]"
     ]
    },
    {
     "name": "stdout",
     "output_type": "stream",
     "text": [
      "GCN loss on unlabled data: 0.8768090009689331\n",
      "GCN acc on unlabled data: 0.769780956638355\n",
      "attack loss: 0.4913308620452881\n"
     ]
    },
    {
     "name": "stderr",
     "output_type": "stream",
     "text": [
      "Perturbing graph:  34%|███▎      | 170/506 [02:15<04:26,  1.26it/s]"
     ]
    },
    {
     "name": "stdout",
     "output_type": "stream",
     "text": [
      "GCN loss on unlabled data: 0.9674739837646484\n",
      "GCN acc on unlabled data: 0.7572641931157801\n",
      "attack loss: 0.531442403793335\n"
     ]
    },
    {
     "name": "stderr",
     "output_type": "stream",
     "text": [
      "Perturbing graph:  34%|███▍      | 171/506 [02:16<04:22,  1.28it/s]"
     ]
    },
    {
     "name": "stdout",
     "output_type": "stream",
     "text": [
      "GCN loss on unlabled data: 0.9028335213661194\n",
      "GCN acc on unlabled data: 0.7764863656683058\n",
      "attack loss: 0.49833229184150696\n"
     ]
    },
    {
     "name": "stderr",
     "output_type": "stream",
     "text": [
      "Perturbing graph:  34%|███▍      | 172/506 [02:16<04:21,  1.28it/s]"
     ]
    },
    {
     "name": "stdout",
     "output_type": "stream",
     "text": [
      "GCN loss on unlabled data: 0.9049929976463318\n",
      "GCN acc on unlabled data: 0.780062583817613\n",
      "attack loss: 0.4992619454860687\n"
     ]
    },
    {
     "name": "stderr",
     "output_type": "stream",
     "text": [
      "Perturbing graph:  34%|███▍      | 173/506 [02:17<04:20,  1.28it/s]"
     ]
    },
    {
     "name": "stdout",
     "output_type": "stream",
     "text": [
      "GCN loss on unlabled data: 0.9288938641548157\n",
      "GCN acc on unlabled data: 0.7599463567277605\n",
      "attack loss: 0.5004858374595642\n"
     ]
    },
    {
     "name": "stderr",
     "output_type": "stream",
     "text": [
      "Perturbing graph:  34%|███▍      | 174/506 [02:18<04:20,  1.27it/s]"
     ]
    },
    {
     "name": "stdout",
     "output_type": "stream",
     "text": [
      "GCN loss on unlabled data: 0.8906664252281189\n",
      "GCN acc on unlabled data: 0.7684398748323648\n",
      "attack loss: 0.5028343200683594\n"
     ]
    },
    {
     "name": "stderr",
     "output_type": "stream",
     "text": [
      "Perturbing graph:  35%|███▍      | 175/506 [02:19<04:20,  1.27it/s]"
     ]
    },
    {
     "name": "stdout",
     "output_type": "stream",
     "text": [
      "GCN loss on unlabled data: 0.8832377791404724\n",
      "GCN acc on unlabled data: 0.772016092981672\n",
      "attack loss: 0.48770618438720703\n"
     ]
    },
    {
     "name": "stderr",
     "output_type": "stream",
     "text": [
      "Perturbing graph:  35%|███▍      | 176/506 [02:19<04:19,  1.27it/s]"
     ]
    },
    {
     "name": "stdout",
     "output_type": "stream",
     "text": [
      "GCN loss on unlabled data: 0.8950210809707642\n",
      "GCN acc on unlabled data: 0.7666517657577112\n",
      "attack loss: 0.49722084403038025\n"
     ]
    },
    {
     "name": "stderr",
     "output_type": "stream",
     "text": [
      "Perturbing graph:  35%|███▍      | 177/506 [02:20<04:18,  1.27it/s]"
     ]
    },
    {
     "name": "stdout",
     "output_type": "stream",
     "text": [
      "GCN loss on unlabled data: 0.9182178974151611\n",
      "GCN acc on unlabled data: 0.7693339293696916\n",
      "attack loss: 0.4981929063796997\n"
     ]
    },
    {
     "name": "stderr",
     "output_type": "stream",
     "text": [
      "Perturbing graph:  35%|███▌      | 178/506 [02:21<04:16,  1.28it/s]"
     ]
    },
    {
     "name": "stdout",
     "output_type": "stream",
     "text": [
      "GCN loss on unlabled data: 0.8941937685012817\n",
      "GCN acc on unlabled data: 0.7608404112650872\n",
      "attack loss: 0.4971459209918976\n"
     ]
    },
    {
     "name": "stderr",
     "output_type": "stream",
     "text": [
      "Perturbing graph:  35%|███▌      | 179/506 [02:22<04:15,  1.28it/s]"
     ]
    },
    {
     "name": "stdout",
     "output_type": "stream",
     "text": [
      "GCN loss on unlabled data: 0.9047307372093201\n",
      "GCN acc on unlabled data: 0.7644166294143943\n",
      "attack loss: 0.47264719009399414\n"
     ]
    },
    {
     "name": "stderr",
     "output_type": "stream",
     "text": [
      "Perturbing graph:  36%|███▌      | 180/506 [02:23<04:17,  1.27it/s]"
     ]
    },
    {
     "name": "stdout",
     "output_type": "stream",
     "text": [
      "GCN loss on unlabled data: 0.9705820083618164\n",
      "GCN acc on unlabled data: 0.7510058113544926\n",
      "attack loss: 0.5317084789276123\n"
     ]
    },
    {
     "name": "stderr",
     "output_type": "stream",
     "text": [
      "Perturbing graph:  36%|███▌      | 181/506 [02:23<04:18,  1.26it/s]"
     ]
    },
    {
     "name": "stdout",
     "output_type": "stream",
     "text": [
      "GCN loss on unlabled data: 0.9340029954910278\n",
      "GCN acc on unlabled data: 0.7684398748323648\n",
      "attack loss: 0.5381356477737427\n"
     ]
    },
    {
     "name": "stderr",
     "output_type": "stream",
     "text": [
      "Perturbing graph:  36%|███▌      | 182/506 [02:24<04:18,  1.25it/s]"
     ]
    },
    {
     "name": "stdout",
     "output_type": "stream",
     "text": [
      "GCN loss on unlabled data: 0.9117496013641357\n",
      "GCN acc on unlabled data: 0.7653106839517211\n",
      "attack loss: 0.5083293318748474\n"
     ]
    },
    {
     "name": "stderr",
     "output_type": "stream",
     "text": [
      "Perturbing graph:  36%|███▌      | 183/506 [02:25<04:18,  1.25it/s]"
     ]
    },
    {
     "name": "stdout",
     "output_type": "stream",
     "text": [
      "GCN loss on unlabled data: 0.8893118500709534\n",
      "GCN acc on unlabled data: 0.7626285203397407\n",
      "attack loss: 0.5034801363945007\n"
     ]
    },
    {
     "name": "stderr",
     "output_type": "stream",
     "text": [
      "Perturbing graph:  36%|███▋      | 184/506 [02:26<04:18,  1.25it/s]"
     ]
    },
    {
     "name": "stdout",
     "output_type": "stream",
     "text": [
      "GCN loss on unlabled data: 0.9601296782493591\n",
      "GCN acc on unlabled data: 0.761734465802414\n",
      "attack loss: 0.5512219071388245\n"
     ]
    },
    {
     "name": "stderr",
     "output_type": "stream",
     "text": [
      "Perturbing graph:  37%|███▋      | 185/506 [02:27<04:16,  1.25it/s]"
     ]
    },
    {
     "name": "stdout",
     "output_type": "stream",
     "text": [
      "GCN loss on unlabled data: 0.9582833647727966\n",
      "GCN acc on unlabled data: 0.7541350022351364\n",
      "attack loss: 0.5171682834625244\n"
     ]
    },
    {
     "name": "stderr",
     "output_type": "stream",
     "text": [
      "Perturbing graph:  37%|███▋      | 186/506 [02:27<04:13,  1.26it/s]"
     ]
    },
    {
     "name": "stdout",
     "output_type": "stream",
     "text": [
      "GCN loss on unlabled data: 0.9377461075782776\n",
      "GCN acc on unlabled data: 0.7653106839517211\n",
      "attack loss: 0.5122225880622864\n"
     ]
    },
    {
     "name": "stderr",
     "output_type": "stream",
     "text": [
      "Perturbing graph:  37%|███▋      | 187/506 [02:28<04:14,  1.26it/s]"
     ]
    },
    {
     "name": "stdout",
     "output_type": "stream",
     "text": [
      "GCN loss on unlabled data: 0.9435604214668274\n",
      "GCN acc on unlabled data: 0.7666517657577112\n",
      "attack loss: 0.5100988149642944\n"
     ]
    },
    {
     "name": "stderr",
     "output_type": "stream",
     "text": [
      "Perturbing graph:  37%|███▋      | 188/506 [02:29<04:12,  1.26it/s]"
     ]
    },
    {
     "name": "stdout",
     "output_type": "stream",
     "text": [
      "GCN loss on unlabled data: 0.9465844035148621\n",
      "GCN acc on unlabled data: 0.7608404112650872\n",
      "attack loss: 0.5418663620948792\n"
     ]
    },
    {
     "name": "stderr",
     "output_type": "stream",
     "text": [
      "Perturbing graph:  37%|███▋      | 189/506 [02:30<04:12,  1.25it/s]"
     ]
    },
    {
     "name": "stdout",
     "output_type": "stream",
     "text": [
      "GCN loss on unlabled data: 0.9333025813102722\n",
      "GCN acc on unlabled data: 0.7612874385337506\n",
      "attack loss: 0.5106039047241211\n"
     ]
    },
    {
     "name": "stderr",
     "output_type": "stream",
     "text": [
      "Perturbing graph:  38%|███▊      | 190/506 [02:31<04:13,  1.25it/s]"
     ]
    },
    {
     "name": "stdout",
     "output_type": "stream",
     "text": [
      "GCN loss on unlabled data: 0.9625945091247559\n",
      "GCN acc on unlabled data: 0.7612874385337506\n",
      "attack loss: 0.5260299444198608\n"
     ]
    },
    {
     "name": "stderr",
     "output_type": "stream",
     "text": [
      "Perturbing graph:  38%|███▊      | 191/506 [02:31<04:13,  1.24it/s]"
     ]
    },
    {
     "name": "stdout",
     "output_type": "stream",
     "text": [
      "GCN loss on unlabled data: 0.9293687343597412\n",
      "GCN acc on unlabled data: 0.7657577112203845\n",
      "attack loss: 0.5088524222373962\n"
     ]
    },
    {
     "name": "stderr",
     "output_type": "stream",
     "text": [
      "Perturbing graph:  38%|███▊      | 192/506 [02:32<04:11,  1.25it/s]"
     ]
    },
    {
     "name": "stdout",
     "output_type": "stream",
     "text": [
      "GCN loss on unlabled data: 0.9396474957466125\n",
      "GCN acc on unlabled data: 0.7630755476084041\n",
      "attack loss: 0.5385114550590515\n"
     ]
    },
    {
     "name": "stderr",
     "output_type": "stream",
     "text": [
      "Perturbing graph:  38%|███▊      | 193/506 [02:33<04:08,  1.26it/s]"
     ]
    },
    {
     "name": "stdout",
     "output_type": "stream",
     "text": [
      "GCN loss on unlabled data: 0.9441817402839661\n",
      "GCN acc on unlabled data: 0.7684398748323648\n",
      "attack loss: 0.5233113765716553\n"
     ]
    },
    {
     "name": "stderr",
     "output_type": "stream",
     "text": [
      "Perturbing graph:  38%|███▊      | 194/506 [02:34<04:08,  1.25it/s]"
     ]
    },
    {
     "name": "stdout",
     "output_type": "stream",
     "text": [
      "GCN loss on unlabled data: 0.9546528458595276\n",
      "GCN acc on unlabled data: 0.7586052749217702\n",
      "attack loss: 0.5188621282577515\n"
     ]
    },
    {
     "name": "stderr",
     "output_type": "stream",
     "text": [
      "Perturbing graph:  39%|███▊      | 195/506 [02:35<04:08,  1.25it/s]"
     ]
    },
    {
     "name": "stdout",
     "output_type": "stream",
     "text": [
      "GCN loss on unlabled data: 0.9327993392944336\n",
      "GCN acc on unlabled data: 0.7572641931157801\n",
      "attack loss: 0.5374353528022766\n"
     ]
    },
    {
     "name": "stderr",
     "output_type": "stream",
     "text": [
      "Perturbing graph:  39%|███▊      | 196/506 [02:35<04:04,  1.27it/s]"
     ]
    },
    {
     "name": "stdout",
     "output_type": "stream",
     "text": [
      "GCN loss on unlabled data: 0.9581160545349121\n",
      "GCN acc on unlabled data: 0.7563701385784533\n",
      "attack loss: 0.5403949022293091\n"
     ]
    },
    {
     "name": "stderr",
     "output_type": "stream",
     "text": [
      "Perturbing graph:  39%|███▉      | 197/506 [02:36<04:03,  1.27it/s]"
     ]
    },
    {
     "name": "stdout",
     "output_type": "stream",
     "text": [
      "GCN loss on unlabled data: 0.9385861158370972\n",
      "GCN acc on unlabled data: 0.7657577112203845\n",
      "attack loss: 0.5274007320404053\n"
     ]
    },
    {
     "name": "stderr",
     "output_type": "stream",
     "text": [
      "Perturbing graph:  39%|███▉      | 198/506 [02:37<04:01,  1.28it/s]"
     ]
    },
    {
     "name": "stdout",
     "output_type": "stream",
     "text": [
      "GCN loss on unlabled data: 1.010172963142395\n",
      "GCN acc on unlabled data: 0.7590523021904336\n",
      "attack loss: 0.5451066493988037\n"
     ]
    },
    {
     "name": "stderr",
     "output_type": "stream",
     "text": [
      "Perturbing graph:  39%|███▉      | 199/506 [02:38<04:00,  1.28it/s]"
     ]
    },
    {
     "name": "stdout",
     "output_type": "stream",
     "text": [
      "GCN loss on unlabled data: 0.9936548471450806\n",
      "GCN acc on unlabled data: 0.751452838623156\n",
      "attack loss: 0.5589504241943359\n"
     ]
    },
    {
     "name": "stderr",
     "output_type": "stream",
     "text": [
      "Perturbing graph:  40%|███▉      | 200/506 [02:39<04:00,  1.27it/s]"
     ]
    },
    {
     "name": "stdout",
     "output_type": "stream",
     "text": [
      "GCN loss on unlabled data: 0.8903287053108215\n",
      "GCN acc on unlabled data: 0.7550290567724631\n",
      "attack loss: 0.5021187663078308\n"
     ]
    },
    {
     "name": "stderr",
     "output_type": "stream",
     "text": [
      "Perturbing graph:  40%|███▉      | 201/506 [02:39<04:00,  1.27it/s]"
     ]
    },
    {
     "name": "stdout",
     "output_type": "stream",
     "text": [
      "GCN loss on unlabled data: 0.944941520690918\n",
      "GCN acc on unlabled data: 0.7612874385337506\n",
      "attack loss: 0.5149886608123779\n"
     ]
    },
    {
     "name": "stderr",
     "output_type": "stream",
     "text": [
      "Perturbing graph:  40%|███▉      | 202/506 [02:40<03:59,  1.27it/s]"
     ]
    },
    {
     "name": "stdout",
     "output_type": "stream",
     "text": [
      "GCN loss on unlabled data: 0.9596366882324219\n",
      "GCN acc on unlabled data: 0.759499329459097\n",
      "attack loss: 0.5237075686454773\n"
     ]
    },
    {
     "name": "stderr",
     "output_type": "stream",
     "text": [
      "Perturbing graph:  40%|████      | 203/506 [02:41<03:58,  1.27it/s]"
     ]
    },
    {
     "name": "stdout",
     "output_type": "stream",
     "text": [
      "GCN loss on unlabled data: 0.9771503210067749\n",
      "GCN acc on unlabled data: 0.7550290567724631\n",
      "attack loss: 0.554728090763092\n"
     ]
    },
    {
     "name": "stderr",
     "output_type": "stream",
     "text": [
      "Perturbing graph:  40%|████      | 204/506 [02:42<03:58,  1.27it/s]"
     ]
    },
    {
     "name": "stdout",
     "output_type": "stream",
     "text": [
      "GCN loss on unlabled data: 0.9960066676139832\n",
      "GCN acc on unlabled data: 0.7563701385784533\n",
      "attack loss: 0.5362138748168945\n"
     ]
    },
    {
     "name": "stderr",
     "output_type": "stream",
     "text": [
      "Perturbing graph:  41%|████      | 205/506 [02:42<03:58,  1.26it/s]"
     ]
    },
    {
     "name": "stdout",
     "output_type": "stream",
     "text": [
      "GCN loss on unlabled data: 0.9352830052375793\n",
      "GCN acc on unlabled data: 0.7554760840411265\n",
      "attack loss: 0.5171697735786438\n"
     ]
    },
    {
     "name": "stderr",
     "output_type": "stream",
     "text": [
      "Perturbing graph:  41%|████      | 206/506 [02:43<03:57,  1.26it/s]"
     ]
    },
    {
     "name": "stdout",
     "output_type": "stream",
     "text": [
      "GCN loss on unlabled data: 0.9223615527153015\n",
      "GCN acc on unlabled data: 0.7666517657577112\n",
      "attack loss: 0.5134850740432739\n"
     ]
    },
    {
     "name": "stderr",
     "output_type": "stream",
     "text": [
      "Perturbing graph:  41%|████      | 207/506 [02:44<03:57,  1.26it/s]"
     ]
    },
    {
     "name": "stdout",
     "output_type": "stream",
     "text": [
      "GCN loss on unlabled data: 0.981572151184082\n",
      "GCN acc on unlabled data: 0.7518998658918195\n",
      "attack loss: 0.5435959100723267\n"
     ]
    },
    {
     "name": "stderr",
     "output_type": "stream",
     "text": [
      "Perturbing graph:  41%|████      | 208/506 [02:45<03:54,  1.27it/s]"
     ]
    },
    {
     "name": "stdout",
     "output_type": "stream",
     "text": [
      "GCN loss on unlabled data: 0.9453319311141968\n",
      "GCN acc on unlabled data: 0.7621814930710774\n",
      "attack loss: 0.5149364471435547\n"
     ]
    },
    {
     "name": "stderr",
     "output_type": "stream",
     "text": [
      "Perturbing graph:  41%|████▏     | 209/506 [02:46<03:55,  1.26it/s]"
     ]
    },
    {
     "name": "stdout",
     "output_type": "stream",
     "text": [
      "GCN loss on unlabled data: 1.0019283294677734\n",
      "GCN acc on unlabled data: 0.7563701385784533\n",
      "attack loss: 0.5500524640083313\n"
     ]
    },
    {
     "name": "stderr",
     "output_type": "stream",
     "text": [
      "Perturbing graph:  42%|████▏     | 210/506 [02:46<03:57,  1.25it/s]"
     ]
    },
    {
     "name": "stdout",
     "output_type": "stream",
     "text": [
      "GCN loss on unlabled data: 0.9996088743209839\n",
      "GCN acc on unlabled data: 0.7635225748770675\n",
      "attack loss: 0.5766884684562683\n"
     ]
    },
    {
     "name": "stderr",
     "output_type": "stream",
     "text": [
      "Perturbing graph:  42%|████▏     | 211/506 [02:47<03:57,  1.24it/s]"
     ]
    },
    {
     "name": "stdout",
     "output_type": "stream",
     "text": [
      "GCN loss on unlabled data: 0.9584463238716125\n",
      "GCN acc on unlabled data: 0.7599463567277605\n",
      "attack loss: 0.5232797265052795\n"
     ]
    },
    {
     "name": "stderr",
     "output_type": "stream",
     "text": [
      "Perturbing graph:  42%|████▏     | 212/506 [02:48<03:56,  1.24it/s]"
     ]
    },
    {
     "name": "stdout",
     "output_type": "stream",
     "text": [
      "GCN loss on unlabled data: 0.9711353182792664\n",
      "GCN acc on unlabled data: 0.7545820295037997\n",
      "attack loss: 0.5405833721160889\n"
     ]
    },
    {
     "name": "stderr",
     "output_type": "stream",
     "text": [
      "Perturbing graph:  42%|████▏     | 213/506 [02:49<03:54,  1.25it/s]"
     ]
    },
    {
     "name": "stdout",
     "output_type": "stream",
     "text": [
      "GCN loss on unlabled data: 0.9280101656913757\n",
      "GCN acc on unlabled data: 0.7612874385337506\n",
      "attack loss: 0.5223218202590942\n"
     ]
    },
    {
     "name": "stderr",
     "output_type": "stream",
     "text": [
      "Perturbing graph:  42%|████▏     | 214/506 [02:50<03:52,  1.25it/s]"
     ]
    },
    {
     "name": "stdout",
     "output_type": "stream",
     "text": [
      "GCN loss on unlabled data: 1.0113543272018433\n",
      "GCN acc on unlabled data: 0.7501117568171659\n",
      "attack loss: 0.5436587333679199\n"
     ]
    },
    {
     "name": "stderr",
     "output_type": "stream",
     "text": [
      "Perturbing graph:  42%|████▏     | 215/506 [02:50<03:51,  1.26it/s]"
     ]
    },
    {
     "name": "stdout",
     "output_type": "stream",
     "text": [
      "GCN loss on unlabled data: 0.9555946588516235\n",
      "GCN acc on unlabled data: 0.7496647295485025\n",
      "attack loss: 0.5160866379737854\n"
     ]
    },
    {
     "name": "stderr",
     "output_type": "stream",
     "text": [
      "Perturbing graph:  43%|████▎     | 216/506 [02:51<03:49,  1.27it/s]"
     ]
    },
    {
     "name": "stdout",
     "output_type": "stream",
     "text": [
      "GCN loss on unlabled data: 0.9614227414131165\n",
      "GCN acc on unlabled data: 0.7492177022798391\n",
      "attack loss: 0.5232245326042175\n"
     ]
    },
    {
     "name": "stderr",
     "output_type": "stream",
     "text": [
      "Perturbing graph:  43%|████▎     | 217/506 [02:52<03:46,  1.27it/s]"
     ]
    },
    {
     "name": "stdout",
     "output_type": "stream",
     "text": [
      "GCN loss on unlabled data: 1.0191766023635864\n",
      "GCN acc on unlabled data: 0.7532409476978096\n",
      "attack loss: 0.5606025457382202\n"
     ]
    },
    {
     "name": "stderr",
     "output_type": "stream",
     "text": [
      "Perturbing graph:  43%|████▎     | 218/506 [02:53<03:44,  1.28it/s]"
     ]
    },
    {
     "name": "stdout",
     "output_type": "stream",
     "text": [
      "GCN loss on unlabled data: 0.9842524528503418\n",
      "GCN acc on unlabled data: 0.7608404112650872\n",
      "attack loss: 0.546074390411377\n"
     ]
    },
    {
     "name": "stderr",
     "output_type": "stream",
     "text": [
      "Perturbing graph:  43%|████▎     | 219/506 [02:54<03:44,  1.28it/s]"
     ]
    },
    {
     "name": "stdout",
     "output_type": "stream",
     "text": [
      "GCN loss on unlabled data: 0.9851418137550354\n",
      "GCN acc on unlabled data: 0.7581582476531069\n",
      "attack loss: 0.5402940511703491\n"
     ]
    },
    {
     "name": "stderr",
     "output_type": "stream",
     "text": [
      "Perturbing graph:  43%|████▎     | 220/506 [02:54<03:43,  1.28it/s]"
     ]
    },
    {
     "name": "stdout",
     "output_type": "stream",
     "text": [
      "GCN loss on unlabled data: 0.9414434432983398\n",
      "GCN acc on unlabled data: 0.7541350022351364\n",
      "attack loss: 0.526648759841919\n"
     ]
    },
    {
     "name": "stderr",
     "output_type": "stream",
     "text": [
      "Perturbing graph:  44%|████▎     | 221/506 [02:55<03:43,  1.27it/s]"
     ]
    },
    {
     "name": "stdout",
     "output_type": "stream",
     "text": [
      "GCN loss on unlabled data: 0.9409322738647461\n",
      "GCN acc on unlabled data: 0.7581582476531069\n",
      "attack loss: 0.5293170809745789\n"
     ]
    },
    {
     "name": "stderr",
     "output_type": "stream",
     "text": [
      "Perturbing graph:  44%|████▍     | 222/506 [02:56<03:42,  1.28it/s]"
     ]
    },
    {
     "name": "stdout",
     "output_type": "stream",
     "text": [
      "GCN loss on unlabled data: 1.0400370359420776\n",
      "GCN acc on unlabled data: 0.7407241841752347\n",
      "attack loss: 0.5834200382232666\n"
     ]
    },
    {
     "name": "stderr",
     "output_type": "stream",
     "text": [
      "Perturbing graph:  44%|████▍     | 223/506 [02:57<03:41,  1.28it/s]"
     ]
    },
    {
     "name": "stdout",
     "output_type": "stream",
     "text": [
      "GCN loss on unlabled data: 1.0343732833862305\n",
      "GCN acc on unlabled data: 0.7483236477425124\n",
      "attack loss: 0.5808039307594299\n"
     ]
    },
    {
     "name": "stderr",
     "output_type": "stream",
     "text": [
      "Perturbing graph:  44%|████▍     | 224/506 [02:58<03:41,  1.27it/s]"
     ]
    },
    {
     "name": "stdout",
     "output_type": "stream",
     "text": [
      "GCN loss on unlabled data: 1.0192205905914307\n",
      "GCN acc on unlabled data: 0.747876620473849\n",
      "attack loss: 0.5763254165649414\n"
     ]
    },
    {
     "name": "stderr",
     "output_type": "stream",
     "text": [
      "Perturbing graph:  44%|████▍     | 225/506 [02:58<03:41,  1.27it/s]"
     ]
    },
    {
     "name": "stdout",
     "output_type": "stream",
     "text": [
      "GCN loss on unlabled data: 1.0828547477722168\n",
      "GCN acc on unlabled data: 0.7380420205632544\n",
      "attack loss: 0.5943413972854614\n"
     ]
    },
    {
     "name": "stderr",
     "output_type": "stream",
     "text": [
      "Perturbing graph:  45%|████▍     | 226/506 [02:59<03:40,  1.27it/s]"
     ]
    },
    {
     "name": "stdout",
     "output_type": "stream",
     "text": [
      "GCN loss on unlabled data: 0.977279007434845\n",
      "GCN acc on unlabled data: 0.7648636566830577\n",
      "attack loss: 0.5561811327934265\n"
     ]
    },
    {
     "name": "stderr",
     "output_type": "stream",
     "text": [
      "Perturbing graph:  45%|████▍     | 227/506 [03:00<03:40,  1.27it/s]"
     ]
    },
    {
     "name": "stdout",
     "output_type": "stream",
     "text": [
      "GCN loss on unlabled data: 0.9552760124206543\n",
      "GCN acc on unlabled data: 0.7474295932051855\n",
      "attack loss: 0.5449122190475464\n"
     ]
    },
    {
     "name": "stderr",
     "output_type": "stream",
     "text": [
      "Perturbing graph:  45%|████▌     | 228/506 [03:01<03:39,  1.27it/s]"
     ]
    },
    {
     "name": "stdout",
     "output_type": "stream",
     "text": [
      "GCN loss on unlabled data: 1.0864084959030151\n",
      "GCN acc on unlabled data: 0.7469825659365221\n",
      "attack loss: 0.6211988925933838\n"
     ]
    },
    {
     "name": "stderr",
     "output_type": "stream",
     "text": [
      "Perturbing graph:  45%|████▌     | 229/506 [03:01<03:40,  1.26it/s]"
     ]
    },
    {
     "name": "stdout",
     "output_type": "stream",
     "text": [
      "GCN loss on unlabled data: 1.0393662452697754\n",
      "GCN acc on unlabled data: 0.7460885113991954\n",
      "attack loss: 0.5850985646247864\n"
     ]
    },
    {
     "name": "stderr",
     "output_type": "stream",
     "text": [
      "Perturbing graph:  45%|████▌     | 230/506 [03:02<03:41,  1.25it/s]"
     ]
    },
    {
     "name": "stdout",
     "output_type": "stream",
     "text": [
      "GCN loss on unlabled data: 1.04550039768219\n",
      "GCN acc on unlabled data: 0.7496647295485025\n",
      "attack loss: 0.5955266952514648\n"
     ]
    },
    {
     "name": "stderr",
     "output_type": "stream",
     "text": [
      "Perturbing graph:  46%|████▌     | 231/506 [03:03<03:41,  1.24it/s]"
     ]
    },
    {
     "name": "stdout",
     "output_type": "stream",
     "text": [
      "GCN loss on unlabled data: 0.985612154006958\n",
      "GCN acc on unlabled data: 0.7443004023245419\n",
      "attack loss: 0.5452767610549927\n"
     ]
    },
    {
     "name": "stderr",
     "output_type": "stream",
     "text": [
      "Perturbing graph:  46%|████▌     | 232/506 [03:04<03:40,  1.24it/s]"
     ]
    },
    {
     "name": "stdout",
     "output_type": "stream",
     "text": [
      "GCN loss on unlabled data: 0.9812495112419128\n",
      "GCN acc on unlabled data: 0.7443004023245419\n",
      "attack loss: 0.5402364730834961\n"
     ]
    },
    {
     "name": "stderr",
     "output_type": "stream",
     "text": [
      "Perturbing graph:  46%|████▌     | 233/506 [03:05<03:39,  1.24it/s]"
     ]
    },
    {
     "name": "stdout",
     "output_type": "stream",
     "text": [
      "GCN loss on unlabled data: 1.03484046459198\n",
      "GCN acc on unlabled data: 0.7447474295932052\n",
      "attack loss: 0.5768833756446838\n"
     ]
    },
    {
     "name": "stderr",
     "output_type": "stream",
     "text": [
      "Perturbing graph:  46%|████▌     | 234/506 [03:06<03:41,  1.23it/s]"
     ]
    },
    {
     "name": "stdout",
     "output_type": "stream",
     "text": [
      "GCN loss on unlabled data: 1.056892991065979\n",
      "GCN acc on unlabled data: 0.747876620473849\n",
      "attack loss: 0.5927019119262695\n"
     ]
    },
    {
     "name": "stderr",
     "output_type": "stream",
     "text": [
      "Perturbing graph:  46%|████▋     | 235/506 [03:06<03:40,  1.23it/s]"
     ]
    },
    {
     "name": "stdout",
     "output_type": "stream",
     "text": [
      "GCN loss on unlabled data: 1.0723812580108643\n",
      "GCN acc on unlabled data: 0.7510058113544926\n",
      "attack loss: 0.608331561088562\n"
     ]
    },
    {
     "name": "stderr",
     "output_type": "stream",
     "text": [
      "Perturbing graph:  47%|████▋     | 236/506 [03:07<03:38,  1.24it/s]"
     ]
    },
    {
     "name": "stdout",
     "output_type": "stream",
     "text": [
      "GCN loss on unlabled data: 1.091658115386963\n",
      "GCN acc on unlabled data: 0.7447474295932052\n",
      "attack loss: 0.6066944599151611\n"
     ]
    },
    {
     "name": "stderr",
     "output_type": "stream",
     "text": [
      "Perturbing graph:  47%|████▋     | 237/506 [03:08<03:35,  1.25it/s]"
     ]
    },
    {
     "name": "stdout",
     "output_type": "stream",
     "text": [
      "GCN loss on unlabled data: 1.0274490118026733\n",
      "GCN acc on unlabled data: 0.7447474295932052\n",
      "attack loss: 0.5802143812179565\n"
     ]
    },
    {
     "name": "stderr",
     "output_type": "stream",
     "text": [
      "Perturbing graph:  47%|████▋     | 238/506 [03:09<03:33,  1.26it/s]"
     ]
    },
    {
     "name": "stdout",
     "output_type": "stream",
     "text": [
      "GCN loss on unlabled data: 1.0397616624832153\n",
      "GCN acc on unlabled data: 0.7510058113544926\n",
      "attack loss: 0.593464732170105\n"
     ]
    },
    {
     "name": "stderr",
     "output_type": "stream",
     "text": [
      "Perturbing graph:  47%|████▋     | 239/506 [03:09<03:30,  1.27it/s]"
     ]
    },
    {
     "name": "stdout",
     "output_type": "stream",
     "text": [
      "GCN loss on unlabled data: 1.0406352281570435\n",
      "GCN acc on unlabled data: 0.7501117568171659\n",
      "attack loss: 0.583522617816925\n"
     ]
    },
    {
     "name": "stderr",
     "output_type": "stream",
     "text": [
      "Perturbing graph:  47%|████▋     | 240/506 [03:10<03:30,  1.26it/s]"
     ]
    },
    {
     "name": "stdout",
     "output_type": "stream",
     "text": [
      "GCN loss on unlabled data: 1.002959966659546\n",
      "GCN acc on unlabled data: 0.7487706750111757\n",
      "attack loss: 0.5700963139533997\n"
     ]
    },
    {
     "name": "stderr",
     "output_type": "stream",
     "text": [
      "Perturbing graph:  48%|████▊     | 241/506 [03:11<03:28,  1.27it/s]"
     ]
    },
    {
     "name": "stdout",
     "output_type": "stream",
     "text": [
      "GCN loss on unlabled data: 1.0464041233062744\n",
      "GCN acc on unlabled data: 0.7554760840411265\n",
      "attack loss: 0.5990660786628723\n"
     ]
    },
    {
     "name": "stderr",
     "output_type": "stream",
     "text": [
      "Perturbing graph:  48%|████▊     | 242/506 [03:12<03:26,  1.28it/s]"
     ]
    },
    {
     "name": "stdout",
     "output_type": "stream",
     "text": [
      "GCN loss on unlabled data: 1.0134714841842651\n",
      "GCN acc on unlabled data: 0.7550290567724631\n",
      "attack loss: 0.5641352534294128\n"
     ]
    },
    {
     "name": "stderr",
     "output_type": "stream",
     "text": [
      "Perturbing graph:  48%|████▊     | 243/506 [03:13<03:25,  1.28it/s]"
     ]
    },
    {
     "name": "stdout",
     "output_type": "stream",
     "text": [
      "GCN loss on unlabled data: 1.052761435508728\n",
      "GCN acc on unlabled data: 0.7447474295932052\n",
      "attack loss: 0.5965468883514404\n"
     ]
    },
    {
     "name": "stderr",
     "output_type": "stream",
     "text": [
      "Perturbing graph:  48%|████▊     | 244/506 [03:13<03:24,  1.28it/s]"
     ]
    },
    {
     "name": "stdout",
     "output_type": "stream",
     "text": [
      "GCN loss on unlabled data: 1.080237627029419\n",
      "GCN acc on unlabled data: 0.7541350022351364\n",
      "attack loss: 0.6097397208213806\n"
     ]
    },
    {
     "name": "stderr",
     "output_type": "stream",
     "text": [
      "Perturbing graph:  48%|████▊     | 245/506 [03:14<03:24,  1.28it/s]"
     ]
    },
    {
     "name": "stdout",
     "output_type": "stream",
     "text": [
      "GCN loss on unlabled data: 1.096665382385254\n",
      "GCN acc on unlabled data: 0.743406347787215\n",
      "attack loss: 0.6264180541038513\n"
     ]
    },
    {
     "name": "stderr",
     "output_type": "stream",
     "text": [
      "Perturbing graph:  49%|████▊     | 246/506 [03:15<03:25,  1.27it/s]"
     ]
    },
    {
     "name": "stdout",
     "output_type": "stream",
     "text": [
      "GCN loss on unlabled data: 1.0974074602127075\n",
      "GCN acc on unlabled data: 0.7443004023245419\n",
      "attack loss: 0.6065542697906494\n"
     ]
    },
    {
     "name": "stderr",
     "output_type": "stream",
     "text": [
      "Perturbing graph:  49%|████▉     | 247/506 [03:16<03:25,  1.26it/s]"
     ]
    },
    {
     "name": "stdout",
     "output_type": "stream",
     "text": [
      "GCN loss on unlabled data: 1.119523525238037\n",
      "GCN acc on unlabled data: 0.7416182387125615\n",
      "attack loss: 0.6241791248321533\n"
     ]
    },
    {
     "name": "stderr",
     "output_type": "stream",
     "text": [
      "Perturbing graph:  49%|████▉     | 248/506 [03:17<03:23,  1.27it/s]"
     ]
    },
    {
     "name": "stdout",
     "output_type": "stream",
     "text": [
      "GCN loss on unlabled data: 1.1469306945800781\n",
      "GCN acc on unlabled data: 0.7465355386678587\n",
      "attack loss: 0.6373096108436584\n"
     ]
    },
    {
     "name": "stderr",
     "output_type": "stream",
     "text": [
      "Perturbing graph:  49%|████▉     | 249/506 [03:17<03:21,  1.27it/s]"
     ]
    },
    {
     "name": "stdout",
     "output_type": "stream",
     "text": [
      "GCN loss on unlabled data: 1.0231739282608032\n",
      "GCN acc on unlabled data: 0.7505587840858292\n",
      "attack loss: 0.5602530241012573\n"
     ]
    },
    {
     "name": "stderr",
     "output_type": "stream",
     "text": [
      "Perturbing graph:  49%|████▉     | 250/506 [03:18<03:23,  1.26it/s]"
     ]
    },
    {
     "name": "stdout",
     "output_type": "stream",
     "text": [
      "GCN loss on unlabled data: 1.0251272916793823\n",
      "GCN acc on unlabled data: 0.7505587840858292\n",
      "attack loss: 0.5965185165405273\n"
     ]
    },
    {
     "name": "stderr",
     "output_type": "stream",
     "text": [
      "Perturbing graph:  50%|████▉     | 251/506 [03:19<03:23,  1.26it/s]"
     ]
    },
    {
     "name": "stdout",
     "output_type": "stream",
     "text": [
      "GCN loss on unlabled data: 1.1188746690750122\n",
      "GCN acc on unlabled data: 0.7460885113991954\n",
      "attack loss: 0.6355199813842773\n"
     ]
    },
    {
     "name": "stderr",
     "output_type": "stream",
     "text": [
      "Perturbing graph:  50%|████▉     | 252/506 [03:20<03:23,  1.25it/s]"
     ]
    },
    {
     "name": "stdout",
     "output_type": "stream",
     "text": [
      "GCN loss on unlabled data: 1.107596755027771\n",
      "GCN acc on unlabled data: 0.7492177022798391\n",
      "attack loss: 0.6088716983795166\n"
     ]
    },
    {
     "name": "stderr",
     "output_type": "stream",
     "text": [
      "Perturbing graph:  50%|█████     | 253/506 [03:21<03:23,  1.24it/s]"
     ]
    },
    {
     "name": "stdout",
     "output_type": "stream",
     "text": [
      "GCN loss on unlabled data: 1.0757313966751099\n",
      "GCN acc on unlabled data: 0.7523468931604829\n",
      "attack loss: 0.5989544987678528\n"
     ]
    },
    {
     "name": "stderr",
     "output_type": "stream",
     "text": [
      "Perturbing graph:  50%|█████     | 254/506 [03:21<03:22,  1.25it/s]"
     ]
    },
    {
     "name": "stdout",
     "output_type": "stream",
     "text": [
      "GCN loss on unlabled data: 1.1229828596115112\n",
      "GCN acc on unlabled data: 0.7425122932498882\n",
      "attack loss: 0.6319329142570496\n"
     ]
    },
    {
     "name": "stderr",
     "output_type": "stream",
     "text": [
      "Perturbing graph:  50%|█████     | 255/506 [03:22<03:21,  1.24it/s]"
     ]
    },
    {
     "name": "stdout",
     "output_type": "stream",
     "text": [
      "GCN loss on unlabled data: 1.0848298072814941\n",
      "GCN acc on unlabled data: 0.7447474295932052\n",
      "attack loss: 0.6088840365409851\n"
     ]
    },
    {
     "name": "stderr",
     "output_type": "stream",
     "text": [
      "Perturbing graph:  51%|█████     | 256/506 [03:23<03:20,  1.25it/s]"
     ]
    },
    {
     "name": "stdout",
     "output_type": "stream",
     "text": [
      "GCN loss on unlabled data: 1.1166976690292358\n",
      "GCN acc on unlabled data: 0.7425122932498882\n",
      "attack loss: 0.6392110586166382\n"
     ]
    },
    {
     "name": "stderr",
     "output_type": "stream",
     "text": [
      "Perturbing graph:  51%|█████     | 257/506 [03:24<03:19,  1.25it/s]"
     ]
    },
    {
     "name": "stdout",
     "output_type": "stream",
     "text": [
      "GCN loss on unlabled data: 1.0533368587493896\n",
      "GCN acc on unlabled data: 0.7429593205185516\n",
      "attack loss: 0.6082960367202759\n"
     ]
    },
    {
     "name": "stderr",
     "output_type": "stream",
     "text": [
      "Perturbing graph:  51%|█████     | 258/506 [03:25<03:19,  1.24it/s]"
     ]
    },
    {
     "name": "stdout",
     "output_type": "stream",
     "text": [
      "GCN loss on unlabled data: 1.0632686614990234\n",
      "GCN acc on unlabled data: 0.7451944568618686\n",
      "attack loss: 0.6147472858428955\n"
     ]
    },
    {
     "name": "stderr",
     "output_type": "stream",
     "text": [
      "Perturbing graph:  51%|█████     | 259/506 [03:25<03:16,  1.25it/s]"
     ]
    },
    {
     "name": "stdout",
     "output_type": "stream",
     "text": [
      "GCN loss on unlabled data: 1.114960789680481\n",
      "GCN acc on unlabled data: 0.745641484130532\n",
      "attack loss: 0.6419442892074585\n"
     ]
    },
    {
     "name": "stderr",
     "output_type": "stream",
     "text": [
      "Perturbing graph:  51%|█████▏    | 260/506 [03:26<03:15,  1.26it/s]"
     ]
    },
    {
     "name": "stdout",
     "output_type": "stream",
     "text": [
      "GCN loss on unlabled data: 1.081532597541809\n",
      "GCN acc on unlabled data: 0.7429593205185516\n",
      "attack loss: 0.612993061542511\n"
     ]
    },
    {
     "name": "stderr",
     "output_type": "stream",
     "text": [
      "Perturbing graph:  52%|█████▏    | 261/506 [03:27<03:14,  1.26it/s]"
     ]
    },
    {
     "name": "stdout",
     "output_type": "stream",
     "text": [
      "GCN loss on unlabled data: 1.0040249824523926\n",
      "GCN acc on unlabled data: 0.7460885113991954\n",
      "attack loss: 0.5708352327346802\n"
     ]
    },
    {
     "name": "stderr",
     "output_type": "stream",
     "text": [
      "Perturbing graph:  52%|█████▏    | 262/506 [03:28<03:13,  1.26it/s]"
     ]
    },
    {
     "name": "stdout",
     "output_type": "stream",
     "text": [
      "GCN loss on unlabled data: 1.061395287513733\n",
      "GCN acc on unlabled data: 0.75592311130979\n",
      "attack loss: 0.6077136993408203\n"
     ]
    },
    {
     "name": "stderr",
     "output_type": "stream",
     "text": [
      "Perturbing graph:  52%|█████▏    | 263/506 [03:29<03:11,  1.27it/s]"
     ]
    },
    {
     "name": "stdout",
     "output_type": "stream",
     "text": [
      "GCN loss on unlabled data: 1.0814878940582275\n",
      "GCN acc on unlabled data: 0.743406347787215\n",
      "attack loss: 0.6144174337387085\n"
     ]
    },
    {
     "name": "stderr",
     "output_type": "stream",
     "text": [
      "Perturbing graph:  52%|█████▏    | 264/506 [03:29<03:10,  1.27it/s]"
     ]
    },
    {
     "name": "stdout",
     "output_type": "stream",
     "text": [
      "GCN loss on unlabled data: 1.11625337600708\n",
      "GCN acc on unlabled data: 0.7362539114886009\n",
      "attack loss: 0.6359643340110779\n"
     ]
    },
    {
     "name": "stderr",
     "output_type": "stream",
     "text": [
      "Perturbing graph:  52%|█████▏    | 265/506 [03:30<03:10,  1.27it/s]"
     ]
    },
    {
     "name": "stdout",
     "output_type": "stream",
     "text": [
      "GCN loss on unlabled data: 1.1196454763412476\n",
      "GCN acc on unlabled data: 0.7416182387125615\n",
      "attack loss: 0.6407603025436401\n"
     ]
    },
    {
     "name": "stderr",
     "output_type": "stream",
     "text": [
      "Perturbing graph:  53%|█████▎    | 266/506 [03:31<03:09,  1.27it/s]"
     ]
    },
    {
     "name": "stdout",
     "output_type": "stream",
     "text": [
      "GCN loss on unlabled data: 1.1170032024383545\n",
      "GCN acc on unlabled data: 0.743406347787215\n",
      "attack loss: 0.6302856206893921\n"
     ]
    },
    {
     "name": "stderr",
     "output_type": "stream",
     "text": [
      "Perturbing graph:  53%|█████▎    | 267/506 [03:32<03:07,  1.27it/s]"
     ]
    },
    {
     "name": "stdout",
     "output_type": "stream",
     "text": [
      "GCN loss on unlabled data: 1.105528473854065\n",
      "GCN acc on unlabled data: 0.7420652659812249\n",
      "attack loss: 0.6327730417251587\n"
     ]
    },
    {
     "name": "stderr",
     "output_type": "stream",
     "text": [
      "Perturbing graph:  53%|█████▎    | 268/506 [03:32<03:05,  1.28it/s]"
     ]
    },
    {
     "name": "stdout",
     "output_type": "stream",
     "text": [
      "GCN loss on unlabled data: 1.104479193687439\n",
      "GCN acc on unlabled data: 0.745641484130532\n",
      "attack loss: 0.6228446960449219\n"
     ]
    },
    {
     "name": "stderr",
     "output_type": "stream",
     "text": [
      "Perturbing graph:  53%|█████▎    | 269/506 [03:33<03:04,  1.28it/s]"
     ]
    },
    {
     "name": "stdout",
     "output_type": "stream",
     "text": [
      "GCN loss on unlabled data: 1.1305564641952515\n",
      "GCN acc on unlabled data: 0.7429593205185516\n",
      "attack loss: 0.6394171714782715\n"
     ]
    },
    {
     "name": "stderr",
     "output_type": "stream",
     "text": [
      "Perturbing graph:  53%|█████▎    | 270/506 [03:34<03:05,  1.27it/s]"
     ]
    },
    {
     "name": "stdout",
     "output_type": "stream",
     "text": [
      "GCN loss on unlabled data: 1.0506197214126587\n",
      "GCN acc on unlabled data: 0.7447474295932052\n",
      "attack loss: 0.6038234829902649\n"
     ]
    },
    {
     "name": "stderr",
     "output_type": "stream",
     "text": [
      "Perturbing graph:  54%|█████▎    | 271/506 [03:35<03:04,  1.28it/s]"
     ]
    },
    {
     "name": "stdout",
     "output_type": "stream",
     "text": [
      "GCN loss on unlabled data: 1.1162090301513672\n",
      "GCN acc on unlabled data: 0.7420652659812249\n",
      "attack loss: 0.6159430742263794\n"
     ]
    },
    {
     "name": "stderr",
     "output_type": "stream",
     "text": [
      "Perturbing graph:  54%|█████▍    | 272/506 [03:36<03:03,  1.28it/s]"
     ]
    },
    {
     "name": "stdout",
     "output_type": "stream",
     "text": [
      "GCN loss on unlabled data: 1.0702120065689087\n",
      "GCN acc on unlabled data: 0.7447474295932052\n",
      "attack loss: 0.597684383392334\n"
     ]
    },
    {
     "name": "stderr",
     "output_type": "stream",
     "text": [
      "Perturbing graph:  54%|█████▍    | 273/506 [03:36<03:03,  1.27it/s]"
     ]
    },
    {
     "name": "stdout",
     "output_type": "stream",
     "text": [
      "GCN loss on unlabled data: 1.1512209177017212\n",
      "GCN acc on unlabled data: 0.7313366115333035\n",
      "attack loss: 0.6605247259140015\n"
     ]
    },
    {
     "name": "stderr",
     "output_type": "stream",
     "text": [
      "Perturbing graph:  54%|█████▍    | 274/506 [03:37<03:02,  1.27it/s]"
     ]
    },
    {
     "name": "stdout",
     "output_type": "stream",
     "text": [
      "GCN loss on unlabled data: 1.0942015647888184\n",
      "GCN acc on unlabled data: 0.739830129637908\n",
      "attack loss: 0.631212592124939\n"
     ]
    },
    {
     "name": "stderr",
     "output_type": "stream",
     "text": [
      "Perturbing graph:  54%|█████▍    | 275/506 [03:38<03:05,  1.25it/s]"
     ]
    },
    {
     "name": "stdout",
     "output_type": "stream",
     "text": [
      "GCN loss on unlabled data: 1.130302906036377\n",
      "GCN acc on unlabled data: 0.7474295932051855\n",
      "attack loss: 0.6287240386009216\n"
     ]
    },
    {
     "name": "stderr",
     "output_type": "stream",
     "text": [
      "Perturbing graph:  55%|█████▍    | 276/506 [03:39<03:05,  1.24it/s]"
     ]
    },
    {
     "name": "stdout",
     "output_type": "stream",
     "text": [
      "GCN loss on unlabled data: 1.0969958305358887\n",
      "GCN acc on unlabled data: 0.7425122932498882\n",
      "attack loss: 0.6389657855033875\n"
     ]
    },
    {
     "name": "stderr",
     "output_type": "stream",
     "text": [
      "Perturbing graph:  55%|█████▍    | 277/506 [03:40<03:06,  1.23it/s]"
     ]
    },
    {
     "name": "stdout",
     "output_type": "stream",
     "text": [
      "GCN loss on unlabled data: 1.1249548196792603\n",
      "GCN acc on unlabled data: 0.745641484130532\n",
      "attack loss: 0.6175236105918884\n"
     ]
    },
    {
     "name": "stderr",
     "output_type": "stream",
     "text": [
      "Perturbing graph:  55%|█████▍    | 278/506 [03:40<03:04,  1.24it/s]"
     ]
    },
    {
     "name": "stdout",
     "output_type": "stream",
     "text": [
      "GCN loss on unlabled data: 1.1389141082763672\n",
      "GCN acc on unlabled data: 0.7349128296826106\n",
      "attack loss: 0.6375061869621277\n"
     ]
    },
    {
     "name": "stderr",
     "output_type": "stream",
     "text": [
      "Perturbing graph:  55%|█████▌    | 279/506 [03:41<03:01,  1.25it/s]"
     ]
    },
    {
     "name": "stdout",
     "output_type": "stream",
     "text": [
      "GCN loss on unlabled data: 1.1149775981903076\n",
      "GCN acc on unlabled data: 0.7425122932498882\n",
      "attack loss: 0.6330093145370483\n"
     ]
    },
    {
     "name": "stderr",
     "output_type": "stream",
     "text": [
      "Perturbing graph:  55%|█████▌    | 280/506 [03:42<03:00,  1.25it/s]"
     ]
    },
    {
     "name": "stdout",
     "output_type": "stream",
     "text": [
      "GCN loss on unlabled data: 1.1637389659881592\n",
      "GCN acc on unlabled data: 0.7313366115333035\n",
      "attack loss: 0.6543406844139099\n"
     ]
    },
    {
     "name": "stderr",
     "output_type": "stream",
     "text": [
      "Perturbing graph:  56%|█████▌    | 281/506 [03:43<02:58,  1.26it/s]"
     ]
    },
    {
     "name": "stdout",
     "output_type": "stream",
     "text": [
      "GCN loss on unlabled data: 1.1480963230133057\n",
      "GCN acc on unlabled data: 0.7465355386678587\n",
      "attack loss: 0.6589949131011963\n"
     ]
    },
    {
     "name": "stderr",
     "output_type": "stream",
     "text": [
      "Perturbing graph:  56%|█████▌    | 282/506 [03:44<02:56,  1.27it/s]"
     ]
    },
    {
     "name": "stdout",
     "output_type": "stream",
     "text": [
      "GCN loss on unlabled data: 1.1493650674819946\n",
      "GCN acc on unlabled data: 0.7465355386678587\n",
      "attack loss: 0.6604227423667908\n"
     ]
    },
    {
     "name": "stderr",
     "output_type": "stream",
     "text": [
      "Perturbing graph:  56%|█████▌    | 283/506 [03:44<02:55,  1.27it/s]"
     ]
    },
    {
     "name": "stdout",
     "output_type": "stream",
     "text": [
      "GCN loss on unlabled data: 1.1245253086090088\n",
      "GCN acc on unlabled data: 0.737594993294591\n",
      "attack loss: 0.6354900598526001\n"
     ]
    },
    {
     "name": "stderr",
     "output_type": "stream",
     "text": [
      "Perturbing graph:  56%|█████▌    | 284/506 [03:45<02:53,  1.28it/s]"
     ]
    },
    {
     "name": "stdout",
     "output_type": "stream",
     "text": [
      "GCN loss on unlabled data: 1.1585439443588257\n",
      "GCN acc on unlabled data: 0.7349128296826106\n",
      "attack loss: 0.6469862461090088\n"
     ]
    },
    {
     "name": "stderr",
     "output_type": "stream",
     "text": [
      "Perturbing graph:  56%|█████▋    | 285/506 [03:46<02:53,  1.27it/s]"
     ]
    },
    {
     "name": "stdout",
     "output_type": "stream",
     "text": [
      "GCN loss on unlabled data: 1.1490494012832642\n",
      "GCN acc on unlabled data: 0.7335717478766205\n",
      "attack loss: 0.6427820324897766\n"
     ]
    },
    {
     "name": "stderr",
     "output_type": "stream",
     "text": [
      "Perturbing graph:  57%|█████▋    | 286/506 [03:47<02:52,  1.27it/s]"
     ]
    },
    {
     "name": "stdout",
     "output_type": "stream",
     "text": [
      "GCN loss on unlabled data: 1.1134322881698608\n",
      "GCN acc on unlabled data: 0.7483236477425124\n",
      "attack loss: 0.6440803408622742\n"
     ]
    },
    {
     "name": "stderr",
     "output_type": "stream",
     "text": [
      "Perturbing graph:  57%|█████▋    | 287/506 [03:48<02:51,  1.28it/s]"
     ]
    },
    {
     "name": "stdout",
     "output_type": "stream",
     "text": [
      "GCN loss on unlabled data: 1.236588954925537\n",
      "GCN acc on unlabled data: 0.7255252570406795\n",
      "attack loss: 0.6893641948699951\n"
     ]
    },
    {
     "name": "stderr",
     "output_type": "stream",
     "text": [
      "Perturbing graph:  57%|█████▋    | 288/506 [03:48<02:51,  1.27it/s]"
     ]
    },
    {
     "name": "stdout",
     "output_type": "stream",
     "text": [
      "GCN loss on unlabled data: 1.0866680145263672\n",
      "GCN acc on unlabled data: 0.7487706750111757\n",
      "attack loss: 0.62260901927948\n"
     ]
    },
    {
     "name": "stderr",
     "output_type": "stream",
     "text": [
      "Perturbing graph:  57%|█████▋    | 289/506 [03:49<02:49,  1.28it/s]"
     ]
    },
    {
     "name": "stdout",
     "output_type": "stream",
     "text": [
      "GCN loss on unlabled data: 1.1033753156661987\n",
      "GCN acc on unlabled data: 0.7474295932051855\n",
      "attack loss: 0.6342336535453796\n"
     ]
    },
    {
     "name": "stderr",
     "output_type": "stream",
     "text": [
      "Perturbing graph:  57%|█████▋    | 290/506 [03:50<02:50,  1.27it/s]"
     ]
    },
    {
     "name": "stdout",
     "output_type": "stream",
     "text": [
      "GCN loss on unlabled data: 1.1363325119018555\n",
      "GCN acc on unlabled data: 0.7496647295485025\n",
      "attack loss: 0.6545851826667786\n"
     ]
    },
    {
     "name": "stderr",
     "output_type": "stream",
     "text": [
      "Perturbing graph:  58%|█████▊    | 291/506 [03:51<02:49,  1.27it/s]"
     ]
    },
    {
     "name": "stdout",
     "output_type": "stream",
     "text": [
      "GCN loss on unlabled data: 1.2112849950790405\n",
      "GCN acc on unlabled data: 0.7282074206526599\n",
      "attack loss: 0.6978657245635986\n"
     ]
    },
    {
     "name": "stderr",
     "output_type": "stream",
     "text": [
      "Perturbing graph:  58%|█████▊    | 292/506 [03:51<02:47,  1.27it/s]"
     ]
    },
    {
     "name": "stdout",
     "output_type": "stream",
     "text": [
      "GCN loss on unlabled data: 1.1774312257766724\n",
      "GCN acc on unlabled data: 0.7362539114886009\n",
      "attack loss: 0.6754165887832642\n"
     ]
    },
    {
     "name": "stderr",
     "output_type": "stream",
     "text": [
      "Perturbing graph:  58%|█████▊    | 293/506 [03:52<02:48,  1.26it/s]"
     ]
    },
    {
     "name": "stdout",
     "output_type": "stream",
     "text": [
      "GCN loss on unlabled data: 1.1193188428878784\n",
      "GCN acc on unlabled data: 0.7411712114438981\n",
      "attack loss: 0.6325281858444214\n"
     ]
    },
    {
     "name": "stderr",
     "output_type": "stream",
     "text": [
      "Perturbing graph:  58%|█████▊    | 294/506 [03:53<02:48,  1.26it/s]"
     ]
    },
    {
     "name": "stdout",
     "output_type": "stream",
     "text": [
      "GCN loss on unlabled data: 1.1842929124832153\n",
      "GCN acc on unlabled data: 0.7340187751452839\n",
      "attack loss: 0.669105052947998\n"
     ]
    },
    {
     "name": "stderr",
     "output_type": "stream",
     "text": [
      "Perturbing graph:  58%|█████▊    | 295/506 [03:54<02:46,  1.26it/s]"
     ]
    },
    {
     "name": "stdout",
     "output_type": "stream",
     "text": [
      "GCN loss on unlabled data: 1.1917376518249512\n",
      "GCN acc on unlabled data: 0.7308895842646401\n",
      "attack loss: 0.6749178171157837\n"
     ]
    },
    {
     "name": "stderr",
     "output_type": "stream",
     "text": [
      "Perturbing graph:  58%|█████▊    | 296/506 [03:55<02:46,  1.26it/s]"
     ]
    },
    {
     "name": "stdout",
     "output_type": "stream",
     "text": [
      "GCN loss on unlabled data: 1.1315224170684814\n",
      "GCN acc on unlabled data: 0.7451944568618686\n",
      "attack loss: 0.651254415512085\n"
     ]
    },
    {
     "name": "stderr",
     "output_type": "stream",
     "text": [
      "Perturbing graph:  59%|█████▊    | 297/506 [03:55<02:46,  1.26it/s]"
     ]
    },
    {
     "name": "stdout",
     "output_type": "stream",
     "text": [
      "GCN loss on unlabled data: 1.1566760540008545\n",
      "GCN acc on unlabled data: 0.7344658024139473\n",
      "attack loss: 0.6493822932243347\n"
     ]
    },
    {
     "name": "stderr",
     "output_type": "stream",
     "text": [
      "Perturbing graph:  59%|█████▉    | 298/506 [03:56<02:44,  1.26it/s]"
     ]
    },
    {
     "name": "stdout",
     "output_type": "stream",
     "text": [
      "GCN loss on unlabled data: 1.1074968576431274\n",
      "GCN acc on unlabled data: 0.7384890478319178\n",
      "attack loss: 0.6457219123840332\n"
     ]
    },
    {
     "name": "stderr",
     "output_type": "stream",
     "text": [
      "Perturbing graph:  59%|█████▉    | 299/506 [03:57<02:43,  1.26it/s]"
     ]
    },
    {
     "name": "stdout",
     "output_type": "stream",
     "text": [
      "GCN loss on unlabled data: 1.1254873275756836\n",
      "GCN acc on unlabled data: 0.7438533750558785\n",
      "attack loss: 0.6415804624557495\n"
     ]
    },
    {
     "name": "stderr",
     "output_type": "stream",
     "text": [
      "Perturbing graph:  59%|█████▉    | 300/506 [03:58<02:44,  1.26it/s]"
     ]
    },
    {
     "name": "stdout",
     "output_type": "stream",
     "text": [
      "GCN loss on unlabled data: 1.16608726978302\n",
      "GCN acc on unlabled data: 0.7349128296826106\n",
      "attack loss: 0.6581317186355591\n"
     ]
    },
    {
     "name": "stderr",
     "output_type": "stream",
     "text": [
      "Perturbing graph:  59%|█████▉    | 301/506 [03:59<02:44,  1.25it/s]"
     ]
    },
    {
     "name": "stdout",
     "output_type": "stream",
     "text": [
      "GCN loss on unlabled data: 1.1393141746520996\n",
      "GCN acc on unlabled data: 0.7358068842199375\n",
      "attack loss: 0.6419193744659424\n"
     ]
    },
    {
     "name": "stderr",
     "output_type": "stream",
     "text": [
      "Perturbing graph:  60%|█████▉    | 302/506 [03:59<02:42,  1.26it/s]"
     ]
    },
    {
     "name": "stdout",
     "output_type": "stream",
     "text": [
      "GCN loss on unlabled data: 1.257678747177124\n",
      "GCN acc on unlabled data: 0.7299955297273134\n",
      "attack loss: 0.7154198884963989\n"
     ]
    },
    {
     "name": "stderr",
     "output_type": "stream",
     "text": [
      "Perturbing graph:  60%|█████▉    | 303/506 [04:00<02:40,  1.26it/s]"
     ]
    },
    {
     "name": "stdout",
     "output_type": "stream",
     "text": [
      "GCN loss on unlabled data: 1.1357946395874023\n",
      "GCN acc on unlabled data: 0.7322306660706304\n",
      "attack loss: 0.6336119174957275\n"
     ]
    },
    {
     "name": "stderr",
     "output_type": "stream",
     "text": [
      "Perturbing graph:  60%|██████    | 304/506 [04:01<02:40,  1.26it/s]"
     ]
    },
    {
     "name": "stdout",
     "output_type": "stream",
     "text": [
      "GCN loss on unlabled data: 1.1800694465637207\n",
      "GCN acc on unlabled data: 0.7393831023692445\n",
      "attack loss: 0.6814781427383423\n"
     ]
    },
    {
     "name": "stderr",
     "output_type": "stream",
     "text": [
      "Perturbing graph:  60%|██████    | 305/506 [04:02<02:39,  1.26it/s]"
     ]
    },
    {
     "name": "stdout",
     "output_type": "stream",
     "text": [
      "GCN loss on unlabled data: 1.2001019716262817\n",
      "GCN acc on unlabled data: 0.7344658024139473\n",
      "attack loss: 0.6674642562866211\n"
     ]
    },
    {
     "name": "stderr",
     "output_type": "stream",
     "text": [
      "Perturbing graph:  60%|██████    | 306/506 [04:03<02:39,  1.25it/s]"
     ]
    },
    {
     "name": "stdout",
     "output_type": "stream",
     "text": [
      "GCN loss on unlabled data: 1.168650507926941\n",
      "GCN acc on unlabled data: 0.7443004023245419\n",
      "attack loss: 0.6790102124214172\n"
     ]
    },
    {
     "name": "stderr",
     "output_type": "stream",
     "text": [
      "Perturbing graph:  61%|██████    | 307/506 [04:03<02:37,  1.26it/s]"
     ]
    },
    {
     "name": "stdout",
     "output_type": "stream",
     "text": [
      "GCN loss on unlabled data: 1.2313541173934937\n",
      "GCN acc on unlabled data: 0.727313366115333\n",
      "attack loss: 0.7050668001174927\n"
     ]
    },
    {
     "name": "stderr",
     "output_type": "stream",
     "text": [
      "Perturbing graph:  61%|██████    | 308/506 [04:04<02:36,  1.27it/s]"
     ]
    },
    {
     "name": "stdout",
     "output_type": "stream",
     "text": [
      "GCN loss on unlabled data: 1.1494344472885132\n",
      "GCN acc on unlabled data: 0.7407241841752347\n",
      "attack loss: 0.6759033799171448\n"
     ]
    },
    {
     "name": "stderr",
     "output_type": "stream",
     "text": [
      "Perturbing graph:  61%|██████    | 309/506 [04:05<02:35,  1.27it/s]"
     ]
    },
    {
     "name": "stdout",
     "output_type": "stream",
     "text": [
      "GCN loss on unlabled data: 1.2617557048797607\n",
      "GCN acc on unlabled data: 0.7308895842646401\n",
      "attack loss: 0.7158905267715454\n"
     ]
    },
    {
     "name": "stderr",
     "output_type": "stream",
     "text": [
      "Perturbing graph:  61%|██████▏   | 310/506 [04:06<02:34,  1.26it/s]"
     ]
    },
    {
     "name": "stdout",
     "output_type": "stream",
     "text": [
      "GCN loss on unlabled data: 1.2051063776016235\n",
      "GCN acc on unlabled data: 0.7277603933839965\n",
      "attack loss: 0.6820034980773926\n"
     ]
    },
    {
     "name": "stderr",
     "output_type": "stream",
     "text": [
      "Perturbing graph:  61%|██████▏   | 311/506 [04:07<02:34,  1.26it/s]"
     ]
    },
    {
     "name": "stdout",
     "output_type": "stream",
     "text": [
      "GCN loss on unlabled data: 1.209515929222107\n",
      "GCN acc on unlabled data: 0.7340187751452839\n",
      "attack loss: 0.6909801363945007\n"
     ]
    },
    {
     "name": "stderr",
     "output_type": "stream",
     "text": [
      "Perturbing graph:  62%|██████▏   | 312/506 [04:07<02:33,  1.27it/s]"
     ]
    },
    {
     "name": "stdout",
     "output_type": "stream",
     "text": [
      "GCN loss on unlabled data: 1.2131028175354004\n",
      "GCN acc on unlabled data: 0.7246312025033528\n",
      "attack loss: 0.6823624968528748\n"
     ]
    },
    {
     "name": "stderr",
     "output_type": "stream",
     "text": [
      "Perturbing graph:  62%|██████▏   | 313/506 [04:08<02:32,  1.26it/s]"
     ]
    },
    {
     "name": "stdout",
     "output_type": "stream",
     "text": [
      "GCN loss on unlabled data: 1.1764036417007446\n",
      "GCN acc on unlabled data: 0.731783638801967\n",
      "attack loss: 0.6791686415672302\n"
     ]
    },
    {
     "name": "stderr",
     "output_type": "stream",
     "text": [
      "Perturbing graph:  62%|██████▏   | 314/506 [04:09<02:32,  1.26it/s]"
     ]
    },
    {
     "name": "stdout",
     "output_type": "stream",
     "text": [
      "GCN loss on unlabled data: 1.1891992092132568\n",
      "GCN acc on unlabled data: 0.7326776933392937\n",
      "attack loss: 0.681025505065918\n"
     ]
    },
    {
     "name": "stderr",
     "output_type": "stream",
     "text": [
      "Perturbing graph:  62%|██████▏   | 315/506 [04:10<02:31,  1.26it/s]"
     ]
    },
    {
     "name": "stdout",
     "output_type": "stream",
     "text": [
      "GCN loss on unlabled data: 1.2860877513885498\n",
      "GCN acc on unlabled data: 0.7250782297720161\n",
      "attack loss: 0.7385989427566528\n"
     ]
    },
    {
     "name": "stderr",
     "output_type": "stream",
     "text": [
      "Perturbing graph:  62%|██████▏   | 316/506 [04:10<02:31,  1.25it/s]"
     ]
    },
    {
     "name": "stdout",
     "output_type": "stream",
     "text": [
      "GCN loss on unlabled data: 1.2234504222869873\n",
      "GCN acc on unlabled data: 0.7313366115333035\n",
      "attack loss: 0.7016213536262512\n"
     ]
    },
    {
     "name": "stderr",
     "output_type": "stream",
     "text": [
      "Perturbing graph:  63%|██████▎   | 317/506 [04:11<02:31,  1.25it/s]"
     ]
    },
    {
     "name": "stdout",
     "output_type": "stream",
     "text": [
      "GCN loss on unlabled data: 1.2389075756072998\n",
      "GCN acc on unlabled data: 0.7282074206526599\n",
      "attack loss: 0.7020663022994995\n"
     ]
    },
    {
     "name": "stderr",
     "output_type": "stream",
     "text": [
      "Perturbing graph:  63%|██████▎   | 318/506 [04:12<02:30,  1.25it/s]"
     ]
    },
    {
     "name": "stdout",
     "output_type": "stream",
     "text": [
      "GCN loss on unlabled data: 1.1801683902740479\n",
      "GCN acc on unlabled data: 0.7250782297720161\n",
      "attack loss: 0.6907379627227783\n"
     ]
    },
    {
     "name": "stderr",
     "output_type": "stream",
     "text": [
      "Perturbing graph:  63%|██████▎   | 319/506 [04:13<02:29,  1.25it/s]"
     ]
    },
    {
     "name": "stdout",
     "output_type": "stream",
     "text": [
      "GCN loss on unlabled data: 1.1909116506576538\n",
      "GCN acc on unlabled data: 0.7277603933839965\n",
      "attack loss: 0.6942272186279297\n"
     ]
    },
    {
     "name": "stderr",
     "output_type": "stream",
     "text": [
      "Perturbing graph:  63%|██████▎   | 320/506 [04:14<02:27,  1.26it/s]"
     ]
    },
    {
     "name": "stdout",
     "output_type": "stream",
     "text": [
      "GCN loss on unlabled data: 1.2313754558563232\n",
      "GCN acc on unlabled data: 0.7264193115780063\n",
      "attack loss: 0.7090005278587341\n"
     ]
    },
    {
     "name": "stderr",
     "output_type": "stream",
     "text": [
      "Perturbing graph:  63%|██████▎   | 321/506 [04:15<02:27,  1.25it/s]"
     ]
    },
    {
     "name": "stdout",
     "output_type": "stream",
     "text": [
      "GCN loss on unlabled data: 1.1558564901351929\n",
      "GCN acc on unlabled data: 0.7411712114438981\n",
      "attack loss: 0.670150101184845\n"
     ]
    },
    {
     "name": "stderr",
     "output_type": "stream",
     "text": [
      "Perturbing graph:  64%|██████▎   | 322/506 [04:15<02:26,  1.25it/s]"
     ]
    },
    {
     "name": "stdout",
     "output_type": "stream",
     "text": [
      "GCN loss on unlabled data: 1.1854945421218872\n",
      "GCN acc on unlabled data: 0.7268663388466696\n",
      "attack loss: 0.6913546919822693\n"
     ]
    },
    {
     "name": "stderr",
     "output_type": "stream",
     "text": [
      "Perturbing graph:  64%|██████▍   | 323/506 [04:16<02:25,  1.26it/s]"
     ]
    },
    {
     "name": "stdout",
     "output_type": "stream",
     "text": [
      "GCN loss on unlabled data: 1.1931049823760986\n",
      "GCN acc on unlabled data: 0.7282074206526599\n",
      "attack loss: 0.6864087581634521\n"
     ]
    },
    {
     "name": "stderr",
     "output_type": "stream",
     "text": [
      "Perturbing graph:  64%|██████▍   | 324/506 [04:17<02:25,  1.25it/s]"
     ]
    },
    {
     "name": "stdout",
     "output_type": "stream",
     "text": [
      "GCN loss on unlabled data: 1.205751895904541\n",
      "GCN acc on unlabled data: 0.731783638801967\n",
      "attack loss: 0.686851441860199\n"
     ]
    },
    {
     "name": "stderr",
     "output_type": "stream",
     "text": [
      "Perturbing graph:  64%|██████▍   | 325/506 [04:18<02:25,  1.25it/s]"
     ]
    },
    {
     "name": "stdout",
     "output_type": "stream",
     "text": [
      "GCN loss on unlabled data: 1.2950811386108398\n",
      "GCN acc on unlabled data: 0.727313366115333\n",
      "attack loss: 0.7276344299316406\n"
     ]
    },
    {
     "name": "stderr",
     "output_type": "stream",
     "text": [
      "Perturbing graph:  64%|██████▍   | 326/506 [04:19<02:23,  1.25it/s]"
     ]
    },
    {
     "name": "stdout",
     "output_type": "stream",
     "text": [
      "GCN loss on unlabled data: 1.2333966493606567\n",
      "GCN acc on unlabled data: 0.7210549843540456\n",
      "attack loss: 0.6962002515792847\n"
     ]
    },
    {
     "name": "stderr",
     "output_type": "stream",
     "text": [
      "Perturbing graph:  65%|██████▍   | 327/506 [04:19<02:22,  1.25it/s]"
     ]
    },
    {
     "name": "stdout",
     "output_type": "stream",
     "text": [
      "GCN loss on unlabled data: 1.2149282693862915\n",
      "GCN acc on unlabled data: 0.7264193115780063\n",
      "attack loss: 0.6996133923530579\n"
     ]
    },
    {
     "name": "stderr",
     "output_type": "stream",
     "text": [
      "Perturbing graph:  65%|██████▍   | 328/506 [04:20<02:21,  1.26it/s]"
     ]
    },
    {
     "name": "stdout",
     "output_type": "stream",
     "text": [
      "GCN loss on unlabled data: 1.237900972366333\n",
      "GCN acc on unlabled data: 0.7250782297720161\n",
      "attack loss: 0.7013046741485596\n"
     ]
    },
    {
     "name": "stderr",
     "output_type": "stream",
     "text": [
      "Perturbing graph:  65%|██████▌   | 329/506 [04:21<02:20,  1.26it/s]"
     ]
    },
    {
     "name": "stdout",
     "output_type": "stream",
     "text": [
      "GCN loss on unlabled data: 1.2150743007659912\n",
      "GCN acc on unlabled data: 0.7384890478319178\n",
      "attack loss: 0.6946378946304321\n"
     ]
    },
    {
     "name": "stderr",
     "output_type": "stream",
     "text": [
      "Perturbing graph:  65%|██████▌   | 330/506 [04:22<02:19,  1.26it/s]"
     ]
    },
    {
     "name": "stdout",
     "output_type": "stream",
     "text": [
      "GCN loss on unlabled data: 1.2261207103729248\n",
      "GCN acc on unlabled data: 0.7197139025480555\n",
      "attack loss: 0.7103520631790161\n"
     ]
    },
    {
     "name": "stderr",
     "output_type": "stream",
     "text": [
      "Perturbing graph:  65%|██████▌   | 331/506 [04:22<02:18,  1.26it/s]"
     ]
    },
    {
     "name": "stdout",
     "output_type": "stream",
     "text": [
      "GCN loss on unlabled data: 1.2039620876312256\n",
      "GCN acc on unlabled data: 0.727313366115333\n",
      "attack loss: 0.6812753081321716\n"
     ]
    },
    {
     "name": "stderr",
     "output_type": "stream",
     "text": [
      "Perturbing graph:  66%|██████▌   | 332/506 [04:23<02:18,  1.26it/s]"
     ]
    },
    {
     "name": "stdout",
     "output_type": "stream",
     "text": [
      "GCN loss on unlabled data: 1.2658132314682007\n",
      "GCN acc on unlabled data: 0.7241841752346894\n",
      "attack loss: 0.7274378538131714\n"
     ]
    },
    {
     "name": "stderr",
     "output_type": "stream",
     "text": [
      "Perturbing graph:  66%|██████▌   | 333/506 [04:24<02:17,  1.26it/s]"
     ]
    },
    {
     "name": "stdout",
     "output_type": "stream",
     "text": [
      "GCN loss on unlabled data: 1.2658904790878296\n",
      "GCN acc on unlabled data: 0.7255252570406795\n",
      "attack loss: 0.7087562680244446\n"
     ]
    },
    {
     "name": "stderr",
     "output_type": "stream",
     "text": [
      "Perturbing graph:  66%|██████▌   | 334/506 [04:25<02:15,  1.27it/s]"
     ]
    },
    {
     "name": "stdout",
     "output_type": "stream",
     "text": [
      "GCN loss on unlabled data: 1.2154992818832397\n",
      "GCN acc on unlabled data: 0.7322306660706304\n",
      "attack loss: 0.704075038433075\n"
     ]
    },
    {
     "name": "stderr",
     "output_type": "stream",
     "text": [
      "Perturbing graph:  66%|██████▌   | 335/506 [04:26<02:15,  1.26it/s]"
     ]
    },
    {
     "name": "stdout",
     "output_type": "stream",
     "text": [
      "GCN loss on unlabled data: 1.2243611812591553\n",
      "GCN acc on unlabled data: 0.7282074206526599\n",
      "attack loss: 0.6950697302818298\n"
     ]
    },
    {
     "name": "stderr",
     "output_type": "stream",
     "text": [
      "Perturbing graph:  66%|██████▋   | 336/506 [04:26<02:14,  1.26it/s]"
     ]
    },
    {
     "name": "stdout",
     "output_type": "stream",
     "text": [
      "GCN loss on unlabled data: 1.2519607543945312\n",
      "GCN acc on unlabled data: 0.7299955297273134\n",
      "attack loss: 0.7194346189498901\n"
     ]
    },
    {
     "name": "stderr",
     "output_type": "stream",
     "text": [
      "Perturbing graph:  67%|██████▋   | 337/506 [04:27<02:13,  1.27it/s]"
     ]
    },
    {
     "name": "stdout",
     "output_type": "stream",
     "text": [
      "GCN loss on unlabled data: 1.2152894735336304\n",
      "GCN acc on unlabled data: 0.7241841752346894\n",
      "attack loss: 0.7003268003463745\n"
     ]
    },
    {
     "name": "stderr",
     "output_type": "stream",
     "text": [
      "Perturbing graph:  67%|██████▋   | 338/506 [04:28<02:13,  1.26it/s]"
     ]
    },
    {
     "name": "stdout",
     "output_type": "stream",
     "text": [
      "GCN loss on unlabled data: 1.2180172204971313\n",
      "GCN acc on unlabled data: 0.7223960661600358\n",
      "attack loss: 0.6915189623832703\n"
     ]
    },
    {
     "name": "stderr",
     "output_type": "stream",
     "text": [
      "Perturbing graph:  67%|██████▋   | 339/506 [04:29<02:14,  1.25it/s]"
     ]
    },
    {
     "name": "stdout",
     "output_type": "stream",
     "text": [
      "GCN loss on unlabled data: 1.1721558570861816\n",
      "GCN acc on unlabled data: 0.7335717478766205\n",
      "attack loss: 0.6880300641059875\n"
     ]
    },
    {
     "name": "stderr",
     "output_type": "stream",
     "text": [
      "Perturbing graph:  67%|██████▋   | 340/506 [04:30<02:14,  1.24it/s]"
     ]
    },
    {
     "name": "stdout",
     "output_type": "stream",
     "text": [
      "GCN loss on unlabled data: 1.2170783281326294\n",
      "GCN acc on unlabled data: 0.7308895842646401\n",
      "attack loss: 0.7131794691085815\n"
     ]
    },
    {
     "name": "stderr",
     "output_type": "stream",
     "text": [
      "Perturbing graph:  67%|██████▋   | 341/506 [04:30<02:14,  1.23it/s]"
     ]
    },
    {
     "name": "stdout",
     "output_type": "stream",
     "text": [
      "GCN loss on unlabled data: 1.1744670867919922\n",
      "GCN acc on unlabled data: 0.723737147966026\n",
      "attack loss: 0.6834909319877625\n"
     ]
    },
    {
     "name": "stderr",
     "output_type": "stream",
     "text": [
      "Perturbing graph:  68%|██████▊   | 342/506 [04:31<02:11,  1.24it/s]"
     ]
    },
    {
     "name": "stdout",
     "output_type": "stream",
     "text": [
      "GCN loss on unlabled data: 1.1846568584442139\n",
      "GCN acc on unlabled data: 0.7420652659812249\n",
      "attack loss: 0.6831297278404236\n"
     ]
    },
    {
     "name": "stderr",
     "output_type": "stream",
     "text": [
      "Perturbing graph:  68%|██████▊   | 343/506 [04:32<02:09,  1.26it/s]"
     ]
    },
    {
     "name": "stdout",
     "output_type": "stream",
     "text": [
      "GCN loss on unlabled data: 1.2771497964859009\n",
      "GCN acc on unlabled data: 0.7201609298167189\n",
      "attack loss: 0.7203272581100464\n"
     ]
    },
    {
     "name": "stderr",
     "output_type": "stream",
     "text": [
      "Perturbing graph:  68%|██████▊   | 344/506 [04:33<02:08,  1.27it/s]"
     ]
    },
    {
     "name": "stdout",
     "output_type": "stream",
     "text": [
      "GCN loss on unlabled data: 1.2469253540039062\n",
      "GCN acc on unlabled data: 0.7268663388466696\n",
      "attack loss: 0.7259621024131775\n"
     ]
    },
    {
     "name": "stderr",
     "output_type": "stream",
     "text": [
      "Perturbing graph:  68%|██████▊   | 345/506 [04:34<02:08,  1.26it/s]"
     ]
    },
    {
     "name": "stdout",
     "output_type": "stream",
     "text": [
      "GCN loss on unlabled data: 1.244030237197876\n",
      "GCN acc on unlabled data: 0.7121144389807779\n",
      "attack loss: 0.7061794400215149\n"
     ]
    },
    {
     "name": "stderr",
     "output_type": "stream",
     "text": [
      "Perturbing graph:  68%|██████▊   | 346/506 [04:34<02:06,  1.26it/s]"
     ]
    },
    {
     "name": "stdout",
     "output_type": "stream",
     "text": [
      "GCN loss on unlabled data: 1.2312848567962646\n",
      "GCN acc on unlabled data: 0.723737147966026\n",
      "attack loss: 0.7026457786560059\n"
     ]
    },
    {
     "name": "stderr",
     "output_type": "stream",
     "text": [
      "Perturbing graph:  69%|██████▊   | 347/506 [04:35<02:05,  1.26it/s]"
     ]
    },
    {
     "name": "stdout",
     "output_type": "stream",
     "text": [
      "GCN loss on unlabled data: 1.296027660369873\n",
      "GCN acc on unlabled data: 0.72954850245865\n",
      "attack loss: 0.7438270449638367\n"
     ]
    },
    {
     "name": "stderr",
     "output_type": "stream",
     "text": [
      "Perturbing graph:  69%|██████▉   | 348/506 [04:36<02:04,  1.27it/s]"
     ]
    },
    {
     "name": "stdout",
     "output_type": "stream",
     "text": [
      "GCN loss on unlabled data: 1.2895689010620117\n",
      "GCN acc on unlabled data: 0.713455520786768\n",
      "attack loss: 0.7350494861602783\n"
     ]
    },
    {
     "name": "stderr",
     "output_type": "stream",
     "text": [
      "Perturbing graph:  69%|██████▉   | 349/506 [04:37<02:03,  1.27it/s]"
     ]
    },
    {
     "name": "stdout",
     "output_type": "stream",
     "text": [
      "GCN loss on unlabled data: 1.2486921548843384\n",
      "GCN acc on unlabled data: 0.7201609298167189\n",
      "attack loss: 0.7264439463615417\n"
     ]
    },
    {
     "name": "stderr",
     "output_type": "stream",
     "text": [
      "Perturbing graph:  69%|██████▉   | 350/506 [04:38<02:03,  1.27it/s]"
     ]
    },
    {
     "name": "stdout",
     "output_type": "stream",
     "text": [
      "GCN loss on unlabled data: 1.3173701763153076\n",
      "GCN acc on unlabled data: 0.7228430934286991\n",
      "attack loss: 0.7664029598236084\n"
     ]
    },
    {
     "name": "stderr",
     "output_type": "stream",
     "text": [
      "Perturbing graph:  69%|██████▉   | 351/506 [04:38<02:02,  1.27it/s]"
     ]
    },
    {
     "name": "stdout",
     "output_type": "stream",
     "text": [
      "GCN loss on unlabled data: 1.3367549180984497\n",
      "GCN acc on unlabled data: 0.7246312025033528\n",
      "attack loss: 0.7695042490959167\n"
     ]
    },
    {
     "name": "stderr",
     "output_type": "stream",
     "text": [
      "Perturbing graph:  70%|██████▉   | 352/506 [04:39<02:01,  1.26it/s]"
     ]
    },
    {
     "name": "stdout",
     "output_type": "stream",
     "text": [
      "GCN loss on unlabled data: 1.2902328968048096\n",
      "GCN acc on unlabled data: 0.7183728207420653\n",
      "attack loss: 0.7390005588531494\n"
     ]
    },
    {
     "name": "stderr",
     "output_type": "stream",
     "text": [
      "Perturbing graph:  70%|██████▉   | 353/506 [04:40<02:00,  1.27it/s]"
     ]
    },
    {
     "name": "stdout",
     "output_type": "stream",
     "text": [
      "GCN loss on unlabled data: 1.2837190628051758\n",
      "GCN acc on unlabled data: 0.7197139025480555\n",
      "attack loss: 0.7216715216636658\n"
     ]
    },
    {
     "name": "stderr",
     "output_type": "stream",
     "text": [
      "Perturbing graph:  70%|██████▉   | 354/506 [04:41<01:59,  1.27it/s]"
     ]
    },
    {
     "name": "stdout",
     "output_type": "stream",
     "text": [
      "GCN loss on unlabled data: 1.2646490335464478\n",
      "GCN acc on unlabled data: 0.719266875279392\n",
      "attack loss: 0.7223771214485168\n"
     ]
    },
    {
     "name": "stderr",
     "output_type": "stream",
     "text": [
      "Perturbing graph:  70%|███████   | 355/506 [04:42<02:00,  1.25it/s]"
     ]
    },
    {
     "name": "stdout",
     "output_type": "stream",
     "text": [
      "GCN loss on unlabled data: 1.2925900220870972\n",
      "GCN acc on unlabled data: 0.7116674117121145\n",
      "attack loss: 0.7402451038360596\n"
     ]
    },
    {
     "name": "stderr",
     "output_type": "stream",
     "text": [
      "Perturbing graph:  70%|███████   | 356/506 [04:42<01:59,  1.26it/s]"
     ]
    },
    {
     "name": "stdout",
     "output_type": "stream",
     "text": [
      "GCN loss on unlabled data: 1.3532811403274536\n",
      "GCN acc on unlabled data: 0.7139025480554314\n",
      "attack loss: 0.77330082654953\n"
     ]
    },
    {
     "name": "stderr",
     "output_type": "stream",
     "text": [
      "Perturbing graph:  71%|███████   | 357/506 [04:43<01:57,  1.27it/s]"
     ]
    },
    {
     "name": "stdout",
     "output_type": "stream",
     "text": [
      "GCN loss on unlabled data: 1.2557631731033325\n",
      "GCN acc on unlabled data: 0.727313366115333\n",
      "attack loss: 0.7392012476921082\n"
     ]
    },
    {
     "name": "stderr",
     "output_type": "stream",
     "text": [
      "Perturbing graph:  71%|███████   | 358/506 [04:44<01:56,  1.27it/s]"
     ]
    },
    {
     "name": "stdout",
     "output_type": "stream",
     "text": [
      "GCN loss on unlabled data: 1.2656413316726685\n",
      "GCN acc on unlabled data: 0.7326776933392937\n",
      "attack loss: 0.7175534963607788\n"
     ]
    },
    {
     "name": "stderr",
     "output_type": "stream",
     "text": [
      "Perturbing graph:  71%|███████   | 359/506 [04:45<01:55,  1.27it/s]"
     ]
    },
    {
     "name": "stdout",
     "output_type": "stream",
     "text": [
      "GCN loss on unlabled data: 1.3783501386642456\n",
      "GCN acc on unlabled data: 0.715690657130085\n",
      "attack loss: 0.780674397945404\n"
     ]
    },
    {
     "name": "stderr",
     "output_type": "stream",
     "text": [
      "Perturbing graph:  71%|███████   | 360/506 [04:45<01:54,  1.27it/s]"
     ]
    },
    {
     "name": "stdout",
     "output_type": "stream",
     "text": [
      "GCN loss on unlabled data: 1.287673830986023\n",
      "GCN acc on unlabled data: 0.7179257934734019\n",
      "attack loss: 0.746941328048706\n"
     ]
    },
    {
     "name": "stderr",
     "output_type": "stream",
     "text": [
      "Perturbing graph:  71%|███████▏  | 361/506 [04:46<01:53,  1.27it/s]"
     ]
    },
    {
     "name": "stdout",
     "output_type": "stream",
     "text": [
      "GCN loss on unlabled data: 1.2923997640609741\n",
      "GCN acc on unlabled data: 0.7232901206973625\n",
      "attack loss: 0.7587202191352844\n"
     ]
    },
    {
     "name": "stderr",
     "output_type": "stream",
     "text": [
      "Perturbing graph:  72%|███████▏  | 362/506 [04:47<01:52,  1.27it/s]"
     ]
    },
    {
     "name": "stdout",
     "output_type": "stream",
     "text": [
      "GCN loss on unlabled data: 1.2431949377059937\n",
      "GCN acc on unlabled data: 0.7232901206973625\n",
      "attack loss: 0.7005879282951355\n"
     ]
    },
    {
     "name": "stderr",
     "output_type": "stream",
     "text": [
      "Perturbing graph:  72%|███████▏  | 363/506 [04:48<01:52,  1.27it/s]"
     ]
    },
    {
     "name": "stdout",
     "output_type": "stream",
     "text": [
      "GCN loss on unlabled data: 1.3473752737045288\n",
      "GCN acc on unlabled data: 0.7027268663388467\n",
      "attack loss: 0.7659412622451782\n"
     ]
    },
    {
     "name": "stderr",
     "output_type": "stream",
     "text": [
      "Perturbing graph:  72%|███████▏  | 364/506 [04:49<01:51,  1.27it/s]"
     ]
    },
    {
     "name": "stdout",
     "output_type": "stream",
     "text": [
      "GCN loss on unlabled data: 1.2102006673812866\n",
      "GCN acc on unlabled data: 0.723737147966026\n",
      "attack loss: 0.6922672390937805\n"
     ]
    },
    {
     "name": "stderr",
     "output_type": "stream",
     "text": [
      "Perturbing graph:  72%|███████▏  | 365/506 [04:49<01:50,  1.27it/s]"
     ]
    },
    {
     "name": "stdout",
     "output_type": "stream",
     "text": [
      "GCN loss on unlabled data: 1.2827582359313965\n",
      "GCN acc on unlabled data: 0.7089852481001341\n",
      "attack loss: 0.7427986860275269\n"
     ]
    },
    {
     "name": "stderr",
     "output_type": "stream",
     "text": [
      "Perturbing graph:  72%|███████▏  | 366/506 [04:50<01:51,  1.26it/s]"
     ]
    },
    {
     "name": "stdout",
     "output_type": "stream",
     "text": [
      "GCN loss on unlabled data: 1.196893334388733\n",
      "GCN acc on unlabled data: 0.7223960661600358\n",
      "attack loss: 0.691836953163147\n"
     ]
    },
    {
     "name": "stderr",
     "output_type": "stream",
     "text": [
      "Perturbing graph:  73%|███████▎  | 367/506 [04:51<01:50,  1.26it/s]"
     ]
    },
    {
     "name": "stdout",
     "output_type": "stream",
     "text": [
      "GCN loss on unlabled data: 1.3702386617660522\n",
      "GCN acc on unlabled data: 0.7009387572641932\n",
      "attack loss: 0.7702416181564331\n"
     ]
    },
    {
     "name": "stderr",
     "output_type": "stream",
     "text": [
      "Perturbing graph:  73%|███████▎  | 368/506 [04:52<01:49,  1.27it/s]"
     ]
    },
    {
     "name": "stdout",
     "output_type": "stream",
     "text": [
      "GCN loss on unlabled data: 1.2791979312896729\n",
      "GCN acc on unlabled data: 0.7143495753240948\n",
      "attack loss: 0.7217155694961548\n"
     ]
    },
    {
     "name": "stderr",
     "output_type": "stream",
     "text": [
      "Perturbing graph:  73%|███████▎  | 369/506 [04:53<01:48,  1.27it/s]"
     ]
    },
    {
     "name": "stdout",
     "output_type": "stream",
     "text": [
      "GCN loss on unlabled data: 1.3459107875823975\n",
      "GCN acc on unlabled data: 0.7094322753687975\n",
      "attack loss: 0.7647683620452881\n"
     ]
    },
    {
     "name": "stderr",
     "output_type": "stream",
     "text": [
      "Perturbing graph:  73%|███████▎  | 370/506 [04:53<01:47,  1.26it/s]"
     ]
    },
    {
     "name": "stdout",
     "output_type": "stream",
     "text": [
      "GCN loss on unlabled data: 1.3107174634933472\n",
      "GCN acc on unlabled data: 0.7116674117121145\n",
      "attack loss: 0.7401727437973022\n"
     ]
    },
    {
     "name": "stderr",
     "output_type": "stream",
     "text": [
      "Perturbing graph:  73%|███████▎  | 371/506 [04:54<01:46,  1.26it/s]"
     ]
    },
    {
     "name": "stdout",
     "output_type": "stream",
     "text": [
      "GCN loss on unlabled data: 1.2661594152450562\n",
      "GCN acc on unlabled data: 0.7161376843987484\n",
      "attack loss: 0.7365754246711731\n"
     ]
    },
    {
     "name": "stderr",
     "output_type": "stream",
     "text": [
      "Perturbing graph:  74%|███████▎  | 372/506 [04:55<01:45,  1.27it/s]"
     ]
    },
    {
     "name": "stdout",
     "output_type": "stream",
     "text": [
      "GCN loss on unlabled data: 1.3144526481628418\n",
      "GCN acc on unlabled data: 0.7179257934734019\n",
      "attack loss: 0.7431849837303162\n"
     ]
    },
    {
     "name": "stderr",
     "output_type": "stream",
     "text": [
      "Perturbing graph:  74%|███████▎  | 373/506 [04:56<01:44,  1.27it/s]"
     ]
    },
    {
     "name": "stdout",
     "output_type": "stream",
     "text": [
      "GCN loss on unlabled data: 1.2286158800125122\n",
      "GCN acc on unlabled data: 0.7143495753240948\n",
      "attack loss: 0.7059873342514038\n"
     ]
    },
    {
     "name": "stderr",
     "output_type": "stream",
     "text": [
      "Perturbing graph:  74%|███████▍  | 374/506 [04:56<01:44,  1.27it/s]"
     ]
    },
    {
     "name": "stdout",
     "output_type": "stream",
     "text": [
      "GCN loss on unlabled data: 1.3051999807357788\n",
      "GCN acc on unlabled data: 0.7139025480554314\n",
      "attack loss: 0.7480624318122864\n"
     ]
    },
    {
     "name": "stderr",
     "output_type": "stream",
     "text": [
      "Perturbing graph:  74%|███████▍  | 375/506 [04:57<01:43,  1.26it/s]"
     ]
    },
    {
     "name": "stdout",
     "output_type": "stream",
     "text": [
      "GCN loss on unlabled data: 1.3052146434783936\n",
      "GCN acc on unlabled data: 0.7080911935628074\n",
      "attack loss: 0.7579360604286194\n"
     ]
    },
    {
     "name": "stderr",
     "output_type": "stream",
     "text": [
      "Perturbing graph:  74%|███████▍  | 376/506 [04:58<01:42,  1.26it/s]"
     ]
    },
    {
     "name": "stdout",
     "output_type": "stream",
     "text": [
      "GCN loss on unlabled data: 1.3045272827148438\n",
      "GCN acc on unlabled data: 0.713455520786768\n",
      "attack loss: 0.7688134908676147\n"
     ]
    },
    {
     "name": "stderr",
     "output_type": "stream",
     "text": [
      "Perturbing graph:  75%|███████▍  | 377/506 [04:59<01:41,  1.27it/s]"
     ]
    },
    {
     "name": "stdout",
     "output_type": "stream",
     "text": [
      "GCN loss on unlabled data: 1.3654433488845825\n",
      "GCN acc on unlabled data: 0.7107733571747877\n",
      "attack loss: 0.7904024720191956\n"
     ]
    },
    {
     "name": "stderr",
     "output_type": "stream",
     "text": [
      "Perturbing graph:  75%|███████▍  | 378/506 [05:00<01:41,  1.27it/s]"
     ]
    },
    {
     "name": "stdout",
     "output_type": "stream",
     "text": [
      "GCN loss on unlabled data: 1.3306490182876587\n",
      "GCN acc on unlabled data: 0.7210549843540456\n",
      "attack loss: 0.7670465111732483\n"
     ]
    },
    {
     "name": "stderr",
     "output_type": "stream",
     "text": [
      "Perturbing graph:  75%|███████▍  | 379/506 [05:00<01:39,  1.27it/s]"
     ]
    },
    {
     "name": "stdout",
     "output_type": "stream",
     "text": [
      "GCN loss on unlabled data: 1.3396620750427246\n",
      "GCN acc on unlabled data: 0.7094322753687975\n",
      "attack loss: 0.7640040516853333\n"
     ]
    },
    {
     "name": "stderr",
     "output_type": "stream",
     "text": [
      "Perturbing graph:  75%|███████▌  | 380/506 [05:01<01:38,  1.28it/s]"
     ]
    },
    {
     "name": "stdout",
     "output_type": "stream",
     "text": [
      "GCN loss on unlabled data: 1.2778842449188232\n",
      "GCN acc on unlabled data: 0.7107733571747877\n",
      "attack loss: 0.7543215751647949\n"
     ]
    },
    {
     "name": "stderr",
     "output_type": "stream",
     "text": [
      "Perturbing graph:  75%|███████▌  | 381/506 [05:02<01:38,  1.26it/s]"
     ]
    },
    {
     "name": "stdout",
     "output_type": "stream",
     "text": [
      "GCN loss on unlabled data: 1.3621749877929688\n",
      "GCN acc on unlabled data: 0.6987036209208762\n",
      "attack loss: 0.7960002422332764\n"
     ]
    },
    {
     "name": "stderr",
     "output_type": "stream",
     "text": [
      "Perturbing graph:  75%|███████▌  | 382/506 [05:03<01:38,  1.26it/s]"
     ]
    },
    {
     "name": "stdout",
     "output_type": "stream",
     "text": [
      "GCN loss on unlabled data: 1.2872371673583984\n",
      "GCN acc on unlabled data: 0.711220384443451\n",
      "attack loss: 0.7542239427566528\n"
     ]
    },
    {
     "name": "stderr",
     "output_type": "stream",
     "text": [
      "Perturbing graph:  76%|███████▌  | 383/506 [05:04<01:38,  1.25it/s]"
     ]
    },
    {
     "name": "stdout",
     "output_type": "stream",
     "text": [
      "GCN loss on unlabled data: 1.306090235710144\n",
      "GCN acc on unlabled data: 0.7121144389807779\n",
      "attack loss: 0.7529742121696472\n"
     ]
    },
    {
     "name": "stderr",
     "output_type": "stream",
     "text": [
      "Perturbing graph:  76%|███████▌  | 384/506 [05:04<01:38,  1.24it/s]"
     ]
    },
    {
     "name": "stdout",
     "output_type": "stream",
     "text": [
      "GCN loss on unlabled data: 1.3155555725097656\n",
      "GCN acc on unlabled data: 0.7080911935628074\n",
      "attack loss: 0.7516524195671082\n"
     ]
    },
    {
     "name": "stderr",
     "output_type": "stream",
     "text": [
      "Perturbing graph:  76%|███████▌  | 385/506 [05:05<01:37,  1.24it/s]"
     ]
    },
    {
     "name": "stdout",
     "output_type": "stream",
     "text": [
      "GCN loss on unlabled data: 1.3366373777389526\n",
      "GCN acc on unlabled data: 0.7022798390701833\n",
      "attack loss: 0.7563062906265259\n"
     ]
    },
    {
     "name": "stderr",
     "output_type": "stream",
     "text": [
      "Perturbing graph:  76%|███████▋  | 386/506 [05:06<01:36,  1.24it/s]"
     ]
    },
    {
     "name": "stdout",
     "output_type": "stream",
     "text": [
      "GCN loss on unlabled data: 1.3095550537109375\n",
      "GCN acc on unlabled data: 0.7022798390701833\n",
      "attack loss: 0.7446528673171997\n"
     ]
    },
    {
     "name": "stderr",
     "output_type": "stream",
     "text": [
      "Perturbing graph:  76%|███████▋  | 387/506 [05:07<01:34,  1.25it/s]"
     ]
    },
    {
     "name": "stdout",
     "output_type": "stream",
     "text": [
      "GCN loss on unlabled data: 1.3719147443771362\n",
      "GCN acc on unlabled data: 0.7183728207420653\n",
      "attack loss: 0.7947827577590942\n"
     ]
    },
    {
     "name": "stderr",
     "output_type": "stream",
     "text": [
      "Perturbing graph:  77%|███████▋  | 388/506 [05:08<01:33,  1.26it/s]"
     ]
    },
    {
     "name": "stdout",
     "output_type": "stream",
     "text": [
      "GCN loss on unlabled data: 1.385185956954956\n",
      "GCN acc on unlabled data: 0.7071971390254805\n",
      "attack loss: 0.8036754727363586\n"
     ]
    },
    {
     "name": "stderr",
     "output_type": "stream",
     "text": [
      "Perturbing graph:  77%|███████▋  | 389/506 [05:08<01:33,  1.26it/s]"
     ]
    },
    {
     "name": "stdout",
     "output_type": "stream",
     "text": [
      "GCN loss on unlabled data: 1.3518964052200317\n",
      "GCN acc on unlabled data: 0.7067501117568172\n",
      "attack loss: 0.7680222392082214\n"
     ]
    },
    {
     "name": "stderr",
     "output_type": "stream",
     "text": [
      "Perturbing graph:  77%|███████▋  | 390/506 [05:09<01:31,  1.27it/s]"
     ]
    },
    {
     "name": "stdout",
     "output_type": "stream",
     "text": [
      "GCN loss on unlabled data: 1.3348206281661987\n",
      "GCN acc on unlabled data: 0.7098793026374609\n",
      "attack loss: 0.7590242028236389\n"
     ]
    },
    {
     "name": "stderr",
     "output_type": "stream",
     "text": [
      "Perturbing graph:  77%|███████▋  | 391/506 [05:10<01:31,  1.26it/s]"
     ]
    },
    {
     "name": "stdout",
     "output_type": "stream",
     "text": [
      "GCN loss on unlabled data: 1.3474711179733276\n",
      "GCN acc on unlabled data: 0.7103263299061243\n",
      "attack loss: 0.778532087802887\n"
     ]
    },
    {
     "name": "stderr",
     "output_type": "stream",
     "text": [
      "Perturbing graph:  77%|███████▋  | 392/506 [05:11<01:30,  1.26it/s]"
     ]
    },
    {
     "name": "stdout",
     "output_type": "stream",
     "text": [
      "GCN loss on unlabled data: 1.3182328939437866\n",
      "GCN acc on unlabled data: 0.70317389360751\n",
      "attack loss: 0.7756564617156982\n"
     ]
    },
    {
     "name": "stderr",
     "output_type": "stream",
     "text": [
      "Perturbing graph:  78%|███████▊  | 393/506 [05:12<01:29,  1.26it/s]"
     ]
    },
    {
     "name": "stdout",
     "output_type": "stream",
     "text": [
      "GCN loss on unlabled data: 1.4043151140213013\n",
      "GCN acc on unlabled data: 0.6955744300402324\n",
      "attack loss: 0.8124196529388428\n"
     ]
    },
    {
     "name": "stderr",
     "output_type": "stream",
     "text": [
      "Perturbing graph:  78%|███████▊  | 394/506 [05:12<01:28,  1.27it/s]"
     ]
    },
    {
     "name": "stdout",
     "output_type": "stream",
     "text": [
      "GCN loss on unlabled data: 1.2962586879730225\n",
      "GCN acc on unlabled data: 0.7139025480554314\n",
      "attack loss: 0.7656480669975281\n"
     ]
    },
    {
     "name": "stderr",
     "output_type": "stream",
     "text": [
      "Perturbing graph:  78%|███████▊  | 395/506 [05:13<01:27,  1.27it/s]"
     ]
    },
    {
     "name": "stdout",
     "output_type": "stream",
     "text": [
      "GCN loss on unlabled data: 1.3907943964004517\n",
      "GCN acc on unlabled data: 0.7004917299955298\n",
      "attack loss: 0.7878877520561218\n"
     ]
    },
    {
     "name": "stderr",
     "output_type": "stream",
     "text": [
      "Perturbing graph:  78%|███████▊  | 396/506 [05:14<01:26,  1.27it/s]"
     ]
    },
    {
     "name": "stdout",
     "output_type": "stream",
     "text": [
      "GCN loss on unlabled data: 1.3751718997955322\n",
      "GCN acc on unlabled data: 0.7000447027268664\n",
      "attack loss: 0.8000099658966064\n"
     ]
    },
    {
     "name": "stderr",
     "output_type": "stream",
     "text": [
      "Perturbing graph:  78%|███████▊  | 397/506 [05:15<01:25,  1.27it/s]"
     ]
    },
    {
     "name": "stdout",
     "output_type": "stream",
     "text": [
      "GCN loss on unlabled data: 1.2850128412246704\n",
      "GCN acc on unlabled data: 0.7071971390254805\n",
      "attack loss: 0.7468565702438354\n"
     ]
    },
    {
     "name": "stderr",
     "output_type": "stream",
     "text": [
      "Perturbing graph:  79%|███████▊  | 398/506 [05:16<01:24,  1.28it/s]"
     ]
    },
    {
     "name": "stdout",
     "output_type": "stream",
     "text": [
      "GCN loss on unlabled data: 1.3706103563308716\n",
      "GCN acc on unlabled data: 0.6960214573088959\n",
      "attack loss: 0.8035731315612793\n"
     ]
    },
    {
     "name": "stderr",
     "output_type": "stream",
     "text": [
      "Perturbing graph:  79%|███████▉  | 399/506 [05:16<01:23,  1.28it/s]"
     ]
    },
    {
     "name": "stdout",
     "output_type": "stream",
     "text": [
      "GCN loss on unlabled data: 1.2936465740203857\n",
      "GCN acc on unlabled data: 0.7143495753240948\n",
      "attack loss: 0.7443814277648926\n"
     ]
    },
    {
     "name": "stderr",
     "output_type": "stream",
     "text": [
      "Perturbing graph:  79%|███████▉  | 400/506 [05:17<01:23,  1.27it/s]"
     ]
    },
    {
     "name": "stdout",
     "output_type": "stream",
     "text": [
      "GCN loss on unlabled data: 1.3662090301513672\n",
      "GCN acc on unlabled data: 0.7063030844881538\n",
      "attack loss: 0.7998837828636169\n"
     ]
    },
    {
     "name": "stderr",
     "output_type": "stream",
     "text": [
      "Perturbing graph:  79%|███████▉  | 401/506 [05:18<01:22,  1.27it/s]"
     ]
    },
    {
     "name": "stdout",
     "output_type": "stream",
     "text": [
      "GCN loss on unlabled data: 1.4277303218841553\n",
      "GCN acc on unlabled data: 0.6902101028162718\n",
      "attack loss: 0.8250249028205872\n"
     ]
    },
    {
     "name": "stderr",
     "output_type": "stream",
     "text": [
      "Perturbing graph:  79%|███████▉  | 402/506 [05:19<01:21,  1.27it/s]"
     ]
    },
    {
     "name": "stdout",
     "output_type": "stream",
     "text": [
      "GCN loss on unlabled data: 1.4134228229522705\n",
      "GCN acc on unlabled data: 0.7058560572194904\n",
      "attack loss: 0.8097618818283081\n"
     ]
    },
    {
     "name": "stderr",
     "output_type": "stream",
     "text": [
      "Perturbing graph:  80%|███████▉  | 403/506 [05:19<01:20,  1.28it/s]"
     ]
    },
    {
     "name": "stdout",
     "output_type": "stream",
     "text": [
      "GCN loss on unlabled data: 1.3679958581924438\n",
      "GCN acc on unlabled data: 0.6955744300402324\n",
      "attack loss: 0.7933706045150757\n"
     ]
    },
    {
     "name": "stderr",
     "output_type": "stream",
     "text": [
      "Perturbing graph:  80%|███████▉  | 404/506 [05:20<01:19,  1.28it/s]"
     ]
    },
    {
     "name": "stdout",
     "output_type": "stream",
     "text": [
      "GCN loss on unlabled data: 1.4113702774047852\n",
      "GCN acc on unlabled data: 0.6911041573535985\n",
      "attack loss: 0.803223192691803\n"
     ]
    },
    {
     "name": "stderr",
     "output_type": "stream",
     "text": [
      "Perturbing graph:  80%|████████  | 405/506 [05:21<01:19,  1.28it/s]"
     ]
    },
    {
     "name": "stdout",
     "output_type": "stream",
     "text": [
      "GCN loss on unlabled data: 1.3467453718185425\n",
      "GCN acc on unlabled data: 0.7089852481001341\n",
      "attack loss: 0.7839348912239075\n"
     ]
    },
    {
     "name": "stderr",
     "output_type": "stream",
     "text": [
      "Perturbing graph:  80%|████████  | 406/506 [05:22<01:19,  1.26it/s]"
     ]
    },
    {
     "name": "stdout",
     "output_type": "stream",
     "text": [
      "GCN loss on unlabled data: 1.3473825454711914\n",
      "GCN acc on unlabled data: 0.6955744300402324\n",
      "attack loss: 0.7723628878593445\n"
     ]
    },
    {
     "name": "stderr",
     "output_type": "stream",
     "text": [
      "Perturbing graph:  80%|████████  | 407/506 [05:23<01:18,  1.27it/s]"
     ]
    },
    {
     "name": "stdout",
     "output_type": "stream",
     "text": [
      "GCN loss on unlabled data: 1.4305305480957031\n",
      "GCN acc on unlabled data: 0.7018328118015199\n",
      "attack loss: 0.8110864758491516\n"
     ]
    },
    {
     "name": "stderr",
     "output_type": "stream",
     "text": [
      "Perturbing graph:  81%|████████  | 408/506 [05:23<01:17,  1.26it/s]"
     ]
    },
    {
     "name": "stdout",
     "output_type": "stream",
     "text": [
      "GCN loss on unlabled data: 1.4144474267959595\n",
      "GCN acc on unlabled data: 0.7013857845328565\n",
      "attack loss: 0.8141850829124451\n"
     ]
    },
    {
     "name": "stderr",
     "output_type": "stream",
     "text": [
      "Perturbing graph:  81%|████████  | 409/506 [05:24<01:17,  1.25it/s]"
     ]
    },
    {
     "name": "stdout",
     "output_type": "stream",
     "text": [
      "GCN loss on unlabled data: 1.4178211688995361\n",
      "GCN acc on unlabled data: 0.6875279392042914\n",
      "attack loss: 0.8057772517204285\n"
     ]
    },
    {
     "name": "stderr",
     "output_type": "stream",
     "text": [
      "Perturbing graph:  81%|████████  | 410/506 [05:25<01:16,  1.26it/s]"
     ]
    },
    {
     "name": "stdout",
     "output_type": "stream",
     "text": [
      "GCN loss on unlabled data: 1.3530458211898804\n",
      "GCN acc on unlabled data: 0.6902101028162718\n",
      "attack loss: 0.7901031970977783\n"
     ]
    },
    {
     "name": "stderr",
     "output_type": "stream",
     "text": [
      "Perturbing graph:  81%|████████  | 411/506 [05:26<01:15,  1.27it/s]"
     ]
    },
    {
     "name": "stdout",
     "output_type": "stream",
     "text": [
      "GCN loss on unlabled data: 1.369505524635315\n",
      "GCN acc on unlabled data: 0.6902101028162718\n",
      "attack loss: 0.7791616320610046\n"
     ]
    },
    {
     "name": "stderr",
     "output_type": "stream",
     "text": [
      "Perturbing graph:  81%|████████▏ | 412/506 [05:27<01:14,  1.26it/s]"
     ]
    },
    {
     "name": "stdout",
     "output_type": "stream",
     "text": [
      "GCN loss on unlabled data: 1.3755056858062744\n",
      "GCN acc on unlabled data: 0.7018328118015199\n",
      "attack loss: 0.7852503061294556\n"
     ]
    },
    {
     "name": "stderr",
     "output_type": "stream",
     "text": [
      "Perturbing graph:  82%|████████▏ | 413/506 [05:27<01:13,  1.27it/s]"
     ]
    },
    {
     "name": "stdout",
     "output_type": "stream",
     "text": [
      "GCN loss on unlabled data: 1.3787401914596558\n",
      "GCN acc on unlabled data: 0.7004917299955298\n",
      "attack loss: 0.8020596504211426\n"
     ]
    },
    {
     "name": "stderr",
     "output_type": "stream",
     "text": [
      "Perturbing graph:  82%|████████▏ | 414/506 [05:28<01:12,  1.27it/s]"
     ]
    },
    {
     "name": "stdout",
     "output_type": "stream",
     "text": [
      "GCN loss on unlabled data: 1.3792226314544678\n",
      "GCN acc on unlabled data: 0.7009387572641932\n",
      "attack loss: 0.7952760457992554\n"
     ]
    },
    {
     "name": "stderr",
     "output_type": "stream",
     "text": [
      "Perturbing graph:  82%|████████▏ | 415/506 [05:29<01:11,  1.27it/s]"
     ]
    },
    {
     "name": "stdout",
     "output_type": "stream",
     "text": [
      "GCN loss on unlabled data: 1.4382717609405518\n",
      "GCN acc on unlabled data: 0.681269557443004\n",
      "attack loss: 0.8257866501808167\n"
     ]
    },
    {
     "name": "stderr",
     "output_type": "stream",
     "text": [
      "Perturbing graph:  82%|████████▏ | 416/506 [05:30<01:11,  1.27it/s]"
     ]
    },
    {
     "name": "stdout",
     "output_type": "stream",
     "text": [
      "GCN loss on unlabled data: 1.4407131671905518\n",
      "GCN acc on unlabled data: 0.7009387572641932\n",
      "attack loss: 0.843632161617279\n"
     ]
    },
    {
     "name": "stderr",
     "output_type": "stream",
     "text": [
      "Perturbing graph:  82%|████████▏ | 417/506 [05:31<01:10,  1.26it/s]"
     ]
    },
    {
     "name": "stdout",
     "output_type": "stream",
     "text": [
      "GCN loss on unlabled data: 1.3508402109146118\n",
      "GCN acc on unlabled data: 0.6960214573088959\n",
      "attack loss: 0.7866401672363281\n"
     ]
    },
    {
     "name": "stderr",
     "output_type": "stream",
     "text": [
      "Perturbing graph:  83%|████████▎ | 418/506 [05:31<01:10,  1.25it/s]"
     ]
    },
    {
     "name": "stdout",
     "output_type": "stream",
     "text": [
      "GCN loss on unlabled data: 1.3934788703918457\n",
      "GCN acc on unlabled data: 0.6937863209655789\n",
      "attack loss: 0.8073650598526001\n"
     ]
    },
    {
     "name": "stderr",
     "output_type": "stream",
     "text": [
      "Perturbing graph:  83%|████████▎ | 419/506 [05:32<01:09,  1.25it/s]"
     ]
    },
    {
     "name": "stdout",
     "output_type": "stream",
     "text": [
      "GCN loss on unlabled data: 1.3308014869689941\n",
      "GCN acc on unlabled data: 0.70317389360751\n",
      "attack loss: 0.7635287642478943\n"
     ]
    },
    {
     "name": "stderr",
     "output_type": "stream",
     "text": [
      "Perturbing graph:  83%|████████▎ | 420/506 [05:33<01:09,  1.24it/s]"
     ]
    },
    {
     "name": "stdout",
     "output_type": "stream",
     "text": [
      "GCN loss on unlabled data: 1.5004745721817017\n",
      "GCN acc on unlabled data: 0.6696468484577559\n",
      "attack loss: 0.8716159462928772\n"
     ]
    },
    {
     "name": "stderr",
     "output_type": "stream",
     "text": [
      "Perturbing graph:  83%|████████▎ | 421/506 [05:34<01:08,  1.24it/s]"
     ]
    },
    {
     "name": "stdout",
     "output_type": "stream",
     "text": [
      "GCN loss on unlabled data: 1.3534296751022339\n",
      "GCN acc on unlabled data: 0.6888690210102817\n",
      "attack loss: 0.7767438888549805\n"
     ]
    },
    {
     "name": "stderr",
     "output_type": "stream",
     "text": [
      "Perturbing graph:  83%|████████▎ | 422/506 [05:35<01:06,  1.26it/s]"
     ]
    },
    {
     "name": "stdout",
     "output_type": "stream",
     "text": [
      "GCN loss on unlabled data: 1.3968812227249146\n",
      "GCN acc on unlabled data: 0.6991506481895395\n",
      "attack loss: 0.8087780475616455\n"
     ]
    },
    {
     "name": "stderr",
     "output_type": "stream",
     "text": [
      "Perturbing graph:  84%|████████▎ | 423/506 [05:35<01:06,  1.25it/s]"
     ]
    },
    {
     "name": "stdout",
     "output_type": "stream",
     "text": [
      "GCN loss on unlabled data: 1.4394510984420776\n",
      "GCN acc on unlabled data: 0.6884219937416183\n",
      "attack loss: 0.8338543176651001\n"
     ]
    },
    {
     "name": "stderr",
     "output_type": "stream",
     "text": [
      "Perturbing graph:  84%|████████▍ | 424/506 [05:36<01:04,  1.26it/s]"
     ]
    },
    {
     "name": "stdout",
     "output_type": "stream",
     "text": [
      "GCN loss on unlabled data: 1.4293791055679321\n",
      "GCN acc on unlabled data: 0.6879749664729549\n",
      "attack loss: 0.8248499035835266\n"
     ]
    },
    {
     "name": "stderr",
     "output_type": "stream",
     "text": [
      "Perturbing graph:  84%|████████▍ | 425/506 [05:37<01:03,  1.27it/s]"
     ]
    },
    {
     "name": "stdout",
     "output_type": "stream",
     "text": [
      "GCN loss on unlabled data: 1.3993970155715942\n",
      "GCN acc on unlabled data: 0.6982565936522128\n",
      "attack loss: 0.8071330189704895\n"
     ]
    },
    {
     "name": "stderr",
     "output_type": "stream",
     "text": [
      "Perturbing graph:  84%|████████▍ | 426/506 [05:38<01:03,  1.26it/s]"
     ]
    },
    {
     "name": "stdout",
     "output_type": "stream",
     "text": [
      "GCN loss on unlabled data: 1.4247370958328247\n",
      "GCN acc on unlabled data: 0.6870809119356281\n",
      "attack loss: 0.8265317678451538\n"
     ]
    },
    {
     "name": "stderr",
     "output_type": "stream",
     "text": [
      "Perturbing graph:  84%|████████▍ | 427/506 [05:38<01:02,  1.26it/s]"
     ]
    },
    {
     "name": "stdout",
     "output_type": "stream",
     "text": [
      "GCN loss on unlabled data: 1.4579980373382568\n",
      "GCN acc on unlabled data: 0.6714349575324094\n",
      "attack loss: 0.8208923935890198\n"
     ]
    },
    {
     "name": "stderr",
     "output_type": "stream",
     "text": [
      "Perturbing graph:  85%|████████▍ | 428/506 [05:39<01:01,  1.27it/s]"
     ]
    },
    {
     "name": "stdout",
     "output_type": "stream",
     "text": [
      "GCN loss on unlabled data: 1.4184019565582275\n",
      "GCN acc on unlabled data: 0.6879749664729549\n",
      "attack loss: 0.8224866986274719\n"
     ]
    },
    {
     "name": "stderr",
     "output_type": "stream",
     "text": [
      "Perturbing graph:  85%|████████▍ | 429/506 [05:40<01:00,  1.27it/s]"
     ]
    },
    {
     "name": "stdout",
     "output_type": "stream",
     "text": [
      "GCN loss on unlabled data: 1.4186666011810303\n",
      "GCN acc on unlabled data: 0.6821636119803308\n",
      "attack loss: 0.8261526226997375\n"
     ]
    },
    {
     "name": "stderr",
     "output_type": "stream",
     "text": [
      "Perturbing graph:  85%|████████▍ | 430/506 [05:41<01:00,  1.27it/s]"
     ]
    },
    {
     "name": "stdout",
     "output_type": "stream",
     "text": [
      "GCN loss on unlabled data: 1.3933484554290771\n",
      "GCN acc on unlabled data: 0.6911041573535985\n",
      "attack loss: 0.8148084282875061\n"
     ]
    },
    {
     "name": "stderr",
     "output_type": "stream",
     "text": [
      "Perturbing graph:  85%|████████▌ | 431/506 [05:42<00:59,  1.27it/s]"
     ]
    },
    {
     "name": "stdout",
     "output_type": "stream",
     "text": [
      "GCN loss on unlabled data: 1.3780794143676758\n",
      "GCN acc on unlabled data: 0.7004917299955298\n",
      "attack loss: 0.8095824122428894\n"
     ]
    },
    {
     "name": "stderr",
     "output_type": "stream",
     "text": [
      "Perturbing graph:  85%|████████▌ | 432/506 [05:42<00:58,  1.26it/s]"
     ]
    },
    {
     "name": "stdout",
     "output_type": "stream",
     "text": [
      "GCN loss on unlabled data: 1.4181239604949951\n",
      "GCN acc on unlabled data: 0.6906571300849352\n",
      "attack loss: 0.8311503529548645\n"
     ]
    },
    {
     "name": "stderr",
     "output_type": "stream",
     "text": [
      "Perturbing graph:  86%|████████▌ | 433/506 [05:43<00:57,  1.26it/s]"
     ]
    },
    {
     "name": "stdout",
     "output_type": "stream",
     "text": [
      "GCN loss on unlabled data: 1.3905470371246338\n",
      "GCN acc on unlabled data: 0.6960214573088959\n",
      "attack loss: 0.8155947327613831\n"
     ]
    },
    {
     "name": "stderr",
     "output_type": "stream",
     "text": [
      "Perturbing graph:  86%|████████▌ | 434/506 [05:44<00:56,  1.27it/s]"
     ]
    },
    {
     "name": "stdout",
     "output_type": "stream",
     "text": [
      "GCN loss on unlabled data: 1.4244738817214966\n",
      "GCN acc on unlabled data: 0.6928922664282522\n",
      "attack loss: 0.8231347799301147\n"
     ]
    },
    {
     "name": "stderr",
     "output_type": "stream",
     "text": [
      "Perturbing graph:  86%|████████▌ | 435/506 [05:45<00:56,  1.26it/s]"
     ]
    },
    {
     "name": "stdout",
     "output_type": "stream",
     "text": [
      "GCN loss on unlabled data: 1.3919038772583008\n",
      "GCN acc on unlabled data: 0.6897630755476084\n",
      "attack loss: 0.8165128827095032\n"
     ]
    },
    {
     "name": "stderr",
     "output_type": "stream",
     "text": [
      "Perturbing graph:  86%|████████▌ | 436/506 [05:46<00:55,  1.26it/s]"
     ]
    },
    {
     "name": "stdout",
     "output_type": "stream",
     "text": [
      "GCN loss on unlabled data: 1.4924031496047974\n",
      "GCN acc on unlabled data: 0.6937863209655789\n",
      "attack loss: 0.8702054619789124\n"
     ]
    },
    {
     "name": "stderr",
     "output_type": "stream",
     "text": [
      "Perturbing graph:  86%|████████▋ | 437/506 [05:46<00:54,  1.26it/s]"
     ]
    },
    {
     "name": "stdout",
     "output_type": "stream",
     "text": [
      "GCN loss on unlabled data: 1.4202992916107178\n",
      "GCN acc on unlabled data: 0.6888690210102817\n",
      "attack loss: 0.8301295042037964\n"
     ]
    },
    {
     "name": "stderr",
     "output_type": "stream",
     "text": [
      "Perturbing graph:  87%|████████▋ | 438/506 [05:47<00:53,  1.27it/s]"
     ]
    },
    {
     "name": "stdout",
     "output_type": "stream",
     "text": [
      "GCN loss on unlabled data: 1.4617810249328613\n",
      "GCN acc on unlabled data: 0.6982565936522128\n",
      "attack loss: 0.8611506819725037\n"
     ]
    },
    {
     "name": "stderr",
     "output_type": "stream",
     "text": [
      "Perturbing graph:  87%|████████▋ | 439/506 [05:48<00:52,  1.27it/s]"
     ]
    },
    {
     "name": "stdout",
     "output_type": "stream",
     "text": [
      "GCN loss on unlabled data: 1.4811879396438599\n",
      "GCN acc on unlabled data: 0.6736700938757264\n",
      "attack loss: 0.8560782670974731\n"
     ]
    },
    {
     "name": "stderr",
     "output_type": "stream",
     "text": [
      "Perturbing graph:  87%|████████▋ | 440/506 [05:49<00:52,  1.26it/s]"
     ]
    },
    {
     "name": "stdout",
     "output_type": "stream",
     "text": [
      "GCN loss on unlabled data: 1.4183017015457153\n",
      "GCN acc on unlabled data: 0.6772463120250335\n",
      "attack loss: 0.8258371949195862\n"
     ]
    },
    {
     "name": "stderr",
     "output_type": "stream",
     "text": [
      "Perturbing graph:  87%|████████▋ | 441/506 [05:50<00:51,  1.25it/s]"
     ]
    },
    {
     "name": "stdout",
     "output_type": "stream",
     "text": [
      "GCN loss on unlabled data: 1.4260724782943726\n",
      "GCN acc on unlabled data: 0.6987036209208762\n",
      "attack loss: 0.8391836881637573\n"
     ]
    },
    {
     "name": "stderr",
     "output_type": "stream",
     "text": [
      "Perturbing graph:  87%|████████▋ | 442/506 [05:50<00:51,  1.25it/s]"
     ]
    },
    {
     "name": "stdout",
     "output_type": "stream",
     "text": [
      "GCN loss on unlabled data: 1.4811369180679321\n",
      "GCN acc on unlabled data: 0.6942333482342423\n",
      "attack loss: 0.8572271466255188\n"
     ]
    },
    {
     "name": "stderr",
     "output_type": "stream",
     "text": [
      "Perturbing graph:  88%|████████▊ | 443/506 [05:51<00:50,  1.25it/s]"
     ]
    },
    {
     "name": "stdout",
     "output_type": "stream",
     "text": [
      "GCN loss on unlabled data: 1.4811928272247314\n",
      "GCN acc on unlabled data: 0.6911041573535985\n",
      "attack loss: 0.8640129566192627\n"
     ]
    },
    {
     "name": "stderr",
     "output_type": "stream",
     "text": [
      "Perturbing graph:  88%|████████▊ | 444/506 [05:52<00:49,  1.25it/s]"
     ]
    },
    {
     "name": "stdout",
     "output_type": "stream",
     "text": [
      "GCN loss on unlabled data: 1.4325467348098755\n",
      "GCN acc on unlabled data: 0.6888690210102817\n",
      "attack loss: 0.8279951810836792\n"
     ]
    },
    {
     "name": "stderr",
     "output_type": "stream",
     "text": [
      "Perturbing graph:  88%|████████▊ | 445/506 [05:53<00:48,  1.25it/s]"
     ]
    },
    {
     "name": "stdout",
     "output_type": "stream",
     "text": [
      "GCN loss on unlabled data: 1.4642051458358765\n",
      "GCN acc on unlabled data: 0.6879749664729549\n",
      "attack loss: 0.8613904714584351\n"
     ]
    },
    {
     "name": "stderr",
     "output_type": "stream",
     "text": [
      "Perturbing graph:  88%|████████▊ | 446/506 [05:54<00:48,  1.25it/s]"
     ]
    },
    {
     "name": "stdout",
     "output_type": "stream",
     "text": [
      "GCN loss on unlabled data: 1.5472205877304077\n",
      "GCN acc on unlabled data: 0.6808225301743407\n",
      "attack loss: 0.8906089067459106\n"
     ]
    },
    {
     "name": "stderr",
     "output_type": "stream",
     "text": [
      "Perturbing graph:  88%|████████▊ | 447/506 [05:54<00:47,  1.24it/s]"
     ]
    },
    {
     "name": "stdout",
     "output_type": "stream",
     "text": [
      "GCN loss on unlabled data: 1.4433754682540894\n",
      "GCN acc on unlabled data: 0.6723290120697363\n",
      "attack loss: 0.8357052803039551\n"
     ]
    },
    {
     "name": "stderr",
     "output_type": "stream",
     "text": [
      "Perturbing graph:  89%|████████▊ | 448/506 [05:55<00:46,  1.25it/s]"
     ]
    },
    {
     "name": "stdout",
     "output_type": "stream",
     "text": [
      "GCN loss on unlabled data: 1.3610209226608276\n",
      "GCN acc on unlabled data: 0.6924452391595888\n",
      "attack loss: 0.7851519584655762\n"
     ]
    },
    {
     "name": "stderr",
     "output_type": "stream",
     "text": [
      "Perturbing graph:  89%|████████▊ | 449/506 [05:56<00:45,  1.25it/s]"
     ]
    },
    {
     "name": "stdout",
     "output_type": "stream",
     "text": [
      "GCN loss on unlabled data: 1.4267600774765015\n",
      "GCN acc on unlabled data: 0.683504693786321\n",
      "attack loss: 0.8265546560287476\n"
     ]
    },
    {
     "name": "stderr",
     "output_type": "stream",
     "text": [
      "Perturbing graph:  89%|████████▉ | 450/506 [05:57<00:45,  1.24it/s]"
     ]
    },
    {
     "name": "stdout",
     "output_type": "stream",
     "text": [
      "GCN loss on unlabled data: 1.461071252822876\n",
      "GCN acc on unlabled data: 0.6821636119803308\n",
      "attack loss: 0.8466119170188904\n"
     ]
    },
    {
     "name": "stderr",
     "output_type": "stream",
     "text": [
      "Perturbing graph:  89%|████████▉ | 451/506 [05:58<00:44,  1.23it/s]"
     ]
    },
    {
     "name": "stdout",
     "output_type": "stream",
     "text": [
      "GCN loss on unlabled data: 1.4380457401275635\n",
      "GCN acc on unlabled data: 0.6781403665623603\n",
      "attack loss: 0.8394461274147034\n"
     ]
    },
    {
     "name": "stderr",
     "output_type": "stream",
     "text": [
      "Perturbing graph:  89%|████████▉ | 452/506 [05:58<00:43,  1.23it/s]"
     ]
    },
    {
     "name": "stdout",
     "output_type": "stream",
     "text": [
      "GCN loss on unlabled data: 1.4644277095794678\n",
      "GCN acc on unlabled data: 0.6776933392936969\n",
      "attack loss: 0.840100884437561\n"
     ]
    },
    {
     "name": "stderr",
     "output_type": "stream",
     "text": [
      "Perturbing graph:  90%|████████▉ | 453/506 [05:59<00:42,  1.24it/s]"
     ]
    },
    {
     "name": "stdout",
     "output_type": "stream",
     "text": [
      "GCN loss on unlabled data: 1.4980065822601318\n",
      "GCN acc on unlabled data: 0.6799284756370139\n",
      "attack loss: 0.8558264374732971\n"
     ]
    },
    {
     "name": "stderr",
     "output_type": "stream",
     "text": [
      "Perturbing graph:  90%|████████▉ | 454/506 [06:00<00:41,  1.25it/s]"
     ]
    },
    {
     "name": "stdout",
     "output_type": "stream",
     "text": [
      "GCN loss on unlabled data: 1.481616735458374\n",
      "GCN acc on unlabled data: 0.683504693786321\n",
      "attack loss: 0.8533494472503662\n"
     ]
    },
    {
     "name": "stderr",
     "output_type": "stream",
     "text": [
      "Perturbing graph:  90%|████████▉ | 455/506 [06:01<00:41,  1.24it/s]"
     ]
    },
    {
     "name": "stdout",
     "output_type": "stream",
     "text": [
      "GCN loss on unlabled data: 1.415508508682251\n",
      "GCN acc on unlabled data: 0.6870809119356281\n",
      "attack loss: 0.8310859799385071\n"
     ]
    },
    {
     "name": "stderr",
     "output_type": "stream",
     "text": [
      "Perturbing graph:  90%|█████████ | 456/506 [06:02<00:40,  1.24it/s]"
     ]
    },
    {
     "name": "stdout",
     "output_type": "stream",
     "text": [
      "GCN loss on unlabled data: 1.5296339988708496\n",
      "GCN acc on unlabled data: 0.6884219937416183\n",
      "attack loss: 0.8874658942222595\n"
     ]
    },
    {
     "name": "stderr",
     "output_type": "stream",
     "text": [
      "Perturbing graph:  90%|█████████ | 457/506 [06:02<00:39,  1.24it/s]"
     ]
    },
    {
     "name": "stdout",
     "output_type": "stream",
     "text": [
      "GCN loss on unlabled data: 1.4569298028945923\n",
      "GCN acc on unlabled data: 0.6790344210996871\n",
      "attack loss: 0.8291485905647278\n"
     ]
    },
    {
     "name": "stderr",
     "output_type": "stream",
     "text": [
      "Perturbing graph:  91%|█████████ | 458/506 [06:03<00:39,  1.21it/s]"
     ]
    },
    {
     "name": "stdout",
     "output_type": "stream",
     "text": [
      "GCN loss on unlabled data: 1.4088225364685059\n",
      "GCN acc on unlabled data: 0.6826106392489942\n",
      "attack loss: 0.8314948081970215\n"
     ]
    },
    {
     "name": "stderr",
     "output_type": "stream",
     "text": [
      "Perturbing graph:  91%|█████████ | 459/506 [06:04<00:38,  1.22it/s]"
     ]
    },
    {
     "name": "stdout",
     "output_type": "stream",
     "text": [
      "GCN loss on unlabled data: 1.5077308416366577\n",
      "GCN acc on unlabled data: 0.6727760393383997\n",
      "attack loss: 0.8645690679550171\n"
     ]
    },
    {
     "name": "stderr",
     "output_type": "stream",
     "text": [
      "Perturbing graph:  91%|█████████ | 460/506 [06:05<00:37,  1.22it/s]"
     ]
    },
    {
     "name": "stdout",
     "output_type": "stream",
     "text": [
      "GCN loss on unlabled data: 1.4554060697555542\n",
      "GCN acc on unlabled data: 0.6759052302190434\n",
      "attack loss: 0.8345787525177002\n"
     ]
    },
    {
     "name": "stderr",
     "output_type": "stream",
     "text": [
      "Perturbing graph:  91%|█████████ | 461/506 [06:06<00:36,  1.22it/s]"
     ]
    },
    {
     "name": "stdout",
     "output_type": "stream",
     "text": [
      "GCN loss on unlabled data: 1.5057101249694824\n",
      "GCN acc on unlabled data: 0.6821636119803308\n",
      "attack loss: 0.8568031787872314\n"
     ]
    },
    {
     "name": "stderr",
     "output_type": "stream",
     "text": [
      "Perturbing graph:  91%|█████████▏| 462/506 [06:07<00:35,  1.24it/s]"
     ]
    },
    {
     "name": "stdout",
     "output_type": "stream",
     "text": [
      "GCN loss on unlabled data: 1.4828673601150513\n",
      "GCN acc on unlabled data: 0.6808225301743407\n",
      "attack loss: 0.8465359210968018\n"
     ]
    },
    {
     "name": "stderr",
     "output_type": "stream",
     "text": [
      "Perturbing graph:  92%|█████████▏| 463/506 [06:07<00:34,  1.24it/s]"
     ]
    },
    {
     "name": "stdout",
     "output_type": "stream",
     "text": [
      "GCN loss on unlabled data: 1.4937269687652588\n",
      "GCN acc on unlabled data: 0.6785873938310237\n",
      "attack loss: 0.8713192939758301\n"
     ]
    },
    {
     "name": "stderr",
     "output_type": "stream",
     "text": [
      "Perturbing graph:  92%|█████████▏| 464/506 [06:08<00:33,  1.25it/s]"
     ]
    },
    {
     "name": "stdout",
     "output_type": "stream",
     "text": [
      "GCN loss on unlabled data: 1.5243273973464966\n",
      "GCN acc on unlabled data: 0.6616003576218149\n",
      "attack loss: 0.8716537952423096\n"
     ]
    },
    {
     "name": "stderr",
     "output_type": "stream",
     "text": [
      "Perturbing graph:  92%|█████████▏| 465/506 [06:09<00:32,  1.26it/s]"
     ]
    },
    {
     "name": "stdout",
     "output_type": "stream",
     "text": [
      "GCN loss on unlabled data: 1.4525554180145264\n",
      "GCN acc on unlabled data: 0.6678587393831024\n",
      "attack loss: 0.8426856994628906\n"
     ]
    },
    {
     "name": "stderr",
     "output_type": "stream",
     "text": [
      "Perturbing graph:  92%|█████████▏| 466/506 [06:10<00:31,  1.26it/s]"
     ]
    },
    {
     "name": "stdout",
     "output_type": "stream",
     "text": [
      "GCN loss on unlabled data: 1.5242842435836792\n",
      "GCN acc on unlabled data: 0.6687527939204292\n",
      "attack loss: 0.8701693415641785\n"
     ]
    },
    {
     "name": "stderr",
     "output_type": "stream",
     "text": [
      "Perturbing graph:  92%|█████████▏| 467/506 [06:10<00:30,  1.26it/s]"
     ]
    },
    {
     "name": "stdout",
     "output_type": "stream",
     "text": [
      "GCN loss on unlabled data: 1.450883150100708\n",
      "GCN acc on unlabled data: 0.6781403665623603\n",
      "attack loss: 0.8437299132347107\n"
     ]
    },
    {
     "name": "stderr",
     "output_type": "stream",
     "text": [
      "Perturbing graph:  92%|█████████▏| 468/506 [06:11<00:30,  1.26it/s]"
     ]
    },
    {
     "name": "stdout",
     "output_type": "stream",
     "text": [
      "GCN loss on unlabled data: 1.51896333694458\n",
      "GCN acc on unlabled data: 0.6633884666964686\n",
      "attack loss: 0.870036244392395\n"
     ]
    },
    {
     "name": "stderr",
     "output_type": "stream",
     "text": [
      "Perturbing graph:  93%|█████████▎| 469/506 [06:12<00:29,  1.26it/s]"
     ]
    },
    {
     "name": "stdout",
     "output_type": "stream",
     "text": [
      "GCN loss on unlabled data: 1.5643482208251953\n",
      "GCN acc on unlabled data: 0.6745641484130532\n",
      "attack loss: 0.8967968225479126\n"
     ]
    },
    {
     "name": "stderr",
     "output_type": "stream",
     "text": [
      "Perturbing graph:  93%|█████████▎| 470/506 [06:13<00:28,  1.27it/s]"
     ]
    },
    {
     "name": "stdout",
     "output_type": "stream",
     "text": [
      "GCN loss on unlabled data: 1.552617073059082\n",
      "GCN acc on unlabled data: 0.6763522574877068\n",
      "attack loss: 0.8964948058128357\n"
     ]
    },
    {
     "name": "stderr",
     "output_type": "stream",
     "text": [
      "Perturbing graph:  93%|█████████▎| 471/506 [06:14<00:27,  1.27it/s]"
     ]
    },
    {
     "name": "stdout",
     "output_type": "stream",
     "text": [
      "GCN loss on unlabled data: 1.4858583211898804\n",
      "GCN acc on unlabled data: 0.6709879302637461\n",
      "attack loss: 0.8517941832542419\n"
     ]
    },
    {
     "name": "stderr",
     "output_type": "stream",
     "text": [
      "Perturbing graph:  93%|█████████▎| 472/506 [06:14<00:26,  1.27it/s]"
     ]
    },
    {
     "name": "stdout",
     "output_type": "stream",
     "text": [
      "GCN loss on unlabled data: 1.5286486148834229\n",
      "GCN acc on unlabled data: 0.6736700938757264\n",
      "attack loss: 0.8862895965576172\n"
     ]
    },
    {
     "name": "stderr",
     "output_type": "stream",
     "text": [
      "Perturbing graph:  93%|█████████▎| 473/506 [06:15<00:25,  1.27it/s]"
     ]
    },
    {
     "name": "stdout",
     "output_type": "stream",
     "text": [
      "GCN loss on unlabled data: 1.4826197624206543\n",
      "GCN acc on unlabled data: 0.6696468484577559\n",
      "attack loss: 0.8687030076980591\n"
     ]
    },
    {
     "name": "stderr",
     "output_type": "stream",
     "text": [
      "Perturbing graph:  94%|█████████▎| 474/506 [06:16<00:25,  1.28it/s]"
     ]
    },
    {
     "name": "stdout",
     "output_type": "stream",
     "text": [
      "GCN loss on unlabled data: 1.490770697593689\n",
      "GCN acc on unlabled data: 0.6785873938310237\n",
      "attack loss: 0.8613837957382202\n"
     ]
    },
    {
     "name": "stderr",
     "output_type": "stream",
     "text": [
      "Perturbing graph:  94%|█████████▍| 475/506 [06:17<00:24,  1.28it/s]"
     ]
    },
    {
     "name": "stdout",
     "output_type": "stream",
     "text": [
      "GCN loss on unlabled data: 1.4539587497711182\n",
      "GCN acc on unlabled data: 0.6656236030397854\n",
      "attack loss: 0.8331296443939209\n"
     ]
    },
    {
     "name": "stderr",
     "output_type": "stream",
     "text": [
      "Perturbing graph:  94%|█████████▍| 476/506 [06:18<00:23,  1.28it/s]"
     ]
    },
    {
     "name": "stdout",
     "output_type": "stream",
     "text": [
      "GCN loss on unlabled data: 1.5015424489974976\n",
      "GCN acc on unlabled data: 0.6759052302190434\n",
      "attack loss: 0.8650556802749634\n"
     ]
    },
    {
     "name": "stderr",
     "output_type": "stream",
     "text": [
      "Perturbing graph:  94%|█████████▍| 477/506 [06:18<00:22,  1.27it/s]"
     ]
    },
    {
     "name": "stdout",
     "output_type": "stream",
     "text": [
      "GCN loss on unlabled data: 1.474492073059082\n",
      "GCN acc on unlabled data: 0.6830576665176576\n",
      "attack loss: 0.8777536153793335\n"
     ]
    },
    {
     "name": "stderr",
     "output_type": "stream",
     "text": [
      "Perturbing graph:  94%|█████████▍| 478/506 [06:19<00:22,  1.27it/s]"
     ]
    },
    {
     "name": "stdout",
     "output_type": "stream",
     "text": [
      "GCN loss on unlabled data: 1.4869436025619507\n",
      "GCN acc on unlabled data: 0.667411712114439\n",
      "attack loss: 0.8688178658485413\n"
     ]
    },
    {
     "name": "stderr",
     "output_type": "stream",
     "text": [
      "Perturbing graph:  95%|█████████▍| 479/506 [06:20<00:21,  1.27it/s]"
     ]
    },
    {
     "name": "stdout",
     "output_type": "stream",
     "text": [
      "GCN loss on unlabled data: 1.5775729417800903\n",
      "GCN acc on unlabled data: 0.6611533303531516\n",
      "attack loss: 0.8978627920150757\n"
     ]
    },
    {
     "name": "stderr",
     "output_type": "stream",
     "text": [
      "Perturbing graph:  95%|█████████▍| 480/506 [06:21<00:20,  1.28it/s]"
     ]
    },
    {
     "name": "stdout",
     "output_type": "stream",
     "text": [
      "GCN loss on unlabled data: 1.482567310333252\n",
      "GCN acc on unlabled data: 0.683504693786321\n",
      "attack loss: 0.8809093832969666\n"
     ]
    },
    {
     "name": "stderr",
     "output_type": "stream",
     "text": [
      "Perturbing graph:  95%|█████████▌| 481/506 [06:22<00:19,  1.26it/s]"
     ]
    },
    {
     "name": "stdout",
     "output_type": "stream",
     "text": [
      "GCN loss on unlabled data: 1.536125898361206\n",
      "GCN acc on unlabled data: 0.6848457755923112\n",
      "attack loss: 0.9026798009872437\n"
     ]
    },
    {
     "name": "stderr",
     "output_type": "stream",
     "text": [
      "Perturbing graph:  95%|█████████▌| 482/506 [06:22<00:19,  1.24it/s]"
     ]
    },
    {
     "name": "stdout",
     "output_type": "stream",
     "text": [
      "GCN loss on unlabled data: 1.485058069229126\n",
      "GCN acc on unlabled data: 0.6848457755923112\n",
      "attack loss: 0.8625270128250122\n"
     ]
    },
    {
     "name": "stderr",
     "output_type": "stream",
     "text": [
      "Perturbing graph:  95%|█████████▌| 483/506 [06:23<00:18,  1.25it/s]"
     ]
    },
    {
     "name": "stdout",
     "output_type": "stream",
     "text": [
      "GCN loss on unlabled data: 1.5767090320587158\n",
      "GCN acc on unlabled data: 0.6821636119803308\n",
      "attack loss: 0.9202275276184082\n"
     ]
    },
    {
     "name": "stderr",
     "output_type": "stream",
     "text": [
      "Perturbing graph:  96%|█████████▌| 484/506 [06:24<00:17,  1.25it/s]"
     ]
    },
    {
     "name": "stdout",
     "output_type": "stream",
     "text": [
      "GCN loss on unlabled data: 1.6097478866577148\n",
      "GCN acc on unlabled data: 0.6696468484577559\n",
      "attack loss: 0.926800012588501\n"
     ]
    },
    {
     "name": "stderr",
     "output_type": "stream",
     "text": [
      "Perturbing graph:  96%|█████████▌| 485/506 [06:25<00:16,  1.24it/s]"
     ]
    },
    {
     "name": "stdout",
     "output_type": "stream",
     "text": [
      "GCN loss on unlabled data: 1.5344717502593994\n",
      "GCN acc on unlabled data: 0.6691998211890926\n",
      "attack loss: 0.8879116773605347\n"
     ]
    },
    {
     "name": "stderr",
     "output_type": "stream",
     "text": [
      "Perturbing graph:  96%|█████████▌| 486/506 [06:26<00:16,  1.24it/s]"
     ]
    },
    {
     "name": "stdout",
     "output_type": "stream",
     "text": [
      "GCN loss on unlabled data: 1.4566069841384888\n",
      "GCN acc on unlabled data: 0.6696468484577559\n",
      "attack loss: 0.8600464463233948\n"
     ]
    },
    {
     "name": "stderr",
     "output_type": "stream",
     "text": [
      "Perturbing graph:  96%|█████████▌| 487/506 [06:26<00:15,  1.24it/s]"
     ]
    },
    {
     "name": "stdout",
     "output_type": "stream",
     "text": [
      "GCN loss on unlabled data: 1.538933277130127\n",
      "GCN acc on unlabled data: 0.6741171211443898\n",
      "attack loss: 0.8934931755065918\n"
     ]
    },
    {
     "name": "stderr",
     "output_type": "stream",
     "text": [
      "Perturbing graph:  96%|█████████▋| 488/506 [06:27<00:14,  1.25it/s]"
     ]
    },
    {
     "name": "stdout",
     "output_type": "stream",
     "text": [
      "GCN loss on unlabled data: 1.6475030183792114\n",
      "GCN acc on unlabled data: 0.6566830576665177\n",
      "attack loss: 0.9479843974113464\n"
     ]
    },
    {
     "name": "stderr",
     "output_type": "stream",
     "text": [
      "Perturbing graph:  97%|█████████▋| 489/506 [06:28<00:13,  1.26it/s]"
     ]
    },
    {
     "name": "stdout",
     "output_type": "stream",
     "text": [
      "GCN loss on unlabled data: 1.4917634725570679\n",
      "GCN acc on unlabled data: 0.6647295485024587\n",
      "attack loss: 0.8708112239837646\n"
     ]
    },
    {
     "name": "stderr",
     "output_type": "stream",
     "text": [
      "Perturbing graph:  97%|█████████▋| 490/506 [06:29<00:12,  1.26it/s]"
     ]
    },
    {
     "name": "stdout",
     "output_type": "stream",
     "text": [
      "GCN loss on unlabled data: 1.5038001537322998\n",
      "GCN acc on unlabled data: 0.6718819848010729\n",
      "attack loss: 0.8773386478424072\n"
     ]
    },
    {
     "name": "stderr",
     "output_type": "stream",
     "text": [
      "Perturbing graph:  97%|█████████▋| 491/506 [06:30<00:11,  1.26it/s]"
     ]
    },
    {
     "name": "stdout",
     "output_type": "stream",
     "text": [
      "GCN loss on unlabled data: 1.552483081817627\n",
      "GCN acc on unlabled data: 0.6624944121591417\n",
      "attack loss: 0.9006093144416809\n"
     ]
    },
    {
     "name": "stderr",
     "output_type": "stream",
     "text": [
      "Perturbing graph:  97%|█████████▋| 492/506 [06:30<00:11,  1.26it/s]"
     ]
    },
    {
     "name": "stdout",
     "output_type": "stream",
     "text": [
      "GCN loss on unlabled data: 1.5480296611785889\n",
      "GCN acc on unlabled data: 0.6669646848457756\n",
      "attack loss: 0.8899102210998535\n"
     ]
    },
    {
     "name": "stderr",
     "output_type": "stream",
     "text": [
      "Perturbing graph:  97%|█████████▋| 493/506 [06:31<00:10,  1.27it/s]"
     ]
    },
    {
     "name": "stdout",
     "output_type": "stream",
     "text": [
      "GCN loss on unlabled data: 1.5066930055618286\n",
      "GCN acc on unlabled data: 0.6683057666517658\n",
      "attack loss: 0.8670321702957153\n"
     ]
    },
    {
     "name": "stderr",
     "output_type": "stream",
     "text": [
      "Perturbing graph:  98%|█████████▊| 494/506 [06:32<00:09,  1.27it/s]"
     ]
    },
    {
     "name": "stdout",
     "output_type": "stream",
     "text": [
      "GCN loss on unlabled data: 1.5156720876693726\n",
      "GCN acc on unlabled data: 0.6633884666964686\n",
      "attack loss: 0.8839114308357239\n"
     ]
    },
    {
     "name": "stderr",
     "output_type": "stream",
     "text": [
      "Perturbing graph:  98%|█████████▊| 495/506 [06:33<00:08,  1.27it/s]"
     ]
    },
    {
     "name": "stdout",
     "output_type": "stream",
     "text": [
      "GCN loss on unlabled data: 1.4808248281478882\n",
      "GCN acc on unlabled data: 0.6607063030844882\n",
      "attack loss: 0.8561998009681702\n"
     ]
    },
    {
     "name": "stderr",
     "output_type": "stream",
     "text": [
      "Perturbing graph:  98%|█████████▊| 496/506 [06:33<00:07,  1.27it/s]"
     ]
    },
    {
     "name": "stdout",
     "output_type": "stream",
     "text": [
      "GCN loss on unlabled data: 1.620774507522583\n",
      "GCN acc on unlabled data: 0.6620473848904783\n",
      "attack loss: 0.9245499968528748\n"
     ]
    },
    {
     "name": "stderr",
     "output_type": "stream",
     "text": [
      "Perturbing graph:  98%|█████████▊| 497/506 [06:34<00:07,  1.27it/s]"
     ]
    },
    {
     "name": "stdout",
     "output_type": "stream",
     "text": [
      "GCN loss on unlabled data: 1.5378566980361938\n",
      "GCN acc on unlabled data: 0.6660706303084488\n",
      "attack loss: 0.887912392616272\n"
     ]
    },
    {
     "name": "stderr",
     "output_type": "stream",
     "text": [
      "Perturbing graph:  98%|█████████▊| 498/506 [06:35<00:06,  1.27it/s]"
     ]
    },
    {
     "name": "stdout",
     "output_type": "stream",
     "text": [
      "GCN loss on unlabled data: 1.6041014194488525\n",
      "GCN acc on unlabled data: 0.6499776486365668\n",
      "attack loss: 0.9306960105895996\n"
     ]
    },
    {
     "name": "stderr",
     "output_type": "stream",
     "text": [
      "Perturbing graph:  99%|█████████▊| 499/506 [06:36<00:05,  1.27it/s]"
     ]
    },
    {
     "name": "stdout",
     "output_type": "stream",
     "text": [
      "GCN loss on unlabled data: 1.5683454275131226\n",
      "GCN acc on unlabled data: 0.6611533303531516\n",
      "attack loss: 0.9173089861869812\n"
     ]
    },
    {
     "name": "stderr",
     "output_type": "stream",
     "text": [
      "Perturbing graph:  99%|█████████▉| 500/506 [06:37<00:04,  1.27it/s]"
     ]
    },
    {
     "name": "stdout",
     "output_type": "stream",
     "text": [
      "GCN loss on unlabled data: 1.5519628524780273\n",
      "GCN acc on unlabled data: 0.6656236030397854\n",
      "attack loss: 0.87980717420578\n"
     ]
    },
    {
     "name": "stderr",
     "output_type": "stream",
     "text": [
      "Perturbing graph:  99%|█████████▉| 501/506 [06:37<00:03,  1.27it/s]"
     ]
    },
    {
     "name": "stdout",
     "output_type": "stream",
     "text": [
      "GCN loss on unlabled data: 1.5617256164550781\n",
      "GCN acc on unlabled data: 0.6548949485918641\n",
      "attack loss: 0.8942373394966125\n"
     ]
    },
    {
     "name": "stderr",
     "output_type": "stream",
     "text": [
      "Perturbing graph:  99%|█████████▉| 502/506 [06:38<00:03,  1.27it/s]"
     ]
    },
    {
     "name": "stdout",
     "output_type": "stream",
     "text": [
      "GCN loss on unlabled data: 1.6241450309753418\n",
      "GCN acc on unlabled data: 0.6486365668305767\n",
      "attack loss: 0.9376398921012878\n"
     ]
    },
    {
     "name": "stderr",
     "output_type": "stream",
     "text": [
      "Perturbing graph:  99%|█████████▉| 503/506 [06:39<00:02,  1.28it/s]"
     ]
    },
    {
     "name": "stdout",
     "output_type": "stream",
     "text": [
      "GCN loss on unlabled data: 1.4849649667739868\n",
      "GCN acc on unlabled data: 0.6642825212337953\n",
      "attack loss: 0.8659219741821289\n"
     ]
    },
    {
     "name": "stderr",
     "output_type": "stream",
     "text": [
      "Perturbing graph: 100%|█████████▉| 504/506 [06:40<00:01,  1.28it/s]"
     ]
    },
    {
     "name": "stdout",
     "output_type": "stream",
     "text": [
      "GCN loss on unlabled data: 1.5377830266952515\n",
      "GCN acc on unlabled data: 0.6607063030844882\n",
      "attack loss: 0.8816617727279663\n"
     ]
    },
    {
     "name": "stderr",
     "output_type": "stream",
     "text": [
      "Perturbing graph: 100%|█████████▉| 505/506 [06:41<00:00,  1.28it/s]"
     ]
    },
    {
     "name": "stdout",
     "output_type": "stream",
     "text": [
      "GCN loss on unlabled data: 1.5356216430664062\n",
      "GCN acc on unlabled data: 0.6602592758158248\n",
      "attack loss: 0.8902395963668823\n"
     ]
    },
    {
     "name": "stderr",
     "output_type": "stream",
     "text": [
      "Perturbing graph: 100%|██████████| 506/506 [06:41<00:00,  1.26it/s]\n"
     ]
    }
   ],
   "source": [
    "model = Metattack(model=surrogate, nnodes=adj.shape[0], feature_shape=features.shape, device=device)\n",
    "model = model.to(device)\n",
    "perturbations = int(0.1 * (adj.sum() // 2))\n",
    "model.attack(features, adj, labels, idx_train, idx_unlabeled, perturbations, ll_constraint=False)\n",
    "modified_adj = model.modified_adj"
   ]
  },
  {
   "cell_type": "markdown",
   "id": "f918b2a7-2e6a-494e-b05e-a3b8bcd70e99",
   "metadata": {},
   "source": [
    "### arch tests"
   ]
  },
  {
   "cell_type": "code",
   "execution_count": 13,
   "id": "0567f7ce-4052-4b1c-9640-ba236fb027ab",
   "metadata": {},
   "outputs": [
    {
     "ename": "ModuleNotFoundError",
     "evalue": "No module named 'src'",
     "output_type": "error",
     "traceback": [
      "\u001b[0;31m---------------------------------------------------------------------------\u001b[0m",
      "\u001b[0;31mModuleNotFoundError\u001b[0m                       Traceback (most recent call last)",
      "Cell \u001b[0;32mIn[13], line 3\u001b[0m\n\u001b[1;32m      1\u001b[0m \u001b[38;5;28;01mimport\u001b[39;00m \u001b[38;5;21;01msys\u001b[39;00m\n\u001b[1;32m      2\u001b[0m sys\u001b[38;5;241m.\u001b[39mpath\u001b[38;5;241m.\u001b[39mappend(\u001b[38;5;124m\"\u001b[39m\u001b[38;5;124m../\u001b[39m\u001b[38;5;124m\"\u001b[39m)\n\u001b[0;32m----> 3\u001b[0m \u001b[38;5;28;01mfrom\u001b[39;00m \u001b[38;5;21;01mgreedy_mcmc_attack\u001b[39;00m \u001b[38;5;28;01mimport\u001b[39;00m \u001b[38;5;241m*\u001b[39m\n\u001b[1;32m      4\u001b[0m \u001b[38;5;28;01mfrom\u001b[39;00m \u001b[38;5;21;01mcollections\u001b[39;00m \u001b[38;5;28;01mimport\u001b[39;00m defaultdict\n",
      "File \u001b[0;32m~/research/2-phase-attack/experiments/phase2/deep_robust/../greedy_mcmc_attack.py:16\u001b[0m\n\u001b[1;32m     12\u001b[0m \u001b[38;5;28;01mfrom\u001b[39;00m \u001b[38;5;21;01mtorch_geometric\u001b[39;00m\u001b[38;5;21;01m.\u001b[39;00m\u001b[38;5;21;01mutils\u001b[39;00m \u001b[38;5;28;01mimport\u001b[39;00m dense_to_sparse, from_networkx, to_networkx\n\u001b[1;32m     14\u001b[0m sys\u001b[38;5;241m.\u001b[39mpath\u001b[38;5;241m.\u001b[39mappend(\u001b[38;5;124m\"\u001b[39m\u001b[38;5;124m../../\u001b[39m\u001b[38;5;124m\"\u001b[39m)\n\u001b[0;32m---> 16\u001b[0m \u001b[38;5;28;01mfrom\u001b[39;00m \u001b[38;5;21;01msrc\u001b[39;00m\u001b[38;5;21;01m.\u001b[39;00m\u001b[38;5;21;01mattacks\u001b[39;00m\u001b[38;5;21;01m.\u001b[39;00m\u001b[38;5;21;01mgreedy_gd_fixed\u001b[39;00m \u001b[38;5;28;01mimport\u001b[39;00m \u001b[38;5;241m*\u001b[39m\n\u001b[1;32m     17\u001b[0m \u001b[38;5;28;01mfrom\u001b[39;00m \u001b[38;5;21;01msrc\u001b[39;00m\u001b[38;5;21;01m.\u001b[39;00m\u001b[38;5;21;01mmodels\u001b[39;00m\u001b[38;5;21;01m.\u001b[39;00m\u001b[38;5;21;01mtrainable\u001b[39;00m \u001b[38;5;28;01mimport\u001b[39;00m \u001b[38;5;241m*\u001b[39m\n\u001b[1;32m     18\u001b[0m \u001b[38;5;28;01mfrom\u001b[39;00m \u001b[38;5;21;01msrc\u001b[39;00m\u001b[38;5;21;01m.\u001b[39;00m\u001b[38;5;21;01mutils\u001b[39;00m\u001b[38;5;21;01m.\u001b[39;00m\u001b[38;5;21;01mdatasets\u001b[39;00m \u001b[38;5;28;01mimport\u001b[39;00m \u001b[38;5;241m*\u001b[39m\n",
      "\u001b[0;31mModuleNotFoundError\u001b[0m: No module named 'src'"
     ]
    }
   ],
   "source": [
    "import sys\n",
    "sys.path.append(\"../\")\n",
    "from greedy_mcmc_attack import *\n",
    "from collections import defaultdict"
   ]
  },
  {
   "cell_type": "code",
   "execution_count": 11,
   "id": "7b966b31-485c-4c74-ae35-663117edb238",
   "metadata": {},
   "outputs": [
    {
     "ename": "NameError",
     "evalue": "name 'Planetoid' is not defined",
     "output_type": "error",
     "traceback": [
      "\u001b[0;31m---------------------------------------------------------------------------\u001b[0m",
      "\u001b[0;31mNameError\u001b[0m                                 Traceback (most recent call last)",
      "Cell \u001b[0;32mIn[11], line 2\u001b[0m\n\u001b[1;32m      1\u001b[0m \u001b[38;5;66;03m# dataset_directory = \"../Cora\"\u001b[39;00m\n\u001b[0;32m----> 2\u001b[0m cora_dataset \u001b[38;5;241m=\u001b[39m \u001b[43mPlanetoid\u001b[49m(root\u001b[38;5;241m=\u001b[39m\u001b[38;5;124m'\u001b[39m\u001b[38;5;124m'\u001b[39m, name\u001b[38;5;241m=\u001b[39m\u001b[38;5;124m'\u001b[39m\u001b[38;5;124mCora\u001b[39m\u001b[38;5;124m'\u001b[39m)\n\u001b[1;32m      3\u001b[0m data \u001b[38;5;241m=\u001b[39m cora_dataset[\u001b[38;5;241m0\u001b[39m]\u001b[38;5;241m.\u001b[39mto(device)\n\u001b[1;32m      4\u001b[0m \u001b[38;5;28mprint\u001b[39m(data)\n",
      "\u001b[0;31mNameError\u001b[0m: name 'Planetoid' is not defined"
     ]
    }
   ],
   "source": [
    "# dataset_directory = \"../Cora\"\n",
    "cora_dataset = Planetoid(root='', name='Cora')\n",
    "data = cora_dataset[0].to(device)\n",
    "print(data)"
   ]
  }
 ],
 "metadata": {
  "kernelspec": {
   "display_name": "Python 3 (ipykernel)",
   "language": "python",
   "name": "python3"
  },
  "language_info": {
   "codemirror_mode": {
    "name": "ipython",
    "version": 3
   },
   "file_extension": ".py",
   "mimetype": "text/x-python",
   "name": "python",
   "nbconvert_exporter": "python",
   "pygments_lexer": "ipython3",
   "version": "3.8.18"
  }
 },
 "nbformat": 4,
 "nbformat_minor": 5
}
