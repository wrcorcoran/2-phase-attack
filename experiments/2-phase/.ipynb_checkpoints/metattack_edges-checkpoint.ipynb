{
 "cells": [
  {
   "cell_type": "code",
   "execution_count": 1,
   "id": "cbc284fc-8e46-4645-bb36-6f79054e5e53",
   "metadata": {},
   "outputs": [
    {
     "name": "stdout",
     "output_type": "stream",
     "text": [
      "/home/wcorcoran/anaconda3/envs/mesp/bin/python\n"
     ]
    }
   ],
   "source": [
    "import sys\n",
    "from itertools import count\n",
    "from torch import autograd\n",
    "from torch_geometric.utils import dense_to_sparse\n",
    "import copy\n",
    "from collections import defaultdict\n",
    "\n",
    "sys.path.append('../../')\n",
    "\n",
    "from src.models.gcn import *\n",
    "from src.utils.datasets import *\n",
    "from src.models.trainable import *\n",
    "from src.attacks.greedy_gd import *\n",
    "\n",
    "print(sys.executable)"
   ]
  },
  {
   "cell_type": "code",
   "execution_count": 2,
   "id": "b484ec46-7057-4bcf-b042-f76d632d7dcb",
   "metadata": {},
   "outputs": [],
   "source": [
    "device = \"cuda\" if torch.cuda.is_available() else \"cpu\""
   ]
  },
  {
   "cell_type": "code",
   "execution_count": 3,
   "id": "8e03370f-1e5a-45ce-a6c4-6577604acf39",
   "metadata": {},
   "outputs": [
    {
     "name": "stdout",
     "output_type": "stream",
     "text": [
      "Data(x=[2708, 1433], edge_index=[2, 10556], y=[2708], train_mask=[2708], val_mask=[2708], test_mask=[2708])\n"
     ]
    }
   ],
   "source": [
    "# dataset_directory = \"../Cora\"\n",
    "cora_dataset = Planetoid(root='', name='Cora')\n",
    "data = cora_dataset[0].to(device)\n",
    "print(data)"
   ]
  },
  {
   "cell_type": "code",
   "execution_count": 4,
   "id": "d17f0802-5411-4c38-b89f-d30c040dea50",
   "metadata": {},
   "outputs": [],
   "source": [
    "model = GCN(data.x.shape[1], cora_dataset.num_classes, [16]).to(device)"
   ]
  },
  {
   "cell_type": "code",
   "execution_count": 7,
   "id": "ea9fee66-7c98-4969-ac3e-74473473372e",
   "metadata": {},
   "outputs": [
    {
     "name": "stdout",
     "output_type": "stream",
     "text": [
      "Epoch 0, Train Loss - 4.621532440185547, Val Loss - 4.367887020111084, Val Accuracy - 0.295\n",
      "Epoch 20, Train Loss - 0.5590556859970093, Val Loss - 1.0752450227737427, Val Accuracy - 0.72\n",
      "Epoch 40, Train Loss - 0.2426801174879074, Val Loss - 1.1585419178009033, Val Accuracy - 0.741\n",
      "Epoch 60, Train Loss - 0.13824492692947388, Val Loss - 1.3054722547531128, Val Accuracy - 0.726\n",
      "Epoch 80, Train Loss - 0.10841209441423416, Val Loss - 1.4435479640960693, Val Accuracy - 0.756\n",
      "Epoch 100, Train Loss - 0.1694883555173874, Val Loss - 1.540505290031433, Val Accuracy - 0.741\n",
      "Epoch 120, Train Loss - 0.07873104512691498, Val Loss - 1.615148663520813, Val Accuracy - 0.737\n",
      "Epoch 140, Train Loss - 0.12434177100658417, Val Loss - 1.6533035039901733, Val Accuracy - 0.73\n",
      "Epoch 160, Train Loss - 0.05125117301940918, Val Loss - 1.712336540222168, Val Accuracy - 0.734\n",
      "Epoch 180, Train Loss - 0.10190937668085098, Val Loss - 1.8315339088439941, Val Accuracy - 0.726\n",
      "Epoch 200, Train Loss - 0.11385390907526016, Val Loss - 1.7542108297348022, Val Accuracy - 0.744\n"
     ]
    }
   ],
   "source": [
    "model.reset_parameters()\n",
    "train = Trainable(model)\n",
    "train.fit(data, 200)"
   ]
  },
  {
   "cell_type": "code",
   "execution_count": 8,
   "id": "31dc21cc-385e-47a1-a048-e6c93de4963b",
   "metadata": {},
   "outputs": [
    {
     "name": "stdout",
     "output_type": "stream",
     "text": [
      "Initial Accuracy: 0.744\n",
      "Initial Loss: 1.7542108297348022\n"
     ]
    }
   ],
   "source": [
    "# Get initial accuracy\n",
    "initial_loss, initial_accuracy = train.test(data)\n",
    "print(f\"Initial Accuracy: {initial_accuracy}\")\n",
    "print(f\"Initial Loss: {initial_loss}\")"
   ]
  },
  {
   "cell_type": "code",
   "execution_count": 18,
   "id": "398156dc-bc9f-4d27-acdc-9536d4f3680d",
   "metadata": {},
   "outputs": [
    {
     "data": {
      "application/vnd.jupyter.widget-view+json": {
       "model_id": "2c32551baa184ba0b607057c26473185",
       "version_major": 2,
       "version_minor": 0
      },
      "text/plain": [
       "Peturbing graph...:   0%|          | 0/52 [00:00<?, ?it/s]"
      ]
     },
     "metadata": {},
     "output_type": "display_data"
    },
    {
     "data": {
      "application/vnd.jupyter.widget-view+json": {
       "model_id": "a8da3288f8cb41619a5aa342ad0a8b04",
       "version_major": 2,
       "version_minor": 0
      },
      "text/plain": [
       "Peturbing graph...:   0%|          | 0/52 [00:00<?, ?it/s]"
      ]
     },
     "metadata": {},
     "output_type": "display_data"
    },
    {
     "data": {
      "application/vnd.jupyter.widget-view+json": {
       "model_id": "de0c79a305454f84b5627a82c122a874",
       "version_major": 2,
       "version_minor": 0
      },
      "text/plain": [
       "Peturbing graph...:   0%|          | 0/52 [00:00<?, ?it/s]"
      ]
     },
     "metadata": {},
     "output_type": "display_data"
    },
    {
     "data": {
      "application/vnd.jupyter.widget-view+json": {
       "model_id": "c4f8c4bc753e49149707d933a381166d",
       "version_major": 2,
       "version_minor": 0
      },
      "text/plain": [
       "Peturbing graph...:   0%|          | 0/52 [00:00<?, ?it/s]"
      ]
     },
     "metadata": {},
     "output_type": "display_data"
    },
    {
     "data": {
      "application/vnd.jupyter.widget-view+json": {
       "model_id": "93ab9ab9aee14efca0d3c0a4e98b9d57",
       "version_major": 2,
       "version_minor": 0
      },
      "text/plain": [
       "Peturbing graph...:   0%|          | 0/52 [00:00<?, ?it/s]"
      ]
     },
     "metadata": {},
     "output_type": "display_data"
    }
   ],
   "source": [
    "# # run 5 metattacks w/ ptb of 1\n",
    "# amts = defaultdict(int)\n",
    "\n",
    "# for _ in range(5):\n",
    "#     attacker = Metattack(data, device=device)\n",
    "#     attacker.setup_surrogate(model,\n",
    "#                          labeled_nodes=data.train_mask,\n",
    "#                          unlabeled_nodes=data.test_mask, lambda_=0.)\n",
    "#     attacker.reset()\n",
    "#     attacker.attack(0.01)\n",
    "\n",
    "#     for edge in attacker._added_edges.keys():\n",
    "#         amts[edge] += 1"
   ]
  },
  {
   "cell_type": "code",
   "execution_count": 19,
   "id": "04f6273f-47b5-423b-b609-51fb19358fdf",
   "metadata": {},
   "outputs": [
    {
     "data": {
      "text/plain": [
       "defaultdict(int,\n",
       "            {(57, 2410): 5,\n",
       "             (49, 2417): 5,\n",
       "             (7, 2603): 3,\n",
       "             (21, 959): 2,\n",
       "             (23, 917): 1,\n",
       "             (4, 1591): 1,\n",
       "             (31, 58): 4,\n",
       "             (54, 63): 2,\n",
       "             (58, 497): 5,\n",
       "             (131, 2429): 1,\n",
       "             (13, 2411): 1,\n",
       "             (54, 2699): 1,\n",
       "             (66, 2697): 3,\n",
       "             (115, 2513): 1,\n",
       "             (58, 2545): 3,\n",
       "             (76, 225): 2,\n",
       "             (50, 2258): 1,\n",
       "             (58, 1140): 4,\n",
       "             (58, 238): 4,\n",
       "             (79, 2373): 2,\n",
       "             (37, 1684): 1,\n",
       "             (19, 500): 1,\n",
       "             (29, 2617): 1,\n",
       "             (38, 913): 1,\n",
       "             (58, 1397): 5,\n",
       "             (31, 2174): 3,\n",
       "             (86, 1594): 2,\n",
       "             (32, 2533): 2,\n",
       "             (3, 58): 5,\n",
       "             (58, 2171): 3,\n",
       "             (101, 2656): 1,\n",
       "             (54, 1437): 1,\n",
       "             (58, 98): 2,\n",
       "             (66, 1571): 1,\n",
       "             (63, 1582): 1,\n",
       "             (120, 273): 1,\n",
       "             (58, 2384): 3,\n",
       "             (58, 707): 2,\n",
       "             (54, 422): 2,\n",
       "             (27, 2650): 1,\n",
       "             (11, 625): 1,\n",
       "             (11, 1596): 1,\n",
       "             (10, 1056): 1,\n",
       "             (66, 2531): 1,\n",
       "             (86, 2626): 1,\n",
       "             (62, 293): 3,\n",
       "             (136, 2637): 1,\n",
       "             (12, 2461): 1,\n",
       "             (11, 322): 2,\n",
       "             (54, 1132): 1,\n",
       "             (11, 2698): 1,\n",
       "             (49, 2468): 1,\n",
       "             (4, 2697): 1,\n",
       "             (21, 2411): 1,\n",
       "             (23, 225): 2,\n",
       "             (7, 500): 1,\n",
       "             (13, 1591): 1,\n",
       "             (66, 2603): 1,\n",
       "             (54, 2316): 1,\n",
       "             (58, 2656): 1,\n",
       "             (131, 2699): 1,\n",
       "             (115, 1437): 1,\n",
       "             (76, 2513): 1,\n",
       "             (115, 986): 1,\n",
       "             (23, 1018): 1,\n",
       "             (37, 1596): 2,\n",
       "             (50, 1684): 1,\n",
       "             (63, 2617): 2,\n",
       "             (19, 2529): 1,\n",
       "             (58, 136): 1,\n",
       "             (136, 1582): 1,\n",
       "             (66, 355): 1,\n",
       "             (54, 625): 1,\n",
       "             (28, 54): 2,\n",
       "             (66, 2698): 1,\n",
       "             (115, 1084): 1,\n",
       "             (86, 1246): 3,\n",
       "             (69, 98): 1,\n",
       "             (69, 917): 1,\n",
       "             (4, 2541): 1,\n",
       "             (54, 1445): 1,\n",
       "             (54, 1208): 1,\n",
       "             (27, 2142): 1,\n",
       "             (23, 2512): 2,\n",
       "             (86, 925): 1,\n",
       "             (11, 2426): 1,\n",
       "             (66, 136): 2,\n",
       "             (11, 1024): 1,\n",
       "             (60, 2605): 1,\n",
       "             (115, 1591): 1,\n",
       "             (4, 2142): 1,\n",
       "             (13, 500): 2,\n",
       "             (115, 1612): 1,\n",
       "             (19, 2411): 2,\n",
       "             (131, 625): 1,\n",
       "             (54, 2625): 1,\n",
       "             (23, 322): 2,\n",
       "             (54, 1582): 3,\n",
       "             (54, 545): 1,\n",
       "             (23, 2633): 1,\n",
       "             (54, 355): 1,\n",
       "             (23, 2658): 1,\n",
       "             (57, 2699): 1,\n",
       "             (54, 1364): 3,\n",
       "             (34, 2512): 1,\n",
       "             (86, 2531): 1,\n",
       "             (96, 2513): 1,\n",
       "             (131, 361): 1,\n",
       "             (23, 1684): 1,\n",
       "             (79, 1056): 1,\n",
       "             (38, 2617): 1,\n",
       "             (27, 2703): 1,\n",
       "             (76, 2111): 1,\n",
       "             (23, 1615): 1,\n",
       "             (82, 1246): 1,\n",
       "             (136, 1014): 1,\n",
       "             (54, 1938): 1,\n",
       "             (63, 131): 1,\n",
       "             (50, 2433): 1,\n",
       "             (98, 1298): 1,\n",
       "             (21, 500): 1,\n",
       "             (7, 959): 1,\n",
       "             (4, 2703): 1,\n",
       "             (49, 54): 1,\n",
       "             (54, 2626): 2,\n",
       "             (13, 2603): 1,\n",
       "             (27, 1591): 2,\n",
       "             (62, 625): 1,\n",
       "             (23, 2650): 1,\n",
       "             (23, 2513): 2,\n",
       "             (54, 163): 1,\n",
       "             (23, 131): 1,\n",
       "             (131, 422): 1,\n",
       "             (23, 34): 1,\n",
       "             (115, 611): 1,\n",
       "             (62, 2373): 2,\n",
       "             (131, 322): 1,\n",
       "             (23, 2142): 2,\n",
       "             (54, 288): 1,\n",
       "             (19, 2602): 1,\n",
       "             (79, 2533): 2,\n",
       "             (58, 106): 1,\n",
       "             (96, 2255): 1,\n",
       "             (23, 2551): 1,\n",
       "             (4, 237): 2,\n",
       "             (31, 2258): 2,\n",
       "             (54, 2633): 1,\n",
       "             (106, 131): 1,\n",
       "             (131, 1132): 1,\n",
       "             (131, 2643): 1,\n",
       "             (23, 221): 2,\n",
       "             (69, 2545): 1,\n",
       "             (54, 1617): 1,\n",
       "             (69, 1140): 1,\n",
       "             (49, 2310): 1,\n",
       "             (69, 1643): 1,\n",
       "             (29, 1594): 1,\n",
       "             (21, 2529): 1,\n",
       "             (23, 2697): 1,\n",
       "             (23, 187): 1,\n",
       "             (31, 54): 1,\n",
       "             (115, 804): 1,\n",
       "             (62, 2605): 1,\n",
       "             (58, 1594): 1,\n",
       "             (54, 2512): 1,\n",
       "             (66, 625): 1,\n",
       "             (50, 1014): 1,\n",
       "             (23, 2681): 1,\n",
       "             (50, 1612): 1,\n",
       "             (115, 1298): 1,\n",
       "             (66, 1164): 1,\n",
       "             (131, 2637): 1,\n",
       "             (49, 1582): 1,\n",
       "             (28, 37): 1,\n",
       "             (115, 1596): 1,\n",
       "             (82, 2104): 1,\n",
       "             (49, 2461): 1,\n",
       "             (136, 2699): 1,\n",
       "             (60, 1615): 1,\n",
       "             (4, 2625): 1,\n",
       "             (28, 2656): 1,\n",
       "             (86, 940): 1,\n",
       "             (96, 2683): 1})"
      ]
     },
     "execution_count": 19,
     "metadata": {},
     "output_type": "execute_result"
    }
   ],
   "source": [
    "# amts"
   ]
  },
  {
   "cell_type": "code",
   "execution_count": 21,
   "id": "bfcdb5d2-d6b9-4dec-8798-db4fa3195441",
   "metadata": {},
   "outputs": [],
   "source": [
    "# sorted_list = sorted(amts.items(), key=lambda item: item[1], reverse=True)\n",
    "# sorted_keys = [key for key, value in sorted_list]"
   ]
  },
  {
   "cell_type": "code",
   "execution_count": 26,
   "id": "b9e6a2bb-e115-441e-926f-cafb72020667",
   "metadata": {},
   "outputs": [],
   "source": [
    "# from torch_geometric.utils import dense_to_sparse, to_networkx, from_networkx\n",
    "# import networkx as nx"
   ]
  },
  {
   "cell_type": "code",
   "execution_count": 27,
   "id": "6c342dcd-c653-4440-ba80-1b90aad137be",
   "metadata": {},
   "outputs": [],
   "source": [
    "# G = to_networkx(data, to_undirected=True)\n",
    "# # initial_edge_count = G.number_of_edges() // 2\n",
    "# ptb_rate = 0.05\n",
    "# num_edges_to_add = int(ptb_rate * initial_edge_count)\n",
    "# degrees = dict(G.degree())"
   ]
  },
  {
   "cell_type": "code",
   "execution_count": 29,
   "id": "8c486e45-4cb2-44ed-9b0a-0c95e6c3eff5",
   "metadata": {},
   "outputs": [],
   "source": []
  },
  {
   "cell_type": "code",
   "execution_count": 7,
   "id": "cbeea1eb-9cbd-42cd-93c2-837b79e0c18b",
   "metadata": {},
   "outputs": [],
   "source": [
    "# for edge in sorted_keys:\n",
    "#     # print(sum_degs(edge))"
   ]
  },
  {
   "cell_type": "code",
   "execution_count": 32,
   "id": "dc5027e6-f2e2-435c-8846-912541826a15",
   "metadata": {},
   "outputs": [
    {
     "name": "stdout",
     "output_type": "stream",
     "text": [
      "num edges:  2639\n"
     ]
    }
   ],
   "source": [
    "import sys\n",
    "import torch\n",
    "from itertools import count\n",
    "from torch_geometric.utils import dense_to_sparse, to_networkx, from_networkx\n",
    "import random\n",
    "import numpy as np\n",
    "import networkx as nx\n",
    "\n",
    "# Convert the graph to NetworkX for manipulation\n",
    "G = to_networkx(data, to_undirected=True)\n",
    "\n",
    "# Store initial edge count\n",
    "initial_edge_count = G.number_of_edges() // 2\n",
    "print('num edges: ', initial_edge_count)\n",
    "\n",
    "ptb_rate = 0.3\n",
    "\n",
    "# Degree-based Edge Addition\n",
    "budget = int(ptb_rate * initial_edge_count)  # Define the number of edges to add\n",
    "\n",
    "# Calculate the degree of each node\n",
    "degrees = dict(G.degree())\n",
    "\n",
    "def sum_degs(edge):\n",
    "    return degrees[edge[0]]+ degrees[edge[1]]\n",
    "\n",
    "# Group nodes by degree range (e.g., group nodes with degrees within ±1)\n",
    "degree_bins = {}\n",
    "for node, degree in degrees.items():\n",
    "    bin_key = degree // 2  # Bin nodes by ranges of 2\n",
    "    if bin_key not in degree_bins:\n",
    "        degree_bins[bin_key] = []\n",
    "    degree_bins[bin_key].append(node)\n",
    "\n",
    "# Generate potential edges between nodes in the same degree bin\n",
    "edges_to_add = []\n",
    "for bin_nodes in degree_bins.values():\n",
    "    if len(bin_nodes) > 1:\n",
    "        # Randomly pair nodes within the same bin\n",
    "        random.shuffle(bin_nodes)\n",
    "        for i in range(len(bin_nodes)):\n",
    "            for j in range(i + 1, len(bin_nodes)):\n",
    "                if not G.has_edge(bin_nodes[i], bin_nodes[j]) and i != j:\n",
    "                    edges_to_add.append(((bin_nodes[i], bin_nodes[j]), sum_degs((bin_nodes[i], bin_nodes[j]))))\n",
    "                    \n",
    "edges_to_add.sort(key=lambda x:-x[1])"
   ]
  },
  {
   "cell_type": "code",
   "execution_count": 24,
   "id": "a2e87dcd-7090-4d0d-9962-2d47eef0a76f",
   "metadata": {},
   "outputs": [
    {
     "name": "stdout",
     "output_type": "stream",
     "text": [
      "263\n"
     ]
    }
   ],
   "source": [
    "print(budget)"
   ]
  },
  {
   "cell_type": "code",
   "execution_count": 36,
   "id": "40026090-7f45-428a-b366-b4a802dc9fd4",
   "metadata": {},
   "outputs": [],
   "source": [
    "def two_phase_attack(split):\n",
    "    diff_threshold = 0.01\n",
    "    first_phase_edges = int(budget * split)\n",
    "    second_phase_percent = ptb_rate * (1 - split) * 1/2\n",
    "    print(second_phase_percent)\n",
    "    losses = []\n",
    "    G = to_networkx(data, to_undirected=True)\n",
    "    \n",
    "    data_copy = copy.copy(data)\n",
    "    i, j = 0, 0 # i - number added, j - spot in list\n",
    "    while i < first_phase_edges:\n",
    "        u, v = edges_to_add[j][0]\n",
    "    \n",
    "        G.add_edge(u, v)\n",
    "    \n",
    "        modified_data = from_networkx(G).to(device)\n",
    "        modified_data.x = data.x \n",
    "        modified_data.y = data.y \n",
    "        modified_data.train_mask = data.train_mask\n",
    "        modified_data.test_mask = data.test_mask\n",
    "    \n",
    "        modified_loss, modified_accuracy = train.test(modified_data)\n",
    "        # print(modified_loss)\n",
    "    \n",
    "        # if (abs(modified_loss - initial_loss) / max(modified_loss, initial_loss)) <= diff_threshold:\n",
    "        if modified_accuracy == initial_accuracy:\n",
    "            # print(modified_accuracy, i)\n",
    "            i += 1\n",
    "            accuracies.append(modified_accuracy)\n",
    "        else:\n",
    "            # print(i, 'miss!')\n",
    "            G.remove_edge(u, v)\n",
    "            \n",
    "        j += 1\n",
    "    \n",
    "    modified_data = from_networkx(G).to(device)\n",
    "    modified_data.x = data.x \n",
    "    modified_data.y = data.y \n",
    "    modified_data.train_mask = data.train_mask\n",
    "    modified_data.test_mask = data.test_mask\n",
    "    \n",
    "    attacker = Metattack(modified_data, device=device)\n",
    "    attacker.setup_surrogate(model,\n",
    "                             labeled_nodes=data.train_mask,\n",
    "                             unlabeled_nodes=data.test_mask, lambda_=0.)\n",
    "    attacker.reset()\n",
    "    attacker.attack(second_phase_percent)\n",
    "\n",
    "    degs = defaultdict(tuple)\n",
    "    \n",
    "    for k, v in attacker._added_edges.items():\n",
    "        degs[v] = (k, True)\n",
    "        \n",
    "    for k, v in attacker._removed_edges.items():\n",
    "        degs[v] = (k, False)\n",
    "    \n",
    "    for _, second in degs.items():\n",
    "        u, v = second[0]\n",
    "        if second[1]:\n",
    "            G.add_edge(u, v)\n",
    "        else:\n",
    "            G.remove_edge(u, v)\n",
    "    \n",
    "        modified_data = from_networkx(G).to(device)\n",
    "        modified_data.x = data.x \n",
    "        modified_data.y = data.y \n",
    "        modified_data.train_mask = data.train_mask\n",
    "        modified_data.test_mask = data.test_mask\n",
    "    \n",
    "        modified_loss, modified_accuracy = train.test(modified_data)\n",
    "    \n",
    "        accuracies.append(modified_accuracy)\n",
    "\n",
    "    return accuracies"
   ]
  },
  {
   "cell_type": "code",
   "execution_count": 37,
   "id": "80fd073a-4423-4e8c-9274-932328a3449d",
   "metadata": {},
   "outputs": [],
   "source": [
    "splits = [0, 0.5, 0.7, 0.9]\n",
    "split_dic = defaultdict(list)"
   ]
  },
  {
   "cell_type": "code",
   "execution_count": 38,
   "id": "87ee51e3-0ebe-493d-9d05-ead595134f58",
   "metadata": {},
   "outputs": [
    {
     "name": "stdout",
     "output_type": "stream",
     "text": [
      "0.15\n"
     ]
    },
    {
     "data": {
      "application/vnd.jupyter.widget-view+json": {
       "model_id": "b392b0c618a142e2b07391ddbfc33666",
       "version_major": 2,
       "version_minor": 0
      },
      "text/plain": [
       "Peturbing graph...:   0%|          | 0/791 [00:00<?, ?it/s]"
      ]
     },
     "metadata": {},
     "output_type": "display_data"
    },
    {
     "ename": "NameError",
     "evalue": "name 'accuracies' is not defined",
     "output_type": "error",
     "traceback": [
      "\u001b[0;31m---------------------------------------------------------------------------\u001b[0m",
      "\u001b[0;31mNameError\u001b[0m                                 Traceback (most recent call last)",
      "Cell \u001b[0;32mIn[38], line 2\u001b[0m\n\u001b[1;32m      1\u001b[0m \u001b[38;5;28;01mfor\u001b[39;00m s \u001b[38;5;129;01min\u001b[39;00m splits:\n\u001b[0;32m----> 2\u001b[0m     split_dic[s] \u001b[38;5;241m=\u001b[39m \u001b[43mtwo_phase_attack\u001b[49m\u001b[43m(\u001b[49m\u001b[43ms\u001b[49m\u001b[43m)\u001b[49m\n",
      "Cell \u001b[0;32mIn[36], line 72\u001b[0m, in \u001b[0;36mtwo_phase_attack\u001b[0;34m(split)\u001b[0m\n\u001b[1;32m     68\u001b[0m     modified_data\u001b[38;5;241m.\u001b[39mtest_mask \u001b[38;5;241m=\u001b[39m data\u001b[38;5;241m.\u001b[39mtest_mask\n\u001b[1;32m     70\u001b[0m     modified_loss, modified_accuracy \u001b[38;5;241m=\u001b[39m train\u001b[38;5;241m.\u001b[39mtest(modified_data)\n\u001b[0;32m---> 72\u001b[0m     \u001b[43maccuracies\u001b[49m\u001b[38;5;241m.\u001b[39mappend(modified_accuracy)\n\u001b[1;32m     74\u001b[0m \u001b[38;5;28;01mreturn\u001b[39;00m accuracies\n",
      "\u001b[0;31mNameError\u001b[0m: name 'accuracies' is not defined"
     ]
    }
   ],
   "source": [
    "for s in splits:\n",
    "    split_dic[s] = two_phase_attack(s)"
   ]
  },
  {
   "cell_type": "code",
   "execution_count": null,
   "id": "d5737e7a-83c6-40be-aaea-57e9a28da178",
   "metadata": {},
   "outputs": [],
   "source": [
    "import matplotlib.pyplot as plt\n",
    "\n",
    "split_dic2 = copy.copy(split_dic)\n",
    "\n",
    "for label, values in split_dic2.items():\n",
    "    for i in range(len(values)):\n",
    "        split_dic2[label][i] = - abs(values[i] - initial_loss)\n",
    "\n",
    "plt.figure(figsize=(10, 6))\n",
    "\n",
    "# Iterate over the dictionary and plot each list\n",
    "for label, values in split_dic.items():\n",
    "    plt.plot(values, label=str(label))\n",
    "\n",
    "plt.xlabel('# of edges inserted')\n",
    "plt.ylabel('accuracy')\n",
    "plt.title('accuracy vs # of edges inserted (ptb rate = 0.3)')\n",
    "plt.legend()\n",
    "\n",
    "plt.show()"
   ]
  },
  {
   "cell_type": "code",
   "execution_count": 21,
   "id": "c8688a66-64fc-485b-a3bf-a39b73c2c8f2",
   "metadata": {},
   "outputs": [
    {
     "name": "stdout",
     "output_type": "stream",
     "text": [
      "torch.Size([2, 11006])\n",
      "Loss: 2.7860538959503174, Acc: 0.696\n"
     ]
    }
   ],
   "source": [
    "# new_data = handle_new_edges(modified_data, attacker, device)\n",
    "\n",
    "# loss, acc = train.test(new_data)\n",
    "# print(f'Loss: {loss}, Acc: {acc}')"
   ]
  },
  {
   "cell_type": "code",
   "execution_count": null,
   "id": "0d24fb84-54a6-477c-b6fc-a253a7e8bf86",
   "metadata": {},
   "outputs": [],
   "source": [
    "# Randomly select a subset of edges to add\n",
    "# random.shuffle(edges_to_add)\n",
    "# edges_to_add = edges_to_add[:num_edges_to_add]\n",
    "\n",
    "# # Add the selected edges to the graph\n",
    "# for i, j in edges_to_add:\n",
    "#     G.add_edge(i, j)\n",
    "\n",
    "# # Store final edge count\n",
    "# final_edge_count = G.number_of_edges()\n",
    "\n",
    "# # Convert back to PyTorch Geometric format\n",
    "# modified_data = from_networkx(G).to(device)\n",
    "# modified_data.x = data.x  # Preserve original node features\n",
    "# modified_data.y = data.y  # Preserve original labels\n",
    "# modified_data.train_mask = data.train_mask\n",
    "# modified_data.test_mask = data.test_mask\n",
    "\n",
    "# # Evaluate the model on the modified graph\n",
    "# _, modified_accuracy = train.test(modified_data)\n",
    "# print(f\"Modified Accuracy: {modified_accuracy}\")\n",
    "\n",
    "# # Calculate and display the edge statistics\n",
    "# edge_difference = final_edge_count - initial_edge_count\n",
    "# print(f\"Edges Added: {edge_difference}\")\n",
    "# print(f\"Percentage Increase in Edges: {100 * edge_difference / initial_edge_count:.2f}%\")\n",
    "\n",
    "# # Output accuracy change\n",
    "# accuracy_change = modified_accuracy - initial_accuracy\n",
    "# print(f\"Accuracy Change: {accuracy_change:.4f}\")\n"
   ]
  },
  {
   "cell_type": "code",
   "execution_count": null,
   "id": "9a73c703-3c89-4ee9-8021-dfab8e7ebf85",
   "metadata": {},
   "outputs": [],
   "source": []
  },
  {
   "cell_type": "code",
   "execution_count": 29,
   "id": "46489790-44cc-4585-a2a8-cf578c80ad51",
   "metadata": {},
   "outputs": [
    {
     "name": "stdout",
     "output_type": "stream",
     "text": [
      "Modified Accuracy: 0.728\n",
      "Edges Added: 200\n",
      "Percentage Increase in Edges: 3.79%\n",
      "Accuracy Change: -0.0080\n"
     ]
    }
   ],
   "source": [
    "# Convert the graph to NetworkX for manipulation\n",
    "G = to_networkx(data, to_undirected=True)\n",
    "\n",
    "# Store initial edge count\n",
    "initial_edge_count = G.number_of_edges()\n",
    "\n",
    "# Degree-based Edge Addition\n",
    "num_edges_to_add = 200  # Define the number of edges to add\n",
    "\n",
    "# Calculate the degree of each node\n",
    "degrees = dict(G.degree())\n",
    "\n",
    "# Group nodes by degree range (e.g., group nodes with degrees within ±1)\n",
    "degree_bins = {}\n",
    "for node, degree in degrees.items():\n",
    "    bin_key = degree // 2  # Bin nodes by ranges of 2\n",
    "    if bin_key not in degree_bins:\n",
    "        degree_bins[bin_key] = []\n",
    "    degree_bins[bin_key].append(node)\n",
    "\n",
    "# Generate potential edges between nodes in the same degree bin\n",
    "edges_to_add = []\n",
    "for bin_nodes in degree_bins.values():\n",
    "    if len(bin_nodes) > 1:\n",
    "        # Randomly pair nodes within the same bin\n",
    "        random.shuffle(bin_nodes)\n",
    "        for i in range(len(bin_nodes)):\n",
    "            for j in range(i + 1, len(bin_nodes)):\n",
    "                if not G.has_edge(bin_nodes[i], bin_nodes[j]):\n",
    "                    edges_to_add.append((bin_nodes[i], bin_nodes[j]))\n",
    "\n",
    "\n",
    "# Randomly select a subset of edges to add\n",
    "random.shuffle(edges_to_add)\n",
    "edges_to_add = edges_to_add[:num_edges_to_add]\n",
    "\n",
    "\n",
    "# Add the selected edges to the graph\n",
    "for i, j in edges_to_add:\n",
    "    G.add_edge(i, j)\n",
    "\n",
    "# Store final edge count\n",
    "final_edge_count = G.number_of_edges()\n",
    "\n",
    "# Convert back to PyTorch Geometric format\n",
    "modified_data = from_networkx(G).to(device)\n",
    "modified_data.x = data.x  # Preserve original node features\n",
    "modified_data.y = data.y  # Preserve original labels\n",
    "modified_data.train_mask = data.train_mask\n",
    "modified_data.test_mask = data.test_mask\n",
    "\n",
    "# Evaluate the model on the modified graph\n",
    "_, modified_accuracy = train.test(modified_data)\n",
    "print(f\"Modified Accuracy: {modified_accuracy}\")\n",
    "\n",
    "# Calculate and display the edge statistics\n",
    "edge_difference = final_edge_count - initial_edge_count\n",
    "print(f\"Edges Added: {edge_difference}\")\n",
    "print(f\"Percentage Increase in Edges: {100 * edge_difference / initial_edge_count:.2f}%\")\n",
    "\n",
    "# Output accuracy change\n",
    "accuracy_change = modified_accuracy - initial_accuracy\n",
    "print(f\"Accuracy Change: {accuracy_change:.4f}\")"
   ]
  },
  {
   "cell_type": "code",
   "execution_count": 30,
   "id": "f0ba3271-6247-45fe-8572-5a066ed16389",
   "metadata": {},
   "outputs": [
    {
     "name": "stdout",
     "output_type": "stream",
     "text": [
      "Modified Accuracy: 0.733\n",
      "Edges Added: 300\n",
      "Percentage Increase in Edges: 5.68%\n",
      "Accuracy Change: -0.0030\n"
     ]
    }
   ],
   "source": [
    "# Convert the graph to NetworkX for manipulation\n",
    "G = to_networkx(data, to_undirected=True)\n",
    "\n",
    "# Store initial edge count\n",
    "initial_edge_count = G.number_of_edges()\n",
    "\n",
    "# Degree-based Edge Addition\n",
    "num_edges_to_add = 300  # Define the number of edges to add\n",
    "\n",
    "# Calculate the degree of each node\n",
    "degrees = dict(G.degree())\n",
    "\n",
    "# Group nodes by degree range (e.g., group nodes with degrees within ±1)\n",
    "degree_bins = {}\n",
    "for node, degree in degrees.items():\n",
    "    bin_key = degree // 2  # Bin nodes by ranges of 2\n",
    "    if bin_key not in degree_bins:\n",
    "        degree_bins[bin_key] = []\n",
    "    degree_bins[bin_key].append(node)\n",
    "\n",
    "# Generate potential edges between nodes in the same degree bin\n",
    "edges_to_add = []\n",
    "for bin_nodes in degree_bins.values():\n",
    "    if len(bin_nodes) > 1:\n",
    "        # Randomly pair nodes within the same bin\n",
    "        random.shuffle(bin_nodes)\n",
    "        for i in range(len(bin_nodes)):\n",
    "            for j in range(i + 1, len(bin_nodes)):\n",
    "                if not G.has_edge(bin_nodes[i], bin_nodes[j]):\n",
    "                    edges_to_add.append((bin_nodes[i], bin_nodes[j]))\n",
    "\n",
    "\n",
    "# Randomly select a subset of edges to add\n",
    "random.shuffle(edges_to_add)\n",
    "edges_to_add = edges_to_add[:num_edges_to_add]\n",
    "\n",
    "\n",
    "# Add the selected edges to the graph\n",
    "for i, j in edges_to_add:\n",
    "    G.add_edge(i, j)\n",
    "\n",
    "# Store final edge count\n",
    "final_edge_count = G.number_of_edges()\n",
    "\n",
    "# Convert back to PyTorch Geometric format\n",
    "modified_data = from_networkx(G).to(device)\n",
    "modified_data.x = data.x  # Preserve original node features\n",
    "modified_data.y = data.y  # Preserve original labels\n",
    "modified_data.train_mask = data.train_mask\n",
    "modified_data.test_mask = data.test_mask\n",
    "\n",
    "# Evaluate the model on the modified graph\n",
    "_, modified_accuracy = train.test(modified_data)\n",
    "print(f\"Modified Accuracy: {modified_accuracy}\")\n",
    "\n",
    "# Calculate and display the edge statistics\n",
    "edge_difference = final_edge_count - initial_edge_count\n",
    "print(f\"Edges Added: {edge_difference}\")\n",
    "print(f\"Percentage Increase in Edges: {100 * edge_difference / initial_edge_count:.2f}%\")\n",
    "\n",
    "# Output accuracy change\n",
    "accuracy_change = modified_accuracy - initial_accuracy\n",
    "print(f\"Accuracy Change: {accuracy_change:.4f}\")"
   ]
  },
  {
   "cell_type": "code",
   "execution_count": 31,
   "id": "2746ca0b-5969-4906-b26a-dcc5c29a2c9a",
   "metadata": {},
   "outputs": [
    {
     "name": "stdout",
     "output_type": "stream",
     "text": [
      "Modified Accuracy: 0.729\n",
      "Edges Added: 1000\n",
      "Percentage Increase in Edges: 18.95%\n",
      "Accuracy Change: -0.0070\n"
     ]
    }
   ],
   "source": [
    "# Convert the graph to NetworkX for manipulation\n",
    "G = to_networkx(data, to_undirected=True)\n",
    "\n",
    "# Store initial edge count\n",
    "initial_edge_count = G.number_of_edges()\n",
    "\n",
    "# Degree-based Edge Addition\n",
    "num_edges_to_add = 1000  # Define the number of edges to add\n",
    "\n",
    "# Calculate the degree of each node\n",
    "degrees = dict(G.degree())\n",
    "\n",
    "# Group nodes by degree range (e.g., group nodes with degrees within ±1)\n",
    "degree_bins = {}\n",
    "for node, degree in degrees.items():\n",
    "    bin_key = degree // 2  # Bin nodes by ranges of 2\n",
    "    if bin_key not in degree_bins:\n",
    "        degree_bins[bin_key] = []\n",
    "    degree_bins[bin_key].append(node)\n",
    "\n",
    "# Generate potential edges between nodes in the same degree bin\n",
    "edges_to_add = []\n",
    "for bin_nodes in degree_bins.values():\n",
    "    if len(bin_nodes) > 1:\n",
    "        # Randomly pair nodes within the same bin\n",
    "        random.shuffle(bin_nodes)\n",
    "        for i in range(len(bin_nodes)):\n",
    "            for j in range(i + 1, len(bin_nodes)):\n",
    "                if not G.has_edge(bin_nodes[i], bin_nodes[j]):\n",
    "                    edges_to_add.append((bin_nodes[i], bin_nodes[j]))\n",
    "\n",
    "\n",
    "# Randomly select a subset of edges to add\n",
    "random.shuffle(edges_to_add)\n",
    "edges_to_add = edges_to_add[:num_edges_to_add]\n",
    "\n",
    "\n",
    "# Add the selected edges to the graph\n",
    "for i, j in edges_to_add:\n",
    "    G.add_edge(i, j)\n",
    "\n",
    "# Store final edge count\n",
    "final_edge_count = G.number_of_edges()\n",
    "\n",
    "# Convert back to PyTorch Geometric format\n",
    "modified_data = from_networkx(G).to(device)\n",
    "modified_data.x = data.x  # Preserve original node features\n",
    "modified_data.y = data.y  # Preserve original labels\n",
    "modified_data.train_mask = data.train_mask\n",
    "modified_data.test_mask = data.test_mask\n",
    "\n",
    "# Evaluate the model on the modified graph\n",
    "_, modified_accuracy = train.test(modified_data)\n",
    "print(f\"Modified Accuracy: {modified_accuracy}\")\n",
    "\n",
    "# Calculate and display the edge statistics\n",
    "edge_difference = final_edge_count - initial_edge_count\n",
    "print(f\"Edges Added: {edge_difference}\")\n",
    "print(f\"Percentage Increase in Edges: {100 * edge_difference / initial_edge_count:.2f}%\")\n",
    "\n",
    "# Output accuracy change\n",
    "accuracy_change = modified_accuracy - initial_accuracy\n",
    "print(f\"Accuracy Change: {accuracy_change:.4f}\")"
   ]
  },
  {
   "cell_type": "code",
   "execution_count": 32,
   "id": "9bc1d5d9-3076-45cc-b036-e087953a6636",
   "metadata": {},
   "outputs": [
    {
     "name": "stdout",
     "output_type": "stream",
     "text": [
      "Modified Accuracy: 0.688\n",
      "Edges Added: 2000\n",
      "Percentage Increase in Edges: 37.89%\n",
      "Accuracy Change: -0.0480\n"
     ]
    }
   ],
   "source": [
    "# Convert the graph to NetworkX for manipulation\n",
    "G = to_networkx(data, to_undirected=True)\n",
    "\n",
    "# Store initial edge count\n",
    "initial_edge_count = G.number_of_edges()\n",
    "\n",
    "# Degree-based Edge Addition\n",
    "num_edges_to_add = 2000  # Define the number of edges to add\n",
    "\n",
    "# Calculate the degree of each node\n",
    "degrees = dict(G.degree())\n",
    "\n",
    "# Group nodes by degree range (e.g., group nodes with degrees within ±1)\n",
    "degree_bins = {}\n",
    "for node, degree in degrees.items():\n",
    "    bin_key = degree // 2  # Bin nodes by ranges of 2\n",
    "    if bin_key not in degree_bins:\n",
    "        degree_bins[bin_key] = []\n",
    "    degree_bins[bin_key].append(node)\n",
    "\n",
    "# Generate potential edges between nodes in the same degree bin\n",
    "edges_to_add = []\n",
    "for bin_nodes in degree_bins.values():\n",
    "    if len(bin_nodes) > 1:\n",
    "        # Randomly pair nodes within the same bin\n",
    "        random.shuffle(bin_nodes)\n",
    "        for i in range(len(bin_nodes)):\n",
    "            for j in range(i + 1, len(bin_nodes)):\n",
    "                if not G.has_edge(bin_nodes[i], bin_nodes[j]):\n",
    "                    edges_to_add.append((bin_nodes[i], bin_nodes[j]))\n",
    "\n",
    "\n",
    "# Randomly select a subset of edges to add\n",
    "random.shuffle(edges_to_add)\n",
    "edges_to_add = edges_to_add[:num_edges_to_add]\n",
    "\n",
    "\n",
    "# Add the selected edges to the graph\n",
    "for i, j in edges_to_add:\n",
    "    G.add_edge(i, j)\n",
    "\n",
    "# Store final edge count\n",
    "final_edge_count = G.number_of_edges()\n",
    "\n",
    "# Convert back to PyTorch Geometric format\n",
    "modified_data = from_networkx(G).to(device)\n",
    "modified_data.x = data.x  # Preserve original node features\n",
    "modified_data.y = data.y  # Preserve original labels\n",
    "modified_data.train_mask = data.train_mask\n",
    "modified_data.test_mask = data.test_mask\n",
    "\n",
    "# Evaluate the model on the modified graph\n",
    "_, modified_accuracy = train.test(modified_data)\n",
    "print(f\"Modified Accuracy: {modified_accuracy}\")\n",
    "\n",
    "# Calculate and display the edge statistics\n",
    "edge_difference = final_edge_count - initial_edge_count\n",
    "print(f\"Edges Added: {edge_difference}\")\n",
    "print(f\"Percentage Increase in Edges: {100 * edge_difference / initial_edge_count:.2f}%\")\n",
    "\n",
    "# Output accuracy change\n",
    "accuracy_change = modified_accuracy - initial_accuracy\n",
    "print(f\"Accuracy Change: {accuracy_change:.4f}\")"
   ]
  },
  {
   "cell_type": "code",
   "execution_count": null,
   "id": "60e13460-9707-4ad9-9c5e-c0fa28ac800a",
   "metadata": {},
   "outputs": [],
   "source": []
  }
 ],
 "metadata": {
  "kernelspec": {
   "display_name": "Python 3 (ipykernel)",
   "language": "python",
   "name": "python3"
  },
  "language_info": {
   "codemirror_mode": {
    "name": "ipython",
    "version": 3
   },
   "file_extension": ".py",
   "mimetype": "text/x-python",
   "name": "python",
   "nbconvert_exporter": "python",
   "pygments_lexer": "ipython3",
   "version": "3.8.18"
  }
 },
 "nbformat": 4,
 "nbformat_minor": 5
}
