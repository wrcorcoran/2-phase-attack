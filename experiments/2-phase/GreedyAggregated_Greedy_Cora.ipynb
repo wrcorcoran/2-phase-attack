{
 "cells": [
  {
   "cell_type": "code",
   "execution_count": 1,
   "id": "f9a0f846-f2f5-497e-885a-4a92a88a7537",
   "metadata": {},
   "outputs": [
    {
     "name": "stdout",
     "output_type": "stream",
     "text": [
      "/home/niyati/miniconda3/envs/ersp_v2/bin/python\n"
     ]
    }
   ],
   "source": [
    "import sys\n",
    "from itertools import count\n",
    "from torch import autograd\n",
    "from torch_geometric.utils import dense_to_sparse\n",
    "import copy\n",
    "from collections import defaultdict\n",
    "\n",
    "sys.path.append('../../')\n",
    "\n",
    "from src.models.gcn import *\n",
    "from src.utils.datasets import *\n",
    "from src.models.trainable import *\n",
    "from src.attacks.greedy_gd import *\n",
    "\n",
    "print(sys.executable)"
   ]
  },
  {
   "cell_type": "code",
   "execution_count": 2,
   "id": "7f1206c6-aea0-4b20-ac37-5b7fbaa5ab3b",
   "metadata": {},
   "outputs": [],
   "source": [
    "device = \"cuda\" if torch.cuda.is_available() else \"cpu\""
   ]
  },
  {
   "cell_type": "code",
   "execution_count": 3,
   "id": "07c9b5b5-dbcf-4473-b1a5-a6bdf5c5c25c",
   "metadata": {},
   "outputs": [
    {
     "name": "stdout",
     "output_type": "stream",
     "text": [
      "Data(x=[2708, 1433], edge_index=[2, 10556], y=[2708], train_mask=[2708], val_mask=[2708], test_mask=[2708])\n"
     ]
    }
   ],
   "source": [
    "# dataset_directory = \"../Cora\"\n",
    "cora_dataset = Planetoid(root='', name='Cora')\n",
    "data = cora_dataset[0].to(device)\n",
    "print(data)"
   ]
  },
  {
   "cell_type": "code",
   "execution_count": 5,
   "id": "996b3727-d5cd-48b7-b708-cec0ef0792ee",
   "metadata": {},
   "outputs": [],
   "source": [
    "model = GCN(data.x.shape[1], cora_dataset.num_classes, [64]).to(device)"
   ]
  },
  {
   "cell_type": "code",
   "execution_count": 6,
   "id": "75628fa0-fa51-4c70-9aaf-fab472f16bd0",
   "metadata": {},
   "outputs": [
    {
     "name": "stdout",
     "output_type": "stream",
     "text": [
      "Epoch 0, Train Loss - 5.693197727203369, Val Loss - 2.994965076446533, Val Accuracy - 0.546\n",
      "Epoch 20, Train Loss - 0.35797885060310364, Val Loss - 2.6528470516204834, Val Accuracy - 0.762\n",
      "Epoch 40, Train Loss - 0.04570154473185539, Val Loss - 2.88309907913208, Val Accuracy - 0.774\n",
      "Epoch 60, Train Loss - 0.011027270928025246, Val Loss - 3.362964630126953, Val Accuracy - 0.748\n",
      "Epoch 80, Train Loss - 0.11694278568029404, Val Loss - 3.8336594104766846, Val Accuracy - 0.734\n",
      "Epoch 100, Train Loss - 0.003396066837012768, Val Loss - 3.0674242973327637, Val Accuracy - 0.767\n",
      "Epoch 120, Train Loss - 0.0072468859143555164, Val Loss - 3.5584700107574463, Val Accuracy - 0.761\n",
      "Epoch 140, Train Loss - 0.0011853190371766686, Val Loss - 3.557541847229004, Val Accuracy - 0.763\n",
      "Epoch 160, Train Loss - 0.004530248697847128, Val Loss - 3.6915526390075684, Val Accuracy - 0.752\n",
      "Epoch 180, Train Loss - 0.001738211722113192, Val Loss - 3.661057233810425, Val Accuracy - 0.753\n",
      "Epoch 200, Train Loss - 0.003689501201733947, Val Loss - 3.2719228267669678, Val Accuracy - 0.775\n"
     ]
    }
   ],
   "source": [
    "model.reset_parameters()\n",
    "train = Trainable(model)\n",
    "train.fit(data, 200)"
   ]
  },
  {
   "cell_type": "code",
   "execution_count": 7,
   "id": "636f755c-f6d4-4e14-b3e4-c5578432fd60",
   "metadata": {},
   "outputs": [
    {
     "name": "stdout",
     "output_type": "stream",
     "text": [
      "Initial Accuracy: 0.775\n",
      "Initial Loss: 3.2719228267669678\n"
     ]
    }
   ],
   "source": [
    "# Get initial accuracy\n",
    "initial_loss, initial_accuracy = train.test(data)\n",
    "print(f\"Initial Accuracy: {initial_accuracy}\")\n",
    "print(f\"Initial Loss: {initial_loss}\")"
   ]
  },
  {
   "cell_type": "code",
   "execution_count": 9,
   "id": "c131a677-97d0-4fee-83aa-995a93d02fe8",
   "metadata": {},
   "outputs": [
    {
     "data": {
      "application/vnd.jupyter.widget-view+json": {
       "model_id": "d68653e119b44404b9e283c51a964275",
       "version_major": 2,
       "version_minor": 0
      },
      "text/plain": [
       "Peturbing graph...:   0%|          | 0/527 [00:00<?, ?it/s]"
      ]
     },
     "metadata": {},
     "output_type": "display_data"
    },
    {
     "data": {
      "application/vnd.jupyter.widget-view+json": {
       "model_id": "df2be5b5e99245919a5a642ba08dda10",
       "version_major": 2,
       "version_minor": 0
      },
      "text/plain": [
       "Peturbing graph...:   0%|          | 0/527 [00:00<?, ?it/s]"
      ]
     },
     "metadata": {},
     "output_type": "display_data"
    },
    {
     "data": {
      "application/vnd.jupyter.widget-view+json": {
       "model_id": "fa953cc332ca411f90f67e8ab1cfa4d0",
       "version_major": 2,
       "version_minor": 0
      },
      "text/plain": [
       "Peturbing graph...:   0%|          | 0/527 [00:00<?, ?it/s]"
      ]
     },
     "metadata": {},
     "output_type": "display_data"
    },
    {
     "data": {
      "application/vnd.jupyter.widget-view+json": {
       "model_id": "98536220b301443f814f8697a1bca6c8",
       "version_major": 2,
       "version_minor": 0
      },
      "text/plain": [
       "Peturbing graph...:   0%|          | 0/527 [00:00<?, ?it/s]"
      ]
     },
     "metadata": {},
     "output_type": "display_data"
    },
    {
     "data": {
      "application/vnd.jupyter.widget-view+json": {
       "model_id": "8e89052aa1bf4014be90beb68157a29f",
       "version_major": 2,
       "version_minor": 0
      },
      "text/plain": [
       "Peturbing graph...:   0%|          | 0/527 [00:00<?, ?it/s]"
      ]
     },
     "metadata": {},
     "output_type": "display_data"
    },
    {
     "data": {
      "application/vnd.jupyter.widget-view+json": {
       "model_id": "9f97ae0abdbf4d0bb7ae9715b1465347",
       "version_major": 2,
       "version_minor": 0
      },
      "text/plain": [
       "Peturbing graph...:   0%|          | 0/527 [00:00<?, ?it/s]"
      ]
     },
     "metadata": {},
     "output_type": "display_data"
    },
    {
     "data": {
      "application/vnd.jupyter.widget-view+json": {
       "model_id": "d2fffad3c1614082a7ff5023e4aa5953",
       "version_major": 2,
       "version_minor": 0
      },
      "text/plain": [
       "Peturbing graph...:   0%|          | 0/527 [00:00<?, ?it/s]"
      ]
     },
     "metadata": {},
     "output_type": "display_data"
    },
    {
     "data": {
      "application/vnd.jupyter.widget-view+json": {
       "model_id": "1d31a9e0c0464ab1be2e0ff20b3be126",
       "version_major": 2,
       "version_minor": 0
      },
      "text/plain": [
       "Peturbing graph...:   0%|          | 0/527 [00:00<?, ?it/s]"
      ]
     },
     "metadata": {},
     "output_type": "display_data"
    },
    {
     "data": {
      "application/vnd.jupyter.widget-view+json": {
       "model_id": "c72b2356b65044daa4e41edb9616250f",
       "version_major": 2,
       "version_minor": 0
      },
      "text/plain": [
       "Peturbing graph...:   0%|          | 0/527 [00:00<?, ?it/s]"
      ]
     },
     "metadata": {},
     "output_type": "display_data"
    },
    {
     "data": {
      "application/vnd.jupyter.widget-view+json": {
       "model_id": "4cc32967cd08499f99d2882128e240db",
       "version_major": 2,
       "version_minor": 0
      },
      "text/plain": [
       "Peturbing graph...:   0%|          | 0/527 [00:00<?, ?it/s]"
      ]
     },
     "metadata": {},
     "output_type": "display_data"
    }
   ],
   "source": [
    "amts = defaultdict(int)\n",
    "# Run 10 attacks for perturbation of 0.2\n",
    "for i in range(10):\n",
    "    attacker = Metattack(data, device=device)\n",
    "    attacker.setup_surrogate(model,\n",
    "                         labeled_nodes=data.train_mask,\n",
    "                         unlabeled_nodes=data.test_mask, lambda_=0.)\n",
    "    attacker.reset_parameters(seed=i)\n",
    "    attacker.reset()\n",
    "    attacker.attack(0.1)\n",
    "\n",
    "    for edge in attacker._added_edges.keys():\n",
    "        amts[edge] += 1\n"
   ]
  },
  {
   "cell_type": "code",
   "execution_count": 10,
   "id": "170c8bc2-96d9-48eb-9380-f9f50b3aa69a",
   "metadata": {},
   "outputs": [
    {
     "data": {
      "text/plain": [
       "defaultdict(int,\n",
       "            {(49, 2417): 10,\n",
       "             (7, 2603): 10,\n",
       "             (57, 2699): 10,\n",
       "             (21, 2602): 10,\n",
       "             (86, 625): 10,\n",
       "             (13, 2609): 10,\n",
       "             (28, 68): 10,\n",
       "             (131, 1668): 10,\n",
       "             (131, 1612): 10,\n",
       "             (131, 762): 10,\n",
       "             (131, 2658): 10,\n",
       "             (79, 1208): 10,\n",
       "             (64, 131): 10,\n",
       "             (11, 1938): 10,\n",
       "             (131, 2656): 10,\n",
       "             (131, 1161): 10,\n",
       "             (66, 2300): 10,\n",
       "             (131, 569): 10,\n",
       "             (23, 1684): 10,\n",
       "             (23, 2697): 10,\n",
       "             (23, 2147): 10,\n",
       "             (23, 848): 10,\n",
       "             (32, 986): 10,\n",
       "             (23, 1164): 10,\n",
       "             (23, 311): 10,\n",
       "             (23, 221): 10,\n",
       "             (10, 2437): 10,\n",
       "             (27, 1445): 10,\n",
       "             (86, 1582): 10,\n",
       "             (131, 1617): 10,\n",
       "             (57, 2529): 10,\n",
       "             (4, 2612): 10,\n",
       "             (72, 2643): 10,\n",
       "             (61, 2698): 10,\n",
       "             (34, 101): 10,\n",
       "             (19, 2340): 10,\n",
       "             (62, 2482): 10,\n",
       "             (27, 2142): 10,\n",
       "             (23, 432): 10,\n",
       "             (86, 2578): 10,\n",
       "             (79, 2512): 10,\n",
       "             (21, 1014): 10,\n",
       "             (61, 1591): 10,\n",
       "             (8, 1591): 10,\n",
       "             (61, 906): 10,\n",
       "             (61, 2559): 10,\n",
       "             (115, 1612): 10,\n",
       "             (115, 1762): 10,\n",
       "             (115, 1596): 10,\n",
       "             (115, 2691): 10,\n",
       "             (60, 115): 10,\n",
       "             (61, 780): 10,\n",
       "             (14, 1615): 10,\n",
       "             (115, 721): 10,\n",
       "             (86, 313): 10,\n",
       "             (86, 803): 10,\n",
       "             (115, 322): 10,\n",
       "             (61, 1446): 10,\n",
       "             (60, 1937): 10,\n",
       "             (61, 293): 10,\n",
       "             (115, 131): 10,\n",
       "             (61, 585): 10,\n",
       "             (32, 2681): 10,\n",
       "             (86, 396): 10,\n",
       "             (35, 2672): 10,\n",
       "             (98, 2674): 10,\n",
       "             (82, 2301): 10,\n",
       "             (29, 238): 10,\n",
       "             (115, 2377): 10,\n",
       "             (98, 2682): 10,\n",
       "             (115, 358): 10,\n",
       "             (86, 2531): 10,\n",
       "             (45, 1446): 10,\n",
       "             (61, 2571): 10,\n",
       "             (23, 692): 10,\n",
       "             (35, 2670): 10,\n",
       "             (29, 516): 10,\n",
       "             (86, 2532): 10,\n",
       "             (4, 1280): 10,\n",
       "             (96, 2174): 10,\n",
       "             (32, 602): 10,\n",
       "             (58, 322): 10,\n",
       "             (115, 2643): 10,\n",
       "             (49, 1347): 10,\n",
       "             (3, 2533): 10,\n",
       "             (13, 959): 10,\n",
       "             (25, 49): 10,\n",
       "             (49, 321): 10,\n",
       "             (49, 2544): 10,\n",
       "             (61, 1939): 10,\n",
       "             (15, 49): 10,\n",
       "             (131, 2255): 10,\n",
       "             (34, 115): 10,\n",
       "             (115, 2669): 10,\n",
       "             (10, 2678): 10,\n",
       "             (49, 136): 10,\n",
       "             (136, 2655): 10,\n",
       "             (27, 2571): 10,\n",
       "             (60, 1437): 10,\n",
       "             (49, 2584): 10,\n",
       "             (7, 2584): 10,\n",
       "             (2312, 2666): 10,\n",
       "             (61, 2141): 10,\n",
       "             (94, 187): 10,\n",
       "             (61, 1342): 10,\n",
       "             (61, 2521): 10,\n",
       "             (3, 2606): 10,\n",
       "             (9, 1164): 10,\n",
       "             (131, 1037): 10,\n",
       "             (12, 2171): 10,\n",
       "             (83, 1612): 10,\n",
       "             (654, 2618): 10,\n",
       "             (21, 1516): 10,\n",
       "             (19, 2406): 10,\n",
       "             (49, 500): 10,\n",
       "             (28, 131): 10,\n",
       "             (1454, 2619): 10,\n",
       "             (61, 2701): 10,\n",
       "             (115, 672): 10,\n",
       "             (60, 163): 10,\n",
       "             (40, 2626): 10,\n",
       "             (14, 2650): 10,\n",
       "             (45, 1400): 10,\n",
       "             (23, 2693): 10,\n",
       "             (86, 914): 10,\n",
       "             (116, 2150): 10,\n",
       "             (131, 690): 10,\n",
       "             (54, 2635): 10,\n",
       "             (49, 50): 10,\n",
       "             (24, 50): 10,\n",
       "             (50, 295): 10,\n",
       "             (50, 1928): 10,\n",
       "             (50, 1419): 10,\n",
       "             (50, 2633): 10,\n",
       "             (136, 2634): 10,\n",
       "             (76, 2410): 10,\n",
       "             (50, 2411): 10,\n",
       "             (29, 1122): 10,\n",
       "             (27, 2625): 10,\n",
       "             (50, 1232): 10,\n",
       "             (134, 2636): 10,\n",
       "             (61, 1822): 10,\n",
       "             (29, 1032): 10,\n",
       "             (86, 2703): 10,\n",
       "             (29, 2299): 10,\n",
       "             (79, 2631): 10,\n",
       "             (50, 2624): 10,\n",
       "             (50, 1860): 10,\n",
       "             (44, 47): 10,\n",
       "             (115, 1466): 10,\n",
       "             (61, 1364): 10,\n",
       "             (21, 2612): 10,\n",
       "             (1364, 2633): 10,\n",
       "             (66, 522): 10,\n",
       "             (49, 916): 10,\n",
       "             (50, 1866): 10,\n",
       "             (29, 2527): 10,\n",
       "             (100, 1890): 10,\n",
       "             (50, 1024): 10,\n",
       "             (37, 2600): 10,\n",
       "             (23, 184): 10,\n",
       "             (115, 2441): 10,\n",
       "             (31, 2573): 10,\n",
       "             (68, 601): 10,\n",
       "             (50, 894): 10,\n",
       "             (61, 2582): 10,\n",
       "             (49, 1854): 10,\n",
       "             (115, 1659): 10,\n",
       "             (23, 2605): 10,\n",
       "             (50, 1098): 10,\n",
       "             (131, 2557): 10,\n",
       "             (50, 2603): 10,\n",
       "             (29, 694): 10,\n",
       "             (50, 926): 10,\n",
       "             (131, 2581): 10,\n",
       "             (57, 2459): 10,\n",
       "             (40, 1595): 10,\n",
       "             (79, 1643): 10,\n",
       "             (79, 1418): 10,\n",
       "             (79, 1194): 10,\n",
       "             (73, 115): 10,\n",
       "             (82, 2104): 10,\n",
       "             (79, 652): 10,\n",
       "             (79, 1018): 10,\n",
       "             (66, 2097): 10,\n",
       "             (79, 2300): 10,\n",
       "             (66, 2656): 10,\n",
       "             (66, 2488): 10,\n",
       "             (79, 247): 10,\n",
       "             (2545, 2693): 10,\n",
       "             (66, 2210): 10,\n",
       "             (63, 79): 10,\n",
       "             (63, 2170): 10,\n",
       "             (66, 939): 10,\n",
       "             (198, 2512): 10,\n",
       "             (50, 2551): 10,\n",
       "             (7, 363): 10,\n",
       "             (79, 1138): 10,\n",
       "             (50, 1132): 10,\n",
       "             (46, 115): 10,\n",
       "             (115, 1322): 10,\n",
       "             (50, 2663): 10,\n",
       "             (58, 2271): 10,\n",
       "             (30, 2585): 10,\n",
       "             (61, 931): 10,\n",
       "             (23, 1447): 10,\n",
       "             (19, 50): 10,\n",
       "             (25, 613): 10,\n",
       "             (23, 2429): 10,\n",
       "             (115, 535): 10,\n",
       "             (14, 2613): 10,\n",
       "             (10, 2429): 10,\n",
       "             (61, 1055): 10,\n",
       "             (23, 1246): 10,\n",
       "             (60, 2421): 10,\n",
       "             (1372, 1877): 10,\n",
       "             (77, 2572): 10,\n",
       "             (7, 931): 10,\n",
       "             (61, 2625): 10,\n",
       "             (61, 2668): 10,\n",
       "             (106, 2258): 10,\n",
       "             (61, 2477): 10,\n",
       "             (45, 2244): 10,\n",
       "             (44, 1132): 10,\n",
       "             (61, 2316): 10,\n",
       "             (44, 233): 10,\n",
       "             (50, 886): 10,\n",
       "             (1014, 2571): 10,\n",
       "             (0, 49): 10,\n",
       "             (966, 2665): 10,\n",
       "             (50, 730): 10,\n",
       "             (2255, 2523): 10,\n",
       "             (50, 207): 10,\n",
       "             (69, 2692): 10,\n",
       "             (116, 2058): 10,\n",
       "             (50, 2659): 10,\n",
       "             (66, 234): 10,\n",
       "             (38, 2449): 10,\n",
       "             (86, 2315): 10,\n",
       "             (66, 1058): 10,\n",
       "             (115, 999): 10,\n",
       "             (131, 1715): 10,\n",
       "             (79, 2417): 10,\n",
       "             (61, 2142): 10,\n",
       "             (49, 1151): 10,\n",
       "             (1594, 2462): 10,\n",
       "             (50, 986): 10,\n",
       "             (14, 2539): 10,\n",
       "             (19, 1706): 10,\n",
       "             (23, 2535): 10,\n",
       "             (2005, 2544): 10,\n",
       "             (62, 1940): 10,\n",
       "             (1140, 2193): 10,\n",
       "             (1832, 2505): 10,\n",
       "             (23, 2602): 10,\n",
       "             (61, 1497): 10,\n",
       "             (49, 1861): 10,\n",
       "             (78, 2510): 10,\n",
       "             (63, 2190): 10,\n",
       "             (60, 2060): 10,\n",
       "             (115, 174): 10,\n",
       "             (39, 2098): 10,\n",
       "             (50, 1134): 10,\n",
       "             (48, 1053): 10,\n",
       "             (4, 1386): 10,\n",
       "             (61, 1407): 10,\n",
       "             (7, 1407): 10,\n",
       "             (79, 2435): 10,\n",
       "             (131, 272): 10,\n",
       "             (13, 2540): 10,\n",
       "             (61, 2612): 10,\n",
       "             (50, 1124): 10,\n",
       "             (57, 987): 10,\n",
       "             (61, 2343): 10,\n",
       "             (11, 1600): 10,\n",
       "             (50, 1582): 10,\n",
       "             (49, 1200): 10,\n",
       "             (25, 237): 10,\n",
       "             (61, 2398): 10,\n",
       "             (45, 2588): 10,\n",
       "             (23, 2541): 10,\n",
       "             (8, 58): 10,\n",
       "             (730, 1817): 10,\n",
       "             (49, 1445): 10,\n",
       "             (1649, 2550): 10,\n",
       "             (14, 760): 10,\n",
       "             (66, 1547): 10,\n",
       "             (131, 206): 10,\n",
       "             (1105, 2552): 10,\n",
       "             (115, 1589): 10,\n",
       "             (115, 355): 10,\n",
       "             (50, 633): 10,\n",
       "             (61, 281): 10,\n",
       "             (51, 2697): 10,\n",
       "             (184, 1872): 10,\n",
       "             (23, 57): 10,\n",
       "             (49, 2626): 10,\n",
       "             (61, 866): 10,\n",
       "             (8, 1164): 10,\n",
       "             (49, 1315): 10,\n",
       "             (23, 1298): 10,\n",
       "             (0, 127): 10,\n",
       "             (23, 1511): 10,\n",
       "             (0, 991): 10,\n",
       "             (23, 2403): 10,\n",
       "             (62, 2628): 10,\n",
       "             (9, 115): 10,\n",
       "             (50, 1465): 10,\n",
       "             (62, 974): 10,\n",
       "             (48, 1400): 10,\n",
       "             (931, 2584): 10,\n",
       "             (50, 61): 10,\n",
       "             (55, 940): 10,\n",
       "             (2354, 2421): 10,\n",
       "             (70, 1437): 10,\n",
       "             (37, 832): 10,\n",
       "             (29, 1960): 10,\n",
       "             (29, 107): 10,\n",
       "             (29, 1896): 10,\n",
       "             (29, 1982): 10,\n",
       "             (29, 2621): 10,\n",
       "             (130, 2477): 10,\n",
       "             (29, 2537): 10,\n",
       "             (60, 2704): 10,\n",
       "             (120, 2470): 10,\n",
       "             (117, 1018): 10,\n",
       "             (29, 2705): 10,\n",
       "             (49, 727): 10,\n",
       "             (57, 700): 10,\n",
       "             (131, 2617): 10,\n",
       "             (29, 2092): 10,\n",
       "             (117, 538): 10,\n",
       "             (22, 1387): 10,\n",
       "             (914, 2316): 10,\n",
       "             (80, 2373): 10,\n",
       "             (0, 92): 10,\n",
       "             (61, 1236): 10,\n",
       "             (50, 127): 10,\n",
       "             (54, 2604): 10,\n",
       "             (54, 2461): 10,\n",
       "             (69, 1310): 10,\n",
       "             (54, 497): 10,\n",
       "             (41, 2641): 10,\n",
       "             (93, 1544): 10,\n",
       "             (1, 2320): 10,\n",
       "             (1076, 2389): 10,\n",
       "             (114, 896): 10,\n",
       "             (29, 451): 10,\n",
       "             (29, 259): 10,\n",
       "             (117, 804): 10,\n",
       "             (101, 2496): 10,\n",
       "             (66, 1506): 10,\n",
       "             (82, 147): 10,\n",
       "             (61, 2650): 10,\n",
       "             (127, 1516): 10,\n",
       "             (127, 1571): 10,\n",
       "             (23, 1615): 10,\n",
       "             (50, 697): 10,\n",
       "             (50, 1217): 10,\n",
       "             (71, 866): 10,\n",
       "             (49, 235): 10,\n",
       "             (12, 2321): 10,\n",
       "             (117, 2549): 10,\n",
       "             (475, 2204): 10,\n",
       "             (40, 727): 10,\n",
       "             (97, 2610): 10,\n",
       "             (1220, 2669): 10,\n",
       "             (51, 1053): 10,\n",
       "             (2007, 2384): 10,\n",
       "             (50, 1595): 10,\n",
       "             (48, 2539): 10,\n",
       "             (61, 1247): 10,\n",
       "             (58, 2062): 10,\n",
       "             (63, 2022): 10,\n",
       "             (39, 1904): 10,\n",
       "             (60, 425): 10,\n",
       "             (55, 1997): 10,\n",
       "             (62, 2374): 10,\n",
       "             (10, 508): 10,\n",
       "             (129, 1208): 10,\n",
       "             (29, 458): 10,\n",
       "             (61, 1945): 10,\n",
       "             (79, 576): 10,\n",
       "             (19, 1990): 10,\n",
       "             (23, 1573): 10,\n",
       "             (79, 587): 10,\n",
       "             (4, 2698): 10,\n",
       "             (78, 2542): 10,\n",
       "             (79, 2637): 10,\n",
       "             (23, 1392): 10,\n",
       "             (50, 599): 10,\n",
       "             (1511, 2191): 10,\n",
       "             (49, 2139): 10,\n",
       "             (66, 1895): 10,\n",
       "             (707, 2257): 10,\n",
       "             (83, 521): 10,\n",
       "             (115, 1431): 10,\n",
       "             (71, 2043): 10,\n",
       "             (39, 1828): 10,\n",
       "             (57, 848): 10,\n",
       "             (77, 2568): 10,\n",
       "             (28, 2406): 10,\n",
       "             (117, 2587): 10,\n",
       "             (50, 536): 10,\n",
       "             (81, 2426): 10,\n",
       "             (120, 1036): 10,\n",
       "             (422, 2659): 10,\n",
       "             (11, 221): 10,\n",
       "             (131, 241): 10,\n",
       "             (66, 1910): 10,\n",
       "             (1397, 1811): 10,\n",
       "             (101, 132): 10,\n",
       "             (61, 178): 10,\n",
       "             (62, 2594): 10,\n",
       "             (48, 760): 10,\n",
       "             (1073, 2602): 10,\n",
       "             (61, 944): 10,\n",
       "             (23, 47): 10,\n",
       "             (35, 2432): 10,\n",
       "             (71, 1322): 10,\n",
       "             (115, 1137): 10,\n",
       "             (25, 72): 10,\n",
       "             (42, 2468): 10,\n",
       "             (545, 2369): 10,\n",
       "             (58, 2601): 10,\n",
       "             (71, 1591): 10,\n",
       "             (66, 767): 10,\n",
       "             (73, 2575): 10,\n",
       "             (50, 2588): 10,\n",
       "             (61, 988): 10,\n",
       "             (131, 247): 10,\n",
       "             (30, 341): 10,\n",
       "             (32, 2513): 10,\n",
       "             (23, 49): 10,\n",
       "             (777, 2475): 10,\n",
       "             (66, 2487): 10,\n",
       "             (49, 2613): 10,\n",
       "             (85, 117): 10,\n",
       "             (22, 419): 10,\n",
       "             (13, 53): 10,\n",
       "             (85, 2700): 10,\n",
       "             (17, 1247): 10,\n",
       "             (2337, 2370): 10,\n",
       "             (50, 1691): 10,\n",
       "             (91, 2427): 10,\n",
       "             (2533, 2646): 10,\n",
       "             (66, 1335): 10,\n",
       "             (50, 959): 10,\n",
       "             (50, 278): 10,\n",
       "             (114, 361): 10,\n",
       "             (2414, 2449): 10,\n",
       "             (55, 2420): 10,\n",
       "             (61, 1295): 10,\n",
       "             (59, 115): 10,\n",
       "             (8, 1263): 10,\n",
       "             (49, 1263): 10,\n",
       "             (288, 2411): 10,\n",
       "             (115, 758): 10,\n",
       "             (10, 2489): 10,\n",
       "             (23, 2585): 10,\n",
       "             (29, 370): 10,\n",
       "             (29, 2506): 10,\n",
       "             (1861, 2603): 10,\n",
       "             (79, 1454): 10,\n",
       "             (66, 2478): 10,\n",
       "             (79, 243): 10,\n",
       "             (78, 2310): 10,\n",
       "             (39, 852): 10,\n",
       "             (71, 2142): 10,\n",
       "             (71, 714): 10,\n",
       "             (79, 677): 10,\n",
       "             (71, 2609): 10,\n",
       "             (85, 1277): 10,\n",
       "             (32, 2454): 10,\n",
       "             (32, 491): 10,\n",
       "             (2, 2065): 10,\n",
       "             (20, 256): 10,\n",
       "             (54, 2479): 10,\n",
       "             (1364, 2643): 10,\n",
       "             (50, 2340): 10,\n",
       "             (101, 1582): 10,\n",
       "             (32, 1372): 10,\n",
       "             (79, 2478): 10,\n",
       "             (63, 1928): 10,\n",
       "             (49, 2629): 10,\n",
       "             (71, 127): 10,\n",
       "             (93, 635): 10,\n",
       "             (13, 90): 10,\n",
       "             (53, 1044): 10,\n",
       "             (2264, 2368): 10,\n",
       "             (21, 2629): 10,\n",
       "             (29, 1793): 10,\n",
       "             (50, 53): 10,\n",
       "             (66, 2461): 10,\n",
       "             (72, 726): 10,\n",
       "             (79, 1094): 10,\n",
       "             (25, 1386): 10,\n",
       "             (130, 292): 10,\n",
       "             (41, 1509): 10,\n",
       "             (54, 2639): 10,\n",
       "             (15, 72): 10,\n",
       "             (69, 1836): 10})"
      ]
     },
     "execution_count": 10,
     "metadata": {},
     "output_type": "execute_result"
    }
   ],
   "source": [
    "amts"
   ]
  },
  {
   "cell_type": "code",
   "execution_count": 11,
   "id": "14c3fe3f-c399-458f-9e4a-6d9b8a33b671",
   "metadata": {},
   "outputs": [],
   "source": [
    "sorted_list = sorted(amts.items(), key=lambda item: item[1], reverse=True)\n",
    "sorted_keys = [key for key, value in sorted_list]"
   ]
  },
  {
   "cell_type": "code",
   "execution_count": 12,
   "id": "9b09f108-cb33-4b92-9325-66f627f10427",
   "metadata": {},
   "outputs": [],
   "source": [
    "edges_to_add = sorted_keys"
   ]
  },
  {
   "cell_type": "code",
   "execution_count": 13,
   "id": "0819fb57-60bd-43ac-81df-049000deec5e",
   "metadata": {},
   "outputs": [],
   "source": [
    "from torch_geometric.utils import dense_to_sparse, to_networkx, from_networkx\n",
    "import networkx as nx"
   ]
  },
  {
   "cell_type": "code",
   "execution_count": 20,
   "id": "fc019a1b-a6cf-4aa0-ae15-57c47805d242",
   "metadata": {},
   "outputs": [],
   "source": [
    "G = to_networkx(data, to_undirected=True)\n",
    "initial_edge_count = G.number_of_edges() // 2\n",
    "ptb_rate = 0.19\n",
    "budget = int(ptb_rate * initial_edge_count)"
   ]
  },
  {
   "cell_type": "code",
   "execution_count": 21,
   "id": "dcdbb142-71ec-424c-9eb5-4c6c886085d0",
   "metadata": {},
   "outputs": [
    {
     "name": "stdout",
     "output_type": "stream",
     "text": [
      "502\n",
      "501\n"
     ]
    }
   ],
   "source": [
    "print(len(edges_to_add))\n",
    "print(budget)"
   ]
  },
  {
   "cell_type": "code",
   "execution_count": 22,
   "id": "d387690e-4733-4256-bf17-374e8313dcb4",
   "metadata": {},
   "outputs": [],
   "source": [
    "def two_phase_attack(split):\n",
    "    diff_threshold = 0.01\n",
    "    first_phase_edges = int(budget * split)\n",
    "    second_phase_percent = ptb_rate * (1 - split) * 0.5\n",
    "    print(f\"\\n--- Running split: {split} ---\")\n",
    "    print(f\"Second phase perturbation rate: {second_phase_percent:.4f}\")\n",
    "\n",
    "    phase1_accuracies = []\n",
    "    phase2_accuracies = []\n",
    "\n",
    "    G = to_networkx(data, to_undirected=True)\n",
    "    data_copy = copy.copy(data)\n",
    "\n",
    "    i, j = 0, 0  # i - edges successfully added, j - index in list\n",
    "\n",
    "    # === Phase 1 ===\n",
    "    while i < first_phase_edges:\n",
    "        if j >= len(edges_to_add):\n",
    "            print(\"Ran out of candidate edges in Phase 1. Moving to Phase 2.\")\n",
    "            break\n",
    "\n",
    "        u, v = edges_to_add[j]\n",
    "        G.add_edge(u, v)\n",
    "\n",
    "        modified_data = from_networkx(G).to(device)\n",
    "        modified_data.x = data.x \n",
    "        modified_data.y = data.y \n",
    "        modified_data.train_mask = data.train_mask\n",
    "        modified_data.test_mask = data.test_mask\n",
    "\n",
    "        _, modified_accuracy = train.test(modified_data)\n",
    "\n",
    "        if modified_accuracy == initial_accuracy:\n",
    "            i += 1\n",
    "            phase1_accuracies.append(modified_accuracy)\n",
    "        else:\n",
    "            G.remove_edge(u, v)\n",
    "\n",
    "        j += 1\n",
    "\n",
    "    print(f\"Phase 1: Added {i} edges out of requested {first_phase_edges}.\")\n",
    "\n",
    "    # === Phase 2 ===\n",
    "    modified_data = from_networkx(G).to(device)\n",
    "    modified_data.x = data.x \n",
    "    modified_data.y = data.y \n",
    "    modified_data.train_mask = data.train_mask\n",
    "    modified_data.test_mask = data.test_mask\n",
    "\n",
    "    attacker = Metattack(modified_data, device=device)\n",
    "    attacker.setup_surrogate(model,\n",
    "                             labeled_nodes=data.train_mask,\n",
    "                             unlabeled_nodes=data.test_mask, \n",
    "                             lambda_=0.)\n",
    "    attacker.reset()\n",
    "    attacker.attack(second_phase_percent)\n",
    "\n",
    "    degs = defaultdict(tuple)\n",
    "    for k, v in attacker._added_edges.items():\n",
    "        degs[v] = (k, True)\n",
    "    for k, v in attacker._removed_edges.items():\n",
    "        degs[v] = (k, False)\n",
    "\n",
    "    for _, second in degs.items():\n",
    "        u, v = second[0]\n",
    "        if second[1]:\n",
    "            G.add_edge(u, v)\n",
    "        else:\n",
    "            G.remove_edge(u, v)\n",
    "\n",
    "        modified_data = from_networkx(G).to(device)\n",
    "        modified_data.x = data.x \n",
    "        modified_data.y = data.y \n",
    "        modified_data.train_mask = data.train_mask\n",
    "        modified_data.test_mask = data.test_mask\n",
    "\n",
    "        _, modified_accuracy = train.test(modified_data)\n",
    "        phase2_accuracies.append(modified_accuracy)\n",
    "\n",
    "    # === Final Reporting ===\n",
    "    final_accuracy = phase2_accuracies[-1] if phase2_accuracies else (\n",
    "        phase1_accuracies[-1] if phase1_accuracies else initial_accuracy)\n",
    "    accuracy_drop = initial_accuracy - final_accuracy\n",
    "\n",
    "    print(f\"Final Accuracy: {final_accuracy:.4f}\")\n",
    "    print(f\"Accuracy Drop: {accuracy_drop:.4f}\")\n",
    "\n",
    "    return {\n",
    "        \"split\": split,\n",
    "        \"phase1_added\": i,\n",
    "        \"phase1_accuracies\": phase1_accuracies,\n",
    "        \"phase2_accuracies\": phase2_accuracies,\n",
    "        \"final_accuracy\": final_accuracy,\n",
    "        \"accuracy_drop\": accuracy_drop\n",
    "    }\n"
   ]
  },
  {
   "cell_type": "code",
   "execution_count": 23,
   "id": "a9dea6c6-42e5-48ac-ae64-03decca074d5",
   "metadata": {},
   "outputs": [],
   "source": [
    "splits = [0, 0.5]\n",
    "split_dic = defaultdict(list)"
   ]
  },
  {
   "cell_type": "code",
   "execution_count": 24,
   "id": "529386fe-c89c-402a-948c-a4d2994b6512",
   "metadata": {},
   "outputs": [
    {
     "name": "stdout",
     "output_type": "stream",
     "text": [
      "0\n",
      "\n",
      "--- Running split: 0 ---\n",
      "Second phase perturbation rate: 0.0950\n",
      "Phase 1: Added 0 edges out of requested 0.\n"
     ]
    },
    {
     "data": {
      "application/vnd.jupyter.widget-view+json": {
       "model_id": "e659ebd12ade4201b40c8c23cb012917",
       "version_major": 2,
       "version_minor": 0
      },
      "text/plain": [
       "Peturbing graph...:   0%|          | 0/501 [00:00<?, ?it/s]"
      ]
     },
     "metadata": {},
     "output_type": "display_data"
    },
    {
     "name": "stdout",
     "output_type": "stream",
     "text": [
      "Final Accuracy: 0.7510\n",
      "Accuracy Drop: 0.0240\n",
      "0.5\n",
      "\n",
      "--- Running split: 0.5 ---\n",
      "Second phase perturbation rate: 0.0475\n",
      "Phase 1: Added 250 edges out of requested 250.\n"
     ]
    },
    {
     "data": {
      "application/vnd.jupyter.widget-view+json": {
       "model_id": "20bc5224e9d14c27acaa73e3a86bcc4f",
       "version_major": 2,
       "version_minor": 0
      },
      "text/plain": [
       "Peturbing graph...:   0%|          | 0/262 [00:00<?, ?it/s]"
      ]
     },
     "metadata": {},
     "output_type": "display_data"
    },
    {
     "name": "stdout",
     "output_type": "stream",
     "text": [
      "Final Accuracy: 0.7480\n",
      "Accuracy Drop: 0.0270\n"
     ]
    }
   ],
   "source": [
    "for s in splits:\n",
    "    print(s)\n",
    "    split_dic[s] = two_phase_attack(s)"
   ]
  },
  {
   "cell_type": "code",
   "execution_count": 19,
   "id": "fc03d876-4858-42ec-b19a-a48d3e8935f2",
   "metadata": {},
   "outputs": [],
   "source": [
    "G = to_networkx(data, to_undirected=True)\n",
    "initial_edge_count = G.number_of_edges() // 2\n",
    "ptb_rate = 0.5\n",
    "budget = int(ptb_rate * initial_edge_count)"
   ]
  },
  {
   "cell_type": "code",
   "execution_count": 20,
   "id": "e684c57d-0c50-4c2a-9513-7c440ed12a51",
   "metadata": {},
   "outputs": [
    {
     "name": "stdout",
     "output_type": "stream",
     "text": [
      "724\n",
      "1319\n"
     ]
    }
   ],
   "source": [
    "print(len(edges_to_add))\n",
    "print(budget)"
   ]
  },
  {
   "cell_type": "code",
   "execution_count": null,
   "id": "5392bcbf-fe97-499d-a646-813c55f1d7d2",
   "metadata": {},
   "outputs": [],
   "source": []
  }
 ],
 "metadata": {
  "kernelspec": {
   "display_name": "Python 3 (ipykernel)",
   "language": "python",
   "name": "python3"
  },
  "language_info": {
   "codemirror_mode": {
    "name": "ipython",
    "version": 3
   },
   "file_extension": ".py",
   "mimetype": "text/x-python",
   "name": "python",
   "nbconvert_exporter": "python",
   "pygments_lexer": "ipython3",
   "version": "3.9.18"
  }
 },
 "nbformat": 4,
 "nbformat_minor": 5
}
