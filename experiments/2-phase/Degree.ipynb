{
 "cells": [
  {
   "cell_type": "code",
   "execution_count": 1,
   "id": "14440f37-bb27-49d3-ba89-3ed6a4530a1c",
   "metadata": {},
   "outputs": [
    {
     "name": "stdout",
     "output_type": "stream",
     "text": [
      "[Errno 2] No such file or directory: 'are-gnn-defenses-robust/'\n",
      "/home/niyati/ERSP/2-phase-attack/experiments/2-phase\n"
     ]
    },
    {
     "name": "stderr",
     "output_type": "stream",
     "text": [
      "/home/niyati/miniconda3/envs/ersp_v2/lib/python3.9/site-packages/IPython/core/magics/osm.py:393: UserWarning: using bookmarks requires you to install the `pickleshare` library.\n",
      "  bkms = self.shell.db.get('bookmarks', {})\n"
     ]
    }
   ],
   "source": [
    "%cd are-gnn-defenses-robust/"
   ]
  },
  {
   "cell_type": "code",
   "execution_count": 4,
   "id": "cbc284fc-8e46-4645-bb36-6f79054e5e53",
   "metadata": {},
   "outputs": [
    {
     "name": "stdout",
     "output_type": "stream",
     "text": [
      "/home/niyati/miniconda3/envs/ersp_v2/bin/python\n"
     ]
    }
   ],
   "source": [
    "import sys\n",
    "from itertools import count\n",
    "from torch import autograd\n",
    "from torch_geometric.utils import dense_to_sparse\n",
    "import copy\n",
    "\n",
    "sys.path.append('../../')\n",
    "\n",
    "from src.models.gcn import *\n",
    "from src.utils.datasets import *\n",
    "from src.models.trainable import *\n",
    "\n",
    "print(sys.executable)"
   ]
  },
  {
   "cell_type": "code",
   "execution_count": 11,
   "id": "8e03370f-1e5a-45ce-a6c4-6577604acf39",
   "metadata": {},
   "outputs": [
    {
     "name": "stdout",
     "output_type": "stream",
     "text": [
      "Data(x=[2708, 1433], edge_index=[2, 10556], y=[2708], train_mask=[2708], val_mask=[2708], test_mask=[2708])\n"
     ]
    }
   ],
   "source": [
    "dataset_directory = \"../Cora\"\n",
    "cora_dataset = Planetoid(root=dataset_directory, name='Cora')\n",
    "data = cora_dataset[0].to(device)\n",
    "print(data)"
   ]
  },
  {
   "cell_type": "code",
   "execution_count": 12,
   "id": "d17f0802-5411-4c38-b89f-d30c040dea50",
   "metadata": {},
   "outputs": [],
   "source": [
    "model = GCN(data.x.shape[1], cora_dataset.num_classes, [16]).to(device)"
   ]
  },
  {
   "cell_type": "code",
   "execution_count": 13,
   "id": "ea9fee66-7c98-4969-ac3e-74473473372e",
   "metadata": {},
   "outputs": [
    {
     "name": "stdout",
     "output_type": "stream",
     "text": [
      "Epoch 0, Train Loss - 3.4292547702789307, Val Loss - 5.599295616149902, Val Accuracy - 0.227\n",
      "Epoch 20, Train Loss - 0.2924160659313202, Val Loss - 1.1626044511795044, Val Accuracy - 0.737\n",
      "Epoch 40, Train Loss - 0.08849116414785385, Val Loss - 1.567559003829956, Val Accuracy - 0.762\n",
      "Epoch 60, Train Loss - 0.04000654071569443, Val Loss - 1.8592064380645752, Val Accuracy - 0.753\n",
      "Epoch 80, Train Loss - 0.06099880859255791, Val Loss - 2.0569310188293457, Val Accuracy - 0.741\n",
      "Epoch 100, Train Loss - 0.040557872503995895, Val Loss - 2.2705068588256836, Val Accuracy - 0.75\n",
      "Epoch 120, Train Loss - 0.03164071962237358, Val Loss - 2.2997636795043945, Val Accuracy - 0.768\n",
      "Epoch 140, Train Loss - 0.03562059998512268, Val Loss - 2.4598588943481445, Val Accuracy - 0.749\n",
      "Epoch 160, Train Loss - 0.03696182370185852, Val Loss - 2.232696533203125, Val Accuracy - 0.738\n",
      "Epoch 180, Train Loss - 0.02980910800397396, Val Loss - 2.5133919715881348, Val Accuracy - 0.734\n",
      "Epoch 200, Train Loss - 0.013250546529889107, Val Loss - 2.5110294818878174, Val Accuracy - 0.745\n",
      "Epoch 220, Train Loss - 0.009911433793604374, Val Loss - 2.5094873905181885, Val Accuracy - 0.754\n",
      "Epoch 240, Train Loss - 0.008088179863989353, Val Loss - 2.4677839279174805, Val Accuracy - 0.766\n",
      "Epoch 260, Train Loss - 0.08905236423015594, Val Loss - 2.815018892288208, Val Accuracy - 0.753\n",
      "Epoch 280, Train Loss - 0.022437376901507378, Val Loss - 2.5376815795898438, Val Accuracy - 0.758\n",
      "Epoch 300, Train Loss - 0.05027235299348831, Val Loss - 2.379364490509033, Val Accuracy - 0.76\n",
      "Epoch 320, Train Loss - 0.055607281625270844, Val Loss - 2.247023582458496, Val Accuracy - 0.755\n",
      "Epoch 340, Train Loss - 0.03905296325683594, Val Loss - 2.3873980045318604, Val Accuracy - 0.761\n",
      "Epoch 360, Train Loss - 0.030246445909142494, Val Loss - 2.456299066543579, Val Accuracy - 0.757\n",
      "Epoch 380, Train Loss - 0.024891555309295654, Val Loss - 2.8104324340820312, Val Accuracy - 0.755\n",
      "Epoch 400, Train Loss - 0.10816451162099838, Val Loss - 2.4157984256744385, Val Accuracy - 0.746\n",
      "Epoch 420, Train Loss - 0.02891349047422409, Val Loss - 2.023449420928955, Val Accuracy - 0.736\n",
      "Epoch 440, Train Loss - 0.02276810258626938, Val Loss - 2.355278253555298, Val Accuracy - 0.747\n",
      "Epoch 460, Train Loss - 0.01416146382689476, Val Loss - 2.540313720703125, Val Accuracy - 0.753\n",
      "Epoch 480, Train Loss - 0.011290016584098339, Val Loss - 2.6996278762817383, Val Accuracy - 0.739\n",
      "Epoch 500, Train Loss - 0.025907039642333984, Val Loss - 2.3757212162017822, Val Accuracy - 0.736\n"
     ]
    }
   ],
   "source": [
    "model.reset_parameters()\n",
    "train = Trainable(model)\n",
    "train.fit(data, 500)"
   ]
  },
  {
   "cell_type": "code",
   "execution_count": 15,
   "id": "31dc21cc-385e-47a1-a048-e6c93de4963b",
   "metadata": {},
   "outputs": [
    {
     "name": "stdout",
     "output_type": "stream",
     "text": [
      "Initial Accuracy: 0.736\n"
     ]
    }
   ],
   "source": [
    "# Get initial accuracy\n",
    "_, initial_accuracy = train.test(data)\n",
    "print(f\"Initial Accuracy: {initial_accuracy}\")"
   ]
  },
  {
   "cell_type": "code",
   "execution_count": 28,
   "id": "dc5027e6-f2e2-435c-8846-912541826a15",
   "metadata": {},
   "outputs": [
    {
     "name": "stdout",
     "output_type": "stream",
     "text": [
      "Modified Accuracy: 0.733\n",
      "Edges Added: 100\n",
      "Percentage Increase in Edges: 1.89%\n",
      "Accuracy Change: -0.0030\n"
     ]
    }
   ],
   "source": [
    "import sys\n",
    "import torch\n",
    "from itertools import count\n",
    "from torch_geometric.utils import dense_to_sparse, to_networkx, from_networkx\n",
    "import random\n",
    "import numpy as np\n",
    "import networkx as nx\n",
    "\n",
    "\n",
    "# Convert the graph to NetworkX for manipulation\n",
    "G = to_networkx(data, to_undirected=True)\n",
    "\n",
    "# Store initial edge count\n",
    "initial_edge_count = G.number_of_edges()\n",
    "\n",
    "# Degree-based Edge Addition\n",
    "num_edges_to_add = 100  # Define the number of edges to add\n",
    "\n",
    "# Calculate the degree of each node\n",
    "degrees = dict(G.degree())\n",
    "\n",
    "# Group nodes by degree range (e.g., group nodes with degrees within ±1)\n",
    "degree_bins = {}\n",
    "for node, degree in degrees.items():\n",
    "    bin_key = degree // 2  # Bin nodes by ranges of 2\n",
    "    if bin_key not in degree_bins:\n",
    "        degree_bins[bin_key] = []\n",
    "    degree_bins[bin_key].append(node)\n",
    "\n",
    "# Generate potential edges between nodes in the same degree bin\n",
    "edges_to_add = []\n",
    "for bin_nodes in degree_bins.values():\n",
    "    if len(bin_nodes) > 1:\n",
    "        # Randomly pair nodes within the same bin\n",
    "        random.shuffle(bin_nodes)\n",
    "        for i in range(len(bin_nodes)):\n",
    "            for j in range(i + 1, len(bin_nodes)):\n",
    "                if not G.has_edge(bin_nodes[i], bin_nodes[j]):\n",
    "                    edges_to_add.append((bin_nodes[i], bin_nodes[j]))\n",
    "\n",
    "\n",
    "# Randomly select a subset of edges to add\n",
    "random.shuffle(edges_to_add)\n",
    "edges_to_add = edges_to_add[:num_edges_to_add]\n",
    "\n",
    "\n",
    "# Add the selected edges to the graph\n",
    "for i, j in edges_to_add:\n",
    "    G.add_edge(i, j)\n",
    "\n",
    "# Store final edge count\n",
    "final_edge_count = G.number_of_edges()\n",
    "\n",
    "# Convert back to PyTorch Geometric format\n",
    "modified_data = from_networkx(G).to(device)\n",
    "modified_data.x = data.x  # Preserve original node features\n",
    "modified_data.y = data.y  # Preserve original labels\n",
    "modified_data.train_mask = data.train_mask\n",
    "modified_data.test_mask = data.test_mask\n",
    "\n",
    "# Evaluate the model on the modified graph\n",
    "_, modified_accuracy = train.test(modified_data)\n",
    "print(f\"Modified Accuracy: {modified_accuracy}\")\n",
    "\n",
    "# Calculate and display the edge statistics\n",
    "edge_difference = final_edge_count - initial_edge_count\n",
    "print(f\"Edges Added: {edge_difference}\")\n",
    "print(f\"Percentage Increase in Edges: {100 * edge_difference / initial_edge_count:.2f}%\")\n",
    "\n",
    "# Output accuracy change\n",
    "accuracy_change = modified_accuracy - initial_accuracy\n",
    "print(f\"Accuracy Change: {accuracy_change:.4f}\")\n",
    "\n"
   ]
  },
  {
   "cell_type": "code",
   "execution_count": 29,
   "id": "46489790-44cc-4585-a2a8-cf578c80ad51",
   "metadata": {},
   "outputs": [
    {
     "name": "stdout",
     "output_type": "stream",
     "text": [
      "Modified Accuracy: 0.728\n",
      "Edges Added: 200\n",
      "Percentage Increase in Edges: 3.79%\n",
      "Accuracy Change: -0.0080\n"
     ]
    }
   ],
   "source": [
    "# Convert the graph to NetworkX for manipulation\n",
    "G = to_networkx(data, to_undirected=True)\n",
    "\n",
    "# Store initial edge count\n",
    "initial_edge_count = G.number_of_edges()\n",
    "\n",
    "# Degree-based Edge Addition\n",
    "num_edges_to_add = 200  # Define the number of edges to add\n",
    "\n",
    "# Calculate the degree of each node\n",
    "degrees = dict(G.degree())\n",
    "\n",
    "# Group nodes by degree range (e.g., group nodes with degrees within ±1)\n",
    "degree_bins = {}\n",
    "for node, degree in degrees.items():\n",
    "    bin_key = degree // 2  # Bin nodes by ranges of 2\n",
    "    if bin_key not in degree_bins:\n",
    "        degree_bins[bin_key] = []\n",
    "    degree_bins[bin_key].append(node)\n",
    "\n",
    "# Generate potential edges between nodes in the same degree bin\n",
    "edges_to_add = []\n",
    "for bin_nodes in degree_bins.values():\n",
    "    if len(bin_nodes) > 1:\n",
    "        # Randomly pair nodes within the same bin\n",
    "        random.shuffle(bin_nodes)\n",
    "        for i in range(len(bin_nodes)):\n",
    "            for j in range(i + 1, len(bin_nodes)):\n",
    "                if not G.has_edge(bin_nodes[i], bin_nodes[j]):\n",
    "                    edges_to_add.append((bin_nodes[i], bin_nodes[j]))\n",
    "\n",
    "\n",
    "# Randomly select a subset of edges to add\n",
    "random.shuffle(edges_to_add)\n",
    "edges_to_add = edges_to_add[:num_edges_to_add]\n",
    "\n",
    "\n",
    "# Add the selected edges to the graph\n",
    "for i, j in edges_to_add:\n",
    "    G.add_edge(i, j)\n",
    "\n",
    "# Store final edge count\n",
    "final_edge_count = G.number_of_edges()\n",
    "\n",
    "# Convert back to PyTorch Geometric format\n",
    "modified_data = from_networkx(G).to(device)\n",
    "modified_data.x = data.x  # Preserve original node features\n",
    "modified_data.y = data.y  # Preserve original labels\n",
    "modified_data.train_mask = data.train_mask\n",
    "modified_data.test_mask = data.test_mask\n",
    "\n",
    "# Evaluate the model on the modified graph\n",
    "_, modified_accuracy = train.test(modified_data)\n",
    "print(f\"Modified Accuracy: {modified_accuracy}\")\n",
    "\n",
    "# Calculate and display the edge statistics\n",
    "edge_difference = final_edge_count - initial_edge_count\n",
    "print(f\"Edges Added: {edge_difference}\")\n",
    "print(f\"Percentage Increase in Edges: {100 * edge_difference / initial_edge_count:.2f}%\")\n",
    "\n",
    "# Output accuracy change\n",
    "accuracy_change = modified_accuracy - initial_accuracy\n",
    "print(f\"Accuracy Change: {accuracy_change:.4f}\")"
   ]
  },
  {
   "cell_type": "code",
   "execution_count": 30,
   "id": "f0ba3271-6247-45fe-8572-5a066ed16389",
   "metadata": {},
   "outputs": [
    {
     "name": "stdout",
     "output_type": "stream",
     "text": [
      "Modified Accuracy: 0.733\n",
      "Edges Added: 300\n",
      "Percentage Increase in Edges: 5.68%\n",
      "Accuracy Change: -0.0030\n"
     ]
    }
   ],
   "source": [
    "# Convert the graph to NetworkX for manipulation\n",
    "G = to_networkx(data, to_undirected=True)\n",
    "\n",
    "# Store initial edge count\n",
    "initial_edge_count = G.number_of_edges()\n",
    "\n",
    "# Degree-based Edge Addition\n",
    "num_edges_to_add = 300  # Define the number of edges to add\n",
    "\n",
    "# Calculate the degree of each node\n",
    "degrees = dict(G.degree())\n",
    "\n",
    "# Group nodes by degree range (e.g., group nodes with degrees within ±1)\n",
    "degree_bins = {}\n",
    "for node, degree in degrees.items():\n",
    "    bin_key = degree // 2  # Bin nodes by ranges of 2\n",
    "    if bin_key not in degree_bins:\n",
    "        degree_bins[bin_key] = []\n",
    "    degree_bins[bin_key].append(node)\n",
    "\n",
    "# Generate potential edges between nodes in the same degree bin\n",
    "edges_to_add = []\n",
    "for bin_nodes in degree_bins.values():\n",
    "    if len(bin_nodes) > 1:\n",
    "        # Randomly pair nodes within the same bin\n",
    "        random.shuffle(bin_nodes)\n",
    "        for i in range(len(bin_nodes)):\n",
    "            for j in range(i + 1, len(bin_nodes)):\n",
    "                if not G.has_edge(bin_nodes[i], bin_nodes[j]):\n",
    "                    edges_to_add.append((bin_nodes[i], bin_nodes[j]))\n",
    "\n",
    "\n",
    "# Randomly select a subset of edges to add\n",
    "random.shuffle(edges_to_add)\n",
    "edges_to_add = edges_to_add[:num_edges_to_add]\n",
    "\n",
    "\n",
    "# Add the selected edges to the graph\n",
    "for i, j in edges_to_add:\n",
    "    G.add_edge(i, j)\n",
    "\n",
    "# Store final edge count\n",
    "final_edge_count = G.number_of_edges()\n",
    "\n",
    "# Convert back to PyTorch Geometric format\n",
    "modified_data = from_networkx(G).to(device)\n",
    "modified_data.x = data.x  # Preserve original node features\n",
    "modified_data.y = data.y  # Preserve original labels\n",
    "modified_data.train_mask = data.train_mask\n",
    "modified_data.test_mask = data.test_mask\n",
    "\n",
    "# Evaluate the model on the modified graph\n",
    "_, modified_accuracy = train.test(modified_data)\n",
    "print(f\"Modified Accuracy: {modified_accuracy}\")\n",
    "\n",
    "# Calculate and display the edge statistics\n",
    "edge_difference = final_edge_count - initial_edge_count\n",
    "print(f\"Edges Added: {edge_difference}\")\n",
    "print(f\"Percentage Increase in Edges: {100 * edge_difference / initial_edge_count:.2f}%\")\n",
    "\n",
    "# Output accuracy change\n",
    "accuracy_change = modified_accuracy - initial_accuracy\n",
    "print(f\"Accuracy Change: {accuracy_change:.4f}\")"
   ]
  },
  {
   "cell_type": "code",
   "execution_count": 31,
   "id": "2746ca0b-5969-4906-b26a-dcc5c29a2c9a",
   "metadata": {},
   "outputs": [
    {
     "name": "stdout",
     "output_type": "stream",
     "text": [
      "Modified Accuracy: 0.729\n",
      "Edges Added: 1000\n",
      "Percentage Increase in Edges: 18.95%\n",
      "Accuracy Change: -0.0070\n"
     ]
    }
   ],
   "source": [
    "# Convert the graph to NetworkX for manipulation\n",
    "G = to_networkx(data, to_undirected=True)\n",
    "\n",
    "# Store initial edge count\n",
    "initial_edge_count = G.number_of_edges()\n",
    "\n",
    "# Degree-based Edge Addition\n",
    "num_edges_to_add = 1000  # Define the number of edges to add\n",
    "\n",
    "# Calculate the degree of each node\n",
    "degrees = dict(G.degree())\n",
    "\n",
    "# Group nodes by degree range (e.g., group nodes with degrees within ±1)\n",
    "degree_bins = {}\n",
    "for node, degree in degrees.items():\n",
    "    bin_key = degree // 2  # Bin nodes by ranges of 2\n",
    "    if bin_key not in degree_bins:\n",
    "        degree_bins[bin_key] = []\n",
    "    degree_bins[bin_key].append(node)\n",
    "\n",
    "# Generate potential edges between nodes in the same degree bin\n",
    "edges_to_add = []\n",
    "for bin_nodes in degree_bins.values():\n",
    "    if len(bin_nodes) > 1:\n",
    "        # Randomly pair nodes within the same bin\n",
    "        random.shuffle(bin_nodes)\n",
    "        for i in range(len(bin_nodes)):\n",
    "            for j in range(i + 1, len(bin_nodes)):\n",
    "                if not G.has_edge(bin_nodes[i], bin_nodes[j]):\n",
    "                    edges_to_add.append((bin_nodes[i], bin_nodes[j]))\n",
    "\n",
    "\n",
    "# Randomly select a subset of edges to add\n",
    "random.shuffle(edges_to_add)\n",
    "edges_to_add = edges_to_add[:num_edges_to_add]\n",
    "\n",
    "\n",
    "# Add the selected edges to the graph\n",
    "for i, j in edges_to_add:\n",
    "    G.add_edge(i, j)\n",
    "\n",
    "# Store final edge count\n",
    "final_edge_count = G.number_of_edges()\n",
    "\n",
    "# Convert back to PyTorch Geometric format\n",
    "modified_data = from_networkx(G).to(device)\n",
    "modified_data.x = data.x  # Preserve original node features\n",
    "modified_data.y = data.y  # Preserve original labels\n",
    "modified_data.train_mask = data.train_mask\n",
    "modified_data.test_mask = data.test_mask\n",
    "\n",
    "# Evaluate the model on the modified graph\n",
    "_, modified_accuracy = train.test(modified_data)\n",
    "print(f\"Modified Accuracy: {modified_accuracy}\")\n",
    "\n",
    "# Calculate and display the edge statistics\n",
    "edge_difference = final_edge_count - initial_edge_count\n",
    "print(f\"Edges Added: {edge_difference}\")\n",
    "print(f\"Percentage Increase in Edges: {100 * edge_difference / initial_edge_count:.2f}%\")\n",
    "\n",
    "# Output accuracy change\n",
    "accuracy_change = modified_accuracy - initial_accuracy\n",
    "print(f\"Accuracy Change: {accuracy_change:.4f}\")"
   ]
  },
  {
   "cell_type": "code",
   "execution_count": 32,
   "id": "9bc1d5d9-3076-45cc-b036-e087953a6636",
   "metadata": {},
   "outputs": [
    {
     "name": "stdout",
     "output_type": "stream",
     "text": [
      "Modified Accuracy: 0.688\n",
      "Edges Added: 2000\n",
      "Percentage Increase in Edges: 37.89%\n",
      "Accuracy Change: -0.0480\n"
     ]
    }
   ],
   "source": [
    "# Convert the graph to NetworkX for manipulation\n",
    "G = to_networkx(data, to_undirected=True)\n",
    "\n",
    "# Store initial edge count\n",
    "initial_edge_count = G.number_of_edges()\n",
    "\n",
    "# Degree-based Edge Addition\n",
    "num_edges_to_add = 2000  # Define the number of edges to add\n",
    "\n",
    "# Calculate the degree of each node\n",
    "degrees = dict(G.degree())\n",
    "\n",
    "# Group nodes by degree range (e.g., group nodes with degrees within ±1)\n",
    "degree_bins = {}\n",
    "for node, degree in degrees.items():\n",
    "    bin_key = degree // 2  # Bin nodes by ranges of 2\n",
    "    if bin_key not in degree_bins:\n",
    "        degree_bins[bin_key] = []\n",
    "    degree_bins[bin_key].append(node)\n",
    "\n",
    "# Generate potential edges between nodes in the same degree bin\n",
    "edges_to_add = []\n",
    "for bin_nodes in degree_bins.values():\n",
    "    if len(bin_nodes) > 1:\n",
    "        # Randomly pair nodes within the same bin\n",
    "        random.shuffle(bin_nodes)\n",
    "        for i in range(len(bin_nodes)):\n",
    "            for j in range(i + 1, len(bin_nodes)):\n",
    "                if not G.has_edge(bin_nodes[i], bin_nodes[j]):\n",
    "                    edges_to_add.append((bin_nodes[i], bin_nodes[j]))\n",
    "\n",
    "\n",
    "# Randomly select a subset of edges to add\n",
    "random.shuffle(edges_to_add)\n",
    "edges_to_add = edges_to_add[:num_edges_to_add]\n",
    "\n",
    "\n",
    "# Add the selected edges to the graph\n",
    "for i, j in edges_to_add:\n",
    "    G.add_edge(i, j)\n",
    "\n",
    "# Store final edge count\n",
    "final_edge_count = G.number_of_edges()\n",
    "\n",
    "# Convert back to PyTorch Geometric format\n",
    "modified_data = from_networkx(G).to(device)\n",
    "modified_data.x = data.x  # Preserve original node features\n",
    "modified_data.y = data.y  # Preserve original labels\n",
    "modified_data.train_mask = data.train_mask\n",
    "modified_data.test_mask = data.test_mask\n",
    "\n",
    "# Evaluate the model on the modified graph\n",
    "_, modified_accuracy = train.test(modified_data)\n",
    "print(f\"Modified Accuracy: {modified_accuracy}\")\n",
    "\n",
    "# Calculate and display the edge statistics\n",
    "edge_difference = final_edge_count - initial_edge_count\n",
    "print(f\"Edges Added: {edge_difference}\")\n",
    "print(f\"Percentage Increase in Edges: {100 * edge_difference / initial_edge_count:.2f}%\")\n",
    "\n",
    "# Output accuracy change\n",
    "accuracy_change = modified_accuracy - initial_accuracy\n",
    "print(f\"Accuracy Change: {accuracy_change:.4f}\")"
   ]
  },
  {
   "cell_type": "code",
   "execution_count": null,
   "id": "60e13460-9707-4ad9-9c5e-c0fa28ac800a",
   "metadata": {},
   "outputs": [],
   "source": []
  }
 ],
 "metadata": {
  "kernelspec": {
   "display_name": "Python 3 (ipykernel)",
   "language": "python",
   "name": "python3"
  },
  "language_info": {
   "codemirror_mode": {
    "name": "ipython",
    "version": 3
   },
   "file_extension": ".py",
   "mimetype": "text/x-python",
   "name": "python",
   "nbconvert_exporter": "python",
   "pygments_lexer": "ipython3",
   "version": "3.9.18"
  }
 },
 "nbformat": 4,
 "nbformat_minor": 5
}
