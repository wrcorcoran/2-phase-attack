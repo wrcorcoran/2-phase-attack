{
 "cells": [
  {
   "cell_type": "code",
   "execution_count": 1,
   "id": "f9a0f846-f2f5-497e-885a-4a92a88a7537",
   "metadata": {},
   "outputs": [
    {
     "name": "stdout",
     "output_type": "stream",
     "text": [
      "/home/niyati/miniconda3/envs/ersp_v2/bin/python\n"
     ]
    }
   ],
   "source": [
    "import sys\n",
    "from itertools import count\n",
    "from torch import autograd\n",
    "from torch_geometric.utils import dense_to_sparse\n",
    "import copy\n",
    "from collections import defaultdict\n",
    "\n",
    "sys.path.append('../../')\n",
    "\n",
    "from src.models.gcn import *\n",
    "from src.utils.datasets import *\n",
    "from src.models.trainable import *\n",
    "from src.attacks.meta_pgd import *\n",
    "from src.attacks.greedy_gd import *\n",
    "print(sys.executable)"
   ]
  },
  {
   "cell_type": "code",
   "execution_count": 2,
   "id": "7f1206c6-aea0-4b20-ac37-5b7fbaa5ab3b",
   "metadata": {},
   "outputs": [],
   "source": [
    "device = \"cuda\" if torch.cuda.is_available() else \"cpu\""
   ]
  },
  {
   "cell_type": "code",
   "execution_count": 3,
   "id": "07c9b5b5-dbcf-4473-b1a5-a6bdf5c5c25c",
   "metadata": {},
   "outputs": [
    {
     "name": "stdout",
     "output_type": "stream",
     "text": [
      "Data(x=[3327, 3703], edge_index=[2, 9104], y=[3327], train_mask=[3327], val_mask=[3327], test_mask=[3327])\n"
     ]
    }
   ],
   "source": [
    "# dataset_directory = \"../Cora\"\n",
    "cora_dataset = Planetoid(root='', name='Citeseer')\n",
    "data = cora_dataset[0].to(device)\n",
    "print(data)"
   ]
  },
  {
   "cell_type": "code",
   "execution_count": 4,
   "id": "996b3727-d5cd-48b7-b708-cec0ef0792ee",
   "metadata": {},
   "outputs": [],
   "source": [
    "model = GCN(data.x.shape[1], cora_dataset.num_classes, [64]).to(device)"
   ]
  },
  {
   "cell_type": "code",
   "execution_count": 5,
   "id": "75628fa0-fa51-4c70-9aaf-fab472f16bd0",
   "metadata": {},
   "outputs": [
    {
     "name": "stdout",
     "output_type": "stream",
     "text": [
      "Epoch 0, Train Loss - 1.80226731300354, Val Loss - 1.6550486087799072, Val Accuracy - 0.598\n",
      "Epoch 20, Train Loss - 0.00882615428417921, Val Loss - 1.220491886138916, Val Accuracy - 0.686\n",
      "Epoch 40, Train Loss - 0.007291069719940424, Val Loss - 1.136745572090149, Val Accuracy - 0.678\n",
      "Epoch 60, Train Loss - 0.011892858892679214, Val Loss - 1.077873945236206, Val Accuracy - 0.686\n",
      "Epoch 80, Train Loss - 0.014267326332628727, Val Loss - 1.0761858224868774, Val Accuracy - 0.673\n",
      "Epoch 100, Train Loss - 0.009532494470477104, Val Loss - 1.054239273071289, Val Accuracy - 0.689\n",
      "Epoch 120, Train Loss - 0.007554575335234404, Val Loss - 1.0511032342910767, Val Accuracy - 0.69\n",
      "Epoch 140, Train Loss - 0.007631202694028616, Val Loss - 1.0962022542953491, Val Accuracy - 0.678\n",
      "Epoch 160, Train Loss - 0.011228954419493675, Val Loss - 1.1235802173614502, Val Accuracy - 0.679\n",
      "Epoch 180, Train Loss - 0.006396390963345766, Val Loss - 1.0880025625228882, Val Accuracy - 0.689\n",
      "Epoch 200, Train Loss - 0.006398438476026058, Val Loss - 1.0949546098709106, Val Accuracy - 0.676\n"
     ]
    }
   ],
   "source": [
    "model.reset_parameters()\n",
    "train = Trainable(model)\n",
    "train.fit(data, 200)"
   ]
  },
  {
   "cell_type": "code",
   "execution_count": 6,
   "id": "636f755c-f6d4-4e14-b3e4-c5578432fd60",
   "metadata": {},
   "outputs": [
    {
     "name": "stdout",
     "output_type": "stream",
     "text": [
      "Initial Accuracy: 0.676\n",
      "Initial Loss: 1.0949546098709106\n"
     ]
    }
   ],
   "source": [
    "# Get initial accuracy\n",
    "initial_loss, initial_accuracy = train.test(data)\n",
    "print(f\"Initial Accuracy: {initial_accuracy}\")\n",
    "print(f\"Initial Loss: {initial_loss}\")"
   ]
  },
  {
   "cell_type": "code",
   "execution_count": 14,
   "id": "2ac82fc1-94be-40c3-8c49-1154e15509cc",
   "metadata": {},
   "outputs": [
    {
     "ename": "NameError",
     "evalue": "name 'attacker' is not defined",
     "output_type": "error",
     "traceback": [
      "\u001b[0;31m---------------------------------------------------------------------------\u001b[0m",
      "\u001b[0;31mNameError\u001b[0m                                 Traceback (most recent call last)",
      "Cell \u001b[0;32mIn[14], line 1\u001b[0m\n\u001b[0;32m----> 1\u001b[0m \u001b[43mattacker\u001b[49m\u001b[38;5;241m.\u001b[39mnum_budgets\n",
      "\u001b[0;31mNameError\u001b[0m: name 'attacker' is not defined"
     ]
    }
   ],
   "source": [
    "attacker.num_budgets"
   ]
  },
  {
   "cell_type": "code",
   "execution_count": 7,
   "id": "c131a677-97d0-4fee-83aa-995a93d02fe8",
   "metadata": {},
   "outputs": [
    {
     "data": {
      "application/vnd.jupyter.widget-view+json": {
       "model_id": "52b399de5c0343ce8d08cafd69cab40e",
       "version_major": 2,
       "version_minor": 0
      },
      "text/plain": [
       "Running PGD Attack...:   0%|          | 0/400 [00:00<?, ?it/s]"
      ]
     },
     "metadata": {},
     "output_type": "display_data"
    },
    {
     "data": {
      "application/vnd.jupyter.widget-view+json": {
       "model_id": "",
       "version_major": 2,
       "version_minor": 0
      },
      "text/plain": [
       "  0%|          | 0/100 [00:00<?, ?it/s]"
      ]
     },
     "metadata": {},
     "output_type": "display_data"
    },
    {
     "name": "stdout",
     "output_type": "stream",
     "text": [
      "4552 tensor(4543, device='cuda:0')\n",
      "4552 tensor(4543, device='cuda:0')\n",
      "4552 tensor(4543, device='cuda:0')\n",
      "4552 tensor(4543, device='cuda:0')\n",
      "4552 tensor(4543, device='cuda:0')\n",
      "4552 tensor(4543, device='cuda:0')\n",
      "4552 tensor(4543, device='cuda:0')\n",
      "4552 tensor(4543, device='cuda:0')\n",
      "4552 tensor(4543, device='cuda:0')\n",
      "4552 tensor(4543, device='cuda:0')\n",
      "4552 tensor(4543, device='cuda:0')\n",
      "4552 tensor(4543, device='cuda:0')\n",
      "4552 tensor(4543, device='cuda:0')\n",
      "4552 tensor(4543, device='cuda:0')\n",
      "4552 tensor(4543, device='cuda:0')\n",
      "4552 tensor(4543, device='cuda:0')\n",
      "4552 tensor(4543, device='cuda:0')\n",
      "4552 tensor(4543, device='cuda:0')\n",
      "4552 tensor(4543, device='cuda:0')\n",
      "4552 tensor(4543, device='cuda:0')\n",
      "4552 tensor(4543, device='cuda:0')\n",
      "4552 tensor(4543, device='cuda:0')\n",
      "4552 tensor(4543, device='cuda:0')\n",
      "4552 tensor(4543, device='cuda:0')\n",
      "4552 tensor(4543, device='cuda:0')\n",
      "4552 tensor(4543, device='cuda:0')\n",
      "4552 tensor(4543, device='cuda:0')\n",
      "4552 tensor(4543, device='cuda:0')\n",
      "4552 tensor(4543, device='cuda:0')\n",
      "4552 tensor(4543, device='cuda:0')\n",
      "4552 tensor(4543, device='cuda:0')\n",
      "4552 tensor(4543, device='cuda:0')\n",
      "4552 tensor(4543, device='cuda:0')\n",
      "4552 tensor(4543, device='cuda:0')\n",
      "4552 tensor(4543, device='cuda:0')\n",
      "4552 tensor(4543, device='cuda:0')\n",
      "4552 tensor(4543, device='cuda:0')\n",
      "4552 tensor(4543, device='cuda:0')\n",
      "4552 tensor(4543, device='cuda:0')\n",
      "4552 tensor(4543, device='cuda:0')\n",
      "4552 tensor(4543, device='cuda:0')\n",
      "4552 tensor(4543, device='cuda:0')\n",
      "4552 tensor(4543, device='cuda:0')\n",
      "4552 tensor(4543, device='cuda:0')\n",
      "4552 tensor(4543, device='cuda:0')\n",
      "4552 tensor(4543, device='cuda:0')\n",
      "4552 tensor(4543, device='cuda:0')\n",
      "4552 tensor(4543, device='cuda:0')\n",
      "4552 tensor(4543, device='cuda:0')\n",
      "4552 tensor(4543, device='cuda:0')\n",
      "4552 tensor(4543, device='cuda:0')\n",
      "4552 tensor(4543, device='cuda:0')\n",
      "4552 tensor(4543, device='cuda:0')\n",
      "4552 tensor(4543, device='cuda:0')\n",
      "4552 tensor(4543, device='cuda:0')\n",
      "4552 tensor(4543, device='cuda:0')\n",
      "4552 tensor(4543, device='cuda:0')\n",
      "4552 tensor(4543, device='cuda:0')\n",
      "4552 tensor(4543, device='cuda:0')\n",
      "4552 tensor(4543, device='cuda:0')\n",
      "4552 tensor(4543, device='cuda:0')\n",
      "4552 tensor(4543, device='cuda:0')\n",
      "4552 tensor(4543, device='cuda:0')\n",
      "4552 tensor(4543, device='cuda:0')\n",
      "4552 tensor(4543, device='cuda:0')\n",
      "4552 tensor(4543, device='cuda:0')\n",
      "4552 tensor(4543, device='cuda:0')\n",
      "4552 tensor(4543, device='cuda:0')\n",
      "4552 tensor(4543, device='cuda:0')\n",
      "4552 tensor(4543, device='cuda:0')\n",
      "4552 tensor(4543, device='cuda:0')\n",
      "4552 tensor(4543, device='cuda:0')\n",
      "4552 tensor(4543, device='cuda:0')\n",
      "4552 tensor(4543, device='cuda:0')\n",
      "4552 tensor(4543, device='cuda:0')\n",
      "4552 tensor(4543, device='cuda:0')\n",
      "4552 tensor(4543, device='cuda:0')\n",
      "4552 tensor(4543, device='cuda:0')\n",
      "4552 tensor(4543, device='cuda:0')\n",
      "4552 tensor(4543, device='cuda:0')\n",
      "4552 tensor(4543, device='cuda:0')\n",
      "4552 tensor(4543, device='cuda:0')\n",
      "4552 tensor(4543, device='cuda:0')\n",
      "4552 tensor(4543, device='cuda:0')\n",
      "4552 tensor(4543, device='cuda:0')\n",
      "4552 tensor(4543, device='cuda:0')\n",
      "4552 tensor(4543, device='cuda:0')\n",
      "4552 tensor(4543, device='cuda:0')\n",
      "4552 tensor(4543, device='cuda:0')\n",
      "4552 tensor(4543, device='cuda:0')\n",
      "4552 tensor(4543, device='cuda:0')\n",
      "4552 tensor(4543, device='cuda:0')\n",
      "4552 tensor(4543, device='cuda:0')\n",
      "4552 tensor(4543, device='cuda:0')\n",
      "4552 tensor(4543, device='cuda:0')\n",
      "4552 tensor(4543, device='cuda:0')\n",
      "4552 tensor(4543, device='cuda:0')\n",
      "4552 tensor(4543, device='cuda:0')\n",
      "4552 tensor(4543, device='cuda:0')\n",
      "4552 tensor(4543, device='cuda:0')\n"
     ]
    }
   ],
   "source": [
    "from collections import defaultdict \n",
    "from torch_geometric.utils import to_networkx\n",
    "\n",
    "# Run MetaPGD attack\n",
    "ptb_rate = 1.0  # 100% perturbation rate\n",
    "attacker = MetaPGD(data, device=device)\n",
    "attacker.setup_surrogate(model,\n",
    "                         labeled_nodes=data.train_mask,\n",
    "                         unlabeled_nodes=data.test_mask,\n",
    "                         lambda_=0.)\n",
    "attacker.reset_parameters(seed=42)\n",
    "attacker.reset()\n",
    "\n",
    "best_loss, best_pert = attacker.attack(ptb_rate, base_lr=0.01, grad_clip=1, iterations=400)"
   ]
  },
  {
   "cell_type": "code",
   "execution_count": 8,
   "id": "66cd2bbb-7c5f-4220-a1b5-303bf7d87b78",
   "metadata": {},
   "outputs": [
    {
     "name": "stdout",
     "output_type": "stream",
     "text": [
      "Total edges added: 4543\n"
     ]
    }
   ],
   "source": [
    "# Extract edges from the perturbation matrix\n",
    "edges_added = []\n",
    "modified_adj = attacker.get_perturbed_adj(best_pert).cpu().numpy()\n",
    "original_adj = attacker.adj.cpu().numpy()\n",
    "\n",
    "# Find added edges (in the upper triangle to avoid duplicates since graph is undirected)\n",
    "for i in range(data.num_nodes):\n",
    "    for j in range(i+1, data.num_nodes):  # Upper triangle only\n",
    "        if modified_adj[i, j] > 0 and original_adj[i, j] == 0:\n",
    "            edges_added.append((i, j))\n",
    "\n",
    "print(f\"Total edges added: {len(edges_added)}\")"
   ]
  },
  {
   "cell_type": "code",
   "execution_count": 9,
   "id": "3afac09b-a8c1-4c76-bda9-9bab81e2fdc4",
   "metadata": {},
   "outputs": [
    {
     "name": "stdout",
     "output_type": "stream",
     "text": [
      "initial edges: 2276\n",
      "Budget: 455\n"
     ]
    }
   ],
   "source": [
    "G = to_networkx(data, to_undirected=True)\n",
    "initial_edge_count = G.number_of_edges() // 2\n",
    "ptb_rate = 0.20\n",
    "budget = int(ptb_rate * initial_edge_count)\n",
    "print(f\"initial edges: {initial_edge_count}\")\n",
    "print(f\"Budget: {budget}\")"
   ]
  },
  {
   "cell_type": "code",
   "execution_count": null,
   "id": "506e6169-89b0-4e1f-b6d8-7cb476b1741b",
   "metadata": {},
   "outputs": [],
   "source": []
  },
  {
   "cell_type": "code",
   "execution_count": null,
   "id": "cea5a5d4-7210-4922-8243-ca3492ea67e4",
   "metadata": {},
   "outputs": [],
   "source": []
  },
  {
   "cell_type": "code",
   "execution_count": 15,
   "id": "6af43a84-0df1-42be-9cc8-4c68b58aa760",
   "metadata": {},
   "outputs": [
    {
     "name": "stdout",
     "output_type": "stream",
     "text": [
      "Unique perturbed edges (undirected): 1814\n"
     ]
    }
   ],
   "source": [
    "print(\"Unique perturbed edges (undirected):\", len(set(frozenset(e) for e in all_perturbed_edges)))"
   ]
  },
  {
   "cell_type": "code",
   "execution_count": 12,
   "id": "21d765c1-2810-43fe-ba99-6f3895b5017b",
   "metadata": {},
   "outputs": [
    {
     "data": {
      "text/plain": [
       "5278"
      ]
     },
     "execution_count": 12,
     "metadata": {},
     "output_type": "execute_result"
    }
   ],
   "source": [
    "attacker.num_budgets"
   ]
  },
  {
   "cell_type": "code",
   "execution_count": 13,
   "id": "a86e53f1-00b0-4aab-8511-bbfabd1c4e30",
   "metadata": {},
   "outputs": [
    {
     "data": {
      "text/plain": [
       "tensor(10154., device='cuda:0')"
      ]
     },
     "execution_count": 13,
     "metadata": {},
     "output_type": "execute_result"
    }
   ],
   "source": [
    "attacker.adj_changes.sum()"
   ]
  },
  {
   "cell_type": "code",
   "execution_count": null,
   "id": "4ddd9464-b7aa-4c47-885e-63e3298e9172",
   "metadata": {},
   "outputs": [],
   "source": []
  },
  {
   "cell_type": "code",
   "execution_count": 10,
   "id": "0819fb57-60bd-43ac-81df-049000deec5e",
   "metadata": {},
   "outputs": [],
   "source": [
    "from torch_geometric.utils import dense_to_sparse, to_networkx, from_networkx\n",
    "import networkx as nx"
   ]
  },
  {
   "cell_type": "code",
   "execution_count": null,
   "id": "fc019a1b-a6cf-4aa0-ae15-57c47805d242",
   "metadata": {},
   "outputs": [],
   "source": []
  },
  {
   "cell_type": "code",
   "execution_count": 11,
   "id": "dcdbb142-71ec-424c-9eb5-4c6c886085d0",
   "metadata": {},
   "outputs": [
    {
     "name": "stdout",
     "output_type": "stream",
     "text": [
      "4543\n",
      "455\n"
     ]
    }
   ],
   "source": [
    "print(len(edges_added))\n",
    "print(budget)"
   ]
  },
  {
   "cell_type": "code",
   "execution_count": 12,
   "id": "d387690e-4733-4256-bf17-374e8313dcb4",
   "metadata": {},
   "outputs": [],
   "source": [
    "def two_phase_attack(split):\n",
    "    diff_threshold = 0.01\n",
    "    first_phase_edges = int(budget * split)\n",
    "    second_phase_percent = ptb_rate * (1 - split) * 0.5\n",
    "    print(f\"\\n--- Running split: {split} ---\")\n",
    "    print(f\"Second phase perturbation rate: {second_phase_percent:.4f}\")\n",
    "\n",
    "    phase1_accuracies = []\n",
    "    phase2_accuracies = []\n",
    "\n",
    "    G = to_networkx(data, to_undirected=True)\n",
    "    data_copy = copy.copy(data)\n",
    "\n",
    "    i, j = 0, 0  # i - edges successfully added, j - index in list\n",
    "\n",
    "    # === Phase 1 ===\n",
    "    while i < first_phase_edges:\n",
    "        if j >= len(edges_added):\n",
    "            print(\"Ran out of candidate edges in Phase 1. Moving to Phase 2.\")\n",
    "            break\n",
    "\n",
    "        u, v = edges_added[j]\n",
    "        G.add_edge(u, v)\n",
    "\n",
    "        modified_data = from_networkx(G).to(device)\n",
    "        modified_data.x = data.x \n",
    "        modified_data.y = data.y \n",
    "        modified_data.train_mask = data.train_mask\n",
    "        modified_data.test_mask = data.test_mask\n",
    "\n",
    "        _, modified_accuracy = train.test(modified_data)\n",
    "\n",
    "        if modified_accuracy == initial_accuracy:\n",
    "            i += 1\n",
    "            phase1_accuracies.append(modified_accuracy)\n",
    "        else:\n",
    "            G.remove_edge(u, v)\n",
    "\n",
    "        j += 1\n",
    "\n",
    "    print(f\"Phase 1: Added {i} edges out of requested {first_phase_edges}.\")\n",
    "\n",
    "    # === Phase 2 ===\n",
    "    modified_data = from_networkx(G).to(device)\n",
    "    modified_data.x = data.x \n",
    "    modified_data.y = data.y \n",
    "    modified_data.train_mask = data.train_mask\n",
    "    modified_data.test_mask = data.test_mask\n",
    "\n",
    "    attacker = Metattack(modified_data, device=device)\n",
    "    attacker.setup_surrogate(model,\n",
    "                             labeled_nodes=data.train_mask,\n",
    "                             unlabeled_nodes=data.test_mask, \n",
    "                             lambda_=0.)\n",
    "    attacker.reset()\n",
    "    attacker.attack(second_phase_percent)\n",
    "\n",
    "    degs = defaultdict(tuple)\n",
    "    for k, v in attacker._added_edges.items():\n",
    "        degs[v] = (k, True)\n",
    "    for k, v in attacker._removed_edges.items():\n",
    "        degs[v] = (k, False)\n",
    "\n",
    "    for _, second in degs.items():\n",
    "        u, v = second[0]\n",
    "        if second[1]:\n",
    "            G.add_edge(u, v)\n",
    "        else:\n",
    "            G.remove_edge(u, v)\n",
    "\n",
    "        modified_data = from_networkx(G).to(device)\n",
    "        modified_data.x = data.x \n",
    "        modified_data.y = data.y \n",
    "        modified_data.train_mask = data.train_mask\n",
    "        modified_data.test_mask = data.test_mask\n",
    "\n",
    "        _, modified_accuracy = train.test(modified_data)\n",
    "        phase2_accuracies.append(modified_accuracy)\n",
    "\n",
    "    # === Final Reporting ===\n",
    "    final_accuracy = phase2_accuracies[-1] if phase2_accuracies else (\n",
    "        phase1_accuracies[-1] if phase1_accuracies else initial_accuracy)\n",
    "    accuracy_drop = initial_accuracy - final_accuracy\n",
    "\n",
    "    print(f\"Final Accuracy: {final_accuracy:.4f}\")\n",
    "    print(f\"Accuracy Drop: {accuracy_drop:.4f}\")\n",
    "\n",
    "    return {\n",
    "        \"split\": split,\n",
    "        \"phase1_added\": i,\n",
    "        \"phase1_accuracies\": phase1_accuracies,\n",
    "        \"phase2_accuracies\": phase2_accuracies,\n",
    "        \"final_accuracy\": final_accuracy,\n",
    "        \"accuracy_drop\": accuracy_drop\n",
    "    }\n"
   ]
  },
  {
   "cell_type": "code",
   "execution_count": 13,
   "id": "a9dea6c6-42e5-48ac-ae64-03decca074d5",
   "metadata": {},
   "outputs": [],
   "source": [
    "splits = [0, 0.5]\n",
    "split_dic = defaultdict(list)"
   ]
  },
  {
   "cell_type": "code",
   "execution_count": 14,
   "id": "529386fe-c89c-402a-948c-a4d2994b6512",
   "metadata": {},
   "outputs": [
    {
     "name": "stdout",
     "output_type": "stream",
     "text": [
      "0\n",
      "\n",
      "--- Running split: 0 ---\n",
      "Second phase perturbation rate: 0.1000\n",
      "Phase 1: Added 0 edges out of requested 0.\n"
     ]
    },
    {
     "data": {
      "application/vnd.jupyter.widget-view+json": {
       "model_id": "f0f3b573f5ec4d06bfd302be5367ee0e",
       "version_major": 2,
       "version_minor": 0
      },
      "text/plain": [
       "Peturbing graph...:   0%|          | 0/455 [00:00<?, ?it/s]"
      ]
     },
     "metadata": {},
     "output_type": "display_data"
    },
    {
     "name": "stdout",
     "output_type": "stream",
     "text": [
      "Final Accuracy: 0.6590\n",
      "Accuracy Drop: 0.0170\n",
      "0.5\n",
      "\n",
      "--- Running split: 0.5 ---\n",
      "Second phase perturbation rate: 0.0500\n",
      "Phase 1: Added 227 edges out of requested 227.\n"
     ]
    },
    {
     "data": {
      "application/vnd.jupyter.widget-view+json": {
       "model_id": "b43bacb332ec43eba7740fe856983a2b",
       "version_major": 2,
       "version_minor": 0
      },
      "text/plain": [
       "Peturbing graph...:   0%|          | 0/238 [00:00<?, ?it/s]"
      ]
     },
     "metadata": {},
     "output_type": "display_data"
    },
    {
     "name": "stdout",
     "output_type": "stream",
     "text": [
      "Final Accuracy: 0.6710\n",
      "Accuracy Drop: 0.0050\n"
     ]
    }
   ],
   "source": [
    "for s in splits:\n",
    "    print(s)\n",
    "    split_dic[s] = two_phase_attack(s)"
   ]
  },
  {
   "cell_type": "code",
   "execution_count": 19,
   "id": "fc03d876-4858-42ec-b19a-a48d3e8935f2",
   "metadata": {},
   "outputs": [],
   "source": []
  },
  {
   "cell_type": "code",
   "execution_count": null,
   "id": "e684c57d-0c50-4c2a-9513-7c440ed12a51",
   "metadata": {},
   "outputs": [],
   "source": []
  },
  {
   "cell_type": "code",
   "execution_count": null,
   "id": "5392bcbf-fe97-499d-a646-813c55f1d7d2",
   "metadata": {},
   "outputs": [],
   "source": []
  }
 ],
 "metadata": {
  "kernelspec": {
   "display_name": "Python 3 (ipykernel)",
   "language": "python",
   "name": "python3"
  },
  "language_info": {
   "codemirror_mode": {
    "name": "ipython",
    "version": 3
   },
   "file_extension": ".py",
   "mimetype": "text/x-python",
   "name": "python",
   "nbconvert_exporter": "python",
   "pygments_lexer": "ipython3",
   "version": "3.9.18"
  }
 },
 "nbformat": 4,
 "nbformat_minor": 5
}
