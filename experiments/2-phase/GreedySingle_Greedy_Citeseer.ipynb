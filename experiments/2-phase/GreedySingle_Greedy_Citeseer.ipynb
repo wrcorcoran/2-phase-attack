{
 "cells": [
  {
   "cell_type": "code",
   "execution_count": 1,
   "id": "f9a0f846-f2f5-497e-885a-4a92a88a7537",
   "metadata": {},
   "outputs": [
    {
     "name": "stdout",
     "output_type": "stream",
     "text": [
      "/home/niyati/miniconda3/envs/ersp_v2/bin/python\n"
     ]
    }
   ],
   "source": [
    "import sys\n",
    "from itertools import count\n",
    "from torch import autograd\n",
    "from torch_geometric.utils import dense_to_sparse\n",
    "import copy\n",
    "from collections import defaultdict\n",
    "\n",
    "sys.path.append('../../')\n",
    "\n",
    "from src.models.gcn import *\n",
    "from src.utils.datasets import *\n",
    "from src.models.trainable import *\n",
    "from src.attacks.greedy_gd import *\n",
    "\n",
    "print(sys.executable)"
   ]
  },
  {
   "cell_type": "code",
   "execution_count": 2,
   "id": "7f1206c6-aea0-4b20-ac37-5b7fbaa5ab3b",
   "metadata": {},
   "outputs": [],
   "source": [
    "device = \"cuda\" if torch.cuda.is_available() else \"cpu\""
   ]
  },
  {
   "cell_type": "code",
   "execution_count": 4,
   "id": "07c9b5b5-dbcf-4473-b1a5-a6bdf5c5c25c",
   "metadata": {},
   "outputs": [
    {
     "name": "stdout",
     "output_type": "stream",
     "text": [
      "Data(x=[3327, 3703], edge_index=[2, 9104], y=[3327], train_mask=[3327], val_mask=[3327], test_mask=[3327])\n"
     ]
    }
   ],
   "source": [
    "# dataset_directory = \"../Citeseer\"\n",
    "citeseer_dataset = Planetoid(root='', name='Citeseer')\n",
    "data = citeseer_dataset[0].to(device)\n",
    "print(data)"
   ]
  },
  {
   "cell_type": "code",
   "execution_count": 5,
   "id": "996b3727-d5cd-48b7-b708-cec0ef0792ee",
   "metadata": {},
   "outputs": [],
   "source": [
    "model = GCN(data.x.shape[1], citeseer_dataset.num_classes, [16]).to(device)"
   ]
  },
  {
   "cell_type": "code",
   "execution_count": 6,
   "id": "75628fa0-fa51-4c70-9aaf-fab472f16bd0",
   "metadata": {},
   "outputs": [
    {
     "name": "stdout",
     "output_type": "stream",
     "text": [
      "Epoch 0, Train Loss - 2.9908692836761475, Val Loss - 4.016789436340332, Val Accuracy - 0.207\n",
      "Epoch 20, Train Loss - 0.6336934566497803, Val Loss - 1.6987358331680298, Val Accuracy - 0.523\n",
      "Epoch 40, Train Loss - 0.40608200430870056, Val Loss - 2.4597201347351074, Val Accuracy - 0.519\n",
      "Epoch 60, Train Loss - 0.32052093744277954, Val Loss - 2.515281915664673, Val Accuracy - 0.572\n",
      "Epoch 80, Train Loss - 0.22940810024738312, Val Loss - 2.469949722290039, Val Accuracy - 0.601\n",
      "Epoch 100, Train Loss - 0.24767078459262848, Val Loss - 2.578751564025879, Val Accuracy - 0.591\n",
      "Epoch 120, Train Loss - 0.1739492267370224, Val Loss - 2.6392033100128174, Val Accuracy - 0.601\n",
      "Epoch 140, Train Loss - 0.19412089884281158, Val Loss - 2.8966734409332275, Val Accuracy - 0.59\n",
      "Epoch 160, Train Loss - 0.1902550905942917, Val Loss - 2.8672380447387695, Val Accuracy - 0.589\n",
      "Epoch 180, Train Loss - 0.16517378389835358, Val Loss - 2.6739752292633057, Val Accuracy - 0.584\n",
      "Epoch 200, Train Loss - 0.17562171816825867, Val Loss - 2.856879472732544, Val Accuracy - 0.559\n"
     ]
    }
   ],
   "source": [
    "model.reset_parameters()\n",
    "train = Trainable(model)\n",
    "train.fit(data, 200)"
   ]
  },
  {
   "cell_type": "code",
   "execution_count": 7,
   "id": "636f755c-f6d4-4e14-b3e4-c5578432fd60",
   "metadata": {},
   "outputs": [
    {
     "name": "stdout",
     "output_type": "stream",
     "text": [
      "Initial Accuracy: 0.559\n",
      "Initial Loss: 2.856879472732544\n"
     ]
    }
   ],
   "source": [
    "# Get initial accuracy\n",
    "initial_loss, initial_accuracy = train.test(data)\n",
    "print(f\"Initial Accuracy: {initial_accuracy}\")\n",
    "print(f\"Initial Loss: {initial_loss}\")"
   ]
  },
  {
   "cell_type": "code",
   "execution_count": 8,
   "id": "c131a677-97d0-4fee-83aa-995a93d02fe8",
   "metadata": {},
   "outputs": [
    {
     "data": {
      "application/vnd.jupyter.widget-view+json": {
       "model_id": "c0fa4901a0934aa2a6bd6ab49e8d8f63",
       "version_major": 2,
       "version_minor": 0
      },
      "text/plain": [
       "Peturbing graph...:   0%|          | 0/9104 [00:00<?, ?it/s]"
      ]
     },
     "metadata": {},
     "output_type": "display_data"
    },
    {
     "name": "stdout",
     "output_type": "stream",
     "text": [
      "Number of added edges: 1296\n",
      "Sample: [(43, 3320), (23, 3170), (99, 1722), (96, 2611), (72, 3058)]\n"
     ]
    }
   ],
   "source": [
    "from collections import defaultdict \n",
    "from torch_geometric.utils import to_networkx\n",
    "\n",
    "# Step 1: Initialize and run Metattack\n",
    "attacker = Metattack(data, device=device)\n",
    "attacker.setup_surrogate(model,\n",
    "                         labeled_nodes=data.train_mask,\n",
    "                         unlabeled_nodes=data.test_mask,\n",
    "                         lambda_=0.)\n",
    "attacker.reset()\n",
    "\n",
    "#200% perturbation (Large Pool)\n",
    "attacker.attack(num_budgets=2.0)\n",
    "\n",
    "# Collect added edges from the single run\n",
    "edges_to_add = list(attacker._added_edges.keys())\n",
    "\n",
    "\n",
    "print(f\"Number of added edges: {len(edges_to_add)}\")\n",
    "print(f\"Sample: {edges_to_add[:5]}\")\n"
   ]
  },
  {
   "cell_type": "code",
   "execution_count": 9,
   "id": "0819fb57-60bd-43ac-81df-049000deec5e",
   "metadata": {},
   "outputs": [],
   "source": [
    "from torch_geometric.utils import dense_to_sparse, to_networkx, from_networkx\n",
    "import networkx as nx"
   ]
  },
  {
   "cell_type": "code",
   "execution_count": 10,
   "id": "fc019a1b-a6cf-4aa0-ae15-57c47805d242",
   "metadata": {},
   "outputs": [],
   "source": [
    "G = to_networkx(data, to_undirected=True)\n",
    "initial_edge_count = G.number_of_edges() // 2\n",
    "ptb_rate = 0.15\n",
    "budget = int(ptb_rate * initial_edge_count)"
   ]
  },
  {
   "cell_type": "code",
   "execution_count": 11,
   "id": "dcdbb142-71ec-424c-9eb5-4c6c886085d0",
   "metadata": {},
   "outputs": [
    {
     "name": "stdout",
     "output_type": "stream",
     "text": [
      "1296\n",
      "341\n"
     ]
    }
   ],
   "source": [
    "print(len(edges_to_add))\n",
    "print(budget)"
   ]
  },
  {
   "cell_type": "code",
   "execution_count": 12,
   "id": "d387690e-4733-4256-bf17-374e8313dcb4",
   "metadata": {},
   "outputs": [],
   "source": [
    "def two_phase_attack(split):\n",
    "    diff_threshold = 0.01\n",
    "    first_phase_edges = int(budget * split)\n",
    "    second_phase_percent = ptb_rate * (1 - split) * 0.5\n",
    "    print(f\"\\n--- Running split: {split} ---\")\n",
    "    print(f\"Second phase perturbation rate: {second_phase_percent:.4f}\")\n",
    "\n",
    "    phase1_accuracies = []\n",
    "    phase2_accuracies = []\n",
    "\n",
    "    G = to_networkx(data, to_undirected=True)\n",
    "    data_copy = copy.copy(data)\n",
    "\n",
    "    i, j = 0, 0  # i - edges successfully added, j - index in list\n",
    "\n",
    "    # === Phase 1 ===\n",
    "    while i < first_phase_edges:\n",
    "        if j >= len(edges_to_add):\n",
    "            print(\"Ran out of candidate edges in Phase 1. Moving to Phase 2.\")\n",
    "            break\n",
    "\n",
    "        u, v = edges_to_add[j]\n",
    "        G.add_edge(u, v)\n",
    "\n",
    "        modified_data = from_networkx(G).to(device)\n",
    "        modified_data.x = data.x \n",
    "        modified_data.y = data.y \n",
    "        modified_data.train_mask = data.train_mask\n",
    "        modified_data.test_mask = data.test_mask\n",
    "\n",
    "        _, modified_accuracy = train.test(modified_data)\n",
    "\n",
    "        if modified_accuracy == initial_accuracy:\n",
    "            i += 1\n",
    "            phase1_accuracies.append(modified_accuracy)\n",
    "        else:\n",
    "            G.remove_edge(u, v)\n",
    "\n",
    "        j += 1\n",
    "\n",
    "    print(f\"Phase 1: Added {i} edges out of requested {first_phase_edges}.\")\n",
    "\n",
    "    # === Phase 2 ===\n",
    "    modified_data = from_networkx(G).to(device)\n",
    "    modified_data.x = data.x \n",
    "    modified_data.y = data.y \n",
    "    modified_data.train_mask = data.train_mask\n",
    "    modified_data.test_mask = data.test_mask\n",
    "\n",
    "    attacker = Metattack(modified_data, device=device)\n",
    "    attacker.setup_surrogate(model,\n",
    "                             labeled_nodes=data.train_mask,\n",
    "                             unlabeled_nodes=data.test_mask, \n",
    "                             lambda_=0.)\n",
    "    attacker.reset()\n",
    "    attacker.attack(second_phase_percent)\n",
    "\n",
    "    degs = defaultdict(tuple)\n",
    "    for k, v in attacker._added_edges.items():\n",
    "        degs[v] = (k, True)\n",
    "    for k, v in attacker._removed_edges.items():\n",
    "        degs[v] = (k, False)\n",
    "\n",
    "    for _, second in degs.items():\n",
    "        u, v = second[0]\n",
    "        if second[1]:\n",
    "            G.add_edge(u, v)\n",
    "        else:\n",
    "            G.remove_edge(u, v)\n",
    "\n",
    "        modified_data = from_networkx(G).to(device)\n",
    "        modified_data.x = data.x \n",
    "        modified_data.y = data.y \n",
    "        modified_data.train_mask = data.train_mask\n",
    "        modified_data.test_mask = data.test_mask\n",
    "\n",
    "        _, modified_accuracy = train.test(modified_data)\n",
    "        phase2_accuracies.append(modified_accuracy)\n",
    "\n",
    "    # === Final Reporting ===\n",
    "    final_accuracy = phase2_accuracies[-1] if phase2_accuracies else (\n",
    "        phase1_accuracies[-1] if phase1_accuracies else initial_accuracy)\n",
    "    accuracy_drop = initial_accuracy - final_accuracy\n",
    "\n",
    "    print(f\"Final Accuracy: {final_accuracy:.4f}\")\n",
    "    print(f\"Accuracy Drop: {accuracy_drop:.4f}\")\n",
    "\n",
    "    return {\n",
    "        \"split\": split,\n",
    "        \"phase1_added\": i,\n",
    "        \"phase1_accuracies\": phase1_accuracies,\n",
    "        \"phase2_accuracies\": phase2_accuracies,\n",
    "        \"final_accuracy\": final_accuracy,\n",
    "        \"accuracy_drop\": accuracy_drop\n",
    "    }\n"
   ]
  },
  {
   "cell_type": "code",
   "execution_count": 13,
   "id": "a9dea6c6-42e5-48ac-ae64-03decca074d5",
   "metadata": {},
   "outputs": [],
   "source": [
    "splits = [0, 0.5, 0.7, 0.9]\n",
    "split_dic = defaultdict(list)"
   ]
  },
  {
   "cell_type": "code",
   "execution_count": 14,
   "id": "529386fe-c89c-402a-948c-a4d2994b6512",
   "metadata": {},
   "outputs": [
    {
     "name": "stdout",
     "output_type": "stream",
     "text": [
      "0\n",
      "\n",
      "--- Running split: 0 ---\n",
      "Second phase perturbation rate: 0.0750\n",
      "Phase 1: Added 0 edges out of requested 0.\n"
     ]
    },
    {
     "data": {
      "application/vnd.jupyter.widget-view+json": {
       "model_id": "4d5548be49e844a28b41dcf96afc7660",
       "version_major": 2,
       "version_minor": 0
      },
      "text/plain": [
       "Peturbing graph...:   0%|          | 0/341 [00:00<?, ?it/s]"
      ]
     },
     "metadata": {},
     "output_type": "display_data"
    },
    {
     "name": "stdout",
     "output_type": "stream",
     "text": [
      "Final Accuracy: 0.5370\n",
      "Accuracy Drop: 0.0220\n",
      "0.5\n",
      "\n",
      "--- Running split: 0.5 ---\n",
      "Second phase perturbation rate: 0.0375\n",
      "Phase 1: Added 170 edges out of requested 170.\n"
     ]
    },
    {
     "data": {
      "application/vnd.jupyter.widget-view+json": {
       "model_id": "f9a956f2e2ce476b8cdbc41740982396",
       "version_major": 2,
       "version_minor": 0
      },
      "text/plain": [
       "Peturbing graph...:   0%|          | 0/177 [00:00<?, ?it/s]"
      ]
     },
     "metadata": {},
     "output_type": "display_data"
    },
    {
     "name": "stdout",
     "output_type": "stream",
     "text": [
      "Final Accuracy: 0.5330\n",
      "Accuracy Drop: 0.0260\n",
      "0.7\n",
      "\n",
      "--- Running split: 0.7 ---\n",
      "Second phase perturbation rate: 0.0225\n",
      "Phase 1: Added 238 edges out of requested 238.\n"
     ]
    },
    {
     "data": {
      "application/vnd.jupyter.widget-view+json": {
       "model_id": "0f1a5890fc624dd98fb273615da5ae80",
       "version_major": 2,
       "version_minor": 0
      },
      "text/plain": [
       "Peturbing graph...:   0%|          | 0/107 [00:00<?, ?it/s]"
      ]
     },
     "metadata": {},
     "output_type": "display_data"
    },
    {
     "name": "stdout",
     "output_type": "stream",
     "text": [
      "Final Accuracy: 0.5360\n",
      "Accuracy Drop: 0.0230\n",
      "0.9\n",
      "\n",
      "--- Running split: 0.9 ---\n",
      "Second phase perturbation rate: 0.0075\n",
      "Phase 1: Added 306 edges out of requested 306.\n"
     ]
    },
    {
     "data": {
      "application/vnd.jupyter.widget-view+json": {
       "model_id": "86096adace954b949468465997f246d1",
       "version_major": 2,
       "version_minor": 0
      },
      "text/plain": [
       "Peturbing graph...:   0%|          | 0/36 [00:00<?, ?it/s]"
      ]
     },
     "metadata": {},
     "output_type": "display_data"
    },
    {
     "name": "stdout",
     "output_type": "stream",
     "text": [
      "Final Accuracy: 0.5460\n",
      "Accuracy Drop: 0.0130\n"
     ]
    }
   ],
   "source": [
    "for s in splits:\n",
    "    print(s)\n",
    "    split_dic[s] = two_phase_attack(s)"
   ]
  },
  {
   "cell_type": "code",
   "execution_count": 19,
   "id": "fc03d876-4858-42ec-b19a-a48d3e8935f2",
   "metadata": {},
   "outputs": [],
   "source": [
    "G = to_networkx(data, to_undirected=True)\n",
    "initial_edge_count = G.number_of_edges() // 2\n",
    "ptb_rate = 0.5\n",
    "budget = int(ptb_rate * initial_edge_count)"
   ]
  },
  {
   "cell_type": "code",
   "execution_count": 20,
   "id": "e684c57d-0c50-4c2a-9513-7c440ed12a51",
   "metadata": {},
   "outputs": [
    {
     "name": "stdout",
     "output_type": "stream",
     "text": [
      "724\n",
      "1319\n"
     ]
    }
   ],
   "source": [
    "print(len(edges_to_add))\n",
    "print(budget)"
   ]
  },
  {
   "cell_type": "code",
   "execution_count": null,
   "id": "5392bcbf-fe97-499d-a646-813c55f1d7d2",
   "metadata": {},
   "outputs": [],
   "source": []
  }
 ],
 "metadata": {
  "kernelspec": {
   "display_name": "Python 3 (ipykernel)",
   "language": "python",
   "name": "python3"
  },
  "language_info": {
   "codemirror_mode": {
    "name": "ipython",
    "version": 3
   },
   "file_extension": ".py",
   "mimetype": "text/x-python",
   "name": "python",
   "nbconvert_exporter": "python",
   "pygments_lexer": "ipython3",
   "version": "3.9.18"
  }
 },
 "nbformat": 4,
 "nbformat_minor": 5
}
