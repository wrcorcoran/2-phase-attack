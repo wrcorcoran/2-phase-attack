{
 "cells": [
  {
   "cell_type": "code",
   "execution_count": 1,
   "id": "f9a0f846-f2f5-497e-885a-4a92a88a7537",
   "metadata": {},
   "outputs": [
    {
     "name": "stdout",
     "output_type": "stream",
     "text": [
      "/home/niyati/miniconda3/envs/ersp_v2/bin/python\n"
     ]
    }
   ],
   "source": [
    "import sys\n",
    "from itertools import count\n",
    "from torch import autograd\n",
    "from torch_geometric.utils import dense_to_sparse\n",
    "import copy\n",
    "from collections import defaultdict\n",
    "\n",
    "sys.path.append('../../')\n",
    "\n",
    "from src.models.gcn import *\n",
    "from src.utils.datasets import *\n",
    "from src.models.trainable import *\n",
    "from src.attacks.greedy_gd import *\n",
    "\n",
    "print(sys.executable)"
   ]
  },
  {
   "cell_type": "code",
   "execution_count": 2,
   "id": "7f1206c6-aea0-4b20-ac37-5b7fbaa5ab3b",
   "metadata": {},
   "outputs": [],
   "source": [
    "device = \"cuda\" if torch.cuda.is_available() else \"cpu\""
   ]
  },
  {
   "cell_type": "code",
   "execution_count": 3,
   "id": "07c9b5b5-dbcf-4473-b1a5-a6bdf5c5c25c",
   "metadata": {},
   "outputs": [
    {
     "name": "stdout",
     "output_type": "stream",
     "text": [
      "Data(x=[3327, 3703], edge_index=[2, 9104], y=[3327], train_mask=[3327], val_mask=[3327], test_mask=[3327])\n"
     ]
    }
   ],
   "source": [
    "# dataset_directory = \"../Cora\"\n",
    "citeseer_dataset = Planetoid(root='', name='Citeseer')\n",
    "data = citeseer_dataset[0].to(device)\n",
    "print(data)"
   ]
  },
  {
   "cell_type": "code",
   "execution_count": 4,
   "id": "996b3727-d5cd-48b7-b708-cec0ef0792ee",
   "metadata": {},
   "outputs": [],
   "source": [
    "model = GCN(data.x.shape[1], citeseer_dataset.num_classes, [64]).to(device)"
   ]
  },
  {
   "cell_type": "code",
   "execution_count": 5,
   "id": "75628fa0-fa51-4c70-9aaf-fab472f16bd0",
   "metadata": {},
   "outputs": [
    {
     "name": "stdout",
     "output_type": "stream",
     "text": [
      "Epoch 0, Train Loss - 3.7768473625183105, Val Loss - 2.87339448928833, Val Accuracy - 0.414\n",
      "Epoch 20, Train Loss - 0.12260017544031143, Val Loss - 4.737508773803711, Val Accuracy - 0.548\n",
      "Epoch 40, Train Loss - 0.012804927304387093, Val Loss - 5.134322166442871, Val Accuracy - 0.578\n",
      "Epoch 60, Train Loss - 0.01174915675073862, Val Loss - 5.340953350067139, Val Accuracy - 0.564\n",
      "Epoch 80, Train Loss - 0.005575299728661776, Val Loss - 4.999581336975098, Val Accuracy - 0.604\n",
      "Epoch 100, Train Loss - 0.0041719707660377026, Val Loss - 5.084325313568115, Val Accuracy - 0.582\n",
      "Epoch 120, Train Loss - 0.003931032959371805, Val Loss - 5.00808572769165, Val Accuracy - 0.588\n",
      "Epoch 140, Train Loss - 0.011622863821685314, Val Loss - 4.810202598571777, Val Accuracy - 0.593\n",
      "Epoch 160, Train Loss - 0.0018068465869873762, Val Loss - 4.755350589752197, Val Accuracy - 0.606\n",
      "Epoch 180, Train Loss - 0.0029572665225714445, Val Loss - 5.887982368469238, Val Accuracy - 0.551\n",
      "Epoch 200, Train Loss - 0.0039050329942256212, Val Loss - 5.194754123687744, Val Accuracy - 0.645\n"
     ]
    }
   ],
   "source": [
    "model.reset_parameters()\n",
    "train = Trainable(model)\n",
    "train.fit(data, 200)"
   ]
  },
  {
   "cell_type": "code",
   "execution_count": 6,
   "id": "636f755c-f6d4-4e14-b3e4-c5578432fd60",
   "metadata": {},
   "outputs": [
    {
     "name": "stdout",
     "output_type": "stream",
     "text": [
      "Initial Accuracy: 0.645\n",
      "Initial Loss: 5.194754600524902\n"
     ]
    }
   ],
   "source": [
    "# Get initial accuracy\n",
    "initial_loss, initial_accuracy = train.test(data)\n",
    "print(f\"Initial Accuracy: {initial_accuracy}\")\n",
    "print(f\"Initial Loss: {initial_loss}\")"
   ]
  },
  {
   "cell_type": "code",
   "execution_count": 8,
   "id": "c131a677-97d0-4fee-83aa-995a93d02fe8",
   "metadata": {},
   "outputs": [
    {
     "data": {
      "application/vnd.jupyter.widget-view+json": {
       "model_id": "c4e2b743f563468f8e64c30e45c83d90",
       "version_major": 2,
       "version_minor": 0
      },
      "text/plain": [
       "Peturbing graph...:   0%|          | 0/455 [00:00<?, ?it/s]"
      ]
     },
     "metadata": {},
     "output_type": "display_data"
    },
    {
     "data": {
      "application/vnd.jupyter.widget-view+json": {
       "model_id": "50c755c72c7a46dabe45f0321370f21a",
       "version_major": 2,
       "version_minor": 0
      },
      "text/plain": [
       "Peturbing graph...:   0%|          | 0/455 [00:00<?, ?it/s]"
      ]
     },
     "metadata": {},
     "output_type": "display_data"
    },
    {
     "data": {
      "application/vnd.jupyter.widget-view+json": {
       "model_id": "28685767e7a14e8e95dc0afc5a59a70c",
       "version_major": 2,
       "version_minor": 0
      },
      "text/plain": [
       "Peturbing graph...:   0%|          | 0/455 [00:00<?, ?it/s]"
      ]
     },
     "metadata": {},
     "output_type": "display_data"
    },
    {
     "data": {
      "application/vnd.jupyter.widget-view+json": {
       "model_id": "e7addcd7b3044285937f343573b2f3b4",
       "version_major": 2,
       "version_minor": 0
      },
      "text/plain": [
       "Peturbing graph...:   0%|          | 0/455 [00:00<?, ?it/s]"
      ]
     },
     "metadata": {},
     "output_type": "display_data"
    },
    {
     "data": {
      "application/vnd.jupyter.widget-view+json": {
       "model_id": "d071082819b149e5803f1c02da73e0ad",
       "version_major": 2,
       "version_minor": 0
      },
      "text/plain": [
       "Peturbing graph...:   0%|          | 0/455 [00:00<?, ?it/s]"
      ]
     },
     "metadata": {},
     "output_type": "display_data"
    },
    {
     "data": {
      "application/vnd.jupyter.widget-view+json": {
       "model_id": "34696c8f37494155ac53534588937934",
       "version_major": 2,
       "version_minor": 0
      },
      "text/plain": [
       "Peturbing graph...:   0%|          | 0/455 [00:00<?, ?it/s]"
      ]
     },
     "metadata": {},
     "output_type": "display_data"
    },
    {
     "data": {
      "application/vnd.jupyter.widget-view+json": {
       "model_id": "4f444ad0d40d4c90b0aa28a4360bc432",
       "version_major": 2,
       "version_minor": 0
      },
      "text/plain": [
       "Peturbing graph...:   0%|          | 0/455 [00:00<?, ?it/s]"
      ]
     },
     "metadata": {},
     "output_type": "display_data"
    },
    {
     "data": {
      "application/vnd.jupyter.widget-view+json": {
       "model_id": "c4d66ef23ae749a9a3cb53a3707920c3",
       "version_major": 2,
       "version_minor": 0
      },
      "text/plain": [
       "Peturbing graph...:   0%|          | 0/455 [00:00<?, ?it/s]"
      ]
     },
     "metadata": {},
     "output_type": "display_data"
    },
    {
     "data": {
      "application/vnd.jupyter.widget-view+json": {
       "model_id": "be0cae98eb854603b949146041ab1926",
       "version_major": 2,
       "version_minor": 0
      },
      "text/plain": [
       "Peturbing graph...:   0%|          | 0/455 [00:00<?, ?it/s]"
      ]
     },
     "metadata": {},
     "output_type": "display_data"
    },
    {
     "data": {
      "application/vnd.jupyter.widget-view+json": {
       "model_id": "9ea1e4925bb148bdb1ba333fd6e3edc5",
       "version_major": 2,
       "version_minor": 0
      },
      "text/plain": [
       "Peturbing graph...:   0%|          | 0/455 [00:00<?, ?it/s]"
      ]
     },
     "metadata": {},
     "output_type": "display_data"
    }
   ],
   "source": [
    "amts = defaultdict(int)\n",
    "# Run 10 attacks for perturbation of 0.2\n",
    "for i in range(10):\n",
    "    attacker = Metattack(data, device=device)\n",
    "    attacker.setup_surrogate(model,\n",
    "                         labeled_nodes=data.train_mask,\n",
    "                         unlabeled_nodes=data.test_mask, lambda_=0.)\n",
    "    attacker.reset_parameters(seed=i)\n",
    "    attacker.reset()\n",
    "    attacker.attack(0.1)\n",
    "\n",
    "    for edge in attacker._added_edges.keys():\n",
    "        amts[edge] += 1\n"
   ]
  },
  {
   "cell_type": "code",
   "execution_count": 9,
   "id": "170c8bc2-96d9-48eb-9380-f9f50b3aa69a",
   "metadata": {},
   "outputs": [
    {
     "data": {
      "text/plain": [
       "defaultdict(int,\n",
       "            {(91, 105): 10,\n",
       "             (91, 1815): 10,\n",
       "             (113, 3177): 10,\n",
       "             (43, 3320): 10,\n",
       "             (107, 3236): 10,\n",
       "             (99, 3058): 10,\n",
       "             (43, 2915): 10,\n",
       "             (119, 3091): 10,\n",
       "             (89, 91): 10,\n",
       "             (90, 2231): 10,\n",
       "             (91, 1674): 10,\n",
       "             (91, 3144): 10,\n",
       "             (26, 1090): 10,\n",
       "             (91, 94): 10,\n",
       "             (91, 1523): 10,\n",
       "             (91, 973): 10,\n",
       "             (8, 91): 10,\n",
       "             (6, 91): 10,\n",
       "             (91, 855): 10,\n",
       "             (91, 1514): 10,\n",
       "             (52, 2766): 10,\n",
       "             (91, 2013): 10,\n",
       "             (48, 1128): 10,\n",
       "             (91, 776): 10,\n",
       "             (91, 2508): 10,\n",
       "             (43, 2568): 10,\n",
       "             (53, 1096): 10,\n",
       "             (39, 91): 10,\n",
       "             (38, 105): 10,\n",
       "             (91, 1900): 10,\n",
       "             (91, 2392): 10,\n",
       "             (113, 3001): 10,\n",
       "             (91, 326): 10,\n",
       "             (5, 2794): 10,\n",
       "             (65, 2986): 10,\n",
       "             (91, 100): 10,\n",
       "             (23, 91): 10,\n",
       "             (53, 2016): 10,\n",
       "             (35, 91): 10,\n",
       "             (89, 1815): 10,\n",
       "             (91, 2895): 10,\n",
       "             (91, 1807): 10,\n",
       "             (91, 163): 10,\n",
       "             (26, 3191): 10,\n",
       "             (9, 3094): 10,\n",
       "             (91, 2529): 10,\n",
       "             (91, 1960): 10,\n",
       "             (67, 91): 10,\n",
       "             (91, 2528): 10,\n",
       "             (91, 572): 10,\n",
       "             (8, 105): 10,\n",
       "             (91, 1100): 10,\n",
       "             (91, 899): 10,\n",
       "             (91, 2521): 10,\n",
       "             (113, 631): 10,\n",
       "             (95, 2617): 10,\n",
       "             (5, 1100): 10,\n",
       "             (2, 99): 10,\n",
       "             (91, 1173): 10,\n",
       "             (9, 2470): 10,\n",
       "             (5, 64): 10,\n",
       "             (91, 2007): 10,\n",
       "             (2, 3173): 10,\n",
       "             (55, 436): 10,\n",
       "             (90, 115): 10,\n",
       "             (30, 3031): 10,\n",
       "             (42, 3031): 10,\n",
       "             (91, 174): 10,\n",
       "             (113, 1803): 10,\n",
       "             (118, 1664): 10,\n",
       "             (88, 2696): 10,\n",
       "             (15, 91): 10,\n",
       "             (67, 174): 10,\n",
       "             (91, 628): 10,\n",
       "             (0, 91): 10,\n",
       "             (43, 933): 10,\n",
       "             (91, 1222): 10,\n",
       "             (72, 3301): 10,\n",
       "             (113, 1300): 10,\n",
       "             (91, 2905): 10,\n",
       "             (91, 1254): 10,\n",
       "             (99, 3323): 10,\n",
       "             (91, 2284): 10,\n",
       "             (25, 103): 10,\n",
       "             (103, 855): 10,\n",
       "             (113, 270): 10,\n",
       "             (25, 2546): 10,\n",
       "             (91, 2438): 10,\n",
       "             (91, 1289): 10,\n",
       "             (54, 2333): 10,\n",
       "             (880, 3277): 10,\n",
       "             (115, 976): 10,\n",
       "             (115, 1309): 10,\n",
       "             (115, 1192): 10,\n",
       "             (90, 117): 10,\n",
       "             (90, 1601): 10,\n",
       "             (15, 2013): 10,\n",
       "             (115, 175): 10,\n",
       "             (91, 467): 10,\n",
       "             (91, 1734): 10,\n",
       "             (77, 2064): 10,\n",
       "             (77, 1229): 10,\n",
       "             (91, 1229): 10,\n",
       "             (38, 1443): 10,\n",
       "             (20, 3179): 10,\n",
       "             (34, 43): 10,\n",
       "             (66, 1734): 10,\n",
       "             (93, 3224): 10,\n",
       "             (107, 824): 10,\n",
       "             (21, 2890): 10,\n",
       "             (119, 2788): 10,\n",
       "             (67, 2305): 10,\n",
       "             (0, 671): 10,\n",
       "             (91, 671): 10,\n",
       "             (67, 1734): 10,\n",
       "             (4, 115): 10,\n",
       "             (91, 115): 10,\n",
       "             (115, 3168): 10,\n",
       "             (66, 1443): 10,\n",
       "             (63, 3315): 10,\n",
       "             (4, 3098): 10,\n",
       "             (91, 3098): 10,\n",
       "             (82, 274): 10,\n",
       "             (52, 2737): 10,\n",
       "             (90, 1451): 10,\n",
       "             (115, 1501): 10,\n",
       "             (115, 611): 10,\n",
       "             (52, 3259): 10,\n",
       "             (77, 175): 10,\n",
       "             (115, 2624): 10,\n",
       "             (115, 446): 10,\n",
       "             (90, 2582): 10,\n",
       "             (115, 1405): 10,\n",
       "             (37, 2539): 10,\n",
       "             (115, 1412): 10,\n",
       "             (46, 52): 10,\n",
       "             (82, 3285): 10,\n",
       "             (2, 3320): 10,\n",
       "             (2, 45): 10,\n",
       "             (2, 2164): 10,\n",
       "             (25, 2130): 10,\n",
       "             (103, 2268): 10,\n",
       "             (43, 2838): 10,\n",
       "             (91, 1494): 10,\n",
       "             (6, 1494): 10,\n",
       "             (25, 328): 10,\n",
       "             (115, 1490): 10,\n",
       "             (82, 3326): 10,\n",
       "             (43, 2164): 10,\n",
       "             (33, 2103): 10,\n",
       "             (103, 1697): 10,\n",
       "             (103, 821): 10,\n",
       "             (2, 1871): 10,\n",
       "             (33, 85): 10,\n",
       "             (2, 1639): 10,\n",
       "             (50, 1490): 10,\n",
       "             (33, 112): 10,\n",
       "             (82, 3159): 10,\n",
       "             (88, 3247): 10,\n",
       "             (2, 1059): 10,\n",
       "             (91, 1942): 10,\n",
       "             (2, 823): 10,\n",
       "             (33, 1689): 10,\n",
       "             (23, 556): 10,\n",
       "             (49, 3281): 10,\n",
       "             (42, 2675): 10,\n",
       "             (115, 556): 10,\n",
       "             (115, 2068): 10,\n",
       "             (2, 1391): 10,\n",
       "             (74, 90): 10,\n",
       "             (113, 2523): 10,\n",
       "             (2, 2201): 10,\n",
       "             (91, 1696): 10,\n",
       "             (33, 116): 10,\n",
       "             (90, 2137): 10,\n",
       "             (44, 983): 10,\n",
       "             (24, 2856): 10,\n",
       "             (100, 1734): 10,\n",
       "             (64, 3112): 10,\n",
       "             (2, 104): 10,\n",
       "             (110, 2533): 10,\n",
       "             (93, 3162): 10,\n",
       "             (89, 115): 10,\n",
       "             (115, 1977): 10,\n",
       "             (23, 2046): 10,\n",
       "             (35, 462): 10,\n",
       "             (31, 3237): 10,\n",
       "             (40, 46): 10,\n",
       "             (46, 576): 10,\n",
       "             (46, 644): 10,\n",
       "             (31, 3311): 10,\n",
       "             (107, 2932): 10,\n",
       "             (52, 1951): 10,\n",
       "             (34, 3316): 10,\n",
       "             (46, 2016): 10,\n",
       "             (53, 320): 10,\n",
       "             (46, 950): 10,\n",
       "             (5, 1514): 10,\n",
       "             (20, 52): 10,\n",
       "             (2, 606): 10,\n",
       "             (33, 1833): 10,\n",
       "             (90, 1246): 10,\n",
       "             (2, 369): 10,\n",
       "             (90, 2658): 10,\n",
       "             (5, 1749): 10,\n",
       "             (61, 65): 10,\n",
       "             (65, 1608): 10,\n",
       "             (52, 1344): 10,\n",
       "             (108, 3005): 10,\n",
       "             (3, 108): 10,\n",
       "             (90, 2465): 10,\n",
       "             (0, 2287): 10,\n",
       "             (115, 2125): 10,\n",
       "             (6, 994): 10,\n",
       "             (65, 905): 10,\n",
       "             (53, 72): 10,\n",
       "             (2, 589): 10,\n",
       "             (46, 320): 10,\n",
       "             (53, 1719): 10,\n",
       "             (15, 117): 10,\n",
       "             (33, 367): 10,\n",
       "             (117, 1604): 10,\n",
       "             (33, 3090): 10,\n",
       "             (7, 2764): 10,\n",
       "             (38, 3256): 10,\n",
       "             (94, 1658): 10,\n",
       "             (111, 2833): 10,\n",
       "             (78, 1976): 10,\n",
       "             (66, 2304): 10,\n",
       "             (91, 1443): 10,\n",
       "             (113, 2231): 10,\n",
       "             (117, 2582): 10,\n",
       "             (90, 1425): 10,\n",
       "             (90, 251): 10,\n",
       "             (67, 111): 10,\n",
       "             (90, 2833): 10,\n",
       "             (111, 3103): 10,\n",
       "             (111, 2465): 10,\n",
       "             (90, 727): 10,\n",
       "             (49, 1511): 10,\n",
       "             (41, 3310): 10,\n",
       "             (116, 1371): 10,\n",
       "             (4, 1738): 10,\n",
       "             (91, 1738): 10,\n",
       "             (50, 74): 10,\n",
       "             (90, 2972): 10,\n",
       "             (90, 2074): 10,\n",
       "             (99, 1690): 10,\n",
       "             (38, 2869): 10,\n",
       "             (39, 2870): 10,\n",
       "             (6, 3314): 10,\n",
       "             (90, 806): 10,\n",
       "             (91, 346): 10,\n",
       "             (89, 346): 10,\n",
       "             (52, 2917): 10,\n",
       "             (31, 939): 10,\n",
       "             (61, 939): 10,\n",
       "             (45, 350): 10,\n",
       "             (72, 3173): 10,\n",
       "             (2, 2271): 10,\n",
       "             (82, 2885): 10,\n",
       "             (5, 369): 10,\n",
       "             (2, 1955): 10,\n",
       "             (35, 2932): 10,\n",
       "             (49, 2502): 10,\n",
       "             (72, 1743): 10,\n",
       "             (45, 1151): 10,\n",
       "             (33, 1338): 10,\n",
       "             (91, 2304): 10,\n",
       "             (37, 2878): 10,\n",
       "             (2, 3159): 10,\n",
       "             (82, 2201): 10,\n",
       "             (2, 1502): 10,\n",
       "             (82, 617): 10,\n",
       "             (6, 617): 10,\n",
       "             (107, 3287): 10,\n",
       "             (74, 2043): 10,\n",
       "             (52, 71): 10,\n",
       "             (82, 1960): 10,\n",
       "             (82, 1391): 10,\n",
       "             (2, 3199): 10,\n",
       "             (2, 3291): 10,\n",
       "             (2, 2678): 10,\n",
       "             (55, 1128): 10,\n",
       "             (2, 57): 10,\n",
       "             (22, 422): 10,\n",
       "             (108, 872): 10,\n",
       "             (77, 318): 10,\n",
       "             (2, 436): 10,\n",
       "             (10, 55): 10,\n",
       "             (82, 128): 10,\n",
       "             (105, 128): 10,\n",
       "             (4, 1972): 10,\n",
       "             (50, 3074): 10,\n",
       "             (74, 82): 10,\n",
       "             (50, 2810): 10,\n",
       "             (91, 2809): 10,\n",
       "             (15, 2809): 10,\n",
       "             (2, 3301): 10,\n",
       "             (2, 1748): 10,\n",
       "             (111, 2198): 10,\n",
       "             (2, 2996): 10,\n",
       "             (82, 467): 10,\n",
       "             (23, 85): 10,\n",
       "             (90, 2893): 10,\n",
       "             (85, 2012): 10,\n",
       "             (43, 63): 10,\n",
       "             (35, 82): 10,\n",
       "             (63, 2998): 10,\n",
       "             (82, 1055): 10,\n",
       "             (72, 971): 10,\n",
       "             (10, 3027): 10,\n",
       "             (99, 1573): 10,\n",
       "             (91, 2810): 10,\n",
       "             (115, 3074): 10,\n",
       "             (98, 514): 10,\n",
       "             (50, 2934): 10,\n",
       "             (49, 2839): 10,\n",
       "             (53, 2806): 10,\n",
       "             (41, 2012): 10,\n",
       "             (91, 1920): 10,\n",
       "             (8, 1147): 10,\n",
       "             (94, 969): 10,\n",
       "             (85, 2685): 10,\n",
       "             (118, 1418): 10,\n",
       "             (95, 1502): 10,\n",
       "             (21, 3137): 10,\n",
       "             (2, 2986): 10,\n",
       "             (733, 1406): 10,\n",
       "             (2, 1608): 10,\n",
       "             (91, 128): 10,\n",
       "             (93, 955): 10,\n",
       "             (65, 1368): 10,\n",
       "             (115, 178): 10,\n",
       "             (2, 1368): 10,\n",
       "             (65, 1982): 10,\n",
       "             (31, 1982): 10,\n",
       "             (8, 1638): 10,\n",
       "             (35, 209): 10,\n",
       "             (65, 870): 10,\n",
       "             (2, 870): 10,\n",
       "             (50, 3310): 10,\n",
       "             (77, 1859): 10,\n",
       "             (85, 727): 10,\n",
       "             (98, 817): 10,\n",
       "             (66, 2616): 10,\n",
       "             (6, 905): 10,\n",
       "             (90, 183): 10,\n",
       "             (115, 1732): 10,\n",
       "             (91, 1638): 10,\n",
       "             (8, 68): 10,\n",
       "             (68, 196): 10,\n",
       "             (65, 2013): 10,\n",
       "             (65, 459): 10,\n",
       "             (52, 459): 10,\n",
       "             (65, 3314): 10,\n",
       "             (65, 1935): 10,\n",
       "             (8, 2258): 10,\n",
       "             (4, 2229): 10,\n",
       "             (91, 2101): 10,\n",
       "             (67, 2101): 10,\n",
       "             (115, 2229): 10,\n",
       "             (73, 512): 10,\n",
       "             (79, 103): 10,\n",
       "             (6, 1558): 10,\n",
       "             (50, 3024): 10,\n",
       "             (9, 536): 10,\n",
       "             (116, 1689): 10,\n",
       "             (33, 3161): 10,\n",
       "             (82, 1431): 10,\n",
       "             (2, 2813): 10,\n",
       "             (41, 2813): 10,\n",
       "             (64, 2971): 10,\n",
       "             (4, 731): 10,\n",
       "             (91, 1859): 10,\n",
       "             (8, 2656): 10,\n",
       "             (7, 3326): 10,\n",
       "             (111, 3271): 10,\n",
       "             (33, 1827): 10,\n",
       "             (74, 1745): 10,\n",
       "             (115, 731): 10,\n",
       "             (117, 1972): 10,\n",
       "             (4, 1274): 10,\n",
       "             (55, 1649): 10,\n",
       "             (91, 3024): 10,\n",
       "             (115, 1062): 10,\n",
       "             (78, 885): 10,\n",
       "             (62, 2150): 10,\n",
       "             (107, 2939): 10,\n",
       "             (115, 1274): 10,\n",
       "             (4, 2156): 10,\n",
       "             (4, 1249): 10,\n",
       "             (112, 2868): 10,\n",
       "             (8, 1037): 10,\n",
       "             (112, 2159): 10,\n",
       "             (112, 842): 10,\n",
       "             (115, 2159): 10,\n",
       "             (115, 1037): 10,\n",
       "             (90, 1963): 10,\n",
       "             (112, 343): 10,\n",
       "             (89, 872): 10,\n",
       "             (49, 2265): 10,\n",
       "             (112, 855): 10,\n",
       "             (37, 235): 10,\n",
       "             (2508, 2723): 10,\n",
       "             (90, 343): 10,\n",
       "             (91, 2280): 10,\n",
       "             (105, 3288): 10,\n",
       "             (98, 169): 10,\n",
       "             (15, 1588): 10,\n",
       "             (8, 3166): 10,\n",
       "             (107, 1628): 10,\n",
       "             (4, 3005): 10,\n",
       "             (65, 3165): 10,\n",
       "             (2, 3165): 10,\n",
       "             (0, 3089): 10,\n",
       "             (65, 2793): 10,\n",
       "             (65, 2941): 10,\n",
       "             (77, 1642): 10,\n",
       "             (112, 2157): 10,\n",
       "             (112, 3261): 10,\n",
       "             (94, 642): 10,\n",
       "             (33, 2802): 10,\n",
       "             (112, 1168): 10,\n",
       "             (108, 2802): 10,\n",
       "             (8, 1959): 10,\n",
       "             (50, 1293): 10,\n",
       "             (117, 3219): 10,\n",
       "             (91, 456): 10,\n",
       "             (67, 1592): 10,\n",
       "             (3, 2374): 10,\n",
       "             (4, 2157): 10,\n",
       "             (85, 2072): 10,\n",
       "             (118, 1283): 10,\n",
       "             (71, 353): 10,\n",
       "             (4, 19): 10,\n",
       "             (3, 110): 10,\n",
       "             (82, 743): 10,\n",
       "             (19, 503): 10,\n",
       "             (8, 11): 10,\n",
       "             (39, 531): 10,\n",
       "             (26, 571): 10,\n",
       "             (98, 2611): 10,\n",
       "             (7, 1431): 10,\n",
       "             (3, 2593): 10,\n",
       "             (22, 1776): 10})"
      ]
     },
     "execution_count": 9,
     "metadata": {},
     "output_type": "execute_result"
    }
   ],
   "source": [
    "amts"
   ]
  },
  {
   "cell_type": "code",
   "execution_count": 10,
   "id": "14c3fe3f-c399-458f-9e4a-6d9b8a33b671",
   "metadata": {},
   "outputs": [],
   "source": [
    "sorted_list = sorted(amts.items(), key=lambda item: item[1], reverse=True)\n",
    "sorted_keys = [key for key, value in sorted_list]"
   ]
  },
  {
   "cell_type": "code",
   "execution_count": 11,
   "id": "9b09f108-cb33-4b92-9325-66f627f10427",
   "metadata": {},
   "outputs": [],
   "source": [
    "edges_to_add = sorted_keys"
   ]
  },
  {
   "cell_type": "code",
   "execution_count": 12,
   "id": "0819fb57-60bd-43ac-81df-049000deec5e",
   "metadata": {},
   "outputs": [],
   "source": [
    "from torch_geometric.utils import dense_to_sparse, to_networkx, from_networkx\n",
    "import networkx as nx"
   ]
  },
  {
   "cell_type": "code",
   "execution_count": 13,
   "id": "fc019a1b-a6cf-4aa0-ae15-57c47805d242",
   "metadata": {},
   "outputs": [],
   "source": [
    "G = to_networkx(data, to_undirected=True)\n",
    "initial_edge_count = G.number_of_edges() // 2\n",
    "ptb_rate = 0.19\n",
    "budget = int(ptb_rate * initial_edge_count)"
   ]
  },
  {
   "cell_type": "code",
   "execution_count": 14,
   "id": "dcdbb142-71ec-424c-9eb5-4c6c886085d0",
   "metadata": {},
   "outputs": [
    {
     "name": "stdout",
     "output_type": "stream",
     "text": [
      "446\n",
      "432\n"
     ]
    }
   ],
   "source": [
    "print(len(edges_to_add))\n",
    "print(budget)"
   ]
  },
  {
   "cell_type": "code",
   "execution_count": 15,
   "id": "d387690e-4733-4256-bf17-374e8313dcb4",
   "metadata": {},
   "outputs": [],
   "source": [
    "def two_phase_attack(split):\n",
    "    diff_threshold = 0.01\n",
    "    first_phase_edges = int(budget * split)\n",
    "    second_phase_percent = ptb_rate * (1 - split) * 0.5\n",
    "    print(f\"\\n--- Running split: {split} ---\")\n",
    "    print(f\"Second phase perturbation rate: {second_phase_percent:.4f}\")\n",
    "\n",
    "    phase1_accuracies = []\n",
    "    phase2_accuracies = []\n",
    "\n",
    "    G = to_networkx(data, to_undirected=True)\n",
    "    data_copy = copy.copy(data)\n",
    "\n",
    "    i, j = 0, 0  # i - edges successfully added, j - index in list\n",
    "\n",
    "    # === Phase 1 ===\n",
    "    while i < first_phase_edges:\n",
    "        if j >= len(edges_to_add):\n",
    "            print(\"Ran out of candidate edges in Phase 1. Moving to Phase 2.\")\n",
    "            break\n",
    "\n",
    "        u, v = edges_to_add[j]\n",
    "        G.add_edge(u, v)\n",
    "\n",
    "        modified_data = from_networkx(G).to(device)\n",
    "        modified_data.x = data.x \n",
    "        modified_data.y = data.y \n",
    "        modified_data.train_mask = data.train_mask\n",
    "        modified_data.test_mask = data.test_mask\n",
    "\n",
    "        _, modified_accuracy = train.test(modified_data)\n",
    "\n",
    "        if modified_accuracy == initial_accuracy:\n",
    "            i += 1\n",
    "            phase1_accuracies.append(modified_accuracy)\n",
    "        else:\n",
    "            G.remove_edge(u, v)\n",
    "\n",
    "        j += 1\n",
    "\n",
    "    print(f\"Phase 1: Added {i} edges out of requested {first_phase_edges}.\")\n",
    "\n",
    "    # === Phase 2 ===\n",
    "    modified_data = from_networkx(G).to(device)\n",
    "    modified_data.x = data.x \n",
    "    modified_data.y = data.y \n",
    "    modified_data.train_mask = data.train_mask\n",
    "    modified_data.test_mask = data.test_mask\n",
    "\n",
    "    attacker = Metattack(modified_data, device=device)\n",
    "    attacker.setup_surrogate(model,\n",
    "                             labeled_nodes=data.train_mask,\n",
    "                             unlabeled_nodes=data.test_mask, \n",
    "                             lambda_=0.)\n",
    "    attacker.reset()\n",
    "    attacker.attack(second_phase_percent)\n",
    "\n",
    "    degs = defaultdict(tuple)\n",
    "    for k, v in attacker._added_edges.items():\n",
    "        degs[v] = (k, True)\n",
    "    for k, v in attacker._removed_edges.items():\n",
    "        degs[v] = (k, False)\n",
    "\n",
    "    for _, second in degs.items():\n",
    "        u, v = second[0]\n",
    "        if second[1]:\n",
    "            G.add_edge(u, v)\n",
    "        else:\n",
    "            G.remove_edge(u, v)\n",
    "\n",
    "        modified_data = from_networkx(G).to(device)\n",
    "        modified_data.x = data.x \n",
    "        modified_data.y = data.y \n",
    "        modified_data.train_mask = data.train_mask\n",
    "        modified_data.test_mask = data.test_mask\n",
    "\n",
    "        _, modified_accuracy = train.test(modified_data)\n",
    "        phase2_accuracies.append(modified_accuracy)\n",
    "\n",
    "    # === Final Reporting ===\n",
    "    final_accuracy = phase2_accuracies[-1] if phase2_accuracies else (\n",
    "        phase1_accuracies[-1] if phase1_accuracies else initial_accuracy)\n",
    "    accuracy_drop = initial_accuracy - final_accuracy\n",
    "\n",
    "    print(f\"Final Accuracy: {final_accuracy:.4f}\")\n",
    "    print(f\"Accuracy Drop: {accuracy_drop:.4f}\")\n",
    "\n",
    "    return {\n",
    "        \"split\": split,\n",
    "        \"phase1_added\": i,\n",
    "        \"phase1_accuracies\": phase1_accuracies,\n",
    "        \"phase2_accuracies\": phase2_accuracies,\n",
    "        \"final_accuracy\": final_accuracy,\n",
    "        \"accuracy_drop\": accuracy_drop\n",
    "    }\n"
   ]
  },
  {
   "cell_type": "code",
   "execution_count": 16,
   "id": "a9dea6c6-42e5-48ac-ae64-03decca074d5",
   "metadata": {},
   "outputs": [],
   "source": [
    "splits = [0, 0.5]\n",
    "split_dic = defaultdict(list)"
   ]
  },
  {
   "cell_type": "code",
   "execution_count": 17,
   "id": "529386fe-c89c-402a-948c-a4d2994b6512",
   "metadata": {},
   "outputs": [
    {
     "name": "stdout",
     "output_type": "stream",
     "text": [
      "0\n",
      "\n",
      "--- Running split: 0 ---\n",
      "Second phase perturbation rate: 0.0950\n",
      "Phase 1: Added 0 edges out of requested 0.\n"
     ]
    },
    {
     "data": {
      "application/vnd.jupyter.widget-view+json": {
       "model_id": "7a9b7a4d64e44d909504cd0ac05ec2a0",
       "version_major": 2,
       "version_minor": 0
      },
      "text/plain": [
       "Peturbing graph...:   0%|          | 0/432 [00:00<?, ?it/s]"
      ]
     },
     "metadata": {},
     "output_type": "display_data"
    },
    {
     "name": "stdout",
     "output_type": "stream",
     "text": [
      "Final Accuracy: 0.6340\n",
      "Accuracy Drop: 0.0110\n",
      "0.5\n",
      "\n",
      "--- Running split: 0.5 ---\n",
      "Second phase perturbation rate: 0.0475\n",
      "Phase 1: Added 216 edges out of requested 216.\n"
     ]
    },
    {
     "data": {
      "application/vnd.jupyter.widget-view+json": {
       "model_id": "2005d73e6c9f49318b2676cef2104c1e",
       "version_major": 2,
       "version_minor": 0
      },
      "text/plain": [
       "Peturbing graph...:   0%|          | 0/226 [00:00<?, ?it/s]"
      ]
     },
     "metadata": {},
     "output_type": "display_data"
    },
    {
     "name": "stdout",
     "output_type": "stream",
     "text": [
      "Final Accuracy: 0.6230\n",
      "Accuracy Drop: 0.0220\n"
     ]
    }
   ],
   "source": [
    "for s in splits:\n",
    "    print(s)\n",
    "    split_dic[s] = two_phase_attack(s)"
   ]
  },
  {
   "cell_type": "code",
   "execution_count": 19,
   "id": "fc03d876-4858-42ec-b19a-a48d3e8935f2",
   "metadata": {},
   "outputs": [],
   "source": [
    "G = to_networkx(data, to_undirected=True)\n",
    "initial_edge_count = G.number_of_edges() // 2\n",
    "ptb_rate = 0.5\n",
    "budget = int(ptb_rate * initial_edge_count)"
   ]
  },
  {
   "cell_type": "code",
   "execution_count": 20,
   "id": "e684c57d-0c50-4c2a-9513-7c440ed12a51",
   "metadata": {},
   "outputs": [
    {
     "name": "stdout",
     "output_type": "stream",
     "text": [
      "724\n",
      "1319\n"
     ]
    }
   ],
   "source": [
    "print(len(edges_to_add))\n",
    "print(budget)"
   ]
  },
  {
   "cell_type": "code",
   "execution_count": null,
   "id": "5392bcbf-fe97-499d-a646-813c55f1d7d2",
   "metadata": {},
   "outputs": [],
   "source": []
  }
 ],
 "metadata": {
  "kernelspec": {
   "display_name": "Python 3 (ipykernel)",
   "language": "python",
   "name": "python3"
  },
  "language_info": {
   "codemirror_mode": {
    "name": "ipython",
    "version": 3
   },
   "file_extension": ".py",
   "mimetype": "text/x-python",
   "name": "python",
   "nbconvert_exporter": "python",
   "pygments_lexer": "ipython3",
   "version": "3.9.18"
  }
 },
 "nbformat": 4,
 "nbformat_minor": 5
}
