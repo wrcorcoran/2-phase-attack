{
 "cells": [
  {
   "cell_type": "code",
   "execution_count": 1,
   "id": "f9a0f846-f2f5-497e-885a-4a92a88a7537",
   "metadata": {},
   "outputs": [
    {
     "name": "stdout",
     "output_type": "stream",
     "text": [
      "/home/niyati/miniconda3/envs/ersp_v2/bin/python\n"
     ]
    }
   ],
   "source": [
    "import sys\n",
    "from itertools import count\n",
    "from torch import autograd\n",
    "from torch_geometric.utils import dense_to_sparse\n",
    "import copy\n",
    "from collections import defaultdict\n",
    "\n",
    "sys.path.append('../../')\n",
    "\n",
    "from src.models.gcn import *\n",
    "from src.utils.datasets import *\n",
    "from src.models.trainable import *\n",
    "from src.attacks.greedy_gd import *\n",
    "\n",
    "print(sys.executable)"
   ]
  },
  {
   "cell_type": "code",
   "execution_count": 2,
   "id": "7f1206c6-aea0-4b20-ac37-5b7fbaa5ab3b",
   "metadata": {},
   "outputs": [],
   "source": [
    "device = \"cuda\" if torch.cuda.is_available() else \"cpu\""
   ]
  },
  {
   "cell_type": "code",
   "execution_count": 3,
   "id": "07c9b5b5-dbcf-4473-b1a5-a6bdf5c5c25c",
   "metadata": {},
   "outputs": [
    {
     "name": "stdout",
     "output_type": "stream",
     "text": [
      "Data(x=[3327, 3703], edge_index=[2, 9104], y=[3327], train_mask=[3327], val_mask=[3327], test_mask=[3327])\n"
     ]
    }
   ],
   "source": [
    "# dataset_directory = \"../Cora\"\n",
    "citeseer_dataset = Planetoid(root='', name='Citeseer')\n",
    "data = citeseer_dataset[0].to(device)\n",
    "print(data)"
   ]
  },
  {
   "cell_type": "code",
   "execution_count": 15,
   "id": "996b3727-d5cd-48b7-b708-cec0ef0792ee",
   "metadata": {},
   "outputs": [],
   "source": [
    "model = GCN(data.x.shape[1], citeseer_dataset.num_classes, [64]).to(device)"
   ]
  },
  {
   "cell_type": "code",
   "execution_count": 16,
   "id": "75628fa0-fa51-4c70-9aaf-fab472f16bd0",
   "metadata": {},
   "outputs": [
    {
     "name": "stdout",
     "output_type": "stream",
     "text": [
      "Epoch 0, Train Loss - 2.764373540878296, Val Loss - 4.158348083496094, Val Accuracy - 0.351\n",
      "Epoch 20, Train Loss - 0.18402592837810516, Val Loss - 3.855626106262207, Val Accuracy - 0.628\n",
      "Epoch 40, Train Loss - 0.008632439188659191, Val Loss - 4.55294942855835, Val Accuracy - 0.608\n",
      "Epoch 60, Train Loss - 0.12433706969022751, Val Loss - 4.521960735321045, Val Accuracy - 0.621\n",
      "Epoch 80, Train Loss - 0.053415264934301376, Val Loss - 4.821153163909912, Val Accuracy - 0.614\n",
      "Epoch 100, Train Loss - 0.021264292299747467, Val Loss - 5.989776134490967, Val Accuracy - 0.57\n",
      "Epoch 120, Train Loss - 0.008047237992286682, Val Loss - 6.646504878997803, Val Accuracy - 0.563\n",
      "Epoch 140, Train Loss - 0.09386077523231506, Val Loss - 6.1540398597717285, Val Accuracy - 0.605\n",
      "Epoch 160, Train Loss - 0.0053002662025392056, Val Loss - 5.723100662231445, Val Accuracy - 0.608\n",
      "Epoch 180, Train Loss - 0.024926424026489258, Val Loss - 5.550207614898682, Val Accuracy - 0.596\n",
      "Epoch 200, Train Loss - 0.005417624022811651, Val Loss - 5.303683280944824, Val Accuracy - 0.6\n"
     ]
    }
   ],
   "source": [
    "model.reset_parameters()\n",
    "train = Trainable(model)\n",
    "train.fit(data, 200)"
   ]
  },
  {
   "cell_type": "code",
   "execution_count": 17,
   "id": "636f755c-f6d4-4e14-b3e4-c5578432fd60",
   "metadata": {},
   "outputs": [
    {
     "name": "stdout",
     "output_type": "stream",
     "text": [
      "Initial Accuracy: 0.6\n",
      "Initial Loss: 5.303683280944824\n"
     ]
    }
   ],
   "source": [
    "# Get initial accuracy\n",
    "initial_loss, initial_accuracy = train.test(data)\n",
    "print(f\"Initial Accuracy: {initial_accuracy}\")\n",
    "print(f\"Initial Loss: {initial_loss}\")"
   ]
  },
  {
   "cell_type": "code",
   "execution_count": 7,
   "id": "c131a677-97d0-4fee-83aa-995a93d02fe8",
   "metadata": {},
   "outputs": [
    {
     "data": {
      "application/vnd.jupyter.widget-view+json": {
       "model_id": "9bcb9df888a246ed809ad51c8b323ded",
       "version_major": 2,
       "version_minor": 0
      },
      "text/plain": [
       "Peturbing graph...:   0%|          | 0/455 [00:00<?, ?it/s]"
      ]
     },
     "metadata": {},
     "output_type": "display_data"
    },
    {
     "data": {
      "application/vnd.jupyter.widget-view+json": {
       "model_id": "bd6147dfa9314088bf644c83088040f7",
       "version_major": 2,
       "version_minor": 0
      },
      "text/plain": [
       "Peturbing graph...:   0%|          | 0/455 [00:00<?, ?it/s]"
      ]
     },
     "metadata": {},
     "output_type": "display_data"
    },
    {
     "data": {
      "application/vnd.jupyter.widget-view+json": {
       "model_id": "d1932265401c40cc8b041757b5f0ca7a",
       "version_major": 2,
       "version_minor": 0
      },
      "text/plain": [
       "Peturbing graph...:   0%|          | 0/455 [00:00<?, ?it/s]"
      ]
     },
     "metadata": {},
     "output_type": "display_data"
    },
    {
     "data": {
      "application/vnd.jupyter.widget-view+json": {
       "model_id": "f171a3dcbd7b4fe0987a4ac9843a53c2",
       "version_major": 2,
       "version_minor": 0
      },
      "text/plain": [
       "Peturbing graph...:   0%|          | 0/455 [00:00<?, ?it/s]"
      ]
     },
     "metadata": {},
     "output_type": "display_data"
    },
    {
     "data": {
      "application/vnd.jupyter.widget-view+json": {
       "model_id": "42af11b3d3ff4d3ca60f803101be27a4",
       "version_major": 2,
       "version_minor": 0
      },
      "text/plain": [
       "Peturbing graph...:   0%|          | 0/455 [00:00<?, ?it/s]"
      ]
     },
     "metadata": {},
     "output_type": "display_data"
    },
    {
     "data": {
      "application/vnd.jupyter.widget-view+json": {
       "model_id": "e56762353a844ab19293188fb80e42ee",
       "version_major": 2,
       "version_minor": 0
      },
      "text/plain": [
       "Peturbing graph...:   0%|          | 0/455 [00:00<?, ?it/s]"
      ]
     },
     "metadata": {},
     "output_type": "display_data"
    },
    {
     "data": {
      "application/vnd.jupyter.widget-view+json": {
       "model_id": "33b589b057b14ee88e89bbe03610112e",
       "version_major": 2,
       "version_minor": 0
      },
      "text/plain": [
       "Peturbing graph...:   0%|          | 0/455 [00:00<?, ?it/s]"
      ]
     },
     "metadata": {},
     "output_type": "display_data"
    },
    {
     "data": {
      "application/vnd.jupyter.widget-view+json": {
       "model_id": "3e4a7205caa842f199942bf6816826ae",
       "version_major": 2,
       "version_minor": 0
      },
      "text/plain": [
       "Peturbing graph...:   0%|          | 0/455 [00:00<?, ?it/s]"
      ]
     },
     "metadata": {},
     "output_type": "display_data"
    },
    {
     "data": {
      "application/vnd.jupyter.widget-view+json": {
       "model_id": "866b6d1973f745e0ae38f55a8df73279",
       "version_major": 2,
       "version_minor": 0
      },
      "text/plain": [
       "Peturbing graph...:   0%|          | 0/455 [00:00<?, ?it/s]"
      ]
     },
     "metadata": {},
     "output_type": "display_data"
    },
    {
     "data": {
      "application/vnd.jupyter.widget-view+json": {
       "model_id": "a2525d1581894664b42c2b229f6007a8",
       "version_major": 2,
       "version_minor": 0
      },
      "text/plain": [
       "Peturbing graph...:   0%|          | 0/455 [00:00<?, ?it/s]"
      ]
     },
     "metadata": {},
     "output_type": "display_data"
    }
   ],
   "source": [
    "amts = defaultdict(int)\n",
    "# Run 10 attacks for perturbation of 0.2\n",
    "for i in range(10):\n",
    "    attacker = Metattack(data, device=device)\n",
    "    attacker.reset_parameters(seed=i)\n",
    "    attacker.setup_surrogate(model,\n",
    "                         labeled_nodes=data.train_mask,\n",
    "                         unlabeled_nodes=data.test_mask, lambda_=0.)\n",
    "    attacker.reset()\n",
    "    attacker.attack(0.2)\n",
    "\n",
    "    for edge in attacker._added_edges.keys():\n",
    "        amts[edge] += 1\n"
   ]
  },
  {
   "cell_type": "code",
   "execution_count": 8,
   "id": "170c8bc2-96d9-48eb-9380-f9f50b3aa69a",
   "metadata": {},
   "outputs": [
    {
     "data": {
      "text/plain": [
       "defaultdict(int,\n",
       "            {(107, 806): 10,\n",
       "             (31, 3136): 10,\n",
       "             (119, 2787): 10,\n",
       "             (53, 2813): 10,\n",
       "             (113, 1372): 10,\n",
       "             (118, 1841): 10,\n",
       "             (42, 2334): 10,\n",
       "             (48, 1626): 10,\n",
       "             (31, 939): 10,\n",
       "             (31, 788): 10,\n",
       "             (42, 67): 10,\n",
       "             (110, 659): 10,\n",
       "             (42, 2605): 10,\n",
       "             (42, 2438): 10,\n",
       "             (42, 196): 10,\n",
       "             (30, 3173): 10,\n",
       "             (25, 3170): 10,\n",
       "             (10, 3315): 10,\n",
       "             (42, 178): 10,\n",
       "             (42, 3270): 10,\n",
       "             (42, 973): 10,\n",
       "             (42, 89): 10,\n",
       "             (48, 3191): 10,\n",
       "             (53, 3224): 10,\n",
       "             (115, 1787): 10,\n",
       "             (42, 467): 10,\n",
       "             (42, 2624): 10,\n",
       "             (113, 3058): 10,\n",
       "             (31, 240): 10,\n",
       "             (31, 3079): 10,\n",
       "             (42, 2158): 10,\n",
       "             (31, 2917): 10,\n",
       "             (42, 105): 10,\n",
       "             (42, 3094): 10,\n",
       "             (91, 2689): 10,\n",
       "             (29, 2696): 10,\n",
       "             (42, 2629): 10,\n",
       "             (31, 328): 10,\n",
       "             (42, 1100): 10,\n",
       "             (31, 842): 10,\n",
       "             (8, 42): 10,\n",
       "             (116, 2938): 10,\n",
       "             (99, 1128): 10,\n",
       "             (113, 437): 10,\n",
       "             (60, 576): 10,\n",
       "             (42, 2308): 10,\n",
       "             (79, 2465): 10,\n",
       "             (31, 2164): 10,\n",
       "             (31, 2039): 10,\n",
       "             (96, 2337): 10,\n",
       "             (42, 1139): 10,\n",
       "             (30, 1827): 10,\n",
       "             (107, 1537): 10,\n",
       "             (31, 1951): 10,\n",
       "             (31, 3237): 10,\n",
       "             (34, 2357): 10,\n",
       "             (31, 3096): 10,\n",
       "             (25, 2503): 10,\n",
       "             (31, 2970): 10,\n",
       "             (31, 606): 10,\n",
       "             (53, 2208): 10,\n",
       "             (5, 328): 10,\n",
       "             (110, 1367): 10,\n",
       "             (14, 2504): 10,\n",
       "             (90, 842): 10,\n",
       "             (65, 3311): 10,\n",
       "             (31, 1964): 10,\n",
       "             (55, 318): 10,\n",
       "             (31, 1059): 10,\n",
       "             (35, 53): 10,\n",
       "             (31, 2915): 10,\n",
       "             (53, 1436): 10,\n",
       "             (53, 3144): 10,\n",
       "             (53, 2904): 10,\n",
       "             (42, 628): 10,\n",
       "             (53, 1942): 10,\n",
       "             (53, 1412): 10,\n",
       "             (0, 42): 10,\n",
       "             (0, 2862): 10,\n",
       "             (23, 3256): 10,\n",
       "             (23, 556): 10,\n",
       "             (53, 556): 10,\n",
       "             (23, 1229): 10,\n",
       "             (23, 872): 10,\n",
       "             (112, 2794): 10,\n",
       "             (85, 2338): 10,\n",
       "             (74, 3301): 10,\n",
       "             (31, 2636): 10,\n",
       "             (31, 117): 10,\n",
       "             (117, 3057): 10,\n",
       "             (31, 415): 10,\n",
       "             (23, 46): 10,\n",
       "             (46, 1492): 10,\n",
       "             (31, 2457): 10,\n",
       "             (99, 2457): 10,\n",
       "             (53, 3189): 10,\n",
       "             (5, 2456): 10,\n",
       "             (26, 583): 10,\n",
       "             (32, 2832): 10,\n",
       "             (32, 93): 10,\n",
       "             (32, 2231): 10,\n",
       "             (31, 3178): 10,\n",
       "             (42, 2521): 10,\n",
       "             (31, 3311): 10,\n",
       "             (15, 532): 10,\n",
       "             (30, 1530): 10,\n",
       "             (15, 2869): 10,\n",
       "             (38, 2870): 10,\n",
       "             (4, 969): 10,\n",
       "             (59, 983): 10,\n",
       "             (0, 1824): 10,\n",
       "             (30, 1501): 10,\n",
       "             (30, 2813): 10,\n",
       "             (23, 1158): 10,\n",
       "             (53, 568): 10,\n",
       "             (6, 71): 10,\n",
       "             (31, 2026): 10,\n",
       "             (31, 660): 10,\n",
       "             (32, 274): 10,\n",
       "             (31, 1144): 10,\n",
       "             (32, 2255): 10,\n",
       "             (6, 3314): 10,\n",
       "             (23, 45): 10,\n",
       "             (45, 3126): 10,\n",
       "             (42, 3314): 10,\n",
       "             (6, 3113): 10,\n",
       "             (40, 2374): 10,\n",
       "             (42, 3113): 10,\n",
       "             (6, 2096): 10,\n",
       "             (53, 2096): 10,\n",
       "             (31, 168): 10,\n",
       "             (6, 1872): 10,\n",
       "             (91, 2384): 10,\n",
       "             (60, 3199): 10,\n",
       "             (32, 2305): 10,\n",
       "             (31, 2130): 10,\n",
       "             (6, 103): 10,\n",
       "             (103, 2039): 10,\n",
       "             (31, 1639): 10,\n",
       "             (32, 2941): 10,\n",
       "             (82, 2386): 10,\n",
       "             (10, 195): 10,\n",
       "             (66, 2870): 10,\n",
       "             (77, 556): 10,\n",
       "             (2, 32): 10,\n",
       "             (6, 617): 10,\n",
       "             (41, 617): 10,\n",
       "             (48, 111): 10,\n",
       "             (31, 1188): 10,\n",
       "             (53, 1603): 10,\n",
       "             (48, 2568): 10,\n",
       "             (6, 1139): 10,\n",
       "             (4, 2764): 10,\n",
       "             (53, 2304): 10,\n",
       "             (0, 2304): 10,\n",
       "             (50, 53): 10,\n",
       "             (0, 631): 10,\n",
       "             (40, 2687): 10,\n",
       "             (6, 72): 10,\n",
       "             (42, 1960): 10,\n",
       "             (67, 367): 10,\n",
       "             (53, 367): 10,\n",
       "             (67, 3103): 10,\n",
       "             (105, 3267): 10,\n",
       "             (67, 251): 10,\n",
       "             (111, 2604): 10,\n",
       "             (53, 251): 10,\n",
       "             (38, 2809): 10,\n",
       "             (66, 514): 10,\n",
       "             (67, 1745): 10,\n",
       "             (49, 2810): 10,\n",
       "             (39, 2930): 10,\n",
       "             (8, 1638): 10,\n",
       "             (89, 2885): 10,\n",
       "             (42, 2885): 10,\n",
       "             (35, 2839): 10,\n",
       "             (20, 37): 10,\n",
       "             (37, 1626): 10,\n",
       "             (9, 48): 10,\n",
       "             (48, 3285): 10,\n",
       "             (48, 2437): 10,\n",
       "             (37, 2678): 10,\n",
       "             (37, 2188): 10,\n",
       "             (48, 1073): 10,\n",
       "             (48, 2010): 10,\n",
       "             (37, 867): 10,\n",
       "             (6, 3005): 10,\n",
       "             (20, 671): 10,\n",
       "             (26, 3279): 10,\n",
       "             (48, 64): 10,\n",
       "             (48, 1977): 10,\n",
       "             (67, 1851): 10,\n",
       "             (53, 1851): 10,\n",
       "             (31, 1344): 10,\n",
       "             (67, 1959): 10,\n",
       "             (77, 2671): 10,\n",
       "             (53, 1959): 10,\n",
       "             (67, 1007): 10,\n",
       "             (9, 71): 10,\n",
       "             (9, 1503): 10,\n",
       "             (67, 2929): 10,\n",
       "             (100, 2833): 10,\n",
       "             (49, 1738): 10,\n",
       "             (48, 1503): 10,\n",
       "             (9, 3098): 10,\n",
       "             (9, 111): 10,\n",
       "             (48, 1963): 10,\n",
       "             (48, 3277): 10,\n",
       "             (42, 1638): 10,\n",
       "             (8, 1037): 10,\n",
       "             (90, 3166): 10,\n",
       "             (48, 2766): 10,\n",
       "             (93, 1963): 10,\n",
       "             (9, 2437): 10,\n",
       "             (48, 3064): 10,\n",
       "             (48, 1792): 10,\n",
       "             (50, 2656): 10,\n",
       "             (45, 1020): 10,\n",
       "             (105, 2832): 10,\n",
       "             (37, 3097): 10,\n",
       "             (52, 1792): 10,\n",
       "             (62, 111): 10,\n",
       "             (21, 62): 10,\n",
       "             (62, 1037): 10,\n",
       "             (48, 2043): 10,\n",
       "             (48, 3251): 10,\n",
       "             (27, 1090): 10,\n",
       "             (48, 2029): 10,\n",
       "             (35, 1588): 10,\n",
       "             (66, 531): 10,\n",
       "             (8, 11): 10,\n",
       "             (8, 68): 10,\n",
       "             (8, 1147): 10,\n",
       "             (38, 2932): 10,\n",
       "             (8, 2611): 10,\n",
       "             (15, 1721): 10,\n",
       "             (42, 2611): 10,\n",
       "             (8, 1102): 10,\n",
       "             (53, 2602): 10,\n",
       "             (68, 1776): 10,\n",
       "             (8, 564): 10,\n",
       "             (92, 171): 10,\n",
       "             (8, 2150): 10,\n",
       "             (111, 729): 10,\n",
       "             (48, 1425): 10,\n",
       "             (21, 1425): 10,\n",
       "             (103, 1573): 10,\n",
       "             (48, 2288): 10,\n",
       "             (57, 1507): 10,\n",
       "             (8, 3119): 10,\n",
       "             (8, 284): 10,\n",
       "             (8, 3223): 10,\n",
       "             (48, 824): 10,\n",
       "             (46, 64): 10,\n",
       "             (48, 3219): 10,\n",
       "             (78, 3310): 10,\n",
       "             (48, 2140): 10,\n",
       "             (79, 2737): 10,\n",
       "             (48, 1053): 10,\n",
       "             (63, 1056): 10,\n",
       "             (48, 1056): 10,\n",
       "             (63, 793): 10,\n",
       "             (63, 1494): 10,\n",
       "             (63, 72): 10,\n",
       "             (72, 1649): 10,\n",
       "             (51, 1976): 10,\n",
       "             (46, 1057): 10,\n",
       "             (39, 2602): 10,\n",
       "             (31, 3001): 10,\n",
       "             (53, 2009): 10,\n",
       "             (48, 896): 10,\n",
       "             (37, 315): 10,\n",
       "             (42, 1147): 10,\n",
       "             (8, 1113): 10,\n",
       "             (88, 2593): 10,\n",
       "             (94, 817): 10,\n",
       "             (53, 2793): 10,\n",
       "             (62, 104): 10,\n",
       "             (55, 3024): 10,\n",
       "             (94, 642): 10,\n",
       "             (24, 48): 10,\n",
       "             (104, 3261): 10,\n",
       "             (24, 581): 10,\n",
       "             (48, 977): 10,\n",
       "             (48, 2939): 10,\n",
       "             (42, 2265): 10,\n",
       "             (23, 2265): 10,\n",
       "             (3, 62): 10,\n",
       "             (89, 1816): 10,\n",
       "             (63, 2016): 10,\n",
       "             (48, 2016): 10,\n",
       "             (82, 128): 10,\n",
       "             (112, 1459): 10,\n",
       "             (77, 2464): 10,\n",
       "             (53, 514): 10,\n",
       "             (49, 2616): 10,\n",
       "             (84, 2103): 10,\n",
       "             (96, 1862): 10,\n",
       "             (97, 2103): 10,\n",
       "             (32, 46): 10,\n",
       "             (48, 1431): 10,\n",
       "             (12, 1885): 10,\n",
       "             (8, 2411): 10,\n",
       "             (8, 782): 10,\n",
       "             (67, 1972): 10,\n",
       "             (42, 969): 10,\n",
       "             (4, 2995): 10,\n",
       "             (62, 193): 10,\n",
       "             (91, 1481): 10,\n",
       "             (29, 2801): 10,\n",
       "             (647, 1406): 10,\n",
       "             (39, 3288): 10,\n",
       "             (0, 1859): 10,\n",
       "             (48, 3225): 10,\n",
       "             (92, 855): 10,\n",
       "             (68, 1062): 10,\n",
       "             (8, 1388): 10,\n",
       "             (11, 955): 10,\n",
       "             (8, 2034): 10,\n",
       "             (98, 393): 10,\n",
       "             (34, 3145): 10,\n",
       "             (35, 117): 10,\n",
       "             (14, 1361): 10,\n",
       "             (42, 3144): 10,\n",
       "             (53, 1816): 10,\n",
       "             (53, 1734): 10,\n",
       "             (89, 3125): 10,\n",
       "             (53, 1514): 10,\n",
       "             (49, 3120): 10,\n",
       "             (53, 1588): 10,\n",
       "             (117, 1489): 10,\n",
       "             (117, 3144): 10,\n",
       "             (117, 542): 10,\n",
       "             (99, 470): 10,\n",
       "             (98, 271): 10,\n",
       "             (35, 369): 10,\n",
       "             (53, 369): 10,\n",
       "             (89, 3084): 10,\n",
       "             (8, 36): 10,\n",
       "             (36, 1526): 10,\n",
       "             (8, 1110): 10,\n",
       "             (63, 631): 10,\n",
       "             (3, 2992): 10,\n",
       "             (60, 121): 10,\n",
       "             (52, 916): 10,\n",
       "             (44, 60): 10,\n",
       "             (60, 1370): 10,\n",
       "             (44, 46): 10,\n",
       "             (46, 1151): 10,\n",
       "             (3, 976): 10,\n",
       "             (60, 801): 10,\n",
       "             (26, 60): 10,\n",
       "             (87, 1133): 10,\n",
       "             (98, 1465): 10,\n",
       "             (18, 2395): 10,\n",
       "             (53, 2318): 10,\n",
       "             (0, 2318): 10,\n",
       "             (96, 727): 10,\n",
       "             (105, 2430): 10,\n",
       "             (118, 3165): 10,\n",
       "             (21, 104): 10,\n",
       "             (8, 1857): 10,\n",
       "             (86, 1544): 10,\n",
       "             (8, 1488): 10,\n",
       "             (86, 346): 10,\n",
       "             (86, 174): 10,\n",
       "             (8, 462): 10,\n",
       "             (15, 678): 10,\n",
       "             (35, 925): 10,\n",
       "             (53, 925): 10,\n",
       "             (62, 2037): 10,\n",
       "             (56, 688): 10,\n",
       "             (8, 2609): 10,\n",
       "             (69, 2684): 10,\n",
       "             (8, 2120): 10,\n",
       "             (64, 1977): 10,\n",
       "             (97, 804): 10,\n",
       "             (8, 763): 10,\n",
       "             (111, 1778): 10,\n",
       "             (53, 1775): 10,\n",
       "             (35, 1775): 10,\n",
       "             (35, 2138): 10,\n",
       "             (98, 173): 10,\n",
       "             (117, 3304): 10,\n",
       "             (65, 542): 10,\n",
       "             (55, 3133): 10,\n",
       "             (63, 1315): 10,\n",
       "             (89, 1315): 10,\n",
       "             (60, 2996): 10,\n",
       "             (8, 392): 10,\n",
       "             (53, 1952): 10,\n",
       "             (104, 752): 10,\n",
       "             (80, 596): 10,\n",
       "             (8, 3029): 10,\n",
       "             (52, 1719): 10,\n",
       "             (93, 95): 10,\n",
       "             (48, 2384): 10,\n",
       "             (22, 2101): 10,\n",
       "             (96, 2138): 10,\n",
       "             (23, 1952): 10,\n",
       "             (42, 947): 10,\n",
       "             (35, 947): 10,\n",
       "             (8, 2009): 10,\n",
       "             (63, 742): 10,\n",
       "             (53, 766): 10,\n",
       "             (4, 766): 10,\n",
       "             (48, 3326): 10,\n",
       "             (49, 1515): 10,\n",
       "             (5, 2157): 10,\n",
       "             (2, 104): 10,\n",
       "             (2, 841): 10,\n",
       "             (99, 1852): 10,\n",
       "             (77, 489): 10,\n",
       "             (62, 363): 10,\n",
       "             (40, 955): 10,\n",
       "             (11, 1882): 10,\n",
       "             (11, 1113): 10,\n",
       "             (111, 1674): 10,\n",
       "             (58, 2256): 10,\n",
       "             (42, 700): 10,\n",
       "             (6, 700): 10,\n",
       "             (66, 2750): 10,\n",
       "             (86, 1982): 10,\n",
       "             (86, 1254): 10,\n",
       "             (8, 171): 10,\n",
       "             (53, 3223): 10,\n",
       "             (38, 2729): 10,\n",
       "             (42, 605): 10,\n",
       "             (8, 2167): 10,\n",
       "             (72, 415): 10,\n",
       "             (94, 762): 10,\n",
       "             (32, 1871): 10,\n",
       "             (26, 1407): 10,\n",
       "             (115, 893): 10,\n",
       "             (46, 1218): 10,\n",
       "             (1526, 2723): 10,\n",
       "             (36, 134): 10,\n",
       "             (36, 1690): 10,\n",
       "             (36, 1192): 10,\n",
       "             (118, 2793): 10,\n",
       "             (32, 1739): 10,\n",
       "             (79, 2333): 10,\n",
       "             (63, 2996): 10,\n",
       "             (84, 1947): 10,\n",
       "             (116, 1631): 10,\n",
       "             (46, 1897): 10})"
      ]
     },
     "execution_count": 8,
     "metadata": {},
     "output_type": "execute_result"
    }
   ],
   "source": [
    "amts"
   ]
  },
  {
   "cell_type": "code",
   "execution_count": 9,
   "id": "14c3fe3f-c399-458f-9e4a-6d9b8a33b671",
   "metadata": {},
   "outputs": [],
   "source": [
    "sorted_list = sorted(amts.items(), key=lambda item: item[1], reverse=True)\n",
    "sorted_keys = [key for key, value in sorted_list]"
   ]
  },
  {
   "cell_type": "code",
   "execution_count": 10,
   "id": "9b09f108-cb33-4b92-9325-66f627f10427",
   "metadata": {},
   "outputs": [],
   "source": [
    "edges_to_add = sorted_keys"
   ]
  },
  {
   "cell_type": "code",
   "execution_count": 11,
   "id": "0819fb57-60bd-43ac-81df-049000deec5e",
   "metadata": {},
   "outputs": [],
   "source": [
    "from torch_geometric.utils import dense_to_sparse, to_networkx, from_networkx\n",
    "import networkx as nx"
   ]
  },
  {
   "cell_type": "code",
   "execution_count": 12,
   "id": "fc019a1b-a6cf-4aa0-ae15-57c47805d242",
   "metadata": {},
   "outputs": [],
   "source": [
    "G = to_networkx(data, to_undirected=True)\n",
    "initial_edge_count = G.number_of_edges() // 2\n",
    "ptb_rate = 0.15\n",
    "budget = int(ptb_rate * initial_edge_count)"
   ]
  },
  {
   "cell_type": "code",
   "execution_count": 13,
   "id": "dcdbb142-71ec-424c-9eb5-4c6c886085d0",
   "metadata": {},
   "outputs": [
    {
     "name": "stdout",
     "output_type": "stream",
     "text": [
      "446\n",
      "341\n"
     ]
    }
   ],
   "source": [
    "print(len(edges_to_add))\n",
    "print(budget)"
   ]
  },
  {
   "cell_type": "code",
   "execution_count": 14,
   "id": "d387690e-4733-4256-bf17-374e8313dcb4",
   "metadata": {},
   "outputs": [],
   "source": [
    "def two_phase_attack(split):\n",
    "    diff_threshold = 0.01\n",
    "    first_phase_edges = int(budget * split)\n",
    "    second_phase_percent = ptb_rate * (1 - split) * 0.5\n",
    "    print(f\"\\n--- Running split: {split} ---\")\n",
    "    print(f\"Second phase perturbation rate: {second_phase_percent:.4f}\")\n",
    "\n",
    "    phase1_accuracies = []\n",
    "    phase2_accuracies = []\n",
    "\n",
    "    G = to_networkx(data, to_undirected=True)\n",
    "    data_copy = copy.copy(data)\n",
    "\n",
    "    i, j = 0, 0  # i - edges successfully added, j - index in list\n",
    "\n",
    "    # === Phase 1 ===\n",
    "    while i < first_phase_edges:\n",
    "        if j >= len(edges_to_add):\n",
    "            print(\"Ran out of candidate edges in Phase 1. Moving to Phase 2.\")\n",
    "            break\n",
    "\n",
    "        u, v = edges_to_add[j]\n",
    "        G.add_edge(u, v)\n",
    "\n",
    "        modified_data = from_networkx(G).to(device)\n",
    "        modified_data.x = data.x \n",
    "        modified_data.y = data.y \n",
    "        modified_data.train_mask = data.train_mask\n",
    "        modified_data.test_mask = data.test_mask\n",
    "\n",
    "        _, modified_accuracy = train.test(modified_data)\n",
    "\n",
    "        if modified_accuracy == initial_accuracy:\n",
    "            i += 1\n",
    "            phase1_accuracies.append(modified_accuracy)\n",
    "        else:\n",
    "            G.remove_edge(u, v)\n",
    "\n",
    "        j += 1\n",
    "\n",
    "    print(f\"Phase 1: Added {i} edges out of requested {first_phase_edges}.\")\n",
    "\n",
    "    # === Phase 2 ===\n",
    "    modified_data = from_networkx(G).to(device)\n",
    "    modified_data.x = data.x \n",
    "    modified_data.y = data.y \n",
    "    modified_data.train_mask = data.train_mask\n",
    "    modified_data.test_mask = data.test_mask\n",
    "\n",
    "    attacker = Metattack(modified_data, device=device)\n",
    "    attacker.setup_surrogate(model,\n",
    "                             labeled_nodes=data.train_mask,\n",
    "                             unlabeled_nodes=data.test_mask, \n",
    "                             lambda_=0.)\n",
    "    attacker.reset()\n",
    "    attacker.attack(second_phase_percent)\n",
    "\n",
    "    degs = defaultdict(tuple)\n",
    "    for k, v in attacker._added_edges.items():\n",
    "        degs[v] = (k, True)\n",
    "    for k, v in attacker._removed_edges.items():\n",
    "        degs[v] = (k, False)\n",
    "\n",
    "    for _, second in degs.items():\n",
    "        u, v = second[0]\n",
    "        if second[1]:\n",
    "            G.add_edge(u, v)\n",
    "        else:\n",
    "            G.remove_edge(u, v)\n",
    "\n",
    "        modified_data = from_networkx(G).to(device)\n",
    "        modified_data.x = data.x \n",
    "        modified_data.y = data.y \n",
    "        modified_data.train_mask = data.train_mask\n",
    "        modified_data.test_mask = data.test_mask\n",
    "\n",
    "        _, modified_accuracy = train.test(modified_data)\n",
    "        phase2_accuracies.append(modified_accuracy)\n",
    "\n",
    "    # === Final Reporting ===\n",
    "    final_accuracy = phase2_accuracies[-1] if phase2_accuracies else (\n",
    "        phase1_accuracies[-1] if phase1_accuracies else initial_accuracy)\n",
    "    accuracy_drop = initial_accuracy - final_accuracy\n",
    "\n",
    "    print(f\"Final Accuracy: {final_accuracy:.4f}\")\n",
    "    print(f\"Accuracy Drop: {accuracy_drop:.4f}\")\n",
    "\n",
    "    return {\n",
    "        \"split\": split,\n",
    "        \"phase1_added\": i,\n",
    "        \"phase1_accuracies\": phase1_accuracies,\n",
    "        \"phase2_accuracies\": phase2_accuracies,\n",
    "        \"final_accuracy\": final_accuracy,\n",
    "        \"accuracy_drop\": accuracy_drop\n",
    "    }\n"
   ]
  },
  {
   "cell_type": "code",
   "execution_count": 13,
   "id": "a9dea6c6-42e5-48ac-ae64-03decca074d5",
   "metadata": {},
   "outputs": [],
   "source": [
    "splits = [0, 0.5, 0.7, 0.9]\n",
    "split_dic = defaultdict(list)"
   ]
  },
  {
   "cell_type": "code",
   "execution_count": 14,
   "id": "529386fe-c89c-402a-948c-a4d2994b6512",
   "metadata": {},
   "outputs": [
    {
     "name": "stdout",
     "output_type": "stream",
     "text": [
      "0\n",
      "\n",
      "--- Running split: 0 ---\n",
      "Second phase perturbation rate: 0.0750\n",
      "Phase 1: Added 0 edges out of requested 0.\n"
     ]
    },
    {
     "data": {
      "application/vnd.jupyter.widget-view+json": {
       "model_id": "4d5548be49e844a28b41dcf96afc7660",
       "version_major": 2,
       "version_minor": 0
      },
      "text/plain": [
       "Peturbing graph...:   0%|          | 0/341 [00:00<?, ?it/s]"
      ]
     },
     "metadata": {},
     "output_type": "display_data"
    },
    {
     "name": "stdout",
     "output_type": "stream",
     "text": [
      "Final Accuracy: 0.5370\n",
      "Accuracy Drop: 0.0220\n",
      "0.5\n",
      "\n",
      "--- Running split: 0.5 ---\n",
      "Second phase perturbation rate: 0.0375\n",
      "Phase 1: Added 170 edges out of requested 170.\n"
     ]
    },
    {
     "data": {
      "application/vnd.jupyter.widget-view+json": {
       "model_id": "f9a956f2e2ce476b8cdbc41740982396",
       "version_major": 2,
       "version_minor": 0
      },
      "text/plain": [
       "Peturbing graph...:   0%|          | 0/177 [00:00<?, ?it/s]"
      ]
     },
     "metadata": {},
     "output_type": "display_data"
    },
    {
     "name": "stdout",
     "output_type": "stream",
     "text": [
      "Final Accuracy: 0.5330\n",
      "Accuracy Drop: 0.0260\n",
      "0.7\n",
      "\n",
      "--- Running split: 0.7 ---\n",
      "Second phase perturbation rate: 0.0225\n",
      "Phase 1: Added 238 edges out of requested 238.\n"
     ]
    },
    {
     "data": {
      "application/vnd.jupyter.widget-view+json": {
       "model_id": "0f1a5890fc624dd98fb273615da5ae80",
       "version_major": 2,
       "version_minor": 0
      },
      "text/plain": [
       "Peturbing graph...:   0%|          | 0/107 [00:00<?, ?it/s]"
      ]
     },
     "metadata": {},
     "output_type": "display_data"
    },
    {
     "name": "stdout",
     "output_type": "stream",
     "text": [
      "Final Accuracy: 0.5360\n",
      "Accuracy Drop: 0.0230\n",
      "0.9\n",
      "\n",
      "--- Running split: 0.9 ---\n",
      "Second phase perturbation rate: 0.0075\n",
      "Phase 1: Added 306 edges out of requested 306.\n"
     ]
    },
    {
     "data": {
      "application/vnd.jupyter.widget-view+json": {
       "model_id": "86096adace954b949468465997f246d1",
       "version_major": 2,
       "version_minor": 0
      },
      "text/plain": [
       "Peturbing graph...:   0%|          | 0/36 [00:00<?, ?it/s]"
      ]
     },
     "metadata": {},
     "output_type": "display_data"
    },
    {
     "name": "stdout",
     "output_type": "stream",
     "text": [
      "Final Accuracy: 0.5460\n",
      "Accuracy Drop: 0.0130\n"
     ]
    }
   ],
   "source": [
    "for s in splits:\n",
    "    print(s)\n",
    "    split_dic[s] = two_phase_attack(s)"
   ]
  },
  {
   "cell_type": "code",
   "execution_count": 19,
   "id": "fc03d876-4858-42ec-b19a-a48d3e8935f2",
   "metadata": {},
   "outputs": [],
   "source": [
    "G = to_networkx(data, to_undirected=True)\n",
    "initial_edge_count = G.number_of_edges() // 2\n",
    "ptb_rate = 0.5\n",
    "budget = int(ptb_rate * initial_edge_count)"
   ]
  },
  {
   "cell_type": "code",
   "execution_count": 20,
   "id": "e684c57d-0c50-4c2a-9513-7c440ed12a51",
   "metadata": {},
   "outputs": [
    {
     "name": "stdout",
     "output_type": "stream",
     "text": [
      "724\n",
      "1319\n"
     ]
    }
   ],
   "source": [
    "print(len(edges_to_add))\n",
    "print(budget)"
   ]
  },
  {
   "cell_type": "code",
   "execution_count": null,
   "id": "5392bcbf-fe97-499d-a646-813c55f1d7d2",
   "metadata": {},
   "outputs": [],
   "source": []
  }
 ],
 "metadata": {
  "kernelspec": {
   "display_name": "Python 3 (ipykernel)",
   "language": "python",
   "name": "python3"
  },
  "language_info": {
   "codemirror_mode": {
    "name": "ipython",
    "version": 3
   },
   "file_extension": ".py",
   "mimetype": "text/x-python",
   "name": "python",
   "nbconvert_exporter": "python",
   "pygments_lexer": "ipython3",
   "version": "3.9.18"
  }
 },
 "nbformat": 4,
 "nbformat_minor": 5
}
