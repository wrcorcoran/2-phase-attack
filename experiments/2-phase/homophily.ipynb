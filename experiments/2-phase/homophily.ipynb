{
 "cells": [
  {
   "cell_type": "code",
   "execution_count": 1,
   "id": "7a49d11d-a7bb-454a-b8a0-22b85e8043d4",
   "metadata": {},
   "outputs": [
    {
     "name": "stdout",
     "output_type": "stream",
     "text": [
      "[Errno 2] No such file or directory: 'are-gnn-defenses-robust/'\n",
      "/home/niyati/ERSP/2-phase-attack/experiments/2-phase\n"
     ]
    },
    {
     "name": "stderr",
     "output_type": "stream",
     "text": [
      "/home/niyati/miniconda3/envs/ersp_v2/lib/python3.9/site-packages/IPython/core/magics/osm.py:393: UserWarning: using bookmarks requires you to install the `pickleshare` library.\n",
      "  bkms = self.shell.db.get('bookmarks', {})\n"
     ]
    }
   ],
   "source": [
    "%cd are-gnn-defenses-robust/"
   ]
  },
  {
   "cell_type": "code",
   "execution_count": 10,
   "id": "25fbfbcf-d666-4187-8847-2385c1b137d7",
   "metadata": {},
   "outputs": [],
   "source": [
    "import sys\n",
    "from itertools import count\n",
    "from torch import autograd\n",
    "from torch_geometric.utils import dense_to_sparse\n",
    "import copy\n",
    "\n",
    "sys.path.append('../../')\n",
    "\n",
    "from src.models.gcn import *\n",
    "from src.utils.datasets import *\n",
    "from src.models.trainable import *"
   ]
  },
  {
   "cell_type": "code",
   "execution_count": 11,
   "id": "3d30600e-1b00-454b-b551-cb9ebc6fe271",
   "metadata": {},
   "outputs": [
    {
     "name": "stdout",
     "output_type": "stream",
     "text": [
      "Data(x=[2708, 1433], edge_index=[2, 10556], y=[2708], train_mask=[2708], val_mask=[2708], test_mask=[2708])\n"
     ]
    }
   ],
   "source": [
    "device = torch.device('cuda' if torch.cuda.is_available() else 'cpu')\n",
    "data = get_cora(device)\n",
    "print(data)"
   ]
  },
  {
   "cell_type": "code",
   "execution_count": 12,
   "id": "4d3259ce-bb5c-4cf0-9d39-3c369c1de0c1",
   "metadata": {},
   "outputs": [],
   "source": [
    "num_classes = torch.unique(data.y).shape[0]"
   ]
  },
  {
   "cell_type": "code",
   "execution_count": 13,
   "id": "8db4367e-514d-495b-aad1-5cac3a2ac7d5",
   "metadata": {},
   "outputs": [],
   "source": [
    "A = edge_index_to_A(data.edge_index, data.y.shape[0], device)"
   ]
  },
  {
   "cell_type": "code",
   "execution_count": 16,
   "id": "a55ebfa2-75eb-469a-b82e-aeed99685f2a",
   "metadata": {},
   "outputs": [
    {
     "name": "stdout",
     "output_type": "stream",
     "text": [
      "Epoch 0, Train Loss - 5.398730278015137, Val Loss - 5.859426975250244, Val Accuracy - 0.342\n",
      "Epoch 20, Train Loss - 0.4718378484249115, Val Loss - 2.0651156902313232, Val Accuracy - 0.733\n",
      "Epoch 40, Train Loss - 0.03638004511594772, Val Loss - 2.0616137981414795, Val Accuracy - 0.748\n",
      "Epoch 60, Train Loss - 0.06531878560781479, Val Loss - 2.2372446060180664, Val Accuracy - 0.753\n",
      "Epoch 80, Train Loss - 0.01668611541390419, Val Loss - 2.3913912773132324, Val Accuracy - 0.749\n",
      "Epoch 100, Train Loss - 0.015618628822267056, Val Loss - 2.3197219371795654, Val Accuracy - 0.744\n",
      "Epoch 120, Train Loss - 0.010111048817634583, Val Loss - 2.430184841156006, Val Accuracy - 0.746\n",
      "Epoch 140, Train Loss - 0.008159948512911797, Val Loss - 2.6980490684509277, Val Accuracy - 0.735\n",
      "Epoch 160, Train Loss - 0.0046148160472512245, Val Loss - 2.620750904083252, Val Accuracy - 0.743\n",
      "Epoch 180, Train Loss - 0.023746155202388763, Val Loss - 2.6687846183776855, Val Accuracy - 0.744\n",
      "Epoch 200, Train Loss - 0.007932017557322979, Val Loss - 2.6454825401306152, Val Accuracy - 0.759\n",
      "Epoch 220, Train Loss - 0.0020331982523202896, Val Loss - 2.504868745803833, Val Accuracy - 0.757\n",
      "Epoch 240, Train Loss - 0.006104450207203627, Val Loss - 2.4690380096435547, Val Accuracy - 0.747\n",
      "Epoch 260, Train Loss - 0.01149600837379694, Val Loss - 2.5376718044281006, Val Accuracy - 0.753\n",
      "Epoch 280, Train Loss - 0.004728645086288452, Val Loss - 2.611344814300537, Val Accuracy - 0.753\n",
      "Epoch 300, Train Loss - 0.004450025502592325, Val Loss - 2.726118803024292, Val Accuracy - 0.748\n",
      "Epoch 320, Train Loss - 0.0032039436046034098, Val Loss - 2.3708128929138184, Val Accuracy - 0.773\n",
      "Epoch 340, Train Loss - 0.0025848569348454475, Val Loss - 2.3580238819122314, Val Accuracy - 0.768\n",
      "Epoch 360, Train Loss - 0.0030360249802470207, Val Loss - 2.4486286640167236, Val Accuracy - 0.771\n",
      "Epoch 380, Train Loss - 0.0036719662602990866, Val Loss - 2.4821255207061768, Val Accuracy - 0.758\n",
      "Epoch 400, Train Loss - 0.0056387013755738735, Val Loss - 2.6001076698303223, Val Accuracy - 0.757\n",
      "Epoch 420, Train Loss - 0.011129835620522499, Val Loss - 2.3786070346832275, Val Accuracy - 0.769\n",
      "Epoch 440, Train Loss - 0.006092451047152281, Val Loss - 2.680917263031006, Val Accuracy - 0.74\n",
      "Epoch 460, Train Loss - 0.00992432702332735, Val Loss - 2.2837512493133545, Val Accuracy - 0.738\n",
      "Epoch 480, Train Loss - 0.024165619164705276, Val Loss - 2.5276434421539307, Val Accuracy - 0.75\n",
      "Epoch 500, Train Loss - 0.01121395081281662, Val Loss - 2.3446784019470215, Val Accuracy - 0.725\n"
     ]
    }
   ],
   "source": [
    "def make_model():\n",
    "    return GCN(data.x.shape[1], num_classes, hidden_dims=[64], dropout=0.5).to(device)\n",
    "model = make_model()\n",
    "trainable = Trainable(model)\n",
    "trainable.fit(data, epochs=500)"
   ]
  },
  {
   "cell_type": "code",
   "execution_count": 15,
   "id": "2d93fbef-fa65-4d46-83d0-8206362979e7",
   "metadata": {},
   "outputs": [],
   "source": [
    "val_loss, test_accuracy = trainable.test(data)"
   ]
  },
  {
   "cell_type": "code",
   "execution_count": null,
   "id": "6e17e895-978d-47cb-a165-9785f38bc374",
   "metadata": {},
   "outputs": [],
   "source": []
  },
  {
   "cell_type": "code",
   "execution_count": null,
   "id": "59816ddf-8da6-4bbc-befe-f6926fea80e7",
   "metadata": {},
   "outputs": [],
   "source": []
  }
 ],
 "metadata": {
  "kernelspec": {
   "display_name": "Python 3 (ipykernel)",
   "language": "python",
   "name": "python3"
  },
  "language_info": {
   "codemirror_mode": {
    "name": "ipython",
    "version": 3
   },
   "file_extension": ".py",
   "mimetype": "text/x-python",
   "name": "python",
   "nbconvert_exporter": "python",
   "pygments_lexer": "ipython3",
   "version": "3.9.18"
  }
 },
 "nbformat": 4,
 "nbformat_minor": 5
}
