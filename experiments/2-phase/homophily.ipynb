{
 "cells": [
  {
   "cell_type": "code",
   "execution_count": 1,
   "id": "7a49d11d-a7bb-454a-b8a0-22b85e8043d4",
   "metadata": {},
   "outputs": [
    {
     "name": "stdout",
     "output_type": "stream",
     "text": [
      "[Errno 2] No such file or directory: 'are-gnn-defenses-robust/'\n",
      "/home/niyati/ERSP/2-phase-attack/experiments/2-phase\n"
     ]
    },
    {
     "name": "stderr",
     "output_type": "stream",
     "text": [
      "/home/niyati/miniconda3/envs/ersp_v2/lib/python3.9/site-packages/IPython/core/magics/osm.py:393: UserWarning: using bookmarks requires you to install the `pickleshare` library.\n",
      "  bkms = self.shell.db.get('bookmarks', {})\n"
     ]
    }
   ],
   "source": [
    "%cd are-gnn-defenses-robust/"
   ]
  },
  {
   "cell_type": "code",
   "execution_count": 2,
   "id": "25fbfbcf-d666-4187-8847-2385c1b137d7",
   "metadata": {},
   "outputs": [],
   "source": [
    "import sys\n",
    "from itertools import count\n",
    "from torch import autograd\n",
    "from torch_geometric.utils import dense_to_sparse\n",
    "import copy\n",
    "\n",
    "sys.path.append('../../')\n",
    "\n",
    "from src.models.gcn import *\n",
    "from src.utils.datasets import *\n",
    "from src.models.trainable import *"
   ]
  },
  {
   "cell_type": "code",
   "execution_count": 4,
   "id": "3d30600e-1b00-454b-b551-cb9ebc6fe271",
   "metadata": {},
   "outputs": [
    {
     "name": "stdout",
     "output_type": "stream",
     "text": [
      "Data(x=[2708, 1433], edge_index=[2, 10556], y=[2708], train_mask=[2708], val_mask=[2708], test_mask=[2708])\n"
     ]
    }
   ],
   "source": [
    "device = torch.device('cuda' if torch.cuda.is_available() else 'cpu')\n",
    "\n",
    "dataset_directory = \"../Cora\"\n",
    "cora_dataset = Planetoid(root=dataset_directory, name='Cora')\n",
    "data = cora_dataset[0].to(device)\n",
    "print(data)"
   ]
  },
  {
   "cell_type": "code",
   "execution_count": 5,
   "id": "4d3259ce-bb5c-4cf0-9d39-3c369c1de0c1",
   "metadata": {},
   "outputs": [],
   "source": [
    "model = GCN(data.x.shape[1], cora_dataset.num_classes, [16]).to(device)"
   ]
  },
  {
   "cell_type": "code",
   "execution_count": 6,
   "id": "8db4367e-514d-495b-aad1-5cac3a2ac7d5",
   "metadata": {},
   "outputs": [
    {
     "name": "stdout",
     "output_type": "stream",
     "text": [
      "Epoch 0, Train Loss - 4.12787389755249, Val Loss - 2.775822639465332, Val Accuracy - 0.198\n",
      "Epoch 20, Train Loss - 0.2716486155986786, Val Loss - 1.255977749824524, Val Accuracy - 0.719\n",
      "Epoch 40, Train Loss - 0.1236221194267273, Val Loss - 1.8354213237762451, Val Accuracy - 0.697\n",
      "Epoch 60, Train Loss - 0.07564207166433334, Val Loss - 2.101832628250122, Val Accuracy - 0.705\n",
      "Epoch 80, Train Loss - 0.05289803817868233, Val Loss - 2.2457163333892822, Val Accuracy - 0.713\n",
      "Epoch 100, Train Loss - 0.06918197125196457, Val Loss - 2.128267288208008, Val Accuracy - 0.712\n",
      "Epoch 120, Train Loss - 0.04970696568489075, Val Loss - 2.200208902359009, Val Accuracy - 0.727\n",
      "Epoch 140, Train Loss - 0.03290263190865517, Val Loss - 2.3902268409729004, Val Accuracy - 0.711\n",
      "Epoch 160, Train Loss - 0.09823440760374069, Val Loss - 2.6008646488189697, Val Accuracy - 0.711\n",
      "Epoch 180, Train Loss - 0.026149509474635124, Val Loss - 2.372742176055908, Val Accuracy - 0.721\n",
      "Epoch 200, Train Loss - 0.02600572444498539, Val Loss - 2.7335333824157715, Val Accuracy - 0.719\n",
      "Epoch 220, Train Loss - 0.04543709382414818, Val Loss - 2.5704421997070312, Val Accuracy - 0.725\n",
      "Epoch 240, Train Loss - 0.08772449195384979, Val Loss - 3.077605724334717, Val Accuracy - 0.712\n",
      "Epoch 260, Train Loss - 0.12712879478931427, Val Loss - 2.600433826446533, Val Accuracy - 0.734\n",
      "Epoch 280, Train Loss - 0.01933280937373638, Val Loss - 3.1140191555023193, Val Accuracy - 0.715\n",
      "Epoch 300, Train Loss - 0.053644515573978424, Val Loss - 2.680223226547241, Val Accuracy - 0.746\n",
      "Epoch 320, Train Loss - 0.036739930510520935, Val Loss - 2.6646735668182373, Val Accuracy - 0.737\n",
      "Epoch 340, Train Loss - 0.018992023542523384, Val Loss - 2.8949289321899414, Val Accuracy - 0.758\n",
      "Epoch 360, Train Loss - 0.026789121329784393, Val Loss - 2.7542192935943604, Val Accuracy - 0.75\n",
      "Epoch 380, Train Loss - 0.04567641392350197, Val Loss - 2.706754446029663, Val Accuracy - 0.757\n",
      "Epoch 400, Train Loss - 0.048156123608350754, Val Loss - 2.51828670501709, Val Accuracy - 0.735\n",
      "Epoch 420, Train Loss - 0.039392370730638504, Val Loss - 2.5989787578582764, Val Accuracy - 0.734\n",
      "Epoch 440, Train Loss - 0.029081184417009354, Val Loss - 2.782625913619995, Val Accuracy - 0.742\n",
      "Epoch 460, Train Loss - 0.02734888717532158, Val Loss - 2.7344868183135986, Val Accuracy - 0.742\n",
      "Epoch 480, Train Loss - 0.024474572390317917, Val Loss - 2.7968907356262207, Val Accuracy - 0.74\n",
      "Epoch 500, Train Loss - 0.016208022832870483, Val Loss - 2.8817999362945557, Val Accuracy - 0.739\n"
     ]
    }
   ],
   "source": [
    "model.reset_parameters()\n",
    "train = Trainable(model)\n",
    "train.fit(data, 500)"
   ]
  },
  {
   "cell_type": "code",
   "execution_count": 9,
   "id": "a55ebfa2-75eb-469a-b82e-aeed99685f2a",
   "metadata": {},
   "outputs": [
    {
     "name": "stdout",
     "output_type": "stream",
     "text": [
      "Training on modified graph...\n",
      "Epoch 0, Train Loss - 5.169620513916016, Val Loss - 5.614458084106445, Val Accuracy - 0.154\n",
      "Epoch 20, Train Loss - 0.562423050403595, Val Loss - 1.6728888750076294, Val Accuracy - 0.755\n",
      "Epoch 40, Train Loss - 0.24332641065120697, Val Loss - 2.2070152759552, Val Accuracy - 0.729\n",
      "Epoch 60, Train Loss - 0.2585086226463318, Val Loss - 2.177323341369629, Val Accuracy - 0.721\n",
      "Epoch 80, Train Loss - 0.18270914256572723, Val Loss - 2.197629451751709, Val Accuracy - 0.723\n",
      "Epoch 100, Train Loss - 0.16466465592384338, Val Loss - 2.2891266345977783, Val Accuracy - 0.721\n",
      "Epoch 120, Train Loss - 0.1419861614704132, Val Loss - 2.3344905376434326, Val Accuracy - 0.723\n",
      "Epoch 140, Train Loss - 0.13569709658622742, Val Loss - 2.4149649143218994, Val Accuracy - 0.73\n",
      "Epoch 160, Train Loss - 0.11069643497467041, Val Loss - 2.3237829208374023, Val Accuracy - 0.739\n",
      "Epoch 180, Train Loss - 0.1025346964597702, Val Loss - 2.31205153465271, Val Accuracy - 0.736\n",
      "Epoch 200, Train Loss - 0.12702837586402893, Val Loss - 2.346019744873047, Val Accuracy - 0.723\n",
      "Epoch 220, Train Loss - 0.11587899178266525, Val Loss - 2.407247304916382, Val Accuracy - 0.73\n",
      "Epoch 240, Train Loss - 0.1079658791422844, Val Loss - 2.415862798690796, Val Accuracy - 0.728\n",
      "Epoch 260, Train Loss - 0.07766714692115784, Val Loss - 2.4065709114074707, Val Accuracy - 0.722\n",
      "Epoch 280, Train Loss - 0.13201653957366943, Val Loss - 2.4084644317626953, Val Accuracy - 0.723\n",
      "Epoch 300, Train Loss - 0.146696999669075, Val Loss - 2.541649103164673, Val Accuracy - 0.727\n",
      "Epoch 320, Train Loss - 0.17831061780452728, Val Loss - 2.5680034160614014, Val Accuracy - 0.728\n",
      "Epoch 340, Train Loss - 0.09770190715789795, Val Loss - 2.7625112533569336, Val Accuracy - 0.738\n",
      "Epoch 360, Train Loss - 0.060550104826688766, Val Loss - 2.5151891708374023, Val Accuracy - 0.737\n",
      "Epoch 380, Train Loss - 0.05399805307388306, Val Loss - 2.472520589828491, Val Accuracy - 0.73\n",
      "Epoch 400, Train Loss - 0.033144161105155945, Val Loss - 2.6320102214813232, Val Accuracy - 0.723\n",
      "Epoch 420, Train Loss - 0.10600379854440689, Val Loss - 2.632452964782715, Val Accuracy - 0.738\n",
      "Epoch 440, Train Loss - 0.07700790464878082, Val Loss - 2.7747509479522705, Val Accuracy - 0.728\n",
      "Epoch 460, Train Loss - 0.06939449161291122, Val Loss - 2.810070276260376, Val Accuracy - 0.726\n",
      "Epoch 480, Train Loss - 0.04914442449808121, Val Loss - 2.7235300540924072, Val Accuracy - 0.724\n",
      "Epoch 500, Train Loss - 0.050915446132421494, Val Loss - 2.6862621307373047, Val Accuracy - 0.734\n",
      "Modified Accuracy: 0.734\n",
      "Accuracy Change: -0.0130\n",
      "Edges Added: 100\n",
      "Percentage Increase in Edges: 1.89%\n"
     ]
    }
   ],
   "source": [
    "import sys\n",
    "import torch\n",
    "from itertools import count\n",
    "from torch_geometric.utils import dense_to_sparse, to_networkx, from_networkx\n",
    "import random\n",
    "import numpy as np\n",
    "import networkx as nx\n",
    "\n",
    "\n",
    "# Get initial accuracy\n",
    "_, initial_accuracy = train.test(data)\n",
    "\n",
    "\n",
    "# Convert graph to NetworkX for manipulation\n",
    "G = to_networkx(data, to_undirected=True)\n",
    "\n",
    "# Identify nodes in the same class\n",
    "class_nodes = {}  # Dictionary to group nodes by class\n",
    "for node, label in enumerate(data.y.tolist()):\n",
    "    if label not in class_nodes:\n",
    "        class_nodes[label] = []\n",
    "    class_nodes[label].append(node)\n",
    "\n",
    "# Generate potential edges within each class\n",
    "edges_to_add = []\n",
    "num_edges_to_add = 100  # Define the number of edges to add\n",
    "\n",
    "for label, nodes in class_nodes.items():\n",
    "    if len(nodes) > 1:\n",
    "        # Randomly pair nodes within the same class\n",
    "        random.shuffle(nodes)\n",
    "        for i in range(len(nodes)):\n",
    "            for j in range(i + 1, len(nodes)):\n",
    "                if not G.has_edge(nodes[i], nodes[j]):\n",
    "                    edges_to_add.append((nodes[i], nodes[j]))\n",
    "\n",
    "# Randomly select a subset of edges to add\n",
    "random.shuffle(edges_to_add)\n",
    "edges_to_add = edges_to_add[:num_edges_to_add]\n",
    "\n",
    "# Add the selected edges to the graph\n",
    "for i, j in edges_to_add:\n",
    "    G.add_edge(i, j)\n",
    "\n",
    "# Convert back to PyTorch Geometric format\n",
    "modified_data = from_networkx(G).to(device)\n",
    "modified_data.x = data.x  # Preserve original node features\n",
    "modified_data.y = data.y  # Preserve original labels\n",
    "modified_data.train_mask = data.train_mask\n",
    "modified_data.test_mask = data.test_mask\n",
    "\n",
    "# Evaluate the model on the modified graph\n",
    "print(\"Training on modified graph...\")\n",
    "train.model.reset_parameters()  # Reset model parameters\n",
    "train.fit(modified_data, 500)\n",
    "\n",
    "# Get modified accuracy\n",
    "_, modified_accuracy = train.test(modified_data)\n",
    "print(f\"Modified Accuracy: {modified_accuracy}\")\n",
    "\n",
    "# Output accuracy change\n",
    "accuracy_change = modified_accuracy - initial_accuracy\n",
    "print(f\"Accuracy Change: {accuracy_change:.4f}\")\n",
    "\n",
    "# Calculate and display edge statistics\n",
    "initial_edges = G.number_of_edges() - len(edges_to_add)\n",
    "final_edges = G.number_of_edges()\n",
    "print(f\"Edges Added: {final_edges - initial_edges}\")\n",
    "print(f\"Percentage Increase in Edges: {100 * (final_edges - initial_edges) / initial_edges:.2f}%\")"
   ]
  },
  {
   "cell_type": "code",
   "execution_count": 10,
   "id": "2d93fbef-fa65-4d46-83d0-8206362979e7",
   "metadata": {},
   "outputs": [
    {
     "name": "stdout",
     "output_type": "stream",
     "text": [
      "Training on modified graph...\n",
      "Epoch 0, Train Loss - 11263.3798828125, Val Loss - 76011.5390625, Val Accuracy - 0.144\n",
      "Epoch 20, Train Loss - 551.4589233398438, Val Loss - 226.26904296875, Val Accuracy - 0.846\n",
      "Epoch 40, Train Loss - 26.256793975830078, Val Loss - 0.5905293226242065, Val Accuracy - 0.999\n",
      "Epoch 60, Train Loss - 0.0, Val Loss - 0.8070293068885803, Val Accuracy - 0.998\n",
      "Epoch 80, Train Loss - 0.0, Val Loss - 0.0, Val Accuracy - 1.0\n",
      "Epoch 100, Train Loss - 0.0, Val Loss - 0.0, Val Accuracy - 1.0\n",
      "Epoch 120, Train Loss - 0.0, Val Loss - 0.0, Val Accuracy - 1.0\n",
      "Epoch 140, Train Loss - 0.0, Val Loss - 0.8717910051345825, Val Accuracy - 0.999\n",
      "Epoch 160, Train Loss - 0.0, Val Loss - 0.34303125739097595, Val Accuracy - 0.999\n",
      "Epoch 180, Train Loss - 0.0, Val Loss - 0.27806249260902405, Val Accuracy - 0.999\n",
      "Epoch 200, Train Loss - 0.0, Val Loss - 0.27000001072883606, Val Accuracy - 0.999\n",
      "Epoch 220, Train Loss - 0.0, Val Loss - 0.2690175771713257, Val Accuracy - 0.999\n",
      "Epoch 240, Train Loss - 0.0, Val Loss - 0.2689199149608612, Val Accuracy - 0.999\n",
      "Epoch 260, Train Loss - 0.0, Val Loss - 0.26891210675239563, Val Accuracy - 0.999\n",
      "Epoch 280, Train Loss - 0.0, Val Loss - 0.2689570188522339, Val Accuracy - 0.999\n",
      "Epoch 300, Train Loss - 0.0, Val Loss - 0.2689218819141388, Val Accuracy - 0.999\n",
      "Epoch 320, Train Loss - 0.0, Val Loss - 0.26891210675239563, Val Accuracy - 0.999\n",
      "Epoch 340, Train Loss - 0.0, Val Loss - 0.2689765691757202, Val Accuracy - 0.999\n",
      "Epoch 360, Train Loss - 0.0, Val Loss - 0.2688945233821869, Val Accuracy - 0.999\n",
      "Epoch 380, Train Loss - 0.0, Val Loss - 0.2689492106437683, Val Accuracy - 0.999\n",
      "Epoch 400, Train Loss - 0.0, Val Loss - 0.2689531147480011, Val Accuracy - 0.999\n",
      "Epoch 420, Train Loss - 0.0, Val Loss - 0.26896485686302185, Val Accuracy - 0.999\n",
      "Epoch 440, Train Loss - 0.0, Val Loss - 0.26899805665016174, Val Accuracy - 0.999\n",
      "Epoch 460, Train Loss - 0.0, Val Loss - 0.268917977809906, Val Accuracy - 0.999\n",
      "Epoch 480, Train Loss - 0.0, Val Loss - 0.268980473279953, Val Accuracy - 0.999\n",
      "Epoch 500, Train Loss - 0.0, Val Loss - 0.26900389790534973, Val Accuracy - 0.999\n",
      "Modified Accuracy: 0.999\n",
      "Accuracy Change: 0.2520\n",
      "Edges Added: 652780\n",
      "Percentage Increase in Edges: 12367.94%\n"
     ]
    }
   ],
   "source": [
    "# Convert graph to NetworkX for manipulation\n",
    "G = to_networkx(data, to_undirected=True)\n",
    "\n",
    "# Identify nodes in the same class\n",
    "class_nodes = {}  # Dictionary to group nodes by class\n",
    "for node, label in enumerate(data.y.tolist()):\n",
    "    if label not in class_nodes:\n",
    "        class_nodes[label] = []\n",
    "    class_nodes[label].append(node)\n",
    "\n",
    "# Add edges between same-class nodes if they don't already exist\n",
    "edges_added = 0  # Counter for edges added\n",
    "for label, nodes in class_nodes.items():\n",
    "    for i, source in enumerate(nodes):\n",
    "        for target in nodes[i + 1:]:  # Avoid self-loops and duplicate edges\n",
    "            if not G.has_edge(source, target):\n",
    "                G.add_edge(source, target)\n",
    "                edges_added += 1\n",
    "\n",
    "# Convert back to PyTorch Geometric format\n",
    "modified_data = from_networkx(G).to(device)\n",
    "modified_data.x = data.x  # Preserve original node features\n",
    "modified_data.y = data.y  # Preserve original labels\n",
    "modified_data.train_mask = data.train_mask\n",
    "modified_data.test_mask = data.test_mask\n",
    "\n",
    "# Evaluate the model on the modified graph\n",
    "print(\"Training on modified graph...\")\n",
    "train.model.reset_parameters()  # Reset model parameters\n",
    "train.fit(modified_data, 500)\n",
    "\n",
    "# Get modified accuracy\n",
    "_, modified_accuracy = train.test(modified_data)\n",
    "print(f\"Modified Accuracy: {modified_accuracy}\")\n",
    "\n",
    "# Output accuracy change\n",
    "accuracy_change = modified_accuracy - initial_accuracy\n",
    "print(f\"Accuracy Change: {accuracy_change:.4f}\")\n",
    "\n",
    "# Display edge statistics\n",
    "initial_edges = G.number_of_edges() - edges_added\n",
    "final_edges = G.number_of_edges()\n",
    "print(f\"Edges Added: {edges_added}\")\n",
    "print(f\"Percentage Increase in Edges: {100 * edges_added / initial_edges:.2f}%\")"
   ]
  },
  {
   "cell_type": "code",
   "execution_count": null,
   "id": "6e17e895-978d-47cb-a165-9785f38bc374",
   "metadata": {},
   "outputs": [],
   "source": []
  },
  {
   "cell_type": "code",
   "execution_count": null,
   "id": "59816ddf-8da6-4bbc-befe-f6926fea80e7",
   "metadata": {},
   "outputs": [],
   "source": []
  }
 ],
 "metadata": {
  "kernelspec": {
   "display_name": "Python 3 (ipykernel)",
   "language": "python",
   "name": "python3"
  },
  "language_info": {
   "codemirror_mode": {
    "name": "ipython",
    "version": 3
   },
   "file_extension": ".py",
   "mimetype": "text/x-python",
   "name": "python",
   "nbconvert_exporter": "python",
   "pygments_lexer": "ipython3",
   "version": "3.8.18"
  }
 },
 "nbformat": 4,
 "nbformat_minor": 5
}
