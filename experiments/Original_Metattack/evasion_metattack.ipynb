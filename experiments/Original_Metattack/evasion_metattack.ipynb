{
 "cells": [
  {
   "cell_type": "code",
   "execution_count": 1,
   "id": "6a551fad-6451-4ca4-96d1-299011cee2b9",
   "metadata": {},
   "outputs": [],
   "source": [
    "import torch\n",
    "import torch.optim as optim\n",
    "import torch.nn.functional as F\n",
    "from gcn import GCN  # Import GCN model\n",
    "from pytorch_metattack import Metattack  # Import Metattack for evasion attack\n",
    "from utils import load_data, normalize_adj_tensor, accuracy\n",
    "import scipy.sparse as sp\n"
   ]
  },
  {
   "cell_type": "code",
   "execution_count": 2,
   "id": "6d178b5a-743c-49de-9b3c-f5701b3cbf4b",
   "metadata": {},
   "outputs": [
    {
     "name": "stdout",
     "output_type": "stream",
     "text": [
      "Loading cora dataset...\n",
      "reading cora...\n",
      "Selecting 1 largest connected components\n"
     ]
    }
   ],
   "source": [
    "#Loading Cora (using cora.npz)\n",
    "dataset = \"cora\"  # Change to \"citeseer\" or \"pubmed\" if needed\n",
    "adj, features, labels = load_data(dataset)\n"
   ]
  },
  {
   "cell_type": "code",
   "execution_count": 3,
   "id": "96272eb9-0087-4903-872a-352b78bf5be8",
   "metadata": {},
   "outputs": [],
   "source": [
    "# Convert adjacency matrix to PyTorch tensor and move to correct device\n",
    "device = torch.device(\"cuda\" if torch.cuda.is_available() else \"cpu\")\n",
    "\n",
    "adj = torch.FloatTensor(adj.todense()).to(device)  # ✅ Convert to PyTorch tensor and move to GPU if available\n",
    "adj = normalize_adj_tensor(adj)  # ✅ Now normalize it\n",
    "\n",
    "features = torch.FloatTensor(features.todense()).to(device)  # ✅ Move features to device\n",
    "labels = torch.LongTensor(labels).to(device)"
   ]
  },
  {
   "cell_type": "code",
   "execution_count": 4,
   "id": "a4e5de1a-f46d-456a-9f65-f4d504bbc99b",
   "metadata": {},
   "outputs": [],
   "source": [
    "# Define train/test split (using 60% train, 20% validation, 20% test)\n",
    "idx_train = torch.arange(int(0.6 * len(labels)), device=device)\n",
    "idx_val = torch.arange(int(0.6 * len(labels)), int(0.8 * len(labels)), device=device)\n",
    "idx_test = torch.arange(int(0.8 * len(labels)), len(labels), device=device)\n"
   ]
  },
  {
   "cell_type": "code",
   "execution_count": 5,
   "id": "e5864939-001a-4a43-ac52-3338bfe26670",
   "metadata": {},
   "outputs": [],
   "source": [
    "# Training GCN on Clean graph\n",
    "gcn = GCN(nfeat=features.shape[1], nhid=16, nclass=labels.max().item() + 1, dropout=0.5).to(device)\n",
    "optimizer = optim.Adam(gcn.parameters(), lr=0.01, weight_decay=5e-4)"
   ]
  },
  {
   "cell_type": "code",
   "execution_count": 6,
   "id": "ab104bb4-f02f-4923-b00d-8b915d71fa7e",
   "metadata": {},
   "outputs": [
    {
     "name": "stdout",
     "output_type": "stream",
     "text": [
      "\n",
      "Training GCN on Clean Graph...\n"
     ]
    }
   ],
   "source": [
    "# Training Loop\n",
    "print(\"\\nTraining GCN on Clean Graph...\")\n",
    "for epoch in range(200):\n",
    "    gcn.train()\n",
    "    optimizer.zero_grad()\n",
    "    output = gcn(features, adj)\n",
    "    loss = F.nll_loss(output[idx_train], labels[idx_train])\n",
    "    loss.backward()\n",
    "    optimizer.step()"
   ]
  },
  {
   "cell_type": "code",
   "execution_count": 10,
   "id": "8e928ac1-25e7-4141-ac2c-5a251e771e23",
   "metadata": {},
   "outputs": [
    {
     "name": "stdout",
     "output_type": "stream",
     "text": [
      "Clean Test Accuracy: 81.10%\n"
     ]
    }
   ],
   "source": [
    "# Evaluate on clean graph\n",
    "gcn.eval()\n",
    "output = gcn(features, adj)\n",
    "clean_preds = output.argmax(dim=1)\n",
    "clean_acc = accuracy(output[idx_test], labels[idx_test])\n",
    "\n",
    "print(f\"Clean Test Accuracy: {clean_acc.item() * 100:.2f}%\")\n"
   ]
  },
  {
   "cell_type": "code",
   "execution_count": 13,
   "id": "5f9a603e-23ea-41b0-83a4-35406fde472b",
   "metadata": {},
   "outputs": [
    {
     "name": "stdout",
     "output_type": "stream",
     "text": [
      "\n",
      "⚠️  Running Metattack (Evasion)...\n",
      "=== training surrogate model to predict unlabled data for self-training\n"
     ]
    },
    {
     "name": "stderr",
     "output_type": "stream",
     "text": [
      "Perturbing graph:   0%|                                                                         | 0/114 [00:00<?, ?it/s]"
     ]
    },
    {
     "name": "stdout",
     "output_type": "stream",
     "text": [
      "GCN loss on unlabled data: 2.0583696365356445\n",
      "GCN acc on unlabled data: 0.09859154929577466\n",
      "attack loss: 2.0508623123168945\n"
     ]
    },
    {
     "name": "stderr",
     "output_type": "stream",
     "text": [
      "\n"
     ]
    },
    {
     "ename": "TypeError",
     "evalue": "can't convert cuda:0 device type tensor to numpy. Use Tensor.cpu() to copy the tensor to host memory first.",
     "output_type": "error",
     "traceback": [
      "\u001b[0;31m---------------------------------------------------------------------------\u001b[0m",
      "\u001b[0;31mAttributeError\u001b[0m                            Traceback (most recent call last)",
      "File \u001b[0;32m~/ERSP/2-phase-attack/experiments/Original_Metattack/utils.py:245\u001b[0m, in \u001b[0;36mlikelihood_ratio_filter\u001b[0;34m(node_pairs, modified_adjacency, original_adjacency, d_min, threshold)\u001b[0m\n\u001b[1;32m    244\u001b[0m \u001b[38;5;28;01mtry\u001b[39;00m:\n\u001b[0;32m--> 245\u001b[0m     filtered_edges \u001b[38;5;241m=\u001b[39m node_pairs[allowed_edges\u001b[38;5;241m.\u001b[39mcpu()\u001b[38;5;241m.\u001b[39mnumpy()\u001b[38;5;241m.\u001b[39mastype(\u001b[43mnp\u001b[49m\u001b[38;5;241;43m.\u001b[39;49m\u001b[43mbool\u001b[49m)]\n\u001b[1;32m    246\u001b[0m \u001b[38;5;28;01mexcept\u001b[39;00m:\n",
      "File \u001b[0;32m~/miniconda3/envs/ersp_v2/lib/python3.9/site-packages/numpy/__init__.py:324\u001b[0m, in \u001b[0;36m__getattr__\u001b[0;34m(attr)\u001b[0m\n\u001b[1;32m    323\u001b[0m \u001b[38;5;28;01mif\u001b[39;00m attr \u001b[38;5;129;01min\u001b[39;00m __former_attrs__:\n\u001b[0;32m--> 324\u001b[0m     \u001b[38;5;28;01mraise\u001b[39;00m \u001b[38;5;167;01mAttributeError\u001b[39;00m(__former_attrs__[attr])\n\u001b[1;32m    326\u001b[0m \u001b[38;5;28;01mif\u001b[39;00m attr \u001b[38;5;241m==\u001b[39m \u001b[38;5;124m'\u001b[39m\u001b[38;5;124mtesting\u001b[39m\u001b[38;5;124m'\u001b[39m:\n",
      "\u001b[0;31mAttributeError\u001b[0m: module 'numpy' has no attribute 'bool'.\n`np.bool` was a deprecated alias for the builtin `bool`. To avoid this error in existing code, use `bool` by itself. Doing this will not modify any behavior and is safe. If you specifically wanted the numpy scalar type, use `np.bool_` here.\nThe aliases was originally deprecated in NumPy 1.20; for more details and guidance see the original release note at:\n    https://numpy.org/devdocs/release/1.20.0-notes.html#deprecations",
      "\nDuring handling of the above exception, another exception occurred:\n",
      "\u001b[0;31mTypeError\u001b[0m                                 Traceback (most recent call last)",
      "Cell \u001b[0;32mIn[13], line 8\u001b[0m\n\u001b[1;32m      6\u001b[0m \u001b[38;5;66;03m# Define the number of perturbations (5% of edges)\u001b[39;00m\n\u001b[1;32m      7\u001b[0m perturbations \u001b[38;5;241m=\u001b[39m \u001b[38;5;28mint\u001b[39m(\u001b[38;5;241m0.05\u001b[39m \u001b[38;5;241m*\u001b[39m adj\u001b[38;5;241m.\u001b[39msum())\n\u001b[0;32m----> 8\u001b[0m perturbed_adj \u001b[38;5;241m=\u001b[39m \u001b[43mattack_model\u001b[49m\u001b[43m(\u001b[49m\u001b[43mfeatures\u001b[49m\u001b[43m,\u001b[49m\u001b[43m \u001b[49m\u001b[43madj\u001b[49m\u001b[43m,\u001b[49m\u001b[43m \u001b[49m\u001b[43mlabels\u001b[49m\u001b[43m,\u001b[49m\u001b[43m \u001b[49m\u001b[43midx_train\u001b[49m\u001b[43m,\u001b[49m\u001b[43m \u001b[49m\u001b[43midx_test\u001b[49m\u001b[43m,\u001b[49m\u001b[43m \u001b[49m\u001b[43mperturbations\u001b[49m\u001b[43m)\u001b[49m\n",
      "File \u001b[0;32m~/miniconda3/envs/ersp_v2/lib/python3.9/site-packages/torch/nn/modules/module.py:1190\u001b[0m, in \u001b[0;36mModule._call_impl\u001b[0;34m(self, *input, **kwargs)\u001b[0m\n\u001b[1;32m   1186\u001b[0m \u001b[38;5;66;03m# If we don't have any hooks, we want to skip the rest of the logic in\u001b[39;00m\n\u001b[1;32m   1187\u001b[0m \u001b[38;5;66;03m# this function, and just call forward.\u001b[39;00m\n\u001b[1;32m   1188\u001b[0m \u001b[38;5;28;01mif\u001b[39;00m \u001b[38;5;129;01mnot\u001b[39;00m (\u001b[38;5;28mself\u001b[39m\u001b[38;5;241m.\u001b[39m_backward_hooks \u001b[38;5;129;01mor\u001b[39;00m \u001b[38;5;28mself\u001b[39m\u001b[38;5;241m.\u001b[39m_forward_hooks \u001b[38;5;129;01mor\u001b[39;00m \u001b[38;5;28mself\u001b[39m\u001b[38;5;241m.\u001b[39m_forward_pre_hooks \u001b[38;5;129;01mor\u001b[39;00m _global_backward_hooks\n\u001b[1;32m   1189\u001b[0m         \u001b[38;5;129;01mor\u001b[39;00m _global_forward_hooks \u001b[38;5;129;01mor\u001b[39;00m _global_forward_pre_hooks):\n\u001b[0;32m-> 1190\u001b[0m     \u001b[38;5;28;01mreturn\u001b[39;00m \u001b[43mforward_call\u001b[49m\u001b[43m(\u001b[49m\u001b[38;5;241;43m*\u001b[39;49m\u001b[38;5;28;43minput\u001b[39;49m\u001b[43m,\u001b[49m\u001b[43m \u001b[49m\u001b[38;5;241;43m*\u001b[39;49m\u001b[38;5;241;43m*\u001b[39;49m\u001b[43mkwargs\u001b[49m\u001b[43m)\u001b[49m\n\u001b[1;32m   1191\u001b[0m \u001b[38;5;66;03m# Do not call functions when jit is used\u001b[39;00m\n\u001b[1;32m   1192\u001b[0m full_backward_hooks, non_full_backward_hooks \u001b[38;5;241m=\u001b[39m [], []\n",
      "File \u001b[0;32m~/ERSP/2-phase-attack/experiments/Original_Metattack/pytorch_metattack.py:246\u001b[0m, in \u001b[0;36mMetattack.forward\u001b[0;34m(self, features, ori_adj, labels, idx_train, idx_unlabeled, perturbations, ll_constraint, ll_cutoff)\u001b[0m\n\u001b[1;32m    243\u001b[0m adj_meta_grad \u001b[38;5;241m=\u001b[39m adj_meta_grad \u001b[38;5;241m*\u001b[39m  singleton_mask\n\u001b[1;32m    245\u001b[0m \u001b[38;5;28;01mif\u001b[39;00m ll_constraint:\n\u001b[0;32m--> 246\u001b[0m     allowed_mask, \u001b[38;5;28mself\u001b[39m\u001b[38;5;241m.\u001b[39mll_ratio \u001b[38;5;241m=\u001b[39m \u001b[38;5;28;43mself\u001b[39;49m\u001b[38;5;241;43m.\u001b[39;49m\u001b[43mlog_likelihood_constraint\u001b[49m\u001b[43m(\u001b[49m\u001b[43mmodified_adj\u001b[49m\u001b[43m,\u001b[49m\u001b[43m \u001b[49m\u001b[43mori_adj\u001b[49m\u001b[43m,\u001b[49m\u001b[43m \u001b[49m\u001b[43mll_cutoff\u001b[49m\u001b[43m)\u001b[49m\n\u001b[1;32m    247\u001b[0m     allowed_mask \u001b[38;5;241m=\u001b[39m allowed_mask\u001b[38;5;241m.\u001b[39mto(\u001b[38;5;28mself\u001b[39m\u001b[38;5;241m.\u001b[39mdevice)\n\u001b[1;32m    248\u001b[0m     adj_meta_grad \u001b[38;5;241m=\u001b[39m adj_meta_grad \u001b[38;5;241m*\u001b[39m allowed_mask\n",
      "File \u001b[0;32m~/ERSP/2-phase-attack/experiments/Original_Metattack/pytorch_metattack.py:96\u001b[0m, in \u001b[0;36mBaseMeta.log_likelihood_constraint\u001b[0;34m(self, modified_adj, ori_adj, ll_cutoff)\u001b[0m\n\u001b[1;32m     94\u001b[0m t_d_min \u001b[38;5;241m=\u001b[39m torch\u001b[38;5;241m.\u001b[39mtensor(\u001b[38;5;241m2.0\u001b[39m)\u001b[38;5;241m.\u001b[39mto(\u001b[38;5;28mself\u001b[39m\u001b[38;5;241m.\u001b[39mdevice)\n\u001b[1;32m     95\u001b[0m t_possible_edges \u001b[38;5;241m=\u001b[39m np\u001b[38;5;241m.\u001b[39marray(np\u001b[38;5;241m.\u001b[39mtriu(np\u001b[38;5;241m.\u001b[39mones((\u001b[38;5;28mself\u001b[39m\u001b[38;5;241m.\u001b[39mnnodes, \u001b[38;5;28mself\u001b[39m\u001b[38;5;241m.\u001b[39mnnodes)), k\u001b[38;5;241m=\u001b[39m\u001b[38;5;241m1\u001b[39m)\u001b[38;5;241m.\u001b[39mnonzero())\u001b[38;5;241m.\u001b[39mT\n\u001b[0;32m---> 96\u001b[0m allowed_mask, current_ratio \u001b[38;5;241m=\u001b[39m \u001b[43mutils\u001b[49m\u001b[38;5;241;43m.\u001b[39;49m\u001b[43mlikelihood_ratio_filter\u001b[49m\u001b[43m(\u001b[49m\u001b[43mt_possible_edges\u001b[49m\u001b[43m,\u001b[49m\n\u001b[1;32m     97\u001b[0m \u001b[43m                                                            \u001b[49m\u001b[43mmodified_adj\u001b[49m\u001b[43m,\u001b[49m\n\u001b[1;32m     98\u001b[0m \u001b[43m                                                            \u001b[49m\u001b[43mori_adj\u001b[49m\u001b[43m,\u001b[49m\u001b[43m \u001b[49m\u001b[43mt_d_min\u001b[49m\u001b[43m,\u001b[49m\n\u001b[1;32m     99\u001b[0m \u001b[43m                                                            \u001b[49m\u001b[43mll_cutoff\u001b[49m\u001b[43m)\u001b[49m\n\u001b[1;32m    101\u001b[0m \u001b[38;5;28;01mreturn\u001b[39;00m allowed_mask, current_ratio\n",
      "File \u001b[0;32m~/ERSP/2-phase-attack/experiments/Original_Metattack/utils.py:247\u001b[0m, in \u001b[0;36mlikelihood_ratio_filter\u001b[0;34m(node_pairs, modified_adjacency, original_adjacency, d_min, threshold)\u001b[0m\n\u001b[1;32m    245\u001b[0m     filtered_edges \u001b[38;5;241m=\u001b[39m node_pairs[allowed_edges\u001b[38;5;241m.\u001b[39mcpu()\u001b[38;5;241m.\u001b[39mnumpy()\u001b[38;5;241m.\u001b[39mastype(np\u001b[38;5;241m.\u001b[39mbool)]\n\u001b[1;32m    246\u001b[0m \u001b[38;5;28;01mexcept\u001b[39;00m:\n\u001b[0;32m--> 247\u001b[0m     filtered_edges \u001b[38;5;241m=\u001b[39m node_pairs[\u001b[43mallowed_edges\u001b[49m\u001b[38;5;241;43m.\u001b[39;49m\u001b[43mnumpy\u001b[49m\u001b[43m(\u001b[49m\u001b[43m)\u001b[49m\u001b[38;5;241m.\u001b[39mastype(np\u001b[38;5;241m.\u001b[39mbool)]\n\u001b[1;32m    249\u001b[0m allowed_mask \u001b[38;5;241m=\u001b[39m torch\u001b[38;5;241m.\u001b[39mzeros(modified_adjacency\u001b[38;5;241m.\u001b[39mshape)\n\u001b[1;32m    250\u001b[0m allowed_mask[filtered_edges\u001b[38;5;241m.\u001b[39mT] \u001b[38;5;241m=\u001b[39m \u001b[38;5;241m1\u001b[39m\n",
      "\u001b[0;31mTypeError\u001b[0m: can't convert cuda:0 device type tensor to numpy. Use Tensor.cpu() to copy the tensor to host memory first."
     ]
    }
   ],
   "source": [
    "print(\"\\n⚠️  Running Metattack (Evasion)...\")\n",
    "\n",
    "attack_model = Metattack(nfeat=features.shape[1], hidden_sizes=[16], nclass=labels.max().item() + 1,\n",
    "                         nnodes=adj.shape[0], dropout=0.5, train_iters=0, attack_features=False, device=device).to(device)\n",
    "\n",
    "# Define the number of perturbations (5% of edges)\n",
    "perturbations = int(0.05 * adj.sum())\n",
    "perturbed_adj = attack_model(features, adj, labels, idx_train, idx_test, perturbations)"
   ]
  },
  {
   "cell_type": "code",
   "execution_count": null,
   "id": "8ffcd380-bfb1-4299-bbe7-f4ea2d4a288f",
   "metadata": {},
   "outputs": [],
   "source": []
  }
 ],
 "metadata": {
  "kernelspec": {
   "display_name": "Python 3 (ipykernel)",
   "language": "python",
   "name": "python3"
  },
  "language_info": {
   "codemirror_mode": {
    "name": "ipython",
    "version": 3
   },
   "file_extension": ".py",
   "mimetype": "text/x-python",
   "name": "python",
   "nbconvert_exporter": "python",
   "pygments_lexer": "ipython3",
   "version": "3.9.18"
  }
 },
 "nbformat": 4,
 "nbformat_minor": 5
}
