{
 "cells": [
  {
   "cell_type": "code",
   "execution_count": 1,
   "id": "fbb5d79d-32af-427a-a964-7c82eee9c269",
   "metadata": {},
   "outputs": [],
   "source": [
    "import sys\n",
    "sys.path.append(\"../\")\n",
    "from phase2.greedy_mcmc_attack import *\n",
    "\n",
    "sys.path.append(\"../\")\n",
    "from src.models.gcn import *\n",
    "from src.models.gat import *\n",
    "from src.models.gsage import *"
   ]
  },
  {
   "cell_type": "code",
   "execution_count": 2,
   "id": "b742403b-fcba-4263-bbf6-00718b5d1dd0",
   "metadata": {},
   "outputs": [],
   "source": [
    "device = \"cuda\" if torch.cuda.is_available() else \"cpu\""
   ]
  },
  {
   "cell_type": "markdown",
   "id": "fbb04745-259c-4cf6-a826-cfa1c4e732c6",
   "metadata": {},
   "source": [
    "## cora"
   ]
  },
  {
   "cell_type": "code",
   "execution_count": 3,
   "id": "deb31082-c6c1-4e96-96ef-cbbe762060f1",
   "metadata": {},
   "outputs": [
    {
     "name": "stdout",
     "output_type": "stream",
     "text": [
      "Data(x=[2708, 1433], edge_index=[2, 10556], y=[2708], train_mask=[2708], val_mask=[2708], test_mask=[2708])\n"
     ]
    }
   ],
   "source": [
    "# dataset_directory = \"../Cora\"\n",
    "cora_dataset = Planetoid(root='', name='Cora')\n",
    "data = cora_dataset[0].to(device)\n",
    "print(data)"
   ]
  },
  {
   "cell_type": "code",
   "execution_count": 4,
   "id": "64058311-55dd-487f-a80d-fa014fafcc57",
   "metadata": {},
   "outputs": [],
   "source": [
    "model = GAT(data.x.shape[1], cora_dataset.num_classes, [16]).to(device)"
   ]
  },
  {
   "cell_type": "code",
   "execution_count": 5,
   "id": "6c4daf42-e7d6-4d5e-bb36-fd8013ed290e",
   "metadata": {},
   "outputs": [],
   "source": [
    "model_save_path = \"../models/cora_gat_model.pth\""
   ]
  },
  {
   "cell_type": "code",
   "execution_count": 6,
   "id": "b51ca98c-35e5-4050-9a0a-ac6d8d715efc",
   "metadata": {},
   "outputs": [],
   "source": [
    "model, _, train = load_model_and_edges(model_save_path, None, model, device)"
   ]
  },
  {
   "cell_type": "code",
   "execution_count": 7,
   "id": "fd8fa420-9bd1-4e28-b0e8-6a5443b96da8",
   "metadata": {
    "scrolled": true
   },
   "outputs": [
    {
     "name": "stdout",
     "output_type": "stream",
     "text": [
      "Initial Accuracy: 0.779\n",
      "Initial Loss: 0.9002668857574463\n"
     ]
    }
   ],
   "source": [
    "# Get initial accuracy\n",
    "initial_loss, initial_accuracy = train.test(data)\n",
    "print(f\"Initial Accuracy: {initial_accuracy}\")\n",
    "print(f\"Initial Loss: {initial_loss}\")"
   ]
  },
  {
   "cell_type": "code",
   "execution_count": 8,
   "id": "18e95aa3-1841-4bc2-b8fc-5564554199b9",
   "metadata": {},
   "outputs": [
    {
     "data": {
      "application/vnd.jupyter.widget-view+json": {
       "model_id": "a753beaf17cb4759ba067834be37ce6b",
       "version_major": 2,
       "version_minor": 0
      },
      "text/plain": [
       "Peturbing graph...:   0%|          | 0/5278 [00:00<?, ?it/s]"
      ]
     },
     "metadata": {},
     "output_type": "display_data"
    }
   ],
   "source": [
    "sorted_edges = collect_edges(model, data, device)"
   ]
  },
  {
   "cell_type": "code",
   "execution_count": 9,
   "id": "783b7254-397a-42b1-a960-cf1639b03813",
   "metadata": {},
   "outputs": [
    {
     "name": "stdout",
     "output_type": "stream",
     "text": [
      "The history saving thread hit an unexpected error (OperationalError('attempt to write a readonly database')).History will not be written to the database.\n"
     ]
    }
   ],
   "source": [
    "list_save_path = \"cora_gat_edges.pth\"\n",
    "torch.save(sorted_edges, list_save_path)"
   ]
  },
  {
   "cell_type": "markdown",
   "id": "46278bcc-e9f0-42fd-acc5-6ced1ebc92d0",
   "metadata": {},
   "source": [
    "## citeseer"
   ]
  },
  {
   "cell_type": "code",
   "execution_count": 10,
   "id": "5761ef72-4f7d-4e53-8215-f503f837c5ce",
   "metadata": {},
   "outputs": [
    {
     "name": "stdout",
     "output_type": "stream",
     "text": [
      "Data(x=[3327, 3703], edge_index=[2, 9104], y=[3327], train_mask=[3327], val_mask=[3327], test_mask=[3327])\n"
     ]
    }
   ],
   "source": [
    "# dataset_directory = \"../Cora\"\n",
    "citeseer_dataset = Planetoid(root='', name='Citeseer')\n",
    "data = citeseer_dataset[0].to(device)\n",
    "print(data)"
   ]
  },
  {
   "cell_type": "code",
   "execution_count": 11,
   "id": "09483272-7655-4b25-947b-ea5fb545f8c7",
   "metadata": {},
   "outputs": [],
   "source": [
    "model = GAT(data.x.shape[1], citeseer_dataset.num_classes, [16]).to(device)"
   ]
  },
  {
   "cell_type": "code",
   "execution_count": 12,
   "id": "d70ead57-a24f-49fc-a51e-fad71a0f51ac",
   "metadata": {},
   "outputs": [],
   "source": [
    "model_save_path = \"../models/citeseer_gat_model.pth\"\n",
    "list_save_path = \"citeseer_gat_edges.pth\""
   ]
  },
  {
   "cell_type": "code",
   "execution_count": 13,
   "id": "c26b4add-3aea-4e1b-9e69-5646343640db",
   "metadata": {},
   "outputs": [],
   "source": [
    "model, _, train = load_model_and_edges(model_save_path, None, model, device)"
   ]
  },
  {
   "cell_type": "code",
   "execution_count": 14,
   "id": "9e9304cc-cb8f-4fa3-90c5-1a43f34d8dc2",
   "metadata": {},
   "outputs": [
    {
     "name": "stdout",
     "output_type": "stream",
     "text": [
      "Initial Accuracy: 0.669\n",
      "Initial Loss: 1.6974283456802368\n"
     ]
    }
   ],
   "source": [
    "# Get initial accuracy\n",
    "initial_loss, initial_accuracy = train.test(data)\n",
    "print(f\"Initial Accuracy: {initial_accuracy}\")\n",
    "print(f\"Initial Loss: {initial_loss}\")"
   ]
  },
  {
   "cell_type": "code",
   "execution_count": 15,
   "id": "e87c70b6-06f1-4cb7-b63c-ecc47c9c0c93",
   "metadata": {},
   "outputs": [
    {
     "data": {
      "application/vnd.jupyter.widget-view+json": {
       "model_id": "9d936a721cf04a759a47323b5dec689a",
       "version_major": 2,
       "version_minor": 0
      },
      "text/plain": [
       "Peturbing graph...:   0%|          | 0/4552 [00:00<?, ?it/s]"
      ]
     },
     "metadata": {},
     "output_type": "display_data"
    }
   ],
   "source": [
    "sorted_edges = collect_edges(model, data, device)"
   ]
  },
  {
   "cell_type": "code",
   "execution_count": 16,
   "id": "39ec8858-3970-4c66-8209-232adcc77372",
   "metadata": {},
   "outputs": [],
   "source": [
    "torch.save(sorted_edges, list_save_path)"
   ]
  },
  {
   "cell_type": "markdown",
   "id": "2e7fe80d-75d7-415a-b6be-a59e55ee8a7b",
   "metadata": {},
   "source": [
    "## pubmed"
   ]
  },
  {
   "cell_type": "code",
   "execution_count": 17,
   "id": "768d3dc3-5012-49c2-b078-6a86fe4b680e",
   "metadata": {},
   "outputs": [],
   "source": [
    "# # dataset_directory = \"../Cora\"\n",
    "# pubmed_dataset = Planetoid(root='', name='Pubmed')\n",
    "# data = pubmed_dataset[0].to(device)\n",
    "# print(data)"
   ]
  },
  {
   "cell_type": "code",
   "execution_count": 18,
   "id": "10c29bf3-8210-4037-8147-5f1ff5d4959a",
   "metadata": {},
   "outputs": [],
   "source": [
    "# model = GAT(data.x.shape[1], pubmed_dataset.num_classes, [16]).to(device)"
   ]
  },
  {
   "cell_type": "code",
   "execution_count": 19,
   "id": "e718a7b7-3414-47e2-9ff7-032e6d5c17da",
   "metadata": {},
   "outputs": [],
   "source": [
    "# model_save_path = \"../models/pubmed_gat_model.pth\"\n",
    "# list_save_path = \"pubmed_gat_edges.pth\""
   ]
  },
  {
   "cell_type": "code",
   "execution_count": 20,
   "id": "a9810e03-0283-4b2d-b1b4-6a33c4316853",
   "metadata": {},
   "outputs": [],
   "source": [
    "# model, _, train = load_model_and_edges(model_save_path, None, model, device)"
   ]
  },
  {
   "cell_type": "code",
   "execution_count": 21,
   "id": "f2122b80-7a72-43a2-a5c7-51a1ee535373",
   "metadata": {},
   "outputs": [],
   "source": [
    "# # Get initial accuracy\n",
    "# initial_loss, initial_accuracy = train.test(data)\n",
    "# print(f\"Initial Accuracy: {initial_accuracy}\")\n",
    "# print(f\"Initial Loss: {initial_loss}\")"
   ]
  },
  {
   "cell_type": "code",
   "execution_count": 22,
   "id": "7658f7a2-2c1b-4333-af34-c2359a9cce6a",
   "metadata": {},
   "outputs": [],
   "source": [
    "# sorted_edges = collect_edges(model, data, device)"
   ]
  },
  {
   "cell_type": "code",
   "execution_count": 23,
   "id": "3f29dfd4-9348-4fa7-95f8-e6f1da519f99",
   "metadata": {},
   "outputs": [],
   "source": [
    "# torch.save(sorted_edges, list_save_path)"
   ]
  }
 ],
 "metadata": {
  "kernelspec": {
   "display_name": "Python 3 (ipykernel)",
   "language": "python",
   "name": "python3"
  },
  "language_info": {
   "codemirror_mode": {
    "name": "ipython",
    "version": 3
   },
   "file_extension": ".py",
   "mimetype": "text/x-python",
   "name": "python",
   "nbconvert_exporter": "python",
   "pygments_lexer": "ipython3",
   "version": "3.8.18"
  }
 },
 "nbformat": 4,
 "nbformat_minor": 5
}
