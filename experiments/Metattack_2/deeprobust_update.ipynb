{
 "cells": [
  {
   "cell_type": "code",
   "execution_count": 1,
   "id": "6c003c4f-e24e-4126-a988-2080993d19dc",
   "metadata": {},
   "outputs": [],
   "source": [
    "import torch\n",
    "import numpy as np\n",
    "from deeprobust.graph.data import Dataset\n",
    "from deeprobust.graph.defense import GCN\n",
    "from deeprobust.graph.global_attack import Metattack\n",
    "import scipy.sparse as sp"
   ]
  },
  {
   "cell_type": "code",
   "execution_count": 2,
   "id": "0989fb5c-2470-4fe8-b161-67c619c81218",
   "metadata": {},
   "outputs": [
    {
     "name": "stdout",
     "output_type": "stream",
     "text": [
      "Loading cora dataset...\n",
      "Downloading from https://raw.githubusercontent.com/danielzuegner/gnn-meta-attack/master/data/cora.npz to /tmp/cora.npz\n",
      "Done!\n",
      "Selecting 1 largest connected components\n"
     ]
    }
   ],
   "source": [
    "# Load data\n",
    "data = Dataset(root='/tmp/', name='cora', setting='nettack')\n",
    "adj, features, labels = data.adj, data.features, data.labels\n",
    "idx_train, idx_val, idx_test = data.idx_train, data.idx_val, data.idx_test\n",
    "idx_unlabeled = np.union1d(idx_val, idx_test)"
   ]
  },
  {
   "cell_type": "code",
   "execution_count": 3,
   "id": "6a1fabe1-7289-4c6f-877e-5d447f5a2343",
   "metadata": {},
   "outputs": [],
   "source": [
    "device = torch.device(\"cuda:0\" if torch.cuda.is_available() else \"cpu\")"
   ]
  },
  {
   "cell_type": "code",
   "execution_count": 4,
   "id": "5ecb03d7-1ad4-4450-a3d5-ceb9647762c8",
   "metadata": {},
   "outputs": [],
   "source": [
    "# Train surrogate model with hidden dim = 64 (increased from 16)\n",
    "surrogate = GCN(nfeat=features.shape[1], nclass=labels.max().item()+1, nhid=64,\n",
    "                with_relu=False, device=device)\n",
    "surrogate = surrogate.to(device)\n",
    "surrogate.fit(features, adj, labels, idx_train)"
   ]
  },
  {
   "cell_type": "code",
   "execution_count": 5,
   "id": "7fa8db70-3fb2-4727-be40-5a2abb395924",
   "metadata": {},
   "outputs": [],
   "source": [
    "# Create a clean test model to evaluate attack performance\n",
    "test_model = GCN(nfeat=features.shape[1], nclass=labels.max().item()+1, nhid=64, \n",
    "                 with_relu=True, device=device)\n",
    "test_model = test_model.to(device)\n",
    "test_model.fit(features, adj, labels, idx_train)"
   ]
  },
  {
   "cell_type": "code",
   "execution_count": 6,
   "id": "8d7e8f9d-6d26-41eb-b91d-9056e8e60ab8",
   "metadata": {},
   "outputs": [
    {
     "name": "stdout",
     "output_type": "stream",
     "text": [
      "Total edges in the graph: 5069.0\n"
     ]
    }
   ],
   "source": [
    "# Set up Metattack\n",
    "model = Metattack(model=surrogate, nnodes=adj.shape[0], feature_shape=features.shape, device=device)\n",
    "model = model.to(device)\n",
    "\n",
    "# Calculate total edges in the graph\n",
    "total_edges = adj.sum() // 2\n",
    "print(f\"Total edges in the graph: {total_edges}\")\n",
    "\n",
    "# Test for different perturbation percentages\n",
    "perturbation_percentages = [0.05, 0.10, 0.15, 0.20]  # 5%, 10%, 15%, 20%\n",
    "\n",
    "results = {}"
   ]
  },
  {
   "cell_type": "code",
   "execution_count": 7,
   "id": "9bb4613b-66c3-4b9b-a1a7-e4f11f317456",
   "metadata": {},
   "outputs": [
    {
     "name": "stdout",
     "output_type": "stream",
     "text": [
      "\n",
      "Running attack with 5.0% perturbations (253 edges)\n"
     ]
    },
    {
     "name": "stderr",
     "output_type": "stream",
     "text": [
      "Perturbing graph:   0%|          | 0/253 [00:00<?, ?it/s]"
     ]
    },
    {
     "name": "stdout",
     "output_type": "stream",
     "text": [
      "GCN loss on unlabled data: 0.5257309079170227\n",
      "GCN acc on unlabled data: 0.843540455967814\n",
      "attack loss: 0.17860426008701324\n"
     ]
    },
    {
     "name": "stderr",
     "output_type": "stream",
     "text": [
      "Perturbing graph:   0%|          | 1/253 [00:00<03:11,  1.31it/s]"
     ]
    },
    {
     "name": "stdout",
     "output_type": "stream",
     "text": [
      "GCN loss on unlabled data: 0.5278760194778442\n",
      "GCN acc on unlabled data: 0.8426464014304873\n",
      "attack loss: 0.17939476668834686\n"
     ]
    },
    {
     "name": "stderr",
     "output_type": "stream",
     "text": [
      "Perturbing graph:   1%|          | 2/253 [00:01<02:18,  1.81it/s]"
     ]
    },
    {
     "name": "stdout",
     "output_type": "stream",
     "text": [
      "GCN loss on unlabled data: 0.5491485595703125\n",
      "GCN acc on unlabled data: 0.835493965131873\n",
      "attack loss: 0.19102483987808228\n"
     ]
    },
    {
     "name": "stderr",
     "output_type": "stream",
     "text": [
      "Perturbing graph:   1%|          | 3/253 [00:01<02:00,  2.07it/s]"
     ]
    },
    {
     "name": "stdout",
     "output_type": "stream",
     "text": [
      "GCN loss on unlabled data: 0.5529327392578125\n",
      "GCN acc on unlabled data: 0.8363880196691998\n",
      "attack loss: 0.1939120590686798\n"
     ]
    },
    {
     "name": "stderr",
     "output_type": "stream",
     "text": [
      "Perturbing graph:   2%|▏         | 4/253 [00:01<01:52,  2.22it/s]"
     ]
    },
    {
     "name": "stdout",
     "output_type": "stream",
     "text": [
      "GCN loss on unlabled data: 0.5502825379371643\n",
      "GCN acc on unlabled data: 0.8421993741618239\n",
      "attack loss: 0.19878968596458435\n"
     ]
    },
    {
     "name": "stderr",
     "output_type": "stream",
     "text": [
      "Perturbing graph:   2%|▏         | 5/253 [00:02<01:47,  2.32it/s]"
     ]
    },
    {
     "name": "stdout",
     "output_type": "stream",
     "text": [
      "GCN loss on unlabled data: 0.5724179148674011\n",
      "GCN acc on unlabled data: 0.8310236924452392\n",
      "attack loss: 0.20385238528251648\n"
     ]
    },
    {
     "name": "stderr",
     "output_type": "stream",
     "text": [
      "Perturbing graph:   2%|▏         | 6/253 [00:02<01:44,  2.37it/s]"
     ]
    },
    {
     "name": "stdout",
     "output_type": "stream",
     "text": [
      "GCN loss on unlabled data: 0.5599488019943237\n",
      "GCN acc on unlabled data: 0.8386231560125168\n",
      "attack loss: 0.1998540461063385\n"
     ]
    },
    {
     "name": "stderr",
     "output_type": "stream",
     "text": [
      "Perturbing graph:   3%|▎         | 7/253 [00:03<01:42,  2.39it/s]"
     ]
    },
    {
     "name": "stdout",
     "output_type": "stream",
     "text": [
      "GCN loss on unlabled data: 0.5869075655937195\n",
      "GCN acc on unlabled data: 0.8278945015645954\n",
      "attack loss: 0.21095257997512817\n"
     ]
    },
    {
     "name": "stderr",
     "output_type": "stream",
     "text": [
      "Perturbing graph:   3%|▎         | 8/253 [00:03<01:41,  2.42it/s]"
     ]
    },
    {
     "name": "stdout",
     "output_type": "stream",
     "text": [
      "GCN loss on unlabled data: 0.5927649736404419\n",
      "GCN acc on unlabled data: 0.8287885561019223\n",
      "attack loss: 0.21426677703857422\n"
     ]
    },
    {
     "name": "stderr",
     "output_type": "stream",
     "text": [
      "Perturbing graph:   4%|▎         | 9/253 [00:03<01:40,  2.44it/s]"
     ]
    },
    {
     "name": "stdout",
     "output_type": "stream",
     "text": [
      "GCN loss on unlabled data: 0.6073614358901978\n",
      "GCN acc on unlabled data: 0.8256593652212785\n",
      "attack loss: 0.22326287627220154\n"
     ]
    },
    {
     "name": "stderr",
     "output_type": "stream",
     "text": [
      "Perturbing graph:   4%|▍         | 10/253 [00:04<01:39,  2.45it/s]"
     ]
    },
    {
     "name": "stdout",
     "output_type": "stream",
     "text": [
      "GCN loss on unlabled data: 0.606691837310791\n",
      "GCN acc on unlabled data: 0.8319177469825659\n",
      "attack loss: 0.22074417769908905\n"
     ]
    },
    {
     "name": "stderr",
     "output_type": "stream",
     "text": [
      "Perturbing graph:   4%|▍         | 11/253 [00:04<01:38,  2.46it/s]"
     ]
    },
    {
     "name": "stdout",
     "output_type": "stream",
     "text": [
      "GCN loss on unlabled data: 0.5998597741127014\n",
      "GCN acc on unlabled data: 0.8328118015198928\n",
      "attack loss: 0.21828314661979675\n"
     ]
    },
    {
     "name": "stderr",
     "output_type": "stream",
     "text": [
      "Perturbing graph:   5%|▍         | 12/253 [00:05<01:37,  2.46it/s]"
     ]
    },
    {
     "name": "stdout",
     "output_type": "stream",
     "text": [
      "GCN loss on unlabled data: 0.6021665334701538\n",
      "GCN acc on unlabled data: 0.8310236924452392\n",
      "attack loss: 0.2249612808227539\n"
     ]
    },
    {
     "name": "stderr",
     "output_type": "stream",
     "text": [
      "Perturbing graph:   5%|▌         | 13/253 [00:05<01:37,  2.47it/s]"
     ]
    },
    {
     "name": "stdout",
     "output_type": "stream",
     "text": [
      "GCN loss on unlabled data: 0.5960527062416077\n",
      "GCN acc on unlabled data: 0.8301296379079124\n",
      "attack loss: 0.22524574398994446\n"
     ]
    },
    {
     "name": "stderr",
     "output_type": "stream",
     "text": [
      "Perturbing graph:   6%|▌         | 14/253 [00:06<01:36,  2.47it/s]"
     ]
    },
    {
     "name": "stdout",
     "output_type": "stream",
     "text": [
      "GCN loss on unlabled data: 0.606611430644989\n",
      "GCN acc on unlabled data: 0.8301296379079124\n",
      "attack loss: 0.2300897091627121\n"
     ]
    },
    {
     "name": "stderr",
     "output_type": "stream",
     "text": [
      "Perturbing graph:   6%|▌         | 15/253 [00:06<01:36,  2.47it/s]"
     ]
    },
    {
     "name": "stdout",
     "output_type": "stream",
     "text": [
      "GCN loss on unlabled data: 0.6115178465843201\n",
      "GCN acc on unlabled data: 0.8265534197586053\n",
      "attack loss: 0.23014850914478302\n"
     ]
    },
    {
     "name": "stderr",
     "output_type": "stream",
     "text": [
      "Perturbing graph:   6%|▋         | 16/253 [00:06<01:35,  2.48it/s]"
     ]
    },
    {
     "name": "stdout",
     "output_type": "stream",
     "text": [
      "GCN loss on unlabled data: 0.6247450113296509\n",
      "GCN acc on unlabled data: 0.8252123379526152\n",
      "attack loss: 0.23552101850509644\n"
     ]
    },
    {
     "name": "stderr",
     "output_type": "stream",
     "text": [
      "Perturbing graph:   7%|▋         | 17/253 [00:07<01:35,  2.48it/s]"
     ]
    },
    {
     "name": "stdout",
     "output_type": "stream",
     "text": [
      "GCN loss on unlabled data: 0.6212425827980042\n",
      "GCN acc on unlabled data: 0.8274474742959321\n",
      "attack loss: 0.23592646420001984\n"
     ]
    },
    {
     "name": "stderr",
     "output_type": "stream",
     "text": [
      "Perturbing graph:   7%|▋         | 18/253 [00:07<01:34,  2.48it/s]"
     ]
    },
    {
     "name": "stdout",
     "output_type": "stream",
     "text": [
      "GCN loss on unlabled data: 0.6306373476982117\n",
      "GCN acc on unlabled data: 0.8238712561466249\n",
      "attack loss: 0.2346666157245636\n"
     ]
    },
    {
     "name": "stderr",
     "output_type": "stream",
     "text": [
      "Perturbing graph:   8%|▊         | 19/253 [00:08<01:34,  2.48it/s]"
     ]
    },
    {
     "name": "stdout",
     "output_type": "stream",
     "text": [
      "GCN loss on unlabled data: 0.6415758728981018\n",
      "GCN acc on unlabled data: 0.8207420652659813\n",
      "attack loss: 0.24312177300453186\n"
     ]
    },
    {
     "name": "stderr",
     "output_type": "stream",
     "text": [
      "Perturbing graph:   8%|▊         | 20/253 [00:08<01:34,  2.48it/s]"
     ]
    },
    {
     "name": "stdout",
     "output_type": "stream",
     "text": [
      "GCN loss on unlabled data: 0.6438661217689514\n",
      "GCN acc on unlabled data: 0.8149307107733572\n",
      "attack loss: 0.24461737275123596\n"
     ]
    },
    {
     "name": "stderr",
     "output_type": "stream",
     "text": [
      "Perturbing graph:   8%|▊         | 21/253 [00:08<01:33,  2.48it/s]"
     ]
    },
    {
     "name": "stdout",
     "output_type": "stream",
     "text": [
      "GCN loss on unlabled data: 0.6659584641456604\n",
      "GCN acc on unlabled data: 0.8153777380420206\n",
      "attack loss: 0.25082868337631226\n"
     ]
    },
    {
     "name": "stderr",
     "output_type": "stream",
     "text": [
      "Perturbing graph:   9%|▊         | 22/253 [00:09<01:33,  2.48it/s]"
     ]
    },
    {
     "name": "stdout",
     "output_type": "stream",
     "text": [
      "GCN loss on unlabled data: 0.6646991968154907\n",
      "GCN acc on unlabled data: 0.8211890925346447\n",
      "attack loss: 0.25921544432640076\n"
     ]
    },
    {
     "name": "stderr",
     "output_type": "stream",
     "text": [
      "Perturbing graph:   9%|▉         | 23/253 [00:09<01:32,  2.48it/s]"
     ]
    },
    {
     "name": "stdout",
     "output_type": "stream",
     "text": [
      "GCN loss on unlabled data: 0.645368218421936\n",
      "GCN acc on unlabled data: 0.8229772016092982\n",
      "attack loss: 0.25333452224731445\n"
     ]
    },
    {
     "name": "stderr",
     "output_type": "stream",
     "text": [
      "Perturbing graph:   9%|▉         | 24/253 [00:10<01:32,  2.48it/s]"
     ]
    },
    {
     "name": "stdout",
     "output_type": "stream",
     "text": [
      "GCN loss on unlabled data: 0.6556610465049744\n",
      "GCN acc on unlabled data: 0.821636119803308\n",
      "attack loss: 0.25198325514793396\n"
     ]
    },
    {
     "name": "stderr",
     "output_type": "stream",
     "text": [
      "Perturbing graph:  10%|▉         | 25/253 [00:10<01:31,  2.49it/s]"
     ]
    },
    {
     "name": "stdout",
     "output_type": "stream",
     "text": [
      "GCN loss on unlabled data: 0.6497316956520081\n",
      "GCN acc on unlabled data: 0.8256593652212785\n",
      "attack loss: 0.255216509103775\n"
     ]
    },
    {
     "name": "stderr",
     "output_type": "stream",
     "text": [
      "Perturbing graph:  10%|█         | 26/253 [00:10<01:31,  2.49it/s]"
     ]
    },
    {
     "name": "stdout",
     "output_type": "stream",
     "text": [
      "GCN loss on unlabled data: 0.6762865781784058\n",
      "GCN acc on unlabled data: 0.8234242288779616\n",
      "attack loss: 0.2633834779262543\n"
     ]
    },
    {
     "name": "stderr",
     "output_type": "stream",
     "text": [
      "Perturbing graph:  11%|█         | 27/253 [00:11<01:30,  2.50it/s]"
     ]
    },
    {
     "name": "stdout",
     "output_type": "stream",
     "text": [
      "GCN loss on unlabled data: 0.7042111158370972\n",
      "GCN acc on unlabled data: 0.8180599016540009\n",
      "attack loss: 0.27004584670066833\n"
     ]
    },
    {
     "name": "stderr",
     "output_type": "stream",
     "text": [
      "Perturbing graph:  11%|█         | 28/253 [00:11<01:30,  2.50it/s]"
     ]
    },
    {
     "name": "stdout",
     "output_type": "stream",
     "text": [
      "GCN loss on unlabled data: 0.6562432050704956\n",
      "GCN acc on unlabled data: 0.8202950379973178\n",
      "attack loss: 0.2544091045856476\n"
     ]
    },
    {
     "name": "stderr",
     "output_type": "stream",
     "text": [
      "Perturbing graph:  11%|█▏        | 29/253 [00:12<01:29,  2.50it/s]"
     ]
    },
    {
     "name": "stdout",
     "output_type": "stream",
     "text": [
      "GCN loss on unlabled data: 0.7025611996650696\n",
      "GCN acc on unlabled data: 0.8180599016540009\n",
      "attack loss: 0.27065494656562805\n"
     ]
    },
    {
     "name": "stderr",
     "output_type": "stream",
     "text": [
      "Perturbing graph:  12%|█▏        | 30/253 [00:12<01:29,  2.49it/s]"
     ]
    },
    {
     "name": "stdout",
     "output_type": "stream",
     "text": [
      "GCN loss on unlabled data: 0.6913962960243225\n",
      "GCN acc on unlabled data: 0.8185069289226643\n",
      "attack loss: 0.27059903740882874\n"
     ]
    },
    {
     "name": "stderr",
     "output_type": "stream",
     "text": [
      "Perturbing graph:  12%|█▏        | 31/253 [00:12<01:29,  2.49it/s]"
     ]
    },
    {
     "name": "stdout",
     "output_type": "stream",
     "text": [
      "GCN loss on unlabled data: 0.7031925916671753\n",
      "GCN acc on unlabled data: 0.8131426016987037\n",
      "attack loss: 0.2762424349784851\n"
     ]
    },
    {
     "name": "stderr",
     "output_type": "stream",
     "text": [
      "Perturbing graph:  13%|█▎        | 32/253 [00:13<01:28,  2.49it/s]"
     ]
    },
    {
     "name": "stdout",
     "output_type": "stream",
     "text": [
      "GCN loss on unlabled data: 0.7020803689956665\n",
      "GCN acc on unlabled data: 0.8162717925793473\n",
      "attack loss: 0.27326053380966187\n"
     ]
    },
    {
     "name": "stderr",
     "output_type": "stream",
     "text": [
      "Perturbing graph:  13%|█▎        | 33/253 [00:13<01:28,  2.49it/s]"
     ]
    },
    {
     "name": "stdout",
     "output_type": "stream",
     "text": [
      "GCN loss on unlabled data: 0.7066346406936646\n",
      "GCN acc on unlabled data: 0.8122485471613768\n",
      "attack loss: 0.28216812014579773\n"
     ]
    },
    {
     "name": "stderr",
     "output_type": "stream",
     "text": [
      "Perturbing graph:  13%|█▎        | 34/253 [00:14<01:27,  2.49it/s]"
     ]
    },
    {
     "name": "stdout",
     "output_type": "stream",
     "text": [
      "GCN loss on unlabled data: 0.6859657168388367\n",
      "GCN acc on unlabled data: 0.8162717925793473\n",
      "attack loss: 0.2687283158302307\n"
     ]
    },
    {
     "name": "stderr",
     "output_type": "stream",
     "text": [
      "Perturbing graph:  14%|█▍        | 35/253 [00:14<01:27,  2.49it/s]"
     ]
    },
    {
     "name": "stdout",
     "output_type": "stream",
     "text": [
      "GCN loss on unlabled data: 0.704490602016449\n",
      "GCN acc on unlabled data: 0.8149307107733572\n",
      "attack loss: 0.2816711664199829\n"
     ]
    },
    {
     "name": "stderr",
     "output_type": "stream",
     "text": [
      "Perturbing graph:  14%|█▍        | 36/253 [00:14<01:26,  2.50it/s]"
     ]
    },
    {
     "name": "stdout",
     "output_type": "stream",
     "text": [
      "GCN loss on unlabled data: 0.7274491190910339\n",
      "GCN acc on unlabled data: 0.8095663835493966\n",
      "attack loss: 0.2888343334197998\n"
     ]
    },
    {
     "name": "stderr",
     "output_type": "stream",
     "text": [
      "Perturbing graph:  15%|█▍        | 37/253 [00:15<01:26,  2.50it/s]"
     ]
    },
    {
     "name": "stdout",
     "output_type": "stream",
     "text": [
      "GCN loss on unlabled data: 0.7035480737686157\n",
      "GCN acc on unlabled data: 0.8144836835046938\n",
      "attack loss: 0.28493809700012207\n"
     ]
    },
    {
     "name": "stderr",
     "output_type": "stream",
     "text": [
      "Perturbing graph:  15%|█▌        | 38/253 [00:15<01:26,  2.50it/s]"
     ]
    },
    {
     "name": "stdout",
     "output_type": "stream",
     "text": [
      "GCN loss on unlabled data: 0.7120527625083923\n",
      "GCN acc on unlabled data: 0.8180599016540009\n",
      "attack loss: 0.2846745550632477\n"
     ]
    },
    {
     "name": "stderr",
     "output_type": "stream",
     "text": [
      "Perturbing graph:  15%|█▌        | 39/253 [00:16<01:25,  2.49it/s]"
     ]
    },
    {
     "name": "stdout",
     "output_type": "stream",
     "text": [
      "GCN loss on unlabled data: 0.7486014366149902\n",
      "GCN acc on unlabled data: 0.8126955744300403\n",
      "attack loss: 0.30322369933128357\n"
     ]
    },
    {
     "name": "stderr",
     "output_type": "stream",
     "text": [
      "Perturbing graph:  16%|█▌        | 40/253 [00:16<01:25,  2.50it/s]"
     ]
    },
    {
     "name": "stdout",
     "output_type": "stream",
     "text": [
      "GCN loss on unlabled data: 0.7111399173736572\n",
      "GCN acc on unlabled data: 0.8131426016987037\n",
      "attack loss: 0.29336944222450256\n"
     ]
    },
    {
     "name": "stderr",
     "output_type": "stream",
     "text": [
      "Perturbing graph:  16%|█▌        | 41/253 [00:16<01:25,  2.49it/s]"
     ]
    },
    {
     "name": "stdout",
     "output_type": "stream",
     "text": [
      "GCN loss on unlabled data: 0.734906017780304\n",
      "GCN acc on unlabled data: 0.8095663835493966\n",
      "attack loss: 0.29230841994285583\n"
     ]
    },
    {
     "name": "stderr",
     "output_type": "stream",
     "text": [
      "Perturbing graph:  17%|█▋        | 42/253 [00:17<01:24,  2.49it/s]"
     ]
    },
    {
     "name": "stdout",
     "output_type": "stream",
     "text": [
      "GCN loss on unlabled data: 0.7425245642662048\n",
      "GCN acc on unlabled data: 0.8135896289673671\n",
      "attack loss: 0.29778358340263367\n"
     ]
    },
    {
     "name": "stderr",
     "output_type": "stream",
     "text": [
      "Perturbing graph:  17%|█▋        | 43/253 [00:17<01:24,  2.49it/s]"
     ]
    },
    {
     "name": "stdout",
     "output_type": "stream",
     "text": [
      "GCN loss on unlabled data: 0.74993896484375\n",
      "GCN acc on unlabled data: 0.8037550290567725\n",
      "attack loss: 0.29986631870269775\n"
     ]
    },
    {
     "name": "stderr",
     "output_type": "stream",
     "text": [
      "Perturbing graph:  17%|█▋        | 44/253 [00:18<01:23,  2.50it/s]"
     ]
    },
    {
     "name": "stdout",
     "output_type": "stream",
     "text": [
      "GCN loss on unlabled data: 0.763163149356842\n",
      "GCN acc on unlabled data: 0.8100134108180599\n",
      "attack loss: 0.30811265110969543\n"
     ]
    },
    {
     "name": "stderr",
     "output_type": "stream",
     "text": [
      "Perturbing graph:  18%|█▊        | 45/253 [00:18<01:23,  2.50it/s]"
     ]
    },
    {
     "name": "stdout",
     "output_type": "stream",
     "text": [
      "GCN loss on unlabled data: 0.7552229166030884\n",
      "GCN acc on unlabled data: 0.8122485471613768\n",
      "attack loss: 0.30441224575042725\n"
     ]
    },
    {
     "name": "stderr",
     "output_type": "stream",
     "text": [
      "Perturbing graph:  18%|█▊        | 46/253 [00:18<01:22,  2.50it/s]"
     ]
    },
    {
     "name": "stdout",
     "output_type": "stream",
     "text": [
      "GCN loss on unlabled data: 0.7509596347808838\n",
      "GCN acc on unlabled data: 0.8086723290120698\n",
      "attack loss: 0.3032352030277252\n"
     ]
    },
    {
     "name": "stderr",
     "output_type": "stream",
     "text": [
      "Perturbing graph:  19%|█▊        | 47/253 [00:19<01:22,  2.50it/s]"
     ]
    },
    {
     "name": "stdout",
     "output_type": "stream",
     "text": [
      "GCN loss on unlabled data: 0.7445359826087952\n",
      "GCN acc on unlabled data: 0.8109074653553867\n",
      "attack loss: 0.3051680028438568\n"
     ]
    },
    {
     "name": "stderr",
     "output_type": "stream",
     "text": [
      "Perturbing graph:  19%|█▉        | 48/253 [00:19<01:22,  2.48it/s]"
     ]
    },
    {
     "name": "stdout",
     "output_type": "stream",
     "text": [
      "GCN loss on unlabled data: 0.7548935413360596\n",
      "GCN acc on unlabled data: 0.8091193562807332\n",
      "attack loss: 0.3071368932723999\n"
     ]
    },
    {
     "name": "stderr",
     "output_type": "stream",
     "text": [
      "Perturbing graph:  19%|█▉        | 49/253 [00:20<01:21,  2.49it/s]"
     ]
    },
    {
     "name": "stdout",
     "output_type": "stream",
     "text": [
      "GCN loss on unlabled data: 0.7449649572372437\n",
      "GCN acc on unlabled data: 0.8091193562807332\n",
      "attack loss: 0.30904051661491394\n"
     ]
    },
    {
     "name": "stderr",
     "output_type": "stream",
     "text": [
      "Perturbing graph:  20%|█▉        | 50/253 [00:20<01:21,  2.49it/s]"
     ]
    },
    {
     "name": "stdout",
     "output_type": "stream",
     "text": [
      "GCN loss on unlabled data: 0.772707462310791\n",
      "GCN acc on unlabled data: 0.8091193562807332\n",
      "attack loss: 0.31093505024909973\n"
     ]
    },
    {
     "name": "stderr",
     "output_type": "stream",
     "text": [
      "Perturbing graph:  20%|██        | 51/253 [00:20<01:21,  2.49it/s]"
     ]
    },
    {
     "name": "stdout",
     "output_type": "stream",
     "text": [
      "GCN loss on unlabled data: 0.7809315919876099\n",
      "GCN acc on unlabled data: 0.8095663835493966\n",
      "attack loss: 0.31478503346443176\n"
     ]
    },
    {
     "name": "stderr",
     "output_type": "stream",
     "text": [
      "Perturbing graph:  21%|██        | 52/253 [00:21<01:20,  2.49it/s]"
     ]
    },
    {
     "name": "stdout",
     "output_type": "stream",
     "text": [
      "GCN loss on unlabled data: 0.764856219291687\n",
      "GCN acc on unlabled data: 0.8100134108180599\n",
      "attack loss: 0.31252551078796387\n"
     ]
    },
    {
     "name": "stderr",
     "output_type": "stream",
     "text": [
      "Perturbing graph:  21%|██        | 53/253 [00:21<01:20,  2.49it/s]"
     ]
    },
    {
     "name": "stdout",
     "output_type": "stream",
     "text": [
      "GCN loss on unlabled data: 0.7738198637962341\n",
      "GCN acc on unlabled data: 0.8055431381314261\n",
      "attack loss: 0.3169664144515991\n"
     ]
    },
    {
     "name": "stderr",
     "output_type": "stream",
     "text": [
      "Perturbing graph:  21%|██▏       | 54/253 [00:22<01:20,  2.49it/s]"
     ]
    },
    {
     "name": "stdout",
     "output_type": "stream",
     "text": [
      "GCN loss on unlabled data: 0.7864672541618347\n",
      "GCN acc on unlabled data: 0.8015198927134556\n",
      "attack loss: 0.31815576553344727\n"
     ]
    },
    {
     "name": "stderr",
     "output_type": "stream",
     "text": [
      "Perturbing graph:  22%|██▏       | 55/253 [00:22<01:19,  2.49it/s]"
     ]
    },
    {
     "name": "stdout",
     "output_type": "stream",
     "text": [
      "GCN loss on unlabled data: 0.7600840330123901\n",
      "GCN acc on unlabled data: 0.8033080017881091\n",
      "attack loss: 0.31935352087020874\n"
     ]
    },
    {
     "name": "stderr",
     "output_type": "stream",
     "text": [
      "Perturbing graph:  22%|██▏       | 56/253 [00:22<01:18,  2.50it/s]"
     ]
    },
    {
     "name": "stdout",
     "output_type": "stream",
     "text": [
      "GCN loss on unlabled data: 0.7884547114372253\n",
      "GCN acc on unlabled data: 0.8050961108627627\n",
      "attack loss: 0.32216987013816833\n"
     ]
    },
    {
     "name": "stderr",
     "output_type": "stream",
     "text": [
      "Perturbing graph:  23%|██▎       | 57/253 [00:23<01:18,  2.49it/s]"
     ]
    },
    {
     "name": "stdout",
     "output_type": "stream",
     "text": [
      "GCN loss on unlabled data: 0.7643871903419495\n",
      "GCN acc on unlabled data: 0.8073312472060796\n",
      "attack loss: 0.3240199685096741\n"
     ]
    },
    {
     "name": "stderr",
     "output_type": "stream",
     "text": [
      "Perturbing graph:  23%|██▎       | 58/253 [00:23<01:18,  2.49it/s]"
     ]
    },
    {
     "name": "stdout",
     "output_type": "stream",
     "text": [
      "GCN loss on unlabled data: 0.7882394194602966\n",
      "GCN acc on unlabled data: 0.7970496200268217\n",
      "attack loss: 0.3250894248485565\n"
     ]
    },
    {
     "name": "stderr",
     "output_type": "stream",
     "text": [
      "Perturbing graph:  23%|██▎       | 59/253 [00:24<01:17,  2.49it/s]"
     ]
    },
    {
     "name": "stdout",
     "output_type": "stream",
     "text": [
      "GCN loss on unlabled data: 0.771367609500885\n",
      "GCN acc on unlabled data: 0.8055431381314261\n",
      "attack loss: 0.32597264647483826\n"
     ]
    },
    {
     "name": "stderr",
     "output_type": "stream",
     "text": [
      "Perturbing graph:  24%|██▎       | 60/253 [00:24<01:17,  2.50it/s]"
     ]
    },
    {
     "name": "stdout",
     "output_type": "stream",
     "text": [
      "GCN loss on unlabled data: 0.7876783609390259\n",
      "GCN acc on unlabled data: 0.8037550290567725\n",
      "attack loss: 0.33180269598960876\n"
     ]
    },
    {
     "name": "stderr",
     "output_type": "stream",
     "text": [
      "Perturbing graph:  24%|██▍       | 61/253 [00:24<01:16,  2.50it/s]"
     ]
    },
    {
     "name": "stdout",
     "output_type": "stream",
     "text": [
      "GCN loss on unlabled data: 0.7812538743019104\n",
      "GCN acc on unlabled data: 0.8028609745194457\n",
      "attack loss: 0.329654335975647\n"
     ]
    },
    {
     "name": "stderr",
     "output_type": "stream",
     "text": [
      "Perturbing graph:  25%|██▍       | 62/253 [00:25<01:16,  2.50it/s]"
     ]
    },
    {
     "name": "stdout",
     "output_type": "stream",
     "text": [
      "GCN loss on unlabled data: 0.76622474193573\n",
      "GCN acc on unlabled data: 0.8100134108180599\n",
      "attack loss: 0.32387131452560425\n"
     ]
    },
    {
     "name": "stderr",
     "output_type": "stream",
     "text": [
      "Perturbing graph:  25%|██▍       | 63/253 [00:25<01:16,  2.50it/s]"
     ]
    },
    {
     "name": "stdout",
     "output_type": "stream",
     "text": [
      "GCN loss on unlabled data: 0.8007838726043701\n",
      "GCN acc on unlabled data: 0.7970496200268217\n",
      "attack loss: 0.33446767926216125\n"
     ]
    },
    {
     "name": "stderr",
     "output_type": "stream",
     "text": [
      "Perturbing graph:  25%|██▌       | 64/253 [00:26<01:14,  2.54it/s]"
     ]
    },
    {
     "name": "stdout",
     "output_type": "stream",
     "text": [
      "GCN loss on unlabled data: 0.8137705326080322\n",
      "GCN acc on unlabled data: 0.8015198927134556\n",
      "attack loss: 0.3347359895706177\n"
     ]
    },
    {
     "name": "stderr",
     "output_type": "stream",
     "text": [
      "Perturbing graph:  26%|██▌       | 65/253 [00:26<01:13,  2.57it/s]"
     ]
    },
    {
     "name": "stdout",
     "output_type": "stream",
     "text": [
      "GCN loss on unlabled data: 0.8120560050010681\n",
      "GCN acc on unlabled data: 0.8050961108627627\n",
      "attack loss: 0.3406673073768616\n"
     ]
    },
    {
     "name": "stderr",
     "output_type": "stream",
     "text": [
      "Perturbing graph:  26%|██▌       | 66/253 [00:26<01:11,  2.60it/s]"
     ]
    },
    {
     "name": "stdout",
     "output_type": "stream",
     "text": [
      "GCN loss on unlabled data: 0.8161976337432861\n",
      "GCN acc on unlabled data: 0.8019669199821189\n",
      "attack loss: 0.3408184051513672\n"
     ]
    },
    {
     "name": "stderr",
     "output_type": "stream",
     "text": [
      "Perturbing graph:  26%|██▋       | 67/253 [00:27<01:10,  2.63it/s]"
     ]
    },
    {
     "name": "stdout",
     "output_type": "stream",
     "text": [
      "GCN loss on unlabled data: 0.7891028523445129\n",
      "GCN acc on unlabled data: 0.8037550290567725\n",
      "attack loss: 0.32976800203323364\n"
     ]
    },
    {
     "name": "stderr",
     "output_type": "stream",
     "text": [
      "Perturbing graph:  27%|██▋       | 68/253 [00:27<01:09,  2.66it/s]"
     ]
    },
    {
     "name": "stdout",
     "output_type": "stream",
     "text": [
      "GCN loss on unlabled data: 0.8141334652900696\n",
      "GCN acc on unlabled data: 0.7983907018328118\n",
      "attack loss: 0.3390156030654907\n"
     ]
    },
    {
     "name": "stderr",
     "output_type": "stream",
     "text": [
      "Perturbing graph:  27%|██▋       | 69/253 [00:27<01:08,  2.69it/s]"
     ]
    },
    {
     "name": "stdout",
     "output_type": "stream",
     "text": [
      "GCN loss on unlabled data: 0.7985433340072632\n",
      "GCN acc on unlabled data: 0.8033080017881091\n",
      "attack loss: 0.3335363268852234\n"
     ]
    },
    {
     "name": "stderr",
     "output_type": "stream",
     "text": [
      "Perturbing graph:  28%|██▊       | 70/253 [00:28<01:07,  2.71it/s]"
     ]
    },
    {
     "name": "stdout",
     "output_type": "stream",
     "text": [
      "GCN loss on unlabled data: 0.7818484306335449\n",
      "GCN acc on unlabled data: 0.8064371926687528\n",
      "attack loss: 0.3360910415649414\n"
     ]
    },
    {
     "name": "stderr",
     "output_type": "stream",
     "text": [
      "Perturbing graph:  28%|██▊       | 71/253 [00:28<01:06,  2.72it/s]"
     ]
    },
    {
     "name": "stdout",
     "output_type": "stream",
     "text": [
      "GCN loss on unlabled data: 0.7904876470565796\n",
      "GCN acc on unlabled data: 0.8068842199374162\n",
      "attack loss: 0.3421420753002167\n"
     ]
    },
    {
     "name": "stderr",
     "output_type": "stream",
     "text": [
      "Perturbing graph:  28%|██▊       | 72/253 [00:28<01:06,  2.73it/s]"
     ]
    },
    {
     "name": "stdout",
     "output_type": "stream",
     "text": [
      "GCN loss on unlabled data: 0.8138433694839478\n",
      "GCN acc on unlabled data: 0.8001788109074653\n",
      "attack loss: 0.351224422454834\n"
     ]
    },
    {
     "name": "stderr",
     "output_type": "stream",
     "text": [
      "Perturbing graph:  29%|██▉       | 73/253 [00:29<01:05,  2.74it/s]"
     ]
    },
    {
     "name": "stdout",
     "output_type": "stream",
     "text": [
      "GCN loss on unlabled data: 0.8256057500839233\n",
      "GCN acc on unlabled data: 0.7992847563701386\n",
      "attack loss: 0.3535314202308655\n"
     ]
    },
    {
     "name": "stderr",
     "output_type": "stream",
     "text": [
      "Perturbing graph:  29%|██▉       | 74/253 [00:29<01:05,  2.73it/s]"
     ]
    },
    {
     "name": "stdout",
     "output_type": "stream",
     "text": [
      "GCN loss on unlabled data: 0.8024880290031433\n",
      "GCN acc on unlabled data: 0.8006258381761288\n",
      "attack loss: 0.33609139919281006\n"
     ]
    },
    {
     "name": "stderr",
     "output_type": "stream",
     "text": [
      "Perturbing graph:  30%|██▉       | 75/253 [00:30<01:05,  2.73it/s]"
     ]
    },
    {
     "name": "stdout",
     "output_type": "stream",
     "text": [
      "GCN loss on unlabled data: 0.8281340599060059\n",
      "GCN acc on unlabled data: 0.8019669199821189\n",
      "attack loss: 0.3543235659599304\n"
     ]
    },
    {
     "name": "stderr",
     "output_type": "stream",
     "text": [
      "Perturbing graph:  30%|███       | 76/253 [00:30<01:04,  2.74it/s]"
     ]
    },
    {
     "name": "stdout",
     "output_type": "stream",
     "text": [
      "GCN loss on unlabled data: 0.8032114505767822\n",
      "GCN acc on unlabled data: 0.799731783638802\n",
      "attack loss: 0.34645867347717285\n"
     ]
    },
    {
     "name": "stderr",
     "output_type": "stream",
     "text": [
      "Perturbing graph:  30%|███       | 77/253 [00:30<01:05,  2.67it/s]"
     ]
    },
    {
     "name": "stdout",
     "output_type": "stream",
     "text": [
      "GCN loss on unlabled data: 0.8169575929641724\n",
      "GCN acc on unlabled data: 0.8015198927134556\n",
      "attack loss: 0.34491199254989624\n"
     ]
    },
    {
     "name": "stderr",
     "output_type": "stream",
     "text": [
      "Perturbing graph:  31%|███       | 78/253 [00:31<01:07,  2.61it/s]"
     ]
    },
    {
     "name": "stdout",
     "output_type": "stream",
     "text": [
      "GCN loss on unlabled data: 0.826996922492981\n",
      "GCN acc on unlabled data: 0.8019669199821189\n",
      "attack loss: 0.3478133976459503\n"
     ]
    },
    {
     "name": "stderr",
     "output_type": "stream",
     "text": [
      "Perturbing graph:  31%|███       | 79/253 [00:31<01:07,  2.57it/s]"
     ]
    },
    {
     "name": "stdout",
     "output_type": "stream",
     "text": [
      "GCN loss on unlabled data: 0.8298143744468689\n",
      "GCN acc on unlabled data: 0.7970496200268217\n",
      "attack loss: 0.3528738021850586\n"
     ]
    },
    {
     "name": "stderr",
     "output_type": "stream",
     "text": [
      "Perturbing graph:  32%|███▏      | 80/253 [00:32<01:08,  2.54it/s]"
     ]
    },
    {
     "name": "stdout",
     "output_type": "stream",
     "text": [
      "GCN loss on unlabled data: 0.8358713388442993\n",
      "GCN acc on unlabled data: 0.8010728654447922\n",
      "attack loss: 0.35857638716697693\n"
     ]
    },
    {
     "name": "stderr",
     "output_type": "stream",
     "text": [
      "Perturbing graph:  32%|███▏      | 81/253 [00:32<01:08,  2.52it/s]"
     ]
    },
    {
     "name": "stdout",
     "output_type": "stream",
     "text": [
      "GCN loss on unlabled data: 0.8660016059875488\n",
      "GCN acc on unlabled data: 0.7921323200715243\n",
      "attack loss: 0.3694473206996918\n"
     ]
    },
    {
     "name": "stderr",
     "output_type": "stream",
     "text": [
      "Perturbing graph:  32%|███▏      | 82/253 [00:32<01:08,  2.50it/s]"
     ]
    },
    {
     "name": "stdout",
     "output_type": "stream",
     "text": [
      "GCN loss on unlabled data: 0.8130794763565063\n",
      "GCN acc on unlabled data: 0.7961555654894948\n",
      "attack loss: 0.35223591327667236\n"
     ]
    },
    {
     "name": "stderr",
     "output_type": "stream",
     "text": [
      "Perturbing graph:  33%|███▎      | 83/253 [00:33<01:08,  2.49it/s]"
     ]
    },
    {
     "name": "stdout",
     "output_type": "stream",
     "text": [
      "GCN loss on unlabled data: 0.8419896364212036\n",
      "GCN acc on unlabled data: 0.7979436745641484\n",
      "attack loss: 0.3598129153251648\n"
     ]
    },
    {
     "name": "stderr",
     "output_type": "stream",
     "text": [
      "Perturbing graph:  33%|███▎      | 84/253 [00:33<01:07,  2.49it/s]"
     ]
    },
    {
     "name": "stdout",
     "output_type": "stream",
     "text": [
      "GCN loss on unlabled data: 0.8407581448554993\n",
      "GCN acc on unlabled data: 0.799731783638802\n",
      "attack loss: 0.37305521965026855\n"
     ]
    },
    {
     "name": "stderr",
     "output_type": "stream",
     "text": [
      "Perturbing graph:  34%|███▎      | 85/253 [00:34<01:07,  2.49it/s]"
     ]
    },
    {
     "name": "stdout",
     "output_type": "stream",
     "text": [
      "GCN loss on unlabled data: 0.846311628818512\n",
      "GCN acc on unlabled data: 0.7943674564148413\n",
      "attack loss: 0.3649704158306122\n"
     ]
    },
    {
     "name": "stderr",
     "output_type": "stream",
     "text": [
      "Perturbing graph:  34%|███▍      | 86/253 [00:34<01:07,  2.49it/s]"
     ]
    },
    {
     "name": "stdout",
     "output_type": "stream",
     "text": [
      "GCN loss on unlabled data: 0.8565061092376709\n",
      "GCN acc on unlabled data: 0.8006258381761288\n",
      "attack loss: 0.37179774045944214\n"
     ]
    },
    {
     "name": "stderr",
     "output_type": "stream",
     "text": [
      "Perturbing graph:  34%|███▍      | 87/253 [00:34<01:06,  2.49it/s]"
     ]
    },
    {
     "name": "stdout",
     "output_type": "stream",
     "text": [
      "GCN loss on unlabled data: 0.8324933648109436\n",
      "GCN acc on unlabled data: 0.7943674564148413\n",
      "attack loss: 0.36240044236183167\n"
     ]
    },
    {
     "name": "stderr",
     "output_type": "stream",
     "text": [
      "Perturbing graph:  35%|███▍      | 88/253 [00:35<01:06,  2.48it/s]"
     ]
    },
    {
     "name": "stdout",
     "output_type": "stream",
     "text": [
      "GCN loss on unlabled data: 0.8373522162437439\n",
      "GCN acc on unlabled data: 0.7961555654894948\n",
      "attack loss: 0.3610595166683197\n"
     ]
    },
    {
     "name": "stderr",
     "output_type": "stream",
     "text": [
      "Perturbing graph:  35%|███▌      | 89/253 [00:35<01:05,  2.49it/s]"
     ]
    },
    {
     "name": "stdout",
     "output_type": "stream",
     "text": [
      "GCN loss on unlabled data: 0.8908414840698242\n",
      "GCN acc on unlabled data: 0.7863209655789003\n",
      "attack loss: 0.3911975920200348\n"
     ]
    },
    {
     "name": "stderr",
     "output_type": "stream",
     "text": [
      "Perturbing graph:  36%|███▌      | 90/253 [00:36<01:05,  2.50it/s]"
     ]
    },
    {
     "name": "stdout",
     "output_type": "stream",
     "text": [
      "GCN loss on unlabled data: 0.8316946029663086\n",
      "GCN acc on unlabled data: 0.7912382655341976\n",
      "attack loss: 0.3624263405799866\n"
     ]
    },
    {
     "name": "stderr",
     "output_type": "stream",
     "text": [
      "Perturbing graph:  36%|███▌      | 91/253 [00:36<01:05,  2.49it/s]"
     ]
    },
    {
     "name": "stdout",
     "output_type": "stream",
     "text": [
      "GCN loss on unlabled data: 0.8654561638832092\n",
      "GCN acc on unlabled data: 0.7948144836835047\n",
      "attack loss: 0.3752897381782532\n"
     ]
    },
    {
     "name": "stderr",
     "output_type": "stream",
     "text": [
      "Perturbing graph:  36%|███▋      | 92/253 [00:36<01:04,  2.49it/s]"
     ]
    },
    {
     "name": "stdout",
     "output_type": "stream",
     "text": [
      "GCN loss on unlabled data: 0.8792176842689514\n",
      "GCN acc on unlabled data: 0.7925793473401878\n",
      "attack loss: 0.38875824213027954\n"
     ]
    },
    {
     "name": "stderr",
     "output_type": "stream",
     "text": [
      "Perturbing graph:  37%|███▋      | 93/253 [00:37<01:04,  2.49it/s]"
     ]
    },
    {
     "name": "stdout",
     "output_type": "stream",
     "text": [
      "GCN loss on unlabled data: 0.8863317370414734\n",
      "GCN acc on unlabled data: 0.7966025927581583\n",
      "attack loss: 0.39327472448349\n"
     ]
    },
    {
     "name": "stderr",
     "output_type": "stream",
     "text": [
      "Perturbing graph:  37%|███▋      | 94/253 [00:37<01:04,  2.48it/s]"
     ]
    },
    {
     "name": "stdout",
     "output_type": "stream",
     "text": [
      "GCN loss on unlabled data: 0.8594182729721069\n",
      "GCN acc on unlabled data: 0.7974966472954851\n",
      "attack loss: 0.3840782940387726\n"
     ]
    },
    {
     "name": "stderr",
     "output_type": "stream",
     "text": [
      "Perturbing graph:  38%|███▊      | 95/253 [00:38<01:03,  2.48it/s]"
     ]
    },
    {
     "name": "stdout",
     "output_type": "stream",
     "text": [
      "GCN loss on unlabled data: 0.8618478775024414\n",
      "GCN acc on unlabled data: 0.7961555654894948\n",
      "attack loss: 0.38030382990837097\n"
     ]
    },
    {
     "name": "stderr",
     "output_type": "stream",
     "text": [
      "Perturbing graph:  38%|███▊      | 96/253 [00:38<01:03,  2.49it/s]"
     ]
    },
    {
     "name": "stdout",
     "output_type": "stream",
     "text": [
      "GCN loss on unlabled data: 0.8571615815162659\n",
      "GCN acc on unlabled data: 0.7961555654894948\n",
      "attack loss: 0.3835553526878357\n"
     ]
    },
    {
     "name": "stderr",
     "output_type": "stream",
     "text": [
      "Perturbing graph:  38%|███▊      | 97/253 [00:38<01:02,  2.49it/s]"
     ]
    },
    {
     "name": "stdout",
     "output_type": "stream",
     "text": [
      "GCN loss on unlabled data: 0.8814486265182495\n",
      "GCN acc on unlabled data: 0.7943674564148413\n",
      "attack loss: 0.39871177077293396\n"
     ]
    },
    {
     "name": "stderr",
     "output_type": "stream",
     "text": [
      "Perturbing graph:  39%|███▊      | 98/253 [00:39<01:02,  2.49it/s]"
     ]
    },
    {
     "name": "stdout",
     "output_type": "stream",
     "text": [
      "GCN loss on unlabled data: 0.8856326937675476\n",
      "GCN acc on unlabled data: 0.7930263746088512\n",
      "attack loss: 0.3994395434856415\n"
     ]
    },
    {
     "name": "stderr",
     "output_type": "stream",
     "text": [
      "Perturbing graph:  39%|███▉      | 99/253 [00:39<01:02,  2.48it/s]"
     ]
    },
    {
     "name": "stdout",
     "output_type": "stream",
     "text": [
      "GCN loss on unlabled data: 0.8965563178062439\n",
      "GCN acc on unlabled data: 0.7930263746088512\n",
      "attack loss: 0.4029961824417114\n"
     ]
    },
    {
     "name": "stderr",
     "output_type": "stream",
     "text": [
      "Perturbing graph:  40%|███▉      | 100/253 [00:40<01:01,  2.48it/s]"
     ]
    },
    {
     "name": "stdout",
     "output_type": "stream",
     "text": [
      "GCN loss on unlabled data: 0.8983699083328247\n",
      "GCN acc on unlabled data: 0.7907912382655342\n",
      "attack loss: 0.40303662419319153\n"
     ]
    },
    {
     "name": "stderr",
     "output_type": "stream",
     "text": [
      "Perturbing graph:  40%|███▉      | 101/253 [00:40<01:01,  2.49it/s]"
     ]
    },
    {
     "name": "stdout",
     "output_type": "stream",
     "text": [
      "GCN loss on unlabled data: 0.9038384556770325\n",
      "GCN acc on unlabled data: 0.7881090746535538\n",
      "attack loss: 0.40746980905532837\n"
     ]
    },
    {
     "name": "stderr",
     "output_type": "stream",
     "text": [
      "Perturbing graph:  40%|████      | 102/253 [00:40<01:00,  2.49it/s]"
     ]
    },
    {
     "name": "stdout",
     "output_type": "stream",
     "text": [
      "GCN loss on unlabled data: 0.9117090702056885\n",
      "GCN acc on unlabled data: 0.7890031291908807\n",
      "attack loss: 0.40717729926109314\n"
     ]
    },
    {
     "name": "stderr",
     "output_type": "stream",
     "text": [
      "Perturbing graph:  41%|████      | 103/253 [00:41<01:00,  2.49it/s]"
     ]
    },
    {
     "name": "stdout",
     "output_type": "stream",
     "text": [
      "GCN loss on unlabled data: 0.8852046728134155\n",
      "GCN acc on unlabled data: 0.7912382655341976\n",
      "attack loss: 0.3962976038455963\n"
     ]
    },
    {
     "name": "stderr",
     "output_type": "stream",
     "text": [
      "Perturbing graph:  41%|████      | 104/253 [00:41<00:59,  2.49it/s]"
     ]
    },
    {
     "name": "stdout",
     "output_type": "stream",
     "text": [
      "GCN loss on unlabled data: 0.9092557430267334\n",
      "GCN acc on unlabled data: 0.7867679928475637\n",
      "attack loss: 0.4052465260028839\n"
     ]
    },
    {
     "name": "stderr",
     "output_type": "stream",
     "text": [
      "Perturbing graph:  42%|████▏     | 105/253 [00:42<00:59,  2.48it/s]"
     ]
    },
    {
     "name": "stdout",
     "output_type": "stream",
     "text": [
      "GCN loss on unlabled data: 0.8885942697525024\n",
      "GCN acc on unlabled data: 0.7894501564595441\n",
      "attack loss: 0.40218955278396606\n"
     ]
    },
    {
     "name": "stderr",
     "output_type": "stream",
     "text": [
      "Perturbing graph:  42%|████▏     | 106/253 [00:42<00:59,  2.48it/s]"
     ]
    },
    {
     "name": "stdout",
     "output_type": "stream",
     "text": [
      "GCN loss on unlabled data: 0.9228925704956055\n",
      "GCN acc on unlabled data: 0.7885561019222173\n",
      "attack loss: 0.4201968014240265\n"
     ]
    },
    {
     "name": "stderr",
     "output_type": "stream",
     "text": [
      "Perturbing graph:  42%|████▏     | 107/253 [00:42<00:58,  2.48it/s]"
     ]
    },
    {
     "name": "stdout",
     "output_type": "stream",
     "text": [
      "GCN loss on unlabled data: 0.9233871102333069\n",
      "GCN acc on unlabled data: 0.7881090746535538\n",
      "attack loss: 0.41534167528152466\n"
     ]
    },
    {
     "name": "stderr",
     "output_type": "stream",
     "text": [
      "Perturbing graph:  43%|████▎     | 108/253 [00:43<00:57,  2.50it/s]"
     ]
    },
    {
     "name": "stdout",
     "output_type": "stream",
     "text": [
      "GCN loss on unlabled data: 0.9256936311721802\n",
      "GCN acc on unlabled data: 0.791685292802861\n",
      "attack loss: 0.41997310519218445\n"
     ]
    },
    {
     "name": "stderr",
     "output_type": "stream",
     "text": [
      "Perturbing graph:  43%|████▎     | 109/253 [00:43<00:57,  2.50it/s]"
     ]
    },
    {
     "name": "stdout",
     "output_type": "stream",
     "text": [
      "GCN loss on unlabled data: 0.9496247172355652\n",
      "GCN acc on unlabled data: 0.7898971837282075\n",
      "attack loss: 0.42597559094429016\n"
     ]
    },
    {
     "name": "stderr",
     "output_type": "stream",
     "text": [
      "Perturbing graph:  43%|████▎     | 110/253 [00:44<00:57,  2.49it/s]"
     ]
    },
    {
     "name": "stdout",
     "output_type": "stream",
     "text": [
      "GCN loss on unlabled data: 0.9462938904762268\n",
      "GCN acc on unlabled data: 0.7890031291908807\n",
      "attack loss: 0.4271494150161743\n"
     ]
    },
    {
     "name": "stderr",
     "output_type": "stream",
     "text": [
      "Perturbing graph:  44%|████▍     | 111/253 [00:44<00:56,  2.49it/s]"
     ]
    },
    {
     "name": "stdout",
     "output_type": "stream",
     "text": [
      "GCN loss on unlabled data: 0.9376493096351624\n",
      "GCN acc on unlabled data: 0.7885561019222173\n",
      "attack loss: 0.42959073185920715\n"
     ]
    },
    {
     "name": "stderr",
     "output_type": "stream",
     "text": [
      "Perturbing graph:  44%|████▍     | 112/253 [00:44<00:56,  2.49it/s]"
     ]
    },
    {
     "name": "stdout",
     "output_type": "stream",
     "text": [
      "GCN loss on unlabled data: 0.9335577487945557\n",
      "GCN acc on unlabled data: 0.7903442109968708\n",
      "attack loss: 0.42137444019317627\n"
     ]
    },
    {
     "name": "stderr",
     "output_type": "stream",
     "text": [
      "Perturbing graph:  45%|████▍     | 113/253 [00:45<00:56,  2.49it/s]"
     ]
    },
    {
     "name": "stdout",
     "output_type": "stream",
     "text": [
      "GCN loss on unlabled data: 0.9101959466934204\n",
      "GCN acc on unlabled data: 0.791685292802861\n",
      "attack loss: 0.4135590195655823\n"
     ]
    },
    {
     "name": "stderr",
     "output_type": "stream",
     "text": [
      "Perturbing graph:  45%|████▌     | 114/253 [00:45<00:55,  2.49it/s]"
     ]
    },
    {
     "name": "stdout",
     "output_type": "stream",
     "text": [
      "GCN loss on unlabled data: 0.9389782547950745\n",
      "GCN acc on unlabled data: 0.7894501564595441\n",
      "attack loss: 0.42499494552612305\n"
     ]
    },
    {
     "name": "stderr",
     "output_type": "stream",
     "text": [
      "Perturbing graph:  45%|████▌     | 115/253 [00:46<00:55,  2.49it/s]"
     ]
    },
    {
     "name": "stdout",
     "output_type": "stream",
     "text": [
      "GCN loss on unlabled data: 0.9598479866981506\n",
      "GCN acc on unlabled data: 0.7934734018775146\n",
      "attack loss: 0.42920050024986267\n"
     ]
    },
    {
     "name": "stderr",
     "output_type": "stream",
     "text": [
      "Perturbing graph:  46%|████▌     | 116/253 [00:46<00:55,  2.48it/s]"
     ]
    },
    {
     "name": "stdout",
     "output_type": "stream",
     "text": [
      "GCN loss on unlabled data: 0.9375857710838318\n",
      "GCN acc on unlabled data: 0.7827447474295932\n",
      "attack loss: 0.4297226667404175\n"
     ]
    },
    {
     "name": "stderr",
     "output_type": "stream",
     "text": [
      "Perturbing graph:  46%|████▌     | 117/253 [00:46<00:54,  2.48it/s]"
     ]
    },
    {
     "name": "stdout",
     "output_type": "stream",
     "text": [
      "GCN loss on unlabled data: 0.9371044039726257\n",
      "GCN acc on unlabled data: 0.7831917746982566\n",
      "attack loss: 0.4265943169593811\n"
     ]
    },
    {
     "name": "stderr",
     "output_type": "stream",
     "text": [
      "Perturbing graph:  47%|████▋     | 118/253 [00:47<00:54,  2.48it/s]"
     ]
    },
    {
     "name": "stdout",
     "output_type": "stream",
     "text": [
      "GCN loss on unlabled data: 0.9436761736869812\n",
      "GCN acc on unlabled data: 0.7930263746088512\n",
      "attack loss: 0.426032155752182\n"
     ]
    },
    {
     "name": "stderr",
     "output_type": "stream",
     "text": [
      "Perturbing graph:  47%|████▋     | 119/253 [00:47<00:54,  2.48it/s]"
     ]
    },
    {
     "name": "stdout",
     "output_type": "stream",
     "text": [
      "GCN loss on unlabled data: 0.9616738557815552\n",
      "GCN acc on unlabled data: 0.7881090746535538\n",
      "attack loss: 0.43579038977622986\n"
     ]
    },
    {
     "name": "stderr",
     "output_type": "stream",
     "text": [
      "Perturbing graph:  47%|████▋     | 120/253 [00:48<00:53,  2.51it/s]"
     ]
    },
    {
     "name": "stdout",
     "output_type": "stream",
     "text": [
      "GCN loss on unlabled data: 0.924159586429596\n",
      "GCN acc on unlabled data: 0.7845328565042468\n",
      "attack loss: 0.4282167851924896\n"
     ]
    },
    {
     "name": "stderr",
     "output_type": "stream",
     "text": [
      "Perturbing graph:  48%|████▊     | 121/253 [00:48<00:52,  2.50it/s]"
     ]
    },
    {
     "name": "stdout",
     "output_type": "stream",
     "text": [
      "GCN loss on unlabled data: 0.9363171458244324\n",
      "GCN acc on unlabled data: 0.7894501564595441\n",
      "attack loss: 0.4280077815055847\n"
     ]
    },
    {
     "name": "stderr",
     "output_type": "stream",
     "text": [
      "Perturbing graph:  48%|████▊     | 122/253 [00:48<00:52,  2.50it/s]"
     ]
    },
    {
     "name": "stdout",
     "output_type": "stream",
     "text": [
      "GCN loss on unlabled data: 0.9503281116485596\n",
      "GCN acc on unlabled data: 0.7876620473848905\n",
      "attack loss: 0.4448772668838501\n"
     ]
    },
    {
     "name": "stderr",
     "output_type": "stream",
     "text": [
      "Perturbing graph:  49%|████▊     | 123/253 [00:49<00:52,  2.49it/s]"
     ]
    },
    {
     "name": "stdout",
     "output_type": "stream",
     "text": [
      "GCN loss on unlabled data: 0.9370500445365906\n",
      "GCN acc on unlabled data: 0.7898971837282075\n",
      "attack loss: 0.4380848705768585\n"
     ]
    },
    {
     "name": "stderr",
     "output_type": "stream",
     "text": [
      "Perturbing graph:  49%|████▉     | 124/253 [00:49<00:51,  2.49it/s]"
     ]
    },
    {
     "name": "stdout",
     "output_type": "stream",
     "text": [
      "GCN loss on unlabled data: 0.9540407657623291\n",
      "GCN acc on unlabled data: 0.7863209655789003\n",
      "attack loss: 0.44314080476760864\n"
     ]
    },
    {
     "name": "stderr",
     "output_type": "stream",
     "text": [
      "Perturbing graph:  49%|████▉     | 125/253 [00:50<00:51,  2.48it/s]"
     ]
    },
    {
     "name": "stdout",
     "output_type": "stream",
     "text": [
      "GCN loss on unlabled data: 0.957574188709259\n",
      "GCN acc on unlabled data: 0.7894501564595441\n",
      "attack loss: 0.44046223163604736\n"
     ]
    },
    {
     "name": "stderr",
     "output_type": "stream",
     "text": [
      "Perturbing graph:  50%|████▉     | 126/253 [00:50<00:51,  2.48it/s]"
     ]
    },
    {
     "name": "stdout",
     "output_type": "stream",
     "text": [
      "GCN loss on unlabled data: 0.9800841212272644\n",
      "GCN acc on unlabled data: 0.7863209655789003\n",
      "attack loss: 0.4572770297527313\n"
     ]
    },
    {
     "name": "stderr",
     "output_type": "stream",
     "text": [
      "Perturbing graph:  50%|█████     | 127/253 [00:50<00:50,  2.48it/s]"
     ]
    },
    {
     "name": "stdout",
     "output_type": "stream",
     "text": [
      "GCN loss on unlabled data: 0.9923420548439026\n",
      "GCN acc on unlabled data: 0.7890031291908807\n",
      "attack loss: 0.46042078733444214\n"
     ]
    },
    {
     "name": "stderr",
     "output_type": "stream",
     "text": [
      "Perturbing graph:  51%|█████     | 128/253 [00:51<00:50,  2.48it/s]"
     ]
    },
    {
     "name": "stdout",
     "output_type": "stream",
     "text": [
      "GCN loss on unlabled data: 0.9982324242591858\n",
      "GCN acc on unlabled data: 0.7881090746535538\n",
      "attack loss: 0.46852239966392517\n"
     ]
    },
    {
     "name": "stderr",
     "output_type": "stream",
     "text": [
      "Perturbing graph:  51%|█████     | 129/253 [00:51<00:49,  2.49it/s]"
     ]
    },
    {
     "name": "stdout",
     "output_type": "stream",
     "text": [
      "GCN loss on unlabled data: 0.9497244954109192\n",
      "GCN acc on unlabled data: 0.785873938310237\n",
      "attack loss: 0.4459120035171509\n"
     ]
    },
    {
     "name": "stderr",
     "output_type": "stream",
     "text": [
      "Perturbing graph:  51%|█████▏    | 130/253 [00:52<00:49,  2.48it/s]"
     ]
    },
    {
     "name": "stdout",
     "output_type": "stream",
     "text": [
      "GCN loss on unlabled data: 0.9802121520042419\n",
      "GCN acc on unlabled data: 0.7907912382655342\n",
      "attack loss: 0.45375755429267883\n"
     ]
    },
    {
     "name": "stderr",
     "output_type": "stream",
     "text": [
      "Perturbing graph:  52%|█████▏    | 131/253 [00:52<00:49,  2.48it/s]"
     ]
    },
    {
     "name": "stdout",
     "output_type": "stream",
     "text": [
      "GCN loss on unlabled data: 0.9595553874969482\n",
      "GCN acc on unlabled data: 0.7822977201609298\n",
      "attack loss: 0.44825682044029236\n"
     ]
    },
    {
     "name": "stderr",
     "output_type": "stream",
     "text": [
      "Perturbing graph:  52%|█████▏    | 132/253 [00:52<00:48,  2.48it/s]"
     ]
    },
    {
     "name": "stdout",
     "output_type": "stream",
     "text": [
      "GCN loss on unlabled data: 0.9797515869140625\n",
      "GCN acc on unlabled data: 0.7867679928475637\n",
      "attack loss: 0.45874226093292236\n"
     ]
    },
    {
     "name": "stderr",
     "output_type": "stream",
     "text": [
      "Perturbing graph:  53%|█████▎    | 133/253 [00:53<00:48,  2.49it/s]"
     ]
    },
    {
     "name": "stdout",
     "output_type": "stream",
     "text": [
      "GCN loss on unlabled data: 1.0069949626922607\n",
      "GCN acc on unlabled data: 0.7818506928922665\n",
      "attack loss: 0.46918341517448425\n"
     ]
    },
    {
     "name": "stderr",
     "output_type": "stream",
     "text": [
      "Perturbing graph:  53%|█████▎    | 134/253 [00:53<00:47,  2.49it/s]"
     ]
    },
    {
     "name": "stdout",
     "output_type": "stream",
     "text": [
      "GCN loss on unlabled data: 0.9808880686759949\n",
      "GCN acc on unlabled data: 0.78363880196692\n",
      "attack loss: 0.46638596057891846\n"
     ]
    },
    {
     "name": "stderr",
     "output_type": "stream",
     "text": [
      "Perturbing graph:  53%|█████▎    | 135/253 [00:54<00:47,  2.49it/s]"
     ]
    },
    {
     "name": "stdout",
     "output_type": "stream",
     "text": [
      "GCN loss on unlabled data: 0.9971131086349487\n",
      "GCN acc on unlabled data: 0.7863209655789003\n",
      "attack loss: 0.4658389687538147\n"
     ]
    },
    {
     "name": "stderr",
     "output_type": "stream",
     "text": [
      "Perturbing graph:  54%|█████▍    | 136/253 [00:54<00:46,  2.50it/s]"
     ]
    },
    {
     "name": "stdout",
     "output_type": "stream",
     "text": [
      "GCN loss on unlabled data: 1.0202713012695312\n",
      "GCN acc on unlabled data: 0.7791685292802861\n",
      "attack loss: 0.477672815322876\n"
     ]
    },
    {
     "name": "stderr",
     "output_type": "stream",
     "text": [
      "Perturbing graph:  54%|█████▍    | 137/253 [00:54<00:46,  2.50it/s]"
     ]
    },
    {
     "name": "stdout",
     "output_type": "stream",
     "text": [
      "GCN loss on unlabled data: 1.0006434917449951\n",
      "GCN acc on unlabled data: 0.7845328565042468\n",
      "attack loss: 0.4698796272277832\n"
     ]
    },
    {
     "name": "stderr",
     "output_type": "stream",
     "text": [
      "Perturbing graph:  55%|█████▍    | 138/253 [00:55<00:46,  2.50it/s]"
     ]
    },
    {
     "name": "stdout",
     "output_type": "stream",
     "text": [
      "GCN loss on unlabled data: 0.9669604897499084\n",
      "GCN acc on unlabled data: 0.7876620473848905\n",
      "attack loss: 0.4513450562953949\n"
     ]
    },
    {
     "name": "stderr",
     "output_type": "stream",
     "text": [
      "Perturbing graph:  55%|█████▍    | 139/253 [00:55<00:45,  2.50it/s]"
     ]
    },
    {
     "name": "stdout",
     "output_type": "stream",
     "text": [
      "GCN loss on unlabled data: 1.0021653175354004\n",
      "GCN acc on unlabled data: 0.780062583817613\n",
      "attack loss: 0.4694536328315735\n"
     ]
    },
    {
     "name": "stderr",
     "output_type": "stream",
     "text": [
      "Perturbing graph:  55%|█████▌    | 140/253 [00:56<00:45,  2.50it/s]"
     ]
    },
    {
     "name": "stdout",
     "output_type": "stream",
     "text": [
      "GCN loss on unlabled data: 0.9930218458175659\n",
      "GCN acc on unlabled data: 0.7818506928922665\n",
      "attack loss: 0.4663853943347931\n"
     ]
    },
    {
     "name": "stderr",
     "output_type": "stream",
     "text": [
      "Perturbing graph:  56%|█████▌    | 141/253 [00:56<00:44,  2.50it/s]"
     ]
    },
    {
     "name": "stdout",
     "output_type": "stream",
     "text": [
      "GCN loss on unlabled data: 1.0015931129455566\n",
      "GCN acc on unlabled data: 0.7818506928922665\n",
      "attack loss: 0.4729628562927246\n"
     ]
    },
    {
     "name": "stderr",
     "output_type": "stream",
     "text": [
      "Perturbing graph:  56%|█████▌    | 142/253 [00:56<00:44,  2.49it/s]"
     ]
    },
    {
     "name": "stdout",
     "output_type": "stream",
     "text": [
      "GCN loss on unlabled data: 1.0313935279846191\n",
      "GCN acc on unlabled data: 0.7814036656236031\n",
      "attack loss: 0.4887145757675171\n"
     ]
    },
    {
     "name": "stderr",
     "output_type": "stream",
     "text": [
      "Perturbing graph:  57%|█████▋    | 143/253 [00:57<00:44,  2.48it/s]"
     ]
    },
    {
     "name": "stdout",
     "output_type": "stream",
     "text": [
      "GCN loss on unlabled data: 0.9904699921607971\n",
      "GCN acc on unlabled data: 0.7818506928922665\n",
      "attack loss: 0.4647836685180664\n"
     ]
    },
    {
     "name": "stderr",
     "output_type": "stream",
     "text": [
      "Perturbing graph:  57%|█████▋    | 144/253 [00:57<00:43,  2.48it/s]"
     ]
    },
    {
     "name": "stdout",
     "output_type": "stream",
     "text": [
      "GCN loss on unlabled data: 1.0234103202819824\n",
      "GCN acc on unlabled data: 0.7733571747876621\n",
      "attack loss: 0.47810545563697815\n"
     ]
    },
    {
     "name": "stderr",
     "output_type": "stream",
     "text": [
      "Perturbing graph:  57%|█████▋    | 145/253 [00:58<00:43,  2.48it/s]"
     ]
    },
    {
     "name": "stdout",
     "output_type": "stream",
     "text": [
      "GCN loss on unlabled data: 1.0468058586120605\n",
      "GCN acc on unlabled data: 0.775592311130979\n",
      "attack loss: 0.49249428510665894\n"
     ]
    },
    {
     "name": "stderr",
     "output_type": "stream",
     "text": [
      "Perturbing graph:  58%|█████▊    | 146/253 [00:58<00:43,  2.48it/s]"
     ]
    },
    {
     "name": "stdout",
     "output_type": "stream",
     "text": [
      "GCN loss on unlabled data: 1.0393623113632202\n",
      "GCN acc on unlabled data: 0.7787215020116227\n",
      "attack loss: 0.4926568269729614\n"
     ]
    },
    {
     "name": "stderr",
     "output_type": "stream",
     "text": [
      "Perturbing graph:  58%|█████▊    | 147/253 [00:59<00:42,  2.49it/s]"
     ]
    },
    {
     "name": "stdout",
     "output_type": "stream",
     "text": [
      "GCN loss on unlabled data: 1.0299409627914429\n",
      "GCN acc on unlabled data: 0.7746982565936522\n",
      "attack loss: 0.4812195301055908\n"
     ]
    },
    {
     "name": "stderr",
     "output_type": "stream",
     "text": [
      "Perturbing graph:  58%|█████▊    | 148/253 [00:59<00:42,  2.49it/s]"
     ]
    },
    {
     "name": "stdout",
     "output_type": "stream",
     "text": [
      "GCN loss on unlabled data: 1.0731717348098755\n",
      "GCN acc on unlabled data: 0.7751452838623156\n",
      "attack loss: 0.509410560131073\n"
     ]
    },
    {
     "name": "stderr",
     "output_type": "stream",
     "text": [
      "Perturbing graph:  59%|█████▉    | 149/253 [00:59<00:41,  2.49it/s]"
     ]
    },
    {
     "name": "stdout",
     "output_type": "stream",
     "text": [
      "GCN loss on unlabled data: 1.0416169166564941\n",
      "GCN acc on unlabled data: 0.7760393383996425\n",
      "attack loss: 0.48597991466522217\n"
     ]
    },
    {
     "name": "stderr",
     "output_type": "stream",
     "text": [
      "Perturbing graph:  59%|█████▉    | 150/253 [01:00<00:41,  2.49it/s]"
     ]
    },
    {
     "name": "stdout",
     "output_type": "stream",
     "text": [
      "GCN loss on unlabled data: 1.063734769821167\n",
      "GCN acc on unlabled data: 0.7751452838623156\n",
      "attack loss: 0.5052483081817627\n"
     ]
    },
    {
     "name": "stderr",
     "output_type": "stream",
     "text": [
      "Perturbing graph:  60%|█████▉    | 151/253 [01:00<00:40,  2.50it/s]"
     ]
    },
    {
     "name": "stdout",
     "output_type": "stream",
     "text": [
      "GCN loss on unlabled data: 1.0738083124160767\n",
      "GCN acc on unlabled data: 0.7729101475189987\n",
      "attack loss: 0.5040042996406555\n"
     ]
    },
    {
     "name": "stderr",
     "output_type": "stream",
     "text": [
      "Perturbing graph:  60%|██████    | 152/253 [01:01<00:40,  2.49it/s]"
     ]
    },
    {
     "name": "stdout",
     "output_type": "stream",
     "text": [
      "GCN loss on unlabled data: 1.0645191669464111\n",
      "GCN acc on unlabled data: 0.7657577112203845\n",
      "attack loss: 0.5033113360404968\n"
     ]
    },
    {
     "name": "stderr",
     "output_type": "stream",
     "text": [
      "Perturbing graph:  60%|██████    | 153/253 [01:01<00:40,  2.49it/s]"
     ]
    },
    {
     "name": "stdout",
     "output_type": "stream",
     "text": [
      "GCN loss on unlabled data: 1.0799847841262817\n",
      "GCN acc on unlabled data: 0.7711220384443451\n",
      "attack loss: 0.5102997422218323\n"
     ]
    },
    {
     "name": "stderr",
     "output_type": "stream",
     "text": [
      "Perturbing graph:  61%|██████    | 154/253 [01:01<00:39,  2.48it/s]"
     ]
    },
    {
     "name": "stdout",
     "output_type": "stream",
     "text": [
      "GCN loss on unlabled data: 1.0585860013961792\n",
      "GCN acc on unlabled data: 0.7729101475189987\n",
      "attack loss: 0.4991280138492584\n"
     ]
    },
    {
     "name": "stderr",
     "output_type": "stream",
     "text": [
      "Perturbing graph:  61%|██████▏   | 155/253 [01:02<00:39,  2.48it/s]"
     ]
    },
    {
     "name": "stdout",
     "output_type": "stream",
     "text": [
      "GCN loss on unlabled data: 1.066955327987671\n",
      "GCN acc on unlabled data: 0.7751452838623156\n",
      "attack loss: 0.5080463290214539\n"
     ]
    },
    {
     "name": "stderr",
     "output_type": "stream",
     "text": [
      "Perturbing graph:  62%|██████▏   | 156/253 [01:02<00:39,  2.48it/s]"
     ]
    },
    {
     "name": "stdout",
     "output_type": "stream",
     "text": [
      "GCN loss on unlabled data: 1.0690176486968994\n",
      "GCN acc on unlabled data: 0.7787215020116227\n",
      "attack loss: 0.5082376003265381\n"
     ]
    },
    {
     "name": "stderr",
     "output_type": "stream",
     "text": [
      "Perturbing graph:  62%|██████▏   | 157/253 [01:03<00:38,  2.48it/s]"
     ]
    },
    {
     "name": "stdout",
     "output_type": "stream",
     "text": [
      "GCN loss on unlabled data: 1.0872502326965332\n",
      "GCN acc on unlabled data: 0.7715690657130085\n",
      "attack loss: 0.5163670778274536\n"
     ]
    },
    {
     "name": "stderr",
     "output_type": "stream",
     "text": [
      "Perturbing graph:  62%|██████▏   | 158/253 [01:03<00:38,  2.48it/s]"
     ]
    },
    {
     "name": "stdout",
     "output_type": "stream",
     "text": [
      "GCN loss on unlabled data: 1.0792430639266968\n",
      "GCN acc on unlabled data: 0.7711220384443451\n",
      "attack loss: 0.5095018744468689\n"
     ]
    },
    {
     "name": "stderr",
     "output_type": "stream",
     "text": [
      "Perturbing graph:  63%|██████▎   | 159/253 [01:03<00:37,  2.48it/s]"
     ]
    },
    {
     "name": "stdout",
     "output_type": "stream",
     "text": [
      "GCN loss on unlabled data: 1.0726912021636963\n",
      "GCN acc on unlabled data: 0.777827447474296\n",
      "attack loss: 0.5071756839752197\n"
     ]
    },
    {
     "name": "stderr",
     "output_type": "stream",
     "text": [
      "Perturbing graph:  63%|██████▎   | 160/253 [01:04<00:37,  2.48it/s]"
     ]
    },
    {
     "name": "stdout",
     "output_type": "stream",
     "text": [
      "GCN loss on unlabled data: 1.108929991722107\n",
      "GCN acc on unlabled data: 0.7769333929369692\n",
      "attack loss: 0.523815929889679\n"
     ]
    },
    {
     "name": "stderr",
     "output_type": "stream",
     "text": [
      "Perturbing graph:  64%|██████▎   | 161/253 [01:04<00:36,  2.49it/s]"
     ]
    },
    {
     "name": "stdout",
     "output_type": "stream",
     "text": [
      "GCN loss on unlabled data: 1.1066839694976807\n",
      "GCN acc on unlabled data: 0.7733571747876621\n",
      "attack loss: 0.5261390209197998\n"
     ]
    },
    {
     "name": "stderr",
     "output_type": "stream",
     "text": [
      "Perturbing graph:  64%|██████▍   | 162/253 [01:05<00:36,  2.49it/s]"
     ]
    },
    {
     "name": "stdout",
     "output_type": "stream",
     "text": [
      "GCN loss on unlabled data: 1.0908396244049072\n",
      "GCN acc on unlabled data: 0.7764863656683058\n",
      "attack loss: 0.5162874460220337\n"
     ]
    },
    {
     "name": "stderr",
     "output_type": "stream",
     "text": [
      "Perturbing graph:  64%|██████▍   | 163/253 [01:05<00:36,  2.49it/s]"
     ]
    },
    {
     "name": "stdout",
     "output_type": "stream",
     "text": [
      "GCN loss on unlabled data: 1.082053303718567\n",
      "GCN acc on unlabled data: 0.7751452838623156\n",
      "attack loss: 0.5159977078437805\n"
     ]
    },
    {
     "name": "stderr",
     "output_type": "stream",
     "text": [
      "Perturbing graph:  65%|██████▍   | 164/253 [01:05<00:35,  2.49it/s]"
     ]
    },
    {
     "name": "stdout",
     "output_type": "stream",
     "text": [
      "GCN loss on unlabled data: 1.1068474054336548\n",
      "GCN acc on unlabled data: 0.7773804202056326\n",
      "attack loss: 0.5250269770622253\n"
     ]
    },
    {
     "name": "stderr",
     "output_type": "stream",
     "text": [
      "Perturbing graph:  65%|██████▌   | 165/253 [01:06<00:35,  2.49it/s]"
     ]
    },
    {
     "name": "stdout",
     "output_type": "stream",
     "text": [
      "GCN loss on unlabled data: 1.1105514764785767\n",
      "GCN acc on unlabled data: 0.7684398748323648\n",
      "attack loss: 0.5250635147094727\n"
     ]
    },
    {
     "name": "stderr",
     "output_type": "stream",
     "text": [
      "Perturbing graph:  66%|██████▌   | 166/253 [01:06<00:34,  2.50it/s]"
     ]
    },
    {
     "name": "stdout",
     "output_type": "stream",
     "text": [
      "GCN loss on unlabled data: 1.100775122642517\n",
      "GCN acc on unlabled data: 0.7706750111756817\n",
      "attack loss: 0.5228666067123413\n"
     ]
    },
    {
     "name": "stderr",
     "output_type": "stream",
     "text": [
      "Perturbing graph:  66%|██████▌   | 167/253 [01:07<00:34,  2.50it/s]"
     ]
    },
    {
     "name": "stdout",
     "output_type": "stream",
     "text": [
      "GCN loss on unlabled data: 1.0887309312820435\n",
      "GCN acc on unlabled data: 0.7724631202503353\n",
      "attack loss: 0.5158971548080444\n"
     ]
    },
    {
     "name": "stderr",
     "output_type": "stream",
     "text": [
      "Perturbing graph:  66%|██████▋   | 168/253 [01:07<00:34,  2.49it/s]"
     ]
    },
    {
     "name": "stdout",
     "output_type": "stream",
     "text": [
      "GCN loss on unlabled data: 1.115805983543396\n",
      "GCN acc on unlabled data: 0.7769333929369692\n",
      "attack loss: 0.5304074287414551\n"
     ]
    },
    {
     "name": "stderr",
     "output_type": "stream",
     "text": [
      "Perturbing graph:  67%|██████▋   | 169/253 [01:07<00:33,  2.49it/s]"
     ]
    },
    {
     "name": "stdout",
     "output_type": "stream",
     "text": [
      "GCN loss on unlabled data: 1.1301625967025757\n",
      "GCN acc on unlabled data: 0.7653106839517211\n",
      "attack loss: 0.5340737104415894\n"
     ]
    },
    {
     "name": "stderr",
     "output_type": "stream",
     "text": [
      "Perturbing graph:  67%|██████▋   | 170/253 [01:08<00:33,  2.50it/s]"
     ]
    },
    {
     "name": "stdout",
     "output_type": "stream",
     "text": [
      "GCN loss on unlabled data: 1.107772707939148\n",
      "GCN acc on unlabled data: 0.7715690657130085\n",
      "attack loss: 0.5274131894111633\n"
     ]
    },
    {
     "name": "stderr",
     "output_type": "stream",
     "text": [
      "Perturbing graph:  68%|██████▊   | 171/253 [01:08<00:32,  2.49it/s]"
     ]
    },
    {
     "name": "stdout",
     "output_type": "stream",
     "text": [
      "GCN loss on unlabled data: 1.1180200576782227\n",
      "GCN acc on unlabled data: 0.7688869021010282\n",
      "attack loss: 0.5335918068885803\n"
     ]
    },
    {
     "name": "stderr",
     "output_type": "stream",
     "text": [
      "Perturbing graph:  68%|██████▊   | 172/253 [01:09<00:32,  2.49it/s]"
     ]
    },
    {
     "name": "stdout",
     "output_type": "stream",
     "text": [
      "GCN loss on unlabled data: 1.1225990056991577\n",
      "GCN acc on unlabled data: 0.7648636566830577\n",
      "attack loss: 0.5364548563957214\n"
     ]
    },
    {
     "name": "stderr",
     "output_type": "stream",
     "text": [
      "Perturbing graph:  68%|██████▊   | 173/253 [01:09<00:32,  2.49it/s]"
     ]
    },
    {
     "name": "stdout",
     "output_type": "stream",
     "text": [
      "GCN loss on unlabled data: 1.128653883934021\n",
      "GCN acc on unlabled data: 0.7635225748770675\n",
      "attack loss: 0.5391002893447876\n"
     ]
    },
    {
     "name": "stderr",
     "output_type": "stream",
     "text": [
      "Perturbing graph:  69%|██████▉   | 174/253 [01:09<00:31,  2.49it/s]"
     ]
    },
    {
     "name": "stdout",
     "output_type": "stream",
     "text": [
      "GCN loss on unlabled data: 1.1375501155853271\n",
      "GCN acc on unlabled data: 0.7644166294143943\n",
      "attack loss: 0.5441491007804871\n"
     ]
    },
    {
     "name": "stderr",
     "output_type": "stream",
     "text": [
      "Perturbing graph:  69%|██████▉   | 175/253 [01:10<00:31,  2.50it/s]"
     ]
    },
    {
     "name": "stdout",
     "output_type": "stream",
     "text": [
      "GCN loss on unlabled data: 1.1574534177780151\n",
      "GCN acc on unlabled data: 0.7653106839517211\n",
      "attack loss: 0.5475759506225586\n"
     ]
    },
    {
     "name": "stderr",
     "output_type": "stream",
     "text": [
      "Perturbing graph:  70%|██████▉   | 176/253 [01:10<00:30,  2.50it/s]"
     ]
    },
    {
     "name": "stdout",
     "output_type": "stream",
     "text": [
      "GCN loss on unlabled data: 1.1256917715072632\n",
      "GCN acc on unlabled data: 0.763969602145731\n",
      "attack loss: 0.5403357744216919\n"
     ]
    },
    {
     "name": "stderr",
     "output_type": "stream",
     "text": [
      "Perturbing graph:  70%|██████▉   | 177/253 [01:11<00:30,  2.50it/s]"
     ]
    },
    {
     "name": "stdout",
     "output_type": "stream",
     "text": [
      "GCN loss on unlabled data: 1.1175227165222168\n",
      "GCN acc on unlabled data: 0.763969602145731\n",
      "attack loss: 0.5359039306640625\n"
     ]
    },
    {
     "name": "stderr",
     "output_type": "stream",
     "text": [
      "Perturbing graph:  70%|███████   | 178/253 [01:11<00:30,  2.49it/s]"
     ]
    },
    {
     "name": "stdout",
     "output_type": "stream",
     "text": [
      "GCN loss on unlabled data: 1.1316949129104614\n",
      "GCN acc on unlabled data: 0.767545820295038\n",
      "attack loss: 0.5425651669502258\n"
     ]
    },
    {
     "name": "stderr",
     "output_type": "stream",
     "text": [
      "Perturbing graph:  71%|███████   | 179/253 [01:11<00:29,  2.50it/s]"
     ]
    },
    {
     "name": "stdout",
     "output_type": "stream",
     "text": [
      "GCN loss on unlabled data: 1.1369036436080933\n",
      "GCN acc on unlabled data: 0.761734465802414\n",
      "attack loss: 0.5405536890029907\n"
     ]
    },
    {
     "name": "stderr",
     "output_type": "stream",
     "text": [
      "Perturbing graph:  71%|███████   | 180/253 [01:12<00:29,  2.50it/s]"
     ]
    },
    {
     "name": "stdout",
     "output_type": "stream",
     "text": [
      "GCN loss on unlabled data: 1.1407026052474976\n",
      "GCN acc on unlabled data: 0.767545820295038\n",
      "attack loss: 0.5453740954399109\n"
     ]
    },
    {
     "name": "stderr",
     "output_type": "stream",
     "text": [
      "Perturbing graph:  72%|███████▏  | 181/253 [01:12<00:28,  2.50it/s]"
     ]
    },
    {
     "name": "stdout",
     "output_type": "stream",
     "text": [
      "GCN loss on unlabled data: 1.1449594497680664\n",
      "GCN acc on unlabled data: 0.7608404112650872\n",
      "attack loss: 0.5468258261680603\n"
     ]
    },
    {
     "name": "stderr",
     "output_type": "stream",
     "text": [
      "Perturbing graph:  72%|███████▏  | 182/253 [01:13<00:28,  2.50it/s]"
     ]
    },
    {
     "name": "stdout",
     "output_type": "stream",
     "text": [
      "GCN loss on unlabled data: 1.1161071062088013\n",
      "GCN acc on unlabled data: 0.7693339293696916\n",
      "attack loss: 0.5357600450515747\n"
     ]
    },
    {
     "name": "stderr",
     "output_type": "stream",
     "text": [
      "Perturbing graph:  72%|███████▏  | 183/253 [01:13<00:28,  2.50it/s]"
     ]
    },
    {
     "name": "stdout",
     "output_type": "stream",
     "text": [
      "GCN loss on unlabled data: 1.1305524110794067\n",
      "GCN acc on unlabled data: 0.7626285203397407\n",
      "attack loss: 0.5429515242576599\n"
     ]
    },
    {
     "name": "stderr",
     "output_type": "stream",
     "text": [
      "Perturbing graph:  73%|███████▎  | 184/253 [01:13<00:27,  2.50it/s]"
     ]
    },
    {
     "name": "stdout",
     "output_type": "stream",
     "text": [
      "GCN loss on unlabled data: 1.120767593383789\n",
      "GCN acc on unlabled data: 0.7715690657130085\n",
      "attack loss: 0.5377820730209351\n"
     ]
    },
    {
     "name": "stderr",
     "output_type": "stream",
     "text": [
      "Perturbing graph:  73%|███████▎  | 185/253 [01:14<00:27,  2.50it/s]"
     ]
    },
    {
     "name": "stdout",
     "output_type": "stream",
     "text": [
      "GCN loss on unlabled data: 1.1667577028274536\n",
      "GCN acc on unlabled data: 0.7608404112650872\n",
      "attack loss: 0.5544821619987488\n"
     ]
    },
    {
     "name": "stderr",
     "output_type": "stream",
     "text": [
      "Perturbing graph:  74%|███████▎  | 186/253 [01:14<00:26,  2.49it/s]"
     ]
    },
    {
     "name": "stdout",
     "output_type": "stream",
     "text": [
      "GCN loss on unlabled data: 1.133226752281189\n",
      "GCN acc on unlabled data: 0.7670987930263746\n",
      "attack loss: 0.5465193390846252\n"
     ]
    },
    {
     "name": "stderr",
     "output_type": "stream",
     "text": [
      "Perturbing graph:  74%|███████▍  | 187/253 [01:15<00:26,  2.50it/s]"
     ]
    },
    {
     "name": "stdout",
     "output_type": "stream",
     "text": [
      "GCN loss on unlabled data: 1.1676818132400513\n",
      "GCN acc on unlabled data: 0.7635225748770675\n",
      "attack loss: 0.5624996423721313\n"
     ]
    },
    {
     "name": "stderr",
     "output_type": "stream",
     "text": [
      "Perturbing graph:  74%|███████▍  | 188/253 [01:15<00:26,  2.49it/s]"
     ]
    },
    {
     "name": "stdout",
     "output_type": "stream",
     "text": [
      "GCN loss on unlabled data: 1.1710273027420044\n",
      "GCN acc on unlabled data: 0.7662047384890479\n",
      "attack loss: 0.571679949760437\n"
     ]
    },
    {
     "name": "stderr",
     "output_type": "stream",
     "text": [
      "Perturbing graph:  75%|███████▍  | 189/253 [01:15<00:25,  2.52it/s]"
     ]
    },
    {
     "name": "stdout",
     "output_type": "stream",
     "text": [
      "GCN loss on unlabled data: 1.1492326259613037\n",
      "GCN acc on unlabled data: 0.7626285203397407\n",
      "attack loss: 0.5538970828056335\n"
     ]
    },
    {
     "name": "stderr",
     "output_type": "stream",
     "text": [
      "Perturbing graph:  75%|███████▌  | 190/253 [01:16<00:24,  2.57it/s]"
     ]
    },
    {
     "name": "stdout",
     "output_type": "stream",
     "text": [
      "GCN loss on unlabled data: 1.1647495031356812\n",
      "GCN acc on unlabled data: 0.7608404112650872\n",
      "attack loss: 0.563141942024231\n"
     ]
    },
    {
     "name": "stderr",
     "output_type": "stream",
     "text": [
      "Perturbing graph:  75%|███████▌  | 191/253 [01:16<00:23,  2.62it/s]"
     ]
    },
    {
     "name": "stdout",
     "output_type": "stream",
     "text": [
      "GCN loss on unlabled data: 1.1326823234558105\n",
      "GCN acc on unlabled data: 0.7648636566830577\n",
      "attack loss: 0.5422759056091309\n"
     ]
    },
    {
     "name": "stderr",
     "output_type": "stream",
     "text": [
      "Perturbing graph:  76%|███████▌  | 192/253 [01:16<00:23,  2.65it/s]"
     ]
    },
    {
     "name": "stdout",
     "output_type": "stream",
     "text": [
      "GCN loss on unlabled data: 1.1627533435821533\n",
      "GCN acc on unlabled data: 0.7572641931157801\n",
      "attack loss: 0.5546755194664001\n"
     ]
    },
    {
     "name": "stderr",
     "output_type": "stream",
     "text": [
      "Perturbing graph:  76%|███████▋  | 193/253 [01:17<00:22,  2.68it/s]"
     ]
    },
    {
     "name": "stdout",
     "output_type": "stream",
     "text": [
      "GCN loss on unlabled data: 1.1620064973831177\n",
      "GCN acc on unlabled data: 0.761734465802414\n",
      "attack loss: 0.5611284971237183\n"
     ]
    },
    {
     "name": "stderr",
     "output_type": "stream",
     "text": [
      "Perturbing graph:  77%|███████▋  | 194/253 [01:17<00:21,  2.70it/s]"
     ]
    },
    {
     "name": "stdout",
     "output_type": "stream",
     "text": [
      "GCN loss on unlabled data: 1.1256822347640991\n",
      "GCN acc on unlabled data: 0.7666517657577112\n",
      "attack loss: 0.538031280040741\n"
     ]
    },
    {
     "name": "stderr",
     "output_type": "stream",
     "text": [
      "Perturbing graph:  77%|███████▋  | 195/253 [01:18<00:21,  2.71it/s]"
     ]
    },
    {
     "name": "stdout",
     "output_type": "stream",
     "text": [
      "GCN loss on unlabled data: 1.1613446474075317\n",
      "GCN acc on unlabled data: 0.7621814930710774\n",
      "attack loss: 0.554472804069519\n"
     ]
    },
    {
     "name": "stderr",
     "output_type": "stream",
     "text": [
      "Perturbing graph:  77%|███████▋  | 196/253 [01:18<00:20,  2.72it/s]"
     ]
    },
    {
     "name": "stdout",
     "output_type": "stream",
     "text": [
      "GCN loss on unlabled data: 1.1814637184143066\n",
      "GCN acc on unlabled data: 0.7621814930710774\n",
      "attack loss: 0.5746957659721375\n"
     ]
    },
    {
     "name": "stderr",
     "output_type": "stream",
     "text": [
      "Perturbing graph:  78%|███████▊  | 197/253 [01:18<00:21,  2.66it/s]"
     ]
    },
    {
     "name": "stdout",
     "output_type": "stream",
     "text": [
      "GCN loss on unlabled data: 1.188605785369873\n",
      "GCN acc on unlabled data: 0.7630755476084041\n",
      "attack loss: 0.5810540914535522\n"
     ]
    },
    {
     "name": "stderr",
     "output_type": "stream",
     "text": [
      "Perturbing graph:  78%|███████▊  | 198/253 [01:19<00:21,  2.61it/s]"
     ]
    },
    {
     "name": "stdout",
     "output_type": "stream",
     "text": [
      "GCN loss on unlabled data: 1.1832585334777832\n",
      "GCN acc on unlabled data: 0.7657577112203845\n",
      "attack loss: 0.5754736661911011\n"
     ]
    },
    {
     "name": "stderr",
     "output_type": "stream",
     "text": [
      "Perturbing graph:  79%|███████▊  | 199/253 [01:19<00:20,  2.58it/s]"
     ]
    },
    {
     "name": "stdout",
     "output_type": "stream",
     "text": [
      "GCN loss on unlabled data: 1.2042579650878906\n",
      "GCN acc on unlabled data: 0.759499329459097\n",
      "attack loss: 0.5790123343467712\n"
     ]
    },
    {
     "name": "stderr",
     "output_type": "stream",
     "text": [
      "Perturbing graph:  79%|███████▉  | 200/253 [01:19<00:20,  2.55it/s]"
     ]
    },
    {
     "name": "stdout",
     "output_type": "stream",
     "text": [
      "GCN loss on unlabled data: 1.189996361732483\n",
      "GCN acc on unlabled data: 0.7545820295037997\n",
      "attack loss: 0.5767685770988464\n"
     ]
    },
    {
     "name": "stderr",
     "output_type": "stream",
     "text": [
      "Perturbing graph:  79%|███████▉  | 201/253 [01:20<00:20,  2.54it/s]"
     ]
    },
    {
     "name": "stdout",
     "output_type": "stream",
     "text": [
      "GCN loss on unlabled data: 1.1712318658828735\n",
      "GCN acc on unlabled data: 0.7599463567277605\n",
      "attack loss: 0.5640543103218079\n"
     ]
    },
    {
     "name": "stderr",
     "output_type": "stream",
     "text": [
      "Perturbing graph:  80%|███████▉  | 202/253 [01:20<00:20,  2.53it/s]"
     ]
    },
    {
     "name": "stdout",
     "output_type": "stream",
     "text": [
      "GCN loss on unlabled data: 1.197513222694397\n",
      "GCN acc on unlabled data: 0.7590523021904336\n",
      "attack loss: 0.5793106555938721\n"
     ]
    },
    {
     "name": "stderr",
     "output_type": "stream",
     "text": [
      "Perturbing graph:  80%|████████  | 203/253 [01:21<00:19,  2.51it/s]"
     ]
    },
    {
     "name": "stdout",
     "output_type": "stream",
     "text": [
      "GCN loss on unlabled data: 1.186682939529419\n",
      "GCN acc on unlabled data: 0.75592311130979\n",
      "attack loss: 0.5730497241020203\n"
     ]
    },
    {
     "name": "stderr",
     "output_type": "stream",
     "text": [
      "Perturbing graph:  81%|████████  | 204/253 [01:21<00:19,  2.50it/s]"
     ]
    },
    {
     "name": "stdout",
     "output_type": "stream",
     "text": [
      "GCN loss on unlabled data: 1.2230808734893799\n",
      "GCN acc on unlabled data: 0.751452838623156\n",
      "attack loss: 0.5953460931777954\n"
     ]
    },
    {
     "name": "stderr",
     "output_type": "stream",
     "text": [
      "Perturbing graph:  81%|████████  | 205/253 [01:22<00:19,  2.50it/s]"
     ]
    },
    {
     "name": "stdout",
     "output_type": "stream",
     "text": [
      "GCN loss on unlabled data: 1.1796096563339233\n",
      "GCN acc on unlabled data: 0.7612874385337506\n",
      "attack loss: 0.5784257650375366\n"
     ]
    },
    {
     "name": "stderr",
     "output_type": "stream",
     "text": [
      "Perturbing graph:  81%|████████▏ | 206/253 [01:22<00:18,  2.50it/s]"
     ]
    },
    {
     "name": "stdout",
     "output_type": "stream",
     "text": [
      "GCN loss on unlabled data: 1.164259672164917\n",
      "GCN acc on unlabled data: 0.7568171658471167\n",
      "attack loss: 0.5753707885742188\n"
     ]
    },
    {
     "name": "stderr",
     "output_type": "stream",
     "text": [
      "Perturbing graph:  82%|████████▏ | 207/253 [01:22<00:18,  2.50it/s]"
     ]
    },
    {
     "name": "stdout",
     "output_type": "stream",
     "text": [
      "GCN loss on unlabled data: 1.1769922971725464\n",
      "GCN acc on unlabled data: 0.753687974966473\n",
      "attack loss: 0.5749453902244568\n"
     ]
    },
    {
     "name": "stderr",
     "output_type": "stream",
     "text": [
      "Perturbing graph:  82%|████████▏ | 208/253 [01:23<00:18,  2.49it/s]"
     ]
    },
    {
     "name": "stdout",
     "output_type": "stream",
     "text": [
      "GCN loss on unlabled data: 1.2315791845321655\n",
      "GCN acc on unlabled data: 0.7527939204291462\n",
      "attack loss: 0.6001488566398621\n"
     ]
    },
    {
     "name": "stderr",
     "output_type": "stream",
     "text": [
      "Perturbing graph:  83%|████████▎ | 209/253 [01:23<00:17,  2.50it/s]"
     ]
    },
    {
     "name": "stdout",
     "output_type": "stream",
     "text": [
      "GCN loss on unlabled data: 1.2177646160125732\n",
      "GCN acc on unlabled data: 0.759499329459097\n",
      "attack loss: 0.5926781892776489\n"
     ]
    },
    {
     "name": "stderr",
     "output_type": "stream",
     "text": [
      "Perturbing graph:  83%|████████▎ | 210/253 [01:24<00:17,  2.49it/s]"
     ]
    },
    {
     "name": "stdout",
     "output_type": "stream",
     "text": [
      "GCN loss on unlabled data: 1.1992425918579102\n",
      "GCN acc on unlabled data: 0.7608404112650872\n",
      "attack loss: 0.5858277082443237\n"
     ]
    },
    {
     "name": "stderr",
     "output_type": "stream",
     "text": [
      "Perturbing graph:  83%|████████▎ | 211/253 [01:24<00:16,  2.49it/s]"
     ]
    },
    {
     "name": "stdout",
     "output_type": "stream",
     "text": [
      "GCN loss on unlabled data: 1.2237286567687988\n",
      "GCN acc on unlabled data: 0.7492177022798391\n",
      "attack loss: 0.5994743704795837\n"
     ]
    },
    {
     "name": "stderr",
     "output_type": "stream",
     "text": [
      "Perturbing graph:  84%|████████▍ | 212/253 [01:24<00:16,  2.50it/s]"
     ]
    },
    {
     "name": "stdout",
     "output_type": "stream",
     "text": [
      "GCN loss on unlabled data: 1.205013394355774\n",
      "GCN acc on unlabled data: 0.751452838623156\n",
      "attack loss: 0.5869730114936829\n"
     ]
    },
    {
     "name": "stderr",
     "output_type": "stream",
     "text": [
      "Perturbing graph:  84%|████████▍ | 213/253 [01:25<00:16,  2.50it/s]"
     ]
    },
    {
     "name": "stdout",
     "output_type": "stream",
     "text": [
      "GCN loss on unlabled data: 1.2102452516555786\n",
      "GCN acc on unlabled data: 0.7545820295037997\n",
      "attack loss: 0.5876538753509521\n"
     ]
    },
    {
     "name": "stderr",
     "output_type": "stream",
     "text": [
      "Perturbing graph:  85%|████████▍ | 214/253 [01:25<00:15,  2.50it/s]"
     ]
    },
    {
     "name": "stdout",
     "output_type": "stream",
     "text": [
      "GCN loss on unlabled data: 1.2349475622177124\n",
      "GCN acc on unlabled data: 0.7483236477425124\n",
      "attack loss: 0.5991653203964233\n"
     ]
    },
    {
     "name": "stderr",
     "output_type": "stream",
     "text": [
      "Perturbing graph:  85%|████████▍ | 215/253 [01:26<00:15,  2.50it/s]"
     ]
    },
    {
     "name": "stdout",
     "output_type": "stream",
     "text": [
      "GCN loss on unlabled data: 1.2389864921569824\n",
      "GCN acc on unlabled data: 0.7496647295485025\n",
      "attack loss: 0.6035026907920837\n"
     ]
    },
    {
     "name": "stderr",
     "output_type": "stream",
     "text": [
      "Perturbing graph:  85%|████████▌ | 216/253 [01:26<00:14,  2.50it/s]"
     ]
    },
    {
     "name": "stdout",
     "output_type": "stream",
     "text": [
      "GCN loss on unlabled data: 1.2090240716934204\n",
      "GCN acc on unlabled data: 0.7572641931157801\n",
      "attack loss: 0.5886679887771606\n"
     ]
    },
    {
     "name": "stderr",
     "output_type": "stream",
     "text": [
      "Perturbing graph:  86%|████████▌ | 217/253 [01:26<00:14,  2.49it/s]"
     ]
    },
    {
     "name": "stdout",
     "output_type": "stream",
     "text": [
      "GCN loss on unlabled data: 1.185961365699768\n",
      "GCN acc on unlabled data: 0.7523468931604829\n",
      "attack loss: 0.5819469094276428\n"
     ]
    },
    {
     "name": "stderr",
     "output_type": "stream",
     "text": [
      "Perturbing graph:  86%|████████▌ | 218/253 [01:27<00:14,  2.49it/s]"
     ]
    },
    {
     "name": "stdout",
     "output_type": "stream",
     "text": [
      "GCN loss on unlabled data: 1.2409517765045166\n",
      "GCN acc on unlabled data: 0.751452838623156\n",
      "attack loss: 0.6056769490242004\n"
     ]
    },
    {
     "name": "stderr",
     "output_type": "stream",
     "text": [
      "Perturbing graph:  87%|████████▋ | 219/253 [01:27<00:13,  2.49it/s]"
     ]
    },
    {
     "name": "stdout",
     "output_type": "stream",
     "text": [
      "GCN loss on unlabled data: 1.220855474472046\n",
      "GCN acc on unlabled data: 0.7554760840411265\n",
      "attack loss: 0.5971769690513611\n"
     ]
    },
    {
     "name": "stderr",
     "output_type": "stream",
     "text": [
      "Perturbing graph:  87%|████████▋ | 220/253 [01:28<00:13,  2.50it/s]"
     ]
    },
    {
     "name": "stdout",
     "output_type": "stream",
     "text": [
      "GCN loss on unlabled data: 1.2281569242477417\n",
      "GCN acc on unlabled data: 0.7523468931604829\n",
      "attack loss: 0.6029129028320312\n"
     ]
    },
    {
     "name": "stderr",
     "output_type": "stream",
     "text": [
      "Perturbing graph:  87%|████████▋ | 221/253 [01:28<00:12,  2.49it/s]"
     ]
    },
    {
     "name": "stdout",
     "output_type": "stream",
     "text": [
      "GCN loss on unlabled data: 1.2508976459503174\n",
      "GCN acc on unlabled data: 0.745641484130532\n",
      "attack loss: 0.6174277663230896\n"
     ]
    },
    {
     "name": "stderr",
     "output_type": "stream",
     "text": [
      "Perturbing graph:  88%|████████▊ | 222/253 [01:28<00:12,  2.49it/s]"
     ]
    },
    {
     "name": "stdout",
     "output_type": "stream",
     "text": [
      "GCN loss on unlabled data: 1.2334390878677368\n",
      "GCN acc on unlabled data: 0.7518998658918195\n",
      "attack loss: 0.6070394515991211\n"
     ]
    },
    {
     "name": "stderr",
     "output_type": "stream",
     "text": [
      "Perturbing graph:  88%|████████▊ | 223/253 [01:29<00:12,  2.49it/s]"
     ]
    },
    {
     "name": "stdout",
     "output_type": "stream",
     "text": [
      "GCN loss on unlabled data: 1.2499364614486694\n",
      "GCN acc on unlabled data: 0.7518998658918195\n",
      "attack loss: 0.6144422888755798\n"
     ]
    },
    {
     "name": "stderr",
     "output_type": "stream",
     "text": [
      "Perturbing graph:  89%|████████▊ | 224/253 [01:29<00:11,  2.49it/s]"
     ]
    },
    {
     "name": "stdout",
     "output_type": "stream",
     "text": [
      "GCN loss on unlabled data: 1.2934530973434448\n",
      "GCN acc on unlabled data: 0.745641484130532\n",
      "attack loss: 0.6356220245361328\n"
     ]
    },
    {
     "name": "stderr",
     "output_type": "stream",
     "text": [
      "Perturbing graph:  89%|████████▉ | 225/253 [01:30<00:11,  2.49it/s]"
     ]
    },
    {
     "name": "stdout",
     "output_type": "stream",
     "text": [
      "GCN loss on unlabled data: 1.2493616342544556\n",
      "GCN acc on unlabled data: 0.7527939204291462\n",
      "attack loss: 0.6211406588554382\n"
     ]
    },
    {
     "name": "stderr",
     "output_type": "stream",
     "text": [
      "Perturbing graph:  89%|████████▉ | 226/253 [01:30<00:10,  2.49it/s]"
     ]
    },
    {
     "name": "stdout",
     "output_type": "stream",
     "text": [
      "GCN loss on unlabled data: 1.2416287660598755\n",
      "GCN acc on unlabled data: 0.7447474295932052\n",
      "attack loss: 0.6119179725646973\n"
     ]
    },
    {
     "name": "stderr",
     "output_type": "stream",
     "text": [
      "Perturbing graph:  90%|████████▉ | 227/253 [01:30<00:10,  2.48it/s]"
     ]
    },
    {
     "name": "stdout",
     "output_type": "stream",
     "text": [
      "GCN loss on unlabled data: 1.2276849746704102\n",
      "GCN acc on unlabled data: 0.745641484130532\n",
      "attack loss: 0.6036198735237122\n"
     ]
    },
    {
     "name": "stderr",
     "output_type": "stream",
     "text": [
      "Perturbing graph:  90%|█████████ | 228/253 [01:31<00:10,  2.48it/s]"
     ]
    },
    {
     "name": "stdout",
     "output_type": "stream",
     "text": [
      "GCN loss on unlabled data: 1.2574563026428223\n",
      "GCN acc on unlabled data: 0.7483236477425124\n",
      "attack loss: 0.6172361969947815\n"
     ]
    },
    {
     "name": "stderr",
     "output_type": "stream",
     "text": [
      "Perturbing graph:  91%|█████████ | 229/253 [01:31<00:09,  2.49it/s]"
     ]
    },
    {
     "name": "stdout",
     "output_type": "stream",
     "text": [
      "GCN loss on unlabled data: 1.2232651710510254\n",
      "GCN acc on unlabled data: 0.7483236477425124\n",
      "attack loss: 0.6094335913658142\n"
     ]
    },
    {
     "name": "stderr",
     "output_type": "stream",
     "text": [
      "Perturbing graph:  91%|█████████ | 230/253 [01:32<00:09,  2.49it/s]"
     ]
    },
    {
     "name": "stdout",
     "output_type": "stream",
     "text": [
      "GCN loss on unlabled data: 1.2630568742752075\n",
      "GCN acc on unlabled data: 0.7465355386678587\n",
      "attack loss: 0.6151695847511292\n"
     ]
    },
    {
     "name": "stderr",
     "output_type": "stream",
     "text": [
      "Perturbing graph:  91%|█████████▏| 231/253 [01:32<00:08,  2.49it/s]"
     ]
    },
    {
     "name": "stdout",
     "output_type": "stream",
     "text": [
      "GCN loss on unlabled data: 1.266158103942871\n",
      "GCN acc on unlabled data: 0.7407241841752347\n",
      "attack loss: 0.6225336790084839\n"
     ]
    },
    {
     "name": "stderr",
     "output_type": "stream",
     "text": [
      "Perturbing graph:  92%|█████████▏| 232/253 [01:32<00:08,  2.50it/s]"
     ]
    },
    {
     "name": "stdout",
     "output_type": "stream",
     "text": [
      "GCN loss on unlabled data: 1.3084808588027954\n",
      "GCN acc on unlabled data: 0.7371479660259276\n",
      "attack loss: 0.6387335062026978\n"
     ]
    },
    {
     "name": "stderr",
     "output_type": "stream",
     "text": [
      "Perturbing graph:  92%|█████████▏| 233/253 [01:33<00:08,  2.49it/s]"
     ]
    },
    {
     "name": "stdout",
     "output_type": "stream",
     "text": [
      "GCN loss on unlabled data: 1.2833986282348633\n",
      "GCN acc on unlabled data: 0.7389360751005811\n",
      "attack loss: 0.6287136673927307\n"
     ]
    },
    {
     "name": "stderr",
     "output_type": "stream",
     "text": [
      "Perturbing graph:  92%|█████████▏| 234/253 [01:33<00:07,  2.49it/s]"
     ]
    },
    {
     "name": "stdout",
     "output_type": "stream",
     "text": [
      "GCN loss on unlabled data: 1.2952455282211304\n",
      "GCN acc on unlabled data: 0.7384890478319178\n",
      "attack loss: 0.6301408410072327\n"
     ]
    },
    {
     "name": "stderr",
     "output_type": "stream",
     "text": [
      "Perturbing graph:  93%|█████████▎| 235/253 [01:34<00:07,  2.49it/s]"
     ]
    },
    {
     "name": "stdout",
     "output_type": "stream",
     "text": [
      "GCN loss on unlabled data: 1.2624399662017822\n",
      "GCN acc on unlabled data: 0.7460885113991954\n",
      "attack loss: 0.6227979063987732\n"
     ]
    },
    {
     "name": "stderr",
     "output_type": "stream",
     "text": [
      "Perturbing graph:  93%|█████████▎| 236/253 [01:34<00:06,  2.49it/s]"
     ]
    },
    {
     "name": "stdout",
     "output_type": "stream",
     "text": [
      "GCN loss on unlabled data: 1.2951929569244385\n",
      "GCN acc on unlabled data: 0.739830129637908\n",
      "attack loss: 0.6361426115036011\n"
     ]
    },
    {
     "name": "stderr",
     "output_type": "stream",
     "text": [
      "Perturbing graph:  94%|█████████▎| 237/253 [01:34<00:06,  2.49it/s]"
     ]
    },
    {
     "name": "stdout",
     "output_type": "stream",
     "text": [
      "GCN loss on unlabled data: 1.3296066522598267\n",
      "GCN acc on unlabled data: 0.7393831023692445\n",
      "attack loss: 0.6585716605186462\n"
     ]
    },
    {
     "name": "stderr",
     "output_type": "stream",
     "text": [
      "Perturbing graph:  94%|█████████▍| 238/253 [01:35<00:06,  2.49it/s]"
     ]
    },
    {
     "name": "stdout",
     "output_type": "stream",
     "text": [
      "GCN loss on unlabled data: 1.2689489126205444\n",
      "GCN acc on unlabled data: 0.7384890478319178\n",
      "attack loss: 0.6299297213554382\n"
     ]
    },
    {
     "name": "stderr",
     "output_type": "stream",
     "text": [
      "Perturbing graph:  94%|█████████▍| 239/253 [01:35<00:05,  2.49it/s]"
     ]
    },
    {
     "name": "stdout",
     "output_type": "stream",
     "text": [
      "GCN loss on unlabled data: 1.3153307437896729\n",
      "GCN acc on unlabled data: 0.739830129637908\n",
      "attack loss: 0.6486020684242249\n"
     ]
    },
    {
     "name": "stderr",
     "output_type": "stream",
     "text": [
      "Perturbing graph:  95%|█████████▍| 240/253 [01:36<00:05,  2.49it/s]"
     ]
    },
    {
     "name": "stdout",
     "output_type": "stream",
     "text": [
      "GCN loss on unlabled data: 1.2967276573181152\n",
      "GCN acc on unlabled data: 0.745641484130532\n",
      "attack loss: 0.6421221494674683\n"
     ]
    },
    {
     "name": "stderr",
     "output_type": "stream",
     "text": [
      "Perturbing graph:  95%|█████████▌| 241/253 [01:36<00:04,  2.49it/s]"
     ]
    },
    {
     "name": "stdout",
     "output_type": "stream",
     "text": [
      "GCN loss on unlabled data: 1.3297538757324219\n",
      "GCN acc on unlabled data: 0.7411712114438981\n",
      "attack loss: 0.6634760499000549\n"
     ]
    },
    {
     "name": "stderr",
     "output_type": "stream",
     "text": [
      "Perturbing graph:  96%|█████████▌| 242/253 [01:36<00:04,  2.49it/s]"
     ]
    },
    {
     "name": "stdout",
     "output_type": "stream",
     "text": [
      "GCN loss on unlabled data: 1.3051304817199707\n",
      "GCN acc on unlabled data: 0.7389360751005811\n",
      "attack loss: 0.647911548614502\n"
     ]
    },
    {
     "name": "stderr",
     "output_type": "stream",
     "text": [
      "Perturbing graph:  96%|█████████▌| 243/253 [01:37<00:04,  2.49it/s]"
     ]
    },
    {
     "name": "stdout",
     "output_type": "stream",
     "text": [
      "GCN loss on unlabled data: 1.3159838914871216\n",
      "GCN acc on unlabled data: 0.739830129637908\n",
      "attack loss: 0.6645557880401611\n"
     ]
    },
    {
     "name": "stderr",
     "output_type": "stream",
     "text": [
      "Perturbing graph:  96%|█████████▋| 244/253 [01:37<00:03,  2.49it/s]"
     ]
    },
    {
     "name": "stdout",
     "output_type": "stream",
     "text": [
      "GCN loss on unlabled data: 1.3019163608551025\n",
      "GCN acc on unlabled data: 0.7451944568618686\n",
      "attack loss: 0.6483397483825684\n"
     ]
    },
    {
     "name": "stderr",
     "output_type": "stream",
     "text": [
      "Perturbing graph:  97%|█████████▋| 245/253 [01:38<00:03,  2.49it/s]"
     ]
    },
    {
     "name": "stdout",
     "output_type": "stream",
     "text": [
      "GCN loss on unlabled data: 1.3603225946426392\n",
      "GCN acc on unlabled data: 0.7335717478766205\n",
      "attack loss: 0.6712790131568909\n"
     ]
    },
    {
     "name": "stderr",
     "output_type": "stream",
     "text": [
      "Perturbing graph:  97%|█████████▋| 246/253 [01:38<00:02,  2.50it/s]"
     ]
    },
    {
     "name": "stdout",
     "output_type": "stream",
     "text": [
      "GCN loss on unlabled data: 1.3340474367141724\n",
      "GCN acc on unlabled data: 0.7380420205632544\n",
      "attack loss: 0.6575571894645691\n"
     ]
    },
    {
     "name": "stderr",
     "output_type": "stream",
     "text": [
      "Perturbing graph:  98%|█████████▊| 247/253 [01:38<00:02,  2.49it/s]"
     ]
    },
    {
     "name": "stdout",
     "output_type": "stream",
     "text": [
      "GCN loss on unlabled data: 1.3266106843948364\n",
      "GCN acc on unlabled data: 0.7416182387125615\n",
      "attack loss: 0.6598871946334839\n"
     ]
    },
    {
     "name": "stderr",
     "output_type": "stream",
     "text": [
      "Perturbing graph:  98%|█████████▊| 248/253 [01:39<00:02,  2.48it/s]"
     ]
    },
    {
     "name": "stdout",
     "output_type": "stream",
     "text": [
      "GCN loss on unlabled data: 1.284203052520752\n",
      "GCN acc on unlabled data: 0.7371479660259276\n",
      "attack loss: 0.6407533884048462\n"
     ]
    },
    {
     "name": "stderr",
     "output_type": "stream",
     "text": [
      "Perturbing graph:  98%|█████████▊| 249/253 [01:39<00:01,  2.48it/s]"
     ]
    },
    {
     "name": "stdout",
     "output_type": "stream",
     "text": [
      "GCN loss on unlabled data: 1.361632227897644\n",
      "GCN acc on unlabled data: 0.7367009387572642\n",
      "attack loss: 0.6779180765151978\n"
     ]
    },
    {
     "name": "stderr",
     "output_type": "stream",
     "text": [
      "Perturbing graph:  99%|█████████▉| 250/253 [01:40<00:01,  2.49it/s]"
     ]
    },
    {
     "name": "stdout",
     "output_type": "stream",
     "text": [
      "GCN loss on unlabled data: 1.3894705772399902\n",
      "GCN acc on unlabled data: 0.7389360751005811\n",
      "attack loss: 0.6929377913475037\n"
     ]
    },
    {
     "name": "stderr",
     "output_type": "stream",
     "text": [
      "Perturbing graph:  99%|█████████▉| 251/253 [01:40<00:00,  2.49it/s]"
     ]
    },
    {
     "name": "stdout",
     "output_type": "stream",
     "text": [
      "GCN loss on unlabled data: 1.3442736864089966\n",
      "GCN acc on unlabled data: 0.7443004023245419\n",
      "attack loss: 0.6673052906990051\n"
     ]
    },
    {
     "name": "stderr",
     "output_type": "stream",
     "text": [
      "Perturbing graph: 100%|█████████▉| 252/253 [01:40<00:00,  2.49it/s]"
     ]
    },
    {
     "name": "stdout",
     "output_type": "stream",
     "text": [
      "GCN loss on unlabled data: 1.3633173704147339\n",
      "GCN acc on unlabled data: 0.743406347787215\n",
      "attack loss: 0.6745527982711792\n"
     ]
    },
    {
     "name": "stderr",
     "output_type": "stream",
     "text": [
      "Perturbing graph: 100%|██████████| 253/253 [01:41<00:00,  2.50it/s]\n"
     ]
    },
    {
     "ename": "AttributeError",
     "evalue": "'numpy.ndarray' object has no attribute 'is_sparse'",
     "output_type": "error",
     "traceback": [
      "\u001b[0;31m---------------------------------------------------------------------------\u001b[0m",
      "\u001b[0;31mAttributeError\u001b[0m                            Traceback (most recent call last)",
      "Cell \u001b[0;32mIn[7], line 13\u001b[0m\n\u001b[1;32m     10\u001b[0m \u001b[38;5;66;03m# For evasion attack - evaluate the model on the modified graph\u001b[39;00m\n\u001b[1;32m     11\u001b[0m \u001b[38;5;66;03m# (The model was trained on clean graph but evaluated on perturbed graph)\u001b[39;00m\n\u001b[1;32m     12\u001b[0m test_model\u001b[38;5;241m.\u001b[39meval()\n\u001b[0;32m---> 13\u001b[0m output \u001b[38;5;241m=\u001b[39m \u001b[43mtest_model\u001b[49m\u001b[38;5;241;43m.\u001b[39;49m\u001b[43mpredict\u001b[49m\u001b[43m(\u001b[49m\u001b[43mfeatures\u001b[49m\u001b[43m,\u001b[49m\u001b[43m \u001b[49m\u001b[43mmodified_adj\u001b[49m\u001b[43m)\u001b[49m\n\u001b[1;32m     15\u001b[0m \u001b[38;5;66;03m# Calculate accuracy on perturbed graph\u001b[39;00m\n\u001b[1;32m     16\u001b[0m acc_test \u001b[38;5;241m=\u001b[39m test_model\u001b[38;5;241m.\u001b[39mtest(idx_test, output, labels)\n",
      "File \u001b[0;32m~/miniconda3/envs/ersp_v2/lib/python3.9/site-packages/deeprobust/graph/defense/gcn.py:342\u001b[0m, in \u001b[0;36mGCN.predict\u001b[0;34m(self, features, adj)\u001b[0m\n\u001b[1;32m    340\u001b[0m \u001b[38;5;28;01melse\u001b[39;00m:\n\u001b[1;32m    341\u001b[0m     \u001b[38;5;28mself\u001b[39m\u001b[38;5;241m.\u001b[39madj_norm \u001b[38;5;241m=\u001b[39m utils\u001b[38;5;241m.\u001b[39mnormalize_adj_tensor(adj)\n\u001b[0;32m--> 342\u001b[0m \u001b[38;5;28;01mreturn\u001b[39;00m \u001b[38;5;28;43mself\u001b[39;49m\u001b[38;5;241;43m.\u001b[39;49m\u001b[43mforward\u001b[49m\u001b[43m(\u001b[49m\u001b[38;5;28;43mself\u001b[39;49m\u001b[38;5;241;43m.\u001b[39;49m\u001b[43mfeatures\u001b[49m\u001b[43m,\u001b[49m\u001b[43m \u001b[49m\u001b[38;5;28;43mself\u001b[39;49m\u001b[38;5;241;43m.\u001b[39;49m\u001b[43madj_norm\u001b[49m\u001b[43m)\u001b[49m\n",
      "File \u001b[0;32m~/miniconda3/envs/ersp_v2/lib/python3.9/site-packages/deeprobust/graph/defense/gcn.py:124\u001b[0m, in \u001b[0;36mGCN.forward\u001b[0;34m(self, x, adj)\u001b[0m\n\u001b[1;32m    122\u001b[0m \u001b[38;5;28;01mdef\u001b[39;00m \u001b[38;5;21mforward\u001b[39m(\u001b[38;5;28mself\u001b[39m, x, adj):\n\u001b[1;32m    123\u001b[0m     \u001b[38;5;28;01mif\u001b[39;00m \u001b[38;5;28mself\u001b[39m\u001b[38;5;241m.\u001b[39mwith_relu:\n\u001b[0;32m--> 124\u001b[0m         x \u001b[38;5;241m=\u001b[39m F\u001b[38;5;241m.\u001b[39mrelu(\u001b[38;5;28;43mself\u001b[39;49m\u001b[38;5;241;43m.\u001b[39;49m\u001b[43mgc1\u001b[49m\u001b[43m(\u001b[49m\u001b[43mx\u001b[49m\u001b[43m,\u001b[49m\u001b[43m \u001b[49m\u001b[43madj\u001b[49m\u001b[43m)\u001b[49m)\n\u001b[1;32m    125\u001b[0m     \u001b[38;5;28;01melse\u001b[39;00m:\n\u001b[1;32m    126\u001b[0m         x \u001b[38;5;241m=\u001b[39m \u001b[38;5;28mself\u001b[39m\u001b[38;5;241m.\u001b[39mgc1(x, adj)\n",
      "File \u001b[0;32m~/miniconda3/envs/ersp_v2/lib/python3.9/site-packages/torch/nn/modules/module.py:1190\u001b[0m, in \u001b[0;36mModule._call_impl\u001b[0;34m(self, *input, **kwargs)\u001b[0m\n\u001b[1;32m   1186\u001b[0m \u001b[38;5;66;03m# If we don't have any hooks, we want to skip the rest of the logic in\u001b[39;00m\n\u001b[1;32m   1187\u001b[0m \u001b[38;5;66;03m# this function, and just call forward.\u001b[39;00m\n\u001b[1;32m   1188\u001b[0m \u001b[38;5;28;01mif\u001b[39;00m \u001b[38;5;129;01mnot\u001b[39;00m (\u001b[38;5;28mself\u001b[39m\u001b[38;5;241m.\u001b[39m_backward_hooks \u001b[38;5;129;01mor\u001b[39;00m \u001b[38;5;28mself\u001b[39m\u001b[38;5;241m.\u001b[39m_forward_hooks \u001b[38;5;129;01mor\u001b[39;00m \u001b[38;5;28mself\u001b[39m\u001b[38;5;241m.\u001b[39m_forward_pre_hooks \u001b[38;5;129;01mor\u001b[39;00m _global_backward_hooks\n\u001b[1;32m   1189\u001b[0m         \u001b[38;5;129;01mor\u001b[39;00m _global_forward_hooks \u001b[38;5;129;01mor\u001b[39;00m _global_forward_pre_hooks):\n\u001b[0;32m-> 1190\u001b[0m     \u001b[38;5;28;01mreturn\u001b[39;00m \u001b[43mforward_call\u001b[49m\u001b[43m(\u001b[49m\u001b[38;5;241;43m*\u001b[39;49m\u001b[38;5;28;43minput\u001b[39;49m\u001b[43m,\u001b[49m\u001b[43m \u001b[49m\u001b[38;5;241;43m*\u001b[39;49m\u001b[38;5;241;43m*\u001b[39;49m\u001b[43mkwargs\u001b[49m\u001b[43m)\u001b[49m\n\u001b[1;32m   1191\u001b[0m \u001b[38;5;66;03m# Do not call functions when jit is used\u001b[39;00m\n\u001b[1;32m   1192\u001b[0m full_backward_hooks, non_full_backward_hooks \u001b[38;5;241m=\u001b[39m [], []\n",
      "File \u001b[0;32m~/miniconda3/envs/ersp_v2/lib/python3.9/site-packages/deeprobust/graph/defense/gcn.py:36\u001b[0m, in \u001b[0;36mGraphConvolution.forward\u001b[0;34m(self, input, adj)\u001b[0m\n\u001b[1;32m     33\u001b[0m \u001b[38;5;28;01mdef\u001b[39;00m \u001b[38;5;21mforward\u001b[39m(\u001b[38;5;28mself\u001b[39m, \u001b[38;5;28minput\u001b[39m, adj):\n\u001b[1;32m     34\u001b[0m \u001b[38;5;250m    \u001b[39m\u001b[38;5;124;03m\"\"\" Graph Convolutional Layer forward function\u001b[39;00m\n\u001b[1;32m     35\u001b[0m \u001b[38;5;124;03m    \"\"\"\u001b[39;00m\n\u001b[0;32m---> 36\u001b[0m     \u001b[38;5;28;01mif\u001b[39;00m \u001b[38;5;28;43minput\u001b[39;49m\u001b[38;5;241;43m.\u001b[39;49m\u001b[43mdata\u001b[49m\u001b[38;5;241;43m.\u001b[39;49m\u001b[43mis_sparse\u001b[49m:\n\u001b[1;32m     37\u001b[0m         support \u001b[38;5;241m=\u001b[39m torch\u001b[38;5;241m.\u001b[39mspmm(\u001b[38;5;28minput\u001b[39m, \u001b[38;5;28mself\u001b[39m\u001b[38;5;241m.\u001b[39mweight)\n\u001b[1;32m     38\u001b[0m     \u001b[38;5;28;01melse\u001b[39;00m:\n",
      "\u001b[0;31mAttributeError\u001b[0m: 'numpy.ndarray' object has no attribute 'is_sparse'"
     ]
    }
   ],
   "source": [
    "for percentage in perturbation_percentages:\n",
    "    # Calculate number of perturbations for this percentage\n",
    "    perturbations = int(percentage * total_edges)\n",
    "    print(f\"\\nRunning attack with {percentage*100}% perturbations ({perturbations} edges)\")\n",
    "    \n",
    "    # Run the attack\n",
    "    model.attack(features, adj, labels, idx_train, idx_unlabeled, perturbations, ll_constraint=False)\n",
    "    modified_adj = model.modified_adj\n",
    "    \n",
    "    # For evasion attack - evaluate the model on the modified graph\n",
    "    # (The model was trained on clean graph but evaluated on perturbed graph)\n",
    "    test_model.eval()\n",
    "    output = test_model.predict(features, modified_adj)\n",
    "    \n",
    "    # Calculate accuracy on perturbed graph\n",
    "    acc_test = test_model.test(idx_test, output, labels)\n",
    "    \n",
    "    # Store results\n",
    "    results[percentage] = {\n",
    "        'perturbations': perturbations,\n",
    "        'test_accuracy': acc_test\n",
    "    }\n",
    "    \n",
    "    print(f\"Test accuracy under {percentage*100}% perturbation: {acc_test:.4f}\")"
   ]
  },
  {
   "cell_type": "code",
   "execution_count": 1,
   "id": "c1e6ed73-4afe-4fa0-af63-114694ad573d",
   "metadata": {},
   "outputs": [],
   "source": [
    "import torch\n",
    "import numpy as np\n",
    "from deeprobust.graph.data import Dataset\n",
    "from deeprobust.graph.defense import GCN\n",
    "from deeprobust.graph.global_attack import Metattack"
   ]
  },
  {
   "cell_type": "code",
   "execution_count": 2,
   "id": "008b5c42-4ac9-4dc6-8c4c-401f92ed7a28",
   "metadata": {},
   "outputs": [
    {
     "name": "stdout",
     "output_type": "stream",
     "text": [
      "Loading cora dataset...\n",
      "Selecting 1 largest connected components\n"
     ]
    }
   ],
   "source": [
    "# Load the dataset\n",
    "data = Dataset(root='/tmp/', name='cora', setting='nettack')\n",
    "adj, features, labels = data.adj, data.features, data.labels\n",
    "idx_train, idx_val, idx_test = data.idx_train, data.idx_val, data.idx_test\n",
    "idx_unlabeled = np.union1d(idx_val, idx_test)\n",
    "\n",
    "device = torch.device(\"cuda:0\" if torch.cuda.is_available() else \"cpu\")"
   ]
  },
  {
   "cell_type": "code",
   "execution_count": 3,
   "id": "4e5f95de-5087-4e25-892d-a92c75bf44ed",
   "metadata": {},
   "outputs": [],
   "source": [
    "# Train a GCN on the clean graph\n",
    "model_clean = GCN(nfeat=features.shape[1],\n",
    "                  nclass=labels.max().item() + 1,\n",
    "                  nhid=64,\n",
    "                  with_relu=False,\n",
    "                  dropout=0.5,\n",
    "                  device=device)\n",
    "model_clean = model_clean.to(device)\n",
    "model_clean.fit(features, adj, labels, idx_train)"
   ]
  },
  {
   "cell_type": "code",
   "execution_count": 4,
   "id": "09bf5d2e-da94-42e8-912e-c29eaa915e03",
   "metadata": {},
   "outputs": [],
   "source": [
    "# Now apply Metattack, but only to modify the graph *after* model is trained\n",
    "surrogate = model_clean  # surrogate can be the same trained model\n",
    "\n",
    "# Initialize Metattack\n",
    "attack_model = Metattack(model=surrogate,\n",
    "                         nnodes=adj.shape[0],\n",
    "                         feature_shape=features.shape,\n",
    "                         attack_structure=True,\n",
    "                         attack_features=False,\n",
    "                         device=device)\n",
    "attack_model = attack_model.to(device)"
   ]
  },
  {
   "cell_type": "code",
   "execution_count": 5,
   "id": "e3b8c6f7-6e14-495c-8a14-0ef15679f655",
   "metadata": {},
   "outputs": [],
   "source": [
    "# Define 5% perturbations based on number of edges\n",
    "perturbations = int(0.05 * (adj.sum() // 2))\n"
   ]
  },
  {
   "cell_type": "code",
   "execution_count": 6,
   "id": "b12c8140-0109-4a50-8af4-c95fdd0a6510",
   "metadata": {},
   "outputs": [
    {
     "name": "stderr",
     "output_type": "stream",
     "text": [
      "Perturbing graph:   0%|          | 0/253 [00:00<?, ?it/s]"
     ]
    },
    {
     "name": "stdout",
     "output_type": "stream",
     "text": [
      "GCN loss on unlabled data: 0.48713213205337524\n",
      "GCN acc on unlabled data: 0.8462226195797944\n",
      "attack loss: 0.17344924807548523\n"
     ]
    },
    {
     "name": "stderr",
     "output_type": "stream",
     "text": [
      "Perturbing graph:   0%|          | 1/253 [00:00<01:45,  2.39it/s]"
     ]
    },
    {
     "name": "stdout",
     "output_type": "stream",
     "text": [
      "GCN loss on unlabled data: 0.48939570784568787\n",
      "GCN acc on unlabled data: 0.8489047831917748\n",
      "attack loss: 0.17622441053390503\n"
     ]
    },
    {
     "name": "stderr",
     "output_type": "stream",
     "text": [
      "Perturbing graph:   1%|          | 2/253 [00:00<01:36,  2.59it/s]"
     ]
    },
    {
     "name": "stdout",
     "output_type": "stream",
     "text": [
      "GCN loss on unlabled data: 0.4964630603790283\n",
      "GCN acc on unlabled data: 0.8484577559231113\n",
      "attack loss: 0.1816447377204895\n"
     ]
    },
    {
     "name": "stderr",
     "output_type": "stream",
     "text": [
      "Perturbing graph:   1%|          | 3/253 [00:01<01:33,  2.68it/s]"
     ]
    },
    {
     "name": "stdout",
     "output_type": "stream",
     "text": [
      "GCN loss on unlabled data: 0.5070029497146606\n",
      "GCN acc on unlabled data: 0.845775592311131\n",
      "attack loss: 0.18292057514190674\n"
     ]
    },
    {
     "name": "stderr",
     "output_type": "stream",
     "text": [
      "Perturbing graph:   2%|▏         | 4/253 [00:01<01:31,  2.72it/s]"
     ]
    },
    {
     "name": "stdout",
     "output_type": "stream",
     "text": [
      "GCN loss on unlabled data: 0.4899742901325226\n",
      "GCN acc on unlabled data: 0.8484577559231113\n",
      "attack loss: 0.19118951261043549\n"
     ]
    },
    {
     "name": "stderr",
     "output_type": "stream",
     "text": [
      "Perturbing graph:   2%|▏         | 5/253 [00:01<01:30,  2.75it/s]"
     ]
    },
    {
     "name": "stdout",
     "output_type": "stream",
     "text": [
      "GCN loss on unlabled data: 0.4939827620983124\n",
      "GCN acc on unlabled data: 0.8484577559231113\n",
      "attack loss: 0.19330571591854095\n"
     ]
    },
    {
     "name": "stderr",
     "output_type": "stream",
     "text": [
      "Perturbing graph:   2%|▏         | 6/253 [00:02<01:29,  2.77it/s]"
     ]
    },
    {
     "name": "stdout",
     "output_type": "stream",
     "text": [
      "GCN loss on unlabled data: 0.49482354521751404\n",
      "GCN acc on unlabled data: 0.8430934286991507\n",
      "attack loss: 0.1896246075630188\n"
     ]
    },
    {
     "name": "stderr",
     "output_type": "stream",
     "text": [
      "Perturbing graph:   3%|▎         | 7/253 [00:02<01:28,  2.78it/s]"
     ]
    },
    {
     "name": "stdout",
     "output_type": "stream",
     "text": [
      "GCN loss on unlabled data: 0.49744439125061035\n",
      "GCN acc on unlabled data: 0.8466696468484578\n",
      "attack loss: 0.2000051885843277\n"
     ]
    },
    {
     "name": "stderr",
     "output_type": "stream",
     "text": [
      "Perturbing graph:   3%|▎         | 8/253 [00:02<01:27,  2.78it/s]"
     ]
    },
    {
     "name": "stdout",
     "output_type": "stream",
     "text": [
      "GCN loss on unlabled data: 0.5137014389038086\n",
      "GCN acc on unlabled data: 0.8413053196244972\n",
      "attack loss: 0.21102437376976013\n"
     ]
    },
    {
     "name": "stderr",
     "output_type": "stream",
     "text": [
      "Perturbing graph:   4%|▎         | 9/253 [00:03<01:27,  2.79it/s]"
     ]
    },
    {
     "name": "stdout",
     "output_type": "stream",
     "text": [
      "GCN loss on unlabled data: 0.4982816278934479\n",
      "GCN acc on unlabled data: 0.8466696468484578\n",
      "attack loss: 0.19896507263183594\n"
     ]
    },
    {
     "name": "stderr",
     "output_type": "stream",
     "text": [
      "Perturbing graph:   4%|▍         | 10/253 [00:03<01:27,  2.78it/s]"
     ]
    },
    {
     "name": "stdout",
     "output_type": "stream",
     "text": [
      "GCN loss on unlabled data: 0.5036830902099609\n",
      "GCN acc on unlabled data: 0.8462226195797944\n",
      "attack loss: 0.20022650063037872\n"
     ]
    },
    {
     "name": "stderr",
     "output_type": "stream",
     "text": [
      "Perturbing graph:   4%|▍         | 11/253 [00:04<01:27,  2.78it/s]"
     ]
    },
    {
     "name": "stdout",
     "output_type": "stream",
     "text": [
      "GCN loss on unlabled data: 0.48628702759742737\n",
      "GCN acc on unlabled data: 0.8430934286991507\n",
      "attack loss: 0.2041114866733551\n"
     ]
    },
    {
     "name": "stderr",
     "output_type": "stream",
     "text": [
      "Perturbing graph:   5%|▍         | 12/253 [00:04<01:26,  2.77it/s]"
     ]
    },
    {
     "name": "stdout",
     "output_type": "stream",
     "text": [
      "GCN loss on unlabled data: 0.4930259585380554\n",
      "GCN acc on unlabled data: 0.8444345105051408\n",
      "attack loss: 0.20596900582313538\n"
     ]
    },
    {
     "name": "stderr",
     "output_type": "stream",
     "text": [
      "Perturbing graph:   5%|▌         | 13/253 [00:04<01:26,  2.77it/s]"
     ]
    },
    {
     "name": "stdout",
     "output_type": "stream",
     "text": [
      "GCN loss on unlabled data: 0.49241456389427185\n",
      "GCN acc on unlabled data: 0.8426464014304873\n",
      "attack loss: 0.2092340588569641\n"
     ]
    },
    {
     "name": "stderr",
     "output_type": "stream",
     "text": [
      "Perturbing graph:   6%|▌         | 14/253 [00:05<01:25,  2.78it/s]"
     ]
    },
    {
     "name": "stdout",
     "output_type": "stream",
     "text": [
      "GCN loss on unlabled data: 0.49813422560691833\n",
      "GCN acc on unlabled data: 0.8453285650424676\n",
      "attack loss: 0.2089524269104004\n"
     ]
    },
    {
     "name": "stderr",
     "output_type": "stream",
     "text": [
      "Perturbing graph:   6%|▌         | 15/253 [00:05<01:25,  2.79it/s]"
     ]
    },
    {
     "name": "stdout",
     "output_type": "stream",
     "text": [
      "GCN loss on unlabled data: 0.4943772256374359\n",
      "GCN acc on unlabled data: 0.8489047831917748\n",
      "attack loss: 0.21092292666435242\n"
     ]
    },
    {
     "name": "stderr",
     "output_type": "stream",
     "text": [
      "Perturbing graph:   6%|▋         | 16/253 [00:05<01:27,  2.70it/s]"
     ]
    },
    {
     "name": "stdout",
     "output_type": "stream",
     "text": [
      "GCN loss on unlabled data: 0.49708080291748047\n",
      "GCN acc on unlabled data: 0.843540455967814\n",
      "attack loss: 0.21799740195274353\n"
     ]
    },
    {
     "name": "stderr",
     "output_type": "stream",
     "text": [
      "Perturbing graph:   7%|▋         | 17/253 [00:06<01:29,  2.64it/s]"
     ]
    },
    {
     "name": "stdout",
     "output_type": "stream",
     "text": [
      "GCN loss on unlabled data: 0.499904602766037\n",
      "GCN acc on unlabled data: 0.8444345105051408\n",
      "attack loss: 0.21304205060005188\n"
     ]
    },
    {
     "name": "stderr",
     "output_type": "stream",
     "text": [
      "Perturbing graph:   7%|▋         | 18/253 [00:06<01:29,  2.62it/s]"
     ]
    },
    {
     "name": "stdout",
     "output_type": "stream",
     "text": [
      "GCN loss on unlabled data: 0.4980355203151703\n",
      "GCN acc on unlabled data: 0.8404112650871703\n",
      "attack loss: 0.21721982955932617\n"
     ]
    },
    {
     "name": "stderr",
     "output_type": "stream",
     "text": [
      "Perturbing graph:   8%|▊         | 19/253 [00:07<01:30,  2.59it/s]"
     ]
    },
    {
     "name": "stdout",
     "output_type": "stream",
     "text": [
      "GCN loss on unlabled data: 0.5018641948699951\n",
      "GCN acc on unlabled data: 0.8444345105051408\n",
      "attack loss: 0.21659314632415771\n"
     ]
    },
    {
     "name": "stderr",
     "output_type": "stream",
     "text": [
      "Perturbing graph:   8%|▊         | 20/253 [00:07<01:30,  2.56it/s]"
     ]
    },
    {
     "name": "stdout",
     "output_type": "stream",
     "text": [
      "GCN loss on unlabled data: 0.49758943915367126\n",
      "GCN acc on unlabled data: 0.845775592311131\n",
      "attack loss: 0.22368474304676056\n"
     ]
    },
    {
     "name": "stderr",
     "output_type": "stream",
     "text": [
      "Perturbing graph:   8%|▊         | 21/253 [00:07<01:31,  2.55it/s]"
     ]
    },
    {
     "name": "stdout",
     "output_type": "stream",
     "text": [
      "GCN loss on unlabled data: 0.49935004115104675\n",
      "GCN acc on unlabled data: 0.8381761287438534\n",
      "attack loss: 0.21917089819908142\n"
     ]
    },
    {
     "name": "stderr",
     "output_type": "stream",
     "text": [
      "Perturbing graph:   9%|▊         | 22/253 [00:08<01:31,  2.53it/s]"
     ]
    },
    {
     "name": "stdout",
     "output_type": "stream",
     "text": [
      "GCN loss on unlabled data: 0.5008794665336609\n",
      "GCN acc on unlabled data: 0.8439874832364774\n",
      "attack loss: 0.22311457991600037\n"
     ]
    },
    {
     "name": "stderr",
     "output_type": "stream",
     "text": [
      "Perturbing graph:   9%|▉         | 23/253 [00:08<01:30,  2.53it/s]"
     ]
    },
    {
     "name": "stdout",
     "output_type": "stream",
     "text": [
      "GCN loss on unlabled data: 0.5014694333076477\n",
      "GCN acc on unlabled data: 0.8381761287438534\n",
      "attack loss: 0.22542525827884674\n"
     ]
    },
    {
     "name": "stderr",
     "output_type": "stream",
     "text": [
      "Perturbing graph:   9%|▉         | 24/253 [00:09<01:30,  2.53it/s]"
     ]
    },
    {
     "name": "stdout",
     "output_type": "stream",
     "text": [
      "GCN loss on unlabled data: 0.4982580542564392\n",
      "GCN acc on unlabled data: 0.845775592311131\n",
      "attack loss: 0.22150728106498718\n"
     ]
    },
    {
     "name": "stderr",
     "output_type": "stream",
     "text": [
      "Perturbing graph:  10%|▉         | 25/253 [00:09<01:30,  2.52it/s]"
     ]
    },
    {
     "name": "stdout",
     "output_type": "stream",
     "text": [
      "GCN loss on unlabled data: 0.5018470883369446\n",
      "GCN acc on unlabled data: 0.8471166741171212\n",
      "attack loss: 0.22826172411441803\n"
     ]
    },
    {
     "name": "stderr",
     "output_type": "stream",
     "text": [
      "Perturbing graph:  10%|█         | 26/253 [00:09<01:30,  2.52it/s]"
     ]
    },
    {
     "name": "stdout",
     "output_type": "stream",
     "text": [
      "GCN loss on unlabled data: 0.5027838945388794\n",
      "GCN acc on unlabled data: 0.83772910147519\n",
      "attack loss: 0.22836236655712128\n"
     ]
    },
    {
     "name": "stderr",
     "output_type": "stream",
     "text": [
      "Perturbing graph:  11%|█         | 27/253 [00:10<01:29,  2.52it/s]"
     ]
    },
    {
     "name": "stdout",
     "output_type": "stream",
     "text": [
      "GCN loss on unlabled data: 0.5104534029960632\n",
      "GCN acc on unlabled data: 0.8408582923558338\n",
      "attack loss: 0.2328331619501114\n"
     ]
    },
    {
     "name": "stderr",
     "output_type": "stream",
     "text": [
      "Perturbing graph:  11%|█         | 28/253 [00:10<01:29,  2.52it/s]"
     ]
    },
    {
     "name": "stdout",
     "output_type": "stream",
     "text": [
      "GCN loss on unlabled data: 0.52037113904953\n",
      "GCN acc on unlabled data: 0.8408582923558338\n",
      "attack loss: 0.2440420240163803\n"
     ]
    },
    {
     "name": "stderr",
     "output_type": "stream",
     "text": [
      "Perturbing graph:  11%|█▏        | 29/253 [00:11<01:28,  2.52it/s]"
     ]
    },
    {
     "name": "stdout",
     "output_type": "stream",
     "text": [
      "GCN loss on unlabled data: 0.5093223452568054\n",
      "GCN acc on unlabled data: 0.8368350469378633\n",
      "attack loss: 0.24010801315307617\n"
     ]
    },
    {
     "name": "stderr",
     "output_type": "stream",
     "text": [
      "Perturbing graph:  12%|█▏        | 30/253 [00:11<01:29,  2.50it/s]"
     ]
    },
    {
     "name": "stdout",
     "output_type": "stream",
     "text": [
      "GCN loss on unlabled data: 0.5173620581626892\n",
      "GCN acc on unlabled data: 0.8332588287885562\n",
      "attack loss: 0.2436337172985077\n"
     ]
    },
    {
     "name": "stderr",
     "output_type": "stream",
     "text": [
      "Perturbing graph:  12%|█▏        | 31/253 [00:11<01:26,  2.57it/s]"
     ]
    },
    {
     "name": "stdout",
     "output_type": "stream",
     "text": [
      "GCN loss on unlabled data: 0.5218364596366882\n",
      "GCN acc on unlabled data: 0.83772910147519\n",
      "attack loss: 0.24022901058197021\n"
     ]
    },
    {
     "name": "stderr",
     "output_type": "stream",
     "text": [
      "Perturbing graph:  13%|█▎        | 32/253 [00:12<01:23,  2.64it/s]"
     ]
    },
    {
     "name": "stdout",
     "output_type": "stream",
     "text": [
      "GCN loss on unlabled data: 0.5401895046234131\n",
      "GCN acc on unlabled data: 0.8345999105945463\n",
      "attack loss: 0.2488410472869873\n"
     ]
    },
    {
     "name": "stderr",
     "output_type": "stream",
     "text": [
      "Perturbing graph:  13%|█▎        | 33/253 [00:12<01:22,  2.68it/s]"
     ]
    },
    {
     "name": "stdout",
     "output_type": "stream",
     "text": [
      "GCN loss on unlabled data: 0.5330766439437866\n",
      "GCN acc on unlabled data: 0.8319177469825659\n",
      "attack loss: 0.2465396225452423\n"
     ]
    },
    {
     "name": "stderr",
     "output_type": "stream",
     "text": [
      "Perturbing graph:  13%|█▎        | 34/253 [00:12<01:20,  2.72it/s]"
     ]
    },
    {
     "name": "stdout",
     "output_type": "stream",
     "text": [
      "GCN loss on unlabled data: 0.5438083410263062\n",
      "GCN acc on unlabled data: 0.8292355833705857\n",
      "attack loss: 0.2524415850639343\n"
     ]
    },
    {
     "name": "stderr",
     "output_type": "stream",
     "text": [
      "Perturbing graph:  14%|█▍        | 35/253 [00:13<01:19,  2.74it/s]"
     ]
    },
    {
     "name": "stdout",
     "output_type": "stream",
     "text": [
      "GCN loss on unlabled data: 0.5472132563591003\n",
      "GCN acc on unlabled data: 0.8278945015645954\n",
      "attack loss: 0.2512521743774414\n"
     ]
    },
    {
     "name": "stderr",
     "output_type": "stream",
     "text": [
      "Perturbing graph:  14%|█▍        | 36/253 [00:13<01:18,  2.76it/s]"
     ]
    },
    {
     "name": "stdout",
     "output_type": "stream",
     "text": [
      "GCN loss on unlabled data: 0.5495666265487671\n",
      "GCN acc on unlabled data: 0.8283415288332588\n",
      "attack loss: 0.2576667368412018\n"
     ]
    },
    {
     "name": "stderr",
     "output_type": "stream",
     "text": [
      "Perturbing graph:  15%|█▍        | 37/253 [00:13<01:17,  2.77it/s]"
     ]
    },
    {
     "name": "stdout",
     "output_type": "stream",
     "text": [
      "GCN loss on unlabled data: 0.570163369178772\n",
      "GCN acc on unlabled data: 0.8247653106839518\n",
      "attack loss: 0.2641991674900055\n"
     ]
    },
    {
     "name": "stderr",
     "output_type": "stream",
     "text": [
      "Perturbing graph:  15%|█▌        | 38/253 [00:14<01:17,  2.78it/s]"
     ]
    },
    {
     "name": "stdout",
     "output_type": "stream",
     "text": [
      "GCN loss on unlabled data: 0.5829967260360718\n",
      "GCN acc on unlabled data: 0.821636119803308\n",
      "attack loss: 0.26718011498451233\n"
     ]
    },
    {
     "name": "stderr",
     "output_type": "stream",
     "text": [
      "Perturbing graph:  15%|█▌        | 39/253 [00:14<01:16,  2.79it/s]"
     ]
    },
    {
     "name": "stdout",
     "output_type": "stream",
     "text": [
      "GCN loss on unlabled data: 0.5780142545700073\n",
      "GCN acc on unlabled data: 0.8207420652659813\n",
      "attack loss: 0.269135981798172\n"
     ]
    },
    {
     "name": "stderr",
     "output_type": "stream",
     "text": [
      "Perturbing graph:  16%|█▌        | 40/253 [00:14<01:16,  2.79it/s]"
     ]
    },
    {
     "name": "stdout",
     "output_type": "stream",
     "text": [
      "GCN loss on unlabled data: 0.5803629755973816\n",
      "GCN acc on unlabled data: 0.8243182834152883\n",
      "attack loss: 0.2738494277000427\n"
     ]
    },
    {
     "name": "stderr",
     "output_type": "stream",
     "text": [
      "Perturbing graph:  16%|█▌        | 41/253 [00:15<01:15,  2.79it/s]"
     ]
    },
    {
     "name": "stdout",
     "output_type": "stream",
     "text": [
      "GCN loss on unlabled data: 0.5774958729743958\n",
      "GCN acc on unlabled data: 0.8278945015645954\n",
      "attack loss: 0.26899775862693787\n"
     ]
    },
    {
     "name": "stderr",
     "output_type": "stream",
     "text": [
      "Perturbing graph:  17%|█▋        | 42/253 [00:15<01:15,  2.79it/s]"
     ]
    },
    {
     "name": "stdout",
     "output_type": "stream",
     "text": [
      "GCN loss on unlabled data: 0.5740890502929688\n",
      "GCN acc on unlabled data: 0.8185069289226643\n",
      "attack loss: 0.2667542099952698\n"
     ]
    },
    {
     "name": "stderr",
     "output_type": "stream",
     "text": [
      "Perturbing graph:  17%|█▋        | 43/253 [00:16<01:15,  2.79it/s]"
     ]
    },
    {
     "name": "stdout",
     "output_type": "stream",
     "text": [
      "GCN loss on unlabled data: 0.5937931537628174\n",
      "GCN acc on unlabled data: 0.8202950379973178\n",
      "attack loss: 0.27570757269859314\n"
     ]
    },
    {
     "name": "stderr",
     "output_type": "stream",
     "text": [
      "Perturbing graph:  17%|█▋        | 44/253 [00:16<01:14,  2.79it/s]"
     ]
    },
    {
     "name": "stdout",
     "output_type": "stream",
     "text": [
      "GCN loss on unlabled data: 0.6002882719039917\n",
      "GCN acc on unlabled data: 0.8176128743853376\n",
      "attack loss: 0.2799869775772095\n"
     ]
    },
    {
     "name": "stderr",
     "output_type": "stream",
     "text": [
      "Perturbing graph:  18%|█▊        | 45/253 [00:16<01:14,  2.79it/s]"
     ]
    },
    {
     "name": "stdout",
     "output_type": "stream",
     "text": [
      "GCN loss on unlabled data: 0.5916260480880737\n",
      "GCN acc on unlabled data: 0.8211890925346447\n",
      "attack loss: 0.27682769298553467\n"
     ]
    },
    {
     "name": "stderr",
     "output_type": "stream",
     "text": [
      "Perturbing graph:  18%|█▊        | 46/253 [00:17<01:14,  2.79it/s]"
     ]
    },
    {
     "name": "stdout",
     "output_type": "stream",
     "text": [
      "GCN loss on unlabled data: 0.6068312525749207\n",
      "GCN acc on unlabled data: 0.8229772016092982\n",
      "attack loss: 0.28321075439453125\n"
     ]
    },
    {
     "name": "stderr",
     "output_type": "stream",
     "text": [
      "Perturbing graph:  19%|█▊        | 47/253 [00:17<01:13,  2.79it/s]"
     ]
    },
    {
     "name": "stdout",
     "output_type": "stream",
     "text": [
      "GCN loss on unlabled data: 0.608708381652832\n",
      "GCN acc on unlabled data: 0.8211890925346447\n",
      "attack loss: 0.2867346405982971\n"
     ]
    },
    {
     "name": "stderr",
     "output_type": "stream",
     "text": [
      "Perturbing graph:  19%|█▉        | 48/253 [00:17<01:13,  2.79it/s]"
     ]
    },
    {
     "name": "stdout",
     "output_type": "stream",
     "text": [
      "GCN loss on unlabled data: 0.6208369135856628\n",
      "GCN acc on unlabled data: 0.8185069289226643\n",
      "attack loss: 0.30106326937675476\n"
     ]
    },
    {
     "name": "stderr",
     "output_type": "stream",
     "text": [
      "Perturbing graph:  19%|█▉        | 49/253 [00:18<01:13,  2.79it/s]"
     ]
    },
    {
     "name": "stdout",
     "output_type": "stream",
     "text": [
      "GCN loss on unlabled data: 0.6149853467941284\n",
      "GCN acc on unlabled data: 0.821636119803308\n",
      "attack loss: 0.28969699144363403\n"
     ]
    },
    {
     "name": "stderr",
     "output_type": "stream",
     "text": [
      "Perturbing graph:  20%|█▉        | 50/253 [00:18<01:14,  2.72it/s]"
     ]
    },
    {
     "name": "stdout",
     "output_type": "stream",
     "text": [
      "GCN loss on unlabled data: 0.6265223622322083\n",
      "GCN acc on unlabled data: 0.8171658471166742\n",
      "attack loss: 0.29517239332199097\n"
     ]
    },
    {
     "name": "stderr",
     "output_type": "stream",
     "text": [
      "Perturbing graph:  20%|██        | 51/253 [00:19<01:16,  2.65it/s]"
     ]
    },
    {
     "name": "stdout",
     "output_type": "stream",
     "text": [
      "GCN loss on unlabled data: 0.6089153289794922\n",
      "GCN acc on unlabled data: 0.8202950379973178\n",
      "attack loss: 0.2912368178367615\n"
     ]
    },
    {
     "name": "stderr",
     "output_type": "stream",
     "text": [
      "Perturbing graph:  21%|██        | 52/253 [00:19<01:17,  2.61it/s]"
     ]
    },
    {
     "name": "stdout",
     "output_type": "stream",
     "text": [
      "GCN loss on unlabled data: 0.6184942126274109\n",
      "GCN acc on unlabled data: 0.8180599016540009\n",
      "attack loss: 0.3045526444911957\n"
     ]
    },
    {
     "name": "stderr",
     "output_type": "stream",
     "text": [
      "Perturbing graph:  21%|██        | 53/253 [00:19<01:17,  2.59it/s]"
     ]
    },
    {
     "name": "stdout",
     "output_type": "stream",
     "text": [
      "GCN loss on unlabled data: 0.6401265263557434\n",
      "GCN acc on unlabled data: 0.8113544926240501\n",
      "attack loss: 0.30659323930740356\n"
     ]
    },
    {
     "name": "stderr",
     "output_type": "stream",
     "text": [
      "Perturbing graph:  21%|██▏       | 54/253 [00:20<01:15,  2.64it/s]"
     ]
    },
    {
     "name": "stdout",
     "output_type": "stream",
     "text": [
      "GCN loss on unlabled data: 0.6376019716262817\n",
      "GCN acc on unlabled data: 0.8171658471166742\n",
      "attack loss: 0.3031501770019531\n"
     ]
    },
    {
     "name": "stderr",
     "output_type": "stream",
     "text": [
      "Perturbing graph:  22%|██▏       | 55/253 [00:20<01:13,  2.68it/s]"
     ]
    },
    {
     "name": "stdout",
     "output_type": "stream",
     "text": [
      "GCN loss on unlabled data: 0.6439670920372009\n",
      "GCN acc on unlabled data: 0.8113544926240501\n",
      "attack loss: 0.3128937780857086\n"
     ]
    },
    {
     "name": "stderr",
     "output_type": "stream",
     "text": [
      "Perturbing graph:  22%|██▏       | 56/253 [00:20<01:15,  2.62it/s]"
     ]
    },
    {
     "name": "stdout",
     "output_type": "stream",
     "text": [
      "GCN loss on unlabled data: 0.6491559743881226\n",
      "GCN acc on unlabled data: 0.8100134108180599\n",
      "attack loss: 0.31860625743865967\n"
     ]
    },
    {
     "name": "stderr",
     "output_type": "stream",
     "text": [
      "Perturbing graph:  23%|██▎       | 57/253 [00:21<01:15,  2.59it/s]"
     ]
    },
    {
     "name": "stdout",
     "output_type": "stream",
     "text": [
      "GCN loss on unlabled data: 0.6515502333641052\n",
      "GCN acc on unlabled data: 0.8122485471613768\n",
      "attack loss: 0.31376275420188904\n"
     ]
    },
    {
     "name": "stderr",
     "output_type": "stream",
     "text": [
      "Perturbing graph:  23%|██▎       | 58/253 [00:21<01:15,  2.59it/s]"
     ]
    },
    {
     "name": "stdout",
     "output_type": "stream",
     "text": [
      "GCN loss on unlabled data: 0.6378595232963562\n",
      "GCN acc on unlabled data: 0.8194009834599911\n",
      "attack loss: 0.30099251866340637\n"
     ]
    },
    {
     "name": "stderr",
     "output_type": "stream",
     "text": [
      "Perturbing graph:  23%|██▎       | 59/253 [00:22<01:15,  2.57it/s]"
     ]
    },
    {
     "name": "stdout",
     "output_type": "stream",
     "text": [
      "GCN loss on unlabled data: 0.6463772058486938\n",
      "GCN acc on unlabled data: 0.8118015198927134\n",
      "attack loss: 0.3103727698326111\n"
     ]
    },
    {
     "name": "stderr",
     "output_type": "stream",
     "text": [
      "Perturbing graph:  24%|██▎       | 60/253 [00:22<01:15,  2.55it/s]"
     ]
    },
    {
     "name": "stdout",
     "output_type": "stream",
     "text": [
      "GCN loss on unlabled data: 0.6563318967819214\n",
      "GCN acc on unlabled data: 0.8095663835493966\n",
      "attack loss: 0.31220707297325134\n"
     ]
    },
    {
     "name": "stderr",
     "output_type": "stream",
     "text": [
      "Perturbing graph:  24%|██▍       | 61/253 [00:22<01:15,  2.54it/s]"
     ]
    },
    {
     "name": "stdout",
     "output_type": "stream",
     "text": [
      "GCN loss on unlabled data: 0.6620276570320129\n",
      "GCN acc on unlabled data: 0.8100134108180599\n",
      "attack loss: 0.3178861141204834\n"
     ]
    },
    {
     "name": "stderr",
     "output_type": "stream",
     "text": [
      "Perturbing graph:  25%|██▍       | 62/253 [00:23<01:15,  2.53it/s]"
     ]
    },
    {
     "name": "stdout",
     "output_type": "stream",
     "text": [
      "GCN loss on unlabled data: 0.6823040843009949\n",
      "GCN acc on unlabled data: 0.8055431381314261\n",
      "attack loss: 0.3265092670917511\n"
     ]
    },
    {
     "name": "stderr",
     "output_type": "stream",
     "text": [
      "Perturbing graph:  25%|██▍       | 63/253 [00:23<01:15,  2.52it/s]"
     ]
    },
    {
     "name": "stdout",
     "output_type": "stream",
     "text": [
      "GCN loss on unlabled data: 0.6843044757843018\n",
      "GCN acc on unlabled data: 0.8086723290120698\n",
      "attack loss: 0.3266938328742981\n"
     ]
    },
    {
     "name": "stderr",
     "output_type": "stream",
     "text": [
      "Perturbing graph:  25%|██▌       | 64/253 [00:24<01:15,  2.51it/s]"
     ]
    },
    {
     "name": "stdout",
     "output_type": "stream",
     "text": [
      "GCN loss on unlabled data: 0.6733074188232422\n",
      "GCN acc on unlabled data: 0.8126955744300403\n",
      "attack loss: 0.3176422119140625\n"
     ]
    },
    {
     "name": "stderr",
     "output_type": "stream",
     "text": [
      "Perturbing graph:  26%|██▌       | 65/253 [00:24<01:14,  2.51it/s]"
     ]
    },
    {
     "name": "stdout",
     "output_type": "stream",
     "text": [
      "GCN loss on unlabled data: 0.6798515915870667\n",
      "GCN acc on unlabled data: 0.8059901654000894\n",
      "attack loss: 0.32591623067855835\n"
     ]
    },
    {
     "name": "stderr",
     "output_type": "stream",
     "text": [
      "Perturbing graph:  26%|██▌       | 66/253 [00:24<01:14,  2.51it/s]"
     ]
    },
    {
     "name": "stdout",
     "output_type": "stream",
     "text": [
      "GCN loss on unlabled data: 0.6801151633262634\n",
      "GCN acc on unlabled data: 0.8104604380867233\n",
      "attack loss: 0.32650521397590637\n"
     ]
    },
    {
     "name": "stderr",
     "output_type": "stream",
     "text": [
      "Perturbing graph:  26%|██▋       | 67/253 [00:25<01:14,  2.50it/s]"
     ]
    },
    {
     "name": "stdout",
     "output_type": "stream",
     "text": [
      "GCN loss on unlabled data: 0.6786512136459351\n",
      "GCN acc on unlabled data: 0.8091193562807332\n",
      "attack loss: 0.32621878385543823\n"
     ]
    },
    {
     "name": "stderr",
     "output_type": "stream",
     "text": [
      "Perturbing graph:  27%|██▋       | 68/253 [00:25<01:13,  2.50it/s]"
     ]
    },
    {
     "name": "stdout",
     "output_type": "stream",
     "text": [
      "GCN loss on unlabled data: 0.6796545386314392\n",
      "GCN acc on unlabled data: 0.8091193562807332\n",
      "attack loss: 0.3278464674949646\n"
     ]
    },
    {
     "name": "stderr",
     "output_type": "stream",
     "text": [
      "Perturbing graph:  27%|██▋       | 69/253 [00:26<01:13,  2.51it/s]"
     ]
    },
    {
     "name": "stdout",
     "output_type": "stream",
     "text": [
      "GCN loss on unlabled data: 0.6808751821517944\n",
      "GCN acc on unlabled data: 0.8095663835493966\n",
      "attack loss: 0.33277371525764465\n"
     ]
    },
    {
     "name": "stderr",
     "output_type": "stream",
     "text": [
      "Perturbing graph:  28%|██▊       | 70/253 [00:26<01:12,  2.51it/s]"
     ]
    },
    {
     "name": "stdout",
     "output_type": "stream",
     "text": [
      "GCN loss on unlabled data: 0.7046220898628235\n",
      "GCN acc on unlabled data: 0.8033080017881091\n",
      "attack loss: 0.33573269844055176\n"
     ]
    },
    {
     "name": "stderr",
     "output_type": "stream",
     "text": [
      "Perturbing graph:  28%|██▊       | 71/253 [00:26<01:12,  2.52it/s]"
     ]
    },
    {
     "name": "stdout",
     "output_type": "stream",
     "text": [
      "GCN loss on unlabled data: 0.6848272681236267\n",
      "GCN acc on unlabled data: 0.8086723290120698\n",
      "attack loss: 0.32491475343704224\n"
     ]
    },
    {
     "name": "stderr",
     "output_type": "stream",
     "text": [
      "Perturbing graph:  28%|██▊       | 72/253 [00:27<01:11,  2.52it/s]"
     ]
    },
    {
     "name": "stdout",
     "output_type": "stream",
     "text": [
      "GCN loss on unlabled data: 0.7006994485855103\n",
      "GCN acc on unlabled data: 0.8037550290567725\n",
      "attack loss: 0.3351949155330658\n"
     ]
    },
    {
     "name": "stderr",
     "output_type": "stream",
     "text": [
      "Perturbing graph:  29%|██▉       | 73/253 [00:27<01:11,  2.52it/s]"
     ]
    },
    {
     "name": "stdout",
     "output_type": "stream",
     "text": [
      "GCN loss on unlabled data: 0.7076582312583923\n",
      "GCN acc on unlabled data: 0.8055431381314261\n",
      "attack loss: 0.35270005464553833\n"
     ]
    },
    {
     "name": "stderr",
     "output_type": "stream",
     "text": [
      "Perturbing graph:  29%|██▉       | 74/253 [00:28<01:11,  2.52it/s]"
     ]
    },
    {
     "name": "stdout",
     "output_type": "stream",
     "text": [
      "GCN loss on unlabled data: 0.7155323624610901\n",
      "GCN acc on unlabled data: 0.8033080017881091\n",
      "attack loss: 0.33831775188446045\n"
     ]
    },
    {
     "name": "stderr",
     "output_type": "stream",
     "text": [
      "Perturbing graph:  30%|██▉       | 75/253 [00:28<01:10,  2.51it/s]"
     ]
    },
    {
     "name": "stdout",
     "output_type": "stream",
     "text": [
      "GCN loss on unlabled data: 0.728610098361969\n",
      "GCN acc on unlabled data: 0.8019669199821189\n",
      "attack loss: 0.3452916741371155\n"
     ]
    },
    {
     "name": "stderr",
     "output_type": "stream",
     "text": [
      "Perturbing graph:  30%|███       | 76/253 [00:28<01:10,  2.52it/s]"
     ]
    },
    {
     "name": "stdout",
     "output_type": "stream",
     "text": [
      "GCN loss on unlabled data: 0.7222489714622498\n",
      "GCN acc on unlabled data: 0.8006258381761288\n",
      "attack loss: 0.34963157773017883\n"
     ]
    },
    {
     "name": "stderr",
     "output_type": "stream",
     "text": [
      "Perturbing graph:  30%|███       | 77/253 [00:29<01:09,  2.52it/s]"
     ]
    },
    {
     "name": "stdout",
     "output_type": "stream",
     "text": [
      "GCN loss on unlabled data: 0.7188423871994019\n",
      "GCN acc on unlabled data: 0.7966025927581583\n",
      "attack loss: 0.34354597330093384\n"
     ]
    },
    {
     "name": "stderr",
     "output_type": "stream",
     "text": [
      "Perturbing graph:  31%|███       | 78/253 [00:29<01:09,  2.52it/s]"
     ]
    },
    {
     "name": "stdout",
     "output_type": "stream",
     "text": [
      "GCN loss on unlabled data: 0.7526142001152039\n",
      "GCN acc on unlabled data: 0.7948144836835047\n",
      "attack loss: 0.3644025921821594\n"
     ]
    },
    {
     "name": "stderr",
     "output_type": "stream",
     "text": [
      "Perturbing graph:  31%|███       | 79/253 [00:30<01:09,  2.52it/s]"
     ]
    },
    {
     "name": "stdout",
     "output_type": "stream",
     "text": [
      "GCN loss on unlabled data: 0.741833508014679\n",
      "GCN acc on unlabled data: 0.7983907018328118\n",
      "attack loss: 0.3632669150829315\n"
     ]
    },
    {
     "name": "stderr",
     "output_type": "stream",
     "text": [
      "Perturbing graph:  32%|███▏      | 80/253 [00:30<01:08,  2.52it/s]"
     ]
    },
    {
     "name": "stdout",
     "output_type": "stream",
     "text": [
      "GCN loss on unlabled data: 0.7346095442771912\n",
      "GCN acc on unlabled data: 0.7983907018328118\n",
      "attack loss: 0.3504398763179779\n"
     ]
    },
    {
     "name": "stderr",
     "output_type": "stream",
     "text": [
      "Perturbing graph:  32%|███▏      | 81/253 [00:30<01:08,  2.52it/s]"
     ]
    },
    {
     "name": "stdout",
     "output_type": "stream",
     "text": [
      "GCN loss on unlabled data: 0.736560046672821\n",
      "GCN acc on unlabled data: 0.7943674564148413\n",
      "attack loss: 0.3560621738433838\n"
     ]
    },
    {
     "name": "stderr",
     "output_type": "stream",
     "text": [
      "Perturbing graph:  32%|███▏      | 82/253 [00:31<01:07,  2.52it/s]"
     ]
    },
    {
     "name": "stdout",
     "output_type": "stream",
     "text": [
      "GCN loss on unlabled data: 0.7426225543022156\n",
      "GCN acc on unlabled data: 0.7907912382655342\n",
      "attack loss: 0.3596649169921875\n"
     ]
    },
    {
     "name": "stderr",
     "output_type": "stream",
     "text": [
      "Perturbing graph:  33%|███▎      | 83/253 [00:31<01:07,  2.51it/s]"
     ]
    },
    {
     "name": "stdout",
     "output_type": "stream",
     "text": [
      "GCN loss on unlabled data: 0.7502583265304565\n",
      "GCN acc on unlabled data: 0.7903442109968708\n",
      "attack loss: 0.35211774706840515\n"
     ]
    },
    {
     "name": "stderr",
     "output_type": "stream",
     "text": [
      "Perturbing graph:  33%|███▎      | 84/253 [00:32<01:07,  2.51it/s]"
     ]
    },
    {
     "name": "stdout",
     "output_type": "stream",
     "text": [
      "GCN loss on unlabled data: 0.7873942255973816\n",
      "GCN acc on unlabled data: 0.7863209655789003\n",
      "attack loss: 0.36593547463417053\n"
     ]
    },
    {
     "name": "stderr",
     "output_type": "stream",
     "text": [
      "Perturbing graph:  34%|███▎      | 85/253 [00:32<01:06,  2.51it/s]"
     ]
    },
    {
     "name": "stdout",
     "output_type": "stream",
     "text": [
      "GCN loss on unlabled data: 0.7673459649085999\n",
      "GCN acc on unlabled data: 0.7898971837282075\n",
      "attack loss: 0.37247434258461\n"
     ]
    },
    {
     "name": "stderr",
     "output_type": "stream",
     "text": [
      "Perturbing graph:  34%|███▍      | 86/253 [00:32<01:06,  2.51it/s]"
     ]
    },
    {
     "name": "stdout",
     "output_type": "stream",
     "text": [
      "GCN loss on unlabled data: 0.8104360699653625\n",
      "GCN acc on unlabled data: 0.785873938310237\n",
      "attack loss: 0.38884809613227844\n"
     ]
    },
    {
     "name": "stderr",
     "output_type": "stream",
     "text": [
      "Perturbing graph:  34%|███▍      | 87/253 [00:33<01:06,  2.51it/s]"
     ]
    },
    {
     "name": "stdout",
     "output_type": "stream",
     "text": [
      "GCN loss on unlabled data: 0.7941049933433533\n",
      "GCN acc on unlabled data: 0.7840858292355833\n",
      "attack loss: 0.37793588638305664\n"
     ]
    },
    {
     "name": "stderr",
     "output_type": "stream",
     "text": [
      "Perturbing graph:  35%|███▍      | 88/253 [00:33<01:05,  2.51it/s]"
     ]
    },
    {
     "name": "stdout",
     "output_type": "stream",
     "text": [
      "GCN loss on unlabled data: 0.7766354084014893\n",
      "GCN acc on unlabled data: 0.7921323200715243\n",
      "attack loss: 0.3658580780029297\n"
     ]
    },
    {
     "name": "stderr",
     "output_type": "stream",
     "text": [
      "Perturbing graph:  35%|███▌      | 89/253 [00:34<01:05,  2.52it/s]"
     ]
    },
    {
     "name": "stdout",
     "output_type": "stream",
     "text": [
      "GCN loss on unlabled data: 0.7880625128746033\n",
      "GCN acc on unlabled data: 0.7881090746535538\n",
      "attack loss: 0.3734723925590515\n"
     ]
    },
    {
     "name": "stderr",
     "output_type": "stream",
     "text": [
      "Perturbing graph:  36%|███▌      | 90/253 [00:34<01:04,  2.51it/s]"
     ]
    },
    {
     "name": "stdout",
     "output_type": "stream",
     "text": [
      "GCN loss on unlabled data: 0.7831264734268188\n",
      "GCN acc on unlabled data: 0.7849798837729102\n",
      "attack loss: 0.373694509267807\n"
     ]
    },
    {
     "name": "stderr",
     "output_type": "stream",
     "text": [
      "Perturbing graph:  36%|███▌      | 91/253 [00:34<01:04,  2.52it/s]"
     ]
    },
    {
     "name": "stdout",
     "output_type": "stream",
     "text": [
      "GCN loss on unlabled data: 0.7981963753700256\n",
      "GCN acc on unlabled data: 0.7831917746982566\n",
      "attack loss: 0.38219866156578064\n"
     ]
    },
    {
     "name": "stderr",
     "output_type": "stream",
     "text": [
      "Perturbing graph:  36%|███▋      | 92/253 [00:35<01:03,  2.52it/s]"
     ]
    },
    {
     "name": "stdout",
     "output_type": "stream",
     "text": [
      "GCN loss on unlabled data: 0.8231788277626038\n",
      "GCN acc on unlabled data: 0.7827447474295932\n",
      "attack loss: 0.39503034949302673\n"
     ]
    },
    {
     "name": "stderr",
     "output_type": "stream",
     "text": [
      "Perturbing graph:  37%|███▋      | 93/253 [00:35<01:03,  2.52it/s]"
     ]
    },
    {
     "name": "stdout",
     "output_type": "stream",
     "text": [
      "GCN loss on unlabled data: 0.7926264405250549\n",
      "GCN acc on unlabled data: 0.7872150201162271\n",
      "attack loss: 0.37717950344085693\n"
     ]
    },
    {
     "name": "stderr",
     "output_type": "stream",
     "text": [
      "Perturbing graph:  37%|███▋      | 94/253 [00:36<01:03,  2.51it/s]"
     ]
    },
    {
     "name": "stdout",
     "output_type": "stream",
     "text": [
      "GCN loss on unlabled data: 0.8245529532432556\n",
      "GCN acc on unlabled data: 0.7831917746982566\n",
      "attack loss: 0.3918401300907135\n"
     ]
    },
    {
     "name": "stderr",
     "output_type": "stream",
     "text": [
      "Perturbing graph:  38%|███▊      | 95/253 [00:36<01:02,  2.51it/s]"
     ]
    },
    {
     "name": "stdout",
     "output_type": "stream",
     "text": [
      "GCN loss on unlabled data: 0.7976778149604797\n",
      "GCN acc on unlabled data: 0.7876620473848905\n",
      "attack loss: 0.3910565972328186\n"
     ]
    },
    {
     "name": "stderr",
     "output_type": "stream",
     "text": [
      "Perturbing graph:  38%|███▊      | 96/253 [00:36<01:02,  2.51it/s]"
     ]
    },
    {
     "name": "stdout",
     "output_type": "stream",
     "text": [
      "GCN loss on unlabled data: 0.7932438254356384\n",
      "GCN acc on unlabled data: 0.7845328565042468\n",
      "attack loss: 0.381482869386673\n"
     ]
    },
    {
     "name": "stderr",
     "output_type": "stream",
     "text": [
      "Perturbing graph:  38%|███▊      | 97/253 [00:37<01:02,  2.51it/s]"
     ]
    },
    {
     "name": "stdout",
     "output_type": "stream",
     "text": [
      "GCN loss on unlabled data: 0.8087083697319031\n",
      "GCN acc on unlabled data: 0.7863209655789003\n",
      "attack loss: 0.3897131085395813\n"
     ]
    },
    {
     "name": "stderr",
     "output_type": "stream",
     "text": [
      "Perturbing graph:  39%|███▊      | 98/253 [00:37<01:01,  2.52it/s]"
     ]
    },
    {
     "name": "stdout",
     "output_type": "stream",
     "text": [
      "GCN loss on unlabled data: 0.8219746947288513\n",
      "GCN acc on unlabled data: 0.7854269110415736\n",
      "attack loss: 0.39340758323669434\n"
     ]
    },
    {
     "name": "stderr",
     "output_type": "stream",
     "text": [
      "Perturbing graph:  39%|███▉      | 99/253 [00:38<01:01,  2.52it/s]"
     ]
    },
    {
     "name": "stdout",
     "output_type": "stream",
     "text": [
      "GCN loss on unlabled data: 0.8210820555686951\n",
      "GCN acc on unlabled data: 0.78363880196692\n",
      "attack loss: 0.399880975484848\n"
     ]
    },
    {
     "name": "stderr",
     "output_type": "stream",
     "text": [
      "Perturbing graph:  40%|███▉      | 100/253 [00:38<01:00,  2.51it/s]"
     ]
    },
    {
     "name": "stdout",
     "output_type": "stream",
     "text": [
      "GCN loss on unlabled data: 0.8073489665985107\n",
      "GCN acc on unlabled data: 0.7809566383549397\n",
      "attack loss: 0.3894879221916199\n"
     ]
    },
    {
     "name": "stderr",
     "output_type": "stream",
     "text": [
      "Perturbing graph:  40%|███▉      | 101/253 [00:38<01:00,  2.51it/s]"
     ]
    },
    {
     "name": "stdout",
     "output_type": "stream",
     "text": [
      "GCN loss on unlabled data: 0.8263652920722961\n",
      "GCN acc on unlabled data: 0.7867679928475637\n",
      "attack loss: 0.39430856704711914\n"
     ]
    },
    {
     "name": "stderr",
     "output_type": "stream",
     "text": [
      "Perturbing graph:  40%|████      | 102/253 [00:39<01:00,  2.51it/s]"
     ]
    },
    {
     "name": "stdout",
     "output_type": "stream",
     "text": [
      "GCN loss on unlabled data: 0.8315606713294983\n",
      "GCN acc on unlabled data: 0.7805096110862763\n",
      "attack loss: 0.4014217257499695\n"
     ]
    },
    {
     "name": "stderr",
     "output_type": "stream",
     "text": [
      "Perturbing graph:  41%|████      | 103/253 [00:39<00:59,  2.52it/s]"
     ]
    },
    {
     "name": "stdout",
     "output_type": "stream",
     "text": [
      "GCN loss on unlabled data: 0.838330090045929\n",
      "GCN acc on unlabled data: 0.7773804202056326\n",
      "attack loss: 0.3976505398750305\n"
     ]
    },
    {
     "name": "stderr",
     "output_type": "stream",
     "text": [
      "Perturbing graph:  41%|████      | 104/253 [00:40<00:59,  2.52it/s]"
     ]
    },
    {
     "name": "stdout",
     "output_type": "stream",
     "text": [
      "GCN loss on unlabled data: 0.8491559028625488\n",
      "GCN acc on unlabled data: 0.7769333929369692\n",
      "attack loss: 0.4104459881782532\n"
     ]
    },
    {
     "name": "stderr",
     "output_type": "stream",
     "text": [
      "Perturbing graph:  42%|████▏     | 105/253 [00:40<00:58,  2.51it/s]"
     ]
    },
    {
     "name": "stdout",
     "output_type": "stream",
     "text": [
      "GCN loss on unlabled data: 0.8638275265693665\n",
      "GCN acc on unlabled data: 0.7751452838623156\n",
      "attack loss: 0.41909217834472656\n"
     ]
    },
    {
     "name": "stderr",
     "output_type": "stream",
     "text": [
      "Perturbing graph:  42%|████▏     | 106/253 [00:40<00:58,  2.51it/s]"
     ]
    },
    {
     "name": "stdout",
     "output_type": "stream",
     "text": [
      "GCN loss on unlabled data: 0.8421725034713745\n",
      "GCN acc on unlabled data: 0.7818506928922665\n",
      "attack loss: 0.40242820978164673\n"
     ]
    },
    {
     "name": "stderr",
     "output_type": "stream",
     "text": [
      "Perturbing graph:  42%|████▏     | 107/253 [00:41<00:58,  2.51it/s]"
     ]
    },
    {
     "name": "stdout",
     "output_type": "stream",
     "text": [
      "GCN loss on unlabled data: 0.865796685218811\n",
      "GCN acc on unlabled data: 0.7751452838623156\n",
      "attack loss: 0.4144477844238281\n"
     ]
    },
    {
     "name": "stderr",
     "output_type": "stream",
     "text": [
      "Perturbing graph:  43%|████▎     | 108/253 [00:41<00:57,  2.52it/s]"
     ]
    },
    {
     "name": "stdout",
     "output_type": "stream",
     "text": [
      "GCN loss on unlabled data: 0.8695391416549683\n",
      "GCN acc on unlabled data: 0.7782744747429593\n",
      "attack loss: 0.42560306191444397\n"
     ]
    },
    {
     "name": "stderr",
     "output_type": "stream",
     "text": [
      "Perturbing graph:  43%|████▎     | 109/253 [00:41<00:57,  2.52it/s]"
     ]
    },
    {
     "name": "stdout",
     "output_type": "stream",
     "text": [
      "GCN loss on unlabled data: 0.8931085467338562\n",
      "GCN acc on unlabled data: 0.775592311130979\n",
      "attack loss: 0.42528924345970154\n"
     ]
    },
    {
     "name": "stderr",
     "output_type": "stream",
     "text": [
      "Perturbing graph:  43%|████▎     | 110/253 [00:42<00:56,  2.51it/s]"
     ]
    },
    {
     "name": "stdout",
     "output_type": "stream",
     "text": [
      "GCN loss on unlabled data: 0.8798068761825562\n",
      "GCN acc on unlabled data: 0.7693339293696916\n",
      "attack loss: 0.4239931106567383\n"
     ]
    },
    {
     "name": "stderr",
     "output_type": "stream",
     "text": [
      "Perturbing graph:  44%|████▍     | 111/253 [00:42<00:56,  2.52it/s]"
     ]
    },
    {
     "name": "stdout",
     "output_type": "stream",
     "text": [
      "GCN loss on unlabled data: 0.8733095526695251\n",
      "GCN acc on unlabled data: 0.7773804202056326\n",
      "attack loss: 0.4233417510986328\n"
     ]
    },
    {
     "name": "stderr",
     "output_type": "stream",
     "text": [
      "Perturbing graph:  44%|████▍     | 112/253 [00:43<00:56,  2.51it/s]"
     ]
    },
    {
     "name": "stdout",
     "output_type": "stream",
     "text": [
      "GCN loss on unlabled data: 0.8839094638824463\n",
      "GCN acc on unlabled data: 0.7764863656683058\n",
      "attack loss: 0.42875996232032776\n"
     ]
    },
    {
     "name": "stderr",
     "output_type": "stream",
     "text": [
      "Perturbing graph:  45%|████▍     | 113/253 [00:43<00:55,  2.50it/s]"
     ]
    },
    {
     "name": "stdout",
     "output_type": "stream",
     "text": [
      "GCN loss on unlabled data: 0.8862280249595642\n",
      "GCN acc on unlabled data: 0.7760393383996425\n",
      "attack loss: 0.4232989251613617\n"
     ]
    },
    {
     "name": "stderr",
     "output_type": "stream",
     "text": [
      "Perturbing graph:  45%|████▌     | 114/253 [00:43<00:55,  2.50it/s]"
     ]
    },
    {
     "name": "stdout",
     "output_type": "stream",
     "text": [
      "GCN loss on unlabled data: 0.8825318813323975\n",
      "GCN acc on unlabled data: 0.7782744747429593\n",
      "attack loss: 0.4159831404685974\n"
     ]
    },
    {
     "name": "stderr",
     "output_type": "stream",
     "text": [
      "Perturbing graph:  45%|████▌     | 115/253 [00:44<00:55,  2.50it/s]"
     ]
    },
    {
     "name": "stdout",
     "output_type": "stream",
     "text": [
      "GCN loss on unlabled data: 0.8681262731552124\n",
      "GCN acc on unlabled data: 0.777827447474296\n",
      "attack loss: 0.42217740416526794\n"
     ]
    },
    {
     "name": "stderr",
     "output_type": "stream",
     "text": [
      "Perturbing graph:  46%|████▌     | 116/253 [00:44<00:54,  2.51it/s]"
     ]
    },
    {
     "name": "stdout",
     "output_type": "stream",
     "text": [
      "GCN loss on unlabled data: 0.8887909650802612\n",
      "GCN acc on unlabled data: 0.772016092981672\n",
      "attack loss: 0.43054306507110596\n"
     ]
    },
    {
     "name": "stderr",
     "output_type": "stream",
     "text": [
      "Perturbing graph:  46%|████▌     | 117/253 [00:45<00:54,  2.50it/s]"
     ]
    },
    {
     "name": "stdout",
     "output_type": "stream",
     "text": [
      "GCN loss on unlabled data: 0.8816133141517639\n",
      "GCN acc on unlabled data: 0.7805096110862763\n",
      "attack loss: 0.4254279136657715\n"
     ]
    },
    {
     "name": "stderr",
     "output_type": "stream",
     "text": [
      "Perturbing graph:  47%|████▋     | 118/253 [00:45<00:53,  2.51it/s]"
     ]
    },
    {
     "name": "stdout",
     "output_type": "stream",
     "text": [
      "GCN loss on unlabled data: 0.909517765045166\n",
      "GCN acc on unlabled data: 0.7693339293696916\n",
      "attack loss: 0.44220393896102905\n"
     ]
    },
    {
     "name": "stderr",
     "output_type": "stream",
     "text": [
      "Perturbing graph:  47%|████▋     | 119/253 [00:45<00:53,  2.51it/s]"
     ]
    },
    {
     "name": "stdout",
     "output_type": "stream",
     "text": [
      "GCN loss on unlabled data: 0.9069917798042297\n",
      "GCN acc on unlabled data: 0.772016092981672\n",
      "attack loss: 0.43457940220832825\n"
     ]
    },
    {
     "name": "stderr",
     "output_type": "stream",
     "text": [
      "Perturbing graph:  47%|████▋     | 120/253 [00:46<00:52,  2.52it/s]"
     ]
    },
    {
     "name": "stdout",
     "output_type": "stream",
     "text": [
      "GCN loss on unlabled data: 0.9093337059020996\n",
      "GCN acc on unlabled data: 0.7724631202503353\n",
      "attack loss: 0.43313804268836975\n"
     ]
    },
    {
     "name": "stderr",
     "output_type": "stream",
     "text": [
      "Perturbing graph:  48%|████▊     | 121/253 [00:46<00:52,  2.52it/s]"
     ]
    },
    {
     "name": "stdout",
     "output_type": "stream",
     "text": [
      "GCN loss on unlabled data: 0.9188401103019714\n",
      "GCN acc on unlabled data: 0.7715690657130085\n",
      "attack loss: 0.4366777539253235\n"
     ]
    },
    {
     "name": "stderr",
     "output_type": "stream",
     "text": [
      "Perturbing graph:  48%|████▊     | 122/253 [00:47<00:51,  2.52it/s]"
     ]
    },
    {
     "name": "stdout",
     "output_type": "stream",
     "text": [
      "GCN loss on unlabled data: 0.9117603302001953\n",
      "GCN acc on unlabled data: 0.7733571747876621\n",
      "attack loss: 0.4378255605697632\n"
     ]
    },
    {
     "name": "stderr",
     "output_type": "stream",
     "text": [
      "Perturbing graph:  49%|████▊     | 123/253 [00:47<00:51,  2.52it/s]"
     ]
    },
    {
     "name": "stdout",
     "output_type": "stream",
     "text": [
      "GCN loss on unlabled data: 0.8979107141494751\n",
      "GCN acc on unlabled data: 0.7706750111756817\n",
      "attack loss: 0.4326786696910858\n"
     ]
    },
    {
     "name": "stderr",
     "output_type": "stream",
     "text": [
      "Perturbing graph:  49%|████▉     | 124/253 [00:47<00:51,  2.52it/s]"
     ]
    },
    {
     "name": "stdout",
     "output_type": "stream",
     "text": [
      "GCN loss on unlabled data: 0.9321281313896179\n",
      "GCN acc on unlabled data: 0.769780956638355\n",
      "attack loss: 0.44637444615364075\n"
     ]
    },
    {
     "name": "stderr",
     "output_type": "stream",
     "text": [
      "Perturbing graph:  49%|████▉     | 125/253 [00:48<00:50,  2.51it/s]"
     ]
    },
    {
     "name": "stdout",
     "output_type": "stream",
     "text": [
      "GCN loss on unlabled data: 0.8933374285697937\n",
      "GCN acc on unlabled data: 0.7769333929369692\n",
      "attack loss: 0.4256390929222107\n"
     ]
    },
    {
     "name": "stderr",
     "output_type": "stream",
     "text": [
      "Perturbing graph:  50%|████▉     | 126/253 [00:48<00:50,  2.52it/s]"
     ]
    },
    {
     "name": "stdout",
     "output_type": "stream",
     "text": [
      "GCN loss on unlabled data: 0.9018580913543701\n",
      "GCN acc on unlabled data: 0.7746982565936522\n",
      "attack loss: 0.4403066337108612\n"
     ]
    },
    {
     "name": "stderr",
     "output_type": "stream",
     "text": [
      "Perturbing graph:  50%|█████     | 127/253 [00:49<00:50,  2.52it/s]"
     ]
    },
    {
     "name": "stdout",
     "output_type": "stream",
     "text": [
      "GCN loss on unlabled data: 0.956760585308075\n",
      "GCN acc on unlabled data: 0.767545820295038\n",
      "attack loss: 0.45559072494506836\n"
     ]
    },
    {
     "name": "stderr",
     "output_type": "stream",
     "text": [
      "Perturbing graph:  51%|█████     | 128/253 [00:49<00:49,  2.52it/s]"
     ]
    },
    {
     "name": "stdout",
     "output_type": "stream",
     "text": [
      "GCN loss on unlabled data: 0.9002763628959656\n",
      "GCN acc on unlabled data: 0.772016092981672\n",
      "attack loss: 0.4347291886806488\n"
     ]
    },
    {
     "name": "stderr",
     "output_type": "stream",
     "text": [
      "Perturbing graph:  51%|█████     | 129/253 [00:49<00:49,  2.52it/s]"
     ]
    },
    {
     "name": "stdout",
     "output_type": "stream",
     "text": [
      "GCN loss on unlabled data: 0.9317725896835327\n",
      "GCN acc on unlabled data: 0.7702279839070183\n",
      "attack loss: 0.44649407267570496\n"
     ]
    },
    {
     "name": "stderr",
     "output_type": "stream",
     "text": [
      "Perturbing graph:  51%|█████▏    | 130/253 [00:50<00:49,  2.51it/s]"
     ]
    },
    {
     "name": "stdout",
     "output_type": "stream",
     "text": [
      "GCN loss on unlabled data: 0.9109458327293396\n",
      "GCN acc on unlabled data: 0.7733571747876621\n",
      "attack loss: 0.43907904624938965\n"
     ]
    },
    {
     "name": "stderr",
     "output_type": "stream",
     "text": [
      "Perturbing graph:  52%|█████▏    | 131/253 [00:50<00:48,  2.50it/s]"
     ]
    },
    {
     "name": "stdout",
     "output_type": "stream",
     "text": [
      "GCN loss on unlabled data: 0.9512901902198792\n",
      "GCN acc on unlabled data: 0.763969602145731\n",
      "attack loss: 0.45681965351104736\n"
     ]
    },
    {
     "name": "stderr",
     "output_type": "stream",
     "text": [
      "Perturbing graph:  52%|█████▏    | 132/253 [00:51<00:48,  2.51it/s]"
     ]
    },
    {
     "name": "stdout",
     "output_type": "stream",
     "text": [
      "GCN loss on unlabled data: 0.909043550491333\n",
      "GCN acc on unlabled data: 0.7715690657130085\n",
      "attack loss: 0.4379541873931885\n"
     ]
    },
    {
     "name": "stderr",
     "output_type": "stream",
     "text": [
      "Perturbing graph:  53%|█████▎    | 133/253 [00:51<00:47,  2.51it/s]"
     ]
    },
    {
     "name": "stdout",
     "output_type": "stream",
     "text": [
      "GCN loss on unlabled data: 0.9334236979484558\n",
      "GCN acc on unlabled data: 0.7715690657130085\n",
      "attack loss: 0.45470547676086426\n"
     ]
    },
    {
     "name": "stderr",
     "output_type": "stream",
     "text": [
      "Perturbing graph:  53%|█████▎    | 134/253 [00:51<00:46,  2.58it/s]"
     ]
    },
    {
     "name": "stdout",
     "output_type": "stream",
     "text": [
      "GCN loss on unlabled data: 0.9337484240531921\n",
      "GCN acc on unlabled data: 0.7662047384890479\n",
      "attack loss: 0.44536226987838745\n"
     ]
    },
    {
     "name": "stderr",
     "output_type": "stream",
     "text": [
      "Perturbing graph:  53%|█████▎    | 135/253 [00:52<00:44,  2.63it/s]"
     ]
    },
    {
     "name": "stdout",
     "output_type": "stream",
     "text": [
      "GCN loss on unlabled data: 0.9473977088928223\n",
      "GCN acc on unlabled data: 0.7724631202503353\n",
      "attack loss: 0.4499276876449585\n"
     ]
    },
    {
     "name": "stderr",
     "output_type": "stream",
     "text": [
      "Perturbing graph:  54%|█████▍    | 136/253 [00:52<00:44,  2.65it/s]"
     ]
    },
    {
     "name": "stdout",
     "output_type": "stream",
     "text": [
      "GCN loss on unlabled data: 0.9480555653572083\n",
      "GCN acc on unlabled data: 0.769780956638355\n",
      "attack loss: 0.44909173250198364\n"
     ]
    },
    {
     "name": "stderr",
     "output_type": "stream",
     "text": [
      "Perturbing graph:  54%|█████▍    | 137/253 [00:53<00:43,  2.68it/s]"
     ]
    },
    {
     "name": "stdout",
     "output_type": "stream",
     "text": [
      "GCN loss on unlabled data: 0.9473579525947571\n",
      "GCN acc on unlabled data: 0.767545820295038\n",
      "attack loss: 0.4494452178478241\n"
     ]
    },
    {
     "name": "stderr",
     "output_type": "stream",
     "text": [
      "Perturbing graph:  55%|█████▍    | 138/253 [00:53<00:42,  2.69it/s]"
     ]
    },
    {
     "name": "stdout",
     "output_type": "stream",
     "text": [
      "GCN loss on unlabled data: 0.9587638974189758\n",
      "GCN acc on unlabled data: 0.769780956638355\n",
      "attack loss: 0.4585007429122925\n"
     ]
    },
    {
     "name": "stderr",
     "output_type": "stream",
     "text": [
      "Perturbing graph:  55%|█████▍    | 139/253 [00:53<00:42,  2.71it/s]"
     ]
    },
    {
     "name": "stdout",
     "output_type": "stream",
     "text": [
      "GCN loss on unlabled data: 0.9787211418151855\n",
      "GCN acc on unlabled data: 0.7590523021904336\n",
      "attack loss: 0.47235915064811707\n"
     ]
    },
    {
     "name": "stderr",
     "output_type": "stream",
     "text": [
      "Perturbing graph:  55%|█████▌    | 140/253 [00:54<00:41,  2.72it/s]"
     ]
    },
    {
     "name": "stdout",
     "output_type": "stream",
     "text": [
      "GCN loss on unlabled data: 0.9572318196296692\n",
      "GCN acc on unlabled data: 0.769780956638355\n",
      "attack loss: 0.4620245397090912\n"
     ]
    },
    {
     "name": "stderr",
     "output_type": "stream",
     "text": [
      "Perturbing graph:  56%|█████▌    | 141/253 [00:54<00:41,  2.73it/s]"
     ]
    },
    {
     "name": "stdout",
     "output_type": "stream",
     "text": [
      "GCN loss on unlabled data: 0.9660205841064453\n",
      "GCN acc on unlabled data: 0.7688869021010282\n",
      "attack loss: 0.4661664068698883\n"
     ]
    },
    {
     "name": "stderr",
     "output_type": "stream",
     "text": [
      "Perturbing graph:  56%|█████▌    | 142/253 [00:54<00:40,  2.74it/s]"
     ]
    },
    {
     "name": "stdout",
     "output_type": "stream",
     "text": [
      "GCN loss on unlabled data: 0.9549897313117981\n",
      "GCN acc on unlabled data: 0.7688869021010282\n",
      "attack loss: 0.4663819968700409\n"
     ]
    },
    {
     "name": "stderr",
     "output_type": "stream",
     "text": [
      "Perturbing graph:  57%|█████▋    | 143/253 [00:55<00:40,  2.73it/s]"
     ]
    },
    {
     "name": "stdout",
     "output_type": "stream",
     "text": [
      "GCN loss on unlabled data: 0.9702849388122559\n",
      "GCN acc on unlabled data: 0.7693339293696916\n",
      "attack loss: 0.46753615140914917\n"
     ]
    },
    {
     "name": "stderr",
     "output_type": "stream",
     "text": [
      "Perturbing graph:  57%|█████▋    | 144/253 [00:55<00:39,  2.73it/s]"
     ]
    },
    {
     "name": "stdout",
     "output_type": "stream",
     "text": [
      "GCN loss on unlabled data: 0.9465097188949585\n",
      "GCN acc on unlabled data: 0.7715690657130085\n",
      "attack loss: 0.4509986340999603\n"
     ]
    },
    {
     "name": "stderr",
     "output_type": "stream",
     "text": [
      "Perturbing graph:  57%|█████▋    | 145/253 [00:55<00:39,  2.72it/s]"
     ]
    },
    {
     "name": "stdout",
     "output_type": "stream",
     "text": [
      "GCN loss on unlabled data: 0.9626021981239319\n",
      "GCN acc on unlabled data: 0.7626285203397407\n",
      "attack loss: 0.4644124507904053\n"
     ]
    },
    {
     "name": "stderr",
     "output_type": "stream",
     "text": [
      "Perturbing graph:  58%|█████▊    | 146/253 [00:56<00:39,  2.73it/s]"
     ]
    },
    {
     "name": "stdout",
     "output_type": "stream",
     "text": [
      "GCN loss on unlabled data: 0.9932613968849182\n",
      "GCN acc on unlabled data: 0.7666517657577112\n",
      "attack loss: 0.4795399308204651\n"
     ]
    },
    {
     "name": "stderr",
     "output_type": "stream",
     "text": [
      "Perturbing graph:  58%|█████▊    | 147/253 [00:56<00:38,  2.74it/s]"
     ]
    },
    {
     "name": "stdout",
     "output_type": "stream",
     "text": [
      "GCN loss on unlabled data: 0.9781912565231323\n",
      "GCN acc on unlabled data: 0.767545820295038\n",
      "attack loss: 0.4768839478492737\n"
     ]
    },
    {
     "name": "stderr",
     "output_type": "stream",
     "text": [
      "Perturbing graph:  58%|█████▊    | 148/253 [00:57<00:38,  2.74it/s]"
     ]
    },
    {
     "name": "stdout",
     "output_type": "stream",
     "text": [
      "GCN loss on unlabled data: 0.9590886235237122\n",
      "GCN acc on unlabled data: 0.7693339293696916\n",
      "attack loss: 0.4660157561302185\n"
     ]
    },
    {
     "name": "stderr",
     "output_type": "stream",
     "text": [
      "Perturbing graph:  59%|█████▉    | 149/253 [00:57<00:37,  2.74it/s]"
     ]
    },
    {
     "name": "stdout",
     "output_type": "stream",
     "text": [
      "GCN loss on unlabled data: 0.961885929107666\n",
      "GCN acc on unlabled data: 0.7702279839070183\n",
      "attack loss: 0.47149768471717834\n"
     ]
    },
    {
     "name": "stderr",
     "output_type": "stream",
     "text": [
      "Perturbing graph:  59%|█████▉    | 150/253 [00:57<00:37,  2.75it/s]"
     ]
    },
    {
     "name": "stdout",
     "output_type": "stream",
     "text": [
      "GCN loss on unlabled data: 1.007992148399353\n",
      "GCN acc on unlabled data: 0.7662047384890479\n",
      "attack loss: 0.48493412137031555\n"
     ]
    },
    {
     "name": "stderr",
     "output_type": "stream",
     "text": [
      "Perturbing graph:  60%|█████▉    | 151/253 [00:58<00:37,  2.75it/s]"
     ]
    },
    {
     "name": "stdout",
     "output_type": "stream",
     "text": [
      "GCN loss on unlabled data: 1.0014909505844116\n",
      "GCN acc on unlabled data: 0.7590523021904336\n",
      "attack loss: 0.486581951379776\n"
     ]
    },
    {
     "name": "stderr",
     "output_type": "stream",
     "text": [
      "Perturbing graph:  60%|██████    | 152/253 [00:58<00:36,  2.74it/s]"
     ]
    },
    {
     "name": "stdout",
     "output_type": "stream",
     "text": [
      "GCN loss on unlabled data: 1.0145633220672607\n",
      "GCN acc on unlabled data: 0.7572641931157801\n",
      "attack loss: 0.4896438419818878\n"
     ]
    },
    {
     "name": "stderr",
     "output_type": "stream",
     "text": [
      "Perturbing graph:  60%|██████    | 153/253 [00:58<00:36,  2.74it/s]"
     ]
    },
    {
     "name": "stdout",
     "output_type": "stream",
     "text": [
      "GCN loss on unlabled data: 0.9866532683372498\n",
      "GCN acc on unlabled data: 0.7644166294143943\n",
      "attack loss: 0.48136094212532043\n"
     ]
    },
    {
     "name": "stderr",
     "output_type": "stream",
     "text": [
      "Perturbing graph:  61%|██████    | 154/253 [00:59<00:36,  2.74it/s]"
     ]
    },
    {
     "name": "stdout",
     "output_type": "stream",
     "text": [
      "GCN loss on unlabled data: 1.0185929536819458\n",
      "GCN acc on unlabled data: 0.7603933839964238\n",
      "attack loss: 0.4910604953765869\n"
     ]
    },
    {
     "name": "stderr",
     "output_type": "stream",
     "text": [
      "Perturbing graph:  61%|██████▏   | 155/253 [00:59<00:35,  2.74it/s]"
     ]
    },
    {
     "name": "stdout",
     "output_type": "stream",
     "text": [
      "GCN loss on unlabled data: 1.0128395557403564\n",
      "GCN acc on unlabled data: 0.7577112203844435\n",
      "attack loss: 0.49364006519317627\n"
     ]
    },
    {
     "name": "stderr",
     "output_type": "stream",
     "text": [
      "Perturbing graph:  62%|██████▏   | 156/253 [00:59<00:35,  2.74it/s]"
     ]
    },
    {
     "name": "stdout",
     "output_type": "stream",
     "text": [
      "GCN loss on unlabled data: 1.0067824125289917\n",
      "GCN acc on unlabled data: 0.7590523021904336\n",
      "attack loss: 0.4868623614311218\n"
     ]
    },
    {
     "name": "stderr",
     "output_type": "stream",
     "text": [
      "Perturbing graph:  62%|██████▏   | 157/253 [01:00<00:34,  2.74it/s]"
     ]
    },
    {
     "name": "stdout",
     "output_type": "stream",
     "text": [
      "GCN loss on unlabled data: 1.0089539289474487\n",
      "GCN acc on unlabled data: 0.7496647295485025\n",
      "attack loss: 0.48992595076560974\n"
     ]
    },
    {
     "name": "stderr",
     "output_type": "stream",
     "text": [
      "Perturbing graph:  62%|██████▏   | 158/253 [01:00<00:34,  2.74it/s]"
     ]
    },
    {
     "name": "stdout",
     "output_type": "stream",
     "text": [
      "GCN loss on unlabled data: 1.0483016967773438\n",
      "GCN acc on unlabled data: 0.7581582476531069\n",
      "attack loss: 0.507423996925354\n"
     ]
    },
    {
     "name": "stderr",
     "output_type": "stream",
     "text": [
      "Perturbing graph:  63%|██████▎   | 159/253 [01:01<00:34,  2.73it/s]"
     ]
    },
    {
     "name": "stdout",
     "output_type": "stream",
     "text": [
      "GCN loss on unlabled data: 1.0246509313583374\n",
      "GCN acc on unlabled data: 0.7554760840411265\n",
      "attack loss: 0.5020545125007629\n"
     ]
    },
    {
     "name": "stderr",
     "output_type": "stream",
     "text": [
      "Perturbing graph:  63%|██████▎   | 160/253 [01:01<00:34,  2.73it/s]"
     ]
    },
    {
     "name": "stdout",
     "output_type": "stream",
     "text": [
      "GCN loss on unlabled data: 1.035476565361023\n",
      "GCN acc on unlabled data: 0.7621814930710774\n",
      "attack loss: 0.49868178367614746\n"
     ]
    },
    {
     "name": "stderr",
     "output_type": "stream",
     "text": [
      "Perturbing graph:  64%|██████▎   | 161/253 [01:01<00:33,  2.74it/s]"
     ]
    },
    {
     "name": "stdout",
     "output_type": "stream",
     "text": [
      "GCN loss on unlabled data: 1.0314586162567139\n",
      "GCN acc on unlabled data: 0.753687974966473\n",
      "attack loss: 0.4968452453613281\n"
     ]
    },
    {
     "name": "stderr",
     "output_type": "stream",
     "text": [
      "Perturbing graph:  64%|██████▍   | 162/253 [01:02<00:33,  2.74it/s]"
     ]
    },
    {
     "name": "stdout",
     "output_type": "stream",
     "text": [
      "GCN loss on unlabled data: 1.0369967222213745\n",
      "GCN acc on unlabled data: 0.75592311130979\n",
      "attack loss: 0.5023064017295837\n"
     ]
    },
    {
     "name": "stderr",
     "output_type": "stream",
     "text": [
      "Perturbing graph:  64%|██████▍   | 163/253 [01:02<00:32,  2.75it/s]"
     ]
    },
    {
     "name": "stdout",
     "output_type": "stream",
     "text": [
      "GCN loss on unlabled data: 1.0092480182647705\n",
      "GCN acc on unlabled data: 0.7518998658918195\n",
      "attack loss: 0.4854121208190918\n"
     ]
    },
    {
     "name": "stderr",
     "output_type": "stream",
     "text": [
      "Perturbing graph:  65%|██████▍   | 164/253 [01:02<00:32,  2.74it/s]"
     ]
    },
    {
     "name": "stdout",
     "output_type": "stream",
     "text": [
      "GCN loss on unlabled data: 1.0279018878936768\n",
      "GCN acc on unlabled data: 0.7550290567724631\n",
      "attack loss: 0.49444717168807983\n"
     ]
    },
    {
     "name": "stderr",
     "output_type": "stream",
     "text": [
      "Perturbing graph:  65%|██████▌   | 165/253 [01:03<00:32,  2.73it/s]"
     ]
    },
    {
     "name": "stdout",
     "output_type": "stream",
     "text": [
      "GCN loss on unlabled data: 1.0409128665924072\n",
      "GCN acc on unlabled data: 0.7518998658918195\n",
      "attack loss: 0.4988973140716553\n"
     ]
    },
    {
     "name": "stderr",
     "output_type": "stream",
     "text": [
      "Perturbing graph:  66%|██████▌   | 166/253 [01:03<00:31,  2.74it/s]"
     ]
    },
    {
     "name": "stdout",
     "output_type": "stream",
     "text": [
      "GCN loss on unlabled data: 1.0475687980651855\n",
      "GCN acc on unlabled data: 0.7532409476978096\n",
      "attack loss: 0.516068696975708\n"
     ]
    },
    {
     "name": "stderr",
     "output_type": "stream",
     "text": [
      "Perturbing graph:  66%|██████▌   | 167/253 [01:03<00:31,  2.74it/s]"
     ]
    },
    {
     "name": "stdout",
     "output_type": "stream",
     "text": [
      "GCN loss on unlabled data: 1.0479319095611572\n",
      "GCN acc on unlabled data: 0.753687974966473\n",
      "attack loss: 0.5075806975364685\n"
     ]
    },
    {
     "name": "stderr",
     "output_type": "stream",
     "text": [
      "Perturbing graph:  66%|██████▋   | 168/253 [01:04<00:30,  2.74it/s]"
     ]
    },
    {
     "name": "stdout",
     "output_type": "stream",
     "text": [
      "GCN loss on unlabled data: 1.0406248569488525\n",
      "GCN acc on unlabled data: 0.7563701385784533\n",
      "attack loss: 0.508539080619812\n"
     ]
    },
    {
     "name": "stderr",
     "output_type": "stream",
     "text": [
      "Perturbing graph:  67%|██████▋   | 169/253 [01:04<00:30,  2.73it/s]"
     ]
    },
    {
     "name": "stdout",
     "output_type": "stream",
     "text": [
      "GCN loss on unlabled data: 1.0713781118392944\n",
      "GCN acc on unlabled data: 0.7492177022798391\n",
      "attack loss: 0.517449140548706\n"
     ]
    },
    {
     "name": "stderr",
     "output_type": "stream",
     "text": [
      "Perturbing graph:  67%|██████▋   | 170/253 [01:05<00:30,  2.73it/s]"
     ]
    },
    {
     "name": "stdout",
     "output_type": "stream",
     "text": [
      "GCN loss on unlabled data: 1.0633413791656494\n",
      "GCN acc on unlabled data: 0.7492177022798391\n",
      "attack loss: 0.5154316425323486\n"
     ]
    },
    {
     "name": "stderr",
     "output_type": "stream",
     "text": [
      "Perturbing graph:  68%|██████▊   | 171/253 [01:05<00:29,  2.74it/s]"
     ]
    },
    {
     "name": "stdout",
     "output_type": "stream",
     "text": [
      "GCN loss on unlabled data: 1.0507818460464478\n",
      "GCN acc on unlabled data: 0.7492177022798391\n",
      "attack loss: 0.5086191892623901\n"
     ]
    },
    {
     "name": "stderr",
     "output_type": "stream",
     "text": [
      "Perturbing graph:  68%|██████▊   | 172/253 [01:05<00:29,  2.74it/s]"
     ]
    },
    {
     "name": "stdout",
     "output_type": "stream",
     "text": [
      "GCN loss on unlabled data: 1.0681143999099731\n",
      "GCN acc on unlabled data: 0.7554760840411265\n",
      "attack loss: 0.5154404640197754\n"
     ]
    },
    {
     "name": "stderr",
     "output_type": "stream",
     "text": [
      "Perturbing graph:  68%|██████▊   | 173/253 [01:06<00:29,  2.74it/s]"
     ]
    },
    {
     "name": "stdout",
     "output_type": "stream",
     "text": [
      "GCN loss on unlabled data: 1.0542696714401245\n",
      "GCN acc on unlabled data: 0.7505587840858292\n",
      "attack loss: 0.5124369859695435\n"
     ]
    },
    {
     "name": "stderr",
     "output_type": "stream",
     "text": [
      "Perturbing graph:  69%|██████▉   | 174/253 [01:06<00:28,  2.74it/s]"
     ]
    },
    {
     "name": "stdout",
     "output_type": "stream",
     "text": [
      "GCN loss on unlabled data: 1.052321434020996\n",
      "GCN acc on unlabled data: 0.7460885113991954\n",
      "attack loss: 0.5136390924453735\n"
     ]
    },
    {
     "name": "stderr",
     "output_type": "stream",
     "text": [
      "Perturbing graph:  69%|██████▉   | 175/253 [01:06<00:28,  2.75it/s]"
     ]
    },
    {
     "name": "stdout",
     "output_type": "stream",
     "text": [
      "GCN loss on unlabled data: 1.0683542490005493\n",
      "GCN acc on unlabled data: 0.7501117568171659\n",
      "attack loss: 0.5216155648231506\n"
     ]
    },
    {
     "name": "stderr",
     "output_type": "stream",
     "text": [
      "Perturbing graph:  70%|██████▉   | 176/253 [01:07<00:28,  2.75it/s]"
     ]
    },
    {
     "name": "stdout",
     "output_type": "stream",
     "text": [
      "GCN loss on unlabled data: 1.0670082569122314\n",
      "GCN acc on unlabled data: 0.751452838623156\n",
      "attack loss: 0.5127172470092773\n"
     ]
    },
    {
     "name": "stderr",
     "output_type": "stream",
     "text": [
      "Perturbing graph:  70%|██████▉   | 177/253 [01:07<00:27,  2.74it/s]"
     ]
    },
    {
     "name": "stdout",
     "output_type": "stream",
     "text": [
      "GCN loss on unlabled data: 1.0922125577926636\n",
      "GCN acc on unlabled data: 0.7451944568618686\n",
      "attack loss: 0.5300665497779846\n"
     ]
    },
    {
     "name": "stderr",
     "output_type": "stream",
     "text": [
      "Perturbing graph:  70%|███████   | 178/253 [01:07<00:27,  2.74it/s]"
     ]
    },
    {
     "name": "stdout",
     "output_type": "stream",
     "text": [
      "GCN loss on unlabled data: 1.087769865989685\n",
      "GCN acc on unlabled data: 0.7451944568618686\n",
      "attack loss: 0.5317894220352173\n"
     ]
    },
    {
     "name": "stderr",
     "output_type": "stream",
     "text": [
      "Perturbing graph:  71%|███████   | 179/253 [01:08<00:26,  2.74it/s]"
     ]
    },
    {
     "name": "stdout",
     "output_type": "stream",
     "text": [
      "GCN loss on unlabled data: 1.074776291847229\n",
      "GCN acc on unlabled data: 0.7496647295485025\n",
      "attack loss: 0.5217967629432678\n"
     ]
    },
    {
     "name": "stderr",
     "output_type": "stream",
     "text": [
      "Perturbing graph:  71%|███████   | 180/253 [01:08<00:26,  2.74it/s]"
     ]
    },
    {
     "name": "stdout",
     "output_type": "stream",
     "text": [
      "GCN loss on unlabled data: 1.083268642425537\n",
      "GCN acc on unlabled data: 0.7465355386678587\n",
      "attack loss: 0.528893232345581\n"
     ]
    },
    {
     "name": "stderr",
     "output_type": "stream",
     "text": [
      "Perturbing graph:  72%|███████▏  | 181/253 [01:09<00:26,  2.74it/s]"
     ]
    },
    {
     "name": "stdout",
     "output_type": "stream",
     "text": [
      "GCN loss on unlabled data: 1.088901162147522\n",
      "GCN acc on unlabled data: 0.7496647295485025\n",
      "attack loss: 0.530783474445343\n"
     ]
    },
    {
     "name": "stderr",
     "output_type": "stream",
     "text": [
      "Perturbing graph:  72%|███████▏  | 182/253 [01:09<00:26,  2.73it/s]"
     ]
    },
    {
     "name": "stdout",
     "output_type": "stream",
     "text": [
      "GCN loss on unlabled data: 1.0648167133331299\n",
      "GCN acc on unlabled data: 0.747876620473849\n",
      "attack loss: 0.5211641788482666\n"
     ]
    },
    {
     "name": "stderr",
     "output_type": "stream",
     "text": [
      "Perturbing graph:  72%|███████▏  | 183/253 [01:09<00:25,  2.72it/s]"
     ]
    },
    {
     "name": "stdout",
     "output_type": "stream",
     "text": [
      "GCN loss on unlabled data: 1.1272304058074951\n",
      "GCN acc on unlabled data: 0.743406347787215\n",
      "attack loss: 0.5508532524108887\n"
     ]
    },
    {
     "name": "stderr",
     "output_type": "stream",
     "text": [
      "Perturbing graph:  73%|███████▎  | 184/253 [01:10<00:25,  2.73it/s]"
     ]
    },
    {
     "name": "stdout",
     "output_type": "stream",
     "text": [
      "GCN loss on unlabled data: 1.0956271886825562\n",
      "GCN acc on unlabled data: 0.7425122932498882\n",
      "attack loss: 0.5387046933174133\n"
     ]
    },
    {
     "name": "stderr",
     "output_type": "stream",
     "text": [
      "Perturbing graph:  73%|███████▎  | 185/253 [01:10<00:24,  2.74it/s]"
     ]
    },
    {
     "name": "stdout",
     "output_type": "stream",
     "text": [
      "GCN loss on unlabled data: 1.0744225978851318\n",
      "GCN acc on unlabled data: 0.743406347787215\n",
      "attack loss: 0.5308718085289001\n"
     ]
    },
    {
     "name": "stderr",
     "output_type": "stream",
     "text": [
      "Perturbing graph:  74%|███████▎  | 186/253 [01:10<00:24,  2.75it/s]"
     ]
    },
    {
     "name": "stdout",
     "output_type": "stream",
     "text": [
      "GCN loss on unlabled data: 1.0970345735549927\n",
      "GCN acc on unlabled data: 0.7416182387125615\n",
      "attack loss: 0.5376224517822266\n"
     ]
    },
    {
     "name": "stderr",
     "output_type": "stream",
     "text": [
      "Perturbing graph:  74%|███████▍  | 187/253 [01:11<00:23,  2.75it/s]"
     ]
    },
    {
     "name": "stdout",
     "output_type": "stream",
     "text": [
      "GCN loss on unlabled data: 1.1115639209747314\n",
      "GCN acc on unlabled data: 0.7420652659812249\n",
      "attack loss: 0.5424922704696655\n"
     ]
    },
    {
     "name": "stderr",
     "output_type": "stream",
     "text": [
      "Perturbing graph:  74%|███████▍  | 188/253 [01:11<00:23,  2.75it/s]"
     ]
    },
    {
     "name": "stdout",
     "output_type": "stream",
     "text": [
      "GCN loss on unlabled data: 1.089555263519287\n",
      "GCN acc on unlabled data: 0.7425122932498882\n",
      "attack loss: 0.527938961982727\n"
     ]
    },
    {
     "name": "stderr",
     "output_type": "stream",
     "text": [
      "Perturbing graph:  75%|███████▍  | 189/253 [01:11<00:23,  2.75it/s]"
     ]
    },
    {
     "name": "stdout",
     "output_type": "stream",
     "text": [
      "GCN loss on unlabled data: 1.0797479152679443\n",
      "GCN acc on unlabled data: 0.7460885113991954\n",
      "attack loss: 0.5375315546989441\n"
     ]
    },
    {
     "name": "stderr",
     "output_type": "stream",
     "text": [
      "Perturbing graph:  75%|███████▌  | 190/253 [01:12<00:22,  2.75it/s]"
     ]
    },
    {
     "name": "stdout",
     "output_type": "stream",
     "text": [
      "GCN loss on unlabled data: 1.1049655675888062\n",
      "GCN acc on unlabled data: 0.7474295932051855\n",
      "attack loss: 0.5481328368186951\n"
     ]
    },
    {
     "name": "stderr",
     "output_type": "stream",
     "text": [
      "Perturbing graph:  75%|███████▌  | 191/253 [01:12<00:22,  2.75it/s]"
     ]
    },
    {
     "name": "stdout",
     "output_type": "stream",
     "text": [
      "GCN loss on unlabled data: 1.0974371433258057\n",
      "GCN acc on unlabled data: 0.745641484130532\n",
      "attack loss: 0.5393078923225403\n"
     ]
    },
    {
     "name": "stderr",
     "output_type": "stream",
     "text": [
      "Perturbing graph:  76%|███████▌  | 192/253 [01:13<00:22,  2.75it/s]"
     ]
    },
    {
     "name": "stdout",
     "output_type": "stream",
     "text": [
      "GCN loss on unlabled data: 1.1452834606170654\n",
      "GCN acc on unlabled data: 0.737594993294591\n",
      "attack loss: 0.5596333146095276\n"
     ]
    },
    {
     "name": "stderr",
     "output_type": "stream",
     "text": [
      "Perturbing graph:  76%|███████▋  | 193/253 [01:13<00:21,  2.75it/s]"
     ]
    },
    {
     "name": "stdout",
     "output_type": "stream",
     "text": [
      "GCN loss on unlabled data: 1.1005491018295288\n",
      "GCN acc on unlabled data: 0.7451944568618686\n",
      "attack loss: 0.5459851026535034\n"
     ]
    },
    {
     "name": "stderr",
     "output_type": "stream",
     "text": [
      "Perturbing graph:  77%|███████▋  | 194/253 [01:13<00:21,  2.75it/s]"
     ]
    },
    {
     "name": "stdout",
     "output_type": "stream",
     "text": [
      "GCN loss on unlabled data: 1.1297105550765991\n",
      "GCN acc on unlabled data: 0.7407241841752347\n",
      "attack loss: 0.5587137937545776\n"
     ]
    },
    {
     "name": "stderr",
     "output_type": "stream",
     "text": [
      "Perturbing graph:  77%|███████▋  | 195/253 [01:14<00:21,  2.75it/s]"
     ]
    },
    {
     "name": "stdout",
     "output_type": "stream",
     "text": [
      "GCN loss on unlabled data: 1.1524940729141235\n",
      "GCN acc on unlabled data: 0.7371479660259276\n",
      "attack loss: 0.5635507106781006\n"
     ]
    },
    {
     "name": "stderr",
     "output_type": "stream",
     "text": [
      "Perturbing graph:  77%|███████▋  | 196/253 [01:14<00:20,  2.75it/s]"
     ]
    },
    {
     "name": "stdout",
     "output_type": "stream",
     "text": [
      "GCN loss on unlabled data: 1.1517248153686523\n",
      "GCN acc on unlabled data: 0.7367009387572642\n",
      "attack loss: 0.5679383873939514\n"
     ]
    },
    {
     "name": "stderr",
     "output_type": "stream",
     "text": [
      "Perturbing graph:  78%|███████▊  | 197/253 [01:14<00:20,  2.75it/s]"
     ]
    },
    {
     "name": "stdout",
     "output_type": "stream",
     "text": [
      "GCN loss on unlabled data: 1.1125903129577637\n",
      "GCN acc on unlabled data: 0.7380420205632544\n",
      "attack loss: 0.5506005883216858\n"
     ]
    },
    {
     "name": "stderr",
     "output_type": "stream",
     "text": [
      "Perturbing graph:  78%|███████▊  | 198/253 [01:15<00:19,  2.75it/s]"
     ]
    },
    {
     "name": "stdout",
     "output_type": "stream",
     "text": [
      "GCN loss on unlabled data: 1.0981231927871704\n",
      "GCN acc on unlabled data: 0.7335717478766205\n",
      "attack loss: 0.5379937291145325\n"
     ]
    },
    {
     "name": "stderr",
     "output_type": "stream",
     "text": [
      "Perturbing graph:  79%|███████▊  | 199/253 [01:15<00:19,  2.75it/s]"
     ]
    },
    {
     "name": "stdout",
     "output_type": "stream",
     "text": [
      "GCN loss on unlabled data: 1.1386653184890747\n",
      "GCN acc on unlabled data: 0.7362539114886009\n",
      "attack loss: 0.5574046969413757\n"
     ]
    },
    {
     "name": "stderr",
     "output_type": "stream",
     "text": [
      "Perturbing graph:  79%|███████▉  | 200/253 [01:15<00:19,  2.76it/s]"
     ]
    },
    {
     "name": "stdout",
     "output_type": "stream",
     "text": [
      "GCN loss on unlabled data: 1.1400450468063354\n",
      "GCN acc on unlabled data: 0.737594993294591\n",
      "attack loss: 0.5597594976425171\n"
     ]
    },
    {
     "name": "stderr",
     "output_type": "stream",
     "text": [
      "Perturbing graph:  79%|███████▉  | 201/253 [01:16<00:18,  2.75it/s]"
     ]
    },
    {
     "name": "stdout",
     "output_type": "stream",
     "text": [
      "GCN loss on unlabled data: 1.1789242029190063\n",
      "GCN acc on unlabled data: 0.7407241841752347\n",
      "attack loss: 0.5772894620895386\n"
     ]
    },
    {
     "name": "stderr",
     "output_type": "stream",
     "text": [
      "Perturbing graph:  80%|███████▉  | 202/253 [01:16<00:18,  2.74it/s]"
     ]
    },
    {
     "name": "stdout",
     "output_type": "stream",
     "text": [
      "GCN loss on unlabled data: 1.1386146545410156\n",
      "GCN acc on unlabled data: 0.7322306660706304\n",
      "attack loss: 0.5600304007530212\n"
     ]
    },
    {
     "name": "stderr",
     "output_type": "stream",
     "text": [
      "Perturbing graph:  80%|████████  | 203/253 [01:17<00:18,  2.74it/s]"
     ]
    },
    {
     "name": "stdout",
     "output_type": "stream",
     "text": [
      "GCN loss on unlabled data: 1.174757480621338\n",
      "GCN acc on unlabled data: 0.7335717478766205\n",
      "attack loss: 0.5732144713401794\n"
     ]
    },
    {
     "name": "stderr",
     "output_type": "stream",
     "text": [
      "Perturbing graph:  81%|████████  | 204/253 [01:17<00:17,  2.75it/s]"
     ]
    },
    {
     "name": "stdout",
     "output_type": "stream",
     "text": [
      "GCN loss on unlabled data: 1.1379584074020386\n",
      "GCN acc on unlabled data: 0.7407241841752347\n",
      "attack loss: 0.5563864707946777\n"
     ]
    },
    {
     "name": "stderr",
     "output_type": "stream",
     "text": [
      "Perturbing graph:  81%|████████  | 205/253 [01:17<00:17,  2.75it/s]"
     ]
    },
    {
     "name": "stdout",
     "output_type": "stream",
     "text": [
      "GCN loss on unlabled data: 1.1525264978408813\n",
      "GCN acc on unlabled data: 0.7335717478766205\n",
      "attack loss: 0.5653302073478699\n"
     ]
    },
    {
     "name": "stderr",
     "output_type": "stream",
     "text": [
      "Perturbing graph:  81%|████████▏ | 206/253 [01:18<00:17,  2.74it/s]"
     ]
    },
    {
     "name": "stdout",
     "output_type": "stream",
     "text": [
      "GCN loss on unlabled data: 1.1463210582733154\n",
      "GCN acc on unlabled data: 0.739830129637908\n",
      "attack loss: 0.5651423931121826\n"
     ]
    },
    {
     "name": "stderr",
     "output_type": "stream",
     "text": [
      "Perturbing graph:  82%|████████▏ | 207/253 [01:18<00:16,  2.75it/s]"
     ]
    },
    {
     "name": "stdout",
     "output_type": "stream",
     "text": [
      "GCN loss on unlabled data: 1.2006627321243286\n",
      "GCN acc on unlabled data: 0.7304425569959768\n",
      "attack loss: 0.5852534770965576\n"
     ]
    },
    {
     "name": "stderr",
     "output_type": "stream",
     "text": [
      "Perturbing graph:  82%|████████▏ | 208/253 [01:18<00:16,  2.75it/s]"
     ]
    },
    {
     "name": "stdout",
     "output_type": "stream",
     "text": [
      "GCN loss on unlabled data: 1.1817493438720703\n",
      "GCN acc on unlabled data: 0.7299955297273134\n",
      "attack loss: 0.5787315964698792\n"
     ]
    },
    {
     "name": "stderr",
     "output_type": "stream",
     "text": [
      "Perturbing graph:  83%|████████▎ | 209/253 [01:19<00:16,  2.75it/s]"
     ]
    },
    {
     "name": "stdout",
     "output_type": "stream",
     "text": [
      "GCN loss on unlabled data: 1.173967957496643\n",
      "GCN acc on unlabled data: 0.7268663388466696\n",
      "attack loss: 0.5774466395378113\n"
     ]
    },
    {
     "name": "stderr",
     "output_type": "stream",
     "text": [
      "Perturbing graph:  83%|████████▎ | 210/253 [01:19<00:15,  2.75it/s]"
     ]
    },
    {
     "name": "stdout",
     "output_type": "stream",
     "text": [
      "GCN loss on unlabled data: 1.1784287691116333\n",
      "GCN acc on unlabled data: 0.7299955297273134\n",
      "attack loss: 0.575883150100708\n"
     ]
    },
    {
     "name": "stderr",
     "output_type": "stream",
     "text": [
      "Perturbing graph:  83%|████████▎ | 211/253 [01:19<00:15,  2.75it/s]"
     ]
    },
    {
     "name": "stdout",
     "output_type": "stream",
     "text": [
      "GCN loss on unlabled data: 1.1676138639450073\n",
      "GCN acc on unlabled data: 0.7255252570406795\n",
      "attack loss: 0.572081983089447\n"
     ]
    },
    {
     "name": "stderr",
     "output_type": "stream",
     "text": [
      "Perturbing graph:  84%|████████▍ | 212/253 [01:20<00:14,  2.75it/s]"
     ]
    },
    {
     "name": "stdout",
     "output_type": "stream",
     "text": [
      "GCN loss on unlabled data: 1.2117993831634521\n",
      "GCN acc on unlabled data: 0.7183728207420653\n",
      "attack loss: 0.5989358425140381\n"
     ]
    },
    {
     "name": "stderr",
     "output_type": "stream",
     "text": [
      "Perturbing graph:  84%|████████▍ | 213/253 [01:20<00:14,  2.75it/s]"
     ]
    },
    {
     "name": "stdout",
     "output_type": "stream",
     "text": [
      "GCN loss on unlabled data: 1.1695849895477295\n",
      "GCN acc on unlabled data: 0.7313366115333035\n",
      "attack loss: 0.5777932405471802\n"
     ]
    },
    {
     "name": "stderr",
     "output_type": "stream",
     "text": [
      "Perturbing graph:  85%|████████▍ | 214/253 [01:21<00:14,  2.75it/s]"
     ]
    },
    {
     "name": "stdout",
     "output_type": "stream",
     "text": [
      "GCN loss on unlabled data: 1.2364518642425537\n",
      "GCN acc on unlabled data: 0.7264193115780063\n",
      "attack loss: 0.6136270761489868\n"
     ]
    },
    {
     "name": "stderr",
     "output_type": "stream",
     "text": [
      "Perturbing graph:  85%|████████▍ | 215/253 [01:21<00:13,  2.75it/s]"
     ]
    },
    {
     "name": "stdout",
     "output_type": "stream",
     "text": [
      "GCN loss on unlabled data: 1.193118691444397\n",
      "GCN acc on unlabled data: 0.721502011622709\n",
      "attack loss: 0.5896701216697693\n"
     ]
    },
    {
     "name": "stderr",
     "output_type": "stream",
     "text": [
      "Perturbing graph:  85%|████████▌ | 216/253 [01:21<00:13,  2.74it/s]"
     ]
    },
    {
     "name": "stdout",
     "output_type": "stream",
     "text": [
      "GCN loss on unlabled data: 1.2069123983383179\n",
      "GCN acc on unlabled data: 0.7255252570406795\n",
      "attack loss: 0.5980109572410583\n"
     ]
    },
    {
     "name": "stderr",
     "output_type": "stream",
     "text": [
      "Perturbing graph:  86%|████████▌ | 217/253 [01:22<00:13,  2.75it/s]"
     ]
    },
    {
     "name": "stdout",
     "output_type": "stream",
     "text": [
      "GCN loss on unlabled data: 1.1895012855529785\n",
      "GCN acc on unlabled data: 0.7322306660706304\n",
      "attack loss: 0.5879527926445007\n"
     ]
    },
    {
     "name": "stderr",
     "output_type": "stream",
     "text": [
      "Perturbing graph:  86%|████████▌ | 218/253 [01:22<00:12,  2.74it/s]"
     ]
    },
    {
     "name": "stdout",
     "output_type": "stream",
     "text": [
      "GCN loss on unlabled data: 1.1459158658981323\n",
      "GCN acc on unlabled data: 0.7331247206079571\n",
      "attack loss: 0.5659002661705017\n"
     ]
    },
    {
     "name": "stderr",
     "output_type": "stream",
     "text": [
      "Perturbing graph:  87%|████████▋ | 219/253 [01:22<00:12,  2.74it/s]"
     ]
    },
    {
     "name": "stdout",
     "output_type": "stream",
     "text": [
      "GCN loss on unlabled data: 1.2146835327148438\n",
      "GCN acc on unlabled data: 0.7264193115780063\n",
      "attack loss: 0.6086550354957581\n"
     ]
    },
    {
     "name": "stderr",
     "output_type": "stream",
     "text": [
      "Perturbing graph:  87%|████████▋ | 220/253 [01:23<00:12,  2.74it/s]"
     ]
    },
    {
     "name": "stdout",
     "output_type": "stream",
     "text": [
      "GCN loss on unlabled data: 1.2168309688568115\n",
      "GCN acc on unlabled data: 0.7228430934286991\n",
      "attack loss: 0.602126955986023\n"
     ]
    },
    {
     "name": "stderr",
     "output_type": "stream",
     "text": [
      "Perturbing graph:  87%|████████▋ | 221/253 [01:23<00:11,  2.74it/s]"
     ]
    },
    {
     "name": "stdout",
     "output_type": "stream",
     "text": [
      "GCN loss on unlabled data: 1.2216472625732422\n",
      "GCN acc on unlabled data: 0.7165847116674118\n",
      "attack loss: 0.6054609417915344\n"
     ]
    },
    {
     "name": "stderr",
     "output_type": "stream",
     "text": [
      "Perturbing graph:  88%|████████▊ | 222/253 [01:23<00:11,  2.74it/s]"
     ]
    },
    {
     "name": "stdout",
     "output_type": "stream",
     "text": [
      "GCN loss on unlabled data: 1.2038440704345703\n",
      "GCN acc on unlabled data: 0.7299955297273134\n",
      "attack loss: 0.5971723794937134\n"
     ]
    },
    {
     "name": "stderr",
     "output_type": "stream",
     "text": [
      "Perturbing graph:  88%|████████▊ | 223/253 [01:24<00:10,  2.75it/s]"
     ]
    },
    {
     "name": "stdout",
     "output_type": "stream",
     "text": [
      "GCN loss on unlabled data: 1.2290157079696655\n",
      "GCN acc on unlabled data: 0.7223960661600358\n",
      "attack loss: 0.6163849830627441\n"
     ]
    },
    {
     "name": "stderr",
     "output_type": "stream",
     "text": [
      "Perturbing graph:  89%|████████▊ | 224/253 [01:24<00:10,  2.74it/s]"
     ]
    },
    {
     "name": "stdout",
     "output_type": "stream",
     "text": [
      "GCN loss on unlabled data: 1.2440158128738403\n",
      "GCN acc on unlabled data: 0.7188198480107286\n",
      "attack loss: 0.6156135201454163\n"
     ]
    },
    {
     "name": "stderr",
     "output_type": "stream",
     "text": [
      "Perturbing graph:  89%|████████▉ | 225/253 [01:25<00:10,  2.74it/s]"
     ]
    },
    {
     "name": "stdout",
     "output_type": "stream",
     "text": [
      "GCN loss on unlabled data: 1.1832733154296875\n",
      "GCN acc on unlabled data: 0.7210549843540456\n",
      "attack loss: 0.5944340229034424\n"
     ]
    },
    {
     "name": "stderr",
     "output_type": "stream",
     "text": [
      "Perturbing graph:  89%|████████▉ | 226/253 [01:25<00:09,  2.75it/s]"
     ]
    },
    {
     "name": "stdout",
     "output_type": "stream",
     "text": [
      "GCN loss on unlabled data: 1.2157312631607056\n",
      "GCN acc on unlabled data: 0.7255252570406795\n",
      "attack loss: 0.6071509718894958\n"
     ]
    },
    {
     "name": "stderr",
     "output_type": "stream",
     "text": [
      "Perturbing graph:  90%|████████▉ | 227/253 [01:25<00:09,  2.75it/s]"
     ]
    },
    {
     "name": "stdout",
     "output_type": "stream",
     "text": [
      "GCN loss on unlabled data: 1.210606575012207\n",
      "GCN acc on unlabled data: 0.7232901206973625\n",
      "attack loss: 0.6086686253547668\n"
     ]
    },
    {
     "name": "stderr",
     "output_type": "stream",
     "text": [
      "Perturbing graph:  90%|█████████ | 228/253 [01:26<00:09,  2.75it/s]"
     ]
    },
    {
     "name": "stdout",
     "output_type": "stream",
     "text": [
      "GCN loss on unlabled data: 1.2105122804641724\n",
      "GCN acc on unlabled data: 0.7246312025033528\n",
      "attack loss: 0.6042566895484924\n"
     ]
    },
    {
     "name": "stderr",
     "output_type": "stream",
     "text": [
      "Perturbing graph:  91%|█████████ | 229/253 [01:26<00:08,  2.75it/s]"
     ]
    },
    {
     "name": "stdout",
     "output_type": "stream",
     "text": [
      "GCN loss on unlabled data: 1.2304078340530396\n",
      "GCN acc on unlabled data: 0.7210549843540456\n",
      "attack loss: 0.6119680404663086\n"
     ]
    },
    {
     "name": "stderr",
     "output_type": "stream",
     "text": [
      "Perturbing graph:  91%|█████████ | 230/253 [01:26<00:08,  2.75it/s]"
     ]
    },
    {
     "name": "stdout",
     "output_type": "stream",
     "text": [
      "GCN loss on unlabled data: 1.254820466041565\n",
      "GCN acc on unlabled data: 0.7161376843987484\n",
      "attack loss: 0.6289563775062561\n"
     ]
    },
    {
     "name": "stderr",
     "output_type": "stream",
     "text": [
      "Perturbing graph:  91%|█████████▏| 231/253 [01:27<00:07,  2.75it/s]"
     ]
    },
    {
     "name": "stdout",
     "output_type": "stream",
     "text": [
      "GCN loss on unlabled data: 1.2307522296905518\n",
      "GCN acc on unlabled data: 0.7179257934734019\n",
      "attack loss: 0.6120729446411133\n"
     ]
    },
    {
     "name": "stderr",
     "output_type": "stream",
     "text": [
      "Perturbing graph:  92%|█████████▏| 232/253 [01:27<00:07,  2.75it/s]"
     ]
    },
    {
     "name": "stdout",
     "output_type": "stream",
     "text": [
      "GCN loss on unlabled data: 1.2454183101654053\n",
      "GCN acc on unlabled data: 0.7080911935628074\n",
      "attack loss: 0.6245937347412109\n"
     ]
    },
    {
     "name": "stderr",
     "output_type": "stream",
     "text": [
      "Perturbing graph:  92%|█████████▏| 233/253 [01:28<00:07,  2.74it/s]"
     ]
    },
    {
     "name": "stdout",
     "output_type": "stream",
     "text": [
      "GCN loss on unlabled data: 1.2656011581420898\n",
      "GCN acc on unlabled data: 0.7143495753240948\n",
      "attack loss: 0.6282551884651184\n"
     ]
    },
    {
     "name": "stderr",
     "output_type": "stream",
     "text": [
      "Perturbing graph:  92%|█████████▏| 234/253 [01:28<00:06,  2.74it/s]"
     ]
    },
    {
     "name": "stdout",
     "output_type": "stream",
     "text": [
      "GCN loss on unlabled data: 1.2465770244598389\n",
      "GCN acc on unlabled data: 0.7143495753240948\n",
      "attack loss: 0.6213876008987427\n"
     ]
    },
    {
     "name": "stderr",
     "output_type": "stream",
     "text": [
      "Perturbing graph:  93%|█████████▎| 235/253 [01:28<00:06,  2.74it/s]"
     ]
    },
    {
     "name": "stdout",
     "output_type": "stream",
     "text": [
      "GCN loss on unlabled data: 1.2379541397094727\n",
      "GCN acc on unlabled data: 0.7183728207420653\n",
      "attack loss: 0.6205313205718994\n"
     ]
    },
    {
     "name": "stderr",
     "output_type": "stream",
     "text": [
      "Perturbing graph:  93%|█████████▎| 236/253 [01:29<00:06,  2.75it/s]"
     ]
    },
    {
     "name": "stdout",
     "output_type": "stream",
     "text": [
      "GCN loss on unlabled data: 1.2490395307540894\n",
      "GCN acc on unlabled data: 0.7161376843987484\n",
      "attack loss: 0.6279985308647156\n"
     ]
    },
    {
     "name": "stderr",
     "output_type": "stream",
     "text": [
      "Perturbing graph:  94%|█████████▎| 237/253 [01:29<00:05,  2.75it/s]"
     ]
    },
    {
     "name": "stdout",
     "output_type": "stream",
     "text": [
      "GCN loss on unlabled data: 1.268070101737976\n",
      "GCN acc on unlabled data: 0.7125614662494413\n",
      "attack loss: 0.6348357200622559\n"
     ]
    },
    {
     "name": "stderr",
     "output_type": "stream",
     "text": [
      "Perturbing graph:  94%|█████████▍| 238/253 [01:29<00:05,  2.75it/s]"
     ]
    },
    {
     "name": "stdout",
     "output_type": "stream",
     "text": [
      "GCN loss on unlabled data: 1.2387551069259644\n",
      "GCN acc on unlabled data: 0.7161376843987484\n",
      "attack loss: 0.6272333264350891\n"
     ]
    },
    {
     "name": "stderr",
     "output_type": "stream",
     "text": [
      "Perturbing graph:  94%|█████████▍| 239/253 [01:30<00:05,  2.75it/s]"
     ]
    },
    {
     "name": "stdout",
     "output_type": "stream",
     "text": [
      "GCN loss on unlabled data: 1.262546420097351\n",
      "GCN acc on unlabled data: 0.7174787662047385\n",
      "attack loss: 0.639411211013794\n"
     ]
    },
    {
     "name": "stderr",
     "output_type": "stream",
     "text": [
      "Perturbing graph:  95%|█████████▍| 240/253 [01:30<00:04,  2.76it/s]"
     ]
    },
    {
     "name": "stdout",
     "output_type": "stream",
     "text": [
      "GCN loss on unlabled data: 1.2411919832229614\n",
      "GCN acc on unlabled data: 0.721502011622709\n",
      "attack loss: 0.621282160282135\n"
     ]
    },
    {
     "name": "stderr",
     "output_type": "stream",
     "text": [
      "Perturbing graph:  95%|█████████▌| 241/253 [01:30<00:04,  2.76it/s]"
     ]
    },
    {
     "name": "stdout",
     "output_type": "stream",
     "text": [
      "GCN loss on unlabled data: 1.2721048593521118\n",
      "GCN acc on unlabled data: 0.707644166294144\n",
      "attack loss: 0.6415539383888245\n"
     ]
    },
    {
     "name": "stderr",
     "output_type": "stream",
     "text": [
      "Perturbing graph:  96%|█████████▌| 242/253 [01:31<00:03,  2.76it/s]"
     ]
    },
    {
     "name": "stdout",
     "output_type": "stream",
     "text": [
      "GCN loss on unlabled data: 1.2534557580947876\n",
      "GCN acc on unlabled data: 0.7130084935181046\n",
      "attack loss: 0.6332577466964722\n"
     ]
    },
    {
     "name": "stderr",
     "output_type": "stream",
     "text": [
      "Perturbing graph:  96%|█████████▌| 243/253 [01:31<00:03,  2.76it/s]"
     ]
    },
    {
     "name": "stdout",
     "output_type": "stream",
     "text": [
      "GCN loss on unlabled data: 1.277186393737793\n",
      "GCN acc on unlabled data: 0.7121144389807779\n",
      "attack loss: 0.6355767250061035\n"
     ]
    },
    {
     "name": "stderr",
     "output_type": "stream",
     "text": [
      "Perturbing graph:  96%|█████████▋| 244/253 [01:31<00:03,  2.75it/s]"
     ]
    },
    {
     "name": "stdout",
     "output_type": "stream",
     "text": [
      "GCN loss on unlabled data: 1.2736996412277222\n",
      "GCN acc on unlabled data: 0.7210549843540456\n",
      "attack loss: 0.6376153826713562\n"
     ]
    },
    {
     "name": "stderr",
     "output_type": "stream",
     "text": [
      "Perturbing graph:  97%|█████████▋| 245/253 [01:32<00:02,  2.75it/s]"
     ]
    },
    {
     "name": "stdout",
     "output_type": "stream",
     "text": [
      "GCN loss on unlabled data: 1.251417636871338\n",
      "GCN acc on unlabled data: 0.7139025480554314\n",
      "attack loss: 0.6290069818496704\n"
     ]
    },
    {
     "name": "stderr",
     "output_type": "stream",
     "text": [
      "Perturbing graph:  97%|█████████▋| 246/253 [01:32<00:02,  2.75it/s]"
     ]
    },
    {
     "name": "stdout",
     "output_type": "stream",
     "text": [
      "GCN loss on unlabled data: 1.2969367504119873\n",
      "GCN acc on unlabled data: 0.7121144389807779\n",
      "attack loss: 0.653673529624939\n"
     ]
    },
    {
     "name": "stderr",
     "output_type": "stream",
     "text": [
      "Perturbing graph:  98%|█████████▊| 247/253 [01:33<00:02,  2.75it/s]"
     ]
    },
    {
     "name": "stdout",
     "output_type": "stream",
     "text": [
      "GCN loss on unlabled data: 1.2730451822280884\n",
      "GCN acc on unlabled data: 0.713455520786768\n",
      "attack loss: 0.6379057168960571\n"
     ]
    },
    {
     "name": "stderr",
     "output_type": "stream",
     "text": [
      "Perturbing graph:  98%|█████████▊| 248/253 [01:33<00:01,  2.76it/s]"
     ]
    },
    {
     "name": "stdout",
     "output_type": "stream",
     "text": [
      "GCN loss on unlabled data: 1.2837226390838623\n",
      "GCN acc on unlabled data: 0.7116674117121145\n",
      "attack loss: 0.6391932964324951\n"
     ]
    },
    {
     "name": "stderr",
     "output_type": "stream",
     "text": [
      "Perturbing graph:  98%|█████████▊| 249/253 [01:33<00:01,  2.75it/s]"
     ]
    },
    {
     "name": "stdout",
     "output_type": "stream",
     "text": [
      "GCN loss on unlabled data: 1.2665066719055176\n",
      "GCN acc on unlabled data: 0.7089852481001341\n",
      "attack loss: 0.631524384021759\n"
     ]
    },
    {
     "name": "stderr",
     "output_type": "stream",
     "text": [
      "Perturbing graph:  99%|█████████▉| 250/253 [01:34<00:01,  2.75it/s]"
     ]
    },
    {
     "name": "stdout",
     "output_type": "stream",
     "text": [
      "GCN loss on unlabled data: 1.2826287746429443\n",
      "GCN acc on unlabled data: 0.7206079570853823\n",
      "attack loss: 0.6403177976608276\n"
     ]
    },
    {
     "name": "stderr",
     "output_type": "stream",
     "text": [
      "Perturbing graph:  99%|█████████▉| 251/253 [01:34<00:00,  2.75it/s]"
     ]
    },
    {
     "name": "stdout",
     "output_type": "stream",
     "text": [
      "GCN loss on unlabled data: 1.2702404260635376\n",
      "GCN acc on unlabled data: 0.7152436298614215\n",
      "attack loss: 0.6396557092666626\n"
     ]
    },
    {
     "name": "stderr",
     "output_type": "stream",
     "text": [
      "Perturbing graph: 100%|█████████▉| 252/253 [01:34<00:00,  2.74it/s]"
     ]
    },
    {
     "name": "stdout",
     "output_type": "stream",
     "text": [
      "GCN loss on unlabled data: 1.2741100788116455\n",
      "GCN acc on unlabled data: 0.7125614662494413\n",
      "attack loss: 0.6430190205574036\n"
     ]
    },
    {
     "name": "stderr",
     "output_type": "stream",
     "text": [
      "Perturbing graph: 100%|██████████| 253/253 [01:35<00:00,  2.66it/s]\n"
     ]
    }
   ],
   "source": [
    "# Run attack to generate modified adjacency matrix\n",
    "attack_model.attack(features, adj, labels, idx_train, idx_unlabeled, perturbations, ll_constraint=False)\n",
    "modified_adj = attack_model.modified_adj"
   ]
  },
  {
   "cell_type": "code",
   "execution_count": 11,
   "id": "f7298eff-2f42-4e94-a111-502f1d8a558a",
   "metadata": {},
   "outputs": [],
   "source": [
    "from deeprobust.graph.utils import normalize_adj, sparse_mx_to_torch_sparse_tensor\n",
    "import scipy.sparse as sp\n",
    "\n",
    "# If modified_adj is a PyTorch tensor, convert it back to scipy first\n",
    "if isinstance(modified_adj, torch.Tensor):\n",
    "    modified_adj = modified_adj.cpu().numpy()\n",
    "    modified_adj = sp.csr_matrix(modified_adj)  # ensure sparse format\n",
    "\n",
    "# Normalize and convert to torch sparse tensor\n",
    "modified_adj_normalized = normalize_adj(modified_adj)\n",
    "modified_adj_tensor = sparse_mx_to_torch_sparse_tensor(modified_adj_normalized).to(device)"
   ]
  },
  {
   "cell_type": "code",
   "execution_count": 13,
   "id": "80c2f1b8-01e7-4b14-9140-e686aaca3134",
   "metadata": {},
   "outputs": [],
   "source": [
    "# Ensure features is a PyTorch tensor on correct device\n",
    "if isinstance(features, np.ndarray):\n",
    "    features = torch.FloatTensor(features).to(device)\n",
    "elif not isinstance(features, torch.Tensor):\n",
    "    features = torch.FloatTensor(features.A).to(device)\n",
    "else:\n",
    "    features = features.to(device)\n",
    "\n",
    "# Evaluate model on perturbed graph\n",
    "model_clean.eval()\n",
    "output = model_clean.predict(features, modified_adj_tensor)\n",
    "preds = output.argmax(dim=1)\n",
    "\n"
   ]
  },
  {
   "cell_type": "code",
   "execution_count": 15,
   "id": "978762ac-1952-4e5b-a35e-eb588972fb20",
   "metadata": {},
   "outputs": [
    {
     "name": "stdout",
     "output_type": "stream",
     "text": [
      "Test Accuracy after evasion attack: 0.8169\n"
     ]
    }
   ],
   "source": [
    "# Compute accuracy\n",
    "# Ensure labels is a PyTorch tensor\n",
    "if isinstance(labels, np.ndarray):\n",
    "    labels = torch.LongTensor(labels).to(device)\n",
    "\n",
    "# Compute accuracy\n",
    "correct = preds[idx_test].eq(labels[idx_test]).sum().item()\n",
    "acc_evasion = correct / len(idx_test)\n",
    "\n",
    "print(f\"Test Accuracy after evasion attack: {acc_evasion:.4f}\")"
   ]
  },
  {
   "cell_type": "code",
   "execution_count": 2,
   "id": "f8781496-a027-467b-9952-d72cdfb5843e",
   "metadata": {},
   "outputs": [
    {
     "name": "stdout",
     "output_type": "stream",
     "text": [
      "Loading cora dataset...\n",
      "Selecting 1 largest connected components\n",
      "✅ Clean Graph Test Accuracy: 0.8260\n"
     ]
    },
    {
     "name": "stderr",
     "output_type": "stream",
     "text": [
      "Perturbing graph:   0%|          | 0/253 [00:00<?, ?it/s]"
     ]
    },
    {
     "name": "stdout",
     "output_type": "stream",
     "text": [
      "GCN loss on unlabled data: 0.5112600922584534\n",
      "GCN acc on unlabled data: 0.8448815377738043\n",
      "attack loss: 0.14672847092151642\n"
     ]
    },
    {
     "name": "stderr",
     "output_type": "stream",
     "text": [
      "Perturbing graph:   0%|          | 1/253 [00:00<02:22,  1.77it/s]"
     ]
    },
    {
     "name": "stdout",
     "output_type": "stream",
     "text": [
      "GCN loss on unlabled data: 0.5395905375480652\n",
      "GCN acc on unlabled data: 0.8480107286544479\n",
      "attack loss: 0.15828680992126465\n"
     ]
    },
    {
     "name": "stderr",
     "output_type": "stream",
     "text": [
      "Perturbing graph:   1%|          | 2/253 [00:01<02:07,  1.97it/s]"
     ]
    },
    {
     "name": "stdout",
     "output_type": "stream",
     "text": [
      "GCN loss on unlabled data: 0.5414685606956482\n",
      "GCN acc on unlabled data: 0.8430934286991507\n",
      "attack loss: 0.16390281915664673\n"
     ]
    },
    {
     "name": "stderr",
     "output_type": "stream",
     "text": [
      "Perturbing graph:   1%|          | 3/253 [00:01<02:03,  2.03it/s]"
     ]
    },
    {
     "name": "stdout",
     "output_type": "stream",
     "text": [
      "GCN loss on unlabled data: 0.5513651371002197\n",
      "GCN acc on unlabled data: 0.8413053196244972\n",
      "attack loss: 0.159588024020195\n"
     ]
    },
    {
     "name": "stderr",
     "output_type": "stream",
     "text": [
      "Perturbing graph:   2%|▏         | 4/253 [00:01<02:00,  2.06it/s]"
     ]
    },
    {
     "name": "stdout",
     "output_type": "stream",
     "text": [
      "GCN loss on unlabled data: 0.5531063675880432\n",
      "GCN acc on unlabled data: 0.8413053196244972\n",
      "attack loss: 0.16151688992977142\n"
     ]
    },
    {
     "name": "stderr",
     "output_type": "stream",
     "text": [
      "Perturbing graph:   2%|▏         | 5/253 [00:02<01:59,  2.08it/s]"
     ]
    },
    {
     "name": "stdout",
     "output_type": "stream",
     "text": [
      "GCN loss on unlabled data: 0.5493028163909912\n",
      "GCN acc on unlabled data: 0.8399642378185069\n",
      "attack loss: 0.16504253447055817\n"
     ]
    },
    {
     "name": "stderr",
     "output_type": "stream",
     "text": [
      "Perturbing graph:   2%|▏         | 6/253 [00:02<01:57,  2.10it/s]"
     ]
    },
    {
     "name": "stdout",
     "output_type": "stream",
     "text": [
      "GCN loss on unlabled data: 0.5797803997993469\n",
      "GCN acc on unlabled data: 0.8328118015198928\n",
      "attack loss: 0.17439565062522888\n"
     ]
    },
    {
     "name": "stderr",
     "output_type": "stream",
     "text": [
      "Perturbing graph:   3%|▎         | 7/253 [00:03<01:56,  2.11it/s]"
     ]
    },
    {
     "name": "stdout",
     "output_type": "stream",
     "text": [
      "GCN loss on unlabled data: 0.569038450717926\n",
      "GCN acc on unlabled data: 0.8399642378185069\n",
      "attack loss: 0.17326049506664276\n"
     ]
    },
    {
     "name": "stderr",
     "output_type": "stream",
     "text": [
      "Perturbing graph:   3%|▎         | 8/253 [00:03<01:55,  2.11it/s]"
     ]
    },
    {
     "name": "stdout",
     "output_type": "stream",
     "text": [
      "GCN loss on unlabled data: 0.5587851405143738\n",
      "GCN acc on unlabled data: 0.8386231560125168\n",
      "attack loss: 0.17032475769519806\n"
     ]
    },
    {
     "name": "stderr",
     "output_type": "stream",
     "text": [
      "Perturbing graph:   4%|▎         | 9/253 [00:04<01:55,  2.11it/s]"
     ]
    },
    {
     "name": "stdout",
     "output_type": "stream",
     "text": [
      "GCN loss on unlabled data: 0.5803334712982178\n",
      "GCN acc on unlabled data: 0.8301296379079124\n",
      "attack loss: 0.17687545716762543\n"
     ]
    },
    {
     "name": "stderr",
     "output_type": "stream",
     "text": [
      "Perturbing graph:   4%|▍         | 10/253 [00:04<01:54,  2.12it/s]"
     ]
    },
    {
     "name": "stdout",
     "output_type": "stream",
     "text": [
      "GCN loss on unlabled data: 0.5889469981193542\n",
      "GCN acc on unlabled data: 0.8328118015198928\n",
      "attack loss: 0.1803855001926422\n"
     ]
    },
    {
     "name": "stderr",
     "output_type": "stream",
     "text": [
      "Perturbing graph:   4%|▍         | 11/253 [00:05<01:53,  2.13it/s]"
     ]
    },
    {
     "name": "stdout",
     "output_type": "stream",
     "text": [
      "GCN loss on unlabled data: 0.5944570899009705\n",
      "GCN acc on unlabled data: 0.8301296379079124\n",
      "attack loss: 0.18356412649154663\n"
     ]
    },
    {
     "name": "stderr",
     "output_type": "stream",
     "text": [
      "Perturbing graph:   5%|▍         | 12/253 [00:05<01:53,  2.13it/s]"
     ]
    },
    {
     "name": "stdout",
     "output_type": "stream",
     "text": [
      "GCN loss on unlabled data: 0.5836731195449829\n",
      "GCN acc on unlabled data: 0.8350469378632097\n",
      "attack loss: 0.18232324719429016\n"
     ]
    },
    {
     "name": "stderr",
     "output_type": "stream",
     "text": [
      "Perturbing graph:   5%|▌         | 13/253 [00:06<01:52,  2.13it/s]"
     ]
    },
    {
     "name": "stdout",
     "output_type": "stream",
     "text": [
      "GCN loss on unlabled data: 0.5953806042671204\n",
      "GCN acc on unlabled data: 0.8283415288332588\n",
      "attack loss: 0.17867593467235565\n"
     ]
    },
    {
     "name": "stderr",
     "output_type": "stream",
     "text": [
      "Perturbing graph:   6%|▌         | 14/253 [00:06<01:52,  2.13it/s]"
     ]
    },
    {
     "name": "stdout",
     "output_type": "stream",
     "text": [
      "GCN loss on unlabled data: 0.6026577949523926\n",
      "GCN acc on unlabled data: 0.8287885561019223\n",
      "attack loss: 0.18777406215667725\n"
     ]
    },
    {
     "name": "stderr",
     "output_type": "stream",
     "text": [
      "Perturbing graph:   6%|▌         | 15/253 [00:07<01:51,  2.13it/s]"
     ]
    },
    {
     "name": "stdout",
     "output_type": "stream",
     "text": [
      "GCN loss on unlabled data: 0.6055213809013367\n",
      "GCN acc on unlabled data: 0.8252123379526152\n",
      "attack loss: 0.18479715287685394\n"
     ]
    },
    {
     "name": "stderr",
     "output_type": "stream",
     "text": [
      "Perturbing graph:   6%|▋         | 16/253 [00:07<01:51,  2.13it/s]"
     ]
    },
    {
     "name": "stdout",
     "output_type": "stream",
     "text": [
      "GCN loss on unlabled data: 0.6024721264839172\n",
      "GCN acc on unlabled data: 0.8274474742959321\n",
      "attack loss: 0.19569742679595947\n"
     ]
    },
    {
     "name": "stderr",
     "output_type": "stream",
     "text": [
      "Perturbing graph:   7%|▋         | 17/253 [00:08<01:50,  2.13it/s]"
     ]
    },
    {
     "name": "stdout",
     "output_type": "stream",
     "text": [
      "GCN loss on unlabled data: 0.6217834949493408\n",
      "GCN acc on unlabled data: 0.8247653106839518\n",
      "attack loss: 0.1987912356853485\n"
     ]
    },
    {
     "name": "stderr",
     "output_type": "stream",
     "text": [
      "Perturbing graph:   7%|▋         | 18/253 [00:08<01:50,  2.13it/s]"
     ]
    },
    {
     "name": "stdout",
     "output_type": "stream",
     "text": [
      "GCN loss on unlabled data: 0.6189213395118713\n",
      "GCN acc on unlabled data: 0.8314707197139026\n",
      "attack loss: 0.19368232786655426\n"
     ]
    },
    {
     "name": "stderr",
     "output_type": "stream",
     "text": [
      "Perturbing graph:   8%|▊         | 19/253 [00:09<01:49,  2.13it/s]"
     ]
    },
    {
     "name": "stdout",
     "output_type": "stream",
     "text": [
      "GCN loss on unlabled data: 0.6167109608650208\n",
      "GCN acc on unlabled data: 0.8225301743406348\n",
      "attack loss: 0.1947299838066101\n"
     ]
    },
    {
     "name": "stderr",
     "output_type": "stream",
     "text": [
      "Perturbing graph:   8%|▊         | 20/253 [00:09<01:49,  2.13it/s]"
     ]
    },
    {
     "name": "stdout",
     "output_type": "stream",
     "text": [
      "GCN loss on unlabled data: 0.6092128157615662\n",
      "GCN acc on unlabled data: 0.8292355833705857\n",
      "attack loss: 0.20067022740840912\n"
     ]
    },
    {
     "name": "stderr",
     "output_type": "stream",
     "text": [
      "Perturbing graph:   8%|▊         | 21/253 [00:09<01:48,  2.13it/s]"
     ]
    },
    {
     "name": "stdout",
     "output_type": "stream",
     "text": [
      "GCN loss on unlabled data: 0.6229327321052551\n",
      "GCN acc on unlabled data: 0.8234242288779616\n",
      "attack loss: 0.1986544132232666\n"
     ]
    },
    {
     "name": "stderr",
     "output_type": "stream",
     "text": [
      "Perturbing graph:   9%|▊         | 22/253 [00:10<01:48,  2.13it/s]"
     ]
    },
    {
     "name": "stdout",
     "output_type": "stream",
     "text": [
      "GCN loss on unlabled data: 0.6255227327346802\n",
      "GCN acc on unlabled data: 0.8243182834152883\n",
      "attack loss: 0.20321674644947052\n"
     ]
    },
    {
     "name": "stderr",
     "output_type": "stream",
     "text": [
      "Perturbing graph:   9%|▉         | 23/253 [00:10<01:48,  2.13it/s]"
     ]
    },
    {
     "name": "stdout",
     "output_type": "stream",
     "text": [
      "GCN loss on unlabled data: 0.6343488097190857\n",
      "GCN acc on unlabled data: 0.8220831470719714\n",
      "attack loss: 0.20234403014183044\n"
     ]
    },
    {
     "name": "stderr",
     "output_type": "stream",
     "text": [
      "Perturbing graph:   9%|▉         | 24/253 [00:11<01:47,  2.13it/s]"
     ]
    },
    {
     "name": "stdout",
     "output_type": "stream",
     "text": [
      "GCN loss on unlabled data: 0.6503627896308899\n",
      "GCN acc on unlabled data: 0.8211890925346447\n",
      "attack loss: 0.2102903425693512\n"
     ]
    },
    {
     "name": "stderr",
     "output_type": "stream",
     "text": [
      "Perturbing graph:  10%|▉         | 25/253 [00:11<01:47,  2.13it/s]"
     ]
    },
    {
     "name": "stdout",
     "output_type": "stream",
     "text": [
      "GCN loss on unlabled data: 0.6300190091133118\n",
      "GCN acc on unlabled data: 0.8252123379526152\n",
      "attack loss: 0.21275010704994202\n"
     ]
    },
    {
     "name": "stderr",
     "output_type": "stream",
     "text": [
      "Perturbing graph:  10%|█         | 26/253 [00:12<01:46,  2.13it/s]"
     ]
    },
    {
     "name": "stdout",
     "output_type": "stream",
     "text": [
      "GCN loss on unlabled data: 0.6374630331993103\n",
      "GCN acc on unlabled data: 0.8229772016092982\n",
      "attack loss: 0.20995035767555237\n"
     ]
    },
    {
     "name": "stderr",
     "output_type": "stream",
     "text": [
      "Perturbing graph:  11%|█         | 27/253 [00:12<01:46,  2.13it/s]"
     ]
    },
    {
     "name": "stdout",
     "output_type": "stream",
     "text": [
      "GCN loss on unlabled data: 0.66319739818573\n",
      "GCN acc on unlabled data: 0.821636119803308\n",
      "attack loss: 0.21783286333084106\n"
     ]
    },
    {
     "name": "stderr",
     "output_type": "stream",
     "text": [
      "Perturbing graph:  11%|█         | 28/253 [00:13<01:45,  2.13it/s]"
     ]
    },
    {
     "name": "stdout",
     "output_type": "stream",
     "text": [
      "GCN loss on unlabled data: 0.6653429269790649\n",
      "GCN acc on unlabled data: 0.8185069289226643\n",
      "attack loss: 0.21814721822738647\n"
     ]
    },
    {
     "name": "stderr",
     "output_type": "stream",
     "text": [
      "Perturbing graph:  11%|█▏        | 29/253 [00:13<01:45,  2.13it/s]"
     ]
    },
    {
     "name": "stdout",
     "output_type": "stream",
     "text": [
      "GCN loss on unlabled data: 0.6544709205627441\n",
      "GCN acc on unlabled data: 0.8220831470719714\n",
      "attack loss: 0.21809454262256622\n"
     ]
    },
    {
     "name": "stderr",
     "output_type": "stream",
     "text": [
      "Perturbing graph:  12%|█▏        | 30/253 [00:14<01:44,  2.13it/s]"
     ]
    },
    {
     "name": "stdout",
     "output_type": "stream",
     "text": [
      "GCN loss on unlabled data: 0.6635230779647827\n",
      "GCN acc on unlabled data: 0.8185069289226643\n",
      "attack loss: 0.22544515132904053\n"
     ]
    },
    {
     "name": "stderr",
     "output_type": "stream",
     "text": [
      "Perturbing graph:  12%|█▏        | 31/253 [00:14<01:44,  2.13it/s]"
     ]
    },
    {
     "name": "stdout",
     "output_type": "stream",
     "text": [
      "GCN loss on unlabled data: 0.683865487575531\n",
      "GCN acc on unlabled data: 0.8202950379973178\n",
      "attack loss: 0.22584301233291626\n"
     ]
    },
    {
     "name": "stderr",
     "output_type": "stream",
     "text": [
      "Perturbing graph:  13%|█▎        | 32/253 [00:15<01:43,  2.13it/s]"
     ]
    },
    {
     "name": "stdout",
     "output_type": "stream",
     "text": [
      "GCN loss on unlabled data: 0.6649177074432373\n",
      "GCN acc on unlabled data: 0.8167188198480108\n",
      "attack loss: 0.2315818816423416\n"
     ]
    },
    {
     "name": "stderr",
     "output_type": "stream",
     "text": [
      "Perturbing graph:  13%|█▎        | 33/253 [00:15<01:43,  2.13it/s]"
     ]
    },
    {
     "name": "stdout",
     "output_type": "stream",
     "text": [
      "GCN loss on unlabled data: 0.6925100088119507\n",
      "GCN acc on unlabled data: 0.8118015198927134\n",
      "attack loss: 0.23605363070964813\n"
     ]
    },
    {
     "name": "stderr",
     "output_type": "stream",
     "text": [
      "Perturbing graph:  13%|█▎        | 34/253 [00:16<01:42,  2.13it/s]"
     ]
    },
    {
     "name": "stdout",
     "output_type": "stream",
     "text": [
      "GCN loss on unlabled data: 0.668608546257019\n",
      "GCN acc on unlabled data: 0.8086723290120698\n",
      "attack loss: 0.23295250535011292\n"
     ]
    },
    {
     "name": "stderr",
     "output_type": "stream",
     "text": [
      "Perturbing graph:  14%|█▍        | 35/253 [00:16<01:42,  2.13it/s]"
     ]
    },
    {
     "name": "stdout",
     "output_type": "stream",
     "text": [
      "GCN loss on unlabled data: 0.6917396187782288\n",
      "GCN acc on unlabled data: 0.8149307107733572\n",
      "attack loss: 0.2340119630098343\n"
     ]
    },
    {
     "name": "stderr",
     "output_type": "stream",
     "text": [
      "Perturbing graph:  14%|█▍        | 36/253 [00:17<01:42,  2.12it/s]"
     ]
    },
    {
     "name": "stdout",
     "output_type": "stream",
     "text": [
      "GCN loss on unlabled data: 0.6807570457458496\n",
      "GCN acc on unlabled data: 0.8118015198927134\n",
      "attack loss: 0.23563909530639648\n"
     ]
    },
    {
     "name": "stderr",
     "output_type": "stream",
     "text": [
      "Perturbing graph:  15%|█▍        | 37/253 [00:17<01:41,  2.13it/s]"
     ]
    },
    {
     "name": "stdout",
     "output_type": "stream",
     "text": [
      "GCN loss on unlabled data: 0.6997426152229309\n",
      "GCN acc on unlabled data: 0.8100134108180599\n",
      "attack loss: 0.24337023496627808\n"
     ]
    },
    {
     "name": "stderr",
     "output_type": "stream",
     "text": [
      "Perturbing graph:  15%|█▌        | 38/253 [00:17<01:41,  2.13it/s]"
     ]
    },
    {
     "name": "stdout",
     "output_type": "stream",
     "text": [
      "GCN loss on unlabled data: 0.7482845783233643\n",
      "GCN acc on unlabled data: 0.8077782744747429\n",
      "attack loss: 0.24932092428207397\n"
     ]
    },
    {
     "name": "stderr",
     "output_type": "stream",
     "text": [
      "Perturbing graph:  15%|█▌        | 39/253 [00:18<01:40,  2.13it/s]"
     ]
    },
    {
     "name": "stdout",
     "output_type": "stream",
     "text": [
      "GCN loss on unlabled data: 0.7254941463470459\n",
      "GCN acc on unlabled data: 0.8082253017434063\n",
      "attack loss: 0.24939481914043427\n"
     ]
    },
    {
     "name": "stderr",
     "output_type": "stream",
     "text": [
      "Perturbing graph:  16%|█▌        | 40/253 [00:18<01:40,  2.12it/s]"
     ]
    },
    {
     "name": "stdout",
     "output_type": "stream",
     "text": [
      "GCN loss on unlabled data: 0.7134115695953369\n",
      "GCN acc on unlabled data: 0.8086723290120698\n",
      "attack loss: 0.24582141637802124\n"
     ]
    },
    {
     "name": "stderr",
     "output_type": "stream",
     "text": [
      "Perturbing graph:  16%|█▌        | 41/253 [00:19<01:39,  2.12it/s]"
     ]
    },
    {
     "name": "stdout",
     "output_type": "stream",
     "text": [
      "GCN loss on unlabled data: 0.6993916034698486\n",
      "GCN acc on unlabled data: 0.8091193562807332\n",
      "attack loss: 0.2431614100933075\n"
     ]
    },
    {
     "name": "stderr",
     "output_type": "stream",
     "text": [
      "Perturbing graph:  17%|█▋        | 42/253 [00:19<01:39,  2.12it/s]"
     ]
    },
    {
     "name": "stdout",
     "output_type": "stream",
     "text": [
      "GCN loss on unlabled data: 0.7181015610694885\n",
      "GCN acc on unlabled data: 0.8082253017434063\n",
      "attack loss: 0.24526984989643097\n"
     ]
    },
    {
     "name": "stderr",
     "output_type": "stream",
     "text": [
      "Perturbing graph:  17%|█▋        | 43/253 [00:20<01:39,  2.12it/s]"
     ]
    },
    {
     "name": "stdout",
     "output_type": "stream",
     "text": [
      "GCN loss on unlabled data: 0.7426188588142395\n",
      "GCN acc on unlabled data: 0.8015198927134556\n",
      "attack loss: 0.25906625390052795\n"
     ]
    },
    {
     "name": "stderr",
     "output_type": "stream",
     "text": [
      "Perturbing graph:  17%|█▋        | 44/253 [00:20<01:38,  2.12it/s]"
     ]
    },
    {
     "name": "stdout",
     "output_type": "stream",
     "text": [
      "GCN loss on unlabled data: 0.7284306883811951\n",
      "GCN acc on unlabled data: 0.8068842199374162\n",
      "attack loss: 0.2568672299385071\n"
     ]
    },
    {
     "name": "stderr",
     "output_type": "stream",
     "text": [
      "Perturbing graph:  18%|█▊        | 45/253 [00:21<01:37,  2.13it/s]"
     ]
    },
    {
     "name": "stdout",
     "output_type": "stream",
     "text": [
      "GCN loss on unlabled data: 0.7384939193725586\n",
      "GCN acc on unlabled data: 0.8046490835940993\n",
      "attack loss: 0.2552424669265747\n"
     ]
    },
    {
     "name": "stderr",
     "output_type": "stream",
     "text": [
      "Perturbing graph:  18%|█▊        | 46/253 [00:21<01:37,  2.13it/s]"
     ]
    },
    {
     "name": "stdout",
     "output_type": "stream",
     "text": [
      "GCN loss on unlabled data: 0.7178151607513428\n",
      "GCN acc on unlabled data: 0.8037550290567725\n",
      "attack loss: 0.25666344165802\n"
     ]
    },
    {
     "name": "stderr",
     "output_type": "stream",
     "text": [
      "Perturbing graph:  19%|█▊        | 47/253 [00:22<01:36,  2.13it/s]"
     ]
    },
    {
     "name": "stdout",
     "output_type": "stream",
     "text": [
      "GCN loss on unlabled data: 0.7623401284217834\n",
      "GCN acc on unlabled data: 0.8046490835940993\n",
      "attack loss: 0.2679547965526581\n"
     ]
    },
    {
     "name": "stderr",
     "output_type": "stream",
     "text": [
      "Perturbing graph:  19%|█▉        | 48/253 [00:22<01:36,  2.13it/s]"
     ]
    },
    {
     "name": "stdout",
     "output_type": "stream",
     "text": [
      "GCN loss on unlabled data: 0.7616387605667114\n",
      "GCN acc on unlabled data: 0.8042020563254358\n",
      "attack loss: 0.27391213178634644\n"
     ]
    },
    {
     "name": "stderr",
     "output_type": "stream",
     "text": [
      "Perturbing graph:  19%|█▉        | 49/253 [00:23<01:35,  2.13it/s]"
     ]
    },
    {
     "name": "stdout",
     "output_type": "stream",
     "text": [
      "GCN loss on unlabled data: 0.7522723078727722\n",
      "GCN acc on unlabled data: 0.8046490835940993\n",
      "attack loss: 0.2612420618534088\n"
     ]
    },
    {
     "name": "stderr",
     "output_type": "stream",
     "text": [
      "Perturbing graph:  20%|█▉        | 50/253 [00:23<01:35,  2.13it/s]"
     ]
    },
    {
     "name": "stdout",
     "output_type": "stream",
     "text": [
      "GCN loss on unlabled data: 0.7481706142425537\n",
      "GCN acc on unlabled data: 0.8064371926687528\n",
      "attack loss: 0.2704160213470459\n"
     ]
    },
    {
     "name": "stderr",
     "output_type": "stream",
     "text": [
      "Perturbing graph:  20%|██        | 51/253 [00:24<01:34,  2.13it/s]"
     ]
    },
    {
     "name": "stdout",
     "output_type": "stream",
     "text": [
      "GCN loss on unlabled data: 0.7626652717590332\n",
      "GCN acc on unlabled data: 0.8019669199821189\n",
      "attack loss: 0.27327731251716614\n"
     ]
    },
    {
     "name": "stderr",
     "output_type": "stream",
     "text": [
      "Perturbing graph:  21%|██        | 52/253 [00:24<01:34,  2.13it/s]"
     ]
    },
    {
     "name": "stdout",
     "output_type": "stream",
     "text": [
      "GCN loss on unlabled data: 0.752923309803009\n",
      "GCN acc on unlabled data: 0.8019669199821189\n",
      "attack loss: 0.2674393653869629\n"
     ]
    },
    {
     "name": "stderr",
     "output_type": "stream",
     "text": [
      "Perturbing graph:  21%|██        | 53/253 [00:25<01:33,  2.13it/s]"
     ]
    },
    {
     "name": "stdout",
     "output_type": "stream",
     "text": [
      "GCN loss on unlabled data: 0.7706784605979919\n",
      "GCN acc on unlabled data: 0.8055431381314261\n",
      "attack loss: 0.2736383378505707\n"
     ]
    },
    {
     "name": "stderr",
     "output_type": "stream",
     "text": [
      "Perturbing graph:  21%|██▏       | 54/253 [00:25<01:33,  2.13it/s]"
     ]
    },
    {
     "name": "stdout",
     "output_type": "stream",
     "text": [
      "GCN loss on unlabled data: 0.7441391944885254\n",
      "GCN acc on unlabled data: 0.8095663835493966\n",
      "attack loss: 0.2646214962005615\n"
     ]
    },
    {
     "name": "stderr",
     "output_type": "stream",
     "text": [
      "Perturbing graph:  22%|██▏       | 55/253 [00:25<01:32,  2.13it/s]"
     ]
    },
    {
     "name": "stdout",
     "output_type": "stream",
     "text": [
      "GCN loss on unlabled data: 0.8022434711456299\n",
      "GCN acc on unlabled data: 0.8001788109074653\n",
      "attack loss: 0.27961570024490356\n"
     ]
    },
    {
     "name": "stderr",
     "output_type": "stream",
     "text": [
      "Perturbing graph:  22%|██▏       | 56/253 [00:26<01:32,  2.13it/s]"
     ]
    },
    {
     "name": "stdout",
     "output_type": "stream",
     "text": [
      "GCN loss on unlabled data: 0.7701125144958496\n",
      "GCN acc on unlabled data: 0.7970496200268217\n",
      "attack loss: 0.273412823677063\n"
     ]
    },
    {
     "name": "stderr",
     "output_type": "stream",
     "text": [
      "Perturbing graph:  23%|██▎       | 57/253 [00:26<01:32,  2.13it/s]"
     ]
    },
    {
     "name": "stdout",
     "output_type": "stream",
     "text": [
      "GCN loss on unlabled data: 0.8106486201286316\n",
      "GCN acc on unlabled data: 0.8006258381761288\n",
      "attack loss: 0.28390324115753174\n"
     ]
    },
    {
     "name": "stderr",
     "output_type": "stream",
     "text": [
      "Perturbing graph:  23%|██▎       | 58/253 [00:27<01:31,  2.13it/s]"
     ]
    },
    {
     "name": "stdout",
     "output_type": "stream",
     "text": [
      "GCN loss on unlabled data: 0.799953281879425\n",
      "GCN acc on unlabled data: 0.7974966472954851\n",
      "attack loss: 0.2830120325088501\n"
     ]
    },
    {
     "name": "stderr",
     "output_type": "stream",
     "text": [
      "Perturbing graph:  23%|██▎       | 59/253 [00:27<01:31,  2.13it/s]"
     ]
    },
    {
     "name": "stdout",
     "output_type": "stream",
     "text": [
      "GCN loss on unlabled data: 0.7805683612823486\n",
      "GCN acc on unlabled data: 0.8015198927134556\n",
      "attack loss: 0.27565354108810425\n"
     ]
    },
    {
     "name": "stderr",
     "output_type": "stream",
     "text": [
      "Perturbing graph:  24%|██▎       | 60/253 [00:28<01:30,  2.12it/s]"
     ]
    },
    {
     "name": "stdout",
     "output_type": "stream",
     "text": [
      "GCN loss on unlabled data: 0.8010599613189697\n",
      "GCN acc on unlabled data: 0.8042020563254358\n",
      "attack loss: 0.28871801495552063\n"
     ]
    },
    {
     "name": "stderr",
     "output_type": "stream",
     "text": [
      "Perturbing graph:  24%|██▍       | 61/253 [00:28<01:30,  2.13it/s]"
     ]
    },
    {
     "name": "stdout",
     "output_type": "stream",
     "text": [
      "GCN loss on unlabled data: 0.779391348361969\n",
      "GCN acc on unlabled data: 0.8015198927134556\n",
      "attack loss: 0.2762260138988495\n"
     ]
    },
    {
     "name": "stderr",
     "output_type": "stream",
     "text": [
      "Perturbing graph:  25%|██▍       | 62/253 [00:29<01:29,  2.13it/s]"
     ]
    },
    {
     "name": "stdout",
     "output_type": "stream",
     "text": [
      "GCN loss on unlabled data: 0.7866100072860718\n",
      "GCN acc on unlabled data: 0.8024139472507823\n",
      "attack loss: 0.273282915353775\n"
     ]
    },
    {
     "name": "stderr",
     "output_type": "stream",
     "text": [
      "Perturbing graph:  25%|██▍       | 63/253 [00:29<01:29,  2.13it/s]"
     ]
    },
    {
     "name": "stdout",
     "output_type": "stream",
     "text": [
      "GCN loss on unlabled data: 0.7917390465736389\n",
      "GCN acc on unlabled data: 0.8001788109074653\n",
      "attack loss: 0.29029226303100586\n"
     ]
    },
    {
     "name": "stderr",
     "output_type": "stream",
     "text": [
      "Perturbing graph:  25%|██▌       | 64/253 [00:30<01:28,  2.13it/s]"
     ]
    },
    {
     "name": "stdout",
     "output_type": "stream",
     "text": [
      "GCN loss on unlabled data: 0.815487802028656\n",
      "GCN acc on unlabled data: 0.799731783638802\n",
      "attack loss: 0.29032576084136963\n"
     ]
    },
    {
     "name": "stderr",
     "output_type": "stream",
     "text": [
      "Perturbing graph:  26%|██▌       | 65/253 [00:30<01:28,  2.13it/s]"
     ]
    },
    {
     "name": "stdout",
     "output_type": "stream",
     "text": [
      "GCN loss on unlabled data: 0.8099607229232788\n",
      "GCN acc on unlabled data: 0.7979436745641484\n",
      "attack loss: 0.2882177531719208\n"
     ]
    },
    {
     "name": "stderr",
     "output_type": "stream",
     "text": [
      "Perturbing graph:  26%|██▌       | 66/253 [00:31<01:27,  2.13it/s]"
     ]
    },
    {
     "name": "stdout",
     "output_type": "stream",
     "text": [
      "GCN loss on unlabled data: 0.8085850477218628\n",
      "GCN acc on unlabled data: 0.8037550290567725\n",
      "attack loss: 0.2874840199947357\n"
     ]
    },
    {
     "name": "stderr",
     "output_type": "stream",
     "text": [
      "Perturbing graph:  26%|██▋       | 67/253 [00:31<01:27,  2.13it/s]"
     ]
    },
    {
     "name": "stdout",
     "output_type": "stream",
     "text": [
      "GCN loss on unlabled data: 0.7970425486564636\n",
      "GCN acc on unlabled data: 0.7983907018328118\n",
      "attack loss: 0.2881626486778259\n"
     ]
    },
    {
     "name": "stderr",
     "output_type": "stream",
     "text": [
      "Perturbing graph:  27%|██▋       | 68/253 [00:32<01:27,  2.12it/s]"
     ]
    },
    {
     "name": "stdout",
     "output_type": "stream",
     "text": [
      "GCN loss on unlabled data: 0.8278869986534119\n",
      "GCN acc on unlabled data: 0.7952615109521681\n",
      "attack loss: 0.29938527941703796\n"
     ]
    },
    {
     "name": "stderr",
     "output_type": "stream",
     "text": [
      "Perturbing graph:  27%|██▋       | 69/253 [00:32<01:26,  2.12it/s]"
     ]
    },
    {
     "name": "stdout",
     "output_type": "stream",
     "text": [
      "GCN loss on unlabled data: 0.8377639055252075\n",
      "GCN acc on unlabled data: 0.7943674564148413\n",
      "attack loss: 0.3026651442050934\n"
     ]
    },
    {
     "name": "stderr",
     "output_type": "stream",
     "text": [
      "Perturbing graph:  28%|██▊       | 70/253 [00:32<01:26,  2.12it/s]"
     ]
    },
    {
     "name": "stdout",
     "output_type": "stream",
     "text": [
      "GCN loss on unlabled data: 0.8357179760932922\n",
      "GCN acc on unlabled data: 0.7992847563701386\n",
      "attack loss: 0.3045942187309265\n"
     ]
    },
    {
     "name": "stderr",
     "output_type": "stream",
     "text": [
      "Perturbing graph:  28%|██▊       | 71/253 [00:33<01:25,  2.12it/s]"
     ]
    },
    {
     "name": "stdout",
     "output_type": "stream",
     "text": [
      "GCN loss on unlabled data: 0.841967761516571\n",
      "GCN acc on unlabled data: 0.7988377291014752\n",
      "attack loss: 0.30635687708854675\n"
     ]
    },
    {
     "name": "stderr",
     "output_type": "stream",
     "text": [
      "Perturbing graph:  28%|██▊       | 72/253 [00:33<01:25,  2.13it/s]"
     ]
    },
    {
     "name": "stdout",
     "output_type": "stream",
     "text": [
      "GCN loss on unlabled data: 0.8355699181556702\n",
      "GCN acc on unlabled data: 0.7952615109521681\n",
      "attack loss: 0.3017093241214752\n"
     ]
    },
    {
     "name": "stderr",
     "output_type": "stream",
     "text": [
      "Perturbing graph:  29%|██▉       | 73/253 [00:34<01:24,  2.13it/s]"
     ]
    },
    {
     "name": "stdout",
     "output_type": "stream",
     "text": [
      "GCN loss on unlabled data: 0.8388619422912598\n",
      "GCN acc on unlabled data: 0.7948144836835047\n",
      "attack loss: 0.3040162920951843\n"
     ]
    },
    {
     "name": "stderr",
     "output_type": "stream",
     "text": [
      "Perturbing graph:  29%|██▉       | 74/253 [00:34<01:24,  2.13it/s]"
     ]
    },
    {
     "name": "stdout",
     "output_type": "stream",
     "text": [
      "GCN loss on unlabled data: 0.8552373051643372\n",
      "GCN acc on unlabled data: 0.7983907018328118\n",
      "attack loss: 0.310064435005188\n"
     ]
    },
    {
     "name": "stderr",
     "output_type": "stream",
     "text": [
      "Perturbing graph:  30%|██▉       | 75/253 [00:35<01:23,  2.12it/s]"
     ]
    },
    {
     "name": "stdout",
     "output_type": "stream",
     "text": [
      "GCN loss on unlabled data: 0.8577847480773926\n",
      "GCN acc on unlabled data: 0.7961555654894948\n",
      "attack loss: 0.3130936026573181\n"
     ]
    },
    {
     "name": "stderr",
     "output_type": "stream",
     "text": [
      "Perturbing graph:  30%|███       | 76/253 [00:35<01:23,  2.13it/s]"
     ]
    },
    {
     "name": "stdout",
     "output_type": "stream",
     "text": [
      "GCN loss on unlabled data: 0.8501378297805786\n",
      "GCN acc on unlabled data: 0.7943674564148413\n",
      "attack loss: 0.312985360622406\n"
     ]
    },
    {
     "name": "stderr",
     "output_type": "stream",
     "text": [
      "Perturbing graph:  30%|███       | 77/253 [00:36<01:22,  2.13it/s]"
     ]
    },
    {
     "name": "stdout",
     "output_type": "stream",
     "text": [
      "GCN loss on unlabled data: 0.8541819453239441\n",
      "GCN acc on unlabled data: 0.7974966472954851\n",
      "attack loss: 0.3167537748813629\n"
     ]
    },
    {
     "name": "stderr",
     "output_type": "stream",
     "text": [
      "Perturbing graph:  31%|███       | 78/253 [00:36<01:22,  2.13it/s]"
     ]
    },
    {
     "name": "stdout",
     "output_type": "stream",
     "text": [
      "GCN loss on unlabled data: 0.8388087153434753\n",
      "GCN acc on unlabled data: 0.7961555654894948\n",
      "attack loss: 0.3111454248428345\n"
     ]
    },
    {
     "name": "stderr",
     "output_type": "stream",
     "text": [
      "Perturbing graph:  31%|███       | 79/253 [00:37<01:21,  2.13it/s]"
     ]
    },
    {
     "name": "stdout",
     "output_type": "stream",
     "text": [
      "GCN loss on unlabled data: 0.8626243472099304\n",
      "GCN acc on unlabled data: 0.7970496200268217\n",
      "attack loss: 0.31716862320899963\n"
     ]
    },
    {
     "name": "stderr",
     "output_type": "stream",
     "text": [
      "Perturbing graph:  32%|███▏      | 80/253 [00:37<01:21,  2.13it/s]"
     ]
    },
    {
     "name": "stdout",
     "output_type": "stream",
     "text": [
      "GCN loss on unlabled data: 0.8841617703437805\n",
      "GCN acc on unlabled data: 0.7921323200715243\n",
      "attack loss: 0.3276437819004059\n"
     ]
    },
    {
     "name": "stderr",
     "output_type": "stream",
     "text": [
      "Perturbing graph:  32%|███▏      | 81/253 [00:38<01:20,  2.13it/s]"
     ]
    },
    {
     "name": "stdout",
     "output_type": "stream",
     "text": [
      "GCN loss on unlabled data: 0.8895124793052673\n",
      "GCN acc on unlabled data: 0.7934734018775146\n",
      "attack loss: 0.3323908746242523\n"
     ]
    },
    {
     "name": "stderr",
     "output_type": "stream",
     "text": [
      "Perturbing graph:  32%|███▏      | 82/253 [00:38<01:20,  2.12it/s]"
     ]
    },
    {
     "name": "stdout",
     "output_type": "stream",
     "text": [
      "GCN loss on unlabled data: 0.8568922877311707\n",
      "GCN acc on unlabled data: 0.7890031291908807\n",
      "attack loss: 0.32440999150276184\n"
     ]
    },
    {
     "name": "stderr",
     "output_type": "stream",
     "text": [
      "Perturbing graph:  33%|███▎      | 83/253 [00:39<01:20,  2.12it/s]"
     ]
    },
    {
     "name": "stdout",
     "output_type": "stream",
     "text": [
      "GCN loss on unlabled data: 0.8602074384689331\n",
      "GCN acc on unlabled data: 0.7934734018775146\n",
      "attack loss: 0.3239765763282776\n"
     ]
    },
    {
     "name": "stderr",
     "output_type": "stream",
     "text": [
      "Perturbing graph:  33%|███▎      | 84/253 [00:39<01:19,  2.13it/s]"
     ]
    },
    {
     "name": "stdout",
     "output_type": "stream",
     "text": [
      "GCN loss on unlabled data: 0.868756890296936\n",
      "GCN acc on unlabled data: 0.7943674564148413\n",
      "attack loss: 0.329287588596344\n"
     ]
    },
    {
     "name": "stderr",
     "output_type": "stream",
     "text": [
      "Perturbing graph:  34%|███▎      | 85/253 [00:40<01:19,  2.13it/s]"
     ]
    },
    {
     "name": "stdout",
     "output_type": "stream",
     "text": [
      "GCN loss on unlabled data: 0.8661897778511047\n",
      "GCN acc on unlabled data: 0.7992847563701386\n",
      "attack loss: 0.32441338896751404\n"
     ]
    },
    {
     "name": "stderr",
     "output_type": "stream",
     "text": [
      "Perturbing graph:  34%|███▍      | 86/253 [00:40<01:18,  2.13it/s]"
     ]
    },
    {
     "name": "stdout",
     "output_type": "stream",
     "text": [
      "GCN loss on unlabled data: 0.8966060876846313\n",
      "GCN acc on unlabled data: 0.7948144836835047\n",
      "attack loss: 0.34330374002456665\n"
     ]
    },
    {
     "name": "stderr",
     "output_type": "stream",
     "text": [
      "Perturbing graph:  34%|███▍      | 87/253 [00:40<01:18,  2.13it/s]"
     ]
    },
    {
     "name": "stdout",
     "output_type": "stream",
     "text": [
      "GCN loss on unlabled data: 0.8817896246910095\n",
      "GCN acc on unlabled data: 0.7881090746535538\n",
      "attack loss: 0.340572714805603\n"
     ]
    },
    {
     "name": "stderr",
     "output_type": "stream",
     "text": [
      "Perturbing graph:  35%|███▍      | 88/253 [00:41<01:17,  2.12it/s]"
     ]
    },
    {
     "name": "stdout",
     "output_type": "stream",
     "text": [
      "GCN loss on unlabled data: 0.901118814945221\n",
      "GCN acc on unlabled data: 0.7943674564148413\n",
      "attack loss: 0.33598658442497253\n"
     ]
    },
    {
     "name": "stderr",
     "output_type": "stream",
     "text": [
      "Perturbing graph:  35%|███▌      | 89/253 [00:41<01:17,  2.12it/s]"
     ]
    },
    {
     "name": "stdout",
     "output_type": "stream",
     "text": [
      "GCN loss on unlabled data: 0.8897852897644043\n",
      "GCN acc on unlabled data: 0.7939204291461779\n",
      "attack loss: 0.338074654340744\n"
     ]
    },
    {
     "name": "stderr",
     "output_type": "stream",
     "text": [
      "Perturbing graph:  36%|███▌      | 90/253 [00:42<01:16,  2.12it/s]"
     ]
    },
    {
     "name": "stdout",
     "output_type": "stream",
     "text": [
      "GCN loss on unlabled data: 0.8970730900764465\n",
      "GCN acc on unlabled data: 0.791685292802861\n",
      "attack loss: 0.34395697712898254\n"
     ]
    },
    {
     "name": "stderr",
     "output_type": "stream",
     "text": [
      "Perturbing graph:  36%|███▌      | 91/253 [00:42<01:16,  2.12it/s]"
     ]
    },
    {
     "name": "stdout",
     "output_type": "stream",
     "text": [
      "GCN loss on unlabled data: 0.9119069576263428\n",
      "GCN acc on unlabled data: 0.791685292802861\n",
      "attack loss: 0.3501175045967102\n"
     ]
    },
    {
     "name": "stderr",
     "output_type": "stream",
     "text": [
      "Perturbing graph:  36%|███▋      | 92/253 [00:43<01:16,  2.12it/s]"
     ]
    },
    {
     "name": "stdout",
     "output_type": "stream",
     "text": [
      "GCN loss on unlabled data: 0.8972985148429871\n",
      "GCN acc on unlabled data: 0.7907912382655342\n",
      "attack loss: 0.3468318283557892\n"
     ]
    },
    {
     "name": "stderr",
     "output_type": "stream",
     "text": [
      "Perturbing graph:  37%|███▋      | 93/253 [00:43<01:15,  2.12it/s]"
     ]
    },
    {
     "name": "stdout",
     "output_type": "stream",
     "text": [
      "GCN loss on unlabled data: 0.8823817372322083\n",
      "GCN acc on unlabled data: 0.7898971837282075\n",
      "attack loss: 0.33512449264526367\n"
     ]
    },
    {
     "name": "stderr",
     "output_type": "stream",
     "text": [
      "Perturbing graph:  37%|███▋      | 94/253 [00:44<01:15,  2.12it/s]"
     ]
    },
    {
     "name": "stdout",
     "output_type": "stream",
     "text": [
      "GCN loss on unlabled data: 0.8934816718101501\n",
      "GCN acc on unlabled data: 0.7974966472954851\n",
      "attack loss: 0.34295520186424255\n"
     ]
    },
    {
     "name": "stderr",
     "output_type": "stream",
     "text": [
      "Perturbing graph:  38%|███▊      | 95/253 [00:44<01:14,  2.12it/s]"
     ]
    },
    {
     "name": "stdout",
     "output_type": "stream",
     "text": [
      "GCN loss on unlabled data: 0.8811882138252258\n",
      "GCN acc on unlabled data: 0.7890031291908807\n",
      "attack loss: 0.34648534655570984\n"
     ]
    },
    {
     "name": "stderr",
     "output_type": "stream",
     "text": [
      "Perturbing graph:  38%|███▊      | 96/253 [00:45<01:14,  2.11it/s]"
     ]
    },
    {
     "name": "stdout",
     "output_type": "stream",
     "text": [
      "GCN loss on unlabled data: 0.91960209608078\n",
      "GCN acc on unlabled data: 0.7907912382655342\n",
      "attack loss: 0.35201629996299744\n"
     ]
    },
    {
     "name": "stderr",
     "output_type": "stream",
     "text": [
      "Perturbing graph:  38%|███▊      | 97/253 [00:45<01:14,  2.10it/s]"
     ]
    },
    {
     "name": "stdout",
     "output_type": "stream",
     "text": [
      "GCN loss on unlabled data: 0.9310467839241028\n",
      "GCN acc on unlabled data: 0.7934734018775146\n",
      "attack loss: 0.35628223419189453\n"
     ]
    },
    {
     "name": "stderr",
     "output_type": "stream",
     "text": [
      "Perturbing graph:  39%|███▊      | 98/253 [00:46<01:13,  2.11it/s]"
     ]
    },
    {
     "name": "stdout",
     "output_type": "stream",
     "text": [
      "GCN loss on unlabled data: 0.9006066918373108\n",
      "GCN acc on unlabled data: 0.7934734018775146\n",
      "attack loss: 0.3491550385951996\n"
     ]
    },
    {
     "name": "stderr",
     "output_type": "stream",
     "text": [
      "Perturbing graph:  39%|███▉      | 99/253 [00:46<01:12,  2.11it/s]"
     ]
    },
    {
     "name": "stdout",
     "output_type": "stream",
     "text": [
      "GCN loss on unlabled data: 0.9232025742530823\n",
      "GCN acc on unlabled data: 0.7912382655341976\n",
      "attack loss: 0.3568863868713379\n"
     ]
    },
    {
     "name": "stderr",
     "output_type": "stream",
     "text": [
      "Perturbing graph:  40%|███▉      | 100/253 [00:47<01:12,  2.11it/s]"
     ]
    },
    {
     "name": "stdout",
     "output_type": "stream",
     "text": [
      "GCN loss on unlabled data: 0.9619970321655273\n",
      "GCN acc on unlabled data: 0.7925793473401878\n",
      "attack loss: 0.36887386441230774\n"
     ]
    },
    {
     "name": "stderr",
     "output_type": "stream",
     "text": [
      "Perturbing graph:  40%|███▉      | 101/253 [00:47<01:11,  2.12it/s]"
     ]
    },
    {
     "name": "stdout",
     "output_type": "stream",
     "text": [
      "GCN loss on unlabled data: 0.9498023986816406\n",
      "GCN acc on unlabled data: 0.7948144836835047\n",
      "attack loss: 0.36659663915634155\n"
     ]
    },
    {
     "name": "stderr",
     "output_type": "stream",
     "text": [
      "Perturbing graph:  40%|████      | 102/253 [00:48<01:11,  2.12it/s]"
     ]
    },
    {
     "name": "stdout",
     "output_type": "stream",
     "text": [
      "GCN loss on unlabled data: 0.94610595703125\n",
      "GCN acc on unlabled data: 0.7898971837282075\n",
      "attack loss: 0.368758887052536\n"
     ]
    },
    {
     "name": "stderr",
     "output_type": "stream",
     "text": [
      "Perturbing graph:  41%|████      | 103/253 [00:48<01:10,  2.12it/s]"
     ]
    },
    {
     "name": "stdout",
     "output_type": "stream",
     "text": [
      "GCN loss on unlabled data: 0.9210734963417053\n",
      "GCN acc on unlabled data: 0.7939204291461779\n",
      "attack loss: 0.36201968789100647\n"
     ]
    },
    {
     "name": "stderr",
     "output_type": "stream",
     "text": [
      "Perturbing graph:  41%|████      | 104/253 [00:49<01:10,  2.12it/s]"
     ]
    },
    {
     "name": "stdout",
     "output_type": "stream",
     "text": [
      "GCN loss on unlabled data: 0.9513242244720459\n",
      "GCN acc on unlabled data: 0.7881090746535538\n",
      "attack loss: 0.3674023449420929\n"
     ]
    },
    {
     "name": "stderr",
     "output_type": "stream",
     "text": [
      "Perturbing graph:  42%|████▏     | 105/253 [00:49<01:09,  2.12it/s]"
     ]
    },
    {
     "name": "stdout",
     "output_type": "stream",
     "text": [
      "GCN loss on unlabled data: 0.9412090182304382\n",
      "GCN acc on unlabled data: 0.7912382655341976\n",
      "attack loss: 0.36676451563835144\n"
     ]
    },
    {
     "name": "stderr",
     "output_type": "stream",
     "text": [
      "Perturbing graph:  42%|████▏     | 106/253 [00:49<01:09,  2.13it/s]"
     ]
    },
    {
     "name": "stdout",
     "output_type": "stream",
     "text": [
      "GCN loss on unlabled data: 0.9410837292671204\n",
      "GCN acc on unlabled data: 0.7881090746535538\n",
      "attack loss: 0.3664594888687134\n"
     ]
    },
    {
     "name": "stderr",
     "output_type": "stream",
     "text": [
      "Perturbing graph:  42%|████▏     | 107/253 [00:50<01:08,  2.13it/s]"
     ]
    },
    {
     "name": "stdout",
     "output_type": "stream",
     "text": [
      "GCN loss on unlabled data: 0.9503312706947327\n",
      "GCN acc on unlabled data: 0.7876620473848905\n",
      "attack loss: 0.368214875459671\n"
     ]
    },
    {
     "name": "stderr",
     "output_type": "stream",
     "text": [
      "Perturbing graph:  43%|████▎     | 108/253 [00:50<01:08,  2.13it/s]"
     ]
    },
    {
     "name": "stdout",
     "output_type": "stream",
     "text": [
      "GCN loss on unlabled data: 0.9697790741920471\n",
      "GCN acc on unlabled data: 0.7890031291908807\n",
      "attack loss: 0.3814273476600647\n"
     ]
    },
    {
     "name": "stderr",
     "output_type": "stream",
     "text": [
      "Perturbing graph:  43%|████▎     | 109/253 [00:51<01:07,  2.13it/s]"
     ]
    },
    {
     "name": "stdout",
     "output_type": "stream",
     "text": [
      "GCN loss on unlabled data: 0.9436993598937988\n",
      "GCN acc on unlabled data: 0.7894501564595441\n",
      "attack loss: 0.371107280254364\n"
     ]
    },
    {
     "name": "stderr",
     "output_type": "stream",
     "text": [
      "Perturbing graph:  43%|████▎     | 110/253 [00:51<01:07,  2.13it/s]"
     ]
    },
    {
     "name": "stdout",
     "output_type": "stream",
     "text": [
      "GCN loss on unlabled data: 0.9749500155448914\n",
      "GCN acc on unlabled data: 0.791685292802861\n",
      "attack loss: 0.3824787437915802\n"
     ]
    },
    {
     "name": "stderr",
     "output_type": "stream",
     "text": [
      "Perturbing graph:  44%|████▍     | 111/253 [00:52<01:06,  2.12it/s]"
     ]
    },
    {
     "name": "stdout",
     "output_type": "stream",
     "text": [
      "GCN loss on unlabled data: 0.9876886606216431\n",
      "GCN acc on unlabled data: 0.7854269110415736\n",
      "attack loss: 0.38407304883003235\n"
     ]
    },
    {
     "name": "stderr",
     "output_type": "stream",
     "text": [
      "Perturbing graph:  44%|████▍     | 112/253 [00:52<01:06,  2.13it/s]"
     ]
    },
    {
     "name": "stdout",
     "output_type": "stream",
     "text": [
      "GCN loss on unlabled data: 0.978257417678833\n",
      "GCN acc on unlabled data: 0.791685292802861\n",
      "attack loss: 0.3877933621406555\n"
     ]
    },
    {
     "name": "stderr",
     "output_type": "stream",
     "text": [
      "Perturbing graph:  45%|████▍     | 113/253 [00:53<01:05,  2.12it/s]"
     ]
    },
    {
     "name": "stdout",
     "output_type": "stream",
     "text": [
      "GCN loss on unlabled data: 0.9889095425605774\n",
      "GCN acc on unlabled data: 0.785873938310237\n",
      "attack loss: 0.39162132143974304\n"
     ]
    },
    {
     "name": "stderr",
     "output_type": "stream",
     "text": [
      "Perturbing graph:  45%|████▌     | 114/253 [00:53<01:05,  2.13it/s]"
     ]
    },
    {
     "name": "stdout",
     "output_type": "stream",
     "text": [
      "GCN loss on unlabled data: 0.9421340823173523\n",
      "GCN acc on unlabled data: 0.7849798837729102\n",
      "attack loss: 0.37704992294311523\n"
     ]
    },
    {
     "name": "stderr",
     "output_type": "stream",
     "text": [
      "Perturbing graph:  45%|████▌     | 115/253 [00:54<01:04,  2.12it/s]"
     ]
    },
    {
     "name": "stdout",
     "output_type": "stream",
     "text": [
      "GCN loss on unlabled data: 0.9791764616966248\n",
      "GCN acc on unlabled data: 0.7907912382655342\n",
      "attack loss: 0.38702473044395447\n"
     ]
    },
    {
     "name": "stderr",
     "output_type": "stream",
     "text": [
      "Perturbing graph:  46%|████▌     | 116/253 [00:54<01:04,  2.13it/s]"
     ]
    },
    {
     "name": "stdout",
     "output_type": "stream",
     "text": [
      "GCN loss on unlabled data: 1.0105154514312744\n",
      "GCN acc on unlabled data: 0.7867679928475637\n",
      "attack loss: 0.4018216133117676\n"
     ]
    },
    {
     "name": "stderr",
     "output_type": "stream",
     "text": [
      "Perturbing graph:  46%|████▌     | 117/253 [00:55<01:04,  2.12it/s]"
     ]
    },
    {
     "name": "stdout",
     "output_type": "stream",
     "text": [
      "GCN loss on unlabled data: 0.9944233894348145\n",
      "GCN acc on unlabled data: 0.7831917746982566\n",
      "attack loss: 0.39809590578079224\n"
     ]
    },
    {
     "name": "stderr",
     "output_type": "stream",
     "text": [
      "Perturbing graph:  47%|████▋     | 118/253 [00:55<01:03,  2.13it/s]"
     ]
    },
    {
     "name": "stdout",
     "output_type": "stream",
     "text": [
      "GCN loss on unlabled data: 1.011879563331604\n",
      "GCN acc on unlabled data: 0.785873938310237\n",
      "attack loss: 0.39999476075172424\n"
     ]
    },
    {
     "name": "stderr",
     "output_type": "stream",
     "text": [
      "Perturbing graph:  47%|████▋     | 119/253 [00:56<01:03,  2.12it/s]"
     ]
    },
    {
     "name": "stdout",
     "output_type": "stream",
     "text": [
      "GCN loss on unlabled data: 0.9782668948173523\n",
      "GCN acc on unlabled data: 0.785873938310237\n",
      "attack loss: 0.3933810293674469\n"
     ]
    },
    {
     "name": "stderr",
     "output_type": "stream",
     "text": [
      "Perturbing graph:  47%|████▋     | 120/253 [00:56<01:02,  2.13it/s]"
     ]
    },
    {
     "name": "stdout",
     "output_type": "stream",
     "text": [
      "GCN loss on unlabled data: 0.9894293546676636\n",
      "GCN acc on unlabled data: 0.7867679928475637\n",
      "attack loss: 0.39309996366500854\n"
     ]
    },
    {
     "name": "stderr",
     "output_type": "stream",
     "text": [
      "Perturbing graph:  48%|████▊     | 121/253 [00:57<01:02,  2.12it/s]"
     ]
    },
    {
     "name": "stdout",
     "output_type": "stream",
     "text": [
      "GCN loss on unlabled data: 1.032869815826416\n",
      "GCN acc on unlabled data: 0.7885561019222173\n",
      "attack loss: 0.41283130645751953\n"
     ]
    },
    {
     "name": "stderr",
     "output_type": "stream",
     "text": [
      "Perturbing graph:  48%|████▊     | 122/253 [00:57<01:01,  2.12it/s]"
     ]
    },
    {
     "name": "stdout",
     "output_type": "stream",
     "text": [
      "GCN loss on unlabled data: 1.0109543800354004\n",
      "GCN acc on unlabled data: 0.7827447474295932\n",
      "attack loss: 0.4052623510360718\n"
     ]
    },
    {
     "name": "stderr",
     "output_type": "stream",
     "text": [
      "Perturbing graph:  49%|████▊     | 123/253 [00:57<01:01,  2.12it/s]"
     ]
    },
    {
     "name": "stdout",
     "output_type": "stream",
     "text": [
      "GCN loss on unlabled data: 1.0217937231063843\n",
      "GCN acc on unlabled data: 0.7849798837729102\n",
      "attack loss: 0.4082241654396057\n"
     ]
    },
    {
     "name": "stderr",
     "output_type": "stream",
     "text": [
      "Perturbing graph:  49%|████▉     | 124/253 [00:58<01:00,  2.12it/s]"
     ]
    },
    {
     "name": "stdout",
     "output_type": "stream",
     "text": [
      "GCN loss on unlabled data: 1.020554780960083\n",
      "GCN acc on unlabled data: 0.7854269110415736\n",
      "attack loss: 0.4061477482318878\n"
     ]
    },
    {
     "name": "stderr",
     "output_type": "stream",
     "text": [
      "Perturbing graph:  49%|████▉     | 125/253 [00:58<01:00,  2.12it/s]"
     ]
    },
    {
     "name": "stdout",
     "output_type": "stream",
     "text": [
      "GCN loss on unlabled data: 0.9857346415519714\n",
      "GCN acc on unlabled data: 0.7827447474295932\n",
      "attack loss: 0.3994702696800232\n"
     ]
    },
    {
     "name": "stderr",
     "output_type": "stream",
     "text": [
      "Perturbing graph:  50%|████▉     | 126/253 [00:59<00:59,  2.12it/s]"
     ]
    },
    {
     "name": "stdout",
     "output_type": "stream",
     "text": [
      "GCN loss on unlabled data: 1.006514310836792\n",
      "GCN acc on unlabled data: 0.7854269110415736\n",
      "attack loss: 0.39971113204956055\n"
     ]
    },
    {
     "name": "stderr",
     "output_type": "stream",
     "text": [
      "Perturbing graph:  50%|█████     | 127/253 [00:59<00:59,  2.12it/s]"
     ]
    },
    {
     "name": "stdout",
     "output_type": "stream",
     "text": [
      "GCN loss on unlabled data: 0.9941672682762146\n",
      "GCN acc on unlabled data: 0.785873938310237\n",
      "attack loss: 0.397256463766098\n"
     ]
    },
    {
     "name": "stderr",
     "output_type": "stream",
     "text": [
      "Perturbing graph:  51%|█████     | 128/253 [01:00<00:58,  2.12it/s]"
     ]
    },
    {
     "name": "stdout",
     "output_type": "stream",
     "text": [
      "GCN loss on unlabled data: 0.9985342025756836\n",
      "GCN acc on unlabled data: 0.7863209655789003\n",
      "attack loss: 0.39980292320251465\n"
     ]
    },
    {
     "name": "stderr",
     "output_type": "stream",
     "text": [
      "Perturbing graph:  51%|█████     | 129/253 [01:00<00:58,  2.13it/s]"
     ]
    },
    {
     "name": "stdout",
     "output_type": "stream",
     "text": [
      "GCN loss on unlabled data: 1.0484813451766968\n",
      "GCN acc on unlabled data: 0.7863209655789003\n",
      "attack loss: 0.4177822172641754\n"
     ]
    },
    {
     "name": "stderr",
     "output_type": "stream",
     "text": [
      "Perturbing graph:  51%|█████▏    | 130/253 [01:01<00:57,  2.12it/s]"
     ]
    },
    {
     "name": "stdout",
     "output_type": "stream",
     "text": [
      "GCN loss on unlabled data: 1.0283191204071045\n",
      "GCN acc on unlabled data: 0.7840858292355833\n",
      "attack loss: 0.4158457815647125\n"
     ]
    },
    {
     "name": "stderr",
     "output_type": "stream",
     "text": [
      "Perturbing graph:  52%|█████▏    | 131/253 [01:01<00:57,  2.12it/s]"
     ]
    },
    {
     "name": "stdout",
     "output_type": "stream",
     "text": [
      "GCN loss on unlabled data: 1.0175116062164307\n",
      "GCN acc on unlabled data: 0.7854269110415736\n",
      "attack loss: 0.41034871339797974\n"
     ]
    },
    {
     "name": "stderr",
     "output_type": "stream",
     "text": [
      "Perturbing graph:  52%|█████▏    | 132/253 [01:02<00:56,  2.13it/s]"
     ]
    },
    {
     "name": "stdout",
     "output_type": "stream",
     "text": [
      "GCN loss on unlabled data: 1.0485422611236572\n",
      "GCN acc on unlabled data: 0.7863209655789003\n",
      "attack loss: 0.41795462369918823\n"
     ]
    },
    {
     "name": "stderr",
     "output_type": "stream",
     "text": [
      "Perturbing graph:  53%|█████▎    | 133/253 [01:02<00:56,  2.13it/s]"
     ]
    },
    {
     "name": "stdout",
     "output_type": "stream",
     "text": [
      "GCN loss on unlabled data: 1.0211230516433716\n",
      "GCN acc on unlabled data: 0.7872150201162271\n",
      "attack loss: 0.4156070947647095\n"
     ]
    },
    {
     "name": "stderr",
     "output_type": "stream",
     "text": [
      "Perturbing graph:  53%|█████▎    | 134/253 [01:03<00:55,  2.13it/s]"
     ]
    },
    {
     "name": "stdout",
     "output_type": "stream",
     "text": [
      "GCN loss on unlabled data: 1.0636080503463745\n",
      "GCN acc on unlabled data: 0.777827447474296\n",
      "attack loss: 0.42452114820480347\n"
     ]
    },
    {
     "name": "stderr",
     "output_type": "stream",
     "text": [
      "Perturbing graph:  53%|█████▎    | 135/253 [01:03<00:55,  2.12it/s]"
     ]
    },
    {
     "name": "stdout",
     "output_type": "stream",
     "text": [
      "GCN loss on unlabled data: 1.0294398069381714\n",
      "GCN acc on unlabled data: 0.777827447474296\n",
      "attack loss: 0.41476333141326904\n"
     ]
    },
    {
     "name": "stderr",
     "output_type": "stream",
     "text": [
      "Perturbing graph:  54%|█████▍    | 136/253 [01:04<00:55,  2.12it/s]"
     ]
    },
    {
     "name": "stdout",
     "output_type": "stream",
     "text": [
      "GCN loss on unlabled data: 1.038865566253662\n",
      "GCN acc on unlabled data: 0.7782744747429593\n",
      "attack loss: 0.4173324704170227\n"
     ]
    },
    {
     "name": "stderr",
     "output_type": "stream",
     "text": [
      "Perturbing graph:  54%|█████▍    | 137/253 [01:04<00:54,  2.12it/s]"
     ]
    },
    {
     "name": "stdout",
     "output_type": "stream",
     "text": [
      "GCN loss on unlabled data: 1.0442287921905518\n",
      "GCN acc on unlabled data: 0.7845328565042468\n",
      "attack loss: 0.41906026005744934\n"
     ]
    },
    {
     "name": "stderr",
     "output_type": "stream",
     "text": [
      "Perturbing graph:  55%|█████▍    | 138/253 [01:05<00:54,  2.12it/s]"
     ]
    },
    {
     "name": "stdout",
     "output_type": "stream",
     "text": [
      "GCN loss on unlabled data: 1.042007565498352\n",
      "GCN acc on unlabled data: 0.7787215020116227\n",
      "attack loss: 0.4182400703430176\n"
     ]
    },
    {
     "name": "stderr",
     "output_type": "stream",
     "text": [
      "Perturbing graph:  55%|█████▍    | 139/253 [01:05<00:53,  2.13it/s]"
     ]
    },
    {
     "name": "stdout",
     "output_type": "stream",
     "text": [
      "GCN loss on unlabled data: 1.0634067058563232\n",
      "GCN acc on unlabled data: 0.7729101475189987\n",
      "attack loss: 0.4339880347251892\n"
     ]
    },
    {
     "name": "stderr",
     "output_type": "stream",
     "text": [
      "Perturbing graph:  55%|█████▌    | 140/253 [01:05<00:53,  2.12it/s]"
     ]
    },
    {
     "name": "stdout",
     "output_type": "stream",
     "text": [
      "GCN loss on unlabled data: 1.0823510885238647\n",
      "GCN acc on unlabled data: 0.7769333929369692\n",
      "attack loss: 0.441586971282959\n"
     ]
    },
    {
     "name": "stderr",
     "output_type": "stream",
     "text": [
      "Perturbing graph:  56%|█████▌    | 141/253 [01:06<00:52,  2.13it/s]"
     ]
    },
    {
     "name": "stdout",
     "output_type": "stream",
     "text": [
      "GCN loss on unlabled data: 1.0400458574295044\n",
      "GCN acc on unlabled data: 0.7711220384443451\n",
      "attack loss: 0.4294589161872864\n"
     ]
    },
    {
     "name": "stderr",
     "output_type": "stream",
     "text": [
      "Perturbing graph:  56%|█████▌    | 142/253 [01:06<00:52,  2.12it/s]"
     ]
    },
    {
     "name": "stdout",
     "output_type": "stream",
     "text": [
      "GCN loss on unlabled data: 1.1047614812850952\n",
      "GCN acc on unlabled data: 0.7729101475189987\n",
      "attack loss: 0.44288402795791626\n"
     ]
    },
    {
     "name": "stderr",
     "output_type": "stream",
     "text": [
      "Perturbing graph:  57%|█████▋    | 143/253 [01:07<00:51,  2.12it/s]"
     ]
    },
    {
     "name": "stdout",
     "output_type": "stream",
     "text": [
      "GCN loss on unlabled data: 1.0431922674179077\n",
      "GCN acc on unlabled data: 0.7769333929369692\n",
      "attack loss: 0.42619460821151733\n"
     ]
    },
    {
     "name": "stderr",
     "output_type": "stream",
     "text": [
      "Perturbing graph:  57%|█████▋    | 144/253 [01:07<00:51,  2.12it/s]"
     ]
    },
    {
     "name": "stdout",
     "output_type": "stream",
     "text": [
      "GCN loss on unlabled data: 1.0473747253417969\n",
      "GCN acc on unlabled data: 0.772016092981672\n",
      "attack loss: 0.42951279878616333\n"
     ]
    },
    {
     "name": "stderr",
     "output_type": "stream",
     "text": [
      "Perturbing graph:  57%|█████▋    | 145/253 [01:08<00:50,  2.12it/s]"
     ]
    },
    {
     "name": "stdout",
     "output_type": "stream",
     "text": [
      "GCN loss on unlabled data: 1.057102084159851\n",
      "GCN acc on unlabled data: 0.7693339293696916\n",
      "attack loss: 0.4308406710624695\n"
     ]
    },
    {
     "name": "stderr",
     "output_type": "stream",
     "text": [
      "Perturbing graph:  58%|█████▊    | 146/253 [01:08<00:50,  2.12it/s]"
     ]
    },
    {
     "name": "stdout",
     "output_type": "stream",
     "text": [
      "GCN loss on unlabled data: 1.0480806827545166\n",
      "GCN acc on unlabled data: 0.7729101475189987\n",
      "attack loss: 0.4256889820098877\n"
     ]
    },
    {
     "name": "stderr",
     "output_type": "stream",
     "text": [
      "Perturbing graph:  58%|█████▊    | 147/253 [01:09<00:49,  2.12it/s]"
     ]
    },
    {
     "name": "stdout",
     "output_type": "stream",
     "text": [
      "GCN loss on unlabled data: 1.056557297706604\n",
      "GCN acc on unlabled data: 0.7653106839517211\n",
      "attack loss: 0.42930036783218384\n"
     ]
    },
    {
     "name": "stderr",
     "output_type": "stream",
     "text": [
      "Perturbing graph:  58%|█████▊    | 148/253 [01:09<00:49,  2.12it/s]"
     ]
    },
    {
     "name": "stdout",
     "output_type": "stream",
     "text": [
      "GCN loss on unlabled data: 1.0540452003479004\n",
      "GCN acc on unlabled data: 0.7644166294143943\n",
      "attack loss: 0.43734315037727356\n"
     ]
    },
    {
     "name": "stderr",
     "output_type": "stream",
     "text": [
      "Perturbing graph:  59%|█████▉    | 149/253 [01:10<00:49,  2.12it/s]"
     ]
    },
    {
     "name": "stdout",
     "output_type": "stream",
     "text": [
      "GCN loss on unlabled data: 1.0384694337844849\n",
      "GCN acc on unlabled data: 0.7711220384443451\n",
      "attack loss: 0.4263286590576172\n"
     ]
    },
    {
     "name": "stderr",
     "output_type": "stream",
     "text": [
      "Perturbing graph:  59%|█████▉    | 150/253 [01:10<00:48,  2.12it/s]"
     ]
    },
    {
     "name": "stdout",
     "output_type": "stream",
     "text": [
      "GCN loss on unlabled data: 1.0625799894332886\n",
      "GCN acc on unlabled data: 0.7666517657577112\n",
      "attack loss: 0.4397396743297577\n"
     ]
    },
    {
     "name": "stderr",
     "output_type": "stream",
     "text": [
      "Perturbing graph:  60%|█████▉    | 151/253 [01:11<00:48,  2.12it/s]"
     ]
    },
    {
     "name": "stdout",
     "output_type": "stream",
     "text": [
      "GCN loss on unlabled data: 1.0725669860839844\n",
      "GCN acc on unlabled data: 0.769780956638355\n",
      "attack loss: 0.4373432695865631\n"
     ]
    },
    {
     "name": "stderr",
     "output_type": "stream",
     "text": [
      "Perturbing graph:  60%|██████    | 152/253 [01:11<00:47,  2.12it/s]"
     ]
    },
    {
     "name": "stdout",
     "output_type": "stream",
     "text": [
      "GCN loss on unlabled data: 1.0546603202819824\n",
      "GCN acc on unlabled data: 0.7670987930263746\n",
      "attack loss: 0.44126051664352417\n"
     ]
    },
    {
     "name": "stderr",
     "output_type": "stream",
     "text": [
      "Perturbing graph:  60%|██████    | 153/253 [01:12<00:47,  2.12it/s]"
     ]
    },
    {
     "name": "stdout",
     "output_type": "stream",
     "text": [
      "GCN loss on unlabled data: 1.080855131149292\n",
      "GCN acc on unlabled data: 0.7666517657577112\n",
      "attack loss: 0.4433767795562744\n"
     ]
    },
    {
     "name": "stderr",
     "output_type": "stream",
     "text": [
      "Perturbing graph:  61%|██████    | 154/253 [01:12<00:46,  2.12it/s]"
     ]
    },
    {
     "name": "stdout",
     "output_type": "stream",
     "text": [
      "GCN loss on unlabled data: 1.1079668998718262\n",
      "GCN acc on unlabled data: 0.7657577112203845\n",
      "attack loss: 0.4555531144142151\n"
     ]
    },
    {
     "name": "stderr",
     "output_type": "stream",
     "text": [
      "Perturbing graph:  61%|██████▏   | 155/253 [01:13<00:46,  2.12it/s]"
     ]
    },
    {
     "name": "stdout",
     "output_type": "stream",
     "text": [
      "GCN loss on unlabled data: 1.0674222707748413\n",
      "GCN acc on unlabled data: 0.7679928475637015\n",
      "attack loss: 0.4439108371734619\n"
     ]
    },
    {
     "name": "stderr",
     "output_type": "stream",
     "text": [
      "Perturbing graph:  62%|██████▏   | 156/253 [01:13<00:45,  2.12it/s]"
     ]
    },
    {
     "name": "stdout",
     "output_type": "stream",
     "text": [
      "GCN loss on unlabled data: 1.0645729303359985\n",
      "GCN acc on unlabled data: 0.769780956638355\n",
      "attack loss: 0.43982458114624023\n"
     ]
    },
    {
     "name": "stderr",
     "output_type": "stream",
     "text": [
      "Perturbing graph:  62%|██████▏   | 157/253 [01:13<00:45,  2.11it/s]"
     ]
    },
    {
     "name": "stdout",
     "output_type": "stream",
     "text": [
      "GCN loss on unlabled data: 1.0785633325576782\n",
      "GCN acc on unlabled data: 0.759499329459097\n",
      "attack loss: 0.4467947483062744\n"
     ]
    },
    {
     "name": "stderr",
     "output_type": "stream",
     "text": [
      "Perturbing graph:  62%|██████▏   | 158/253 [01:14<00:44,  2.11it/s]"
     ]
    },
    {
     "name": "stdout",
     "output_type": "stream",
     "text": [
      "GCN loss on unlabled data: 1.0780733823776245\n",
      "GCN acc on unlabled data: 0.7648636566830577\n",
      "attack loss: 0.4449794888496399\n"
     ]
    },
    {
     "name": "stderr",
     "output_type": "stream",
     "text": [
      "Perturbing graph:  63%|██████▎   | 159/253 [01:14<00:44,  2.12it/s]"
     ]
    },
    {
     "name": "stdout",
     "output_type": "stream",
     "text": [
      "GCN loss on unlabled data: 1.0809630155563354\n",
      "GCN acc on unlabled data: 0.7644166294143943\n",
      "attack loss: 0.443268358707428\n"
     ]
    },
    {
     "name": "stderr",
     "output_type": "stream",
     "text": [
      "Perturbing graph:  63%|██████▎   | 160/253 [01:15<00:44,  2.11it/s]"
     ]
    },
    {
     "name": "stdout",
     "output_type": "stream",
     "text": [
      "GCN loss on unlabled data: 1.0767745971679688\n",
      "GCN acc on unlabled data: 0.7653106839517211\n",
      "attack loss: 0.44778135418891907\n"
     ]
    },
    {
     "name": "stderr",
     "output_type": "stream",
     "text": [
      "Perturbing graph:  64%|██████▎   | 161/253 [01:15<00:43,  2.11it/s]"
     ]
    },
    {
     "name": "stdout",
     "output_type": "stream",
     "text": [
      "GCN loss on unlabled data: 1.0909749269485474\n",
      "GCN acc on unlabled data: 0.7630755476084041\n",
      "attack loss: 0.4518722891807556\n"
     ]
    },
    {
     "name": "stderr",
     "output_type": "stream",
     "text": [
      "Perturbing graph:  64%|██████▍   | 162/253 [01:16<00:42,  2.12it/s]"
     ]
    },
    {
     "name": "stdout",
     "output_type": "stream",
     "text": [
      "GCN loss on unlabled data: 1.0895017385482788\n",
      "GCN acc on unlabled data: 0.7621814930710774\n",
      "attack loss: 0.4504663944244385\n"
     ]
    },
    {
     "name": "stderr",
     "output_type": "stream",
     "text": [
      "Perturbing graph:  64%|██████▍   | 163/253 [01:16<00:42,  2.12it/s]"
     ]
    },
    {
     "name": "stdout",
     "output_type": "stream",
     "text": [
      "GCN loss on unlabled data: 1.0733628273010254\n",
      "GCN acc on unlabled data: 0.7630755476084041\n",
      "attack loss: 0.45107758045196533\n"
     ]
    },
    {
     "name": "stderr",
     "output_type": "stream",
     "text": [
      "Perturbing graph:  65%|██████▍   | 164/253 [01:17<00:41,  2.12it/s]"
     ]
    },
    {
     "name": "stdout",
     "output_type": "stream",
     "text": [
      "GCN loss on unlabled data: 1.0840405225753784\n",
      "GCN acc on unlabled data: 0.7626285203397407\n",
      "attack loss: 0.4536786675453186\n"
     ]
    },
    {
     "name": "stderr",
     "output_type": "stream",
     "text": [
      "Perturbing graph:  65%|██████▌   | 165/253 [01:17<00:41,  2.12it/s]"
     ]
    },
    {
     "name": "stdout",
     "output_type": "stream",
     "text": [
      "GCN loss on unlabled data: 1.1182526350021362\n",
      "GCN acc on unlabled data: 0.7626285203397407\n",
      "attack loss: 0.46933409571647644\n"
     ]
    },
    {
     "name": "stderr",
     "output_type": "stream",
     "text": [
      "Perturbing graph:  66%|██████▌   | 166/253 [01:18<00:41,  2.12it/s]"
     ]
    },
    {
     "name": "stdout",
     "output_type": "stream",
     "text": [
      "GCN loss on unlabled data: 1.1174876689910889\n",
      "GCN acc on unlabled data: 0.7608404112650872\n",
      "attack loss: 0.46760255098342896\n"
     ]
    },
    {
     "name": "stderr",
     "output_type": "stream",
     "text": [
      "Perturbing graph:  66%|██████▌   | 167/253 [01:18<00:40,  2.11it/s]"
     ]
    },
    {
     "name": "stdout",
     "output_type": "stream",
     "text": [
      "GCN loss on unlabled data: 1.0968822240829468\n",
      "GCN acc on unlabled data: 0.7626285203397407\n",
      "attack loss: 0.4647502899169922\n"
     ]
    },
    {
     "name": "stderr",
     "output_type": "stream",
     "text": [
      "Perturbing graph:  66%|██████▋   | 168/253 [01:19<00:40,  2.12it/s]"
     ]
    },
    {
     "name": "stdout",
     "output_type": "stream",
     "text": [
      "GCN loss on unlabled data: 1.1111618280410767\n",
      "GCN acc on unlabled data: 0.7657577112203845\n",
      "attack loss: 0.4718298614025116\n"
     ]
    },
    {
     "name": "stderr",
     "output_type": "stream",
     "text": [
      "Perturbing graph:  67%|██████▋   | 169/253 [01:19<00:39,  2.11it/s]"
     ]
    },
    {
     "name": "stdout",
     "output_type": "stream",
     "text": [
      "GCN loss on unlabled data: 1.0918244123458862\n",
      "GCN acc on unlabled data: 0.763969602145731\n",
      "attack loss: 0.4654790759086609\n"
     ]
    },
    {
     "name": "stderr",
     "output_type": "stream",
     "text": [
      "Perturbing graph:  67%|██████▋   | 170/253 [01:20<00:39,  2.11it/s]"
     ]
    },
    {
     "name": "stdout",
     "output_type": "stream",
     "text": [
      "GCN loss on unlabled data: 1.104999303817749\n",
      "GCN acc on unlabled data: 0.7688869021010282\n",
      "attack loss: 0.4639292359352112\n"
     ]
    },
    {
     "name": "stderr",
     "output_type": "stream",
     "text": [
      "Perturbing graph:  68%|██████▊   | 171/253 [01:20<00:38,  2.12it/s]"
     ]
    },
    {
     "name": "stdout",
     "output_type": "stream",
     "text": [
      "GCN loss on unlabled data: 1.125270128250122\n",
      "GCN acc on unlabled data: 0.7662047384890479\n",
      "attack loss: 0.47823095321655273\n"
     ]
    },
    {
     "name": "stderr",
     "output_type": "stream",
     "text": [
      "Perturbing graph:  68%|██████▊   | 172/253 [01:21<00:38,  2.12it/s]"
     ]
    },
    {
     "name": "stdout",
     "output_type": "stream",
     "text": [
      "GCN loss on unlabled data: 1.0994524955749512\n",
      "GCN acc on unlabled data: 0.7626285203397407\n",
      "attack loss: 0.46252894401550293\n"
     ]
    },
    {
     "name": "stderr",
     "output_type": "stream",
     "text": [
      "Perturbing graph:  68%|██████▊   | 173/253 [01:21<00:37,  2.12it/s]"
     ]
    },
    {
     "name": "stdout",
     "output_type": "stream",
     "text": [
      "GCN loss on unlabled data: 1.1151314973831177\n",
      "GCN acc on unlabled data: 0.7586052749217702\n",
      "attack loss: 0.46730342507362366\n"
     ]
    },
    {
     "name": "stderr",
     "output_type": "stream",
     "text": [
      "Perturbing graph:  69%|██████▉   | 174/253 [01:22<00:37,  2.12it/s]"
     ]
    },
    {
     "name": "stdout",
     "output_type": "stream",
     "text": [
      "GCN loss on unlabled data: 1.1284897327423096\n",
      "GCN acc on unlabled data: 0.7563701385784533\n",
      "attack loss: 0.4822710454463959\n"
     ]
    },
    {
     "name": "stderr",
     "output_type": "stream",
     "text": [
      "Perturbing graph:  69%|██████▉   | 175/253 [01:22<00:36,  2.12it/s]"
     ]
    },
    {
     "name": "stdout",
     "output_type": "stream",
     "text": [
      "GCN loss on unlabled data: 1.1134088039398193\n",
      "GCN acc on unlabled data: 0.7541350022351364\n",
      "attack loss: 0.4716292917728424\n"
     ]
    },
    {
     "name": "stderr",
     "output_type": "stream",
     "text": [
      "Perturbing graph:  70%|██████▉   | 176/253 [01:22<00:36,  2.12it/s]"
     ]
    },
    {
     "name": "stdout",
     "output_type": "stream",
     "text": [
      "GCN loss on unlabled data: 1.0987670421600342\n",
      "GCN acc on unlabled data: 0.763969602145731\n",
      "attack loss: 0.47380250692367554\n"
     ]
    },
    {
     "name": "stderr",
     "output_type": "stream",
     "text": [
      "Perturbing graph:  70%|██████▉   | 177/253 [01:23<00:35,  2.12it/s]"
     ]
    },
    {
     "name": "stdout",
     "output_type": "stream",
     "text": [
      "GCN loss on unlabled data: 1.1634999513626099\n",
      "GCN acc on unlabled data: 0.7630755476084041\n",
      "attack loss: 0.4954063594341278\n"
     ]
    },
    {
     "name": "stderr",
     "output_type": "stream",
     "text": [
      "Perturbing graph:  70%|███████   | 178/253 [01:23<00:35,  2.12it/s]"
     ]
    },
    {
     "name": "stdout",
     "output_type": "stream",
     "text": [
      "GCN loss on unlabled data: 1.1613295078277588\n",
      "GCN acc on unlabled data: 0.7586052749217702\n",
      "attack loss: 0.49105995893478394\n"
     ]
    },
    {
     "name": "stderr",
     "output_type": "stream",
     "text": [
      "Perturbing graph:  71%|███████   | 179/253 [01:24<00:34,  2.12it/s]"
     ]
    },
    {
     "name": "stdout",
     "output_type": "stream",
     "text": [
      "GCN loss on unlabled data: 1.124524474143982\n",
      "GCN acc on unlabled data: 0.761734465802414\n",
      "attack loss: 0.4822458326816559\n"
     ]
    },
    {
     "name": "stderr",
     "output_type": "stream",
     "text": [
      "Perturbing graph:  71%|███████   | 180/253 [01:24<00:34,  2.12it/s]"
     ]
    },
    {
     "name": "stdout",
     "output_type": "stream",
     "text": [
      "GCN loss on unlabled data: 1.1512272357940674\n",
      "GCN acc on unlabled data: 0.761734465802414\n",
      "attack loss: 0.489713579416275\n"
     ]
    },
    {
     "name": "stderr",
     "output_type": "stream",
     "text": [
      "Perturbing graph:  72%|███████▏  | 181/253 [01:25<00:33,  2.12it/s]"
     ]
    },
    {
     "name": "stdout",
     "output_type": "stream",
     "text": [
      "GCN loss on unlabled data: 1.116964340209961\n",
      "GCN acc on unlabled data: 0.7603933839964238\n",
      "attack loss: 0.4838578701019287\n"
     ]
    },
    {
     "name": "stderr",
     "output_type": "stream",
     "text": [
      "Perturbing graph:  72%|███████▏  | 182/253 [01:25<00:33,  2.11it/s]"
     ]
    },
    {
     "name": "stdout",
     "output_type": "stream",
     "text": [
      "GCN loss on unlabled data: 1.1369227170944214\n",
      "GCN acc on unlabled data: 0.7550290567724631\n",
      "attack loss: 0.48980194330215454\n"
     ]
    },
    {
     "name": "stderr",
     "output_type": "stream",
     "text": [
      "Perturbing graph:  72%|███████▏  | 183/253 [01:26<00:33,  2.12it/s]"
     ]
    },
    {
     "name": "stdout",
     "output_type": "stream",
     "text": [
      "GCN loss on unlabled data: 1.1467530727386475\n",
      "GCN acc on unlabled data: 0.7577112203844435\n",
      "attack loss: 0.49296364188194275\n"
     ]
    },
    {
     "name": "stderr",
     "output_type": "stream",
     "text": [
      "Perturbing graph:  73%|███████▎  | 184/253 [01:26<00:32,  2.11it/s]"
     ]
    },
    {
     "name": "stdout",
     "output_type": "stream",
     "text": [
      "GCN loss on unlabled data: 1.156479835510254\n",
      "GCN acc on unlabled data: 0.7577112203844435\n",
      "attack loss: 0.49992847442626953\n"
     ]
    },
    {
     "name": "stderr",
     "output_type": "stream",
     "text": [
      "Perturbing graph:  73%|███████▎  | 185/253 [01:27<00:32,  2.11it/s]"
     ]
    },
    {
     "name": "stdout",
     "output_type": "stream",
     "text": [
      "GCN loss on unlabled data: 1.1621726751327515\n",
      "GCN acc on unlabled data: 0.7568171658471167\n",
      "attack loss: 0.4961908161640167\n"
     ]
    },
    {
     "name": "stderr",
     "output_type": "stream",
     "text": [
      "Perturbing graph:  74%|███████▎  | 186/253 [01:27<00:31,  2.12it/s]"
     ]
    },
    {
     "name": "stdout",
     "output_type": "stream",
     "text": [
      "GCN loss on unlabled data: 1.1744784116744995\n",
      "GCN acc on unlabled data: 0.7554760840411265\n",
      "attack loss: 0.503256618976593\n"
     ]
    },
    {
     "name": "stderr",
     "output_type": "stream",
     "text": [
      "Perturbing graph:  74%|███████▍  | 187/253 [01:28<00:31,  2.12it/s]"
     ]
    },
    {
     "name": "stdout",
     "output_type": "stream",
     "text": [
      "GCN loss on unlabled data: 1.1835445165634155\n",
      "GCN acc on unlabled data: 0.7644166294143943\n",
      "attack loss: 0.5122339725494385\n"
     ]
    },
    {
     "name": "stderr",
     "output_type": "stream",
     "text": [
      "Perturbing graph:  74%|███████▍  | 188/253 [01:28<00:30,  2.12it/s]"
     ]
    },
    {
     "name": "stdout",
     "output_type": "stream",
     "text": [
      "GCN loss on unlabled data: 1.1540440320968628\n",
      "GCN acc on unlabled data: 0.7541350022351364\n",
      "attack loss: 0.49491173028945923\n"
     ]
    },
    {
     "name": "stderr",
     "output_type": "stream",
     "text": [
      "Perturbing graph:  75%|███████▍  | 189/253 [01:29<00:30,  2.12it/s]"
     ]
    },
    {
     "name": "stdout",
     "output_type": "stream",
     "text": [
      "GCN loss on unlabled data: 1.1552836894989014\n",
      "GCN acc on unlabled data: 0.753687974966473\n",
      "attack loss: 0.4993663430213928\n"
     ]
    },
    {
     "name": "stderr",
     "output_type": "stream",
     "text": [
      "Perturbing graph:  75%|███████▌  | 190/253 [01:29<00:29,  2.12it/s]"
     ]
    },
    {
     "name": "stdout",
     "output_type": "stream",
     "text": [
      "GCN loss on unlabled data: 1.1605175733566284\n",
      "GCN acc on unlabled data: 0.7568171658471167\n",
      "attack loss: 0.4990791082382202\n"
     ]
    },
    {
     "name": "stderr",
     "output_type": "stream",
     "text": [
      "Perturbing graph:  75%|███████▌  | 191/253 [01:30<00:29,  2.12it/s]"
     ]
    },
    {
     "name": "stdout",
     "output_type": "stream",
     "text": [
      "GCN loss on unlabled data: 1.1845481395721436\n",
      "GCN acc on unlabled data: 0.7554760840411265\n",
      "attack loss: 0.5079902410507202\n"
     ]
    },
    {
     "name": "stderr",
     "output_type": "stream",
     "text": [
      "Perturbing graph:  76%|███████▌  | 192/253 [01:30<00:28,  2.12it/s]"
     ]
    },
    {
     "name": "stdout",
     "output_type": "stream",
     "text": [
      "GCN loss on unlabled data: 1.1350290775299072\n",
      "GCN acc on unlabled data: 0.7545820295037997\n",
      "attack loss: 0.4952187240123749\n"
     ]
    },
    {
     "name": "stderr",
     "output_type": "stream",
     "text": [
      "Perturbing graph:  76%|███████▋  | 193/253 [01:30<00:28,  2.12it/s]"
     ]
    },
    {
     "name": "stdout",
     "output_type": "stream",
     "text": [
      "GCN loss on unlabled data: 1.1956919431686401\n",
      "GCN acc on unlabled data: 0.7518998658918195\n",
      "attack loss: 0.5108051300048828\n"
     ]
    },
    {
     "name": "stderr",
     "output_type": "stream",
     "text": [
      "Perturbing graph:  77%|███████▋  | 194/253 [01:31<00:27,  2.12it/s]"
     ]
    },
    {
     "name": "stdout",
     "output_type": "stream",
     "text": [
      "GCN loss on unlabled data: 1.173774242401123\n",
      "GCN acc on unlabled data: 0.7510058113544926\n",
      "attack loss: 0.5096594095230103\n"
     ]
    },
    {
     "name": "stderr",
     "output_type": "stream",
     "text": [
      "Perturbing graph:  77%|███████▋  | 195/253 [01:31<00:27,  2.12it/s]"
     ]
    },
    {
     "name": "stdout",
     "output_type": "stream",
     "text": [
      "GCN loss on unlabled data: 1.1528615951538086\n",
      "GCN acc on unlabled data: 0.7510058113544926\n",
      "attack loss: 0.5018030405044556\n"
     ]
    },
    {
     "name": "stderr",
     "output_type": "stream",
     "text": [
      "Perturbing graph:  77%|███████▋  | 196/253 [01:32<00:26,  2.12it/s]"
     ]
    },
    {
     "name": "stdout",
     "output_type": "stream",
     "text": [
      "GCN loss on unlabled data: 1.1723729372024536\n",
      "GCN acc on unlabled data: 0.7532409476978096\n",
      "attack loss: 0.5016597509384155\n"
     ]
    },
    {
     "name": "stderr",
     "output_type": "stream",
     "text": [
      "Perturbing graph:  78%|███████▊  | 197/253 [01:32<00:26,  2.12it/s]"
     ]
    },
    {
     "name": "stdout",
     "output_type": "stream",
     "text": [
      "GCN loss on unlabled data: 1.1835023164749146\n",
      "GCN acc on unlabled data: 0.7586052749217702\n",
      "attack loss: 0.5147023797035217\n"
     ]
    },
    {
     "name": "stderr",
     "output_type": "stream",
     "text": [
      "Perturbing graph:  78%|███████▊  | 198/253 [01:33<00:25,  2.12it/s]"
     ]
    },
    {
     "name": "stdout",
     "output_type": "stream",
     "text": [
      "GCN loss on unlabled data: 1.1973131895065308\n",
      "GCN acc on unlabled data: 0.7492177022798391\n",
      "attack loss: 0.5192829966545105\n"
     ]
    },
    {
     "name": "stderr",
     "output_type": "stream",
     "text": [
      "Perturbing graph:  79%|███████▊  | 199/253 [01:33<00:25,  2.12it/s]"
     ]
    },
    {
     "name": "stdout",
     "output_type": "stream",
     "text": [
      "GCN loss on unlabled data: 1.1742937564849854\n",
      "GCN acc on unlabled data: 0.7518998658918195\n",
      "attack loss: 0.5094517469406128\n"
     ]
    },
    {
     "name": "stderr",
     "output_type": "stream",
     "text": [
      "Perturbing graph:  79%|███████▉  | 200/253 [01:34<00:25,  2.12it/s]"
     ]
    },
    {
     "name": "stdout",
     "output_type": "stream",
     "text": [
      "GCN loss on unlabled data: 1.2239608764648438\n",
      "GCN acc on unlabled data: 0.751452838623156\n",
      "attack loss: 0.5288457274436951\n"
     ]
    },
    {
     "name": "stderr",
     "output_type": "stream",
     "text": [
      "Perturbing graph:  79%|███████▉  | 201/253 [01:34<00:24,  2.11it/s]"
     ]
    },
    {
     "name": "stdout",
     "output_type": "stream",
     "text": [
      "GCN loss on unlabled data: 1.1691209077835083\n",
      "GCN acc on unlabled data: 0.7505587840858292\n",
      "attack loss: 0.509294331073761\n"
     ]
    },
    {
     "name": "stderr",
     "output_type": "stream",
     "text": [
      "Perturbing graph:  80%|███████▉  | 202/253 [01:35<00:24,  2.12it/s]"
     ]
    },
    {
     "name": "stdout",
     "output_type": "stream",
     "text": [
      "GCN loss on unlabled data: 1.1898832321166992\n",
      "GCN acc on unlabled data: 0.7492177022798391\n",
      "attack loss: 0.5245944261550903\n"
     ]
    },
    {
     "name": "stderr",
     "output_type": "stream",
     "text": [
      "Perturbing graph:  80%|████████  | 203/253 [01:35<00:23,  2.12it/s]"
     ]
    },
    {
     "name": "stdout",
     "output_type": "stream",
     "text": [
      "GCN loss on unlabled data: 1.161060094833374\n",
      "GCN acc on unlabled data: 0.7518998658918195\n",
      "attack loss: 0.5048452019691467\n"
     ]
    },
    {
     "name": "stderr",
     "output_type": "stream",
     "text": [
      "Perturbing graph:  81%|████████  | 204/253 [01:36<00:23,  2.11it/s]"
     ]
    },
    {
     "name": "stdout",
     "output_type": "stream",
     "text": [
      "GCN loss on unlabled data: 1.1985087394714355\n",
      "GCN acc on unlabled data: 0.7496647295485025\n",
      "attack loss: 0.522158145904541\n"
     ]
    },
    {
     "name": "stderr",
     "output_type": "stream",
     "text": [
      "Perturbing graph:  81%|████████  | 205/253 [01:36<00:22,  2.11it/s]"
     ]
    },
    {
     "name": "stdout",
     "output_type": "stream",
     "text": [
      "GCN loss on unlabled data: 1.2595911026000977\n",
      "GCN acc on unlabled data: 0.7465355386678587\n",
      "attack loss: 0.5485610961914062\n"
     ]
    },
    {
     "name": "stderr",
     "output_type": "stream",
     "text": [
      "Perturbing graph:  81%|████████▏ | 206/253 [01:37<00:22,  2.11it/s]"
     ]
    },
    {
     "name": "stdout",
     "output_type": "stream",
     "text": [
      "GCN loss on unlabled data: 1.2316776514053345\n",
      "GCN acc on unlabled data: 0.7420652659812249\n",
      "attack loss: 0.5354135036468506\n"
     ]
    },
    {
     "name": "stderr",
     "output_type": "stream",
     "text": [
      "Perturbing graph:  82%|████████▏ | 207/253 [01:37<00:21,  2.11it/s]"
     ]
    },
    {
     "name": "stdout",
     "output_type": "stream",
     "text": [
      "GCN loss on unlabled data: 1.214417815208435\n",
      "GCN acc on unlabled data: 0.7469825659365221\n",
      "attack loss: 0.531923770904541\n"
     ]
    },
    {
     "name": "stderr",
     "output_type": "stream",
     "text": [
      "Perturbing graph:  82%|████████▏ | 208/253 [01:38<00:21,  2.11it/s]"
     ]
    },
    {
     "name": "stdout",
     "output_type": "stream",
     "text": [
      "GCN loss on unlabled data: 1.1817693710327148\n",
      "GCN acc on unlabled data: 0.7469825659365221\n",
      "attack loss: 0.5154514908790588\n"
     ]
    },
    {
     "name": "stderr",
     "output_type": "stream",
     "text": [
      "Perturbing graph:  83%|████████▎ | 209/253 [01:38<00:20,  2.11it/s]"
     ]
    },
    {
     "name": "stdout",
     "output_type": "stream",
     "text": [
      "GCN loss on unlabled data: 1.2517927885055542\n",
      "GCN acc on unlabled data: 0.7425122932498882\n",
      "attack loss: 0.5458179712295532\n"
     ]
    },
    {
     "name": "stderr",
     "output_type": "stream",
     "text": [
      "Perturbing graph:  83%|████████▎ | 210/253 [01:39<00:20,  2.12it/s]"
     ]
    },
    {
     "name": "stdout",
     "output_type": "stream",
     "text": [
      "GCN loss on unlabled data: 1.1774685382843018\n",
      "GCN acc on unlabled data: 0.7460885113991954\n",
      "attack loss: 0.5190896987915039\n"
     ]
    },
    {
     "name": "stderr",
     "output_type": "stream",
     "text": [
      "Perturbing graph:  83%|████████▎ | 211/253 [01:39<00:19,  2.12it/s]"
     ]
    },
    {
     "name": "stdout",
     "output_type": "stream",
     "text": [
      "GCN loss on unlabled data: 1.248943567276001\n",
      "GCN acc on unlabled data: 0.7438533750558785\n",
      "attack loss: 0.544259786605835\n"
     ]
    },
    {
     "name": "stderr",
     "output_type": "stream",
     "text": [
      "Perturbing graph:  84%|████████▍ | 212/253 [01:39<00:19,  2.12it/s]"
     ]
    },
    {
     "name": "stdout",
     "output_type": "stream",
     "text": [
      "GCN loss on unlabled data: 1.2074426412582397\n",
      "GCN acc on unlabled data: 0.745641484130532\n",
      "attack loss: 0.534254789352417\n"
     ]
    },
    {
     "name": "stderr",
     "output_type": "stream",
     "text": [
      "Perturbing graph:  84%|████████▍ | 213/253 [01:40<00:18,  2.12it/s]"
     ]
    },
    {
     "name": "stdout",
     "output_type": "stream",
     "text": [
      "GCN loss on unlabled data: 1.280179500579834\n",
      "GCN acc on unlabled data: 0.7443004023245419\n",
      "attack loss: 0.5586684942245483\n"
     ]
    },
    {
     "name": "stderr",
     "output_type": "stream",
     "text": [
      "Perturbing graph:  85%|████████▍ | 214/253 [01:40<00:18,  2.12it/s]"
     ]
    },
    {
     "name": "stdout",
     "output_type": "stream",
     "text": [
      "GCN loss on unlabled data: 1.2312146425247192\n",
      "GCN acc on unlabled data: 0.7384890478319178\n",
      "attack loss: 0.5485440492630005\n"
     ]
    },
    {
     "name": "stderr",
     "output_type": "stream",
     "text": [
      "Perturbing graph:  85%|████████▍ | 215/253 [01:41<00:17,  2.12it/s]"
     ]
    },
    {
     "name": "stdout",
     "output_type": "stream",
     "text": [
      "GCN loss on unlabled data: 1.2495609521865845\n",
      "GCN acc on unlabled data: 0.743406347787215\n",
      "attack loss: 0.5483254194259644\n"
     ]
    },
    {
     "name": "stderr",
     "output_type": "stream",
     "text": [
      "Perturbing graph:  85%|████████▌ | 216/253 [01:41<00:17,  2.11it/s]"
     ]
    },
    {
     "name": "stdout",
     "output_type": "stream",
     "text": [
      "GCN loss on unlabled data: 1.2174005508422852\n",
      "GCN acc on unlabled data: 0.7349128296826106\n",
      "attack loss: 0.5283937454223633\n"
     ]
    },
    {
     "name": "stderr",
     "output_type": "stream",
     "text": [
      "Perturbing graph:  86%|████████▌ | 217/253 [01:42<00:17,  2.11it/s]"
     ]
    },
    {
     "name": "stdout",
     "output_type": "stream",
     "text": [
      "GCN loss on unlabled data: 1.2331029176712036\n",
      "GCN acc on unlabled data: 0.745641484130532\n",
      "attack loss: 0.5419232249259949\n"
     ]
    },
    {
     "name": "stderr",
     "output_type": "stream",
     "text": [
      "Perturbing graph:  86%|████████▌ | 218/253 [01:42<00:16,  2.11it/s]"
     ]
    },
    {
     "name": "stdout",
     "output_type": "stream",
     "text": [
      "GCN loss on unlabled data: 1.2425109148025513\n",
      "GCN acc on unlabled data: 0.745641484130532\n",
      "attack loss: 0.5507258176803589\n"
     ]
    },
    {
     "name": "stderr",
     "output_type": "stream",
     "text": [
      "Perturbing graph:  87%|████████▋ | 219/253 [01:43<00:16,  2.12it/s]"
     ]
    },
    {
     "name": "stdout",
     "output_type": "stream",
     "text": [
      "GCN loss on unlabled data: 1.2618975639343262\n",
      "GCN acc on unlabled data: 0.7389360751005811\n",
      "attack loss: 0.5556577444076538\n"
     ]
    },
    {
     "name": "stderr",
     "output_type": "stream",
     "text": [
      "Perturbing graph:  87%|████████▋ | 220/253 [01:43<00:15,  2.12it/s]"
     ]
    },
    {
     "name": "stdout",
     "output_type": "stream",
     "text": [
      "GCN loss on unlabled data: 1.2439918518066406\n",
      "GCN acc on unlabled data: 0.7443004023245419\n",
      "attack loss: 0.5438083410263062\n"
     ]
    },
    {
     "name": "stderr",
     "output_type": "stream",
     "text": [
      "Perturbing graph:  87%|████████▋ | 221/253 [01:44<00:15,  2.12it/s]"
     ]
    },
    {
     "name": "stdout",
     "output_type": "stream",
     "text": [
      "GCN loss on unlabled data: 1.2525163888931274\n",
      "GCN acc on unlabled data: 0.7425122932498882\n",
      "attack loss: 0.5506772994995117\n"
     ]
    },
    {
     "name": "stderr",
     "output_type": "stream",
     "text": [
      "Perturbing graph:  88%|████████▊ | 222/253 [01:44<00:14,  2.12it/s]"
     ]
    },
    {
     "name": "stdout",
     "output_type": "stream",
     "text": [
      "GCN loss on unlabled data: 1.2634210586547852\n",
      "GCN acc on unlabled data: 0.7393831023692445\n",
      "attack loss: 0.5549404621124268\n"
     ]
    },
    {
     "name": "stderr",
     "output_type": "stream",
     "text": [
      "Perturbing graph:  88%|████████▊ | 223/253 [01:45<00:14,  2.12it/s]"
     ]
    },
    {
     "name": "stdout",
     "output_type": "stream",
     "text": [
      "GCN loss on unlabled data: 1.2683932781219482\n",
      "GCN acc on unlabled data: 0.7407241841752347\n",
      "attack loss: 0.5516946315765381\n"
     ]
    },
    {
     "name": "stderr",
     "output_type": "stream",
     "text": [
      "Perturbing graph:  89%|████████▊ | 224/253 [01:45<00:13,  2.12it/s]"
     ]
    },
    {
     "name": "stdout",
     "output_type": "stream",
     "text": [
      "GCN loss on unlabled data: 1.2395637035369873\n",
      "GCN acc on unlabled data: 0.7429593205185516\n",
      "attack loss: 0.542640209197998\n"
     ]
    },
    {
     "name": "stderr",
     "output_type": "stream",
     "text": [
      "Perturbing graph:  89%|████████▉ | 225/253 [01:46<00:13,  2.11it/s]"
     ]
    },
    {
     "name": "stdout",
     "output_type": "stream",
     "text": [
      "GCN loss on unlabled data: 1.2387481927871704\n",
      "GCN acc on unlabled data: 0.7429593205185516\n",
      "attack loss: 0.545912504196167\n"
     ]
    },
    {
     "name": "stderr",
     "output_type": "stream",
     "text": [
      "Perturbing graph:  89%|████████▉ | 226/253 [01:46<00:12,  2.11it/s]"
     ]
    },
    {
     "name": "stdout",
     "output_type": "stream",
     "text": [
      "GCN loss on unlabled data: 1.3017288446426392\n",
      "GCN acc on unlabled data: 0.7420652659812249\n",
      "attack loss: 0.5729564428329468\n"
     ]
    },
    {
     "name": "stderr",
     "output_type": "stream",
     "text": [
      "Perturbing graph:  90%|████████▉ | 227/253 [01:47<00:12,  2.11it/s]"
     ]
    },
    {
     "name": "stdout",
     "output_type": "stream",
     "text": [
      "GCN loss on unlabled data: 1.2695461511611938\n",
      "GCN acc on unlabled data: 0.7362539114886009\n",
      "attack loss: 0.5638098120689392\n"
     ]
    },
    {
     "name": "stderr",
     "output_type": "stream",
     "text": [
      "Perturbing graph:  90%|█████████ | 228/253 [01:47<00:11,  2.11it/s]"
     ]
    },
    {
     "name": "stdout",
     "output_type": "stream",
     "text": [
      "GCN loss on unlabled data: 1.2737842798233032\n",
      "GCN acc on unlabled data: 0.7371479660259276\n",
      "attack loss: 0.5659271478652954\n"
     ]
    },
    {
     "name": "stderr",
     "output_type": "stream",
     "text": [
      "Perturbing graph:  91%|█████████ | 229/253 [01:48<00:11,  2.11it/s]"
     ]
    },
    {
     "name": "stdout",
     "output_type": "stream",
     "text": [
      "GCN loss on unlabled data: 1.2868812084197998\n",
      "GCN acc on unlabled data: 0.7326776933392937\n",
      "attack loss: 0.5634119510650635\n"
     ]
    },
    {
     "name": "stderr",
     "output_type": "stream",
     "text": [
      "Perturbing graph:  91%|█████████ | 230/253 [01:48<00:10,  2.11it/s]"
     ]
    },
    {
     "name": "stdout",
     "output_type": "stream",
     "text": [
      "GCN loss on unlabled data: 1.3033486604690552\n",
      "GCN acc on unlabled data: 0.7344658024139473\n",
      "attack loss: 0.5765641927719116\n"
     ]
    },
    {
     "name": "stderr",
     "output_type": "stream",
     "text": [
      "Perturbing graph:  91%|█████████▏| 231/253 [01:48<00:10,  2.11it/s]"
     ]
    },
    {
     "name": "stdout",
     "output_type": "stream",
     "text": [
      "GCN loss on unlabled data: 1.31355881690979\n",
      "GCN acc on unlabled data: 0.7349128296826106\n",
      "attack loss: 0.579701840877533\n"
     ]
    },
    {
     "name": "stderr",
     "output_type": "stream",
     "text": [
      "Perturbing graph:  92%|█████████▏| 232/253 [01:49<00:09,  2.12it/s]"
     ]
    },
    {
     "name": "stdout",
     "output_type": "stream",
     "text": [
      "GCN loss on unlabled data: 1.261284351348877\n",
      "GCN acc on unlabled data: 0.7322306660706304\n",
      "attack loss: 0.5576866865158081\n"
     ]
    },
    {
     "name": "stderr",
     "output_type": "stream",
     "text": [
      "Perturbing graph:  92%|█████████▏| 233/253 [01:49<00:09,  2.12it/s]"
     ]
    },
    {
     "name": "stdout",
     "output_type": "stream",
     "text": [
      "GCN loss on unlabled data: 1.311739444732666\n",
      "GCN acc on unlabled data: 0.7358068842199375\n",
      "attack loss: 0.5794968008995056\n"
     ]
    },
    {
     "name": "stderr",
     "output_type": "stream",
     "text": [
      "Perturbing graph:  92%|█████████▏| 234/253 [01:50<00:08,  2.11it/s]"
     ]
    },
    {
     "name": "stdout",
     "output_type": "stream",
     "text": [
      "GCN loss on unlabled data: 1.274096131324768\n",
      "GCN acc on unlabled data: 0.7331247206079571\n",
      "attack loss: 0.5618342161178589\n"
     ]
    },
    {
     "name": "stderr",
     "output_type": "stream",
     "text": [
      "Perturbing graph:  93%|█████████▎| 235/253 [01:50<00:08,  2.12it/s]"
     ]
    },
    {
     "name": "stdout",
     "output_type": "stream",
     "text": [
      "GCN loss on unlabled data: 1.281550407409668\n",
      "GCN acc on unlabled data: 0.7371479660259276\n",
      "attack loss: 0.5658737421035767\n"
     ]
    },
    {
     "name": "stderr",
     "output_type": "stream",
     "text": [
      "Perturbing graph:  93%|█████████▎| 236/253 [01:51<00:08,  2.12it/s]"
     ]
    },
    {
     "name": "stdout",
     "output_type": "stream",
     "text": [
      "GCN loss on unlabled data: 1.2121573686599731\n",
      "GCN acc on unlabled data: 0.7380420205632544\n",
      "attack loss: 0.5427864193916321\n"
     ]
    },
    {
     "name": "stderr",
     "output_type": "stream",
     "text": [
      "Perturbing graph:  94%|█████████▎| 237/253 [01:51<00:07,  2.12it/s]"
     ]
    },
    {
     "name": "stdout",
     "output_type": "stream",
     "text": [
      "GCN loss on unlabled data: 1.2399989366531372\n",
      "GCN acc on unlabled data: 0.7331247206079571\n",
      "attack loss: 0.5472569465637207\n"
     ]
    },
    {
     "name": "stderr",
     "output_type": "stream",
     "text": [
      "Perturbing graph:  94%|█████████▍| 238/253 [01:52<00:07,  2.12it/s]"
     ]
    },
    {
     "name": "stdout",
     "output_type": "stream",
     "text": [
      "GCN loss on unlabled data: 1.2832145690917969\n",
      "GCN acc on unlabled data: 0.735359856951274\n",
      "attack loss: 0.5653834939002991\n"
     ]
    },
    {
     "name": "stderr",
     "output_type": "stream",
     "text": [
      "Perturbing graph:  94%|█████████▍| 239/253 [01:52<00:06,  2.12it/s]"
     ]
    },
    {
     "name": "stdout",
     "output_type": "stream",
     "text": [
      "GCN loss on unlabled data: 1.2979764938354492\n",
      "GCN acc on unlabled data: 0.7322306660706304\n",
      "attack loss: 0.5697638988494873\n"
     ]
    },
    {
     "name": "stderr",
     "output_type": "stream",
     "text": [
      "Perturbing graph:  95%|█████████▍| 240/253 [01:53<00:06,  2.12it/s]"
     ]
    },
    {
     "name": "stdout",
     "output_type": "stream",
     "text": [
      "GCN loss on unlabled data: 1.3068954944610596\n",
      "GCN acc on unlabled data: 0.735359856951274\n",
      "attack loss: 0.5826820135116577\n"
     ]
    },
    {
     "name": "stderr",
     "output_type": "stream",
     "text": [
      "Perturbing graph:  95%|█████████▌| 241/253 [01:53<00:05,  2.12it/s]"
     ]
    },
    {
     "name": "stdout",
     "output_type": "stream",
     "text": [
      "GCN loss on unlabled data: 1.328959345817566\n",
      "GCN acc on unlabled data: 0.723737147966026\n",
      "attack loss: 0.5885591506958008\n"
     ]
    },
    {
     "name": "stderr",
     "output_type": "stream",
     "text": [
      "Perturbing graph:  96%|█████████▌| 242/253 [01:54<00:05,  2.12it/s]"
     ]
    },
    {
     "name": "stdout",
     "output_type": "stream",
     "text": [
      "GCN loss on unlabled data: 1.3372197151184082\n",
      "GCN acc on unlabled data: 0.7299955297273134\n",
      "attack loss: 0.5777362585067749\n"
     ]
    },
    {
     "name": "stderr",
     "output_type": "stream",
     "text": [
      "Perturbing graph:  96%|█████████▌| 243/253 [01:54<00:04,  2.11it/s]"
     ]
    },
    {
     "name": "stdout",
     "output_type": "stream",
     "text": [
      "GCN loss on unlabled data: 1.342171549797058\n",
      "GCN acc on unlabled data: 0.7291014751899866\n",
      "attack loss: 0.5935486555099487\n"
     ]
    },
    {
     "name": "stderr",
     "output_type": "stream",
     "text": [
      "Perturbing graph:  96%|█████████▋| 244/253 [01:55<00:04,  2.12it/s]"
     ]
    },
    {
     "name": "stdout",
     "output_type": "stream",
     "text": [
      "GCN loss on unlabled data: 1.3238990306854248\n",
      "GCN acc on unlabled data: 0.7210549843540456\n",
      "attack loss: 0.5952332615852356\n"
     ]
    },
    {
     "name": "stderr",
     "output_type": "stream",
     "text": [
      "Perturbing graph:  97%|█████████▋| 245/253 [01:55<00:03,  2.11it/s]"
     ]
    },
    {
     "name": "stdout",
     "output_type": "stream",
     "text": [
      "GCN loss on unlabled data: 1.3194637298583984\n",
      "GCN acc on unlabled data: 0.7241841752346894\n",
      "attack loss: 0.5895689725875854\n"
     ]
    },
    {
     "name": "stderr",
     "output_type": "stream",
     "text": [
      "Perturbing graph:  97%|█████████▋| 246/253 [01:56<00:03,  2.12it/s]"
     ]
    },
    {
     "name": "stdout",
     "output_type": "stream",
     "text": [
      "GCN loss on unlabled data: 1.3387601375579834\n",
      "GCN acc on unlabled data: 0.72954850245865\n",
      "attack loss: 0.5895219445228577\n"
     ]
    },
    {
     "name": "stderr",
     "output_type": "stream",
     "text": [
      "Perturbing graph:  98%|█████████▊| 247/253 [01:56<00:02,  2.12it/s]"
     ]
    },
    {
     "name": "stdout",
     "output_type": "stream",
     "text": [
      "GCN loss on unlabled data: 1.3249834775924683\n",
      "GCN acc on unlabled data: 0.7313366115333035\n",
      "attack loss: 0.5937157869338989\n"
     ]
    },
    {
     "name": "stderr",
     "output_type": "stream",
     "text": [
      "Perturbing graph:  98%|█████████▊| 248/253 [01:56<00:02,  2.12it/s]"
     ]
    },
    {
     "name": "stdout",
     "output_type": "stream",
     "text": [
      "GCN loss on unlabled data: 1.319664716720581\n",
      "GCN acc on unlabled data: 0.7259722843093429\n",
      "attack loss: 0.5894545316696167\n"
     ]
    },
    {
     "name": "stderr",
     "output_type": "stream",
     "text": [
      "Perturbing graph:  98%|█████████▊| 249/253 [01:57<00:01,  2.12it/s]"
     ]
    },
    {
     "name": "stdout",
     "output_type": "stream",
     "text": [
      "GCN loss on unlabled data: 1.2959104776382446\n",
      "GCN acc on unlabled data: 0.7331247206079571\n",
      "attack loss: 0.5797975063323975\n"
     ]
    },
    {
     "name": "stderr",
     "output_type": "stream",
     "text": [
      "Perturbing graph:  99%|█████████▉| 250/253 [01:57<00:01,  2.11it/s]"
     ]
    },
    {
     "name": "stdout",
     "output_type": "stream",
     "text": [
      "GCN loss on unlabled data: 1.38494873046875\n",
      "GCN acc on unlabled data: 0.7228430934286991\n",
      "attack loss: 0.613966166973114\n"
     ]
    },
    {
     "name": "stderr",
     "output_type": "stream",
     "text": [
      "Perturbing graph:  99%|█████████▉| 251/253 [01:58<00:00,  2.12it/s]"
     ]
    },
    {
     "name": "stdout",
     "output_type": "stream",
     "text": [
      "GCN loss on unlabled data: 1.3060275316238403\n",
      "GCN acc on unlabled data: 0.7183728207420653\n",
      "attack loss: 0.5895988345146179\n"
     ]
    },
    {
     "name": "stderr",
     "output_type": "stream",
     "text": [
      "Perturbing graph: 100%|█████████▉| 252/253 [01:58<00:00,  2.12it/s]"
     ]
    },
    {
     "name": "stdout",
     "output_type": "stream",
     "text": [
      "GCN loss on unlabled data: 1.3051196336746216\n",
      "GCN acc on unlabled data: 0.7219490388913724\n",
      "attack loss: 0.5895567536354065\n"
     ]
    },
    {
     "name": "stderr",
     "output_type": "stream",
     "text": [
      "Perturbing graph: 100%|██████████| 253/253 [01:59<00:00,  2.12it/s]"
     ]
    },
    {
     "name": "stdout",
     "output_type": "stream",
     "text": [
      "🧨 Evasion Attack Test Accuracy: 0.8244\n",
      "📉 Accuracy Drop due to Evasion Attack: 0.0015\n"
     ]
    },
    {
     "name": "stderr",
     "output_type": "stream",
     "text": [
      "\n"
     ]
    }
   ],
   "source": [
    "import torch\n",
    "import numpy as np\n",
    "import scipy.sparse as sp\n",
    "\n",
    "from deeprobust.graph.data import Dataset\n",
    "from deeprobust.graph.defense import GCN\n",
    "from deeprobust.graph.global_attack import Metattack\n",
    "from deeprobust.graph.utils import normalize_adj, sparse_mx_to_torch_sparse_tensor\n",
    "\n",
    "# Device setup\n",
    "device = torch.device(\"cuda:0\" if torch.cuda.is_available() else \"cpu\")\n",
    "\n",
    "# 1. Load the Cora dataset\n",
    "data = Dataset(root='/tmp/', name='cora', setting='nettack')\n",
    "adj, features, labels = data.adj, data.features, data.labels\n",
    "idx_train, idx_val, idx_test = data.idx_train, data.idx_val, data.idx_test\n",
    "idx_unlabeled = np.union1d(idx_val, idx_test)\n",
    "\n",
    "# 2. Train GCN on the clean graph\n",
    "model_clean = GCN(nfeat=features.shape[1],\n",
    "                  nclass=labels.max().item() + 1,\n",
    "                  nhid=64,\n",
    "                  with_relu=False,\n",
    "                  dropout=0.5,\n",
    "                  device=device)\n",
    "model_clean = model_clean.to(device)\n",
    "model_clean.fit(features, adj, labels, idx_train)\n",
    "\n",
    "# 3. Ensure features and labels are PyTorch tensors on GPU for inference\n",
    "if isinstance(features, np.ndarray):\n",
    "    features = torch.FloatTensor(features).to(device)\n",
    "elif not isinstance(features, torch.Tensor):\n",
    "    features = torch.FloatTensor(features.A).to(device)\n",
    "else:\n",
    "    features = features.to(device)\n",
    "\n",
    "if isinstance(labels, np.ndarray):\n",
    "    labels = torch.LongTensor(labels).to(device)\n",
    "\n",
    "# 4. Evaluate accuracy on the clean graph\n",
    "adj_norm = normalize_adj(adj)\n",
    "adj_tensor = sparse_mx_to_torch_sparse_tensor(adj_norm).to(device)\n",
    "\n",
    "model_clean.eval()\n",
    "output_clean = model_clean.predict(features, adj_tensor)\n",
    "preds_clean = output_clean.argmax(dim=1)\n",
    "\n",
    "correct_clean = preds_clean[idx_test].eq(labels[idx_test]).sum().item()\n",
    "acc_clean = correct_clean / len(idx_test)\n",
    "print(f\"✅ Clean Graph Test Accuracy: {acc_clean:.4f}\")\n",
    "\n",
    "# 5. Prepare for Metattack (move inputs to CPU)\n",
    "features_cpu = features.cpu()\n",
    "labels_cpu = labels.cpu()\n",
    "\n",
    "# 6. Apply evasion attack (perturb structure after training)\n",
    "attack_model = Metattack(model=model_clean,\n",
    "                         nnodes=adj.shape[0],\n",
    "                         feature_shape=features.shape,\n",
    "                         attack_structure=True,\n",
    "                         attack_features=False,\n",
    "                         device=device)\n",
    "attack_model = attack_model.to(device)\n",
    "\n",
    "perturbations = int(0.05 * (adj.sum() // 2))  # 5% of total edges\n",
    "attack_model.attack(features_cpu, adj, labels_cpu, idx_train, idx_unlabeled, perturbations, ll_constraint=False)\n",
    "modified_adj = attack_model.modified_adj\n",
    "\n",
    "# 7. Normalize and convert modified adj to PyTorch sparse tensor\n",
    "if isinstance(modified_adj, torch.Tensor):\n",
    "    modified_adj = modified_adj.cpu().numpy()\n",
    "    modified_adj = sp.csr_matrix(modified_adj)\n",
    "\n",
    "modified_adj_norm = normalize_adj(modified_adj)\n",
    "modified_adj_tensor = sparse_mx_to_torch_sparse_tensor(modified_adj_norm).to(device)\n",
    "\n",
    "# 8. Evaluate model on the attacked graph\n",
    "output_adv = model_clean.predict(features, modified_adj_tensor)\n",
    "preds_adv = output_adv.argmax(dim=1)\n",
    "\n",
    "correct_adv = preds_adv[idx_test].eq(labels[idx_test]).sum().item()\n",
    "acc_evasion = correct_adv / len(idx_test)\n",
    "print(f\"🧨 Evasion Attack Test Accuracy: {acc_evasion:.4f}\")\n",
    "\n",
    "# 9. Compute and report accuracy drop\n",
    "acc_drop = acc_clean - acc_evasion\n",
    "print(f\"📉 Accuracy Drop due to Evasion Attack: {acc_drop:.4f}\")\n"
   ]
  },
  {
   "cell_type": "code",
   "execution_count": 2,
   "id": "f9bb0adf-467f-4f1e-af20-2d8fb4092df5",
   "metadata": {},
   "outputs": [
    {
     "name": "stdout",
     "output_type": "stream",
     "text": [
      "Loading cora dataset...\n",
      "Selecting 1 largest connected components\n",
      "✅ Clean Graph Test Accuracy: 0.8169\n"
     ]
    },
    {
     "name": "stderr",
     "output_type": "stream",
     "text": [
      "Perturbing graph:   0%|          | 0/506 [00:00<?, ?it/s]"
     ]
    },
    {
     "name": "stdout",
     "output_type": "stream",
     "text": [
      "GCN loss on unlabled data: 0.5107272863388062\n",
      "GCN acc on unlabled data: 0.8466696468484578\n",
      "attack loss: 0.17016395926475525\n"
     ]
    },
    {
     "name": "stderr",
     "output_type": "stream",
     "text": [
      "Perturbing graph:   0%|          | 1/506 [00:03<29:24,  3.49s/it]"
     ]
    },
    {
     "name": "stdout",
     "output_type": "stream",
     "text": [
      "GCN loss on unlabled data: 0.5183678865432739\n",
      "GCN acc on unlabled data: 0.8480107286544479\n",
      "attack loss: 0.16849106550216675\n"
     ]
    },
    {
     "name": "stderr",
     "output_type": "stream",
     "text": [
      "Perturbing graph:   0%|          | 2/506 [00:06<26:53,  3.20s/it]"
     ]
    },
    {
     "name": "stdout",
     "output_type": "stream",
     "text": [
      "GCN loss on unlabled data: 0.5171085000038147\n",
      "GCN acc on unlabled data: 0.8466696468484578\n",
      "attack loss: 0.17442944645881653\n"
     ]
    },
    {
     "name": "stderr",
     "output_type": "stream",
     "text": [
      "Perturbing graph:   1%|          | 3/506 [00:09<25:51,  3.08s/it]"
     ]
    },
    {
     "name": "stdout",
     "output_type": "stream",
     "text": [
      "GCN loss on unlabled data: 0.5204654932022095\n",
      "GCN acc on unlabled data: 0.845775592311131\n",
      "attack loss: 0.17913059890270233\n"
     ]
    },
    {
     "name": "stderr",
     "output_type": "stream",
     "text": [
      "Perturbing graph:   1%|          | 4/506 [00:12<24:57,  2.98s/it]"
     ]
    },
    {
     "name": "stdout",
     "output_type": "stream",
     "text": [
      "GCN loss on unlabled data: 0.5157058835029602\n",
      "GCN acc on unlabled data: 0.8471166741171211\n",
      "attack loss: 0.1777312308549881\n"
     ]
    },
    {
     "name": "stderr",
     "output_type": "stream",
     "text": [
      "Perturbing graph:   1%|          | 5/506 [00:15<24:19,  2.91s/it]"
     ]
    },
    {
     "name": "stdout",
     "output_type": "stream",
     "text": [
      "GCN loss on unlabled data: 0.5449440479278564\n",
      "GCN acc on unlabled data: 0.8386231560125168\n",
      "attack loss: 0.18354298174381256\n"
     ]
    },
    {
     "name": "stderr",
     "output_type": "stream",
     "text": [
      "Perturbing graph:   1%|          | 6/506 [00:17<23:48,  2.86s/it]"
     ]
    },
    {
     "name": "stdout",
     "output_type": "stream",
     "text": [
      "GCN loss on unlabled data: 0.5442993640899658\n",
      "GCN acc on unlabled data: 0.8390701832811801\n",
      "attack loss: 0.18497689068317413\n"
     ]
    },
    {
     "name": "stderr",
     "output_type": "stream",
     "text": [
      "Perturbing graph:   1%|▏         | 7/506 [00:20<23:11,  2.79s/it]"
     ]
    },
    {
     "name": "stdout",
     "output_type": "stream",
     "text": [
      "GCN loss on unlabled data: 0.5444294214248657\n",
      "GCN acc on unlabled data: 0.83772910147519\n",
      "attack loss: 0.1817348301410675\n"
     ]
    },
    {
     "name": "stderr",
     "output_type": "stream",
     "text": [
      "Perturbing graph:   2%|▏         | 8/506 [00:23<23:21,  2.82s/it]"
     ]
    },
    {
     "name": "stdout",
     "output_type": "stream",
     "text": [
      "GCN loss on unlabled data: 0.5267794132232666\n",
      "GCN acc on unlabled data: 0.8404112650871703\n",
      "attack loss: 0.18213866651058197\n"
     ]
    },
    {
     "name": "stderr",
     "output_type": "stream",
     "text": [
      "Perturbing graph:   2%|▏         | 9/506 [00:25<22:53,  2.76s/it]"
     ]
    },
    {
     "name": "stdout",
     "output_type": "stream",
     "text": [
      "GCN loss on unlabled data: 0.5436661243438721\n",
      "GCN acc on unlabled data: 0.8399642378185069\n",
      "attack loss: 0.18860629200935364\n"
     ]
    },
    {
     "name": "stderr",
     "output_type": "stream",
     "text": [
      "Perturbing graph:   2%|▏         | 10/506 [00:28<22:42,  2.75s/it]"
     ]
    },
    {
     "name": "stdout",
     "output_type": "stream",
     "text": [
      "GCN loss on unlabled data: 0.546930193901062\n",
      "GCN acc on unlabled data: 0.8413053196244971\n",
      "attack loss: 0.19138909876346588\n"
     ]
    },
    {
     "name": "stderr",
     "output_type": "stream",
     "text": [
      "Perturbing graph:   2%|▏         | 11/506 [00:31<22:23,  2.71s/it]"
     ]
    },
    {
     "name": "stdout",
     "output_type": "stream",
     "text": [
      "GCN loss on unlabled data: 0.551815390586853\n",
      "GCN acc on unlabled data: 0.8381761287438534\n",
      "attack loss: 0.18890519440174103\n"
     ]
    },
    {
     "name": "stderr",
     "output_type": "stream",
     "text": [
      "Perturbing graph:   2%|▏         | 12/506 [00:33<22:11,  2.70s/it]"
     ]
    },
    {
     "name": "stdout",
     "output_type": "stream",
     "text": [
      "GCN loss on unlabled data: 0.5503677725791931\n",
      "GCN acc on unlabled data: 0.8395172105498435\n",
      "attack loss: 0.19870665669441223\n"
     ]
    },
    {
     "name": "stderr",
     "output_type": "stream",
     "text": [
      "Perturbing graph:   3%|▎         | 13/506 [00:36<22:00,  2.68s/it]"
     ]
    },
    {
     "name": "stdout",
     "output_type": "stream",
     "text": [
      "GCN loss on unlabled data: 0.5487114191055298\n",
      "GCN acc on unlabled data: 0.8350469378632096\n",
      "attack loss: 0.19480830430984497\n"
     ]
    },
    {
     "name": "stderr",
     "output_type": "stream",
     "text": [
      "Perturbing graph:   3%|▎         | 14/506 [00:39<21:56,  2.68s/it]"
     ]
    },
    {
     "name": "stdout",
     "output_type": "stream",
     "text": [
      "GCN loss on unlabled data: 0.5808230638504028\n",
      "GCN acc on unlabled data: 0.8359409924005364\n",
      "attack loss: 0.20414119958877563\n"
     ]
    },
    {
     "name": "stderr",
     "output_type": "stream",
     "text": [
      "Perturbing graph:   3%|▎         | 15/506 [00:41<21:56,  2.68s/it]"
     ]
    },
    {
     "name": "stdout",
     "output_type": "stream",
     "text": [
      "GCN loss on unlabled data: 0.5652768611907959\n",
      "GCN acc on unlabled data: 0.8399642378185069\n",
      "attack loss: 0.2003633677959442\n"
     ]
    },
    {
     "name": "stderr",
     "output_type": "stream",
     "text": [
      "Perturbing graph:   3%|▎         | 16/506 [00:44<21:40,  2.65s/it]"
     ]
    },
    {
     "name": "stdout",
     "output_type": "stream",
     "text": [
      "GCN loss on unlabled data: 0.5634940266609192\n",
      "GCN acc on unlabled data: 0.8314707197139025\n",
      "attack loss: 0.20364832878112793\n"
     ]
    },
    {
     "name": "stderr",
     "output_type": "stream",
     "text": [
      "Perturbing graph:   3%|▎         | 17/506 [00:47<21:35,  2.65s/it]"
     ]
    },
    {
     "name": "stdout",
     "output_type": "stream",
     "text": [
      "GCN loss on unlabled data: 0.5702254772186279\n",
      "GCN acc on unlabled data: 0.8345999105945463\n",
      "attack loss: 0.20839086174964905\n"
     ]
    },
    {
     "name": "stderr",
     "output_type": "stream",
     "text": [
      "Perturbing graph:   4%|▎         | 18/506 [00:49<21:29,  2.64s/it]"
     ]
    },
    {
     "name": "stdout",
     "output_type": "stream",
     "text": [
      "GCN loss on unlabled data: 0.5800749659538269\n",
      "GCN acc on unlabled data: 0.8341528833258829\n",
      "attack loss: 0.20774953067302704\n"
     ]
    },
    {
     "name": "stderr",
     "output_type": "stream",
     "text": [
      "Perturbing graph:   4%|▍         | 19/506 [00:52<21:25,  2.64s/it]"
     ]
    },
    {
     "name": "stdout",
     "output_type": "stream",
     "text": [
      "GCN loss on unlabled data: 0.5802628993988037\n",
      "GCN acc on unlabled data: 0.829682610639249\n",
      "attack loss: 0.21107318997383118\n"
     ]
    },
    {
     "name": "stderr",
     "output_type": "stream",
     "text": [
      "Perturbing graph:   4%|▍         | 20/506 [00:55<21:16,  2.63s/it]"
     ]
    },
    {
     "name": "stdout",
     "output_type": "stream",
     "text": [
      "GCN loss on unlabled data: 0.5506399273872375\n",
      "GCN acc on unlabled data: 0.8359409924005364\n",
      "attack loss: 0.21243125200271606\n"
     ]
    },
    {
     "name": "stderr",
     "output_type": "stream",
     "text": [
      "Perturbing graph:   4%|▍         | 21/506 [00:57<21:09,  2.62s/it]"
     ]
    },
    {
     "name": "stdout",
     "output_type": "stream",
     "text": [
      "GCN loss on unlabled data: 0.5786417126655579\n",
      "GCN acc on unlabled data: 0.8328118015198928\n",
      "attack loss: 0.2131735384464264\n"
     ]
    },
    {
     "name": "stderr",
     "output_type": "stream",
     "text": [
      "Perturbing graph:   4%|▍         | 22/506 [01:00<21:06,  2.62s/it]"
     ]
    },
    {
     "name": "stdout",
     "output_type": "stream",
     "text": [
      "GCN loss on unlabled data: 0.5740861892700195\n",
      "GCN acc on unlabled data: 0.8319177469825659\n",
      "attack loss: 0.22088457643985748\n"
     ]
    },
    {
     "name": "stderr",
     "output_type": "stream",
     "text": [
      "Perturbing graph:   5%|▍         | 23/506 [01:02<21:05,  2.62s/it]"
     ]
    },
    {
     "name": "stdout",
     "output_type": "stream",
     "text": [
      "GCN loss on unlabled data: 0.5963010787963867\n",
      "GCN acc on unlabled data: 0.8292355833705856\n",
      "attack loss: 0.21922433376312256\n"
     ]
    },
    {
     "name": "stderr",
     "output_type": "stream",
     "text": [
      "Perturbing graph:   5%|▍         | 24/506 [01:05<20:54,  2.60s/it]"
     ]
    },
    {
     "name": "stdout",
     "output_type": "stream",
     "text": [
      "GCN loss on unlabled data: 0.6048306226730347\n",
      "GCN acc on unlabled data: 0.8332588287885561\n",
      "attack loss: 0.22526627779006958\n"
     ]
    },
    {
     "name": "stderr",
     "output_type": "stream",
     "text": [
      "Perturbing graph:   5%|▍         | 25/506 [01:08<20:49,  2.60s/it]"
     ]
    },
    {
     "name": "stdout",
     "output_type": "stream",
     "text": [
      "GCN loss on unlabled data: 0.5836317539215088\n",
      "GCN acc on unlabled data: 0.8270004470272687\n",
      "attack loss: 0.22729527950286865\n"
     ]
    },
    {
     "name": "stderr",
     "output_type": "stream",
     "text": [
      "Perturbing graph:   5%|▌         | 26/506 [01:10<20:56,  2.62s/it]"
     ]
    },
    {
     "name": "stdout",
     "output_type": "stream",
     "text": [
      "GCN loss on unlabled data: 0.5907363891601562\n",
      "GCN acc on unlabled data: 0.8292355833705856\n",
      "attack loss: 0.22581294178962708\n"
     ]
    },
    {
     "name": "stderr",
     "output_type": "stream",
     "text": [
      "Perturbing graph:   5%|▌         | 27/506 [01:13<20:56,  2.62s/it]"
     ]
    },
    {
     "name": "stdout",
     "output_type": "stream",
     "text": [
      "GCN loss on unlabled data: 0.5939639806747437\n",
      "GCN acc on unlabled data: 0.8319177469825659\n",
      "attack loss: 0.22876136004924774\n"
     ]
    },
    {
     "name": "stderr",
     "output_type": "stream",
     "text": [
      "Perturbing graph:   6%|▌         | 28/506 [01:15<20:46,  2.61s/it]"
     ]
    },
    {
     "name": "stdout",
     "output_type": "stream",
     "text": [
      "GCN loss on unlabled data: 0.591041088104248\n",
      "GCN acc on unlabled data: 0.83772910147519\n",
      "attack loss: 0.23450106382369995\n"
     ]
    },
    {
     "name": "stderr",
     "output_type": "stream",
     "text": [
      "Perturbing graph:   6%|▌         | 29/506 [01:18<20:44,  2.61s/it]"
     ]
    },
    {
     "name": "stdout",
     "output_type": "stream",
     "text": [
      "GCN loss on unlabled data: 0.5991467833518982\n",
      "GCN acc on unlabled data: 0.8310236924452392\n",
      "attack loss: 0.2289215624332428\n"
     ]
    },
    {
     "name": "stderr",
     "output_type": "stream",
     "text": [
      "Perturbing graph:   6%|▌         | 30/506 [01:21<20:40,  2.61s/it]"
     ]
    },
    {
     "name": "stdout",
     "output_type": "stream",
     "text": [
      "GCN loss on unlabled data: 0.5938095450401306\n",
      "GCN acc on unlabled data: 0.8323647742512293\n",
      "attack loss: 0.22764034569263458\n"
     ]
    },
    {
     "name": "stderr",
     "output_type": "stream",
     "text": [
      "Perturbing graph:   6%|▌         | 31/506 [01:24<21:25,  2.71s/it]"
     ]
    },
    {
     "name": "stdout",
     "output_type": "stream",
     "text": [
      "GCN loss on unlabled data: 0.6008453369140625\n",
      "GCN acc on unlabled data: 0.8359409924005364\n",
      "attack loss: 0.23671653866767883\n"
     ]
    },
    {
     "name": "stderr",
     "output_type": "stream",
     "text": [
      "Perturbing graph:   6%|▋         | 32/506 [01:26<21:16,  2.69s/it]"
     ]
    },
    {
     "name": "stdout",
     "output_type": "stream",
     "text": [
      "GCN loss on unlabled data: 0.6072155833244324\n",
      "GCN acc on unlabled data: 0.8278945015645954\n",
      "attack loss: 0.23951119184494019\n"
     ]
    },
    {
     "name": "stderr",
     "output_type": "stream",
     "text": [
      "Perturbing graph:   7%|▋         | 33/506 [01:29<20:58,  2.66s/it]"
     ]
    },
    {
     "name": "stdout",
     "output_type": "stream",
     "text": [
      "GCN loss on unlabled data: 0.6269831657409668\n",
      "GCN acc on unlabled data: 0.8381761287438534\n",
      "attack loss: 0.24163109064102173\n"
     ]
    },
    {
     "name": "stderr",
     "output_type": "stream",
     "text": [
      "Perturbing graph:   7%|▋         | 34/506 [01:31<20:52,  2.65s/it]"
     ]
    },
    {
     "name": "stdout",
     "output_type": "stream",
     "text": [
      "GCN loss on unlabled data: 0.6153525114059448\n",
      "GCN acc on unlabled data: 0.8372820742065266\n",
      "attack loss: 0.24600815773010254\n"
     ]
    },
    {
     "name": "stderr",
     "output_type": "stream",
     "text": [
      "Perturbing graph:   7%|▋         | 35/506 [01:34<20:51,  2.66s/it]"
     ]
    },
    {
     "name": "stdout",
     "output_type": "stream",
     "text": [
      "GCN loss on unlabled data: 0.6148011088371277\n",
      "GCN acc on unlabled data: 0.8359409924005364\n",
      "attack loss: 0.24101488292217255\n"
     ]
    },
    {
     "name": "stderr",
     "output_type": "stream",
     "text": [
      "Perturbing graph:   7%|▋         | 36/506 [01:37<21:18,  2.72s/it]"
     ]
    },
    {
     "name": "stdout",
     "output_type": "stream",
     "text": [
      "GCN loss on unlabled data: 0.6325217485427856\n",
      "GCN acc on unlabled data: 0.8238712561466249\n",
      "attack loss: 0.24617315828800201\n"
     ]
    },
    {
     "name": "stderr",
     "output_type": "stream",
     "text": [
      "Perturbing graph:   7%|▋         | 37/506 [01:40<20:51,  2.67s/it]"
     ]
    },
    {
     "name": "stdout",
     "output_type": "stream",
     "text": [
      "GCN loss on unlabled data: 0.6288985013961792\n",
      "GCN acc on unlabled data: 0.8270004470272687\n",
      "attack loss: 0.24380087852478027\n"
     ]
    },
    {
     "name": "stderr",
     "output_type": "stream",
     "text": [
      "Perturbing graph:   8%|▊         | 38/506 [01:42<20:33,  2.64s/it]"
     ]
    },
    {
     "name": "stdout",
     "output_type": "stream",
     "text": [
      "GCN loss on unlabled data: 0.6464119553565979\n",
      "GCN acc on unlabled data: 0.821636119803308\n",
      "attack loss: 0.25840383768081665\n"
     ]
    },
    {
     "name": "stderr",
     "output_type": "stream",
     "text": [
      "Perturbing graph:   8%|▊         | 39/506 [01:45<20:17,  2.61s/it]"
     ]
    },
    {
     "name": "stdout",
     "output_type": "stream",
     "text": [
      "GCN loss on unlabled data: 0.6295853853225708\n",
      "GCN acc on unlabled data: 0.8332588287885561\n",
      "attack loss: 0.24435816705226898\n"
     ]
    },
    {
     "name": "stderr",
     "output_type": "stream",
     "text": [
      "Perturbing graph:   8%|▊         | 40/506 [01:47<20:11,  2.60s/it]"
     ]
    },
    {
     "name": "stdout",
     "output_type": "stream",
     "text": [
      "GCN loss on unlabled data: 0.6240164041519165\n",
      "GCN acc on unlabled data: 0.8310236924452392\n",
      "attack loss: 0.2520105242729187\n"
     ]
    },
    {
     "name": "stderr",
     "output_type": "stream",
     "text": [
      "Perturbing graph:   8%|▊         | 41/506 [01:50<20:07,  2.60s/it]"
     ]
    },
    {
     "name": "stdout",
     "output_type": "stream",
     "text": [
      "GCN loss on unlabled data: 0.6434299945831299\n",
      "GCN acc on unlabled data: 0.8247653106839518\n",
      "attack loss: 0.2539003789424896\n"
     ]
    },
    {
     "name": "stderr",
     "output_type": "stream",
     "text": [
      "Perturbing graph:   8%|▊         | 42/506 [01:52<19:56,  2.58s/it]"
     ]
    },
    {
     "name": "stdout",
     "output_type": "stream",
     "text": [
      "GCN loss on unlabled data: 0.6272873282432556\n",
      "GCN acc on unlabled data: 0.829682610639249\n",
      "attack loss: 0.25552549958229065\n"
     ]
    },
    {
     "name": "stderr",
     "output_type": "stream",
     "text": [
      "Perturbing graph:   8%|▊         | 43/506 [01:55<19:57,  2.59s/it]"
     ]
    },
    {
     "name": "stdout",
     "output_type": "stream",
     "text": [
      "GCN loss on unlabled data: 0.6436965465545654\n",
      "GCN acc on unlabled data: 0.8265534197586053\n",
      "attack loss: 0.26249831914901733\n"
     ]
    },
    {
     "name": "stderr",
     "output_type": "stream",
     "text": [
      "Perturbing graph:   9%|▊         | 44/506 [01:58<19:52,  2.58s/it]"
     ]
    },
    {
     "name": "stdout",
     "output_type": "stream",
     "text": [
      "GCN loss on unlabled data: 0.6460981369018555\n",
      "GCN acc on unlabled data: 0.8287885561019223\n",
      "attack loss: 0.2571506202220917\n"
     ]
    },
    {
     "name": "stderr",
     "output_type": "stream",
     "text": [
      "Perturbing graph:   9%|▉         | 45/506 [02:00<19:51,  2.58s/it]"
     ]
    },
    {
     "name": "stdout",
     "output_type": "stream",
     "text": [
      "GCN loss on unlabled data: 0.666860044002533\n",
      "GCN acc on unlabled data: 0.8270004470272687\n",
      "attack loss: 0.2631286382675171\n"
     ]
    },
    {
     "name": "stderr",
     "output_type": "stream",
     "text": [
      "Perturbing graph:   9%|▉         | 46/506 [02:03<19:51,  2.59s/it]"
     ]
    },
    {
     "name": "stdout",
     "output_type": "stream",
     "text": [
      "GCN loss on unlabled data: 0.6650511622428894\n",
      "GCN acc on unlabled data: 0.8252123379526151\n",
      "attack loss: 0.2627691626548767\n"
     ]
    },
    {
     "name": "stderr",
     "output_type": "stream",
     "text": [
      "Perturbing graph:   9%|▉         | 47/506 [02:05<19:51,  2.60s/it]"
     ]
    },
    {
     "name": "stdout",
     "output_type": "stream",
     "text": [
      "GCN loss on unlabled data: 0.6597200036048889\n",
      "GCN acc on unlabled data: 0.8270004470272687\n",
      "attack loss: 0.2650955021381378\n"
     ]
    },
    {
     "name": "stderr",
     "output_type": "stream",
     "text": [
      "Perturbing graph:   9%|▉         | 48/506 [02:08<19:46,  2.59s/it]"
     ]
    },
    {
     "name": "stdout",
     "output_type": "stream",
     "text": [
      "GCN loss on unlabled data: 0.6741067171096802\n",
      "GCN acc on unlabled data: 0.8256593652212785\n",
      "attack loss: 0.2672223746776581\n"
     ]
    },
    {
     "name": "stderr",
     "output_type": "stream",
     "text": [
      "Perturbing graph:  10%|▉         | 49/506 [02:10<19:43,  2.59s/it]"
     ]
    },
    {
     "name": "stdout",
     "output_type": "stream",
     "text": [
      "GCN loss on unlabled data: 0.671385645866394\n",
      "GCN acc on unlabled data: 0.8243182834152883\n",
      "attack loss: 0.27211496233940125\n"
     ]
    },
    {
     "name": "stderr",
     "output_type": "stream",
     "text": [
      "Perturbing graph:  10%|▉         | 50/506 [02:13<19:39,  2.59s/it]"
     ]
    },
    {
     "name": "stdout",
     "output_type": "stream",
     "text": [
      "GCN loss on unlabled data: 0.684244692325592\n",
      "GCN acc on unlabled data: 0.821636119803308\n",
      "attack loss: 0.2717406451702118\n"
     ]
    },
    {
     "name": "stderr",
     "output_type": "stream",
     "text": [
      "Perturbing graph:  10%|█         | 51/506 [02:16<19:38,  2.59s/it]"
     ]
    },
    {
     "name": "stdout",
     "output_type": "stream",
     "text": [
      "GCN loss on unlabled data: 0.6806634068489075\n",
      "GCN acc on unlabled data: 0.8247653106839518\n",
      "attack loss: 0.2763758599758148\n"
     ]
    },
    {
     "name": "stderr",
     "output_type": "stream",
     "text": [
      "Perturbing graph:  10%|█         | 52/506 [02:18<19:45,  2.61s/it]"
     ]
    },
    {
     "name": "stdout",
     "output_type": "stream",
     "text": [
      "GCN loss on unlabled data: 0.7023605704307556\n",
      "GCN acc on unlabled data: 0.8176128743853375\n",
      "attack loss: 0.27953585982322693\n"
     ]
    },
    {
     "name": "stderr",
     "output_type": "stream",
     "text": [
      "Perturbing graph:  10%|█         | 53/506 [02:21<19:48,  2.62s/it]"
     ]
    },
    {
     "name": "stdout",
     "output_type": "stream",
     "text": [
      "GCN loss on unlabled data: 0.7073460817337036\n",
      "GCN acc on unlabled data: 0.8198480107286544\n",
      "attack loss: 0.2867942452430725\n"
     ]
    },
    {
     "name": "stderr",
     "output_type": "stream",
     "text": [
      "Perturbing graph:  11%|█         | 54/506 [02:24<20:02,  2.66s/it]"
     ]
    },
    {
     "name": "stdout",
     "output_type": "stream",
     "text": [
      "GCN loss on unlabled data: 0.6811158657073975\n",
      "GCN acc on unlabled data: 0.8247653106839518\n",
      "attack loss: 0.2789311707019806\n"
     ]
    },
    {
     "name": "stderr",
     "output_type": "stream",
     "text": [
      "Perturbing graph:  11%|█         | 55/506 [02:26<19:50,  2.64s/it]"
     ]
    },
    {
     "name": "stdout",
     "output_type": "stream",
     "text": [
      "GCN loss on unlabled data: 0.7103998064994812\n",
      "GCN acc on unlabled data: 0.8207420652659813\n",
      "attack loss: 0.28807055950164795\n"
     ]
    },
    {
     "name": "stderr",
     "output_type": "stream",
     "text": [
      "Perturbing graph:  11%|█         | 56/506 [02:29<19:39,  2.62s/it]"
     ]
    },
    {
     "name": "stdout",
     "output_type": "stream",
     "text": [
      "GCN loss on unlabled data: 0.7134568691253662\n",
      "GCN acc on unlabled data: 0.8126955744300403\n",
      "attack loss: 0.2885377109050751\n"
     ]
    },
    {
     "name": "stderr",
     "output_type": "stream",
     "text": [
      "Perturbing graph:  11%|█▏        | 57/506 [02:31<19:31,  2.61s/it]"
     ]
    },
    {
     "name": "stdout",
     "output_type": "stream",
     "text": [
      "GCN loss on unlabled data: 0.6960727572441101\n",
      "GCN acc on unlabled data: 0.8189539561913277\n",
      "attack loss: 0.28100115060806274\n"
     ]
    },
    {
     "name": "stderr",
     "output_type": "stream",
     "text": [
      "Perturbing graph:  11%|█▏        | 58/506 [02:34<19:39,  2.63s/it]"
     ]
    },
    {
     "name": "stdout",
     "output_type": "stream",
     "text": [
      "GCN loss on unlabled data: 0.7174316644668579\n",
      "GCN acc on unlabled data: 0.8167188198480108\n",
      "attack loss: 0.2973341643810272\n"
     ]
    },
    {
     "name": "stderr",
     "output_type": "stream",
     "text": [
      "Perturbing graph:  12%|█▏        | 59/506 [02:37<19:37,  2.63s/it]"
     ]
    },
    {
     "name": "stdout",
     "output_type": "stream",
     "text": [
      "GCN loss on unlabled data: 0.7194578051567078\n",
      "GCN acc on unlabled data: 0.8122485471613768\n",
      "attack loss: 0.29650384187698364\n"
     ]
    },
    {
     "name": "stderr",
     "output_type": "stream",
     "text": [
      "Perturbing graph:  12%|█▏        | 60/506 [02:39<19:28,  2.62s/it]"
     ]
    },
    {
     "name": "stdout",
     "output_type": "stream",
     "text": [
      "GCN loss on unlabled data: 0.7247615456581116\n",
      "GCN acc on unlabled data: 0.8104604380867233\n",
      "attack loss: 0.2915196120738983\n"
     ]
    },
    {
     "name": "stderr",
     "output_type": "stream",
     "text": [
      "Perturbing graph:  12%|█▏        | 61/506 [02:42<19:11,  2.59s/it]"
     ]
    },
    {
     "name": "stdout",
     "output_type": "stream",
     "text": [
      "GCN loss on unlabled data: 0.7247959971427917\n",
      "GCN acc on unlabled data: 0.8158247653106839\n",
      "attack loss: 0.2964724600315094\n"
     ]
    },
    {
     "name": "stderr",
     "output_type": "stream",
     "text": [
      "Perturbing graph:  12%|█▏        | 62/506 [02:44<18:59,  2.57s/it]"
     ]
    },
    {
     "name": "stdout",
     "output_type": "stream",
     "text": [
      "GCN loss on unlabled data: 0.7191091179847717\n",
      "GCN acc on unlabled data: 0.8149307107733572\n",
      "attack loss: 0.290846049785614\n"
     ]
    },
    {
     "name": "stderr",
     "output_type": "stream",
     "text": [
      "Perturbing graph:  12%|█▏        | 63/506 [02:47<18:50,  2.55s/it]"
     ]
    },
    {
     "name": "stdout",
     "output_type": "stream",
     "text": [
      "GCN loss on unlabled data: 0.7176967263221741\n",
      "GCN acc on unlabled data: 0.8198480107286544\n",
      "attack loss: 0.2947532832622528\n"
     ]
    },
    {
     "name": "stderr",
     "output_type": "stream",
     "text": [
      "Perturbing graph:  13%|█▎        | 64/506 [02:49<18:42,  2.54s/it]"
     ]
    },
    {
     "name": "stdout",
     "output_type": "stream",
     "text": [
      "GCN loss on unlabled data: 0.7357590794563293\n",
      "GCN acc on unlabled data: 0.8158247653106839\n",
      "attack loss: 0.30318933725357056\n"
     ]
    },
    {
     "name": "stderr",
     "output_type": "stream",
     "text": [
      "Perturbing graph:  13%|█▎        | 65/506 [02:52<18:38,  2.54s/it]"
     ]
    },
    {
     "name": "stdout",
     "output_type": "stream",
     "text": [
      "GCN loss on unlabled data: 0.7563568353652954\n",
      "GCN acc on unlabled data: 0.8109074653553867\n",
      "attack loss: 0.30729982256889343\n"
     ]
    },
    {
     "name": "stderr",
     "output_type": "stream",
     "text": [
      "Perturbing graph:  13%|█▎        | 66/506 [02:55<18:36,  2.54s/it]"
     ]
    },
    {
     "name": "stdout",
     "output_type": "stream",
     "text": [
      "GCN loss on unlabled data: 0.755005419254303\n",
      "GCN acc on unlabled data: 0.8126955744300403\n",
      "attack loss: 0.3070068359375\n"
     ]
    },
    {
     "name": "stderr",
     "output_type": "stream",
     "text": [
      "Perturbing graph:  13%|█▎        | 67/506 [02:57<18:39,  2.55s/it]"
     ]
    },
    {
     "name": "stdout",
     "output_type": "stream",
     "text": [
      "GCN loss on unlabled data: 0.7401573061943054\n",
      "GCN acc on unlabled data: 0.8109074653553867\n",
      "attack loss: 0.3008350133895874\n"
     ]
    },
    {
     "name": "stderr",
     "output_type": "stream",
     "text": [
      "Perturbing graph:  13%|█▎        | 68/506 [03:00<18:34,  2.54s/it]"
     ]
    },
    {
     "name": "stdout",
     "output_type": "stream",
     "text": [
      "GCN loss on unlabled data: 0.7612087726593018\n",
      "GCN acc on unlabled data: 0.8118015198927134\n",
      "attack loss: 0.3211982548236847\n"
     ]
    },
    {
     "name": "stderr",
     "output_type": "stream",
     "text": [
      "Perturbing graph:  14%|█▎        | 69/506 [03:02<18:29,  2.54s/it]"
     ]
    },
    {
     "name": "stdout",
     "output_type": "stream",
     "text": [
      "GCN loss on unlabled data: 0.7439091801643372\n",
      "GCN acc on unlabled data: 0.8189539561913277\n",
      "attack loss: 0.31229597330093384\n"
     ]
    },
    {
     "name": "stderr",
     "output_type": "stream",
     "text": [
      "Perturbing graph:  14%|█▍        | 70/506 [03:05<18:27,  2.54s/it]"
     ]
    },
    {
     "name": "stdout",
     "output_type": "stream",
     "text": [
      "GCN loss on unlabled data: 0.7561845779418945\n",
      "GCN acc on unlabled data: 0.8082253017434063\n",
      "attack loss: 0.3180287182331085\n"
     ]
    },
    {
     "name": "stderr",
     "output_type": "stream",
     "text": [
      "Perturbing graph:  14%|█▍        | 71/506 [03:07<18:27,  2.55s/it]"
     ]
    },
    {
     "name": "stdout",
     "output_type": "stream",
     "text": [
      "GCN loss on unlabled data: 0.76817786693573\n",
      "GCN acc on unlabled data: 0.8095663835493965\n",
      "attack loss: 0.32172343134880066\n"
     ]
    },
    {
     "name": "stderr",
     "output_type": "stream",
     "text": [
      "Perturbing graph:  14%|█▍        | 72/506 [03:10<18:23,  2.54s/it]"
     ]
    },
    {
     "name": "stdout",
     "output_type": "stream",
     "text": [
      "GCN loss on unlabled data: 0.7726889848709106\n",
      "GCN acc on unlabled data: 0.8109074653553867\n",
      "attack loss: 0.323141872882843\n"
     ]
    },
    {
     "name": "stderr",
     "output_type": "stream",
     "text": [
      "Perturbing graph:  14%|█▍        | 73/506 [03:12<18:22,  2.55s/it]"
     ]
    },
    {
     "name": "stdout",
     "output_type": "stream",
     "text": [
      "GCN loss on unlabled data: 0.7317177653312683\n",
      "GCN acc on unlabled data: 0.8131426016987037\n",
      "attack loss: 0.30233657360076904\n"
     ]
    },
    {
     "name": "stderr",
     "output_type": "stream",
     "text": [
      "Perturbing graph:  15%|█▍        | 74/506 [03:15<18:19,  2.55s/it]"
     ]
    },
    {
     "name": "stdout",
     "output_type": "stream",
     "text": [
      "GCN loss on unlabled data: 0.7780003547668457\n",
      "GCN acc on unlabled data: 0.8095663835493965\n",
      "attack loss: 0.32172563672065735\n"
     ]
    },
    {
     "name": "stderr",
     "output_type": "stream",
     "text": [
      "Perturbing graph:  15%|█▍        | 75/506 [03:17<18:14,  2.54s/it]"
     ]
    },
    {
     "name": "stdout",
     "output_type": "stream",
     "text": [
      "GCN loss on unlabled data: 0.7716954350471497\n",
      "GCN acc on unlabled data: 0.8086723290120698\n",
      "attack loss: 0.3212401866912842\n"
     ]
    },
    {
     "name": "stderr",
     "output_type": "stream",
     "text": [
      "Perturbing graph:  15%|█▌        | 76/506 [03:20<18:09,  2.53s/it]"
     ]
    },
    {
     "name": "stdout",
     "output_type": "stream",
     "text": [
      "GCN loss on unlabled data: 0.7717350125312805\n",
      "GCN acc on unlabled data: 0.8122485471613768\n",
      "attack loss: 0.3216165006160736\n"
     ]
    },
    {
     "name": "stderr",
     "output_type": "stream",
     "text": [
      "Perturbing graph:  15%|█▌        | 77/506 [03:22<18:05,  2.53s/it]"
     ]
    },
    {
     "name": "stdout",
     "output_type": "stream",
     "text": [
      "GCN loss on unlabled data: 0.7722553014755249\n",
      "GCN acc on unlabled data: 0.8082253017434063\n",
      "attack loss: 0.3230992555618286\n"
     ]
    },
    {
     "name": "stderr",
     "output_type": "stream",
     "text": [
      "Perturbing graph:  15%|█▌        | 78/506 [03:25<18:06,  2.54s/it]"
     ]
    },
    {
     "name": "stdout",
     "output_type": "stream",
     "text": [
      "GCN loss on unlabled data: 0.7759036421775818\n",
      "GCN acc on unlabled data: 0.8100134108180599\n",
      "attack loss: 0.32023924589157104\n"
     ]
    },
    {
     "name": "stderr",
     "output_type": "stream",
     "text": [
      "Perturbing graph:  16%|█▌        | 79/506 [03:28<18:02,  2.53s/it]"
     ]
    },
    {
     "name": "stdout",
     "output_type": "stream",
     "text": [
      "GCN loss on unlabled data: 0.7784839868545532\n",
      "GCN acc on unlabled data: 0.8015198927134555\n",
      "attack loss: 0.3268267810344696\n"
     ]
    },
    {
     "name": "stderr",
     "output_type": "stream",
     "text": [
      "Perturbing graph:  16%|█▌        | 80/506 [03:30<17:59,  2.53s/it]"
     ]
    },
    {
     "name": "stdout",
     "output_type": "stream",
     "text": [
      "GCN loss on unlabled data: 0.7823827862739563\n",
      "GCN acc on unlabled data: 0.8082253017434063\n",
      "attack loss: 0.32630106806755066\n"
     ]
    },
    {
     "name": "stderr",
     "output_type": "stream",
     "text": [
      "Perturbing graph:  16%|█▌        | 81/506 [03:33<17:54,  2.53s/it]"
     ]
    },
    {
     "name": "stdout",
     "output_type": "stream",
     "text": [
      "GCN loss on unlabled data: 0.7741664052009583\n",
      "GCN acc on unlabled data: 0.8073312472060795\n",
      "attack loss: 0.3247165083885193\n"
     ]
    },
    {
     "name": "stderr",
     "output_type": "stream",
     "text": [
      "Perturbing graph:  16%|█▌        | 82/506 [03:35<17:53,  2.53s/it]"
     ]
    },
    {
     "name": "stdout",
     "output_type": "stream",
     "text": [
      "GCN loss on unlabled data: 0.805701732635498\n",
      "GCN acc on unlabled data: 0.8001788109074653\n",
      "attack loss: 0.340000718832016\n"
     ]
    },
    {
     "name": "stderr",
     "output_type": "stream",
     "text": [
      "Perturbing graph:  16%|█▋        | 83/506 [03:38<17:49,  2.53s/it]"
     ]
    },
    {
     "name": "stdout",
     "output_type": "stream",
     "text": [
      "GCN loss on unlabled data: 0.8282014727592468\n",
      "GCN acc on unlabled data: 0.8010728654447922\n",
      "attack loss: 0.34593385457992554\n"
     ]
    },
    {
     "name": "stderr",
     "output_type": "stream",
     "text": [
      "Perturbing graph:  17%|█▋        | 84/506 [03:40<17:40,  2.51s/it]"
     ]
    },
    {
     "name": "stdout",
     "output_type": "stream",
     "text": [
      "GCN loss on unlabled data: 0.799976110458374\n",
      "GCN acc on unlabled data: 0.8064371926687528\n",
      "attack loss: 0.3385278880596161\n"
     ]
    },
    {
     "name": "stderr",
     "output_type": "stream",
     "text": [
      "Perturbing graph:  17%|█▋        | 85/506 [03:43<17:40,  2.52s/it]"
     ]
    },
    {
     "name": "stdout",
     "output_type": "stream",
     "text": [
      "GCN loss on unlabled data: 0.8221608996391296\n",
      "GCN acc on unlabled data: 0.7988377291014752\n",
      "attack loss: 0.3410528600215912\n"
     ]
    },
    {
     "name": "stderr",
     "output_type": "stream",
     "text": [
      "Perturbing graph:  17%|█▋        | 86/506 [03:45<17:49,  2.55s/it]"
     ]
    },
    {
     "name": "stdout",
     "output_type": "stream",
     "text": [
      "GCN loss on unlabled data: 0.8136196732521057\n",
      "GCN acc on unlabled data: 0.8010728654447922\n",
      "attack loss: 0.34323614835739136\n"
     ]
    },
    {
     "name": "stderr",
     "output_type": "stream",
     "text": [
      "Perturbing graph:  17%|█▋        | 87/506 [03:48<17:47,  2.55s/it]"
     ]
    },
    {
     "name": "stdout",
     "output_type": "stream",
     "text": [
      "GCN loss on unlabled data: 0.8209586143493652\n",
      "GCN acc on unlabled data: 0.7983907018328118\n",
      "attack loss: 0.3459145426750183\n"
     ]
    },
    {
     "name": "stderr",
     "output_type": "stream",
     "text": [
      "Perturbing graph:  17%|█▋        | 88/506 [03:50<17:42,  2.54s/it]"
     ]
    },
    {
     "name": "stdout",
     "output_type": "stream",
     "text": [
      "GCN loss on unlabled data: 0.8092781901359558\n",
      "GCN acc on unlabled data: 0.8015198927134555\n",
      "attack loss: 0.34389808773994446\n"
     ]
    },
    {
     "name": "stderr",
     "output_type": "stream",
     "text": [
      "Perturbing graph:  18%|█▊        | 89/506 [03:53<17:37,  2.54s/it]"
     ]
    },
    {
     "name": "stdout",
     "output_type": "stream",
     "text": [
      "GCN loss on unlabled data: 0.821347177028656\n",
      "GCN acc on unlabled data: 0.7921323200715243\n",
      "attack loss: 0.34802207350730896\n"
     ]
    },
    {
     "name": "stderr",
     "output_type": "stream",
     "text": [
      "Perturbing graph:  18%|█▊        | 90/506 [03:55<17:33,  2.53s/it]"
     ]
    },
    {
     "name": "stdout",
     "output_type": "stream",
     "text": [
      "GCN loss on unlabled data: 0.8135731220245361\n",
      "GCN acc on unlabled data: 0.8015198927134555\n",
      "attack loss: 0.34896308183670044\n"
     ]
    },
    {
     "name": "stderr",
     "output_type": "stream",
     "text": [
      "Perturbing graph:  18%|█▊        | 91/506 [03:58<17:34,  2.54s/it]"
     ]
    },
    {
     "name": "stdout",
     "output_type": "stream",
     "text": [
      "GCN loss on unlabled data: 0.8419560194015503\n",
      "GCN acc on unlabled data: 0.8006258381761288\n",
      "attack loss: 0.35968920588493347\n"
     ]
    },
    {
     "name": "stderr",
     "output_type": "stream",
     "text": [
      "Perturbing graph:  18%|█▊        | 92/506 [04:00<17:27,  2.53s/it]"
     ]
    },
    {
     "name": "stdout",
     "output_type": "stream",
     "text": [
      "GCN loss on unlabled data: 0.8516452312469482\n",
      "GCN acc on unlabled data: 0.7894501564595441\n",
      "attack loss: 0.3613746762275696\n"
     ]
    },
    {
     "name": "stderr",
     "output_type": "stream",
     "text": [
      "Perturbing graph:  18%|█▊        | 93/506 [04:03<17:24,  2.53s/it]"
     ]
    },
    {
     "name": "stdout",
     "output_type": "stream",
     "text": [
      "GCN loss on unlabled data: 0.8280919790267944\n",
      "GCN acc on unlabled data: 0.7925793473401878\n",
      "attack loss: 0.3522971272468567\n"
     ]
    },
    {
     "name": "stderr",
     "output_type": "stream",
     "text": [
      "Perturbing graph:  19%|█▊        | 94/506 [04:06<17:28,  2.54s/it]"
     ]
    },
    {
     "name": "stdout",
     "output_type": "stream",
     "text": [
      "GCN loss on unlabled data: 0.8323637247085571\n",
      "GCN acc on unlabled data: 0.7979436745641484\n",
      "attack loss: 0.35300785303115845\n"
     ]
    },
    {
     "name": "stderr",
     "output_type": "stream",
     "text": [
      "Perturbing graph:  19%|█▉        | 95/506 [04:08<17:21,  2.53s/it]"
     ]
    },
    {
     "name": "stdout",
     "output_type": "stream",
     "text": [
      "GCN loss on unlabled data: 0.824251115322113\n",
      "GCN acc on unlabled data: 0.7992847563701386\n",
      "attack loss: 0.3590228259563446\n"
     ]
    },
    {
     "name": "stderr",
     "output_type": "stream",
     "text": [
      "Perturbing graph:  19%|█▉        | 96/506 [04:11<17:19,  2.54s/it]"
     ]
    },
    {
     "name": "stdout",
     "output_type": "stream",
     "text": [
      "GCN loss on unlabled data: 0.8476228713989258\n",
      "GCN acc on unlabled data: 0.7943674564148413\n",
      "attack loss: 0.356069952249527\n"
     ]
    },
    {
     "name": "stderr",
     "output_type": "stream",
     "text": [
      "Perturbing graph:  19%|█▉        | 97/506 [04:13<17:19,  2.54s/it]"
     ]
    },
    {
     "name": "stdout",
     "output_type": "stream",
     "text": [
      "GCN loss on unlabled data: 0.8417407274246216\n",
      "GCN acc on unlabled data: 0.7957085382208314\n",
      "attack loss: 0.37132948637008667\n"
     ]
    },
    {
     "name": "stderr",
     "output_type": "stream",
     "text": [
      "Perturbing graph:  19%|█▉        | 98/506 [04:16<17:20,  2.55s/it]"
     ]
    },
    {
     "name": "stdout",
     "output_type": "stream",
     "text": [
      "GCN loss on unlabled data: 0.8693969249725342\n",
      "GCN acc on unlabled data: 0.7890031291908807\n",
      "attack loss: 0.3754710257053375\n"
     ]
    },
    {
     "name": "stderr",
     "output_type": "stream",
     "text": [
      "Perturbing graph:  20%|█▉        | 99/506 [04:18<17:17,  2.55s/it]"
     ]
    },
    {
     "name": "stdout",
     "output_type": "stream",
     "text": [
      "GCN loss on unlabled data: 0.8371812701225281\n",
      "GCN acc on unlabled data: 0.7970496200268217\n",
      "attack loss: 0.3575129806995392\n"
     ]
    },
    {
     "name": "stderr",
     "output_type": "stream",
     "text": [
      "Perturbing graph:  20%|█▉        | 100/506 [04:21<17:13,  2.55s/it]"
     ]
    },
    {
     "name": "stdout",
     "output_type": "stream",
     "text": [
      "GCN loss on unlabled data: 0.8830962181091309\n",
      "GCN acc on unlabled data: 0.7863209655789003\n",
      "attack loss: 0.37437212467193604\n"
     ]
    },
    {
     "name": "stderr",
     "output_type": "stream",
     "text": [
      "Perturbing graph:  20%|█▉        | 101/506 [04:23<17:19,  2.57s/it]"
     ]
    },
    {
     "name": "stdout",
     "output_type": "stream",
     "text": [
      "GCN loss on unlabled data: 0.8587225079536438\n",
      "GCN acc on unlabled data: 0.7934734018775146\n",
      "attack loss: 0.36778122186660767\n"
     ]
    },
    {
     "name": "stderr",
     "output_type": "stream",
     "text": [
      "Perturbing graph:  20%|██        | 102/506 [04:26<17:17,  2.57s/it]"
     ]
    },
    {
     "name": "stdout",
     "output_type": "stream",
     "text": [
      "GCN loss on unlabled data: 0.8828653693199158\n",
      "GCN acc on unlabled data: 0.7858739383102369\n",
      "attack loss: 0.3773723542690277\n"
     ]
    },
    {
     "name": "stderr",
     "output_type": "stream",
     "text": [
      "Perturbing graph:  20%|██        | 103/506 [04:29<17:06,  2.55s/it]"
     ]
    },
    {
     "name": "stdout",
     "output_type": "stream",
     "text": [
      "GCN loss on unlabled data: 0.8462104797363281\n",
      "GCN acc on unlabled data: 0.7907912382655342\n",
      "attack loss: 0.36541128158569336\n"
     ]
    },
    {
     "name": "stderr",
     "output_type": "stream",
     "text": [
      "Perturbing graph:  21%|██        | 104/506 [04:31<17:01,  2.54s/it]"
     ]
    },
    {
     "name": "stdout",
     "output_type": "stream",
     "text": [
      "GCN loss on unlabled data: 0.8780052661895752\n",
      "GCN acc on unlabled data: 0.7863209655789003\n",
      "attack loss: 0.3780399560928345\n"
     ]
    },
    {
     "name": "stderr",
     "output_type": "stream",
     "text": [
      "Perturbing graph:  21%|██        | 105/506 [04:34<16:56,  2.53s/it]"
     ]
    },
    {
     "name": "stdout",
     "output_type": "stream",
     "text": [
      "GCN loss on unlabled data: 0.8790231943130493\n",
      "GCN acc on unlabled data: 0.7881090746535538\n",
      "attack loss: 0.37650322914123535\n"
     ]
    },
    {
     "name": "stderr",
     "output_type": "stream",
     "text": [
      "Perturbing graph:  21%|██        | 106/506 [04:36<16:53,  2.53s/it]"
     ]
    },
    {
     "name": "stdout",
     "output_type": "stream",
     "text": [
      "GCN loss on unlabled data: 0.8733130693435669\n",
      "GCN acc on unlabled data: 0.7863209655789003\n",
      "attack loss: 0.3762115240097046\n"
     ]
    },
    {
     "name": "stderr",
     "output_type": "stream",
     "text": [
      "Perturbing graph:  21%|██        | 107/506 [04:39<16:48,  2.53s/it]"
     ]
    },
    {
     "name": "stdout",
     "output_type": "stream",
     "text": [
      "GCN loss on unlabled data: 0.8846848607063293\n",
      "GCN acc on unlabled data: 0.7867679928475637\n",
      "attack loss: 0.37653806805610657\n"
     ]
    },
    {
     "name": "stderr",
     "output_type": "stream",
     "text": [
      "Perturbing graph:  21%|██▏       | 108/506 [04:41<16:44,  2.52s/it]"
     ]
    },
    {
     "name": "stdout",
     "output_type": "stream",
     "text": [
      "GCN loss on unlabled data: 0.8723030686378479\n",
      "GCN acc on unlabled data: 0.7831917746982566\n",
      "attack loss: 0.37523093819618225\n"
     ]
    },
    {
     "name": "stderr",
     "output_type": "stream",
     "text": [
      "Perturbing graph:  22%|██▏       | 109/506 [04:44<16:44,  2.53s/it]"
     ]
    },
    {
     "name": "stdout",
     "output_type": "stream",
     "text": [
      "GCN loss on unlabled data: 0.8894189596176147\n",
      "GCN acc on unlabled data: 0.7881090746535538\n",
      "attack loss: 0.3864361047744751\n"
     ]
    },
    {
     "name": "stderr",
     "output_type": "stream",
     "text": [
      "Perturbing graph:  22%|██▏       | 110/506 [04:46<16:49,  2.55s/it]"
     ]
    },
    {
     "name": "stdout",
     "output_type": "stream",
     "text": [
      "GCN loss on unlabled data: 0.9035977125167847\n",
      "GCN acc on unlabled data: 0.7836388019669199\n",
      "attack loss: 0.38791900873184204\n"
     ]
    },
    {
     "name": "stderr",
     "output_type": "stream",
     "text": [
      "Perturbing graph:  22%|██▏       | 111/506 [04:49<16:39,  2.53s/it]"
     ]
    },
    {
     "name": "stdout",
     "output_type": "stream",
     "text": [
      "GCN loss on unlabled data: 0.912553608417511\n",
      "GCN acc on unlabled data: 0.7814036656236031\n",
      "attack loss: 0.38951724767684937\n"
     ]
    },
    {
     "name": "stderr",
     "output_type": "stream",
     "text": [
      "Perturbing graph:  22%|██▏       | 112/506 [04:51<16:30,  2.51s/it]"
     ]
    },
    {
     "name": "stdout",
     "output_type": "stream",
     "text": [
      "GCN loss on unlabled data: 0.9133259057998657\n",
      "GCN acc on unlabled data: 0.7858739383102369\n",
      "attack loss: 0.39165547490119934\n"
     ]
    },
    {
     "name": "stderr",
     "output_type": "stream",
     "text": [
      "Perturbing graph:  22%|██▏       | 113/506 [04:54<16:25,  2.51s/it]"
     ]
    },
    {
     "name": "stdout",
     "output_type": "stream",
     "text": [
      "GCN loss on unlabled data: 0.9058302640914917\n",
      "GCN acc on unlabled data: 0.7822977201609298\n",
      "attack loss: 0.3879890441894531\n"
     ]
    },
    {
     "name": "stderr",
     "output_type": "stream",
     "text": [
      "Perturbing graph:  23%|██▎       | 114/506 [04:56<16:31,  2.53s/it]"
     ]
    },
    {
     "name": "stdout",
     "output_type": "stream",
     "text": [
      "GCN loss on unlabled data: 0.8867063522338867\n",
      "GCN acc on unlabled data: 0.7854269110415736\n",
      "attack loss: 0.3808830976486206\n"
     ]
    },
    {
     "name": "stderr",
     "output_type": "stream",
     "text": [
      "Perturbing graph:  23%|██▎       | 115/506 [04:59<16:26,  2.52s/it]"
     ]
    },
    {
     "name": "stdout",
     "output_type": "stream",
     "text": [
      "GCN loss on unlabled data: 0.9097633957862854\n",
      "GCN acc on unlabled data: 0.7818506928922664\n",
      "attack loss: 0.39074864983558655\n"
     ]
    },
    {
     "name": "stderr",
     "output_type": "stream",
     "text": [
      "Perturbing graph:  23%|██▎       | 116/506 [05:01<16:20,  2.52s/it]"
     ]
    },
    {
     "name": "stdout",
     "output_type": "stream",
     "text": [
      "GCN loss on unlabled data: 0.9243956208229065\n",
      "GCN acc on unlabled data: 0.7729101475189987\n",
      "attack loss: 0.3977855443954468\n"
     ]
    },
    {
     "name": "stderr",
     "output_type": "stream",
     "text": [
      "Perturbing graph:  23%|██▎       | 117/506 [05:04<16:15,  2.51s/it]"
     ]
    },
    {
     "name": "stdout",
     "output_type": "stream",
     "text": [
      "GCN loss on unlabled data: 0.9186148643493652\n",
      "GCN acc on unlabled data: 0.7746982565936522\n",
      "attack loss: 0.3968907594680786\n"
     ]
    },
    {
     "name": "stderr",
     "output_type": "stream",
     "text": [
      "Perturbing graph:  23%|██▎       | 118/506 [05:06<16:13,  2.51s/it]"
     ]
    },
    {
     "name": "stdout",
     "output_type": "stream",
     "text": [
      "GCN loss on unlabled data: 0.9562486410140991\n",
      "GCN acc on unlabled data: 0.7729101475189987\n",
      "attack loss: 0.4076642394065857\n"
     ]
    },
    {
     "name": "stderr",
     "output_type": "stream",
     "text": [
      "Perturbing graph:  24%|██▎       | 119/506 [05:09<16:07,  2.50s/it]"
     ]
    },
    {
     "name": "stdout",
     "output_type": "stream",
     "text": [
      "GCN loss on unlabled data: 0.9378238916397095\n",
      "GCN acc on unlabled data: 0.7738042020563254\n",
      "attack loss: 0.40591248869895935\n"
     ]
    },
    {
     "name": "stderr",
     "output_type": "stream",
     "text": [
      "Perturbing graph:  24%|██▎       | 120/506 [05:11<16:03,  2.50s/it]"
     ]
    },
    {
     "name": "stdout",
     "output_type": "stream",
     "text": [
      "GCN loss on unlabled data: 0.9657153487205505\n",
      "GCN acc on unlabled data: 0.7630755476084041\n",
      "attack loss: 0.42074644565582275\n"
     ]
    },
    {
     "name": "stderr",
     "output_type": "stream",
     "text": [
      "Perturbing graph:  24%|██▍       | 121/506 [05:14<16:00,  2.49s/it]"
     ]
    },
    {
     "name": "stdout",
     "output_type": "stream",
     "text": [
      "GCN loss on unlabled data: 0.9473897218704224\n",
      "GCN acc on unlabled data: 0.7697809566383549\n",
      "attack loss: 0.41121089458465576\n"
     ]
    },
    {
     "name": "stderr",
     "output_type": "stream",
     "text": [
      "Perturbing graph:  24%|██▍       | 122/506 [05:16<16:04,  2.51s/it]"
     ]
    },
    {
     "name": "stdout",
     "output_type": "stream",
     "text": [
      "GCN loss on unlabled data: 0.9708934426307678\n",
      "GCN acc on unlabled data: 0.7764863656683058\n",
      "attack loss: 0.42344945669174194\n"
     ]
    },
    {
     "name": "stderr",
     "output_type": "stream",
     "text": [
      "Perturbing graph:  24%|██▍       | 123/506 [05:19<15:59,  2.50s/it]"
     ]
    },
    {
     "name": "stdout",
     "output_type": "stream",
     "text": [
      "GCN loss on unlabled data: 0.9704341292381287\n",
      "GCN acc on unlabled data: 0.7635225748770675\n",
      "attack loss: 0.4168755114078522\n"
     ]
    },
    {
     "name": "stderr",
     "output_type": "stream",
     "text": [
      "Perturbing graph:  25%|██▍       | 124/506 [05:21<15:57,  2.51s/it]"
     ]
    },
    {
     "name": "stdout",
     "output_type": "stream",
     "text": [
      "GCN loss on unlabled data: 0.9738497734069824\n",
      "GCN acc on unlabled data: 0.7670987930263746\n",
      "attack loss: 0.4217592477798462\n"
     ]
    },
    {
     "name": "stderr",
     "output_type": "stream",
     "text": [
      "Perturbing graph:  25%|██▍       | 125/506 [05:24<16:09,  2.54s/it]"
     ]
    },
    {
     "name": "stdout",
     "output_type": "stream",
     "text": [
      "GCN loss on unlabled data: 0.9801379442214966\n",
      "GCN acc on unlabled data: 0.7702279839070183\n",
      "attack loss: 0.42762482166290283\n"
     ]
    },
    {
     "name": "stderr",
     "output_type": "stream",
     "text": [
      "Perturbing graph:  25%|██▍       | 126/506 [05:26<15:59,  2.53s/it]"
     ]
    },
    {
     "name": "stdout",
     "output_type": "stream",
     "text": [
      "GCN loss on unlabled data: 0.9929325580596924\n",
      "GCN acc on unlabled data: 0.7679928475637013\n",
      "attack loss: 0.4314233362674713\n"
     ]
    },
    {
     "name": "stderr",
     "output_type": "stream",
     "text": [
      "Perturbing graph:  25%|██▌       | 127/506 [05:29<15:52,  2.51s/it]"
     ]
    },
    {
     "name": "stdout",
     "output_type": "stream",
     "text": [
      "GCN loss on unlabled data: 0.960681140422821\n",
      "GCN acc on unlabled data: 0.7688869021010282\n",
      "attack loss: 0.41268885135650635\n"
     ]
    },
    {
     "name": "stderr",
     "output_type": "stream",
     "text": [
      "Perturbing graph:  25%|██▌       | 128/506 [05:31<15:47,  2.51s/it]"
     ]
    },
    {
     "name": "stdout",
     "output_type": "stream",
     "text": [
      "GCN loss on unlabled data: 0.9852885007858276\n",
      "GCN acc on unlabled data: 0.7621814930710773\n",
      "attack loss: 0.4296252727508545\n"
     ]
    },
    {
     "name": "stderr",
     "output_type": "stream",
     "text": [
      "Perturbing graph:  25%|██▌       | 129/506 [05:34<15:44,  2.51s/it]"
     ]
    },
    {
     "name": "stdout",
     "output_type": "stream",
     "text": [
      "GCN loss on unlabled data: 0.9881277084350586\n",
      "GCN acc on unlabled data: 0.7603933839964238\n",
      "attack loss: 0.4309293031692505\n"
     ]
    },
    {
     "name": "stderr",
     "output_type": "stream",
     "text": [
      "Perturbing graph:  26%|██▌       | 130/506 [05:36<15:41,  2.50s/it]"
     ]
    },
    {
     "name": "stdout",
     "output_type": "stream",
     "text": [
      "GCN loss on unlabled data: 0.9946810603141785\n",
      "GCN acc on unlabled data: 0.7586052749217702\n",
      "attack loss: 0.4386116564273834\n"
     ]
    },
    {
     "name": "stderr",
     "output_type": "stream",
     "text": [
      "Perturbing graph:  26%|██▌       | 131/506 [05:39<15:34,  2.49s/it]"
     ]
    },
    {
     "name": "stdout",
     "output_type": "stream",
     "text": [
      "GCN loss on unlabled data: 0.9863989353179932\n",
      "GCN acc on unlabled data: 0.7648636566830577\n",
      "attack loss: 0.4279751181602478\n"
     ]
    },
    {
     "name": "stderr",
     "output_type": "stream",
     "text": [
      "Perturbing graph:  26%|██▌       | 132/506 [05:41<15:26,  2.48s/it]"
     ]
    },
    {
     "name": "stdout",
     "output_type": "stream",
     "text": [
      "GCN loss on unlabled data: 1.0367871522903442\n",
      "GCN acc on unlabled data: 0.759499329459097\n",
      "attack loss: 0.4489353597164154\n"
     ]
    },
    {
     "name": "stderr",
     "output_type": "stream",
     "text": [
      "Perturbing graph:  26%|██▋       | 133/506 [05:44<15:22,  2.47s/it]"
     ]
    },
    {
     "name": "stdout",
     "output_type": "stream",
     "text": [
      "GCN loss on unlabled data: 1.0015846490859985\n",
      "GCN acc on unlabled data: 0.75592311130979\n",
      "attack loss: 0.4302326738834381\n"
     ]
    },
    {
     "name": "stderr",
     "output_type": "stream",
     "text": [
      "Perturbing graph:  26%|██▋       | 134/506 [05:46<15:21,  2.48s/it]"
     ]
    },
    {
     "name": "stdout",
     "output_type": "stream",
     "text": [
      "GCN loss on unlabled data: 1.0316098928451538\n",
      "GCN acc on unlabled data: 0.7487706750111757\n",
      "attack loss: 0.44823604822158813\n"
     ]
    },
    {
     "name": "stderr",
     "output_type": "stream",
     "text": [
      "Perturbing graph:  27%|██▋       | 135/506 [05:49<15:27,  2.50s/it]"
     ]
    },
    {
     "name": "stdout",
     "output_type": "stream",
     "text": [
      "GCN loss on unlabled data: 1.0212184190750122\n",
      "GCN acc on unlabled data: 0.7550290567724631\n",
      "attack loss: 0.44442862272262573\n"
     ]
    },
    {
     "name": "stderr",
     "output_type": "stream",
     "text": [
      "Perturbing graph:  27%|██▋       | 136/506 [05:51<15:24,  2.50s/it]"
     ]
    },
    {
     "name": "stdout",
     "output_type": "stream",
     "text": [
      "GCN loss on unlabled data: 1.018280267715454\n",
      "GCN acc on unlabled data: 0.7510058113544926\n",
      "attack loss: 0.44646725058555603\n"
     ]
    },
    {
     "name": "stderr",
     "output_type": "stream",
     "text": [
      "Perturbing graph:  27%|██▋       | 137/506 [05:54<15:23,  2.50s/it]"
     ]
    },
    {
     "name": "stdout",
     "output_type": "stream",
     "text": [
      "GCN loss on unlabled data: 1.0389862060546875\n",
      "GCN acc on unlabled data: 0.7527939204291462\n",
      "attack loss: 0.4530095160007477\n"
     ]
    },
    {
     "name": "stderr",
     "output_type": "stream",
     "text": [
      "Perturbing graph:  27%|██▋       | 138/506 [05:56<15:23,  2.51s/it]"
     ]
    },
    {
     "name": "stdout",
     "output_type": "stream",
     "text": [
      "GCN loss on unlabled data: 1.0359269380569458\n",
      "GCN acc on unlabled data: 0.7523468931604828\n",
      "attack loss: 0.44480153918266296\n"
     ]
    },
    {
     "name": "stderr",
     "output_type": "stream",
     "text": [
      "Perturbing graph:  27%|██▋       | 139/506 [05:59<15:30,  2.54s/it]"
     ]
    },
    {
     "name": "stdout",
     "output_type": "stream",
     "text": [
      "GCN loss on unlabled data: 1.0643996000289917\n",
      "GCN acc on unlabled data: 0.7474295932051855\n",
      "attack loss: 0.4601292908191681\n"
     ]
    },
    {
     "name": "stderr",
     "output_type": "stream",
     "text": [
      "Perturbing graph:  28%|██▊       | 140/506 [06:01<15:23,  2.52s/it]"
     ]
    },
    {
     "name": "stdout",
     "output_type": "stream",
     "text": [
      "GCN loss on unlabled data: 1.024640440940857\n",
      "GCN acc on unlabled data: 0.7469825659365221\n",
      "attack loss: 0.4481044113636017\n"
     ]
    },
    {
     "name": "stderr",
     "output_type": "stream",
     "text": [
      "Perturbing graph:  28%|██▊       | 141/506 [06:04<15:19,  2.52s/it]"
     ]
    },
    {
     "name": "stdout",
     "output_type": "stream",
     "text": [
      "GCN loss on unlabled data: 1.026748776435852\n",
      "GCN acc on unlabled data: 0.7465355386678587\n",
      "attack loss: 0.4466731548309326\n"
     ]
    },
    {
     "name": "stderr",
     "output_type": "stream",
     "text": [
      "Perturbing graph:  28%|██▊       | 142/506 [06:06<15:18,  2.52s/it]"
     ]
    },
    {
     "name": "stdout",
     "output_type": "stream",
     "text": [
      "GCN loss on unlabled data: 1.0527496337890625\n",
      "GCN acc on unlabled data: 0.747876620473849\n",
      "attack loss: 0.4652217626571655\n"
     ]
    },
    {
     "name": "stderr",
     "output_type": "stream",
     "text": [
      "Perturbing graph:  28%|██▊       | 143/506 [06:09<15:23,  2.54s/it]"
     ]
    },
    {
     "name": "stdout",
     "output_type": "stream",
     "text": [
      "GCN loss on unlabled data: 1.0502828359603882\n",
      "GCN acc on unlabled data: 0.7460885113991953\n",
      "attack loss: 0.4606257379055023\n"
     ]
    },
    {
     "name": "stderr",
     "output_type": "stream",
     "text": [
      "Perturbing graph:  28%|██▊       | 144/506 [06:12<15:12,  2.52s/it]"
     ]
    },
    {
     "name": "stdout",
     "output_type": "stream",
     "text": [
      "GCN loss on unlabled data: 1.0671875476837158\n",
      "GCN acc on unlabled data: 0.7469825659365221\n",
      "attack loss: 0.466004341840744\n"
     ]
    },
    {
     "name": "stderr",
     "output_type": "stream",
     "text": [
      "Perturbing graph:  29%|██▊       | 145/506 [06:14<15:03,  2.50s/it]"
     ]
    },
    {
     "name": "stdout",
     "output_type": "stream",
     "text": [
      "GCN loss on unlabled data: 1.0247434377670288\n",
      "GCN acc on unlabled data: 0.7554760840411265\n",
      "attack loss: 0.452251672744751\n"
     ]
    },
    {
     "name": "stderr",
     "output_type": "stream",
     "text": [
      "Perturbing graph:  29%|██▉       | 146/506 [06:16<14:58,  2.50s/it]"
     ]
    },
    {
     "name": "stdout",
     "output_type": "stream",
     "text": [
      "GCN loss on unlabled data: 1.1002073287963867\n",
      "GCN acc on unlabled data: 0.7425122932498882\n",
      "attack loss: 0.4806123375892639\n"
     ]
    },
    {
     "name": "stderr",
     "output_type": "stream",
     "text": [
      "Perturbing graph:  29%|██▉       | 147/506 [06:19<15:00,  2.51s/it]"
     ]
    },
    {
     "name": "stdout",
     "output_type": "stream",
     "text": [
      "GCN loss on unlabled data: 1.080759882926941\n",
      "GCN acc on unlabled data: 0.7416182387125615\n",
      "attack loss: 0.47830936312675476\n"
     ]
    },
    {
     "name": "stderr",
     "output_type": "stream",
     "text": [
      "Perturbing graph:  29%|██▉       | 148/506 [06:22<14:56,  2.50s/it]"
     ]
    },
    {
     "name": "stdout",
     "output_type": "stream",
     "text": [
      "GCN loss on unlabled data: 1.0516085624694824\n",
      "GCN acc on unlabled data: 0.7393831023692445\n",
      "attack loss: 0.4554777145385742\n"
     ]
    },
    {
     "name": "stderr",
     "output_type": "stream",
     "text": [
      "Perturbing graph:  29%|██▉       | 149/506 [06:24<15:14,  2.56s/it]"
     ]
    },
    {
     "name": "stdout",
     "output_type": "stream",
     "text": [
      "GCN loss on unlabled data: 1.046507477760315\n",
      "GCN acc on unlabled data: 0.7469825659365221\n",
      "attack loss: 0.46249741315841675\n"
     ]
    },
    {
     "name": "stderr",
     "output_type": "stream",
     "text": [
      "Perturbing graph:  30%|██▉       | 150/506 [06:27<15:19,  2.58s/it]"
     ]
    },
    {
     "name": "stdout",
     "output_type": "stream",
     "text": [
      "GCN loss on unlabled data: 1.0566771030426025\n",
      "GCN acc on unlabled data: 0.7438533750558785\n",
      "attack loss: 0.46575164794921875\n"
     ]
    },
    {
     "name": "stderr",
     "output_type": "stream",
     "text": [
      "Perturbing graph:  30%|██▉       | 151/506 [06:29<15:19,  2.59s/it]"
     ]
    },
    {
     "name": "stdout",
     "output_type": "stream",
     "text": [
      "GCN loss on unlabled data: 1.102294683456421\n",
      "GCN acc on unlabled data: 0.7429593205185516\n",
      "attack loss: 0.48346424102783203\n"
     ]
    },
    {
     "name": "stderr",
     "output_type": "stream",
     "text": [
      "Perturbing graph:  30%|███       | 152/506 [06:32<15:18,  2.60s/it]"
     ]
    },
    {
     "name": "stdout",
     "output_type": "stream",
     "text": [
      "GCN loss on unlabled data: 1.0704448223114014\n",
      "GCN acc on unlabled data: 0.7460885113991953\n",
      "attack loss: 0.47152766585350037\n"
     ]
    },
    {
     "name": "stderr",
     "output_type": "stream",
     "text": [
      "Perturbing graph:  30%|███       | 153/506 [06:35<15:14,  2.59s/it]"
     ]
    },
    {
     "name": "stdout",
     "output_type": "stream",
     "text": [
      "GCN loss on unlabled data: 1.1089459657669067\n",
      "GCN acc on unlabled data: 0.7411712114438981\n",
      "attack loss: 0.49085038900375366\n"
     ]
    },
    {
     "name": "stderr",
     "output_type": "stream",
     "text": [
      "Perturbing graph:  30%|███       | 154/506 [06:37<15:06,  2.57s/it]"
     ]
    },
    {
     "name": "stdout",
     "output_type": "stream",
     "text": [
      "GCN loss on unlabled data: 1.0918200016021729\n",
      "GCN acc on unlabled data: 0.7469825659365221\n",
      "attack loss: 0.47904008626937866\n"
     ]
    },
    {
     "name": "stderr",
     "output_type": "stream",
     "text": [
      "Perturbing graph:  31%|███       | 155/506 [06:40<15:00,  2.57s/it]"
     ]
    },
    {
     "name": "stdout",
     "output_type": "stream",
     "text": [
      "GCN loss on unlabled data: 1.1248559951782227\n",
      "GCN acc on unlabled data: 0.745641484130532\n",
      "attack loss: 0.49825581908226013\n"
     ]
    },
    {
     "name": "stderr",
     "output_type": "stream",
     "text": [
      "Perturbing graph:  31%|███       | 156/506 [06:42<14:54,  2.56s/it]"
     ]
    },
    {
     "name": "stdout",
     "output_type": "stream",
     "text": [
      "GCN loss on unlabled data: 1.093733310699463\n",
      "GCN acc on unlabled data: 0.7393831023692445\n",
      "attack loss: 0.48016953468322754\n"
     ]
    },
    {
     "name": "stderr",
     "output_type": "stream",
     "text": [
      "Perturbing graph:  31%|███       | 157/506 [06:45<14:53,  2.56s/it]"
     ]
    },
    {
     "name": "stdout",
     "output_type": "stream",
     "text": [
      "GCN loss on unlabled data: 1.1090366840362549\n",
      "GCN acc on unlabled data: 0.7429593205185516\n",
      "attack loss: 0.4918779730796814\n"
     ]
    },
    {
     "name": "stderr",
     "output_type": "stream",
     "text": [
      "Perturbing graph:  31%|███       | 158/506 [06:47<14:47,  2.55s/it]"
     ]
    },
    {
     "name": "stdout",
     "output_type": "stream",
     "text": [
      "GCN loss on unlabled data: 1.1226832866668701\n",
      "GCN acc on unlabled data: 0.7384890478319177\n",
      "attack loss: 0.48863187432289124\n"
     ]
    },
    {
     "name": "stderr",
     "output_type": "stream",
     "text": [
      "Perturbing graph:  31%|███▏      | 159/506 [06:50<14:44,  2.55s/it]"
     ]
    },
    {
     "name": "stdout",
     "output_type": "stream",
     "text": [
      "GCN loss on unlabled data: 1.1170700788497925\n",
      "GCN acc on unlabled data: 0.7393831023692445\n",
      "attack loss: 0.4950313866138458\n"
     ]
    },
    {
     "name": "stderr",
     "output_type": "stream",
     "text": [
      "Perturbing graph:  32%|███▏      | 160/506 [06:52<14:36,  2.53s/it]"
     ]
    },
    {
     "name": "stdout",
     "output_type": "stream",
     "text": [
      "GCN loss on unlabled data: 1.0886361598968506\n",
      "GCN acc on unlabled data: 0.7384890478319177\n",
      "attack loss: 0.47773146629333496\n"
     ]
    },
    {
     "name": "stderr",
     "output_type": "stream",
     "text": [
      "Perturbing graph:  32%|███▏      | 161/506 [06:55<14:32,  2.53s/it]"
     ]
    },
    {
     "name": "stdout",
     "output_type": "stream",
     "text": [
      "GCN loss on unlabled data: 1.1002287864685059\n",
      "GCN acc on unlabled data: 0.7367009387572642\n",
      "attack loss: 0.48629093170166016\n"
     ]
    },
    {
     "name": "stderr",
     "output_type": "stream",
     "text": [
      "Perturbing graph:  32%|███▏      | 162/506 [06:57<14:27,  2.52s/it]"
     ]
    },
    {
     "name": "stdout",
     "output_type": "stream",
     "text": [
      "GCN loss on unlabled data: 1.1244219541549683\n",
      "GCN acc on unlabled data: 0.7326776933392937\n",
      "attack loss: 0.4972154200077057\n"
     ]
    },
    {
     "name": "stderr",
     "output_type": "stream",
     "text": [
      "Perturbing graph:  32%|███▏      | 163/506 [07:00<14:25,  2.52s/it]"
     ]
    },
    {
     "name": "stdout",
     "output_type": "stream",
     "text": [
      "GCN loss on unlabled data: 1.1113895177841187\n",
      "GCN acc on unlabled data: 0.7367009387572642\n",
      "attack loss: 0.49272334575653076\n"
     ]
    },
    {
     "name": "stderr",
     "output_type": "stream",
     "text": [
      "Perturbing graph:  32%|███▏      | 164/506 [07:02<14:19,  2.51s/it]"
     ]
    },
    {
     "name": "stdout",
     "output_type": "stream",
     "text": [
      "GCN loss on unlabled data: 1.1730613708496094\n",
      "GCN acc on unlabled data: 0.727313366115333\n",
      "attack loss: 0.514718234539032\n"
     ]
    },
    {
     "name": "stderr",
     "output_type": "stream",
     "text": [
      "Perturbing graph:  33%|███▎      | 165/506 [07:05<14:18,  2.52s/it]"
     ]
    },
    {
     "name": "stdout",
     "output_type": "stream",
     "text": [
      "GCN loss on unlabled data: 1.1446504592895508\n",
      "GCN acc on unlabled data: 0.7291014751899866\n",
      "attack loss: 0.5000221133232117\n"
     ]
    },
    {
     "name": "stderr",
     "output_type": "stream",
     "text": [
      "Perturbing graph:  33%|███▎      | 166/506 [07:07<14:18,  2.52s/it]"
     ]
    },
    {
     "name": "stdout",
     "output_type": "stream",
     "text": [
      "GCN loss on unlabled data: 1.127733826637268\n",
      "GCN acc on unlabled data: 0.7349128296826106\n",
      "attack loss: 0.5031370520591736\n"
     ]
    },
    {
     "name": "stderr",
     "output_type": "stream",
     "text": [
      "Perturbing graph:  33%|███▎      | 167/506 [07:10<14:16,  2.53s/it]"
     ]
    },
    {
     "name": "stdout",
     "output_type": "stream",
     "text": [
      "GCN loss on unlabled data: 1.1712188720703125\n",
      "GCN acc on unlabled data: 0.7340187751452839\n",
      "attack loss: 0.5162476897239685\n"
     ]
    },
    {
     "name": "stderr",
     "output_type": "stream",
     "text": [
      "Perturbing graph:  33%|███▎      | 168/506 [07:13<14:11,  2.52s/it]"
     ]
    },
    {
     "name": "stdout",
     "output_type": "stream",
     "text": [
      "GCN loss on unlabled data: 1.1732226610183716\n",
      "GCN acc on unlabled data: 0.7299955297273134\n",
      "attack loss: 0.5215002298355103\n"
     ]
    },
    {
     "name": "stderr",
     "output_type": "stream",
     "text": [
      "Perturbing graph:  33%|███▎      | 169/506 [07:15<14:12,  2.53s/it]"
     ]
    },
    {
     "name": "stdout",
     "output_type": "stream",
     "text": [
      "GCN loss on unlabled data: 1.1686893701553345\n",
      "GCN acc on unlabled data: 0.7277603933839965\n",
      "attack loss: 0.5133187770843506\n"
     ]
    },
    {
     "name": "stderr",
     "output_type": "stream",
     "text": [
      "Perturbing graph:  34%|███▎      | 170/506 [07:18<14:10,  2.53s/it]"
     ]
    },
    {
     "name": "stdout",
     "output_type": "stream",
     "text": [
      "GCN loss on unlabled data: 1.1572344303131104\n",
      "GCN acc on unlabled data: 0.7313366115333035\n",
      "attack loss: 0.504554271697998\n"
     ]
    },
    {
     "name": "stderr",
     "output_type": "stream",
     "text": [
      "Perturbing graph:  34%|███▍      | 171/506 [07:20<14:08,  2.53s/it]"
     ]
    },
    {
     "name": "stdout",
     "output_type": "stream",
     "text": [
      "GCN loss on unlabled data: 1.186966896057129\n",
      "GCN acc on unlabled data: 0.727313366115333\n",
      "attack loss: 0.5255112051963806\n"
     ]
    },
    {
     "name": "stderr",
     "output_type": "stream",
     "text": [
      "Perturbing graph:  34%|███▍      | 172/506 [07:23<14:02,  2.52s/it]"
     ]
    },
    {
     "name": "stdout",
     "output_type": "stream",
     "text": [
      "GCN loss on unlabled data: 1.1893905401229858\n",
      "GCN acc on unlabled data: 0.7299955297273134\n",
      "attack loss: 0.5292129516601562\n"
     ]
    },
    {
     "name": "stderr",
     "output_type": "stream",
     "text": [
      "Perturbing graph:  34%|███▍      | 173/506 [07:25<14:00,  2.52s/it]"
     ]
    },
    {
     "name": "stdout",
     "output_type": "stream",
     "text": [
      "GCN loss on unlabled data: 1.1899220943450928\n",
      "GCN acc on unlabled data: 0.7210549843540456\n",
      "attack loss: 0.524699330329895\n"
     ]
    },
    {
     "name": "stderr",
     "output_type": "stream",
     "text": [
      "Perturbing graph:  34%|███▍      | 174/506 [07:28<13:59,  2.53s/it]"
     ]
    },
    {
     "name": "stdout",
     "output_type": "stream",
     "text": [
      "GCN loss on unlabled data: 1.2019004821777344\n",
      "GCN acc on unlabled data: 0.7201609298167189\n",
      "attack loss: 0.5383685231208801\n"
     ]
    },
    {
     "name": "stderr",
     "output_type": "stream",
     "text": [
      "Perturbing graph:  35%|███▍      | 175/506 [07:30<13:57,  2.53s/it]"
     ]
    },
    {
     "name": "stdout",
     "output_type": "stream",
     "text": [
      "GCN loss on unlabled data: 1.2118388414382935\n",
      "GCN acc on unlabled data: 0.7161376843987484\n",
      "attack loss: 0.5372722148895264\n"
     ]
    },
    {
     "name": "stderr",
     "output_type": "stream",
     "text": [
      "Perturbing graph:  35%|███▍      | 176/506 [07:33<13:53,  2.52s/it]"
     ]
    },
    {
     "name": "stdout",
     "output_type": "stream",
     "text": [
      "GCN loss on unlabled data: 1.2167855501174927\n",
      "GCN acc on unlabled data: 0.7232901206973625\n",
      "attack loss: 0.544407069683075\n"
     ]
    },
    {
     "name": "stderr",
     "output_type": "stream",
     "text": [
      "Perturbing graph:  35%|███▍      | 177/506 [07:35<13:46,  2.51s/it]"
     ]
    },
    {
     "name": "stdout",
     "output_type": "stream",
     "text": [
      "GCN loss on unlabled data: 1.1950044631958008\n",
      "GCN acc on unlabled data: 0.7232901206973625\n",
      "attack loss: 0.5285835266113281\n"
     ]
    },
    {
     "name": "stderr",
     "output_type": "stream",
     "text": [
      "Perturbing graph:  35%|███▌      | 178/506 [07:38<13:41,  2.51s/it]"
     ]
    },
    {
     "name": "stdout",
     "output_type": "stream",
     "text": [
      "GCN loss on unlabled data: 1.2570091485977173\n",
      "GCN acc on unlabled data: 0.7174787662047385\n",
      "attack loss: 0.5581714510917664\n"
     ]
    },
    {
     "name": "stderr",
     "output_type": "stream",
     "text": [
      "Perturbing graph:  35%|███▌      | 179/506 [07:40<13:42,  2.52s/it]"
     ]
    },
    {
     "name": "stdout",
     "output_type": "stream",
     "text": [
      "GCN loss on unlabled data: 1.2002719640731812\n",
      "GCN acc on unlabled data: 0.7183728207420653\n",
      "attack loss: 0.53652024269104\n"
     ]
    },
    {
     "name": "stderr",
     "output_type": "stream",
     "text": [
      "Perturbing graph:  36%|███▌      | 180/506 [07:43<13:41,  2.52s/it]"
     ]
    },
    {
     "name": "stdout",
     "output_type": "stream",
     "text": [
      "GCN loss on unlabled data: 1.2159063816070557\n",
      "GCN acc on unlabled data: 0.719266875279392\n",
      "attack loss: 0.5416478514671326\n"
     ]
    },
    {
     "name": "stderr",
     "output_type": "stream",
     "text": [
      "Perturbing graph:  36%|███▌      | 181/506 [07:45<13:35,  2.51s/it]"
     ]
    },
    {
     "name": "stdout",
     "output_type": "stream",
     "text": [
      "GCN loss on unlabled data: 1.2369016408920288\n",
      "GCN acc on unlabled data: 0.7165847116674117\n",
      "attack loss: 0.5503907799720764\n"
     ]
    },
    {
     "name": "stderr",
     "output_type": "stream",
     "text": [
      "Perturbing graph:  36%|███▌      | 182/506 [07:48<13:34,  2.51s/it]"
     ]
    },
    {
     "name": "stdout",
     "output_type": "stream",
     "text": [
      "GCN loss on unlabled data: 1.2367595434188843\n",
      "GCN acc on unlabled data: 0.7174787662047385\n",
      "attack loss: 0.5492986440658569\n"
     ]
    },
    {
     "name": "stderr",
     "output_type": "stream",
     "text": [
      "Perturbing graph:  36%|███▌      | 183/506 [07:50<13:38,  2.54s/it]"
     ]
    },
    {
     "name": "stdout",
     "output_type": "stream",
     "text": [
      "GCN loss on unlabled data: 1.253814697265625\n",
      "GCN acc on unlabled data: 0.7152436298614215\n",
      "attack loss: 0.5578984618186951\n"
     ]
    },
    {
     "name": "stderr",
     "output_type": "stream",
     "text": [
      "Perturbing graph:  36%|███▋      | 184/506 [07:53<13:39,  2.55s/it]"
     ]
    },
    {
     "name": "stdout",
     "output_type": "stream",
     "text": [
      "GCN loss on unlabled data: 1.2607802152633667\n",
      "GCN acc on unlabled data: 0.7121144389807779\n",
      "attack loss: 0.5574532747268677\n"
     ]
    },
    {
     "name": "stderr",
     "output_type": "stream",
     "text": [
      "Perturbing graph:  37%|███▋      | 185/506 [07:55<13:32,  2.53s/it]"
     ]
    },
    {
     "name": "stdout",
     "output_type": "stream",
     "text": [
      "GCN loss on unlabled data: 1.2606505155563354\n",
      "GCN acc on unlabled data: 0.7098793026374609\n",
      "attack loss: 0.5545430183410645\n"
     ]
    },
    {
     "name": "stderr",
     "output_type": "stream",
     "text": [
      "Perturbing graph:  37%|███▋      | 186/506 [07:58<13:31,  2.54s/it]"
     ]
    },
    {
     "name": "stdout",
     "output_type": "stream",
     "text": [
      "GCN loss on unlabled data: 1.2864006757736206\n",
      "GCN acc on unlabled data: 0.7130084935181046\n",
      "attack loss: 0.5790808200836182\n"
     ]
    },
    {
     "name": "stderr",
     "output_type": "stream",
     "text": [
      "Perturbing graph:  37%|███▋      | 187/506 [08:01<13:28,  2.53s/it]"
     ]
    },
    {
     "name": "stdout",
     "output_type": "stream",
     "text": [
      "GCN loss on unlabled data: 1.2923463582992554\n",
      "GCN acc on unlabled data: 0.7139025480554314\n",
      "attack loss: 0.5778555870056152\n"
     ]
    },
    {
     "name": "stderr",
     "output_type": "stream",
     "text": [
      "Perturbing graph:  37%|███▋      | 188/506 [08:03<13:19,  2.51s/it]"
     ]
    },
    {
     "name": "stdout",
     "output_type": "stream",
     "text": [
      "GCN loss on unlabled data: 1.2599093914031982\n",
      "GCN acc on unlabled data: 0.7103263299061243\n",
      "attack loss: 0.563484787940979\n"
     ]
    },
    {
     "name": "stderr",
     "output_type": "stream",
     "text": [
      "Perturbing graph:  37%|███▋      | 189/506 [08:06<13:15,  2.51s/it]"
     ]
    },
    {
     "name": "stdout",
     "output_type": "stream",
     "text": [
      "GCN loss on unlabled data: 1.2482634782791138\n",
      "GCN acc on unlabled data: 0.7067501117568171\n",
      "attack loss: 0.5581352114677429\n"
     ]
    },
    {
     "name": "stderr",
     "output_type": "stream",
     "text": [
      "Perturbing graph:  38%|███▊      | 190/506 [08:08<13:13,  2.51s/it]"
     ]
    },
    {
     "name": "stdout",
     "output_type": "stream",
     "text": [
      "GCN loss on unlabled data: 1.2530733346939087\n",
      "GCN acc on unlabled data: 0.7089852481001341\n",
      "attack loss: 0.5560179948806763\n"
     ]
    },
    {
     "name": "stderr",
     "output_type": "stream",
     "text": [
      "Perturbing graph:  38%|███▊      | 191/506 [08:11<13:10,  2.51s/it]"
     ]
    },
    {
     "name": "stdout",
     "output_type": "stream",
     "text": [
      "GCN loss on unlabled data: 1.2972880601882935\n",
      "GCN acc on unlabled data: 0.7071971390254805\n",
      "attack loss: 0.5853704214096069\n"
     ]
    },
    {
     "name": "stderr",
     "output_type": "stream",
     "text": [
      "Perturbing graph:  38%|███▊      | 192/506 [08:13<13:09,  2.51s/it]"
     ]
    },
    {
     "name": "stdout",
     "output_type": "stream",
     "text": [
      "GCN loss on unlabled data: 1.2892297506332397\n",
      "GCN acc on unlabled data: 0.707644166294144\n",
      "attack loss: 0.5796334147453308\n"
     ]
    },
    {
     "name": "stderr",
     "output_type": "stream",
     "text": [
      "Perturbing graph:  38%|███▊      | 193/506 [08:16<13:04,  2.51s/it]"
     ]
    },
    {
     "name": "stdout",
     "output_type": "stream",
     "text": [
      "GCN loss on unlabled data: 1.2534366846084595\n",
      "GCN acc on unlabled data: 0.7085382208314707\n",
      "attack loss: 0.5651571750640869\n"
     ]
    },
    {
     "name": "stderr",
     "output_type": "stream",
     "text": [
      "Perturbing graph:  38%|███▊      | 194/506 [08:18<12:59,  2.50s/it]"
     ]
    },
    {
     "name": "stdout",
     "output_type": "stream",
     "text": [
      "GCN loss on unlabled data: 1.2674596309661865\n",
      "GCN acc on unlabled data: 0.7067501117568171\n",
      "attack loss: 0.5761063694953918\n"
     ]
    },
    {
     "name": "stderr",
     "output_type": "stream",
     "text": [
      "Perturbing graph:  39%|███▊      | 195/506 [08:21<12:58,  2.50s/it]"
     ]
    },
    {
     "name": "stdout",
     "output_type": "stream",
     "text": [
      "GCN loss on unlabled data: 1.3832098245620728\n",
      "GCN acc on unlabled data: 0.699597675458203\n",
      "attack loss: 0.6216632723808289\n"
     ]
    },
    {
     "name": "stderr",
     "output_type": "stream",
     "text": [
      "Perturbing graph:  39%|███▊      | 196/506 [08:23<13:04,  2.53s/it]"
     ]
    },
    {
     "name": "stdout",
     "output_type": "stream",
     "text": [
      "GCN loss on unlabled data: 1.3374067544937134\n",
      "GCN acc on unlabled data: 0.7009387572641931\n",
      "attack loss: 0.6003028154373169\n"
     ]
    },
    {
     "name": "stderr",
     "output_type": "stream",
     "text": [
      "Perturbing graph:  39%|███▉      | 197/506 [08:26<13:00,  2.52s/it]"
     ]
    },
    {
     "name": "stdout",
     "output_type": "stream",
     "text": [
      "GCN loss on unlabled data: 1.340586543083191\n",
      "GCN acc on unlabled data: 0.7009387572641931\n",
      "attack loss: 0.6015405654907227\n"
     ]
    },
    {
     "name": "stderr",
     "output_type": "stream",
     "text": [
      "Perturbing graph:  39%|███▉      | 198/506 [08:28<12:59,  2.53s/it]"
     ]
    },
    {
     "name": "stdout",
     "output_type": "stream",
     "text": [
      "GCN loss on unlabled data: 1.2843682765960693\n",
      "GCN acc on unlabled data: 0.707644166294144\n",
      "attack loss: 0.580858588218689\n"
     ]
    },
    {
     "name": "stderr",
     "output_type": "stream",
     "text": [
      "Perturbing graph:  39%|███▉      | 199/506 [08:31<12:58,  2.54s/it]"
     ]
    },
    {
     "name": "stdout",
     "output_type": "stream",
     "text": [
      "GCN loss on unlabled data: 1.2832146883010864\n",
      "GCN acc on unlabled data: 0.695127402771569\n",
      "attack loss: 0.5760074853897095\n"
     ]
    },
    {
     "name": "stderr",
     "output_type": "stream",
     "text": [
      "Perturbing graph:  40%|███▉      | 200/506 [08:33<12:55,  2.53s/it]"
     ]
    },
    {
     "name": "stdout",
     "output_type": "stream",
     "text": [
      "GCN loss on unlabled data: 1.310978651046753\n",
      "GCN acc on unlabled data: 0.7049620026821636\n",
      "attack loss: 0.5969345569610596\n"
     ]
    },
    {
     "name": "stderr",
     "output_type": "stream",
     "text": [
      "Perturbing graph:  40%|███▉      | 201/506 [08:36<12:52,  2.53s/it]"
     ]
    },
    {
     "name": "stdout",
     "output_type": "stream",
     "text": [
      "GCN loss on unlabled data: 1.342395544052124\n",
      "GCN acc on unlabled data: 0.6884219937416183\n",
      "attack loss: 0.5990492701530457\n"
     ]
    },
    {
     "name": "stderr",
     "output_type": "stream",
     "text": [
      "Perturbing graph:  40%|███▉      | 202/506 [08:38<12:48,  2.53s/it]"
     ]
    },
    {
     "name": "stdout",
     "output_type": "stream",
     "text": [
      "GCN loss on unlabled data: 1.346491813659668\n",
      "GCN acc on unlabled data: 0.6919982118909254\n",
      "attack loss: 0.6162531971931458\n"
     ]
    },
    {
     "name": "stderr",
     "output_type": "stream",
     "text": [
      "Perturbing graph:  40%|████      | 203/506 [08:41<12:47,  2.53s/it]"
     ]
    },
    {
     "name": "stdout",
     "output_type": "stream",
     "text": [
      "GCN loss on unlabled data: 1.3727059364318848\n",
      "GCN acc on unlabled data: 0.6964684845775593\n",
      "attack loss: 0.6173989772796631\n"
     ]
    },
    {
     "name": "stderr",
     "output_type": "stream",
     "text": [
      "Perturbing graph:  40%|████      | 204/506 [08:43<12:43,  2.53s/it]"
     ]
    },
    {
     "name": "stdout",
     "output_type": "stream",
     "text": [
      "GCN loss on unlabled data: 1.3460664749145508\n",
      "GCN acc on unlabled data: 0.6884219937416183\n",
      "attack loss: 0.6036301851272583\n"
     ]
    },
    {
     "name": "stderr",
     "output_type": "stream",
     "text": [
      "Perturbing graph:  41%|████      | 205/506 [08:46<12:35,  2.51s/it]"
     ]
    },
    {
     "name": "stdout",
     "output_type": "stream",
     "text": [
      "GCN loss on unlabled data: 1.3250495195388794\n",
      "GCN acc on unlabled data: 0.697362539114886\n",
      "attack loss: 0.594681978225708\n"
     ]
    },
    {
     "name": "stderr",
     "output_type": "stream",
     "text": [
      "Perturbing graph:  41%|████      | 206/506 [08:48<12:31,  2.50s/it]"
     ]
    },
    {
     "name": "stdout",
     "output_type": "stream",
     "text": [
      "GCN loss on unlabled data: 1.4092937707901\n",
      "GCN acc on unlabled data: 0.6888690210102816\n",
      "attack loss: 0.633165180683136\n"
     ]
    },
    {
     "name": "stderr",
     "output_type": "stream",
     "text": [
      "Perturbing graph:  41%|████      | 207/506 [08:51<12:30,  2.51s/it]"
     ]
    },
    {
     "name": "stdout",
     "output_type": "stream",
     "text": [
      "GCN loss on unlabled data: 1.3743252754211426\n",
      "GCN acc on unlabled data: 0.6861868573983013\n",
      "attack loss: 0.6143848299980164\n"
     ]
    },
    {
     "name": "stderr",
     "output_type": "stream",
     "text": [
      "Perturbing graph:  41%|████      | 208/506 [08:53<12:25,  2.50s/it]"
     ]
    },
    {
     "name": "stdout",
     "output_type": "stream",
     "text": [
      "GCN loss on unlabled data: 1.400819182395935\n",
      "GCN acc on unlabled data: 0.6982565936522128\n",
      "attack loss: 0.6296045780181885\n"
     ]
    },
    {
     "name": "stderr",
     "output_type": "stream",
     "text": [
      "Perturbing graph:  41%|████▏     | 209/506 [08:56<12:22,  2.50s/it]"
     ]
    },
    {
     "name": "stdout",
     "output_type": "stream",
     "text": [
      "GCN loss on unlabled data: 1.3822026252746582\n",
      "GCN acc on unlabled data: 0.6919982118909254\n",
      "attack loss: 0.6268315315246582\n"
     ]
    },
    {
     "name": "stderr",
     "output_type": "stream",
     "text": [
      "Perturbing graph:  42%|████▏     | 210/506 [08:58<12:22,  2.51s/it]"
     ]
    },
    {
     "name": "stdout",
     "output_type": "stream",
     "text": [
      "GCN loss on unlabled data: 1.3552370071411133\n",
      "GCN acc on unlabled data: 0.6960214573088959\n",
      "attack loss: 0.6130582094192505\n"
     ]
    },
    {
     "name": "stderr",
     "output_type": "stream",
     "text": [
      "Perturbing graph:  42%|████▏     | 211/506 [09:01<12:20,  2.51s/it]"
     ]
    },
    {
     "name": "stdout",
     "output_type": "stream",
     "text": [
      "GCN loss on unlabled data: 1.3469641208648682\n",
      "GCN acc on unlabled data: 0.6902101028162718\n",
      "attack loss: 0.6116164326667786\n"
     ]
    },
    {
     "name": "stderr",
     "output_type": "stream",
     "text": [
      "Perturbing graph:  42%|████▏     | 212/506 [09:03<12:17,  2.51s/it]"
     ]
    },
    {
     "name": "stdout",
     "output_type": "stream",
     "text": [
      "GCN loss on unlabled data: 1.3985322713851929\n",
      "GCN acc on unlabled data: 0.6848457755923111\n",
      "attack loss: 0.6381641626358032\n"
     ]
    },
    {
     "name": "stderr",
     "output_type": "stream",
     "text": [
      "Perturbing graph:  42%|████▏     | 213/506 [09:06<12:15,  2.51s/it]"
     ]
    },
    {
     "name": "stdout",
     "output_type": "stream",
     "text": [
      "GCN loss on unlabled data: 1.392833948135376\n",
      "GCN acc on unlabled data: 0.6884219937416183\n",
      "attack loss: 0.6377614140510559\n"
     ]
    },
    {
     "name": "stderr",
     "output_type": "stream",
     "text": [
      "Perturbing graph:  42%|████▏     | 214/506 [09:08<12:13,  2.51s/it]"
     ]
    },
    {
     "name": "stdout",
     "output_type": "stream",
     "text": [
      "GCN loss on unlabled data: 1.3895126581192017\n",
      "GCN acc on unlabled data: 0.6884219937416183\n",
      "attack loss: 0.6337074041366577\n"
     ]
    },
    {
     "name": "stderr",
     "output_type": "stream",
     "text": [
      "Perturbing graph:  42%|████▏     | 215/506 [09:11<12:13,  2.52s/it]"
     ]
    },
    {
     "name": "stdout",
     "output_type": "stream",
     "text": [
      "GCN loss on unlabled data: 1.4099568128585815\n",
      "GCN acc on unlabled data: 0.6852928028609745\n",
      "attack loss: 0.6436790227890015\n"
     ]
    },
    {
     "name": "stderr",
     "output_type": "stream",
     "text": [
      "Perturbing graph:  43%|████▎     | 216/506 [09:14<12:15,  2.54s/it]"
     ]
    },
    {
     "name": "stdout",
     "output_type": "stream",
     "text": [
      "GCN loss on unlabled data: 1.3959532976150513\n",
      "GCN acc on unlabled data: 0.683504693786321\n",
      "attack loss: 0.6375842690467834\n"
     ]
    },
    {
     "name": "stderr",
     "output_type": "stream",
     "text": [
      "Perturbing graph:  43%|████▎     | 217/506 [09:16<12:16,  2.55s/it]"
     ]
    },
    {
     "name": "stdout",
     "output_type": "stream",
     "text": [
      "GCN loss on unlabled data: 1.414487361907959\n",
      "GCN acc on unlabled data: 0.6857398301296379\n",
      "attack loss: 0.6363950967788696\n"
     ]
    },
    {
     "name": "stderr",
     "output_type": "stream",
     "text": [
      "Perturbing graph:  43%|████▎     | 218/506 [09:19<12:10,  2.54s/it]"
     ]
    },
    {
     "name": "stdout",
     "output_type": "stream",
     "text": [
      "GCN loss on unlabled data: 1.4268596172332764\n",
      "GCN acc on unlabled data: 0.6803755029056773\n",
      "attack loss: 0.644599199295044\n"
     ]
    },
    {
     "name": "stderr",
     "output_type": "stream",
     "text": [
      "Perturbing graph:  43%|████▎     | 219/506 [09:21<12:05,  2.53s/it]"
     ]
    },
    {
     "name": "stdout",
     "output_type": "stream",
     "text": [
      "GCN loss on unlabled data: 1.4286202192306519\n",
      "GCN acc on unlabled data: 0.683504693786321\n",
      "attack loss: 0.6512671709060669\n"
     ]
    },
    {
     "name": "stderr",
     "output_type": "stream",
     "text": [
      "Perturbing graph:  43%|████▎     | 220/506 [09:24<12:01,  2.52s/it]"
     ]
    },
    {
     "name": "stdout",
     "output_type": "stream",
     "text": [
      "GCN loss on unlabled data: 1.419111967086792\n",
      "GCN acc on unlabled data: 0.6794814483683504\n",
      "attack loss: 0.6438658833503723\n"
     ]
    },
    {
     "name": "stderr",
     "output_type": "stream",
     "text": [
      "Perturbing graph:  44%|████▎     | 221/506 [09:26<11:53,  2.50s/it]"
     ]
    },
    {
     "name": "stdout",
     "output_type": "stream",
     "text": [
      "GCN loss on unlabled data: 1.4536564350128174\n",
      "GCN acc on unlabled data: 0.6750111756817165\n",
      "attack loss: 0.6573426723480225\n"
     ]
    },
    {
     "name": "stderr",
     "output_type": "stream",
     "text": [
      "Perturbing graph:  44%|████▍     | 222/506 [09:29<11:49,  2.50s/it]"
     ]
    },
    {
     "name": "stdout",
     "output_type": "stream",
     "text": [
      "GCN loss on unlabled data: 1.4663591384887695\n",
      "GCN acc on unlabled data: 0.6741171211443898\n",
      "attack loss: 0.6672214269638062\n"
     ]
    },
    {
     "name": "stderr",
     "output_type": "stream",
     "text": [
      "Perturbing graph:  44%|████▍     | 223/506 [09:31<11:49,  2.51s/it]"
     ]
    },
    {
     "name": "stdout",
     "output_type": "stream",
     "text": [
      "GCN loss on unlabled data: 1.497719407081604\n",
      "GCN acc on unlabled data: 0.6669646848457756\n",
      "attack loss: 0.6803852915763855\n"
     ]
    },
    {
     "name": "stderr",
     "output_type": "stream",
     "text": [
      "Perturbing graph:  44%|████▍     | 224/506 [09:34<11:47,  2.51s/it]"
     ]
    },
    {
     "name": "stdout",
     "output_type": "stream",
     "text": [
      "GCN loss on unlabled data: 1.432016372680664\n",
      "GCN acc on unlabled data: 0.679034421099687\n",
      "attack loss: 0.6539771556854248\n"
     ]
    },
    {
     "name": "stderr",
     "output_type": "stream",
     "text": [
      "Perturbing graph:  44%|████▍     | 225/506 [09:36<11:43,  2.50s/it]"
     ]
    },
    {
     "name": "stdout",
     "output_type": "stream",
     "text": [
      "GCN loss on unlabled data: 1.474459171295166\n",
      "GCN acc on unlabled data: 0.6678587393831024\n",
      "attack loss: 0.663899838924408\n"
     ]
    },
    {
     "name": "stderr",
     "output_type": "stream",
     "text": [
      "Perturbing graph:  45%|████▍     | 226/506 [09:39<11:41,  2.51s/it]"
     ]
    },
    {
     "name": "stdout",
     "output_type": "stream",
     "text": [
      "GCN loss on unlabled data: 1.468062400817871\n",
      "GCN acc on unlabled data: 0.6727760393383997\n",
      "attack loss: 0.6694798469543457\n"
     ]
    },
    {
     "name": "stderr",
     "output_type": "stream",
     "text": [
      "Perturbing graph:  45%|████▍     | 227/506 [09:41<11:45,  2.53s/it]"
     ]
    },
    {
     "name": "stdout",
     "output_type": "stream",
     "text": [
      "GCN loss on unlabled data: 1.5509624481201172\n",
      "GCN acc on unlabled data: 0.6656236030397854\n",
      "attack loss: 0.7005797624588013\n"
     ]
    },
    {
     "name": "stderr",
     "output_type": "stream",
     "text": [
      "Perturbing graph:  45%|████▌     | 228/506 [09:44<11:40,  2.52s/it]"
     ]
    },
    {
     "name": "stdout",
     "output_type": "stream",
     "text": [
      "GCN loss on unlabled data: 1.5076279640197754\n",
      "GCN acc on unlabled data: 0.6691998211890925\n",
      "attack loss: 0.6855500936508179\n"
     ]
    },
    {
     "name": "stderr",
     "output_type": "stream",
     "text": [
      "Perturbing graph:  45%|████▌     | 229/506 [09:46<11:37,  2.52s/it]"
     ]
    },
    {
     "name": "stdout",
     "output_type": "stream",
     "text": [
      "GCN loss on unlabled data: 1.4778064489364624\n",
      "GCN acc on unlabled data: 0.670987930263746\n",
      "attack loss: 0.677797257900238\n"
     ]
    },
    {
     "name": "stderr",
     "output_type": "stream",
     "text": [
      "Perturbing graph:  45%|████▌     | 230/506 [09:49<11:37,  2.53s/it]"
     ]
    },
    {
     "name": "stdout",
     "output_type": "stream",
     "text": [
      "GCN loss on unlabled data: 1.4946757555007935\n",
      "GCN acc on unlabled data: 0.667411712114439\n",
      "attack loss: 0.6807483434677124\n"
     ]
    },
    {
     "name": "stderr",
     "output_type": "stream",
     "text": [
      "Perturbing graph:  46%|████▌     | 231/506 [09:51<11:40,  2.55s/it]"
     ]
    },
    {
     "name": "stdout",
     "output_type": "stream",
     "text": [
      "GCN loss on unlabled data: 1.5220866203308105\n",
      "GCN acc on unlabled data: 0.6647295485024587\n",
      "attack loss: 0.6928339004516602\n"
     ]
    },
    {
     "name": "stderr",
     "output_type": "stream",
     "text": [
      "Perturbing graph:  46%|████▌     | 232/506 [09:54<11:33,  2.53s/it]"
     ]
    },
    {
     "name": "stdout",
     "output_type": "stream",
     "text": [
      "GCN loss on unlabled data: 1.5351334810256958\n",
      "GCN acc on unlabled data: 0.6660706303084488\n",
      "attack loss: 0.7012816667556763\n"
     ]
    },
    {
     "name": "stderr",
     "output_type": "stream",
     "text": [
      "Perturbing graph:  46%|████▌     | 233/506 [09:56<11:27,  2.52s/it]"
     ]
    },
    {
     "name": "stdout",
     "output_type": "stream",
     "text": [
      "GCN loss on unlabled data: 1.5282437801361084\n",
      "GCN acc on unlabled data: 0.6665176575771122\n",
      "attack loss: 0.695772647857666\n"
     ]
    },
    {
     "name": "stderr",
     "output_type": "stream",
     "text": [
      "Perturbing graph:  46%|████▌     | 234/506 [09:59<11:24,  2.52s/it]"
     ]
    },
    {
     "name": "stdout",
     "output_type": "stream",
     "text": [
      "GCN loss on unlabled data: 1.4955493211746216\n",
      "GCN acc on unlabled data: 0.6691998211890925\n",
      "attack loss: 0.6764339804649353\n"
     ]
    },
    {
     "name": "stderr",
     "output_type": "stream",
     "text": [
      "Perturbing graph:  46%|████▋     | 235/506 [10:01<11:22,  2.52s/it]"
     ]
    },
    {
     "name": "stdout",
     "output_type": "stream",
     "text": [
      "GCN loss on unlabled data: 1.5210264921188354\n",
      "GCN acc on unlabled data: 0.6647295485024587\n",
      "attack loss: 0.6828573942184448\n"
     ]
    },
    {
     "name": "stderr",
     "output_type": "stream",
     "text": [
      "Perturbing graph:  47%|████▋     | 236/506 [10:04<11:18,  2.51s/it]"
     ]
    },
    {
     "name": "stdout",
     "output_type": "stream",
     "text": [
      "GCN loss on unlabled data: 1.5765019655227661\n",
      "GCN acc on unlabled data: 0.6656236030397854\n",
      "attack loss: 0.7190037965774536\n"
     ]
    },
    {
     "name": "stderr",
     "output_type": "stream",
     "text": [
      "Perturbing graph:  47%|████▋     | 237/506 [10:06<11:16,  2.51s/it]"
     ]
    },
    {
     "name": "stdout",
     "output_type": "stream",
     "text": [
      "GCN loss on unlabled data: 1.5014348030090332\n",
      "GCN acc on unlabled data: 0.659365221278498\n",
      "attack loss: 0.6819749474525452\n"
     ]
    },
    {
     "name": "stderr",
     "output_type": "stream",
     "text": [
      "Perturbing graph:  47%|████▋     | 238/506 [10:09<11:11,  2.51s/it]"
     ]
    },
    {
     "name": "stdout",
     "output_type": "stream",
     "text": [
      "GCN loss on unlabled data: 1.5791932344436646\n",
      "GCN acc on unlabled data: 0.6633884666964684\n",
      "attack loss: 0.7156519889831543\n"
     ]
    },
    {
     "name": "stderr",
     "output_type": "stream",
     "text": [
      "Perturbing graph:  47%|████▋     | 239/506 [10:11<11:08,  2.50s/it]"
     ]
    },
    {
     "name": "stdout",
     "output_type": "stream",
     "text": [
      "GCN loss on unlabled data: 1.5123755931854248\n",
      "GCN acc on unlabled data: 0.667411712114439\n",
      "attack loss: 0.6887104511260986\n"
     ]
    },
    {
     "name": "stderr",
     "output_type": "stream",
     "text": [
      "Perturbing graph:  47%|████▋     | 240/506 [10:14<11:02,  2.49s/it]"
     ]
    },
    {
     "name": "stdout",
     "output_type": "stream",
     "text": [
      "GCN loss on unlabled data: 1.5576245784759521\n",
      "GCN acc on unlabled data: 0.6647295485024587\n",
      "attack loss: 0.7057713270187378\n"
     ]
    },
    {
     "name": "stderr",
     "output_type": "stream",
     "text": [
      "Perturbing graph:  48%|████▊     | 241/506 [10:16<10:55,  2.48s/it]"
     ]
    },
    {
     "name": "stdout",
     "output_type": "stream",
     "text": [
      "GCN loss on unlabled data: 1.5109089612960815\n",
      "GCN acc on unlabled data: 0.6633884666964684\n",
      "attack loss: 0.6970307230949402\n"
     ]
    },
    {
     "name": "stderr",
     "output_type": "stream",
     "text": [
      "Perturbing graph:  48%|████▊     | 242/506 [10:19<10:54,  2.48s/it]"
     ]
    },
    {
     "name": "stdout",
     "output_type": "stream",
     "text": [
      "GCN loss on unlabled data: 1.5831637382507324\n",
      "GCN acc on unlabled data: 0.6562360303978543\n",
      "attack loss: 0.7243839502334595\n"
     ]
    },
    {
     "name": "stderr",
     "output_type": "stream",
     "text": [
      "Perturbing graph:  48%|████▊     | 243/506 [10:21<10:50,  2.47s/it]"
     ]
    },
    {
     "name": "stdout",
     "output_type": "stream",
     "text": [
      "GCN loss on unlabled data: 1.5546343326568604\n",
      "GCN acc on unlabled data: 0.6616003576218149\n",
      "attack loss: 0.7218598127365112\n"
     ]
    },
    {
     "name": "stderr",
     "output_type": "stream",
     "text": [
      "Perturbing graph:  48%|████▊     | 244/506 [10:24<11:00,  2.52s/it]"
     ]
    },
    {
     "name": "stdout",
     "output_type": "stream",
     "text": [
      "GCN loss on unlabled data: 1.520993947982788\n",
      "GCN acc on unlabled data: 0.6611533303531515\n",
      "attack loss: 0.6929733753204346\n"
     ]
    },
    {
     "name": "stderr",
     "output_type": "stream",
     "text": [
      "Perturbing graph:  48%|████▊     | 245/506 [10:26<11:00,  2.53s/it]"
     ]
    },
    {
     "name": "stdout",
     "output_type": "stream",
     "text": [
      "GCN loss on unlabled data: 1.5402582883834839\n",
      "GCN acc on unlabled data: 0.665176575771122\n",
      "attack loss: 0.7087008953094482\n"
     ]
    },
    {
     "name": "stderr",
     "output_type": "stream",
     "text": [
      "Perturbing graph:  49%|████▊     | 246/506 [10:29<11:00,  2.54s/it]"
     ]
    },
    {
     "name": "stdout",
     "output_type": "stream",
     "text": [
      "GCN loss on unlabled data: 1.5940086841583252\n",
      "GCN acc on unlabled data: 0.659365221278498\n",
      "attack loss: 0.7298188209533691\n"
     ]
    },
    {
     "name": "stderr",
     "output_type": "stream",
     "text": [
      "Perturbing graph:  49%|████▉     | 247/506 [10:32<10:58,  2.54s/it]"
     ]
    },
    {
     "name": "stdout",
     "output_type": "stream",
     "text": [
      "GCN loss on unlabled data: 1.5946990251541138\n",
      "GCN acc on unlabled data: 0.6548949485918641\n",
      "attack loss: 0.7266128659248352\n"
     ]
    },
    {
     "name": "stderr",
     "output_type": "stream",
     "text": [
      "Perturbing graph:  49%|████▉     | 248/506 [10:34<10:54,  2.54s/it]"
     ]
    },
    {
     "name": "stdout",
     "output_type": "stream",
     "text": [
      "GCN loss on unlabled data: 1.619118332862854\n",
      "GCN acc on unlabled data: 0.6575771122038444\n",
      "attack loss: 0.7351596355438232\n"
     ]
    },
    {
     "name": "stderr",
     "output_type": "stream",
     "text": [
      "Perturbing graph:  49%|████▉     | 249/506 [10:37<10:51,  2.53s/it]"
     ]
    },
    {
     "name": "stdout",
     "output_type": "stream",
     "text": [
      "GCN loss on unlabled data: 1.6479265689849854\n",
      "GCN acc on unlabled data: 0.6584711667411712\n",
      "attack loss: 0.7586345672607422\n"
     ]
    },
    {
     "name": "stderr",
     "output_type": "stream",
     "text": [
      "Perturbing graph:  49%|████▉     | 250/506 [10:39<10:43,  2.51s/it]"
     ]
    },
    {
     "name": "stdout",
     "output_type": "stream",
     "text": [
      "GCN loss on unlabled data: 1.585400104522705\n",
      "GCN acc on unlabled data: 0.659365221278498\n",
      "attack loss: 0.7282655239105225\n"
     ]
    },
    {
     "name": "stderr",
     "output_type": "stream",
     "text": [
      "Perturbing graph:  50%|████▉     | 251/506 [10:42<10:40,  2.51s/it]"
     ]
    },
    {
     "name": "stdout",
     "output_type": "stream",
     "text": [
      "GCN loss on unlabled data: 1.619842529296875\n",
      "GCN acc on unlabled data: 0.651318730442557\n",
      "attack loss: 0.7389041781425476\n"
     ]
    },
    {
     "name": "stderr",
     "output_type": "stream",
     "text": [
      "Perturbing graph:  50%|████▉     | 252/506 [10:44<10:36,  2.51s/it]"
     ]
    },
    {
     "name": "stdout",
     "output_type": "stream",
     "text": [
      "GCN loss on unlabled data: 1.6205757856369019\n",
      "GCN acc on unlabled data: 0.6526598122485472\n",
      "attack loss: 0.7454993724822998\n"
     ]
    },
    {
     "name": "stderr",
     "output_type": "stream",
     "text": [
      "Perturbing graph:  50%|█████     | 253/506 [10:47<10:32,  2.50s/it]"
     ]
    },
    {
     "name": "stdout",
     "output_type": "stream",
     "text": [
      "GCN loss on unlabled data: 1.6537067890167236\n",
      "GCN acc on unlabled data: 0.6508717031738936\n",
      "attack loss: 0.759732723236084\n"
     ]
    },
    {
     "name": "stderr",
     "output_type": "stream",
     "text": [
      "Perturbing graph:  50%|█████     | 254/506 [10:49<10:31,  2.50s/it]"
     ]
    },
    {
     "name": "stdout",
     "output_type": "stream",
     "text": [
      "GCN loss on unlabled data: 1.665945291519165\n",
      "GCN acc on unlabled data: 0.6553419758605274\n",
      "attack loss: 0.7623213529586792\n"
     ]
    },
    {
     "name": "stderr",
     "output_type": "stream",
     "text": [
      "Perturbing graph:  50%|█████     | 255/506 [10:52<10:28,  2.50s/it]"
     ]
    },
    {
     "name": "stdout",
     "output_type": "stream",
     "text": [
      "GCN loss on unlabled data: 1.6296156644821167\n",
      "GCN acc on unlabled data: 0.6544479213232007\n",
      "attack loss: 0.7565931081771851\n"
     ]
    },
    {
     "name": "stderr",
     "output_type": "stream",
     "text": [
      "Perturbing graph:  51%|█████     | 256/506 [10:54<10:25,  2.50s/it]"
     ]
    },
    {
     "name": "stdout",
     "output_type": "stream",
     "text": [
      "GCN loss on unlabled data: 1.576066255569458\n",
      "GCN acc on unlabled data: 0.6638354939651319\n",
      "attack loss: 0.7236327528953552\n"
     ]
    },
    {
     "name": "stderr",
     "output_type": "stream",
     "text": [
      "Perturbing graph:  51%|█████     | 257/506 [10:57<10:20,  2.49s/it]"
     ]
    },
    {
     "name": "stdout",
     "output_type": "stream",
     "text": [
      "GCN loss on unlabled data: 1.6380641460418701\n",
      "GCN acc on unlabled data: 0.6553419758605274\n",
      "attack loss: 0.7619151473045349\n"
     ]
    },
    {
     "name": "stderr",
     "output_type": "stream",
     "text": [
      "Perturbing graph:  51%|█████     | 258/506 [10:59<10:16,  2.49s/it]"
     ]
    },
    {
     "name": "stdout",
     "output_type": "stream",
     "text": [
      "GCN loss on unlabled data: 1.616485595703125\n",
      "GCN acc on unlabled data: 0.6584711667411712\n",
      "attack loss: 0.7461468577384949\n"
     ]
    },
    {
     "name": "stderr",
     "output_type": "stream",
     "text": [
      "Perturbing graph:  51%|█████     | 259/506 [11:01<10:12,  2.48s/it]"
     ]
    },
    {
     "name": "stdout",
     "output_type": "stream",
     "text": [
      "GCN loss on unlabled data: 1.5599086284637451\n",
      "GCN acc on unlabled data: 0.659365221278498\n",
      "attack loss: 0.72359699010849\n"
     ]
    },
    {
     "name": "stderr",
     "output_type": "stream",
     "text": [
      "Perturbing graph:  51%|█████▏    | 260/506 [11:04<10:09,  2.48s/it]"
     ]
    },
    {
     "name": "stdout",
     "output_type": "stream",
     "text": [
      "GCN loss on unlabled data: 1.6392382383346558\n",
      "GCN acc on unlabled data: 0.6566830576665177\n",
      "attack loss: 0.7616971135139465\n"
     ]
    },
    {
     "name": "stderr",
     "output_type": "stream",
     "text": [
      "Perturbing graph:  52%|█████▏    | 261/506 [11:06<10:08,  2.48s/it]"
     ]
    },
    {
     "name": "stdout",
     "output_type": "stream",
     "text": [
      "GCN loss on unlabled data: 1.6669124364852905\n",
      "GCN acc on unlabled data: 0.6504246759052302\n",
      "attack loss: 0.7728636264801025\n"
     ]
    },
    {
     "name": "stderr",
     "output_type": "stream",
     "text": [
      "Perturbing graph:  52%|█████▏    | 262/506 [11:09<10:03,  2.47s/it]"
     ]
    },
    {
     "name": "stdout",
     "output_type": "stream",
     "text": [
      "GCN loss on unlabled data: 1.6317609548568726\n",
      "GCN acc on unlabled data: 0.6540008940545373\n",
      "attack loss: 0.7609642148017883\n"
     ]
    },
    {
     "name": "stderr",
     "output_type": "stream",
     "text": [
      "Perturbing graph:  52%|█████▏    | 263/506 [11:11<09:59,  2.47s/it]"
     ]
    },
    {
     "name": "stdout",
     "output_type": "stream",
     "text": [
      "GCN loss on unlabled data: 1.5903851985931396\n",
      "GCN acc on unlabled data: 0.6602592758158248\n",
      "attack loss: 0.74598228931427\n"
     ]
    },
    {
     "name": "stderr",
     "output_type": "stream",
     "text": [
      "Perturbing graph:  52%|█████▏    | 264/506 [11:14<10:00,  2.48s/it]"
     ]
    },
    {
     "name": "stdout",
     "output_type": "stream",
     "text": [
      "GCN loss on unlabled data: 1.6543458700180054\n",
      "GCN acc on unlabled data: 0.6531068395172106\n",
      "attack loss: 0.7697587013244629\n"
     ]
    },
    {
     "name": "stderr",
     "output_type": "stream",
     "text": [
      "Perturbing graph:  52%|█████▏    | 265/506 [11:16<09:58,  2.49s/it]"
     ]
    },
    {
     "name": "stdout",
     "output_type": "stream",
     "text": [
      "GCN loss on unlabled data: 1.6498911380767822\n",
      "GCN acc on unlabled data: 0.6544479213232007\n",
      "attack loss: 0.7657960653305054\n"
     ]
    },
    {
     "name": "stderr",
     "output_type": "stream",
     "text": [
      "Perturbing graph:  53%|█████▎    | 266/506 [11:19<09:58,  2.49s/it]"
     ]
    },
    {
     "name": "stdout",
     "output_type": "stream",
     "text": [
      "GCN loss on unlabled data: 1.700573444366455\n",
      "GCN acc on unlabled data: 0.6481895395619133\n",
      "attack loss: 0.7861385941505432\n"
     ]
    },
    {
     "name": "stderr",
     "output_type": "stream",
     "text": [
      "Perturbing graph:  53%|█████▎    | 267/506 [11:21<09:59,  2.51s/it]"
     ]
    },
    {
     "name": "stdout",
     "output_type": "stream",
     "text": [
      "GCN loss on unlabled data: 1.6661670207977295\n",
      "GCN acc on unlabled data: 0.6522127849798838\n",
      "attack loss: 0.772528886795044\n"
     ]
    },
    {
     "name": "stderr",
     "output_type": "stream",
     "text": [
      "Perturbing graph:  53%|█████▎    | 268/506 [11:24<09:57,  2.51s/it]"
     ]
    },
    {
     "name": "stdout",
     "output_type": "stream",
     "text": [
      "GCN loss on unlabled data: 1.732035517692566\n",
      "GCN acc on unlabled data: 0.6540008940545373\n",
      "attack loss: 0.8093538880348206\n"
     ]
    },
    {
     "name": "stderr",
     "output_type": "stream",
     "text": [
      "Perturbing graph:  53%|█████▎    | 269/506 [11:26<09:53,  2.50s/it]"
     ]
    },
    {
     "name": "stdout",
     "output_type": "stream",
     "text": [
      "GCN loss on unlabled data: 1.6951556205749512\n",
      "GCN acc on unlabled data: 0.6508717031738936\n",
      "attack loss: 0.7892863750457764\n"
     ]
    },
    {
     "name": "stderr",
     "output_type": "stream",
     "text": [
      "Perturbing graph:  53%|█████▎    | 270/506 [11:29<09:56,  2.53s/it]"
     ]
    },
    {
     "name": "stdout",
     "output_type": "stream",
     "text": [
      "GCN loss on unlabled data: 1.7178478240966797\n",
      "GCN acc on unlabled data: 0.6455073759499329\n",
      "attack loss: 0.7966783046722412\n"
     ]
    },
    {
     "name": "stderr",
     "output_type": "stream",
     "text": [
      "Perturbing graph:  54%|█████▎    | 271/506 [11:31<09:53,  2.53s/it]"
     ]
    },
    {
     "name": "stdout",
     "output_type": "stream",
     "text": [
      "GCN loss on unlabled data: 1.6711843013763428\n",
      "GCN acc on unlabled data: 0.6504246759052302\n",
      "attack loss: 0.7750505805015564\n"
     ]
    },
    {
     "name": "stderr",
     "output_type": "stream",
     "text": [
      "Perturbing graph:  54%|█████▍    | 272/506 [11:34<09:49,  2.52s/it]"
     ]
    },
    {
     "name": "stdout",
     "output_type": "stream",
     "text": [
      "GCN loss on unlabled data: 1.7161929607391357\n",
      "GCN acc on unlabled data: 0.6481895395619133\n",
      "attack loss: 0.7998294234275818\n"
     ]
    },
    {
     "name": "stderr",
     "output_type": "stream",
     "text": [
      "Perturbing graph:  54%|█████▍    | 273/506 [11:36<09:44,  2.51s/it]"
     ]
    },
    {
     "name": "stdout",
     "output_type": "stream",
     "text": [
      "GCN loss on unlabled data: 1.6833665370941162\n",
      "GCN acc on unlabled data: 0.6531068395172106\n",
      "attack loss: 0.7827122211456299\n"
     ]
    },
    {
     "name": "stderr",
     "output_type": "stream",
     "text": [
      "Perturbing graph:  54%|█████▍    | 274/506 [11:39<09:39,  2.50s/it]"
     ]
    },
    {
     "name": "stdout",
     "output_type": "stream",
     "text": [
      "GCN loss on unlabled data: 1.7341532707214355\n",
      "GCN acc on unlabled data: 0.6414841305319624\n",
      "attack loss: 0.8098584413528442\n"
     ]
    },
    {
     "name": "stderr",
     "output_type": "stream",
     "text": [
      "Perturbing graph:  54%|█████▍    | 275/506 [11:41<09:36,  2.49s/it]"
     ]
    },
    {
     "name": "stdout",
     "output_type": "stream",
     "text": [
      "GCN loss on unlabled data: 1.7299613952636719\n",
      "GCN acc on unlabled data: 0.6464014304872597\n",
      "attack loss: 0.805492639541626\n"
     ]
    },
    {
     "name": "stderr",
     "output_type": "stream",
     "text": [
      "Perturbing graph:  55%|█████▍    | 276/506 [11:44<09:33,  2.49s/it]"
     ]
    },
    {
     "name": "stdout",
     "output_type": "stream",
     "text": [
      "GCN loss on unlabled data: 1.7343614101409912\n",
      "GCN acc on unlabled data: 0.6419311578006258\n",
      "attack loss: 0.8125343322753906\n"
     ]
    },
    {
     "name": "stderr",
     "output_type": "stream",
     "text": [
      "Perturbing graph:  55%|█████▍    | 277/506 [11:46<09:30,  2.49s/it]"
     ]
    },
    {
     "name": "stdout",
     "output_type": "stream",
     "text": [
      "GCN loss on unlabled data: 1.7731842994689941\n",
      "GCN acc on unlabled data: 0.6455073759499329\n",
      "attack loss: 0.8226338028907776\n"
     ]
    },
    {
     "name": "stderr",
     "output_type": "stream",
     "text": [
      "Perturbing graph:  55%|█████▍    | 278/506 [11:49<09:27,  2.49s/it]"
     ]
    },
    {
     "name": "stdout",
     "output_type": "stream",
     "text": [
      "GCN loss on unlabled data: 1.735144019126892\n",
      "GCN acc on unlabled data: 0.6535538667858739\n",
      "attack loss: 0.8100823760032654\n"
     ]
    },
    {
     "name": "stderr",
     "output_type": "stream",
     "text": [
      "Perturbing graph:  55%|█████▌    | 279/506 [11:51<09:24,  2.49s/it]"
     ]
    },
    {
     "name": "stdout",
     "output_type": "stream",
     "text": [
      "GCN loss on unlabled data: 1.8213258981704712\n",
      "GCN acc on unlabled data: 0.6392489941886456\n",
      "attack loss: 0.8501480221748352\n"
     ]
    },
    {
     "name": "stderr",
     "output_type": "stream",
     "text": [
      "Perturbing graph:  55%|█████▌    | 280/506 [11:54<09:23,  2.50s/it]"
     ]
    },
    {
     "name": "stdout",
     "output_type": "stream",
     "text": [
      "GCN loss on unlabled data: 1.7110596895217896\n",
      "GCN acc on unlabled data: 0.6468484577559231\n",
      "attack loss: 0.8001201152801514\n"
     ]
    },
    {
     "name": "stderr",
     "output_type": "stream",
     "text": [
      "Perturbing graph:  56%|█████▌    | 281/506 [11:56<09:21,  2.50s/it]"
     ]
    },
    {
     "name": "stdout",
     "output_type": "stream",
     "text": [
      "GCN loss on unlabled data: 1.7803443670272827\n",
      "GCN acc on unlabled data: 0.6459544032185963\n",
      "attack loss: 0.8259029388427734\n"
     ]
    },
    {
     "name": "stderr",
     "output_type": "stream",
     "text": [
      "Perturbing graph:  56%|█████▌    | 282/506 [11:59<09:19,  2.50s/it]"
     ]
    },
    {
     "name": "stdout",
     "output_type": "stream",
     "text": [
      "GCN loss on unlabled data: 1.7747933864593506\n",
      "GCN acc on unlabled data: 0.6450603486812696\n",
      "attack loss: 0.8236810564994812\n"
     ]
    },
    {
     "name": "stderr",
     "output_type": "stream",
     "text": [
      "Perturbing graph:  56%|█████▌    | 283/506 [12:01<09:15,  2.49s/it]"
     ]
    },
    {
     "name": "stdout",
     "output_type": "stream",
     "text": [
      "GCN loss on unlabled data: 1.805461049079895\n",
      "GCN acc on unlabled data: 0.6481895395619133\n",
      "attack loss: 0.8510209321975708\n"
     ]
    },
    {
     "name": "stderr",
     "output_type": "stream",
     "text": [
      "Perturbing graph:  56%|█████▌    | 284/506 [12:04<09:13,  2.49s/it]"
     ]
    },
    {
     "name": "stdout",
     "output_type": "stream",
     "text": [
      "GCN loss on unlabled data: 1.776871919631958\n",
      "GCN acc on unlabled data: 0.6419311578006258\n",
      "attack loss: 0.8296619653701782\n"
     ]
    },
    {
     "name": "stderr",
     "output_type": "stream",
     "text": [
      "Perturbing graph:  56%|█████▋    | 285/506 [12:06<09:09,  2.49s/it]"
     ]
    },
    {
     "name": "stdout",
     "output_type": "stream",
     "text": [
      "GCN loss on unlabled data: 1.8550753593444824\n",
      "GCN acc on unlabled data: 0.6388019669199821\n",
      "attack loss: 0.8642594218254089\n"
     ]
    },
    {
     "name": "stderr",
     "output_type": "stream",
     "text": [
      "Perturbing graph:  57%|█████▋    | 286/506 [12:09<09:05,  2.48s/it]"
     ]
    },
    {
     "name": "stdout",
     "output_type": "stream",
     "text": [
      "GCN loss on unlabled data: 1.7524206638336182\n",
      "GCN acc on unlabled data: 0.6464014304872597\n",
      "attack loss: 0.8240675926208496\n"
     ]
    },
    {
     "name": "stderr",
     "output_type": "stream",
     "text": [
      "Perturbing graph:  57%|█████▋    | 287/506 [12:11<09:03,  2.48s/it]"
     ]
    },
    {
     "name": "stdout",
     "output_type": "stream",
     "text": [
      "GCN loss on unlabled data: 1.7582175731658936\n",
      "GCN acc on unlabled data: 0.6410371032632991\n",
      "attack loss: 0.8235694169998169\n"
     ]
    },
    {
     "name": "stderr",
     "output_type": "stream",
     "text": [
      "Perturbing graph:  57%|█████▋    | 288/506 [12:14<09:02,  2.49s/it]"
     ]
    },
    {
     "name": "stdout",
     "output_type": "stream",
     "text": [
      "GCN loss on unlabled data: 1.7111412286758423\n",
      "GCN acc on unlabled data: 0.6428252123379526\n",
      "attack loss: 0.8051009774208069\n"
     ]
    },
    {
     "name": "stderr",
     "output_type": "stream",
     "text": [
      "Perturbing graph:  57%|█████▋    | 289/506 [12:16<09:03,  2.50s/it]"
     ]
    },
    {
     "name": "stdout",
     "output_type": "stream",
     "text": [
      "GCN loss on unlabled data: 1.748347282409668\n",
      "GCN acc on unlabled data: 0.6365668305766652\n",
      "attack loss: 0.8171346783638\n"
     ]
    },
    {
     "name": "stderr",
     "output_type": "stream",
     "text": [
      "Perturbing graph:  57%|█████▋    | 290/506 [12:19<09:01,  2.51s/it]"
     ]
    },
    {
     "name": "stdout",
     "output_type": "stream",
     "text": [
      "GCN loss on unlabled data: 1.7994426488876343\n",
      "GCN acc on unlabled data: 0.6361198033080018\n",
      "attack loss: 0.8466788530349731\n"
     ]
    },
    {
     "name": "stderr",
     "output_type": "stream",
     "text": [
      "Perturbing graph:  58%|█████▊    | 291/506 [12:21<08:57,  2.50s/it]"
     ]
    },
    {
     "name": "stdout",
     "output_type": "stream",
     "text": [
      "GCN loss on unlabled data: 1.8368983268737793\n",
      "GCN acc on unlabled data: 0.6352257487706751\n",
      "attack loss: 0.8592783212661743\n"
     ]
    },
    {
     "name": "stderr",
     "output_type": "stream",
     "text": [
      "Perturbing graph:  58%|█████▊    | 292/506 [12:24<09:10,  2.57s/it]"
     ]
    },
    {
     "name": "stdout",
     "output_type": "stream",
     "text": [
      "GCN loss on unlabled data: 1.7571580410003662\n",
      "GCN acc on unlabled data: 0.6392489941886456\n",
      "attack loss: 0.82648766040802\n"
     ]
    },
    {
     "name": "stderr",
     "output_type": "stream",
     "text": [
      "Perturbing graph:  58%|█████▊    | 293/506 [12:27<09:04,  2.56s/it]"
     ]
    },
    {
     "name": "stdout",
     "output_type": "stream",
     "text": [
      "GCN loss on unlabled data: 1.7874215841293335\n",
      "GCN acc on unlabled data: 0.6405900759946357\n",
      "attack loss: 0.8367241621017456\n"
     ]
    },
    {
     "name": "stderr",
     "output_type": "stream",
     "text": [
      "Perturbing graph:  58%|█████▊    | 294/506 [12:29<08:56,  2.53s/it]"
     ]
    },
    {
     "name": "stdout",
     "output_type": "stream",
     "text": [
      "GCN loss on unlabled data: 1.856955647468567\n",
      "GCN acc on unlabled data: 0.6392489941886456\n",
      "attack loss: 0.8729586601257324\n"
     ]
    },
    {
     "name": "stderr",
     "output_type": "stream",
     "text": [
      "Perturbing graph:  58%|█████▊    | 295/506 [12:32<08:50,  2.51s/it]"
     ]
    },
    {
     "name": "stdout",
     "output_type": "stream",
     "text": [
      "GCN loss on unlabled data: 1.8369815349578857\n",
      "GCN acc on unlabled data: 0.6307554760840411\n",
      "attack loss: 0.8589115142822266\n"
     ]
    },
    {
     "name": "stderr",
     "output_type": "stream",
     "text": [
      "Perturbing graph:  58%|█████▊    | 296/506 [12:34<08:47,  2.51s/it]"
     ]
    },
    {
     "name": "stdout",
     "output_type": "stream",
     "text": [
      "GCN loss on unlabled data: 1.8095171451568604\n",
      "GCN acc on unlabled data: 0.6392489941886456\n",
      "attack loss: 0.8442336916923523\n"
     ]
    },
    {
     "name": "stderr",
     "output_type": "stream",
     "text": [
      "Perturbing graph:  59%|█████▊    | 297/506 [12:37<08:43,  2.50s/it]"
     ]
    },
    {
     "name": "stdout",
     "output_type": "stream",
     "text": [
      "GCN loss on unlabled data: 1.8808672428131104\n",
      "GCN acc on unlabled data: 0.6325435851586947\n",
      "attack loss: 0.8815404772758484\n"
     ]
    },
    {
     "name": "stderr",
     "output_type": "stream",
     "text": [
      "Perturbing graph:  59%|█████▉    | 298/506 [12:39<08:39,  2.50s/it]"
     ]
    },
    {
     "name": "stdout",
     "output_type": "stream",
     "text": [
      "GCN loss on unlabled data: 1.7850507497787476\n",
      "GCN acc on unlabled data: 0.6334376396960214\n",
      "attack loss: 0.8372816443443298\n"
     ]
    },
    {
     "name": "stderr",
     "output_type": "stream",
     "text": [
      "Perturbing graph:  59%|█████▉    | 299/506 [12:41<08:36,  2.49s/it]"
     ]
    },
    {
     "name": "stdout",
     "output_type": "stream",
     "text": [
      "GCN loss on unlabled data: 1.857829213142395\n",
      "GCN acc on unlabled data: 0.6343316942333482\n",
      "attack loss: 0.8789981603622437\n"
     ]
    },
    {
     "name": "stderr",
     "output_type": "stream",
     "text": [
      "Perturbing graph:  59%|█████▉    | 300/506 [12:44<08:36,  2.51s/it]"
     ]
    },
    {
     "name": "stdout",
     "output_type": "stream",
     "text": [
      "GCN loss on unlabled data: 1.9347453117370605\n",
      "GCN acc on unlabled data: 0.6258381761287438\n",
      "attack loss: 0.9072603583335876\n"
     ]
    },
    {
     "name": "stderr",
     "output_type": "stream",
     "text": [
      "Perturbing graph:  59%|█████▉    | 301/506 [12:47<08:34,  2.51s/it]"
     ]
    },
    {
     "name": "stdout",
     "output_type": "stream",
     "text": [
      "GCN loss on unlabled data: 1.856002926826477\n",
      "GCN acc on unlabled data: 0.6253911488600805\n",
      "attack loss: 0.8690578937530518\n"
     ]
    },
    {
     "name": "stderr",
     "output_type": "stream",
     "text": [
      "Perturbing graph:  60%|█████▉    | 302/506 [12:49<08:30,  2.50s/it]"
     ]
    },
    {
     "name": "stdout",
     "output_type": "stream",
     "text": [
      "GCN loss on unlabled data: 1.8541368246078491\n",
      "GCN acc on unlabled data: 0.6334376396960214\n",
      "attack loss: 0.8691380620002747\n"
     ]
    },
    {
     "name": "stderr",
     "output_type": "stream",
     "text": [
      "Perturbing graph:  60%|█████▉    | 303/506 [12:52<08:29,  2.51s/it]"
     ]
    },
    {
     "name": "stdout",
     "output_type": "stream",
     "text": [
      "GCN loss on unlabled data: 1.885074496269226\n",
      "GCN acc on unlabled data: 0.6231560125167636\n",
      "attack loss: 0.8869073390960693\n"
     ]
    },
    {
     "name": "stderr",
     "output_type": "stream",
     "text": [
      "Perturbing graph:  60%|██████    | 304/506 [12:54<08:25,  2.50s/it]"
     ]
    },
    {
     "name": "stdout",
     "output_type": "stream",
     "text": [
      "GCN loss on unlabled data: 1.7970668077468872\n",
      "GCN acc on unlabled data: 0.6370138578453286\n",
      "attack loss: 0.8485552072525024\n"
     ]
    },
    {
     "name": "stderr",
     "output_type": "stream",
     "text": [
      "Perturbing graph:  60%|██████    | 305/506 [12:57<08:20,  2.49s/it]"
     ]
    },
    {
     "name": "stdout",
     "output_type": "stream",
     "text": [
      "GCN loss on unlabled data: 1.8526780605316162\n",
      "GCN acc on unlabled data: 0.6307554760840411\n",
      "attack loss: 0.8695877194404602\n"
     ]
    },
    {
     "name": "stderr",
     "output_type": "stream",
     "text": [
      "Perturbing graph:  60%|██████    | 306/506 [12:59<08:18,  2.49s/it]"
     ]
    },
    {
     "name": "stdout",
     "output_type": "stream",
     "text": [
      "GCN loss on unlabled data: 1.8413819074630737\n",
      "GCN acc on unlabled data: 0.6329906124273581\n",
      "attack loss: 0.8638358116149902\n"
     ]
    },
    {
     "name": "stderr",
     "output_type": "stream",
     "text": [
      "Perturbing graph:  61%|██████    | 307/506 [13:02<08:17,  2.50s/it]"
     ]
    },
    {
     "name": "stdout",
     "output_type": "stream",
     "text": [
      "GCN loss on unlabled data: 1.9030297994613647\n",
      "GCN acc on unlabled data: 0.6218149307107733\n",
      "attack loss: 0.8950474858283997\n"
     ]
    },
    {
     "name": "stderr",
     "output_type": "stream",
     "text": [
      "Perturbing graph:  61%|██████    | 308/506 [13:04<08:14,  2.50s/it]"
     ]
    },
    {
     "name": "stdout",
     "output_type": "stream",
     "text": [
      "GCN loss on unlabled data: 1.8780416250228882\n",
      "GCN acc on unlabled data: 0.6209208761734466\n",
      "attack loss: 0.8819983601570129\n"
     ]
    },
    {
     "name": "stderr",
     "output_type": "stream",
     "text": [
      "Perturbing graph:  61%|██████    | 309/506 [13:06<08:10,  2.49s/it]"
     ]
    },
    {
     "name": "stdout",
     "output_type": "stream",
     "text": [
      "GCN loss on unlabled data: 1.908435344696045\n",
      "GCN acc on unlabled data: 0.6182387125614662\n",
      "attack loss: 0.9014977812767029\n"
     ]
    },
    {
     "name": "stderr",
     "output_type": "stream",
     "text": [
      "Perturbing graph:  61%|██████▏   | 310/506 [13:09<08:08,  2.49s/it]"
     ]
    },
    {
     "name": "stdout",
     "output_type": "stream",
     "text": [
      "GCN loss on unlabled data: 1.8598233461380005\n",
      "GCN acc on unlabled data: 0.6388019669199821\n",
      "attack loss: 0.8864225745201111\n"
     ]
    },
    {
     "name": "stderr",
     "output_type": "stream",
     "text": [
      "Perturbing graph:  61%|██████▏   | 311/506 [13:11<08:05,  2.49s/it]"
     ]
    },
    {
     "name": "stdout",
     "output_type": "stream",
     "text": [
      "GCN loss on unlabled data: 1.9169262647628784\n",
      "GCN acc on unlabled data: 0.6244970943227537\n",
      "attack loss: 0.9018604159355164\n"
     ]
    },
    {
     "name": "stderr",
     "output_type": "stream",
     "text": [
      "Perturbing graph:  62%|██████▏   | 312/506 [13:14<08:02,  2.49s/it]"
     ]
    },
    {
     "name": "stdout",
     "output_type": "stream",
     "text": [
      "GCN loss on unlabled data: 1.8773348331451416\n",
      "GCN acc on unlabled data: 0.6307554760840411\n",
      "attack loss: 0.8844925165176392\n"
     ]
    },
    {
     "name": "stderr",
     "output_type": "stream",
     "text": [
      "Perturbing graph:  62%|██████▏   | 313/506 [13:17<08:04,  2.51s/it]"
     ]
    },
    {
     "name": "stdout",
     "output_type": "stream",
     "text": [
      "GCN loss on unlabled data: 1.9542326927185059\n",
      "GCN acc on unlabled data: 0.6240500670540903\n",
      "attack loss: 0.917338490486145\n"
     ]
    },
    {
     "name": "stderr",
     "output_type": "stream",
     "text": [
      "Perturbing graph:  62%|██████▏   | 314/506 [13:19<08:01,  2.51s/it]"
     ]
    },
    {
     "name": "stdout",
     "output_type": "stream",
     "text": [
      "GCN loss on unlabled data: 2.0069496631622314\n",
      "GCN acc on unlabled data: 0.62136790344211\n",
      "attack loss: 0.9433466196060181\n"
     ]
    },
    {
     "name": "stderr",
     "output_type": "stream",
     "text": [
      "Perturbing graph:  62%|██████▏   | 315/506 [13:21<07:57,  2.50s/it]"
     ]
    },
    {
     "name": "stdout",
     "output_type": "stream",
     "text": [
      "GCN loss on unlabled data: 1.9166977405548096\n",
      "GCN acc on unlabled data: 0.6258381761287438\n",
      "attack loss: 0.9113333225250244\n"
     ]
    },
    {
     "name": "stderr",
     "output_type": "stream",
     "text": [
      "Perturbing graph:  62%|██████▏   | 316/506 [13:24<07:53,  2.49s/it]"
     ]
    },
    {
     "name": "stdout",
     "output_type": "stream",
     "text": [
      "GCN loss on unlabled data: 1.8842710256576538\n",
      "GCN acc on unlabled data: 0.6276262852033974\n",
      "attack loss: 0.8930150866508484\n"
     ]
    },
    {
     "name": "stderr",
     "output_type": "stream",
     "text": [
      "Perturbing graph:  63%|██████▎   | 317/506 [13:26<07:52,  2.50s/it]"
     ]
    },
    {
     "name": "stdout",
     "output_type": "stream",
     "text": [
      "GCN loss on unlabled data: 1.9174365997314453\n",
      "GCN acc on unlabled data: 0.6312025033527046\n",
      "attack loss: 0.9062962532043457\n"
     ]
    },
    {
     "name": "stderr",
     "output_type": "stream",
     "text": [
      "Perturbing graph:  63%|██████▎   | 318/506 [13:29<07:47,  2.49s/it]"
     ]
    },
    {
     "name": "stdout",
     "output_type": "stream",
     "text": [
      "GCN loss on unlabled data: 1.8943778276443481\n",
      "GCN acc on unlabled data: 0.6267322306660706\n",
      "attack loss: 0.8989796042442322\n"
     ]
    },
    {
     "name": "stderr",
     "output_type": "stream",
     "text": [
      "Perturbing graph:  63%|██████▎   | 319/506 [13:31<07:43,  2.48s/it]"
     ]
    },
    {
     "name": "stdout",
     "output_type": "stream",
     "text": [
      "GCN loss on unlabled data: 1.960474967956543\n",
      "GCN acc on unlabled data: 0.6195797943674564\n",
      "attack loss: 0.9250670075416565\n"
     ]
    },
    {
     "name": "stderr",
     "output_type": "stream",
     "text": [
      "Perturbing graph:  63%|██████▎   | 320/506 [13:34<07:40,  2.48s/it]"
     ]
    },
    {
     "name": "stdout",
     "output_type": "stream",
     "text": [
      "GCN loss on unlabled data: 1.9225261211395264\n",
      "GCN acc on unlabled data: 0.6218149307107733\n",
      "attack loss: 0.913550078868866\n"
     ]
    },
    {
     "name": "stderr",
     "output_type": "stream",
     "text": [
      "Perturbing graph:  63%|██████▎   | 321/506 [13:36<07:39,  2.49s/it]"
     ]
    },
    {
     "name": "stdout",
     "output_type": "stream",
     "text": [
      "GCN loss on unlabled data: 2.0245656967163086\n",
      "GCN acc on unlabled data: 0.6244970943227537\n",
      "attack loss: 0.9589681625366211\n"
     ]
    },
    {
     "name": "stderr",
     "output_type": "stream",
     "text": [
      "Perturbing graph:  64%|██████▎   | 322/506 [13:39<07:37,  2.49s/it]"
     ]
    },
    {
     "name": "stdout",
     "output_type": "stream",
     "text": [
      "GCN loss on unlabled data: 1.8901218175888062\n",
      "GCN acc on unlabled data: 0.6258381761287438\n",
      "attack loss: 0.895387589931488\n"
     ]
    },
    {
     "name": "stderr",
     "output_type": "stream",
     "text": [
      "Perturbing graph:  64%|██████▍   | 323/506 [13:41<07:34,  2.49s/it]"
     ]
    },
    {
     "name": "stdout",
     "output_type": "stream",
     "text": [
      "GCN loss on unlabled data: 1.9489301443099976\n",
      "GCN acc on unlabled data: 0.6231560125167636\n",
      "attack loss: 0.9172018766403198\n"
     ]
    },
    {
     "name": "stderr",
     "output_type": "stream",
     "text": [
      "Perturbing graph:  64%|██████▍   | 324/506 [13:44<07:32,  2.49s/it]"
     ]
    },
    {
     "name": "stdout",
     "output_type": "stream",
     "text": [
      "GCN loss on unlabled data: 1.9843910932540894\n",
      "GCN acc on unlabled data: 0.6271792579347341\n",
      "attack loss: 0.9372299313545227\n"
     ]
    },
    {
     "name": "stderr",
     "output_type": "stream",
     "text": [
      "Perturbing graph:  64%|██████▍   | 325/506 [13:46<07:31,  2.49s/it]"
     ]
    },
    {
     "name": "stdout",
     "output_type": "stream",
     "text": [
      "GCN loss on unlabled data: 1.9716037511825562\n",
      "GCN acc on unlabled data: 0.6236030397854269\n",
      "attack loss: 0.9349014163017273\n"
     ]
    },
    {
     "name": "stderr",
     "output_type": "stream",
     "text": [
      "Perturbing graph:  64%|██████▍   | 326/506 [13:49<07:28,  2.49s/it]"
     ]
    },
    {
     "name": "stdout",
     "output_type": "stream",
     "text": [
      "GCN loss on unlabled data: 1.9507582187652588\n",
      "GCN acc on unlabled data: 0.6262852033974072\n",
      "attack loss: 0.9285656213760376\n"
     ]
    },
    {
     "name": "stderr",
     "output_type": "stream",
     "text": [
      "Perturbing graph:  65%|██████▍   | 327/506 [13:51<07:24,  2.48s/it]"
     ]
    },
    {
     "name": "stdout",
     "output_type": "stream",
     "text": [
      "GCN loss on unlabled data: 1.9330329895019531\n",
      "GCN acc on unlabled data: 0.6267322306660706\n",
      "attack loss: 0.9252015352249146\n"
     ]
    },
    {
     "name": "stderr",
     "output_type": "stream",
     "text": [
      "Perturbing graph:  65%|██████▍   | 328/506 [13:54<07:22,  2.48s/it]"
     ]
    },
    {
     "name": "stdout",
     "output_type": "stream",
     "text": [
      "GCN loss on unlabled data: 1.93100106716156\n",
      "GCN acc on unlabled data: 0.6227089852481001\n",
      "attack loss: 0.9132245182991028\n"
     ]
    },
    {
     "name": "stderr",
     "output_type": "stream",
     "text": [
      "Perturbing graph:  65%|██████▌   | 329/506 [13:56<07:20,  2.49s/it]"
     ]
    },
    {
     "name": "stdout",
     "output_type": "stream",
     "text": [
      "GCN loss on unlabled data: 1.9790043830871582\n",
      "GCN acc on unlabled data: 0.6258381761287438\n",
      "attack loss: 0.9325533509254456\n"
     ]
    },
    {
     "name": "stderr",
     "output_type": "stream",
     "text": [
      "Perturbing graph:  65%|██████▌   | 330/506 [13:59<07:18,  2.49s/it]"
     ]
    },
    {
     "name": "stdout",
     "output_type": "stream",
     "text": [
      "GCN loss on unlabled data: 2.0124731063842773\n",
      "GCN acc on unlabled data: 0.6191327670987931\n",
      "attack loss: 0.950767457485199\n"
     ]
    },
    {
     "name": "stderr",
     "output_type": "stream",
     "text": [
      "Perturbing graph:  65%|██████▌   | 331/506 [14:01<07:17,  2.50s/it]"
     ]
    },
    {
     "name": "stdout",
     "output_type": "stream",
     "text": [
      "GCN loss on unlabled data: 1.9891643524169922\n",
      "GCN acc on unlabled data: 0.6160035762181493\n",
      "attack loss: 0.9447947144508362\n"
     ]
    },
    {
     "name": "stderr",
     "output_type": "stream",
     "text": [
      "Perturbing graph:  66%|██████▌   | 332/506 [14:04<07:14,  2.50s/it]"
     ]
    },
    {
     "name": "stdout",
     "output_type": "stream",
     "text": [
      "GCN loss on unlabled data: 2.0100207328796387\n",
      "GCN acc on unlabled data: 0.6195797943674564\n",
      "attack loss: 0.951953649520874\n"
     ]
    },
    {
     "name": "stderr",
     "output_type": "stream",
     "text": [
      "Perturbing graph:  66%|██████▌   | 333/506 [14:06<07:13,  2.51s/it]"
     ]
    },
    {
     "name": "stdout",
     "output_type": "stream",
     "text": [
      "GCN loss on unlabled data: 2.0064711570739746\n",
      "GCN acc on unlabled data: 0.6160035762181493\n",
      "attack loss: 0.942428708076477\n"
     ]
    },
    {
     "name": "stderr",
     "output_type": "stream",
     "text": [
      "Perturbing graph:  66%|██████▌   | 334/506 [14:09<07:10,  2.51s/it]"
     ]
    },
    {
     "name": "stdout",
     "output_type": "stream",
     "text": [
      "GCN loss on unlabled data: 1.9592722654342651\n",
      "GCN acc on unlabled data: 0.6191327670987931\n",
      "attack loss: 0.933891773223877\n"
     ]
    },
    {
     "name": "stderr",
     "output_type": "stream",
     "text": [
      "Perturbing graph:  66%|██████▌   | 335/506 [14:11<07:08,  2.51s/it]"
     ]
    },
    {
     "name": "stdout",
     "output_type": "stream",
     "text": [
      "GCN loss on unlabled data: 2.0260210037231445\n",
      "GCN acc on unlabled data: 0.6186857398301296\n",
      "attack loss: 0.9625279307365417\n"
     ]
    },
    {
     "name": "stderr",
     "output_type": "stream",
     "text": [
      "Perturbing graph:  66%|██████▋   | 336/506 [14:14<07:05,  2.51s/it]"
     ]
    },
    {
     "name": "stdout",
     "output_type": "stream",
     "text": [
      "GCN loss on unlabled data: 2.0428414344787598\n",
      "GCN acc on unlabled data: 0.6160035762181493\n",
      "attack loss: 0.9672865271568298\n"
     ]
    },
    {
     "name": "stderr",
     "output_type": "stream",
     "text": [
      "Perturbing graph:  67%|██████▋   | 337/506 [14:16<07:05,  2.52s/it]"
     ]
    },
    {
     "name": "stdout",
     "output_type": "stream",
     "text": [
      "GCN loss on unlabled data: 2.0702152252197266\n",
      "GCN acc on unlabled data: 0.6186857398301296\n",
      "attack loss: 0.9844056963920593\n"
     ]
    },
    {
     "name": "stderr",
     "output_type": "stream",
     "text": [
      "Perturbing graph:  67%|██████▋   | 338/506 [14:19<07:02,  2.51s/it]"
     ]
    },
    {
     "name": "stdout",
     "output_type": "stream",
     "text": [
      "GCN loss on unlabled data: 2.0282466411590576\n",
      "GCN acc on unlabled data: 0.6173446580241395\n",
      "attack loss: 0.9616655111312866\n"
     ]
    },
    {
     "name": "stderr",
     "output_type": "stream",
     "text": [
      "Perturbing graph:  67%|██████▋   | 339/506 [14:21<07:00,  2.52s/it]"
     ]
    },
    {
     "name": "stdout",
     "output_type": "stream",
     "text": [
      "GCN loss on unlabled data: 2.074734687805176\n",
      "GCN acc on unlabled data: 0.6119803308001788\n",
      "attack loss: 0.9830164313316345\n"
     ]
    },
    {
     "name": "stderr",
     "output_type": "stream",
     "text": [
      "Perturbing graph:  67%|██████▋   | 340/506 [14:24<06:57,  2.52s/it]"
     ]
    },
    {
     "name": "stdout",
     "output_type": "stream",
     "text": [
      "GCN loss on unlabled data: 2.075457811355591\n",
      "GCN acc on unlabled data: 0.6146624944121591\n",
      "attack loss: 0.9827759265899658\n"
     ]
    },
    {
     "name": "stderr",
     "output_type": "stream",
     "text": [
      "Perturbing graph:  67%|██████▋   | 341/506 [14:27<07:05,  2.58s/it]"
     ]
    },
    {
     "name": "stdout",
     "output_type": "stream",
     "text": [
      "GCN loss on unlabled data: 2.026662588119507\n",
      "GCN acc on unlabled data: 0.6066160035762181\n",
      "attack loss: 0.9580754637718201\n"
     ]
    },
    {
     "name": "stderr",
     "output_type": "stream",
     "text": [
      "Perturbing graph:  68%|██████▊   | 342/506 [14:29<07:03,  2.58s/it]"
     ]
    },
    {
     "name": "stdout",
     "output_type": "stream",
     "text": [
      "GCN loss on unlabled data: 2.0285043716430664\n",
      "GCN acc on unlabled data: 0.6137684398748323\n",
      "attack loss: 0.9633352160453796\n"
     ]
    },
    {
     "name": "stderr",
     "output_type": "stream",
     "text": [
      "Perturbing graph:  68%|██████▊   | 343/506 [14:32<07:00,  2.58s/it]"
     ]
    },
    {
     "name": "stdout",
     "output_type": "stream",
     "text": [
      "GCN loss on unlabled data: 2.044080972671509\n",
      "GCN acc on unlabled data: 0.6048278945015646\n",
      "attack loss: 0.9684804677963257\n"
     ]
    },
    {
     "name": "stderr",
     "output_type": "stream",
     "text": [
      "Perturbing graph:  68%|██████▊   | 344/506 [14:34<06:57,  2.58s/it]"
     ]
    },
    {
     "name": "stdout",
     "output_type": "stream",
     "text": [
      "GCN loss on unlabled data: 2.1276755332946777\n",
      "GCN acc on unlabled data: 0.6106392489941886\n",
      "attack loss: 1.0026456117630005\n"
     ]
    },
    {
     "name": "stderr",
     "output_type": "stream",
     "text": [
      "Perturbing graph:  68%|██████▊   | 345/506 [14:37<06:56,  2.58s/it]"
     ]
    },
    {
     "name": "stdout",
     "output_type": "stream",
     "text": [
      "GCN loss on unlabled data: 2.116825580596924\n",
      "GCN acc on unlabled data: 0.6124273580688422\n",
      "attack loss: 0.9998188614845276\n"
     ]
    },
    {
     "name": "stderr",
     "output_type": "stream",
     "text": [
      "Perturbing graph:  68%|██████▊   | 346/506 [14:40<06:53,  2.58s/it]"
     ]
    },
    {
     "name": "stdout",
     "output_type": "stream",
     "text": [
      "GCN loss on unlabled data: 2.096593141555786\n",
      "GCN acc on unlabled data: 0.6084041126508717\n",
      "attack loss: 0.9980807304382324\n"
     ]
    },
    {
     "name": "stderr",
     "output_type": "stream",
     "text": [
      "Perturbing graph:  69%|██████▊   | 347/506 [14:42<06:47,  2.57s/it]"
     ]
    },
    {
     "name": "stdout",
     "output_type": "stream",
     "text": [
      "GCN loss on unlabled data: 2.1657888889312744\n",
      "GCN acc on unlabled data: 0.6128743853375056\n",
      "attack loss: 1.0287758111953735\n"
     ]
    },
    {
     "name": "stderr",
     "output_type": "stream",
     "text": [
      "Perturbing graph:  69%|██████▉   | 348/506 [14:45<06:44,  2.56s/it]"
     ]
    },
    {
     "name": "stdout",
     "output_type": "stream",
     "text": [
      "GCN loss on unlabled data: 1.9435560703277588\n",
      "GCN acc on unlabled data: 0.6146624944121591\n",
      "attack loss: 0.9309052228927612\n"
     ]
    },
    {
     "name": "stderr",
     "output_type": "stream",
     "text": [
      "Perturbing graph:  69%|██████▉   | 349/506 [14:47<06:42,  2.56s/it]"
     ]
    },
    {
     "name": "stdout",
     "output_type": "stream",
     "text": [
      "GCN loss on unlabled data: 2.068215847015381\n",
      "GCN acc on unlabled data: 0.6092981671881985\n",
      "attack loss: 0.9847588539123535\n"
     ]
    },
    {
     "name": "stderr",
     "output_type": "stream",
     "text": [
      "Perturbing graph:  69%|██████▉   | 350/506 [14:50<06:38,  2.56s/it]"
     ]
    },
    {
     "name": "stdout",
     "output_type": "stream",
     "text": [
      "GCN loss on unlabled data: 2.1186108589172363\n",
      "GCN acc on unlabled data: 0.6101922217255252\n",
      "attack loss: 1.0083304643630981\n"
     ]
    },
    {
     "name": "stderr",
     "output_type": "stream",
     "text": [
      "Perturbing graph:  69%|██████▉   | 351/506 [14:52<06:34,  2.55s/it]"
     ]
    },
    {
     "name": "stdout",
     "output_type": "stream",
     "text": [
      "GCN loss on unlabled data: 2.1384198665618896\n",
      "GCN acc on unlabled data: 0.6030397854269111\n",
      "attack loss: 1.0160365104675293\n"
     ]
    },
    {
     "name": "stderr",
     "output_type": "stream",
     "text": [
      "Perturbing graph:  70%|██████▉   | 352/506 [14:55<06:31,  2.54s/it]"
     ]
    },
    {
     "name": "stdout",
     "output_type": "stream",
     "text": [
      "GCN loss on unlabled data: 2.169419050216675\n",
      "GCN acc on unlabled data: 0.6016987036209209\n",
      "attack loss: 1.03368079662323\n"
     ]
    },
    {
     "name": "stderr",
     "output_type": "stream",
     "text": [
      "Perturbing graph:  70%|██████▉   | 353/506 [14:57<06:31,  2.56s/it]"
     ]
    },
    {
     "name": "stdout",
     "output_type": "stream",
     "text": [
      "GCN loss on unlabled data: 2.1611831188201904\n",
      "GCN acc on unlabled data: 0.6030397854269111\n",
      "attack loss: 1.0313810110092163\n"
     ]
    },
    {
     "name": "stderr",
     "output_type": "stream",
     "text": [
      "Perturbing graph:  70%|██████▉   | 354/506 [15:00<06:29,  2.56s/it]"
     ]
    },
    {
     "name": "stdout",
     "output_type": "stream",
     "text": [
      "GCN loss on unlabled data: 2.161973237991333\n",
      "GCN acc on unlabled data: 0.6043808672329012\n",
      "attack loss: 1.0315008163452148\n"
     ]
    },
    {
     "name": "stderr",
     "output_type": "stream",
     "text": [
      "Perturbing graph:  70%|███████   | 355/506 [15:03<06:27,  2.57s/it]"
     ]
    },
    {
     "name": "stdout",
     "output_type": "stream",
     "text": [
      "GCN loss on unlabled data: 2.1893277168273926\n",
      "GCN acc on unlabled data: 0.5963343763969602\n",
      "attack loss: 1.0455846786499023\n"
     ]
    },
    {
     "name": "stderr",
     "output_type": "stream",
     "text": [
      "Perturbing graph:  70%|███████   | 356/506 [15:05<06:24,  2.56s/it]"
     ]
    },
    {
     "name": "stdout",
     "output_type": "stream",
     "text": [
      "GCN loss on unlabled data: 2.095358371734619\n",
      "GCN acc on unlabled data: 0.6092981671881985\n",
      "attack loss: 1.00009024143219\n"
     ]
    },
    {
     "name": "stderr",
     "output_type": "stream",
     "text": [
      "Perturbing graph:  71%|███████   | 357/506 [15:08<06:22,  2.56s/it]"
     ]
    },
    {
     "name": "stdout",
     "output_type": "stream",
     "text": [
      "GCN loss on unlabled data: 2.0918161869049072\n",
      "GCN acc on unlabled data: 0.605274921770228\n",
      "attack loss: 0.9988139867782593\n"
     ]
    },
    {
     "name": "stderr",
     "output_type": "stream",
     "text": [
      "Perturbing graph:  71%|███████   | 358/506 [15:10<06:18,  2.56s/it]"
     ]
    },
    {
     "name": "stdout",
     "output_type": "stream",
     "text": [
      "GCN loss on unlabled data: 2.0782508850097656\n",
      "GCN acc on unlabled data: 0.6182387125614662\n",
      "attack loss: 0.9971933960914612\n"
     ]
    },
    {
     "name": "stderr",
     "output_type": "stream",
     "text": [
      "Perturbing graph:  71%|███████   | 359/506 [15:13<06:15,  2.56s/it]"
     ]
    },
    {
     "name": "stdout",
     "output_type": "stream",
     "text": [
      "GCN loss on unlabled data: 2.1138904094696045\n",
      "GCN acc on unlabled data: 0.605274921770228\n",
      "attack loss: 1.0135018825531006\n"
     ]
    },
    {
     "name": "stderr",
     "output_type": "stream",
     "text": [
      "Perturbing graph:  71%|███████   | 360/506 [15:15<06:15,  2.57s/it]"
     ]
    },
    {
     "name": "stdout",
     "output_type": "stream",
     "text": [
      "GCN loss on unlabled data: 2.2060275077819824\n",
      "GCN acc on unlabled data: 0.6048278945015646\n",
      "attack loss: 1.0485143661499023\n"
     ]
    },
    {
     "name": "stderr",
     "output_type": "stream",
     "text": [
      "Perturbing graph:  71%|███████▏  | 361/506 [15:18<06:15,  2.59s/it]"
     ]
    },
    {
     "name": "stdout",
     "output_type": "stream",
     "text": [
      "GCN loss on unlabled data: 2.130126714706421\n",
      "GCN acc on unlabled data: 0.6012516763522575\n",
      "attack loss: 1.02080237865448\n"
     ]
    },
    {
     "name": "stderr",
     "output_type": "stream",
     "text": [
      "Perturbing graph:  72%|███████▏  | 362/506 [15:21<06:11,  2.58s/it]"
     ]
    },
    {
     "name": "stdout",
     "output_type": "stream",
     "text": [
      "GCN loss on unlabled data: 2.1284995079040527\n",
      "GCN acc on unlabled data: 0.6061689763075547\n",
      "attack loss: 1.0142015218734741\n"
     ]
    },
    {
     "name": "stderr",
     "output_type": "stream",
     "text": [
      "Perturbing graph:  72%|███████▏  | 363/506 [15:23<06:10,  2.59s/it]"
     ]
    },
    {
     "name": "stdout",
     "output_type": "stream",
     "text": [
      "GCN loss on unlabled data: 2.124800443649292\n",
      "GCN acc on unlabled data: 0.6003576218149307\n",
      "attack loss: 1.0120218992233276\n"
     ]
    },
    {
     "name": "stderr",
     "output_type": "stream",
     "text": [
      "Perturbing graph:  72%|███████▏  | 364/506 [15:26<06:05,  2.58s/it]"
     ]
    },
    {
     "name": "stdout",
     "output_type": "stream",
     "text": [
      "GCN loss on unlabled data: 2.222564458847046\n",
      "GCN acc on unlabled data: 0.6048278945015646\n",
      "attack loss: 1.059061884880066\n"
     ]
    },
    {
     "name": "stderr",
     "output_type": "stream",
     "text": [
      "Perturbing graph:  72%|███████▏  | 365/506 [15:28<06:03,  2.58s/it]"
     ]
    },
    {
     "name": "stdout",
     "output_type": "stream",
     "text": [
      "GCN loss on unlabled data: 2.232156753540039\n",
      "GCN acc on unlabled data: 0.5936522127849799\n",
      "attack loss: 1.067337155342102\n"
     ]
    },
    {
     "name": "stderr",
     "output_type": "stream",
     "text": [
      "Perturbing graph:  72%|███████▏  | 366/506 [15:31<05:56,  2.55s/it]"
     ]
    },
    {
     "name": "stdout",
     "output_type": "stream",
     "text": [
      "GCN loss on unlabled data: 2.152160882949829\n",
      "GCN acc on unlabled data: 0.6043808672329012\n",
      "attack loss: 1.0313122272491455\n"
     ]
    },
    {
     "name": "stderr",
     "output_type": "stream",
     "text": [
      "Perturbing graph:  73%|███████▎  | 367/506 [15:33<05:52,  2.53s/it]"
     ]
    },
    {
     "name": "stdout",
     "output_type": "stream",
     "text": [
      "GCN loss on unlabled data: 2.283445358276367\n",
      "GCN acc on unlabled data: 0.5981224854716137\n",
      "attack loss: 1.0891947746276855\n"
     ]
    },
    {
     "name": "stderr",
     "output_type": "stream",
     "text": [
      "Perturbing graph:  73%|███████▎  | 368/506 [15:36<05:46,  2.51s/it]"
     ]
    },
    {
     "name": "stdout",
     "output_type": "stream",
     "text": [
      "GCN loss on unlabled data: 2.19462513923645\n",
      "GCN acc on unlabled data: 0.6016987036209209\n",
      "attack loss: 1.055962085723877\n"
     ]
    },
    {
     "name": "stderr",
     "output_type": "stream",
     "text": [
      "Perturbing graph:  73%|███████▎  | 369/506 [15:38<05:44,  2.52s/it]"
     ]
    },
    {
     "name": "stdout",
     "output_type": "stream",
     "text": [
      "GCN loss on unlabled data: 2.2001805305480957\n",
      "GCN acc on unlabled data: 0.5909700491729996\n",
      "attack loss: 1.0544322729110718\n"
     ]
    },
    {
     "name": "stderr",
     "output_type": "stream",
     "text": [
      "Perturbing graph:  73%|███████▎  | 370/506 [15:41<05:41,  2.51s/it]"
     ]
    },
    {
     "name": "stdout",
     "output_type": "stream",
     "text": [
      "GCN loss on unlabled data: 2.17946457862854\n",
      "GCN acc on unlabled data: 0.6012516763522575\n",
      "attack loss: 1.0472990274429321\n"
     ]
    },
    {
     "name": "stderr",
     "output_type": "stream",
     "text": [
      "Perturbing graph:  73%|███████▎  | 371/506 [15:43<05:39,  2.51s/it]"
     ]
    },
    {
     "name": "stdout",
     "output_type": "stream",
     "text": [
      "GCN loss on unlabled data: 2.2100863456726074\n",
      "GCN acc on unlabled data: 0.5932051855163165\n",
      "attack loss: 1.0611974000930786\n"
     ]
    },
    {
     "name": "stderr",
     "output_type": "stream",
     "text": [
      "Perturbing graph:  74%|███████▎  | 372/506 [15:46<05:34,  2.50s/it]"
     ]
    },
    {
     "name": "stdout",
     "output_type": "stream",
     "text": [
      "GCN loss on unlabled data: 2.231943368911743\n",
      "GCN acc on unlabled data: 0.6008046490835941\n",
      "attack loss: 1.0683289766311646\n"
     ]
    },
    {
     "name": "stderr",
     "output_type": "stream",
     "text": [
      "Perturbing graph:  74%|███████▎  | 373/506 [15:48<05:32,  2.50s/it]"
     ]
    },
    {
     "name": "stdout",
     "output_type": "stream",
     "text": [
      "GCN loss on unlabled data: 2.2285563945770264\n",
      "GCN acc on unlabled data: 0.5985695127402771\n",
      "attack loss: 1.0647188425064087\n"
     ]
    },
    {
     "name": "stderr",
     "output_type": "stream",
     "text": [
      "Perturbing graph:  74%|███████▍  | 374/506 [15:51<05:28,  2.49s/it]"
     ]
    },
    {
     "name": "stdout",
     "output_type": "stream",
     "text": [
      "GCN loss on unlabled data: 2.251514196395874\n",
      "GCN acc on unlabled data: 0.6008046490835941\n",
      "attack loss: 1.0870214700698853\n"
     ]
    },
    {
     "name": "stderr",
     "output_type": "stream",
     "text": [
      "Perturbing graph:  74%|███████▍  | 375/506 [15:53<05:25,  2.49s/it]"
     ]
    },
    {
     "name": "stdout",
     "output_type": "stream",
     "text": [
      "GCN loss on unlabled data: 2.2753493785858154\n",
      "GCN acc on unlabled data: 0.5976754582029504\n",
      "attack loss: 1.0968482494354248\n"
     ]
    },
    {
     "name": "stderr",
     "output_type": "stream",
     "text": [
      "Perturbing graph:  74%|███████▍  | 376/506 [15:56<05:22,  2.48s/it]"
     ]
    },
    {
     "name": "stdout",
     "output_type": "stream",
     "text": [
      "GCN loss on unlabled data: 2.346907138824463\n",
      "GCN acc on unlabled data: 0.5949932945909701\n",
      "attack loss: 1.1246740818023682\n"
     ]
    },
    {
     "name": "stderr",
     "output_type": "stream",
     "text": [
      "Perturbing graph:  75%|███████▍  | 377/506 [15:58<05:19,  2.48s/it]"
     ]
    },
    {
     "name": "stdout",
     "output_type": "stream",
     "text": [
      "GCN loss on unlabled data: 2.2506117820739746\n",
      "GCN acc on unlabled data: 0.5967814036656236\n",
      "attack loss: 1.0853430032730103\n"
     ]
    },
    {
     "name": "stderr",
     "output_type": "stream",
     "text": [
      "Perturbing graph:  75%|███████▍  | 378/506 [16:01<05:16,  2.47s/it]"
     ]
    },
    {
     "name": "stdout",
     "output_type": "stream",
     "text": [
      "GCN loss on unlabled data: 2.2556047439575195\n",
      "GCN acc on unlabled data: 0.599463567277604\n",
      "attack loss: 1.0869218111038208\n"
     ]
    },
    {
     "name": "stderr",
     "output_type": "stream",
     "text": [
      "Perturbing graph:  75%|███████▍  | 379/506 [16:03<05:13,  2.47s/it]"
     ]
    },
    {
     "name": "stdout",
     "output_type": "stream",
     "text": [
      "GCN loss on unlabled data: 2.3106131553649902\n",
      "GCN acc on unlabled data: 0.5981224854716137\n",
      "attack loss: 1.1115907430648804\n"
     ]
    },
    {
     "name": "stderr",
     "output_type": "stream",
     "text": [
      "Perturbing graph:  75%|███████▌  | 380/506 [16:06<05:11,  2.47s/it]"
     ]
    },
    {
     "name": "stdout",
     "output_type": "stream",
     "text": [
      "GCN loss on unlabled data: 2.3270251750946045\n",
      "GCN acc on unlabled data: 0.589181940098346\n",
      "attack loss: 1.1171964406967163\n"
     ]
    },
    {
     "name": "stderr",
     "output_type": "stream",
     "text": [
      "Perturbing graph:  75%|███████▌  | 381/506 [16:08<05:09,  2.48s/it]"
     ]
    },
    {
     "name": "stdout",
     "output_type": "stream",
     "text": [
      "GCN loss on unlabled data: 2.263960361480713\n",
      "GCN acc on unlabled data: 0.5869468037550291\n",
      "attack loss: 1.0885915756225586\n"
     ]
    },
    {
     "name": "stderr",
     "output_type": "stream",
     "text": [
      "Perturbing graph:  75%|███████▌  | 382/506 [16:10<05:06,  2.47s/it]"
     ]
    },
    {
     "name": "stdout",
     "output_type": "stream",
     "text": [
      "GCN loss on unlabled data: 2.259335517883301\n",
      "GCN acc on unlabled data: 0.5909700491729996\n",
      "attack loss: 1.0831224918365479\n"
     ]
    },
    {
     "name": "stderr",
     "output_type": "stream",
     "text": [
      "Perturbing graph:  76%|███████▌  | 383/506 [16:13<05:05,  2.48s/it]"
     ]
    },
    {
     "name": "stdout",
     "output_type": "stream",
     "text": [
      "GCN loss on unlabled data: 2.2374446392059326\n",
      "GCN acc on unlabled data: 0.5945462673223066\n",
      "attack loss: 1.0776028633117676\n"
     ]
    },
    {
     "name": "stderr",
     "output_type": "stream",
     "text": [
      "Perturbing graph:  76%|███████▌  | 384/506 [16:15<05:03,  2.48s/it]"
     ]
    },
    {
     "name": "stdout",
     "output_type": "stream",
     "text": [
      "GCN loss on unlabled data: 2.272660732269287\n",
      "GCN acc on unlabled data: 0.5976754582029504\n",
      "attack loss: 1.0966746807098389\n"
     ]
    },
    {
     "name": "stderr",
     "output_type": "stream",
     "text": [
      "Perturbing graph:  76%|███████▌  | 385/506 [16:18<05:01,  2.49s/it]"
     ]
    },
    {
     "name": "stdout",
     "output_type": "stream",
     "text": [
      "GCN loss on unlabled data: 2.3094868659973145\n",
      "GCN acc on unlabled data: 0.5967814036656236\n",
      "attack loss: 1.1158010959625244\n"
     ]
    },
    {
     "name": "stderr",
     "output_type": "stream",
     "text": [
      "Perturbing graph:  76%|███████▋  | 386/506 [16:21<05:00,  2.50s/it]"
     ]
    },
    {
     "name": "stdout",
     "output_type": "stream",
     "text": [
      "GCN loss on unlabled data: 2.3285973072052\n",
      "GCN acc on unlabled data: 0.589181940098346\n",
      "attack loss: 1.1159123182296753\n"
     ]
    },
    {
     "name": "stderr",
     "output_type": "stream",
     "text": [
      "Perturbing graph:  76%|███████▋  | 387/506 [16:23<04:56,  2.49s/it]"
     ]
    },
    {
     "name": "stdout",
     "output_type": "stream",
     "text": [
      "GCN loss on unlabled data: 2.3299224376678467\n",
      "GCN acc on unlabled data: 0.5945462673223066\n",
      "attack loss: 1.1205788850784302\n"
     ]
    },
    {
     "name": "stderr",
     "output_type": "stream",
     "text": [
      "Perturbing graph:  77%|███████▋  | 388/506 [16:26<04:58,  2.53s/it]"
     ]
    },
    {
     "name": "stdout",
     "output_type": "stream",
     "text": [
      "GCN loss on unlabled data: 2.3443870544433594\n",
      "GCN acc on unlabled data: 0.5905230219043361\n",
      "attack loss: 1.1349596977233887\n"
     ]
    },
    {
     "name": "stderr",
     "output_type": "stream",
     "text": [
      "Perturbing graph:  77%|███████▋  | 389/506 [16:28<04:55,  2.53s/it]"
     ]
    },
    {
     "name": "stdout",
     "output_type": "stream",
     "text": [
      "GCN loss on unlabled data: 2.355963945388794\n",
      "GCN acc on unlabled data: 0.591417076441663\n",
      "attack loss: 1.1356340646743774\n"
     ]
    },
    {
     "name": "stderr",
     "output_type": "stream",
     "text": [
      "Perturbing graph:  77%|███████▋  | 390/506 [16:31<04:52,  2.52s/it]"
     ]
    },
    {
     "name": "stdout",
     "output_type": "stream",
     "text": [
      "GCN loss on unlabled data: 2.3456969261169434\n",
      "GCN acc on unlabled data: 0.5882878855610192\n",
      "attack loss: 1.1290754079818726\n"
     ]
    },
    {
     "name": "stderr",
     "output_type": "stream",
     "text": [
      "Perturbing graph:  77%|███████▋  | 391/506 [16:33<04:47,  2.50s/it]"
     ]
    },
    {
     "name": "stdout",
     "output_type": "stream",
     "text": [
      "GCN loss on unlabled data: 2.3256118297576904\n",
      "GCN acc on unlabled data: 0.5905230219043361\n",
      "attack loss: 1.12183678150177\n"
     ]
    },
    {
     "name": "stderr",
     "output_type": "stream",
     "text": [
      "Perturbing graph:  77%|███████▋  | 392/506 [16:36<04:44,  2.50s/it]"
     ]
    },
    {
     "name": "stdout",
     "output_type": "stream",
     "text": [
      "GCN loss on unlabled data: 2.4175095558166504\n",
      "GCN acc on unlabled data: 0.5873938310236925\n",
      "attack loss: 1.1593518257141113\n"
     ]
    },
    {
     "name": "stderr",
     "output_type": "stream",
     "text": [
      "Perturbing graph:  78%|███████▊  | 393/506 [16:38<04:42,  2.50s/it]"
     ]
    },
    {
     "name": "stdout",
     "output_type": "stream",
     "text": [
      "GCN loss on unlabled data: 2.4263556003570557\n",
      "GCN acc on unlabled data: 0.5815824765310684\n",
      "attack loss: 1.1653538942337036\n"
     ]
    },
    {
     "name": "stderr",
     "output_type": "stream",
     "text": [
      "Perturbing graph:  78%|███████▊  | 394/506 [16:41<04:39,  2.50s/it]"
     ]
    },
    {
     "name": "stdout",
     "output_type": "stream",
     "text": [
      "GCN loss on unlabled data: 2.3532726764678955\n",
      "GCN acc on unlabled data: 0.5940992400536432\n",
      "attack loss: 1.1331294775009155\n"
     ]
    },
    {
     "name": "stderr",
     "output_type": "stream",
     "text": [
      "Perturbing graph:  78%|███████▊  | 395/506 [16:43<04:36,  2.49s/it]"
     ]
    },
    {
     "name": "stdout",
     "output_type": "stream",
     "text": [
      "GCN loss on unlabled data: 2.329343795776367\n",
      "GCN acc on unlabled data: 0.589181940098346\n",
      "attack loss: 1.1171609163284302\n"
     ]
    },
    {
     "name": "stderr",
     "output_type": "stream",
     "text": [
      "Perturbing graph:  78%|███████▊  | 396/506 [16:46<04:33,  2.49s/it]"
     ]
    },
    {
     "name": "stdout",
     "output_type": "stream",
     "text": [
      "GCN loss on unlabled data: 2.328582763671875\n",
      "GCN acc on unlabled data: 0.5905230219043361\n",
      "attack loss: 1.1211858987808228\n"
     ]
    },
    {
     "name": "stderr",
     "output_type": "stream",
     "text": [
      "Perturbing graph:  78%|███████▊  | 397/506 [16:48<04:31,  2.50s/it]"
     ]
    },
    {
     "name": "stdout",
     "output_type": "stream",
     "text": [
      "GCN loss on unlabled data: 2.343015670776367\n",
      "GCN acc on unlabled data: 0.5856057219490389\n",
      "attack loss: 1.1287404298782349\n"
     ]
    },
    {
     "name": "stderr",
     "output_type": "stream",
     "text": [
      "Perturbing graph:  79%|███████▊  | 398/506 [16:51<04:29,  2.49s/it]"
     ]
    },
    {
     "name": "stdout",
     "output_type": "stream",
     "text": [
      "GCN loss on unlabled data: 2.428213119506836\n",
      "GCN acc on unlabled data: 0.5806884219937416\n",
      "attack loss: 1.1690624952316284\n"
     ]
    },
    {
     "name": "stderr",
     "output_type": "stream",
     "text": [
      "Perturbing graph:  79%|███████▉  | 399/506 [16:53<04:25,  2.48s/it]"
     ]
    },
    {
     "name": "stdout",
     "output_type": "stream",
     "text": [
      "GCN loss on unlabled data: 2.3668625354766846\n",
      "GCN acc on unlabled data: 0.5918641037103264\n",
      "attack loss: 1.1365948915481567\n"
     ]
    },
    {
     "name": "stderr",
     "output_type": "stream",
     "text": [
      "Perturbing graph:  79%|███████▉  | 400/506 [16:55<04:23,  2.49s/it]"
     ]
    },
    {
     "name": "stdout",
     "output_type": "stream",
     "text": [
      "GCN loss on unlabled data: 2.3354904651641846\n",
      "GCN acc on unlabled data: 0.5927581582476531\n",
      "attack loss: 1.1207464933395386\n"
     ]
    },
    {
     "name": "stderr",
     "output_type": "stream",
     "text": [
      "Perturbing graph:  79%|███████▉  | 401/506 [16:58<04:21,  2.49s/it]"
     ]
    },
    {
     "name": "stdout",
     "output_type": "stream",
     "text": [
      "GCN loss on unlabled data: 2.290785551071167\n",
      "GCN acc on unlabled data: 0.5882878855610192\n",
      "attack loss: 1.0928759574890137\n"
     ]
    },
    {
     "name": "stderr",
     "output_type": "stream",
     "text": [
      "Perturbing graph:  79%|███████▉  | 402/506 [17:00<04:18,  2.49s/it]"
     ]
    },
    {
     "name": "stdout",
     "output_type": "stream",
     "text": [
      "GCN loss on unlabled data: 2.4026072025299072\n",
      "GCN acc on unlabled data: 0.5900759946356727\n",
      "attack loss: 1.1595922708511353\n"
     ]
    },
    {
     "name": "stderr",
     "output_type": "stream",
     "text": [
      "Perturbing graph:  80%|███████▉  | 403/506 [17:03<04:15,  2.48s/it]"
     ]
    },
    {
     "name": "stdout",
     "output_type": "stream",
     "text": [
      "GCN loss on unlabled data: 2.2864348888397217\n",
      "GCN acc on unlabled data: 0.5887349128296826\n",
      "attack loss: 1.1028181314468384\n"
     ]
    },
    {
     "name": "stderr",
     "output_type": "stream",
     "text": [
      "Perturbing graph:  80%|███████▉  | 404/506 [17:05<04:11,  2.47s/it]"
     ]
    },
    {
     "name": "stdout",
     "output_type": "stream",
     "text": [
      "GCN loss on unlabled data: 2.3635332584381104\n",
      "GCN acc on unlabled data: 0.5873938310236925\n",
      "attack loss: 1.1452542543411255\n"
     ]
    },
    {
     "name": "stderr",
     "output_type": "stream",
     "text": [
      "Perturbing graph:  80%|████████  | 405/506 [17:08<04:10,  2.48s/it]"
     ]
    },
    {
     "name": "stdout",
     "output_type": "stream",
     "text": [
      "GCN loss on unlabled data: 2.4104907512664795\n",
      "GCN acc on unlabled data: 0.5856057219490389\n",
      "attack loss: 1.1654871702194214\n"
     ]
    },
    {
     "name": "stderr",
     "output_type": "stream",
     "text": [
      "Perturbing graph:  80%|████████  | 406/506 [17:10<04:10,  2.50s/it]"
     ]
    },
    {
     "name": "stdout",
     "output_type": "stream",
     "text": [
      "GCN loss on unlabled data: 2.3575665950775146\n",
      "GCN acc on unlabled data: 0.5838176128743854\n",
      "attack loss: 1.1330633163452148\n"
     ]
    },
    {
     "name": "stderr",
     "output_type": "stream",
     "text": [
      "Perturbing graph:  80%|████████  | 407/506 [17:13<04:07,  2.50s/it]"
     ]
    },
    {
     "name": "stdout",
     "output_type": "stream",
     "text": [
      "GCN loss on unlabled data: 2.3410065174102783\n",
      "GCN acc on unlabled data: 0.5851586946803755\n",
      "attack loss: 1.130925178527832\n"
     ]
    },
    {
     "name": "stderr",
     "output_type": "stream",
     "text": [
      "Perturbing graph:  81%|████████  | 408/506 [17:15<04:06,  2.51s/it]"
     ]
    },
    {
     "name": "stdout",
     "output_type": "stream",
     "text": [
      "GCN loss on unlabled data: 2.4800655841827393\n",
      "GCN acc on unlabled data: 0.5856057219490389\n",
      "attack loss: 1.1990127563476562\n"
     ]
    },
    {
     "name": "stderr",
     "output_type": "stream",
     "text": [
      "Perturbing graph:  81%|████████  | 409/506 [17:18<04:03,  2.51s/it]"
     ]
    },
    {
     "name": "stdout",
     "output_type": "stream",
     "text": [
      "GCN loss on unlabled data: 2.3842885494232178\n",
      "GCN acc on unlabled data: 0.5873938310236925\n",
      "attack loss: 1.143721103668213\n"
     ]
    },
    {
     "name": "stderr",
     "output_type": "stream",
     "text": [
      "Perturbing graph:  81%|████████  | 410/506 [17:20<04:00,  2.51s/it]"
     ]
    },
    {
     "name": "stdout",
     "output_type": "stream",
     "text": [
      "GCN loss on unlabled data: 2.3082549571990967\n",
      "GCN acc on unlabled data: 0.5887349128296826\n",
      "attack loss: 1.1188689470291138\n"
     ]
    },
    {
     "name": "stderr",
     "output_type": "stream",
     "text": [
      "Perturbing graph:  81%|████████  | 411/506 [17:23<03:56,  2.49s/it]"
     ]
    },
    {
     "name": "stdout",
     "output_type": "stream",
     "text": [
      "GCN loss on unlabled data: 2.3534419536590576\n",
      "GCN acc on unlabled data: 0.5824765310683951\n",
      "attack loss: 1.1455246210098267\n"
     ]
    },
    {
     "name": "stderr",
     "output_type": "stream",
     "text": [
      "Perturbing graph:  81%|████████▏ | 412/506 [17:25<03:53,  2.49s/it]"
     ]
    },
    {
     "name": "stdout",
     "output_type": "stream",
     "text": [
      "GCN loss on unlabled data: 2.4333243370056152\n",
      "GCN acc on unlabled data: 0.5793473401877515\n",
      "attack loss: 1.1712104082107544\n"
     ]
    },
    {
     "name": "stderr",
     "output_type": "stream",
     "text": [
      "Perturbing graph:  82%|████████▏ | 413/506 [17:28<03:50,  2.48s/it]"
     ]
    },
    {
     "name": "stdout",
     "output_type": "stream",
     "text": [
      "GCN loss on unlabled data: 2.4536900520324707\n",
      "GCN acc on unlabled data: 0.5806884219937416\n",
      "attack loss: 1.1871370077133179\n"
     ]
    },
    {
     "name": "stderr",
     "output_type": "stream",
     "text": [
      "Perturbing graph:  82%|████████▏ | 414/506 [17:30<03:49,  2.49s/it]"
     ]
    },
    {
     "name": "stdout",
     "output_type": "stream",
     "text": [
      "GCN loss on unlabled data: 2.481872797012329\n",
      "GCN acc on unlabled data: 0.5802413947250782\n",
      "attack loss: 1.1995348930358887\n"
     ]
    },
    {
     "name": "stderr",
     "output_type": "stream",
     "text": [
      "Perturbing graph:  82%|████████▏ | 415/506 [17:33<03:46,  2.49s/it]"
     ]
    },
    {
     "name": "stdout",
     "output_type": "stream",
     "text": [
      "GCN loss on unlabled data: 2.5003767013549805\n",
      "GCN acc on unlabled data: 0.5815824765310684\n",
      "attack loss: 1.2057186365127563\n"
     ]
    },
    {
     "name": "stderr",
     "output_type": "stream",
     "text": [
      "Perturbing graph:  82%|████████▏ | 416/506 [17:35<03:45,  2.50s/it]"
     ]
    },
    {
     "name": "stdout",
     "output_type": "stream",
     "text": [
      "GCN loss on unlabled data: 2.4279088973999023\n",
      "GCN acc on unlabled data: 0.5851586946803755\n",
      "attack loss: 1.1728310585021973\n"
     ]
    },
    {
     "name": "stderr",
     "output_type": "stream",
     "text": [
      "Perturbing graph:  82%|████████▏ | 417/506 [17:38<03:42,  2.50s/it]"
     ]
    },
    {
     "name": "stdout",
     "output_type": "stream",
     "text": [
      "GCN loss on unlabled data: 2.4782230854034424\n",
      "GCN acc on unlabled data: 0.5820295037997317\n",
      "attack loss: 1.2020130157470703\n"
     ]
    },
    {
     "name": "stderr",
     "output_type": "stream",
     "text": [
      "Perturbing graph:  83%|████████▎ | 418/506 [17:40<03:40,  2.50s/it]"
     ]
    },
    {
     "name": "stdout",
     "output_type": "stream",
     "text": [
      "GCN loss on unlabled data: 2.546907424926758\n",
      "GCN acc on unlabled data: 0.5851586946803755\n",
      "attack loss: 1.229224443435669\n"
     ]
    },
    {
     "name": "stderr",
     "output_type": "stream",
     "text": [
      "Perturbing graph:  83%|████████▎ | 419/506 [17:43<03:37,  2.50s/it]"
     ]
    },
    {
     "name": "stdout",
     "output_type": "stream",
     "text": [
      "GCN loss on unlabled data: 2.476480007171631\n",
      "GCN acc on unlabled data: 0.581135449262405\n",
      "attack loss: 1.1949268579483032\n"
     ]
    },
    {
     "name": "stderr",
     "output_type": "stream",
     "text": [
      "Perturbing graph:  83%|████████▎ | 420/506 [17:45<03:34,  2.50s/it]"
     ]
    },
    {
     "name": "stdout",
     "output_type": "stream",
     "text": [
      "GCN loss on unlabled data: 2.44059419631958\n",
      "GCN acc on unlabled data: 0.5806884219937416\n",
      "attack loss: 1.180599570274353\n"
     ]
    },
    {
     "name": "stderr",
     "output_type": "stream",
     "text": [
      "Perturbing graph:  83%|████████▎ | 421/506 [17:48<03:31,  2.49s/it]"
     ]
    },
    {
     "name": "stdout",
     "output_type": "stream",
     "text": [
      "GCN loss on unlabled data: 2.4878945350646973\n",
      "GCN acc on unlabled data: 0.5771122038444345\n",
      "attack loss: 1.2025054693222046\n"
     ]
    },
    {
     "name": "stderr",
     "output_type": "stream",
     "text": [
      "Perturbing graph:  83%|████████▎ | 422/506 [17:50<03:29,  2.49s/it]"
     ]
    },
    {
     "name": "stdout",
     "output_type": "stream",
     "text": [
      "GCN loss on unlabled data: 2.5207598209381104\n",
      "GCN acc on unlabled data: 0.5797943674564149\n",
      "attack loss: 1.2174268960952759\n"
     ]
    },
    {
     "name": "stderr",
     "output_type": "stream",
     "text": [
      "Perturbing graph:  84%|████████▎ | 423/506 [17:53<03:27,  2.50s/it]"
     ]
    },
    {
     "name": "stdout",
     "output_type": "stream",
     "text": [
      "GCN loss on unlabled data: 2.4750232696533203\n",
      "GCN acc on unlabled data: 0.5829235583370586\n",
      "attack loss: 1.2001776695251465\n"
     ]
    },
    {
     "name": "stderr",
     "output_type": "stream",
     "text": [
      "Perturbing graph:  84%|████████▍ | 424/506 [17:55<03:24,  2.50s/it]"
     ]
    },
    {
     "name": "stdout",
     "output_type": "stream",
     "text": [
      "GCN loss on unlabled data: 2.531050443649292\n",
      "GCN acc on unlabled data: 0.5860527492177022\n",
      "attack loss: 1.2224351167678833\n"
     ]
    },
    {
     "name": "stderr",
     "output_type": "stream",
     "text": [
      "Perturbing graph:  84%|████████▍ | 425/506 [17:58<03:21,  2.49s/it]"
     ]
    },
    {
     "name": "stdout",
     "output_type": "stream",
     "text": [
      "GCN loss on unlabled data: 2.4542932510375977\n",
      "GCN acc on unlabled data: 0.5887349128296826\n",
      "attack loss: 1.1876193284988403\n"
     ]
    },
    {
     "name": "stderr",
     "output_type": "stream",
     "text": [
      "Perturbing graph:  84%|████████▍ | 426/506 [18:00<03:19,  2.49s/it]"
     ]
    },
    {
     "name": "stdout",
     "output_type": "stream",
     "text": [
      "GCN loss on unlabled data: 2.545647144317627\n",
      "GCN acc on unlabled data: 0.5713008493518105\n",
      "attack loss: 1.2260844707489014\n"
     ]
    },
    {
     "name": "stderr",
     "output_type": "stream",
     "text": [
      "Perturbing graph:  84%|████████▍ | 427/506 [18:03<03:16,  2.48s/it]"
     ]
    },
    {
     "name": "stdout",
     "output_type": "stream",
     "text": [
      "GCN loss on unlabled data: 2.4724302291870117\n",
      "GCN acc on unlabled data: 0.5797943674564149\n",
      "attack loss: 1.1988577842712402\n"
     ]
    },
    {
     "name": "stderr",
     "output_type": "stream",
     "text": [
      "Perturbing graph:  85%|████████▍ | 428/506 [18:05<03:14,  2.49s/it]"
     ]
    },
    {
     "name": "stdout",
     "output_type": "stream",
     "text": [
      "GCN loss on unlabled data: 2.5850632190704346\n",
      "GCN acc on unlabled data: 0.5802413947250782\n",
      "attack loss: 1.2478784322738647\n"
     ]
    },
    {
     "name": "stderr",
     "output_type": "stream",
     "text": [
      "Perturbing graph:  85%|████████▍ | 429/506 [18:08<03:12,  2.50s/it]"
     ]
    },
    {
     "name": "stdout",
     "output_type": "stream",
     "text": [
      "GCN loss on unlabled data: 2.546654224395752\n",
      "GCN acc on unlabled data: 0.5780062583817613\n",
      "attack loss: 1.2326428890228271\n"
     ]
    },
    {
     "name": "stderr",
     "output_type": "stream",
     "text": [
      "Perturbing graph:  85%|████████▍ | 430/506 [18:10<03:10,  2.51s/it]"
     ]
    },
    {
     "name": "stdout",
     "output_type": "stream",
     "text": [
      "GCN loss on unlabled data: 2.520249366760254\n",
      "GCN acc on unlabled data: 0.5744300402324541\n",
      "attack loss: 1.2255648374557495\n"
     ]
    },
    {
     "name": "stderr",
     "output_type": "stream",
     "text": [
      "Perturbing graph:  85%|████████▌ | 431/506 [18:13<03:07,  2.50s/it]"
     ]
    },
    {
     "name": "stdout",
     "output_type": "stream",
     "text": [
      "GCN loss on unlabled data: 2.524620771408081\n",
      "GCN acc on unlabled data: 0.5789003129190881\n",
      "attack loss: 1.2197962999343872\n"
     ]
    },
    {
     "name": "stderr",
     "output_type": "stream",
     "text": [
      "Perturbing graph:  85%|████████▌ | 432/506 [18:15<03:05,  2.50s/it]"
     ]
    },
    {
     "name": "stdout",
     "output_type": "stream",
     "text": [
      "GCN loss on unlabled data: 2.4488320350646973\n",
      "GCN acc on unlabled data: 0.5757711220384444\n",
      "attack loss: 1.1839427947998047\n"
     ]
    },
    {
     "name": "stderr",
     "output_type": "stream",
     "text": [
      "Perturbing graph:  86%|████████▌ | 433/506 [18:18<03:02,  2.49s/it]"
     ]
    },
    {
     "name": "stdout",
     "output_type": "stream",
     "text": [
      "GCN loss on unlabled data: 2.636289358139038\n",
      "GCN acc on unlabled data: 0.5739830129637908\n",
      "attack loss: 1.2786134481430054\n"
     ]
    },
    {
     "name": "stderr",
     "output_type": "stream",
     "text": [
      "Perturbing graph:  86%|████████▌ | 434/506 [18:20<02:58,  2.48s/it]"
     ]
    },
    {
     "name": "stdout",
     "output_type": "stream",
     "text": [
      "GCN loss on unlabled data: 2.5258126258850098\n",
      "GCN acc on unlabled data: 0.5748770675011176\n",
      "attack loss: 1.2166272401809692\n"
     ]
    },
    {
     "name": "stderr",
     "output_type": "stream",
     "text": [
      "Perturbing graph:  86%|████████▌ | 435/506 [18:23<02:55,  2.47s/it]"
     ]
    },
    {
     "name": "stdout",
     "output_type": "stream",
     "text": [
      "GCN loss on unlabled data: 2.53527569770813\n",
      "GCN acc on unlabled data: 0.5721949038891372\n",
      "attack loss: 1.2267972230911255\n"
     ]
    },
    {
     "name": "stderr",
     "output_type": "stream",
     "text": [
      "Perturbing graph:  86%|████████▌ | 436/506 [18:25<02:52,  2.47s/it]"
     ]
    },
    {
     "name": "stdout",
     "output_type": "stream",
     "text": [
      "GCN loss on unlabled data: 2.548804521560669\n",
      "GCN acc on unlabled data: 0.5771122038444345\n",
      "attack loss: 1.233504295349121\n"
     ]
    },
    {
     "name": "stderr",
     "output_type": "stream",
     "text": [
      "Perturbing graph:  86%|████████▋ | 437/506 [18:28<02:53,  2.51s/it]"
     ]
    },
    {
     "name": "stdout",
     "output_type": "stream",
     "text": [
      "GCN loss on unlabled data: 2.573697805404663\n",
      "GCN acc on unlabled data: 0.5739830129637908\n",
      "attack loss: 1.2464592456817627\n"
     ]
    },
    {
     "name": "stderr",
     "output_type": "stream",
     "text": [
      "Perturbing graph:  87%|████████▋ | 438/506 [18:30<02:50,  2.50s/it]"
     ]
    },
    {
     "name": "stdout",
     "output_type": "stream",
     "text": [
      "GCN loss on unlabled data: 2.5869054794311523\n",
      "GCN acc on unlabled data: 0.5726419311578006\n",
      "attack loss: 1.25259530544281\n"
     ]
    },
    {
     "name": "stderr",
     "output_type": "stream",
     "text": [
      "Perturbing graph:  87%|████████▋ | 439/506 [18:33<02:47,  2.50s/it]"
     ]
    },
    {
     "name": "stdout",
     "output_type": "stream",
     "text": [
      "GCN loss on unlabled data: 2.541199207305908\n",
      "GCN acc on unlabled data: 0.5704067948144836\n",
      "attack loss: 1.228147029876709\n"
     ]
    },
    {
     "name": "stderr",
     "output_type": "stream",
     "text": [
      "Perturbing graph:  87%|████████▋ | 440/506 [18:35<02:45,  2.51s/it]"
     ]
    },
    {
     "name": "stdout",
     "output_type": "stream",
     "text": [
      "GCN loss on unlabled data: 2.64174747467041\n",
      "GCN acc on unlabled data: 0.5757711220384444\n",
      "attack loss: 1.2700159549713135\n"
     ]
    },
    {
     "name": "stderr",
     "output_type": "stream",
     "text": [
      "Perturbing graph:  87%|████████▋ | 441/506 [18:38<02:42,  2.49s/it]"
     ]
    },
    {
     "name": "stdout",
     "output_type": "stream",
     "text": [
      "GCN loss on unlabled data: 2.591020107269287\n",
      "GCN acc on unlabled data: 0.5726419311578006\n",
      "attack loss: 1.2544434070587158\n"
     ]
    },
    {
     "name": "stderr",
     "output_type": "stream",
     "text": [
      "Perturbing graph:  87%|████████▋ | 442/506 [18:40<02:39,  2.49s/it]"
     ]
    },
    {
     "name": "stdout",
     "output_type": "stream",
     "text": [
      "GCN loss on unlabled data: 2.638836145401001\n",
      "GCN acc on unlabled data: 0.573088958426464\n",
      "attack loss: 1.2728047370910645\n"
     ]
    },
    {
     "name": "stderr",
     "output_type": "stream",
     "text": [
      "Perturbing graph:  88%|████████▊ | 443/506 [18:43<02:37,  2.49s/it]"
     ]
    },
    {
     "name": "stdout",
     "output_type": "stream",
     "text": [
      "GCN loss on unlabled data: 2.5906600952148438\n",
      "GCN acc on unlabled data: 0.5726419311578006\n",
      "attack loss: 1.260741949081421\n"
     ]
    },
    {
     "name": "stderr",
     "output_type": "stream",
     "text": [
      "Perturbing graph:  88%|████████▊ | 444/506 [18:45<02:34,  2.49s/it]"
     ]
    },
    {
     "name": "stdout",
     "output_type": "stream",
     "text": [
      "GCN loss on unlabled data: 2.6571645736694336\n",
      "GCN acc on unlabled data: 0.573088958426464\n",
      "attack loss: 1.272493839263916\n"
     ]
    },
    {
     "name": "stderr",
     "output_type": "stream",
     "text": [
      "Perturbing graph:  88%|████████▊ | 445/506 [18:48<02:31,  2.49s/it]"
     ]
    },
    {
     "name": "stdout",
     "output_type": "stream",
     "text": [
      "GCN loss on unlabled data: 2.5958070755004883\n",
      "GCN acc on unlabled data: 0.5713008493518105\n",
      "attack loss: 1.2511159181594849\n"
     ]
    },
    {
     "name": "stderr",
     "output_type": "stream",
     "text": [
      "Perturbing graph:  88%|████████▊ | 446/506 [18:50<02:29,  2.48s/it]"
     ]
    },
    {
     "name": "stdout",
     "output_type": "stream",
     "text": [
      "GCN loss on unlabled data: 2.6024537086486816\n",
      "GCN acc on unlabled data: 0.5748770675011176\n",
      "attack loss: 1.267242670059204\n"
     ]
    },
    {
     "name": "stderr",
     "output_type": "stream",
     "text": [
      "Perturbing graph:  88%|████████▊ | 447/506 [18:53<02:26,  2.48s/it]"
     ]
    },
    {
     "name": "stdout",
     "output_type": "stream",
     "text": [
      "GCN loss on unlabled data: 2.662144184112549\n",
      "GCN acc on unlabled data: 0.5681716584711668\n",
      "attack loss: 1.2953461408615112\n"
     ]
    },
    {
     "name": "stderr",
     "output_type": "stream",
     "text": [
      "Perturbing graph:  89%|████████▊ | 448/506 [18:55<02:24,  2.49s/it]"
     ]
    },
    {
     "name": "stdout",
     "output_type": "stream",
     "text": [
      "GCN loss on unlabled data: 2.7519218921661377\n",
      "GCN acc on unlabled data: 0.5726419311578006\n",
      "attack loss: 1.337951421737671\n"
     ]
    },
    {
     "name": "stderr",
     "output_type": "stream",
     "text": [
      "Perturbing graph:  89%|████████▊ | 449/506 [18:58<02:21,  2.48s/it]"
     ]
    },
    {
     "name": "stdout",
     "output_type": "stream",
     "text": [
      "GCN loss on unlabled data: 2.644364833831787\n",
      "GCN acc on unlabled data: 0.5721949038891372\n",
      "attack loss: 1.2853965759277344\n"
     ]
    },
    {
     "name": "stderr",
     "output_type": "stream",
     "text": [
      "Perturbing graph:  89%|████████▉ | 450/506 [19:00<02:18,  2.48s/it]"
     ]
    },
    {
     "name": "stdout",
     "output_type": "stream",
     "text": [
      "GCN loss on unlabled data: 2.6317849159240723\n",
      "GCN acc on unlabled data: 0.5748770675011176\n",
      "attack loss: 1.2703709602355957\n"
     ]
    },
    {
     "name": "stderr",
     "output_type": "stream",
     "text": [
      "Perturbing graph:  89%|████████▉ | 451/506 [19:03<02:16,  2.48s/it]"
     ]
    },
    {
     "name": "stdout",
     "output_type": "stream",
     "text": [
      "GCN loss on unlabled data: 2.5831713676452637\n",
      "GCN acc on unlabled data: 0.5784532856504246\n",
      "attack loss: 1.2568600177764893\n"
     ]
    },
    {
     "name": "stderr",
     "output_type": "stream",
     "text": [
      "Perturbing graph:  89%|████████▉ | 452/506 [19:05<02:13,  2.48s/it]"
     ]
    },
    {
     "name": "stdout",
     "output_type": "stream",
     "text": [
      "GCN loss on unlabled data: 2.605353355407715\n",
      "GCN acc on unlabled data: 0.5739830129637908\n",
      "attack loss: 1.2679121494293213\n"
     ]
    },
    {
     "name": "stderr",
     "output_type": "stream",
     "text": [
      "Perturbing graph:  90%|████████▉ | 453/506 [19:08<02:11,  2.49s/it]"
     ]
    },
    {
     "name": "stdout",
     "output_type": "stream",
     "text": [
      "GCN loss on unlabled data: 2.6187233924865723\n",
      "GCN acc on unlabled data: 0.5744300402324541\n",
      "attack loss: 1.2794196605682373\n"
     ]
    },
    {
     "name": "stderr",
     "output_type": "stream",
     "text": [
      "Perturbing graph:  90%|████████▉ | 454/506 [19:10<02:09,  2.50s/it]"
     ]
    },
    {
     "name": "stdout",
     "output_type": "stream",
     "text": [
      "GCN loss on unlabled data: 2.6608798503875732\n",
      "GCN acc on unlabled data: 0.5704067948144836\n",
      "attack loss: 1.2870817184448242\n"
     ]
    },
    {
     "name": "stderr",
     "output_type": "stream",
     "text": [
      "Perturbing graph:  90%|████████▉ | 455/506 [19:13<02:07,  2.50s/it]"
     ]
    },
    {
     "name": "stdout",
     "output_type": "stream",
     "text": [
      "GCN loss on unlabled data: 2.758121967315674\n",
      "GCN acc on unlabled data: 0.5686186857398301\n",
      "attack loss: 1.3393313884735107\n"
     ]
    },
    {
     "name": "stderr",
     "output_type": "stream",
     "text": [
      "Perturbing graph:  90%|█████████ | 456/506 [19:15<02:05,  2.50s/it]"
     ]
    },
    {
     "name": "stdout",
     "output_type": "stream",
     "text": [
      "GCN loss on unlabled data: 2.663576602935791\n",
      "GCN acc on unlabled data: 0.5699597675458203\n",
      "attack loss: 1.287163496017456\n"
     ]
    },
    {
     "name": "stderr",
     "output_type": "stream",
     "text": [
      "Perturbing graph:  90%|█████████ | 457/506 [19:18<02:02,  2.49s/it]"
     ]
    },
    {
     "name": "stdout",
     "output_type": "stream",
     "text": [
      "GCN loss on unlabled data: 2.7494592666625977\n",
      "GCN acc on unlabled data: 0.56727760393384\n",
      "attack loss: 1.3363157510757446\n"
     ]
    },
    {
     "name": "stderr",
     "output_type": "stream",
     "text": [
      "Perturbing graph:  91%|█████████ | 458/506 [19:20<01:59,  2.49s/it]"
     ]
    },
    {
     "name": "stdout",
     "output_type": "stream",
     "text": [
      "GCN loss on unlabled data: 2.6908469200134277\n",
      "GCN acc on unlabled data: 0.5780062583817613\n",
      "attack loss: 1.311711072921753\n"
     ]
    },
    {
     "name": "stderr",
     "output_type": "stream",
     "text": [
      "Perturbing graph:  91%|█████████ | 459/506 [19:23<01:56,  2.49s/it]"
     ]
    },
    {
     "name": "stdout",
     "output_type": "stream",
     "text": [
      "GCN loss on unlabled data: 2.719295024871826\n",
      "GCN acc on unlabled data: 0.575324094769781\n",
      "attack loss: 1.3212844133377075\n"
     ]
    },
    {
     "name": "stderr",
     "output_type": "stream",
     "text": [
      "Perturbing graph:  91%|█████████ | 460/506 [19:25<01:54,  2.48s/it]"
     ]
    },
    {
     "name": "stdout",
     "output_type": "stream",
     "text": [
      "GCN loss on unlabled data: 2.6187195777893066\n",
      "GCN acc on unlabled data: 0.5744300402324541\n",
      "attack loss: 1.2764537334442139\n"
     ]
    },
    {
     "name": "stderr",
     "output_type": "stream",
     "text": [
      "Perturbing graph:  91%|█████████ | 461/506 [19:27<01:51,  2.47s/it]"
     ]
    },
    {
     "name": "stdout",
     "output_type": "stream",
     "text": [
      "GCN loss on unlabled data: 2.817462205886841\n",
      "GCN acc on unlabled data: 0.5663835493965131\n",
      "attack loss: 1.365608811378479\n"
     ]
    },
    {
     "name": "stderr",
     "output_type": "stream",
     "text": [
      "Perturbing graph:  91%|█████████▏| 462/506 [19:30<01:49,  2.48s/it]"
     ]
    },
    {
     "name": "stdout",
     "output_type": "stream",
     "text": [
      "GCN loss on unlabled data: 2.7126107215881348\n",
      "GCN acc on unlabled data: 0.5713008493518105\n",
      "attack loss: 1.3154654502868652\n"
     ]
    },
    {
     "name": "stderr",
     "output_type": "stream",
     "text": [
      "Perturbing graph:  92%|█████████▏| 463/506 [19:32<01:47,  2.49s/it]"
     ]
    },
    {
     "name": "stdout",
     "output_type": "stream",
     "text": [
      "GCN loss on unlabled data: 2.674715280532837\n",
      "GCN acc on unlabled data: 0.5771122038444345\n",
      "attack loss: 1.2945626974105835\n"
     ]
    },
    {
     "name": "stderr",
     "output_type": "stream",
     "text": [
      "Perturbing graph:  92%|█████████▏| 464/506 [19:35<01:44,  2.48s/it]"
     ]
    },
    {
     "name": "stdout",
     "output_type": "stream",
     "text": [
      "GCN loss on unlabled data: 2.73644757270813\n",
      "GCN acc on unlabled data: 0.5717478766204739\n",
      "attack loss: 1.3315528631210327\n"
     ]
    },
    {
     "name": "stderr",
     "output_type": "stream",
     "text": [
      "Perturbing graph:  92%|█████████▏| 465/506 [19:37<01:41,  2.48s/it]"
     ]
    },
    {
     "name": "stdout",
     "output_type": "stream",
     "text": [
      "GCN loss on unlabled data: 2.781074047088623\n",
      "GCN acc on unlabled data: 0.5726419311578006\n",
      "attack loss: 1.347720742225647\n"
     ]
    },
    {
     "name": "stderr",
     "output_type": "stream",
     "text": [
      "Perturbing graph:  92%|█████████▏| 466/506 [19:40<01:39,  2.48s/it]"
     ]
    },
    {
     "name": "stdout",
     "output_type": "stream",
     "text": [
      "GCN loss on unlabled data: 2.644134044647217\n",
      "GCN acc on unlabled data: 0.5681716584711668\n",
      "attack loss: 1.2883491516113281\n"
     ]
    },
    {
     "name": "stderr",
     "output_type": "stream",
     "text": [
      "Perturbing graph:  92%|█████████▏| 467/506 [19:42<01:36,  2.48s/it]"
     ]
    },
    {
     "name": "stdout",
     "output_type": "stream",
     "text": [
      "GCN loss on unlabled data: 2.72841215133667\n",
      "GCN acc on unlabled data: 0.5717478766204739\n",
      "attack loss: 1.3267135620117188\n"
     ]
    },
    {
     "name": "stderr",
     "output_type": "stream",
     "text": [
      "Perturbing graph:  92%|█████████▏| 468/506 [19:45<01:33,  2.47s/it]"
     ]
    },
    {
     "name": "stdout",
     "output_type": "stream",
     "text": [
      "GCN loss on unlabled data: 2.8186137676239014\n",
      "GCN acc on unlabled data: 0.5690657130084935\n",
      "attack loss: 1.3701694011688232\n"
     ]
    },
    {
     "name": "stderr",
     "output_type": "stream",
     "text": [
      "Perturbing graph:  93%|█████████▎| 469/506 [19:47<01:31,  2.47s/it]"
     ]
    },
    {
     "name": "stdout",
     "output_type": "stream",
     "text": [
      "GCN loss on unlabled data: 2.66886568069458\n",
      "GCN acc on unlabled data: 0.562807331247206\n",
      "attack loss: 1.2983629703521729\n"
     ]
    },
    {
     "name": "stderr",
     "output_type": "stream",
     "text": [
      "Perturbing graph:  93%|█████████▎| 470/506 [19:50<01:28,  2.47s/it]"
     ]
    },
    {
     "name": "stdout",
     "output_type": "stream",
     "text": [
      "GCN loss on unlabled data: 2.718170642852783\n",
      "GCN acc on unlabled data: 0.5757711220384444\n",
      "attack loss: 1.3264003992080688\n"
     ]
    },
    {
     "name": "stderr",
     "output_type": "stream",
     "text": [
      "Perturbing graph:  93%|█████████▎| 471/506 [19:52<01:26,  2.46s/it]"
     ]
    },
    {
     "name": "stdout",
     "output_type": "stream",
     "text": [
      "GCN loss on unlabled data: 2.869504690170288\n",
      "GCN acc on unlabled data: 0.5695127402771569\n",
      "attack loss: 1.39452064037323\n"
     ]
    },
    {
     "name": "stderr",
     "output_type": "stream",
     "text": [
      "Perturbing graph:  93%|█████████▎| 472/506 [19:55<01:23,  2.46s/it]"
     ]
    },
    {
     "name": "stdout",
     "output_type": "stream",
     "text": [
      "GCN loss on unlabled data: 2.77530574798584\n",
      "GCN acc on unlabled data: 0.5744300402324541\n",
      "attack loss: 1.3522628545761108\n"
     ]
    },
    {
     "name": "stderr",
     "output_type": "stream",
     "text": [
      "Perturbing graph:  93%|█████████▎| 473/506 [19:57<01:21,  2.46s/it]"
     ]
    },
    {
     "name": "stdout",
     "output_type": "stream",
     "text": [
      "GCN loss on unlabled data: 2.789903402328491\n",
      "GCN acc on unlabled data: 0.5713008493518105\n",
      "attack loss: 1.3537652492523193\n"
     ]
    },
    {
     "name": "stderr",
     "output_type": "stream",
     "text": [
      "Perturbing graph:  94%|█████████▎| 474/506 [20:00<01:18,  2.46s/it]"
     ]
    },
    {
     "name": "stdout",
     "output_type": "stream",
     "text": [
      "GCN loss on unlabled data: 2.699596643447876\n",
      "GCN acc on unlabled data: 0.5771122038444345\n",
      "attack loss: 1.3145923614501953\n"
     ]
    },
    {
     "name": "stderr",
     "output_type": "stream",
     "text": [
      "Perturbing graph:  94%|█████████▍| 475/506 [20:02<01:16,  2.46s/it]"
     ]
    },
    {
     "name": "stdout",
     "output_type": "stream",
     "text": [
      "GCN loss on unlabled data: 2.670821189880371\n",
      "GCN acc on unlabled data: 0.5695127402771569\n",
      "attack loss: 1.3012391328811646\n"
     ]
    },
    {
     "name": "stderr",
     "output_type": "stream",
     "text": [
      "Perturbing graph:  94%|█████████▍| 476/506 [20:05<01:13,  2.46s/it]"
     ]
    },
    {
     "name": "stdout",
     "output_type": "stream",
     "text": [
      "GCN loss on unlabled data: 2.798344373703003\n",
      "GCN acc on unlabled data: 0.5686186857398301\n",
      "attack loss: 1.358245849609375\n"
     ]
    },
    {
     "name": "stderr",
     "output_type": "stream",
     "text": [
      "Perturbing graph:  94%|█████████▍| 477/506 [20:07<01:11,  2.46s/it]"
     ]
    },
    {
     "name": "stdout",
     "output_type": "stream",
     "text": [
      "GCN loss on unlabled data: 2.7258429527282715\n",
      "GCN acc on unlabled data: 0.5717478766204739\n",
      "attack loss: 1.3262134790420532\n"
     ]
    },
    {
     "name": "stderr",
     "output_type": "stream",
     "text": [
      "Perturbing graph:  94%|█████████▍| 478/506 [20:09<01:09,  2.47s/it]"
     ]
    },
    {
     "name": "stdout",
     "output_type": "stream",
     "text": [
      "GCN loss on unlabled data: 2.724263906478882\n",
      "GCN acc on unlabled data: 0.5699597675458203\n",
      "attack loss: 1.3223448991775513\n"
     ]
    },
    {
     "name": "stderr",
     "output_type": "stream",
     "text": [
      "Perturbing graph:  95%|█████████▍| 479/506 [20:12<01:06,  2.46s/it]"
     ]
    },
    {
     "name": "stdout",
     "output_type": "stream",
     "text": [
      "GCN loss on unlabled data: 2.833876609802246\n",
      "GCN acc on unlabled data: 0.5690657130084935\n",
      "attack loss: 1.3747433423995972\n"
     ]
    },
    {
     "name": "stderr",
     "output_type": "stream",
     "text": [
      "Perturbing graph:  95%|█████████▍| 480/506 [20:14<01:04,  2.46s/it]"
     ]
    },
    {
     "name": "stdout",
     "output_type": "stream",
     "text": [
      "GCN loss on unlabled data: 2.899322509765625\n",
      "GCN acc on unlabled data: 0.573088958426464\n",
      "attack loss: 1.4056636095046997\n"
     ]
    },
    {
     "name": "stderr",
     "output_type": "stream",
     "text": [
      "Perturbing graph:  95%|█████████▌| 481/506 [20:17<01:01,  2.46s/it]"
     ]
    },
    {
     "name": "stdout",
     "output_type": "stream",
     "text": [
      "GCN loss on unlabled data: 2.7802963256835938\n",
      "GCN acc on unlabled data: 0.56727760393384\n",
      "attack loss: 1.3587015867233276\n"
     ]
    },
    {
     "name": "stderr",
     "output_type": "stream",
     "text": [
      "Perturbing graph:  95%|█████████▌| 482/506 [20:19<00:58,  2.46s/it]"
     ]
    },
    {
     "name": "stdout",
     "output_type": "stream",
     "text": [
      "GCN loss on unlabled data: 2.9688241481781006\n",
      "GCN acc on unlabled data: 0.5704067948144836\n",
      "attack loss: 1.4399685859680176\n"
     ]
    },
    {
     "name": "stderr",
     "output_type": "stream",
     "text": [
      "Perturbing graph:  95%|█████████▌| 483/506 [20:22<00:56,  2.45s/it]"
     ]
    },
    {
     "name": "stdout",
     "output_type": "stream",
     "text": [
      "GCN loss on unlabled data: 2.850903034210205\n",
      "GCN acc on unlabled data: 0.5739830129637908\n",
      "attack loss: 1.3883577585220337\n"
     ]
    },
    {
     "name": "stderr",
     "output_type": "stream",
     "text": [
      "Perturbing graph:  96%|█████████▌| 484/506 [20:24<00:53,  2.45s/it]"
     ]
    },
    {
     "name": "stdout",
     "output_type": "stream",
     "text": [
      "GCN loss on unlabled data: 2.790318012237549\n",
      "GCN acc on unlabled data: 0.5713008493518105\n",
      "attack loss: 1.3633370399475098\n"
     ]
    },
    {
     "name": "stderr",
     "output_type": "stream",
     "text": [
      "Perturbing graph:  96%|█████████▌| 485/506 [20:27<00:52,  2.49s/it]"
     ]
    },
    {
     "name": "stdout",
     "output_type": "stream",
     "text": [
      "GCN loss on unlabled data: 2.8469629287719727\n",
      "GCN acc on unlabled data: 0.5748770675011176\n",
      "attack loss: 1.3886114358901978\n"
     ]
    },
    {
     "name": "stderr",
     "output_type": "stream",
     "text": [
      "Perturbing graph:  96%|█████████▌| 486/506 [20:29<00:49,  2.48s/it]"
     ]
    },
    {
     "name": "stdout",
     "output_type": "stream",
     "text": [
      "GCN loss on unlabled data: 2.8096888065338135\n",
      "GCN acc on unlabled data: 0.5645954403218596\n",
      "attack loss: 1.3633571863174438\n"
     ]
    },
    {
     "name": "stderr",
     "output_type": "stream",
     "text": [
      "Perturbing graph:  96%|█████████▌| 487/506 [20:32<00:46,  2.47s/it]"
     ]
    },
    {
     "name": "stdout",
     "output_type": "stream",
     "text": [
      "GCN loss on unlabled data: 2.8722102642059326\n",
      "GCN acc on unlabled data: 0.5637013857845329\n",
      "attack loss: 1.3953497409820557\n"
     ]
    },
    {
     "name": "stderr",
     "output_type": "stream",
     "text": [
      "Perturbing graph:  96%|█████████▋| 488/506 [20:34<00:44,  2.48s/it]"
     ]
    },
    {
     "name": "stdout",
     "output_type": "stream",
     "text": [
      "GCN loss on unlabled data: 2.786907196044922\n",
      "GCN acc on unlabled data: 0.5766651765757711\n",
      "attack loss: 1.3622100353240967\n"
     ]
    },
    {
     "name": "stderr",
     "output_type": "stream",
     "text": [
      "Perturbing graph:  97%|█████████▋| 489/506 [20:37<00:41,  2.47s/it]"
     ]
    },
    {
     "name": "stdout",
     "output_type": "stream",
     "text": [
      "GCN loss on unlabled data: 2.7724223136901855\n",
      "GCN acc on unlabled data: 0.5735359856951274\n",
      "attack loss: 1.3525172472000122\n"
     ]
    },
    {
     "name": "stderr",
     "output_type": "stream",
     "text": [
      "Perturbing graph:  97%|█████████▋| 490/506 [20:39<00:39,  2.47s/it]"
     ]
    },
    {
     "name": "stdout",
     "output_type": "stream",
     "text": [
      "GCN loss on unlabled data: 2.853656530380249\n",
      "GCN acc on unlabled data: 0.5690657130084935\n",
      "attack loss: 1.3945612907409668\n"
     ]
    },
    {
     "name": "stderr",
     "output_type": "stream",
     "text": [
      "Perturbing graph:  97%|█████████▋| 491/506 [20:42<00:37,  2.47s/it]"
     ]
    },
    {
     "name": "stdout",
     "output_type": "stream",
     "text": [
      "GCN loss on unlabled data: 2.8469655513763428\n",
      "GCN acc on unlabled data: 0.5632543585158695\n",
      "attack loss: 1.391571044921875\n"
     ]
    },
    {
     "name": "stderr",
     "output_type": "stream",
     "text": [
      "Perturbing graph:  97%|█████████▋| 492/506 [20:44<00:34,  2.49s/it]"
     ]
    },
    {
     "name": "stdout",
     "output_type": "stream",
     "text": [
      "GCN loss on unlabled data: 2.8276453018188477\n",
      "GCN acc on unlabled data: 0.559231113097899\n",
      "attack loss: 1.383077621459961\n"
     ]
    },
    {
     "name": "stderr",
     "output_type": "stream",
     "text": [
      "Perturbing graph:  97%|█████████▋| 493/506 [20:47<00:32,  2.48s/it]"
     ]
    },
    {
     "name": "stdout",
     "output_type": "stream",
     "text": [
      "GCN loss on unlabled data: 2.814466953277588\n",
      "GCN acc on unlabled data: 0.5699597675458203\n",
      "attack loss: 1.378998875617981\n"
     ]
    },
    {
     "name": "stderr",
     "output_type": "stream",
     "text": [
      "Perturbing graph:  98%|█████████▊| 494/506 [20:49<00:29,  2.49s/it]"
     ]
    },
    {
     "name": "stdout",
     "output_type": "stream",
     "text": [
      "GCN loss on unlabled data: 2.899460554122925\n",
      "GCN acc on unlabled data: 0.5690657130084935\n",
      "attack loss: 1.41348397731781\n"
     ]
    },
    {
     "name": "stderr",
     "output_type": "stream",
     "text": [
      "Perturbing graph:  98%|█████████▊| 495/506 [20:52<00:27,  2.49s/it]"
     ]
    },
    {
     "name": "stdout",
     "output_type": "stream",
     "text": [
      "GCN loss on unlabled data: 2.906111240386963\n",
      "GCN acc on unlabled data: 0.5610192221725525\n",
      "attack loss: 1.4152226448059082\n"
     ]
    },
    {
     "name": "stderr",
     "output_type": "stream",
     "text": [
      "Perturbing graph:  98%|█████████▊| 496/506 [20:54<00:25,  2.51s/it]"
     ]
    },
    {
     "name": "stdout",
     "output_type": "stream",
     "text": [
      "GCN loss on unlabled data: 2.996938943862915\n",
      "GCN acc on unlabled data: 0.5605721949038891\n",
      "attack loss: 1.4534298181533813\n"
     ]
    },
    {
     "name": "stderr",
     "output_type": "stream",
     "text": [
      "Perturbing graph:  98%|█████████▊| 497/506 [20:57<00:22,  2.52s/it]"
     ]
    },
    {
     "name": "stdout",
     "output_type": "stream",
     "text": [
      "GCN loss on unlabled data: 2.817138671875\n",
      "GCN acc on unlabled data: 0.562807331247206\n",
      "attack loss: 1.3847073316574097\n"
     ]
    },
    {
     "name": "stderr",
     "output_type": "stream",
     "text": [
      "Perturbing graph:  98%|█████████▊| 498/506 [20:59<00:20,  2.52s/it]"
     ]
    },
    {
     "name": "stdout",
     "output_type": "stream",
     "text": [
      "GCN loss on unlabled data: 2.952460527420044\n",
      "GCN acc on unlabled data: 0.5659365221278498\n",
      "attack loss: 1.4406230449676514\n"
     ]
    },
    {
     "name": "stderr",
     "output_type": "stream",
     "text": [
      "Perturbing graph:  99%|█████████▊| 499/506 [21:02<00:17,  2.52s/it]"
     ]
    },
    {
     "name": "stdout",
     "output_type": "stream",
     "text": [
      "GCN loss on unlabled data: 3.029526948928833\n",
      "GCN acc on unlabled data: 0.559231113097899\n",
      "attack loss: 1.4752321243286133\n"
     ]
    },
    {
     "name": "stderr",
     "output_type": "stream",
     "text": [
      "Perturbing graph:  99%|█████████▉| 500/506 [21:04<00:15,  2.53s/it]"
     ]
    },
    {
     "name": "stdout",
     "output_type": "stream",
     "text": [
      "GCN loss on unlabled data: 2.9036965370178223\n",
      "GCN acc on unlabled data: 0.5623603039785426\n",
      "attack loss: 1.424861192703247\n"
     ]
    },
    {
     "name": "stderr",
     "output_type": "stream",
     "text": [
      "Perturbing graph:  99%|█████████▉| 501/506 [21:07<00:12,  2.51s/it]"
     ]
    },
    {
     "name": "stdout",
     "output_type": "stream",
     "text": [
      "GCN loss on unlabled data: 2.9256200790405273\n",
      "GCN acc on unlabled data: 0.5659365221278498\n",
      "attack loss: 1.4330426454544067\n"
     ]
    },
    {
     "name": "stderr",
     "output_type": "stream",
     "text": [
      "Perturbing graph:  99%|█████████▉| 502/506 [21:09<00:09,  2.50s/it]"
     ]
    },
    {
     "name": "stdout",
     "output_type": "stream",
     "text": [
      "GCN loss on unlabled data: 3.0275983810424805\n",
      "GCN acc on unlabled data: 0.5601251676352258\n",
      "attack loss: 1.485235333442688\n"
     ]
    },
    {
     "name": "stderr",
     "output_type": "stream",
     "text": [
      "Perturbing graph:  99%|█████████▉| 503/506 [21:12<00:07,  2.49s/it]"
     ]
    },
    {
     "name": "stdout",
     "output_type": "stream",
     "text": [
      "GCN loss on unlabled data: 2.9158060550689697\n",
      "GCN acc on unlabled data: 0.562807331247206\n",
      "attack loss: 1.424372911453247\n"
     ]
    },
    {
     "name": "stderr",
     "output_type": "stream",
     "text": [
      "Perturbing graph: 100%|█████████▉| 504/506 [21:14<00:04,  2.49s/it]"
     ]
    },
    {
     "name": "stdout",
     "output_type": "stream",
     "text": [
      "GCN loss on unlabled data: 2.907719135284424\n",
      "GCN acc on unlabled data: 0.5686186857398301\n",
      "attack loss: 1.422203540802002\n"
     ]
    },
    {
     "name": "stderr",
     "output_type": "stream",
     "text": [
      "Perturbing graph: 100%|█████████▉| 505/506 [21:17<00:02,  2.49s/it]"
     ]
    },
    {
     "name": "stdout",
     "output_type": "stream",
     "text": [
      "GCN loss on unlabled data: 3.0190513134002686\n",
      "GCN acc on unlabled data: 0.5641484130531963\n",
      "attack loss: 1.468617558479309\n"
     ]
    },
    {
     "name": "stderr",
     "output_type": "stream",
     "text": [
      "Perturbing graph: 100%|██████████| 506/506 [21:19<00:00,  2.53s/it]"
     ]
    },
    {
     "name": "stdout",
     "output_type": "stream",
     "text": [
      "🧨 Evasion Attack Test Accuracy: 0.8028\n",
      "📉 Accuracy Drop due to Evasion Attack: 0.0141\n"
     ]
    },
    {
     "name": "stderr",
     "output_type": "stream",
     "text": [
      "\n"
     ]
    }
   ],
   "source": [
    "import torch\n",
    "import numpy as np\n",
    "import scipy.sparse as sp\n",
    "\n",
    "from deeprobust.graph.data import Dataset\n",
    "from deeprobust.graph.defense import GCN\n",
    "from deeprobust.graph.global_attack import Metattack\n",
    "from deeprobust.graph.utils import normalize_adj, sparse_mx_to_torch_sparse_tensor\n",
    "\n",
    "# Device setup\n",
    "device = torch.device(\"cpu\")\n",
    "\n",
    "# 1. Load the Cora dataset\n",
    "data = Dataset(root='/tmp/', name='cora', setting='nettack')\n",
    "adj, features, labels = data.adj, data.features, data.labels\n",
    "idx_train, idx_val, idx_test = data.idx_train, data.idx_val, data.idx_test\n",
    "idx_unlabeled = np.union1d(idx_val, idx_test)\n",
    "\n",
    "# 2. Train GCN on the clean graph\n",
    "model_clean = GCN(nfeat=features.shape[1],\n",
    "                  nclass=labels.max().item() + 1,\n",
    "                  nhid=64,\n",
    "                  with_relu=False,\n",
    "                  dropout=0.5,\n",
    "                  device=device)\n",
    "model_clean = model_clean.to(device)\n",
    "model_clean.fit(features, adj, labels, idx_train)\n",
    "\n",
    "# 3. Ensure features and labels are PyTorch tensors on GPU for inference\n",
    "if isinstance(features, np.ndarray):\n",
    "    features = torch.FloatTensor(features).to(device)\n",
    "elif not isinstance(features, torch.Tensor):\n",
    "    features = torch.FloatTensor(features.A).to(device)\n",
    "else:\n",
    "    features = features.to(device)\n",
    "\n",
    "if isinstance(labels, np.ndarray):\n",
    "    labels = torch.LongTensor(labels).to(device)\n",
    "\n",
    "# 4. Evaluate accuracy on the clean graph\n",
    "adj_norm = normalize_adj(adj)\n",
    "adj_tensor = sparse_mx_to_torch_sparse_tensor(adj_norm).to(device)\n",
    "\n",
    "model_clean.eval()\n",
    "output_clean = model_clean.predict(features, adj_tensor)\n",
    "preds_clean = output_clean.argmax(dim=1)\n",
    "\n",
    "correct_clean = preds_clean[idx_test].eq(labels[idx_test]).sum().item()\n",
    "acc_clean = correct_clean / len(idx_test)\n",
    "print(f\"✅ Clean Graph Test Accuracy: {acc_clean:.4f}\")\n",
    "\n",
    "# 5. Prepare for Metattack (move inputs to CPU)\n",
    "features_cpu = features.cpu()\n",
    "labels_cpu = labels.cpu()\n",
    "\n",
    "# 6. Apply evasion attack (perturb structure after training)\n",
    "attack_model = Metattack(model=model_clean,\n",
    "                         nnodes=adj.shape[0],\n",
    "                         feature_shape=features.shape,\n",
    "                         attack_structure=True,\n",
    "                         attack_features=False,\n",
    "                         device=device)\n",
    "attack_model = attack_model.to(device)\n",
    "\n",
    "perturbations = int(0.10 * (adj.sum() // 2))  # 5% of total edges\n",
    "attack_model.attack(features_cpu, adj, labels_cpu, idx_train, idx_unlabeled, perturbations, ll_constraint=False)\n",
    "modified_adj = attack_model.modified_adj\n",
    "\n",
    "# 7. Normalize and convert modified adj to PyTorch sparse tensor\n",
    "if isinstance(modified_adj, torch.Tensor):\n",
    "    modified_adj = modified_adj.cpu().numpy()\n",
    "    modified_adj = sp.csr_matrix(modified_adj)\n",
    "\n",
    "modified_adj_norm = normalize_adj(modified_adj)\n",
    "modified_adj_tensor = sparse_mx_to_torch_sparse_tensor(modified_adj_norm).to(device)\n",
    "\n",
    "# 8. Evaluate model on the attacked graph\n",
    "output_adv = model_clean.predict(features, modified_adj_tensor)\n",
    "preds_adv = output_adv.argmax(dim=1)\n",
    "\n",
    "correct_adv = preds_adv[idx_test].eq(labels[idx_test]).sum().item()\n",
    "acc_evasion = correct_adv / len(idx_test)\n",
    "print(f\"🧨 Evasion Attack Test Accuracy: {acc_evasion:.4f}\")\n",
    "\n",
    "# 9. Compute and report accuracy drop\n",
    "acc_drop = acc_clean - acc_evasion\n",
    "print(f\"📉 Accuracy Drop due to Evasion Attack: {acc_drop:.4f}\")\n"
   ]
  },
  {
   "cell_type": "code",
   "execution_count": null,
   "id": "a08db01f-6bb6-4b6f-87b2-4272578ebf7e",
   "metadata": {},
   "outputs": [
    {
     "name": "stdout",
     "output_type": "stream",
     "text": [
      "Loading cora dataset...\n",
      "Selecting 1 largest connected components\n",
      "✅ Clean Graph Test Accuracy: 0.8159\n"
     ]
    },
    {
     "name": "stderr",
     "output_type": "stream",
     "text": [
      "Perturbing graph:   0%|                                                                         | 0/760 [00:00<?, ?it/s]"
     ]
    },
    {
     "name": "stdout",
     "output_type": "stream",
     "text": [
      "GCN loss on unlabled data: 0.5101723670959473\n",
      "GCN acc on unlabled data: 0.8453285650424676\n",
      "attack loss: 0.197859525680542\n"
     ]
    },
    {
     "name": "stderr",
     "output_type": "stream",
     "text": [
      "Perturbing graph:   0%|                                                               | 1/760 [00:08<1:46:53,  8.45s/it]"
     ]
    },
    {
     "name": "stdout",
     "output_type": "stream",
     "text": [
      "GCN loss on unlabled data: 0.4966593086719513\n",
      "GCN acc on unlabled data: 0.8493518104604381\n",
      "attack loss: 0.1960643082857132\n"
     ]
    },
    {
     "name": "stderr",
     "output_type": "stream",
     "text": [
      "Perturbing graph:   0%|▏                                                              | 2/760 [00:15<1:39:43,  7.89s/it]"
     ]
    },
    {
     "name": "stdout",
     "output_type": "stream",
     "text": [
      "GCN loss on unlabled data: 0.509137749671936\n",
      "GCN acc on unlabled data: 0.8408582923558338\n",
      "attack loss: 0.20191381871700287\n"
     ]
    },
    {
     "name": "stderr",
     "output_type": "stream",
     "text": [
      "Perturbing graph:   0%|▏                                                              | 3/760 [00:23<1:36:08,  7.62s/it]"
     ]
    },
    {
     "name": "stdout",
     "output_type": "stream",
     "text": [
      "GCN loss on unlabled data: 0.5179208517074585\n",
      "GCN acc on unlabled data: 0.8413053196244971\n",
      "attack loss: 0.196570485830307\n"
     ]
    },
    {
     "name": "stderr",
     "output_type": "stream",
     "text": [
      "Perturbing graph:   1%|▎                                                              | 4/760 [00:30<1:35:59,  7.62s/it]"
     ]
    },
    {
     "name": "stdout",
     "output_type": "stream",
     "text": [
      "GCN loss on unlabled data: 0.5354430079460144\n",
      "GCN acc on unlabled data: 0.8395172105498435\n",
      "attack loss: 0.20643557608127594\n"
     ]
    },
    {
     "name": "stderr",
     "output_type": "stream",
     "text": [
      "Perturbing graph:   1%|▍                                                              | 5/760 [00:38<1:34:33,  7.51s/it]"
     ]
    },
    {
     "name": "stdout",
     "output_type": "stream",
     "text": [
      "GCN loss on unlabled data: 0.5373220443725586\n",
      "GCN acc on unlabled data: 0.8399642378185069\n",
      "attack loss: 0.20267872512340546\n"
     ]
    },
    {
     "name": "stderr",
     "output_type": "stream",
     "text": [
      "Perturbing graph:   1%|▍                                                              | 6/760 [00:45<1:34:21,  7.51s/it]"
     ]
    },
    {
     "name": "stdout",
     "output_type": "stream",
     "text": [
      "GCN loss on unlabled data: 0.5105194449424744\n",
      "GCN acc on unlabled data: 0.8439874832364774\n",
      "attack loss: 0.20983657240867615\n"
     ]
    },
    {
     "name": "stderr",
     "output_type": "stream",
     "text": [
      "Perturbing graph:   1%|▌                                                              | 7/760 [00:53<1:33:30,  7.45s/it]"
     ]
    },
    {
     "name": "stdout",
     "output_type": "stream",
     "text": [
      "GCN loss on unlabled data: 0.5313778519630432\n",
      "GCN acc on unlabled data: 0.8408582923558338\n",
      "attack loss: 0.2133781611919403\n"
     ]
    },
    {
     "name": "stderr",
     "output_type": "stream",
     "text": [
      "Perturbing graph:   1%|▋                                                              | 8/760 [01:00<1:31:44,  7.32s/it]"
     ]
    },
    {
     "name": "stdout",
     "output_type": "stream",
     "text": [
      "GCN loss on unlabled data: 0.5328451991081238\n",
      "GCN acc on unlabled data: 0.8314707197139025\n",
      "attack loss: 0.21636253595352173\n"
     ]
    },
    {
     "name": "stderr",
     "output_type": "stream",
     "text": [
      "Perturbing graph:   1%|▋                                                              | 9/760 [01:07<1:32:21,  7.38s/it]"
     ]
    },
    {
     "name": "stdout",
     "output_type": "stream",
     "text": [
      "GCN loss on unlabled data: 0.5417004227638245\n",
      "GCN acc on unlabled data: 0.8341528833258829\n",
      "attack loss: 0.21116024255752563\n"
     ]
    },
    {
     "name": "stderr",
     "output_type": "stream",
     "text": [
      "Perturbing graph:   1%|▊                                                             | 10/760 [01:15<1:33:12,  7.46s/it]"
     ]
    },
    {
     "name": "stdout",
     "output_type": "stream",
     "text": [
      "GCN loss on unlabled data: 0.5495368838310242\n",
      "GCN acc on unlabled data: 0.8301296379079124\n",
      "attack loss: 0.220241516828537\n"
     ]
    },
    {
     "name": "stderr",
     "output_type": "stream",
     "text": [
      "Perturbing graph:   1%|▉                                                             | 11/760 [01:22<1:32:13,  7.39s/it]"
     ]
    },
    {
     "name": "stdout",
     "output_type": "stream",
     "text": [
      "GCN loss on unlabled data: 0.5536813735961914\n",
      "GCN acc on unlabled data: 0.8314707197139025\n",
      "attack loss: 0.21930643916130066\n"
     ]
    },
    {
     "name": "stderr",
     "output_type": "stream",
     "text": [
      "Perturbing graph:   2%|▉                                                             | 12/760 [01:29<1:32:06,  7.39s/it]"
     ]
    },
    {
     "name": "stdout",
     "output_type": "stream",
     "text": [
      "GCN loss on unlabled data: 0.5565453767776489\n",
      "GCN acc on unlabled data: 0.827447474295932\n",
      "attack loss: 0.225552499294281\n"
     ]
    },
    {
     "name": "stderr",
     "output_type": "stream",
     "text": [
      "Perturbing graph:   2%|█                                                             | 13/760 [01:37<1:33:06,  7.48s/it]"
     ]
    },
    {
     "name": "stdout",
     "output_type": "stream",
     "text": [
      "GCN loss on unlabled data: 0.5647712349891663\n",
      "GCN acc on unlabled data: 0.8305766651765758\n",
      "attack loss: 0.22509853541851044\n"
     ]
    },
    {
     "name": "stderr",
     "output_type": "stream",
     "text": [
      "Perturbing graph:   2%|█▏                                                            | 14/760 [01:44<1:32:36,  7.45s/it]"
     ]
    },
    {
     "name": "stdout",
     "output_type": "stream",
     "text": [
      "GCN loss on unlabled data: 0.5536161661148071\n",
      "GCN acc on unlabled data: 0.8341528833258829\n",
      "attack loss: 0.21562865376472473\n"
     ]
    },
    {
     "name": "stderr",
     "output_type": "stream",
     "text": [
      "Perturbing graph:   2%|█▏                                                            | 15/760 [01:52<1:31:35,  7.38s/it]"
     ]
    },
    {
     "name": "stdout",
     "output_type": "stream",
     "text": [
      "GCN loss on unlabled data: 0.5871663689613342\n",
      "GCN acc on unlabled data: 0.8270004470272687\n",
      "attack loss: 0.22714057564735413\n"
     ]
    },
    {
     "name": "stderr",
     "output_type": "stream",
     "text": [
      "Perturbing graph:   2%|█▎                                                            | 16/760 [01:59<1:31:36,  7.39s/it]"
     ]
    },
    {
     "name": "stdout",
     "output_type": "stream",
     "text": [
      "GCN loss on unlabled data: 0.5793284773826599\n",
      "GCN acc on unlabled data: 0.8287885561019223\n",
      "attack loss: 0.22801730036735535\n"
     ]
    },
    {
     "name": "stderr",
     "output_type": "stream",
     "text": [
      "Perturbing graph:   2%|█▍                                                            | 17/760 [02:07<1:31:59,  7.43s/it]"
     ]
    },
    {
     "name": "stdout",
     "output_type": "stream",
     "text": [
      "GCN loss on unlabled data: 0.5855697393417358\n",
      "GCN acc on unlabled data: 0.8292355833705856\n",
      "attack loss: 0.23085707426071167\n"
     ]
    },
    {
     "name": "stderr",
     "output_type": "stream",
     "text": [
      "Perturbing graph:   2%|█▍                                                            | 18/760 [02:14<1:31:52,  7.43s/it]"
     ]
    },
    {
     "name": "stdout",
     "output_type": "stream",
     "text": [
      "GCN loss on unlabled data: 0.5686634182929993\n",
      "GCN acc on unlabled data: 0.8319177469825659\n",
      "attack loss: 0.23484355211257935\n"
     ]
    },
    {
     "name": "stderr",
     "output_type": "stream",
     "text": [
      "Perturbing graph:   2%|█▌                                                            | 19/760 [02:22<1:32:17,  7.47s/it]"
     ]
    },
    {
     "name": "stdout",
     "output_type": "stream",
     "text": [
      "GCN loss on unlabled data: 0.562574565410614\n",
      "GCN acc on unlabled data: 0.8341528833258829\n",
      "attack loss: 0.22942449152469635\n"
     ]
    },
    {
     "name": "stderr",
     "output_type": "stream",
     "text": [
      "Perturbing graph:   3%|█▋                                                            | 20/760 [02:29<1:31:37,  7.43s/it]"
     ]
    },
    {
     "name": "stdout",
     "output_type": "stream",
     "text": [
      "GCN loss on unlabled data: 0.5896029472351074\n",
      "GCN acc on unlabled data: 0.8301296379079124\n",
      "attack loss: 0.2432517111301422\n"
     ]
    },
    {
     "name": "stderr",
     "output_type": "stream",
     "text": [
      "Perturbing graph:   3%|█▋                                                            | 21/760 [02:36<1:31:08,  7.40s/it]"
     ]
    },
    {
     "name": "stdout",
     "output_type": "stream",
     "text": [
      "GCN loss on unlabled data: 0.5853045582771301\n",
      "GCN acc on unlabled data: 0.8278945015645954\n",
      "attack loss: 0.23881982266902924\n"
     ]
    },
    {
     "name": "stderr",
     "output_type": "stream",
     "text": [
      "Perturbing graph:   3%|█▊                                                            | 22/760 [02:43<1:29:49,  7.30s/it]"
     ]
    },
    {
     "name": "stdout",
     "output_type": "stream",
     "text": [
      "GCN loss on unlabled data: 0.5870453715324402\n",
      "GCN acc on unlabled data: 0.8247653106839518\n",
      "attack loss: 0.24239160120487213\n"
     ]
    },
    {
     "name": "stderr",
     "output_type": "stream",
     "text": [
      "Perturbing graph:   3%|█▉                                                            | 23/760 [02:50<1:29:07,  7.26s/it]"
     ]
    },
    {
     "name": "stdout",
     "output_type": "stream",
     "text": [
      "GCN loss on unlabled data: 0.5992479920387268\n",
      "GCN acc on unlabled data: 0.8220831470719714\n",
      "attack loss: 0.24631883203983307\n"
     ]
    },
    {
     "name": "stderr",
     "output_type": "stream",
     "text": [
      "Perturbing graph:   3%|█▉                                                            | 24/760 [02:58<1:30:33,  7.38s/it]"
     ]
    },
    {
     "name": "stdout",
     "output_type": "stream",
     "text": [
      "GCN loss on unlabled data: 0.6054346561431885\n",
      "GCN acc on unlabled data: 0.8265534197586053\n",
      "attack loss: 0.250614196062088\n"
     ]
    },
    {
     "name": "stderr",
     "output_type": "stream",
     "text": [
      "Perturbing graph:   3%|██                                                            | 25/760 [03:06<1:30:49,  7.41s/it]"
     ]
    },
    {
     "name": "stdout",
     "output_type": "stream",
     "text": [
      "GCN loss on unlabled data: 0.6010361313819885\n",
      "GCN acc on unlabled data: 0.8252123379526151\n",
      "attack loss: 0.24665336310863495\n"
     ]
    },
    {
     "name": "stderr",
     "output_type": "stream",
     "text": [
      "Perturbing graph:   3%|██                                                            | 26/760 [03:13<1:30:57,  7.44s/it]"
     ]
    },
    {
     "name": "stdout",
     "output_type": "stream",
     "text": [
      "GCN loss on unlabled data: 0.6197165846824646\n",
      "GCN acc on unlabled data: 0.8234242288779615\n",
      "attack loss: 0.24998535215854645\n"
     ]
    },
    {
     "name": "stderr",
     "output_type": "stream",
     "text": [
      "Perturbing graph:   4%|██▏                                                           | 27/760 [03:21<1:32:58,  7.61s/it]"
     ]
    },
    {
     "name": "stdout",
     "output_type": "stream",
     "text": [
      "GCN loss on unlabled data: 0.6140020489692688\n",
      "GCN acc on unlabled data: 0.8211890925346446\n",
      "attack loss: 0.2548699378967285\n"
     ]
    },
    {
     "name": "stderr",
     "output_type": "stream",
     "text": [
      "Perturbing graph:   4%|██▎                                                           | 28/760 [03:29<1:32:50,  7.61s/it]"
     ]
    },
    {
     "name": "stdout",
     "output_type": "stream",
     "text": [
      "GCN loss on unlabled data: 0.6189379096031189\n",
      "GCN acc on unlabled data: 0.8220831470719714\n",
      "attack loss: 0.25225070118904114\n"
     ]
    },
    {
     "name": "stderr",
     "output_type": "stream",
     "text": [
      "Perturbing graph:   4%|██▎                                                           | 29/760 [03:36<1:32:49,  7.62s/it]"
     ]
    },
    {
     "name": "stdout",
     "output_type": "stream",
     "text": [
      "GCN loss on unlabled data: 0.6256521940231323\n",
      "GCN acc on unlabled data: 0.8202950379973178\n",
      "attack loss: 0.2610304653644562\n"
     ]
    },
    {
     "name": "stderr",
     "output_type": "stream",
     "text": [
      "Perturbing graph:   4%|██▍                                                           | 30/760 [03:44<1:33:00,  7.64s/it]"
     ]
    },
    {
     "name": "stdout",
     "output_type": "stream",
     "text": [
      "GCN loss on unlabled data: 0.617159366607666\n",
      "GCN acc on unlabled data: 0.821636119803308\n",
      "attack loss: 0.2517172396183014\n"
     ]
    },
    {
     "name": "stderr",
     "output_type": "stream",
     "text": [
      "Perturbing graph:   4%|██▌                                                           | 31/760 [03:51<1:31:39,  7.54s/it]"
     ]
    },
    {
     "name": "stdout",
     "output_type": "stream",
     "text": [
      "GCN loss on unlabled data: 0.6224572062492371\n",
      "GCN acc on unlabled data: 0.8202950379973178\n",
      "attack loss: 0.2627794146537781\n"
     ]
    },
    {
     "name": "stderr",
     "output_type": "stream",
     "text": [
      "Perturbing graph:   4%|██▌                                                           | 32/760 [03:59<1:31:33,  7.55s/it]"
     ]
    },
    {
     "name": "stdout",
     "output_type": "stream",
     "text": [
      "GCN loss on unlabled data: 0.6374046802520752\n",
      "GCN acc on unlabled data: 0.8144836835046938\n",
      "attack loss: 0.2629519999027252\n"
     ]
    },
    {
     "name": "stderr",
     "output_type": "stream",
     "text": [
      "Perturbing graph:   4%|██▋                                                           | 33/760 [04:06<1:30:39,  7.48s/it]"
     ]
    },
    {
     "name": "stdout",
     "output_type": "stream",
     "text": [
      "GCN loss on unlabled data: 0.6295125484466553\n",
      "GCN acc on unlabled data: 0.8202950379973178\n",
      "attack loss: 0.26512283086776733\n"
     ]
    },
    {
     "name": "stderr",
     "output_type": "stream",
     "text": [
      "Perturbing graph:   4%|██▊                                                           | 34/760 [04:14<1:30:02,  7.44s/it]"
     ]
    },
    {
     "name": "stdout",
     "output_type": "stream",
     "text": [
      "GCN loss on unlabled data: 0.6361807584762573\n",
      "GCN acc on unlabled data: 0.8118015198927134\n",
      "attack loss: 0.2744792103767395\n"
     ]
    },
    {
     "name": "stderr",
     "output_type": "stream",
     "text": [
      "Perturbing graph:   5%|██▊                                                           | 35/760 [04:21<1:29:41,  7.42s/it]"
     ]
    },
    {
     "name": "stdout",
     "output_type": "stream",
     "text": [
      "GCN loss on unlabled data: 0.6376557350158691\n",
      "GCN acc on unlabled data: 0.8126955744300403\n",
      "attack loss: 0.27312496304512024\n"
     ]
    },
    {
     "name": "stderr",
     "output_type": "stream",
     "text": [
      "Perturbing graph:   5%|██▉                                                           | 36/760 [04:29<1:29:58,  7.46s/it]"
     ]
    },
    {
     "name": "stdout",
     "output_type": "stream",
     "text": [
      "GCN loss on unlabled data: 0.6440162658691406\n",
      "GCN acc on unlabled data: 0.8118015198927134\n",
      "attack loss: 0.27751046419143677\n"
     ]
    },
    {
     "name": "stderr",
     "output_type": "stream",
     "text": [
      "Perturbing graph:   5%|███                                                           | 37/760 [04:36<1:29:05,  7.39s/it]"
     ]
    },
    {
     "name": "stdout",
     "output_type": "stream",
     "text": [
      "GCN loss on unlabled data: 0.653276801109314\n",
      "GCN acc on unlabled data: 0.8086723290120698\n",
      "attack loss: 0.2827812135219574\n"
     ]
    },
    {
     "name": "stderr",
     "output_type": "stream",
     "text": [
      "Perturbing graph:   5%|███                                                           | 38/760 [04:43<1:29:41,  7.45s/it]"
     ]
    },
    {
     "name": "stdout",
     "output_type": "stream",
     "text": [
      "GCN loss on unlabled data: 0.6628885269165039\n",
      "GCN acc on unlabled data: 0.8086723290120698\n",
      "attack loss: 0.29098236560821533\n"
     ]
    },
    {
     "name": "stderr",
     "output_type": "stream",
     "text": [
      "Perturbing graph:   5%|███▏                                                          | 39/760 [04:51<1:30:01,  7.49s/it]"
     ]
    },
    {
     "name": "stdout",
     "output_type": "stream",
     "text": [
      "GCN loss on unlabled data: 0.6612684726715088\n",
      "GCN acc on unlabled data: 0.8091193562807332\n",
      "attack loss: 0.28725671768188477\n"
     ]
    },
    {
     "name": "stderr",
     "output_type": "stream",
     "text": [
      "Perturbing graph:   5%|███▎                                                          | 40/760 [04:58<1:29:19,  7.44s/it]"
     ]
    },
    {
     "name": "stdout",
     "output_type": "stream",
     "text": [
      "GCN loss on unlabled data: 0.6754193305969238\n",
      "GCN acc on unlabled data: 0.8131426016987037\n",
      "attack loss: 0.29320481419563293\n"
     ]
    },
    {
     "name": "stderr",
     "output_type": "stream",
     "text": [
      "Perturbing graph:   5%|███▎                                                          | 41/760 [05:06<1:28:38,  7.40s/it]"
     ]
    },
    {
     "name": "stdout",
     "output_type": "stream",
     "text": [
      "GCN loss on unlabled data: 0.686897337436676\n",
      "GCN acc on unlabled data: 0.8086723290120698\n",
      "attack loss: 0.2929764986038208\n"
     ]
    },
    {
     "name": "stderr",
     "output_type": "stream",
     "text": [
      "Perturbing graph:   6%|███▍                                                          | 42/760 [05:13<1:28:10,  7.37s/it]"
     ]
    },
    {
     "name": "stdout",
     "output_type": "stream",
     "text": [
      "GCN loss on unlabled data: 0.6788486242294312\n",
      "GCN acc on unlabled data: 0.8073312472060795\n",
      "attack loss: 0.29069656133651733\n"
     ]
    },
    {
     "name": "stderr",
     "output_type": "stream",
     "text": [
      "Perturbing graph:   6%|███▌                                                          | 43/760 [05:21<1:29:07,  7.46s/it]"
     ]
    },
    {
     "name": "stdout",
     "output_type": "stream",
     "text": [
      "GCN loss on unlabled data: 0.6769068837165833\n",
      "GCN acc on unlabled data: 0.8104604380867233\n",
      "attack loss: 0.2954847812652588\n"
     ]
    },
    {
     "name": "stderr",
     "output_type": "stream",
     "text": [
      "Perturbing graph:   6%|███▌                                                          | 44/760 [05:28<1:28:30,  7.42s/it]"
     ]
    },
    {
     "name": "stdout",
     "output_type": "stream",
     "text": [
      "GCN loss on unlabled data: 0.6961701512336731\n",
      "GCN acc on unlabled data: 0.8068842199374162\n",
      "attack loss: 0.3090478777885437\n"
     ]
    },
    {
     "name": "stderr",
     "output_type": "stream",
     "text": [
      "Perturbing graph:   6%|███▋                                                          | 45/760 [05:35<1:27:54,  7.38s/it]"
     ]
    },
    {
     "name": "stdout",
     "output_type": "stream",
     "text": [
      "GCN loss on unlabled data: 0.6972445249557495\n",
      "GCN acc on unlabled data: 0.805543138131426\n",
      "attack loss: 0.2994736135005951\n"
     ]
    },
    {
     "name": "stderr",
     "output_type": "stream",
     "text": [
      "Perturbing graph:   6%|███▊                                                          | 46/760 [05:42<1:27:07,  7.32s/it]"
     ]
    },
    {
     "name": "stdout",
     "output_type": "stream",
     "text": [
      "GCN loss on unlabled data: 0.7052645087242126\n",
      "GCN acc on unlabled data: 0.8006258381761288\n",
      "attack loss: 0.3069559335708618\n"
     ]
    },
    {
     "name": "stderr",
     "output_type": "stream",
     "text": [
      "Perturbing graph:   6%|███▊                                                          | 47/760 [05:50<1:27:01,  7.32s/it]"
     ]
    },
    {
     "name": "stdout",
     "output_type": "stream",
     "text": [
      "GCN loss on unlabled data: 0.7082504034042358\n",
      "GCN acc on unlabled data: 0.8010728654447922\n",
      "attack loss: 0.3139217793941498\n"
     ]
    },
    {
     "name": "stderr",
     "output_type": "stream",
     "text": [
      "Perturbing graph:   6%|███▉                                                          | 48/760 [05:57<1:27:19,  7.36s/it]"
     ]
    },
    {
     "name": "stdout",
     "output_type": "stream",
     "text": [
      "GCN loss on unlabled data: 0.7259014248847961\n",
      "GCN acc on unlabled data: 0.8024139472507823\n",
      "attack loss: 0.32050463557243347\n"
     ]
    },
    {
     "name": "stderr",
     "output_type": "stream",
     "text": [
      "Perturbing graph:   6%|███▉                                                          | 49/760 [06:05<1:27:33,  7.39s/it]"
     ]
    },
    {
     "name": "stdout",
     "output_type": "stream",
     "text": [
      "GCN loss on unlabled data: 0.721280574798584\n",
      "GCN acc on unlabled data: 0.7943674564148413\n",
      "attack loss: 0.318391352891922\n"
     ]
    },
    {
     "name": "stderr",
     "output_type": "stream",
     "text": [
      "Perturbing graph:   7%|████                                                          | 50/760 [06:12<1:26:57,  7.35s/it]"
     ]
    },
    {
     "name": "stdout",
     "output_type": "stream",
     "text": [
      "GCN loss on unlabled data: 0.7044280767440796\n",
      "GCN acc on unlabled data: 0.8077782744747429\n",
      "attack loss: 0.31607863306999207\n"
     ]
    },
    {
     "name": "stderr",
     "output_type": "stream",
     "text": [
      "Perturbing graph:   7%|████▏                                                         | 51/760 [06:19<1:27:34,  7.41s/it]"
     ]
    },
    {
     "name": "stdout",
     "output_type": "stream",
     "text": [
      "GCN loss on unlabled data: 0.6992554068565369\n",
      "GCN acc on unlabled data: 0.8082253017434063\n",
      "attack loss: 0.31468522548675537\n"
     ]
    },
    {
     "name": "stderr",
     "output_type": "stream",
     "text": [
      "Perturbing graph:   7%|████▏                                                         | 52/760 [06:27<1:27:44,  7.44s/it]"
     ]
    },
    {
     "name": "stdout",
     "output_type": "stream",
     "text": [
      "GCN loss on unlabled data: 0.722082793712616\n",
      "GCN acc on unlabled data: 0.8006258381761288\n",
      "attack loss: 0.3312985301017761\n"
     ]
    },
    {
     "name": "stderr",
     "output_type": "stream",
     "text": [
      "Perturbing graph:   7%|████▎                                                         | 53/760 [06:34<1:27:28,  7.42s/it]"
     ]
    },
    {
     "name": "stdout",
     "output_type": "stream",
     "text": [
      "GCN loss on unlabled data: 0.7096286416053772\n",
      "GCN acc on unlabled data: 0.8006258381761288\n",
      "attack loss: 0.31569796800613403\n"
     ]
    },
    {
     "name": "stderr",
     "output_type": "stream",
     "text": [
      "Perturbing graph:   7%|████▍                                                         | 54/760 [06:41<1:25:44,  7.29s/it]"
     ]
    },
    {
     "name": "stdout",
     "output_type": "stream",
     "text": [
      "GCN loss on unlabled data: 0.7098955512046814\n",
      "GCN acc on unlabled data: 0.8015198927134555\n",
      "attack loss: 0.31811943650245667\n"
     ]
    },
    {
     "name": "stderr",
     "output_type": "stream",
     "text": [
      "Perturbing graph:   7%|████▍                                                         | 55/760 [06:49<1:26:44,  7.38s/it]"
     ]
    },
    {
     "name": "stdout",
     "output_type": "stream",
     "text": [
      "GCN loss on unlabled data: 0.7405526041984558\n",
      "GCN acc on unlabled data: 0.7988377291014752\n",
      "attack loss: 0.334380567073822\n"
     ]
    },
    {
     "name": "stderr",
     "output_type": "stream",
     "text": [
      "Perturbing graph:   7%|████▌                                                         | 56/760 [06:56<1:26:58,  7.41s/it]"
     ]
    },
    {
     "name": "stdout",
     "output_type": "stream",
     "text": [
      "GCN loss on unlabled data: 0.7339816689491272\n",
      "GCN acc on unlabled data: 0.7957085382208314\n",
      "attack loss: 0.3359203040599823\n"
     ]
    },
    {
     "name": "stderr",
     "output_type": "stream",
     "text": [
      "Perturbing graph:   8%|████▋                                                         | 57/760 [07:04<1:26:13,  7.36s/it]"
     ]
    },
    {
     "name": "stdout",
     "output_type": "stream",
     "text": [
      "GCN loss on unlabled data: 0.7410423755645752\n",
      "GCN acc on unlabled data: 0.7979436745641484\n",
      "attack loss: 0.3343789577484131\n"
     ]
    },
    {
     "name": "stderr",
     "output_type": "stream",
     "text": [
      "Perturbing graph:   8%|████▋                                                         | 58/760 [07:11<1:27:18,  7.46s/it]"
     ]
    },
    {
     "name": "stdout",
     "output_type": "stream",
     "text": [
      "GCN loss on unlabled data: 0.7510969042778015\n",
      "GCN acc on unlabled data: 0.7952615109521681\n",
      "attack loss: 0.3420643210411072\n"
     ]
    },
    {
     "name": "stderr",
     "output_type": "stream",
     "text": [
      "Perturbing graph:   8%|████▊                                                         | 59/760 [07:19<1:27:11,  7.46s/it]"
     ]
    },
    {
     "name": "stdout",
     "output_type": "stream",
     "text": [
      "GCN loss on unlabled data: 0.7269075512886047\n",
      "GCN acc on unlabled data: 0.7970496200268217\n",
      "attack loss: 0.33179545402526855\n"
     ]
    },
    {
     "name": "stderr",
     "output_type": "stream",
     "text": [
      "Perturbing graph:   8%|████▉                                                         | 60/760 [07:26<1:26:57,  7.45s/it]"
     ]
    },
    {
     "name": "stdout",
     "output_type": "stream",
     "text": [
      "GCN loss on unlabled data: 0.7543662190437317\n",
      "GCN acc on unlabled data: 0.7957085382208314\n",
      "attack loss: 0.3391134440898895\n"
     ]
    },
    {
     "name": "stderr",
     "output_type": "stream",
     "text": [
      "Perturbing graph:   8%|████▉                                                         | 61/760 [07:33<1:26:18,  7.41s/it]"
     ]
    },
    {
     "name": "stdout",
     "output_type": "stream",
     "text": [
      "GCN loss on unlabled data: 0.7315973043441772\n",
      "GCN acc on unlabled data: 0.8015198927134555\n",
      "attack loss: 0.33078432083129883\n"
     ]
    },
    {
     "name": "stderr",
     "output_type": "stream",
     "text": [
      "Perturbing graph:   8%|█████                                                         | 62/760 [07:41<1:26:14,  7.41s/it]"
     ]
    },
    {
     "name": "stdout",
     "output_type": "stream",
     "text": [
      "GCN loss on unlabled data: 0.7529705166816711\n",
      "GCN acc on unlabled data: 0.8010728654447922\n",
      "attack loss: 0.3395048975944519\n"
     ]
    },
    {
     "name": "stderr",
     "output_type": "stream",
     "text": [
      "Perturbing graph:   8%|█████▏                                                        | 63/760 [07:48<1:25:25,  7.35s/it]"
     ]
    },
    {
     "name": "stdout",
     "output_type": "stream",
     "text": [
      "GCN loss on unlabled data: 0.770499587059021\n",
      "GCN acc on unlabled data: 0.7872150201162271\n",
      "attack loss: 0.3532254099845886\n"
     ]
    },
    {
     "name": "stderr",
     "output_type": "stream",
     "text": [
      "Perturbing graph:   8%|█████▏                                                        | 64/760 [07:55<1:25:01,  7.33s/it]"
     ]
    },
    {
     "name": "stdout",
     "output_type": "stream",
     "text": [
      "GCN loss on unlabled data: 0.7559079527854919\n",
      "GCN acc on unlabled data: 0.7970496200268217\n",
      "attack loss: 0.3412055969238281\n"
     ]
    },
    {
     "name": "stderr",
     "output_type": "stream",
     "text": [
      "Perturbing graph:   9%|█████▎                                                        | 65/760 [08:03<1:24:48,  7.32s/it]"
     ]
    },
    {
     "name": "stdout",
     "output_type": "stream",
     "text": [
      "GCN loss on unlabled data: 0.7538046836853027\n",
      "GCN acc on unlabled data: 0.7912382655341976\n",
      "attack loss: 0.3503493368625641\n"
     ]
    },
    {
     "name": "stderr",
     "output_type": "stream",
     "text": [
      "Perturbing graph:   9%|█████▍                                                        | 66/760 [08:10<1:24:37,  7.32s/it]"
     ]
    },
    {
     "name": "stdout",
     "output_type": "stream",
     "text": [
      "GCN loss on unlabled data: 0.7629075646400452\n",
      "GCN acc on unlabled data: 0.7983907018328118\n",
      "attack loss: 0.3465552031993866\n"
     ]
    },
    {
     "name": "stderr",
     "output_type": "stream",
     "text": [
      "Perturbing graph:   9%|█████▍                                                        | 67/760 [08:18<1:26:32,  7.49s/it]"
     ]
    },
    {
     "name": "stdout",
     "output_type": "stream",
     "text": [
      "GCN loss on unlabled data: 0.7590217590332031\n",
      "GCN acc on unlabled data: 0.7979436745641484\n",
      "attack loss: 0.34604087471961975\n"
     ]
    },
    {
     "name": "stderr",
     "output_type": "stream",
     "text": [
      "Perturbing graph:   9%|█████▌                                                        | 68/760 [08:25<1:25:57,  7.45s/it]"
     ]
    },
    {
     "name": "stdout",
     "output_type": "stream",
     "text": [
      "GCN loss on unlabled data: 0.7766838073730469\n",
      "GCN acc on unlabled data: 0.7970496200268217\n",
      "attack loss: 0.3599774241447449\n"
     ]
    },
    {
     "name": "stderr",
     "output_type": "stream",
     "text": [
      "Perturbing graph:   9%|█████▋                                                        | 69/760 [08:32<1:24:43,  7.36s/it]"
     ]
    },
    {
     "name": "stdout",
     "output_type": "stream",
     "text": [
      "GCN loss on unlabled data: 0.77493816614151\n",
      "GCN acc on unlabled data: 0.797496647295485\n",
      "attack loss: 0.3591473400592804\n"
     ]
    },
    {
     "name": "stderr",
     "output_type": "stream",
     "text": [
      "Perturbing graph:   9%|█████▋                                                        | 70/760 [08:40<1:24:34,  7.35s/it]"
     ]
    },
    {
     "name": "stdout",
     "output_type": "stream",
     "text": [
      "GCN loss on unlabled data: 0.7867918610572815\n",
      "GCN acc on unlabled data: 0.7930263746088512\n",
      "attack loss: 0.3624229431152344\n"
     ]
    },
    {
     "name": "stderr",
     "output_type": "stream",
     "text": [
      "Perturbing graph:   9%|█████▊                                                        | 71/760 [08:47<1:23:51,  7.30s/it]"
     ]
    },
    {
     "name": "stdout",
     "output_type": "stream",
     "text": [
      "GCN loss on unlabled data: 0.7849951386451721\n",
      "GCN acc on unlabled data: 0.7894501564595441\n",
      "attack loss: 0.35319119691848755\n"
     ]
    },
    {
     "name": "stderr",
     "output_type": "stream",
     "text": [
      "Perturbing graph:   9%|█████▊                                                        | 72/760 [08:54<1:22:54,  7.23s/it]"
     ]
    },
    {
     "name": "stdout",
     "output_type": "stream",
     "text": [
      "GCN loss on unlabled data: 0.7812269926071167\n",
      "GCN acc on unlabled data: 0.7983907018328118\n",
      "attack loss: 0.35901206731796265\n"
     ]
    },
    {
     "name": "stderr",
     "output_type": "stream",
     "text": [
      "Perturbing graph:  10%|█████▉                                                        | 73/760 [09:01<1:22:35,  7.21s/it]"
     ]
    },
    {
     "name": "stdout",
     "output_type": "stream",
     "text": [
      "GCN loss on unlabled data: 0.7736024260520935\n",
      "GCN acc on unlabled data: 0.7894501564595441\n",
      "attack loss: 0.36615636944770813\n"
     ]
    },
    {
     "name": "stderr",
     "output_type": "stream",
     "text": [
      "Perturbing graph:  10%|██████                                                        | 74/760 [09:08<1:21:53,  7.16s/it]"
     ]
    },
    {
     "name": "stdout",
     "output_type": "stream",
     "text": [
      "GCN loss on unlabled data: 0.7860313653945923\n",
      "GCN acc on unlabled data: 0.7907912382655342\n",
      "attack loss: 0.3608124852180481\n"
     ]
    },
    {
     "name": "stderr",
     "output_type": "stream",
     "text": [
      "Perturbing graph:  10%|██████                                                        | 75/760 [09:15<1:22:09,  7.20s/it]"
     ]
    },
    {
     "name": "stdout",
     "output_type": "stream",
     "text": [
      "GCN loss on unlabled data: 0.8035605549812317\n",
      "GCN acc on unlabled data: 0.7885561019222173\n",
      "attack loss: 0.3751557469367981\n"
     ]
    },
    {
     "name": "stderr",
     "output_type": "stream",
     "text": [
      "Perturbing graph:  10%|██████▏                                                       | 76/760 [09:23<1:22:36,  7.25s/it]"
     ]
    },
    {
     "name": "stdout",
     "output_type": "stream",
     "text": [
      "GCN loss on unlabled data: 0.8073444962501526\n",
      "GCN acc on unlabled data: 0.7948144836835047\n",
      "attack loss: 0.3755946457386017\n"
     ]
    },
    {
     "name": "stderr",
     "output_type": "stream",
     "text": [
      "Perturbing graph:  10%|██████▎                                                       | 77/760 [09:30<1:22:49,  7.28s/it]"
     ]
    },
    {
     "name": "stdout",
     "output_type": "stream",
     "text": [
      "GCN loss on unlabled data: 0.8048797845840454\n",
      "GCN acc on unlabled data: 0.7898971837282074\n",
      "attack loss: 0.37444934248924255\n"
     ]
    },
    {
     "name": "stderr",
     "output_type": "stream",
     "text": [
      "Perturbing graph:  10%|██████▎                                                       | 78/760 [09:38<1:23:34,  7.35s/it]"
     ]
    },
    {
     "name": "stdout",
     "output_type": "stream",
     "text": [
      "GCN loss on unlabled data: 0.8080475330352783\n",
      "GCN acc on unlabled data: 0.7921323200715243\n",
      "attack loss: 0.37450337409973145\n"
     ]
    },
    {
     "name": "stderr",
     "output_type": "stream",
     "text": [
      "Perturbing graph:  10%|██████▍                                                       | 79/760 [09:45<1:23:16,  7.34s/it]"
     ]
    },
    {
     "name": "stdout",
     "output_type": "stream",
     "text": [
      "GCN loss on unlabled data: 0.8078716397285461\n",
      "GCN acc on unlabled data: 0.7983907018328118\n",
      "attack loss: 0.3803044557571411\n"
     ]
    },
    {
     "name": "stderr",
     "output_type": "stream",
     "text": [
      "Perturbing graph:  11%|██████▌                                                       | 80/760 [09:52<1:23:03,  7.33s/it]"
     ]
    },
    {
     "name": "stdout",
     "output_type": "stream",
     "text": [
      "GCN loss on unlabled data: 0.8122384548187256\n",
      "GCN acc on unlabled data: 0.7903442109968708\n",
      "attack loss: 0.3795669674873352\n"
     ]
    },
    {
     "name": "stderr",
     "output_type": "stream",
     "text": [
      "Perturbing graph:  11%|██████▌                                                       | 81/760 [10:00<1:22:58,  7.33s/it]"
     ]
    },
    {
     "name": "stdout",
     "output_type": "stream",
     "text": [
      "GCN loss on unlabled data: 0.8152880072593689\n",
      "GCN acc on unlabled data: 0.7939204291461779\n",
      "attack loss: 0.38253751397132874\n"
     ]
    },
    {
     "name": "stderr",
     "output_type": "stream",
     "text": [
      "Perturbing graph:  11%|██████▋                                                       | 82/760 [10:07<1:22:36,  7.31s/it]"
     ]
    },
    {
     "name": "stdout",
     "output_type": "stream",
     "text": [
      "GCN loss on unlabled data: 0.7953510880470276\n",
      "GCN acc on unlabled data: 0.7916852928028609\n",
      "attack loss: 0.3765163719654083\n"
     ]
    },
    {
     "name": "stderr",
     "output_type": "stream",
     "text": [
      "Perturbing graph:  11%|██████▊                                                       | 83/760 [10:14<1:23:12,  7.37s/it]"
     ]
    },
    {
     "name": "stdout",
     "output_type": "stream",
     "text": [
      "GCN loss on unlabled data: 0.8200641870498657\n",
      "GCN acc on unlabled data: 0.7921323200715243\n",
      "attack loss: 0.3918008506298065\n"
     ]
    },
    {
     "name": "stderr",
     "output_type": "stream",
     "text": [
      "Perturbing graph:  11%|██████▊                                                       | 84/760 [10:22<1:24:16,  7.48s/it]"
     ]
    },
    {
     "name": "stdout",
     "output_type": "stream",
     "text": [
      "GCN loss on unlabled data: 0.810554027557373\n",
      "GCN acc on unlabled data: 0.7912382655341976\n",
      "attack loss: 0.3796960711479187\n"
     ]
    },
    {
     "name": "stderr",
     "output_type": "stream",
     "text": [
      "Perturbing graph:  11%|██████▉                                                       | 85/760 [10:29<1:22:58,  7.38s/it]"
     ]
    },
    {
     "name": "stdout",
     "output_type": "stream",
     "text": [
      "GCN loss on unlabled data: 0.8160549998283386\n",
      "GCN acc on unlabled data: 0.7925793473401878\n",
      "attack loss: 0.38262739777565\n"
     ]
    },
    {
     "name": "stderr",
     "output_type": "stream",
     "text": [
      "Perturbing graph:  11%|███████                                                       | 86/760 [10:36<1:22:10,  7.31s/it]"
     ]
    },
    {
     "name": "stdout",
     "output_type": "stream",
     "text": [
      "GCN loss on unlabled data: 0.8272035121917725\n",
      "GCN acc on unlabled data: 0.7916852928028609\n",
      "attack loss: 0.38912224769592285\n"
     ]
    },
    {
     "name": "stderr",
     "output_type": "stream",
     "text": [
      "Perturbing graph:  11%|███████                                                       | 87/760 [10:44<1:21:25,  7.26s/it]"
     ]
    },
    {
     "name": "stdout",
     "output_type": "stream",
     "text": [
      "GCN loss on unlabled data: 0.7957009673118591\n",
      "GCN acc on unlabled data: 0.7930263746088512\n",
      "attack loss: 0.3779899775981903\n"
     ]
    },
    {
     "name": "stderr",
     "output_type": "stream",
     "text": [
      "Perturbing graph:  12%|███████▏                                                      | 88/760 [10:51<1:21:11,  7.25s/it]"
     ]
    },
    {
     "name": "stdout",
     "output_type": "stream",
     "text": [
      "GCN loss on unlabled data: 0.8427153825759888\n",
      "GCN acc on unlabled data: 0.7849798837729102\n",
      "attack loss: 0.39299842715263367\n"
     ]
    },
    {
     "name": "stderr",
     "output_type": "stream",
     "text": [
      "Perturbing graph:  12%|███████▎                                                      | 89/760 [10:58<1:21:05,  7.25s/it]"
     ]
    },
    {
     "name": "stdout",
     "output_type": "stream",
     "text": [
      "GCN loss on unlabled data: 0.7913177013397217\n",
      "GCN acc on unlabled data: 0.7957085382208314\n",
      "attack loss: 0.37828147411346436\n"
     ]
    },
    {
     "name": "stderr",
     "output_type": "stream",
     "text": [
      "Perturbing graph:  12%|███████▎                                                      | 90/760 [11:06<1:21:51,  7.33s/it]"
     ]
    },
    {
     "name": "stdout",
     "output_type": "stream",
     "text": [
      "GCN loss on unlabled data: 0.8285347819328308\n",
      "GCN acc on unlabled data: 0.7894501564595441\n",
      "attack loss: 0.3902707099914551\n"
     ]
    },
    {
     "name": "stderr",
     "output_type": "stream",
     "text": [
      "Perturbing graph:  12%|███████▍                                                      | 91/760 [11:13<1:21:53,  7.34s/it]"
     ]
    },
    {
     "name": "stdout",
     "output_type": "stream",
     "text": [
      "GCN loss on unlabled data: 0.8111994862556458\n",
      "GCN acc on unlabled data: 0.7957085382208314\n",
      "attack loss: 0.3874749541282654\n"
     ]
    },
    {
     "name": "stderr",
     "output_type": "stream",
     "text": [
      "Perturbing graph:  12%|███████▌                                                      | 92/760 [11:20<1:21:21,  7.31s/it]"
     ]
    },
    {
     "name": "stdout",
     "output_type": "stream",
     "text": [
      "GCN loss on unlabled data: 0.834197998046875\n",
      "GCN acc on unlabled data: 0.7863209655789003\n",
      "attack loss: 0.39971044659614563\n"
     ]
    },
    {
     "name": "stderr",
     "output_type": "stream",
     "text": [
      "Perturbing graph:  12%|███████▌                                                      | 93/760 [11:28<1:21:42,  7.35s/it]"
     ]
    },
    {
     "name": "stdout",
     "output_type": "stream",
     "text": [
      "GCN loss on unlabled data: 0.8159369230270386\n",
      "GCN acc on unlabled data: 0.7854269110415736\n",
      "attack loss: 0.3882559537887573\n"
     ]
    },
    {
     "name": "stderr",
     "output_type": "stream",
     "text": [
      "Perturbing graph:  12%|███████▋                                                      | 94/760 [11:35<1:22:34,  7.44s/it]"
     ]
    },
    {
     "name": "stdout",
     "output_type": "stream",
     "text": [
      "GCN loss on unlabled data: 0.8403565287590027\n",
      "GCN acc on unlabled data: 0.7881090746535538\n",
      "attack loss: 0.40657758712768555\n"
     ]
    },
    {
     "name": "stderr",
     "output_type": "stream",
     "text": [
      "Perturbing graph:  12%|███████▊                                                      | 95/760 [11:43<1:22:15,  7.42s/it]"
     ]
    },
    {
     "name": "stdout",
     "output_type": "stream",
     "text": [
      "GCN loss on unlabled data: 0.8300057649612427\n",
      "GCN acc on unlabled data: 0.7885561019222173\n",
      "attack loss: 0.3949774205684662\n"
     ]
    },
    {
     "name": "stderr",
     "output_type": "stream",
     "text": [
      "Perturbing graph:  13%|███████▊                                                      | 96/760 [11:50<1:21:38,  7.38s/it]"
     ]
    },
    {
     "name": "stdout",
     "output_type": "stream",
     "text": [
      "GCN loss on unlabled data: 0.7995533347129822\n",
      "GCN acc on unlabled data: 0.7939204291461779\n",
      "attack loss: 0.38876664638519287\n"
     ]
    },
    {
     "name": "stderr",
     "output_type": "stream",
     "text": [
      "Perturbing graph:  13%|███████▉                                                      | 97/760 [11:57<1:21:21,  7.36s/it]"
     ]
    },
    {
     "name": "stdout",
     "output_type": "stream",
     "text": [
      "GCN loss on unlabled data: 0.8478364944458008\n",
      "GCN acc on unlabled data: 0.7849798837729102\n",
      "attack loss: 0.4026091992855072\n"
     ]
    },
    {
     "name": "stderr",
     "output_type": "stream",
     "text": [
      "Perturbing graph:  13%|███████▉                                                      | 98/760 [12:05<1:21:13,  7.36s/it]"
     ]
    },
    {
     "name": "stdout",
     "output_type": "stream",
     "text": [
      "GCN loss on unlabled data: 0.8481886386871338\n",
      "GCN acc on unlabled data: 0.7876620473848904\n",
      "attack loss: 0.41175326704978943\n"
     ]
    },
    {
     "name": "stderr",
     "output_type": "stream",
     "text": [
      "Perturbing graph:  13%|████████                                                      | 99/760 [12:12<1:21:30,  7.40s/it]"
     ]
    },
    {
     "name": "stdout",
     "output_type": "stream",
     "text": [
      "GCN loss on unlabled data: 0.8580361604690552\n",
      "GCN acc on unlabled data: 0.7814036656236031\n",
      "attack loss: 0.40222007036209106\n"
     ]
    },
    {
     "name": "stderr",
     "output_type": "stream",
     "text": [
      "Perturbing graph:  13%|████████                                                     | 100/760 [12:20<1:22:24,  7.49s/it]"
     ]
    },
    {
     "name": "stdout",
     "output_type": "stream",
     "text": [
      "GCN loss on unlabled data: 0.8862109780311584\n",
      "GCN acc on unlabled data: 0.7831917746982566\n",
      "attack loss: 0.42024484276771545\n"
     ]
    },
    {
     "name": "stderr",
     "output_type": "stream",
     "text": [
      "Perturbing graph:  13%|████████                                                     | 101/760 [12:27<1:21:56,  7.46s/it]"
     ]
    },
    {
     "name": "stdout",
     "output_type": "stream",
     "text": [
      "GCN loss on unlabled data: 0.868536114692688\n",
      "GCN acc on unlabled data: 0.7894501564595441\n",
      "attack loss: 0.41328123211860657\n"
     ]
    },
    {
     "name": "stderr",
     "output_type": "stream",
     "text": [
      "Perturbing graph:  13%|████████▏                                                    | 102/760 [12:35<1:21:42,  7.45s/it]"
     ]
    },
    {
     "name": "stdout",
     "output_type": "stream",
     "text": [
      "GCN loss on unlabled data: 0.8492135405540466\n",
      "GCN acc on unlabled data: 0.7836388019669199\n",
      "attack loss: 0.41076332330703735\n"
     ]
    },
    {
     "name": "stderr",
     "output_type": "stream",
     "text": [
      "Perturbing graph:  14%|████████▎                                                    | 103/760 [12:42<1:20:28,  7.35s/it]"
     ]
    },
    {
     "name": "stdout",
     "output_type": "stream",
     "text": [
      "GCN loss on unlabled data: 0.8508433103561401\n",
      "GCN acc on unlabled data: 0.7872150201162271\n",
      "attack loss: 0.4070918560028076\n"
     ]
    },
    {
     "name": "stderr",
     "output_type": "stream",
     "text": [
      "Perturbing graph:  14%|████████▎                                                    | 104/760 [12:49<1:20:41,  7.38s/it]"
     ]
    },
    {
     "name": "stdout",
     "output_type": "stream",
     "text": [
      "GCN loss on unlabled data: 0.8474954962730408\n",
      "GCN acc on unlabled data: 0.7805096110862763\n",
      "attack loss: 0.41123607754707336\n"
     ]
    },
    {
     "name": "stderr",
     "output_type": "stream",
     "text": [
      "Perturbing graph:  14%|████████▍                                                    | 105/760 [12:56<1:19:55,  7.32s/it]"
     ]
    },
    {
     "name": "stdout",
     "output_type": "stream",
     "text": [
      "GCN loss on unlabled data: 0.8678708672523499\n",
      "GCN acc on unlabled data: 0.7809566383549397\n",
      "attack loss: 0.42261484265327454\n"
     ]
    },
    {
     "name": "stderr",
     "output_type": "stream",
     "text": [
      "Perturbing graph:  14%|████████▌                                                    | 106/760 [13:04<1:20:07,  7.35s/it]"
     ]
    },
    {
     "name": "stdout",
     "output_type": "stream",
     "text": [
      "GCN loss on unlabled data: 0.8761035799980164\n",
      "GCN acc on unlabled data: 0.7787215020116227\n",
      "attack loss: 0.4170730412006378\n"
     ]
    },
    {
     "name": "stderr",
     "output_type": "stream",
     "text": [
      "Perturbing graph:  14%|████████▌                                                    | 107/760 [13:12<1:21:44,  7.51s/it]"
     ]
    },
    {
     "name": "stdout",
     "output_type": "stream",
     "text": [
      "GCN loss on unlabled data: 0.8827184438705444\n",
      "GCN acc on unlabled data: 0.7778274474742959\n",
      "attack loss: 0.42475366592407227\n"
     ]
    },
    {
     "name": "stderr",
     "output_type": "stream",
     "text": [
      "Perturbing graph:  14%|████████▋                                                    | 108/760 [13:19<1:20:39,  7.42s/it]"
     ]
    },
    {
     "name": "stdout",
     "output_type": "stream",
     "text": [
      "GCN loss on unlabled data: 0.8978407382965088\n",
      "GCN acc on unlabled data: 0.7773804202056326\n",
      "attack loss: 0.4308757185935974\n"
     ]
    },
    {
     "name": "stderr",
     "output_type": "stream",
     "text": [
      "Perturbing graph:  14%|████████▋                                                    | 109/760 [13:26<1:20:41,  7.44s/it]"
     ]
    },
    {
     "name": "stdout",
     "output_type": "stream",
     "text": [
      "GCN loss on unlabled data: 0.915403425693512\n",
      "GCN acc on unlabled data: 0.7764863656683058\n",
      "attack loss: 0.4395595192909241\n"
     ]
    },
    {
     "name": "stderr",
     "output_type": "stream",
     "text": [
      "Perturbing graph:  14%|████████▊                                                    | 110/760 [13:34<1:20:05,  7.39s/it]"
     ]
    },
    {
     "name": "stdout",
     "output_type": "stream",
     "text": [
      "GCN loss on unlabled data: 0.8995331525802612\n",
      "GCN acc on unlabled data: 0.7764863656683058\n",
      "attack loss: 0.43886372447013855\n"
     ]
    },
    {
     "name": "stderr",
     "output_type": "stream",
     "text": [
      "Perturbing graph:  15%|████████▉                                                    | 111/760 [13:41<1:19:26,  7.35s/it]"
     ]
    },
    {
     "name": "stdout",
     "output_type": "stream",
     "text": [
      "GCN loss on unlabled data: 0.8777638673782349\n",
      "GCN acc on unlabled data: 0.7787215020116227\n",
      "attack loss: 0.4242091178894043\n"
     ]
    },
    {
     "name": "stderr",
     "output_type": "stream",
     "text": [
      "Perturbing graph:  15%|████████▉                                                    | 112/760 [13:48<1:18:40,  7.28s/it]"
     ]
    },
    {
     "name": "stdout",
     "output_type": "stream",
     "text": [
      "GCN loss on unlabled data: 0.8918800950050354\n",
      "GCN acc on unlabled data: 0.7733571747876621\n",
      "attack loss: 0.43506738543510437\n"
     ]
    },
    {
     "name": "stderr",
     "output_type": "stream",
     "text": [
      "Perturbing graph:  15%|█████████                                                    | 113/760 [13:55<1:18:40,  7.30s/it]"
     ]
    },
    {
     "name": "stdout",
     "output_type": "stream",
     "text": [
      "GCN loss on unlabled data: 0.8870247006416321\n",
      "GCN acc on unlabled data: 0.7751452838623156\n",
      "attack loss: 0.42966529726982117\n"
     ]
    },
    {
     "name": "stderr",
     "output_type": "stream",
     "text": [
      "Perturbing graph:  15%|█████████▏                                                   | 114/760 [14:03<1:18:47,  7.32s/it]"
     ]
    },
    {
     "name": "stdout",
     "output_type": "stream",
     "text": [
      "GCN loss on unlabled data: 0.8996244072914124\n",
      "GCN acc on unlabled data: 0.7742512293249888\n",
      "attack loss: 0.4314481019973755\n"
     ]
    },
    {
     "name": "stderr",
     "output_type": "stream",
     "text": [
      "Perturbing graph:  15%|█████████▏                                                   | 115/760 [14:10<1:18:47,  7.33s/it]"
     ]
    },
    {
     "name": "stdout",
     "output_type": "stream",
     "text": [
      "GCN loss on unlabled data: 0.9497029781341553\n",
      "GCN acc on unlabled data: 0.7644166294143943\n",
      "attack loss: 0.459176242351532\n"
     ]
    },
    {
     "name": "stderr",
     "output_type": "stream",
     "text": [
      "Perturbing graph:  15%|█████████▎                                                   | 116/760 [14:18<1:19:20,  7.39s/it]"
     ]
    },
    {
     "name": "stdout",
     "output_type": "stream",
     "text": [
      "GCN loss on unlabled data: 0.9027578234672546\n",
      "GCN acc on unlabled data: 0.7702279839070183\n",
      "attack loss: 0.43794551491737366\n"
     ]
    },
    {
     "name": "stderr",
     "output_type": "stream",
     "text": [
      "Perturbing graph:  15%|█████████▍                                                   | 117/760 [14:25<1:20:01,  7.47s/it]"
     ]
    },
    {
     "name": "stdout",
     "output_type": "stream",
     "text": [
      "GCN loss on unlabled data: 0.904603123664856\n",
      "GCN acc on unlabled data: 0.7711220384443451\n",
      "attack loss: 0.4392852783203125\n"
     ]
    },
    {
     "name": "stderr",
     "output_type": "stream",
     "text": [
      "Perturbing graph:  16%|█████████▍                                                   | 118/760 [14:33<1:19:51,  7.46s/it]"
     ]
    },
    {
     "name": "stdout",
     "output_type": "stream",
     "text": [
      "GCN loss on unlabled data: 0.8898552060127258\n",
      "GCN acc on unlabled data: 0.7787215020116227\n",
      "attack loss: 0.43424731492996216\n"
     ]
    },
    {
     "name": "stderr",
     "output_type": "stream",
     "text": [
      "Perturbing graph:  16%|█████████▌                                                   | 119/760 [14:40<1:19:36,  7.45s/it]"
     ]
    },
    {
     "name": "stdout",
     "output_type": "stream",
     "text": [
      "GCN loss on unlabled data: 0.915277361869812\n",
      "GCN acc on unlabled data: 0.7729101475189987\n",
      "attack loss: 0.44301334023475647\n"
     ]
    },
    {
     "name": "stderr",
     "output_type": "stream",
     "text": [
      "Perturbing graph:  16%|█████████▋                                                   | 120/760 [14:47<1:18:30,  7.36s/it]"
     ]
    },
    {
     "name": "stdout",
     "output_type": "stream",
     "text": [
      "GCN loss on unlabled data: 0.8953673243522644\n",
      "GCN acc on unlabled data: 0.7697809566383549\n",
      "attack loss: 0.4365006387233734\n"
     ]
    },
    {
     "name": "stderr",
     "output_type": "stream",
     "text": [
      "Perturbing graph:  16%|█████████▋                                                   | 121/760 [14:55<1:18:38,  7.38s/it]"
     ]
    },
    {
     "name": "stdout",
     "output_type": "stream",
     "text": [
      "GCN loss on unlabled data: 0.9279309511184692\n",
      "GCN acc on unlabled data: 0.7729101475189987\n",
      "attack loss: 0.45533207058906555\n"
     ]
    },
    {
     "name": "stderr",
     "output_type": "stream",
     "text": [
      "Perturbing graph:  16%|█████████▊                                                   | 122/760 [15:02<1:18:00,  7.34s/it]"
     ]
    },
    {
     "name": "stdout",
     "output_type": "stream",
     "text": [
      "GCN loss on unlabled data: 0.9215829372406006\n",
      "GCN acc on unlabled data: 0.7684398748323648\n",
      "attack loss: 0.44392603635787964\n"
     ]
    },
    {
     "name": "stderr",
     "output_type": "stream",
     "text": [
      "Perturbing graph:  16%|█████████▊                                                   | 123/760 [15:09<1:18:17,  7.37s/it]"
     ]
    },
    {
     "name": "stdout",
     "output_type": "stream",
     "text": [
      "GCN loss on unlabled data: 0.9342247843742371\n",
      "GCN acc on unlabled data: 0.7603933839964238\n",
      "attack loss: 0.45342332124710083\n"
     ]
    },
    {
     "name": "stderr",
     "output_type": "stream",
     "text": [
      "Perturbing graph:  16%|█████████▉                                                   | 124/760 [15:17<1:18:10,  7.37s/it]"
     ]
    },
    {
     "name": "stdout",
     "output_type": "stream",
     "text": [
      "GCN loss on unlabled data: 0.9386994242668152\n",
      "GCN acc on unlabled data: 0.7697809566383549\n",
      "attack loss: 0.4591578543186188\n"
     ]
    },
    {
     "name": "stderr",
     "output_type": "stream",
     "text": [
      "Perturbing graph:  16%|██████████                                                   | 125/760 [15:24<1:18:06,  7.38s/it]"
     ]
    },
    {
     "name": "stdout",
     "output_type": "stream",
     "text": [
      "GCN loss on unlabled data: 0.9267451763153076\n",
      "GCN acc on unlabled data: 0.7635225748770675\n",
      "attack loss: 0.4576281011104584\n"
     ]
    },
    {
     "name": "stderr",
     "output_type": "stream",
     "text": [
      "Perturbing graph:  17%|██████████                                                   | 126/760 [15:31<1:17:34,  7.34s/it]"
     ]
    },
    {
     "name": "stdout",
     "output_type": "stream",
     "text": [
      "GCN loss on unlabled data: 0.9443845152854919\n",
      "GCN acc on unlabled data: 0.7644166294143943\n",
      "attack loss: 0.4592822790145874\n"
     ]
    },
    {
     "name": "stderr",
     "output_type": "stream",
     "text": [
      "Perturbing graph:  17%|██████████▏                                                  | 127/760 [15:39<1:17:03,  7.30s/it]"
     ]
    },
    {
     "name": "stdout",
     "output_type": "stream",
     "text": [
      "GCN loss on unlabled data: 0.9527839422225952\n",
      "GCN acc on unlabled data: 0.767545820295038\n",
      "attack loss: 0.45593777298927307\n"
     ]
    },
    {
     "name": "stderr",
     "output_type": "stream",
     "text": [
      "Perturbing graph:  17%|██████████▎                                                  | 128/760 [15:46<1:16:29,  7.26s/it]"
     ]
    },
    {
     "name": "stdout",
     "output_type": "stream",
     "text": [
      "GCN loss on unlabled data: 0.9405641555786133\n",
      "GCN acc on unlabled data: 0.767545820295038\n",
      "attack loss: 0.45922207832336426\n"
     ]
    },
    {
     "name": "stderr",
     "output_type": "stream",
     "text": [
      "Perturbing graph:  17%|██████████▎                                                  | 129/760 [15:53<1:16:23,  7.26s/it]"
     ]
    },
    {
     "name": "stdout",
     "output_type": "stream",
     "text": [
      "GCN loss on unlabled data: 0.9648327231407166\n",
      "GCN acc on unlabled data: 0.7586052749217702\n",
      "attack loss: 0.4767584502696991\n"
     ]
    },
    {
     "name": "stderr",
     "output_type": "stream",
     "text": [
      "Perturbing graph:  17%|██████████▍                                                  | 130/760 [16:01<1:16:54,  7.32s/it]"
     ]
    },
    {
     "name": "stdout",
     "output_type": "stream",
     "text": [
      "GCN loss on unlabled data: 0.9801074862480164\n",
      "GCN acc on unlabled data: 0.7648636566830577\n",
      "attack loss: 0.4853467643260956\n"
     ]
    },
    {
     "name": "stderr",
     "output_type": "stream",
     "text": [
      "Perturbing graph:  17%|██████████▌                                                  | 131/760 [16:08<1:17:36,  7.40s/it]"
     ]
    },
    {
     "name": "stdout",
     "output_type": "stream",
     "text": [
      "GCN loss on unlabled data: 0.9422729015350342\n",
      "GCN acc on unlabled data: 0.7630755476084041\n",
      "attack loss: 0.46716997027397156\n"
     ]
    },
    {
     "name": "stderr",
     "output_type": "stream",
     "text": [
      "Perturbing graph:  17%|██████████▌                                                  | 132/760 [16:16<1:18:06,  7.46s/it]"
     ]
    },
    {
     "name": "stdout",
     "output_type": "stream",
     "text": [
      "GCN loss on unlabled data: 0.9615758657455444\n",
      "GCN acc on unlabled data: 0.7653106839517211\n",
      "attack loss: 0.4792119264602661\n"
     ]
    },
    {
     "name": "stderr",
     "output_type": "stream",
     "text": [
      "Perturbing graph:  18%|██████████▋                                                  | 133/760 [16:23<1:18:35,  7.52s/it]"
     ]
    },
    {
     "name": "stdout",
     "output_type": "stream",
     "text": [
      "GCN loss on unlabled data: 0.9547002911567688\n",
      "GCN acc on unlabled data: 0.767545820295038\n",
      "attack loss: 0.47351881861686707\n"
     ]
    },
    {
     "name": "stderr",
     "output_type": "stream",
     "text": [
      "Perturbing graph:  18%|██████████▊                                                  | 134/760 [16:31<1:17:44,  7.45s/it]"
     ]
    },
    {
     "name": "stdout",
     "output_type": "stream",
     "text": [
      "GCN loss on unlabled data: 0.9807842373847961\n",
      "GCN acc on unlabled data: 0.759499329459097\n",
      "attack loss: 0.48380160331726074\n"
     ]
    },
    {
     "name": "stderr",
     "output_type": "stream",
     "text": [
      "Perturbing graph:  18%|██████████▊                                                  | 135/760 [16:38<1:17:26,  7.43s/it]"
     ]
    },
    {
     "name": "stdout",
     "output_type": "stream",
     "text": [
      "GCN loss on unlabled data: 0.9483502507209778\n",
      "GCN acc on unlabled data: 0.7662047384890478\n",
      "attack loss: 0.4670713543891907\n"
     ]
    },
    {
     "name": "stderr",
     "output_type": "stream",
     "text": [
      "Perturbing graph:  18%|██████████▉                                                  | 136/760 [16:45<1:16:28,  7.35s/it]"
     ]
    },
    {
     "name": "stdout",
     "output_type": "stream",
     "text": [
      "GCN loss on unlabled data: 1.0020180940628052\n",
      "GCN acc on unlabled data: 0.7590523021904336\n",
      "attack loss: 0.49625033140182495\n"
     ]
    },
    {
     "name": "stderr",
     "output_type": "stream",
     "text": [
      "Perturbing graph:  18%|██████████▉                                                  | 137/760 [16:52<1:15:19,  7.25s/it]"
     ]
    },
    {
     "name": "stdout",
     "output_type": "stream",
     "text": [
      "GCN loss on unlabled data: 0.9870671033859253\n",
      "GCN acc on unlabled data: 0.761734465802414\n",
      "attack loss: 0.4976721405982971\n"
     ]
    },
    {
     "name": "stderr",
     "output_type": "stream",
     "text": [
      "Perturbing graph:  18%|███████████                                                  | 138/760 [16:59<1:15:07,  7.25s/it]"
     ]
    },
    {
     "name": "stdout",
     "output_type": "stream",
     "text": [
      "GCN loss on unlabled data: 0.9647290706634521\n",
      "GCN acc on unlabled data: 0.7653106839517211\n",
      "attack loss: 0.485931396484375\n"
     ]
    },
    {
     "name": "stderr",
     "output_type": "stream",
     "text": [
      "Perturbing graph:  18%|███████████▏                                                 | 139/760 [17:07<1:15:11,  7.27s/it]"
     ]
    },
    {
     "name": "stdout",
     "output_type": "stream",
     "text": [
      "GCN loss on unlabled data: 1.0001091957092285\n",
      "GCN acc on unlabled data: 0.7608404112650872\n",
      "attack loss: 0.4972381591796875\n"
     ]
    },
    {
     "name": "stderr",
     "output_type": "stream",
     "text": [
      "Perturbing graph:  18%|███████████▏                                                 | 140/760 [17:14<1:15:48,  7.34s/it]"
     ]
    },
    {
     "name": "stdout",
     "output_type": "stream",
     "text": [
      "GCN loss on unlabled data: 0.9992239475250244\n",
      "GCN acc on unlabled data: 0.7621814930710773\n",
      "attack loss: 0.49878817796707153\n"
     ]
    },
    {
     "name": "stderr",
     "output_type": "stream",
     "text": [
      "Perturbing graph:  19%|███████████▎                                                 | 141/760 [17:22<1:15:19,  7.30s/it]"
     ]
    },
    {
     "name": "stdout",
     "output_type": "stream",
     "text": [
      "GCN loss on unlabled data: 0.9792425036430359\n",
      "GCN acc on unlabled data: 0.7545820295037997\n",
      "attack loss: 0.47925999760627747\n"
     ]
    },
    {
     "name": "stderr",
     "output_type": "stream",
     "text": [
      "Perturbing graph:  19%|███████████▍                                                 | 142/760 [17:29<1:15:24,  7.32s/it]"
     ]
    },
    {
     "name": "stdout",
     "output_type": "stream",
     "text": [
      "GCN loss on unlabled data: 1.0034953355789185\n",
      "GCN acc on unlabled data: 0.7590523021904336\n",
      "attack loss: 0.5039435625076294\n"
     ]
    },
    {
     "name": "stderr",
     "output_type": "stream",
     "text": [
      "Perturbing graph:  19%|███████████▍                                                 | 143/760 [17:36<1:14:44,  7.27s/it]"
     ]
    },
    {
     "name": "stdout",
     "output_type": "stream",
     "text": [
      "GCN loss on unlabled data: 0.984979510307312\n",
      "GCN acc on unlabled data: 0.7612874385337506\n",
      "attack loss: 0.4968663156032562\n"
     ]
    },
    {
     "name": "stderr",
     "output_type": "stream",
     "text": [
      "Perturbing graph:  19%|███████████▌                                                 | 144/760 [17:43<1:14:30,  7.26s/it]"
     ]
    },
    {
     "name": "stdout",
     "output_type": "stream",
     "text": [
      "GCN loss on unlabled data: 0.9777679443359375\n",
      "GCN acc on unlabled data: 0.7527939204291462\n",
      "attack loss: 0.4900287389755249\n"
     ]
    },
    {
     "name": "stderr",
     "output_type": "stream",
     "text": [
      "Perturbing graph:  19%|███████████▋                                                 | 145/760 [17:51<1:14:21,  7.25s/it]"
     ]
    },
    {
     "name": "stdout",
     "output_type": "stream",
     "text": [
      "GCN loss on unlabled data: 1.001957654953003\n",
      "GCN acc on unlabled data: 0.7577112203844435\n",
      "attack loss: 0.5025206208229065\n"
     ]
    },
    {
     "name": "stderr",
     "output_type": "stream",
     "text": [
      "Perturbing graph:  19%|███████████▋                                                 | 146/760 [17:58<1:14:14,  7.26s/it]"
     ]
    },
    {
     "name": "stdout",
     "output_type": "stream",
     "text": [
      "GCN loss on unlabled data: 1.030349850654602\n",
      "GCN acc on unlabled data: 0.7550290567724631\n",
      "attack loss: 0.511989414691925\n"
     ]
    },
    {
     "name": "stderr",
     "output_type": "stream",
     "text": [
      "Perturbing graph:  19%|███████████▊                                                 | 147/760 [18:05<1:14:14,  7.27s/it]"
     ]
    },
    {
     "name": "stdout",
     "output_type": "stream",
     "text": [
      "GCN loss on unlabled data: 0.9846430420875549\n",
      "GCN acc on unlabled data: 0.7568171658471167\n",
      "attack loss: 0.4897696375846863\n"
     ]
    },
    {
     "name": "stderr",
     "output_type": "stream",
     "text": [
      "Perturbing graph:  19%|███████████▉                                                 | 148/760 [18:12<1:14:30,  7.30s/it]"
     ]
    },
    {
     "name": "stdout",
     "output_type": "stream",
     "text": [
      "GCN loss on unlabled data: 0.9704190492630005\n",
      "GCN acc on unlabled data: 0.7590523021904336\n",
      "attack loss: 0.48458853363990784\n"
     ]
    },
    {
     "name": "stderr",
     "output_type": "stream",
     "text": [
      "Perturbing graph:  20%|███████████▉                                                 | 149/760 [18:20<1:14:34,  7.32s/it]"
     ]
    },
    {
     "name": "stdout",
     "output_type": "stream",
     "text": [
      "GCN loss on unlabled data: 1.0214229822158813\n",
      "GCN acc on unlabled data: 0.7492177022798391\n",
      "attack loss: 0.5034219026565552\n"
     ]
    },
    {
     "name": "stderr",
     "output_type": "stream",
     "text": [
      "Perturbing graph:  20%|████████████                                                 | 150/760 [18:27<1:15:09,  7.39s/it]"
     ]
    },
    {
     "name": "stdout",
     "output_type": "stream",
     "text": [
      "GCN loss on unlabled data: 0.9891154170036316\n",
      "GCN acc on unlabled data: 0.7648636566830577\n",
      "attack loss: 0.49548575282096863\n"
     ]
    },
    {
     "name": "stderr",
     "output_type": "stream",
     "text": [
      "Perturbing graph:  20%|████████████                                                 | 151/760 [18:35<1:14:21,  7.33s/it]"
     ]
    },
    {
     "name": "stdout",
     "output_type": "stream",
     "text": [
      "GCN loss on unlabled data: 0.9892755150794983\n",
      "GCN acc on unlabled data: 0.7550290567724631\n",
      "attack loss: 0.49463537335395813\n"
     ]
    },
    {
     "name": "stderr",
     "output_type": "stream",
     "text": [
      "Perturbing graph:  20%|████████████▏                                                | 152/760 [18:42<1:14:18,  7.33s/it]"
     ]
    },
    {
     "name": "stdout",
     "output_type": "stream",
     "text": [
      "GCN loss on unlabled data: 1.0571941137313843\n",
      "GCN acc on unlabled data: 0.7527939204291462\n",
      "attack loss: 0.5328038930892944\n"
     ]
    },
    {
     "name": "stderr",
     "output_type": "stream",
     "text": [
      "Perturbing graph:  20%|████████████▎                                                | 153/760 [18:49<1:14:10,  7.33s/it]"
     ]
    },
    {
     "name": "stdout",
     "output_type": "stream",
     "text": [
      "GCN loss on unlabled data: 1.028077244758606\n",
      "GCN acc on unlabled data: 0.7465355386678587\n",
      "attack loss: 0.511940598487854\n"
     ]
    },
    {
     "name": "stderr",
     "output_type": "stream",
     "text": [
      "Perturbing graph:  20%|████████████▎                                                | 154/760 [18:57<1:14:58,  7.42s/it]"
     ]
    },
    {
     "name": "stdout",
     "output_type": "stream",
     "text": [
      "GCN loss on unlabled data: 1.0307468175888062\n",
      "GCN acc on unlabled data: 0.7492177022798391\n",
      "attack loss: 0.5138123631477356\n"
     ]
    },
    {
     "name": "stderr",
     "output_type": "stream",
     "text": [
      "Perturbing graph:  20%|████████████▍                                                | 155/760 [19:04<1:14:50,  7.42s/it]"
     ]
    },
    {
     "name": "stdout",
     "output_type": "stream",
     "text": [
      "GCN loss on unlabled data: 1.0497050285339355\n",
      "GCN acc on unlabled data: 0.745641484130532\n",
      "attack loss: 0.5186325907707214\n"
     ]
    },
    {
     "name": "stderr",
     "output_type": "stream",
     "text": [
      "Perturbing graph:  21%|████████████▌                                                | 156/760 [19:11<1:13:54,  7.34s/it]"
     ]
    },
    {
     "name": "stdout",
     "output_type": "stream",
     "text": [
      "GCN loss on unlabled data: 0.9994978308677673\n",
      "GCN acc on unlabled data: 0.7532409476978096\n",
      "attack loss: 0.4987245500087738\n"
     ]
    },
    {
     "name": "stderr",
     "output_type": "stream",
     "text": [
      "Perturbing graph:  21%|████████████▌                                                | 157/760 [19:19<1:13:57,  7.36s/it]"
     ]
    },
    {
     "name": "stdout",
     "output_type": "stream",
     "text": [
      "GCN loss on unlabled data: 1.0332269668579102\n",
      "GCN acc on unlabled data: 0.7518998658918195\n",
      "attack loss: 0.5153638124465942\n"
     ]
    },
    {
     "name": "stderr",
     "output_type": "stream",
     "text": [
      "Perturbing graph:  21%|████████████▋                                                | 158/760 [19:26<1:14:06,  7.39s/it]"
     ]
    },
    {
     "name": "stdout",
     "output_type": "stream",
     "text": [
      "GCN loss on unlabled data: 1.015166163444519\n",
      "GCN acc on unlabled data: 0.7510058113544926\n",
      "attack loss: 0.5023524761199951\n"
     ]
    },
    {
     "name": "stderr",
     "output_type": "stream",
     "text": [
      "Perturbing graph:  21%|████████████▊                                                | 159/760 [19:33<1:13:26,  7.33s/it]"
     ]
    },
    {
     "name": "stdout",
     "output_type": "stream",
     "text": [
      "GCN loss on unlabled data: 1.0462490320205688\n",
      "GCN acc on unlabled data: 0.7443004023245418\n",
      "attack loss: 0.5238182544708252\n"
     ]
    },
    {
     "name": "stderr",
     "output_type": "stream",
     "text": [
      "Perturbing graph:  21%|████████████▊                                                | 160/760 [19:41<1:12:39,  7.27s/it]"
     ]
    },
    {
     "name": "stdout",
     "output_type": "stream",
     "text": [
      "GCN loss on unlabled data: 1.0606855154037476\n",
      "GCN acc on unlabled data: 0.7483236477425123\n",
      "attack loss: 0.5261481404304504\n"
     ]
    },
    {
     "name": "stderr",
     "output_type": "stream",
     "text": [
      "Perturbing graph:  21%|████████████▉                                                | 161/760 [19:48<1:13:36,  7.37s/it]"
     ]
    },
    {
     "name": "stdout",
     "output_type": "stream",
     "text": [
      "GCN loss on unlabled data: 1.0565063953399658\n",
      "GCN acc on unlabled data: 0.7545820295037997\n",
      "attack loss: 0.5264180302619934\n"
     ]
    },
    {
     "name": "stderr",
     "output_type": "stream",
     "text": [
      "Perturbing graph:  21%|█████████████                                                | 162/760 [19:56<1:13:37,  7.39s/it]"
     ]
    },
    {
     "name": "stdout",
     "output_type": "stream",
     "text": [
      "GCN loss on unlabled data: 1.049128532409668\n",
      "GCN acc on unlabled data: 0.7510058113544926\n",
      "attack loss: 0.5251606702804565\n"
     ]
    },
    {
     "name": "stderr",
     "output_type": "stream",
     "text": [
      "Perturbing graph:  21%|█████████████                                                | 163/760 [20:03<1:13:59,  7.44s/it]"
     ]
    },
    {
     "name": "stdout",
     "output_type": "stream",
     "text": [
      "GCN loss on unlabled data: 1.037304162979126\n",
      "GCN acc on unlabled data: 0.7460885113991953\n",
      "attack loss: 0.5183374285697937\n"
     ]
    },
    {
     "name": "stderr",
     "output_type": "stream",
     "text": [
      "Perturbing graph:  22%|█████████████▏                                               | 164/760 [20:10<1:13:15,  7.38s/it]"
     ]
    },
    {
     "name": "stdout",
     "output_type": "stream",
     "text": [
      "GCN loss on unlabled data: 1.0324782133102417\n",
      "GCN acc on unlabled data: 0.7447474295932052\n",
      "attack loss: 0.5140183568000793\n"
     ]
    },
    {
     "name": "stderr",
     "output_type": "stream",
     "text": [
      "Perturbing graph:  22%|█████████████▏                                               | 165/760 [20:18<1:13:50,  7.45s/it]"
     ]
    },
    {
     "name": "stdout",
     "output_type": "stream",
     "text": [
      "GCN loss on unlabled data: 1.0102788209915161\n",
      "GCN acc on unlabled data: 0.7474295932051855\n",
      "attack loss: 0.5036799311637878\n"
     ]
    },
    {
     "name": "stderr",
     "output_type": "stream",
     "text": [
      "Perturbing graph:  22%|█████████████▎                                               | 166/760 [20:25<1:13:25,  7.42s/it]"
     ]
    },
    {
     "name": "stdout",
     "output_type": "stream",
     "text": [
      "GCN loss on unlabled data: 1.087255597114563\n",
      "GCN acc on unlabled data: 0.739830129637908\n",
      "attack loss: 0.5435346364974976\n"
     ]
    },
    {
     "name": "stderr",
     "output_type": "stream",
     "text": [
      "Perturbing graph:  22%|█████████████▍                                               | 167/760 [20:33<1:12:29,  7.33s/it]"
     ]
    },
    {
     "name": "stdout",
     "output_type": "stream",
     "text": [
      "GCN loss on unlabled data: 1.0647976398468018\n",
      "GCN acc on unlabled data: 0.747876620473849\n",
      "attack loss: 0.5362364053726196\n"
     ]
    },
    {
     "name": "stderr",
     "output_type": "stream",
     "text": [
      "Perturbing graph:  22%|█████████████▍                                               | 168/760 [20:40<1:11:33,  7.25s/it]"
     ]
    },
    {
     "name": "stdout",
     "output_type": "stream",
     "text": [
      "GCN loss on unlabled data: 1.0663093328475952\n",
      "GCN acc on unlabled data: 0.7380420205632544\n",
      "attack loss: 0.5333884954452515\n"
     ]
    },
    {
     "name": "stderr",
     "output_type": "stream",
     "text": [
      "Perturbing graph:  22%|█████████████▌                                               | 169/760 [20:47<1:11:58,  7.31s/it]"
     ]
    },
    {
     "name": "stdout",
     "output_type": "stream",
     "text": [
      "GCN loss on unlabled data: 1.0617270469665527\n",
      "GCN acc on unlabled data: 0.7420652659812249\n",
      "attack loss: 0.5305855870246887\n"
     ]
    },
    {
     "name": "stderr",
     "output_type": "stream",
     "text": [
      "Perturbing graph:  22%|█████████████▋                                               | 170/760 [20:54<1:12:17,  7.35s/it]"
     ]
    },
    {
     "name": "stdout",
     "output_type": "stream",
     "text": [
      "GCN loss on unlabled data: 1.075979471206665\n",
      "GCN acc on unlabled data: 0.7474295932051855\n",
      "attack loss: 0.5393140316009521\n"
     ]
    },
    {
     "name": "stderr",
     "output_type": "stream",
     "text": [
      "Perturbing graph:  22%|█████████████▋                                               | 171/760 [21:02<1:11:53,  7.32s/it]"
     ]
    },
    {
     "name": "stdout",
     "output_type": "stream",
     "text": [
      "GCN loss on unlabled data: 1.070732593536377\n",
      "GCN acc on unlabled data: 0.7420652659812249\n",
      "attack loss: 0.539249062538147\n"
     ]
    },
    {
     "name": "stderr",
     "output_type": "stream",
     "text": [
      "Perturbing graph:  23%|█████████████▊                                               | 172/760 [21:09<1:11:21,  7.28s/it]"
     ]
    },
    {
     "name": "stdout",
     "output_type": "stream",
     "text": [
      "GCN loss on unlabled data: 1.0564063787460327\n",
      "GCN acc on unlabled data: 0.7438533750558785\n",
      "attack loss: 0.5303864479064941\n"
     ]
    },
    {
     "name": "stderr",
     "output_type": "stream",
     "text": [
      "Perturbing graph:  23%|█████████████▉                                               | 173/760 [21:16<1:11:23,  7.30s/it]"
     ]
    },
    {
     "name": "stdout",
     "output_type": "stream",
     "text": [
      "GCN loss on unlabled data: 1.0580512285232544\n",
      "GCN acc on unlabled data: 0.7367009387572642\n",
      "attack loss: 0.5271974802017212\n"
     ]
    },
    {
     "name": "stderr",
     "output_type": "stream",
     "text": [
      "Perturbing graph:  23%|█████████████▉                                               | 174/760 [21:24<1:12:26,  7.42s/it]"
     ]
    },
    {
     "name": "stdout",
     "output_type": "stream",
     "text": [
      "GCN loss on unlabled data: 1.049234390258789\n",
      "GCN acc on unlabled data: 0.7469825659365221\n",
      "attack loss: 0.5282405018806458\n"
     ]
    },
    {
     "name": "stderr",
     "output_type": "stream",
     "text": [
      "Perturbing graph:  23%|██████████████                                               | 175/760 [21:31<1:12:15,  7.41s/it]"
     ]
    },
    {
     "name": "stdout",
     "output_type": "stream",
     "text": [
      "GCN loss on unlabled data: 1.1149096488952637\n",
      "GCN acc on unlabled data: 0.7358068842199375\n",
      "attack loss: 0.5558091402053833\n"
     ]
    },
    {
     "name": "stderr",
     "output_type": "stream",
     "text": [
      "Perturbing graph:  23%|██████████████▏                                              | 176/760 [21:39<1:12:12,  7.42s/it]"
     ]
    },
    {
     "name": "stdout",
     "output_type": "stream",
     "text": [
      "GCN loss on unlabled data: 1.0844839811325073\n",
      "GCN acc on unlabled data: 0.739830129637908\n",
      "attack loss: 0.5434297919273376\n"
     ]
    },
    {
     "name": "stderr",
     "output_type": "stream",
     "text": [
      "Perturbing graph:  23%|██████████████▏                                              | 177/760 [21:46<1:12:07,  7.42s/it]"
     ]
    },
    {
     "name": "stdout",
     "output_type": "stream",
     "text": [
      "GCN loss on unlabled data: 1.1223872900009155\n",
      "GCN acc on unlabled data: 0.7411712114438981\n",
      "attack loss: 0.5667870044708252\n"
     ]
    },
    {
     "name": "stderr",
     "output_type": "stream",
     "text": [
      "Perturbing graph:  23%|██████████████▎                                              | 178/760 [21:54<1:12:23,  7.46s/it]"
     ]
    },
    {
     "name": "stdout",
     "output_type": "stream",
     "text": [
      "GCN loss on unlabled data: 1.0877481698989868\n",
      "GCN acc on unlabled data: 0.7407241841752347\n",
      "attack loss: 0.5471956729888916\n"
     ]
    },
    {
     "name": "stderr",
     "output_type": "stream",
     "text": [
      "Perturbing graph:  24%|██████████████▎                                              | 179/760 [22:01<1:11:30,  7.38s/it]"
     ]
    },
    {
     "name": "stdout",
     "output_type": "stream",
     "text": [
      "GCN loss on unlabled data: 1.1006653308868408\n",
      "GCN acc on unlabled data: 0.7411712114438981\n",
      "attack loss: 0.5527822375297546\n"
     ]
    },
    {
     "name": "stderr",
     "output_type": "stream",
     "text": [
      "Perturbing graph:  24%|██████████████▍                                              | 180/760 [22:08<1:11:20,  7.38s/it]"
     ]
    },
    {
     "name": "stdout",
     "output_type": "stream",
     "text": [
      "GCN loss on unlabled data: 1.095106840133667\n",
      "GCN acc on unlabled data: 0.7340187751452839\n",
      "attack loss: 0.5480295419692993\n"
     ]
    },
    {
     "name": "stderr",
     "output_type": "stream",
     "text": [
      "Perturbing graph:  24%|██████████████▌                                              | 181/760 [22:16<1:11:44,  7.43s/it]"
     ]
    },
    {
     "name": "stdout",
     "output_type": "stream",
     "text": [
      "GCN loss on unlabled data: 1.11302649974823\n",
      "GCN acc on unlabled data: 0.7367009387572642\n",
      "attack loss: 0.5663538575172424\n"
     ]
    },
    {
     "name": "stderr",
     "output_type": "stream",
     "text": [
      "Perturbing graph:  24%|██████████████▌                                              | 182/760 [22:23<1:11:34,  7.43s/it]"
     ]
    },
    {
     "name": "stdout",
     "output_type": "stream",
     "text": [
      "GCN loss on unlabled data: 1.1138584613800049\n",
      "GCN acc on unlabled data: 0.7349128296826106\n",
      "attack loss: 0.5611295700073242\n"
     ]
    },
    {
     "name": "stderr",
     "output_type": "stream",
     "text": [
      "Perturbing graph:  24%|██████████████▋                                              | 183/760 [22:30<1:10:31,  7.33s/it]"
     ]
    },
    {
     "name": "stdout",
     "output_type": "stream",
     "text": [
      "GCN loss on unlabled data: 1.1252124309539795\n",
      "GCN acc on unlabled data: 0.7322306660706303\n",
      "attack loss: 0.5735968947410583\n"
     ]
    },
    {
     "name": "stderr",
     "output_type": "stream",
     "text": [
      "Perturbing graph:  24%|██████████████▊                                              | 184/760 [22:38<1:10:18,  7.32s/it]"
     ]
    },
    {
     "name": "stdout",
     "output_type": "stream",
     "text": [
      "GCN loss on unlabled data: 1.0989456176757812\n",
      "GCN acc on unlabled data: 0.7358068842199375\n",
      "attack loss: 0.5517905950546265\n"
     ]
    },
    {
     "name": "stderr",
     "output_type": "stream",
     "text": [
      "Perturbing graph:  24%|██████████████▊                                              | 185/760 [22:45<1:09:42,  7.27s/it]"
     ]
    },
    {
     "name": "stdout",
     "output_type": "stream",
     "text": [
      "GCN loss on unlabled data: 1.1065163612365723\n",
      "GCN acc on unlabled data: 0.7380420205632544\n",
      "attack loss: 0.5573128461837769\n"
     ]
    },
    {
     "name": "stderr",
     "output_type": "stream",
     "text": [
      "Perturbing graph:  24%|██████████████▉                                              | 186/760 [22:52<1:09:37,  7.28s/it]"
     ]
    },
    {
     "name": "stdout",
     "output_type": "stream",
     "text": [
      "GCN loss on unlabled data: 1.1074473857879639\n",
      "GCN acc on unlabled data: 0.7340187751452839\n",
      "attack loss: 0.562431275844574\n"
     ]
    },
    {
     "name": "stderr",
     "output_type": "stream",
     "text": [
      "Perturbing graph:  25%|███████████████                                              | 187/760 [23:00<1:10:31,  7.38s/it]"
     ]
    },
    {
     "name": "stdout",
     "output_type": "stream",
     "text": [
      "GCN loss on unlabled data: 1.0875952243804932\n",
      "GCN acc on unlabled data: 0.7416182387125615\n",
      "attack loss: 0.5477707982063293\n"
     ]
    },
    {
     "name": "stderr",
     "output_type": "stream",
     "text": [
      "Perturbing graph:  25%|███████████████                                              | 188/760 [23:07<1:11:07,  7.46s/it]"
     ]
    },
    {
     "name": "stdout",
     "output_type": "stream",
     "text": [
      "GCN loss on unlabled data: 1.1026512384414673\n",
      "GCN acc on unlabled data: 0.727313366115333\n",
      "attack loss: 0.5627874732017517\n"
     ]
    },
    {
     "name": "stderr",
     "output_type": "stream",
     "text": [
      "Perturbing graph:  25%|███████████████▏                                             | 189/760 [23:15<1:11:09,  7.48s/it]"
     ]
    },
    {
     "name": "stdout",
     "output_type": "stream",
     "text": [
      "GCN loss on unlabled data: 1.13835871219635\n",
      "GCN acc on unlabled data: 0.7340187751452839\n",
      "attack loss: 0.5767009854316711\n"
     ]
    },
    {
     "name": "stderr",
     "output_type": "stream",
     "text": [
      "Perturbing graph:  25%|███████████████▎                                             | 190/760 [23:22<1:11:08,  7.49s/it]"
     ]
    },
    {
     "name": "stdout",
     "output_type": "stream",
     "text": [
      "GCN loss on unlabled data: 1.1163290739059448\n",
      "GCN acc on unlabled data: 0.7358068842199375\n",
      "attack loss: 0.5679371356964111\n"
     ]
    },
    {
     "name": "stderr",
     "output_type": "stream",
     "text": [
      "Perturbing graph:  25%|███████████████▎                                             | 191/760 [23:44<1:50:01, 11.60s/it]"
     ]
    },
    {
     "name": "stdout",
     "output_type": "stream",
     "text": [
      "GCN loss on unlabled data: 1.1273399591445923\n",
      "GCN acc on unlabled data: 0.72954850245865\n",
      "attack loss: 0.5712244510650635\n"
     ]
    },
    {
     "name": "stderr",
     "output_type": "stream",
     "text": [
      "Perturbing graph:  25%|███████████████▍                                             | 192/760 [24:07<2:23:32, 15.16s/it]"
     ]
    },
    {
     "name": "stdout",
     "output_type": "stream",
     "text": [
      "GCN loss on unlabled data: 1.1371231079101562\n",
      "GCN acc on unlabled data: 0.7380420205632544\n",
      "attack loss: 0.5762830376625061\n"
     ]
    },
    {
     "name": "stderr",
     "output_type": "stream",
     "text": [
      "Perturbing graph:  25%|███████████████▍                                             | 193/760 [24:34<2:56:01, 18.63s/it]"
     ]
    },
    {
     "name": "stdout",
     "output_type": "stream",
     "text": [
      "GCN loss on unlabled data: 1.1422407627105713\n",
      "GCN acc on unlabled data: 0.727313366115333\n",
      "attack loss: 0.5856482982635498\n"
     ]
    },
    {
     "name": "stderr",
     "output_type": "stream",
     "text": [
      "Perturbing graph:  26%|███████████████▌                                             | 194/760 [24:59<3:13:52, 20.55s/it]"
     ]
    },
    {
     "name": "stdout",
     "output_type": "stream",
     "text": [
      "GCN loss on unlabled data: 1.1078171730041504\n",
      "GCN acc on unlabled data: 0.735359856951274\n",
      "attack loss: 0.5674484372138977\n"
     ]
    },
    {
     "name": "stderr",
     "output_type": "stream",
     "text": [
      "Perturbing graph:  26%|███████████████▋                                             | 195/760 [25:10<2:47:11, 17.75s/it]"
     ]
    },
    {
     "name": "stdout",
     "output_type": "stream",
     "text": [
      "GCN loss on unlabled data: 1.1621147394180298\n",
      "GCN acc on unlabled data: 0.7228430934286991\n",
      "attack loss: 0.5950760841369629\n"
     ]
    },
    {
     "name": "stderr",
     "output_type": "stream",
     "text": [
      "Perturbing graph:  26%|███████████████▋                                             | 196/760 [25:18<2:17:59, 14.68s/it]"
     ]
    },
    {
     "name": "stdout",
     "output_type": "stream",
     "text": [
      "GCN loss on unlabled data: 1.1414459943771362\n",
      "GCN acc on unlabled data: 0.7232901206973625\n",
      "attack loss: 0.5785511136054993\n"
     ]
    },
    {
     "name": "stderr",
     "output_type": "stream",
     "text": [
      "Perturbing graph:  26%|███████████████▊                                             | 197/760 [25:25<1:57:53, 12.56s/it]"
     ]
    },
    {
     "name": "stdout",
     "output_type": "stream",
     "text": [
      "GCN loss on unlabled data: 1.1476083993911743\n",
      "GCN acc on unlabled data: 0.7286544479213232\n",
      "attack loss: 0.5809359550476074\n"
     ]
    },
    {
     "name": "stderr",
     "output_type": "stream",
     "text": [
      "Perturbing graph:  26%|███████████████▉                                             | 198/760 [25:33<1:43:30, 11.05s/it]"
     ]
    },
    {
     "name": "stdout",
     "output_type": "stream",
     "text": [
      "GCN loss on unlabled data: 1.1499123573303223\n",
      "GCN acc on unlabled data: 0.7358068842199375\n",
      "attack loss: 0.5849225521087646\n"
     ]
    },
    {
     "name": "stderr",
     "output_type": "stream",
     "text": [
      "Perturbing graph:  26%|███████████████▉                                             | 199/760 [25:40<1:33:08,  9.96s/it]"
     ]
    },
    {
     "name": "stdout",
     "output_type": "stream",
     "text": [
      "GCN loss on unlabled data: 1.1368837356567383\n",
      "GCN acc on unlabled data: 0.7277603933839965\n",
      "attack loss: 0.5849174857139587\n"
     ]
    },
    {
     "name": "stderr",
     "output_type": "stream",
     "text": [
      "Perturbing graph:  26%|████████████████                                             | 200/760 [25:48<1:26:21,  9.25s/it]"
     ]
    },
    {
     "name": "stdout",
     "output_type": "stream",
     "text": [
      "GCN loss on unlabled data: 1.203938603401184\n",
      "GCN acc on unlabled data: 0.7322306660706303\n",
      "attack loss: 0.6125757694244385\n"
     ]
    },
    {
     "name": "stderr",
     "output_type": "stream",
     "text": [
      "Perturbing graph:  26%|████████████████▏                                            | 201/760 [25:55<1:20:50,  8.68s/it]"
     ]
    },
    {
     "name": "stdout",
     "output_type": "stream",
     "text": [
      "GCN loss on unlabled data: 1.17191743850708\n",
      "GCN acc on unlabled data: 0.7282074206526599\n",
      "attack loss: 0.5970600247383118\n"
     ]
    },
    {
     "name": "stderr",
     "output_type": "stream",
     "text": [
      "Perturbing graph:  27%|████████████████▏                                            | 202/760 [26:03<1:17:53,  8.37s/it]"
     ]
    },
    {
     "name": "stdout",
     "output_type": "stream",
     "text": [
      "GCN loss on unlabled data: 1.133139729499817\n",
      "GCN acc on unlabled data: 0.7264193115780062\n",
      "attack loss: 0.5794341564178467\n"
     ]
    },
    {
     "name": "stderr",
     "output_type": "stream",
     "text": [
      "Perturbing graph:  27%|████████████████▎                                            | 203/760 [26:10<1:15:24,  8.12s/it]"
     ]
    },
    {
     "name": "stdout",
     "output_type": "stream",
     "text": [
      "GCN loss on unlabled data: 1.1844602823257446\n",
      "GCN acc on unlabled data: 0.7255252570406795\n",
      "attack loss: 0.6015101671218872\n"
     ]
    },
    {
     "name": "stderr",
     "output_type": "stream",
     "text": [
      "Perturbing graph:  27%|████████████████▎                                            | 204/760 [26:18<1:13:46,  7.96s/it]"
     ]
    },
    {
     "name": "stdout",
     "output_type": "stream",
     "text": [
      "GCN loss on unlabled data: 1.1667284965515137\n",
      "GCN acc on unlabled data: 0.7210549843540456\n",
      "attack loss: 0.5950109362602234\n"
     ]
    },
    {
     "name": "stderr",
     "output_type": "stream",
     "text": [
      "Perturbing graph:  27%|████████████████▍                                            | 205/760 [26:25<1:11:54,  7.77s/it]"
     ]
    },
    {
     "name": "stdout",
     "output_type": "stream",
     "text": [
      "GCN loss on unlabled data: 1.185321569442749\n",
      "GCN acc on unlabled data: 0.7264193115780062\n",
      "attack loss: 0.6078810095787048\n"
     ]
    },
    {
     "name": "stderr",
     "output_type": "stream",
     "text": [
      "Perturbing graph:  27%|████████████████▌                                            | 206/760 [26:33<1:10:41,  7.66s/it]"
     ]
    },
    {
     "name": "stdout",
     "output_type": "stream",
     "text": [
      "GCN loss on unlabled data: 1.1423323154449463\n",
      "GCN acc on unlabled data: 0.7201609298167189\n",
      "attack loss: 0.5854823589324951\n"
     ]
    },
    {
     "name": "stderr",
     "output_type": "stream",
     "text": [
      "Perturbing graph:  27%|████████████████▌                                            | 207/760 [26:40<1:10:49,  7.69s/it]"
     ]
    },
    {
     "name": "stdout",
     "output_type": "stream",
     "text": [
      "GCN loss on unlabled data: 1.144431233406067\n",
      "GCN acc on unlabled data: 0.7259722843093429\n",
      "attack loss: 0.5937583446502686\n"
     ]
    },
    {
     "name": "stderr",
     "output_type": "stream",
     "text": [
      "Perturbing graph:  27%|████████████████▋                                            | 208/760 [26:48<1:10:06,  7.62s/it]"
     ]
    },
    {
     "name": "stdout",
     "output_type": "stream",
     "text": [
      "GCN loss on unlabled data: 1.1399168968200684\n",
      "GCN acc on unlabled data: 0.721502011622709\n",
      "attack loss: 0.5877334475517273\n"
     ]
    },
    {
     "name": "stderr",
     "output_type": "stream",
     "text": [
      "Perturbing graph:  28%|████████████████▊                                            | 209/760 [26:55<1:09:30,  7.57s/it]"
     ]
    },
    {
     "name": "stdout",
     "output_type": "stream",
     "text": [
      "GCN loss on unlabled data: 1.1447627544403076\n",
      "GCN acc on unlabled data: 0.7232901206973625\n",
      "attack loss: 0.5909609794616699\n"
     ]
    },
    {
     "name": "stderr",
     "output_type": "stream",
     "text": [
      "Perturbing graph:  28%|████████████████▊                                            | 210/760 [27:02<1:08:01,  7.42s/it]"
     ]
    },
    {
     "name": "stdout",
     "output_type": "stream",
     "text": [
      "GCN loss on unlabled data: 1.187190055847168\n",
      "GCN acc on unlabled data: 0.7228430934286991\n",
      "attack loss: 0.6080981492996216\n"
     ]
    },
    {
     "name": "stderr",
     "output_type": "stream",
     "text": [
      "Perturbing graph:  28%|████████████████▉                                            | 211/760 [27:10<1:08:02,  7.44s/it]"
     ]
    },
    {
     "name": "stdout",
     "output_type": "stream",
     "text": [
      "GCN loss on unlabled data: 1.1862753629684448\n",
      "GCN acc on unlabled data: 0.7201609298167189\n",
      "attack loss: 0.6111559271812439\n"
     ]
    },
    {
     "name": "stderr",
     "output_type": "stream",
     "text": [
      "Perturbing graph:  28%|█████████████████                                            | 212/760 [27:18<1:08:34,  7.51s/it]"
     ]
    },
    {
     "name": "stdout",
     "output_type": "stream",
     "text": [
      "GCN loss on unlabled data: 1.2272162437438965\n",
      "GCN acc on unlabled data: 0.7241841752346894\n",
      "attack loss: 0.634624719619751\n"
     ]
    },
    {
     "name": "stderr",
     "output_type": "stream",
     "text": [
      "Perturbing graph:  28%|█████████████████                                            | 213/760 [27:25<1:07:35,  7.41s/it]"
     ]
    },
    {
     "name": "stdout",
     "output_type": "stream",
     "text": [
      "GCN loss on unlabled data: 1.2166008949279785\n",
      "GCN acc on unlabled data: 0.7183728207420653\n",
      "attack loss: 0.6267105937004089\n"
     ]
    },
    {
     "name": "stderr",
     "output_type": "stream",
     "text": [
      "Perturbing graph:  28%|█████████████████▏                                           | 214/760 [27:32<1:08:06,  7.49s/it]"
     ]
    },
    {
     "name": "stdout",
     "output_type": "stream",
     "text": [
      "GCN loss on unlabled data: 1.1975538730621338\n",
      "GCN acc on unlabled data: 0.719266875279392\n",
      "attack loss: 0.6144431829452515\n"
     ]
    },
    {
     "name": "stderr",
     "output_type": "stream",
     "text": [
      "Perturbing graph:  28%|█████████████████▎                                           | 215/760 [27:40<1:08:01,  7.49s/it]"
     ]
    },
    {
     "name": "stdout",
     "output_type": "stream",
     "text": [
      "GCN loss on unlabled data: 1.184154987335205\n",
      "GCN acc on unlabled data: 0.7232901206973625\n",
      "attack loss: 0.6087424755096436\n"
     ]
    },
    {
     "name": "stderr",
     "output_type": "stream",
     "text": [
      "Perturbing graph:  28%|█████████████████▎                                           | 216/760 [27:47<1:06:25,  7.33s/it]"
     ]
    },
    {
     "name": "stdout",
     "output_type": "stream",
     "text": [
      "GCN loss on unlabled data: 1.1963366270065308\n",
      "GCN acc on unlabled data: 0.7219490388913724\n",
      "attack loss: 0.6051849722862244\n"
     ]
    },
    {
     "name": "stderr",
     "output_type": "stream",
     "text": [
      "Perturbing graph:  29%|█████████████████▍                                           | 217/760 [27:54<1:06:32,  7.35s/it]"
     ]
    },
    {
     "name": "stdout",
     "output_type": "stream",
     "text": [
      "GCN loss on unlabled data: 1.198669672012329\n",
      "GCN acc on unlabled data: 0.7223960661600357\n",
      "attack loss: 0.6238670945167542\n"
     ]
    },
    {
     "name": "stderr",
     "output_type": "stream",
     "text": [
      "Perturbing graph:  29%|█████████████████▍                                           | 218/760 [28:02<1:06:24,  7.35s/it]"
     ]
    },
    {
     "name": "stdout",
     "output_type": "stream",
     "text": [
      "GCN loss on unlabled data: 1.2230703830718994\n",
      "GCN acc on unlabled data: 0.7286544479213232\n",
      "attack loss: 0.6239625215530396\n"
     ]
    },
    {
     "name": "stderr",
     "output_type": "stream",
     "text": [
      "Perturbing graph:  29%|█████████████████▌                                           | 219/760 [28:09<1:06:14,  7.35s/it]"
     ]
    },
    {
     "name": "stdout",
     "output_type": "stream",
     "text": [
      "GCN loss on unlabled data: 1.2041672468185425\n",
      "GCN acc on unlabled data: 0.7201609298167189\n",
      "attack loss: 0.623350203037262\n"
     ]
    },
    {
     "name": "stderr",
     "output_type": "stream",
     "text": [
      "Perturbing graph:  29%|█████████████████▋                                           | 220/760 [28:16<1:06:09,  7.35s/it]"
     ]
    },
    {
     "name": "stdout",
     "output_type": "stream",
     "text": [
      "GCN loss on unlabled data: 1.2175235748291016\n",
      "GCN acc on unlabled data: 0.721502011622709\n",
      "attack loss: 0.6297521591186523\n"
     ]
    },
    {
     "name": "stderr",
     "output_type": "stream",
     "text": [
      "Perturbing graph:  29%|█████████████████▋                                           | 221/760 [28:24<1:06:18,  7.38s/it]"
     ]
    },
    {
     "name": "stdout",
     "output_type": "stream",
     "text": [
      "GCN loss on unlabled data: 1.2573121786117554\n",
      "GCN acc on unlabled data: 0.713455520786768\n",
      "attack loss: 0.6433625221252441\n"
     ]
    },
    {
     "name": "stderr",
     "output_type": "stream",
     "text": [
      "Perturbing graph:  29%|█████████████████▊                                           | 222/760 [28:31<1:06:13,  7.39s/it]"
     ]
    },
    {
     "name": "stdout",
     "output_type": "stream",
     "text": [
      "GCN loss on unlabled data: 1.2406054735183716\n",
      "GCN acc on unlabled data: 0.7183728207420653\n",
      "attack loss: 0.6407392024993896\n"
     ]
    },
    {
     "name": "stderr",
     "output_type": "stream",
     "text": [
      "Perturbing graph:  29%|█████████████████▉                                           | 223/760 [28:39<1:06:15,  7.40s/it]"
     ]
    },
    {
     "name": "stdout",
     "output_type": "stream",
     "text": [
      "GCN loss on unlabled data: 1.2161970138549805\n",
      "GCN acc on unlabled data: 0.715690657130085\n",
      "attack loss: 0.6275858283042908\n"
     ]
    },
    {
     "name": "stderr",
     "output_type": "stream",
     "text": [
      "Perturbing graph:  29%|█████████████████▉                                           | 224/760 [28:46<1:06:04,  7.40s/it]"
     ]
    },
    {
     "name": "stdout",
     "output_type": "stream",
     "text": [
      "GCN loss on unlabled data: 1.2270326614379883\n",
      "GCN acc on unlabled data: 0.7219490388913724\n",
      "attack loss: 0.6293348670005798\n"
     ]
    },
    {
     "name": "stderr",
     "output_type": "stream",
     "text": [
      "Perturbing graph:  30%|██████████████████                                           | 225/760 [28:53<1:05:03,  7.30s/it]"
     ]
    },
    {
     "name": "stdout",
     "output_type": "stream",
     "text": [
      "GCN loss on unlabled data: 1.2512458562850952\n",
      "GCN acc on unlabled data: 0.7183728207420653\n",
      "attack loss: 0.6444563865661621\n"
     ]
    },
    {
     "name": "stderr",
     "output_type": "stream",
     "text": [
      "Perturbing graph:  30%|██████████████████▏                                          | 226/760 [29:00<1:05:17,  7.34s/it]"
     ]
    },
    {
     "name": "stdout",
     "output_type": "stream",
     "text": [
      "GCN loss on unlabled data: 1.2682236433029175\n",
      "GCN acc on unlabled data: 0.7197139025480555\n",
      "attack loss: 0.6546382308006287\n"
     ]
    },
    {
     "name": "stderr",
     "output_type": "stream",
     "text": [
      "Perturbing graph:  30%|██████████████████▏                                          | 227/760 [29:08<1:05:08,  7.33s/it]"
     ]
    },
    {
     "name": "stdout",
     "output_type": "stream",
     "text": [
      "GCN loss on unlabled data: 1.234864592552185\n",
      "GCN acc on unlabled data: 0.7147966025927581\n",
      "attack loss: 0.6348419189453125\n"
     ]
    },
    {
     "name": "stderr",
     "output_type": "stream",
     "text": [
      "Perturbing graph:  30%|██████████████████▎                                          | 228/760 [29:15<1:04:40,  7.29s/it]"
     ]
    },
    {
     "name": "stdout",
     "output_type": "stream",
     "text": [
      "GCN loss on unlabled data: 1.2387380599975586\n",
      "GCN acc on unlabled data: 0.7174787662047385\n",
      "attack loss: 0.6460812091827393\n"
     ]
    },
    {
     "name": "stderr",
     "output_type": "stream",
     "text": [
      "Perturbing graph:  30%|██████████████████▍                                          | 229/760 [29:22<1:05:04,  7.35s/it]"
     ]
    },
    {
     "name": "stdout",
     "output_type": "stream",
     "text": [
      "GCN loss on unlabled data: 1.2809661626815796\n",
      "GCN acc on unlabled data: 0.7183728207420653\n",
      "attack loss: 0.6560501456260681\n"
     ]
    },
    {
     "name": "stderr",
     "output_type": "stream",
     "text": [
      "Perturbing graph:  30%|██████████████████▍                                          | 230/760 [29:30<1:05:30,  7.42s/it]"
     ]
    },
    {
     "name": "stdout",
     "output_type": "stream",
     "text": [
      "GCN loss on unlabled data: 1.2694724798202515\n",
      "GCN acc on unlabled data: 0.719266875279392\n",
      "attack loss: 0.6451331377029419\n"
     ]
    },
    {
     "name": "stderr",
     "output_type": "stream",
     "text": [
      "Perturbing graph:  30%|██████████████████▌                                          | 231/760 [29:37<1:04:55,  7.36s/it]"
     ]
    },
    {
     "name": "stdout",
     "output_type": "stream",
     "text": [
      "GCN loss on unlabled data: 1.2785040140151978\n",
      "GCN acc on unlabled data: 0.721502011622709\n",
      "attack loss: 0.6524341702461243\n"
     ]
    },
    {
     "name": "stderr",
     "output_type": "stream",
     "text": [
      "Perturbing graph:  31%|██████████████████▌                                          | 232/760 [29:45<1:05:16,  7.42s/it]"
     ]
    },
    {
     "name": "stdout",
     "output_type": "stream",
     "text": [
      "GCN loss on unlabled data: 1.2650701999664307\n",
      "GCN acc on unlabled data: 0.7147966025927581\n",
      "attack loss: 0.6564373970031738\n"
     ]
    },
    {
     "name": "stderr",
     "output_type": "stream",
     "text": [
      "Perturbing graph:  31%|██████████████████▋                                          | 233/760 [29:52<1:05:38,  7.47s/it]"
     ]
    },
    {
     "name": "stdout",
     "output_type": "stream",
     "text": [
      "GCN loss on unlabled data: 1.2742650508880615\n",
      "GCN acc on unlabled data: 0.7179257934734019\n",
      "attack loss: 0.6554800868034363\n"
     ]
    },
    {
     "name": "stderr",
     "output_type": "stream",
     "text": [
      "Perturbing graph:  31%|██████████████████▊                                          | 234/760 [30:00<1:04:49,  7.39s/it]"
     ]
    },
    {
     "name": "stdout",
     "output_type": "stream",
     "text": [
      "GCN loss on unlabled data: 1.2661914825439453\n",
      "GCN acc on unlabled data: 0.7130084935181046\n",
      "attack loss: 0.6517481803894043\n"
     ]
    },
    {
     "name": "stderr",
     "output_type": "stream",
     "text": [
      "Perturbing graph:  31%|██████████████████▊                                          | 235/760 [30:07<1:04:29,  7.37s/it]"
     ]
    },
    {
     "name": "stdout",
     "output_type": "stream",
     "text": [
      "GCN loss on unlabled data: 1.2820360660552979\n",
      "GCN acc on unlabled data: 0.7174787662047385\n",
      "attack loss: 0.6566996574401855\n"
     ]
    },
    {
     "name": "stderr",
     "output_type": "stream",
     "text": [
      "Perturbing graph:  31%|██████████████████▉                                          | 236/760 [30:14<1:04:23,  7.37s/it]"
     ]
    },
    {
     "name": "stdout",
     "output_type": "stream",
     "text": [
      "GCN loss on unlabled data: 1.3181267976760864\n",
      "GCN acc on unlabled data: 0.7152436298614215\n",
      "attack loss: 0.6742469668388367\n"
     ]
    },
    {
     "name": "stderr",
     "output_type": "stream",
     "text": [
      "Perturbing graph:  31%|███████████████████                                          | 237/760 [30:22<1:03:56,  7.34s/it]"
     ]
    },
    {
     "name": "stdout",
     "output_type": "stream",
     "text": [
      "GCN loss on unlabled data: 1.340184211730957\n",
      "GCN acc on unlabled data: 0.7143495753240948\n",
      "attack loss: 0.683346688747406\n"
     ]
    },
    {
     "name": "stderr",
     "output_type": "stream",
     "text": [
      "Perturbing graph:  31%|███████████████████                                          | 238/760 [30:29<1:03:34,  7.31s/it]"
     ]
    },
    {
     "name": "stdout",
     "output_type": "stream",
     "text": [
      "GCN loss on unlabled data: 1.2569676637649536\n",
      "GCN acc on unlabled data: 0.7116674117121145\n",
      "attack loss: 0.6501738429069519\n"
     ]
    },
    {
     "name": "stderr",
     "output_type": "stream",
     "text": [
      "Perturbing graph:  31%|███████████████████▏                                         | 239/760 [30:36<1:03:28,  7.31s/it]"
     ]
    },
    {
     "name": "stdout",
     "output_type": "stream",
     "text": [
      "GCN loss on unlabled data: 1.3179869651794434\n",
      "GCN acc on unlabled data: 0.7165847116674117\n",
      "attack loss: 0.6770464777946472\n"
     ]
    },
    {
     "name": "stderr",
     "output_type": "stream",
     "text": [
      "Perturbing graph:  32%|███████████████████▎                                         | 240/760 [30:44<1:04:02,  7.39s/it]"
     ]
    },
    {
     "name": "stdout",
     "output_type": "stream",
     "text": [
      "GCN loss on unlabled data: 1.2763266563415527\n",
      "GCN acc on unlabled data: 0.7201609298167189\n",
      "attack loss: 0.6592667102813721\n"
     ]
    },
    {
     "name": "stderr",
     "output_type": "stream",
     "text": [
      "Perturbing graph:  32%|███████████████████▎                                         | 241/760 [30:51<1:03:45,  7.37s/it]"
     ]
    },
    {
     "name": "stdout",
     "output_type": "stream",
     "text": [
      "GCN loss on unlabled data: 1.3013042211532593\n",
      "GCN acc on unlabled data: 0.7139025480554314\n",
      "attack loss: 0.6729744076728821\n"
     ]
    },
    {
     "name": "stderr",
     "output_type": "stream",
     "text": [
      "Perturbing graph:  32%|███████████████████▍                                         | 242/760 [30:58<1:03:03,  7.30s/it]"
     ]
    },
    {
     "name": "stdout",
     "output_type": "stream",
     "text": [
      "GCN loss on unlabled data: 1.294975996017456\n",
      "GCN acc on unlabled data: 0.7188198480107286\n",
      "attack loss: 0.6711572408676147\n"
     ]
    },
    {
     "name": "stderr",
     "output_type": "stream",
     "text": [
      "Perturbing graph:  32%|███████████████████▌                                         | 243/760 [31:05<1:02:48,  7.29s/it]"
     ]
    },
    {
     "name": "stdout",
     "output_type": "stream",
     "text": [
      "GCN loss on unlabled data: 1.3265272378921509\n",
      "GCN acc on unlabled data: 0.7130084935181046\n",
      "attack loss: 0.6844325065612793\n"
     ]
    },
    {
     "name": "stderr",
     "output_type": "stream",
     "text": [
      "Perturbing graph:  32%|███████████████████▌                                         | 244/760 [31:13<1:02:57,  7.32s/it]"
     ]
    },
    {
     "name": "stdout",
     "output_type": "stream",
     "text": [
      "GCN loss on unlabled data: 1.3004539012908936\n",
      "GCN acc on unlabled data: 0.719266875279392\n",
      "attack loss: 0.6701362729072571\n"
     ]
    },
    {
     "name": "stderr",
     "output_type": "stream",
     "text": [
      "Perturbing graph:  32%|███████████████████▋                                         | 245/760 [31:20<1:03:31,  7.40s/it]"
     ]
    },
    {
     "name": "stdout",
     "output_type": "stream",
     "text": [
      "GCN loss on unlabled data: 1.328824520111084\n",
      "GCN acc on unlabled data: 0.7130084935181046\n",
      "attack loss: 0.6860017776489258\n"
     ]
    },
    {
     "name": "stderr",
     "output_type": "stream",
     "text": [
      "Perturbing graph:  32%|███████████████████▋                                         | 246/760 [31:28<1:03:58,  7.47s/it]"
     ]
    },
    {
     "name": "stdout",
     "output_type": "stream",
     "text": [
      "GCN loss on unlabled data: 1.345215916633606\n",
      "GCN acc on unlabled data: 0.7125614662494412\n",
      "attack loss: 0.6940197944641113\n"
     ]
    },
    {
     "name": "stderr",
     "output_type": "stream",
     "text": [
      "Perturbing graph:  32%|███████████████████▊                                         | 247/760 [31:35<1:03:40,  7.45s/it]"
     ]
    },
    {
     "name": "stdout",
     "output_type": "stream",
     "text": [
      "GCN loss on unlabled data: 1.2939141988754272\n",
      "GCN acc on unlabled data: 0.7139025480554314\n",
      "attack loss: 0.6668359041213989\n"
     ]
    },
    {
     "name": "stderr",
     "output_type": "stream",
     "text": [
      "Perturbing graph:  33%|███████████████████▉                                         | 248/760 [31:43<1:02:46,  7.36s/it]"
     ]
    },
    {
     "name": "stdout",
     "output_type": "stream",
     "text": [
      "GCN loss on unlabled data: 1.298465371131897\n",
      "GCN acc on unlabled data: 0.7143495753240948\n",
      "attack loss: 0.6638057827949524\n"
     ]
    },
    {
     "name": "stderr",
     "output_type": "stream",
     "text": [
      "Perturbing graph:  33%|███████████████████▉                                         | 249/760 [31:50<1:01:46,  7.25s/it]"
     ]
    },
    {
     "name": "stdout",
     "output_type": "stream",
     "text": [
      "GCN loss on unlabled data: 1.3320356607437134\n",
      "GCN acc on unlabled data: 0.7152436298614215\n",
      "attack loss: 0.6842823624610901\n"
     ]
    },
    {
     "name": "stderr",
     "output_type": "stream",
     "text": [
      "Perturbing graph:  33%|████████████████████                                         | 250/760 [31:57<1:02:06,  7.31s/it]"
     ]
    },
    {
     "name": "stdout",
     "output_type": "stream",
     "text": [
      "GCN loss on unlabled data: 1.2917801141738892\n",
      "GCN acc on unlabled data: 0.7139025480554314\n",
      "attack loss: 0.6734440326690674\n"
     ]
    },
    {
     "name": "stderr",
     "output_type": "stream",
     "text": [
      "Perturbing graph:  33%|████████████████████▏                                        | 251/760 [32:04<1:01:38,  7.27s/it]"
     ]
    },
    {
     "name": "stdout",
     "output_type": "stream",
     "text": [
      "GCN loss on unlabled data: 1.3498374223709106\n",
      "GCN acc on unlabled data: 0.7170317389360751\n",
      "attack loss: 0.701910674571991\n"
     ]
    },
    {
     "name": "stderr",
     "output_type": "stream",
     "text": [
      "Perturbing graph:  33%|████████████████████▏                                        | 252/760 [32:12<1:02:07,  7.34s/it]"
     ]
    },
    {
     "name": "stdout",
     "output_type": "stream",
     "text": [
      "GCN loss on unlabled data: 1.3557705879211426\n",
      "GCN acc on unlabled data: 0.7103263299061243\n",
      "attack loss: 0.700430691242218\n"
     ]
    },
    {
     "name": "stderr",
     "output_type": "stream",
     "text": [
      "Perturbing graph:  33%|████████████████████▎                                        | 253/760 [32:19<1:02:22,  7.38s/it]"
     ]
    },
    {
     "name": "stdout",
     "output_type": "stream",
     "text": [
      "GCN loss on unlabled data: 1.3216729164123535\n",
      "GCN acc on unlabled data: 0.7121144389807779\n",
      "attack loss: 0.6892992258071899\n"
     ]
    },
    {
     "name": "stderr",
     "output_type": "stream",
     "text": [
      "Perturbing graph:  33%|████████████████████▍                                        | 254/760 [32:27<1:03:05,  7.48s/it]"
     ]
    },
    {
     "name": "stdout",
     "output_type": "stream",
     "text": [
      "GCN loss on unlabled data: 1.3467944860458374\n",
      "GCN acc on unlabled data: 0.7018328118015199\n",
      "attack loss: 0.6975529193878174\n"
     ]
    },
    {
     "name": "stderr",
     "output_type": "stream",
     "text": [
      "Perturbing graph:  34%|████████████████████▍                                        | 255/760 [32:34<1:02:44,  7.45s/it]"
     ]
    },
    {
     "name": "stdout",
     "output_type": "stream",
     "text": [
      "GCN loss on unlabled data: 1.359179139137268\n",
      "GCN acc on unlabled data: 0.7036209208761735\n",
      "attack loss: 0.7022706866264343\n"
     ]
    },
    {
     "name": "stderr",
     "output_type": "stream",
     "text": [
      "Perturbing graph:  34%|████████████████████▌                                        | 256/760 [32:42<1:02:43,  7.47s/it]"
     ]
    },
    {
     "name": "stdout",
     "output_type": "stream",
     "text": [
      "GCN loss on unlabled data: 1.335361123085022\n",
      "GCN acc on unlabled data: 0.7080911935628074\n",
      "attack loss: 0.6947990655899048\n"
     ]
    },
    {
     "name": "stderr",
     "output_type": "stream",
     "text": [
      "Perturbing graph:  34%|████████████████████▋                                        | 257/760 [32:49<1:02:02,  7.40s/it]"
     ]
    },
    {
     "name": "stdout",
     "output_type": "stream",
     "text": [
      "GCN loss on unlabled data: 1.3437066078186035\n",
      "GCN acc on unlabled data: 0.7071971390254805\n",
      "attack loss: 0.6971604228019714\n"
     ]
    },
    {
     "name": "stderr",
     "output_type": "stream",
     "text": [
      "Perturbing graph:  34%|████████████████████▋                                        | 258/760 [32:57<1:02:06,  7.42s/it]"
     ]
    },
    {
     "name": "stdout",
     "output_type": "stream",
     "text": [
      "GCN loss on unlabled data: 1.3463406562805176\n",
      "GCN acc on unlabled data: 0.7121144389807779\n",
      "attack loss: 0.7048351168632507\n"
     ]
    },
    {
     "name": "stderr",
     "output_type": "stream",
     "text": [
      "Perturbing graph:  34%|████████████████████▊                                        | 259/760 [33:04<1:01:32,  7.37s/it]"
     ]
    },
    {
     "name": "stdout",
     "output_type": "stream",
     "text": [
      "GCN loss on unlabled data: 1.3816434144973755\n",
      "GCN acc on unlabled data: 0.705409029950827\n",
      "attack loss: 0.7190802097320557\n"
     ]
    },
    {
     "name": "stderr",
     "output_type": "stream",
     "text": [
      "Perturbing graph:  34%|████████████████████▊                                        | 260/760 [33:11<1:00:57,  7.32s/it]"
     ]
    },
    {
     "name": "stdout",
     "output_type": "stream",
     "text": [
      "GCN loss on unlabled data: 1.3488986492156982\n",
      "GCN acc on unlabled data: 0.7040679481448369\n",
      "attack loss: 0.6999843120574951\n"
     ]
    },
    {
     "name": "stderr",
     "output_type": "stream",
     "text": [
      "Perturbing graph:  34%|████████████████████▉                                        | 261/760 [33:18<1:01:11,  7.36s/it]"
     ]
    },
    {
     "name": "stdout",
     "output_type": "stream",
     "text": [
      "GCN loss on unlabled data: 1.3078210353851318\n",
      "GCN acc on unlabled data: 0.7049620026821636\n",
      "attack loss: 0.6760815978050232\n"
     ]
    },
    {
     "name": "stderr",
     "output_type": "stream",
     "text": [
      "Perturbing graph:  34%|█████████████████████                                        | 262/760 [33:26<1:01:36,  7.42s/it]"
     ]
    },
    {
     "name": "stdout",
     "output_type": "stream",
     "text": [
      "GCN loss on unlabled data: 1.3408015966415405\n",
      "GCN acc on unlabled data: 0.7040679481448369\n",
      "attack loss: 0.702605664730072\n"
     ]
    },
    {
     "name": "stderr",
     "output_type": "stream",
     "text": [
      "Perturbing graph:  35%|█████████████████████                                        | 263/760 [33:34<1:01:45,  7.46s/it]"
     ]
    },
    {
     "name": "stdout",
     "output_type": "stream",
     "text": [
      "GCN loss on unlabled data: 1.3529560565948486\n",
      "GCN acc on unlabled data: 0.7013857845328565\n",
      "attack loss: 0.7023743391036987\n"
     ]
    },
    {
     "name": "stderr",
     "output_type": "stream",
     "text": [
      "Perturbing graph:  35%|█████████████████████▏                                       | 264/760 [33:41<1:01:33,  7.45s/it]"
     ]
    },
    {
     "name": "stdout",
     "output_type": "stream",
     "text": [
      "GCN loss on unlabled data: 1.4125581979751587\n",
      "GCN acc on unlabled data: 0.697362539114886\n",
      "attack loss: 0.7312166094779968\n"
     ]
    },
    {
     "name": "stderr",
     "output_type": "stream",
     "text": [
      "Perturbing graph:  35%|█████████████████████▎                                       | 265/760 [33:48<1:00:29,  7.33s/it]"
     ]
    },
    {
     "name": "stdout",
     "output_type": "stream",
     "text": [
      "GCN loss on unlabled data: 1.3405026197433472\n",
      "GCN acc on unlabled data: 0.7063030844881538\n",
      "attack loss: 0.6941860914230347\n"
     ]
    },
    {
     "name": "stderr",
     "output_type": "stream",
     "text": [
      "Perturbing graph:  35%|██████████████████████                                         | 266/760 [33:55<59:44,  7.26s/it]"
     ]
    },
    {
     "name": "stdout",
     "output_type": "stream",
     "text": [
      "GCN loss on unlabled data: 1.3970156908035278\n",
      "GCN acc on unlabled data: 0.6987036209208761\n",
      "attack loss: 0.7172672748565674\n"
     ]
    },
    {
     "name": "stderr",
     "output_type": "stream",
     "text": [
      "Perturbing graph:  35%|██████████████████████▏                                        | 267/760 [34:02<59:46,  7.27s/it]"
     ]
    },
    {
     "name": "stdout",
     "output_type": "stream",
     "text": [
      "GCN loss on unlabled data: 1.3528212308883667\n",
      "GCN acc on unlabled data: 0.705409029950827\n",
      "attack loss: 0.6999855041503906\n"
     ]
    },
    {
     "name": "stderr",
     "output_type": "stream",
     "text": [
      "Perturbing graph:  35%|██████████████████████▏                                        | 268/760 [34:10<59:54,  7.31s/it]"
     ]
    },
    {
     "name": "stdout",
     "output_type": "stream",
     "text": [
      "GCN loss on unlabled data: 1.3538721799850464\n",
      "GCN acc on unlabled data: 0.7000447027268664\n",
      "attack loss: 0.7051766514778137\n"
     ]
    },
    {
     "name": "stderr",
     "output_type": "stream",
     "text": [
      "Perturbing graph:  35%|██████████████████████▎                                        | 269/760 [34:17<59:41,  7.29s/it]"
     ]
    },
    {
     "name": "stdout",
     "output_type": "stream",
     "text": [
      "GCN loss on unlabled data: 1.3869848251342773\n",
      "GCN acc on unlabled data: 0.7063030844881538\n",
      "attack loss: 0.724845290184021\n"
     ]
    },
    {
     "name": "stderr",
     "output_type": "stream",
     "text": [
      "Perturbing graph:  36%|██████████████████████▍                                        | 270/760 [34:24<59:27,  7.28s/it]"
     ]
    },
    {
     "name": "stdout",
     "output_type": "stream",
     "text": [
      "GCN loss on unlabled data: 1.3821653127670288\n",
      "GCN acc on unlabled data: 0.7009387572641931\n",
      "attack loss: 0.7178945541381836\n"
     ]
    },
    {
     "name": "stderr",
     "output_type": "stream",
     "text": [
      "Perturbing graph:  36%|██████████████████████▍                                        | 271/760 [34:32<59:51,  7.35s/it]"
     ]
    },
    {
     "name": "stdout",
     "output_type": "stream",
     "text": [
      "GCN loss on unlabled data: 1.4073165655136108\n",
      "GCN acc on unlabled data: 0.7009387572641931\n",
      "attack loss: 0.7314414381980896\n"
     ]
    },
    {
     "name": "stderr",
     "output_type": "stream",
     "text": [
      "Perturbing graph:  36%|██████████████████████▌                                        | 272/760 [34:39<59:14,  7.28s/it]"
     ]
    },
    {
     "name": "stdout",
     "output_type": "stream",
     "text": [
      "GCN loss on unlabled data: 1.3783823251724243\n",
      "GCN acc on unlabled data: 0.7080911935628074\n",
      "attack loss: 0.7155057191848755\n"
     ]
    },
    {
     "name": "stderr",
     "output_type": "stream",
     "text": [
      "Perturbing graph:  36%|██████████████████████▋                                        | 273/760 [34:46<59:35,  7.34s/it]"
     ]
    },
    {
     "name": "stdout",
     "output_type": "stream",
     "text": [
      "GCN loss on unlabled data: 1.4231854677200317\n",
      "GCN acc on unlabled data: 0.6969155118462226\n",
      "attack loss: 0.7459818720817566\n"
     ]
    },
    {
     "name": "stderr",
     "output_type": "stream",
     "text": [
      "Perturbing graph:  36%|██████████████████████▋                                        | 274/760 [34:54<59:45,  7.38s/it]"
     ]
    },
    {
     "name": "stdout",
     "output_type": "stream",
     "text": [
      "GCN loss on unlabled data: 1.3911802768707275\n",
      "GCN acc on unlabled data: 0.7018328118015199\n",
      "attack loss: 0.7247922420501709\n"
     ]
    },
    {
     "name": "stderr",
     "output_type": "stream",
     "text": [
      "Perturbing graph:  36%|██████████████████████▊                                        | 275/760 [35:01<59:55,  7.41s/it]"
     ]
    },
    {
     "name": "stdout",
     "output_type": "stream",
     "text": [
      "GCN loss on unlabled data: 1.4185998439788818\n",
      "GCN acc on unlabled data: 0.7013857845328565\n",
      "attack loss: 0.747231125831604\n"
     ]
    },
    {
     "name": "stderr",
     "output_type": "stream",
     "text": [
      "Perturbing graph:  36%|██████████████████████▏                                      | 276/760 [35:09<1:00:39,  7.52s/it]"
     ]
    },
    {
     "name": "stdout",
     "output_type": "stream",
     "text": [
      "GCN loss on unlabled data: 1.3817925453186035\n",
      "GCN acc on unlabled data: 0.70317389360751\n",
      "attack loss: 0.7207224369049072\n"
     ]
    },
    {
     "name": "stderr",
     "output_type": "stream",
     "text": [
      "Perturbing graph:  36%|██████████████████████▏                                      | 277/760 [35:17<1:00:48,  7.55s/it]"
     ]
    },
    {
     "name": "stdout",
     "output_type": "stream",
     "text": [
      "GCN loss on unlabled data: 1.3715722560882568\n",
      "GCN acc on unlabled data: 0.7004917299955298\n",
      "attack loss: 0.713114321231842\n"
     ]
    },
    {
     "name": "stderr",
     "output_type": "stream",
     "text": [
      "Perturbing graph:  37%|██████████████████████▎                                      | 278/760 [35:24<1:00:41,  7.56s/it]"
     ]
    },
    {
     "name": "stdout",
     "output_type": "stream",
     "text": [
      "GCN loss on unlabled data: 1.3652592897415161\n",
      "GCN acc on unlabled data: 0.7049620026821636\n",
      "attack loss: 0.7056151628494263\n"
     ]
    },
    {
     "name": "stderr",
     "output_type": "stream",
     "text": [
      "Perturbing graph:  37%|██████████████████████▍                                      | 279/760 [35:32<1:00:23,  7.53s/it]"
     ]
    },
    {
     "name": "stdout",
     "output_type": "stream",
     "text": [
      "GCN loss on unlabled data: 1.3774765729904175\n",
      "GCN acc on unlabled data: 0.7036209208761735\n",
      "attack loss: 0.7156258225440979\n"
     ]
    },
    {
     "name": "stderr",
     "output_type": "stream",
     "text": [
      "Perturbing graph:  37%|██████████████████████▍                                      | 280/760 [35:39<1:00:10,  7.52s/it]"
     ]
    },
    {
     "name": "stdout",
     "output_type": "stream",
     "text": [
      "GCN loss on unlabled data: 1.3888883590698242\n",
      "GCN acc on unlabled data: 0.7018328118015199\n",
      "attack loss: 0.7204375267028809\n"
     ]
    },
    {
     "name": "stderr",
     "output_type": "stream",
     "text": [
      "Perturbing graph:  37%|██████████████████████▌                                      | 281/760 [35:47<1:00:21,  7.56s/it]"
     ]
    },
    {
     "name": "stdout",
     "output_type": "stream",
     "text": [
      "GCN loss on unlabled data: 1.402154564857483\n",
      "GCN acc on unlabled data: 0.7049620026821636\n",
      "attack loss: 0.727074146270752\n"
     ]
    },
    {
     "name": "stderr",
     "output_type": "stream",
     "text": [
      "Perturbing graph:  37%|██████████████████████▋                                      | 282/760 [35:54<1:00:00,  7.53s/it]"
     ]
    },
    {
     "name": "stdout",
     "output_type": "stream",
     "text": [
      "GCN loss on unlabled data: 1.3839356899261475\n",
      "GCN acc on unlabled data: 0.6982565936522128\n",
      "attack loss: 0.7216930985450745\n"
     ]
    },
    {
     "name": "stderr",
     "output_type": "stream",
     "text": [
      "Perturbing graph:  37%|██████████████████████▋                                      | 283/760 [36:02<1:00:22,  7.60s/it]"
     ]
    },
    {
     "name": "stdout",
     "output_type": "stream",
     "text": [
      "GCN loss on unlabled data: 1.4064521789550781\n",
      "GCN acc on unlabled data: 0.7040679481448369\n",
      "attack loss: 0.7373731136322021\n"
     ]
    },
    {
     "name": "stderr",
     "output_type": "stream",
     "text": [
      "Perturbing graph:  37%|██████████████████████▊                                      | 284/760 [36:10<1:00:28,  7.62s/it]"
     ]
    },
    {
     "name": "stdout",
     "output_type": "stream",
     "text": [
      "GCN loss on unlabled data: 1.4207650423049927\n",
      "GCN acc on unlabled data: 0.7036209208761735\n",
      "attack loss: 0.7394704818725586\n"
     ]
    },
    {
     "name": "stderr",
     "output_type": "stream",
     "text": [
      "Perturbing graph:  38%|███████████████████████▋                                       | 285/760 [36:17<59:54,  7.57s/it]"
     ]
    },
    {
     "name": "stdout",
     "output_type": "stream",
     "text": [
      "GCN loss on unlabled data: 1.346330165863037\n",
      "GCN acc on unlabled data: 0.7036209208761735\n",
      "attack loss: 0.7135553359985352\n"
     ]
    },
    {
     "name": "stderr",
     "output_type": "stream",
     "text": [
      "Perturbing graph:  38%|███████████████████████▋                                       | 286/760 [36:25<59:13,  7.50s/it]"
     ]
    },
    {
     "name": "stdout",
     "output_type": "stream",
     "text": [
      "GCN loss on unlabled data: 1.384286880493164\n",
      "GCN acc on unlabled data: 0.6946803755029056\n",
      "attack loss: 0.7256029844284058\n"
     ]
    },
    {
     "name": "stderr",
     "output_type": "stream",
     "text": [
      "Perturbing graph:  38%|███████████████████████▊                                       | 287/760 [36:32<59:24,  7.54s/it]"
     ]
    },
    {
     "name": "stdout",
     "output_type": "stream",
     "text": [
      "GCN loss on unlabled data: 1.4441308975219727\n",
      "GCN acc on unlabled data: 0.697362539114886\n",
      "attack loss: 0.7513169050216675\n"
     ]
    },
    {
     "name": "stderr",
     "output_type": "stream",
     "text": [
      "Perturbing graph:  38%|███████████████████████▊                                       | 288/760 [36:40<59:11,  7.52s/it]"
     ]
    },
    {
     "name": "stdout",
     "output_type": "stream",
     "text": [
      "GCN loss on unlabled data: 1.3974233865737915\n",
      "GCN acc on unlabled data: 0.7004917299955298\n",
      "attack loss: 0.7340388298034668\n"
     ]
    },
    {
     "name": "stderr",
     "output_type": "stream",
     "text": [
      "Perturbing graph:  38%|███████████████████████▉                                       | 289/760 [36:47<59:14,  7.55s/it]"
     ]
    },
    {
     "name": "stdout",
     "output_type": "stream",
     "text": [
      "GCN loss on unlabled data: 1.4170759916305542\n",
      "GCN acc on unlabled data: 0.6933392936969155\n",
      "attack loss: 0.740494966506958\n"
     ]
    },
    {
     "name": "stderr",
     "output_type": "stream",
     "text": [
      "Perturbing graph:  38%|████████████████████████                                       | 290/760 [36:55<58:27,  7.46s/it]"
     ]
    },
    {
     "name": "stdout",
     "output_type": "stream",
     "text": [
      "GCN loss on unlabled data: 1.429625153541565\n",
      "GCN acc on unlabled data: 0.6937863209655789\n",
      "attack loss: 0.748788058757782\n"
     ]
    },
    {
     "name": "stderr",
     "output_type": "stream",
     "text": [
      "Perturbing graph:  38%|████████████████████████                                       | 291/760 [37:02<58:55,  7.54s/it]"
     ]
    },
    {
     "name": "stdout",
     "output_type": "stream",
     "text": [
      "GCN loss on unlabled data: 1.397499918937683\n",
      "GCN acc on unlabled data: 0.6937863209655789\n",
      "attack loss: 0.7390357851982117\n"
     ]
    },
    {
     "name": "stderr",
     "output_type": "stream",
     "text": [
      "Perturbing graph:  38%|████████████████████████▏                                      | 292/760 [37:10<59:07,  7.58s/it]"
     ]
    },
    {
     "name": "stdout",
     "output_type": "stream",
     "text": [
      "GCN loss on unlabled data: 1.4354461431503296\n",
      "GCN acc on unlabled data: 0.6946803755029056\n",
      "attack loss: 0.7508223056793213\n"
     ]
    },
    {
     "name": "stderr",
     "output_type": "stream",
     "text": [
      "Perturbing graph:  39%|████████████████████████▎                                      | 293/760 [37:17<58:41,  7.54s/it]"
     ]
    },
    {
     "name": "stdout",
     "output_type": "stream",
     "text": [
      "GCN loss on unlabled data: 1.3777258396148682\n",
      "GCN acc on unlabled data: 0.6982565936522128\n",
      "attack loss: 0.723388671875\n"
     ]
    },
    {
     "name": "stderr",
     "output_type": "stream",
     "text": [
      "Perturbing graph:  39%|████████████████████████▎                                      | 294/760 [37:25<58:08,  7.49s/it]"
     ]
    },
    {
     "name": "stdout",
     "output_type": "stream",
     "text": [
      "GCN loss on unlabled data: 1.447852611541748\n",
      "GCN acc on unlabled data: 0.699597675458203\n",
      "attack loss: 0.762662410736084\n"
     ]
    },
    {
     "name": "stderr",
     "output_type": "stream",
     "text": [
      "Perturbing graph:  39%|████████████████████████▍                                      | 295/760 [37:32<57:38,  7.44s/it]"
     ]
    },
    {
     "name": "stdout",
     "output_type": "stream",
     "text": [
      "GCN loss on unlabled data: 1.4181993007659912\n",
      "GCN acc on unlabled data: 0.6987036209208761\n",
      "attack loss: 0.7441147565841675\n"
     ]
    },
    {
     "name": "stderr",
     "output_type": "stream",
     "text": [
      "Perturbing graph:  39%|████████████████████████▌                                      | 296/760 [37:40<58:01,  7.50s/it]"
     ]
    },
    {
     "name": "stdout",
     "output_type": "stream",
     "text": [
      "GCN loss on unlabled data: 1.3490171432495117\n",
      "GCN acc on unlabled data: 0.6978095663835494\n",
      "attack loss: 0.7221717834472656\n"
     ]
    },
    {
     "name": "stderr",
     "output_type": "stream",
     "text": [
      "Perturbing graph:  39%|████████████████████████▌                                      | 297/760 [37:47<57:56,  7.51s/it]"
     ]
    },
    {
     "name": "stdout",
     "output_type": "stream",
     "text": [
      "GCN loss on unlabled data: 1.4649580717086792\n",
      "GCN acc on unlabled data: 0.6964684845775593\n",
      "attack loss: 0.7728338241577148\n"
     ]
    },
    {
     "name": "stderr",
     "output_type": "stream",
     "text": [
      "Perturbing graph:  39%|████████████████████████▋                                      | 298/760 [37:55<57:43,  7.50s/it]"
     ]
    },
    {
     "name": "stdout",
     "output_type": "stream",
     "text": [
      "GCN loss on unlabled data: 1.4431113004684448\n",
      "GCN acc on unlabled data: 0.6987036209208761\n",
      "attack loss: 0.7559371590614319\n"
     ]
    },
    {
     "name": "stderr",
     "output_type": "stream",
     "text": [
      "Perturbing graph:  39%|████████████████████████▊                                      | 299/760 [38:02<57:03,  7.43s/it]"
     ]
    },
    {
     "name": "stdout",
     "output_type": "stream",
     "text": [
      "GCN loss on unlabled data: 1.444525122642517\n",
      "GCN acc on unlabled data: 0.6960214573088959\n",
      "attack loss: 0.7527040243148804\n"
     ]
    },
    {
     "name": "stderr",
     "output_type": "stream",
     "text": [
      "Perturbing graph:  39%|████████████████████████▊                                      | 300/760 [38:09<56:46,  7.40s/it]"
     ]
    },
    {
     "name": "stdout",
     "output_type": "stream",
     "text": [
      "GCN loss on unlabled data: 1.4170416593551636\n",
      "GCN acc on unlabled data: 0.6933392936969155\n",
      "attack loss: 0.7585281729698181\n"
     ]
    },
    {
     "name": "stderr",
     "output_type": "stream",
     "text": [
      "Perturbing graph:  40%|████████████████████████▉                                      | 301/760 [38:17<56:35,  7.40s/it]"
     ]
    },
    {
     "name": "stdout",
     "output_type": "stream",
     "text": [
      "GCN loss on unlabled data: 1.396176815032959\n",
      "GCN acc on unlabled data: 0.6942333482342423\n",
      "attack loss: 0.7324692606925964\n"
     ]
    },
    {
     "name": "stderr",
     "output_type": "stream",
     "text": [
      "Perturbing graph:  40%|█████████████████████████                                      | 302/760 [38:24<57:10,  7.49s/it]"
     ]
    },
    {
     "name": "stdout",
     "output_type": "stream",
     "text": [
      "GCN loss on unlabled data: 1.451165795326233\n",
      "GCN acc on unlabled data: 0.6991506481895395\n",
      "attack loss: 0.7719338536262512\n"
     ]
    },
    {
     "name": "stderr",
     "output_type": "stream",
     "text": [
      "Perturbing graph:  40%|█████████████████████████                                      | 303/760 [38:32<57:17,  7.52s/it]"
     ]
    },
    {
     "name": "stdout",
     "output_type": "stream",
     "text": [
      "GCN loss on unlabled data: 1.4823880195617676\n",
      "GCN acc on unlabled data: 0.6919982118909254\n",
      "attack loss: 0.7803417444229126\n"
     ]
    },
    {
     "name": "stderr",
     "output_type": "stream",
     "text": [
      "Perturbing graph:  40%|█████████████████████████▏                                     | 304/760 [38:39<56:44,  7.47s/it]"
     ]
    },
    {
     "name": "stdout",
     "output_type": "stream",
     "text": [
      "GCN loss on unlabled data: 1.4223791360855103\n",
      "GCN acc on unlabled data: 0.697362539114886\n",
      "attack loss: 0.7575404047966003\n"
     ]
    },
    {
     "name": "stderr",
     "output_type": "stream",
     "text": [
      "Perturbing graph:  40%|█████████████████████████▎                                     | 305/760 [38:47<56:33,  7.46s/it]"
     ]
    },
    {
     "name": "stdout",
     "output_type": "stream",
     "text": [
      "GCN loss on unlabled data: 1.4082980155944824\n",
      "GCN acc on unlabled data: 0.6964684845775593\n",
      "attack loss: 0.7469717264175415\n"
     ]
    },
    {
     "name": "stderr",
     "output_type": "stream",
     "text": [
      "Perturbing graph:  40%|█████████████████████████▎                                     | 306/760 [38:54<56:20,  7.45s/it]"
     ]
    },
    {
     "name": "stdout",
     "output_type": "stream",
     "text": [
      "GCN loss on unlabled data: 1.4509637355804443\n",
      "GCN acc on unlabled data: 0.6978095663835494\n",
      "attack loss: 0.7629678249359131\n"
     ]
    },
    {
     "name": "stderr",
     "output_type": "stream",
     "text": [
      "Perturbing graph:  40%|█████████████████████████▍                                     | 307/760 [39:02<56:09,  7.44s/it]"
     ]
    },
    {
     "name": "stdout",
     "output_type": "stream",
     "text": [
      "GCN loss on unlabled data: 1.4779393672943115\n",
      "GCN acc on unlabled data: 0.6924452391595888\n",
      "attack loss: 0.7849156856536865\n"
     ]
    },
    {
     "name": "stderr",
     "output_type": "stream",
     "text": [
      "Perturbing graph:  41%|█████████████████████████▌                                     | 308/760 [39:09<56:01,  7.44s/it]"
     ]
    },
    {
     "name": "stdout",
     "output_type": "stream",
     "text": [
      "GCN loss on unlabled data: 1.4346967935562134\n",
      "GCN acc on unlabled data: 0.695127402771569\n",
      "attack loss: 0.770630419254303\n"
     ]
    },
    {
     "name": "stderr",
     "output_type": "stream",
     "text": [
      "Perturbing graph:  41%|█████████████████████████▌                                     | 309/760 [39:17<56:39,  7.54s/it]"
     ]
    },
    {
     "name": "stdout",
     "output_type": "stream",
     "text": [
      "GCN loss on unlabled data: 1.5014528036117554\n",
      "GCN acc on unlabled data: 0.6911041573535985\n",
      "attack loss: 0.7886913418769836\n"
     ]
    },
    {
     "name": "stderr",
     "output_type": "stream",
     "text": [
      "Perturbing graph:  41%|█████████████████████████▋                                     | 310/760 [39:24<55:48,  7.44s/it]"
     ]
    },
    {
     "name": "stdout",
     "output_type": "stream",
     "text": [
      "GCN loss on unlabled data: 1.491597294807434\n",
      "GCN acc on unlabled data: 0.6928922664282521\n",
      "attack loss: 0.7875180840492249\n"
     ]
    },
    {
     "name": "stderr",
     "output_type": "stream",
     "text": [
      "Perturbing graph:  41%|█████████████████████████▊                                     | 311/760 [39:32<55:43,  7.45s/it]"
     ]
    },
    {
     "name": "stdout",
     "output_type": "stream",
     "text": [
      "GCN loss on unlabled data: 1.4816920757293701\n",
      "GCN acc on unlabled data: 0.6942333482342423\n",
      "attack loss: 0.7852572798728943\n"
     ]
    },
    {
     "name": "stderr",
     "output_type": "stream",
     "text": [
      "Perturbing graph:  41%|█████████████████████████▊                                     | 312/760 [39:39<56:04,  7.51s/it]"
     ]
    },
    {
     "name": "stdout",
     "output_type": "stream",
     "text": [
      "GCN loss on unlabled data: 1.5224158763885498\n",
      "GCN acc on unlabled data: 0.6919982118909254\n",
      "attack loss: 0.8045429587364197\n"
     ]
    },
    {
     "name": "stderr",
     "output_type": "stream",
     "text": [
      "Perturbing graph:  41%|█████████████████████████▉                                     | 313/760 [39:47<55:42,  7.48s/it]"
     ]
    },
    {
     "name": "stdout",
     "output_type": "stream",
     "text": [
      "GCN loss on unlabled data: 1.466734766960144\n",
      "GCN acc on unlabled data: 0.687080911935628\n",
      "attack loss: 0.7696139812469482\n"
     ]
    },
    {
     "name": "stderr",
     "output_type": "stream",
     "text": [
      "Perturbing graph:  41%|██████████████████████████                                     | 314/760 [39:54<55:58,  7.53s/it]"
     ]
    },
    {
     "name": "stdout",
     "output_type": "stream",
     "text": [
      "GCN loss on unlabled data: 1.4820616245269775\n",
      "GCN acc on unlabled data: 0.6924452391595888\n",
      "attack loss: 0.7825255393981934\n"
     ]
    },
    {
     "name": "stderr",
     "output_type": "stream",
     "text": [
      "Perturbing graph:  41%|██████████████████████████                                     | 315/760 [40:02<55:47,  7.52s/it]"
     ]
    },
    {
     "name": "stdout",
     "output_type": "stream",
     "text": [
      "GCN loss on unlabled data: 1.4706189632415771\n",
      "GCN acc on unlabled data: 0.6946803755029056\n",
      "attack loss: 0.7733582854270935\n"
     ]
    },
    {
     "name": "stderr",
     "output_type": "stream",
     "text": [
      "Perturbing graph:  42%|██████████████████████████▏                                    | 316/760 [40:09<55:15,  7.47s/it]"
     ]
    },
    {
     "name": "stdout",
     "output_type": "stream",
     "text": [
      "GCN loss on unlabled data: 1.439793348312378\n",
      "GCN acc on unlabled data: 0.695127402771569\n",
      "attack loss: 0.7712932825088501\n"
     ]
    },
    {
     "name": "stderr",
     "output_type": "stream",
     "text": [
      "Perturbing graph:  42%|██████████████████████████▎                                    | 317/760 [40:17<55:00,  7.45s/it]"
     ]
    },
    {
     "name": "stdout",
     "output_type": "stream",
     "text": [
      "GCN loss on unlabled data: 1.483392357826233\n",
      "GCN acc on unlabled data: 0.6960214573088959\n",
      "attack loss: 0.7877573370933533\n"
     ]
    },
    {
     "name": "stderr",
     "output_type": "stream",
     "text": [
      "Perturbing graph:  42%|██████████████████████████▎                                    | 318/760 [40:24<55:15,  7.50s/it]"
     ]
    },
    {
     "name": "stdout",
     "output_type": "stream",
     "text": [
      "GCN loss on unlabled data: 1.4075894355773926\n",
      "GCN acc on unlabled data: 0.6991506481895395\n",
      "attack loss: 0.7437022924423218\n"
     ]
    },
    {
     "name": "stderr",
     "output_type": "stream",
     "text": [
      "Perturbing graph:  42%|██████████████████████████▍                                    | 319/760 [40:32<55:23,  7.54s/it]"
     ]
    },
    {
     "name": "stdout",
     "output_type": "stream",
     "text": [
      "GCN loss on unlabled data: 1.5022238492965698\n",
      "GCN acc on unlabled data: 0.6924452391595888\n",
      "attack loss: 0.8003143668174744\n"
     ]
    },
    {
     "name": "stderr",
     "output_type": "stream",
     "text": [
      "Perturbing graph:  42%|██████████████████████████▌                                    | 320/760 [40:39<55:10,  7.52s/it]"
     ]
    },
    {
     "name": "stdout",
     "output_type": "stream",
     "text": [
      "GCN loss on unlabled data: 1.4468984603881836\n",
      "GCN acc on unlabled data: 0.695127402771569\n",
      "attack loss: 0.7642518877983093\n"
     ]
    },
    {
     "name": "stderr",
     "output_type": "stream",
     "text": [
      "Perturbing graph:  42%|██████████████████████████▌                                    | 321/760 [40:47<54:40,  7.47s/it]"
     ]
    },
    {
     "name": "stdout",
     "output_type": "stream",
     "text": [
      "GCN loss on unlabled data: 1.460298776626587\n",
      "GCN acc on unlabled data: 0.6969155118462226\n",
      "attack loss: 0.7772240042686462\n"
     ]
    },
    {
     "name": "stderr",
     "output_type": "stream",
     "text": [
      "Perturbing graph:  42%|██████████████████████████▋                                    | 322/760 [40:54<54:46,  7.50s/it]"
     ]
    },
    {
     "name": "stdout",
     "output_type": "stream",
     "text": [
      "GCN loss on unlabled data: 1.463553786277771\n",
      "GCN acc on unlabled data: 0.6942333482342423\n",
      "attack loss: 0.7768230438232422\n"
     ]
    },
    {
     "name": "stderr",
     "output_type": "stream",
     "text": [
      "Perturbing graph:  42%|██████████████████████████▊                                    | 323/760 [41:03<56:50,  7.80s/it]"
     ]
    },
    {
     "name": "stdout",
     "output_type": "stream",
     "text": [
      "GCN loss on unlabled data: 1.4794645309448242\n",
      "GCN acc on unlabled data: 0.6928922664282521\n",
      "attack loss: 0.7863718271255493\n"
     ]
    },
    {
     "name": "stderr",
     "output_type": "stream",
     "text": [
      "Perturbing graph:  43%|██████████████████████████▊                                    | 324/760 [41:10<56:25,  7.76s/it]"
     ]
    },
    {
     "name": "stdout",
     "output_type": "stream",
     "text": [
      "GCN loss on unlabled data: 1.4866975545883179\n",
      "GCN acc on unlabled data: 0.6955744300402324\n",
      "attack loss: 0.7958049178123474\n"
     ]
    },
    {
     "name": "stderr",
     "output_type": "stream",
     "text": [
      "Perturbing graph:  43%|██████████████████████████▉                                    | 325/760 [41:18<56:16,  7.76s/it]"
     ]
    },
    {
     "name": "stdout",
     "output_type": "stream",
     "text": [
      "GCN loss on unlabled data: 1.554059386253357\n",
      "GCN acc on unlabled data: 0.6928922664282521\n",
      "attack loss: 0.8275735974311829\n"
     ]
    },
    {
     "name": "stderr",
     "output_type": "stream",
     "text": [
      "Perturbing graph:  43%|███████████████████████████                                    | 326/760 [41:26<55:44,  7.71s/it]"
     ]
    },
    {
     "name": "stdout",
     "output_type": "stream",
     "text": [
      "GCN loss on unlabled data: 1.4989843368530273\n",
      "GCN acc on unlabled data: 0.6937863209655789\n",
      "attack loss: 0.8009326457977295\n"
     ]
    },
    {
     "name": "stderr",
     "output_type": "stream",
     "text": [
      "Perturbing graph:  43%|███████████████████████████                                    | 327/760 [41:34<56:03,  7.77s/it]"
     ]
    },
    {
     "name": "stdout",
     "output_type": "stream",
     "text": [
      "GCN loss on unlabled data: 1.506338119506836\n",
      "GCN acc on unlabled data: 0.6969155118462226\n",
      "attack loss: 0.7993637323379517\n"
     ]
    },
    {
     "name": "stderr",
     "output_type": "stream",
     "text": [
      "Perturbing graph:  43%|███████████████████████████▏                                   | 328/760 [41:42<56:16,  7.82s/it]"
     ]
    },
    {
     "name": "stdout",
     "output_type": "stream",
     "text": [
      "GCN loss on unlabled data: 1.5244526863098145\n",
      "GCN acc on unlabled data: 0.6928922664282521\n",
      "attack loss: 0.8176170587539673\n"
     ]
    },
    {
     "name": "stderr",
     "output_type": "stream",
     "text": [
      "Perturbing graph:  43%|███████████████████████████▎                                   | 329/760 [41:49<56:02,  7.80s/it]"
     ]
    },
    {
     "name": "stdout",
     "output_type": "stream",
     "text": [
      "GCN loss on unlabled data: 1.4644768238067627\n",
      "GCN acc on unlabled data: 0.6946803755029056\n",
      "attack loss: 0.781644880771637\n"
     ]
    },
    {
     "name": "stderr",
     "output_type": "stream",
     "text": [
      "Perturbing graph:  43%|███████████████████████████▎                                   | 330/760 [41:57<55:29,  7.74s/it]"
     ]
    },
    {
     "name": "stdout",
     "output_type": "stream",
     "text": [
      "GCN loss on unlabled data: 1.538977861404419\n",
      "GCN acc on unlabled data: 0.6884219937416183\n",
      "attack loss: 0.8281229734420776\n"
     ]
    },
    {
     "name": "stderr",
     "output_type": "stream",
     "text": [
      "Perturbing graph:  44%|███████████████████████████▍                                   | 331/760 [42:04<54:45,  7.66s/it]"
     ]
    },
    {
     "name": "stdout",
     "output_type": "stream",
     "text": [
      "GCN loss on unlabled data: 1.4877312183380127\n",
      "GCN acc on unlabled data: 0.6919982118909254\n",
      "attack loss: 0.7907012701034546\n"
     ]
    },
    {
     "name": "stderr",
     "output_type": "stream",
     "text": [
      "Perturbing graph:  44%|███████████████████████████▌                                   | 332/760 [42:12<53:52,  7.55s/it]"
     ]
    },
    {
     "name": "stdout",
     "output_type": "stream",
     "text": [
      "GCN loss on unlabled data: 1.5250674486160278\n",
      "GCN acc on unlabled data: 0.6888690210102816\n",
      "attack loss: 0.817663311958313\n"
     ]
    },
    {
     "name": "stderr",
     "output_type": "stream",
     "text": [
      "Perturbing graph:  44%|███████████████████████████▌                                   | 333/760 [42:20<54:45,  7.69s/it]"
     ]
    },
    {
     "name": "stdout",
     "output_type": "stream",
     "text": [
      "GCN loss on unlabled data: 1.5568078756332397\n",
      "GCN acc on unlabled data: 0.6911041573535985\n",
      "attack loss: 0.8257744908332825\n"
     ]
    },
    {
     "name": "stderr",
     "output_type": "stream",
     "text": [
      "Perturbing graph:  44%|███████████████████████████▋                                   | 334/760 [42:27<54:36,  7.69s/it]"
     ]
    },
    {
     "name": "stdout",
     "output_type": "stream",
     "text": [
      "GCN loss on unlabled data: 1.5027141571044922\n",
      "GCN acc on unlabled data: 0.695127402771569\n",
      "attack loss: 0.8098129034042358\n"
     ]
    },
    {
     "name": "stderr",
     "output_type": "stream",
     "text": [
      "Perturbing graph:  44%|███████████████████████████▊                                   | 335/760 [42:35<54:49,  7.74s/it]"
     ]
    },
    {
     "name": "stdout",
     "output_type": "stream",
     "text": [
      "GCN loss on unlabled data: 1.5459116697311401\n",
      "GCN acc on unlabled data: 0.689316048278945\n",
      "attack loss: 0.8184217214584351\n"
     ]
    },
    {
     "name": "stderr",
     "output_type": "stream",
     "text": [
      "Perturbing graph:  44%|███████████████████████████▊                                   | 336/760 [42:43<54:42,  7.74s/it]"
     ]
    },
    {
     "name": "stdout",
     "output_type": "stream",
     "text": [
      "GCN loss on unlabled data: 1.5090566873550415\n",
      "GCN acc on unlabled data: 0.6955744300402324\n",
      "attack loss: 0.8097524046897888\n"
     ]
    },
    {
     "name": "stderr",
     "output_type": "stream",
     "text": [
      "Perturbing graph:  44%|███████████████████████████▉                                   | 337/760 [42:51<54:58,  7.80s/it]"
     ]
    },
    {
     "name": "stdout",
     "output_type": "stream",
     "text": [
      "GCN loss on unlabled data: 1.5252575874328613\n",
      "GCN acc on unlabled data: 0.6875279392042914\n",
      "attack loss: 0.8181545734405518\n"
     ]
    },
    {
     "name": "stderr",
     "output_type": "stream",
     "text": [
      "Perturbing graph:  44%|████████████████████████████                                   | 338/760 [42:59<55:06,  7.84s/it]"
     ]
    },
    {
     "name": "stdout",
     "output_type": "stream",
     "text": [
      "GCN loss on unlabled data: 1.5558174848556519\n",
      "GCN acc on unlabled data: 0.6928922664282521\n",
      "attack loss: 0.8312572240829468\n"
     ]
    },
    {
     "name": "stderr",
     "output_type": "stream",
     "text": [
      "Perturbing graph:  45%|████████████████████████████                                   | 339/760 [43:07<54:54,  7.82s/it]"
     ]
    },
    {
     "name": "stdout",
     "output_type": "stream",
     "text": [
      "GCN loss on unlabled data: 1.5278865098953247\n",
      "GCN acc on unlabled data: 0.6906571300849352\n",
      "attack loss: 0.8171159029006958\n"
     ]
    },
    {
     "name": "stderr",
     "output_type": "stream",
     "text": [
      "Perturbing graph:  45%|████████████████████████████▏                                  | 340/760 [43:15<55:05,  7.87s/it]"
     ]
    },
    {
     "name": "stdout",
     "output_type": "stream",
     "text": [
      "GCN loss on unlabled data: 1.5605484247207642\n",
      "GCN acc on unlabled data: 0.6919982118909254\n",
      "attack loss: 0.8315737247467041\n"
     ]
    },
    {
     "name": "stderr",
     "output_type": "stream",
     "text": [
      "Perturbing graph:  45%|████████████████████████████▎                                  | 341/760 [43:23<55:16,  7.92s/it]"
     ]
    },
    {
     "name": "stdout",
     "output_type": "stream",
     "text": [
      "GCN loss on unlabled data: 1.5051432847976685\n",
      "GCN acc on unlabled data: 0.6911041573535985\n",
      "attack loss: 0.8025264739990234\n"
     ]
    },
    {
     "name": "stderr",
     "output_type": "stream",
     "text": [
      "Perturbing graph:  45%|████████████████████████████▎                                  | 342/760 [43:31<55:05,  7.91s/it]"
     ]
    },
    {
     "name": "stdout",
     "output_type": "stream",
     "text": [
      "GCN loss on unlabled data: 1.5611107349395752\n",
      "GCN acc on unlabled data: 0.6884219937416183\n",
      "attack loss: 0.8272624611854553\n"
     ]
    },
    {
     "name": "stderr",
     "output_type": "stream",
     "text": [
      "Perturbing graph:  45%|████████████████████████████▍                                  | 343/760 [43:38<54:02,  7.78s/it]"
     ]
    },
    {
     "name": "stdout",
     "output_type": "stream",
     "text": [
      "GCN loss on unlabled data: 1.4976686239242554\n",
      "GCN acc on unlabled data: 0.6879749664729549\n",
      "attack loss: 0.805441677570343\n"
     ]
    },
    {
     "name": "stderr",
     "output_type": "stream",
     "text": [
      "Perturbing graph:  45%|████████████████████████████▌                                  | 344/760 [43:46<53:18,  7.69s/it]"
     ]
    },
    {
     "name": "stdout",
     "output_type": "stream",
     "text": [
      "GCN loss on unlabled data: 1.5360193252563477\n",
      "GCN acc on unlabled data: 0.6879749664729549\n",
      "attack loss: 0.8228007555007935\n"
     ]
    },
    {
     "name": "stderr",
     "output_type": "stream",
     "text": [
      "Perturbing graph:  45%|████████████████████████████▌                                  | 345/760 [43:53<52:30,  7.59s/it]"
     ]
    },
    {
     "name": "stdout",
     "output_type": "stream",
     "text": [
      "GCN loss on unlabled data: 1.5760297775268555\n",
      "GCN acc on unlabled data: 0.6861868573983013\n",
      "attack loss: 0.8491166830062866\n"
     ]
    },
    {
     "name": "stderr",
     "output_type": "stream",
     "text": [
      "Perturbing graph:  46%|████████████████████████████▋                                  | 346/760 [44:01<52:39,  7.63s/it]"
     ]
    },
    {
     "name": "stdout",
     "output_type": "stream",
     "text": [
      "GCN loss on unlabled data: 1.5581332445144653\n",
      "GCN acc on unlabled data: 0.6937863209655789\n",
      "attack loss: 0.8362936973571777\n"
     ]
    },
    {
     "name": "stderr",
     "output_type": "stream",
     "text": [
      "Perturbing graph:  46%|████████████████████████████▊                                  | 347/760 [44:09<53:41,  7.80s/it]"
     ]
    },
    {
     "name": "stdout",
     "output_type": "stream",
     "text": [
      "GCN loss on unlabled data: 1.5819227695465088\n",
      "GCN acc on unlabled data: 0.6875279392042914\n",
      "attack loss: 0.8553194999694824\n"
     ]
    },
    {
     "name": "stderr",
     "output_type": "stream",
     "text": [
      "Perturbing graph:  46%|████████████████████████████▊                                  | 348/760 [44:17<54:33,  7.95s/it]"
     ]
    },
    {
     "name": "stdout",
     "output_type": "stream",
     "text": [
      "GCN loss on unlabled data: 1.558853030204773\n",
      "GCN acc on unlabled data: 0.6861868573983013\n",
      "attack loss: 0.8253936767578125\n"
     ]
    },
    {
     "name": "stderr",
     "output_type": "stream",
     "text": [
      "Perturbing graph:  46%|████████████████████████████▉                                  | 349/760 [44:25<54:15,  7.92s/it]"
     ]
    },
    {
     "name": "stdout",
     "output_type": "stream",
     "text": [
      "GCN loss on unlabled data: 1.5447490215301514\n",
      "GCN acc on unlabled data: 0.6897630755476084\n",
      "attack loss: 0.8291498422622681\n"
     ]
    },
    {
     "name": "stderr",
     "output_type": "stream",
     "text": [
      "Perturbing graph:  46%|█████████████████████████████                                  | 350/760 [44:33<53:43,  7.86s/it]"
     ]
    },
    {
     "name": "stdout",
     "output_type": "stream",
     "text": [
      "GCN loss on unlabled data: 1.539931058883667\n",
      "GCN acc on unlabled data: 0.6866338846669647\n",
      "attack loss: 0.8277502059936523\n"
     ]
    },
    {
     "name": "stderr",
     "output_type": "stream",
     "text": [
      "Perturbing graph:  46%|█████████████████████████████                                  | 351/760 [44:41<53:51,  7.90s/it]"
     ]
    },
    {
     "name": "stdout",
     "output_type": "stream",
     "text": [
      "GCN loss on unlabled data: 1.575540542602539\n",
      "GCN acc on unlabled data: 0.689316048278945\n",
      "attack loss: 0.8407114148139954\n"
     ]
    },
    {
     "name": "stderr",
     "output_type": "stream",
     "text": [
      "Perturbing graph:  46%|█████████████████████████████▏                                 | 352/760 [44:48<52:21,  7.70s/it]"
     ]
    },
    {
     "name": "stdout",
     "output_type": "stream",
     "text": [
      "GCN loss on unlabled data: 1.57888662815094\n",
      "GCN acc on unlabled data: 0.6848457755923111\n",
      "attack loss: 0.8413270711898804\n"
     ]
    },
    {
     "name": "stderr",
     "output_type": "stream",
     "text": [
      "Perturbing graph:  46%|█████████████████████████████▎                                 | 353/760 [44:56<52:54,  7.80s/it]"
     ]
    },
    {
     "name": "stdout",
     "output_type": "stream",
     "text": [
      "GCN loss on unlabled data: 1.5422403812408447\n",
      "GCN acc on unlabled data: 0.6906571300849352\n",
      "attack loss: 0.8359096050262451\n"
     ]
    },
    {
     "name": "stderr",
     "output_type": "stream",
     "text": [
      "Perturbing graph:  47%|█████████████████████████████▎                                 | 354/760 [45:04<53:03,  7.84s/it]"
     ]
    },
    {
     "name": "stdout",
     "output_type": "stream",
     "text": [
      "GCN loss on unlabled data: 1.603430151939392\n",
      "GCN acc on unlabled data: 0.6928922664282521\n",
      "attack loss: 0.861672580242157\n"
     ]
    },
    {
     "name": "stderr",
     "output_type": "stream",
     "text": [
      "Perturbing graph:  47%|█████████████████████████████▍                                 | 355/760 [45:12<53:08,  7.87s/it]"
     ]
    },
    {
     "name": "stdout",
     "output_type": "stream",
     "text": [
      "GCN loss on unlabled data: 1.6397604942321777\n",
      "GCN acc on unlabled data: 0.6866338846669647\n",
      "attack loss: 0.8762127757072449\n"
     ]
    },
    {
     "name": "stderr",
     "output_type": "stream",
     "text": [
      "Perturbing graph:  47%|█████████████████████████████▌                                 | 356/760 [45:20<53:32,  7.95s/it]"
     ]
    },
    {
     "name": "stdout",
     "output_type": "stream",
     "text": [
      "GCN loss on unlabled data: 1.6081347465515137\n",
      "GCN acc on unlabled data: 0.6861868573983013\n",
      "attack loss: 0.8595610857009888\n"
     ]
    },
    {
     "name": "stderr",
     "output_type": "stream",
     "text": [
      "Perturbing graph:  47%|█████████████████████████████▌                                 | 357/760 [45:28<53:08,  7.91s/it]"
     ]
    },
    {
     "name": "stdout",
     "output_type": "stream",
     "text": [
      "GCN loss on unlabled data: 1.6296542882919312\n",
      "GCN acc on unlabled data: 0.6875279392042914\n",
      "attack loss: 0.8701229095458984\n"
     ]
    },
    {
     "name": "stderr",
     "output_type": "stream",
     "text": [
      "Perturbing graph:  47%|█████████████████████████████▋                                 | 358/760 [45:35<52:15,  7.80s/it]"
     ]
    },
    {
     "name": "stdout",
     "output_type": "stream",
     "text": [
      "GCN loss on unlabled data: 1.566096305847168\n",
      "GCN acc on unlabled data: 0.6803755029056773\n",
      "attack loss: 0.8369097709655762\n"
     ]
    },
    {
     "name": "stderr",
     "output_type": "stream",
     "text": [
      "Perturbing graph:  47%|█████████████████████████████▊                                 | 359/760 [45:43<51:33,  7.72s/it]"
     ]
    },
    {
     "name": "stdout",
     "output_type": "stream",
     "text": [
      "GCN loss on unlabled data: 1.5875399112701416\n",
      "GCN acc on unlabled data: 0.6843987483236478\n",
      "attack loss: 0.8482456207275391\n"
     ]
    },
    {
     "name": "stderr",
     "output_type": "stream",
     "text": [
      "Perturbing graph:  47%|█████████████████████████████▊                                 | 360/760 [45:50<51:15,  7.69s/it]"
     ]
    },
    {
     "name": "stdout",
     "output_type": "stream",
     "text": [
      "GCN loss on unlabled data: 1.6066792011260986\n",
      "GCN acc on unlabled data: 0.6794814483683504\n",
      "attack loss: 0.8557626605033875\n"
     ]
    },
    {
     "name": "stderr",
     "output_type": "stream",
     "text": [
      "Perturbing graph:  48%|█████████████████████████████▉                                 | 361/760 [45:59<52:05,  7.83s/it]"
     ]
    },
    {
     "name": "stdout",
     "output_type": "stream",
     "text": [
      "GCN loss on unlabled data: 1.5924979448318481\n",
      "GCN acc on unlabled data: 0.6879749664729549\n",
      "attack loss: 0.8548499345779419\n"
     ]
    },
    {
     "name": "stderr",
     "output_type": "stream",
     "text": [
      "Perturbing graph:  48%|██████████████████████████████                                 | 362/760 [46:06<51:57,  7.83s/it]"
     ]
    },
    {
     "name": "stdout",
     "output_type": "stream",
     "text": [
      "GCN loss on unlabled data: 1.614017128944397\n",
      "GCN acc on unlabled data: 0.6808225301743407\n",
      "attack loss: 0.8716121315956116\n"
     ]
    },
    {
     "name": "stderr",
     "output_type": "stream",
     "text": [
      "Perturbing graph:  48%|██████████████████████████████                                 | 363/760 [46:14<51:26,  7.78s/it]"
     ]
    },
    {
     "name": "stdout",
     "output_type": "stream",
     "text": [
      "GCN loss on unlabled data: 1.5928138494491577\n",
      "GCN acc on unlabled data: 0.681269557443004\n",
      "attack loss: 0.8578847646713257\n"
     ]
    },
    {
     "name": "stderr",
     "output_type": "stream",
     "text": [
      "Perturbing graph:  48%|██████████████████████████████▏                                | 364/760 [46:22<51:14,  7.76s/it]"
     ]
    },
    {
     "name": "stdout",
     "output_type": "stream",
     "text": [
      "GCN loss on unlabled data: 1.5999176502227783\n",
      "GCN acc on unlabled data: 0.6852928028609745\n",
      "attack loss: 0.8554814457893372\n"
     ]
    },
    {
     "name": "stderr",
     "output_type": "stream",
     "text": [
      "Perturbing graph:  48%|██████████████████████████████▎                                | 365/760 [46:30<52:00,  7.90s/it]"
     ]
    },
    {
     "name": "stdout",
     "output_type": "stream",
     "text": [
      "GCN loss on unlabled data: 1.594583511352539\n",
      "GCN acc on unlabled data: 0.6857398301296379\n",
      "attack loss: 0.8617855906486511\n"
     ]
    },
    {
     "name": "stderr",
     "output_type": "stream",
     "text": [
      "Perturbing graph:  48%|██████████████████████████████▎                                | 366/760 [46:38<51:50,  7.90s/it]"
     ]
    },
    {
     "name": "stdout",
     "output_type": "stream",
     "text": [
      "GCN loss on unlabled data: 1.620007872581482\n",
      "GCN acc on unlabled data: 0.6848457755923111\n",
      "attack loss: 0.8710245490074158\n"
     ]
    },
    {
     "name": "stderr",
     "output_type": "stream",
     "text": [
      "Perturbing graph:  48%|██████████████████████████████▍                                | 367/760 [46:46<52:04,  7.95s/it]"
     ]
    },
    {
     "name": "stdout",
     "output_type": "stream",
     "text": [
      "GCN loss on unlabled data: 1.5983657836914062\n",
      "GCN acc on unlabled data: 0.6852928028609745\n",
      "attack loss: 0.8621236681938171\n"
     ]
    },
    {
     "name": "stderr",
     "output_type": "stream",
     "text": [
      "Perturbing graph:  48%|██████████████████████████████▌                                | 368/760 [46:54<51:56,  7.95s/it]"
     ]
    },
    {
     "name": "stdout",
     "output_type": "stream",
     "text": [
      "GCN loss on unlabled data: 1.649617075920105\n",
      "GCN acc on unlabled data: 0.6781403665623603\n",
      "attack loss: 0.8827483654022217\n"
     ]
    },
    {
     "name": "stderr",
     "output_type": "stream",
     "text": [
      "Perturbing graph:  49%|██████████████████████████████▌                                | 369/760 [47:02<51:22,  7.88s/it]"
     ]
    },
    {
     "name": "stdout",
     "output_type": "stream",
     "text": [
      "GCN loss on unlabled data: 1.6207902431488037\n",
      "GCN acc on unlabled data: 0.681269557443004\n",
      "attack loss: 0.8660082817077637\n"
     ]
    },
    {
     "name": "stderr",
     "output_type": "stream",
     "text": [
      "Perturbing graph:  49%|██████████████████████████████▋                                | 370/760 [47:09<50:52,  7.83s/it]"
     ]
    },
    {
     "name": "stdout",
     "output_type": "stream",
     "text": [
      "GCN loss on unlabled data: 1.6065467596054077\n",
      "GCN acc on unlabled data: 0.6861868573983013\n",
      "attack loss: 0.8671082854270935\n"
     ]
    },
    {
     "name": "stderr",
     "output_type": "stream",
     "text": [
      "Perturbing graph:  49%|██████████████████████████████▊                                | 371/760 [47:17<50:50,  7.84s/it]"
     ]
    },
    {
     "name": "stdout",
     "output_type": "stream",
     "text": [
      "GCN loss on unlabled data: 1.6501705646514893\n",
      "GCN acc on unlabled data: 0.6767992847563702\n",
      "attack loss: 0.8865751624107361\n"
     ]
    },
    {
     "name": "stderr",
     "output_type": "stream",
     "text": [
      "Perturbing graph:  49%|██████████████████████████████▊                                | 372/760 [47:25<50:33,  7.82s/it]"
     ]
    },
    {
     "name": "stdout",
     "output_type": "stream",
     "text": [
      "GCN loss on unlabled data: 1.642095685005188\n",
      "GCN acc on unlabled data: 0.6817165847116674\n",
      "attack loss: 0.8790392875671387\n"
     ]
    },
    {
     "name": "stderr",
     "output_type": "stream",
     "text": [
      "Perturbing graph:  49%|██████████████████████████████▉                                | 373/760 [47:33<50:34,  7.84s/it]"
     ]
    },
    {
     "name": "stdout",
     "output_type": "stream",
     "text": [
      "GCN loss on unlabled data: 1.6017060279846191\n",
      "GCN acc on unlabled data: 0.6839517210549844\n",
      "attack loss: 0.8579844832420349\n"
     ]
    },
    {
     "name": "stderr",
     "output_type": "stream",
     "text": [
      "Perturbing graph:  49%|███████████████████████████████                                | 374/760 [47:41<50:07,  7.79s/it]"
     ]
    },
    {
     "name": "stdout",
     "output_type": "stream",
     "text": [
      "GCN loss on unlabled data: 1.617824673652649\n",
      "GCN acc on unlabled data: 0.681269557443004\n",
      "attack loss: 0.8730063438415527\n"
     ]
    },
    {
     "name": "stderr",
     "output_type": "stream",
     "text": [
      "Perturbing graph:  49%|███████████████████████████████                                | 375/760 [47:48<49:36,  7.73s/it]"
     ]
    },
    {
     "name": "stdout",
     "output_type": "stream",
     "text": [
      "GCN loss on unlabled data: 1.6434128284454346\n",
      "GCN acc on unlabled data: 0.6826106392489942\n",
      "attack loss: 0.8766335844993591\n"
     ]
    },
    {
     "name": "stderr",
     "output_type": "stream",
     "text": [
      "Perturbing graph:  49%|███████████████████████████████▏                               | 376/760 [47:56<49:29,  7.73s/it]"
     ]
    },
    {
     "name": "stdout",
     "output_type": "stream",
     "text": [
      "GCN loss on unlabled data: 1.6459882259368896\n",
      "GCN acc on unlabled data: 0.6794814483683504\n",
      "attack loss: 0.8797011971473694\n"
     ]
    },
    {
     "name": "stderr",
     "output_type": "stream",
     "text": [
      "Perturbing graph:  50%|███████████████████████████████▎                               | 377/760 [48:03<48:19,  7.57s/it]"
     ]
    },
    {
     "name": "stdout",
     "output_type": "stream",
     "text": [
      "GCN loss on unlabled data: 1.611266016960144\n",
      "GCN acc on unlabled data: 0.683504693786321\n",
      "attack loss: 0.8688387274742126\n"
     ]
    },
    {
     "name": "stderr",
     "output_type": "stream",
     "text": [
      "Perturbing graph:  50%|███████████████████████████████▎                               | 378/760 [48:11<48:24,  7.60s/it]"
     ]
    },
    {
     "name": "stdout",
     "output_type": "stream",
     "text": [
      "GCN loss on unlabled data: 1.651887059211731\n",
      "GCN acc on unlabled data: 0.6794814483683504\n",
      "attack loss: 0.8942099809646606\n"
     ]
    },
    {
     "name": "stderr",
     "output_type": "stream",
     "text": [
      "Perturbing graph:  50%|███████████████████████████████▍                               | 379/760 [48:19<49:27,  7.79s/it]"
     ]
    },
    {
     "name": "stdout",
     "output_type": "stream",
     "text": [
      "GCN loss on unlabled data: 1.6538180112838745\n",
      "GCN acc on unlabled data: 0.6750111756817165\n",
      "attack loss: 0.8824790716171265\n"
     ]
    },
    {
     "name": "stderr",
     "output_type": "stream",
     "text": [
      "Perturbing graph:  50%|███████████████████████████████▌                               | 380/760 [48:27<49:40,  7.84s/it]"
     ]
    },
    {
     "name": "stdout",
     "output_type": "stream",
     "text": [
      "GCN loss on unlabled data: 1.6960368156433105\n",
      "GCN acc on unlabled data: 0.6736700938757264\n",
      "attack loss: 0.9117722511291504\n"
     ]
    },
    {
     "name": "stderr",
     "output_type": "stream",
     "text": [
      "Perturbing graph:  50%|███████████████████████████████▌                               | 381/760 [48:35<49:15,  7.80s/it]"
     ]
    },
    {
     "name": "stdout",
     "output_type": "stream",
     "text": [
      "GCN loss on unlabled data: 1.6769829988479614\n",
      "GCN acc on unlabled data: 0.6759052302190434\n",
      "attack loss: 0.8990578055381775\n"
     ]
    },
    {
     "name": "stderr",
     "output_type": "stream",
     "text": [
      "Perturbing graph:  50%|███████████████████████████████▋                               | 382/760 [48:45<53:38,  8.52s/it]"
     ]
    },
    {
     "name": "stdout",
     "output_type": "stream",
     "text": [
      "GCN loss on unlabled data: 1.6511644124984741\n",
      "GCN acc on unlabled data: 0.6767992847563702\n",
      "attack loss: 0.881774365901947\n"
     ]
    },
    {
     "name": "stderr",
     "output_type": "stream",
     "text": [
      "Perturbing graph:  50%|███████████████████████████████▋                               | 383/760 [48:51<49:16,  7.84s/it]"
     ]
    },
    {
     "name": "stdout",
     "output_type": "stream",
     "text": [
      "GCN loss on unlabled data: 1.6850078105926514\n",
      "GCN acc on unlabled data: 0.6848457755923111\n",
      "attack loss: 0.9041139483451843\n"
     ]
    },
    {
     "name": "stderr",
     "output_type": "stream",
     "text": [
      "Perturbing graph:  51%|███████████████████████████████▊                               | 384/760 [48:57<46:23,  7.40s/it]"
     ]
    },
    {
     "name": "stdout",
     "output_type": "stream",
     "text": [
      "GCN loss on unlabled data: 1.6302235126495361\n",
      "GCN acc on unlabled data: 0.681269557443004\n",
      "attack loss: 0.8813974857330322\n"
     ]
    },
    {
     "name": "stderr",
     "output_type": "stream",
     "text": [
      "Perturbing graph:  51%|███████████████████████████████▉                               | 385/760 [49:04<44:22,  7.10s/it]"
     ]
    },
    {
     "name": "stdout",
     "output_type": "stream",
     "text": [
      "GCN loss on unlabled data: 1.6595966815948486\n",
      "GCN acc on unlabled data: 0.6781403665623603\n",
      "attack loss: 0.8902263045310974\n"
     ]
    },
    {
     "name": "stderr",
     "output_type": "stream",
     "text": [
      "Perturbing graph:  51%|███████████████████████████████▉                               | 386/760 [49:10<43:01,  6.90s/it]"
     ]
    },
    {
     "name": "stdout",
     "output_type": "stream",
     "text": [
      "GCN loss on unlabled data: 1.683915376663208\n",
      "GCN acc on unlabled data: 0.6817165847116674\n",
      "attack loss: 0.9098944067955017\n"
     ]
    },
    {
     "name": "stderr",
     "output_type": "stream",
     "text": [
      "Perturbing graph:  51%|████████████████████████████████                               | 387/760 [49:17<42:11,  6.79s/it]"
     ]
    },
    {
     "name": "stdout",
     "output_type": "stream",
     "text": [
      "GCN loss on unlabled data: 1.7107367515563965\n",
      "GCN acc on unlabled data: 0.6843987483236478\n",
      "attack loss: 0.9163119196891785\n"
     ]
    },
    {
     "name": "stderr",
     "output_type": "stream",
     "text": [
      "Perturbing graph:  51%|████████████████████████████████▏                              | 388/760 [49:23<41:05,  6.63s/it]"
     ]
    },
    {
     "name": "stdout",
     "output_type": "stream",
     "text": [
      "GCN loss on unlabled data: 1.641912579536438\n",
      "GCN acc on unlabled data: 0.6781403665623603\n",
      "attack loss: 0.8879632353782654\n"
     ]
    },
    {
     "name": "stderr",
     "output_type": "stream",
     "text": [
      "Perturbing graph:  51%|████████████████████████████████▏                              | 389/760 [49:30<40:54,  6.62s/it]"
     ]
    },
    {
     "name": "stdout",
     "output_type": "stream",
     "text": [
      "GCN loss on unlabled data: 1.680846095085144\n",
      "GCN acc on unlabled data: 0.6772463120250335\n",
      "attack loss: 0.9023663401603699\n"
     ]
    },
    {
     "name": "stderr",
     "output_type": "stream",
     "text": [
      "Perturbing graph:  51%|████████████████████████████████▎                              | 390/760 [49:36<40:37,  6.59s/it]"
     ]
    },
    {
     "name": "stdout",
     "output_type": "stream",
     "text": [
      "GCN loss on unlabled data: 1.7031744718551636\n",
      "GCN acc on unlabled data: 0.6763522574877068\n",
      "attack loss: 0.9106957316398621\n"
     ]
    },
    {
     "name": "stderr",
     "output_type": "stream",
     "text": [
      "Perturbing graph:  51%|████████████████████████████████▍                              | 391/760 [49:43<40:26,  6.57s/it]"
     ]
    },
    {
     "name": "stdout",
     "output_type": "stream",
     "text": [
      "GCN loss on unlabled data: 1.640811562538147\n",
      "GCN acc on unlabled data: 0.6727760393383997\n",
      "attack loss: 0.8818023800849915\n"
     ]
    },
    {
     "name": "stderr",
     "output_type": "stream",
     "text": [
      "Perturbing graph:  52%|████████████████████████████████▍                              | 392/760 [49:49<40:13,  6.56s/it]"
     ]
    },
    {
     "name": "stdout",
     "output_type": "stream",
     "text": [
      "GCN loss on unlabled data: 1.715114951133728\n",
      "GCN acc on unlabled data: 0.679034421099687\n",
      "attack loss: 0.9229663014411926\n"
     ]
    },
    {
     "name": "stderr",
     "output_type": "stream",
     "text": [
      "Perturbing graph:  52%|████████████████████████████████▌                              | 393/760 [49:56<40:06,  6.56s/it]"
     ]
    },
    {
     "name": "stdout",
     "output_type": "stream",
     "text": [
      "GCN loss on unlabled data: 1.6100596189498901\n",
      "GCN acc on unlabled data: 0.6741171211443898\n",
      "attack loss: 0.8676916360855103\n"
     ]
    },
    {
     "name": "stderr",
     "output_type": "stream",
     "text": [
      "Perturbing graph:  52%|████████████████████████████████▋                              | 394/760 [50:02<39:55,  6.55s/it]"
     ]
    },
    {
     "name": "stdout",
     "output_type": "stream",
     "text": [
      "GCN loss on unlabled data: 1.7028570175170898\n",
      "GCN acc on unlabled data: 0.6750111756817165\n",
      "attack loss: 0.9180464744567871\n"
     ]
    },
    {
     "name": "stderr",
     "output_type": "stream",
     "text": [
      "Perturbing graph:  52%|████████████████████████████████▋                              | 395/760 [50:09<39:42,  6.53s/it]"
     ]
    },
    {
     "name": "stdout",
     "output_type": "stream",
     "text": [
      "GCN loss on unlabled data: 1.7017855644226074\n",
      "GCN acc on unlabled data: 0.6826106392489942\n",
      "attack loss: 0.9182204008102417\n"
     ]
    },
    {
     "name": "stderr",
     "output_type": "stream",
     "text": [
      "Perturbing graph:  52%|████████████████████████████████▊                              | 396/760 [50:15<39:33,  6.52s/it]"
     ]
    },
    {
     "name": "stdout",
     "output_type": "stream",
     "text": [
      "GCN loss on unlabled data: 1.6754509210586548\n",
      "GCN acc on unlabled data: 0.6741171211443898\n",
      "attack loss: 0.9025957584381104\n"
     ]
    },
    {
     "name": "stderr",
     "output_type": "stream",
     "text": [
      "Perturbing graph:  52%|████████████████████████████████▉                              | 397/760 [50:22<39:17,  6.50s/it]"
     ]
    },
    {
     "name": "stdout",
     "output_type": "stream",
     "text": [
      "GCN loss on unlabled data: 1.7231361865997314\n",
      "GCN acc on unlabled data: 0.6821636119803308\n",
      "attack loss: 0.9251745939254761\n"
     ]
    },
    {
     "name": "stderr",
     "output_type": "stream",
     "text": [
      "Perturbing graph:  52%|████████████████████████████████▉                              | 398/760 [50:28<39:11,  6.50s/it]"
     ]
    },
    {
     "name": "stdout",
     "output_type": "stream",
     "text": [
      "GCN loss on unlabled data: 1.732155680656433\n",
      "GCN acc on unlabled data: 0.6821636119803308\n",
      "attack loss: 0.9182912707328796\n"
     ]
    },
    {
     "name": "stderr",
     "output_type": "stream",
     "text": [
      "Perturbing graph:  52%|█████████████████████████████████                              | 399/760 [50:35<39:04,  6.49s/it]"
     ]
    },
    {
     "name": "stdout",
     "output_type": "stream",
     "text": [
      "GCN loss on unlabled data: 1.7034302949905396\n",
      "GCN acc on unlabled data: 0.6785873938310237\n",
      "attack loss: 0.922873854637146\n"
     ]
    },
    {
     "name": "stderr",
     "output_type": "stream",
     "text": [
      "Perturbing graph:  53%|█████████████████████████████████▏                             | 400/760 [50:41<38:41,  6.45s/it]"
     ]
    },
    {
     "name": "stdout",
     "output_type": "stream",
     "text": [
      "GCN loss on unlabled data: 1.7217118740081787\n",
      "GCN acc on unlabled data: 0.6799284756370139\n",
      "attack loss: 0.9218024611473083\n"
     ]
    },
    {
     "name": "stderr",
     "output_type": "stream",
     "text": [
      "Perturbing graph:  53%|█████████████████████████████████▏                             | 401/760 [50:48<39:11,  6.55s/it]"
     ]
    },
    {
     "name": "stdout",
     "output_type": "stream",
     "text": [
      "GCN loss on unlabled data: 1.6918001174926758\n",
      "GCN acc on unlabled data: 0.6741171211443898\n",
      "attack loss: 0.9089656472206116\n"
     ]
    },
    {
     "name": "stderr",
     "output_type": "stream",
     "text": [
      "Perturbing graph:  53%|█████████████████████████████████▎                             | 402/760 [50:55<39:12,  6.57s/it]"
     ]
    },
    {
     "name": "stdout",
     "output_type": "stream",
     "text": [
      "GCN loss on unlabled data: 1.7424559593200684\n",
      "GCN acc on unlabled data: 0.6767992847563702\n",
      "attack loss: 0.9387226700782776\n"
     ]
    },
    {
     "name": "stderr",
     "output_type": "stream",
     "text": [
      "Perturbing graph:  53%|█████████████████████████████████▍                             | 403/760 [51:01<38:52,  6.53s/it]"
     ]
    },
    {
     "name": "stdout",
     "output_type": "stream",
     "text": [
      "GCN loss on unlabled data: 1.6880537271499634\n",
      "GCN acc on unlabled data: 0.679034421099687\n",
      "attack loss: 0.9033715724945068\n"
     ]
    },
    {
     "name": "stderr",
     "output_type": "stream",
     "text": [
      "Perturbing graph:  53%|█████████████████████████████████▍                             | 404/760 [51:08<38:47,  6.54s/it]"
     ]
    },
    {
     "name": "stdout",
     "output_type": "stream",
     "text": [
      "GCN loss on unlabled data: 1.7431578636169434\n",
      "GCN acc on unlabled data: 0.6767992847563702\n",
      "attack loss: 0.9410839676856995\n"
     ]
    },
    {
     "name": "stderr",
     "output_type": "stream",
     "text": [
      "Perturbing graph:  53%|█████████████████████████████████▌                             | 405/760 [51:14<38:34,  6.52s/it]"
     ]
    },
    {
     "name": "stdout",
     "output_type": "stream",
     "text": [
      "GCN loss on unlabled data: 1.7187403440475464\n",
      "GCN acc on unlabled data: 0.6763522574877068\n",
      "attack loss: 0.9205107688903809\n"
     ]
    },
    {
     "name": "stderr",
     "output_type": "stream",
     "text": [
      "Perturbing graph:  53%|█████████████████████████████████▋                             | 406/760 [51:21<40:03,  6.79s/it]"
     ]
    },
    {
     "name": "stdout",
     "output_type": "stream",
     "text": [
      "GCN loss on unlabled data: 1.696243166923523\n",
      "GCN acc on unlabled data: 0.670987930263746\n",
      "attack loss: 0.9140846729278564\n"
     ]
    },
    {
     "name": "stderr",
     "output_type": "stream",
     "text": [
      "Perturbing graph:  54%|█████████████████████████████████▋                             | 407/760 [51:29<41:18,  7.02s/it]"
     ]
    },
    {
     "name": "stdout",
     "output_type": "stream",
     "text": [
      "GCN loss on unlabled data: 1.730025291442871\n",
      "GCN acc on unlabled data: 0.6660706303084488\n",
      "attack loss: 0.9304317235946655\n"
     ]
    },
    {
     "name": "stderr",
     "output_type": "stream",
     "text": [
      "Perturbing graph:  54%|█████████████████████████████████▊                             | 408/760 [51:36<41:49,  7.13s/it]"
     ]
    },
    {
     "name": "stdout",
     "output_type": "stream",
     "text": [
      "GCN loss on unlabled data: 1.686813473701477\n",
      "GCN acc on unlabled data: 0.6759052302190434\n",
      "attack loss: 0.9144447445869446\n"
     ]
    },
    {
     "name": "stderr",
     "output_type": "stream",
     "text": [
      "Perturbing graph:  54%|█████████████████████████████████▉                             | 409/760 [51:44<42:01,  7.18s/it]"
     ]
    },
    {
     "name": "stdout",
     "output_type": "stream",
     "text": [
      "GCN loss on unlabled data: 1.7341119050979614\n",
      "GCN acc on unlabled data: 0.6736700938757264\n",
      "attack loss: 0.9321740865707397\n"
     ]
    },
    {
     "name": "stderr",
     "output_type": "stream",
     "text": [
      "Perturbing graph:  54%|█████████████████████████████████▉                             | 410/760 [51:51<42:12,  7.24s/it]"
     ]
    },
    {
     "name": "stdout",
     "output_type": "stream",
     "text": [
      "GCN loss on unlabled data: 1.6881146430969238\n",
      "GCN acc on unlabled data: 0.673223066607063\n",
      "attack loss: 0.9072808623313904\n"
     ]
    },
    {
     "name": "stderr",
     "output_type": "stream",
     "text": [
      "Perturbing graph:  54%|██████████████████████████████████                             | 411/760 [51:58<41:56,  7.21s/it]"
     ]
    },
    {
     "name": "stdout",
     "output_type": "stream",
     "text": [
      "GCN loss on unlabled data: 1.78254234790802\n",
      "GCN acc on unlabled data: 0.679034421099687\n",
      "attack loss: 0.9518494606018066\n"
     ]
    },
    {
     "name": "stderr",
     "output_type": "stream",
     "text": [
      "Perturbing graph:  54%|██████████████████████████████████▏                            | 412/760 [52:05<41:50,  7.21s/it]"
     ]
    },
    {
     "name": "stdout",
     "output_type": "stream",
     "text": [
      "GCN loss on unlabled data: 1.7246431112289429\n",
      "GCN acc on unlabled data: 0.673223066607063\n",
      "attack loss: 0.9243677258491516\n"
     ]
    },
    {
     "name": "stderr",
     "output_type": "stream",
     "text": [
      "Perturbing graph:  54%|██████████████████████████████████▏                            | 413/760 [52:13<41:47,  7.23s/it]"
     ]
    },
    {
     "name": "stdout",
     "output_type": "stream",
     "text": [
      "GCN loss on unlabled data: 1.7051116228103638\n",
      "GCN acc on unlabled data: 0.6759052302190434\n",
      "attack loss: 0.9227046370506287\n"
     ]
    },
    {
     "name": "stderr",
     "output_type": "stream",
     "text": [
      "Perturbing graph:  54%|██████████████████████████████████▎                            | 414/760 [52:20<41:50,  7.26s/it]"
     ]
    },
    {
     "name": "stdout",
     "output_type": "stream",
     "text": [
      "GCN loss on unlabled data: 1.692777395248413\n",
      "GCN acc on unlabled data: 0.6781403665623603\n",
      "attack loss: 0.9107271432876587\n"
     ]
    },
    {
     "name": "stderr",
     "output_type": "stream",
     "text": [
      "Perturbing graph:  55%|██████████████████████████████████▍                            | 415/760 [52:27<41:44,  7.26s/it]"
     ]
    },
    {
     "name": "stdout",
     "output_type": "stream",
     "text": [
      "GCN loss on unlabled data: 1.7348684072494507\n",
      "GCN acc on unlabled data: 0.6741171211443898\n",
      "attack loss: 0.937043309211731\n"
     ]
    },
    {
     "name": "stderr",
     "output_type": "stream",
     "text": [
      "Perturbing graph:  55%|██████████████████████████████████▍                            | 416/760 [52:35<42:09,  7.35s/it]"
     ]
    },
    {
     "name": "stdout",
     "output_type": "stream",
     "text": [
      "GCN loss on unlabled data: 1.7257472276687622\n",
      "GCN acc on unlabled data: 0.6691998211890925\n",
      "attack loss: 0.9292944073677063\n"
     ]
    },
    {
     "name": "stderr",
     "output_type": "stream",
     "text": [
      "Perturbing graph:  55%|██████████████████████████████████▌                            | 417/760 [52:42<42:02,  7.35s/it]"
     ]
    },
    {
     "name": "stdout",
     "output_type": "stream",
     "text": [
      "GCN loss on unlabled data: 1.7257241010665894\n",
      "GCN acc on unlabled data: 0.6745641484130532\n",
      "attack loss: 0.9304949045181274\n"
     ]
    },
    {
     "name": "stderr",
     "output_type": "stream",
     "text": [
      "Perturbing graph:  55%|██████████████████████████████████▋                            | 418/760 [52:49<41:52,  7.35s/it]"
     ]
    },
    {
     "name": "stdout",
     "output_type": "stream",
     "text": [
      "GCN loss on unlabled data: 1.7769408226013184\n",
      "GCN acc on unlabled data: 0.6700938757264193\n",
      "attack loss: 0.9595924615859985\n"
     ]
    },
    {
     "name": "stderr",
     "output_type": "stream",
     "text": [
      "Perturbing graph:  55%|██████████████████████████████████▋                            | 419/760 [52:57<41:52,  7.37s/it]"
     ]
    },
    {
     "name": "stdout",
     "output_type": "stream",
     "text": [
      "GCN loss on unlabled data: 1.7352341413497925\n",
      "GCN acc on unlabled data: 0.6745641484130532\n",
      "attack loss: 0.9325023889541626\n"
     ]
    },
    {
     "name": "stderr",
     "output_type": "stream",
     "text": [
      "Perturbing graph:  55%|██████████████████████████████████▊                            | 420/760 [53:04<41:53,  7.39s/it]"
     ]
    },
    {
     "name": "stdout",
     "output_type": "stream",
     "text": [
      "GCN loss on unlabled data: 1.7203136682510376\n",
      "GCN acc on unlabled data: 0.6691998211890925\n",
      "attack loss: 0.9269109964370728\n"
     ]
    },
    {
     "name": "stderr",
     "output_type": "stream",
     "text": [
      "Perturbing graph:  55%|██████████████████████████████████▉                            | 421/760 [53:12<42:18,  7.49s/it]"
     ]
    },
    {
     "name": "stdout",
     "output_type": "stream",
     "text": [
      "GCN loss on unlabled data: 1.7320448160171509\n",
      "GCN acc on unlabled data: 0.6727760393383997\n",
      "attack loss: 0.9301029443740845\n"
     ]
    },
    {
     "name": "stderr",
     "output_type": "stream",
     "text": [
      "Perturbing graph:  56%|██████████████████████████████████▉                            | 422/760 [53:19<41:38,  7.39s/it]"
     ]
    },
    {
     "name": "stdout",
     "output_type": "stream",
     "text": [
      "GCN loss on unlabled data: 1.7447316646575928\n",
      "GCN acc on unlabled data: 0.6718819848010729\n",
      "attack loss: 0.9447746872901917\n"
     ]
    },
    {
     "name": "stderr",
     "output_type": "stream",
     "text": [
      "Perturbing graph:  56%|███████████████████████████████████                            | 423/760 [53:27<41:18,  7.35s/it]"
     ]
    },
    {
     "name": "stdout",
     "output_type": "stream",
     "text": [
      "GCN loss on unlabled data: 1.754118800163269\n",
      "GCN acc on unlabled data: 0.6714349575324094\n",
      "attack loss: 0.9458742737770081\n"
     ]
    },
    {
     "name": "stderr",
     "output_type": "stream",
     "text": [
      "Perturbing graph:  56%|███████████████████████████████████▏                           | 424/760 [53:34<40:35,  7.25s/it]"
     ]
    },
    {
     "name": "stdout",
     "output_type": "stream",
     "text": [
      "GCN loss on unlabled data: 1.7825814485549927\n",
      "GCN acc on unlabled data: 0.6745641484130532\n",
      "attack loss: 0.9566949605941772\n"
     ]
    },
    {
     "name": "stderr",
     "output_type": "stream",
     "text": [
      "Perturbing graph:  56%|███████████████████████████████████▏                           | 425/760 [53:41<40:10,  7.19s/it]"
     ]
    },
    {
     "name": "stdout",
     "output_type": "stream",
     "text": [
      "GCN loss on unlabled data: 1.7835708856582642\n",
      "GCN acc on unlabled data: 0.6696468484577559\n",
      "attack loss: 0.958833634853363\n"
     ]
    },
    {
     "name": "stderr",
     "output_type": "stream",
     "text": [
      "Perturbing graph:  56%|███████████████████████████████████▎                           | 426/760 [53:48<39:58,  7.18s/it]"
     ]
    },
    {
     "name": "stdout",
     "output_type": "stream",
     "text": [
      "GCN loss on unlabled data: 1.761540174484253\n",
      "GCN acc on unlabled data: 0.6665176575771122\n",
      "attack loss: 0.9489618539810181\n"
     ]
    },
    {
     "name": "stderr",
     "output_type": "stream",
     "text": [
      "Perturbing graph:  56%|███████████████████████████████████▍                           | 427/760 [53:55<39:52,  7.19s/it]"
     ]
    },
    {
     "name": "stdout",
     "output_type": "stream",
     "text": [
      "GCN loss on unlabled data: 1.7835721969604492\n",
      "GCN acc on unlabled data: 0.6678587393831024\n",
      "attack loss: 0.9648702144622803\n"
     ]
    },
    {
     "name": "stderr",
     "output_type": "stream",
     "text": [
      "Perturbing graph:  56%|███████████████████████████████████▍                           | 428/760 [54:02<40:22,  7.30s/it]"
     ]
    },
    {
     "name": "stdout",
     "output_type": "stream",
     "text": [
      "GCN loss on unlabled data: 1.7930138111114502\n",
      "GCN acc on unlabled data: 0.6669646848457756\n",
      "attack loss: 0.9694051146507263\n"
     ]
    },
    {
     "name": "stderr",
     "output_type": "stream",
     "text": [
      "Perturbing graph:  56%|███████████████████████████████████▌                           | 429/760 [54:10<40:26,  7.33s/it]"
     ]
    },
    {
     "name": "stdout",
     "output_type": "stream",
     "text": [
      "GCN loss on unlabled data: 1.7481653690338135\n",
      "GCN acc on unlabled data: 0.6705409029950827\n",
      "attack loss: 0.9481766223907471\n"
     ]
    },
    {
     "name": "stderr",
     "output_type": "stream",
     "text": [
      "Perturbing graph:  57%|███████████████████████████████████▋                           | 430/760 [54:17<40:10,  7.30s/it]"
     ]
    },
    {
     "name": "stdout",
     "output_type": "stream",
     "text": [
      "GCN loss on unlabled data: 1.7750951051712036\n",
      "GCN acc on unlabled data: 0.6607063030844882\n",
      "attack loss: 0.9579662084579468\n"
     ]
    },
    {
     "name": "stderr",
     "output_type": "stream",
     "text": [
      "Perturbing graph:  57%|███████████████████████████████████▋                           | 431/760 [54:25<40:11,  7.33s/it]"
     ]
    },
    {
     "name": "stdout",
     "output_type": "stream",
     "text": [
      "GCN loss on unlabled data: 1.8374987840652466\n",
      "GCN acc on unlabled data: 0.6629414394278051\n",
      "attack loss: 0.9914451241493225\n"
     ]
    },
    {
     "name": "stderr",
     "output_type": "stream",
     "text": [
      "Perturbing graph:  57%|███████████████████████████████████▊                           | 432/760 [54:32<40:19,  7.38s/it]"
     ]
    },
    {
     "name": "stdout",
     "output_type": "stream",
     "text": [
      "GCN loss on unlabled data: 1.7550108432769775\n",
      "GCN acc on unlabled data: 0.6638354939651319\n",
      "attack loss: 0.9438065886497498\n"
     ]
    },
    {
     "name": "stderr",
     "output_type": "stream",
     "text": [
      "Perturbing graph:  57%|███████████████████████████████████▉                           | 433/760 [54:39<39:53,  7.32s/it]"
     ]
    },
    {
     "name": "stdout",
     "output_type": "stream",
     "text": [
      "GCN loss on unlabled data: 1.762864112854004\n",
      "GCN acc on unlabled data: 0.6669646848457756\n",
      "attack loss: 0.9510606527328491\n"
     ]
    },
    {
     "name": "stderr",
     "output_type": "stream",
     "text": [
      "Perturbing graph:  57%|███████████████████████████████████▉                           | 434/760 [54:46<39:36,  7.29s/it]"
     ]
    },
    {
     "name": "stdout",
     "output_type": "stream",
     "text": [
      "GCN loss on unlabled data: 1.748247504234314\n",
      "GCN acc on unlabled data: 0.6683057666517658\n",
      "attack loss: 0.9413804411888123\n"
     ]
    },
    {
     "name": "stderr",
     "output_type": "stream",
     "text": [
      "Perturbing graph:  57%|████████████████████████████████████                           | 435/760 [54:54<39:32,  7.30s/it]"
     ]
    },
    {
     "name": "stdout",
     "output_type": "stream",
     "text": [
      "GCN loss on unlabled data: 1.7825158834457397\n",
      "GCN acc on unlabled data: 0.6660706303084488\n",
      "attack loss: 0.9627267122268677\n"
     ]
    },
    {
     "name": "stderr",
     "output_type": "stream",
     "text": [
      "Perturbing graph:  57%|████████████████████████████████████▏                          | 436/760 [55:01<39:38,  7.34s/it]"
     ]
    },
    {
     "name": "stdout",
     "output_type": "stream",
     "text": [
      "GCN loss on unlabled data: 1.7639949321746826\n",
      "GCN acc on unlabled data: 0.6696468484577559\n",
      "attack loss: 0.947721540927887\n"
     ]
    },
    {
     "name": "stderr",
     "output_type": "stream",
     "text": [
      "Perturbing graph:  57%|████████████████████████████████████▏                          | 437/760 [55:08<39:04,  7.26s/it]"
     ]
    },
    {
     "name": "stdout",
     "output_type": "stream",
     "text": [
      "GCN loss on unlabled data: 1.8214848041534424\n",
      "GCN acc on unlabled data: 0.6620473848904783\n",
      "attack loss: 0.9800857305526733\n"
     ]
    },
    {
     "name": "stderr",
     "output_type": "stream",
     "text": [
      "Perturbing graph:  58%|████████████████████████████████████▎                          | 438/760 [55:16<39:22,  7.34s/it]"
     ]
    },
    {
     "name": "stdout",
     "output_type": "stream",
     "text": [
      "GCN loss on unlabled data: 1.8164020776748657\n",
      "GCN acc on unlabled data: 0.6629414394278051\n",
      "attack loss: 0.9772824048995972\n"
     ]
    },
    {
     "name": "stderr",
     "output_type": "stream",
     "text": [
      "Perturbing graph:  58%|████████████████████████████████████▍                          | 439/760 [55:23<38:45,  7.24s/it]"
     ]
    },
    {
     "name": "stdout",
     "output_type": "stream",
     "text": [
      "GCN loss on unlabled data: 1.7536269426345825\n",
      "GCN acc on unlabled data: 0.6620473848904783\n",
      "attack loss: 0.9493516087532043\n"
     ]
    },
    {
     "name": "stderr",
     "output_type": "stream",
     "text": [
      "Perturbing graph:  58%|████████████████████████████████████▍                          | 440/760 [55:30<38:27,  7.21s/it]"
     ]
    },
    {
     "name": "stdout",
     "output_type": "stream",
     "text": [
      "GCN loss on unlabled data: 1.7560783624649048\n",
      "GCN acc on unlabled data: 0.6589181940098346\n",
      "attack loss: 0.9389828443527222\n"
     ]
    },
    {
     "name": "stderr",
     "output_type": "stream",
     "text": [
      "Perturbing graph:  58%|████████████████████████████████████▌                          | 441/760 [55:37<38:16,  7.20s/it]"
     ]
    },
    {
     "name": "stdout",
     "output_type": "stream",
     "text": [
      "GCN loss on unlabled data: 1.750070571899414\n",
      "GCN acc on unlabled data: 0.6696468484577559\n",
      "attack loss: 0.9461689591407776\n"
     ]
    },
    {
     "name": "stderr",
     "output_type": "stream",
     "text": [
      "Perturbing graph:  58%|████████████████████████████████████▋                          | 442/760 [55:44<38:19,  7.23s/it]"
     ]
    },
    {
     "name": "stdout",
     "output_type": "stream",
     "text": [
      "GCN loss on unlabled data: 1.817911148071289\n",
      "GCN acc on unlabled data: 0.6696468484577559\n",
      "attack loss: 0.9767923951148987\n"
     ]
    },
    {
     "name": "stderr",
     "output_type": "stream",
     "text": [
      "Perturbing graph:  58%|████████████████████████████████████▋                          | 443/760 [55:52<37:59,  7.19s/it]"
     ]
    },
    {
     "name": "stdout",
     "output_type": "stream",
     "text": [
      "GCN loss on unlabled data: 1.7605950832366943\n",
      "GCN acc on unlabled data: 0.6691998211890925\n",
      "attack loss: 0.9499779343605042\n"
     ]
    },
    {
     "name": "stderr",
     "output_type": "stream",
     "text": [
      "Perturbing graph:  58%|████████████████████████████████████▊                          | 444/760 [55:59<38:02,  7.22s/it]"
     ]
    },
    {
     "name": "stdout",
     "output_type": "stream",
     "text": [
      "GCN loss on unlabled data: 1.7282360792160034\n",
      "GCN acc on unlabled data: 0.6683057666517658\n",
      "attack loss: 0.94429612159729\n"
     ]
    },
    {
     "name": "stderr",
     "output_type": "stream",
     "text": [
      "Perturbing graph:  59%|████████████████████████████████████▉                          | 445/760 [56:06<37:52,  7.21s/it]"
     ]
    },
    {
     "name": "stdout",
     "output_type": "stream",
     "text": [
      "GCN loss on unlabled data: 1.8166273832321167\n",
      "GCN acc on unlabled data: 0.667411712114439\n",
      "attack loss: 0.9767754673957825\n"
     ]
    },
    {
     "name": "stderr",
     "output_type": "stream",
     "text": [
      "Perturbing graph:  59%|████████████████████████████████████▉                          | 446/760 [56:13<37:52,  7.24s/it]"
     ]
    },
    {
     "name": "stdout",
     "output_type": "stream",
     "text": [
      "GCN loss on unlabled data: 1.8525488376617432\n",
      "GCN acc on unlabled data: 0.6669646848457756\n",
      "attack loss: 0.9951561093330383\n"
     ]
    },
    {
     "name": "stderr",
     "output_type": "stream",
     "text": [
      "Perturbing graph:  59%|█████████████████████████████████████                          | 447/760 [56:21<38:29,  7.38s/it]"
     ]
    },
    {
     "name": "stdout",
     "output_type": "stream",
     "text": [
      "GCN loss on unlabled data: 1.8185372352600098\n",
      "GCN acc on unlabled data: 0.6656236030397854\n",
      "attack loss: 0.9908715486526489\n"
     ]
    },
    {
     "name": "stderr",
     "output_type": "stream",
     "text": [
      "Perturbing graph:  59%|█████████████████████████████████████▏                         | 448/760 [56:28<38:08,  7.33s/it]"
     ]
    },
    {
     "name": "stdout",
     "output_type": "stream",
     "text": [
      "GCN loss on unlabled data: 1.8341310024261475\n",
      "GCN acc on unlabled data: 0.6607063030844882\n",
      "attack loss: 0.9883360266685486\n"
     ]
    },
    {
     "name": "stderr",
     "output_type": "stream",
     "text": [
      "Perturbing graph:  59%|█████████████████████████████████████▏                         | 449/760 [56:35<37:46,  7.29s/it]"
     ]
    },
    {
     "name": "stdout",
     "output_type": "stream",
     "text": [
      "GCN loss on unlabled data: 1.7818478345870972\n",
      "GCN acc on unlabled data: 0.6638354939651319\n",
      "attack loss: 0.9665269255638123\n"
     ]
    },
    {
     "name": "stderr",
     "output_type": "stream",
     "text": [
      "Perturbing graph:  59%|█████████████████████████████████████▎                         | 450/760 [56:43<37:48,  7.32s/it]"
     ]
    },
    {
     "name": "stdout",
     "output_type": "stream",
     "text": [
      "GCN loss on unlabled data: 1.8329905271530151\n",
      "GCN acc on unlabled data: 0.6642825212337953\n",
      "attack loss: 0.9983776211738586\n"
     ]
    },
    {
     "name": "stderr",
     "output_type": "stream",
     "text": [
      "Perturbing graph:  59%|█████████████████████████████████████▍                         | 451/760 [56:50<37:48,  7.34s/it]"
     ]
    },
    {
     "name": "stdout",
     "output_type": "stream",
     "text": [
      "GCN loss on unlabled data: 1.8055980205535889\n",
      "GCN acc on unlabled data: 0.6669646848457756\n",
      "attack loss: 0.9697931408882141\n"
     ]
    },
    {
     "name": "stderr",
     "output_type": "stream",
     "text": [
      "Perturbing graph:  59%|█████████████████████████████████████▍                         | 452/760 [56:57<37:26,  7.29s/it]"
     ]
    },
    {
     "name": "stdout",
     "output_type": "stream",
     "text": [
      "GCN loss on unlabled data: 1.854156255722046\n",
      "GCN acc on unlabled data: 0.6607063030844882\n",
      "attack loss: 1.00892174243927\n"
     ]
    },
    {
     "name": "stderr",
     "output_type": "stream",
     "text": [
      "Perturbing graph:  60%|█████████████████████████████████████▌                         | 453/760 [57:05<37:34,  7.34s/it]"
     ]
    },
    {
     "name": "stdout",
     "output_type": "stream",
     "text": [
      "GCN loss on unlabled data: 1.8442219495773315\n",
      "GCN acc on unlabled data: 0.6624944121591417\n",
      "attack loss: 1.0023671388626099\n"
     ]
    },
    {
     "name": "stderr",
     "output_type": "stream",
     "text": [
      "Perturbing graph:  60%|█████████████████████████████████████▋                         | 454/760 [57:12<37:26,  7.34s/it]"
     ]
    },
    {
     "name": "stdout",
     "output_type": "stream",
     "text": [
      "GCN loss on unlabled data: 1.879989743232727\n",
      "GCN acc on unlabled data: 0.657130084935181\n",
      "attack loss: 1.0218110084533691\n"
     ]
    },
    {
     "name": "stderr",
     "output_type": "stream",
     "text": [
      "Perturbing graph:  60%|█████████████████████████████████████▋                         | 455/760 [57:19<37:09,  7.31s/it]"
     ]
    },
    {
     "name": "stdout",
     "output_type": "stream",
     "text": [
      "GCN loss on unlabled data: 1.8272323608398438\n",
      "GCN acc on unlabled data: 0.6656236030397854\n",
      "attack loss: 0.990117073059082\n"
     ]
    },
    {
     "name": "stderr",
     "output_type": "stream",
     "text": [
      "Perturbing graph:  60%|█████████████████████████████████████▊                         | 456/760 [57:27<37:09,  7.34s/it]"
     ]
    },
    {
     "name": "stdout",
     "output_type": "stream",
     "text": [
      "GCN loss on unlabled data: 1.842718482017517\n",
      "GCN acc on unlabled data: 0.6616003576218149\n",
      "attack loss: 0.999549150466919\n"
     ]
    },
    {
     "name": "stderr",
     "output_type": "stream",
     "text": [
      "Perturbing graph:  60%|█████████████████████████████████████▉                         | 457/760 [57:34<36:34,  7.24s/it]"
     ]
    },
    {
     "name": "stdout",
     "output_type": "stream",
     "text": [
      "GCN loss on unlabled data: 1.8771556615829468\n",
      "GCN acc on unlabled data: 0.665176575771122\n",
      "attack loss: 1.0245561599731445\n"
     ]
    },
    {
     "name": "stderr",
     "output_type": "stream",
     "text": [
      "Perturbing graph:  60%|█████████████████████████████████████▉                         | 458/760 [57:41<36:20,  7.22s/it]"
     ]
    },
    {
     "name": "stdout",
     "output_type": "stream",
     "text": [
      "GCN loss on unlabled data: 1.837458848953247\n",
      "GCN acc on unlabled data: 0.6633884666964684\n",
      "attack loss: 0.9982048273086548\n"
     ]
    },
    {
     "name": "stderr",
     "output_type": "stream",
     "text": [
      "Perturbing graph:  60%|██████████████████████████████████████                         | 459/760 [57:49<36:49,  7.34s/it]"
     ]
    },
    {
     "name": "stdout",
     "output_type": "stream",
     "text": [
      "GCN loss on unlabled data: 1.8931856155395508\n",
      "GCN acc on unlabled data: 0.6647295485024587\n",
      "attack loss: 1.0216448307037354\n"
     ]
    },
    {
     "name": "stderr",
     "output_type": "stream",
     "text": [
      "Perturbing graph:  61%|██████████████████████████████████████▏                        | 460/760 [57:56<37:11,  7.44s/it]"
     ]
    },
    {
     "name": "stdout",
     "output_type": "stream",
     "text": [
      "GCN loss on unlabled data: 1.8323370218276978\n",
      "GCN acc on unlabled data: 0.6553419758605274\n",
      "attack loss: 0.9872956871986389\n"
     ]
    },
    {
     "name": "stderr",
     "output_type": "stream",
     "text": [
      "Perturbing graph:  61%|██████████████████████████████████████▏                        | 461/760 [58:04<37:02,  7.43s/it]"
     ]
    },
    {
     "name": "stdout",
     "output_type": "stream",
     "text": [
      "GCN loss on unlabled data: 1.7968634366989136\n",
      "GCN acc on unlabled data: 0.6678587393831024\n",
      "attack loss: 0.9701266288757324\n"
     ]
    },
    {
     "name": "stderr",
     "output_type": "stream",
     "text": [
      "Perturbing graph:  61%|██████████████████████████████████████▎                        | 462/760 [58:11<36:48,  7.41s/it]"
     ]
    },
    {
     "name": "stdout",
     "output_type": "stream",
     "text": [
      "GCN loss on unlabled data: 1.8586422204971313\n",
      "GCN acc on unlabled data: 0.6629414394278051\n",
      "attack loss: 1.0152666568756104\n"
     ]
    },
    {
     "name": "stderr",
     "output_type": "stream",
     "text": [
      "Perturbing graph:  61%|██████████████████████████████████████▍                        | 463/760 [58:19<36:52,  7.45s/it]"
     ]
    },
    {
     "name": "stdout",
     "output_type": "stream",
     "text": [
      "GCN loss on unlabled data: 1.805035948753357\n",
      "GCN acc on unlabled data: 0.6562360303978543\n",
      "attack loss: 0.9853030443191528\n"
     ]
    },
    {
     "name": "stderr",
     "output_type": "stream",
     "text": [
      "Perturbing graph:  61%|██████████████████████████████████████▍                        | 464/760 [58:26<37:15,  7.55s/it]"
     ]
    },
    {
     "name": "stdout",
     "output_type": "stream",
     "text": [
      "GCN loss on unlabled data: 1.8575358390808105\n",
      "GCN acc on unlabled data: 0.6598122485471614\n",
      "attack loss: 1.0086230039596558\n"
     ]
    },
    {
     "name": "stderr",
     "output_type": "stream",
     "text": [
      "Perturbing graph:  61%|██████████████████████████████████████▌                        | 465/760 [58:34<36:40,  7.46s/it]"
     ]
    },
    {
     "name": "stdout",
     "output_type": "stream",
     "text": [
      "GCN loss on unlabled data: 1.841127634048462\n",
      "GCN acc on unlabled data: 0.6602592758158248\n",
      "attack loss: 0.9997434020042419\n"
     ]
    },
    {
     "name": "stderr",
     "output_type": "stream",
     "text": [
      "Perturbing graph:  61%|██████████████████████████████████████▋                        | 466/760 [58:41<36:05,  7.37s/it]"
     ]
    },
    {
     "name": "stdout",
     "output_type": "stream",
     "text": [
      "GCN loss on unlabled data: 1.8503445386886597\n",
      "GCN acc on unlabled data: 0.6562360303978543\n",
      "attack loss: 1.0023702383041382\n"
     ]
    },
    {
     "name": "stderr",
     "output_type": "stream",
     "text": [
      "Perturbing graph:  61%|██████████████████████████████████████▋                        | 467/760 [58:48<36:10,  7.41s/it]"
     ]
    },
    {
     "name": "stdout",
     "output_type": "stream",
     "text": [
      "GCN loss on unlabled data: 1.8440425395965576\n",
      "GCN acc on unlabled data: 0.6624944121591417\n",
      "attack loss: 0.9984461069107056\n"
     ]
    },
    {
     "name": "stderr",
     "output_type": "stream",
     "text": [
      "Perturbing graph:  62%|██████████████████████████████████████▊                        | 468/760 [58:56<36:29,  7.50s/it]"
     ]
    },
    {
     "name": "stdout",
     "output_type": "stream",
     "text": [
      "GCN loss on unlabled data: 1.8708161115646362\n",
      "GCN acc on unlabled data: 0.657130084935181\n",
      "attack loss: 1.012588381767273\n"
     ]
    },
    {
     "name": "stderr",
     "output_type": "stream",
     "text": [
      "Perturbing graph:  62%|██████████████████████████████████████▉                        | 469/760 [59:04<36:23,  7.50s/it]"
     ]
    },
    {
     "name": "stdout",
     "output_type": "stream",
     "text": [
      "GCN loss on unlabled data: 1.8547614812850952\n",
      "GCN acc on unlabled data: 0.6548949485918641\n",
      "attack loss: 1.0042638778686523\n"
     ]
    },
    {
     "name": "stderr",
     "output_type": "stream",
     "text": [
      "Perturbing graph:  62%|██████████████████████████████████████▉                        | 470/760 [59:11<36:25,  7.54s/it]"
     ]
    },
    {
     "name": "stdout",
     "output_type": "stream",
     "text": [
      "GCN loss on unlabled data: 1.9265345335006714\n",
      "GCN acc on unlabled data: 0.6611533303531515\n",
      "attack loss: 1.0404759645462036\n"
     ]
    },
    {
     "name": "stderr",
     "output_type": "stream",
     "text": [
      "Perturbing graph:  62%|███████████████████████████████████████                        | 471/760 [59:18<35:56,  7.46s/it]"
     ]
    },
    {
     "name": "stdout",
     "output_type": "stream",
     "text": [
      "GCN loss on unlabled data: 1.8892806768417358\n",
      "GCN acc on unlabled data: 0.6624944121591417\n",
      "attack loss: 1.018140196800232\n"
     ]
    },
    {
     "name": "stderr",
     "output_type": "stream",
     "text": [
      "Perturbing graph:  62%|███████████████████████████████████████▏                       | 472/760 [59:26<35:49,  7.46s/it]"
     ]
    },
    {
     "name": "stdout",
     "output_type": "stream",
     "text": [
      "GCN loss on unlabled data: 1.8615429401397705\n",
      "GCN acc on unlabled data: 0.6620473848904783\n",
      "attack loss: 1.0073163509368896\n"
     ]
    },
    {
     "name": "stderr",
     "output_type": "stream",
     "text": [
      "Perturbing graph:  62%|███████████████████████████████████████▏                       | 473/760 [59:33<35:34,  7.44s/it]"
     ]
    },
    {
     "name": "stdout",
     "output_type": "stream",
     "text": [
      "GCN loss on unlabled data: 1.8999062776565552\n",
      "GCN acc on unlabled data: 0.6589181940098346\n",
      "attack loss: 1.0272698402404785\n"
     ]
    },
    {
     "name": "stderr",
     "output_type": "stream",
     "text": [
      "Perturbing graph:  62%|███████████████████████████████████████▎                       | 474/760 [59:41<35:46,  7.51s/it]"
     ]
    },
    {
     "name": "stdout",
     "output_type": "stream",
     "text": [
      "GCN loss on unlabled data: 1.8935520648956299\n",
      "GCN acc on unlabled data: 0.6557890031291909\n",
      "attack loss: 1.023909330368042\n"
     ]
    },
    {
     "name": "stderr",
     "output_type": "stream",
     "text": [
      "Perturbing graph:  62%|███████████████████████████████████████▍                       | 475/760 [59:48<35:23,  7.45s/it]"
     ]
    },
    {
     "name": "stdout",
     "output_type": "stream",
     "text": [
      "GCN loss on unlabled data: 1.8275443315505981\n",
      "GCN acc on unlabled data: 0.6553419758605274\n",
      "attack loss: 0.9920259714126587\n"
     ]
    },
    {
     "name": "stderr",
     "output_type": "stream",
     "text": [
      "Perturbing graph:  63%|███████████████████████████████████████▍                       | 476/760 [59:56<35:18,  7.46s/it]"
     ]
    },
    {
     "name": "stdout",
     "output_type": "stream",
     "text": [
      "GCN loss on unlabled data: 1.919399380683899\n",
      "GCN acc on unlabled data: 0.6526598122485472\n",
      "attack loss: 1.0301642417907715\n"
     ]
    },
    {
     "name": "stderr",
     "output_type": "stream",
     "text": [
      "Perturbing graph:  63%|██████████████████████████████████████▎                      | 477/760 [1:00:03<35:20,  7.49s/it]"
     ]
    },
    {
     "name": "stdout",
     "output_type": "stream",
     "text": [
      "GCN loss on unlabled data: 1.9037941694259644\n",
      "GCN acc on unlabled data: 0.6544479213232007\n",
      "attack loss: 1.032719612121582\n"
     ]
    },
    {
     "name": "stderr",
     "output_type": "stream",
     "text": [
      "Perturbing graph:  63%|██████████████████████████████████████▎                      | 478/760 [1:00:11<34:54,  7.43s/it]"
     ]
    },
    {
     "name": "stdout",
     "output_type": "stream",
     "text": [
      "GCN loss on unlabled data: 1.8806174993515015\n",
      "GCN acc on unlabled data: 0.659365221278498\n",
      "attack loss: 1.0141669511795044\n"
     ]
    },
    {
     "name": "stderr",
     "output_type": "stream",
     "text": [
      "Perturbing graph:  63%|██████████████████████████████████████▍                      | 479/760 [1:00:18<34:55,  7.46s/it]"
     ]
    },
    {
     "name": "stdout",
     "output_type": "stream",
     "text": [
      "GCN loss on unlabled data: 1.9117193222045898\n",
      "GCN acc on unlabled data: 0.6584711667411712\n",
      "attack loss: 1.0320178270339966\n"
     ]
    },
    {
     "name": "stderr",
     "output_type": "stream",
     "text": [
      "Perturbing graph:  63%|██████████████████████████████████████▌                      | 480/760 [1:00:26<35:36,  7.63s/it]"
     ]
    },
    {
     "name": "stdout",
     "output_type": "stream",
     "text": [
      "GCN loss on unlabled data: 1.9718735218048096\n",
      "GCN acc on unlabled data: 0.6540008940545373\n",
      "attack loss: 1.065732717514038\n"
     ]
    },
    {
     "name": "stderr",
     "output_type": "stream",
     "text": [
      "Perturbing graph:  63%|██████████████████████████████████████▌                      | 481/760 [1:00:34<35:30,  7.64s/it]"
     ]
    },
    {
     "name": "stdout",
     "output_type": "stream",
     "text": [
      "GCN loss on unlabled data: 1.8425112962722778\n",
      "GCN acc on unlabled data: 0.6495306213679034\n",
      "attack loss: 0.9924679398536682\n"
     ]
    },
    {
     "name": "stderr",
     "output_type": "stream",
     "text": [
      "Perturbing graph:  63%|██████████████████████████████████████▋                      | 482/760 [1:00:41<35:12,  7.60s/it]"
     ]
    },
    {
     "name": "stdout",
     "output_type": "stream",
     "text": [
      "GCN loss on unlabled data: 1.8984792232513428\n",
      "GCN acc on unlabled data: 0.6464014304872597\n",
      "attack loss: 1.0324965715408325\n"
     ]
    },
    {
     "name": "stderr",
     "output_type": "stream",
     "text": [
      "Perturbing graph:  64%|██████████████████████████████████████▊                      | 483/760 [1:00:49<35:16,  7.64s/it]"
     ]
    },
    {
     "name": "stdout",
     "output_type": "stream",
     "text": [
      "GCN loss on unlabled data: 1.9202309846878052\n",
      "GCN acc on unlabled data: 0.6544479213232007\n",
      "attack loss: 1.0437380075454712\n"
     ]
    },
    {
     "name": "stderr",
     "output_type": "stream",
     "text": [
      "Perturbing graph:  64%|██████████████████████████████████████▊                      | 484/760 [1:00:56<34:49,  7.57s/it]"
     ]
    },
    {
     "name": "stdout",
     "output_type": "stream",
     "text": [
      "GCN loss on unlabled data: 1.9120469093322754\n",
      "GCN acc on unlabled data: 0.6477425122932499\n",
      "attack loss: 1.0385093688964844\n"
     ]
    },
    {
     "name": "stderr",
     "output_type": "stream",
     "text": [
      "Perturbing graph:  64%|██████████████████████████████████████▉                      | 485/760 [1:01:04<34:46,  7.59s/it]"
     ]
    },
    {
     "name": "stdout",
     "output_type": "stream",
     "text": [
      "GCN loss on unlabled data: 1.9555840492248535\n",
      "GCN acc on unlabled data: 0.6459544032185963\n",
      "attack loss: 1.0517230033874512\n"
     ]
    },
    {
     "name": "stderr",
     "output_type": "stream",
     "text": [
      "Perturbing graph:  64%|███████████████████████████████████████                      | 486/760 [1:01:11<34:16,  7.51s/it]"
     ]
    },
    {
     "name": "stdout",
     "output_type": "stream",
     "text": [
      "GCN loss on unlabled data: 1.9422123432159424\n",
      "GCN acc on unlabled data: 0.657130084935181\n",
      "attack loss: 1.04746675491333\n"
     ]
    },
    {
     "name": "stderr",
     "output_type": "stream",
     "text": [
      "Perturbing graph:  64%|███████████████████████████████████████                      | 487/760 [1:01:19<34:10,  7.51s/it]"
     ]
    },
    {
     "name": "stdout",
     "output_type": "stream",
     "text": [
      "GCN loss on unlabled data: 1.9725189208984375\n",
      "GCN acc on unlabled data: 0.6566830576665177\n",
      "attack loss: 1.0650941133499146\n"
     ]
    },
    {
     "name": "stderr",
     "output_type": "stream",
     "text": [
      "Perturbing graph:  64%|███████████████████████████████████████▏                     | 488/760 [1:01:26<33:57,  7.49s/it]"
     ]
    },
    {
     "name": "stdout",
     "output_type": "stream",
     "text": [
      "GCN loss on unlabled data: 1.9582492113113403\n",
      "GCN acc on unlabled data: 0.6450603486812696\n",
      "attack loss: 1.0656551122665405\n"
     ]
    },
    {
     "name": "stderr",
     "output_type": "stream",
     "text": [
      "Perturbing graph:  64%|███████████████████████████████████████▏                     | 489/760 [1:01:33<33:21,  7.39s/it]"
     ]
    },
    {
     "name": "stdout",
     "output_type": "stream",
     "text": [
      "GCN loss on unlabled data: 1.913160800933838\n",
      "GCN acc on unlabled data: 0.6499776486365668\n",
      "attack loss: 1.0374457836151123\n"
     ]
    },
    {
     "name": "stderr",
     "output_type": "stream",
     "text": [
      "Perturbing graph:  64%|███████████████████████████████████████▎                     | 490/760 [1:01:41<33:21,  7.41s/it]"
     ]
    },
    {
     "name": "stdout",
     "output_type": "stream",
     "text": [
      "GCN loss on unlabled data: 1.9858907461166382\n",
      "GCN acc on unlabled data: 0.6455073759499329\n",
      "attack loss: 1.0701631307601929\n"
     ]
    },
    {
     "name": "stderr",
     "output_type": "stream",
     "text": [
      "Perturbing graph:  65%|███████████████████████████████████████▍                     | 491/760 [1:01:49<33:27,  7.46s/it]"
     ]
    },
    {
     "name": "stdout",
     "output_type": "stream",
     "text": [
      "GCN loss on unlabled data: 1.946718454360962\n",
      "GCN acc on unlabled data: 0.6508717031738936\n",
      "attack loss: 1.0465658903121948\n"
     ]
    },
    {
     "name": "stderr",
     "output_type": "stream",
     "text": [
      "Perturbing graph:  65%|███████████████████████████████████████▍                     | 492/760 [1:01:56<33:24,  7.48s/it]"
     ]
    },
    {
     "name": "stdout",
     "output_type": "stream",
     "text": [
      "GCN loss on unlabled data: 1.9215679168701172\n",
      "GCN acc on unlabled data: 0.6490835940992401\n",
      "attack loss: 1.0383360385894775\n"
     ]
    },
    {
     "name": "stderr",
     "output_type": "stream",
     "text": [
      "Perturbing graph:  65%|███████████████████████████████████████▌                     | 493/760 [1:02:04<33:14,  7.47s/it]"
     ]
    },
    {
     "name": "stdout",
     "output_type": "stream",
     "text": [
      "GCN loss on unlabled data: 1.9883025884628296\n",
      "GCN acc on unlabled data: 0.6459544032185963\n",
      "attack loss: 1.0828793048858643\n"
     ]
    },
    {
     "name": "stderr",
     "output_type": "stream",
     "text": [
      "Perturbing graph:  65%|███████████████████████████████████████▋                     | 494/760 [1:02:11<32:49,  7.40s/it]"
     ]
    },
    {
     "name": "stdout",
     "output_type": "stream",
     "text": [
      "GCN loss on unlabled data: 1.9070196151733398\n",
      "GCN acc on unlabled data: 0.6468484577559231\n",
      "attack loss: 1.0317975282669067\n"
     ]
    },
    {
     "name": "stderr",
     "output_type": "stream",
     "text": [
      "Perturbing graph:  65%|███████████████████████████████████████▋                     | 495/760 [1:02:18<32:32,  7.37s/it]"
     ]
    },
    {
     "name": "stdout",
     "output_type": "stream",
     "text": [
      "GCN loss on unlabled data: 1.9192376136779785\n",
      "GCN acc on unlabled data: 0.6455073759499329\n",
      "attack loss: 1.0430965423583984\n"
     ]
    },
    {
     "name": "stderr",
     "output_type": "stream",
     "text": [
      "Perturbing graph:  65%|███████████████████████████████████████▊                     | 496/760 [1:02:26<32:35,  7.41s/it]"
     ]
    },
    {
     "name": "stdout",
     "output_type": "stream",
     "text": [
      "GCN loss on unlabled data: 1.9605863094329834\n",
      "GCN acc on unlabled data: 0.6508717031738936\n",
      "attack loss: 1.0607120990753174\n"
     ]
    },
    {
     "name": "stderr",
     "output_type": "stream",
     "text": [
      "Perturbing graph:  65%|███████████████████████████████████████▉                     | 497/760 [1:02:33<32:40,  7.46s/it]"
     ]
    },
    {
     "name": "stdout",
     "output_type": "stream",
     "text": [
      "GCN loss on unlabled data: 1.9491801261901855\n",
      "GCN acc on unlabled data: 0.6464014304872597\n",
      "attack loss: 1.0592955350875854\n"
     ]
    },
    {
     "name": "stderr",
     "output_type": "stream",
     "text": [
      "Perturbing graph:  66%|███████████████████████████████████████▉                     | 498/760 [1:02:41<32:36,  7.47s/it]"
     ]
    },
    {
     "name": "stdout",
     "output_type": "stream",
     "text": [
      "GCN loss on unlabled data: 1.8879703283309937\n",
      "GCN acc on unlabled data: 0.6481895395619133\n",
      "attack loss: 1.0237867832183838\n"
     ]
    },
    {
     "name": "stderr",
     "output_type": "stream",
     "text": [
      "Perturbing graph:  66%|████████████████████████████████████████                     | 499/760 [1:02:48<32:28,  7.47s/it]"
     ]
    },
    {
     "name": "stdout",
     "output_type": "stream",
     "text": [
      "GCN loss on unlabled data: 1.9651565551757812\n",
      "GCN acc on unlabled data: 0.6472954850245864\n",
      "attack loss: 1.0698693990707397\n"
     ]
    },
    {
     "name": "stderr",
     "output_type": "stream",
     "text": [
      "Perturbing graph:  66%|████████████████████████████████████████▏                    | 500/760 [1:02:56<32:21,  7.47s/it]"
     ]
    },
    {
     "name": "stdout",
     "output_type": "stream",
     "text": [
      "GCN loss on unlabled data: 1.9661123752593994\n",
      "GCN acc on unlabled data: 0.6472954850245864\n",
      "attack loss: 1.0614949464797974\n"
     ]
    },
    {
     "name": "stderr",
     "output_type": "stream",
     "text": [
      "Perturbing graph:  66%|████████████████████████████████████████▏                    | 501/760 [1:03:03<32:10,  7.45s/it]"
     ]
    },
    {
     "name": "stdout",
     "output_type": "stream",
     "text": [
      "GCN loss on unlabled data: 1.9409323930740356\n",
      "GCN acc on unlabled data: 0.6504246759052302\n",
      "attack loss: 1.0523501634597778\n"
     ]
    },
    {
     "name": "stderr",
     "output_type": "stream",
     "text": [
      "Perturbing graph:  66%|████████████████████████████████████████▎                    | 502/760 [1:03:10<31:57,  7.43s/it]"
     ]
    },
    {
     "name": "stdout",
     "output_type": "stream",
     "text": [
      "GCN loss on unlabled data: 1.9603643417358398\n",
      "GCN acc on unlabled data: 0.6352257487706751\n",
      "attack loss: 1.0600409507751465\n"
     ]
    },
    {
     "name": "stderr",
     "output_type": "stream",
     "text": [
      "Perturbing graph:  66%|███████████████████████████████████████                    | 503/760 [1:04:01<1:27:02, 20.32s/it]"
     ]
    },
    {
     "name": "stdout",
     "output_type": "stream",
     "text": [
      "GCN loss on unlabled data: 2.010561943054199\n",
      "GCN acc on unlabled data: 0.6446133214126062\n",
      "attack loss: 1.0904467105865479\n"
     ]
    },
    {
     "name": "stderr",
     "output_type": "stream",
     "text": [
      "Perturbing graph:  66%|███████████████████████████████████████▏                   | 504/760 [1:05:29<2:53:12, 40.59s/it]"
     ]
    },
    {
     "name": "stdout",
     "output_type": "stream",
     "text": [
      "GCN loss on unlabled data: 1.9887844324111938\n",
      "GCN acc on unlabled data: 0.6419311578006258\n",
      "attack loss: 1.0764433145523071\n"
     ]
    },
    {
     "name": "stderr",
     "output_type": "stream",
     "text": [
      "Perturbing graph:  66%|███████████████████████████████████████▏                   | 505/760 [1:06:52<3:47:29, 53.53s/it]"
     ]
    },
    {
     "name": "stdout",
     "output_type": "stream",
     "text": [
      "GCN loss on unlabled data: 2.002103567123413\n",
      "GCN acc on unlabled data: 0.6468484577559231\n",
      "attack loss: 1.0889347791671753\n"
     ]
    },
    {
     "name": "stderr",
     "output_type": "stream",
     "text": [
      "Perturbing graph:  67%|███████████████████████████████████████▎                   | 506/760 [1:07:49<3:50:02, 54.34s/it]"
     ]
    },
    {
     "name": "stdout",
     "output_type": "stream",
     "text": [
      "GCN loss on unlabled data: 1.9905818700790405\n",
      "GCN acc on unlabled data: 0.6468484577559231\n",
      "attack loss: 1.075024962425232\n"
     ]
    },
    {
     "name": "stderr",
     "output_type": "stream",
     "text": [
      "Perturbing graph:  67%|███████████████████████████████████████▎                   | 507/760 [1:07:56<2:49:33, 40.21s/it]"
     ]
    },
    {
     "name": "stdout",
     "output_type": "stream",
     "text": [
      "GCN loss on unlabled data: 1.9227643013000488\n",
      "GCN acc on unlabled data: 0.6437192668752794\n",
      "attack loss: 1.0426098108291626\n"
     ]
    },
    {
     "name": "stderr",
     "output_type": "stream",
     "text": [
      "Perturbing graph:  67%|███████████████████████████████████████▍                   | 508/760 [1:08:03<2:07:20, 30.32s/it]"
     ]
    },
    {
     "name": "stdout",
     "output_type": "stream",
     "text": [
      "GCN loss on unlabled data: 1.9578899145126343\n",
      "GCN acc on unlabled data: 0.6428252123379526\n",
      "attack loss: 1.063902735710144\n"
     ]
    },
    {
     "name": "stderr",
     "output_type": "stream",
     "text": [
      "Perturbing graph:  67%|███████████████████████████████████████▌                   | 509/760 [1:08:10<1:38:01, 23.43s/it]"
     ]
    },
    {
     "name": "stdout",
     "output_type": "stream",
     "text": [
      "GCN loss on unlabled data: 1.9662171602249146\n",
      "GCN acc on unlabled data: 0.6419311578006258\n",
      "attack loss: 1.0633432865142822\n"
     ]
    },
    {
     "name": "stderr",
     "output_type": "stream",
     "text": [
      "Perturbing graph:  67%|███████████████████████████████████████▌                   | 510/760 [1:08:18<1:17:57, 18.71s/it]"
     ]
    },
    {
     "name": "stdout",
     "output_type": "stream",
     "text": [
      "GCN loss on unlabled data: 1.9317412376403809\n",
      "GCN acc on unlabled data: 0.6477425122932499\n",
      "attack loss: 1.045339822769165\n"
     ]
    },
    {
     "name": "stderr",
     "output_type": "stream",
     "text": [
      "Perturbing graph:  67%|███████████████████████████████████████▋                   | 511/760 [1:08:25<1:03:14, 15.24s/it]"
     ]
    },
    {
     "name": "stdout",
     "output_type": "stream",
     "text": [
      "GCN loss on unlabled data: 2.0000314712524414\n",
      "GCN acc on unlabled data: 0.6464014304872597\n",
      "attack loss: 1.0759215354919434\n"
     ]
    },
    {
     "name": "stderr",
     "output_type": "stream",
     "text": [
      "Perturbing graph:  67%|█████████████████████████████████████████                    | 512/760 [1:08:33<53:19, 12.90s/it]"
     ]
    },
    {
     "name": "stdout",
     "output_type": "stream",
     "text": [
      "GCN loss on unlabled data: 1.9121639728546143\n",
      "GCN acc on unlabled data: 0.6405900759946357\n",
      "attack loss: 1.0274426937103271\n"
     ]
    },
    {
     "name": "stderr",
     "output_type": "stream",
     "text": [
      "Perturbing graph:  68%|█████████████████████████████████████████▏                   | 513/760 [1:08:40<46:32, 11.31s/it]"
     ]
    },
    {
     "name": "stdout",
     "output_type": "stream",
     "text": [
      "GCN loss on unlabled data: 1.9984413385391235\n",
      "GCN acc on unlabled data: 0.6410371032632991\n",
      "attack loss: 1.0812863111495972\n"
     ]
    },
    {
     "name": "stderr",
     "output_type": "stream",
     "text": [
      "Perturbing graph:  68%|█████████████████████████████████████████▎                   | 514/760 [1:08:48<41:48, 10.20s/it]"
     ]
    },
    {
     "name": "stdout",
     "output_type": "stream",
     "text": [
      "GCN loss on unlabled data: 1.9765825271606445\n",
      "GCN acc on unlabled data: 0.6414841305319624\n",
      "attack loss: 1.0603039264678955\n"
     ]
    },
    {
     "name": "stderr",
     "output_type": "stream",
     "text": [
      "Perturbing graph:  68%|█████████████████████████████████████████▎                   | 515/760 [1:08:55<38:04,  9.32s/it]"
     ]
    },
    {
     "name": "stdout",
     "output_type": "stream",
     "text": [
      "GCN loss on unlabled data: 2.0386600494384766\n",
      "GCN acc on unlabled data: 0.6414841305319624\n",
      "attack loss: 1.1021524667739868\n"
     ]
    },
    {
     "name": "stderr",
     "output_type": "stream",
     "text": [
      "Perturbing graph:  68%|█████████████████████████████████████████▍                   | 516/760 [1:09:03<35:30,  8.73s/it]"
     ]
    },
    {
     "name": "stdout",
     "output_type": "stream",
     "text": [
      "GCN loss on unlabled data: 2.050302505493164\n",
      "GCN acc on unlabled data: 0.6419311578006258\n",
      "attack loss: 1.1024562120437622\n"
     ]
    },
    {
     "name": "stderr",
     "output_type": "stream",
     "text": [
      "Perturbing graph:  68%|█████████████████████████████████████████▍                   | 517/760 [1:09:10<33:43,  8.33s/it]"
     ]
    },
    {
     "name": "stdout",
     "output_type": "stream",
     "text": [
      "GCN loss on unlabled data: 2.010667562484741\n",
      "GCN acc on unlabled data: 0.6383549396513187\n",
      "attack loss: 1.0831451416015625\n"
     ]
    },
    {
     "name": "stderr",
     "output_type": "stream",
     "text": [
      "Perturbing graph:  68%|█████████████████████████████████████████▌                   | 518/760 [1:09:17<32:25,  8.04s/it]"
     ]
    },
    {
     "name": "stdout",
     "output_type": "stream",
     "text": [
      "GCN loss on unlabled data: 1.9804049730300903\n",
      "GCN acc on unlabled data: 0.6459544032185963\n",
      "attack loss: 1.070555329322815\n"
     ]
    },
    {
     "name": "stderr",
     "output_type": "stream",
     "text": [
      "Perturbing graph:  68%|█████████████████████████████████████████▋                   | 519/760 [1:09:25<31:34,  7.86s/it]"
     ]
    },
    {
     "name": "stdout",
     "output_type": "stream",
     "text": [
      "GCN loss on unlabled data: 2.0344250202178955\n",
      "GCN acc on unlabled data: 0.6432722396066161\n",
      "attack loss: 1.0949257612228394\n"
     ]
    },
    {
     "name": "stderr",
     "output_type": "stream",
     "text": [
      "Perturbing graph:  68%|█████████████████████████████████████████▋                   | 520/760 [1:09:32<31:11,  7.80s/it]"
     ]
    },
    {
     "name": "stdout",
     "output_type": "stream",
     "text": [
      "GCN loss on unlabled data: 1.99362051486969\n",
      "GCN acc on unlabled data: 0.6432722396066161\n",
      "attack loss: 1.0836832523345947\n"
     ]
    },
    {
     "name": "stderr",
     "output_type": "stream",
     "text": [
      "Perturbing graph:  69%|█████████████████████████████████████████▊                   | 521/760 [1:09:40<31:08,  7.82s/it]"
     ]
    },
    {
     "name": "stdout",
     "output_type": "stream",
     "text": [
      "GCN loss on unlabled data: 2.002549409866333\n",
      "GCN acc on unlabled data: 0.6405900759946357\n",
      "attack loss: 1.0817670822143555\n"
     ]
    },
    {
     "name": "stderr",
     "output_type": "stream",
     "text": [
      "Perturbing graph:  69%|█████████████████████████████████████████▉                   | 522/760 [1:09:48<30:54,  7.79s/it]"
     ]
    },
    {
     "name": "stdout",
     "output_type": "stream",
     "text": [
      "GCN loss on unlabled data: 2.034459352493286\n",
      "GCN acc on unlabled data: 0.6347787215020116\n",
      "attack loss: 1.0988361835479736\n"
     ]
    },
    {
     "name": "stderr",
     "output_type": "stream",
     "text": [
      "Perturbing graph:  69%|█████████████████████████████████████████▉                   | 523/760 [1:09:56<30:32,  7.73s/it]"
     ]
    },
    {
     "name": "stdout",
     "output_type": "stream",
     "text": [
      "GCN loss on unlabled data: 1.9489017724990845\n",
      "GCN acc on unlabled data: 0.6414841305319624\n",
      "attack loss: 1.055464744567871\n"
     ]
    },
    {
     "name": "stderr",
     "output_type": "stream",
     "text": [
      "Perturbing graph:  69%|██████████████████████████████████████████                   | 524/760 [1:10:03<30:05,  7.65s/it]"
     ]
    },
    {
     "name": "stdout",
     "output_type": "stream",
     "text": [
      "GCN loss on unlabled data: 2.004089832305908\n",
      "GCN acc on unlabled data: 0.6401430487259723\n",
      "attack loss: 1.0787639617919922\n"
     ]
    },
    {
     "name": "stderr",
     "output_type": "stream",
     "text": [
      "Perturbing graph:  69%|██████████████████████████████████████████▏                  | 525/760 [1:10:11<29:51,  7.62s/it]"
     ]
    },
    {
     "name": "stdout",
     "output_type": "stream",
     "text": [
      "GCN loss on unlabled data: 2.0609819889068604\n",
      "GCN acc on unlabled data: 0.6401430487259723\n",
      "attack loss: 1.1104731559753418\n"
     ]
    },
    {
     "name": "stderr",
     "output_type": "stream",
     "text": [
      "Perturbing graph:  69%|██████████████████████████████████████████▏                  | 526/760 [1:10:18<29:38,  7.60s/it]"
     ]
    },
    {
     "name": "stdout",
     "output_type": "stream",
     "text": [
      "GCN loss on unlabled data: 2.058077573776245\n",
      "GCN acc on unlabled data: 0.6401430487259723\n",
      "attack loss: 1.1183501482009888\n"
     ]
    },
    {
     "name": "stderr",
     "output_type": "stream",
     "text": [
      "Perturbing graph:  69%|██████████████████████████████████████████▎                  | 527/760 [1:10:26<29:15,  7.53s/it]"
     ]
    },
    {
     "name": "stdout",
     "output_type": "stream",
     "text": [
      "GCN loss on unlabled data: 2.0269219875335693\n",
      "GCN acc on unlabled data: 0.6334376396960214\n",
      "attack loss: 1.096279501914978\n"
     ]
    },
    {
     "name": "stderr",
     "output_type": "stream",
     "text": [
      "Perturbing graph:  69%|██████████████████████████████████████████▍                  | 528/760 [1:10:33<29:10,  7.54s/it]"
     ]
    },
    {
     "name": "stdout",
     "output_type": "stream",
     "text": [
      "GCN loss on unlabled data: 2.0584442615509033\n",
      "GCN acc on unlabled data: 0.6338846669646848\n",
      "attack loss: 1.108743667602539\n"
     ]
    },
    {
     "name": "stderr",
     "output_type": "stream",
     "text": [
      "Perturbing graph:  70%|██████████████████████████████████████████▍                  | 529/760 [1:10:41<29:37,  7.69s/it]"
     ]
    },
    {
     "name": "stdout",
     "output_type": "stream",
     "text": [
      "GCN loss on unlabled data: 2.054992437362671\n",
      "GCN acc on unlabled data: 0.6303084488153777\n",
      "attack loss: 1.1060782670974731\n"
     ]
    },
    {
     "name": "stderr",
     "output_type": "stream",
     "text": [
      "Perturbing graph:  70%|██████████████████████████████████████████▌                  | 530/760 [1:10:49<29:17,  7.64s/it]"
     ]
    },
    {
     "name": "stdout",
     "output_type": "stream",
     "text": [
      "GCN loss on unlabled data: 2.02266263961792\n",
      "GCN acc on unlabled data: 0.6338846669646848\n",
      "attack loss: 1.0952602624893188\n"
     ]
    },
    {
     "name": "stderr",
     "output_type": "stream",
     "text": [
      "Perturbing graph:  70%|██████████████████████████████████████████▌                  | 531/760 [1:10:56<28:51,  7.56s/it]"
     ]
    },
    {
     "name": "stdout",
     "output_type": "stream",
     "text": [
      "GCN loss on unlabled data: 2.0018160343170166\n",
      "GCN acc on unlabled data: 0.6356727760393384\n",
      "attack loss: 1.0886725187301636\n"
     ]
    },
    {
     "name": "stderr",
     "output_type": "stream",
     "text": [
      "Perturbing graph:  70%|██████████████████████████████████████████▋                  | 532/760 [1:11:04<29:40,  7.81s/it]"
     ]
    },
    {
     "name": "stdout",
     "output_type": "stream",
     "text": [
      "GCN loss on unlabled data: 2.026994466781616\n",
      "GCN acc on unlabled data: 0.6316495306213679\n",
      "attack loss: 1.091071367263794\n"
     ]
    },
    {
     "name": "stderr",
     "output_type": "stream",
     "text": [
      "Perturbing graph:  70%|██████████████████████████████████████████▊                  | 533/760 [1:11:12<29:22,  7.76s/it]"
     ]
    },
    {
     "name": "stdout",
     "output_type": "stream",
     "text": [
      "GCN loss on unlabled data: 2.0351104736328125\n",
      "GCN acc on unlabled data: 0.6334376396960214\n",
      "attack loss: 1.1017645597457886\n"
     ]
    },
    {
     "name": "stderr",
     "output_type": "stream",
     "text": [
      "Perturbing graph:  70%|██████████████████████████████████████████▊                  | 534/760 [1:11:19<28:50,  7.66s/it]"
     ]
    },
    {
     "name": "stdout",
     "output_type": "stream",
     "text": [
      "GCN loss on unlabled data: 2.0950844287872314\n",
      "GCN acc on unlabled data: 0.6325435851586947\n",
      "attack loss: 1.128785490989685\n"
     ]
    },
    {
     "name": "stderr",
     "output_type": "stream",
     "text": [
      "Perturbing graph:  70%|██████████████████████████████████████████▉                  | 535/760 [1:11:27<28:16,  7.54s/it]"
     ]
    },
    {
     "name": "stdout",
     "output_type": "stream",
     "text": [
      "GCN loss on unlabled data: 2.102936267852783\n",
      "GCN acc on unlabled data: 0.6338846669646848\n",
      "attack loss: 1.1381700038909912\n"
     ]
    },
    {
     "name": "stderr",
     "output_type": "stream",
     "text": [
      "Perturbing graph:  71%|███████████████████████████████████████████                  | 536/760 [1:11:34<27:38,  7.40s/it]"
     ]
    },
    {
     "name": "stdout",
     "output_type": "stream",
     "text": [
      "GCN loss on unlabled data: 2.133460283279419\n",
      "GCN acc on unlabled data: 0.6267322306660706\n",
      "attack loss: 1.1478878259658813\n"
     ]
    },
    {
     "name": "stderr",
     "output_type": "stream",
     "text": [
      "Perturbing graph:  71%|███████████████████████████████████████████                  | 537/760 [1:11:41<27:27,  7.39s/it]"
     ]
    },
    {
     "name": "stdout",
     "output_type": "stream",
     "text": [
      "GCN loss on unlabled data: 2.102069854736328\n",
      "GCN acc on unlabled data: 0.6334376396960214\n",
      "attack loss: 1.1319351196289062\n"
     ]
    },
    {
     "name": "stderr",
     "output_type": "stream",
     "text": [
      "Perturbing graph:  71%|███████████████████████████████████████████▏                 | 538/760 [1:11:48<27:04,  7.32s/it]"
     ]
    },
    {
     "name": "stdout",
     "output_type": "stream",
     "text": [
      "GCN loss on unlabled data: 2.0215845108032227\n",
      "GCN acc on unlabled data: 0.6356727760393384\n",
      "attack loss: 1.0965708494186401\n"
     ]
    },
    {
     "name": "stderr",
     "output_type": "stream",
     "text": [
      "Perturbing graph:  71%|███████████████████████████████████████████▎                 | 539/760 [1:11:55<26:38,  7.23s/it]"
     ]
    },
    {
     "name": "stdout",
     "output_type": "stream",
     "text": [
      "GCN loss on unlabled data: 2.062472105026245\n",
      "GCN acc on unlabled data: 0.6312025033527046\n",
      "attack loss: 1.1074367761611938\n"
     ]
    },
    {
     "name": "stderr",
     "output_type": "stream",
     "text": [
      "Perturbing graph:  71%|███████████████████████████████████████████▎                 | 540/760 [1:12:03<26:27,  7.22s/it]"
     ]
    },
    {
     "name": "stdout",
     "output_type": "stream",
     "text": [
      "GCN loss on unlabled data: 2.0126121044158936\n",
      "GCN acc on unlabled data: 0.6325435851586947\n",
      "attack loss: 1.089686632156372\n"
     ]
    },
    {
     "name": "stderr",
     "output_type": "stream",
     "text": [
      "Perturbing graph:  71%|███████████████████████████████████████████▍                 | 541/760 [1:12:10<26:50,  7.35s/it]"
     ]
    },
    {
     "name": "stdout",
     "output_type": "stream",
     "text": [
      "GCN loss on unlabled data: 2.1009514331817627\n",
      "GCN acc on unlabled data: 0.6379079123826553\n",
      "attack loss: 1.1261273622512817\n"
     ]
    },
    {
     "name": "stderr",
     "output_type": "stream",
     "text": [
      "Perturbing graph:  71%|███████████████████████████████████████████▌                 | 542/760 [1:12:19<28:23,  7.82s/it]"
     ]
    },
    {
     "name": "stdout",
     "output_type": "stream",
     "text": [
      "GCN loss on unlabled data: 2.014500141143799\n",
      "GCN acc on unlabled data: 0.6320965578900313\n",
      "attack loss: 1.0862183570861816\n"
     ]
    },
    {
     "name": "stderr",
     "output_type": "stream",
     "text": [
      "Perturbing graph:  71%|███████████████████████████████████████████▌                 | 543/760 [1:12:27<28:25,  7.86s/it]"
     ]
    },
    {
     "name": "stdout",
     "output_type": "stream",
     "text": [
      "GCN loss on unlabled data: 1.994088053703308\n",
      "GCN acc on unlabled data: 0.6276262852033974\n",
      "attack loss: 1.0832490921020508\n"
     ]
    },
    {
     "name": "stderr",
     "output_type": "stream",
     "text": [
      "Perturbing graph:  72%|███████████████████████████████████████████▋                 | 544/760 [1:12:35<28:37,  7.95s/it]"
     ]
    },
    {
     "name": "stdout",
     "output_type": "stream",
     "text": [
      "GCN loss on unlabled data: 2.093841314315796\n",
      "GCN acc on unlabled data: 0.6262852033974072\n",
      "attack loss: 1.135502576828003\n"
     ]
    },
    {
     "name": "stderr",
     "output_type": "stream",
     "text": [
      "Perturbing graph:  72%|███████████████████████████████████████████▋                 | 545/760 [1:12:44<29:25,  8.21s/it]"
     ]
    },
    {
     "name": "stdout",
     "output_type": "stream",
     "text": [
      "GCN loss on unlabled data: 2.143071174621582\n",
      "GCN acc on unlabled data: 0.6280733124720608\n",
      "attack loss: 1.1532763242721558\n"
     ]
    },
    {
     "name": "stderr",
     "output_type": "stream",
     "text": [
      "Perturbing graph:  72%|███████████████████████████████████████████▊                 | 546/760 [1:12:52<29:12,  8.19s/it]"
     ]
    },
    {
     "name": "stdout",
     "output_type": "stream",
     "text": [
      "GCN loss on unlabled data: 2.1019227504730225\n",
      "GCN acc on unlabled data: 0.6316495306213679\n",
      "attack loss: 1.1423124074935913\n"
     ]
    },
    {
     "name": "stderr",
     "output_type": "stream",
     "text": [
      "Perturbing graph:  72%|███████████████████████████████████████████▉                 | 547/760 [1:13:00<28:57,  8.16s/it]"
     ]
    },
    {
     "name": "stdout",
     "output_type": "stream",
     "text": [
      "GCN loss on unlabled data: 2.09627366065979\n",
      "GCN acc on unlabled data: 0.6236030397854269\n",
      "attack loss: 1.13285493850708\n"
     ]
    },
    {
     "name": "stderr",
     "output_type": "stream",
     "text": [
      "Perturbing graph:  72%|███████████████████████████████████████████▉                 | 548/760 [1:13:08<28:02,  7.93s/it]"
     ]
    },
    {
     "name": "stdout",
     "output_type": "stream",
     "text": [
      "GCN loss on unlabled data: 2.0679731369018555\n",
      "GCN acc on unlabled data: 0.6240500670540903\n",
      "attack loss: 1.1247516870498657\n"
     ]
    },
    {
     "name": "stderr",
     "output_type": "stream",
     "text": [
      "Perturbing graph:  72%|████████████████████████████████████████████                 | 549/760 [1:13:17<29:07,  8.28s/it]"
     ]
    },
    {
     "name": "stdout",
     "output_type": "stream",
     "text": [
      "GCN loss on unlabled data: 2.095151662826538\n",
      "GCN acc on unlabled data: 0.6240500670540903\n",
      "attack loss: 1.128206491470337\n"
     ]
    },
    {
     "name": "stderr",
     "output_type": "stream",
     "text": [
      "Perturbing graph:  72%|████████████████████████████████████████████▏                | 550/760 [1:13:24<28:24,  8.12s/it]"
     ]
    },
    {
     "name": "stdout",
     "output_type": "stream",
     "text": [
      "GCN loss on unlabled data: 1.9945850372314453\n",
      "GCN acc on unlabled data: 0.629414394278051\n",
      "attack loss: 1.0814390182495117\n"
     ]
    },
    {
     "name": "stderr",
     "output_type": "stream",
     "text": [
      "Perturbing graph:  72%|████████████████████████████████████████████▏                | 551/760 [1:13:32<27:50,  7.99s/it]"
     ]
    },
    {
     "name": "stdout",
     "output_type": "stream",
     "text": [
      "GCN loss on unlabled data: 2.082380771636963\n",
      "GCN acc on unlabled data: 0.629414394278051\n",
      "attack loss: 1.1244350671768188\n"
     ]
    },
    {
     "name": "stderr",
     "output_type": "stream",
     "text": [
      "Perturbing graph:  73%|████████████████████████████████████████████▎                | 552/760 [1:13:40<27:08,  7.83s/it]"
     ]
    },
    {
     "name": "stdout",
     "output_type": "stream",
     "text": [
      "GCN loss on unlabled data: 2.0643861293792725\n",
      "GCN acc on unlabled data: 0.6289673670093876\n",
      "attack loss: 1.1169806718826294\n"
     ]
    },
    {
     "name": "stderr",
     "output_type": "stream",
     "text": [
      "Perturbing graph:  73%|████████████████████████████████████████████▍                | 553/760 [1:13:47<26:39,  7.73s/it]"
     ]
    },
    {
     "name": "stdout",
     "output_type": "stream",
     "text": [
      "GCN loss on unlabled data: 2.175445318222046\n",
      "GCN acc on unlabled data: 0.6267322306660706\n",
      "attack loss: 1.175394058227539\n"
     ]
    },
    {
     "name": "stderr",
     "output_type": "stream",
     "text": [
      "Perturbing graph:  73%|████████████████████████████████████████████▍                | 554/760 [1:13:55<26:53,  7.83s/it]"
     ]
    },
    {
     "name": "stdout",
     "output_type": "stream",
     "text": [
      "GCN loss on unlabled data: 2.1234028339385986\n",
      "GCN acc on unlabled data: 0.6303084488153777\n",
      "attack loss: 1.1459206342697144\n"
     ]
    },
    {
     "name": "stderr",
     "output_type": "stream",
     "text": [
      "Perturbing graph:  73%|████████████████████████████████████████████▌                | 555/760 [1:14:03<26:59,  7.90s/it]"
     ]
    },
    {
     "name": "stdout",
     "output_type": "stream",
     "text": [
      "GCN loss on unlabled data: 2.011925220489502\n",
      "GCN acc on unlabled data: 0.6312025033527046\n",
      "attack loss: 1.0905414819717407\n"
     ]
    },
    {
     "name": "stderr",
     "output_type": "stream",
     "text": [
      "Perturbing graph:  73%|████████████████████████████████████████████▋                | 556/760 [1:14:11<26:55,  7.92s/it]"
     ]
    },
    {
     "name": "stdout",
     "output_type": "stream",
     "text": [
      "GCN loss on unlabled data: 2.147007465362549\n",
      "GCN acc on unlabled data: 0.6285203397407242\n",
      "attack loss: 1.1659828424453735\n"
     ]
    },
    {
     "name": "stderr",
     "output_type": "stream",
     "text": [
      "Perturbing graph:  73%|████████████████████████████████████████████▋                | 557/760 [1:14:19<26:16,  7.77s/it]"
     ]
    },
    {
     "name": "stdout",
     "output_type": "stream",
     "text": [
      "GCN loss on unlabled data: 2.106343984603882\n",
      "GCN acc on unlabled data: 0.629414394278051\n",
      "attack loss: 1.1450632810592651\n"
     ]
    },
    {
     "name": "stderr",
     "output_type": "stream",
     "text": [
      "Perturbing graph:  73%|████████████████████████████████████████████▊                | 558/760 [1:14:26<26:02,  7.73s/it]"
     ]
    },
    {
     "name": "stdout",
     "output_type": "stream",
     "text": [
      "GCN loss on unlabled data: 2.0480167865753174\n",
      "GCN acc on unlabled data: 0.6307554760840411\n",
      "attack loss: 1.112955093383789\n"
     ]
    },
    {
     "name": "stderr",
     "output_type": "stream",
     "text": [
      "Perturbing graph:  74%|████████████████████████████████████████████▊                | 559/760 [1:14:35<26:53,  8.03s/it]"
     ]
    },
    {
     "name": "stdout",
     "output_type": "stream",
     "text": [
      "GCN loss on unlabled data: 2.1122639179229736\n",
      "GCN acc on unlabled data: 0.6267322306660706\n",
      "attack loss: 1.1451777219772339\n"
     ]
    },
    {
     "name": "stderr",
     "output_type": "stream",
     "text": [
      "Perturbing graph:  74%|████████████████████████████████████████████▉                | 560/760 [1:14:44<27:21,  8.21s/it]"
     ]
    },
    {
     "name": "stdout",
     "output_type": "stream",
     "text": [
      "GCN loss on unlabled data: 2.0870189666748047\n",
      "GCN acc on unlabled data: 0.6271792579347341\n",
      "attack loss: 1.1266120672225952\n"
     ]
    },
    {
     "name": "stderr",
     "output_type": "stream",
     "text": [
      "Perturbing graph:  74%|█████████████████████████████████████████████                | 561/760 [1:14:52<27:32,  8.30s/it]"
     ]
    },
    {
     "name": "stdout",
     "output_type": "stream",
     "text": [
      "GCN loss on unlabled data: 2.0174953937530518\n",
      "GCN acc on unlabled data: 0.6267322306660706\n",
      "attack loss: 1.0954272747039795\n"
     ]
    },
    {
     "name": "stderr",
     "output_type": "stream",
     "text": [
      "Perturbing graph:  74%|█████████████████████████████████████████████                | 562/760 [1:15:00<27:11,  8.24s/it]"
     ]
    },
    {
     "name": "stdout",
     "output_type": "stream",
     "text": [
      "GCN loss on unlabled data: 2.0990569591522217\n",
      "GCN acc on unlabled data: 0.6240500670540903\n",
      "attack loss: 1.1303588151931763\n"
     ]
    },
    {
     "name": "stderr",
     "output_type": "stream",
     "text": [
      "Perturbing graph:  74%|█████████████████████████████████████████████▏               | 563/760 [1:15:08<26:58,  8.22s/it]"
     ]
    },
    {
     "name": "stdout",
     "output_type": "stream",
     "text": [
      "GCN loss on unlabled data: 2.0912868976593018\n",
      "GCN acc on unlabled data: 0.6329906124273581\n",
      "attack loss: 1.1346970796585083\n"
     ]
    },
    {
     "name": "stderr",
     "output_type": "stream",
     "text": [
      "Perturbing graph:  74%|█████████████████████████████████████████████▎               | 564/760 [1:15:42<51:22, 15.73s/it]"
     ]
    },
    {
     "name": "stdout",
     "output_type": "stream",
     "text": [
      "GCN loss on unlabled data: 2.013350248336792\n",
      "GCN acc on unlabled data: 0.6249441215914171\n",
      "attack loss: 1.0972057580947876\n"
     ]
    },
    {
     "name": "stderr",
     "output_type": "stream",
     "text": [
      "Perturbing graph:  74%|█████████████████████████████████████████████▎               | 565/760 [1:15:49<43:16, 13.31s/it]"
     ]
    },
    {
     "name": "stdout",
     "output_type": "stream",
     "text": [
      "GCN loss on unlabled data: 2.0305192470550537\n",
      "GCN acc on unlabled data: 0.62136790344211\n",
      "attack loss: 1.0996792316436768\n"
     ]
    },
    {
     "name": "stderr",
     "output_type": "stream",
     "text": [
      "Perturbing graph:  74%|█████████████████████████████████████████████▍               | 566/760 [1:15:57<37:23, 11.56s/it]"
     ]
    },
    {
     "name": "stdout",
     "output_type": "stream",
     "text": [
      "GCN loss on unlabled data: 2.0676968097686768\n",
      "GCN acc on unlabled data: 0.6289673670093876\n",
      "attack loss: 1.1201415061950684\n"
     ]
    },
    {
     "name": "stderr",
     "output_type": "stream",
     "text": [
      "Perturbing graph:  75%|█████████████████████████████████████████████▌               | 567/760 [1:16:04<33:13, 10.33s/it]"
     ]
    },
    {
     "name": "stdout",
     "output_type": "stream",
     "text": [
      "GCN loss on unlabled data: 2.003180503845215\n",
      "GCN acc on unlabled data: 0.6267322306660706\n",
      "attack loss: 1.0970995426177979\n"
     ]
    },
    {
     "name": "stderr",
     "output_type": "stream",
     "text": [
      "Perturbing graph:  75%|█████████████████████████████████████████████▌               | 568/760 [1:16:12<30:36,  9.56s/it]"
     ]
    },
    {
     "name": "stdout",
     "output_type": "stream",
     "text": [
      "GCN loss on unlabled data: 2.093205213546753\n",
      "GCN acc on unlabled data: 0.6177916852928028\n",
      "attack loss: 1.134497880935669\n"
     ]
    },
    {
     "name": "stderr",
     "output_type": "stream",
     "text": [
      "Perturbing graph:  75%|█████████████████████████████████████████████▋               | 569/760 [1:16:20<29:03,  9.13s/it]"
     ]
    },
    {
     "name": "stdout",
     "output_type": "stream",
     "text": [
      "GCN loss on unlabled data: 2.14056396484375\n",
      "GCN acc on unlabled data: 0.6271792579347341\n",
      "attack loss: 1.1652190685272217\n"
     ]
    },
    {
     "name": "stderr",
     "output_type": "stream",
     "text": [
      "Perturbing graph:  75%|█████████████████████████████████████████████▊               | 570/760 [1:16:28<27:23,  8.65s/it]"
     ]
    },
    {
     "name": "stdout",
     "output_type": "stream",
     "text": [
      "GCN loss on unlabled data: 2.069171190261841\n",
      "GCN acc on unlabled data: 0.6285203397407242\n",
      "attack loss: 1.1310380697250366\n"
     ]
    },
    {
     "name": "stderr",
     "output_type": "stream",
     "text": [
      "Perturbing graph:  75%|█████████████████████████████████████████████▊               | 571/760 [1:16:36<26:46,  8.50s/it]"
     ]
    },
    {
     "name": "stdout",
     "output_type": "stream",
     "text": [
      "GCN loss on unlabled data: 2.0619330406188965\n",
      "GCN acc on unlabled data: 0.6253911488600805\n",
      "attack loss: 1.1268149614334106\n"
     ]
    },
    {
     "name": "stderr",
     "output_type": "stream",
     "text": [
      "Perturbing graph:  75%|█████████████████████████████████████████████▉               | 572/760 [1:16:44<26:06,  8.33s/it]"
     ]
    },
    {
     "name": "stdout",
     "output_type": "stream",
     "text": [
      "GCN loss on unlabled data: 2.088679075241089\n",
      "GCN acc on unlabled data: 0.6262852033974072\n",
      "attack loss: 1.1434850692749023\n"
     ]
    },
    {
     "name": "stderr",
     "output_type": "stream",
     "text": [
      "Perturbing graph:  75%|█████████████████████████████████████████████▉               | 573/760 [1:16:52<25:23,  8.15s/it]"
     ]
    },
    {
     "name": "stdout",
     "output_type": "stream",
     "text": [
      "GCN loss on unlabled data: 2.1060571670532227\n",
      "GCN acc on unlabled data: 0.6298614215467143\n",
      "attack loss: 1.1433147192001343\n"
     ]
    },
    {
     "name": "stderr",
     "output_type": "stream",
     "text": [
      "Perturbing graph:  76%|██████████████████████████████████████████████               | 574/760 [1:16:59<24:59,  8.06s/it]"
     ]
    },
    {
     "name": "stdout",
     "output_type": "stream",
     "text": [
      "GCN loss on unlabled data: 2.1361098289489746\n",
      "GCN acc on unlabled data: 0.6186857398301296\n",
      "attack loss: 1.1604702472686768\n"
     ]
    },
    {
     "name": "stderr",
     "output_type": "stream",
     "text": [
      "Perturbing graph:  76%|██████████████████████████████████████████████▏              | 575/760 [1:17:07<24:34,  7.97s/it]"
     ]
    },
    {
     "name": "stdout",
     "output_type": "stream",
     "text": [
      "GCN loss on unlabled data: 2.1906278133392334\n",
      "GCN acc on unlabled data: 0.6312025033527046\n",
      "attack loss: 1.1897872686386108\n"
     ]
    },
    {
     "name": "stderr",
     "output_type": "stream",
     "text": [
      "Perturbing graph:  76%|██████████████████████████████████████████████▏              | 576/760 [1:17:15<24:06,  7.86s/it]"
     ]
    },
    {
     "name": "stdout",
     "output_type": "stream",
     "text": [
      "GCN loss on unlabled data: 2.099177122116089\n",
      "GCN acc on unlabled data: 0.6227089852481001\n",
      "attack loss: 1.146119475364685\n"
     ]
    },
    {
     "name": "stderr",
     "output_type": "stream",
     "text": [
      "Perturbing graph:  76%|██████████████████████████████████████████████▎              | 577/760 [1:17:23<24:03,  7.89s/it]"
     ]
    },
    {
     "name": "stdout",
     "output_type": "stream",
     "text": [
      "GCN loss on unlabled data: 2.130765914916992\n",
      "GCN acc on unlabled data: 0.6218149307107733\n",
      "attack loss: 1.1610749959945679\n"
     ]
    },
    {
     "name": "stderr",
     "output_type": "stream",
     "text": [
      "Perturbing graph:  76%|██████████████████████████████████████████████▍              | 578/760 [1:17:31<23:59,  7.91s/it]"
     ]
    },
    {
     "name": "stdout",
     "output_type": "stream",
     "text": [
      "GCN loss on unlabled data: 2.0918922424316406\n",
      "GCN acc on unlabled data: 0.6173446580241395\n",
      "attack loss: 1.1400935649871826\n"
     ]
    },
    {
     "name": "stderr",
     "output_type": "stream",
     "text": [
      "Perturbing graph:  76%|██████████████████████████████████████████████▍              | 579/760 [1:17:38<23:20,  7.74s/it]"
     ]
    },
    {
     "name": "stdout",
     "output_type": "stream",
     "text": [
      "GCN loss on unlabled data: 2.0524404048919678\n",
      "GCN acc on unlabled data: 0.6280733124720608\n",
      "attack loss: 1.119294285774231\n"
     ]
    },
    {
     "name": "stderr",
     "output_type": "stream",
     "text": [
      "Perturbing graph:  76%|██████████████████████████████████████████████▌              | 580/760 [1:17:46<23:11,  7.73s/it]"
     ]
    },
    {
     "name": "stdout",
     "output_type": "stream",
     "text": [
      "GCN loss on unlabled data: 2.200953245162964\n",
      "GCN acc on unlabled data: 0.6222619579794367\n",
      "attack loss: 1.1901408433914185\n"
     ]
    },
    {
     "name": "stderr",
     "output_type": "stream",
     "text": [
      "Perturbing graph:  76%|██████████████████████████████████████████████▋              | 581/760 [1:17:53<22:52,  7.67s/it]"
     ]
    },
    {
     "name": "stdout",
     "output_type": "stream",
     "text": [
      "GCN loss on unlabled data: 2.1367478370666504\n",
      "GCN acc on unlabled data: 0.6253911488600805\n",
      "attack loss: 1.1577531099319458\n"
     ]
    },
    {
     "name": "stderr",
     "output_type": "stream",
     "text": [
      "Perturbing graph:  77%|██████████████████████████████████████████████▋              | 582/760 [1:18:01<22:49,  7.69s/it]"
     ]
    },
    {
     "name": "stdout",
     "output_type": "stream",
     "text": [
      "GCN loss on unlabled data: 2.122929096221924\n",
      "GCN acc on unlabled data: 0.6244970943227537\n",
      "attack loss: 1.1584808826446533\n"
     ]
    },
    {
     "name": "stderr",
     "output_type": "stream",
     "text": [
      "Perturbing graph:  77%|██████████████████████████████████████████████▊              | 583/760 [1:18:09<23:06,  7.83s/it]"
     ]
    },
    {
     "name": "stdout",
     "output_type": "stream",
     "text": [
      "GCN loss on unlabled data: 2.167794704437256\n",
      "GCN acc on unlabled data: 0.62136790344211\n",
      "attack loss: 1.1851763725280762\n"
     ]
    },
    {
     "name": "stderr",
     "output_type": "stream",
     "text": [
      "Perturbing graph:  77%|██████████████████████████████████████████████▊              | 584/760 [1:18:17<22:57,  7.83s/it]"
     ]
    },
    {
     "name": "stdout",
     "output_type": "stream",
     "text": [
      "GCN loss on unlabled data: 2.1868813037872314\n",
      "GCN acc on unlabled data: 0.6227089852481001\n",
      "attack loss: 1.1912404298782349\n"
     ]
    },
    {
     "name": "stderr",
     "output_type": "stream",
     "text": [
      "Perturbing graph:  77%|██████████████████████████████████████████████▉              | 585/760 [1:18:24<22:30,  7.72s/it]"
     ]
    },
    {
     "name": "stdout",
     "output_type": "stream",
     "text": [
      "GCN loss on unlabled data: 2.146125316619873\n",
      "GCN acc on unlabled data: 0.6177916852928028\n",
      "attack loss: 1.166797399520874\n"
     ]
    }
   ],
   "source": [
    "import torch\n",
    "import numpy as np\n",
    "import scipy.sparse as sp\n",
    "import gc\n",
    "\n",
    "from deeprobust.graph.data import Dataset\n",
    "from deeprobust.graph.defense import GCN\n",
    "from deeprobust.graph.global_attack import Metattack\n",
    "from deeprobust.graph.utils import normalize_adj, sparse_mx_to_torch_sparse_tensor\n",
    "\n",
    "# Device setup\n",
    "device = torch.device(\"cpu\")\n",
    "\n",
    "# 1. Load the Cora dataset\n",
    "data = Dataset(root='/tmp/', name='cora', setting='nettack')\n",
    "adj, features, labels = data.adj, data.features, data.labels\n",
    "idx_train, idx_val, idx_test = data.idx_train, data.idx_val, data.idx_test\n",
    "idx_unlabeled = np.union1d(idx_val, idx_test)\n",
    "\n",
    "# 2. Train GCN on the clean graph\n",
    "model_clean = GCN(nfeat=features.shape[1],\n",
    "                  nclass=labels.max().item() + 1,\n",
    "                  nhid=64,\n",
    "                  with_relu=False,\n",
    "                  dropout=0.5,\n",
    "                  device=device)\n",
    "model_clean = model_clean.to(device)\n",
    "model_clean.fit(features, adj, labels, idx_train)\n",
    "\n",
    "# 3. Ensure features and labels are PyTorch tensors on GPU for inference\n",
    "if isinstance(features, np.ndarray):\n",
    "    features = torch.FloatTensor(features).to(device)\n",
    "elif not isinstance(features, torch.Tensor):\n",
    "    features = torch.FloatTensor(features.A).to(device)\n",
    "else:\n",
    "    features = features.to(device)\n",
    "\n",
    "if isinstance(labels, np.ndarray):\n",
    "    labels = torch.LongTensor(labels).to(device)\n",
    "\n",
    "# 4. Evaluate accuracy on the clean graph\n",
    "adj_norm = normalize_adj(adj)\n",
    "adj_tensor = sparse_mx_to_torch_sparse_tensor(adj_norm).to(device)\n",
    "\n",
    "model_clean.eval()\n",
    "output_clean = model_clean.predict(features, adj_tensor)\n",
    "preds_clean = output_clean.argmax(dim=1)\n",
    "\n",
    "correct_clean = preds_clean[idx_test].eq(labels[idx_test]).sum().item()\n",
    "acc_clean = correct_clean / len(idx_test)\n",
    "print(f\"✅ Clean Graph Test Accuracy: {acc_clean:.4f}\")\n",
    "\n",
    "gc.collect()\n",
    "\n",
    "# 5. Prepare for Metattack (move inputs to CPU)\n",
    "features_cpu = features.cpu()\n",
    "labels_cpu = labels.cpu()\n",
    "\n",
    "gc.collect()\n",
    "\n",
    "# 6. Apply evasion attack (perturb structure after training)\n",
    "attack_model = Metattack(model=model_clean,\n",
    "                         nnodes=adj.shape[0],\n",
    "                         feature_shape=features.shape,\n",
    "                         attack_structure=True,\n",
    "                         attack_features=False,\n",
    "                         device=device)\n",
    "attack_model = attack_model.to(device)\n",
    "\n",
    "perturbations = int(0.15 * (adj.sum() // 2))  # 5% of total edges\n",
    "attack_model.attack(features_cpu, adj, labels_cpu, idx_train, idx_unlabeled, perturbations, ll_constraint=False)\n",
    "modified_adj = attack_model.modified_adj\n",
    "\n",
    "gc.collect()\n",
    "\n",
    "# 7. Normalize and convert modified adj to PyTorch sparse tensor\n",
    "if isinstance(modified_adj, torch.Tensor):\n",
    "    modified_adj = modified_adj.cpu().numpy()\n",
    "    modified_adj = sp.csr_matrix(modified_adj)\n",
    "\n",
    "modified_adj_norm = normalize_adj(modified_adj)\n",
    "modified_adj_tensor = sparse_mx_to_torch_sparse_tensor(modified_adj_norm).to(device)\n",
    "\n",
    "gc.collect()\n",
    "\n",
    "# 8. Evaluate model on the attacked graph\n",
    "output_adv = model_clean.predict(features, modified_adj_tensor)\n",
    "preds_adv = output_adv.argmax(dim=1)\n",
    "\n",
    "correct_adv = preds_adv[idx_test].eq(labels[idx_test]).sum().item()\n",
    "acc_evasion = correct_adv / len(idx_test)\n",
    "print(f\"🧨 Evasion Attack Test Accuracy: {acc_evasion:.4f}\")\n",
    "\n",
    "# 9. Compute and report accuracy drop\n",
    "acc_drop = acc_clean - acc_evasion\n",
    "print(f\"📉 Accuracy Drop due to Evasion Attack: {acc_drop:.4f}\")\n"
   ]
  },
  {
   "cell_type": "code",
   "execution_count": null,
   "id": "58090aa4-7a54-464b-8f72-fea5897c79fe",
   "metadata": {},
   "outputs": [],
   "source": []
  }
 ],
 "metadata": {
  "kernelspec": {
   "display_name": "Python 3 (ipykernel)",
   "language": "python",
   "name": "python3"
  },
  "language_info": {
   "codemirror_mode": {
    "name": "ipython",
    "version": 3
   },
   "file_extension": ".py",
   "mimetype": "text/x-python",
   "name": "python",
   "nbconvert_exporter": "python",
   "pygments_lexer": "ipython3",
   "version": "3.9.18"
  }
 },
 "nbformat": 4,
 "nbformat_minor": 5
}
