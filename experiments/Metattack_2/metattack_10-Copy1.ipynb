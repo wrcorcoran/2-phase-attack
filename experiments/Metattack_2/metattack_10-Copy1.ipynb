{
 "cells": [
  {
   "cell_type": "code",
   "execution_count": 1,
   "id": "af0ca698-ae54-4c46-ad6c-bd77183960cc",
   "metadata": {},
   "outputs": [],
   "source": [
    "import torch\n",
    "from gcn import GCN\n",
    "from utils import load_data, preprocess, normalize_adj_tensor, accuracy, get_train_val_test\n",
    "import numpy as np\n",
    "import torch.nn.functional as F\n",
    "import torch.optim as optim\n",
    "from matplotlib import pyplot as plt\n",
    "from metattack import MetaApprox, Metattack\n",
    "import seaborn as sns\n",
    "import gc"
   ]
  },
  {
   "cell_type": "code",
   "execution_count": 10,
   "id": "321d9d03-d1d4-49bf-90d9-ccb00ec83626",
   "metadata": {},
   "outputs": [],
   "source": [
    "# Fixed parameters for Cora dataset\n",
    "seed = 15\n",
    "epochs = 200\n",
    "lr = 0.01\n",
    "hidden = 64  # Changed from 16 to 64 as requested\n",
    "dataset = 'cora'\n",
    "model_variant = 'Meta-Self'  # Options: 'A-Meta-Self', 'Meta-Self'\n",
    "ptb_rates = [0.10]  # Multiple perturbation rates"
   ]
  },
  {
   "cell_type": "code",
   "execution_count": 3,
   "id": "7961f18b-278c-42c1-a8c2-b2e8fae96133",
   "metadata": {},
   "outputs": [
    {
     "name": "stdout",
     "output_type": "stream",
     "text": [
      "Loading cora dataset...\n",
      "reading cora...\n",
      "Selecting 1 largest connected components\n"
     ]
    }
   ],
   "source": [
    "# Set seeds for reproducibility\n",
    "np.random.seed(seed)\n",
    "torch.manual_seed(seed)\n",
    "device = torch.device(\"cuda:0\" if torch.cuda.is_available() else \"cpu\")\n",
    "if device != 'cpu':\n",
    "    torch.cuda.manual_seed(seed)\n",
    "\n",
    "# Load Cora dataset\n",
    "adj, features, labels = load_data(dataset=dataset)\n",
    "nclass = max(labels) + 1"
   ]
  },
  {
   "cell_type": "code",
   "execution_count": 4,
   "id": "e8981d78-7f10-4c80-a843-e0a30c90c809",
   "metadata": {},
   "outputs": [],
   "source": [
    "# Split dataset\n",
    "val_size = 0.1\n",
    "test_size = 0.8\n",
    "train_size = 1 - test_size - val_size\n",
    "idx = np.arange(adj.shape[0])\n",
    "idx_train, idx_val, idx_test = get_train_val_test(idx, train_size, val_size, test_size, stratify=labels)\n",
    "idx_unlabeled = np.union1d(idx_val, idx_test)\n",
    "\n",
    "# Preprocess without normalizing adjacency yet\n",
    "adj, features, labels = preprocess(adj, features, labels, preprocess_adj=False)\n",
    "\n",
    "# Move data to device\n",
    "if device != 'cpu':\n",
    "    adj = adj.to(device)\n",
    "    features = features.to(device)\n",
    "    labels = labels.to(device)"
   ]
  },
  {
   "cell_type": "code",
   "execution_count": 5,
   "id": "3ce1c9e2-3ddd-470d-8ece-b9186ed7f711",
   "metadata": {},
   "outputs": [],
   "source": [
    "def train_gcn(adj):\n",
    "    ''' Train GCN on the given adjacency matrix '''\n",
    "    # Normalize adjacency matrix for GCN\n",
    "    norm_adj = normalize_adj_tensor(adj)\n",
    "    \n",
    "    # Initialize GCN model - the provided GCN is already 2-layer\n",
    "    # We just need to set the hidden dimension to 64\n",
    "    gcn = GCN(nfeat=features.shape[1],\n",
    "              nhid=hidden,\n",
    "              nclass=labels.max().item() + 1,\n",
    "              dropout=0.5)\n",
    "    \n",
    "    if device != 'cpu':\n",
    "        gcn = gcn.to(device)\n",
    "    \n",
    "    optimizer = optim.Adam(gcn.parameters(),\n",
    "                           lr=lr, weight_decay=5e-4)\n",
    "    \n",
    "    # Train GCN\n",
    "    gcn.train()\n",
    "    for epoch in range(epochs):\n",
    "        optimizer.zero_grad()\n",
    "        output = gcn(features, norm_adj)\n",
    "        loss_train = F.nll_loss(output[idx_train], labels[idx_train])\n",
    "        loss_train.backward()\n",
    "        optimizer.step()\n",
    "    \n",
    "    return gcn"
   ]
  },
  {
   "cell_type": "code",
   "execution_count": 6,
   "id": "192f145d-4e74-4cf6-a095-5da1557496e0",
   "metadata": {},
   "outputs": [],
   "source": [
    "def evaluate(gcn, adj, idx):\n",
    "    ''' Evaluate GCN on the given adjacency matrix and index '''\n",
    "    # Normalize adjacency matrix for evaluation\n",
    "    norm_adj = normalize_adj_tensor(adj)\n",
    "    \n",
    "    gcn.eval()\n",
    "    with torch.no_grad():\n",
    "        output = gcn(features, norm_adj)\n",
    "        loss = F.nll_loss(output[idx], labels[idx])\n",
    "        acc = accuracy(output[idx], labels[idx])\n",
    "    \n",
    "    return acc.item()"
   ]
  },
  {
   "cell_type": "code",
   "execution_count": 7,
   "id": "31e51acc-9083-4cf2-9055-db97b5247203",
   "metadata": {},
   "outputs": [],
   "source": [
    "def run_attack():\n",
    "    results = {}\n",
    "    \n",
    "    print('=== Training GCN on original(clean) graph ===')\n",
    "    # First, train the GCN on the clean graph\n",
    "    trained_gcn = train_gcn(adj)\n",
    "    \n",
    "    # Set up attack model parameters\n",
    "    if 'Self' in model_variant:\n",
    "        lambda_ = 0\n",
    "    if 'Train' in model_variant:\n",
    "        lambda_ = 1\n",
    "    if 'Both' in model_variant:\n",
    "        lambda_ = 0.5\n",
    "    \n",
    "    # Configure attack model\n",
    "    if 'A' in model_variant:\n",
    "        model_class = MetaApprox\n",
    "    else:\n",
    "        model_class = Metattack\n",
    "    \n",
    "    # Evaluate across different perturbation rates\n",
    "    for ptb_rate in ptb_rates:\n",
    "        print(f'\\n=== Testing perturbation rate: {ptb_rate*100:.1f}% ===')\n",
    "        perturbations = int(ptb_rate * (adj.sum()//2))\n",
    "        \n",
    "        print('=== Setting up attack model ===')\n",
    "        model = model_class(nfeat=features.shape[1], hidden_sizes=[hidden],\n",
    "                        nnodes=adj.shape[0], nclass=nclass, dropout=0.5,\n",
    "                        train_iters=0, attack_features=False, lambda_=lambda_, device=device)\n",
    "        \n",
    "        if device != 'cpu':\n",
    "            model = model.to(device)\n",
    "            \n",
    "        # Generate adversarial adjacency matrix focusing on test nodes\n",
    "        print(f'=== Perturbing graph with {perturbations} edge modifications ===')\n",
    "        \n",
    "        modified_adj = model(features, adj, labels, idx_train, idx_test, perturbations, ll_constraint=False)\n",
    "        modified_adj = modified_adj.detach()\n",
    "        \n",
    "        runs = 3  # Reduced from 10 to 3 for quicker execution\n",
    "        clean_acc = []\n",
    "        attacked_acc = []\n",
    "        \n",
    "        print('=== Evaluating GCN performance ===')\n",
    "        # Test the already trained GCN on both clean and perturbed graph\n",
    "        for i in range(runs):\n",
    "            # Reset the GCN for each run\n",
    "            trained_gcn = train_gcn(adj)\n",
    "            \n",
    "            # Evaluate on clean test data\n",
    "            clean_acc.append(evaluate(trained_gcn, adj, idx_test))\n",
    "            \n",
    "            # Evaluate on perturbed test data (evasion)\n",
    "            attacked_acc.append(evaluate(trained_gcn, modified_adj, idx_test))\n",
    "            \n",
    "            print(f\"Run {i+1}/{runs}: Clean acc = {clean_acc[-1]:.4f}, Attacked acc = {attacked_acc[-1]:.4f}\")\n",
    "        \n",
    "        # Calculate effectiveness metrics\n",
    "        clean_mean = np.mean(clean_acc)\n",
    "        clean_std = np.std(clean_acc)\n",
    "        attack_mean = np.mean(attacked_acc)\n",
    "        attack_std = np.std(attacked_acc)\n",
    "        acc_drop = clean_mean - attack_mean\n",
    "        relative_drop = (acc_drop / clean_mean) * 100\n",
    "        \n",
    "        # Print summary statistics\n",
    "        print(f\"\\n=== Attack Effectiveness Summary (Perturbation rate: {ptb_rate*100:.1f}%) ===\")\n",
    "        print(f\"Clean accuracy: {clean_mean:.4f} ± {clean_std:.4f}\")\n",
    "        print(f\"Attacked accuracy: {attack_mean:.4f} ± {attack_std:.4f}\")\n",
    "        print(f\"Absolute accuracy drop: {acc_drop:.4f}\")\n",
    "        print(f\"Relative accuracy drop: {relative_drop:.2f}%\")\n",
    "        print(f\"Effectiveness ratio: {acc_drop/ptb_rate:.4f} (drop per perturbation unit)\")\n",
    "        \n",
    "        # Assessment\n",
    "        if acc_drop > 0.10:\n",
    "            print(\"Attack assessment: Highly effective\")\n",
    "        elif acc_drop > 0.05:\n",
    "            print(\"Attack assessment: Moderately effective\")\n",
    "        elif acc_drop > 0.02:\n",
    "            print(\"Attack assessment: Slightly effective\")\n",
    "        else:\n",
    "            print(\"Attack assessment: Minimally effective\")\n",
    "        \n",
    "        # Store results\n",
    "        results[ptb_rate] = {\n",
    "            'modified_adj': modified_adj,\n",
    "            'clean_acc': clean_acc,\n",
    "            'attacked_acc': attacked_acc,\n",
    "            'accuracy_drop': acc_drop,\n",
    "            'relative_drop': relative_drop,\n",
    "            'effectiveness_ratio': acc_drop/ptb_rate\n",
    "        }\n",
    "        \n",
    "        # Free up memory\n",
    "        del model\n",
    "        torch.cuda.empty_cache()\n",
    "        gc.collect()\n",
    "    \n",
    "    # Add overall results\n",
    "    results['clean_adj'] = adj\n",
    "    \n",
    "    # Create and save comparative visualization\n",
    "    plt.figure(figsize=(10, 6))\n",
    "    \n",
    "    ptb_values = list(ptb_rates)\n",
    "    acc_drops = [results[ptb]['accuracy_drop'] for ptb in ptb_rates]\n",
    "    rel_drops = [results[ptb]['relative_drop'] for ptb in ptb_rates]\n",
    "    \n",
    "    plt.subplot(1, 2, 1)\n",
    "    plt.plot(ptb_values, acc_drops, 'o-', linewidth=2)\n",
    "    plt.xlabel('Perturbation Rate')\n",
    "    plt.ylabel('Absolute Accuracy Drop')\n",
    "    plt.title('Impact of Perturbation Rate on Accuracy Drop')\n",
    "    plt.grid(True)\n",
    "    \n",
    "    plt.subplot(1, 2, 2)\n",
    "    plt.plot(ptb_values, rel_drops, 'o-', linewidth=2, color='orange')\n",
    "    plt.xlabel('Perturbation Rate')\n",
    "    plt.ylabel('Relative Accuracy Drop (%)')\n",
    "    plt.title('Impact of Perturbation Rate on Relative Accuracy Drop')\n",
    "    plt.grid(True)\n",
    "    \n",
    "    plt.tight_layout()\n",
    "    plt.savefig('perturbation_impact.png')\n",
    "    plt.close()\n",
    "    \n",
    "    return results"
   ]
  },
  {
   "cell_type": "code",
   "execution_count": 8,
   "id": "3e7d0656-91de-4335-ac1c-aee2abcda42e",
   "metadata": {},
   "outputs": [],
   "source": [
    "def clean_memory():\n",
    "    \"\"\"Clean GPU memory and garbage collect\"\"\"\n",
    "    if device != 'cpu':\n",
    "        torch.cuda.empty_cache()\n",
    "    gc.collect()"
   ]
  },
  {
   "cell_type": "code",
   "execution_count": 11,
   "id": "e32897a0-ada7-46c1-b199-118f2c207bff",
   "metadata": {},
   "outputs": [
    {
     "name": "stdout",
     "output_type": "stream",
     "text": [
      "=== Training GCN on original(clean) graph ===\n",
      "\n",
      "=== Testing perturbation rate: 10.0% ===\n",
      "=== Setting up attack model ===\n",
      "=== Perturbing graph with 506 edge modifications ===\n",
      "=== training surrogate model to predict unlabled data for self-training\n"
     ]
    },
    {
     "name": "stderr",
     "output_type": "stream",
     "text": [
      "Perturbing graph:   1%|▋                                                                | 5/506 [00:00<00:32, 15.34it/s]"
     ]
    },
    {
     "name": "stdout",
     "output_type": "stream",
     "text": [
      "GCN loss on unlabled data: 1.9653756618499756\n",
      "GCN acc on unlabled data: 0.11468812877263583\n",
      "attack loss: 1.959200143814087\n",
      "GCN loss on unlabled data: 1.9145087003707886\n",
      "GCN acc on unlabled data: 0.23390342052313887\n",
      "attack loss: 1.921037197113037\n",
      "GCN loss on unlabled data: 2.036731719970703\n",
      "GCN acc on unlabled data: 0.09557344064386318\n",
      "attack loss: 2.0375356674194336\n",
      "GCN loss on unlabled data: 1.9675946235656738\n",
      "GCN acc on unlabled data: 0.11971830985915494\n",
      "attack loss: 1.9713417291641235\n",
      "GCN loss on unlabled data: 1.9677941799163818\n",
      "GCN acc on unlabled data: 0.14185110663983905\n",
      "attack loss: 1.9697504043579102\n"
     ]
    },
    {
     "name": "stderr",
     "output_type": "stream",
     "text": [
      "Perturbing graph:   3%|█▋                                                              | 13/506 [00:00<00:18, 27.29it/s]"
     ]
    },
    {
     "name": "stdout",
     "output_type": "stream",
     "text": [
      "GCN loss on unlabled data: 2.014777898788452\n",
      "GCN acc on unlabled data: 0.09909456740442657\n",
      "attack loss: 2.016979694366455\n",
      "GCN loss on unlabled data: 1.9977443218231201\n",
      "GCN acc on unlabled data: 0.09255533199195172\n",
      "attack loss: 2.0023021697998047\n",
      "GCN loss on unlabled data: 1.988807201385498\n",
      "GCN acc on unlabled data: 0.12977867203219318\n",
      "attack loss: 1.9786558151245117\n",
      "GCN loss on unlabled data: 2.0361576080322266\n",
      "GCN acc on unlabled data: 0.11167002012072436\n",
      "attack loss: 2.031130790710449\n",
      "GCN loss on unlabled data: 1.91390860080719\n",
      "GCN acc on unlabled data: 0.16247484909456741\n",
      "attack loss: 1.9164974689483643\n",
      "GCN loss on unlabled data: 1.9748203754425049\n",
      "GCN acc on unlabled data: 0.15492957746478875\n",
      "attack loss: 1.9723113775253296\n",
      "GCN loss on unlabled data: 1.9249509572982788\n",
      "GCN acc on unlabled data: 0.24245472837022136\n",
      "attack loss: 1.9280815124511719\n",
      "GCN loss on unlabled data: 1.9430078268051147\n",
      "GCN acc on unlabled data: 0.16096579476861167\n",
      "attack loss: 1.9456772804260254\n"
     ]
    },
    {
     "name": "stderr",
     "output_type": "stream",
     "text": [
      "Perturbing graph:   4%|██▋                                                             | 21/506 [00:00<00:15, 31.95it/s]"
     ]
    },
    {
     "name": "stdout",
     "output_type": "stream",
     "text": [
      "GCN loss on unlabled data: 2.0148799419403076\n",
      "GCN acc on unlabled data: 0.10261569416498995\n",
      "attack loss: 2.0135233402252197\n",
      "GCN loss on unlabled data: 2.0401089191436768\n",
      "GCN acc on unlabled data: 0.08400402414486922\n",
      "attack loss: 2.0358524322509766\n",
      "GCN loss on unlabled data: 1.976793885231018\n",
      "GCN acc on unlabled data: 0.16146881287726358\n",
      "attack loss: 1.9722458124160767\n",
      "GCN loss on unlabled data: 1.9848748445510864\n",
      "GCN acc on unlabled data: 0.12575452716297789\n",
      "attack loss: 1.9819003343582153\n",
      "GCN loss on unlabled data: 1.9672349691390991\n",
      "GCN acc on unlabled data: 0.13329979879275655\n",
      "attack loss: 1.961566686630249\n",
      "GCN loss on unlabled data: 2.0281918048858643\n",
      "GCN acc on unlabled data: 0.10362173038229378\n",
      "attack loss: 2.028190851211548\n",
      "GCN loss on unlabled data: 1.956261157989502\n",
      "GCN acc on unlabled data: 0.21076458752515093\n",
      "attack loss: 1.9608163833618164\n",
      "GCN loss on unlabled data: 1.9599145650863647\n",
      "GCN acc on unlabled data: 0.14537223340040242\n",
      "attack loss: 1.9541617631912231\n"
     ]
    },
    {
     "name": "stderr",
     "output_type": "stream",
     "text": [
      "Perturbing graph:   6%|███▋                                                            | 29/506 [00:01<00:13, 35.17it/s]"
     ]
    },
    {
     "name": "stdout",
     "output_type": "stream",
     "text": [
      "GCN loss on unlabled data: 1.9916657209396362\n",
      "GCN acc on unlabled data: 0.14738430583501008\n",
      "attack loss: 1.999072790145874\n",
      "GCN loss on unlabled data: 1.9242420196533203\n",
      "GCN acc on unlabled data: 0.1836016096579477\n",
      "attack loss: 1.9228386878967285\n",
      "GCN loss on unlabled data: 2.003493547439575\n",
      "GCN acc on unlabled data: 0.13832997987927567\n",
      "attack loss: 2.0045132637023926\n",
      "GCN loss on unlabled data: 1.9757143259048462\n",
      "GCN acc on unlabled data: 0.14738430583501008\n",
      "attack loss: 1.9695634841918945\n",
      "GCN loss on unlabled data: 1.936888337135315\n",
      "GCN acc on unlabled data: 0.18611670020120727\n",
      "attack loss: 1.9330018758773804\n",
      "GCN loss on unlabled data: 1.9514111280441284\n",
      "GCN acc on unlabled data: 0.16247484909456741\n",
      "attack loss: 1.9518433809280396\n",
      "GCN loss on unlabled data: 1.9835463762283325\n",
      "GCN acc on unlabled data: 0.15694164989939638\n",
      "attack loss: 1.979614496231079\n",
      "GCN loss on unlabled data: 1.9344322681427002\n",
      "GCN acc on unlabled data: 0.18561368209255535\n",
      "attack loss: 1.939059853553772\n"
     ]
    },
    {
     "name": "stderr",
     "output_type": "stream",
     "text": [
      "Perturbing graph:   7%|████▋                                                           | 37/506 [00:01<00:12, 37.34it/s]"
     ]
    },
    {
     "name": "stdout",
     "output_type": "stream",
     "text": [
      "GCN loss on unlabled data: 1.9744826555252075\n",
      "GCN acc on unlabled data: 0.13832997987927567\n",
      "attack loss: 1.9761884212493896\n",
      "GCN loss on unlabled data: 2.038166046142578\n",
      "GCN acc on unlabled data: 0.10010060362173039\n",
      "attack loss: 2.0306928157806396\n",
      "GCN loss on unlabled data: 2.0113165378570557\n",
      "GCN acc on unlabled data: 0.12776659959758552\n",
      "attack loss: 2.0150203704833984\n",
      "GCN loss on unlabled data: 1.9463679790496826\n",
      "GCN acc on unlabled data: 0.1790744466800805\n",
      "attack loss: 1.9498004913330078\n",
      "GCN loss on unlabled data: 1.9772651195526123\n",
      "GCN acc on unlabled data: 0.11418511066398392\n",
      "attack loss: 1.9735220670700073\n",
      "GCN loss on unlabled data: 1.9606850147247314\n",
      "GCN acc on unlabled data: 0.16146881287726358\n",
      "attack loss: 1.9572455883026123\n",
      "GCN loss on unlabled data: 1.9601958990097046\n",
      "GCN acc on unlabled data: 0.1433601609657948\n",
      "attack loss: 1.9625790119171143\n",
      "GCN loss on unlabled data: 2.0121891498565674\n",
      "GCN acc on unlabled data: 0.11167002012072436\n",
      "attack loss: 2.0149574279785156\n"
     ]
    },
    {
     "name": "stderr",
     "output_type": "stream",
     "text": [
      "Perturbing graph:   9%|█████▋                                                          | 45/506 [00:01<00:11, 38.51it/s]"
     ]
    },
    {
     "name": "stdout",
     "output_type": "stream",
     "text": [
      "GCN loss on unlabled data: 1.9920331239700317\n",
      "GCN acc on unlabled data: 0.12877263581488935\n",
      "attack loss: 1.99153733253479\n",
      "GCN loss on unlabled data: 1.9482134580612183\n",
      "GCN acc on unlabled data: 0.14738430583501008\n",
      "attack loss: 1.939818263053894\n",
      "GCN loss on unlabled data: 1.9070760011672974\n",
      "GCN acc on unlabled data: 0.23239436619718312\n",
      "attack loss: 1.9111000299453735\n",
      "GCN loss on unlabled data: 1.9633699655532837\n",
      "GCN acc on unlabled data: 0.12374245472837023\n",
      "attack loss: 1.9589155912399292\n",
      "GCN loss on unlabled data: 2.031769037246704\n",
      "GCN acc on unlabled data: 0.11871227364185112\n",
      "attack loss: 2.0257320404052734\n",
      "GCN loss on unlabled data: 1.9780999422073364\n",
      "GCN acc on unlabled data: 0.10764587525150907\n",
      "attack loss: 1.976056456565857\n",
      "GCN loss on unlabled data: 1.9699326753616333\n",
      "GCN acc on unlabled data: 0.1388329979879276\n",
      "attack loss: 1.970411777496338\n",
      "GCN loss on unlabled data: 2.0390384197235107\n",
      "GCN acc on unlabled data: 0.06237424547283703\n",
      "attack loss: 2.0390052795410156\n"
     ]
    },
    {
     "name": "stderr",
     "output_type": "stream",
     "text": [
      "Perturbing graph:  10%|██████▋                                                         | 53/506 [00:01<00:11, 39.10it/s]"
     ]
    },
    {
     "name": "stdout",
     "output_type": "stream",
     "text": [
      "GCN loss on unlabled data: 1.956328272819519\n",
      "GCN acc on unlabled data: 0.15593561368209258\n",
      "attack loss: 1.9555025100708008\n",
      "GCN loss on unlabled data: 1.9076133966445923\n",
      "GCN acc on unlabled data: 0.2052313883299799\n",
      "attack loss: 1.8982492685317993\n",
      "GCN loss on unlabled data: 1.9692811965942383\n",
      "GCN acc on unlabled data: 0.11066398390342053\n",
      "attack loss: 1.965390682220459\n",
      "GCN loss on unlabled data: 2.0216708183288574\n",
      "GCN acc on unlabled data: 0.09808853118712274\n",
      "attack loss: 2.023008346557617\n",
      "GCN loss on unlabled data: 1.9306002855300903\n",
      "GCN acc on unlabled data: 0.227364185110664\n",
      "attack loss: 1.925553560256958\n",
      "GCN loss on unlabled data: 1.9504510164260864\n",
      "GCN acc on unlabled data: 0.14839034205231388\n",
      "attack loss: 1.9526838064193726\n",
      "GCN loss on unlabled data: 1.9431077241897583\n",
      "GCN acc on unlabled data: 0.14537223340040242\n",
      "attack loss: 1.933878779411316\n",
      "GCN loss on unlabled data: 1.9319887161254883\n",
      "GCN acc on unlabled data: 0.22434607645875254\n",
      "attack loss: 1.9371269941329956\n"
     ]
    },
    {
     "name": "stderr",
     "output_type": "stream",
     "text": [
      "Perturbing graph:  12%|███████▋                                                        | 61/506 [00:01<00:11, 39.41it/s]"
     ]
    },
    {
     "name": "stdout",
     "output_type": "stream",
     "text": [
      "GCN loss on unlabled data: 1.9798035621643066\n",
      "GCN acc on unlabled data: 0.12474849094567406\n",
      "attack loss: 1.97611665725708\n",
      "GCN loss on unlabled data: 1.9178909063339233\n",
      "GCN acc on unlabled data: 0.22635814889336017\n",
      "attack loss: 1.9123016595840454\n",
      "GCN loss on unlabled data: 2.002527952194214\n",
      "GCN acc on unlabled data: 0.08501006036217304\n",
      "attack loss: 2.000422239303589\n",
      "GCN loss on unlabled data: 2.0750927925109863\n",
      "GCN acc on unlabled data: 0.06891348088531188\n",
      "attack loss: 2.0786287784576416\n",
      "GCN loss on unlabled data: 1.8786650896072388\n",
      "GCN acc on unlabled data: 0.23943661971830987\n",
      "attack loss: 1.873218297958374\n",
      "GCN loss on unlabled data: 1.9665629863739014\n",
      "GCN acc on unlabled data: 0.14134808853118713\n",
      "attack loss: 1.9674994945526123\n",
      "GCN loss on unlabled data: 1.9945350885391235\n",
      "GCN acc on unlabled data: 0.10563380281690142\n",
      "attack loss: 1.9948973655700684\n",
      "GCN loss on unlabled data: 1.9421215057373047\n",
      "GCN acc on unlabled data: 0.14989939637826963\n",
      "attack loss: 1.9413095712661743\n"
     ]
    },
    {
     "name": "stderr",
     "output_type": "stream",
     "text": [
      "Perturbing graph:  14%|████████▋                                                       | 69/506 [00:02<00:11, 39.12it/s]"
     ]
    },
    {
     "name": "stdout",
     "output_type": "stream",
     "text": [
      "GCN loss on unlabled data: 1.9729667901992798\n",
      "GCN acc on unlabled data: 0.14587525150905434\n",
      "attack loss: 1.979411005973816\n",
      "GCN loss on unlabled data: 1.9709513187408447\n",
      "GCN acc on unlabled data: 0.13279678068410464\n",
      "attack loss: 1.9617140293121338\n",
      "GCN loss on unlabled data: 1.967089295387268\n",
      "GCN acc on unlabled data: 0.15090543259557346\n",
      "attack loss: 1.9722689390182495\n",
      "GCN loss on unlabled data: 1.9683879613876343\n",
      "GCN acc on unlabled data: 0.13380281690140847\n",
      "attack loss: 1.9659537076950073\n",
      "GCN loss on unlabled data: 1.9701484441757202\n",
      "GCN acc on unlabled data: 0.13229376257545272\n",
      "attack loss: 1.9756431579589844\n",
      "GCN loss on unlabled data: 1.9454047679901123\n",
      "GCN acc on unlabled data: 0.14386317907444668\n",
      "attack loss: 1.9453012943267822\n",
      "GCN loss on unlabled data: 1.943228840827942\n",
      "GCN acc on unlabled data: 0.19818913480885314\n",
      "attack loss: 1.9399187564849854\n",
      "GCN loss on unlabled data: 1.981667160987854\n",
      "GCN acc on unlabled data: 0.11167002012072436\n",
      "attack loss: 1.9753535985946655\n"
     ]
    },
    {
     "name": "stderr",
     "output_type": "stream",
     "text": [
      "Perturbing graph:  15%|█████████▋                                                      | 77/506 [00:02<00:10, 39.36it/s]"
     ]
    },
    {
     "name": "stdout",
     "output_type": "stream",
     "text": [
      "GCN loss on unlabled data: 2.0308902263641357\n",
      "GCN acc on unlabled data: 0.08551307847082495\n",
      "attack loss: 2.0345635414123535\n",
      "GCN loss on unlabled data: 1.9285485744476318\n",
      "GCN acc on unlabled data: 0.1695171026156942\n",
      "attack loss: 1.9305058717727661\n",
      "GCN loss on unlabled data: 1.960033893585205\n",
      "GCN acc on unlabled data: 0.164989939637827\n",
      "attack loss: 1.9621014595031738\n",
      "GCN loss on unlabled data: 1.964431643486023\n",
      "GCN acc on unlabled data: 0.1619718309859155\n",
      "attack loss: 1.9641962051391602\n",
      "GCN loss on unlabled data: 1.9315911531448364\n",
      "GCN acc on unlabled data: 0.18661971830985918\n",
      "attack loss: 1.922932505607605\n",
      "GCN loss on unlabled data: 1.986122488975525\n",
      "GCN acc on unlabled data: 0.147887323943662\n",
      "attack loss: 1.9849977493286133\n",
      "GCN loss on unlabled data: 1.9868619441986084\n",
      "GCN acc on unlabled data: 0.12474849094567406\n",
      "attack loss: 1.992028832435608\n",
      "GCN loss on unlabled data: 1.9532980918884277\n",
      "GCN acc on unlabled data: 0.17555331991951711\n",
      "attack loss: 1.959638237953186\n"
     ]
    },
    {
     "name": "stderr",
     "output_type": "stream",
     "text": [
      "Perturbing graph:  17%|██████████▊                                                     | 85/506 [00:02<00:10, 39.54it/s]"
     ]
    },
    {
     "name": "stdout",
     "output_type": "stream",
     "text": [
      "GCN loss on unlabled data: 1.9566137790679932\n",
      "GCN acc on unlabled data: 0.13229376257545272\n",
      "attack loss: 1.9582785367965698\n",
      "GCN loss on unlabled data: 2.053326368331909\n",
      "GCN acc on unlabled data: 0.07092555331991952\n",
      "attack loss: 2.060671091079712\n",
      "GCN loss on unlabled data: 1.9637631177902222\n",
      "GCN acc on unlabled data: 0.14134808853118713\n",
      "attack loss: 1.9714852571487427\n",
      "GCN loss on unlabled data: 1.960292935371399\n",
      "GCN acc on unlabled data: 0.14989939637826963\n",
      "attack loss: 1.9607350826263428\n",
      "GCN loss on unlabled data: 1.991280198097229\n",
      "GCN acc on unlabled data: 0.12424547283702214\n",
      "attack loss: 2.0001633167266846\n",
      "GCN loss on unlabled data: 1.9979331493377686\n",
      "GCN acc on unlabled data: 0.1262575452716298\n",
      "attack loss: 2.005491256713867\n",
      "GCN loss on unlabled data: 1.9337857961654663\n",
      "GCN acc on unlabled data: 0.13832997987927567\n",
      "attack loss: 1.9358274936676025\n",
      "GCN loss on unlabled data: 2.017997980117798\n",
      "GCN acc on unlabled data: 0.113682092555332\n",
      "attack loss: 2.0227203369140625\n"
     ]
    },
    {
     "name": "stderr",
     "output_type": "stream",
     "text": [
      "Perturbing graph:  18%|███████████▊                                                    | 93/506 [00:02<00:10, 39.57it/s]"
     ]
    },
    {
     "name": "stdout",
     "output_type": "stream",
     "text": [
      "GCN loss on unlabled data: 1.9366663694381714\n",
      "GCN acc on unlabled data: 0.170523138832998\n",
      "attack loss: 1.9306386709213257\n",
      "GCN loss on unlabled data: 1.9597102403640747\n",
      "GCN acc on unlabled data: 0.1659959758551308\n",
      "attack loss: 1.9572821855545044\n",
      "GCN loss on unlabled data: 1.977698564529419\n",
      "GCN acc on unlabled data: 0.13832997987927567\n",
      "attack loss: 1.9753482341766357\n",
      "GCN loss on unlabled data: 1.9953199625015259\n",
      "GCN acc on unlabled data: 0.08350100603621731\n",
      "attack loss: 2.000793695449829\n",
      "GCN loss on unlabled data: 1.9904916286468506\n",
      "GCN acc on unlabled data: 0.1393360160965795\n",
      "attack loss: 2.0036096572875977\n",
      "GCN loss on unlabled data: 2.018199920654297\n",
      "GCN acc on unlabled data: 0.08098591549295775\n",
      "attack loss: 2.0131235122680664\n",
      "GCN loss on unlabled data: 1.9152032136917114\n",
      "GCN acc on unlabled data: 0.19617706237424548\n",
      "attack loss: 1.9156938791275024\n",
      "GCN loss on unlabled data: 2.0011022090911865\n",
      "GCN acc on unlabled data: 0.1358148893360161\n",
      "attack loss: 2.003610372543335\n"
     ]
    },
    {
     "name": "stderr",
     "output_type": "stream",
     "text": [
      "Perturbing graph:  20%|████████████▌                                                  | 101/506 [00:02<00:10, 39.67it/s]"
     ]
    },
    {
     "name": "stdout",
     "output_type": "stream",
     "text": [
      "GCN loss on unlabled data: 1.9925404787063599\n",
      "GCN acc on unlabled data: 0.10613682092555334\n",
      "attack loss: 1.9993743896484375\n",
      "GCN loss on unlabled data: 1.9623416662216187\n",
      "GCN acc on unlabled data: 0.10663983903420524\n",
      "attack loss: 1.9646025896072388\n",
      "GCN loss on unlabled data: 1.9545543193817139\n",
      "GCN acc on unlabled data: 0.16750503018108653\n",
      "attack loss: 1.9540393352508545\n",
      "GCN loss on unlabled data: 2.0174365043640137\n",
      "GCN acc on unlabled data: 0.09557344064386318\n",
      "attack loss: 2.0143842697143555\n",
      "GCN loss on unlabled data: 2.031796932220459\n",
      "GCN acc on unlabled data: 0.0875251509054326\n",
      "attack loss: 2.0374794006347656\n",
      "GCN loss on unlabled data: 1.8976647853851318\n",
      "GCN acc on unlabled data: 0.19919517102615697\n",
      "attack loss: 1.899215817451477\n",
      "GCN loss on unlabled data: 1.9711437225341797\n",
      "GCN acc on unlabled data: 0.1488933601609658\n",
      "attack loss: 1.9731837511062622\n",
      "GCN loss on unlabled data: 2.011519193649292\n",
      "GCN acc on unlabled data: 0.11670020120724348\n",
      "attack loss: 2.0192651748657227\n",
      "GCN loss on unlabled data: 1.9567149877548218\n",
      "GCN acc on unlabled data: 0.1448692152917505\n",
      "attack loss: 1.954364538192749\n"
     ]
    },
    {
     "name": "stderr",
     "output_type": "stream",
     "text": [
      "Perturbing graph:  22%|█████████████▌                                                 | 109/506 [00:03<00:10, 39.67it/s]"
     ]
    },
    {
     "name": "stdout",
     "output_type": "stream",
     "text": [
      "GCN loss on unlabled data: 1.9238282442092896\n",
      "GCN acc on unlabled data: 0.18712273641851107\n",
      "attack loss: 1.9161484241485596\n",
      "GCN loss on unlabled data: 1.9314619302749634\n",
      "GCN acc on unlabled data: 0.1966800804828974\n",
      "attack loss: 1.9289591312408447\n",
      "GCN loss on unlabled data: 1.9754611253738403\n",
      "GCN acc on unlabled data: 0.11016096579476863\n",
      "attack loss: 1.979370355606079\n",
      "GCN loss on unlabled data: 1.9957630634307861\n",
      "GCN acc on unlabled data: 0.12273641851106641\n",
      "attack loss: 2.000311851501465\n",
      "GCN loss on unlabled data: 1.9118452072143555\n",
      "GCN acc on unlabled data: 0.19416498993963785\n",
      "attack loss: 1.919384479522705\n",
      "GCN loss on unlabled data: 1.983864188194275\n",
      "GCN acc on unlabled data: 0.1317907444668008\n",
      "attack loss: 1.983188509941101\n",
      "GCN loss on unlabled data: 1.9901130199432373\n",
      "GCN acc on unlabled data: 0.10211267605633803\n",
      "attack loss: 1.9914741516113281\n",
      "GCN loss on unlabled data: 1.9242624044418335\n",
      "GCN acc on unlabled data: 0.21730382293762576\n",
      "attack loss: 1.9188551902770996\n"
     ]
    },
    {
     "name": "stderr",
     "output_type": "stream",
     "text": [
      "Perturbing graph:  23%|██████████████▌                                                | 117/506 [00:03<00:09, 39.66it/s]"
     ]
    },
    {
     "name": "stdout",
     "output_type": "stream",
     "text": [
      "GCN loss on unlabled data: 2.050485849380493\n",
      "GCN acc on unlabled data: 0.07193158953722334\n",
      "attack loss: 2.0539162158966064\n",
      "GCN loss on unlabled data: 2.0180275440216064\n",
      "GCN acc on unlabled data: 0.10764587525150907\n",
      "attack loss: 2.0110154151916504\n",
      "GCN loss on unlabled data: 2.0574722290039062\n",
      "GCN acc on unlabled data: 0.11066398390342053\n",
      "attack loss: 2.0639545917510986\n",
      "GCN loss on unlabled data: 1.9723339080810547\n",
      "GCN acc on unlabled data: 0.12173038229376258\n",
      "attack loss: 1.9636050462722778\n",
      "GCN loss on unlabled data: 1.9493464231491089\n",
      "GCN acc on unlabled data: 0.14587525150905434\n",
      "attack loss: 1.9524401426315308\n",
      "GCN loss on unlabled data: 1.93435800075531\n",
      "GCN acc on unlabled data: 0.18511066398390344\n",
      "attack loss: 1.9366525411605835\n",
      "GCN loss on unlabled data: 1.9252959489822388\n",
      "GCN acc on unlabled data: 0.1881287726358149\n",
      "attack loss: 1.9227426052093506\n",
      "GCN loss on unlabled data: 1.9132722616195679\n",
      "GCN acc on unlabled data: 0.18058350100603623\n",
      "attack loss: 1.9112927913665771\n"
     ]
    },
    {
     "name": "stderr",
     "output_type": "stream",
     "text": [
      "Perturbing graph:  25%|███████████████▌                                               | 125/506 [00:03<00:09, 39.67it/s]"
     ]
    },
    {
     "name": "stdout",
     "output_type": "stream",
     "text": [
      "GCN loss on unlabled data: 1.938387155532837\n",
      "GCN acc on unlabled data: 0.18762575452716299\n",
      "attack loss: 1.9391872882843018\n",
      "GCN loss on unlabled data: 1.9018892049789429\n",
      "GCN acc on unlabled data: 0.22233400402414488\n",
      "attack loss: 1.907753825187683\n",
      "GCN loss on unlabled data: 1.979122519493103\n",
      "GCN acc on unlabled data: 0.10714285714285715\n",
      "attack loss: 1.9809483289718628\n",
      "GCN loss on unlabled data: 1.9451234340667725\n",
      "GCN acc on unlabled data: 0.1574446680080483\n",
      "attack loss: 1.9390710592269897\n",
      "GCN loss on unlabled data: 1.988242268562317\n",
      "GCN acc on unlabled data: 0.10311871227364186\n",
      "attack loss: 1.993502140045166\n",
      "GCN loss on unlabled data: 2.0091423988342285\n",
      "GCN acc on unlabled data: 0.10211267605633803\n",
      "attack loss: 2.0105948448181152\n",
      "GCN loss on unlabled data: 1.9743112325668335\n",
      "GCN acc on unlabled data: 0.14235412474849096\n",
      "attack loss: 1.9719042778015137\n",
      "GCN loss on unlabled data: 1.9837901592254639\n",
      "GCN acc on unlabled data: 0.10563380281690142\n",
      "attack loss: 1.9737859964370728\n"
     ]
    },
    {
     "name": "stderr",
     "output_type": "stream",
     "text": [
      "Perturbing graph:  26%|████████████████▌                                              | 133/506 [00:03<00:09, 39.71it/s]"
     ]
    },
    {
     "name": "stdout",
     "output_type": "stream",
     "text": [
      "GCN loss on unlabled data: 1.9683752059936523\n",
      "GCN acc on unlabled data: 0.16146881287726358\n",
      "attack loss: 1.9749352931976318\n",
      "GCN loss on unlabled data: 1.9438539743423462\n",
      "GCN acc on unlabled data: 0.15845070422535212\n",
      "attack loss: 1.9428448677062988\n",
      "GCN loss on unlabled data: 2.0192151069641113\n",
      "GCN acc on unlabled data: 0.0875251509054326\n",
      "attack loss: 2.0243947505950928\n",
      "GCN loss on unlabled data: 1.9928207397460938\n",
      "GCN acc on unlabled data: 0.10814889336016098\n",
      "attack loss: 1.9967849254608154\n",
      "GCN loss on unlabled data: 1.8871495723724365\n",
      "GCN acc on unlabled data: 0.27364185110663986\n",
      "attack loss: 1.8865647315979004\n",
      "GCN loss on unlabled data: 1.9787967205047607\n",
      "GCN acc on unlabled data: 0.12877263581488935\n",
      "attack loss: 1.9719308614730835\n",
      "GCN loss on unlabled data: 1.948525309562683\n",
      "GCN acc on unlabled data: 0.15392354124748492\n",
      "attack loss: 1.9447187185287476\n",
      "GCN loss on unlabled data: 2.0121653079986572\n",
      "GCN acc on unlabled data: 0.11066398390342053\n",
      "attack loss: 2.0165936946868896\n"
     ]
    },
    {
     "name": "stderr",
     "output_type": "stream",
     "text": [
      "Perturbing graph:  28%|█████████████████▌                                             | 141/506 [00:03<00:09, 39.68it/s]"
     ]
    },
    {
     "name": "stdout",
     "output_type": "stream",
     "text": [
      "GCN loss on unlabled data: 2.0348143577575684\n",
      "GCN acc on unlabled data: 0.08702213279678069\n",
      "attack loss: 2.034661054611206\n",
      "GCN loss on unlabled data: 1.944010615348816\n",
      "GCN acc on unlabled data: 0.18913480885311873\n",
      "attack loss: 1.9438084363937378\n",
      "GCN loss on unlabled data: 1.9837809801101685\n",
      "GCN acc on unlabled data: 0.11569416498993965\n",
      "attack loss: 1.9873933792114258\n",
      "GCN loss on unlabled data: 1.9851144552230835\n",
      "GCN acc on unlabled data: 0.13732394366197184\n",
      "attack loss: 1.9837820529937744\n",
      "GCN loss on unlabled data: 1.981429934501648\n",
      "GCN acc on unlabled data: 0.11267605633802819\n",
      "attack loss: 1.9829658269882202\n",
      "GCN loss on unlabled data: 2.0003597736358643\n",
      "GCN acc on unlabled data: 0.1398390342052314\n",
      "attack loss: 2.000211000442505\n",
      "GCN loss on unlabled data: 1.9682316780090332\n",
      "GCN acc on unlabled data: 0.14688128772635817\n",
      "attack loss: 1.9661040306091309\n",
      "GCN loss on unlabled data: 2.0028634071350098\n",
      "GCN acc on unlabled data: 0.11116700201207244\n",
      "attack loss: 1.995855450630188\n"
     ]
    },
    {
     "name": "stderr",
     "output_type": "stream",
     "text": [
      "Perturbing graph:  29%|██████████████████▌                                            | 149/506 [00:04<00:08, 39.69it/s]"
     ]
    },
    {
     "name": "stdout",
     "output_type": "stream",
     "text": [
      "GCN loss on unlabled data: 1.9635636806488037\n",
      "GCN acc on unlabled data: 0.14285714285714288\n",
      "attack loss: 1.9622600078582764\n",
      "GCN loss on unlabled data: 1.9229464530944824\n",
      "GCN acc on unlabled data: 0.16146881287726358\n",
      "attack loss: 1.9260927438735962\n",
      "GCN loss on unlabled data: 1.9372663497924805\n",
      "GCN acc on unlabled data: 0.18561368209255535\n",
      "attack loss: 1.9407860040664673\n",
      "GCN loss on unlabled data: 2.0108513832092285\n",
      "GCN acc on unlabled data: 0.10160965794768613\n",
      "attack loss: 2.010662794113159\n",
      "GCN loss on unlabled data: 1.967819333076477\n",
      "GCN acc on unlabled data: 0.11167002012072436\n",
      "attack loss: 1.9608439207077026\n",
      "GCN loss on unlabled data: 1.9992886781692505\n",
      "GCN acc on unlabled data: 0.12374245472837023\n",
      "attack loss: 1.9944554567337036\n",
      "GCN loss on unlabled data: 1.902461051940918\n",
      "GCN acc on unlabled data: 0.23038229376257546\n",
      "attack loss: 1.9033012390136719\n",
      "GCN loss on unlabled data: 1.8723045587539673\n",
      "GCN acc on unlabled data: 0.2711267605633803\n",
      "attack loss: 1.8706837892532349\n"
     ]
    },
    {
     "name": "stderr",
     "output_type": "stream",
     "text": [
      "Perturbing graph:  31%|███████████████████▋                                           | 158/506 [00:04<00:08, 39.80it/s]"
     ]
    },
    {
     "name": "stdout",
     "output_type": "stream",
     "text": [
      "GCN loss on unlabled data: 1.9303010702133179\n",
      "GCN acc on unlabled data: 0.19014084507042256\n",
      "attack loss: 1.9288787841796875\n",
      "GCN loss on unlabled data: 1.9192246198654175\n",
      "GCN acc on unlabled data: 0.20171026156941652\n",
      "attack loss: 1.9173227548599243\n",
      "GCN loss on unlabled data: 2.036226272583008\n",
      "GCN acc on unlabled data: 0.05583501006036218\n",
      "attack loss: 2.038639545440674\n",
      "GCN loss on unlabled data: 1.9729350805282593\n",
      "GCN acc on unlabled data: 0.17605633802816903\n",
      "attack loss: 1.9717382192611694\n",
      "GCN loss on unlabled data: 1.995029091835022\n",
      "GCN acc on unlabled data: 0.113682092555332\n",
      "attack loss: 1.995767593383789\n",
      "GCN loss on unlabled data: 1.951276421546936\n",
      "GCN acc on unlabled data: 0.1564386317907445\n",
      "attack loss: 1.9541140794754028\n",
      "GCN loss on unlabled data: 1.9874732494354248\n",
      "GCN acc on unlabled data: 0.11569416498993965\n",
      "attack loss: 1.9914461374282837\n",
      "GCN loss on unlabled data: 1.9861195087432861\n",
      "GCN acc on unlabled data: 0.20674044265593564\n",
      "attack loss: 1.994394302368164\n",
      "GCN loss on unlabled data: 2.0140411853790283\n",
      "GCN acc on unlabled data: 0.09808853118712274\n",
      "attack loss: 2.013469696044922\n"
     ]
    },
    {
     "name": "stderr",
     "output_type": "stream",
     "text": [
      "Perturbing graph:  33%|████████████████████▋                                          | 166/506 [00:04<00:08, 39.69it/s]"
     ]
    },
    {
     "name": "stdout",
     "output_type": "stream",
     "text": [
      "GCN loss on unlabled data: 1.953840970993042\n",
      "GCN acc on unlabled data: 0.1574446680080483\n",
      "attack loss: 1.962039589881897\n",
      "GCN loss on unlabled data: 1.9587042331695557\n",
      "GCN acc on unlabled data: 0.19164989939637828\n",
      "attack loss: 1.9598573446273804\n",
      "GCN loss on unlabled data: 2.001293659210205\n",
      "GCN acc on unlabled data: 0.09356136820925554\n",
      "attack loss: 2.004751682281494\n",
      "GCN loss on unlabled data: 1.9797158241271973\n",
      "GCN acc on unlabled data: 0.1448692152917505\n",
      "attack loss: 1.9784038066864014\n",
      "GCN loss on unlabled data: 1.9468679428100586\n",
      "GCN acc on unlabled data: 0.1695171026156942\n",
      "attack loss: 1.9417616128921509\n",
      "GCN loss on unlabled data: 2.0074710845947266\n",
      "GCN acc on unlabled data: 0.09004024144869216\n",
      "attack loss: 2.000480890274048\n",
      "GCN loss on unlabled data: 2.039586067199707\n",
      "GCN acc on unlabled data: 0.09104627766599599\n",
      "attack loss: 2.0348596572875977\n",
      "GCN loss on unlabled data: 2.0016403198242188\n",
      "GCN acc on unlabled data: 0.1222334004024145\n",
      "attack loss: 1.9991133213043213\n"
     ]
    },
    {
     "name": "stderr",
     "output_type": "stream",
     "text": [
      "Perturbing graph:  35%|█████████████████████▊                                         | 175/506 [00:04<00:08, 39.85it/s]"
     ]
    },
    {
     "name": "stdout",
     "output_type": "stream",
     "text": [
      "GCN loss on unlabled data: 1.9630306959152222\n",
      "GCN acc on unlabled data: 0.13732394366197184\n",
      "attack loss: 1.9658560752868652\n",
      "GCN loss on unlabled data: 1.9857555627822876\n",
      "GCN acc on unlabled data: 0.11569416498993965\n",
      "attack loss: 1.9863461256027222\n",
      "GCN loss on unlabled data: 1.9980063438415527\n",
      "GCN acc on unlabled data: 0.11418511066398392\n",
      "attack loss: 1.991392970085144\n",
      "GCN loss on unlabled data: 1.968942403793335\n",
      "GCN acc on unlabled data: 0.11066398390342053\n",
      "attack loss: 1.965665578842163\n",
      "GCN loss on unlabled data: 1.9293906688690186\n",
      "GCN acc on unlabled data: 0.2364185110663984\n",
      "attack loss: 1.9308366775512695\n",
      "GCN loss on unlabled data: 2.0102081298828125\n",
      "GCN acc on unlabled data: 0.07193158953722334\n",
      "attack loss: 2.013275146484375\n",
      "GCN loss on unlabled data: 1.9839317798614502\n",
      "GCN acc on unlabled data: 0.14637826961770625\n",
      "attack loss: 1.9890397787094116\n",
      "GCN loss on unlabled data: 1.9622838497161865\n",
      "GCN acc on unlabled data: 0.15492957746478875\n",
      "attack loss: 1.9568995237350464\n",
      "GCN loss on unlabled data: 1.9963356256484985\n",
      "GCN acc on unlabled data: 0.09657947686116701\n",
      "attack loss: 1.9918513298034668\n"
     ]
    },
    {
     "name": "stderr",
     "output_type": "stream",
     "text": [
      "Perturbing graph:  36%|██████████████████████▉                                        | 184/506 [00:04<00:08, 40.05it/s]"
     ]
    },
    {
     "name": "stdout",
     "output_type": "stream",
     "text": [
      "GCN loss on unlabled data: 1.9775426387786865\n",
      "GCN acc on unlabled data: 0.1433601609657948\n",
      "attack loss: 1.9835182428359985\n",
      "GCN loss on unlabled data: 1.951457142829895\n",
      "GCN acc on unlabled data: 0.136317907444668\n",
      "attack loss: 1.9499495029449463\n",
      "GCN loss on unlabled data: 1.9889382123947144\n",
      "GCN acc on unlabled data: 0.11468812877263583\n",
      "attack loss: 1.9950212240219116\n",
      "GCN loss on unlabled data: 1.932881474494934\n",
      "GCN acc on unlabled data: 0.16046277665995978\n",
      "attack loss: 1.926393985748291\n",
      "GCN loss on unlabled data: 1.9535760879516602\n",
      "GCN acc on unlabled data: 0.16448692152917507\n",
      "attack loss: 1.95773446559906\n",
      "GCN loss on unlabled data: 1.9836148023605347\n",
      "GCN acc on unlabled data: 0.10462776659959759\n",
      "attack loss: 1.9826571941375732\n",
      "GCN loss on unlabled data: 1.982254981994629\n",
      "GCN acc on unlabled data: 0.15492957746478875\n",
      "attack loss: 1.980492353439331\n",
      "GCN loss on unlabled data: 2.0104472637176514\n",
      "GCN acc on unlabled data: 0.0920523138832998\n",
      "attack loss: 2.0154454708099365\n",
      "GCN loss on unlabled data: 1.9811298847198486\n",
      "GCN acc on unlabled data: 0.14688128772635817\n",
      "attack loss: 1.9831275939941406\n"
     ]
    },
    {
     "name": "stderr",
     "output_type": "stream",
     "text": [
      "Perturbing graph:  38%|████████████████████████▏                                      | 194/506 [00:05<00:07, 40.23it/s]"
     ]
    },
    {
     "name": "stdout",
     "output_type": "stream",
     "text": [
      "GCN loss on unlabled data: 1.9390480518341064\n",
      "GCN acc on unlabled data: 0.18108651911468815\n",
      "attack loss: 1.934480905532837\n",
      "GCN loss on unlabled data: 2.002824068069458\n",
      "GCN acc on unlabled data: 0.1312877263581489\n",
      "attack loss: 1.9937735795974731\n",
      "GCN loss on unlabled data: 1.9513781070709229\n",
      "GCN acc on unlabled data: 0.16146881287726358\n",
      "attack loss: 1.9569051265716553\n",
      "GCN loss on unlabled data: 1.9279420375823975\n",
      "GCN acc on unlabled data: 0.17203219315895374\n",
      "attack loss: 1.9284827709197998\n",
      "GCN loss on unlabled data: 1.9886282682418823\n",
      "GCN acc on unlabled data: 0.1388329979879276\n",
      "attack loss: 1.9839423894882202\n",
      "GCN loss on unlabled data: 1.9584484100341797\n",
      "GCN acc on unlabled data: 0.16046277665995978\n",
      "attack loss: 1.9572796821594238\n",
      "GCN loss on unlabled data: 2.02272891998291\n",
      "GCN acc on unlabled data: 0.07595573440643864\n",
      "attack loss: 2.0164523124694824\n",
      "GCN loss on unlabled data: 2.0200448036193848\n",
      "GCN acc on unlabled data: 0.10714285714285715\n",
      "attack loss: 2.019279956817627\n",
      "GCN loss on unlabled data: 1.9454187154769897\n",
      "GCN acc on unlabled data: 0.17303822937625757\n",
      "attack loss: 1.9413175582885742\n"
     ]
    },
    {
     "name": "stderr",
     "output_type": "stream",
     "text": [
      "Perturbing graph:  39%|████████████████████████▊                                      | 199/506 [00:05<00:07, 40.30it/s]"
     ]
    },
    {
     "name": "stdout",
     "output_type": "stream",
     "text": [
      "GCN loss on unlabled data: 1.9787787199020386\n",
      "GCN acc on unlabled data: 0.17203219315895374\n",
      "attack loss: 1.9749490022659302\n",
      "GCN loss on unlabled data: 1.9372929334640503\n",
      "GCN acc on unlabled data: 0.16348088531187124\n",
      "attack loss: 1.937130331993103\n",
      "GCN loss on unlabled data: 1.955165147781372\n",
      "GCN acc on unlabled data: 0.1302816901408451\n",
      "attack loss: 1.9517929553985596\n",
      "GCN loss on unlabled data: 1.9522862434387207\n",
      "GCN acc on unlabled data: 0.13229376257545272\n",
      "attack loss: 1.9442962408065796\n",
      "GCN loss on unlabled data: 1.9802931547164917\n",
      "GCN acc on unlabled data: 0.1267605633802817\n",
      "attack loss: 1.9802048206329346\n",
      "GCN loss on unlabled data: 1.964733600616455\n",
      "GCN acc on unlabled data: 0.1262575452716298\n",
      "attack loss: 1.9641674757003784\n",
      "GCN loss on unlabled data: 1.9367139339447021\n",
      "GCN acc on unlabled data: 0.20321931589537226\n",
      "attack loss: 1.9367750883102417\n",
      "GCN loss on unlabled data: 1.942564845085144\n",
      "GCN acc on unlabled data: 0.1398390342052314\n",
      "attack loss: 1.944752812385559\n",
      "GCN loss on unlabled data: 1.9886029958724976\n",
      "GCN acc on unlabled data: 0.1443661971830986\n",
      "attack loss: 1.9886808395385742\n"
     ]
    },
    {
     "name": "stderr",
     "output_type": "stream",
     "text": [
      "Perturbing graph:  41%|██████████████████████████                                     | 209/506 [00:05<00:07, 40.42it/s]"
     ]
    },
    {
     "name": "stdout",
     "output_type": "stream",
     "text": [
      "GCN loss on unlabled data: 1.9263216257095337\n",
      "GCN acc on unlabled data: 0.21981891348088534\n",
      "attack loss: 1.9157673120498657\n",
      "GCN loss on unlabled data: 1.987510323524475\n",
      "GCN acc on unlabled data: 0.113682092555332\n",
      "attack loss: 1.9871972799301147\n",
      "GCN loss on unlabled data: 2.0338776111602783\n",
      "GCN acc on unlabled data: 0.08802816901408451\n",
      "attack loss: 2.0417873859405518\n",
      "GCN loss on unlabled data: 1.9460175037384033\n",
      "GCN acc on unlabled data: 0.1348088531187123\n",
      "attack loss: 1.9486448764801025\n",
      "GCN loss on unlabled data: 1.8991801738739014\n",
      "GCN acc on unlabled data: 0.2404426559356137\n",
      "attack loss: 1.8936563730239868\n",
      "GCN loss on unlabled data: 1.990452527999878\n",
      "GCN acc on unlabled data: 0.10362173038229378\n",
      "attack loss: 1.9887489080429077\n",
      "GCN loss on unlabled data: 1.950079083442688\n",
      "GCN acc on unlabled data: 0.16549295774647887\n",
      "attack loss: 1.9500190019607544\n",
      "GCN loss on unlabled data: 1.95167076587677\n",
      "GCN acc on unlabled data: 0.16247484909456741\n",
      "attack loss: 1.9472697973251343\n",
      "GCN loss on unlabled data: 1.930769681930542\n",
      "GCN acc on unlabled data: 0.17002012072434608\n",
      "attack loss: 1.9329326152801514\n"
     ]
    },
    {
     "name": "stderr",
     "output_type": "stream",
     "text": [
      "Perturbing graph:  43%|███████████████████████████▎                                   | 219/506 [00:05<00:07, 39.16it/s]"
     ]
    },
    {
     "name": "stdout",
     "output_type": "stream",
     "text": [
      "GCN loss on unlabled data: 1.966596245765686\n",
      "GCN acc on unlabled data: 0.12474849094567406\n",
      "attack loss: 1.9694536924362183\n",
      "GCN loss on unlabled data: 1.9665201902389526\n",
      "GCN acc on unlabled data: 0.1267605633802817\n",
      "attack loss: 1.9652847051620483\n",
      "GCN loss on unlabled data: 1.94881010055542\n",
      "GCN acc on unlabled data: 0.14989939637826963\n",
      "attack loss: 1.9512934684753418\n",
      "GCN loss on unlabled data: 1.9387261867523193\n",
      "GCN acc on unlabled data: 0.16800804828973845\n",
      "attack loss: 1.9396406412124634\n",
      "GCN loss on unlabled data: 1.9537028074264526\n",
      "GCN acc on unlabled data: 0.11720321931589538\n",
      "attack loss: 1.947457194328308\n",
      "GCN loss on unlabled data: 2.073704242706299\n",
      "GCN acc on unlabled data: 0.07243460764587525\n",
      "attack loss: 2.0738918781280518\n",
      "GCN loss on unlabled data: 1.95638906955719\n",
      "GCN acc on unlabled data: 0.1695171026156942\n",
      "attack loss: 1.9537911415100098\n",
      "GCN loss on unlabled data: 2.02063250541687\n",
      "GCN acc on unlabled data: 0.10965794768611671\n",
      "attack loss: 2.025604724884033\n"
     ]
    },
    {
     "name": "stderr",
     "output_type": "stream",
     "text": [
      "Perturbing graph:  45%|████████████████████████████▌                                  | 229/506 [00:06<00:06, 39.83it/s]"
     ]
    },
    {
     "name": "stdout",
     "output_type": "stream",
     "text": [
      "GCN loss on unlabled data: 2.00386643409729\n",
      "GCN acc on unlabled data: 0.10613682092555334\n",
      "attack loss: 2.0041940212249756\n",
      "GCN loss on unlabled data: 1.9359042644500732\n",
      "GCN acc on unlabled data: 0.21277665995975856\n",
      "attack loss: 1.929940938949585\n",
      "GCN loss on unlabled data: 1.9412261247634888\n",
      "GCN acc on unlabled data: 0.16901408450704228\n",
      "attack loss: 1.937929391860962\n",
      "GCN loss on unlabled data: 2.0223333835601807\n",
      "GCN acc on unlabled data: 0.073943661971831\n",
      "attack loss: 2.013725996017456\n",
      "GCN loss on unlabled data: 1.9624632596969604\n",
      "GCN acc on unlabled data: 0.14235412474849096\n",
      "attack loss: 1.9589141607284546\n",
      "GCN loss on unlabled data: 2.0606095790863037\n",
      "GCN acc on unlabled data: 0.073943661971831\n",
      "attack loss: 2.0573792457580566\n",
      "GCN loss on unlabled data: 2.0240228176116943\n",
      "GCN acc on unlabled data: 0.07746478873239437\n",
      "attack loss: 2.0268313884735107\n",
      "GCN loss on unlabled data: 1.978675365447998\n",
      "GCN acc on unlabled data: 0.11720321931589538\n",
      "attack loss: 1.9762259721755981\n",
      "GCN loss on unlabled data: 1.9556188583374023\n",
      "GCN acc on unlabled data: 0.15543259557344066\n",
      "attack loss: 1.962598443031311\n"
     ]
    },
    {
     "name": "stderr",
     "output_type": "stream",
     "text": [
      "Perturbing graph:  46%|█████████████████████████████▏                                 | 234/506 [00:06<00:06, 39.98it/s]"
     ]
    },
    {
     "name": "stdout",
     "output_type": "stream",
     "text": [
      "GCN loss on unlabled data: 1.9655498266220093\n",
      "GCN acc on unlabled data: 0.11871227364185112\n",
      "attack loss: 1.9692964553833008\n",
      "GCN loss on unlabled data: 1.980383276939392\n",
      "GCN acc on unlabled data: 0.10362173038229378\n",
      "attack loss: 1.9878162145614624\n",
      "GCN loss on unlabled data: 1.9802535772323608\n",
      "GCN acc on unlabled data: 0.1403420523138833\n",
      "attack loss: 1.9845378398895264\n",
      "GCN loss on unlabled data: 1.9864256381988525\n",
      "GCN acc on unlabled data: 0.14738430583501008\n",
      "attack loss: 1.9824007749557495\n",
      "GCN loss on unlabled data: 1.9593874216079712\n",
      "GCN acc on unlabled data: 0.13531187122736418\n",
      "attack loss: 1.9509235620498657\n",
      "GCN loss on unlabled data: 1.990562915802002\n",
      "GCN acc on unlabled data: 0.136317907444668\n",
      "attack loss: 1.9812862873077393\n",
      "GCN loss on unlabled data: 2.0303823947906494\n",
      "GCN acc on unlabled data: 0.09557344064386318\n",
      "attack loss: 2.0298097133636475\n",
      "GCN loss on unlabled data: 1.9308855533599854\n",
      "GCN acc on unlabled data: 0.20472837022132798\n",
      "attack loss: 1.9303282499313354\n",
      "GCN loss on unlabled data: 1.9985547065734863\n",
      "GCN acc on unlabled data: 0.11670020120724348\n",
      "attack loss: 1.9906424283981323\n"
     ]
    },
    {
     "name": "stderr",
     "output_type": "stream",
     "text": [
      "Perturbing graph:  48%|██████████████████████████████▍                                | 244/506 [00:06<00:06, 40.28it/s]"
     ]
    },
    {
     "name": "stdout",
     "output_type": "stream",
     "text": [
      "GCN loss on unlabled data: 1.980806827545166\n",
      "GCN acc on unlabled data: 0.12022132796780685\n",
      "attack loss: 1.9780125617980957\n",
      "GCN loss on unlabled data: 1.9377070665359497\n",
      "GCN acc on unlabled data: 0.1971830985915493\n",
      "attack loss: 1.9391682147979736\n",
      "GCN loss on unlabled data: 1.9098947048187256\n",
      "GCN acc on unlabled data: 0.22434607645875254\n",
      "attack loss: 1.9139485359191895\n",
      "GCN loss on unlabled data: 1.9910356998443604\n",
      "GCN acc on unlabled data: 0.1222334004024145\n",
      "attack loss: 1.9895758628845215\n",
      "GCN loss on unlabled data: 1.9381264448165894\n",
      "GCN acc on unlabled data: 0.1619718309859155\n",
      "attack loss: 1.9340007305145264\n",
      "GCN loss on unlabled data: 1.9873660802841187\n",
      "GCN acc on unlabled data: 0.1488933601609658\n",
      "attack loss: 1.9933778047561646\n",
      "GCN loss on unlabled data: 1.9704777002334595\n",
      "GCN acc on unlabled data: 0.12877263581488935\n",
      "attack loss: 1.965699315071106\n",
      "GCN loss on unlabled data: 1.9896085262298584\n",
      "GCN acc on unlabled data: 0.17404426559356137\n",
      "attack loss: 2.0048635005950928\n",
      "GCN loss on unlabled data: 1.9605717658996582\n",
      "GCN acc on unlabled data: 0.15241448692152917\n",
      "attack loss: 1.9546409845352173\n"
     ]
    },
    {
     "name": "stderr",
     "output_type": "stream",
     "text": [
      "Perturbing graph:  50%|███████████████████████████████▌                               | 254/506 [00:06<00:06, 40.25it/s]"
     ]
    },
    {
     "name": "stdout",
     "output_type": "stream",
     "text": [
      "GCN loss on unlabled data: 1.9557685852050781\n",
      "GCN acc on unlabled data: 0.16549295774647887\n",
      "attack loss: 1.954107403755188\n",
      "GCN loss on unlabled data: 1.9961698055267334\n",
      "GCN acc on unlabled data: 0.130784708249497\n",
      "attack loss: 1.9992440938949585\n",
      "GCN loss on unlabled data: 1.960981845855713\n",
      "GCN acc on unlabled data: 0.1488933601609658\n",
      "attack loss: 1.9685508012771606\n",
      "GCN loss on unlabled data: 1.9503653049468994\n",
      "GCN acc on unlabled data: 0.17454728370221329\n",
      "attack loss: 1.9523919820785522\n",
      "GCN loss on unlabled data: 1.9588098526000977\n",
      "GCN acc on unlabled data: 0.16851106639839036\n",
      "attack loss: 1.951833724975586\n",
      "GCN loss on unlabled data: 1.9463361501693726\n",
      "GCN acc on unlabled data: 0.2057344064386318\n",
      "attack loss: 1.9493857622146606\n",
      "GCN loss on unlabled data: 2.0152673721313477\n",
      "GCN acc on unlabled data: 0.08702213279678069\n",
      "attack loss: 2.010627269744873\n",
      "GCN loss on unlabled data: 1.9541990756988525\n",
      "GCN acc on unlabled data: 0.14587525150905434\n",
      "attack loss: 1.9519988298416138\n",
      "GCN loss on unlabled data: 1.9734266996383667\n",
      "GCN acc on unlabled data: 0.14235412474849096\n",
      "attack loss: 1.9747265577316284\n"
     ]
    },
    {
     "name": "stderr",
     "output_type": "stream",
     "text": [
      "Perturbing graph:  52%|████████████████████████████████▊                              | 264/506 [00:06<00:06, 40.13it/s]"
     ]
    },
    {
     "name": "stdout",
     "output_type": "stream",
     "text": [
      "GCN loss on unlabled data: 2.003298759460449\n",
      "GCN acc on unlabled data: 0.08551307847082495\n",
      "attack loss: 2.0054800510406494\n",
      "GCN loss on unlabled data: 1.9958441257476807\n",
      "GCN acc on unlabled data: 0.12072434607645877\n",
      "attack loss: 1.9881798028945923\n",
      "GCN loss on unlabled data: 2.0397274494171143\n",
      "GCN acc on unlabled data: 0.10613682092555334\n",
      "attack loss: 2.037118673324585\n",
      "GCN loss on unlabled data: 1.9714034795761108\n",
      "GCN acc on unlabled data: 0.13329979879275655\n",
      "attack loss: 1.972974419593811\n",
      "GCN loss on unlabled data: 2.0484731197357178\n",
      "GCN acc on unlabled data: 0.10613682092555334\n",
      "attack loss: 2.051997423171997\n",
      "GCN loss on unlabled data: 1.96525239944458\n",
      "GCN acc on unlabled data: 0.12575452716297789\n",
      "attack loss: 1.9692717790603638\n",
      "GCN loss on unlabled data: 1.9218591451644897\n",
      "GCN acc on unlabled data: 0.20875251509054327\n",
      "attack loss: 1.9215741157531738\n",
      "GCN loss on unlabled data: 1.931471586227417\n",
      "GCN acc on unlabled data: 0.19014084507042256\n",
      "attack loss: 1.92753267288208\n",
      "GCN loss on unlabled data: 1.9710440635681152\n"
     ]
    },
    {
     "name": "stderr",
     "output_type": "stream",
     "text": [
      "Perturbing graph:  53%|█████████████████████████████████▍                             | 269/506 [00:07<00:05, 40.02it/s]"
     ]
    },
    {
     "name": "stdout",
     "output_type": "stream",
     "text": [
      "GCN acc on unlabled data: 0.1302816901408451\n",
      "attack loss: 1.9708362817764282\n",
      "GCN loss on unlabled data: 1.9897302389144897\n",
      "GCN acc on unlabled data: 0.0920523138832998\n",
      "attack loss: 1.9864420890808105\n",
      "GCN loss on unlabled data: 1.9793853759765625\n",
      "GCN acc on unlabled data: 0.11569416498993965\n",
      "attack loss: 1.9829494953155518\n",
      "GCN loss on unlabled data: 2.0207738876342773\n",
      "GCN acc on unlabled data: 0.07595573440643864\n",
      "attack loss: 2.0183839797973633\n",
      "GCN loss on unlabled data: 2.0182595252990723\n",
      "GCN acc on unlabled data: 0.07796780684104629\n",
      "attack loss: 2.0150845050811768\n",
      "GCN loss on unlabled data: 1.9869009256362915\n",
      "GCN acc on unlabled data: 0.11720321931589538\n",
      "attack loss: 1.996213674545288\n",
      "GCN loss on unlabled data: 1.9485787153244019\n",
      "GCN acc on unlabled data: 0.1358148893360161\n",
      "attack loss: 1.949294090270996\n",
      "GCN loss on unlabled data: 1.9695663452148438\n",
      "GCN acc on unlabled data: 0.13430583501006038\n",
      "attack loss: 1.9772742986679077\n",
      "GCN loss on unlabled data: 1.9752815961837769\n",
      "GCN acc on unlabled data: 0.11116700201207244\n",
      "attack loss: 1.9669190645217896\n"
     ]
    },
    {
     "name": "stderr",
     "output_type": "stream",
     "text": [
      "Perturbing graph:  55%|██████████████████████████████████▋                            | 279/506 [00:07<00:05, 40.19it/s]"
     ]
    },
    {
     "name": "stdout",
     "output_type": "stream",
     "text": [
      "GCN loss on unlabled data: 2.029153823852539\n",
      "GCN acc on unlabled data: 0.06790744466800805\n",
      "attack loss: 2.031078577041626\n",
      "GCN loss on unlabled data: 1.9394915103912354\n",
      "GCN acc on unlabled data: 0.19466800804828976\n",
      "attack loss: 1.9402053356170654\n",
      "GCN loss on unlabled data: 1.9364510774612427\n",
      "GCN acc on unlabled data: 0.153420523138833\n",
      "attack loss: 1.9315935373306274\n",
      "GCN loss on unlabled data: 1.9617623090744019\n",
      "GCN acc on unlabled data: 0.1695171026156942\n",
      "attack loss: 1.9701659679412842\n",
      "GCN loss on unlabled data: 1.970774531364441\n",
      "GCN acc on unlabled data: 0.14738430583501008\n",
      "attack loss: 1.969523310661316\n",
      "GCN loss on unlabled data: 1.9321540594100952\n",
      "GCN acc on unlabled data: 0.22535211267605637\n",
      "attack loss: 1.9262089729309082\n",
      "GCN loss on unlabled data: 1.9591240882873535\n",
      "GCN acc on unlabled data: 0.12776659959758552\n",
      "attack loss: 1.9688249826431274\n",
      "GCN loss on unlabled data: 1.965866208076477\n",
      "GCN acc on unlabled data: 0.12575452716297789\n",
      "attack loss: 1.9587311744689941\n",
      "GCN loss on unlabled data: 1.928821086883545\n",
      "GCN acc on unlabled data: 0.20020120724346077\n",
      "attack loss: 1.9288079738616943\n"
     ]
    },
    {
     "name": "stderr",
     "output_type": "stream",
     "text": [
      "Perturbing graph:  57%|███████████████████████████████████▉                           | 289/506 [00:07<00:05, 40.22it/s]"
     ]
    },
    {
     "name": "stdout",
     "output_type": "stream",
     "text": [
      "GCN loss on unlabled data: 1.9592835903167725\n",
      "GCN acc on unlabled data: 0.16398390342052316\n",
      "attack loss: 1.954626202583313\n",
      "GCN loss on unlabled data: 1.992685079574585\n",
      "GCN acc on unlabled data: 0.130784708249497\n",
      "attack loss: 1.9966734647750854\n",
      "GCN loss on unlabled data: 1.9395136833190918\n",
      "GCN acc on unlabled data: 0.22484909456740446\n",
      "attack loss: 1.9304299354553223\n",
      "GCN loss on unlabled data: 1.951879620552063\n",
      "GCN acc on unlabled data: 0.14839034205231388\n",
      "attack loss: 1.9497482776641846\n",
      "GCN loss on unlabled data: 2.0041418075561523\n",
      "GCN acc on unlabled data: 0.08601609657947687\n",
      "attack loss: 2.0038177967071533\n",
      "GCN loss on unlabled data: 1.969513177871704\n",
      "GCN acc on unlabled data: 0.1574446680080483\n",
      "attack loss: 1.9825502634048462\n",
      "GCN loss on unlabled data: 1.952179193496704\n",
      "GCN acc on unlabled data: 0.12977867203219318\n",
      "attack loss: 1.9496077299118042\n",
      "GCN loss on unlabled data: 1.9107282161712646\n",
      "GCN acc on unlabled data: 0.23038229376257546\n",
      "attack loss: 1.9125725030899048\n",
      "GCN loss on unlabled data: 1.9946081638336182\n",
      "GCN acc on unlabled data: 0.09708249496981892\n",
      "attack loss: 1.9993057250976562\n"
     ]
    },
    {
     "name": "stderr",
     "output_type": "stream",
     "text": [
      "Perturbing graph:  59%|█████████████████████████████████████▏                         | 299/506 [00:07<00:05, 40.13it/s]"
     ]
    },
    {
     "name": "stdout",
     "output_type": "stream",
     "text": [
      "GCN loss on unlabled data: 1.9392520189285278\n",
      "GCN acc on unlabled data: 0.21177062374245476\n",
      "attack loss: 1.9395757913589478\n",
      "GCN loss on unlabled data: 1.9373183250427246\n",
      "GCN acc on unlabled data: 0.1488933601609658\n",
      "attack loss: 1.9427498579025269\n",
      "GCN loss on unlabled data: 1.9439092874526978\n",
      "GCN acc on unlabled data: 0.164989939637827\n",
      "attack loss: 1.950770616531372\n",
      "GCN loss on unlabled data: 1.9613208770751953\n",
      "GCN acc on unlabled data: 0.147887323943662\n",
      "attack loss: 1.9651025533676147\n",
      "GCN loss on unlabled data: 1.9552788734436035\n",
      "GCN acc on unlabled data: 0.1388329979879276\n",
      "attack loss: 1.9533979892730713\n",
      "GCN loss on unlabled data: 1.9615809917449951\n",
      "GCN acc on unlabled data: 0.14285714285714288\n",
      "attack loss: 1.9552273750305176\n",
      "GCN loss on unlabled data: 1.9476186037063599\n",
      "GCN acc on unlabled data: 0.13832997987927567\n",
      "attack loss: 1.954698085784912\n",
      "GCN loss on unlabled data: 1.9999709129333496\n",
      "GCN acc on unlabled data: 0.1493963782696177\n",
      "attack loss: 1.9966496229171753\n"
     ]
    },
    {
     "name": "stderr",
     "output_type": "stream",
     "text": [
      "Perturbing graph:  60%|█████████████████████████████████████▊                         | 304/506 [00:08<00:06, 31.54it/s]"
     ]
    },
    {
     "name": "stdout",
     "output_type": "stream",
     "text": [
      "GCN loss on unlabled data: 1.9891990423202515\n",
      "GCN acc on unlabled data: 0.10965794768611671\n",
      "attack loss: 1.9844777584075928\n",
      "GCN loss on unlabled data: 1.9396836757659912\n",
      "GCN acc on unlabled data: 0.18309859154929578\n",
      "attack loss: 1.948838472366333\n",
      "GCN loss on unlabled data: 1.979060173034668\n",
      "GCN acc on unlabled data: 0.1302816901408451\n",
      "attack loss: 1.9878791570663452\n",
      "GCN loss on unlabled data: 1.9403077363967896\n",
      "GCN acc on unlabled data: 0.18561368209255535\n",
      "attack loss: 1.943387508392334\n",
      "GCN loss on unlabled data: 1.9488238096237183\n",
      "GCN acc on unlabled data: 0.1448692152917505\n",
      "attack loss: 1.9497953653335571\n",
      "GCN loss on unlabled data: 1.9635063409805298\n",
      "GCN acc on unlabled data: 0.1750503018108652\n",
      "attack loss: 1.9671131372451782\n",
      "GCN loss on unlabled data: 1.9437412023544312\n",
      "GCN acc on unlabled data: 0.1443661971830986\n",
      "attack loss: 1.943223476409912\n",
      "GCN loss on unlabled data: 1.9520717859268188\n",
      "GCN acc on unlabled data: 0.130784708249497\n",
      "attack loss: 1.9481793642044067\n",
      "GCN loss on unlabled data: 2.013450860977173\n",
      "GCN acc on unlabled data: 0.11468812877263583\n",
      "attack loss: 2.0073258876800537\n"
     ]
    },
    {
     "name": "stderr",
     "output_type": "stream",
     "text": [
      "Perturbing graph:  62%|███████████████████████████████████████▎                       | 316/506 [00:08<00:05, 36.01it/s]"
     ]
    },
    {
     "name": "stdout",
     "output_type": "stream",
     "text": [
      "GCN loss on unlabled data: 1.9759511947631836\n",
      "GCN acc on unlabled data: 0.1398390342052314\n",
      "attack loss: 1.9796063899993896\n",
      "GCN loss on unlabled data: 1.9477065801620483\n",
      "GCN acc on unlabled data: 0.16800804828973845\n",
      "attack loss: 1.9463584423065186\n",
      "GCN loss on unlabled data: 1.9010120630264282\n",
      "GCN acc on unlabled data: 0.22132796780684105\n",
      "attack loss: 1.9041720628738403\n",
      "GCN loss on unlabled data: 1.948703408241272\n",
      "GCN acc on unlabled data: 0.130784708249497\n",
      "attack loss: 1.941663384437561\n",
      "GCN loss on unlabled data: 1.9323569536209106\n",
      "GCN acc on unlabled data: 0.2142857142857143\n",
      "attack loss: 1.9356504678726196\n",
      "GCN loss on unlabled data: 1.9725998640060425\n",
      "GCN acc on unlabled data: 0.17605633802816903\n",
      "attack loss: 1.9723583459854126\n",
      "GCN loss on unlabled data: 1.964050531387329\n",
      "GCN acc on unlabled data: 0.15694164989939638\n",
      "attack loss: 1.968300223350525\n",
      "GCN loss on unlabled data: 2.0283010005950928\n",
      "GCN acc on unlabled data: 0.09708249496981892\n",
      "attack loss: 2.029895782470703\n"
     ]
    },
    {
     "name": "stderr",
     "output_type": "stream",
     "text": [
      "Perturbing graph:  64%|████████████████████████████████████████▎                      | 324/506 [00:08<00:04, 37.76it/s]"
     ]
    },
    {
     "name": "stdout",
     "output_type": "stream",
     "text": [
      "GCN loss on unlabled data: 1.9721169471740723\n",
      "GCN acc on unlabled data: 0.12072434607645877\n",
      "attack loss: 1.9728858470916748\n",
      "GCN loss on unlabled data: 2.030222177505493\n",
      "GCN acc on unlabled data: 0.0824949698189135\n",
      "attack loss: 2.0417559146881104\n",
      "GCN loss on unlabled data: 2.0190844535827637\n",
      "GCN acc on unlabled data: 0.11217303822937627\n",
      "attack loss: 2.0212557315826416\n",
      "GCN loss on unlabled data: 1.959124207496643\n",
      "GCN acc on unlabled data: 0.1388329979879276\n",
      "attack loss: 1.9640555381774902\n",
      "GCN loss on unlabled data: 1.9676344394683838\n",
      "GCN acc on unlabled data: 0.10110663983903422\n",
      "attack loss: 1.9654293060302734\n",
      "GCN loss on unlabled data: 1.952404499053955\n",
      "GCN acc on unlabled data: 0.16800804828973845\n",
      "attack loss: 1.9522989988327026\n",
      "GCN loss on unlabled data: 1.9858074188232422\n",
      "GCN acc on unlabled data: 0.15593561368209258\n",
      "attack loss: 1.9860597848892212\n",
      "GCN loss on unlabled data: 1.9534797668457031\n",
      "GCN acc on unlabled data: 0.1574446680080483\n",
      "attack loss: 1.9472497701644897\n"
     ]
    },
    {
     "name": "stderr",
     "output_type": "stream",
     "text": [
      "Perturbing graph:  65%|████████████████████████████████████████▊                      | 328/506 [00:08<00:04, 38.33it/s]"
     ]
    },
    {
     "name": "stdout",
     "output_type": "stream",
     "text": [
      "GCN loss on unlabled data: 1.9745813608169556\n",
      "GCN acc on unlabled data: 0.16146881287726358\n",
      "attack loss: 1.9732708930969238\n",
      "GCN loss on unlabled data: 1.9387942552566528\n",
      "GCN acc on unlabled data: 0.1664989939637827\n",
      "attack loss: 1.931775689125061\n",
      "GCN loss on unlabled data: 1.953352451324463\n",
      "GCN acc on unlabled data: 0.1433601609657948\n",
      "attack loss: 1.9550248384475708\n",
      "GCN loss on unlabled data: 1.9979476928710938\n",
      "GCN acc on unlabled data: 0.136317907444668\n",
      "attack loss: 2.001641273498535\n",
      "GCN loss on unlabled data: 2.017889976501465\n",
      "GCN acc on unlabled data: 0.12977867203219318\n",
      "attack loss: 2.0222742557525635\n",
      "GCN loss on unlabled data: 1.9934593439102173\n",
      "GCN acc on unlabled data: 0.1267605633802817\n",
      "attack loss: 1.9985089302062988\n",
      "GCN loss on unlabled data: 2.015359878540039\n",
      "GCN acc on unlabled data: 0.1388329979879276\n",
      "attack loss: 2.014478921890259\n",
      "GCN loss on unlabled data: 1.9248467683792114\n",
      "GCN acc on unlabled data: 0.17454728370221329\n",
      "attack loss: 1.9257069826126099\n",
      "GCN loss on unlabled data: 1.936612844467163\n",
      "GCN acc on unlabled data: 0.15492957746478875\n",
      "attack loss: 1.9395548105239868\n"
     ]
    },
    {
     "name": "stderr",
     "output_type": "stream",
     "text": [
      "Perturbing graph:  67%|██████████████████████████████████████████                     | 338/506 [00:08<00:04, 39.25it/s]"
     ]
    },
    {
     "name": "stdout",
     "output_type": "stream",
     "text": [
      "GCN loss on unlabled data: 1.9813637733459473\n",
      "GCN acc on unlabled data: 0.1403420523138833\n",
      "attack loss: 1.9854401350021362\n",
      "GCN loss on unlabled data: 1.9560574293136597\n",
      "GCN acc on unlabled data: 0.14738430583501008\n",
      "attack loss: 1.9522117376327515\n",
      "GCN loss on unlabled data: 1.9548163414001465\n",
      "GCN acc on unlabled data: 0.16096579476861167\n",
      "attack loss: 1.9573581218719482\n",
      "GCN loss on unlabled data: 1.9595608711242676\n",
      "GCN acc on unlabled data: 0.147887323943662\n",
      "attack loss: 1.9674580097198486\n",
      "GCN loss on unlabled data: 1.9460439682006836\n",
      "GCN acc on unlabled data: 0.16348088531187124\n",
      "attack loss: 1.947896957397461\n",
      "GCN loss on unlabled data: 1.9708961248397827\n",
      "GCN acc on unlabled data: 0.10814889336016098\n",
      "attack loss: 1.9701154232025146\n",
      "GCN loss on unlabled data: 2.025686502456665\n",
      "GCN acc on unlabled data: 0.0960764587525151\n",
      "attack loss: 2.027116060256958\n",
      "GCN loss on unlabled data: 1.9103357791900635\n",
      "GCN acc on unlabled data: 0.22585513078470826\n",
      "attack loss: 1.9127482175827026\n",
      "GCN loss on unlabled data: 1.9789927005767822\n",
      "GCN acc on unlabled data: 0.113682092555332\n",
      "attack loss: 1.9770663976669312\n"
     ]
    },
    {
     "name": "stderr",
     "output_type": "stream",
     "text": [
      "Perturbing graph:  69%|███████████████████████████████████████████▌                   | 350/506 [00:09<00:03, 39.61it/s]"
     ]
    },
    {
     "name": "stdout",
     "output_type": "stream",
     "text": [
      "GCN loss on unlabled data: 1.969222903251648\n",
      "GCN acc on unlabled data: 0.21529175050301813\n",
      "attack loss: 1.971659779548645\n",
      "GCN loss on unlabled data: 1.996726155281067\n",
      "GCN acc on unlabled data: 0.10211267605633803\n",
      "attack loss: 1.9939900636672974\n",
      "GCN loss on unlabled data: 1.9526317119598389\n",
      "GCN acc on unlabled data: 0.1348088531187123\n",
      "attack loss: 1.9520264863967896\n",
      "GCN loss on unlabled data: 1.9653681516647339\n",
      "GCN acc on unlabled data: 0.16146881287726358\n",
      "attack loss: 1.95412015914917\n",
      "GCN loss on unlabled data: 2.003849744796753\n",
      "GCN acc on unlabled data: 0.09708249496981892\n",
      "attack loss: 2.0051918029785156\n",
      "GCN loss on unlabled data: 1.9596480131149292\n",
      "GCN acc on unlabled data: 0.1448692152917505\n",
      "attack loss: 1.9624249935150146\n",
      "GCN loss on unlabled data: 1.9123262166976929\n",
      "GCN acc on unlabled data: 0.1926559356136821\n",
      "attack loss: 1.9094765186309814\n",
      "GCN loss on unlabled data: 1.9575594663619995\n",
      "GCN acc on unlabled data: 0.17655935613682094\n",
      "attack loss: 1.9498488903045654\n"
     ]
    },
    {
     "name": "stderr",
     "output_type": "stream",
     "text": [
      "Perturbing graph:  71%|████████████████████████████████████████████▌                  | 358/506 [00:09<00:03, 39.73it/s]"
     ]
    },
    {
     "name": "stdout",
     "output_type": "stream",
     "text": [
      "GCN loss on unlabled data: 2.045764923095703\n",
      "GCN acc on unlabled data: 0.10211267605633803\n",
      "attack loss: 2.0514440536499023\n",
      "GCN loss on unlabled data: 1.9696755409240723\n",
      "GCN acc on unlabled data: 0.14587525150905434\n",
      "attack loss: 1.974282145500183\n",
      "GCN loss on unlabled data: 1.9959250688552856\n",
      "GCN acc on unlabled data: 0.11720321931589538\n",
      "attack loss: 1.9980844259262085\n",
      "GCN loss on unlabled data: 1.9687484502792358\n",
      "GCN acc on unlabled data: 0.11468812877263583\n",
      "attack loss: 1.9675418138504028\n",
      "GCN loss on unlabled data: 1.9303759336471558\n",
      "GCN acc on unlabled data: 0.21478873239436622\n",
      "attack loss: 1.926789402961731\n",
      "GCN loss on unlabled data: 1.9579707384109497\n",
      "GCN acc on unlabled data: 0.14738430583501008\n",
      "attack loss: 1.9607230424880981\n",
      "GCN loss on unlabled data: 1.9811723232269287\n",
      "GCN acc on unlabled data: 0.11066398390342053\n",
      "attack loss: 1.9932090044021606\n",
      "GCN loss on unlabled data: 1.9923489093780518\n",
      "GCN acc on unlabled data: 0.12877263581488935\n",
      "attack loss: 1.9999287128448486\n"
     ]
    },
    {
     "name": "stderr",
     "output_type": "stream",
     "text": [
      "Perturbing graph:  72%|█████████████████████████████████████████████▌                 | 366/506 [00:09<00:03, 39.80it/s]"
     ]
    },
    {
     "name": "stdout",
     "output_type": "stream",
     "text": [
      "GCN loss on unlabled data: 1.9575387239456177\n",
      "GCN acc on unlabled data: 0.1272635814889336\n",
      "attack loss: 1.9683284759521484\n",
      "GCN loss on unlabled data: 1.9971046447753906\n",
      "GCN acc on unlabled data: 0.09657947686116701\n",
      "attack loss: 2.0013091564178467\n",
      "GCN loss on unlabled data: 1.911661982536316\n",
      "GCN acc on unlabled data: 0.22887323943661975\n",
      "attack loss: 1.9092901945114136\n",
      "GCN loss on unlabled data: 1.8984203338623047\n",
      "GCN acc on unlabled data: 0.21931589537223342\n",
      "attack loss: 1.9027962684631348\n",
      "GCN loss on unlabled data: 1.9486947059631348\n",
      "GCN acc on unlabled data: 0.1433601609657948\n",
      "attack loss: 1.9453694820404053\n",
      "GCN loss on unlabled data: 2.017801523208618\n",
      "GCN acc on unlabled data: 0.11569416498993965\n",
      "attack loss: 2.017083168029785\n",
      "GCN loss on unlabled data: 1.9340659379959106\n",
      "GCN acc on unlabled data: 0.17857142857142858\n",
      "attack loss: 1.931775450706482\n",
      "GCN loss on unlabled data: 1.9755709171295166\n",
      "GCN acc on unlabled data: 0.11720321931589538\n",
      "attack loss: 1.9736162424087524\n"
     ]
    },
    {
     "name": "stderr",
     "output_type": "stream",
     "text": [
      "Perturbing graph:  74%|██████████████████████████████████████████████▋                | 375/506 [00:09<00:03, 39.99it/s]"
     ]
    },
    {
     "name": "stdout",
     "output_type": "stream",
     "text": [
      "GCN loss on unlabled data: 1.9445178508758545\n",
      "GCN acc on unlabled data: 0.1433601609657948\n",
      "attack loss: 1.9433575868606567\n",
      "GCN loss on unlabled data: 1.9521639347076416\n",
      "GCN acc on unlabled data: 0.16800804828973845\n",
      "attack loss: 1.966222882270813\n",
      "GCN loss on unlabled data: 1.9924997091293335\n",
      "GCN acc on unlabled data: 0.12424547283702214\n",
      "attack loss: 1.9880436658859253\n",
      "GCN loss on unlabled data: 1.9579700231552124\n",
      "GCN acc on unlabled data: 0.14637826961770625\n",
      "attack loss: 1.9537936449050903\n",
      "GCN loss on unlabled data: 1.9899042844772339\n",
      "GCN acc on unlabled data: 0.12173038229376258\n",
      "attack loss: 1.986207127571106\n",
      "GCN loss on unlabled data: 1.9686211347579956\n",
      "GCN acc on unlabled data: 0.15593561368209258\n",
      "attack loss: 1.9635498523712158\n",
      "GCN loss on unlabled data: 2.0054285526275635\n",
      "GCN acc on unlabled data: 0.08853118712273643\n",
      "attack loss: 2.011776924133301\n",
      "GCN loss on unlabled data: 2.011995792388916\n",
      "GCN acc on unlabled data: 0.09507042253521128\n",
      "attack loss: 2.0125579833984375\n",
      "GCN loss on unlabled data: 1.9407846927642822\n",
      "GCN acc on unlabled data: 0.19014084507042256\n",
      "attack loss: 1.9398175477981567\n"
     ]
    },
    {
     "name": "stderr",
     "output_type": "stream",
     "text": [
      "Perturbing graph:  76%|███████████████████████████████████████████████▋               | 383/506 [00:10<00:03, 39.87it/s]"
     ]
    },
    {
     "name": "stdout",
     "output_type": "stream",
     "text": [
      "GCN loss on unlabled data: 1.9089210033416748\n",
      "GCN acc on unlabled data: 0.20472837022132798\n",
      "attack loss: 1.9115643501281738\n",
      "GCN loss on unlabled data: 1.9753822088241577\n",
      "GCN acc on unlabled data: 0.14084507042253522\n",
      "attack loss: 1.976154088973999\n",
      "GCN loss on unlabled data: 1.9488085508346558\n",
      "GCN acc on unlabled data: 0.14235412474849096\n",
      "attack loss: 1.9457200765609741\n",
      "GCN loss on unlabled data: 1.998589277267456\n",
      "GCN acc on unlabled data: 0.09859154929577466\n",
      "attack loss: 1.9989957809448242\n",
      "GCN loss on unlabled data: 1.936514139175415\n",
      "GCN acc on unlabled data: 0.17152917505030182\n",
      "attack loss: 1.9388022422790527\n",
      "GCN loss on unlabled data: 1.9834647178649902\n",
      "GCN acc on unlabled data: 0.10613682092555334\n",
      "attack loss: 1.990789532661438\n",
      "GCN loss on unlabled data: 1.9550694227218628\n",
      "GCN acc on unlabled data: 0.18209255533199198\n",
      "attack loss: 1.9536420106887817\n",
      "GCN loss on unlabled data: 1.9235937595367432\n",
      "GCN acc on unlabled data: 0.18511066398390344\n",
      "attack loss: 1.9210227727890015\n"
     ]
    },
    {
     "name": "stderr",
     "output_type": "stream",
     "text": [
      "Perturbing graph:  76%|████████████████████████████████████████████████▏              | 387/506 [00:10<00:02, 39.84it/s]"
     ]
    },
    {
     "name": "stdout",
     "output_type": "stream",
     "text": [
      "GCN loss on unlabled data: 1.9988892078399658\n",
      "GCN acc on unlabled data: 0.1358148893360161\n",
      "attack loss: 2.003495693206787\n",
      "GCN loss on unlabled data: 2.024513006210327\n",
      "GCN acc on unlabled data: 0.09004024144869216\n",
      "attack loss: 2.027672529220581\n",
      "GCN loss on unlabled data: 2.0105059146881104\n",
      "GCN acc on unlabled data: 0.08148893360160966\n",
      "attack loss: 2.008237361907959\n",
      "GCN loss on unlabled data: 1.9604642391204834\n",
      "GCN acc on unlabled data: 0.1619718309859155\n",
      "attack loss: 1.96100652217865\n",
      "GCN loss on unlabled data: 1.9236667156219482\n",
      "GCN acc on unlabled data: 0.17555331991951711\n",
      "attack loss: 1.9263004064559937\n",
      "GCN loss on unlabled data: 1.9191237688064575\n",
      "GCN acc on unlabled data: 0.19567404426559357\n",
      "attack loss: 1.9185049533843994\n",
      "GCN loss on unlabled data: 1.9943333864212036\n",
      "GCN acc on unlabled data: 0.11720321931589538\n",
      "attack loss: 1.982185959815979\n",
      "GCN loss on unlabled data: 1.919284701347351\n",
      "GCN acc on unlabled data: 0.20925553319919518\n",
      "attack loss: 1.9120367765426636\n",
      "GCN loss on unlabled data: 1.9832109212875366\n",
      "GCN acc on unlabled data: 0.136317907444668\n",
      "attack loss: 1.9780192375183105\n"
     ]
    },
    {
     "name": "stderr",
     "output_type": "stream",
     "text": [
      "Perturbing graph:  79%|█████████████████████████████████████████████████▊             | 400/506 [00:10<00:02, 39.84it/s]"
     ]
    },
    {
     "name": "stdout",
     "output_type": "stream",
     "text": [
      "GCN loss on unlabled data: 1.951155662536621\n",
      "GCN acc on unlabled data: 0.18158953722334006\n",
      "attack loss: 1.9462695121765137\n",
      "GCN loss on unlabled data: 2.0360240936279297\n",
      "GCN acc on unlabled data: 0.10865191146881288\n",
      "attack loss: 2.037012815475464\n",
      "GCN loss on unlabled data: 1.9970635175704956\n",
      "GCN acc on unlabled data: 0.12424547283702214\n",
      "attack loss: 2.0017871856689453\n",
      "GCN loss on unlabled data: 1.9578791856765747\n",
      "GCN acc on unlabled data: 0.14084507042253522\n",
      "attack loss: 1.9609391689300537\n",
      "GCN loss on unlabled data: 2.022244691848755\n",
      "GCN acc on unlabled data: 0.08048289738430583\n",
      "attack loss: 2.009770631790161\n",
      "GCN loss on unlabled data: 1.9514071941375732\n",
      "GCN acc on unlabled data: 0.17002012072434608\n",
      "attack loss: 1.9507132768630981\n",
      "GCN loss on unlabled data: 1.9107903242111206\n",
      "GCN acc on unlabled data: 0.19315895372233402\n",
      "attack loss: 1.911686658859253\n",
      "GCN loss on unlabled data: 1.955135703086853\n",
      "GCN acc on unlabled data: 0.15845070422535212\n",
      "attack loss: 1.963154911994934\n"
     ]
    },
    {
     "name": "stderr",
     "output_type": "stream",
     "text": [
      "Perturbing graph:  81%|██████████████████████████████████████████████████▊            | 408/506 [00:10<00:02, 39.75it/s]"
     ]
    },
    {
     "name": "stdout",
     "output_type": "stream",
     "text": [
      "GCN loss on unlabled data: 1.9607495069503784\n",
      "GCN acc on unlabled data: 0.14386317907444668\n",
      "attack loss: 1.9584499597549438\n",
      "GCN loss on unlabled data: 1.9966188669204712\n",
      "GCN acc on unlabled data: 0.11267605633802819\n",
      "attack loss: 1.9928321838378906\n",
      "GCN loss on unlabled data: 1.9850939512252808\n",
      "GCN acc on unlabled data: 0.1091549295774648\n",
      "attack loss: 1.9886530637741089\n",
      "GCN loss on unlabled data: 1.9586355686187744\n",
      "GCN acc on unlabled data: 0.1795774647887324\n",
      "attack loss: 1.9587410688400269\n",
      "GCN loss on unlabled data: 1.9776830673217773\n",
      "GCN acc on unlabled data: 0.15040241448692154\n",
      "attack loss: 1.9821830987930298\n",
      "GCN loss on unlabled data: 1.9295086860656738\n",
      "GCN acc on unlabled data: 0.16901408450704228\n",
      "attack loss: 1.9244023561477661\n",
      "GCN loss on unlabled data: 1.968138575553894\n",
      "GCN acc on unlabled data: 0.147887323943662\n",
      "attack loss: 1.964661955833435\n",
      "GCN loss on unlabled data: 1.9645651578903198\n",
      "GCN acc on unlabled data: 0.13229376257545272\n",
      "attack loss: 1.964503288269043\n"
     ]
    },
    {
     "name": "stderr",
     "output_type": "stream",
     "text": [
      "Perturbing graph:  82%|███████████████████████████████████████████████████▊           | 416/506 [00:10<00:02, 39.48it/s]"
     ]
    },
    {
     "name": "stdout",
     "output_type": "stream",
     "text": [
      "GCN loss on unlabled data: 2.016622304916382\n",
      "GCN acc on unlabled data: 0.08953722334004025\n",
      "attack loss: 2.006476402282715\n",
      "GCN loss on unlabled data: 1.954431176185608\n",
      "GCN acc on unlabled data: 0.13782696177062376\n",
      "attack loss: 1.955344319343567\n",
      "GCN loss on unlabled data: 1.9543741941452026\n",
      "GCN acc on unlabled data: 0.12927565392354126\n",
      "attack loss: 1.9651844501495361\n",
      "GCN loss on unlabled data: 1.990126132965088\n",
      "GCN acc on unlabled data: 0.08048289738430583\n",
      "attack loss: 1.9951478242874146\n",
      "GCN loss on unlabled data: 2.0109550952911377\n",
      "GCN acc on unlabled data: 0.10714285714285715\n",
      "attack loss: 2.0092923641204834\n",
      "GCN loss on unlabled data: 1.9595832824707031\n",
      "GCN acc on unlabled data: 0.15593561368209258\n",
      "attack loss: 1.962038516998291\n",
      "GCN loss on unlabled data: 1.9837661981582642\n",
      "GCN acc on unlabled data: 0.12474849094567406\n",
      "attack loss: 1.9802298545837402\n",
      "GCN loss on unlabled data: 1.9865326881408691\n",
      "GCN acc on unlabled data: 0.07645875251509054\n",
      "attack loss: 1.9817895889282227\n"
     ]
    },
    {
     "name": "stderr",
     "output_type": "stream",
     "text": [
      "Perturbing graph:  84%|████████████████████████████████████████████████████▉          | 425/506 [00:11<00:02, 39.81it/s]"
     ]
    },
    {
     "name": "stdout",
     "output_type": "stream",
     "text": [
      "GCN loss on unlabled data: 1.985710620880127\n",
      "GCN acc on unlabled data: 0.10160965794768613\n",
      "attack loss: 1.9921129941940308\n",
      "GCN loss on unlabled data: 1.9939038753509521\n",
      "GCN acc on unlabled data: 0.16297786720321933\n",
      "attack loss: 1.9956858158111572\n",
      "GCN loss on unlabled data: 2.0619404315948486\n",
      "GCN acc on unlabled data: 0.0789738430583501\n",
      "attack loss: 2.0609238147735596\n",
      "GCN loss on unlabled data: 1.8955328464508057\n",
      "GCN acc on unlabled data: 0.23289738430583504\n",
      "attack loss: 1.8899013996124268\n",
      "GCN loss on unlabled data: 1.9337388277053833\n",
      "GCN acc on unlabled data: 0.21529175050301813\n",
      "attack loss: 1.9311178922653198\n",
      "GCN loss on unlabled data: 2.0058939456939697\n",
      "GCN acc on unlabled data: 0.10211267605633803\n",
      "attack loss: 2.000014543533325\n",
      "GCN loss on unlabled data: 1.9707276821136475\n",
      "GCN acc on unlabled data: 0.14084507042253522\n",
      "attack loss: 1.9725207090377808\n",
      "GCN loss on unlabled data: 1.97719407081604\n",
      "GCN acc on unlabled data: 0.1519114688128773\n",
      "attack loss: 1.9729546308517456\n",
      "GCN loss on unlabled data: 1.9945440292358398\n",
      "GCN acc on unlabled data: 0.0789738430583501\n",
      "attack loss: 1.9931373596191406\n"
     ]
    },
    {
     "name": "stderr",
     "output_type": "stream",
     "text": [
      "Perturbing graph:  85%|█████████████████████████████████████████████████████▍         | 429/506 [00:11<00:01, 39.78it/s]"
     ]
    },
    {
     "name": "stdout",
     "output_type": "stream",
     "text": [
      "GCN loss on unlabled data: 1.987200140953064\n",
      "GCN acc on unlabled data: 0.10110663983903422\n",
      "attack loss: 1.9830561876296997\n",
      "GCN loss on unlabled data: 1.9507243633270264\n",
      "GCN acc on unlabled data: 0.17655935613682094\n",
      "attack loss: 1.9494225978851318\n",
      "GCN loss on unlabled data: 1.9885737895965576\n",
      "GCN acc on unlabled data: 0.14134808853118713\n",
      "attack loss: 1.9861088991165161\n",
      "GCN loss on unlabled data: 1.934905767440796\n",
      "GCN acc on unlabled data: 0.17404426559356137\n",
      "attack loss: 1.9410136938095093\n",
      "GCN loss on unlabled data: 1.9467220306396484\n",
      "GCN acc on unlabled data: 0.153420523138833\n",
      "attack loss: 1.9400438070297241\n",
      "GCN loss on unlabled data: 1.9748859405517578\n",
      "GCN acc on unlabled data: 0.11720321931589538\n",
      "attack loss: 1.9765361547470093\n",
      "GCN loss on unlabled data: 1.9568612575531006\n",
      "GCN acc on unlabled data: 0.16297786720321933\n",
      "attack loss: 1.9585978984832764\n",
      "GCN loss on unlabled data: 1.9808539152145386\n",
      "GCN acc on unlabled data: 0.09959758551307848\n",
      "attack loss: 1.9900853633880615\n"
     ]
    },
    {
     "name": "stderr",
     "output_type": "stream",
     "text": [
      "Perturbing graph:  87%|██████████████████████████████████████████████████████▌        | 438/506 [00:11<00:01, 39.01it/s]"
     ]
    },
    {
     "name": "stdout",
     "output_type": "stream",
     "text": [
      "GCN loss on unlabled data: 2.0225203037261963\n",
      "GCN acc on unlabled data: 0.1091549295774648\n",
      "attack loss: 2.0225629806518555\n",
      "GCN loss on unlabled data: 2.0039186477661133\n",
      "GCN acc on unlabled data: 0.10764587525150907\n",
      "attack loss: 2.007582187652588\n",
      "GCN loss on unlabled data: 1.959538459777832\n",
      "GCN acc on unlabled data: 0.15040241448692154\n",
      "attack loss: 1.9580185413360596\n",
      "GCN loss on unlabled data: 1.9630845785140991\n",
      "GCN acc on unlabled data: 0.11569416498993965\n",
      "attack loss: 1.9618827104568481\n",
      "GCN loss on unlabled data: 1.9959893226623535\n",
      "GCN acc on unlabled data: 0.1262575452716298\n",
      "attack loss: 2.003873109817505\n",
      "GCN loss on unlabled data: 1.9835032224655151\n",
      "GCN acc on unlabled data: 0.15845070422535212\n",
      "attack loss: 1.9873305559158325\n"
     ]
    },
    {
     "name": "stderr",
     "output_type": "stream",
     "text": [
      "Perturbing graph:  87%|██████████████████████████████████████████████████████▋        | 439/506 [00:12<00:01, 36.00it/s]\n"
     ]
    },
    {
     "ename": "OutOfMemoryError",
     "evalue": "CUDA out of memory. Tried to allocate 24.00 MiB (GPU 0; 31.74 GiB total capacity; 31.27 GiB already allocated; 21.12 MiB free; 31.29 GiB reserved in total by PyTorch) If reserved memory is >> allocated memory try setting max_split_size_mb to avoid fragmentation.  See documentation for Memory Management and PYTORCH_CUDA_ALLOC_CONF",
     "output_type": "error",
     "traceback": [
      "\u001b[0;31m---------------------------------------------------------------------------\u001b[0m",
      "\u001b[0;31mOutOfMemoryError\u001b[0m                          Traceback (most recent call last)",
      "Cell \u001b[0;32mIn[11], line 3\u001b[0m\n\u001b[1;32m      1\u001b[0m \u001b[38;5;28;01mif\u001b[39;00m \u001b[38;5;18m__name__\u001b[39m \u001b[38;5;241m==\u001b[39m \u001b[38;5;124m'\u001b[39m\u001b[38;5;124m__main__\u001b[39m\u001b[38;5;124m'\u001b[39m:\n\u001b[1;32m      2\u001b[0m     torch\u001b[38;5;241m.\u001b[39mcuda\u001b[38;5;241m.\u001b[39mempty_cache()\n\u001b[0;32m----> 3\u001b[0m     results \u001b[38;5;241m=\u001b[39m \u001b[43mrun_attack\u001b[49m\u001b[43m(\u001b[49m\u001b[43m)\u001b[49m\n\u001b[1;32m      5\u001b[0m     \u001b[38;5;66;03m# Print comparative summary\u001b[39;00m\n\u001b[1;32m      6\u001b[0m     \u001b[38;5;28mprint\u001b[39m(\u001b[38;5;124m\"\u001b[39m\u001b[38;5;130;01m\\n\u001b[39;00m\u001b[38;5;124m=== Comparative Analysis ===\u001b[39m\u001b[38;5;124m\"\u001b[39m)\n",
      "Cell \u001b[0;32mIn[7], line 38\u001b[0m, in \u001b[0;36mrun_attack\u001b[0;34m()\u001b[0m\n\u001b[1;32m     35\u001b[0m \u001b[38;5;66;03m# Generate adversarial adjacency matrix focusing on test nodes\u001b[39;00m\n\u001b[1;32m     36\u001b[0m \u001b[38;5;28mprint\u001b[39m(\u001b[38;5;124mf\u001b[39m\u001b[38;5;124m'\u001b[39m\u001b[38;5;124m=== Perturbing graph with \u001b[39m\u001b[38;5;132;01m{\u001b[39;00mperturbations\u001b[38;5;132;01m}\u001b[39;00m\u001b[38;5;124m edge modifications ===\u001b[39m\u001b[38;5;124m'\u001b[39m)\n\u001b[0;32m---> 38\u001b[0m modified_adj \u001b[38;5;241m=\u001b[39m \u001b[43mmodel\u001b[49m\u001b[43m(\u001b[49m\u001b[43mfeatures\u001b[49m\u001b[43m,\u001b[49m\u001b[43m \u001b[49m\u001b[43madj\u001b[49m\u001b[43m,\u001b[49m\u001b[43m \u001b[49m\u001b[43mlabels\u001b[49m\u001b[43m,\u001b[49m\u001b[43m \u001b[49m\u001b[43midx_train\u001b[49m\u001b[43m,\u001b[49m\u001b[43m \u001b[49m\u001b[43midx_test\u001b[49m\u001b[43m,\u001b[49m\u001b[43m \u001b[49m\u001b[43mperturbations\u001b[49m\u001b[43m,\u001b[49m\u001b[43m \u001b[49m\u001b[43mll_constraint\u001b[49m\u001b[38;5;241;43m=\u001b[39;49m\u001b[38;5;28;43;01mFalse\u001b[39;49;00m\u001b[43m)\u001b[49m\n\u001b[1;32m     39\u001b[0m modified_adj \u001b[38;5;241m=\u001b[39m modified_adj\u001b[38;5;241m.\u001b[39mdetach()\n\u001b[1;32m     41\u001b[0m runs \u001b[38;5;241m=\u001b[39m \u001b[38;5;241m3\u001b[39m  \u001b[38;5;66;03m# Reduced from 10 to 3 for quicker execution\u001b[39;00m\n",
      "File \u001b[0;32m~/miniconda3/envs/ersp_v2/lib/python3.9/site-packages/torch/nn/modules/module.py:1190\u001b[0m, in \u001b[0;36mModule._call_impl\u001b[0;34m(self, *input, **kwargs)\u001b[0m\n\u001b[1;32m   1186\u001b[0m \u001b[38;5;66;03m# If we don't have any hooks, we want to skip the rest of the logic in\u001b[39;00m\n\u001b[1;32m   1187\u001b[0m \u001b[38;5;66;03m# this function, and just call forward.\u001b[39;00m\n\u001b[1;32m   1188\u001b[0m \u001b[38;5;28;01mif\u001b[39;00m \u001b[38;5;129;01mnot\u001b[39;00m (\u001b[38;5;28mself\u001b[39m\u001b[38;5;241m.\u001b[39m_backward_hooks \u001b[38;5;129;01mor\u001b[39;00m \u001b[38;5;28mself\u001b[39m\u001b[38;5;241m.\u001b[39m_forward_hooks \u001b[38;5;129;01mor\u001b[39;00m \u001b[38;5;28mself\u001b[39m\u001b[38;5;241m.\u001b[39m_forward_pre_hooks \u001b[38;5;129;01mor\u001b[39;00m _global_backward_hooks\n\u001b[1;32m   1189\u001b[0m         \u001b[38;5;129;01mor\u001b[39;00m _global_forward_hooks \u001b[38;5;129;01mor\u001b[39;00m _global_forward_pre_hooks):\n\u001b[0;32m-> 1190\u001b[0m     \u001b[38;5;28;01mreturn\u001b[39;00m \u001b[43mforward_call\u001b[49m\u001b[43m(\u001b[49m\u001b[38;5;241;43m*\u001b[39;49m\u001b[38;5;28;43minput\u001b[39;49m\u001b[43m,\u001b[49m\u001b[43m \u001b[49m\u001b[38;5;241;43m*\u001b[39;49m\u001b[38;5;241;43m*\u001b[39;49m\u001b[43mkwargs\u001b[49m\u001b[43m)\u001b[49m\n\u001b[1;32m   1191\u001b[0m \u001b[38;5;66;03m# Do not call functions when jit is used\u001b[39;00m\n\u001b[1;32m   1192\u001b[0m full_backward_hooks, non_full_backward_hooks \u001b[38;5;241m=\u001b[39m [], []\n",
      "File \u001b[0;32m~/ERSP/2-phase-attack/experiments/Metattack_2/metattack.py:237\u001b[0m, in \u001b[0;36mMetattack.forward\u001b[0;34m(self, features, ori_adj, labels, idx_train, idx_unlabeled, perturbations, ll_constraint, ll_cutoff)\u001b[0m\n\u001b[1;32m    235\u001b[0m adj_norm \u001b[38;5;241m=\u001b[39m utils\u001b[38;5;241m.\u001b[39mnormalize_adj_tensor(modified_adj)\n\u001b[1;32m    236\u001b[0m \u001b[38;5;28mself\u001b[39m\u001b[38;5;241m.\u001b[39minner_train(features, adj_norm, idx_train, idx_unlabeled, labels)\n\u001b[0;32m--> 237\u001b[0m adj_grad \u001b[38;5;241m=\u001b[39m \u001b[38;5;28;43mself\u001b[39;49m\u001b[38;5;241;43m.\u001b[39;49m\u001b[43mget_meta_grad\u001b[49m\u001b[43m(\u001b[49m\u001b[43mfeatures\u001b[49m\u001b[43m,\u001b[49m\u001b[43m \u001b[49m\u001b[43madj_norm\u001b[49m\u001b[43m,\u001b[49m\u001b[43m \u001b[49m\u001b[43midx_train\u001b[49m\u001b[43m,\u001b[49m\u001b[43m \u001b[49m\u001b[43midx_unlabeled\u001b[49m\u001b[43m,\u001b[49m\u001b[43m \u001b[49m\u001b[43mlabels\u001b[49m\u001b[43m,\u001b[49m\u001b[43m \u001b[49m\u001b[43mlabels_self_training\u001b[49m\u001b[43m)\u001b[49m\n\u001b[1;32m    239\u001b[0m adj_meta_grad \u001b[38;5;241m=\u001b[39m adj_grad \u001b[38;5;241m*\u001b[39m (\u001b[38;5;241m-\u001b[39m\u001b[38;5;241m2\u001b[39m \u001b[38;5;241m*\u001b[39m modified_adj \u001b[38;5;241m+\u001b[39m \u001b[38;5;241m1\u001b[39m)\n\u001b[1;32m    240\u001b[0m adj_meta_grad \u001b[38;5;241m-\u001b[39m\u001b[38;5;241m=\u001b[39m adj_meta_grad\u001b[38;5;241m.\u001b[39mmin()\n",
      "File \u001b[0;32m~/ERSP/2-phase-attack/experiments/Metattack_2/metattack.py:216\u001b[0m, in \u001b[0;36mMetattack.get_meta_grad\u001b[0;34m(self, features, adj_norm, idx_train, idx_unlabeled, labels, labels_self_training)\u001b[0m\n\u001b[1;32m    213\u001b[0m \u001b[38;5;28;01melse\u001b[39;00m:\n\u001b[1;32m    214\u001b[0m     attack_loss \u001b[38;5;241m=\u001b[39m \u001b[38;5;28mself\u001b[39m\u001b[38;5;241m.\u001b[39mlambda_ \u001b[38;5;241m*\u001b[39m loss_labeled \u001b[38;5;241m+\u001b[39m (\u001b[38;5;241m1\u001b[39m \u001b[38;5;241m-\u001b[39m \u001b[38;5;28mself\u001b[39m\u001b[38;5;241m.\u001b[39mlambda_) \u001b[38;5;241m*\u001b[39m loss_unlabeled\n\u001b[0;32m--> 216\u001b[0m adj_grad \u001b[38;5;241m=\u001b[39m \u001b[43mtorch\u001b[49m\u001b[38;5;241;43m.\u001b[39;49m\u001b[43mautograd\u001b[49m\u001b[38;5;241;43m.\u001b[39;49m\u001b[43mgrad\u001b[49m\u001b[43m(\u001b[49m\u001b[43mattack_loss\u001b[49m\u001b[43m,\u001b[49m\u001b[43m \u001b[49m\u001b[38;5;28;43mself\u001b[39;49m\u001b[38;5;241;43m.\u001b[39;49m\u001b[43madj_changes\u001b[49m\u001b[43m,\u001b[49m\u001b[43m \u001b[49m\u001b[43mretain_graph\u001b[49m\u001b[38;5;241;43m=\u001b[39;49m\u001b[38;5;28;43;01mTrue\u001b[39;49;00m\u001b[43m)\u001b[49m[\u001b[38;5;241m0\u001b[39m]\n\u001b[1;32m    217\u001b[0m \u001b[38;5;28mprint\u001b[39m(\u001b[38;5;124mf\u001b[39m\u001b[38;5;124m'\u001b[39m\u001b[38;5;124mGCN loss on unlabled data: \u001b[39m\u001b[38;5;132;01m{\u001b[39;00mloss_test_val\u001b[38;5;241m.\u001b[39mitem()\u001b[38;5;132;01m}\u001b[39;00m\u001b[38;5;124m'\u001b[39m)\n\u001b[1;32m    218\u001b[0m \u001b[38;5;28mprint\u001b[39m(\u001b[38;5;124mf\u001b[39m\u001b[38;5;124m'\u001b[39m\u001b[38;5;124mGCN acc on unlabled data: \u001b[39m\u001b[38;5;132;01m{\u001b[39;00mutils\u001b[38;5;241m.\u001b[39maccuracy(output[idx_unlabeled],\u001b[38;5;250m \u001b[39mlabels[idx_unlabeled])\u001b[38;5;241m.\u001b[39mitem()\u001b[38;5;132;01m}\u001b[39;00m\u001b[38;5;124m'\u001b[39m)\n",
      "File \u001b[0;32m~/miniconda3/envs/ersp_v2/lib/python3.9/site-packages/torch/autograd/__init__.py:300\u001b[0m, in \u001b[0;36mgrad\u001b[0;34m(outputs, inputs, grad_outputs, retain_graph, create_graph, only_inputs, allow_unused, is_grads_batched)\u001b[0m\n\u001b[1;32m    298\u001b[0m     \u001b[38;5;28;01mreturn\u001b[39;00m _vmap_internals\u001b[38;5;241m.\u001b[39m_vmap(vjp, \u001b[38;5;241m0\u001b[39m, \u001b[38;5;241m0\u001b[39m, allow_none_pass_through\u001b[38;5;241m=\u001b[39m\u001b[38;5;28;01mTrue\u001b[39;00m)(grad_outputs_)\n\u001b[1;32m    299\u001b[0m \u001b[38;5;28;01melse\u001b[39;00m:\n\u001b[0;32m--> 300\u001b[0m     \u001b[38;5;28;01mreturn\u001b[39;00m \u001b[43mVariable\u001b[49m\u001b[38;5;241;43m.\u001b[39;49m\u001b[43m_execution_engine\u001b[49m\u001b[38;5;241;43m.\u001b[39;49m\u001b[43mrun_backward\u001b[49m\u001b[43m(\u001b[49m\u001b[43m  \u001b[49m\u001b[38;5;66;43;03m# Calls into the C++ engine to run the backward pass\u001b[39;49;00m\n\u001b[1;32m    301\u001b[0m \u001b[43m        \u001b[49m\u001b[43mt_outputs\u001b[49m\u001b[43m,\u001b[49m\u001b[43m \u001b[49m\u001b[43mgrad_outputs_\u001b[49m\u001b[43m,\u001b[49m\u001b[43m \u001b[49m\u001b[43mretain_graph\u001b[49m\u001b[43m,\u001b[49m\u001b[43m \u001b[49m\u001b[43mcreate_graph\u001b[49m\u001b[43m,\u001b[49m\u001b[43m \u001b[49m\u001b[43mt_inputs\u001b[49m\u001b[43m,\u001b[49m\n\u001b[1;32m    302\u001b[0m \u001b[43m        \u001b[49m\u001b[43mallow_unused\u001b[49m\u001b[43m,\u001b[49m\u001b[43m \u001b[49m\u001b[43maccumulate_grad\u001b[49m\u001b[38;5;241;43m=\u001b[39;49m\u001b[38;5;28;43;01mFalse\u001b[39;49;00m\u001b[43m)\u001b[49m\n",
      "\u001b[0;31mOutOfMemoryError\u001b[0m: CUDA out of memory. Tried to allocate 24.00 MiB (GPU 0; 31.74 GiB total capacity; 31.27 GiB already allocated; 21.12 MiB free; 31.29 GiB reserved in total by PyTorch) If reserved memory is >> allocated memory try setting max_split_size_mb to avoid fragmentation.  See documentation for Memory Management and PYTORCH_CUDA_ALLOC_CONF"
     ]
    }
   ],
   "source": [
    "if __name__ == '__main__':\n",
    "    torch.cuda.empty_cache()\n",
    "    results = run_attack()\n",
    "    \n",
    "    # Print comparative summary\n",
    "    print(\"\\n=== Comparative Analysis ===\")\n",
    "    print(\"Perturbation Rate | Accuracy Drop | Relative Drop | Effectiveness Ratio\")\n",
    "    print(\"-\" * 65)\n",
    "    for ptb_rate in ptb_rates:\n",
    "        print(f\"{ptb_rate*100:15.1f}% | {results[ptb_rate]['accuracy_drop']:12.4f} | {results[ptb_rate]['relative_drop']:12.2f}% | {results[ptb_rate]['effectiveness_ratio']:18.4f}\")"
   ]
  },
  {
   "cell_type": "code",
   "execution_count": null,
   "id": "8e082f52-5d05-4e54-b3c1-797966e74402",
   "metadata": {},
   "outputs": [],
   "source": []
  }
 ],
 "metadata": {
  "kernelspec": {
   "display_name": "Python 3 (ipykernel)",
   "language": "python",
   "name": "python3"
  },
  "language_info": {
   "codemirror_mode": {
    "name": "ipython",
    "version": 3
   },
   "file_extension": ".py",
   "mimetype": "text/x-python",
   "name": "python",
   "nbconvert_exporter": "python",
   "pygments_lexer": "ipython3",
   "version": "3.9.18"
  }
 },
 "nbformat": 4,
 "nbformat_minor": 5
}
