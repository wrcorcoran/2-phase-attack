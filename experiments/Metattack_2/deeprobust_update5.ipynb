{
 "cells": [
  {
   "cell_type": "code",
   "execution_count": 1,
   "id": "e5deba9f-7d58-48ec-ac69-b38c78d12d7f",
   "metadata": {},
   "outputs": [
    {
     "name": "stdout",
     "output_type": "stream",
     "text": [
      "Loading cora dataset...\n",
      "Selecting 1 largest connected components\n",
      "✅ Clean Graph Test Accuracy: 0.8053\n"
     ]
    },
    {
     "name": "stderr",
     "output_type": "stream",
     "text": [
      "Perturbing graph:   0%|                                                                        | 0/1013 [00:00<?, ?it/s]"
     ]
    },
    {
     "name": "stdout",
     "output_type": "stream",
     "text": [
      "GCN loss on unlabled data: 0.5076307654380798\n",
      "GCN acc on unlabled data: 0.8484577559231113\n",
      "attack loss: 0.17009223997592926\n"
     ]
    },
    {
     "name": "stderr",
     "output_type": "stream",
     "text": [
      "Perturbing graph:   0%|                                                                | 1/1013 [00:01<17:55,  1.06s/it]"
     ]
    },
    {
     "name": "stdout",
     "output_type": "stream",
     "text": [
      "GCN loss on unlabled data: 0.5261403322219849\n",
      "GCN acc on unlabled data: 0.8489047831917748\n",
      "attack loss: 0.16797800362110138\n"
     ]
    },
    {
     "name": "stderr",
     "output_type": "stream",
     "text": [
      "Perturbing graph:   0%|▏                                                               | 2/1013 [00:01<12:48,  1.32it/s]"
     ]
    },
    {
     "name": "stdout",
     "output_type": "stream",
     "text": [
      "GCN loss on unlabled data: 0.5222971439361572\n",
      "GCN acc on unlabled data: 0.8493518104604381\n",
      "attack loss: 0.1741686314344406\n"
     ]
    },
    {
     "name": "stderr",
     "output_type": "stream",
     "text": [
      "Perturbing graph:   0%|▏                                                               | 3/1013 [00:02<11:25,  1.47it/s]"
     ]
    },
    {
     "name": "stdout",
     "output_type": "stream",
     "text": [
      "GCN loss on unlabled data: 0.5343049764633179\n",
      "GCN acc on unlabled data: 0.8430934286991507\n",
      "attack loss: 0.17782457172870636\n"
     ]
    },
    {
     "name": "stderr",
     "output_type": "stream",
     "text": [
      "Perturbing graph:   0%|▎                                                               | 4/1013 [00:02<10:26,  1.61it/s]"
     ]
    },
    {
     "name": "stdout",
     "output_type": "stream",
     "text": [
      "GCN loss on unlabled data: 0.5238354802131653\n",
      "GCN acc on unlabled data: 0.8497988377291015\n",
      "attack loss: 0.18380668759346008\n"
     ]
    },
    {
     "name": "stderr",
     "output_type": "stream",
     "text": [
      "Perturbing graph:   0%|▎                                                               | 5/1013 [00:03<09:48,  1.71it/s]"
     ]
    },
    {
     "name": "stdout",
     "output_type": "stream",
     "text": [
      "GCN loss on unlabled data: 0.526013195514679\n",
      "GCN acc on unlabled data: 0.8506928922664283\n",
      "attack loss: 0.1799597591161728\n"
     ]
    },
    {
     "name": "stderr",
     "output_type": "stream",
     "text": [
      "Perturbing graph:   1%|▍                                                               | 6/1013 [00:03<09:25,  1.78it/s]"
     ]
    },
    {
     "name": "stdout",
     "output_type": "stream",
     "text": [
      "GCN loss on unlabled data: 0.5273556709289551\n",
      "GCN acc on unlabled data: 0.8502458649977649\n",
      "attack loss: 0.1905691772699356\n"
     ]
    },
    {
     "name": "stderr",
     "output_type": "stream",
     "text": [
      "Perturbing graph:   1%|▍                                                               | 7/1013 [00:04<09:51,  1.70it/s]"
     ]
    },
    {
     "name": "stdout",
     "output_type": "stream",
     "text": [
      "GCN loss on unlabled data: 0.5366888642311096\n",
      "GCN acc on unlabled data: 0.83772910147519\n",
      "attack loss: 0.18710801005363464\n"
     ]
    },
    {
     "name": "stderr",
     "output_type": "stream",
     "text": [
      "Perturbing graph:   1%|▌                                                               | 8/1013 [00:04<09:31,  1.76it/s]"
     ]
    },
    {
     "name": "stdout",
     "output_type": "stream",
     "text": [
      "GCN loss on unlabled data: 0.5443305969238281\n",
      "GCN acc on unlabled data: 0.8426464014304873\n",
      "attack loss: 0.19616779685020447\n"
     ]
    },
    {
     "name": "stderr",
     "output_type": "stream",
     "text": [
      "Perturbing graph:   1%|▌                                                               | 9/1013 [00:05<09:17,  1.80it/s]"
     ]
    },
    {
     "name": "stdout",
     "output_type": "stream",
     "text": [
      "GCN loss on unlabled data: 0.5361852049827576\n",
      "GCN acc on unlabled data: 0.8489047831917748\n",
      "attack loss: 0.19352708756923676\n"
     ]
    },
    {
     "name": "stderr",
     "output_type": "stream",
     "text": [
      "Perturbing graph:   1%|▌                                                              | 10/1013 [00:05<09:05,  1.84it/s]"
     ]
    },
    {
     "name": "stdout",
     "output_type": "stream",
     "text": [
      "GCN loss on unlabled data: 0.5637869238853455\n",
      "GCN acc on unlabled data: 0.845775592311131\n",
      "attack loss: 0.20229777693748474\n"
     ]
    },
    {
     "name": "stderr",
     "output_type": "stream",
     "text": [
      "Perturbing graph:   1%|▋                                                              | 11/1013 [00:06<09:35,  1.74it/s]"
     ]
    },
    {
     "name": "stdout",
     "output_type": "stream",
     "text": [
      "GCN loss on unlabled data: 0.5546561479568481\n",
      "GCN acc on unlabled data: 0.8511399195350917\n",
      "attack loss: 0.20254898071289062\n"
     ]
    },
    {
     "name": "stderr",
     "output_type": "stream",
     "text": [
      "Perturbing graph:   1%|▋                                                              | 12/1013 [00:07<09:18,  1.79it/s]"
     ]
    },
    {
     "name": "stdout",
     "output_type": "stream",
     "text": [
      "GCN loss on unlabled data: 0.5560816526412964\n",
      "GCN acc on unlabled data: 0.8462226195797944\n",
      "attack loss: 0.20555709302425385\n"
     ]
    },
    {
     "name": "stderr",
     "output_type": "stream",
     "text": [
      "Perturbing graph:   1%|▊                                                              | 13/1013 [00:07<09:06,  1.83it/s]"
     ]
    },
    {
     "name": "stdout",
     "output_type": "stream",
     "text": [
      "GCN loss on unlabled data: 0.5516793727874756\n",
      "GCN acc on unlabled data: 0.8421993741618239\n",
      "attack loss: 0.2131851762533188\n"
     ]
    },
    {
     "name": "stderr",
     "output_type": "stream",
     "text": [
      "Perturbing graph:   1%|▊                                                              | 14/1013 [00:08<08:57,  1.86it/s]"
     ]
    },
    {
     "name": "stdout",
     "output_type": "stream",
     "text": [
      "GCN loss on unlabled data: 0.5616703629493713\n",
      "GCN acc on unlabled data: 0.8413053196244972\n",
      "attack loss: 0.21621307730674744\n"
     ]
    },
    {
     "name": "stderr",
     "output_type": "stream",
     "text": [
      "Perturbing graph:   1%|▉                                                              | 15/1013 [00:08<09:36,  1.73it/s]"
     ]
    },
    {
     "name": "stdout",
     "output_type": "stream",
     "text": [
      "GCN loss on unlabled data: 0.5642713308334351\n",
      "GCN acc on unlabled data: 0.8439874832364774\n",
      "attack loss: 0.2144741415977478\n"
     ]
    },
    {
     "name": "stderr",
     "output_type": "stream",
     "text": [
      "Perturbing graph:   2%|▉                                                              | 16/1013 [00:09<09:18,  1.78it/s]"
     ]
    },
    {
     "name": "stdout",
     "output_type": "stream",
     "text": [
      "GCN loss on unlabled data: 0.5580496788024902\n",
      "GCN acc on unlabled data: 0.8413053196244972\n",
      "attack loss: 0.21929386258125305\n"
     ]
    },
    {
     "name": "stderr",
     "output_type": "stream",
     "text": [
      "Perturbing graph:   2%|█                                                              | 17/1013 [00:09<09:07,  1.82it/s]"
     ]
    },
    {
     "name": "stdout",
     "output_type": "stream",
     "text": [
      "GCN loss on unlabled data: 0.5835569500923157\n",
      "GCN acc on unlabled data: 0.8386231560125168\n",
      "attack loss: 0.23117122054100037\n"
     ]
    },
    {
     "name": "stderr",
     "output_type": "stream",
     "text": [
      "Perturbing graph:   2%|█                                                              | 18/1013 [00:10<09:00,  1.84it/s]"
     ]
    },
    {
     "name": "stdout",
     "output_type": "stream",
     "text": [
      "GCN loss on unlabled data: 0.5905386209487915\n",
      "GCN acc on unlabled data: 0.8381761287438534\n",
      "attack loss: 0.22540779411792755\n"
     ]
    },
    {
     "name": "stderr",
     "output_type": "stream",
     "text": [
      "Perturbing graph:   2%|█▏                                                             | 19/1013 [00:11<09:25,  1.76it/s]"
     ]
    },
    {
     "name": "stdout",
     "output_type": "stream",
     "text": [
      "GCN loss on unlabled data: 0.6054292321205139\n",
      "GCN acc on unlabled data: 0.8395172105498435\n",
      "attack loss: 0.24614247679710388\n"
     ]
    },
    {
     "name": "stderr",
     "output_type": "stream",
     "text": [
      "Perturbing graph:   2%|█▏                                                             | 20/1013 [00:11<09:10,  1.80it/s]"
     ]
    },
    {
     "name": "stdout",
     "output_type": "stream",
     "text": [
      "GCN loss on unlabled data: 0.5889731645584106\n",
      "GCN acc on unlabled data: 0.845775592311131\n",
      "attack loss: 0.24074067175388336\n"
     ]
    },
    {
     "name": "stderr",
     "output_type": "stream",
     "text": [
      "Perturbing graph:   2%|█▎                                                             | 21/1013 [00:12<08:59,  1.84it/s]"
     ]
    },
    {
     "name": "stdout",
     "output_type": "stream",
     "text": [
      "GCN loss on unlabled data: 0.587622344493866\n",
      "GCN acc on unlabled data: 0.835493965131873\n",
      "attack loss: 0.23679831624031067\n"
     ]
    },
    {
     "name": "stderr",
     "output_type": "stream",
     "text": [
      "Perturbing graph:   2%|█▎                                                             | 22/1013 [00:12<08:53,  1.86it/s]"
     ]
    },
    {
     "name": "stdout",
     "output_type": "stream",
     "text": [
      "GCN loss on unlabled data: 0.6095821261405945\n",
      "GCN acc on unlabled data: 0.8368350469378633\n",
      "attack loss: 0.23499338328838348\n"
     ]
    },
    {
     "name": "stderr",
     "output_type": "stream",
     "text": [
      "Perturbing graph:   2%|█▍                                                             | 23/1013 [00:13<09:24,  1.75it/s]"
     ]
    },
    {
     "name": "stdout",
     "output_type": "stream",
     "text": [
      "GCN loss on unlabled data: 0.5944569110870361\n",
      "GCN acc on unlabled data: 0.8363880196691998\n",
      "attack loss: 0.24805878102779388\n"
     ]
    },
    {
     "name": "stderr",
     "output_type": "stream",
     "text": [
      "Perturbing graph:   2%|█▍                                                             | 24/1013 [00:13<09:08,  1.80it/s]"
     ]
    },
    {
     "name": "stdout",
     "output_type": "stream",
     "text": [
      "GCN loss on unlabled data: 0.5944239497184753\n",
      "GCN acc on unlabled data: 0.835493965131873\n",
      "attack loss: 0.24443545937538147\n"
     ]
    },
    {
     "name": "stderr",
     "output_type": "stream",
     "text": [
      "Perturbing graph:   2%|█▌                                                             | 25/1013 [00:14<08:57,  1.84it/s]"
     ]
    },
    {
     "name": "stdout",
     "output_type": "stream",
     "text": [
      "GCN loss on unlabled data: 0.6050060987472534\n",
      "GCN acc on unlabled data: 0.8368350469378633\n",
      "attack loss: 0.2599460482597351\n"
     ]
    },
    {
     "name": "stderr",
     "output_type": "stream",
     "text": [
      "Perturbing graph:   3%|█▌                                                             | 26/1013 [00:14<08:49,  1.86it/s]"
     ]
    },
    {
     "name": "stdout",
     "output_type": "stream",
     "text": [
      "GCN loss on unlabled data: 0.614046573638916\n",
      "GCN acc on unlabled data: 0.8332588287885562\n",
      "attack loss: 0.2568933069705963\n"
     ]
    },
    {
     "name": "stderr",
     "output_type": "stream",
     "text": [
      "Perturbing graph:   3%|█▋                                                             | 27/1013 [00:15<09:22,  1.75it/s]"
     ]
    },
    {
     "name": "stdout",
     "output_type": "stream",
     "text": [
      "GCN loss on unlabled data: 0.61967533826828\n",
      "GCN acc on unlabled data: 0.8310236924452392\n",
      "attack loss: 0.2534485459327698\n"
     ]
    },
    {
     "name": "stderr",
     "output_type": "stream",
     "text": [
      "Perturbing graph:   3%|█▋                                                             | 28/1013 [00:15<09:06,  1.80it/s]"
     ]
    },
    {
     "name": "stdout",
     "output_type": "stream",
     "text": [
      "GCN loss on unlabled data: 0.6006339192390442\n",
      "GCN acc on unlabled data: 0.8395172105498435\n",
      "attack loss: 0.25447702407836914\n"
     ]
    },
    {
     "name": "stderr",
     "output_type": "stream",
     "text": [
      "Perturbing graph:   3%|█▊                                                             | 29/1013 [00:16<08:55,  1.84it/s]"
     ]
    },
    {
     "name": "stdout",
     "output_type": "stream",
     "text": [
      "GCN loss on unlabled data: 0.610022783279419\n",
      "GCN acc on unlabled data: 0.8386231560125168\n",
      "attack loss: 0.2600117027759552\n"
     ]
    },
    {
     "name": "stderr",
     "output_type": "stream",
     "text": [
      "Perturbing graph:   3%|█▊                                                             | 30/1013 [00:17<08:47,  1.86it/s]"
     ]
    },
    {
     "name": "stdout",
     "output_type": "stream",
     "text": [
      "GCN loss on unlabled data: 0.6331794261932373\n",
      "GCN acc on unlabled data: 0.83772910147519\n",
      "attack loss: 0.27026623487472534\n"
     ]
    },
    {
     "name": "stderr",
     "output_type": "stream",
     "text": [
      "Perturbing graph:   3%|█▉                                                             | 31/1013 [00:17<09:18,  1.76it/s]"
     ]
    },
    {
     "name": "stdout",
     "output_type": "stream",
     "text": [
      "GCN loss on unlabled data: 0.6136118173599243\n",
      "GCN acc on unlabled data: 0.8341528833258829\n",
      "attack loss: 0.26524385809898376\n"
     ]
    },
    {
     "name": "stderr",
     "output_type": "stream",
     "text": [
      "Perturbing graph:   3%|█▉                                                             | 32/1013 [00:18<09:04,  1.80it/s]"
     ]
    },
    {
     "name": "stdout",
     "output_type": "stream",
     "text": [
      "GCN loss on unlabled data: 0.6336706280708313\n",
      "GCN acc on unlabled data: 0.835493965131873\n",
      "attack loss: 0.2749243378639221\n"
     ]
    },
    {
     "name": "stderr",
     "output_type": "stream",
     "text": [
      "Perturbing graph:   3%|██                                                             | 33/1013 [00:18<08:55,  1.83it/s]"
     ]
    },
    {
     "name": "stdout",
     "output_type": "stream",
     "text": [
      "GCN loss on unlabled data: 0.6211265921592712\n",
      "GCN acc on unlabled data: 0.829682610639249\n",
      "attack loss: 0.26809364557266235\n"
     ]
    },
    {
     "name": "stderr",
     "output_type": "stream",
     "text": [
      "Perturbing graph:   3%|██                                                             | 34/1013 [00:19<08:48,  1.85it/s]"
     ]
    },
    {
     "name": "stdout",
     "output_type": "stream",
     "text": [
      "GCN loss on unlabled data: 0.6335030198097229\n",
      "GCN acc on unlabled data: 0.8292355833705857\n",
      "attack loss: 0.26846572756767273\n"
     ]
    },
    {
     "name": "stderr",
     "output_type": "stream",
     "text": [
      "Perturbing graph:   3%|██▏                                                            | 35/1013 [00:19<09:16,  1.76it/s]"
     ]
    },
    {
     "name": "stdout",
     "output_type": "stream",
     "text": [
      "GCN loss on unlabled data: 0.6325254440307617\n",
      "GCN acc on unlabled data: 0.8372820742065267\n",
      "attack loss: 0.2826662063598633\n"
     ]
    },
    {
     "name": "stderr",
     "output_type": "stream",
     "text": [
      "Perturbing graph:   4%|██▏                                                            | 36/1013 [00:20<09:00,  1.81it/s]"
     ]
    },
    {
     "name": "stdout",
     "output_type": "stream",
     "text": [
      "GCN loss on unlabled data: 0.6228302121162415\n",
      "GCN acc on unlabled data: 0.8332588287885562\n",
      "attack loss: 0.28172317147254944\n"
     ]
    },
    {
     "name": "stderr",
     "output_type": "stream",
     "text": [
      "Perturbing graph:   4%|██▎                                                            | 37/1013 [00:20<08:49,  1.84it/s]"
     ]
    },
    {
     "name": "stdout",
     "output_type": "stream",
     "text": [
      "GCN loss on unlabled data: 0.6169648170471191\n",
      "GCN acc on unlabled data: 0.8292355833705857\n",
      "attack loss: 0.2883967459201813\n"
     ]
    },
    {
     "name": "stderr",
     "output_type": "stream",
     "text": [
      "Perturbing graph:   4%|██▎                                                            | 38/1013 [00:21<08:41,  1.87it/s]"
     ]
    },
    {
     "name": "stdout",
     "output_type": "stream",
     "text": [
      "GCN loss on unlabled data: 0.6263540983200073\n",
      "GCN acc on unlabled data: 0.8274474742959321\n",
      "attack loss: 0.2905794382095337\n"
     ]
    },
    {
     "name": "stderr",
     "output_type": "stream",
     "text": [
      "Perturbing graph:   4%|██▍                                                            | 39/1013 [00:22<09:14,  1.76it/s]"
     ]
    },
    {
     "name": "stdout",
     "output_type": "stream",
     "text": [
      "GCN loss on unlabled data: 0.6287968158721924\n",
      "GCN acc on unlabled data: 0.8274474742959321\n",
      "attack loss: 0.29300740361213684\n"
     ]
    },
    {
     "name": "stderr",
     "output_type": "stream",
     "text": [
      "Perturbing graph:   4%|██▍                                                            | 40/1013 [00:22<08:59,  1.80it/s]"
     ]
    },
    {
     "name": "stdout",
     "output_type": "stream",
     "text": [
      "GCN loss on unlabled data: 0.6313124299049377\n",
      "GCN acc on unlabled data: 0.8283415288332588\n",
      "attack loss: 0.2816160023212433\n"
     ]
    },
    {
     "name": "stderr",
     "output_type": "stream",
     "text": [
      "Perturbing graph:   4%|██▌                                                            | 41/1013 [00:23<08:48,  1.84it/s]"
     ]
    },
    {
     "name": "stdout",
     "output_type": "stream",
     "text": [
      "GCN loss on unlabled data: 0.6226466298103333\n",
      "GCN acc on unlabled data: 0.8287885561019223\n",
      "attack loss: 0.2847556471824646\n"
     ]
    },
    {
     "name": "stderr",
     "output_type": "stream",
     "text": [
      "Perturbing graph:   4%|██▌                                                            | 42/1013 [00:23<08:40,  1.87it/s]"
     ]
    },
    {
     "name": "stdout",
     "output_type": "stream",
     "text": [
      "GCN loss on unlabled data: 0.6490046977996826\n",
      "GCN acc on unlabled data: 0.8234242288779616\n",
      "attack loss: 0.28331318497657776\n"
     ]
    },
    {
     "name": "stderr",
     "output_type": "stream",
     "text": [
      "Perturbing graph:   4%|██▋                                                            | 43/1013 [00:24<09:15,  1.75it/s]"
     ]
    },
    {
     "name": "stdout",
     "output_type": "stream",
     "text": [
      "GCN loss on unlabled data: 0.6401041150093079\n",
      "GCN acc on unlabled data: 0.8292355833705857\n",
      "attack loss: 0.2944253981113434\n"
     ]
    },
    {
     "name": "stderr",
     "output_type": "stream",
     "text": [
      "Perturbing graph:   4%|██▋                                                            | 44/1013 [00:24<09:01,  1.79it/s]"
     ]
    },
    {
     "name": "stdout",
     "output_type": "stream",
     "text": [
      "GCN loss on unlabled data: 0.6397703886032104\n",
      "GCN acc on unlabled data: 0.8225301743406348\n",
      "attack loss: 0.2951817214488983\n"
     ]
    },
    {
     "name": "stderr",
     "output_type": "stream",
     "text": [
      "Perturbing graph:   4%|██▊                                                            | 45/1013 [00:25<08:50,  1.82it/s]"
     ]
    },
    {
     "name": "stdout",
     "output_type": "stream",
     "text": [
      "GCN loss on unlabled data: 0.6395596265792847\n",
      "GCN acc on unlabled data: 0.8247653106839518\n",
      "attack loss: 0.29033222794532776\n"
     ]
    },
    {
     "name": "stderr",
     "output_type": "stream",
     "text": [
      "Perturbing graph:   5%|██▊                                                            | 46/1013 [00:25<08:41,  1.85it/s]"
     ]
    },
    {
     "name": "stdout",
     "output_type": "stream",
     "text": [
      "GCN loss on unlabled data: 0.6570554375648499\n",
      "GCN acc on unlabled data: 0.8252123379526152\n",
      "attack loss: 0.3132342994213104\n"
     ]
    },
    {
     "name": "stderr",
     "output_type": "stream",
     "text": [
      "Perturbing graph:   5%|██▉                                                            | 47/1013 [00:26<09:06,  1.77it/s]"
     ]
    },
    {
     "name": "stdout",
     "output_type": "stream",
     "text": [
      "GCN loss on unlabled data: 0.6568447947502136\n",
      "GCN acc on unlabled data: 0.8292355833705857\n",
      "attack loss: 0.3040359616279602\n"
     ]
    },
    {
     "name": "stderr",
     "output_type": "stream",
     "text": [
      "Perturbing graph:   5%|██▉                                                            | 48/1013 [00:27<08:54,  1.80it/s]"
     ]
    },
    {
     "name": "stdout",
     "output_type": "stream",
     "text": [
      "GCN loss on unlabled data: 0.6486114859580994\n",
      "GCN acc on unlabled data: 0.8256593652212785\n",
      "attack loss: 0.2997744083404541\n"
     ]
    },
    {
     "name": "stderr",
     "output_type": "stream",
     "text": [
      "Perturbing graph:   5%|███                                                            | 49/1013 [00:27<08:45,  1.83it/s]"
     ]
    },
    {
     "name": "stdout",
     "output_type": "stream",
     "text": [
      "GCN loss on unlabled data: 0.6397979855537415\n",
      "GCN acc on unlabled data: 0.8278945015645954\n",
      "attack loss: 0.3015196621417999\n"
     ]
    },
    {
     "name": "stderr",
     "output_type": "stream",
     "text": [
      "Perturbing graph:   5%|███                                                            | 50/1013 [00:28<08:38,  1.86it/s]"
     ]
    },
    {
     "name": "stdout",
     "output_type": "stream",
     "text": [
      "GCN loss on unlabled data: 0.6425250172615051\n",
      "GCN acc on unlabled data: 0.8256593652212785\n",
      "attack loss: 0.2987320125102997\n"
     ]
    },
    {
     "name": "stderr",
     "output_type": "stream",
     "text": [
      "Perturbing graph:   5%|███▏                                                           | 51/1013 [00:28<09:08,  1.75it/s]"
     ]
    },
    {
     "name": "stdout",
     "output_type": "stream",
     "text": [
      "GCN loss on unlabled data: 0.6353046298027039\n",
      "GCN acc on unlabled data: 0.8310236924452392\n",
      "attack loss: 0.2995246648788452\n"
     ]
    },
    {
     "name": "stderr",
     "output_type": "stream",
     "text": [
      "Perturbing graph:   5%|███▏                                                           | 52/1013 [00:29<08:55,  1.80it/s]"
     ]
    },
    {
     "name": "stdout",
     "output_type": "stream",
     "text": [
      "GCN loss on unlabled data: 0.6464212536811829\n",
      "GCN acc on unlabled data: 0.8176128743853376\n",
      "attack loss: 0.3079703450202942\n"
     ]
    },
    {
     "name": "stderr",
     "output_type": "stream",
     "text": [
      "Perturbing graph:   5%|███▎                                                           | 53/1013 [00:29<08:45,  1.83it/s]"
     ]
    },
    {
     "name": "stdout",
     "output_type": "stream",
     "text": [
      "GCN loss on unlabled data: 0.6577483415603638\n",
      "GCN acc on unlabled data: 0.8270004470272687\n",
      "attack loss: 0.31106945872306824\n"
     ]
    },
    {
     "name": "stderr",
     "output_type": "stream",
     "text": [
      "Perturbing graph:   5%|███▎                                                           | 54/1013 [00:30<08:39,  1.85it/s]"
     ]
    },
    {
     "name": "stdout",
     "output_type": "stream",
     "text": [
      "GCN loss on unlabled data: 0.6486400365829468\n",
      "GCN acc on unlabled data: 0.8243182834152883\n",
      "attack loss: 0.30946293473243713\n"
     ]
    },
    {
     "name": "stderr",
     "output_type": "stream",
     "text": [
      "Perturbing graph:   5%|███▍                                                           | 55/1013 [00:30<08:59,  1.78it/s]"
     ]
    },
    {
     "name": "stdout",
     "output_type": "stream",
     "text": [
      "GCN loss on unlabled data: 0.6531903147697449\n",
      "GCN acc on unlabled data: 0.8189539561913277\n",
      "attack loss: 0.31455713510513306\n"
     ]
    },
    {
     "name": "stderr",
     "output_type": "stream",
     "text": [
      "Perturbing graph:   6%|███▍                                                           | 56/1013 [00:31<08:46,  1.82it/s]"
     ]
    },
    {
     "name": "stdout",
     "output_type": "stream",
     "text": [
      "GCN loss on unlabled data: 0.6687413454055786\n",
      "GCN acc on unlabled data: 0.8185069289226643\n",
      "attack loss: 0.3196992874145508\n"
     ]
    },
    {
     "name": "stderr",
     "output_type": "stream",
     "text": [
      "Perturbing graph:   6%|███▌                                                           | 57/1013 [00:31<08:40,  1.84it/s]"
     ]
    },
    {
     "name": "stdout",
     "output_type": "stream",
     "text": [
      "GCN loss on unlabled data: 0.6777887344360352\n",
      "GCN acc on unlabled data: 0.8171658471166742\n",
      "attack loss: 0.3146232068538666\n"
     ]
    },
    {
     "name": "stderr",
     "output_type": "stream",
     "text": [
      "Perturbing graph:   6%|███▌                                                           | 58/1013 [00:32<08:37,  1.85it/s]"
     ]
    },
    {
     "name": "stdout",
     "output_type": "stream",
     "text": [
      "GCN loss on unlabled data: 0.6751630902290344\n",
      "GCN acc on unlabled data: 0.8185069289226643\n",
      "attack loss: 0.3222102224826813\n"
     ]
    },
    {
     "name": "stderr",
     "output_type": "stream",
     "text": [
      "Perturbing graph:   6%|███▋                                                           | 59/1013 [00:33<09:09,  1.74it/s]"
     ]
    },
    {
     "name": "stdout",
     "output_type": "stream",
     "text": [
      "GCN loss on unlabled data: 0.6706312894821167\n",
      "GCN acc on unlabled data: 0.8162717925793473\n",
      "attack loss: 0.31783434748649597\n"
     ]
    },
    {
     "name": "stderr",
     "output_type": "stream",
     "text": [
      "Perturbing graph:   6%|███▋                                                           | 60/1013 [00:33<08:59,  1.77it/s]"
     ]
    },
    {
     "name": "stdout",
     "output_type": "stream",
     "text": [
      "GCN loss on unlabled data: 0.6718584299087524\n",
      "GCN acc on unlabled data: 0.8247653106839518\n",
      "attack loss: 0.3275396227836609\n"
     ]
    },
    {
     "name": "stderr",
     "output_type": "stream",
     "text": [
      "Perturbing graph:   6%|███▊                                                           | 61/1013 [00:34<08:46,  1.81it/s]"
     ]
    },
    {
     "name": "stdout",
     "output_type": "stream",
     "text": [
      "GCN loss on unlabled data: 0.6820323467254639\n",
      "GCN acc on unlabled data: 0.8176128743853376\n",
      "attack loss: 0.3283400237560272\n"
     ]
    },
    {
     "name": "stderr",
     "output_type": "stream",
     "text": [
      "Perturbing graph:   6%|███▊                                                           | 62/1013 [00:34<08:39,  1.83it/s]"
     ]
    },
    {
     "name": "stdout",
     "output_type": "stream",
     "text": [
      "GCN loss on unlabled data: 0.6798559427261353\n",
      "GCN acc on unlabled data: 0.8162717925793473\n",
      "attack loss: 0.3216652274131775\n"
     ]
    },
    {
     "name": "stderr",
     "output_type": "stream",
     "text": [
      "Perturbing graph:   6%|███▉                                                           | 63/1013 [00:35<08:53,  1.78it/s]"
     ]
    },
    {
     "name": "stdout",
     "output_type": "stream",
     "text": [
      "GCN loss on unlabled data: 0.6914187669754028\n",
      "GCN acc on unlabled data: 0.8220831470719714\n",
      "attack loss: 0.3354461193084717\n"
     ]
    },
    {
     "name": "stderr",
     "output_type": "stream",
     "text": [
      "Perturbing graph:   6%|███▉                                                           | 64/1013 [00:35<08:41,  1.82it/s]"
     ]
    },
    {
     "name": "stdout",
     "output_type": "stream",
     "text": [
      "GCN loss on unlabled data: 0.6613322496414185\n",
      "GCN acc on unlabled data: 0.8207420652659813\n",
      "attack loss: 0.3168522119522095\n"
     ]
    },
    {
     "name": "stderr",
     "output_type": "stream",
     "text": [
      "Perturbing graph:   6%|████                                                           | 65/1013 [00:36<08:32,  1.85it/s]"
     ]
    },
    {
     "name": "stdout",
     "output_type": "stream",
     "text": [
      "GCN loss on unlabled data: 0.6710894703865051\n",
      "GCN acc on unlabled data: 0.8118015198927134\n",
      "attack loss: 0.33187881112098694\n"
     ]
    },
    {
     "name": "stderr",
     "output_type": "stream",
     "text": [
      "Perturbing graph:   7%|████                                                           | 66/1013 [00:36<08:26,  1.87it/s]"
     ]
    },
    {
     "name": "stdout",
     "output_type": "stream",
     "text": [
      "GCN loss on unlabled data: 0.667033851146698\n",
      "GCN acc on unlabled data: 0.8185069289226643\n",
      "attack loss: 0.34152641892433167\n"
     ]
    },
    {
     "name": "stderr",
     "output_type": "stream",
     "text": [
      "Perturbing graph:   7%|████▏                                                          | 67/1013 [00:37<08:56,  1.76it/s]"
     ]
    },
    {
     "name": "stdout",
     "output_type": "stream",
     "text": [
      "GCN loss on unlabled data: 0.6745657920837402\n",
      "GCN acc on unlabled data: 0.8185069289226643\n",
      "attack loss: 0.32520797848701477\n"
     ]
    },
    {
     "name": "stderr",
     "output_type": "stream",
     "text": [
      "Perturbing graph:   7%|████▏                                                          | 68/1013 [00:38<08:42,  1.81it/s]"
     ]
    },
    {
     "name": "stdout",
     "output_type": "stream",
     "text": [
      "GCN loss on unlabled data: 0.7007128000259399\n",
      "GCN acc on unlabled data: 0.8162717925793473\n",
      "attack loss: 0.34706634283065796\n"
     ]
    },
    {
     "name": "stderr",
     "output_type": "stream",
     "text": [
      "Perturbing graph:   7%|████▎                                                          | 69/1013 [00:38<08:32,  1.84it/s]"
     ]
    },
    {
     "name": "stdout",
     "output_type": "stream",
     "text": [
      "GCN loss on unlabled data: 0.7067127227783203\n",
      "GCN acc on unlabled data: 0.8149307107733572\n",
      "attack loss: 0.3522542119026184\n"
     ]
    },
    {
     "name": "stderr",
     "output_type": "stream",
     "text": [
      "Perturbing graph:   7%|████▎                                                          | 70/1013 [00:39<08:25,  1.86it/s]"
     ]
    },
    {
     "name": "stdout",
     "output_type": "stream",
     "text": [
      "GCN loss on unlabled data: 0.6758953928947449\n",
      "GCN acc on unlabled data: 0.8162717925793473\n",
      "attack loss: 0.3315781056880951\n"
     ]
    },
    {
     "name": "stderr",
     "output_type": "stream",
     "text": [
      "Perturbing graph:   7%|████▍                                                          | 71/1013 [00:39<08:53,  1.77it/s]"
     ]
    },
    {
     "name": "stdout",
     "output_type": "stream",
     "text": [
      "GCN loss on unlabled data: 0.6941421627998352\n",
      "GCN acc on unlabled data: 0.8068842199374162\n",
      "attack loss: 0.345978707075119\n"
     ]
    },
    {
     "name": "stderr",
     "output_type": "stream",
     "text": [
      "Perturbing graph:   7%|████▍                                                          | 72/1013 [00:40<08:40,  1.81it/s]"
     ]
    },
    {
     "name": "stdout",
     "output_type": "stream",
     "text": [
      "GCN loss on unlabled data: 0.7006120681762695\n",
      "GCN acc on unlabled data: 0.8135896289673671\n",
      "attack loss: 0.344977468252182\n"
     ]
    },
    {
     "name": "stderr",
     "output_type": "stream",
     "text": [
      "Perturbing graph:   7%|████▌                                                          | 73/1013 [00:40<08:31,  1.84it/s]"
     ]
    },
    {
     "name": "stdout",
     "output_type": "stream",
     "text": [
      "GCN loss on unlabled data: 0.7081249356269836\n",
      "GCN acc on unlabled data: 0.8028609745194457\n",
      "attack loss: 0.347784161567688\n"
     ]
    },
    {
     "name": "stderr",
     "output_type": "stream",
     "text": [
      "Perturbing graph:   7%|████▌                                                          | 74/1013 [00:41<08:25,  1.86it/s]"
     ]
    },
    {
     "name": "stdout",
     "output_type": "stream",
     "text": [
      "GCN loss on unlabled data: 0.7070357799530029\n",
      "GCN acc on unlabled data: 0.8042020563254358\n",
      "attack loss: 0.3428424596786499\n"
     ]
    },
    {
     "name": "stderr",
     "output_type": "stream",
     "text": [
      "Perturbing graph:   7%|████▋                                                          | 75/1013 [00:41<09:05,  1.72it/s]"
     ]
    },
    {
     "name": "stdout",
     "output_type": "stream",
     "text": [
      "GCN loss on unlabled data: 0.7089604735374451\n",
      "GCN acc on unlabled data: 0.8095663835493966\n",
      "attack loss: 0.3465590476989746\n"
     ]
    },
    {
     "name": "stderr",
     "output_type": "stream",
     "text": [
      "Perturbing graph:   8%|████▋                                                          | 76/1013 [00:42<08:57,  1.74it/s]"
     ]
    },
    {
     "name": "stdout",
     "output_type": "stream",
     "text": [
      "GCN loss on unlabled data: 0.7261360287666321\n",
      "GCN acc on unlabled data: 0.8059901654000894\n",
      "attack loss: 0.3688350021839142\n"
     ]
    },
    {
     "name": "stderr",
     "output_type": "stream",
     "text": [
      "Perturbing graph:   8%|████▊                                                          | 77/1013 [00:43<08:49,  1.77it/s]"
     ]
    },
    {
     "name": "stdout",
     "output_type": "stream",
     "text": [
      "GCN loss on unlabled data: 0.701501727104187\n",
      "GCN acc on unlabled data: 0.8140366562360304\n",
      "attack loss: 0.3481326699256897\n"
     ]
    },
    {
     "name": "stderr",
     "output_type": "stream",
     "text": [
      "Perturbing graph:   8%|████▊                                                          | 78/1013 [00:43<08:37,  1.81it/s]"
     ]
    },
    {
     "name": "stdout",
     "output_type": "stream",
     "text": [
      "GCN loss on unlabled data: 0.7081766128540039\n",
      "GCN acc on unlabled data: 0.8064371926687528\n",
      "attack loss: 0.3526133894920349\n"
     ]
    },
    {
     "name": "stderr",
     "output_type": "stream",
     "text": [
      "Perturbing graph:   8%|████▉                                                          | 79/1013 [00:44<08:30,  1.83it/s]"
     ]
    },
    {
     "name": "stdout",
     "output_type": "stream",
     "text": [
      "GCN loss on unlabled data: 0.7298488020896912\n",
      "GCN acc on unlabled data: 0.8042020563254358\n",
      "attack loss: 0.3571583926677704\n"
     ]
    },
    {
     "name": "stderr",
     "output_type": "stream",
     "text": [
      "Perturbing graph:   8%|████▉                                                          | 80/1013 [00:44<08:24,  1.85it/s]"
     ]
    },
    {
     "name": "stdout",
     "output_type": "stream",
     "text": [
      "GCN loss on unlabled data: 0.7477880120277405\n",
      "GCN acc on unlabled data: 0.8042020563254358\n",
      "attack loss: 0.37465184926986694\n"
     ]
    },
    {
     "name": "stderr",
     "output_type": "stream",
     "text": [
      "Perturbing graph:   8%|█████                                                          | 81/1013 [00:45<08:19,  1.87it/s]"
     ]
    },
    {
     "name": "stdout",
     "output_type": "stream",
     "text": [
      "GCN loss on unlabled data: 0.744253396987915\n",
      "GCN acc on unlabled data: 0.7992847563701386\n",
      "attack loss: 0.3678298890590668\n"
     ]
    },
    {
     "name": "stderr",
     "output_type": "stream",
     "text": [
      "Perturbing graph:   8%|█████                                                          | 82/1013 [00:45<08:16,  1.88it/s]"
     ]
    },
    {
     "name": "stdout",
     "output_type": "stream",
     "text": [
      "GCN loss on unlabled data: 0.759171724319458\n",
      "GCN acc on unlabled data: 0.8055431381314261\n",
      "attack loss: 0.37940511107444763\n"
     ]
    },
    {
     "name": "stderr",
     "output_type": "stream",
     "text": [
      "Perturbing graph:   8%|█████▏                                                         | 83/1013 [00:46<08:41,  1.78it/s]"
     ]
    },
    {
     "name": "stdout",
     "output_type": "stream",
     "text": [
      "GCN loss on unlabled data: 0.7325996160507202\n",
      "GCN acc on unlabled data: 0.8037550290567725\n",
      "attack loss: 0.3692476451396942\n"
     ]
    },
    {
     "name": "stderr",
     "output_type": "stream",
     "text": [
      "Perturbing graph:   8%|█████▏                                                         | 84/1013 [00:46<08:31,  1.81it/s]"
     ]
    },
    {
     "name": "stdout",
     "output_type": "stream",
     "text": [
      "GCN loss on unlabled data: 0.7491139769554138\n",
      "GCN acc on unlabled data: 0.8015198927134556\n",
      "attack loss: 0.3672950565814972\n"
     ]
    },
    {
     "name": "stderr",
     "output_type": "stream",
     "text": [
      "Perturbing graph:   8%|█████▎                                                         | 85/1013 [00:47<08:24,  1.84it/s]"
     ]
    },
    {
     "name": "stdout",
     "output_type": "stream",
     "text": [
      "GCN loss on unlabled data: 0.753453254699707\n",
      "GCN acc on unlabled data: 0.8006258381761288\n",
      "attack loss: 0.3824308216571808\n"
     ]
    },
    {
     "name": "stderr",
     "output_type": "stream",
     "text": [
      "Perturbing graph:   8%|█████▎                                                         | 86/1013 [00:47<08:19,  1.86it/s]"
     ]
    },
    {
     "name": "stdout",
     "output_type": "stream",
     "text": [
      "GCN loss on unlabled data: 0.7583850622177124\n",
      "GCN acc on unlabled data: 0.7970496200268217\n",
      "attack loss: 0.3788621127605438\n"
     ]
    },
    {
     "name": "stderr",
     "output_type": "stream",
     "text": [
      "Perturbing graph:   9%|█████▍                                                         | 87/1013 [00:48<08:40,  1.78it/s]"
     ]
    },
    {
     "name": "stdout",
     "output_type": "stream",
     "text": [
      "GCN loss on unlabled data: 0.759037435054779\n",
      "GCN acc on unlabled data: 0.7952615109521681\n",
      "attack loss: 0.3889443874359131\n"
     ]
    },
    {
     "name": "stderr",
     "output_type": "stream",
     "text": [
      "Perturbing graph:   9%|█████▍                                                         | 88/1013 [00:49<08:28,  1.82it/s]"
     ]
    },
    {
     "name": "stdout",
     "output_type": "stream",
     "text": [
      "GCN loss on unlabled data: 0.785607099533081\n",
      "GCN acc on unlabled data: 0.7988377291014752\n",
      "attack loss: 0.3936651051044464\n"
     ]
    },
    {
     "name": "stderr",
     "output_type": "stream",
     "text": [
      "Perturbing graph:   9%|█████▌                                                         | 89/1013 [00:49<08:19,  1.85it/s]"
     ]
    },
    {
     "name": "stdout",
     "output_type": "stream",
     "text": [
      "GCN loss on unlabled data: 0.7730147242546082\n",
      "GCN acc on unlabled data: 0.8006258381761288\n",
      "attack loss: 0.39579692482948303\n"
     ]
    },
    {
     "name": "stderr",
     "output_type": "stream",
     "text": [
      "Perturbing graph:   9%|█████▌                                                         | 90/1013 [00:50<08:12,  1.87it/s]"
     ]
    },
    {
     "name": "stdout",
     "output_type": "stream",
     "text": [
      "GCN loss on unlabled data: 0.7835370302200317\n",
      "GCN acc on unlabled data: 0.7974966472954851\n",
      "attack loss: 0.39315593242645264\n"
     ]
    },
    {
     "name": "stderr",
     "output_type": "stream",
     "text": [
      "Perturbing graph:   9%|█████▋                                                         | 91/1013 [00:50<08:52,  1.73it/s]"
     ]
    },
    {
     "name": "stdout",
     "output_type": "stream",
     "text": [
      "GCN loss on unlabled data: 0.7874909043312073\n",
      "GCN acc on unlabled data: 0.7881090746535538\n",
      "attack loss: 0.38988232612609863\n"
     ]
    },
    {
     "name": "stderr",
     "output_type": "stream",
     "text": [
      "Perturbing graph:   9%|█████▋                                                         | 92/1013 [00:51<08:43,  1.76it/s]"
     ]
    },
    {
     "name": "stdout",
     "output_type": "stream",
     "text": [
      "GCN loss on unlabled data: 0.7703349590301514\n",
      "GCN acc on unlabled data: 0.8001788109074653\n",
      "attack loss: 0.38936761021614075\n"
     ]
    },
    {
     "name": "stderr",
     "output_type": "stream",
     "text": [
      "Perturbing graph:   9%|█████▊                                                         | 93/1013 [00:51<08:39,  1.77it/s]"
     ]
    },
    {
     "name": "stdout",
     "output_type": "stream",
     "text": [
      "GCN loss on unlabled data: 0.7598950862884521\n",
      "GCN acc on unlabled data: 0.7966025927581583\n",
      "attack loss: 0.3898308575153351\n"
     ]
    },
    {
     "name": "stderr",
     "output_type": "stream",
     "text": [
      "Perturbing graph:   9%|█████▊                                                         | 94/1013 [00:52<08:34,  1.79it/s]"
     ]
    },
    {
     "name": "stdout",
     "output_type": "stream",
     "text": [
      "GCN loss on unlabled data: 0.7854756116867065\n",
      "GCN acc on unlabled data: 0.7930263746088512\n",
      "attack loss: 0.39901837706565857\n"
     ]
    },
    {
     "name": "stderr",
     "output_type": "stream",
     "text": [
      "Perturbing graph:   9%|█████▉                                                         | 95/1013 [00:53<08:35,  1.78it/s]"
     ]
    },
    {
     "name": "stdout",
     "output_type": "stream",
     "text": [
      "GCN loss on unlabled data: 0.7896134853363037\n",
      "GCN acc on unlabled data: 0.7966025927581583\n",
      "attack loss: 0.4008883833885193\n"
     ]
    },
    {
     "name": "stderr",
     "output_type": "stream",
     "text": [
      "Perturbing graph:   9%|█████▉                                                         | 96/1013 [00:53<08:25,  1.81it/s]"
     ]
    },
    {
     "name": "stdout",
     "output_type": "stream",
     "text": [
      "GCN loss on unlabled data: 0.7957215309143066\n",
      "GCN acc on unlabled data: 0.791685292802861\n",
      "attack loss: 0.40555712580680847\n"
     ]
    },
    {
     "name": "stderr",
     "output_type": "stream",
     "text": [
      "Perturbing graph:  10%|██████                                                         | 97/1013 [00:54<08:18,  1.84it/s]"
     ]
    },
    {
     "name": "stdout",
     "output_type": "stream",
     "text": [
      "GCN loss on unlabled data: 0.791359543800354\n",
      "GCN acc on unlabled data: 0.7934734018775146\n",
      "attack loss: 0.3979426920413971\n"
     ]
    },
    {
     "name": "stderr",
     "output_type": "stream",
     "text": [
      "Perturbing graph:  10%|██████                                                         | 98/1013 [00:54<08:13,  1.86it/s]"
     ]
    },
    {
     "name": "stdout",
     "output_type": "stream",
     "text": [
      "GCN loss on unlabled data: 0.7949064373970032\n",
      "GCN acc on unlabled data: 0.7885561019222173\n",
      "attack loss: 0.4041185975074768\n"
     ]
    },
    {
     "name": "stderr",
     "output_type": "stream",
     "text": [
      "Perturbing graph:  10%|██████▏                                                        | 99/1013 [00:55<08:32,  1.78it/s]"
     ]
    },
    {
     "name": "stdout",
     "output_type": "stream",
     "text": [
      "GCN loss on unlabled data: 0.780646026134491\n",
      "GCN acc on unlabled data: 0.7898971837282075\n",
      "attack loss: 0.3955380320549011\n"
     ]
    },
    {
     "name": "stderr",
     "output_type": "stream",
     "text": [
      "Perturbing graph:  10%|██████                                                        | 100/1013 [00:55<08:23,  1.81it/s]"
     ]
    },
    {
     "name": "stdout",
     "output_type": "stream",
     "text": [
      "GCN loss on unlabled data: 0.778844952583313\n",
      "GCN acc on unlabled data: 0.7925793473401878\n",
      "attack loss: 0.3954150676727295\n"
     ]
    },
    {
     "name": "stderr",
     "output_type": "stream",
     "text": [
      "Perturbing graph:  10%|██████▏                                                       | 101/1013 [00:56<08:21,  1.82it/s]"
     ]
    },
    {
     "name": "stdout",
     "output_type": "stream",
     "text": [
      "GCN loss on unlabled data: 0.7968382239341736\n",
      "GCN acc on unlabled data: 0.7890031291908807\n",
      "attack loss: 0.41261452436447144\n"
     ]
    },
    {
     "name": "stderr",
     "output_type": "stream",
     "text": [
      "Perturbing graph:  10%|██████▏                                                       | 102/1013 [00:56<08:18,  1.83it/s]"
     ]
    },
    {
     "name": "stdout",
     "output_type": "stream",
     "text": [
      "GCN loss on unlabled data: 0.7825043201446533\n",
      "GCN acc on unlabled data: 0.7903442109968708\n",
      "attack loss: 0.4010317921638489\n"
     ]
    },
    {
     "name": "stderr",
     "output_type": "stream",
     "text": [
      "Perturbing graph:  10%|██████▎                                                       | 103/1013 [00:57<08:26,  1.80it/s]"
     ]
    },
    {
     "name": "stdout",
     "output_type": "stream",
     "text": [
      "GCN loss on unlabled data: 0.8093768954277039\n",
      "GCN acc on unlabled data: 0.7854269110415736\n",
      "attack loss: 0.4103178381919861\n"
     ]
    },
    {
     "name": "stderr",
     "output_type": "stream",
     "text": [
      "Perturbing graph:  10%|██████▎                                                       | 104/1013 [00:57<08:23,  1.80it/s]"
     ]
    },
    {
     "name": "stdout",
     "output_type": "stream",
     "text": [
      "GCN loss on unlabled data: 0.8189057111740112\n",
      "GCN acc on unlabled data: 0.7894501564595441\n",
      "attack loss: 0.4204380512237549\n"
     ]
    },
    {
     "name": "stderr",
     "output_type": "stream",
     "text": [
      "Perturbing graph:  10%|██████▍                                                       | 105/1013 [00:58<08:15,  1.83it/s]"
     ]
    },
    {
     "name": "stdout",
     "output_type": "stream",
     "text": [
      "GCN loss on unlabled data: 0.8077611327171326\n",
      "GCN acc on unlabled data: 0.7912382655341976\n",
      "attack loss: 0.4101402163505554\n"
     ]
    },
    {
     "name": "stderr",
     "output_type": "stream",
     "text": [
      "Perturbing graph:  10%|██████▍                                                       | 106/1013 [00:58<08:09,  1.85it/s]"
     ]
    },
    {
     "name": "stdout",
     "output_type": "stream",
     "text": [
      "GCN loss on unlabled data: 0.8046080470085144\n",
      "GCN acc on unlabled data: 0.7872150201162271\n",
      "attack loss: 0.4121187925338745\n"
     ]
    },
    {
     "name": "stderr",
     "output_type": "stream",
     "text": [
      "Perturbing graph:  11%|██████▌                                                       | 107/1013 [00:59<08:25,  1.79it/s]"
     ]
    },
    {
     "name": "stdout",
     "output_type": "stream",
     "text": [
      "GCN loss on unlabled data: 0.8234726190567017\n",
      "GCN acc on unlabled data: 0.7831917746982566\n",
      "attack loss: 0.424669474363327\n"
     ]
    },
    {
     "name": "stderr",
     "output_type": "stream",
     "text": [
      "Perturbing graph:  11%|██████▌                                                       | 108/1013 [01:00<08:16,  1.82it/s]"
     ]
    },
    {
     "name": "stdout",
     "output_type": "stream",
     "text": [
      "GCN loss on unlabled data: 0.8154188990592957\n",
      "GCN acc on unlabled data: 0.7849798837729102\n",
      "attack loss: 0.41207700967788696\n"
     ]
    },
    {
     "name": "stderr",
     "output_type": "stream",
     "text": [
      "Perturbing graph:  11%|██████▋                                                       | 109/1013 [01:00<08:11,  1.84it/s]"
     ]
    },
    {
     "name": "stdout",
     "output_type": "stream",
     "text": [
      "GCN loss on unlabled data: 0.8091711401939392\n",
      "GCN acc on unlabled data: 0.7872150201162271\n",
      "attack loss: 0.41883188486099243\n"
     ]
    },
    {
     "name": "stderr",
     "output_type": "stream",
     "text": [
      "Perturbing graph:  11%|██████▋                                                       | 110/1013 [01:01<08:05,  1.86it/s]"
     ]
    },
    {
     "name": "stdout",
     "output_type": "stream",
     "text": [
      "GCN loss on unlabled data: 0.8375681638717651\n",
      "GCN acc on unlabled data: 0.7867679928475637\n",
      "attack loss: 0.4311267137527466\n"
     ]
    },
    {
     "name": "stderr",
     "output_type": "stream",
     "text": [
      "Perturbing graph:  11%|██████▊                                                       | 111/1013 [01:01<08:27,  1.78it/s]"
     ]
    },
    {
     "name": "stdout",
     "output_type": "stream",
     "text": [
      "GCN loss on unlabled data: 0.8218269348144531\n",
      "GCN acc on unlabled data: 0.7854269110415736\n",
      "attack loss: 0.4190593957901001\n"
     ]
    },
    {
     "name": "stderr",
     "output_type": "stream",
     "text": [
      "Perturbing graph:  11%|██████▊                                                       | 112/1013 [01:02<08:16,  1.81it/s]"
     ]
    },
    {
     "name": "stdout",
     "output_type": "stream",
     "text": [
      "GCN loss on unlabled data: 0.81441730260849\n",
      "GCN acc on unlabled data: 0.780062583817613\n",
      "attack loss: 0.42560458183288574\n"
     ]
    },
    {
     "name": "stderr",
     "output_type": "stream",
     "text": [
      "Perturbing graph:  11%|██████▉                                                       | 113/1013 [01:02<08:09,  1.84it/s]"
     ]
    },
    {
     "name": "stdout",
     "output_type": "stream",
     "text": [
      "GCN loss on unlabled data: 0.830744743347168\n",
      "GCN acc on unlabled data: 0.7872150201162271\n",
      "attack loss: 0.43230897188186646\n"
     ]
    },
    {
     "name": "stderr",
     "output_type": "stream",
     "text": [
      "Perturbing graph:  11%|██████▉                                                       | 114/1013 [01:03<08:04,  1.86it/s]"
     ]
    },
    {
     "name": "stdout",
     "output_type": "stream",
     "text": [
      "GCN loss on unlabled data: 0.8238890171051025\n",
      "GCN acc on unlabled data: 0.7831917746982566\n",
      "attack loss: 0.42837610840797424\n"
     ]
    },
    {
     "name": "stderr",
     "output_type": "stream",
     "text": [
      "Perturbing graph:  11%|███████                                                       | 115/1013 [01:04<08:33,  1.75it/s]"
     ]
    },
    {
     "name": "stdout",
     "output_type": "stream",
     "text": [
      "GCN loss on unlabled data: 0.8322156071662903\n",
      "GCN acc on unlabled data: 0.7876620473848905\n",
      "attack loss: 0.42832672595977783\n"
     ]
    },
    {
     "name": "stderr",
     "output_type": "stream",
     "text": [
      "Perturbing graph:  11%|███████                                                       | 116/1013 [01:04<08:29,  1.76it/s]"
     ]
    },
    {
     "name": "stdout",
     "output_type": "stream",
     "text": [
      "GCN loss on unlabled data: 0.8314595818519592\n",
      "GCN acc on unlabled data: 0.785873938310237\n",
      "attack loss: 0.4370337724685669\n"
     ]
    },
    {
     "name": "stderr",
     "output_type": "stream",
     "text": [
      "Perturbing graph:  12%|███████▏                                                      | 117/1013 [01:05<08:21,  1.79it/s]"
     ]
    },
    {
     "name": "stdout",
     "output_type": "stream",
     "text": [
      "GCN loss on unlabled data: 0.8242152333259583\n",
      "GCN acc on unlabled data: 0.78363880196692\n",
      "attack loss: 0.4353640675544739\n"
     ]
    },
    {
     "name": "stderr",
     "output_type": "stream",
     "text": [
      "Perturbing graph:  12%|███████▏                                                      | 118/1013 [01:05<08:15,  1.81it/s]"
     ]
    },
    {
     "name": "stdout",
     "output_type": "stream",
     "text": [
      "GCN loss on unlabled data: 0.8481791019439697\n",
      "GCN acc on unlabled data: 0.7831917746982566\n",
      "attack loss: 0.44172871112823486\n"
     ]
    },
    {
     "name": "stderr",
     "output_type": "stream",
     "text": [
      "Perturbing graph:  12%|███████▎                                                      | 119/1013 [01:06<08:11,  1.82it/s]"
     ]
    },
    {
     "name": "stdout",
     "output_type": "stream",
     "text": [
      "GCN loss on unlabled data: 0.8400659561157227\n",
      "GCN acc on unlabled data: 0.780062583817613\n",
      "attack loss: 0.43870705366134644\n"
     ]
    },
    {
     "name": "stderr",
     "output_type": "stream",
     "text": [
      "Perturbing graph:  12%|███████▎                                                      | 120/1013 [01:06<08:04,  1.84it/s]"
     ]
    },
    {
     "name": "stdout",
     "output_type": "stream",
     "text": [
      "GCN loss on unlabled data: 0.8455311059951782\n",
      "GCN acc on unlabled data: 0.7782744747429593\n",
      "attack loss: 0.4432661533355713\n"
     ]
    },
    {
     "name": "stderr",
     "output_type": "stream",
     "text": [
      "Perturbing graph:  12%|███████▍                                                      | 121/1013 [01:07<07:59,  1.86it/s]"
     ]
    },
    {
     "name": "stdout",
     "output_type": "stream",
     "text": [
      "GCN loss on unlabled data: 0.8419051170349121\n",
      "GCN acc on unlabled data: 0.7782744747429593\n",
      "attack loss: 0.4412647485733032\n"
     ]
    },
    {
     "name": "stderr",
     "output_type": "stream",
     "text": [
      "Perturbing graph:  12%|███████▍                                                      | 122/1013 [01:07<07:55,  1.87it/s]"
     ]
    },
    {
     "name": "stdout",
     "output_type": "stream",
     "text": [
      "GCN loss on unlabled data: 0.854120135307312\n",
      "GCN acc on unlabled data: 0.7782744747429593\n",
      "attack loss: 0.45215103030204773\n"
     ]
    },
    {
     "name": "stderr",
     "output_type": "stream",
     "text": [
      "Perturbing graph:  12%|███████▌                                                      | 123/1013 [01:08<08:23,  1.77it/s]"
     ]
    },
    {
     "name": "stdout",
     "output_type": "stream",
     "text": [
      "GCN loss on unlabled data: 0.8542665243148804\n",
      "GCN acc on unlabled data: 0.7764863656683058\n",
      "attack loss: 0.45226868987083435\n"
     ]
    },
    {
     "name": "stderr",
     "output_type": "stream",
     "text": [
      "Perturbing graph:  12%|███████▌                                                      | 124/1013 [01:08<08:12,  1.80it/s]"
     ]
    },
    {
     "name": "stdout",
     "output_type": "stream",
     "text": [
      "GCN loss on unlabled data: 0.850315272808075\n",
      "GCN acc on unlabled data: 0.7814036656236031\n",
      "attack loss: 0.44550007581710815\n"
     ]
    },
    {
     "name": "stderr",
     "output_type": "stream",
     "text": [
      "Perturbing graph:  12%|███████▋                                                      | 125/1013 [01:09<08:04,  1.83it/s]"
     ]
    },
    {
     "name": "stdout",
     "output_type": "stream",
     "text": [
      "GCN loss on unlabled data: 0.8438024520874023\n",
      "GCN acc on unlabled data: 0.7831917746982566\n",
      "attack loss: 0.44300177693367004\n"
     ]
    },
    {
     "name": "stderr",
     "output_type": "stream",
     "text": [
      "Perturbing graph:  12%|███████▋                                                      | 126/1013 [01:10<07:59,  1.85it/s]"
     ]
    },
    {
     "name": "stdout",
     "output_type": "stream",
     "text": [
      "GCN loss on unlabled data: 0.8410582542419434\n",
      "GCN acc on unlabled data: 0.7849798837729102\n",
      "attack loss: 0.4469835162162781\n"
     ]
    },
    {
     "name": "stderr",
     "output_type": "stream",
     "text": [
      "Perturbing graph:  13%|███████▊                                                      | 127/1013 [01:10<08:20,  1.77it/s]"
     ]
    },
    {
     "name": "stdout",
     "output_type": "stream",
     "text": [
      "GCN loss on unlabled data: 0.8756216764450073\n",
      "GCN acc on unlabled data: 0.7738042020563255\n",
      "attack loss: 0.4588286578655243\n"
     ]
    },
    {
     "name": "stderr",
     "output_type": "stream",
     "text": [
      "Perturbing graph:  13%|███████▊                                                      | 128/1013 [01:11<08:09,  1.81it/s]"
     ]
    },
    {
     "name": "stdout",
     "output_type": "stream",
     "text": [
      "GCN loss on unlabled data: 0.8466636538505554\n",
      "GCN acc on unlabled data: 0.780062583817613\n",
      "attack loss: 0.4538063704967499\n"
     ]
    },
    {
     "name": "stderr",
     "output_type": "stream",
     "text": [
      "Perturbing graph:  13%|███████▉                                                      | 129/1013 [01:11<08:01,  1.83it/s]"
     ]
    },
    {
     "name": "stdout",
     "output_type": "stream",
     "text": [
      "GCN loss on unlabled data: 0.8773875832557678\n",
      "GCN acc on unlabled data: 0.7706750111756817\n",
      "attack loss: 0.46175065636634827\n"
     ]
    },
    {
     "name": "stderr",
     "output_type": "stream",
     "text": [
      "Perturbing graph:  13%|███████▉                                                      | 130/1013 [01:12<07:57,  1.85it/s]"
     ]
    },
    {
     "name": "stdout",
     "output_type": "stream",
     "text": [
      "GCN loss on unlabled data: 0.8812713027000427\n",
      "GCN acc on unlabled data: 0.7715690657130085\n",
      "attack loss: 0.4774293601512909\n"
     ]
    },
    {
     "name": "stderr",
     "output_type": "stream",
     "text": [
      "Perturbing graph:  13%|████████                                                      | 131/1013 [01:12<08:22,  1.76it/s]"
     ]
    },
    {
     "name": "stdout",
     "output_type": "stream",
     "text": [
      "GCN loss on unlabled data: 0.8493320941925049\n",
      "GCN acc on unlabled data: 0.7733571747876621\n",
      "attack loss: 0.4580451548099518\n"
     ]
    },
    {
     "name": "stderr",
     "output_type": "stream",
     "text": [
      "Perturbing graph:  13%|████████                                                      | 132/1013 [01:13<08:13,  1.79it/s]"
     ]
    },
    {
     "name": "stdout",
     "output_type": "stream",
     "text": [
      "GCN loss on unlabled data: 0.8662896156311035\n",
      "GCN acc on unlabled data: 0.7733571747876621\n",
      "attack loss: 0.46604758501052856\n"
     ]
    },
    {
     "name": "stderr",
     "output_type": "stream",
     "text": [
      "Perturbing graph:  13%|████████▏                                                     | 133/1013 [01:13<08:03,  1.82it/s]"
     ]
    },
    {
     "name": "stdout",
     "output_type": "stream",
     "text": [
      "GCN loss on unlabled data: 0.9161978960037231\n",
      "GCN acc on unlabled data: 0.7670987930263746\n",
      "attack loss: 0.4808190166950226\n"
     ]
    },
    {
     "name": "stderr",
     "output_type": "stream",
     "text": [
      "Perturbing graph:  13%|████████▏                                                     | 134/1013 [01:14<07:57,  1.84it/s]"
     ]
    },
    {
     "name": "stdout",
     "output_type": "stream",
     "text": [
      "GCN loss on unlabled data: 0.8851407170295715\n",
      "GCN acc on unlabled data: 0.772016092981672\n",
      "attack loss: 0.47293543815612793\n"
     ]
    },
    {
     "name": "stderr",
     "output_type": "stream",
     "text": [
      "Perturbing graph:  13%|████████▎                                                     | 135/1013 [01:15<08:23,  1.74it/s]"
     ]
    },
    {
     "name": "stdout",
     "output_type": "stream",
     "text": [
      "GCN loss on unlabled data: 0.8920286893844604\n",
      "GCN acc on unlabled data: 0.7693339293696916\n",
      "attack loss: 0.47258836030960083\n"
     ]
    },
    {
     "name": "stderr",
     "output_type": "stream",
     "text": [
      "Perturbing graph:  13%|████████▎                                                     | 136/1013 [01:15<08:19,  1.76it/s]"
     ]
    },
    {
     "name": "stdout",
     "output_type": "stream",
     "text": [
      "GCN loss on unlabled data: 0.8674604892730713\n",
      "GCN acc on unlabled data: 0.7764863656683058\n",
      "attack loss: 0.46660736203193665\n"
     ]
    },
    {
     "name": "stderr",
     "output_type": "stream",
     "text": [
      "Perturbing graph:  14%|████████▍                                                     | 137/1013 [01:16<08:22,  1.74it/s]"
     ]
    },
    {
     "name": "stdout",
     "output_type": "stream",
     "text": [
      "GCN loss on unlabled data: 0.8887344002723694\n",
      "GCN acc on unlabled data: 0.7706750111756817\n",
      "attack loss: 0.47216230630874634\n"
     ]
    },
    {
     "name": "stderr",
     "output_type": "stream",
     "text": [
      "Perturbing graph:  14%|████████▍                                                     | 138/1013 [01:16<08:16,  1.76it/s]"
     ]
    },
    {
     "name": "stdout",
     "output_type": "stream",
     "text": [
      "GCN loss on unlabled data: 0.8910791873931885\n",
      "GCN acc on unlabled data: 0.775592311130979\n",
      "attack loss: 0.48637640476226807\n"
     ]
    },
    {
     "name": "stderr",
     "output_type": "stream",
     "text": [
      "Perturbing graph:  14%|████████▌                                                     | 139/1013 [01:17<08:17,  1.76it/s]"
     ]
    },
    {
     "name": "stdout",
     "output_type": "stream",
     "text": [
      "GCN loss on unlabled data: 0.8894627094268799\n",
      "GCN acc on unlabled data: 0.772016092981672\n",
      "attack loss: 0.483540803194046\n"
     ]
    },
    {
     "name": "stderr",
     "output_type": "stream",
     "text": [
      "Perturbing graph:  14%|████████▌                                                     | 140/1013 [01:17<08:22,  1.74it/s]"
     ]
    },
    {
     "name": "stdout",
     "output_type": "stream",
     "text": [
      "GCN loss on unlabled data: 0.9144541621208191\n",
      "GCN acc on unlabled data: 0.7662047384890479\n",
      "attack loss: 0.4965764880180359\n"
     ]
    },
    {
     "name": "stderr",
     "output_type": "stream",
     "text": [
      "Perturbing graph:  14%|████████▋                                                     | 141/1013 [01:18<08:17,  1.75it/s]"
     ]
    },
    {
     "name": "stdout",
     "output_type": "stream",
     "text": [
      "GCN loss on unlabled data: 0.9340957999229431\n",
      "GCN acc on unlabled data: 0.7653106839517211\n",
      "attack loss: 0.49998190999031067\n"
     ]
    },
    {
     "name": "stderr",
     "output_type": "stream",
     "text": [
      "Perturbing graph:  14%|████████▋                                                     | 142/1013 [01:19<08:08,  1.78it/s]"
     ]
    },
    {
     "name": "stdout",
     "output_type": "stream",
     "text": [
      "GCN loss on unlabled data: 0.9290056228637695\n",
      "GCN acc on unlabled data: 0.767545820295038\n",
      "attack loss: 0.507034182548523\n"
     ]
    },
    {
     "name": "stderr",
     "output_type": "stream",
     "text": [
      "Perturbing graph:  14%|████████▊                                                     | 143/1013 [01:19<07:58,  1.82it/s]"
     ]
    },
    {
     "name": "stdout",
     "output_type": "stream",
     "text": [
      "GCN loss on unlabled data: 0.8987236618995667\n",
      "GCN acc on unlabled data: 0.7693339293696916\n",
      "attack loss: 0.4919786751270294\n"
     ]
    },
    {
     "name": "stderr",
     "output_type": "stream",
     "text": [
      "Perturbing graph:  14%|████████▊                                                     | 144/1013 [01:20<07:52,  1.84it/s]"
     ]
    },
    {
     "name": "stdout",
     "output_type": "stream",
     "text": [
      "GCN loss on unlabled data: 0.9135397672653198\n",
      "GCN acc on unlabled data: 0.767545820295038\n",
      "attack loss: 0.5007529854774475\n"
     ]
    },
    {
     "name": "stderr",
     "output_type": "stream",
     "text": [
      "Perturbing graph:  14%|████████▊                                                     | 145/1013 [01:20<07:46,  1.86it/s]"
     ]
    },
    {
     "name": "stdout",
     "output_type": "stream",
     "text": [
      "GCN loss on unlabled data: 0.9765723347663879\n",
      "GCN acc on unlabled data: 0.7563701385784533\n",
      "attack loss: 0.5345324873924255\n"
     ]
    },
    {
     "name": "stderr",
     "output_type": "stream",
     "text": [
      "Perturbing graph:  14%|████████▉                                                     | 146/1013 [01:21<07:42,  1.87it/s]"
     ]
    },
    {
     "name": "stdout",
     "output_type": "stream",
     "text": [
      "GCN loss on unlabled data: 0.927514910697937\n",
      "GCN acc on unlabled data: 0.7657577112203845\n",
      "attack loss: 0.5072177052497864\n"
     ]
    },
    {
     "name": "stderr",
     "output_type": "stream",
     "text": [
      "Perturbing graph:  15%|████████▉                                                     | 147/1013 [01:21<07:50,  1.84it/s]"
     ]
    },
    {
     "name": "stdout",
     "output_type": "stream",
     "text": [
      "GCN loss on unlabled data: 0.94040447473526\n",
      "GCN acc on unlabled data: 0.7635225748770675\n",
      "attack loss: 0.517251193523407\n"
     ]
    },
    {
     "name": "stderr",
     "output_type": "stream",
     "text": [
      "Perturbing graph:  15%|█████████                                                     | 148/1013 [01:22<07:54,  1.82it/s]"
     ]
    },
    {
     "name": "stdout",
     "output_type": "stream",
     "text": [
      "GCN loss on unlabled data: 0.9335662722587585\n",
      "GCN acc on unlabled data: 0.7666517657577112\n",
      "attack loss: 0.509181559085846\n"
     ]
    },
    {
     "name": "stderr",
     "output_type": "stream",
     "text": [
      "Perturbing graph:  15%|█████████                                                     | 149/1013 [01:22<07:52,  1.83it/s]"
     ]
    },
    {
     "name": "stdout",
     "output_type": "stream",
     "text": [
      "GCN loss on unlabled data: 0.9333795309066772\n",
      "GCN acc on unlabled data: 0.7662047384890479\n",
      "attack loss: 0.5022920370101929\n"
     ]
    },
    {
     "name": "stderr",
     "output_type": "stream",
     "text": [
      "Perturbing graph:  15%|█████████▏                                                    | 150/1013 [01:23<07:45,  1.85it/s]"
     ]
    },
    {
     "name": "stdout",
     "output_type": "stream",
     "text": [
      "GCN loss on unlabled data: 0.954318106174469\n",
      "GCN acc on unlabled data: 0.7581582476531069\n",
      "attack loss: 0.5279980301856995\n"
     ]
    },
    {
     "name": "stderr",
     "output_type": "stream",
     "text": [
      "Perturbing graph:  15%|█████████▏                                                    | 151/1013 [01:23<07:47,  1.84it/s]"
     ]
    },
    {
     "name": "stdout",
     "output_type": "stream",
     "text": [
      "GCN loss on unlabled data: 0.9587185978889465\n",
      "GCN acc on unlabled data: 0.7626285203397407\n",
      "attack loss: 0.5298629403114319\n"
     ]
    },
    {
     "name": "stderr",
     "output_type": "stream",
     "text": [
      "Perturbing graph:  15%|█████████▎                                                    | 152/1013 [01:24<07:42,  1.86it/s]"
     ]
    },
    {
     "name": "stdout",
     "output_type": "stream",
     "text": [
      "GCN loss on unlabled data: 0.9697359204292297\n",
      "GCN acc on unlabled data: 0.7599463567277605\n",
      "attack loss: 0.5308126211166382\n"
     ]
    },
    {
     "name": "stderr",
     "output_type": "stream",
     "text": [
      "Perturbing graph:  15%|█████████▎                                                    | 153/1013 [01:24<07:38,  1.87it/s]"
     ]
    },
    {
     "name": "stdout",
     "output_type": "stream",
     "text": [
      "GCN loss on unlabled data: 0.9575392007827759\n",
      "GCN acc on unlabled data: 0.7572641931157801\n",
      "attack loss: 0.5233832001686096\n"
     ]
    },
    {
     "name": "stderr",
     "output_type": "stream",
     "text": [
      "Perturbing graph:  15%|█████████▍                                                    | 154/1013 [01:25<07:35,  1.88it/s]"
     ]
    },
    {
     "name": "stdout",
     "output_type": "stream",
     "text": [
      "GCN loss on unlabled data: 0.9567814469337463\n",
      "GCN acc on unlabled data: 0.7621814930710774\n",
      "attack loss: 0.5288143754005432\n"
     ]
    },
    {
     "name": "stderr",
     "output_type": "stream",
     "text": [
      "Perturbing graph:  15%|█████████▍                                                    | 155/1013 [01:26<08:01,  1.78it/s]"
     ]
    },
    {
     "name": "stdout",
     "output_type": "stream",
     "text": [
      "GCN loss on unlabled data: 0.9798619747161865\n",
      "GCN acc on unlabled data: 0.7541350022351364\n",
      "attack loss: 0.5410553812980652\n"
     ]
    },
    {
     "name": "stderr",
     "output_type": "stream",
     "text": [
      "Perturbing graph:  15%|█████████▌                                                    | 156/1013 [01:26<07:51,  1.82it/s]"
     ]
    },
    {
     "name": "stdout",
     "output_type": "stream",
     "text": [
      "GCN loss on unlabled data: 0.9632689952850342\n",
      "GCN acc on unlabled data: 0.7563701385784533\n",
      "attack loss: 0.5248700380325317\n"
     ]
    },
    {
     "name": "stderr",
     "output_type": "stream",
     "text": [
      "Perturbing graph:  15%|█████████▌                                                    | 157/1013 [01:27<07:44,  1.84it/s]"
     ]
    },
    {
     "name": "stdout",
     "output_type": "stream",
     "text": [
      "GCN loss on unlabled data: 0.9577869176864624\n",
      "GCN acc on unlabled data: 0.7603933839964238\n",
      "attack loss: 0.5199454426765442\n"
     ]
    },
    {
     "name": "stderr",
     "output_type": "stream",
     "text": [
      "Perturbing graph:  16%|█████████▋                                                    | 158/1013 [01:27<07:37,  1.87it/s]"
     ]
    },
    {
     "name": "stdout",
     "output_type": "stream",
     "text": [
      "GCN loss on unlabled data: 0.9634099006652832\n",
      "GCN acc on unlabled data: 0.7586052749217702\n",
      "attack loss: 0.5363612771034241\n"
     ]
    },
    {
     "name": "stderr",
     "output_type": "stream",
     "text": [
      "Perturbing graph:  16%|█████████▋                                                    | 159/1013 [01:28<08:05,  1.76it/s]"
     ]
    },
    {
     "name": "stdout",
     "output_type": "stream",
     "text": [
      "GCN loss on unlabled data: 0.978966474533081\n",
      "GCN acc on unlabled data: 0.7572641931157801\n",
      "attack loss: 0.537013053894043\n"
     ]
    },
    {
     "name": "stderr",
     "output_type": "stream",
     "text": [
      "Perturbing graph:  16%|█████████▊                                                    | 160/1013 [01:28<07:53,  1.80it/s]"
     ]
    },
    {
     "name": "stdout",
     "output_type": "stream",
     "text": [
      "GCN loss on unlabled data: 0.9975429773330688\n",
      "GCN acc on unlabled data: 0.7545820295037997\n",
      "attack loss: 0.5546087026596069\n"
     ]
    },
    {
     "name": "stderr",
     "output_type": "stream",
     "text": [
      "Perturbing graph:  16%|█████████▊                                                    | 161/1013 [01:29<07:45,  1.83it/s]"
     ]
    },
    {
     "name": "stdout",
     "output_type": "stream",
     "text": [
      "GCN loss on unlabled data: 0.9982323050498962\n",
      "GCN acc on unlabled data: 0.7550290567724631\n",
      "attack loss: 0.5490329265594482\n"
     ]
    },
    {
     "name": "stderr",
     "output_type": "stream",
     "text": [
      "Perturbing graph:  16%|█████████▉                                                    | 162/1013 [01:29<07:39,  1.85it/s]"
     ]
    },
    {
     "name": "stdout",
     "output_type": "stream",
     "text": [
      "GCN loss on unlabled data: 0.9890487194061279\n",
      "GCN acc on unlabled data: 0.7532409476978096\n",
      "attack loss: 0.5444900393486023\n"
     ]
    },
    {
     "name": "stderr",
     "output_type": "stream",
     "text": [
      "Perturbing graph:  16%|█████████▉                                                    | 163/1013 [01:30<08:03,  1.76it/s]"
     ]
    },
    {
     "name": "stdout",
     "output_type": "stream",
     "text": [
      "GCN loss on unlabled data: 0.9761561751365662\n",
      "GCN acc on unlabled data: 0.7541350022351364\n",
      "attack loss: 0.5453146696090698\n"
     ]
    },
    {
     "name": "stderr",
     "output_type": "stream",
     "text": [
      "Perturbing graph:  16%|██████████                                                    | 164/1013 [01:31<07:49,  1.81it/s]"
     ]
    },
    {
     "name": "stdout",
     "output_type": "stream",
     "text": [
      "GCN loss on unlabled data: 0.9949958324432373\n",
      "GCN acc on unlabled data: 0.7545820295037997\n",
      "attack loss: 0.562934160232544\n"
     ]
    },
    {
     "name": "stderr",
     "output_type": "stream",
     "text": [
      "Perturbing graph:  16%|██████████                                                    | 165/1013 [01:31<07:40,  1.84it/s]"
     ]
    },
    {
     "name": "stdout",
     "output_type": "stream",
     "text": [
      "GCN loss on unlabled data: 1.0024585723876953\n",
      "GCN acc on unlabled data: 0.7577112203844435\n",
      "attack loss: 0.5577594041824341\n"
     ]
    },
    {
     "name": "stderr",
     "output_type": "stream",
     "text": [
      "Perturbing graph:  16%|██████████▏                                                   | 166/1013 [01:32<07:34,  1.87it/s]"
     ]
    },
    {
     "name": "stdout",
     "output_type": "stream",
     "text": [
      "GCN loss on unlabled data: 0.9935949444770813\n",
      "GCN acc on unlabled data: 0.7550290567724631\n",
      "attack loss: 0.5493416786193848\n"
     ]
    },
    {
     "name": "stderr",
     "output_type": "stream",
     "text": [
      "Perturbing graph:  16%|██████████▏                                                   | 167/1013 [01:32<08:12,  1.72it/s]"
     ]
    },
    {
     "name": "stdout",
     "output_type": "stream",
     "text": [
      "GCN loss on unlabled data: 1.0025862455368042\n",
      "GCN acc on unlabled data: 0.753687974966473\n",
      "attack loss: 0.56243896484375\n"
     ]
    },
    {
     "name": "stderr",
     "output_type": "stream",
     "text": [
      "Perturbing graph:  17%|██████████▎                                                   | 168/1013 [01:33<07:57,  1.77it/s]"
     ]
    },
    {
     "name": "stdout",
     "output_type": "stream",
     "text": [
      "GCN loss on unlabled data: 1.0261725187301636\n",
      "GCN acc on unlabled data: 0.7501117568171659\n",
      "attack loss: 0.5650311708450317\n"
     ]
    },
    {
     "name": "stderr",
     "output_type": "stream",
     "text": [
      "Perturbing graph:  17%|██████████▎                                                   | 169/1013 [01:33<07:46,  1.81it/s]"
     ]
    },
    {
     "name": "stdout",
     "output_type": "stream",
     "text": [
      "GCN loss on unlabled data: 1.0378602743148804\n",
      "GCN acc on unlabled data: 0.7496647295485025\n",
      "attack loss: 0.5769522190093994\n"
     ]
    },
    {
     "name": "stderr",
     "output_type": "stream",
     "text": [
      "Perturbing graph:  17%|██████████▍                                                   | 170/1013 [01:34<07:41,  1.83it/s]"
     ]
    },
    {
     "name": "stdout",
     "output_type": "stream",
     "text": [
      "GCN loss on unlabled data: 0.9937617182731628\n",
      "GCN acc on unlabled data: 0.7523468931604829\n",
      "attack loss: 0.5553743839263916\n"
     ]
    },
    {
     "name": "stderr",
     "output_type": "stream",
     "text": [
      "Perturbing graph:  17%|██████████▍                                                   | 171/1013 [01:34<07:53,  1.78it/s]"
     ]
    },
    {
     "name": "stdout",
     "output_type": "stream",
     "text": [
      "GCN loss on unlabled data: 1.0508321523666382\n",
      "GCN acc on unlabled data: 0.7505587840858292\n",
      "attack loss: 0.5918651819229126\n"
     ]
    },
    {
     "name": "stderr",
     "output_type": "stream",
     "text": [
      "Perturbing graph:  17%|██████████▌                                                   | 172/1013 [01:35<07:41,  1.82it/s]"
     ]
    },
    {
     "name": "stdout",
     "output_type": "stream",
     "text": [
      "GCN loss on unlabled data: 1.0371503829956055\n",
      "GCN acc on unlabled data: 0.7474295932051855\n",
      "attack loss: 0.5586328506469727\n"
     ]
    },
    {
     "name": "stderr",
     "output_type": "stream",
     "text": [
      "Perturbing graph:  17%|██████████▌                                                   | 173/1013 [01:35<07:33,  1.85it/s]"
     ]
    },
    {
     "name": "stdout",
     "output_type": "stream",
     "text": [
      "GCN loss on unlabled data: 1.0101618766784668\n",
      "GCN acc on unlabled data: 0.7501117568171659\n",
      "attack loss: 0.5543268918991089\n"
     ]
    },
    {
     "name": "stderr",
     "output_type": "stream",
     "text": [
      "Perturbing graph:  17%|██████████▋                                                   | 174/1013 [01:36<07:27,  1.87it/s]"
     ]
    },
    {
     "name": "stdout",
     "output_type": "stream",
     "text": [
      "GCN loss on unlabled data: 1.039245843887329\n",
      "GCN acc on unlabled data: 0.7563701385784533\n",
      "attack loss: 0.5893682241439819\n"
     ]
    },
    {
     "name": "stderr",
     "output_type": "stream",
     "text": [
      "Perturbing graph:  17%|██████████▋                                                   | 175/1013 [01:37<07:56,  1.76it/s]"
     ]
    },
    {
     "name": "stdout",
     "output_type": "stream",
     "text": [
      "GCN loss on unlabled data: 0.9992284178733826\n",
      "GCN acc on unlabled data: 0.7554760840411265\n",
      "attack loss: 0.5540570020675659\n"
     ]
    },
    {
     "name": "stderr",
     "output_type": "stream",
     "text": [
      "Perturbing graph:  17%|██████████▊                                                   | 176/1013 [01:37<07:43,  1.81it/s]"
     ]
    },
    {
     "name": "stdout",
     "output_type": "stream",
     "text": [
      "GCN loss on unlabled data: 1.0208631753921509\n",
      "GCN acc on unlabled data: 0.7523468931604829\n",
      "attack loss: 0.5695823431015015\n"
     ]
    },
    {
     "name": "stderr",
     "output_type": "stream",
     "text": [
      "Perturbing graph:  17%|██████████▊                                                   | 177/1013 [01:38<07:34,  1.84it/s]"
     ]
    },
    {
     "name": "stdout",
     "output_type": "stream",
     "text": [
      "GCN loss on unlabled data: 1.0521098375320435\n",
      "GCN acc on unlabled data: 0.7510058113544926\n",
      "attack loss: 0.5938276052474976\n"
     ]
    },
    {
     "name": "stderr",
     "output_type": "stream",
     "text": [
      "Perturbing graph:  18%|██████████▉                                                   | 178/1013 [01:38<07:34,  1.84it/s]"
     ]
    },
    {
     "name": "stdout",
     "output_type": "stream",
     "text": [
      "GCN loss on unlabled data: 1.0422537326812744\n",
      "GCN acc on unlabled data: 0.7483236477425124\n",
      "attack loss: 0.5871665477752686\n"
     ]
    },
    {
     "name": "stderr",
     "output_type": "stream",
     "text": [
      "Perturbing graph:  18%|██████████▉                                                   | 179/1013 [01:39<08:04,  1.72it/s]"
     ]
    },
    {
     "name": "stdout",
     "output_type": "stream",
     "text": [
      "GCN loss on unlabled data: 1.057722568511963\n",
      "GCN acc on unlabled data: 0.745641484130532\n",
      "attack loss: 0.597623884677887\n"
     ]
    },
    {
     "name": "stderr",
     "output_type": "stream",
     "text": [
      "Perturbing graph:  18%|███████████                                                   | 180/1013 [01:39<07:56,  1.75it/s]"
     ]
    },
    {
     "name": "stdout",
     "output_type": "stream",
     "text": [
      "GCN loss on unlabled data: 1.0361039638519287\n",
      "GCN acc on unlabled data: 0.7527939204291462\n",
      "attack loss: 0.5841162800788879\n"
     ]
    },
    {
     "name": "stderr",
     "output_type": "stream",
     "text": [
      "Perturbing graph:  18%|███████████                                                   | 181/1013 [01:40<07:51,  1.77it/s]"
     ]
    },
    {
     "name": "stdout",
     "output_type": "stream",
     "text": [
      "GCN loss on unlabled data: 1.0935157537460327\n",
      "GCN acc on unlabled data: 0.7465355386678587\n",
      "attack loss: 0.6072884202003479\n"
     ]
    },
    {
     "name": "stderr",
     "output_type": "stream",
     "text": [
      "Perturbing graph:  18%|███████████▏                                                  | 182/1013 [01:41<07:41,  1.80it/s]"
     ]
    },
    {
     "name": "stdout",
     "output_type": "stream",
     "text": [
      "GCN loss on unlabled data: 1.1071287393569946\n",
      "GCN acc on unlabled data: 0.7447474295932052\n",
      "attack loss: 0.6276671290397644\n"
     ]
    },
    {
     "name": "stderr",
     "output_type": "stream",
     "text": [
      "Perturbing graph:  18%|███████████▏                                                  | 183/1013 [01:41<07:37,  1.82it/s]"
     ]
    },
    {
     "name": "stdout",
     "output_type": "stream",
     "text": [
      "GCN loss on unlabled data: 1.0876039266586304\n",
      "GCN acc on unlabled data: 0.7451944568618686\n",
      "attack loss: 0.6147562265396118\n"
     ]
    },
    {
     "name": "stderr",
     "output_type": "stream",
     "text": [
      "Perturbing graph:  18%|███████████▎                                                  | 184/1013 [01:42<07:30,  1.84it/s]"
     ]
    },
    {
     "name": "stdout",
     "output_type": "stream",
     "text": [
      "GCN loss on unlabled data: 1.0619583129882812\n",
      "GCN acc on unlabled data: 0.7487706750111757\n",
      "attack loss: 0.5820486545562744\n"
     ]
    },
    {
     "name": "stderr",
     "output_type": "stream",
     "text": [
      "Perturbing graph:  18%|███████████▎                                                  | 185/1013 [01:42<07:25,  1.86it/s]"
     ]
    },
    {
     "name": "stdout",
     "output_type": "stream",
     "text": [
      "GCN loss on unlabled data: 1.107194423675537\n",
      "GCN acc on unlabled data: 0.7487706750111757\n",
      "attack loss: 0.6240905523300171\n"
     ]
    },
    {
     "name": "stderr",
     "output_type": "stream",
     "text": [
      "Perturbing graph:  18%|███████████▍                                                  | 186/1013 [01:43<07:33,  1.82it/s]"
     ]
    },
    {
     "name": "stdout",
     "output_type": "stream",
     "text": [
      "GCN loss on unlabled data: 1.1264417171478271\n",
      "GCN acc on unlabled data: 0.7438533750558785\n",
      "attack loss: 0.6320188641548157\n"
     ]
    },
    {
     "name": "stderr",
     "output_type": "stream",
     "text": [
      "Perturbing graph:  18%|███████████▍                                                  | 187/1013 [01:43<07:55,  1.74it/s]"
     ]
    },
    {
     "name": "stdout",
     "output_type": "stream",
     "text": [
      "GCN loss on unlabled data: 1.0906531810760498\n",
      "GCN acc on unlabled data: 0.7402771569065714\n",
      "attack loss: 0.6099770069122314\n"
     ]
    },
    {
     "name": "stderr",
     "output_type": "stream",
     "text": [
      "Perturbing graph:  19%|███████████▌                                                  | 188/1013 [01:44<07:47,  1.76it/s]"
     ]
    },
    {
     "name": "stdout",
     "output_type": "stream",
     "text": [
      "GCN loss on unlabled data: 1.0899696350097656\n",
      "GCN acc on unlabled data: 0.7447474295932052\n",
      "attack loss: 0.6230630874633789\n"
     ]
    },
    {
     "name": "stderr",
     "output_type": "stream",
     "text": [
      "Perturbing graph:  19%|███████████▌                                                  | 189/1013 [01:44<07:44,  1.77it/s]"
     ]
    },
    {
     "name": "stdout",
     "output_type": "stream",
     "text": [
      "GCN loss on unlabled data: 1.0998255014419556\n",
      "GCN acc on unlabled data: 0.7425122932498882\n",
      "attack loss: 0.626175582408905\n"
     ]
    },
    {
     "name": "stderr",
     "output_type": "stream",
     "text": [
      "Perturbing graph:  19%|███████████▋                                                  | 190/1013 [01:45<07:41,  1.78it/s]"
     ]
    },
    {
     "name": "stdout",
     "output_type": "stream",
     "text": [
      "GCN loss on unlabled data: 1.1050390005111694\n",
      "GCN acc on unlabled data: 0.7465355386678587\n",
      "attack loss: 0.6287460327148438\n"
     ]
    },
    {
     "name": "stderr",
     "output_type": "stream",
     "text": [
      "Perturbing graph:  19%|███████████▋                                                  | 191/1013 [01:46<07:45,  1.76it/s]"
     ]
    },
    {
     "name": "stdout",
     "output_type": "stream",
     "text": [
      "GCN loss on unlabled data: 1.0620143413543701\n",
      "GCN acc on unlabled data: 0.7451944568618686\n",
      "attack loss: 0.6109483242034912\n"
     ]
    },
    {
     "name": "stderr",
     "output_type": "stream",
     "text": [
      "Perturbing graph:  19%|███████████▊                                                  | 192/1013 [01:46<07:35,  1.80it/s]"
     ]
    },
    {
     "name": "stdout",
     "output_type": "stream",
     "text": [
      "GCN loss on unlabled data: 1.0725946426391602\n",
      "GCN acc on unlabled data: 0.7518998658918195\n",
      "attack loss: 0.6082668900489807\n"
     ]
    },
    {
     "name": "stderr",
     "output_type": "stream",
     "text": [
      "Perturbing graph:  19%|███████████▊                                                  | 193/1013 [01:47<07:28,  1.83it/s]"
     ]
    },
    {
     "name": "stdout",
     "output_type": "stream",
     "text": [
      "GCN loss on unlabled data: 1.1359500885009766\n",
      "GCN acc on unlabled data: 0.7380420205632544\n",
      "attack loss: 0.6445097327232361\n"
     ]
    },
    {
     "name": "stderr",
     "output_type": "stream",
     "text": [
      "Perturbing graph:  19%|███████████▊                                                  | 194/1013 [01:47<07:31,  1.81it/s]"
     ]
    },
    {
     "name": "stdout",
     "output_type": "stream",
     "text": [
      "GCN loss on unlabled data: 1.0827336311340332\n",
      "GCN acc on unlabled data: 0.7505587840858292\n",
      "attack loss: 0.6253567337989807\n"
     ]
    },
    {
     "name": "stderr",
     "output_type": "stream",
     "text": [
      "Perturbing graph:  19%|███████████▉                                                  | 195/1013 [01:48<07:31,  1.81it/s]"
     ]
    },
    {
     "name": "stdout",
     "output_type": "stream",
     "text": [
      "GCN loss on unlabled data: 1.0869922637939453\n",
      "GCN acc on unlabled data: 0.7416182387125615\n",
      "attack loss: 0.6240058541297913\n"
     ]
    },
    {
     "name": "stderr",
     "output_type": "stream",
     "text": [
      "Perturbing graph:  19%|███████████▉                                                  | 196/1013 [01:48<07:27,  1.82it/s]"
     ]
    },
    {
     "name": "stdout",
     "output_type": "stream",
     "text": [
      "GCN loss on unlabled data: 1.1468639373779297\n",
      "GCN acc on unlabled data: 0.7393831023692445\n",
      "attack loss: 0.6509646773338318\n"
     ]
    },
    {
     "name": "stderr",
     "output_type": "stream",
     "text": [
      "Perturbing graph:  19%|████████████                                                  | 197/1013 [01:49<07:22,  1.84it/s]"
     ]
    },
    {
     "name": "stdout",
     "output_type": "stream",
     "text": [
      "GCN loss on unlabled data: 1.1200429201126099\n",
      "GCN acc on unlabled data: 0.7443004023245419\n",
      "attack loss: 0.6280583739280701\n"
     ]
    },
    {
     "name": "stderr",
     "output_type": "stream",
     "text": [
      "Perturbing graph:  20%|████████████                                                  | 198/1013 [01:49<07:18,  1.86it/s]"
     ]
    },
    {
     "name": "stdout",
     "output_type": "stream",
     "text": [
      "GCN loss on unlabled data: 1.1268659830093384\n",
      "GCN acc on unlabled data: 0.7420652659812249\n",
      "attack loss: 0.6407681107521057\n"
     ]
    },
    {
     "name": "stderr",
     "output_type": "stream",
     "text": [
      "Perturbing graph:  20%|████████████▏                                                 | 199/1013 [01:50<07:45,  1.75it/s]"
     ]
    },
    {
     "name": "stdout",
     "output_type": "stream",
     "text": [
      "GCN loss on unlabled data: 1.0941636562347412\n",
      "GCN acc on unlabled data: 0.7443004023245419\n",
      "attack loss: 0.6281815767288208\n"
     ]
    },
    {
     "name": "stderr",
     "output_type": "stream",
     "text": [
      "Perturbing graph:  20%|████████████▏                                                 | 200/1013 [01:51<07:41,  1.76it/s]"
     ]
    },
    {
     "name": "stdout",
     "output_type": "stream",
     "text": [
      "GCN loss on unlabled data: 1.1175992488861084\n",
      "GCN acc on unlabled data: 0.7393831023692445\n",
      "attack loss: 0.6390458345413208\n"
     ]
    },
    {
     "name": "stderr",
     "output_type": "stream",
     "text": [
      "Perturbing graph:  20%|████████████▎                                                 | 201/1013 [01:51<07:38,  1.77it/s]"
     ]
    },
    {
     "name": "stdout",
     "output_type": "stream",
     "text": [
      "GCN loss on unlabled data: 1.1546595096588135\n",
      "GCN acc on unlabled data: 0.7407241841752347\n",
      "attack loss: 0.6640610694885254\n"
     ]
    },
    {
     "name": "stderr",
     "output_type": "stream",
     "text": [
      "Perturbing graph:  20%|████████████▎                                                 | 202/1013 [01:52<07:34,  1.78it/s]"
     ]
    },
    {
     "name": "stdout",
     "output_type": "stream",
     "text": [
      "GCN loss on unlabled data: 1.1344033479690552\n",
      "GCN acc on unlabled data: 0.7460885113991954\n",
      "attack loss: 0.6460138559341431\n"
     ]
    },
    {
     "name": "stderr",
     "output_type": "stream",
     "text": [
      "Perturbing graph:  20%|████████████▍                                                 | 203/1013 [01:52<07:26,  1.81it/s]"
     ]
    },
    {
     "name": "stdout",
     "output_type": "stream",
     "text": [
      "GCN loss on unlabled data: 1.1182235479354858\n",
      "GCN acc on unlabled data: 0.7474295932051855\n",
      "attack loss: 0.6404950618743896\n"
     ]
    },
    {
     "name": "stderr",
     "output_type": "stream",
     "text": [
      "Perturbing graph:  20%|████████████▍                                                 | 204/1013 [01:53<07:29,  1.80it/s]"
     ]
    },
    {
     "name": "stdout",
     "output_type": "stream",
     "text": [
      "GCN loss on unlabled data: 1.152793288230896\n",
      "GCN acc on unlabled data: 0.7393831023692445\n",
      "attack loss: 0.6596285700798035\n"
     ]
    },
    {
     "name": "stderr",
     "output_type": "stream",
     "text": [
      "Perturbing graph:  20%|████████████▌                                                 | 205/1013 [01:53<07:24,  1.82it/s]"
     ]
    },
    {
     "name": "stdout",
     "output_type": "stream",
     "text": [
      "GCN loss on unlabled data: 1.0982896089553833\n",
      "GCN acc on unlabled data: 0.7443004023245419\n",
      "attack loss: 0.6204207539558411\n"
     ]
    },
    {
     "name": "stderr",
     "output_type": "stream",
     "text": [
      "Perturbing graph:  20%|████████████▌                                                 | 206/1013 [01:54<07:18,  1.84it/s]"
     ]
    },
    {
     "name": "stdout",
     "output_type": "stream",
     "text": [
      "GCN loss on unlabled data: 1.1171729564666748\n",
      "GCN acc on unlabled data: 0.7411712114438981\n",
      "attack loss: 0.632599413394928\n"
     ]
    },
    {
     "name": "stderr",
     "output_type": "stream",
     "text": [
      "Perturbing graph:  20%|████████████▋                                                 | 207/1013 [01:54<07:26,  1.81it/s]"
     ]
    },
    {
     "name": "stdout",
     "output_type": "stream",
     "text": [
      "GCN loss on unlabled data: 1.120392918586731\n",
      "GCN acc on unlabled data: 0.7393831023692445\n",
      "attack loss: 0.6358667016029358\n"
     ]
    },
    {
     "name": "stderr",
     "output_type": "stream",
     "text": [
      "Perturbing graph:  21%|████████████▋                                                 | 208/1013 [01:55<07:19,  1.83it/s]"
     ]
    },
    {
     "name": "stdout",
     "output_type": "stream",
     "text": [
      "GCN loss on unlabled data: 1.1522151231765747\n",
      "GCN acc on unlabled data: 0.7393831023692445\n",
      "attack loss: 0.6464288830757141\n"
     ]
    },
    {
     "name": "stderr",
     "output_type": "stream",
     "text": [
      "Perturbing graph:  21%|████████████▊                                                 | 209/1013 [01:55<07:14,  1.85it/s]"
     ]
    },
    {
     "name": "stdout",
     "output_type": "stream",
     "text": [
      "GCN loss on unlabled data: 1.1790324449539185\n",
      "GCN acc on unlabled data: 0.737594993294591\n",
      "attack loss: 0.6763481497764587\n"
     ]
    },
    {
     "name": "stderr",
     "output_type": "stream",
     "text": [
      "Perturbing graph:  21%|████████████▊                                                 | 210/1013 [01:56<07:10,  1.87it/s]"
     ]
    },
    {
     "name": "stdout",
     "output_type": "stream",
     "text": [
      "GCN loss on unlabled data: 1.210483193397522\n",
      "GCN acc on unlabled data: 0.7340187751452839\n",
      "attack loss: 0.687579870223999\n"
     ]
    },
    {
     "name": "stderr",
     "output_type": "stream",
     "text": [
      "Perturbing graph:  21%|████████████▉                                                 | 211/1013 [01:57<07:48,  1.71it/s]"
     ]
    },
    {
     "name": "stdout",
     "output_type": "stream",
     "text": [
      "GCN loss on unlabled data: 1.1626886129379272\n",
      "GCN acc on unlabled data: 0.7344658024139473\n",
      "attack loss: 0.669227123260498\n"
     ]
    },
    {
     "name": "stderr",
     "output_type": "stream",
     "text": [
      "Perturbing graph:  21%|████████████▉                                                 | 212/1013 [01:57<07:42,  1.73it/s]"
     ]
    },
    {
     "name": "stdout",
     "output_type": "stream",
     "text": [
      "GCN loss on unlabled data: 1.1745331287384033\n",
      "GCN acc on unlabled data: 0.7393831023692445\n",
      "attack loss: 0.666117787361145\n"
     ]
    },
    {
     "name": "stderr",
     "output_type": "stream",
     "text": [
      "Perturbing graph:  21%|█████████████                                                 | 213/1013 [01:58<07:37,  1.75it/s]"
     ]
    },
    {
     "name": "stdout",
     "output_type": "stream",
     "text": [
      "GCN loss on unlabled data: 1.1900029182434082\n",
      "GCN acc on unlabled data: 0.7367009387572642\n",
      "attack loss: 0.6788371205329895\n"
     ]
    },
    {
     "name": "stderr",
     "output_type": "stream",
     "text": [
      "Perturbing graph:  21%|█████████████                                                 | 214/1013 [01:58<07:29,  1.78it/s]"
     ]
    },
    {
     "name": "stdout",
     "output_type": "stream",
     "text": [
      "GCN loss on unlabled data: 1.199005126953125\n",
      "GCN acc on unlabled data: 0.7411712114438981\n",
      "attack loss: 0.6872092485427856\n"
     ]
    },
    {
     "name": "stderr",
     "output_type": "stream",
     "text": [
      "Perturbing graph:  21%|█████████████▏                                                | 215/1013 [01:59<07:23,  1.80it/s]"
     ]
    },
    {
     "name": "stdout",
     "output_type": "stream",
     "text": [
      "GCN loss on unlabled data: 1.1912957429885864\n",
      "GCN acc on unlabled data: 0.7344658024139473\n",
      "attack loss: 0.6754290461540222\n"
     ]
    },
    {
     "name": "stderr",
     "output_type": "stream",
     "text": [
      "Perturbing graph:  21%|█████████████▏                                                | 216/1013 [01:59<07:16,  1.83it/s]"
     ]
    },
    {
     "name": "stdout",
     "output_type": "stream",
     "text": [
      "GCN loss on unlabled data: 1.177704095840454\n",
      "GCN acc on unlabled data: 0.7340187751452839\n",
      "attack loss: 0.6739752292633057\n"
     ]
    },
    {
     "name": "stderr",
     "output_type": "stream",
     "text": [
      "Perturbing graph:  21%|█████████████▎                                                | 217/1013 [02:00<07:13,  1.84it/s]"
     ]
    },
    {
     "name": "stdout",
     "output_type": "stream",
     "text": [
      "GCN loss on unlabled data: 1.205678939819336\n",
      "GCN acc on unlabled data: 0.7344658024139473\n",
      "attack loss: 0.6971678137779236\n"
     ]
    },
    {
     "name": "stderr",
     "output_type": "stream",
     "text": [
      "Perturbing graph:  22%|█████████████▎                                                | 218/1013 [02:00<07:09,  1.85it/s]"
     ]
    },
    {
     "name": "stdout",
     "output_type": "stream",
     "text": [
      "GCN loss on unlabled data: 1.174077033996582\n",
      "GCN acc on unlabled data: 0.737594993294591\n",
      "attack loss: 0.6671196222305298\n"
     ]
    },
    {
     "name": "stderr",
     "output_type": "stream",
     "text": [
      "Perturbing graph:  22%|█████████████▍                                                | 219/1013 [02:01<07:16,  1.82it/s]"
     ]
    },
    {
     "name": "stdout",
     "output_type": "stream",
     "text": [
      "GCN loss on unlabled data: 1.1765365600585938\n",
      "GCN acc on unlabled data: 0.7349128296826106\n",
      "attack loss: 0.6688480973243713\n"
     ]
    },
    {
     "name": "stderr",
     "output_type": "stream",
     "text": [
      "Perturbing graph:  22%|█████████████▍                                                | 220/1013 [02:02<07:10,  1.84it/s]"
     ]
    },
    {
     "name": "stdout",
     "output_type": "stream",
     "text": [
      "GCN loss on unlabled data: 1.1760238409042358\n",
      "GCN acc on unlabled data: 0.7362539114886009\n",
      "attack loss: 0.674429178237915\n"
     ]
    },
    {
     "name": "stderr",
     "output_type": "stream",
     "text": [
      "Perturbing graph:  22%|█████████████▌                                                | 221/1013 [02:02<07:14,  1.82it/s]"
     ]
    },
    {
     "name": "stdout",
     "output_type": "stream",
     "text": [
      "GCN loss on unlabled data: 1.2293553352355957\n",
      "GCN acc on unlabled data: 0.7335717478766205\n",
      "attack loss: 0.6994958519935608\n"
     ]
    },
    {
     "name": "stderr",
     "output_type": "stream",
     "text": [
      "Perturbing graph:  22%|█████████████▌                                                | 222/1013 [02:03<07:09,  1.84it/s]"
     ]
    },
    {
     "name": "stdout",
     "output_type": "stream",
     "text": [
      "GCN loss on unlabled data: 1.2489582300186157\n",
      "GCN acc on unlabled data: 0.7291014751899866\n",
      "attack loss: 0.7083084583282471\n"
     ]
    },
    {
     "name": "stderr",
     "output_type": "stream",
     "text": [
      "Perturbing graph:  22%|█████████████▋                                                | 223/1013 [02:03<07:28,  1.76it/s]"
     ]
    },
    {
     "name": "stdout",
     "output_type": "stream",
     "text": [
      "GCN loss on unlabled data: 1.2311720848083496\n",
      "GCN acc on unlabled data: 0.7308895842646401\n",
      "attack loss: 0.6966180205345154\n"
     ]
    },
    {
     "name": "stderr",
     "output_type": "stream",
     "text": [
      "Perturbing graph:  22%|█████████████▋                                                | 224/1013 [02:04<07:27,  1.76it/s]"
     ]
    },
    {
     "name": "stdout",
     "output_type": "stream",
     "text": [
      "GCN loss on unlabled data: 1.248761534690857\n",
      "GCN acc on unlabled data: 0.7322306660706304\n",
      "attack loss: 0.7156234383583069\n"
     ]
    },
    {
     "name": "stderr",
     "output_type": "stream",
     "text": [
      "Perturbing graph:  22%|█████████████▊                                                | 225/1013 [02:04<07:33,  1.74it/s]"
     ]
    },
    {
     "name": "stdout",
     "output_type": "stream",
     "text": [
      "GCN loss on unlabled data: 1.236737847328186\n",
      "GCN acc on unlabled data: 0.7241841752346894\n",
      "attack loss: 0.693048894405365\n"
     ]
    },
    {
     "name": "stderr",
     "output_type": "stream",
     "text": [
      "Perturbing graph:  22%|█████████████▊                                                | 226/1013 [02:05<07:28,  1.75it/s]"
     ]
    },
    {
     "name": "stdout",
     "output_type": "stream",
     "text": [
      "GCN loss on unlabled data: 1.221444845199585\n",
      "GCN acc on unlabled data: 0.7268663388466696\n",
      "attack loss: 0.69794762134552\n"
     ]
    },
    {
     "name": "stderr",
     "output_type": "stream",
     "text": [
      "Perturbing graph:  22%|█████████████▉                                                | 227/1013 [02:06<07:29,  1.75it/s]"
     ]
    },
    {
     "name": "stdout",
     "output_type": "stream",
     "text": [
      "GCN loss on unlabled data: 1.2784723043441772\n",
      "GCN acc on unlabled data: 0.7268663388466696\n",
      "attack loss: 0.7285013198852539\n"
     ]
    },
    {
     "name": "stderr",
     "output_type": "stream",
     "text": [
      "Perturbing graph:  23%|█████████████▉                                                | 228/1013 [02:06<07:25,  1.76it/s]"
     ]
    },
    {
     "name": "stdout",
     "output_type": "stream",
     "text": [
      "GCN loss on unlabled data: 1.213294267654419\n",
      "GCN acc on unlabled data: 0.72954850245865\n",
      "attack loss: 0.694042444229126\n"
     ]
    },
    {
     "name": "stderr",
     "output_type": "stream",
     "text": [
      "Perturbing graph:  23%|██████████████                                                | 229/1013 [02:07<07:22,  1.77it/s]"
     ]
    },
    {
     "name": "stdout",
     "output_type": "stream",
     "text": [
      "GCN loss on unlabled data: 1.2962528467178345\n",
      "GCN acc on unlabled data: 0.7299955297273134\n",
      "attack loss: 0.7443724870681763\n"
     ]
    },
    {
     "name": "stderr",
     "output_type": "stream",
     "text": [
      "Perturbing graph:  23%|██████████████                                                | 230/1013 [02:07<07:19,  1.78it/s]"
     ]
    },
    {
     "name": "stdout",
     "output_type": "stream",
     "text": [
      "GCN loss on unlabled data: 1.2872978448867798\n",
      "GCN acc on unlabled data: 0.7304425569959768\n",
      "attack loss: 0.735139012336731\n"
     ]
    },
    {
     "name": "stderr",
     "output_type": "stream",
     "text": [
      "Perturbing graph:  23%|██████████████▏                                               | 231/1013 [02:08<07:19,  1.78it/s]"
     ]
    },
    {
     "name": "stdout",
     "output_type": "stream",
     "text": [
      "GCN loss on unlabled data: 1.236375331878662\n",
      "GCN acc on unlabled data: 0.7268663388466696\n",
      "attack loss: 0.7043830752372742\n"
     ]
    },
    {
     "name": "stderr",
     "output_type": "stream",
     "text": [
      "Perturbing graph:  23%|██████████████▏                                               | 232/1013 [02:08<07:24,  1.76it/s]"
     ]
    },
    {
     "name": "stdout",
     "output_type": "stream",
     "text": [
      "GCN loss on unlabled data: 1.257778525352478\n",
      "GCN acc on unlabled data: 0.72954850245865\n",
      "attack loss: 0.7217962741851807\n"
     ]
    },
    {
     "name": "stderr",
     "output_type": "stream",
     "text": [
      "Perturbing graph:  23%|██████████████▎                                               | 233/1013 [02:09<07:24,  1.75it/s]"
     ]
    },
    {
     "name": "stdout",
     "output_type": "stream",
     "text": [
      "GCN loss on unlabled data: 1.3104894161224365\n",
      "GCN acc on unlabled data: 0.7264193115780063\n",
      "attack loss: 0.737841784954071\n"
     ]
    },
    {
     "name": "stderr",
     "output_type": "stream",
     "text": [
      "Perturbing graph:  23%|██████████████▎                                               | 234/1013 [02:10<07:23,  1.76it/s]"
     ]
    },
    {
     "name": "stdout",
     "output_type": "stream",
     "text": [
      "GCN loss on unlabled data: 1.3082021474838257\n",
      "GCN acc on unlabled data: 0.7282074206526599\n",
      "attack loss: 0.7330846190452576\n"
     ]
    },
    {
     "name": "stderr",
     "output_type": "stream",
     "text": [
      "Perturbing graph:  23%|██████████████▍                                               | 235/1013 [02:10<07:21,  1.76it/s]"
     ]
    },
    {
     "name": "stdout",
     "output_type": "stream",
     "text": [
      "GCN loss on unlabled data: 1.2791872024536133\n",
      "GCN acc on unlabled data: 0.7228430934286991\n",
      "attack loss: 0.7373223900794983\n"
     ]
    },
    {
     "name": "stderr",
     "output_type": "stream",
     "text": [
      "Perturbing graph:  23%|██████████████▍                                               | 236/1013 [02:11<07:16,  1.78it/s]"
     ]
    },
    {
     "name": "stdout",
     "output_type": "stream",
     "text": [
      "GCN loss on unlabled data: 1.2950716018676758\n",
      "GCN acc on unlabled data: 0.7223960661600358\n",
      "attack loss: 0.7356465458869934\n"
     ]
    },
    {
     "name": "stderr",
     "output_type": "stream",
     "text": [
      "Perturbing graph:  23%|██████████████▌                                               | 237/1013 [02:11<07:08,  1.81it/s]"
     ]
    },
    {
     "name": "stdout",
     "output_type": "stream",
     "text": [
      "GCN loss on unlabled data: 1.3035759925842285\n",
      "GCN acc on unlabled data: 0.7291014751899866\n",
      "attack loss: 0.7491492033004761\n"
     ]
    },
    {
     "name": "stderr",
     "output_type": "stream",
     "text": [
      "Perturbing graph:  23%|██████████████▌                                               | 238/1013 [02:12<07:01,  1.84it/s]"
     ]
    },
    {
     "name": "stdout",
     "output_type": "stream",
     "text": [
      "GCN loss on unlabled data: 1.2855993509292603\n",
      "GCN acc on unlabled data: 0.7277603933839965\n",
      "attack loss: 0.7330062389373779\n"
     ]
    },
    {
     "name": "stderr",
     "output_type": "stream",
     "text": [
      "Perturbing graph:  24%|██████████████▋                                               | 239/1013 [02:12<06:58,  1.85it/s]"
     ]
    },
    {
     "name": "stdout",
     "output_type": "stream",
     "text": [
      "GCN loss on unlabled data: 1.2913120985031128\n",
      "GCN acc on unlabled data: 0.7304425569959768\n",
      "attack loss: 0.7523149847984314\n"
     ]
    },
    {
     "name": "stderr",
     "output_type": "stream",
     "text": [
      "Perturbing graph:  24%|██████████████▋                                               | 240/1013 [02:13<06:54,  1.86it/s]"
     ]
    },
    {
     "name": "stdout",
     "output_type": "stream",
     "text": [
      "GCN loss on unlabled data: 1.3110727071762085\n",
      "GCN acc on unlabled data: 0.7241841752346894\n",
      "attack loss: 0.746000349521637\n"
     ]
    },
    {
     "name": "stderr",
     "output_type": "stream",
     "text": [
      "Perturbing graph:  24%|██████████████▊                                               | 241/1013 [02:13<06:51,  1.87it/s]"
     ]
    },
    {
     "name": "stdout",
     "output_type": "stream",
     "text": [
      "GCN loss on unlabled data: 1.3046475648880005\n",
      "GCN acc on unlabled data: 0.7223960661600358\n",
      "attack loss: 0.7517858743667603\n"
     ]
    },
    {
     "name": "stderr",
     "output_type": "stream",
     "text": [
      "Perturbing graph:  24%|██████████████▊                                               | 242/1013 [02:14<06:50,  1.88it/s]"
     ]
    },
    {
     "name": "stdout",
     "output_type": "stream",
     "text": [
      "GCN loss on unlabled data: 1.3122624158859253\n",
      "GCN acc on unlabled data: 0.7246312025033528\n",
      "attack loss: 0.7552330493927002\n"
     ]
    },
    {
     "name": "stderr",
     "output_type": "stream",
     "text": [
      "Perturbing graph:  24%|██████████████▊                                               | 243/1013 [02:14<07:02,  1.82it/s]"
     ]
    },
    {
     "name": "stdout",
     "output_type": "stream",
     "text": [
      "GCN loss on unlabled data: 1.3416866064071655\n",
      "GCN acc on unlabled data: 0.7268663388466696\n",
      "attack loss: 0.7661865949630737\n"
     ]
    },
    {
     "name": "stderr",
     "output_type": "stream",
     "text": [
      "Perturbing graph:  24%|██████████████▉                                               | 244/1013 [02:15<07:07,  1.80it/s]"
     ]
    },
    {
     "name": "stdout",
     "output_type": "stream",
     "text": [
      "GCN loss on unlabled data: 1.3562989234924316\n",
      "GCN acc on unlabled data: 0.7188198480107286\n",
      "attack loss: 0.7836775779724121\n"
     ]
    },
    {
     "name": "stderr",
     "output_type": "stream",
     "text": [
      "Perturbing graph:  24%|██████████████▉                                               | 245/1013 [02:16<07:07,  1.80it/s]"
     ]
    },
    {
     "name": "stdout",
     "output_type": "stream",
     "text": [
      "GCN loss on unlabled data: 1.326452612876892\n",
      "GCN acc on unlabled data: 0.7246312025033528\n",
      "attack loss: 0.756389319896698\n"
     ]
    },
    {
     "name": "stderr",
     "output_type": "stream",
     "text": [
      "Perturbing graph:  24%|███████████████                                               | 246/1013 [02:16<07:07,  1.79it/s]"
     ]
    },
    {
     "name": "stdout",
     "output_type": "stream",
     "text": [
      "GCN loss on unlabled data: 1.3178515434265137\n",
      "GCN acc on unlabled data: 0.7188198480107286\n",
      "attack loss: 0.7491596341133118\n"
     ]
    },
    {
     "name": "stderr",
     "output_type": "stream",
     "text": [
      "Perturbing graph:  24%|███████████████                                               | 247/1013 [02:17<07:00,  1.82it/s]"
     ]
    },
    {
     "name": "stdout",
     "output_type": "stream",
     "text": [
      "GCN loss on unlabled data: 1.3047291040420532\n",
      "GCN acc on unlabled data: 0.7246312025033528\n",
      "attack loss: 0.7558107972145081\n"
     ]
    },
    {
     "name": "stderr",
     "output_type": "stream",
     "text": [
      "Perturbing graph:  24%|███████████████▏                                              | 248/1013 [02:17<06:55,  1.84it/s]"
     ]
    },
    {
     "name": "stdout",
     "output_type": "stream",
     "text": [
      "GCN loss on unlabled data: 1.3308680057525635\n",
      "GCN acc on unlabled data: 0.7188198480107286\n",
      "attack loss: 0.7654871344566345\n"
     ]
    },
    {
     "name": "stderr",
     "output_type": "stream",
     "text": [
      "Perturbing graph:  25%|███████████████▏                                              | 249/1013 [02:18<06:51,  1.86it/s]"
     ]
    },
    {
     "name": "stdout",
     "output_type": "stream",
     "text": [
      "GCN loss on unlabled data: 1.351196050643921\n",
      "GCN acc on unlabled data: 0.723737147966026\n",
      "attack loss: 0.7869292497634888\n"
     ]
    },
    {
     "name": "stderr",
     "output_type": "stream",
     "text": [
      "Perturbing graph:  25%|███████████████▎                                              | 250/1013 [02:18<06:48,  1.87it/s]"
     ]
    },
    {
     "name": "stdout",
     "output_type": "stream",
     "text": [
      "GCN loss on unlabled data: 1.3314727544784546\n",
      "GCN acc on unlabled data: 0.7219490388913724\n",
      "attack loss: 0.7718505859375\n"
     ]
    },
    {
     "name": "stderr",
     "output_type": "stream",
     "text": [
      "Perturbing graph:  25%|███████████████▎                                              | 251/1013 [02:19<06:46,  1.87it/s]"
     ]
    },
    {
     "name": "stdout",
     "output_type": "stream",
     "text": [
      "GCN loss on unlabled data: 1.3704488277435303\n",
      "GCN acc on unlabled data: 0.7174787662047385\n",
      "attack loss: 0.794623076915741\n"
     ]
    },
    {
     "name": "stderr",
     "output_type": "stream",
     "text": [
      "Perturbing graph:  25%|███████████████▍                                              | 252/1013 [02:19<06:44,  1.88it/s]"
     ]
    },
    {
     "name": "stdout",
     "output_type": "stream",
     "text": [
      "GCN loss on unlabled data: 1.3935779333114624\n",
      "GCN acc on unlabled data: 0.7206079570853823\n",
      "attack loss: 0.8042296171188354\n"
     ]
    },
    {
     "name": "stderr",
     "output_type": "stream",
     "text": [
      "Perturbing graph:  25%|███████████████▍                                              | 253/1013 [02:20<06:42,  1.89it/s]"
     ]
    },
    {
     "name": "stdout",
     "output_type": "stream",
     "text": [
      "GCN loss on unlabled data: 1.3951029777526855\n",
      "GCN acc on unlabled data: 0.7161376843987484\n",
      "attack loss: 0.8056316375732422\n"
     ]
    },
    {
     "name": "stderr",
     "output_type": "stream",
     "text": [
      "Perturbing graph:  25%|███████████████▌                                              | 254/1013 [02:20<06:40,  1.89it/s]"
     ]
    },
    {
     "name": "stdout",
     "output_type": "stream",
     "text": [
      "GCN loss on unlabled data: 1.3887039422988892\n",
      "GCN acc on unlabled data: 0.7246312025033528\n",
      "attack loss: 0.8027619123458862\n"
     ]
    },
    {
     "name": "stderr",
     "output_type": "stream",
     "text": [
      "Perturbing graph:  25%|███████████████▌                                              | 255/1013 [02:21<07:04,  1.79it/s]"
     ]
    },
    {
     "name": "stdout",
     "output_type": "stream",
     "text": [
      "GCN loss on unlabled data: 1.3639626502990723\n",
      "GCN acc on unlabled data: 0.7219490388913724\n",
      "attack loss: 0.7894191145896912\n"
     ]
    },
    {
     "name": "stderr",
     "output_type": "stream",
     "text": [
      "Perturbing graph:  25%|███████████████▋                                              | 256/1013 [02:22<07:03,  1.79it/s]"
     ]
    },
    {
     "name": "stdout",
     "output_type": "stream",
     "text": [
      "GCN loss on unlabled data: 1.3257423639297485\n",
      "GCN acc on unlabled data: 0.7210549843540456\n",
      "attack loss: 0.7666637897491455\n"
     ]
    },
    {
     "name": "stderr",
     "output_type": "stream",
     "text": [
      "Perturbing graph:  25%|███████████████▋                                              | 257/1013 [02:22<07:02,  1.79it/s]"
     ]
    },
    {
     "name": "stdout",
     "output_type": "stream",
     "text": [
      "GCN loss on unlabled data: 1.3611259460449219\n",
      "GCN acc on unlabled data: 0.721502011622709\n",
      "attack loss: 0.7822645902633667\n"
     ]
    },
    {
     "name": "stderr",
     "output_type": "stream",
     "text": [
      "Perturbing graph:  25%|███████████████▊                                              | 258/1013 [02:23<06:54,  1.82it/s]"
     ]
    },
    {
     "name": "stdout",
     "output_type": "stream",
     "text": [
      "GCN loss on unlabled data: 1.365242838859558\n",
      "GCN acc on unlabled data: 0.7255252570406795\n",
      "attack loss: 0.7975358963012695\n"
     ]
    },
    {
     "name": "stderr",
     "output_type": "stream",
     "text": [
      "Perturbing graph:  26%|███████████████▊                                              | 259/1013 [02:23<06:53,  1.82it/s]"
     ]
    },
    {
     "name": "stdout",
     "output_type": "stream",
     "text": [
      "GCN loss on unlabled data: 1.3741662502288818\n",
      "GCN acc on unlabled data: 0.7219490388913724\n",
      "attack loss: 0.8012144565582275\n"
     ]
    },
    {
     "name": "stderr",
     "output_type": "stream",
     "text": [
      "Perturbing graph:  26%|███████████████▉                                              | 260/1013 [02:24<06:48,  1.84it/s]"
     ]
    },
    {
     "name": "stdout",
     "output_type": "stream",
     "text": [
      "GCN loss on unlabled data: 1.3987094163894653\n",
      "GCN acc on unlabled data: 0.7179257934734019\n",
      "attack loss: 0.8125659823417664\n"
     ]
    },
    {
     "name": "stderr",
     "output_type": "stream",
     "text": [
      "Perturbing graph:  26%|███████████████▉                                              | 261/1013 [02:24<06:44,  1.86it/s]"
     ]
    },
    {
     "name": "stdout",
     "output_type": "stream",
     "text": [
      "GCN loss on unlabled data: 1.32282292842865\n",
      "GCN acc on unlabled data: 0.7197139025480555\n",
      "attack loss: 0.7724199295043945\n"
     ]
    },
    {
     "name": "stderr",
     "output_type": "stream",
     "text": [
      "Perturbing graph:  26%|████████████████                                              | 262/1013 [02:25<06:42,  1.87it/s]"
     ]
    },
    {
     "name": "stdout",
     "output_type": "stream",
     "text": [
      "GCN loss on unlabled data: 1.3783468008041382\n",
      "GCN acc on unlabled data: 0.7264193115780063\n",
      "attack loss: 0.79681795835495\n"
     ]
    },
    {
     "name": "stderr",
     "output_type": "stream",
     "text": [
      "Perturbing graph:  26%|████████████████                                              | 263/1013 [02:25<07:01,  1.78it/s]"
     ]
    },
    {
     "name": "stdout",
     "output_type": "stream",
     "text": [
      "GCN loss on unlabled data: 1.3448009490966797\n",
      "GCN acc on unlabled data: 0.7264193115780063\n",
      "attack loss: 0.7825734615325928\n"
     ]
    },
    {
     "name": "stderr",
     "output_type": "stream",
     "text": [
      "Perturbing graph:  26%|████████████████▏                                             | 264/1013 [02:26<06:53,  1.81it/s]"
     ]
    },
    {
     "name": "stdout",
     "output_type": "stream",
     "text": [
      "GCN loss on unlabled data: 1.3986629247665405\n",
      "GCN acc on unlabled data: 0.7179257934734019\n",
      "attack loss: 0.8093351721763611\n"
     ]
    },
    {
     "name": "stderr",
     "output_type": "stream",
     "text": [
      "Perturbing graph:  26%|████████████████▏                                             | 265/1013 [02:26<06:47,  1.84it/s]"
     ]
    },
    {
     "name": "stdout",
     "output_type": "stream",
     "text": [
      "GCN loss on unlabled data: 1.406649112701416\n",
      "GCN acc on unlabled data: 0.7161376843987484\n",
      "attack loss: 0.8227913975715637\n"
     ]
    },
    {
     "name": "stderr",
     "output_type": "stream",
     "text": [
      "Perturbing graph:  26%|████████████████▎                                             | 266/1013 [02:27<06:43,  1.85it/s]"
     ]
    },
    {
     "name": "stdout",
     "output_type": "stream",
     "text": [
      "GCN loss on unlabled data: 1.4377280473709106\n",
      "GCN acc on unlabled data: 0.7165847116674118\n",
      "attack loss: 0.8421928286552429\n"
     ]
    },
    {
     "name": "stderr",
     "output_type": "stream",
     "text": [
      "Perturbing graph:  26%|████████████████▎                                             | 267/1013 [02:28<07:04,  1.76it/s]"
     ]
    },
    {
     "name": "stdout",
     "output_type": "stream",
     "text": [
      "GCN loss on unlabled data: 1.4015576839447021\n",
      "GCN acc on unlabled data: 0.7152436298614215\n",
      "attack loss: 0.8137097358703613\n"
     ]
    },
    {
     "name": "stderr",
     "output_type": "stream",
     "text": [
      "Perturbing graph:  26%|████████████████▍                                             | 268/1013 [02:28<06:54,  1.80it/s]"
     ]
    },
    {
     "name": "stdout",
     "output_type": "stream",
     "text": [
      "GCN loss on unlabled data: 1.4417004585266113\n",
      "GCN acc on unlabled data: 0.7139025480554314\n",
      "attack loss: 0.8329131007194519\n"
     ]
    },
    {
     "name": "stderr",
     "output_type": "stream",
     "text": [
      "Perturbing graph:  27%|████████████████▍                                             | 269/1013 [02:29<06:47,  1.82it/s]"
     ]
    },
    {
     "name": "stdout",
     "output_type": "stream",
     "text": [
      "GCN loss on unlabled data: 1.4371848106384277\n",
      "GCN acc on unlabled data: 0.7188198480107286\n",
      "attack loss: 0.8387753963470459\n"
     ]
    },
    {
     "name": "stderr",
     "output_type": "stream",
     "text": [
      "Perturbing graph:  27%|████████████████▌                                             | 270/1013 [02:29<06:42,  1.85it/s]"
     ]
    },
    {
     "name": "stdout",
     "output_type": "stream",
     "text": [
      "GCN loss on unlabled data: 1.4153459072113037\n",
      "GCN acc on unlabled data: 0.713455520786768\n",
      "attack loss: 0.8261020183563232\n"
     ]
    },
    {
     "name": "stderr",
     "output_type": "stream",
     "text": [
      "Perturbing graph:  27%|████████████████▌                                             | 271/1013 [02:30<07:02,  1.76it/s]"
     ]
    },
    {
     "name": "stdout",
     "output_type": "stream",
     "text": [
      "GCN loss on unlabled data: 1.379668951034546\n",
      "GCN acc on unlabled data: 0.7161376843987484\n",
      "attack loss: 0.8019121885299683\n"
     ]
    },
    {
     "name": "stderr",
     "output_type": "stream",
     "text": [
      "Perturbing graph:  27%|████████████████▋                                             | 272/1013 [02:30<06:52,  1.80it/s]"
     ]
    },
    {
     "name": "stdout",
     "output_type": "stream",
     "text": [
      "GCN loss on unlabled data: 1.3818533420562744\n",
      "GCN acc on unlabled data: 0.7174787662047385\n",
      "attack loss: 0.8117904663085938\n"
     ]
    },
    {
     "name": "stderr",
     "output_type": "stream",
     "text": [
      "Perturbing graph:  27%|████████████████▋                                             | 273/1013 [02:31<06:45,  1.82it/s]"
     ]
    },
    {
     "name": "stdout",
     "output_type": "stream",
     "text": [
      "GCN loss on unlabled data: 1.424210786819458\n",
      "GCN acc on unlabled data: 0.7152436298614215\n",
      "attack loss: 0.8261010646820068\n"
     ]
    },
    {
     "name": "stderr",
     "output_type": "stream",
     "text": [
      "Perturbing graph:  27%|████████████████▊                                             | 274/1013 [02:31<06:40,  1.85it/s]"
     ]
    },
    {
     "name": "stdout",
     "output_type": "stream",
     "text": [
      "GCN loss on unlabled data: 1.4467464685440063\n",
      "GCN acc on unlabled data: 0.7094322753687975\n",
      "attack loss: 0.8382230997085571\n"
     ]
    },
    {
     "name": "stderr",
     "output_type": "stream",
     "text": [
      "Perturbing graph:  27%|████████████████▊                                             | 275/1013 [02:32<06:55,  1.77it/s]"
     ]
    },
    {
     "name": "stdout",
     "output_type": "stream",
     "text": [
      "GCN loss on unlabled data: 1.4149473905563354\n",
      "GCN acc on unlabled data: 0.7183728207420653\n",
      "attack loss: 0.8212414979934692\n"
     ]
    },
    {
     "name": "stderr",
     "output_type": "stream",
     "text": [
      "Perturbing graph:  27%|████████████████▉                                             | 276/1013 [02:33<06:47,  1.81it/s]"
     ]
    },
    {
     "name": "stdout",
     "output_type": "stream",
     "text": [
      "GCN loss on unlabled data: 1.4130216836929321\n",
      "GCN acc on unlabled data: 0.7170317389360751\n",
      "attack loss: 0.8314116597175598\n"
     ]
    },
    {
     "name": "stderr",
     "output_type": "stream",
     "text": [
      "Perturbing graph:  27%|████████████████▉                                             | 277/1013 [02:33<06:41,  1.83it/s]"
     ]
    },
    {
     "name": "stdout",
     "output_type": "stream",
     "text": [
      "GCN loss on unlabled data: 1.414906620979309\n",
      "GCN acc on unlabled data: 0.7139025480554314\n",
      "attack loss: 0.8255547881126404\n"
     ]
    },
    {
     "name": "stderr",
     "output_type": "stream",
     "text": [
      "Perturbing graph:  27%|█████████████████                                             | 278/1013 [02:34<06:37,  1.85it/s]"
     ]
    },
    {
     "name": "stdout",
     "output_type": "stream",
     "text": [
      "GCN loss on unlabled data: 1.4388221502304077\n",
      "GCN acc on unlabled data: 0.719266875279392\n",
      "attack loss: 0.8377116918563843\n"
     ]
    },
    {
     "name": "stderr",
     "output_type": "stream",
     "text": [
      "Perturbing graph:  28%|█████████████████                                             | 279/1013 [02:34<06:54,  1.77it/s]"
     ]
    },
    {
     "name": "stdout",
     "output_type": "stream",
     "text": [
      "GCN loss on unlabled data: 1.403324007987976\n",
      "GCN acc on unlabled data: 0.713455520786768\n",
      "attack loss: 0.8194944858551025\n"
     ]
    },
    {
     "name": "stderr",
     "output_type": "stream",
     "text": [
      "Perturbing graph:  28%|█████████████████▏                                            | 280/1013 [02:35<06:45,  1.81it/s]"
     ]
    },
    {
     "name": "stdout",
     "output_type": "stream",
     "text": [
      "GCN loss on unlabled data: 1.424973726272583\n",
      "GCN acc on unlabled data: 0.7116674117121145\n",
      "attack loss: 0.8236631155014038\n"
     ]
    },
    {
     "name": "stderr",
     "output_type": "stream",
     "text": [
      "Perturbing graph:  28%|█████████████████▏                                            | 281/1013 [02:35<06:39,  1.83it/s]"
     ]
    },
    {
     "name": "stdout",
     "output_type": "stream",
     "text": [
      "GCN loss on unlabled data: 1.4610320329666138\n",
      "GCN acc on unlabled data: 0.707644166294144\n",
      "attack loss: 0.8525190353393555\n"
     ]
    },
    {
     "name": "stderr",
     "output_type": "stream",
     "text": [
      "Perturbing graph:  28%|█████████████████▎                                            | 282/1013 [02:36<06:34,  1.85it/s]"
     ]
    },
    {
     "name": "stdout",
     "output_type": "stream",
     "text": [
      "GCN loss on unlabled data: 1.484765887260437\n",
      "GCN acc on unlabled data: 0.713455520786768\n",
      "attack loss: 0.8596254587173462\n"
     ]
    },
    {
     "name": "stderr",
     "output_type": "stream",
     "text": [
      "Perturbing graph:  28%|█████████████████▎                                            | 283/1013 [02:36<07:00,  1.73it/s]"
     ]
    },
    {
     "name": "stdout",
     "output_type": "stream",
     "text": [
      "GCN loss on unlabled data: 1.4404224157333374\n",
      "GCN acc on unlabled data: 0.7130084935181046\n",
      "attack loss: 0.8375842571258545\n"
     ]
    },
    {
     "name": "stderr",
     "output_type": "stream",
     "text": [
      "Perturbing graph:  28%|█████████████████▍                                            | 284/1013 [02:37<06:56,  1.75it/s]"
     ]
    },
    {
     "name": "stdout",
     "output_type": "stream",
     "text": [
      "GCN loss on unlabled data: 1.4600778818130493\n",
      "GCN acc on unlabled data: 0.7107733571747877\n",
      "attack loss: 0.8511725068092346\n"
     ]
    },
    {
     "name": "stderr",
     "output_type": "stream",
     "text": [
      "Perturbing graph:  28%|█████████████████▍                                            | 285/1013 [02:38<06:51,  1.77it/s]"
     ]
    },
    {
     "name": "stdout",
     "output_type": "stream",
     "text": [
      "GCN loss on unlabled data: 1.4630687236785889\n",
      "GCN acc on unlabled data: 0.7130084935181046\n",
      "attack loss: 0.8499647378921509\n"
     ]
    },
    {
     "name": "stderr",
     "output_type": "stream",
     "text": [
      "Perturbing graph:  28%|█████████████████▌                                            | 286/1013 [02:38<06:42,  1.81it/s]"
     ]
    },
    {
     "name": "stdout",
     "output_type": "stream",
     "text": [
      "GCN loss on unlabled data: 1.4359281063079834\n",
      "GCN acc on unlabled data: 0.7116674117121145\n",
      "attack loss: 0.8371378779411316\n"
     ]
    },
    {
     "name": "stderr",
     "output_type": "stream",
     "text": [
      "Perturbing graph:  28%|█████████████████▌                                            | 287/1013 [02:39<06:42,  1.80it/s]"
     ]
    },
    {
     "name": "stdout",
     "output_type": "stream",
     "text": [
      "GCN loss on unlabled data: 1.449537754058838\n",
      "GCN acc on unlabled data: 0.7094322753687975\n",
      "attack loss: 0.8400571942329407\n"
     ]
    },
    {
     "name": "stderr",
     "output_type": "stream",
     "text": [
      "Perturbing graph:  28%|█████████████████▋                                            | 288/1013 [02:39<06:35,  1.83it/s]"
     ]
    },
    {
     "name": "stdout",
     "output_type": "stream",
     "text": [
      "GCN loss on unlabled data: 1.4637928009033203\n",
      "GCN acc on unlabled data: 0.7116674117121145\n",
      "attack loss: 0.8514305949211121\n"
     ]
    },
    {
     "name": "stderr",
     "output_type": "stream",
     "text": [
      "Perturbing graph:  29%|█████████████████▋                                            | 289/1013 [02:40<06:31,  1.85it/s]"
     ]
    },
    {
     "name": "stdout",
     "output_type": "stream",
     "text": [
      "GCN loss on unlabled data: 1.471104383468628\n",
      "GCN acc on unlabled data: 0.7098793026374609\n",
      "attack loss: 0.857452929019928\n"
     ]
    },
    {
     "name": "stderr",
     "output_type": "stream",
     "text": [
      "Perturbing graph:  29%|█████████████████▋                                            | 290/1013 [02:40<06:27,  1.87it/s]"
     ]
    },
    {
     "name": "stdout",
     "output_type": "stream",
     "text": [
      "GCN loss on unlabled data: 1.5274816751480103\n",
      "GCN acc on unlabled data: 0.7067501117568172\n",
      "attack loss: 0.8754777908325195\n"
     ]
    },
    {
     "name": "stderr",
     "output_type": "stream",
     "text": [
      "Perturbing graph:  29%|█████████████████▊                                            | 291/1013 [02:41<06:55,  1.74it/s]"
     ]
    },
    {
     "name": "stdout",
     "output_type": "stream",
     "text": [
      "GCN loss on unlabled data: 1.5103708505630493\n",
      "GCN acc on unlabled data: 0.7045149754135003\n",
      "attack loss: 0.8725337982177734\n"
     ]
    },
    {
     "name": "stderr",
     "output_type": "stream",
     "text": [
      "Perturbing graph:  29%|█████████████████▊                                            | 292/1013 [02:41<06:50,  1.76it/s]"
     ]
    },
    {
     "name": "stdout",
     "output_type": "stream",
     "text": [
      "GCN loss on unlabled data: 1.4402048587799072\n",
      "GCN acc on unlabled data: 0.7094322753687975\n",
      "attack loss: 0.830672025680542\n"
     ]
    },
    {
     "name": "stderr",
     "output_type": "stream",
     "text": [
      "Perturbing graph:  29%|█████████████████▉                                            | 293/1013 [02:42<06:47,  1.77it/s]"
     ]
    },
    {
     "name": "stdout",
     "output_type": "stream",
     "text": [
      "GCN loss on unlabled data: 1.4780100584030151\n",
      "GCN acc on unlabled data: 0.705409029950827\n",
      "attack loss: 0.8645411729812622\n"
     ]
    },
    {
     "name": "stderr",
     "output_type": "stream",
     "text": [
      "Perturbing graph:  29%|█████████████████▉                                            | 294/1013 [02:43<06:44,  1.78it/s]"
     ]
    },
    {
     "name": "stdout",
     "output_type": "stream",
     "text": [
      "GCN loss on unlabled data: 1.4717707633972168\n",
      "GCN acc on unlabled data: 0.7045149754135003\n",
      "attack loss: 0.8538180589675903\n"
     ]
    },
    {
     "name": "stderr",
     "output_type": "stream",
     "text": [
      "Perturbing graph:  29%|██████████████████                                            | 295/1013 [02:43<06:40,  1.79it/s]"
     ]
    },
    {
     "name": "stdout",
     "output_type": "stream",
     "text": [
      "GCN loss on unlabled data: 1.4690914154052734\n",
      "GCN acc on unlabled data: 0.7040679481448369\n",
      "attack loss: 0.8561263084411621\n"
     ]
    },
    {
     "name": "stderr",
     "output_type": "stream",
     "text": [
      "Perturbing graph:  29%|██████████████████                                            | 296/1013 [02:44<06:34,  1.82it/s]"
     ]
    },
    {
     "name": "stdout",
     "output_type": "stream",
     "text": [
      "GCN loss on unlabled data: 1.4636621475219727\n",
      "GCN acc on unlabled data: 0.7049620026821636\n",
      "attack loss: 0.8519731163978577\n"
     ]
    },
    {
     "name": "stderr",
     "output_type": "stream",
     "text": [
      "Perturbing graph:  29%|██████████████████▏                                           | 297/1013 [02:44<06:29,  1.84it/s]"
     ]
    },
    {
     "name": "stdout",
     "output_type": "stream",
     "text": [
      "GCN loss on unlabled data: 1.574009656906128\n",
      "GCN acc on unlabled data: 0.6991506481895395\n",
      "attack loss: 0.9146293997764587\n"
     ]
    },
    {
     "name": "stderr",
     "output_type": "stream",
     "text": [
      "Perturbing graph:  29%|██████████████████▏                                           | 298/1013 [02:45<06:36,  1.80it/s]"
     ]
    },
    {
     "name": "stdout",
     "output_type": "stream",
     "text": [
      "GCN loss on unlabled data: 1.5291188955307007\n",
      "GCN acc on unlabled data: 0.7049620026821636\n",
      "attack loss: 0.8833332061767578\n"
     ]
    },
    {
     "name": "stderr",
     "output_type": "stream",
     "text": [
      "Perturbing graph:  30%|██████████████████▎                                           | 299/1013 [02:45<06:40,  1.78it/s]"
     ]
    },
    {
     "name": "stdout",
     "output_type": "stream",
     "text": [
      "GCN loss on unlabled data: 1.5260199308395386\n",
      "GCN acc on unlabled data: 0.699597675458203\n",
      "attack loss: 0.8952357172966003\n"
     ]
    },
    {
     "name": "stderr",
     "output_type": "stream",
     "text": [
      "Perturbing graph:  30%|██████████████████▎                                           | 300/1013 [02:46<06:39,  1.78it/s]"
     ]
    },
    {
     "name": "stdout",
     "output_type": "stream",
     "text": [
      "GCN loss on unlabled data: 1.5525826215744019\n",
      "GCN acc on unlabled data: 0.7000447027268664\n",
      "attack loss: 0.8999031186103821\n"
     ]
    },
    {
     "name": "stderr",
     "output_type": "stream",
     "text": [
      "Perturbing graph:  30%|██████████████████▍                                           | 301/1013 [02:46<06:38,  1.79it/s]"
     ]
    },
    {
     "name": "stdout",
     "output_type": "stream",
     "text": [
      "GCN loss on unlabled data: 1.5978866815567017\n",
      "GCN acc on unlabled data: 0.70317389360751\n",
      "attack loss: 0.9281391501426697\n"
     ]
    },
    {
     "name": "stderr",
     "output_type": "stream",
     "text": [
      "Perturbing graph:  30%|██████████████████▍                                           | 302/1013 [02:47<06:37,  1.79it/s]"
     ]
    },
    {
     "name": "stdout",
     "output_type": "stream",
     "text": [
      "GCN loss on unlabled data: 1.489617109298706\n",
      "GCN acc on unlabled data: 0.70317389360751\n",
      "attack loss: 0.8684268593788147\n"
     ]
    },
    {
     "name": "stderr",
     "output_type": "stream",
     "text": [
      "Perturbing graph:  30%|██████████████████▌                                           | 303/1013 [02:48<06:30,  1.82it/s]"
     ]
    },
    {
     "name": "stdout",
     "output_type": "stream",
     "text": [
      "GCN loss on unlabled data: 1.4709383249282837\n",
      "GCN acc on unlabled data: 0.6987036209208762\n",
      "attack loss: 0.8585559129714966\n"
     ]
    },
    {
     "name": "stderr",
     "output_type": "stream",
     "text": [
      "Perturbing graph:  30%|██████████████████▌                                           | 304/1013 [02:48<06:25,  1.84it/s]"
     ]
    },
    {
     "name": "stdout",
     "output_type": "stream",
     "text": [
      "GCN loss on unlabled data: 1.5338168144226074\n",
      "GCN acc on unlabled data: 0.6987036209208762\n",
      "attack loss: 0.8813778162002563\n"
     ]
    },
    {
     "name": "stderr",
     "output_type": "stream",
     "text": [
      "Perturbing graph:  30%|██████████████████▋                                           | 305/1013 [02:49<06:22,  1.85it/s]"
     ]
    },
    {
     "name": "stdout",
     "output_type": "stream",
     "text": [
      "GCN loss on unlabled data: 1.5890685319900513\n",
      "GCN acc on unlabled data: 0.699597675458203\n",
      "attack loss: 0.9289450645446777\n"
     ]
    },
    {
     "name": "stderr",
     "output_type": "stream",
     "text": [
      "Perturbing graph:  30%|██████████████████▋                                           | 306/1013 [02:49<06:19,  1.86it/s]"
     ]
    },
    {
     "name": "stdout",
     "output_type": "stream",
     "text": [
      "GCN loss on unlabled data: 1.5361398458480835\n",
      "GCN acc on unlabled data: 0.6955744300402324\n",
      "attack loss: 0.8867897391319275\n"
     ]
    },
    {
     "name": "stderr",
     "output_type": "stream",
     "text": [
      "Perturbing graph:  30%|██████████████████▊                                           | 307/1013 [02:50<06:28,  1.82it/s]"
     ]
    },
    {
     "name": "stdout",
     "output_type": "stream",
     "text": [
      "GCN loss on unlabled data: 1.5627593994140625\n",
      "GCN acc on unlabled data: 0.699597675458203\n",
      "attack loss: 0.9117239117622375\n"
     ]
    },
    {
     "name": "stderr",
     "output_type": "stream",
     "text": [
      "Perturbing graph:  30%|██████████████████▊                                           | 308/1013 [02:50<06:22,  1.84it/s]"
     ]
    },
    {
     "name": "stdout",
     "output_type": "stream",
     "text": [
      "GCN loss on unlabled data: 1.5248430967330933\n",
      "GCN acc on unlabled data: 0.7022798390701833\n",
      "attack loss: 0.8792901635169983\n"
     ]
    },
    {
     "name": "stderr",
     "output_type": "stream",
     "text": [
      "Perturbing graph:  31%|██████████████████▉                                           | 309/1013 [02:51<06:19,  1.86it/s]"
     ]
    },
    {
     "name": "stdout",
     "output_type": "stream",
     "text": [
      "GCN loss on unlabled data: 1.5683313608169556\n",
      "GCN acc on unlabled data: 0.697362539114886\n",
      "attack loss: 0.9109125733375549\n"
     ]
    },
    {
     "name": "stderr",
     "output_type": "stream",
     "text": [
      "Perturbing graph:  31%|██████████████████▉                                           | 310/1013 [02:51<06:16,  1.87it/s]"
     ]
    },
    {
     "name": "stdout",
     "output_type": "stream",
     "text": [
      "GCN loss on unlabled data: 1.596388339996338\n",
      "GCN acc on unlabled data: 0.697362539114886\n",
      "attack loss: 0.9309208989143372\n"
     ]
    },
    {
     "name": "stderr",
     "output_type": "stream",
     "text": [
      "Perturbing graph:  31%|███████████████████                                           | 311/1013 [02:52<06:35,  1.78it/s]"
     ]
    },
    {
     "name": "stdout",
     "output_type": "stream",
     "text": [
      "GCN loss on unlabled data: 1.5508813858032227\n",
      "GCN acc on unlabled data: 0.6964684845775593\n",
      "attack loss: 0.9010589122772217\n"
     ]
    },
    {
     "name": "stderr",
     "output_type": "stream",
     "text": [
      "Perturbing graph:  31%|███████████████████                                           | 312/1013 [02:52<06:27,  1.81it/s]"
     ]
    },
    {
     "name": "stdout",
     "output_type": "stream",
     "text": [
      "GCN loss on unlabled data: 1.5584187507629395\n",
      "GCN acc on unlabled data: 0.6964684845775593\n",
      "attack loss: 0.9055737257003784\n"
     ]
    },
    {
     "name": "stderr",
     "output_type": "stream",
     "text": [
      "Perturbing graph:  31%|███████████████████▏                                          | 313/1013 [02:53<06:21,  1.83it/s]"
     ]
    },
    {
     "name": "stdout",
     "output_type": "stream",
     "text": [
      "GCN loss on unlabled data: 1.564902663230896\n",
      "GCN acc on unlabled data: 0.6964684845775593\n",
      "attack loss: 0.9061411023139954\n"
     ]
    },
    {
     "name": "stderr",
     "output_type": "stream",
     "text": [
      "Perturbing graph:  31%|███████████████████▏                                          | 314/1013 [02:53<06:17,  1.85it/s]"
     ]
    },
    {
     "name": "stdout",
     "output_type": "stream",
     "text": [
      "GCN loss on unlabled data: 1.617713451385498\n",
      "GCN acc on unlabled data: 0.691551184622262\n",
      "attack loss: 0.9398619532585144\n"
     ]
    },
    {
     "name": "stderr",
     "output_type": "stream",
     "text": [
      "Perturbing graph:  31%|███████████████████▎                                          | 315/1013 [02:54<06:31,  1.78it/s]"
     ]
    },
    {
     "name": "stdout",
     "output_type": "stream",
     "text": [
      "GCN loss on unlabled data: 1.6095658540725708\n",
      "GCN acc on unlabled data: 0.6969155118462227\n",
      "attack loss: 0.9337607622146606\n"
     ]
    },
    {
     "name": "stderr",
     "output_type": "stream",
     "text": [
      "Perturbing graph:  31%|███████████████████▎                                          | 316/1013 [02:55<06:24,  1.81it/s]"
     ]
    },
    {
     "name": "stdout",
     "output_type": "stream",
     "text": [
      "GCN loss on unlabled data: 1.6016024351119995\n",
      "GCN acc on unlabled data: 0.699597675458203\n",
      "attack loss: 0.9239763021469116\n"
     ]
    },
    {
     "name": "stderr",
     "output_type": "stream",
     "text": [
      "Perturbing graph:  31%|███████████████████▍                                          | 317/1013 [02:55<06:18,  1.84it/s]"
     ]
    },
    {
     "name": "stdout",
     "output_type": "stream",
     "text": [
      "GCN loss on unlabled data: 1.643963098526001\n",
      "GCN acc on unlabled data: 0.6964684845775593\n",
      "attack loss: 0.9623861908912659\n"
     ]
    },
    {
     "name": "stderr",
     "output_type": "stream",
     "text": [
      "Perturbing graph:  31%|███████████████████▍                                          | 318/1013 [02:56<06:14,  1.86it/s]"
     ]
    },
    {
     "name": "stdout",
     "output_type": "stream",
     "text": [
      "GCN loss on unlabled data: 1.6290620565414429\n",
      "GCN acc on unlabled data: 0.689316048278945\n",
      "attack loss: 0.9476683139801025\n"
     ]
    },
    {
     "name": "stderr",
     "output_type": "stream",
     "text": [
      "Perturbing graph:  31%|███████████████████▌                                          | 319/1013 [02:56<06:30,  1.78it/s]"
     ]
    },
    {
     "name": "stdout",
     "output_type": "stream",
     "text": [
      "GCN loss on unlabled data: 1.6260366439819336\n",
      "GCN acc on unlabled data: 0.6897630755476084\n",
      "attack loss: 0.9523864388465881\n"
     ]
    },
    {
     "name": "stderr",
     "output_type": "stream",
     "text": [
      "Perturbing graph:  32%|███████████████████▌                                          | 320/1013 [02:57<06:22,  1.81it/s]"
     ]
    },
    {
     "name": "stdout",
     "output_type": "stream",
     "text": [
      "GCN loss on unlabled data: 1.6277289390563965\n",
      "GCN acc on unlabled data: 0.6919982118909254\n",
      "attack loss: 0.9476415514945984\n"
     ]
    },
    {
     "name": "stderr",
     "output_type": "stream",
     "text": [
      "Perturbing graph:  32%|███████████████████▋                                          | 321/1013 [02:57<06:17,  1.84it/s]"
     ]
    },
    {
     "name": "stdout",
     "output_type": "stream",
     "text": [
      "GCN loss on unlabled data: 1.6177499294281006\n",
      "GCN acc on unlabled data: 0.6924452391595888\n",
      "attack loss: 0.9373496770858765\n"
     ]
    },
    {
     "name": "stderr",
     "output_type": "stream",
     "text": [
      "Perturbing graph:  32%|███████████████████▋                                          | 322/1013 [02:58<06:12,  1.86it/s]"
     ]
    },
    {
     "name": "stdout",
     "output_type": "stream",
     "text": [
      "GCN loss on unlabled data: 1.608716368675232\n",
      "GCN acc on unlabled data: 0.6942333482342423\n",
      "attack loss: 0.9450724124908447\n"
     ]
    },
    {
     "name": "stderr",
     "output_type": "stream",
     "text": [
      "Perturbing graph:  32%|███████████████████▊                                          | 323/1013 [02:59<06:36,  1.74it/s]"
     ]
    },
    {
     "name": "stdout",
     "output_type": "stream",
     "text": [
      "GCN loss on unlabled data: 1.6179064512252808\n",
      "GCN acc on unlabled data: 0.6928922664282522\n",
      "attack loss: 0.9441522359848022\n"
     ]
    },
    {
     "name": "stderr",
     "output_type": "stream",
     "text": [
      "Perturbing graph:  32%|███████████████████▊                                          | 324/1013 [02:59<06:27,  1.78it/s]"
     ]
    },
    {
     "name": "stdout",
     "output_type": "stream",
     "text": [
      "GCN loss on unlabled data: 1.5880786180496216\n",
      "GCN acc on unlabled data: 0.7000447027268664\n",
      "attack loss: 0.9249837398529053\n"
     ]
    },
    {
     "name": "stderr",
     "output_type": "stream",
     "text": [
      "Perturbing graph:  32%|███████████████████▉                                          | 325/1013 [03:00<06:19,  1.81it/s]"
     ]
    },
    {
     "name": "stdout",
     "output_type": "stream",
     "text": [
      "GCN loss on unlabled data: 1.6114509105682373\n",
      "GCN acc on unlabled data: 0.6924452391595888\n",
      "attack loss: 0.9396668672561646\n"
     ]
    },
    {
     "name": "stderr",
     "output_type": "stream",
     "text": [
      "Perturbing graph:  32%|███████████████████▉                                          | 326/1013 [03:00<06:13,  1.84it/s]"
     ]
    },
    {
     "name": "stdout",
     "output_type": "stream",
     "text": [
      "GCN loss on unlabled data: 1.6549656391143799\n",
      "GCN acc on unlabled data: 0.6902101028162718\n",
      "attack loss: 0.9660091996192932\n"
     ]
    },
    {
     "name": "stderr",
     "output_type": "stream",
     "text": [
      "Perturbing graph:  32%|████████████████████                                          | 327/1013 [03:01<06:23,  1.79it/s]"
     ]
    },
    {
     "name": "stdout",
     "output_type": "stream",
     "text": [
      "GCN loss on unlabled data: 1.661134123802185\n",
      "GCN acc on unlabled data: 0.6978095663835494\n",
      "attack loss: 0.9669421315193176\n"
     ]
    },
    {
     "name": "stderr",
     "output_type": "stream",
     "text": [
      "Perturbing graph:  32%|████████████████████                                          | 328/1013 [03:01<06:15,  1.82it/s]"
     ]
    },
    {
     "name": "stdout",
     "output_type": "stream",
     "text": [
      "GCN loss on unlabled data: 1.6341198682785034\n",
      "GCN acc on unlabled data: 0.6937863209655789\n",
      "attack loss: 0.9619075655937195\n"
     ]
    },
    {
     "name": "stderr",
     "output_type": "stream",
     "text": [
      "Perturbing graph:  32%|████████████████████▏                                         | 329/1013 [03:02<06:11,  1.84it/s]"
     ]
    },
    {
     "name": "stdout",
     "output_type": "stream",
     "text": [
      "GCN loss on unlabled data: 1.62794828414917\n",
      "GCN acc on unlabled data: 0.691551184622262\n",
      "attack loss: 0.9560320377349854\n"
     ]
    },
    {
     "name": "stderr",
     "output_type": "stream",
     "text": [
      "Perturbing graph:  33%|████████████████████▏                                         | 330/1013 [03:02<06:07,  1.86it/s]"
     ]
    },
    {
     "name": "stdout",
     "output_type": "stream",
     "text": [
      "GCN loss on unlabled data: 1.6144195795059204\n",
      "GCN acc on unlabled data: 0.6933392936969155\n",
      "attack loss: 0.9364704489707947\n"
     ]
    },
    {
     "name": "stderr",
     "output_type": "stream",
     "text": [
      "Perturbing graph:  33%|████████████████████▎                                         | 331/1013 [03:03<06:29,  1.75it/s]"
     ]
    },
    {
     "name": "stdout",
     "output_type": "stream",
     "text": [
      "GCN loss on unlabled data: 1.683254599571228\n",
      "GCN acc on unlabled data: 0.6955744300402324\n",
      "attack loss: 0.9708582162857056\n"
     ]
    },
    {
     "name": "stderr",
     "output_type": "stream",
     "text": [
      "Perturbing graph:  33%|████████████████████▎                                         | 332/1013 [03:03<06:26,  1.76it/s]"
     ]
    },
    {
     "name": "stdout",
     "output_type": "stream",
     "text": [
      "GCN loss on unlabled data: 1.5738940238952637\n",
      "GCN acc on unlabled data: 0.7000447027268664\n",
      "attack loss: 0.9149706959724426\n"
     ]
    },
    {
     "name": "stderr",
     "output_type": "stream",
     "text": [
      "Perturbing graph:  33%|████████████████████▍                                         | 333/1013 [03:04<06:20,  1.79it/s]"
     ]
    },
    {
     "name": "stdout",
     "output_type": "stream",
     "text": [
      "GCN loss on unlabled data: 1.6503630876541138\n",
      "GCN acc on unlabled data: 0.6866338846669647\n",
      "attack loss: 0.9601026177406311\n"
     ]
    },
    {
     "name": "stderr",
     "output_type": "stream",
     "text": [
      "Perturbing graph:  33%|████████████████████▍                                         | 334/1013 [03:05<06:13,  1.82it/s]"
     ]
    },
    {
     "name": "stdout",
     "output_type": "stream",
     "text": [
      "GCN loss on unlabled data: 1.6737051010131836\n",
      "GCN acc on unlabled data: 0.6955744300402324\n",
      "attack loss: 0.969399631023407\n"
     ]
    },
    {
     "name": "stderr",
     "output_type": "stream",
     "text": [
      "Perturbing graph:  33%|████████████████████▌                                         | 335/1013 [03:05<06:11,  1.83it/s]"
     ]
    },
    {
     "name": "stdout",
     "output_type": "stream",
     "text": [
      "GCN loss on unlabled data: 1.7170724868774414\n",
      "GCN acc on unlabled data: 0.6839517210549844\n",
      "attack loss: 0.9916780591011047\n"
     ]
    },
    {
     "name": "stderr",
     "output_type": "stream",
     "text": [
      "Perturbing graph:  33%|████████████████████▌                                         | 336/1013 [03:06<06:06,  1.85it/s]"
     ]
    },
    {
     "name": "stdout",
     "output_type": "stream",
     "text": [
      "GCN loss on unlabled data: 1.6779683828353882\n",
      "GCN acc on unlabled data: 0.6870809119356281\n",
      "attack loss: 0.9691157341003418\n"
     ]
    },
    {
     "name": "stderr",
     "output_type": "stream",
     "text": [
      "Perturbing graph:  33%|████████████████████▋                                         | 337/1013 [03:06<06:02,  1.86it/s]"
     ]
    },
    {
     "name": "stdout",
     "output_type": "stream",
     "text": [
      "GCN loss on unlabled data: 1.631536841392517\n",
      "GCN acc on unlabled data: 0.6902101028162718\n",
      "attack loss: 0.9433033466339111\n"
     ]
    },
    {
     "name": "stderr",
     "output_type": "stream",
     "text": [
      "Perturbing graph:  33%|████████████████████▋                                         | 338/1013 [03:07<06:00,  1.87it/s]"
     ]
    },
    {
     "name": "stdout",
     "output_type": "stream",
     "text": [
      "GCN loss on unlabled data: 1.7581325769424438\n",
      "GCN acc on unlabled data: 0.6879749664729549\n",
      "attack loss: 1.0196431875228882\n"
     ]
    },
    {
     "name": "stderr",
     "output_type": "stream",
     "text": [
      "Perturbing graph:  33%|████████████████████▋                                         | 339/1013 [03:07<06:23,  1.76it/s]"
     ]
    },
    {
     "name": "stdout",
     "output_type": "stream",
     "text": [
      "GCN loss on unlabled data: 1.686071515083313\n",
      "GCN acc on unlabled data: 0.689316048278945\n",
      "attack loss: 0.9729164242744446\n"
     ]
    },
    {
     "name": "stderr",
     "output_type": "stream",
     "text": [
      "Perturbing graph:  34%|████████████████████▊                                         | 340/1013 [03:08<06:19,  1.77it/s]"
     ]
    },
    {
     "name": "stdout",
     "output_type": "stream",
     "text": [
      "GCN loss on unlabled data: 1.6586027145385742\n",
      "GCN acc on unlabled data: 0.6906571300849352\n",
      "attack loss: 0.9636363387107849\n"
     ]
    },
    {
     "name": "stderr",
     "output_type": "stream",
     "text": [
      "Perturbing graph:  34%|████████████████████▊                                         | 341/1013 [03:08<06:14,  1.80it/s]"
     ]
    },
    {
     "name": "stdout",
     "output_type": "stream",
     "text": [
      "GCN loss on unlabled data: 1.6954944133758545\n",
      "GCN acc on unlabled data: 0.6884219937416183\n",
      "attack loss: 0.9872148633003235\n"
     ]
    },
    {
     "name": "stderr",
     "output_type": "stream",
     "text": [
      "Perturbing graph:  34%|████████████████████▉                                         | 342/1013 [03:09<06:07,  1.83it/s]"
     ]
    },
    {
     "name": "stdout",
     "output_type": "stream",
     "text": [
      "GCN loss on unlabled data: 1.7143486738204956\n",
      "GCN acc on unlabled data: 0.6843987483236478\n",
      "attack loss: 0.9840083122253418\n"
     ]
    },
    {
     "name": "stderr",
     "output_type": "stream",
     "text": [
      "Perturbing graph:  34%|████████████████████▉                                         | 343/1013 [03:10<06:09,  1.81it/s]"
     ]
    },
    {
     "name": "stdout",
     "output_type": "stream",
     "text": [
      "GCN loss on unlabled data: 1.788057804107666\n",
      "GCN acc on unlabled data: 0.6852928028609745\n",
      "attack loss: 1.0322506427764893\n"
     ]
    },
    {
     "name": "stderr",
     "output_type": "stream",
     "text": [
      "Perturbing graph:  34%|█████████████████████                                         | 344/1013 [03:10<06:04,  1.83it/s]"
     ]
    },
    {
     "name": "stdout",
     "output_type": "stream",
     "text": [
      "GCN loss on unlabled data: 1.7326754331588745\n",
      "GCN acc on unlabled data: 0.6861868573983013\n",
      "attack loss: 1.0112894773483276\n"
     ]
    },
    {
     "name": "stderr",
     "output_type": "stream",
     "text": [
      "Perturbing graph:  34%|█████████████████████                                         | 345/1013 [03:11<06:00,  1.85it/s]"
     ]
    },
    {
     "name": "stdout",
     "output_type": "stream",
     "text": [
      "GCN loss on unlabled data: 1.7177854776382446\n",
      "GCN acc on unlabled data: 0.6826106392489942\n",
      "attack loss: 0.9978192448616028\n"
     ]
    },
    {
     "name": "stderr",
     "output_type": "stream",
     "text": [
      "Perturbing graph:  34%|█████████████████████▏                                        | 346/1013 [03:11<05:57,  1.86it/s]"
     ]
    },
    {
     "name": "stdout",
     "output_type": "stream",
     "text": [
      "GCN loss on unlabled data: 1.7066913843154907\n",
      "GCN acc on unlabled data: 0.6852928028609745\n",
      "attack loss: 0.9978176355361938\n"
     ]
    },
    {
     "name": "stderr",
     "output_type": "stream",
     "text": [
      "Perturbing graph:  34%|█████████████████████▏                                        | 347/1013 [03:12<06:13,  1.78it/s]"
     ]
    },
    {
     "name": "stdout",
     "output_type": "stream",
     "text": [
      "GCN loss on unlabled data: 1.70404851436615\n",
      "GCN acc on unlabled data: 0.6902101028162718\n",
      "attack loss: 0.9771533608436584\n"
     ]
    },
    {
     "name": "stderr",
     "output_type": "stream",
     "text": [
      "Perturbing graph:  34%|█████████████████████▎                                        | 348/1013 [03:12<06:06,  1.82it/s]"
     ]
    },
    {
     "name": "stdout",
     "output_type": "stream",
     "text": [
      "GCN loss on unlabled data: 1.7300218343734741\n",
      "GCN acc on unlabled data: 0.683504693786321\n",
      "attack loss: 1.0084015130996704\n"
     ]
    },
    {
     "name": "stderr",
     "output_type": "stream",
     "text": [
      "Perturbing graph:  34%|█████████████████████▎                                        | 349/1013 [03:13<06:00,  1.84it/s]"
     ]
    },
    {
     "name": "stdout",
     "output_type": "stream",
     "text": [
      "GCN loss on unlabled data: 1.7099804878234863\n",
      "GCN acc on unlabled data: 0.6879749664729549\n",
      "attack loss: 0.9890672564506531\n"
     ]
    },
    {
     "name": "stderr",
     "output_type": "stream",
     "text": [
      "Perturbing graph:  35%|█████████████████████▍                                        | 350/1013 [03:13<05:57,  1.86it/s]"
     ]
    },
    {
     "name": "stdout",
     "output_type": "stream",
     "text": [
      "GCN loss on unlabled data: 1.7025940418243408\n",
      "GCN acc on unlabled data: 0.6879749664729549\n",
      "attack loss: 0.9811714887619019\n"
     ]
    },
    {
     "name": "stderr",
     "output_type": "stream",
     "text": [
      "Perturbing graph:  35%|█████████████████████▍                                        | 351/1013 [03:14<06:18,  1.75it/s]"
     ]
    },
    {
     "name": "stdout",
     "output_type": "stream",
     "text": [
      "GCN loss on unlabled data: 1.7235949039459229\n",
      "GCN acc on unlabled data: 0.6861868573983013\n",
      "attack loss: 1.0016292333602905\n"
     ]
    },
    {
     "name": "stderr",
     "output_type": "stream",
     "text": [
      "Perturbing graph:  35%|█████████████████████▌                                        | 352/1013 [03:15<06:15,  1.76it/s]"
     ]
    },
    {
     "name": "stdout",
     "output_type": "stream",
     "text": [
      "GCN loss on unlabled data: 1.7965612411499023\n",
      "GCN acc on unlabled data: 0.681269557443004\n",
      "attack loss: 1.0414732694625854\n"
     ]
    },
    {
     "name": "stderr",
     "output_type": "stream",
     "text": [
      "Perturbing graph:  35%|█████████████████████▌                                        | 353/1013 [03:15<06:12,  1.77it/s]"
     ]
    },
    {
     "name": "stdout",
     "output_type": "stream",
     "text": [
      "GCN loss on unlabled data: 1.7459832429885864\n",
      "GCN acc on unlabled data: 0.6763522574877068\n",
      "attack loss: 1.0054339170455933\n"
     ]
    },
    {
     "name": "stderr",
     "output_type": "stream",
     "text": [
      "Perturbing graph:  35%|█████████████████████▋                                        | 354/1013 [03:16<06:05,  1.80it/s]"
     ]
    },
    {
     "name": "stdout",
     "output_type": "stream",
     "text": [
      "GCN loss on unlabled data: 1.7866824865341187\n",
      "GCN acc on unlabled data: 0.6781403665623603\n",
      "attack loss: 1.0333763360977173\n"
     ]
    },
    {
     "name": "stderr",
     "output_type": "stream",
     "text": [
      "Perturbing graph:  35%|█████████████████████▋                                        | 355/1013 [03:16<06:00,  1.83it/s]"
     ]
    },
    {
     "name": "stdout",
     "output_type": "stream",
     "text": [
      "GCN loss on unlabled data: 1.7344683408737183\n",
      "GCN acc on unlabled data: 0.6839517210549844\n",
      "attack loss: 1.0004688501358032\n"
     ]
    },
    {
     "name": "stderr",
     "output_type": "stream",
     "text": [
      "Perturbing graph:  35%|█████████████████████▊                                        | 356/1013 [03:17<05:55,  1.85it/s]"
     ]
    },
    {
     "name": "stdout",
     "output_type": "stream",
     "text": [
      "GCN loss on unlabled data: 1.8271231651306152\n",
      "GCN acc on unlabled data: 0.6750111756817166\n",
      "attack loss: 1.0583405494689941\n"
     ]
    },
    {
     "name": "stderr",
     "output_type": "stream",
     "text": [
      "Perturbing graph:  35%|█████████████████████▊                                        | 357/1013 [03:17<05:52,  1.86it/s]"
     ]
    },
    {
     "name": "stdout",
     "output_type": "stream",
     "text": [
      "GCN loss on unlabled data: 1.7424817085266113\n",
      "GCN acc on unlabled data: 0.6781403665623603\n",
      "attack loss: 1.002493977546692\n"
     ]
    },
    {
     "name": "stderr",
     "output_type": "stream",
     "text": [
      "Perturbing graph:  35%|█████████████████████▉                                        | 358/1013 [03:18<05:49,  1.87it/s]"
     ]
    },
    {
     "name": "stdout",
     "output_type": "stream",
     "text": [
      "GCN loss on unlabled data: 1.750330924987793\n",
      "GCN acc on unlabled data: 0.6861868573983013\n",
      "attack loss: 1.0101916790008545\n"
     ]
    },
    {
     "name": "stderr",
     "output_type": "stream",
     "text": [
      "Perturbing graph:  35%|█████████████████████▉                                        | 359/1013 [03:18<06:07,  1.78it/s]"
     ]
    },
    {
     "name": "stdout",
     "output_type": "stream",
     "text": [
      "GCN loss on unlabled data: 1.7913492918014526\n",
      "GCN acc on unlabled data: 0.6776933392936969\n",
      "attack loss: 1.031899094581604\n"
     ]
    },
    {
     "name": "stderr",
     "output_type": "stream",
     "text": [
      "Perturbing graph:  36%|██████████████████████                                        | 360/1013 [03:19<06:00,  1.81it/s]"
     ]
    },
    {
     "name": "stdout",
     "output_type": "stream",
     "text": [
      "GCN loss on unlabled data: 1.7691965103149414\n",
      "GCN acc on unlabled data: 0.6745641484130532\n",
      "attack loss: 1.03058922290802\n"
     ]
    },
    {
     "name": "stderr",
     "output_type": "stream",
     "text": [
      "Perturbing graph:  36%|██████████████████████                                        | 361/1013 [03:19<05:54,  1.84it/s]"
     ]
    },
    {
     "name": "stdout",
     "output_type": "stream",
     "text": [
      "GCN loss on unlabled data: 1.763405680656433\n",
      "GCN acc on unlabled data: 0.6821636119803308\n",
      "attack loss: 1.0177348852157593\n"
     ]
    },
    {
     "name": "stderr",
     "output_type": "stream",
     "text": [
      "Perturbing graph:  36%|██████████████████████▏                                       | 362/1013 [03:20<05:50,  1.85it/s]"
     ]
    },
    {
     "name": "stdout",
     "output_type": "stream",
     "text": [
      "GCN loss on unlabled data: 1.8012361526489258\n",
      "GCN acc on unlabled data: 0.6714349575324094\n",
      "attack loss: 1.0443469285964966\n"
     ]
    },
    {
     "name": "stderr",
     "output_type": "stream",
     "text": [
      "Perturbing graph:  36%|██████████████████████▏                                       | 363/1013 [03:21<06:15,  1.73it/s]"
     ]
    },
    {
     "name": "stdout",
     "output_type": "stream",
     "text": [
      "GCN loss on unlabled data: 1.7882943153381348\n",
      "GCN acc on unlabled data: 0.6732230666070631\n",
      "attack loss: 1.0320261716842651\n"
     ]
    },
    {
     "name": "stderr",
     "output_type": "stream",
     "text": [
      "Perturbing graph:  36%|██████████████████████▎                                       | 364/1013 [03:21<06:17,  1.72it/s]"
     ]
    },
    {
     "name": "stdout",
     "output_type": "stream",
     "text": [
      "GCN loss on unlabled data: 1.6769996881484985\n",
      "GCN acc on unlabled data: 0.6767992847563702\n",
      "attack loss: 0.98207688331604\n"
     ]
    },
    {
     "name": "stderr",
     "output_type": "stream",
     "text": [
      "Perturbing graph:  36%|██████████████████████▎                                       | 365/1013 [03:22<06:12,  1.74it/s]"
     ]
    },
    {
     "name": "stdout",
     "output_type": "stream",
     "text": [
      "GCN loss on unlabled data: 1.8255661725997925\n",
      "GCN acc on unlabled data: 0.6718819848010729\n",
      "attack loss: 1.0422117710113525\n"
     ]
    },
    {
     "name": "stderr",
     "output_type": "stream",
     "text": [
      "Perturbing graph:  36%|██████████████████████▍                                       | 366/1013 [03:22<06:05,  1.77it/s]"
     ]
    },
    {
     "name": "stdout",
     "output_type": "stream",
     "text": [
      "GCN loss on unlabled data: 1.8234331607818604\n",
      "GCN acc on unlabled data: 0.6745641484130532\n",
      "attack loss: 1.0534793138504028\n"
     ]
    },
    {
     "name": "stderr",
     "output_type": "stream",
     "text": [
      "Perturbing graph:  36%|██████████████████████▍                                       | 367/1013 [03:23<06:05,  1.77it/s]"
     ]
    },
    {
     "name": "stdout",
     "output_type": "stream",
     "text": [
      "GCN loss on unlabled data: 1.7992414236068726\n",
      "GCN acc on unlabled data: 0.6741171211443898\n",
      "attack loss: 1.0395792722702026\n"
     ]
    },
    {
     "name": "stderr",
     "output_type": "stream",
     "text": [
      "Perturbing graph:  36%|██████████████████████▌                                       | 368/1013 [03:23<05:57,  1.80it/s]"
     ]
    },
    {
     "name": "stdout",
     "output_type": "stream",
     "text": [
      "GCN loss on unlabled data: 1.8402669429779053\n",
      "GCN acc on unlabled data: 0.6803755029056773\n",
      "attack loss: 1.0611581802368164\n"
     ]
    },
    {
     "name": "stderr",
     "output_type": "stream",
     "text": [
      "Perturbing graph:  36%|██████████████████████▌                                       | 369/1013 [03:24<05:50,  1.84it/s]"
     ]
    },
    {
     "name": "stdout",
     "output_type": "stream",
     "text": [
      "GCN loss on unlabled data: 1.8053617477416992\n",
      "GCN acc on unlabled data: 0.6781403665623603\n",
      "attack loss: 1.040212869644165\n"
     ]
    },
    {
     "name": "stderr",
     "output_type": "stream",
     "text": [
      "Perturbing graph:  37%|██████████████████████▋                                       | 370/1013 [03:24<05:45,  1.86it/s]"
     ]
    },
    {
     "name": "stdout",
     "output_type": "stream",
     "text": [
      "GCN loss on unlabled data: 1.743053674697876\n",
      "GCN acc on unlabled data: 0.6750111756817166\n",
      "attack loss: 1.007407307624817\n"
     ]
    },
    {
     "name": "stderr",
     "output_type": "stream",
     "text": [
      "Perturbing graph:  37%|██████████████████████▋                                       | 371/1013 [03:25<05:51,  1.83it/s]"
     ]
    },
    {
     "name": "stdout",
     "output_type": "stream",
     "text": [
      "GCN loss on unlabled data: 1.8326247930526733\n",
      "GCN acc on unlabled data: 0.6714349575324094\n",
      "attack loss: 1.067563533782959\n"
     ]
    },
    {
     "name": "stderr",
     "output_type": "stream",
     "text": [
      "Perturbing graph:  37%|██████████████████████▊                                       | 372/1013 [03:26<05:49,  1.83it/s]"
     ]
    },
    {
     "name": "stdout",
     "output_type": "stream",
     "text": [
      "GCN loss on unlabled data: 1.8767125606536865\n",
      "GCN acc on unlabled data: 0.6727760393383997\n",
      "attack loss: 1.0824885368347168\n"
     ]
    },
    {
     "name": "stderr",
     "output_type": "stream",
     "text": [
      "Perturbing graph:  37%|██████████████████████▊                                       | 373/1013 [03:26<05:46,  1.85it/s]"
     ]
    },
    {
     "name": "stdout",
     "output_type": "stream",
     "text": [
      "GCN loss on unlabled data: 1.87821626663208\n",
      "GCN acc on unlabled data: 0.6714349575324094\n",
      "attack loss: 1.0762313604354858\n"
     ]
    },
    {
     "name": "stderr",
     "output_type": "stream",
     "text": [
      "Perturbing graph:  37%|██████████████████████▉                                       | 374/1013 [03:27<05:43,  1.86it/s]"
     ]
    },
    {
     "name": "stdout",
     "output_type": "stream",
     "text": [
      "GCN loss on unlabled data: 1.7820245027542114\n",
      "GCN acc on unlabled data: 0.6781403665623603\n",
      "attack loss: 1.0299955606460571\n"
     ]
    },
    {
     "name": "stderr",
     "output_type": "stream",
     "text": [
      "Perturbing graph:  37%|██████████████████████▉                                       | 375/1013 [03:27<05:53,  1.81it/s]"
     ]
    },
    {
     "name": "stdout",
     "output_type": "stream",
     "text": [
      "GCN loss on unlabled data: 1.7500581741333008\n",
      "GCN acc on unlabled data: 0.6790344210996871\n",
      "attack loss: 1.0172430276870728\n"
     ]
    },
    {
     "name": "stderr",
     "output_type": "stream",
     "text": [
      "Perturbing graph:  37%|███████████████████████                                       | 376/1013 [03:28<05:47,  1.83it/s]"
     ]
    },
    {
     "name": "stdout",
     "output_type": "stream",
     "text": [
      "GCN loss on unlabled data: 1.818419098854065\n",
      "GCN acc on unlabled data: 0.6741171211443898\n",
      "attack loss: 1.0478613376617432\n"
     ]
    },
    {
     "name": "stderr",
     "output_type": "stream",
     "text": [
      "Perturbing graph:  37%|███████████████████████                                       | 377/1013 [03:28<05:43,  1.85it/s]"
     ]
    },
    {
     "name": "stdout",
     "output_type": "stream",
     "text": [
      "GCN loss on unlabled data: 1.9021110534667969\n",
      "GCN acc on unlabled data: 0.6750111756817166\n",
      "attack loss: 1.098131775856018\n"
     ]
    },
    {
     "name": "stderr",
     "output_type": "stream",
     "text": [
      "Perturbing graph:  37%|███████████████████████▏                                      | 378/1013 [03:29<05:39,  1.87it/s]"
     ]
    },
    {
     "name": "stdout",
     "output_type": "stream",
     "text": [
      "GCN loss on unlabled data: 1.8187487125396729\n",
      "GCN acc on unlabled data: 0.6683057666517658\n",
      "attack loss: 1.0504908561706543\n"
     ]
    },
    {
     "name": "stderr",
     "output_type": "stream",
     "text": [
      "Perturbing graph:  37%|███████████████████████▏                                      | 379/1013 [03:29<06:00,  1.76it/s]"
     ]
    },
    {
     "name": "stdout",
     "output_type": "stream",
     "text": [
      "GCN loss on unlabled data: 1.8469079732894897\n",
      "GCN acc on unlabled data: 0.6678587393831024\n",
      "attack loss: 1.0780162811279297\n"
     ]
    },
    {
     "name": "stderr",
     "output_type": "stream",
     "text": [
      "Perturbing graph:  38%|███████████████████████▎                                      | 380/1013 [03:30<05:57,  1.77it/s]"
     ]
    },
    {
     "name": "stdout",
     "output_type": "stream",
     "text": [
      "GCN loss on unlabled data: 1.8935956954956055\n",
      "GCN acc on unlabled data: 0.6691998211890926\n",
      "attack loss: 1.0985463857650757\n"
     ]
    },
    {
     "name": "stderr",
     "output_type": "stream",
     "text": [
      "Perturbing graph:  38%|███████████████████████▎                                      | 381/1013 [03:31<05:54,  1.78it/s]"
     ]
    },
    {
     "name": "stdout",
     "output_type": "stream",
     "text": [
      "GCN loss on unlabled data: 1.842726469039917\n",
      "GCN acc on unlabled data: 0.6687527939204292\n",
      "attack loss: 1.0655490159988403\n"
     ]
    },
    {
     "name": "stderr",
     "output_type": "stream",
     "text": [
      "Perturbing graph:  38%|███████████████████████▍                                      | 382/1013 [03:31<05:46,  1.82it/s]"
     ]
    },
    {
     "name": "stdout",
     "output_type": "stream",
     "text": [
      "GCN loss on unlabled data: 1.838122010231018\n",
      "GCN acc on unlabled data: 0.6732230666070631\n",
      "attack loss: 1.0694574117660522\n"
     ]
    },
    {
     "name": "stderr",
     "output_type": "stream",
     "text": [
      "Perturbing graph:  38%|███████████████████████▍                                      | 383/1013 [03:32<05:47,  1.81it/s]"
     ]
    },
    {
     "name": "stdout",
     "output_type": "stream",
     "text": [
      "GCN loss on unlabled data: 1.8892756700515747\n",
      "GCN acc on unlabled data: 0.6705409029950827\n",
      "attack loss: 1.0950589179992676\n"
     ]
    },
    {
     "name": "stderr",
     "output_type": "stream",
     "text": [
      "Perturbing graph:  38%|███████████████████████▌                                      | 384/1013 [03:32<05:42,  1.84it/s]"
     ]
    },
    {
     "name": "stdout",
     "output_type": "stream",
     "text": [
      "GCN loss on unlabled data: 1.893481969833374\n",
      "GCN acc on unlabled data: 0.6665176575771122\n",
      "attack loss: 1.0977674722671509\n"
     ]
    },
    {
     "name": "stderr",
     "output_type": "stream",
     "text": [
      "Perturbing graph:  38%|███████████████████████▌                                      | 385/1013 [03:33<05:38,  1.86it/s]"
     ]
    },
    {
     "name": "stdout",
     "output_type": "stream",
     "text": [
      "GCN loss on unlabled data: 1.8851464986801147\n",
      "GCN acc on unlabled data: 0.6709879302637461\n",
      "attack loss: 1.0879952907562256\n"
     ]
    },
    {
     "name": "stderr",
     "output_type": "stream",
     "text": [
      "Perturbing graph:  38%|███████████████████████▌                                      | 386/1013 [03:33<05:35,  1.87it/s]"
     ]
    },
    {
     "name": "stdout",
     "output_type": "stream",
     "text": [
      "GCN loss on unlabled data: 1.9029260873794556\n",
      "GCN acc on unlabled data: 0.6696468484577559\n",
      "attack loss: 1.1021875143051147\n"
     ]
    },
    {
     "name": "stderr",
     "output_type": "stream",
     "text": [
      "Perturbing graph:  38%|███████████████████████▋                                      | 387/1013 [03:34<06:05,  1.71it/s]"
     ]
    },
    {
     "name": "stdout",
     "output_type": "stream",
     "text": [
      "GCN loss on unlabled data: 1.8666592836380005\n",
      "GCN acc on unlabled data: 0.6718819848010729\n",
      "attack loss: 1.0828111171722412\n"
     ]
    },
    {
     "name": "stderr",
     "output_type": "stream",
     "text": [
      "Perturbing graph:  38%|███████████████████████▋                                      | 388/1013 [03:34<06:02,  1.72it/s]"
     ]
    },
    {
     "name": "stdout",
     "output_type": "stream",
     "text": [
      "GCN loss on unlabled data: 1.8953338861465454\n",
      "GCN acc on unlabled data: 0.667411712114439\n",
      "attack loss: 1.1005631685256958\n"
     ]
    },
    {
     "name": "stderr",
     "output_type": "stream",
     "text": [
      "Perturbing graph:  38%|███████████████████████▊                                      | 389/1013 [03:35<06:05,  1.71it/s]"
     ]
    },
    {
     "name": "stdout",
     "output_type": "stream",
     "text": [
      "GCN loss on unlabled data: 1.8690214157104492\n",
      "GCN acc on unlabled data: 0.6723290120697363\n",
      "attack loss: 1.0736192464828491\n"
     ]
    },
    {
     "name": "stderr",
     "output_type": "stream",
     "text": [
      "Perturbing graph:  38%|███████████████████████▊                                      | 390/1013 [03:36<06:02,  1.72it/s]"
     ]
    },
    {
     "name": "stdout",
     "output_type": "stream",
     "text": [
      "GCN loss on unlabled data: 1.864103078842163\n",
      "GCN acc on unlabled data: 0.6647295485024587\n",
      "attack loss: 1.0883313417434692\n"
     ]
    },
    {
     "name": "stderr",
     "output_type": "stream",
     "text": [
      "Perturbing graph:  39%|███████████████████████▉                                      | 391/1013 [03:36<05:56,  1.74it/s]"
     ]
    },
    {
     "name": "stdout",
     "output_type": "stream",
     "text": [
      "GCN loss on unlabled data: 1.8899282217025757\n",
      "GCN acc on unlabled data: 0.6651765757711221\n",
      "attack loss: 1.0882107019424438\n"
     ]
    },
    {
     "name": "stderr",
     "output_type": "stream",
     "text": [
      "Perturbing graph:  39%|███████████████████████▉                                      | 392/1013 [03:37<05:53,  1.76it/s]"
     ]
    },
    {
     "name": "stdout",
     "output_type": "stream",
     "text": [
      "GCN loss on unlabled data: 1.918533444404602\n",
      "GCN acc on unlabled data: 0.6656236030397854\n",
      "attack loss: 1.1008771657943726\n"
     ]
    },
    {
     "name": "stderr",
     "output_type": "stream",
     "text": [
      "Perturbing graph:  39%|████████████████████████                                      | 393/1013 [03:37<05:45,  1.79it/s]"
     ]
    },
    {
     "name": "stdout",
     "output_type": "stream",
     "text": [
      "GCN loss on unlabled data: 1.8489301204681396\n",
      "GCN acc on unlabled data: 0.6691998211890926\n",
      "attack loss: 1.0700263977050781\n"
     ]
    },
    {
     "name": "stderr",
     "output_type": "stream",
     "text": [
      "Perturbing graph:  39%|████████████████████████                                      | 394/1013 [03:38<05:39,  1.82it/s]"
     ]
    },
    {
     "name": "stdout",
     "output_type": "stream",
     "text": [
      "GCN loss on unlabled data: 1.9154409170150757\n",
      "GCN acc on unlabled data: 0.6620473848904783\n",
      "attack loss: 1.1080043315887451\n"
     ]
    },
    {
     "name": "stderr",
     "output_type": "stream",
     "text": [
      "Perturbing graph:  39%|████████████████████████▏                                     | 395/1013 [03:38<05:36,  1.84it/s]"
     ]
    },
    {
     "name": "stdout",
     "output_type": "stream",
     "text": [
      "GCN loss on unlabled data: 1.9476498365402222\n",
      "GCN acc on unlabled data: 0.6642825212337953\n",
      "attack loss: 1.1264445781707764\n"
     ]
    },
    {
     "name": "stderr",
     "output_type": "stream",
     "text": [
      "Perturbing graph:  39%|████████████████████████▏                                     | 396/1013 [03:39<05:33,  1.85it/s]"
     ]
    },
    {
     "name": "stdout",
     "output_type": "stream",
     "text": [
      "GCN loss on unlabled data: 1.8795942068099976\n",
      "GCN acc on unlabled data: 0.6593652212784981\n",
      "attack loss: 1.0818839073181152\n"
     ]
    },
    {
     "name": "stderr",
     "output_type": "stream",
     "text": [
      "Perturbing graph:  39%|████████████████████████▎                                     | 397/1013 [03:39<05:30,  1.86it/s]"
     ]
    },
    {
     "name": "stdout",
     "output_type": "stream",
     "text": [
      "GCN loss on unlabled data: 1.8630821704864502\n",
      "GCN acc on unlabled data: 0.6611533303531516\n",
      "attack loss: 1.0763230323791504\n"
     ]
    },
    {
     "name": "stderr",
     "output_type": "stream",
     "text": [
      "Perturbing graph:  39%|████████████████████████▎                                     | 398/1013 [03:40<05:34,  1.84it/s]"
     ]
    },
    {
     "name": "stdout",
     "output_type": "stream",
     "text": [
      "GCN loss on unlabled data: 1.8819478750228882\n",
      "GCN acc on unlabled data: 0.6691998211890926\n",
      "attack loss: 1.0960839986801147\n"
     ]
    },
    {
     "name": "stderr",
     "output_type": "stream",
     "text": [
      "Perturbing graph:  39%|████████████████████████▍                                     | 399/1013 [03:40<05:32,  1.85it/s]"
     ]
    },
    {
     "name": "stdout",
     "output_type": "stream",
     "text": [
      "GCN loss on unlabled data: 1.9356939792633057\n",
      "GCN acc on unlabled data: 0.6584711667411712\n",
      "attack loss: 1.1189780235290527\n"
     ]
    },
    {
     "name": "stderr",
     "output_type": "stream",
     "text": [
      "Perturbing graph:  39%|████████████████████████▍                                     | 400/1013 [03:41<05:29,  1.86it/s]"
     ]
    },
    {
     "name": "stdout",
     "output_type": "stream",
     "text": [
      "GCN loss on unlabled data: 1.926679015159607\n",
      "GCN acc on unlabled data: 0.6700938757264193\n",
      "attack loss: 1.1129095554351807\n"
     ]
    },
    {
     "name": "stderr",
     "output_type": "stream",
     "text": [
      "Perturbing graph:  40%|████████████████████████▌                                     | 401/1013 [03:42<05:27,  1.87it/s]"
     ]
    },
    {
     "name": "stdout",
     "output_type": "stream",
     "text": [
      "GCN loss on unlabled data: 1.9810364246368408\n",
      "GCN acc on unlabled data: 0.6562360303978543\n",
      "attack loss: 1.1498491764068604\n"
     ]
    },
    {
     "name": "stderr",
     "output_type": "stream",
     "text": [
      "Perturbing graph:  40%|████████████████████████▌                                     | 402/1013 [03:42<05:25,  1.88it/s]"
     ]
    },
    {
     "name": "stdout",
     "output_type": "stream",
     "text": [
      "GCN loss on unlabled data: 1.9774647951126099\n",
      "GCN acc on unlabled data: 0.6553419758605276\n",
      "attack loss: 1.132825493812561\n"
     ]
    },
    {
     "name": "stderr",
     "output_type": "stream",
     "text": [
      "Perturbing graph:  40%|████████████████████████▋                                     | 403/1013 [03:43<05:33,  1.83it/s]"
     ]
    },
    {
     "name": "stdout",
     "output_type": "stream",
     "text": [
      "GCN loss on unlabled data: 1.9738608598709106\n",
      "GCN acc on unlabled data: 0.6629414394278051\n",
      "attack loss: 1.1355456113815308\n"
     ]
    },
    {
     "name": "stderr",
     "output_type": "stream",
     "text": [
      "Perturbing graph:  40%|████████████████████████▋                                     | 404/1013 [03:43<05:29,  1.85it/s]"
     ]
    },
    {
     "name": "stdout",
     "output_type": "stream",
     "text": [
      "GCN loss on unlabled data: 1.9149508476257324\n",
      "GCN acc on unlabled data: 0.6593652212784981\n",
      "attack loss: 1.1083934307098389\n"
     ]
    },
    {
     "name": "stderr",
     "output_type": "stream",
     "text": [
      "Perturbing graph:  40%|████████████████████████▊                                     | 405/1013 [03:44<05:29,  1.85it/s]"
     ]
    },
    {
     "name": "stdout",
     "output_type": "stream",
     "text": [
      "GCN loss on unlabled data: 1.9829332828521729\n",
      "GCN acc on unlabled data: 0.6611533303531516\n",
      "attack loss: 1.1367274522781372\n"
     ]
    },
    {
     "name": "stderr",
     "output_type": "stream",
     "text": [
      "Perturbing graph:  40%|████████████████████████▊                                     | 406/1013 [03:44<05:25,  1.86it/s]"
     ]
    },
    {
     "name": "stdout",
     "output_type": "stream",
     "text": [
      "GCN loss on unlabled data: 1.8855798244476318\n",
      "GCN acc on unlabled data: 0.6589181940098346\n",
      "attack loss: 1.0840976238250732\n"
     ]
    },
    {
     "name": "stderr",
     "output_type": "stream",
     "text": [
      "Perturbing graph:  40%|████████████████████████▉                                     | 407/1013 [03:45<05:39,  1.78it/s]"
     ]
    },
    {
     "name": "stdout",
     "output_type": "stream",
     "text": [
      "GCN loss on unlabled data: 1.9758378267288208\n",
      "GCN acc on unlabled data: 0.6548949485918641\n",
      "attack loss: 1.136923909187317\n"
     ]
    },
    {
     "name": "stderr",
     "output_type": "stream",
     "text": [
      "Perturbing graph:  40%|████████████████████████▉                                     | 408/1013 [03:45<05:31,  1.82it/s]"
     ]
    },
    {
     "name": "stdout",
     "output_type": "stream",
     "text": [
      "GCN loss on unlabled data: 1.9826887845993042\n",
      "GCN acc on unlabled data: 0.6562360303978543\n",
      "attack loss: 1.1462136507034302\n"
     ]
    },
    {
     "name": "stderr",
     "output_type": "stream",
     "text": [
      "Perturbing graph:  40%|█████████████████████████                                     | 409/1013 [03:46<05:25,  1.85it/s]"
     ]
    },
    {
     "name": "stdout",
     "output_type": "stream",
     "text": [
      "GCN loss on unlabled data: 1.9231420755386353\n",
      "GCN acc on unlabled data: 0.6548949485918641\n",
      "attack loss: 1.1049158573150635\n"
     ]
    },
    {
     "name": "stderr",
     "output_type": "stream",
     "text": [
      "Perturbing graph:  40%|█████████████████████████                                     | 410/1013 [03:46<05:21,  1.88it/s]"
     ]
    },
    {
     "name": "stdout",
     "output_type": "stream",
     "text": [
      "GCN loss on unlabled data: 1.9869695901870728\n",
      "GCN acc on unlabled data: 0.6607063030844882\n",
      "attack loss: 1.1489684581756592\n"
     ]
    },
    {
     "name": "stderr",
     "output_type": "stream",
     "text": [
      "Perturbing graph:  41%|█████████████████████████▏                                    | 411/1013 [03:47<05:41,  1.77it/s]"
     ]
    },
    {
     "name": "stdout",
     "output_type": "stream",
     "text": [
      "GCN loss on unlabled data: 1.9488542079925537\n",
      "GCN acc on unlabled data: 0.6593652212784981\n",
      "attack loss: 1.1272004842758179\n"
     ]
    },
    {
     "name": "stderr",
     "output_type": "stream",
     "text": [
      "Perturbing graph:  41%|█████████████████████████▏                                    | 412/1013 [03:48<05:31,  1.81it/s]"
     ]
    },
    {
     "name": "stdout",
     "output_type": "stream",
     "text": [
      "GCN loss on unlabled data: 1.9909868240356445\n",
      "GCN acc on unlabled data: 0.6557890031291909\n",
      "attack loss: 1.152137279510498\n"
     ]
    },
    {
     "name": "stderr",
     "output_type": "stream",
     "text": [
      "Perturbing graph:  41%|█████████████████████████▎                                    | 413/1013 [03:48<05:25,  1.85it/s]"
     ]
    },
    {
     "name": "stdout",
     "output_type": "stream",
     "text": [
      "GCN loss on unlabled data: 1.9391800165176392\n",
      "GCN acc on unlabled data: 0.6566830576665177\n",
      "attack loss: 1.1184293031692505\n"
     ]
    },
    {
     "name": "stderr",
     "output_type": "stream",
     "text": [
      "Perturbing graph:  41%|█████████████████████████▎                                    | 414/1013 [03:49<05:20,  1.87it/s]"
     ]
    },
    {
     "name": "stdout",
     "output_type": "stream",
     "text": [
      "GCN loss on unlabled data: 2.0736002922058105\n",
      "GCN acc on unlabled data: 0.6557890031291909\n",
      "attack loss: 1.1909335851669312\n"
     ]
    },
    {
     "name": "stderr",
     "output_type": "stream",
     "text": [
      "Perturbing graph:  41%|█████████████████████████▍                                    | 415/1013 [03:49<05:39,  1.76it/s]"
     ]
    },
    {
     "name": "stdout",
     "output_type": "stream",
     "text": [
      "GCN loss on unlabled data: 2.01560378074646\n",
      "GCN acc on unlabled data: 0.6571300849351811\n",
      "attack loss: 1.1579840183258057\n"
     ]
    },
    {
     "name": "stderr",
     "output_type": "stream",
     "text": [
      "Perturbing graph:  41%|█████████████████████████▍                                    | 416/1013 [03:50<05:30,  1.81it/s]"
     ]
    },
    {
     "name": "stdout",
     "output_type": "stream",
     "text": [
      "GCN loss on unlabled data: 2.0280888080596924\n",
      "GCN acc on unlabled data: 0.6566830576665177\n",
      "attack loss: 1.1657731533050537\n"
     ]
    },
    {
     "name": "stderr",
     "output_type": "stream",
     "text": [
      "Perturbing graph:  41%|█████████████████████████▌                                    | 417/1013 [03:51<05:30,  1.80it/s]\n"
     ]
    },
    {
     "ename": "OutOfMemoryError",
     "evalue": "CUDA out of memory. Tried to allocate 24.00 MiB (GPU 0; 31.74 GiB total capacity; 31.29 GiB already allocated; 7.12 MiB free; 31.30 GiB reserved in total by PyTorch) If reserved memory is >> allocated memory try setting max_split_size_mb to avoid fragmentation.  See documentation for Memory Management and PYTORCH_CUDA_ALLOC_CONF",
     "output_type": "error",
     "traceback": [
      "\u001b[0;31m---------------------------------------------------------------------------\u001b[0m",
      "\u001b[0;31mOutOfMemoryError\u001b[0m                          Traceback (most recent call last)",
      "Cell \u001b[0;32mIn[1], line 72\u001b[0m\n\u001b[1;32m     69\u001b[0m attack_model \u001b[38;5;241m=\u001b[39m attack_model\u001b[38;5;241m.\u001b[39mto(device)\n\u001b[1;32m     71\u001b[0m perturbations \u001b[38;5;241m=\u001b[39m \u001b[38;5;28mint\u001b[39m(\u001b[38;5;241m0.20\u001b[39m \u001b[38;5;241m*\u001b[39m (adj\u001b[38;5;241m.\u001b[39msum() \u001b[38;5;241m/\u001b[39m\u001b[38;5;241m/\u001b[39m \u001b[38;5;241m2\u001b[39m))  \u001b[38;5;66;03m# 5% of total edges\u001b[39;00m\n\u001b[0;32m---> 72\u001b[0m \u001b[43mattack_model\u001b[49m\u001b[38;5;241;43m.\u001b[39;49m\u001b[43mattack\u001b[49m\u001b[43m(\u001b[49m\u001b[43mfeatures_cpu\u001b[49m\u001b[43m,\u001b[49m\u001b[43m \u001b[49m\u001b[43madj\u001b[49m\u001b[43m,\u001b[49m\u001b[43m \u001b[49m\u001b[43mlabels_cpu\u001b[49m\u001b[43m,\u001b[49m\u001b[43m \u001b[49m\u001b[43midx_train\u001b[49m\u001b[43m,\u001b[49m\u001b[43m \u001b[49m\u001b[43midx_unlabeled\u001b[49m\u001b[43m,\u001b[49m\u001b[43m \u001b[49m\u001b[43mperturbations\u001b[49m\u001b[43m,\u001b[49m\u001b[43m \u001b[49m\u001b[43mll_constraint\u001b[49m\u001b[38;5;241;43m=\u001b[39;49m\u001b[38;5;28;43;01mFalse\u001b[39;49;00m\u001b[43m)\u001b[49m\n\u001b[1;32m     73\u001b[0m modified_adj \u001b[38;5;241m=\u001b[39m attack_model\u001b[38;5;241m.\u001b[39mmodified_adj\n\u001b[1;32m     75\u001b[0m gc\u001b[38;5;241m.\u001b[39mcollect()\n",
      "File \u001b[0;32m~/miniconda3/envs/ersp_v2/lib/python3.9/site-packages/deeprobust/graph/global_attack/mettack.py:350\u001b[0m, in \u001b[0;36mMetattack.attack\u001b[0;34m(self, ori_features, ori_adj, labels, idx_train, idx_unlabeled, n_perturbations, ll_constraint, ll_cutoff)\u001b[0m\n\u001b[1;32m    347\u001b[0m \u001b[38;5;28;01mif\u001b[39;00m \u001b[38;5;28mself\u001b[39m\u001b[38;5;241m.\u001b[39mattack_features:\n\u001b[1;32m    348\u001b[0m     modified_features \u001b[38;5;241m=\u001b[39m ori_features \u001b[38;5;241m+\u001b[39m \u001b[38;5;28mself\u001b[39m\u001b[38;5;241m.\u001b[39mfeature_changes\n\u001b[0;32m--> 350\u001b[0m adj_norm \u001b[38;5;241m=\u001b[39m \u001b[43mutils\u001b[49m\u001b[38;5;241;43m.\u001b[39;49m\u001b[43mnormalize_adj_tensor\u001b[49m\u001b[43m(\u001b[49m\u001b[43mmodified_adj\u001b[49m\u001b[43m)\u001b[49m\n\u001b[1;32m    351\u001b[0m \u001b[38;5;28mself\u001b[39m\u001b[38;5;241m.\u001b[39minner_train(modified_features, adj_norm, idx_train, idx_unlabeled, labels)\n\u001b[1;32m    353\u001b[0m adj_grad, feature_grad \u001b[38;5;241m=\u001b[39m \u001b[38;5;28mself\u001b[39m\u001b[38;5;241m.\u001b[39mget_meta_grad(modified_features, adj_norm, idx_train, idx_unlabeled, labels, labels_self_training)\n",
      "File \u001b[0;32m~/miniconda3/envs/ersp_v2/lib/python3.9/site-packages/deeprobust/graph/utils.py:223\u001b[0m, in \u001b[0;36mnormalize_adj_tensor\u001b[0;34m(adj, sparse)\u001b[0m\n\u001b[1;32m    221\u001b[0m     r_inv[torch\u001b[38;5;241m.\u001b[39misinf(r_inv)] \u001b[38;5;241m=\u001b[39m \u001b[38;5;241m0.\u001b[39m\n\u001b[1;32m    222\u001b[0m     r_mat_inv \u001b[38;5;241m=\u001b[39m torch\u001b[38;5;241m.\u001b[39mdiag(r_inv)\n\u001b[0;32m--> 223\u001b[0m     mx \u001b[38;5;241m=\u001b[39m \u001b[43mr_mat_inv\u001b[49m\u001b[43m \u001b[49m\u001b[38;5;241;43m@\u001b[39;49m\u001b[43m \u001b[49m\u001b[43mmx\u001b[49m\n\u001b[1;32m    224\u001b[0m     mx \u001b[38;5;241m=\u001b[39m mx \u001b[38;5;241m@\u001b[39m r_mat_inv\n\u001b[1;32m    225\u001b[0m \u001b[38;5;28;01mreturn\u001b[39;00m mx\n",
      "\u001b[0;31mOutOfMemoryError\u001b[0m: CUDA out of memory. Tried to allocate 24.00 MiB (GPU 0; 31.74 GiB total capacity; 31.29 GiB already allocated; 7.12 MiB free; 31.30 GiB reserved in total by PyTorch) If reserved memory is >> allocated memory try setting max_split_size_mb to avoid fragmentation.  See documentation for Memory Management and PYTORCH_CUDA_ALLOC_CONF"
     ]
    }
   ],
   "source": [
    "import torch\n",
    "import numpy as np\n",
    "import scipy.sparse as sp\n",
    "import gc\n",
    "\n",
    "from deeprobust.graph.data import Dataset\n",
    "from deeprobust.graph.defense import GCN\n",
    "from deeprobust.graph.global_attack import Metattack\n",
    "from deeprobust.graph.utils import normalize_adj, sparse_mx_to_torch_sparse_tensor\n",
    "\n",
    "# Device setup\n",
    "device = torch.device(\"cuda\" if torch.cuda.is_available() else \"cpu\")\n",
    "\n",
    "\n",
    "# 1. Load the Cora dataset\n",
    "data = Dataset(root='/tmp/', name='cora', setting='nettack')\n",
    "adj, features, labels = data.adj, data.features, data.labels\n",
    "idx_train, idx_val, idx_test = data.idx_train, data.idx_val, data.idx_test\n",
    "idx_unlabeled = np.union1d(idx_val, idx_test)\n",
    "\n",
    "# 2. Train GCN on the clean graph\n",
    "model_clean = GCN(nfeat=features.shape[1],\n",
    "                  nclass=labels.max().item() + 1,\n",
    "                  nhid=64,\n",
    "                  with_relu=False,\n",
    "                  dropout=0.5,\n",
    "                  device=device)\n",
    "model_clean = model_clean.to(device)\n",
    "model_clean.fit(features, adj, labels, idx_train)\n",
    "\n",
    "# 3. Ensure features and labels are PyTorch tensors on GPU for inference\n",
    "if isinstance(features, np.ndarray):\n",
    "    features = torch.FloatTensor(features).to(device)\n",
    "elif not isinstance(features, torch.Tensor):\n",
    "    features = torch.FloatTensor(features.A).to(device)\n",
    "else:\n",
    "    features = features.to(device)\n",
    "\n",
    "if isinstance(labels, np.ndarray):\n",
    "    labels = torch.LongTensor(labels).to(device)\n",
    "\n",
    "# 4. Evaluate accuracy on the clean graph\n",
    "adj_norm = normalize_adj(adj)\n",
    "adj_tensor = sparse_mx_to_torch_sparse_tensor(adj_norm).to(device)\n",
    "\n",
    "model_clean.eval()\n",
    "output_clean = model_clean.predict(features, adj_tensor)\n",
    "preds_clean = output_clean.argmax(dim=1)\n",
    "\n",
    "correct_clean = preds_clean[idx_test].eq(labels[idx_test]).sum().item()\n",
    "acc_clean = correct_clean / len(idx_test)\n",
    "print(f\"✅ Clean Graph Test Accuracy: {acc_clean:.4f}\")\n",
    "\n",
    "gc.collect()\n",
    "\n",
    "# 5. Prepare for Metattack (move inputs to CPU)\n",
    "features_cpu = features.cpu()\n",
    "labels_cpu = labels.cpu()\n",
    "\n",
    "gc.collect()\n",
    "\n",
    "# 6. Apply evasion attack (perturb structure after training)\n",
    "attack_model = Metattack(model=model_clean,\n",
    "                         nnodes=adj.shape[0],\n",
    "                         feature_shape=features.shape,\n",
    "                         attack_structure=True,\n",
    "                         attack_features=False,\n",
    "                         device=device)\n",
    "attack_model = attack_model.to(device)\n",
    "\n",
    "perturbations = int(0.20 * (adj.sum() // 2))  # 5% of total edges\n",
    "attack_model.attack(features_cpu, adj, labels_cpu, idx_train, idx_unlabeled, perturbations, ll_constraint=False)\n",
    "modified_adj = attack_model.modified_adj\n",
    "\n",
    "gc.collect()\n",
    "\n",
    "# 7. Normalize and convert modified adj to PyTorch sparse tensor\n",
    "if isinstance(modified_adj, torch.Tensor):\n",
    "    modified_adj = modified_adj.cpu().numpy()\n",
    "    modified_adj = sp.csr_matrix(modified_adj)\n",
    "\n",
    "modified_adj_norm = normalize_adj(modified_adj)\n",
    "modified_adj_tensor = sparse_mx_to_torch_sparse_tensor(modified_adj_norm).to(device)\n",
    "\n",
    "gc.collect()\n",
    "\n",
    "# 8. Evaluate model on the attacked graph\n",
    "output_adv = model_clean.predict(features, modified_adj_tensor)\n",
    "preds_adv = output_adv.argmax(dim=1)\n",
    "\n",
    "correct_adv = preds_adv[idx_test].eq(labels[idx_test]).sum().item()\n",
    "acc_evasion = correct_adv / len(idx_test)\n",
    "print(f\"🧨 Evasion Attack Test Accuracy: {acc_evasion:.4f}\")\n",
    "\n",
    "# 9. Compute and report accuracy drop\n",
    "acc_drop = acc_clean - acc_evasion\n",
    "print(f\"📉 Accuracy Drop due to Evasion Attack: {acc_drop:.4f}\")\n"
   ]
  },
  {
   "cell_type": "code",
   "execution_count": null,
   "id": "6287141c-cd16-4383-a951-71bf0adce52b",
   "metadata": {},
   "outputs": [],
   "source": []
  }
 ],
 "metadata": {
  "kernelspec": {
   "display_name": "Python 3 (ipykernel)",
   "language": "python",
   "name": "python3"
  },
  "language_info": {
   "codemirror_mode": {
    "name": "ipython",
    "version": 3
   },
   "file_extension": ".py",
   "mimetype": "text/x-python",
   "name": "python",
   "nbconvert_exporter": "python",
   "pygments_lexer": "ipython3",
   "version": "3.9.18"
  }
 },
 "nbformat": 4,
 "nbformat_minor": 5
}
