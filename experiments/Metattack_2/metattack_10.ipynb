{
 "cells": [
  {
   "cell_type": "code",
   "execution_count": 2,
   "id": "af0ca698-ae54-4c46-ad6c-bd77183960cc",
   "metadata": {},
   "outputs": [],
   "source": [
    "import torch\n",
    "from gcn import GCN\n",
    "from utils import load_data, preprocess, normalize_adj_tensor, accuracy, get_train_val_test\n",
    "import numpy as np\n",
    "import torch.nn.functional as F\n",
    "import torch.optim as optim\n",
    "from matplotlib import pyplot as plt\n",
    "from metattack import MetaApprox, Metattack\n",
    "import seaborn as sns\n",
    "import gc"
   ]
  },
  {
   "cell_type": "code",
   "execution_count": 3,
   "id": "321d9d03-d1d4-49bf-90d9-ccb00ec83626",
   "metadata": {},
   "outputs": [],
   "source": [
    "# Fixed parameters for Cora dataset\n",
    "seed = 15\n",
    "epochs = 200\n",
    "lr = 0.01\n",
    "hidden = 64  # Changed from 16 to 64 as requested\n",
    "dataset = 'cora'\n",
    "model_variant = 'Meta-Self'  # Options: 'A-Meta-Self', 'Meta-Self'\n",
    "ptb_rates = 0.05  # Multiple perturbation rates"
   ]
  },
  {
   "cell_type": "code",
   "execution_count": 4,
   "id": "7961f18b-278c-42c1-a8c2-b2e8fae96133",
   "metadata": {},
   "outputs": [
    {
     "name": "stdout",
     "output_type": "stream",
     "text": [
      "Loading cora dataset...\n",
      "reading cora...\n",
      "Selecting 1 largest connected components\n"
     ]
    }
   ],
   "source": [
    "# Set seeds for reproducibility\n",
    "np.random.seed(seed)\n",
    "torch.manual_seed(seed)\n",
    "device = torch.device(\"cuda:0\" if torch.cuda.is_available() else \"cpu\")\n",
    "if device != 'cpu':\n",
    "    torch.cuda.manual_seed(seed)\n",
    "\n",
    "# Load Cora dataset\n",
    "adj, features, labels = load_data(dataset=dataset)\n",
    "nclass = max(labels) + 1"
   ]
  },
  {
   "cell_type": "code",
   "execution_count": 5,
   "id": "e8981d78-7f10-4c80-a843-e0a30c90c809",
   "metadata": {},
   "outputs": [],
   "source": [
    "# Split dataset\n",
    "val_size = 0.1\n",
    "test_size = 0.8\n",
    "train_size = 1 - test_size - val_size\n",
    "idx = np.arange(adj.shape[0])\n",
    "idx_train, idx_val, idx_test = get_train_val_test(idx, train_size, val_size, test_size, stratify=labels)\n",
    "idx_unlabeled = np.union1d(idx_val, idx_test)\n",
    "\n",
    "# Preprocess without normalizing adjacency yet\n",
    "adj, features, labels = preprocess(adj, features, labels, preprocess_adj=False)\n",
    "\n",
    "# Move data to device\n",
    "if device != 'cpu':\n",
    "    adj = adj.to(device)\n",
    "    features = features.to(device)\n",
    "    labels = labels.to(device)"
   ]
  },
  {
   "cell_type": "code",
   "execution_count": 6,
   "id": "3ce1c9e2-3ddd-470d-8ece-b9186ed7f711",
   "metadata": {},
   "outputs": [],
   "source": [
    "def train_gcn(adj):\n",
    "    ''' Train GCN on the given adjacency matrix '''\n",
    "    # Normalize adjacency matrix for GCN\n",
    "    norm_adj = normalize_adj_tensor(adj)\n",
    "    \n",
    "    # Initialize GCN model - the provided GCN is already 2-layer\n",
    "    # We just need to set the hidden dimension to 64\n",
    "    gcn = GCN(nfeat=features.shape[1],\n",
    "              nhid=hidden,\n",
    "              nclass=labels.max().item() + 1,\n",
    "              dropout=0.5)\n",
    "    \n",
    "    if device != 'cpu':\n",
    "        gcn = gcn.to(device)\n",
    "    \n",
    "    optimizer = optim.Adam(gcn.parameters(),\n",
    "                           lr=lr, weight_decay=5e-4)\n",
    "    \n",
    "    # Train GCN\n",
    "    gcn.train()\n",
    "    for epoch in range(epochs):\n",
    "        optimizer.zero_grad()\n",
    "        output = gcn(features, norm_adj)\n",
    "        loss_train = F.nll_loss(output[idx_train], labels[idx_train])\n",
    "        loss_train.backward()\n",
    "        optimizer.step()\n",
    "    \n",
    "    return gcn"
   ]
  },
  {
   "cell_type": "code",
   "execution_count": 7,
   "id": "192f145d-4e74-4cf6-a095-5da1557496e0",
   "metadata": {},
   "outputs": [],
   "source": [
    "def evaluate(gcn, adj, idx):\n",
    "    ''' Evaluate GCN on the given adjacency matrix and index '''\n",
    "    # Normalize adjacency matrix for evaluation\n",
    "    norm_adj = normalize_adj_tensor(adj)\n",
    "    \n",
    "    gcn.eval()\n",
    "    with torch.no_grad():\n",
    "        output = gcn(features, norm_adj)\n",
    "        loss = F.nll_loss(output[idx], labels[idx])\n",
    "        acc = accuracy(output[idx], labels[idx])\n",
    "    \n",
    "    return acc.item()"
   ]
  },
  {
   "cell_type": "code",
   "execution_count": 8,
   "id": "31e51acc-9083-4cf2-9055-db97b5247203",
   "metadata": {},
   "outputs": [],
   "source": [
    "def run_attack():\n",
    "    results = {}\n",
    "    \n",
    "    print('=== Training GCN on original(clean) graph ===')\n",
    "    # First, train the GCN on the clean graph\n",
    "    trained_gcn = train_gcn(adj)\n",
    "    \n",
    "    # Set up attack model parameters\n",
    "    if 'Self' in model_variant:\n",
    "        lambda_ = 0\n",
    "    if 'Train' in model_variant:\n",
    "        lambda_ = 1\n",
    "    if 'Both' in model_variant:\n",
    "        lambda_ = 0.5\n",
    "    \n",
    "    # Configure attack model\n",
    "    if 'A' in model_variant:\n",
    "        model_class = MetaApprox\n",
    "    else:\n",
    "        model_class = Metattack\n",
    "    \n",
    "    # Evaluate across different perturbation rates\n",
    "    for ptb_rate in ptb_rates:\n",
    "        print(f'\\n=== Testing perturbation rate: {ptb_rate*100:.1f}% ===')\n",
    "        perturbations = int(ptb_rate * (adj.sum()//2))\n",
    "        \n",
    "        print('=== Setting up attack model ===')\n",
    "        model = model_class(nfeat=features.shape[1], hidden_sizes=[hidden],\n",
    "                        nnodes=adj.shape[0], nclass=nclass, dropout=0.5,\n",
    "                        train_iters=0, attack_features=False, lambda_=lambda_, device=device)\n",
    "        \n",
    "        if device != 'cpu':\n",
    "            model = model.to(device)\n",
    "            \n",
    "        # Generate adversarial adjacency matrix focusing on test nodes\n",
    "        print(f'=== Perturbing graph with {perturbations} edge modifications ===')\n",
    "        \n",
    "        modified_adj = model(features, adj, labels, idx_train, idx_test, perturbations, ll_constraint=False)\n",
    "        modified_adj = modified_adj.detach()\n",
    "        \n",
    "        runs = 3  # Reduced from 10 to 3 for quicker execution\n",
    "        clean_acc = []\n",
    "        attacked_acc = []\n",
    "        \n",
    "        print('=== Evaluating GCN performance ===')\n",
    "        # Test the already trained GCN on both clean and perturbed graph\n",
    "        for i in range(runs):\n",
    "            # Reset the GCN for each run\n",
    "            trained_gcn = train_gcn(adj)\n",
    "            \n",
    "            # Evaluate on clean test data\n",
    "            clean_acc.append(evaluate(trained_gcn, adj, idx_test))\n",
    "            \n",
    "            # Evaluate on perturbed test data (evasion)\n",
    "            attacked_acc.append(evaluate(trained_gcn, modified_adj, idx_test))\n",
    "            \n",
    "            print(f\"Run {i+1}/{runs}: Clean acc = {clean_acc[-1]:.4f}, Attacked acc = {attacked_acc[-1]:.4f}\")\n",
    "        \n",
    "        # Calculate effectiveness metrics\n",
    "        clean_mean = np.mean(clean_acc)\n",
    "        clean_std = np.std(clean_acc)\n",
    "        attack_mean = np.mean(attacked_acc)\n",
    "        attack_std = np.std(attacked_acc)\n",
    "        acc_drop = clean_mean - attack_mean\n",
    "        relative_drop = (acc_drop / clean_mean) * 100\n",
    "        \n",
    "        # Print summary statistics\n",
    "        print(f\"\\n=== Attack Effectiveness Summary (Perturbation rate: {ptb_rate*100:.1f}%) ===\")\n",
    "        print(f\"Clean accuracy: {clean_mean:.4f} ± {clean_std:.4f}\")\n",
    "        print(f\"Attacked accuracy: {attack_mean:.4f} ± {attack_std:.4f}\")\n",
    "        print(f\"Absolute accuracy drop: {acc_drop:.4f}\")\n",
    "        print(f\"Relative accuracy drop: {relative_drop:.2f}%\")\n",
    "        print(f\"Effectiveness ratio: {acc_drop/ptb_rate:.4f} (drop per perturbation unit)\")\n",
    "        \n",
    "        # Assessment\n",
    "        if acc_drop > 0.10:\n",
    "            print(\"Attack assessment: Highly effective\")\n",
    "        elif acc_drop > 0.05:\n",
    "            print(\"Attack assessment: Moderately effective\")\n",
    "        elif acc_drop > 0.02:\n",
    "            print(\"Attack assessment: Slightly effective\")\n",
    "        else:\n",
    "            print(\"Attack assessment: Minimally effective\")\n",
    "        \n",
    "        # Store results\n",
    "        results[ptb_rate] = {\n",
    "            'modified_adj': modified_adj,\n",
    "            'clean_acc': clean_acc,\n",
    "            'attacked_acc': attacked_acc,\n",
    "            'accuracy_drop': acc_drop,\n",
    "            'relative_drop': relative_drop,\n",
    "            'effectiveness_ratio': acc_drop/ptb_rate\n",
    "        }\n",
    "        \n",
    "        # Free up memory\n",
    "        del model\n",
    "        torch.cuda.empty_cache()\n",
    "        gc.collect()\n",
    "    \n",
    "    # Add overall results\n",
    "    results['clean_adj'] = adj\n",
    "    \n",
    "    # Create and save comparative visualization\n",
    "    plt.figure(figsize=(10, 6))\n",
    "    \n",
    "    ptb_values = list(ptb_rates)\n",
    "    acc_drops = [results[ptb]['accuracy_drop'] for ptb in ptb_rates]\n",
    "    rel_drops = [results[ptb]['relative_drop'] for ptb in ptb_rates]\n",
    "    \n",
    "    plt.subplot(1, 2, 1)\n",
    "    plt.plot(ptb_values, acc_drops, 'o-', linewidth=2)\n",
    "    plt.xlabel('Perturbation Rate')\n",
    "    plt.ylabel('Absolute Accuracy Drop')\n",
    "    plt.title('Impact of Perturbation Rate on Accuracy Drop')\n",
    "    plt.grid(True)\n",
    "    \n",
    "    plt.subplot(1, 2, 2)\n",
    "    plt.plot(ptb_values, rel_drops, 'o-', linewidth=2, color='orange')\n",
    "    plt.xlabel('Perturbation Rate')\n",
    "    plt.ylabel('Relative Accuracy Drop (%)')\n",
    "    plt.title('Impact of Perturbation Rate on Relative Accuracy Drop')\n",
    "    plt.grid(True)\n",
    "    \n",
    "    plt.tight_layout()\n",
    "    plt.savefig('perturbation_impact.png')\n",
    "    plt.close()\n",
    "    \n",
    "    return results"
   ]
  },
  {
   "cell_type": "code",
   "execution_count": null,
   "id": "3e7d0656-91de-4335-ac1c-aee2abcda42e",
   "metadata": {},
   "outputs": [],
   "source": [
    "def clean_memory():\n",
    "    \"\"\"Clean GPU memory and garbage collect\"\"\"\n",
    "    if device != 'cpu':\n",
    "        torch.cuda.empty_cache()\n",
    "    gc.collect()"
   ]
  },
  {
   "cell_type": "code",
   "execution_count": 9,
   "id": "e32897a0-ada7-46c1-b199-118f2c207bff",
   "metadata": {},
   "outputs": [
    {
     "name": "stdout",
     "output_type": "stream",
     "text": [
      "=== Training GCN on original(clean) graph ===\n",
      "\n",
      "=== Testing perturbation rate: 5.0% ===\n",
      "=== Setting up attack model ===\n",
      "=== Perturbing graph with 253 edge modifications ===\n",
      "=== training surrogate model to predict unlabled data for self-training\n"
     ]
    },
    {
     "name": "stderr",
     "output_type": "stream",
     "text": [
      "Perturbing graph:   2%|█▎                                                               | 5/253 [00:00<00:15, 15.69it/s]"
     ]
    },
    {
     "name": "stdout",
     "output_type": "stream",
     "text": [
      "GCN loss on unlabled data: 1.9972083568572998\n",
      "GCN acc on unlabled data: 0.08199195171026158\n",
      "attack loss: 2.0009281635284424\n",
      "GCN loss on unlabled data: 1.9898900985717773\n",
      "GCN acc on unlabled data: 0.10010060362173039\n",
      "attack loss: 1.9905608892440796\n",
      "GCN loss on unlabled data: 1.9860377311706543\n",
      "GCN acc on unlabled data: 0.11217303822937627\n",
      "attack loss: 1.9758397340774536\n",
      "GCN loss on unlabled data: 1.9910742044448853\n",
      "GCN acc on unlabled data: 0.10663983903420524\n",
      "attack loss: 1.9914789199829102\n",
      "GCN loss on unlabled data: 2.010406970977783\n",
      "GCN acc on unlabled data: 0.09758551307847084\n",
      "attack loss: 2.0094587802886963\n",
      "GCN loss on unlabled data: 1.9779176712036133\n",
      "GCN acc on unlabled data: 0.11670020120724348\n",
      "attack loss: 1.972975492477417\n"
     ]
    },
    {
     "name": "stderr",
     "output_type": "stream",
     "text": [
      "Perturbing graph:   5%|███▎                                                            | 13/253 [00:00<00:08, 27.55it/s]"
     ]
    },
    {
     "name": "stdout",
     "output_type": "stream",
     "text": [
      "GCN loss on unlabled data: 1.9916770458221436\n",
      "GCN acc on unlabled data: 0.10814889336016098\n",
      "attack loss: 1.9926518201828003\n",
      "GCN loss on unlabled data: 1.9945136308670044\n",
      "GCN acc on unlabled data: 0.07494969818913481\n",
      "attack loss: 1.9986011981964111\n",
      "GCN loss on unlabled data: 1.9673984050750732\n",
      "GCN acc on unlabled data: 0.12273641851106641\n",
      "attack loss: 1.9763991832733154\n",
      "GCN loss on unlabled data: 1.9759411811828613\n",
      "GCN acc on unlabled data: 0.09456740442655936\n",
      "attack loss: 1.9710333347320557\n",
      "GCN loss on unlabled data: 1.9973832368850708\n",
      "GCN acc on unlabled data: 0.10663983903420524\n",
      "attack loss: 2.005134344100952\n",
      "GCN loss on unlabled data: 1.980126976966858\n",
      "GCN acc on unlabled data: 0.14688128772635817\n",
      "attack loss: 1.9745882749557495\n",
      "GCN loss on unlabled data: 2.0121164321899414\n",
      "GCN acc on unlabled data: 0.18611670020120727\n",
      "attack loss: 2.024221420288086\n",
      "GCN loss on unlabled data: 1.9586122035980225\n",
      "GCN acc on unlabled data: 0.15392354124748492\n",
      "attack loss: 1.9638410806655884\n"
     ]
    },
    {
     "name": "stderr",
     "output_type": "stream",
     "text": [
      "Perturbing graph:   8%|█████▎                                                          | 21/253 [00:00<00:07, 32.72it/s]"
     ]
    },
    {
     "name": "stdout",
     "output_type": "stream",
     "text": [
      "GCN loss on unlabled data: 1.9666872024536133\n",
      "GCN acc on unlabled data: 0.13682092555331993\n",
      "attack loss: 1.9617505073547363\n",
      "GCN loss on unlabled data: 1.905409336090088\n",
      "GCN acc on unlabled data: 0.19014084507042256\n",
      "attack loss: 1.9122412204742432\n",
      "GCN loss on unlabled data: 1.8809009790420532\n",
      "GCN acc on unlabled data: 0.28571428571428575\n",
      "attack loss: 1.8770674467086792\n",
      "GCN loss on unlabled data: 1.9380687475204468\n",
      "GCN acc on unlabled data: 0.18008048289738432\n",
      "attack loss: 1.9340839385986328\n",
      "GCN loss on unlabled data: 1.949240803718567\n",
      "GCN acc on unlabled data: 0.14587525150905434\n",
      "attack loss: 1.9481933116912842\n",
      "GCN loss on unlabled data: 2.01151442527771\n",
      "GCN acc on unlabled data: 0.10110663983903422\n",
      "attack loss: 2.0216264724731445\n",
      "GCN loss on unlabled data: 2.0034120082855225\n",
      "GCN acc on unlabled data: 0.11720321931589538\n",
      "attack loss: 2.0026662349700928\n",
      "GCN loss on unlabled data: 1.9214370250701904\n",
      "GCN acc on unlabled data: 0.20372233400402417\n",
      "attack loss: 1.9154504537582397\n"
     ]
    },
    {
     "name": "stderr",
     "output_type": "stream",
     "text": [
      "Perturbing graph:  11%|███████▎                                                        | 29/253 [00:01<00:06, 35.29it/s]"
     ]
    },
    {
     "name": "stdout",
     "output_type": "stream",
     "text": [
      "GCN loss on unlabled data: 1.94121253490448\n",
      "GCN acc on unlabled data: 0.1574446680080483\n",
      "attack loss: 1.9430991411209106\n",
      "GCN loss on unlabled data: 1.9976778030395508\n",
      "GCN acc on unlabled data: 0.14386317907444668\n",
      "attack loss: 2.005838632583618\n",
      "GCN loss on unlabled data: 1.9689425230026245\n",
      "GCN acc on unlabled data: 0.2137826961770624\n",
      "attack loss: 1.9722223281860352\n",
      "GCN loss on unlabled data: 2.034640073776245\n",
      "GCN acc on unlabled data: 0.10965794768611671\n",
      "attack loss: 2.0300896167755127\n",
      "GCN loss on unlabled data: 1.9968093633651733\n",
      "GCN acc on unlabled data: 0.09356136820925554\n",
      "attack loss: 2.0016517639160156\n",
      "GCN loss on unlabled data: 2.0145537853240967\n",
      "GCN acc on unlabled data: 0.12474849094567406\n",
      "attack loss: 2.0150158405303955\n",
      "GCN loss on unlabled data: 2.0019946098327637\n",
      "GCN acc on unlabled data: 0.09054325955734407\n",
      "attack loss: 1.999769687652588\n",
      "GCN loss on unlabled data: 2.0439298152923584\n",
      "GCN acc on unlabled data: 0.07142857142857144\n",
      "attack loss: 2.0398473739624023\n"
     ]
    },
    {
     "name": "stderr",
     "output_type": "stream",
     "text": [
      "Perturbing graph:  15%|█████████▎                                                      | 37/253 [00:01<00:05, 36.51it/s]"
     ]
    },
    {
     "name": "stdout",
     "output_type": "stream",
     "text": [
      "GCN loss on unlabled data: 1.9936652183532715\n",
      "GCN acc on unlabled data: 0.13832997987927567\n",
      "attack loss: 1.9894354343414307\n",
      "GCN loss on unlabled data: 1.9712072610855103\n",
      "GCN acc on unlabled data: 0.1403420523138833\n",
      "attack loss: 1.9659029245376587\n",
      "GCN loss on unlabled data: 1.979936957359314\n",
      "GCN acc on unlabled data: 0.1881287726358149\n",
      "attack loss: 1.9730515480041504\n",
      "GCN loss on unlabled data: 1.983266830444336\n",
      "GCN acc on unlabled data: 0.10764587525150907\n",
      "attack loss: 1.9882103204727173\n",
      "GCN loss on unlabled data: 2.033888339996338\n",
      "GCN acc on unlabled data: 0.11317907444668009\n",
      "attack loss: 2.042503833770752\n",
      "GCN loss on unlabled data: 1.9831410646438599\n",
      "GCN acc on unlabled data: 0.16046277665995978\n",
      "attack loss: 1.980086326599121\n",
      "GCN loss on unlabled data: 1.957040786743164\n",
      "GCN acc on unlabled data: 0.14084507042253522\n",
      "attack loss: 1.962996244430542\n",
      "GCN loss on unlabled data: 1.9641575813293457\n",
      "GCN acc on unlabled data: 0.13531187122736418\n",
      "attack loss: 1.9683068990707397\n"
     ]
    },
    {
     "name": "stderr",
     "output_type": "stream",
     "text": [
      "Perturbing graph:  18%|███████████▍                                                    | 45/253 [00:01<00:05, 36.25it/s]"
     ]
    },
    {
     "name": "stdout",
     "output_type": "stream",
     "text": [
      "GCN loss on unlabled data: 2.0016603469848633\n",
      "GCN acc on unlabled data: 0.09004024144869216\n",
      "attack loss: 2.002781391143799\n",
      "GCN loss on unlabled data: 1.9907323122024536\n",
      "GCN acc on unlabled data: 0.11670020120724348\n",
      "attack loss: 1.993116855621338\n",
      "GCN loss on unlabled data: 1.9836112260818481\n",
      "GCN acc on unlabled data: 0.11670020120724348\n",
      "attack loss: 1.9845857620239258\n",
      "GCN loss on unlabled data: 1.9814502000808716\n",
      "GCN acc on unlabled data: 0.13832997987927567\n",
      "attack loss: 1.9814062118530273\n",
      "GCN loss on unlabled data: 1.9431910514831543\n",
      "GCN acc on unlabled data: 0.12877263581488935\n",
      "attack loss: 1.9346601963043213\n",
      "GCN loss on unlabled data: 1.9808789491653442\n",
      "GCN acc on unlabled data: 0.1262575452716298\n",
      "attack loss: 1.9817711114883423\n",
      "GCN loss on unlabled data: 2.076328992843628\n",
      "GCN acc on unlabled data: 0.06438631790744467\n",
      "attack loss: 2.078038454055786\n",
      "GCN loss on unlabled data: 2.049668073654175\n",
      "GCN acc on unlabled data: 0.11519114688128773\n",
      "attack loss: 2.0517995357513428\n"
     ]
    },
    {
     "name": "stderr",
     "output_type": "stream",
     "text": [
      "Perturbing graph:  21%|█████████████▍                                                  | 53/253 [00:01<00:05, 37.46it/s]"
     ]
    },
    {
     "name": "stdout",
     "output_type": "stream",
     "text": [
      "GCN loss on unlabled data: 1.930899739265442\n",
      "GCN acc on unlabled data: 0.19315895372233402\n",
      "attack loss: 1.9325076341629028\n",
      "GCN loss on unlabled data: 1.9631128311157227\n",
      "GCN acc on unlabled data: 0.1881287726358149\n",
      "attack loss: 1.958008050918579\n",
      "GCN loss on unlabled data: 1.9932748079299927\n",
      "GCN acc on unlabled data: 0.09356136820925554\n",
      "attack loss: 1.9911284446716309\n",
      "GCN loss on unlabled data: 1.966592788696289\n",
      "GCN acc on unlabled data: 0.1574446680080483\n",
      "attack loss: 1.9687962532043457\n",
      "GCN loss on unlabled data: 1.9639012813568115\n",
      "GCN acc on unlabled data: 0.11670020120724348\n",
      "attack loss: 1.9544380903244019\n",
      "GCN loss on unlabled data: 1.9150357246398926\n",
      "GCN acc on unlabled data: 0.23541247484909458\n",
      "attack loss: 1.9217089414596558\n",
      "GCN loss on unlabled data: 2.035067081451416\n",
      "GCN acc on unlabled data: 0.09859154929577466\n",
      "attack loss: 2.0350425243377686\n",
      "GCN loss on unlabled data: 1.9678164720535278\n",
      "GCN acc on unlabled data: 0.11971830985915494\n",
      "attack loss: 1.97245454788208\n"
     ]
    },
    {
     "name": "stderr",
     "output_type": "stream",
     "text": [
      "Perturbing graph:  25%|███████████████▋                                                | 62/253 [00:01<00:04, 38.81it/s]"
     ]
    },
    {
     "name": "stdout",
     "output_type": "stream",
     "text": [
      "GCN loss on unlabled data: 1.9662120342254639\n",
      "GCN acc on unlabled data: 0.14185110663983905\n",
      "attack loss: 1.969651699066162\n",
      "GCN loss on unlabled data: 2.0141708850860596\n",
      "GCN acc on unlabled data: 0.09557344064386318\n",
      "attack loss: 2.0127477645874023\n",
      "GCN loss on unlabled data: 1.997155785560608\n",
      "GCN acc on unlabled data: 0.09305835010060363\n",
      "attack loss: 2.0014243125915527\n",
      "GCN loss on unlabled data: 1.9903528690338135\n",
      "GCN acc on unlabled data: 0.12977867203219318\n",
      "attack loss: 1.9828659296035767\n",
      "GCN loss on unlabled data: 2.035658836364746\n",
      "GCN acc on unlabled data: 0.11116700201207244\n",
      "attack loss: 2.0353715419769287\n",
      "GCN loss on unlabled data: 1.916873812675476\n",
      "GCN acc on unlabled data: 0.16096579476861167\n",
      "attack loss: 1.9194538593292236\n",
      "GCN loss on unlabled data: 1.972670555114746\n",
      "GCN acc on unlabled data: 0.15694164989939638\n",
      "attack loss: 1.9680967330932617\n",
      "GCN loss on unlabled data: 1.925336241722107\n",
      "GCN acc on unlabled data: 0.24295774647887325\n",
      "attack loss: 1.923866868019104\n",
      "GCN loss on unlabled data: 1.9431402683258057\n"
     ]
    },
    {
     "name": "stderr",
     "output_type": "stream",
     "text": [
      "Perturbing graph:  28%|█████████████████▋                                              | 70/253 [00:02<00:04, 39.05it/s]"
     ]
    },
    {
     "name": "stdout",
     "output_type": "stream",
     "text": [
      "GCN acc on unlabled data: 0.16247484909456741\n",
      "attack loss: 1.9451630115509033\n",
      "GCN loss on unlabled data: 2.012744903564453\n",
      "GCN acc on unlabled data: 0.10160965794768613\n",
      "attack loss: 2.007061004638672\n",
      "GCN loss on unlabled data: 2.036869764328003\n",
      "GCN acc on unlabled data: 0.08400402414486922\n",
      "attack loss: 2.0340633392333984\n",
      "GCN loss on unlabled data: 1.9767491817474365\n",
      "GCN acc on unlabled data: 0.15945674044265595\n",
      "attack loss: 1.9739210605621338\n",
      "GCN loss on unlabled data: 1.9844980239868164\n",
      "GCN acc on unlabled data: 0.12273641851106641\n",
      "attack loss: 1.9852057695388794\n",
      "GCN loss on unlabled data: 1.9671626091003418\n",
      "GCN acc on unlabled data: 0.13229376257545272\n",
      "attack loss: 1.9647139310836792\n",
      "GCN loss on unlabled data: 2.0300238132476807\n",
      "GCN acc on unlabled data: 0.10311871227364186\n",
      "attack loss: 2.033263683319092\n",
      "GCN loss on unlabled data: 1.9534062147140503\n",
      "GCN acc on unlabled data: 0.21478873239436622\n",
      "attack loss: 1.9554226398468018\n"
     ]
    },
    {
     "name": "stderr",
     "output_type": "stream",
     "text": [
      "Perturbing graph:  30%|██████████████████▉                                             | 75/253 [00:02<00:04, 39.54it/s]"
     ]
    },
    {
     "name": "stdout",
     "output_type": "stream",
     "text": [
      "GCN loss on unlabled data: 1.9597724676132202\n",
      "GCN acc on unlabled data: 0.14537223340040242\n",
      "attack loss: 1.9542279243469238\n",
      "GCN loss on unlabled data: 1.990303874015808\n",
      "GCN acc on unlabled data: 0.14637826961770625\n",
      "attack loss: 1.9984939098358154\n",
      "GCN loss on unlabled data: 1.9242355823516846\n",
      "GCN acc on unlabled data: 0.18309859154929578\n",
      "attack loss: 1.9271103143692017\n",
      "GCN loss on unlabled data: 2.0048975944519043\n",
      "GCN acc on unlabled data: 0.13782696177062376\n",
      "attack loss: 2.0077309608459473\n",
      "GCN loss on unlabled data: 1.9776374101638794\n",
      "GCN acc on unlabled data: 0.14386317907444668\n",
      "attack loss: 1.9718170166015625\n",
      "GCN loss on unlabled data: 1.936417818069458\n",
      "GCN acc on unlabled data: 0.18611670020120727\n",
      "attack loss: 1.9352679252624512\n",
      "GCN loss on unlabled data: 1.950420618057251\n",
      "GCN acc on unlabled data: 0.164989939637827\n",
      "attack loss: 1.951220989227295\n",
      "GCN loss on unlabled data: 1.98305344581604\n",
      "GCN acc on unlabled data: 0.15895372233400404\n",
      "attack loss: 1.9767482280731201\n",
      "GCN loss on unlabled data: 1.938386082649231\n",
      "GCN acc on unlabled data: 0.1790744466800805\n",
      "attack loss: 1.9410699605941772\n"
     ]
    },
    {
     "name": "stderr",
     "output_type": "stream",
     "text": [
      "Perturbing graph:  34%|█████████████████████▌                                          | 85/253 [00:02<00:04, 40.00it/s]"
     ]
    },
    {
     "name": "stdout",
     "output_type": "stream",
     "text": [
      "GCN loss on unlabled data: 1.9728361368179321\n",
      "GCN acc on unlabled data: 0.1398390342052314\n",
      "attack loss: 1.977488398551941\n",
      "GCN loss on unlabled data: 2.0336556434631348\n",
      "GCN acc on unlabled data: 0.10211267605633803\n",
      "attack loss: 2.0249216556549072\n",
      "GCN loss on unlabled data: 2.0080933570861816\n",
      "GCN acc on unlabled data: 0.12877263581488935\n",
      "attack loss: 2.013576030731201\n",
      "GCN loss on unlabled data: 1.946420431137085\n",
      "GCN acc on unlabled data: 0.17655935613682094\n",
      "attack loss: 1.9474413394927979\n",
      "GCN loss on unlabled data: 1.9760680198669434\n",
      "GCN acc on unlabled data: 0.11217303822937627\n",
      "attack loss: 1.9726849794387817\n",
      "GCN loss on unlabled data: 1.9611788988113403\n",
      "GCN acc on unlabled data: 0.16398390342052316\n",
      "attack loss: 1.9557567834854126\n",
      "GCN loss on unlabled data: 1.9578502178192139\n",
      "GCN acc on unlabled data: 0.1398390342052314\n",
      "attack loss: 1.9592121839523315\n",
      "GCN loss on unlabled data: 2.010000467300415\n",
      "GCN acc on unlabled data: 0.11267605633802819\n",
      "attack loss: 2.0078084468841553\n",
      "GCN loss on unlabled data: 1.9917110204696655\n",
      "GCN acc on unlabled data: 0.12474849094567406\n",
      "attack loss: 1.9906957149505615\n"
     ]
    },
    {
     "name": "stderr",
     "output_type": "stream",
     "text": [
      "Perturbing graph:  38%|████████████████████████                                        | 95/253 [00:02<00:03, 40.20it/s]"
     ]
    },
    {
     "name": "stdout",
     "output_type": "stream",
     "text": [
      "GCN loss on unlabled data: 1.9481183290481567\n",
      "GCN acc on unlabled data: 0.14587525150905434\n",
      "attack loss: 1.9413851499557495\n",
      "GCN loss on unlabled data: 1.9067933559417725\n",
      "GCN acc on unlabled data: 0.23340040241448695\n",
      "attack loss: 1.9117060899734497\n",
      "GCN loss on unlabled data: 1.9628385305404663\n",
      "GCN acc on unlabled data: 0.12273641851106641\n",
      "attack loss: 1.9556846618652344\n",
      "GCN loss on unlabled data: 2.0308444499969482\n",
      "GCN acc on unlabled data: 0.12022132796780685\n",
      "attack loss: 2.027106523513794\n",
      "GCN loss on unlabled data: 1.97883141040802\n",
      "GCN acc on unlabled data: 0.10462776659959759\n",
      "attack loss: 1.9777767658233643\n",
      "GCN loss on unlabled data: 1.9696788787841797\n",
      "GCN acc on unlabled data: 0.1403420523138833\n",
      "attack loss: 1.9707554578781128\n",
      "GCN loss on unlabled data: 2.0361430644989014\n",
      "GCN acc on unlabled data: 0.058853118712273646\n",
      "attack loss: 2.0365381240844727\n",
      "GCN loss on unlabled data: 1.9527066946029663\n",
      "GCN acc on unlabled data: 0.1564386317907445\n",
      "attack loss: 1.9506182670593262\n",
      "GCN loss on unlabled data: 1.9089328050613403\n",
      "GCN acc on unlabled data: 0.20875251509054327\n",
      "attack loss: 1.8991154432296753\n"
     ]
    },
    {
     "name": "stderr",
     "output_type": "stream",
     "text": [
      "Perturbing graph:  42%|██████████████████████████▏                                    | 105/253 [00:02<00:03, 40.23it/s]"
     ]
    },
    {
     "name": "stdout",
     "output_type": "stream",
     "text": [
      "GCN loss on unlabled data: 1.9692082405090332\n",
      "GCN acc on unlabled data: 0.11418511066398392\n",
      "attack loss: 1.9656038284301758\n",
      "GCN loss on unlabled data: 2.019804000854492\n",
      "GCN acc on unlabled data: 0.09507042253521128\n",
      "attack loss: 2.0177204608917236\n",
      "GCN loss on unlabled data: 1.93177330493927\n",
      "GCN acc on unlabled data: 0.23088531187122738\n",
      "attack loss: 1.9275786876678467\n",
      "GCN loss on unlabled data: 1.9494707584381104\n",
      "GCN acc on unlabled data: 0.15090543259557346\n",
      "attack loss: 1.950423240661621\n",
      "GCN loss on unlabled data: 1.9416788816452026\n",
      "GCN acc on unlabled data: 0.14537223340040242\n",
      "attack loss: 1.9335789680480957\n",
      "GCN loss on unlabled data: 1.9332321882247925\n",
      "GCN acc on unlabled data: 0.21680080482897385\n",
      "attack loss: 1.9368973970413208\n",
      "GCN loss on unlabled data: 1.9795480966567993\n",
      "GCN acc on unlabled data: 0.12424547283702214\n",
      "attack loss: 1.9778140783309937\n",
      "GCN loss on unlabled data: 1.9152165651321411\n",
      "GCN acc on unlabled data: 0.227364185110664\n",
      "attack loss: 1.9069504737854004\n",
      "GCN loss on unlabled data: 2.0035288333892822\n",
      "GCN acc on unlabled data: 0.08450704225352114\n",
      "attack loss: 1.9987372159957886\n"
     ]
    },
    {
     "name": "stderr",
     "output_type": "stream",
     "text": [
      "Perturbing graph:  45%|████████████████████████████▋                                  | 115/253 [00:03<00:03, 40.30it/s]"
     ]
    },
    {
     "name": "stdout",
     "output_type": "stream",
     "text": [
      "GCN loss on unlabled data: 2.072948932647705\n",
      "GCN acc on unlabled data: 0.06841046277665996\n",
      "attack loss: 2.081238269805908\n",
      "GCN loss on unlabled data: 1.8779411315917969\n",
      "GCN acc on unlabled data: 0.24547283702213282\n",
      "attack loss: 1.8719507455825806\n",
      "GCN loss on unlabled data: 1.963906168937683\n",
      "GCN acc on unlabled data: 0.14386317907444668\n",
      "attack loss: 1.9690481424331665\n",
      "GCN loss on unlabled data: 1.9940907955169678\n",
      "GCN acc on unlabled data: 0.10462776659959759\n",
      "attack loss: 1.9940871000289917\n",
      "GCN loss on unlabled data: 1.9416147470474243\n",
      "GCN acc on unlabled data: 0.15442655935613683\n",
      "attack loss: 1.9392821788787842\n",
      "GCN loss on unlabled data: 1.9736976623535156\n",
      "GCN acc on unlabled data: 0.1443661971830986\n",
      "attack loss: 1.9775744676589966\n",
      "GCN loss on unlabled data: 1.967209815979004\n",
      "GCN acc on unlabled data: 0.1317907444668008\n",
      "attack loss: 1.9562098979949951\n",
      "GCN loss on unlabled data: 1.9662106037139893\n",
      "GCN acc on unlabled data: 0.15140845070422537\n",
      "attack loss: 1.968490719795227\n",
      "GCN loss on unlabled data: 1.9684312343597412\n",
      "GCN acc on unlabled data: 0.12977867203219318\n",
      "attack loss: 1.9684056043624878\n"
     ]
    },
    {
     "name": "stderr",
     "output_type": "stream",
     "text": [
      "Perturbing graph:  47%|█████████████████████████████▉                                 | 120/253 [00:03<00:03, 40.25it/s]"
     ]
    },
    {
     "name": "stdout",
     "output_type": "stream",
     "text": [
      "GCN loss on unlabled data: 1.970335602760315\n",
      "GCN acc on unlabled data: 0.12826961770623743\n",
      "attack loss: 1.9759325981140137\n",
      "GCN loss on unlabled data: 1.946607232093811\n",
      "GCN acc on unlabled data: 0.1448692152917505\n",
      "attack loss: 1.9438997507095337\n",
      "GCN loss on unlabled data: 1.9443418979644775\n",
      "GCN acc on unlabled data: 0.19617706237424548\n",
      "attack loss: 1.941292643547058\n",
      "GCN loss on unlabled data: 1.9816688299179077\n",
      "GCN acc on unlabled data: 0.11016096579476863\n",
      "attack loss: 1.972298502922058\n",
      "GCN loss on unlabled data: 2.029831886291504\n",
      "GCN acc on unlabled data: 0.07997987927565393\n",
      "attack loss: 2.033331871032715\n",
      "GCN loss on unlabled data: 1.9289288520812988\n",
      "GCN acc on unlabled data: 0.17253521126760565\n",
      "attack loss: 1.928597092628479\n",
      "GCN loss on unlabled data: 1.9600121974945068\n",
      "GCN acc on unlabled data: 0.16750503018108653\n",
      "attack loss: 1.9622063636779785\n",
      "GCN loss on unlabled data: 1.9642969369888306\n",
      "GCN acc on unlabled data: 0.1659959758551308\n",
      "attack loss: 1.964436411857605\n",
      "GCN loss on unlabled data: 1.9348161220550537\n",
      "GCN acc on unlabled data: 0.18561368209255535\n",
      "attack loss: 1.928561806678772\n"
     ]
    },
    {
     "name": "stderr",
     "output_type": "stream",
     "text": [
      "Perturbing graph:  51%|████████████████████████████████▎                              | 130/253 [00:03<00:03, 40.34it/s]"
     ]
    },
    {
     "name": "stdout",
     "output_type": "stream",
     "text": [
      "GCN loss on unlabled data: 1.983774185180664\n",
      "GCN acc on unlabled data: 0.15040241448692154\n",
      "attack loss: 1.9851548671722412\n",
      "GCN loss on unlabled data: 1.9856197834014893\n",
      "GCN acc on unlabled data: 0.1272635814889336\n",
      "attack loss: 1.9921207427978516\n",
      "GCN loss on unlabled data: 1.9531995058059692\n",
      "GCN acc on unlabled data: 0.17253521126760565\n",
      "attack loss: 1.9577091932296753\n",
      "GCN loss on unlabled data: 1.9590370655059814\n",
      "GCN acc on unlabled data: 0.12474849094567406\n",
      "attack loss: 1.961039662361145\n",
      "GCN loss on unlabled data: 2.0526394844055176\n",
      "GCN acc on unlabled data: 0.07092555331991952\n",
      "attack loss: 2.0611705780029297\n",
      "GCN loss on unlabled data: 1.9635426998138428\n",
      "GCN acc on unlabled data: 0.136317907444668\n",
      "attack loss: 1.9688899517059326\n",
      "GCN loss on unlabled data: 1.95911705493927\n",
      "GCN acc on unlabled data: 0.153420523138833\n",
      "attack loss: 1.9611326456069946\n",
      "GCN loss on unlabled data: 1.9897663593292236\n",
      "GCN acc on unlabled data: 0.12776659959758552\n",
      "attack loss: 2.0007364749908447\n",
      "GCN loss on unlabled data: 1.9974969625473022\n",
      "GCN acc on unlabled data: 0.11871227364185112\n",
      "attack loss: 2.0017991065979004\n"
     ]
    },
    {
     "name": "stderr",
     "output_type": "stream",
     "text": [
      "Perturbing graph:  55%|██████████████████████████████████▊                            | 140/253 [00:03<00:02, 40.42it/s]"
     ]
    },
    {
     "name": "stdout",
     "output_type": "stream",
     "text": [
      "GCN loss on unlabled data: 1.9345508813858032\n",
      "GCN acc on unlabled data: 0.13782696177062376\n",
      "attack loss: 1.9371826648712158\n",
      "GCN loss on unlabled data: 2.016537666320801\n",
      "GCN acc on unlabled data: 0.11116700201207244\n",
      "attack loss: 2.0223326683044434\n",
      "GCN loss on unlabled data: 1.9339221715927124\n",
      "GCN acc on unlabled data: 0.16901408450704228\n",
      "attack loss: 1.9253857135772705\n",
      "GCN loss on unlabled data: 1.9589403867721558\n",
      "GCN acc on unlabled data: 0.1664989939637827\n",
      "attack loss: 1.9571137428283691\n",
      "GCN loss on unlabled data: 1.9763147830963135\n",
      "GCN acc on unlabled data: 0.1393360160965795\n",
      "attack loss: 1.972071647644043\n",
      "GCN loss on unlabled data: 1.992921233177185\n",
      "GCN acc on unlabled data: 0.08450704225352114\n",
      "attack loss: 1.9995412826538086\n",
      "GCN loss on unlabled data: 1.98835289478302\n",
      "GCN acc on unlabled data: 0.13732394366197184\n",
      "attack loss: 1.9997906684875488\n",
      "GCN loss on unlabled data: 2.0166852474212646\n",
      "GCN acc on unlabled data: 0.08651911468812878\n",
      "attack loss: 2.0134222507476807\n",
      "GCN loss on unlabled data: 1.9157928228378296\n",
      "GCN acc on unlabled data: 0.19416498993963785\n",
      "attack loss: 1.9176993370056152\n"
     ]
    },
    {
     "name": "stderr",
     "output_type": "stream",
     "text": [
      "Perturbing graph:  59%|█████████████████████████████████████▎                         | 150/253 [00:04<00:02, 40.46it/s]"
     ]
    },
    {
     "name": "stdout",
     "output_type": "stream",
     "text": [
      "GCN loss on unlabled data: 1.9997695684432983\n",
      "GCN acc on unlabled data: 0.1317907444668008\n",
      "attack loss: 2.0044469833374023\n",
      "GCN loss on unlabled data: 1.9906433820724487\n",
      "GCN acc on unlabled data: 0.10965794768611671\n",
      "attack loss: 1.9965236186981201\n",
      "GCN loss on unlabled data: 1.9603731632232666\n",
      "GCN acc on unlabled data: 0.10965794768611671\n",
      "attack loss: 1.9614253044128418\n",
      "GCN loss on unlabled data: 1.9542319774627686\n",
      "GCN acc on unlabled data: 0.16247484909456741\n",
      "attack loss: 1.950809359550476\n",
      "GCN loss on unlabled data: 2.0169448852539062\n",
      "GCN acc on unlabled data: 0.0960764587525151\n",
      "attack loss: 2.0130515098571777\n",
      "GCN loss on unlabled data: 2.02907133102417\n",
      "GCN acc on unlabled data: 0.08551307847082495\n",
      "attack loss: 2.0314290523529053\n",
      "GCN loss on unlabled data: 1.897067666053772\n",
      "GCN acc on unlabled data: 0.19064386317907447\n",
      "attack loss: 1.9008413553237915\n",
      "GCN loss on unlabled data: 1.9711227416992188\n",
      "GCN acc on unlabled data: 0.14084507042253522\n",
      "attack loss: 1.9735562801361084\n",
      "GCN loss on unlabled data: 2.005903482437134\n",
      "GCN acc on unlabled data: 0.11971830985915494\n",
      "attack loss: 2.013789653778076\n"
     ]
    },
    {
     "name": "stderr",
     "output_type": "stream",
     "text": [
      "Perturbing graph:  63%|███████████████████████████████████████▊                       | 160/253 [00:04<00:02, 40.46it/s]"
     ]
    },
    {
     "name": "stdout",
     "output_type": "stream",
     "text": [
      "GCN loss on unlabled data: 1.9556198120117188\n",
      "GCN acc on unlabled data: 0.147887323943662\n",
      "attack loss: 1.9550538063049316\n",
      "GCN loss on unlabled data: 1.9261773824691772\n",
      "GCN acc on unlabled data: 0.18058350100603623\n",
      "attack loss: 1.9211045503616333\n",
      "GCN loss on unlabled data: 1.9313125610351562\n",
      "GCN acc on unlabled data: 0.1971830985915493\n",
      "attack loss: 1.931028962135315\n",
      "GCN loss on unlabled data: 1.9755479097366333\n",
      "GCN acc on unlabled data: 0.10663983903420524\n",
      "attack loss: 1.977047085762024\n",
      "GCN loss on unlabled data: 1.9966700077056885\n",
      "GCN acc on unlabled data: 0.11519114688128773\n",
      "attack loss: 2.0018248558044434\n",
      "GCN loss on unlabled data: 1.9124469757080078\n",
      "GCN acc on unlabled data: 0.19617706237424548\n",
      "attack loss: 1.9201780557632446\n",
      "GCN loss on unlabled data: 1.9827748537063599\n",
      "GCN acc on unlabled data: 0.13380281690140847\n",
      "attack loss: 1.9846349954605103\n",
      "GCN loss on unlabled data: 1.9915306568145752\n",
      "GCN acc on unlabled data: 0.10311871227364186\n",
      "attack loss: 1.991463303565979\n",
      "GCN loss on unlabled data: 1.9219567775726318\n",
      "GCN acc on unlabled data: 0.21126760563380284\n",
      "attack loss: 1.916616678237915\n"
     ]
    },
    {
     "name": "stderr",
     "output_type": "stream",
     "text": [
      "Perturbing graph:  65%|█████████████████████████████████████████                      | 165/253 [00:04<00:02, 40.44it/s]"
     ]
    },
    {
     "name": "stdout",
     "output_type": "stream",
     "text": [
      "GCN loss on unlabled data: 2.0478017330169678\n",
      "GCN acc on unlabled data: 0.0694164989939638\n",
      "attack loss: 2.0512564182281494\n",
      "GCN loss on unlabled data: 2.0171256065368652\n",
      "GCN acc on unlabled data: 0.10663983903420524\n",
      "attack loss: 2.011699676513672\n",
      "GCN loss on unlabled data: 2.055375576019287\n",
      "GCN acc on unlabled data: 0.11016096579476863\n",
      "attack loss: 2.062516927719116\n",
      "GCN loss on unlabled data: 1.9749088287353516\n",
      "GCN acc on unlabled data: 0.11066398390342053\n",
      "attack loss: 1.9697816371917725\n",
      "GCN loss on unlabled data: 1.9500715732574463\n",
      "GCN acc on unlabled data: 0.14084507042253522\n",
      "attack loss: 1.9531253576278687\n",
      "GCN loss on unlabled data: 1.9353562593460083\n",
      "GCN acc on unlabled data: 0.18309859154929578\n",
      "attack loss: 1.9367883205413818\n",
      "GCN loss on unlabled data: 1.9280188083648682\n",
      "GCN acc on unlabled data: 0.1790744466800805\n",
      "attack loss: 1.920454978942871\n",
      "GCN loss on unlabled data: 1.9117814302444458\n",
      "GCN acc on unlabled data: 0.18963782696177064\n",
      "attack loss: 1.911479115486145\n",
      "GCN loss on unlabled data: 1.9398502111434937\n",
      "GCN acc on unlabled data: 0.18913480885311873\n",
      "attack loss: 1.9369843006134033\n"
     ]
    },
    {
     "name": "stderr",
     "output_type": "stream",
     "text": [
      "Perturbing graph:  69%|███████████████████████████████████████████▌                   | 175/253 [00:04<00:01, 40.42it/s]"
     ]
    },
    {
     "name": "stdout",
     "output_type": "stream",
     "text": [
      "GCN loss on unlabled data: 1.9040336608886719\n",
      "GCN acc on unlabled data: 0.22132796780684105\n",
      "attack loss: 1.907140851020813\n",
      "GCN loss on unlabled data: 1.9759801626205444\n",
      "GCN acc on unlabled data: 0.11066398390342053\n",
      "attack loss: 1.9783737659454346\n",
      "GCN loss on unlabled data: 1.9434913396835327\n",
      "GCN acc on unlabled data: 0.16247484909456741\n",
      "attack loss: 1.9386959075927734\n",
      "GCN loss on unlabled data: 1.9904730319976807\n",
      "GCN acc on unlabled data: 0.10412474849094568\n",
      "attack loss: 1.9944194555282593\n",
      "GCN loss on unlabled data: 2.007310390472412\n",
      "GCN acc on unlabled data: 0.10362173038229378\n",
      "attack loss: 2.0093865394592285\n",
      "GCN loss on unlabled data: 1.9731192588806152\n",
      "GCN acc on unlabled data: 0.14285714285714288\n",
      "attack loss: 1.9711915254592896\n",
      "GCN loss on unlabled data: 1.9828472137451172\n",
      "GCN acc on unlabled data: 0.1091549295774648\n",
      "attack loss: 1.9749830961227417\n",
      "GCN loss on unlabled data: 1.9661458730697632\n",
      "GCN acc on unlabled data: 0.1664989939637827\n",
      "attack loss: 1.9717286825180054\n",
      "GCN loss on unlabled data: 1.9437059164047241\n",
      "GCN acc on unlabled data: 0.16448692152917507\n",
      "attack loss: 1.940476655960083\n"
     ]
    },
    {
     "name": "stderr",
     "output_type": "stream",
     "text": [
      "Perturbing graph:  73%|██████████████████████████████████████████████                 | 185/253 [00:04<00:01, 40.44it/s]"
     ]
    },
    {
     "name": "stdout",
     "output_type": "stream",
     "text": [
      "GCN loss on unlabled data: 2.018584966659546\n",
      "GCN acc on unlabled data: 0.08802816901408451\n",
      "attack loss: 2.024366855621338\n",
      "GCN loss on unlabled data: 1.989355206489563\n",
      "GCN acc on unlabled data: 0.113682092555332\n",
      "attack loss: 1.9941807985305786\n",
      "GCN loss on unlabled data: 1.8872911930084229\n",
      "GCN acc on unlabled data: 0.2821931589537224\n",
      "attack loss: 1.8838815689086914\n",
      "GCN loss on unlabled data: 1.979656457901001\n",
      "GCN acc on unlabled data: 0.12525150905432597\n",
      "attack loss: 1.9741853475570679\n",
      "GCN loss on unlabled data: 1.949073314666748\n",
      "GCN acc on unlabled data: 0.1579476861167002\n",
      "attack loss: 1.9483294486999512\n",
      "GCN loss on unlabled data: 2.0098421573638916\n",
      "GCN acc on unlabled data: 0.11066398390342053\n",
      "attack loss: 2.0173425674438477\n",
      "GCN loss on unlabled data: 2.0359935760498047\n",
      "GCN acc on unlabled data: 0.08350100603621731\n",
      "attack loss: 2.0364208221435547\n",
      "GCN loss on unlabled data: 1.9443869590759277\n",
      "GCN acc on unlabled data: 0.19014084507042256\n",
      "attack loss: 1.940679669380188\n",
      "GCN loss on unlabled data: 1.9815905094146729\n",
      "GCN acc on unlabled data: 0.11619718309859156\n",
      "attack loss: 1.9849661588668823\n"
     ]
    },
    {
     "name": "stderr",
     "output_type": "stream",
     "text": [
      "Perturbing graph:  77%|████████████████████████████████████████████████▌              | 195/253 [00:05<00:01, 40.41it/s]"
     ]
    },
    {
     "name": "stdout",
     "output_type": "stream",
     "text": [
      "GCN loss on unlabled data: 1.9844286441802979\n",
      "GCN acc on unlabled data: 0.1398390342052314\n",
      "attack loss: 1.9790887832641602\n",
      "GCN loss on unlabled data: 1.9813717603683472\n",
      "GCN acc on unlabled data: 0.11619718309859156\n",
      "attack loss: 1.9826867580413818\n",
      "GCN loss on unlabled data: 1.997493028640747\n",
      "GCN acc on unlabled data: 0.14134808853118713\n",
      "attack loss: 1.9965705871582031\n",
      "GCN loss on unlabled data: 1.969135046005249\n",
      "GCN acc on unlabled data: 0.14688128772635817\n",
      "attack loss: 1.9644567966461182\n",
      "GCN loss on unlabled data: 2.0064384937286377\n",
      "GCN acc on unlabled data: 0.113682092555332\n",
      "attack loss: 1.9962048530578613\n",
      "GCN loss on unlabled data: 1.964138388633728\n",
      "GCN acc on unlabled data: 0.13782696177062376\n",
      "attack loss: 1.9618721008300781\n",
      "GCN loss on unlabled data: 1.924522042274475\n",
      "GCN acc on unlabled data: 0.15845070422535212\n",
      "attack loss: 1.9273334741592407\n",
      "GCN loss on unlabled data: 1.9332424402236938\n",
      "GCN acc on unlabled data: 0.19064386317907447\n",
      "attack loss: 1.9376685619354248\n",
      "GCN loss on unlabled data: 2.010051965713501\n",
      "GCN acc on unlabled data: 0.10160965794768613\n",
      "attack loss: 2.011064052581787\n"
     ]
    },
    {
     "name": "stderr",
     "output_type": "stream",
     "text": [
      "Perturbing graph:  81%|███████████████████████████████████████████████████            | 205/253 [00:05<00:01, 40.40it/s]"
     ]
    },
    {
     "name": "stdout",
     "output_type": "stream",
     "text": [
      "GCN loss on unlabled data: 1.967284917831421\n",
      "GCN acc on unlabled data: 0.11317907444668009\n",
      "attack loss: 1.9615919589996338\n",
      "GCN loss on unlabled data: 1.9955909252166748\n",
      "GCN acc on unlabled data: 0.12474849094567406\n",
      "attack loss: 1.9907983541488647\n",
      "GCN loss on unlabled data: 1.9025052785873413\n",
      "GCN acc on unlabled data: 0.22837022132796783\n",
      "attack loss: 1.9022480249404907\n",
      "GCN loss on unlabled data: 1.874237298965454\n",
      "GCN acc on unlabled data: 0.26760563380281693\n",
      "attack loss: 1.86983323097229\n",
      "GCN loss on unlabled data: 1.9299790859222412\n",
      "GCN acc on unlabled data: 0.19064386317907447\n",
      "attack loss: 1.9271000623703003\n",
      "GCN loss on unlabled data: 1.9190706014633179\n",
      "GCN acc on unlabled data: 0.2097585513078471\n",
      "attack loss: 1.9153705835342407\n",
      "GCN loss on unlabled data: 2.0336196422576904\n",
      "GCN acc on unlabled data: 0.05985915492957747\n",
      "attack loss: 2.037742853164673\n",
      "GCN loss on unlabled data: 1.9709619283676147\n",
      "GCN acc on unlabled data: 0.18158953722334006\n",
      "attack loss: 1.9697940349578857\n",
      "GCN loss on unlabled data: 1.9969372749328613\n",
      "GCN acc on unlabled data: 0.10261569416498995\n",
      "attack loss: 1.9981414079666138\n"
     ]
    },
    {
     "name": "stderr",
     "output_type": "stream",
     "text": [
      "Perturbing graph:  83%|████████████████████████████████████████████████████▎          | 210/253 [00:05<00:01, 40.39it/s]"
     ]
    },
    {
     "name": "stdout",
     "output_type": "stream",
     "text": [
      "GCN loss on unlabled data: 1.9497379064559937\n",
      "GCN acc on unlabled data: 0.15492957746478875\n",
      "attack loss: 1.9522531032562256\n",
      "GCN loss on unlabled data: 1.9870041608810425\n",
      "GCN acc on unlabled data: 0.11770623742454729\n",
      "attack loss: 1.991013526916504\n",
      "GCN loss on unlabled data: 1.9844954013824463\n",
      "GCN acc on unlabled data: 0.20774647887323947\n",
      "attack loss: 1.997367262840271\n",
      "GCN loss on unlabled data: 2.0125458240509033\n",
      "GCN acc on unlabled data: 0.08953722334004025\n",
      "attack loss: 2.011460781097412\n",
      "GCN loss on unlabled data: 1.950918197631836\n",
      "GCN acc on unlabled data: 0.17002012072434608\n",
      "attack loss: 1.9559409618377686\n",
      "GCN loss on unlabled data: 1.9592463970184326\n",
      "GCN acc on unlabled data: 0.1966800804828974\n",
      "attack loss: 1.964249849319458\n",
      "GCN loss on unlabled data: 1.9991096258163452\n",
      "GCN acc on unlabled data: 0.08953722334004025\n",
      "attack loss: 2.0015528202056885\n",
      "GCN loss on unlabled data: 1.9830981492996216\n",
      "GCN acc on unlabled data: 0.14386317907444668\n",
      "attack loss: 1.9820080995559692\n",
      "GCN loss on unlabled data: 1.946669578552246\n",
      "GCN acc on unlabled data: 0.17002012072434608\n",
      "attack loss: 1.9450932741165161\n"
     ]
    },
    {
     "name": "stderr",
     "output_type": "stream",
     "text": [
      "Perturbing graph:  87%|██████████████████████████████████████████████████████▊        | 220/253 [00:05<00:00, 40.37it/s]"
     ]
    },
    {
     "name": "stdout",
     "output_type": "stream",
     "text": [
      "GCN loss on unlabled data: 2.0070383548736572\n",
      "GCN acc on unlabled data: 0.09305835010060363\n",
      "attack loss: 2.0023207664489746\n",
      "GCN loss on unlabled data: 2.0393893718719482\n",
      "GCN acc on unlabled data: 0.09305835010060363\n",
      "attack loss: 2.0333433151245117\n",
      "GCN loss on unlabled data: 1.999456524848938\n",
      "GCN acc on unlabled data: 0.12022132796780685\n",
      "attack loss: 1.999908208847046\n",
      "GCN loss on unlabled data: 1.9628944396972656\n",
      "GCN acc on unlabled data: 0.13832997987927567\n",
      "attack loss: 1.9708870649337769\n",
      "GCN loss on unlabled data: 1.985945224761963\n",
      "GCN acc on unlabled data: 0.11770623742454729\n",
      "attack loss: 1.9875001907348633\n",
      "GCN loss on unlabled data: 1.9949530363082886\n",
      "GCN acc on unlabled data: 0.11116700201207244\n",
      "attack loss: 1.9937965869903564\n",
      "GCN loss on unlabled data: 1.9669866561889648\n",
      "GCN acc on unlabled data: 0.11418511066398392\n",
      "attack loss: 1.9642943143844604\n",
      "GCN loss on unlabled data: 1.9295142889022827\n",
      "GCN acc on unlabled data: 0.23390342052313887\n",
      "attack loss: 1.9340683221817017\n",
      "GCN loss on unlabled data: 2.011348247528076\n",
      "GCN acc on unlabled data: 0.07142857142857144\n",
      "attack loss: 2.014051675796509\n"
     ]
    },
    {
     "name": "stderr",
     "output_type": "stream",
     "text": [
      "Perturbing graph:  91%|█████████████████████████████████████████████████████████▎     | 230/253 [00:06<00:00, 40.34it/s]"
     ]
    },
    {
     "name": "stdout",
     "output_type": "stream",
     "text": [
      "GCN loss on unlabled data: 1.9829816818237305\n",
      "GCN acc on unlabled data: 0.14688128772635817\n",
      "attack loss: 1.987107276916504\n",
      "GCN loss on unlabled data: 1.9626895189285278\n",
      "GCN acc on unlabled data: 0.15492957746478875\n",
      "attack loss: 1.9585908651351929\n",
      "GCN loss on unlabled data: 1.9976184368133545\n",
      "GCN acc on unlabled data: 0.10110663983903422\n",
      "attack loss: 1.99141526222229\n",
      "GCN loss on unlabled data: 1.9739792346954346\n",
      "GCN acc on unlabled data: 0.1433601609657948\n",
      "attack loss: 1.9793592691421509\n",
      "GCN loss on unlabled data: 1.9521400928497314\n",
      "GCN acc on unlabled data: 0.13782696177062376\n",
      "attack loss: 1.9513330459594727\n",
      "GCN loss on unlabled data: 1.9919770956039429\n",
      "GCN acc on unlabled data: 0.1182092555331992\n",
      "attack loss: 1.9965871572494507\n",
      "GCN loss on unlabled data: 1.9308241605758667\n",
      "GCN acc on unlabled data: 0.16146881287726358\n",
      "attack loss: 1.9241487979888916\n",
      "GCN loss on unlabled data: 1.9558242559432983\n",
      "GCN acc on unlabled data: 0.15694164989939638\n",
      "attack loss: 1.9610953330993652\n",
      "GCN loss on unlabled data: 1.9818507432937622\n",
      "GCN acc on unlabled data: 0.10613682092555334\n",
      "attack loss: 1.9827953577041626\n"
     ]
    },
    {
     "name": "stderr",
     "output_type": "stream",
     "text": [
      "Perturbing graph:  95%|███████████████████████████████████████████████████████████▊   | 240/253 [00:06<00:00, 40.35it/s]"
     ]
    },
    {
     "name": "stdout",
     "output_type": "stream",
     "text": [
      "GCN loss on unlabled data: 1.9799751043319702\n",
      "GCN acc on unlabled data: 0.16096579476861167\n",
      "attack loss: 1.9763381481170654\n",
      "GCN loss on unlabled data: 2.009982109069824\n",
      "GCN acc on unlabled data: 0.09054325955734407\n",
      "attack loss: 2.0164763927459717\n",
      "GCN loss on unlabled data: 1.982343316078186\n",
      "GCN acc on unlabled data: 0.14839034205231388\n",
      "attack loss: 1.9821550846099854\n",
      "GCN loss on unlabled data: 1.9386303424835205\n",
      "GCN acc on unlabled data: 0.18309859154929578\n",
      "attack loss: 1.9329899549484253\n",
      "GCN loss on unlabled data: 2.001746654510498\n",
      "GCN acc on unlabled data: 0.13229376257545272\n",
      "attack loss: 1.9974868297576904\n",
      "GCN loss on unlabled data: 1.951576828956604\n",
      "GCN acc on unlabled data: 0.15593561368209258\n",
      "attack loss: 1.958626389503479\n",
      "GCN loss on unlabled data: 1.9256818294525146\n",
      "GCN acc on unlabled data: 0.1750503018108652\n",
      "attack loss: 1.9266941547393799\n",
      "GCN loss on unlabled data: 1.988266944885254\n",
      "GCN acc on unlabled data: 0.130784708249497\n",
      "attack loss: 1.9856629371643066\n",
      "GCN loss on unlabled data: 1.9563673734664917\n",
      "GCN acc on unlabled data: 0.1579476861167002\n",
      "attack loss: 1.9559348821640015\n"
     ]
    },
    {
     "name": "stderr",
     "output_type": "stream",
     "text": [
      "Perturbing graph:  99%|██████████████████████████████████████████████████████████████▎| 250/253 [00:06<00:00, 40.30it/s]"
     ]
    },
    {
     "name": "stdout",
     "output_type": "stream",
     "text": [
      "GCN loss on unlabled data: 2.0205636024475098\n",
      "GCN acc on unlabled data: 0.07645875251509054\n",
      "attack loss: 2.0152668952941895\n",
      "GCN loss on unlabled data: 2.0179872512817383\n",
      "GCN acc on unlabled data: 0.11116700201207244\n",
      "attack loss: 2.0148050785064697\n",
      "GCN loss on unlabled data: 1.9434399604797363\n",
      "GCN acc on unlabled data: 0.17454728370221329\n",
      "attack loss: 1.936281442642212\n",
      "GCN loss on unlabled data: 1.978267788887024\n",
      "GCN acc on unlabled data: 0.17152917505030182\n",
      "attack loss: 1.977085828781128\n",
      "GCN loss on unlabled data: 1.9363436698913574\n",
      "GCN acc on unlabled data: 0.1564386317907445\n",
      "attack loss: 1.9364562034606934\n",
      "GCN loss on unlabled data: 1.9543086290359497\n",
      "GCN acc on unlabled data: 0.13279678068410464\n",
      "attack loss: 1.9513354301452637\n",
      "GCN loss on unlabled data: 1.9545944929122925\n",
      "GCN acc on unlabled data: 0.12776659959758552\n",
      "attack loss: 1.948251485824585\n",
      "GCN loss on unlabled data: 1.979548454284668\n",
      "GCN acc on unlabled data: 0.12575452716297789\n",
      "attack loss: 1.980103850364685\n",
      "GCN loss on unlabled data: 1.9640345573425293\n",
      "GCN acc on unlabled data: 0.12525150905432597\n",
      "attack loss: 1.964701771736145\n"
     ]
    },
    {
     "name": "stderr",
     "output_type": "stream",
     "text": [
      "Perturbing graph: 100%|███████████████████████████████████████████████████████████████| 253/253 [00:06<00:00, 38.21it/s]\n"
     ]
    },
    {
     "name": "stdout",
     "output_type": "stream",
     "text": [
      "GCN loss on unlabled data: 1.9369312524795532\n",
      "GCN acc on unlabled data: 0.19869215291750505\n",
      "attack loss: 1.9389687776565552\n",
      "GCN loss on unlabled data: 1.943880319595337\n",
      "GCN acc on unlabled data: 0.1393360160965795\n",
      "attack loss: 1.9438799619674683\n",
      "GCN loss on unlabled data: 1.9865779876708984\n",
      "GCN acc on unlabled data: 0.1488933601609658\n",
      "attack loss: 1.9886945486068726\n",
      "=== Evaluating GCN performance ===\n",
      "Run 1/3: Clean acc = 0.8229, Attacked acc = 0.7907\n",
      "Run 2/3: Clean acc = 0.8265, Attacked acc = 0.7948\n",
      "Run 3/3: Clean acc = 0.8280, Attacked acc = 0.8018\n",
      "\n",
      "=== Attack Effectiveness Summary (Perturbation rate: 5.0%) ===\n",
      "Clean accuracy: 0.8258 ± 0.0021\n",
      "Attacked accuracy: 0.7958 ± 0.0046\n",
      "Absolute accuracy drop: 0.0300\n",
      "Relative accuracy drop: 3.63%\n",
      "Effectiveness ratio: 0.6003 (drop per perturbation unit)\n",
      "Attack assessment: Slightly effective\n",
      "\n",
      "=== Testing perturbation rate: 10.0% ===\n",
      "=== Setting up attack model ===\n",
      "=== Perturbing graph with 506 edge modifications ===\n",
      "=== training surrogate model to predict unlabled data for self-training\n"
     ]
    },
    {
     "name": "stderr",
     "output_type": "stream",
     "text": [
      "Perturbing graph:   2%|█                                                                | 8/506 [00:00<00:12, 39.41it/s]"
     ]
    },
    {
     "name": "stdout",
     "output_type": "stream",
     "text": [
      "GCN loss on unlabled data: 1.9665299654006958\n",
      "GCN acc on unlabled data: 0.153420523138833\n",
      "attack loss: 1.9652514457702637\n",
      "GCN loss on unlabled data: 1.9672874212265015\n",
      "GCN acc on unlabled data: 0.1272635814889336\n",
      "attack loss: 1.9670953750610352\n",
      "GCN loss on unlabled data: 2.0158300399780273\n",
      "GCN acc on unlabled data: 0.09859154929577466\n",
      "attack loss: 2.00663161277771\n",
      "GCN loss on unlabled data: 1.9606802463531494\n",
      "GCN acc on unlabled data: 0.13832997987927567\n",
      "attack loss: 1.9623366594314575\n",
      "GCN loss on unlabled data: 1.9624030590057373\n",
      "GCN acc on unlabled data: 0.12072434607645877\n",
      "attack loss: 1.973301887512207\n",
      "GCN loss on unlabled data: 1.9973416328430176\n",
      "GCN acc on unlabled data: 0.08148893360160966\n",
      "attack loss: 2.004460573196411\n",
      "GCN loss on unlabled data: 2.0145747661590576\n",
      "GCN acc on unlabled data: 0.11167002012072436\n",
      "attack loss: 2.0086917877197266\n",
      "GCN loss on unlabled data: 1.9584975242614746\n",
      "GCN acc on unlabled data: 0.16448692152917507\n",
      "attack loss: 1.9601588249206543\n"
     ]
    },
    {
     "name": "stderr",
     "output_type": "stream",
     "text": [
      "Perturbing graph:   3%|██                                                              | 16/506 [00:00<00:12, 39.70it/s]"
     ]
    },
    {
     "name": "stdout",
     "output_type": "stream",
     "text": [
      "GCN loss on unlabled data: 1.9927523136138916\n",
      "GCN acc on unlabled data: 0.1222334004024145\n",
      "attack loss: 1.9893985986709595\n",
      "GCN loss on unlabled data: 1.9870229959487915\n",
      "GCN acc on unlabled data: 0.0789738430583501\n",
      "attack loss: 1.9810826778411865\n",
      "GCN loss on unlabled data: 1.9877541065216064\n",
      "GCN acc on unlabled data: 0.10663983903420524\n",
      "attack loss: 1.997820258140564\n",
      "GCN loss on unlabled data: 2.0012145042419434\n",
      "GCN acc on unlabled data: 0.16448692152917507\n",
      "attack loss: 2.0018837451934814\n",
      "GCN loss on unlabled data: 2.0707666873931885\n",
      "GCN acc on unlabled data: 0.07847082494969819\n",
      "attack loss: 2.0706443786621094\n",
      "GCN loss on unlabled data: 1.8933542966842651\n",
      "GCN acc on unlabled data: 0.24346076458752516\n",
      "attack loss: 1.8855714797973633\n",
      "GCN loss on unlabled data: 1.9294401407241821\n",
      "GCN acc on unlabled data: 0.21629778672032196\n",
      "attack loss: 1.9272592067718506\n",
      "GCN loss on unlabled data: 2.0131731033325195\n",
      "GCN acc on unlabled data: 0.10362173038229378\n",
      "attack loss: 2.0064096450805664\n"
     ]
    },
    {
     "name": "stderr",
     "output_type": "stream",
     "text": [
      "Perturbing graph:   5%|███                                                             | 24/506 [00:00<00:12, 39.65it/s]"
     ]
    },
    {
     "name": "stdout",
     "output_type": "stream",
     "text": [
      "GCN loss on unlabled data: 1.9783912897109985\n",
      "GCN acc on unlabled data: 0.13229376257545272\n",
      "attack loss: 1.9785466194152832\n",
      "GCN loss on unlabled data: 1.981364369392395\n",
      "GCN acc on unlabled data: 0.15140845070422537\n",
      "attack loss: 1.9758270978927612\n",
      "GCN loss on unlabled data: 1.9989473819732666\n",
      "GCN acc on unlabled data: 0.08199195171026158\n",
      "attack loss: 1.9969465732574463\n",
      "GCN loss on unlabled data: 1.9940025806427002\n",
      "GCN acc on unlabled data: 0.09657947686116701\n",
      "attack loss: 1.9883413314819336\n",
      "GCN loss on unlabled data: 1.9601774215698242\n",
      "GCN acc on unlabled data: 0.17605633802816903\n",
      "attack loss: 1.9586992263793945\n",
      "GCN loss on unlabled data: 1.9959838390350342\n",
      "GCN acc on unlabled data: 0.15241448692152917\n",
      "attack loss: 1.992253065109253\n",
      "GCN loss on unlabled data: 1.9446537494659424\n",
      "GCN acc on unlabled data: 0.15442655935613683\n",
      "attack loss: 1.9524389505386353\n",
      "GCN loss on unlabled data: 1.9467575550079346\n",
      "GCN acc on unlabled data: 0.1564386317907445\n",
      "attack loss: 1.9393631219863892\n"
     ]
    },
    {
     "name": "stderr",
     "output_type": "stream",
     "text": [
      "Perturbing graph:   6%|████                                                            | 32/506 [00:00<00:11, 39.77it/s]"
     ]
    },
    {
     "name": "stdout",
     "output_type": "stream",
     "text": [
      "GCN loss on unlabled data: 1.9824573993682861\n",
      "GCN acc on unlabled data: 0.11569416498993965\n",
      "attack loss: 1.9836190938949585\n",
      "GCN loss on unlabled data: 1.964808702468872\n",
      "GCN acc on unlabled data: 0.1579476861167002\n",
      "attack loss: 1.9678926467895508\n",
      "GCN loss on unlabled data: 1.9834001064300537\n",
      "GCN acc on unlabled data: 0.10160965794768613\n",
      "attack loss: 1.9922516345977783\n",
      "GCN loss on unlabled data: 2.0258493423461914\n",
      "GCN acc on unlabled data: 0.10462776659959759\n",
      "attack loss: 2.027181386947632\n",
      "GCN loss on unlabled data: 2.0095176696777344\n",
      "GCN acc on unlabled data: 0.10814889336016098\n",
      "attack loss: 2.012418270111084\n",
      "GCN loss on unlabled data: 1.9640206098556519\n",
      "GCN acc on unlabled data: 0.15241448692152917\n",
      "attack loss: 1.9585106372833252\n",
      "GCN loss on unlabled data: 1.9651446342468262\n",
      "GCN acc on unlabled data: 0.11871227364185112\n",
      "attack loss: 1.9629520177841187\n",
      "GCN loss on unlabled data: 2.0051956176757812\n",
      "GCN acc on unlabled data: 0.11720321931589538\n",
      "attack loss: 2.016608476638794\n"
     ]
    },
    {
     "name": "stderr",
     "output_type": "stream",
     "text": [
      "Perturbing graph:   8%|█████                                                           | 40/506 [00:01<00:11, 39.65it/s]"
     ]
    },
    {
     "name": "stdout",
     "output_type": "stream",
     "text": [
      "GCN loss on unlabled data: 1.9887984991073608\n",
      "GCN acc on unlabled data: 0.15694164989939638\n",
      "attack loss: 1.9913055896759033\n",
      "GCN loss on unlabled data: 2.008777618408203\n",
      "GCN acc on unlabled data: 0.1574446680080483\n",
      "attack loss: 2.0033199787139893\n",
      "GCN loss on unlabled data: 1.976283311843872\n",
      "GCN acc on unlabled data: 0.12826961770623743\n",
      "attack loss: 1.9749289751052856\n",
      "GCN loss on unlabled data: 1.917446255683899\n",
      "GCN acc on unlabled data: 0.2012072434607646\n",
      "attack loss: 1.9196149110794067\n",
      "GCN loss on unlabled data: 1.9955185651779175\n",
      "GCN acc on unlabled data: 0.14134808853118713\n",
      "attack loss: 2.0038387775421143\n",
      "GCN loss on unlabled data: 1.9361263513565063\n",
      "GCN acc on unlabled data: 0.20925553319919518\n",
      "attack loss: 1.9357117414474487\n",
      "GCN loss on unlabled data: 1.9978853464126587\n",
      "GCN acc on unlabled data: 0.1222334004024145\n",
      "attack loss: 1.9942667484283447\n",
      "GCN loss on unlabled data: 1.964294195175171\n",
      "GCN acc on unlabled data: 0.16549295774647887\n",
      "attack loss: 1.9618552923202515\n"
     ]
    },
    {
     "name": "stderr",
     "output_type": "stream",
     "text": [
      "Perturbing graph:   9%|██████                                                          | 48/506 [00:01<00:11, 39.66it/s]"
     ]
    },
    {
     "name": "stdout",
     "output_type": "stream",
     "text": [
      "GCN loss on unlabled data: 1.986776351928711\n",
      "GCN acc on unlabled data: 0.12273641851106641\n",
      "attack loss: 1.987162709236145\n",
      "GCN loss on unlabled data: 1.9734995365142822\n",
      "GCN acc on unlabled data: 0.12776659959758552\n",
      "attack loss: 1.9631602764129639\n",
      "GCN loss on unlabled data: 1.9918580055236816\n",
      "GCN acc on unlabled data: 0.12122736418511068\n",
      "attack loss: 1.991463541984558\n",
      "GCN loss on unlabled data: 1.9594078063964844\n",
      "GCN acc on unlabled data: 0.13229376257545272\n",
      "attack loss: 1.9608190059661865\n",
      "GCN loss on unlabled data: 1.9594907760620117\n",
      "GCN acc on unlabled data: 0.13732394366197184\n",
      "attack loss: 1.9644134044647217\n",
      "GCN loss on unlabled data: 1.9625858068466187\n",
      "GCN acc on unlabled data: 0.11921529175050302\n",
      "attack loss: 1.9613590240478516\n",
      "GCN loss on unlabled data: 1.9457013607025146\n",
      "GCN acc on unlabled data: 0.15543259557344066\n",
      "attack loss: 1.9454712867736816\n",
      "GCN loss on unlabled data: 1.9772666692733765\n",
      "GCN acc on unlabled data: 0.11971830985915494\n",
      "attack loss: 1.9691886901855469\n"
     ]
    },
    {
     "name": "stderr",
     "output_type": "stream",
     "text": [
      "Perturbing graph:  11%|███████                                                         | 56/506 [00:01<00:11, 39.64it/s]"
     ]
    },
    {
     "name": "stdout",
     "output_type": "stream",
     "text": [
      "GCN loss on unlabled data: 1.947731614112854\n",
      "GCN acc on unlabled data: 0.12877263581488935\n",
      "attack loss: 1.9491052627563477\n",
      "GCN loss on unlabled data: 2.019982099533081\n",
      "GCN acc on unlabled data: 0.10110663983903422\n",
      "attack loss: 2.0228660106658936\n",
      "GCN loss on unlabled data: 1.9629108905792236\n",
      "GCN acc on unlabled data: 0.15090543259557346\n",
      "attack loss: 1.96241295337677\n",
      "GCN loss on unlabled data: 1.996611475944519\n",
      "GCN acc on unlabled data: 0.08853118712273643\n",
      "attack loss: 2.002213716506958\n",
      "GCN loss on unlabled data: 1.9029004573822021\n",
      "GCN acc on unlabled data: 0.21076458752515093\n",
      "attack loss: 1.8924357891082764\n",
      "GCN loss on unlabled data: 1.994942545890808\n",
      "GCN acc on unlabled data: 0.1493963782696177\n",
      "attack loss: 1.9926435947418213\n",
      "GCN loss on unlabled data: 1.958403468132019\n",
      "GCN acc on unlabled data: 0.15845070422535212\n",
      "attack loss: 1.966049313545227\n",
      "GCN loss on unlabled data: 2.011815309524536\n",
      "GCN acc on unlabled data: 0.11921529175050302\n",
      "attack loss: 2.0111420154571533\n"
     ]
    },
    {
     "name": "stderr",
     "output_type": "stream",
     "text": [
      "Perturbing graph:  13%|████████                                                        | 64/506 [00:01<00:11, 39.55it/s]"
     ]
    },
    {
     "name": "stdout",
     "output_type": "stream",
     "text": [
      "GCN loss on unlabled data: 1.998594045639038\n",
      "GCN acc on unlabled data: 0.11921529175050302\n",
      "attack loss: 2.003671407699585\n",
      "GCN loss on unlabled data: 1.9702366590499878\n",
      "GCN acc on unlabled data: 0.1529175050301811\n",
      "attack loss: 1.954008936882019\n",
      "GCN loss on unlabled data: 2.0012893676757812\n",
      "GCN acc on unlabled data: 0.10764587525150907\n",
      "attack loss: 1.9988794326782227\n",
      "GCN loss on unlabled data: 1.9989171028137207\n",
      "GCN acc on unlabled data: 0.10362173038229378\n",
      "attack loss: 2.007457733154297\n",
      "GCN loss on unlabled data: 1.9925799369812012\n",
      "GCN acc on unlabled data: 0.11468812877263583\n",
      "attack loss: 1.9921387434005737\n",
      "GCN loss on unlabled data: 1.948242425918579\n",
      "GCN acc on unlabled data: 0.1659959758551308\n",
      "attack loss: 1.9512200355529785\n",
      "GCN loss on unlabled data: 1.9008598327636719\n",
      "GCN acc on unlabled data: 0.21579476861167005\n",
      "attack loss: 1.905971646308899\n",
      "GCN loss on unlabled data: 1.987746000289917\n",
      "GCN acc on unlabled data: 0.12877263581488935\n",
      "attack loss: 1.9810415506362915\n"
     ]
    },
    {
     "name": "stderr",
     "output_type": "stream",
     "text": [
      "Perturbing graph:  14%|█████████                                                       | 72/506 [00:01<00:10, 39.61it/s]"
     ]
    },
    {
     "name": "stdout",
     "output_type": "stream",
     "text": [
      "GCN loss on unlabled data: 2.011638641357422\n",
      "GCN acc on unlabled data: 0.12525150905432597\n",
      "attack loss: 2.014160633087158\n",
      "GCN loss on unlabled data: 1.9682588577270508\n",
      "GCN acc on unlabled data: 0.16851106639839036\n",
      "attack loss: 1.9843862056732178\n",
      "GCN loss on unlabled data: 2.016493082046509\n",
      "GCN acc on unlabled data: 0.1312877263581489\n",
      "attack loss: 2.016956090927124\n",
      "GCN loss on unlabled data: 1.9316240549087524\n",
      "GCN acc on unlabled data: 0.15694164989939638\n",
      "attack loss: 1.9377082586288452\n",
      "GCN loss on unlabled data: 2.0018372535705566\n",
      "GCN acc on unlabled data: 0.11217303822937627\n",
      "attack loss: 2.006514310836792\n",
      "GCN loss on unlabled data: 1.9906326532363892\n",
      "GCN acc on unlabled data: 0.14989939637826963\n",
      "attack loss: 1.9901432991027832\n",
      "GCN loss on unlabled data: 2.0096237659454346\n",
      "GCN acc on unlabled data: 0.10663983903420524\n",
      "attack loss: 2.0216338634490967\n",
      "GCN loss on unlabled data: 1.905333161354065\n",
      "GCN acc on unlabled data: 0.244466800804829\n",
      "attack loss: 1.9008398056030273\n"
     ]
    },
    {
     "name": "stderr",
     "output_type": "stream",
     "text": [
      "Perturbing graph:  16%|██████████                                                      | 80/506 [00:02<00:10, 39.71it/s]"
     ]
    },
    {
     "name": "stdout",
     "output_type": "stream",
     "text": [
      "GCN loss on unlabled data: 1.986641764640808\n",
      "GCN acc on unlabled data: 0.0960764587525151\n",
      "attack loss: 1.9846487045288086\n",
      "GCN loss on unlabled data: 2.0038161277770996\n",
      "GCN acc on unlabled data: 0.11921529175050302\n",
      "attack loss: 2.0009829998016357\n",
      "GCN loss on unlabled data: 1.9985212087631226\n",
      "GCN acc on unlabled data: 0.11921529175050302\n",
      "attack loss: 2.000267505645752\n",
      "GCN loss on unlabled data: 1.9791133403778076\n",
      "GCN acc on unlabled data: 0.14587525150905434\n",
      "attack loss: 1.9729760885238647\n",
      "GCN loss on unlabled data: 1.9400068521499634\n",
      "GCN acc on unlabled data: 0.21730382293762576\n",
      "attack loss: 1.9445395469665527\n",
      "GCN loss on unlabled data: 2.0097854137420654\n",
      "GCN acc on unlabled data: 0.08953722334004025\n",
      "attack loss: 2.0078020095825195\n",
      "GCN loss on unlabled data: 2.0089025497436523\n",
      "GCN acc on unlabled data: 0.09657947686116701\n",
      "attack loss: 2.0047783851623535\n",
      "GCN loss on unlabled data: 1.9665740728378296\n",
      "GCN acc on unlabled data: 0.14989939637826963\n",
      "attack loss: 1.9689890146255493\n",
      "GCN loss on unlabled data: 1.9722647666931152\n",
      "GCN acc on unlabled data: 0.147887323943662\n",
      "attack loss: 1.9793803691864014\n"
     ]
    },
    {
     "name": "stderr",
     "output_type": "stream",
     "text": [
      "Perturbing graph:  17%|███████████▏                                                    | 88/506 [00:02<00:10, 39.77it/s]"
     ]
    },
    {
     "name": "stdout",
     "output_type": "stream",
     "text": [
      "GCN loss on unlabled data: 2.0011727809906006\n",
      "GCN acc on unlabled data: 0.11267605633802819\n",
      "attack loss: 2.000471591949463\n",
      "GCN loss on unlabled data: 1.9730784893035889\n",
      "GCN acc on unlabled data: 0.15090543259557346\n",
      "attack loss: 1.9776129722595215\n",
      "GCN loss on unlabled data: 1.9485113620758057\n",
      "GCN acc on unlabled data: 0.18058350100603623\n",
      "attack loss: 1.9452388286590576\n",
      "GCN loss on unlabled data: 1.9884384870529175\n",
      "GCN acc on unlabled data: 0.13430583501006038\n",
      "attack loss: 1.9828438758850098\n",
      "GCN loss on unlabled data: 1.9975718259811401\n",
      "GCN acc on unlabled data: 0.1006036217303823\n",
      "attack loss: 1.9938268661499023\n",
      "GCN loss on unlabled data: 1.9572776556015015\n",
      "GCN acc on unlabled data: 0.16096579476861167\n",
      "attack loss: 1.9575769901275635\n",
      "GCN loss on unlabled data: 1.9455230236053467\n",
      "GCN acc on unlabled data: 0.19064386317907447\n",
      "attack loss: 1.944803237915039\n",
      "GCN loss on unlabled data: 2.0205514430999756\n",
      "GCN acc on unlabled data: 0.0960764587525151\n",
      "attack loss: 2.0318758487701416\n"
     ]
    },
    {
     "name": "stderr",
     "output_type": "stream",
     "text": [
      "Perturbing graph:  19%|████████████▏                                                   | 96/506 [00:02<00:10, 39.79it/s]"
     ]
    },
    {
     "name": "stdout",
     "output_type": "stream",
     "text": [
      "GCN loss on unlabled data: 2.0045547485351562\n",
      "GCN acc on unlabled data: 0.14839034205231388\n",
      "attack loss: 2.0133368968963623\n",
      "GCN loss on unlabled data: 1.9958893060684204\n",
      "GCN acc on unlabled data: 0.11871227364185112\n",
      "attack loss: 2.001072645187378\n",
      "GCN loss on unlabled data: 1.9659351110458374\n",
      "GCN acc on unlabled data: 0.16750503018108653\n",
      "attack loss: 1.963505744934082\n",
      "GCN loss on unlabled data: 1.981553316116333\n",
      "GCN acc on unlabled data: 0.18058350100603623\n",
      "attack loss: 1.9865219593048096\n",
      "GCN loss on unlabled data: 1.9354503154754639\n",
      "GCN acc on unlabled data: 0.15945674044265595\n",
      "attack loss: 1.934402346611023\n",
      "GCN loss on unlabled data: 1.9921767711639404\n",
      "GCN acc on unlabled data: 0.12474849094567406\n",
      "attack loss: 2.0040581226348877\n",
      "GCN loss on unlabled data: 1.9228867292404175\n",
      "GCN acc on unlabled data: 0.17655935613682094\n",
      "attack loss: 1.9254180192947388\n",
      "GCN loss on unlabled data: 1.987809181213379\n",
      "GCN acc on unlabled data: 0.12072434607645877\n",
      "attack loss: 1.986107349395752\n"
     ]
    },
    {
     "name": "stderr",
     "output_type": "stream",
     "text": [
      "Perturbing graph:  21%|████████████▉                                                  | 104/506 [00:02<00:10, 39.83it/s]"
     ]
    },
    {
     "name": "stdout",
     "output_type": "stream",
     "text": [
      "GCN loss on unlabled data: 1.9549771547317505\n",
      "GCN acc on unlabled data: 0.1926559356136821\n",
      "attack loss: 1.9509674310684204\n",
      "GCN loss on unlabled data: 2.02740216255188\n",
      "GCN acc on unlabled data: 0.08148893360160966\n",
      "attack loss: 2.029419422149658\n",
      "GCN loss on unlabled data: 1.9544445276260376\n",
      "GCN acc on unlabled data: 0.14537223340040242\n",
      "attack loss: 1.9573365449905396\n",
      "GCN loss on unlabled data: 1.9164680242538452\n",
      "GCN acc on unlabled data: 0.2701207243460765\n",
      "attack loss: 1.917128086090088\n",
      "GCN loss on unlabled data: 2.0015273094177246\n",
      "GCN acc on unlabled data: 0.12776659959758552\n",
      "attack loss: 2.003390312194824\n",
      "GCN loss on unlabled data: 1.880982518196106\n",
      "GCN acc on unlabled data: 0.2449698189134809\n",
      "attack loss: 1.8713573217391968\n",
      "GCN loss on unlabled data: 1.992186427116394\n",
      "GCN acc on unlabled data: 0.12374245472837023\n",
      "attack loss: 1.9905756711959839\n",
      "GCN loss on unlabled data: 1.9403189420700073\n",
      "GCN acc on unlabled data: 0.20321931589537226\n",
      "attack loss: 1.939806580543518\n",
      "GCN loss on unlabled data: 1.9977666139602661\n"
     ]
    },
    {
     "name": "stderr",
     "output_type": "stream",
     "text": [
      "Perturbing graph:  22%|█████████████▉                                                 | 112/506 [00:02<00:09, 39.86it/s]"
     ]
    },
    {
     "name": "stdout",
     "output_type": "stream",
     "text": [
      "GCN acc on unlabled data: 0.10965794768611671\n",
      "attack loss: 2.0019993782043457\n",
      "GCN loss on unlabled data: 1.9914277791976929\n",
      "GCN acc on unlabled data: 0.10663983903420524\n",
      "attack loss: 1.9938132762908936\n",
      "GCN loss on unlabled data: 1.9706950187683105\n",
      "GCN acc on unlabled data: 0.1433601609657948\n",
      "attack loss: 1.9663574695587158\n",
      "GCN loss on unlabled data: 1.9457565546035767\n",
      "GCN acc on unlabled data: 0.16750503018108653\n",
      "attack loss: 1.9521520137786865\n",
      "GCN loss on unlabled data: 1.9704320430755615\n",
      "GCN acc on unlabled data: 0.12474849094567406\n",
      "attack loss: 1.9702434539794922\n",
      "GCN loss on unlabled data: 1.954370141029358\n",
      "GCN acc on unlabled data: 0.17203219315895374\n",
      "attack loss: 1.9471714496612549\n",
      "GCN loss on unlabled data: 1.9908846616744995\n",
      "GCN acc on unlabled data: 0.11468812877263583\n",
      "attack loss: 1.9984077215194702\n",
      "GCN loss on unlabled data: 1.9852854013442993\n",
      "GCN acc on unlabled data: 0.12776659959758552\n",
      "attack loss: 1.9830206632614136\n",
      "GCN loss on unlabled data: 1.9493091106414795\n",
      "GCN acc on unlabled data: 0.16750503018108653\n",
      "attack loss: 1.9495152235031128\n"
     ]
    },
    {
     "name": "stderr",
     "output_type": "stream",
     "text": [
      "Perturbing graph:  24%|██████████████▉                                                | 120/506 [00:03<00:09, 39.84it/s]"
     ]
    },
    {
     "name": "stdout",
     "output_type": "stream",
     "text": [
      "GCN loss on unlabled data: 1.979073166847229\n",
      "GCN acc on unlabled data: 0.14587525150905434\n",
      "attack loss: 1.9799160957336426\n",
      "GCN loss on unlabled data: 1.9898762702941895\n",
      "GCN acc on unlabled data: 0.1222334004024145\n",
      "attack loss: 1.9975812435150146\n",
      "GCN loss on unlabled data: 1.980398416519165\n",
      "GCN acc on unlabled data: 0.11619718309859156\n",
      "attack loss: 1.9751217365264893\n",
      "GCN loss on unlabled data: 1.9535167217254639\n",
      "GCN acc on unlabled data: 0.12977867203219318\n",
      "attack loss: 1.9540585279464722\n",
      "GCN loss on unlabled data: 1.9284929037094116\n",
      "GCN acc on unlabled data: 0.2097585513078471\n",
      "attack loss: 1.9335817098617554\n",
      "GCN loss on unlabled data: 1.9417709112167358\n",
      "GCN acc on unlabled data: 0.15442655935613683\n",
      "attack loss: 1.9572668075561523\n",
      "GCN loss on unlabled data: 1.9404804706573486\n",
      "GCN acc on unlabled data: 0.1493963782696177\n",
      "attack loss: 1.9363807439804077\n",
      "GCN loss on unlabled data: 1.931033968925476\n",
      "GCN acc on unlabled data: 0.18712273641851107\n",
      "attack loss: 1.926931381225586\n",
      "GCN loss on unlabled data: 1.980849266052246\n",
      "GCN acc on unlabled data: 0.11317907444668009\n"
     ]
    },
    {
     "name": "stderr",
     "output_type": "stream",
     "text": [
      "Perturbing graph:  25%|███████████████▉                                               | 128/506 [00:03<00:09, 39.85it/s]"
     ]
    },
    {
     "name": "stdout",
     "output_type": "stream",
     "text": [
      "attack loss: 1.9797512292861938\n",
      "GCN loss on unlabled data: 1.9399820566177368\n",
      "GCN acc on unlabled data: 0.153420523138833\n",
      "attack loss: 1.9389879703521729\n",
      "GCN loss on unlabled data: 1.9110159873962402\n",
      "GCN acc on unlabled data: 0.23742454728370224\n",
      "attack loss: 1.9106420278549194\n",
      "GCN loss on unlabled data: 1.9597004652023315\n",
      "GCN acc on unlabled data: 0.16247484909456741\n",
      "attack loss: 1.953870415687561\n",
      "GCN loss on unlabled data: 1.9841697216033936\n",
      "GCN acc on unlabled data: 0.12776659959758552\n",
      "attack loss: 1.9879287481307983\n",
      "GCN loss on unlabled data: 1.9282755851745605\n",
      "GCN acc on unlabled data: 0.19416498993963785\n",
      "attack loss: 1.922066330909729\n",
      "GCN loss on unlabled data: 1.9077978134155273\n",
      "GCN acc on unlabled data: 0.19114688128772636\n",
      "attack loss: 1.9120393991470337\n",
      "GCN loss on unlabled data: 2.0354928970336914\n",
      "GCN acc on unlabled data: 0.057344064386317915\n",
      "attack loss: 2.043781280517578\n",
      "GCN loss on unlabled data: 2.007355213165283\n",
      "GCN acc on unlabled data: 0.10764587525150907\n",
      "attack loss: 2.0049870014190674\n"
     ]
    },
    {
     "name": "stderr",
     "output_type": "stream",
     "text": [
      "Perturbing graph:  27%|█████████████████                                              | 137/506 [00:03<00:09, 39.92it/s]"
     ]
    },
    {
     "name": "stdout",
     "output_type": "stream",
     "text": [
      "GCN loss on unlabled data: 1.9870665073394775\n",
      "GCN acc on unlabled data: 0.13531187122736418\n",
      "attack loss: 1.995430827140808\n",
      "GCN loss on unlabled data: 1.9886349439620972\n",
      "GCN acc on unlabled data: 0.10311871227364186\n",
      "attack loss: 1.990408182144165\n",
      "GCN loss on unlabled data: 1.926391839981079\n",
      "GCN acc on unlabled data: 0.18058350100603623\n",
      "attack loss: 1.9268922805786133\n",
      "GCN loss on unlabled data: 1.9799134731292725\n",
      "GCN acc on unlabled data: 0.13732394366197184\n",
      "attack loss: 1.9782257080078125\n",
      "GCN loss on unlabled data: 1.9663777351379395\n",
      "GCN acc on unlabled data: 0.170523138832998\n",
      "attack loss: 1.9597266912460327\n",
      "GCN loss on unlabled data: 1.9901809692382812\n",
      "GCN acc on unlabled data: 0.08450704225352114\n",
      "attack loss: 1.980682134628296\n",
      "GCN loss on unlabled data: 1.959245204925537\n",
      "GCN acc on unlabled data: 0.1659959758551308\n",
      "attack loss: 1.9625418186187744\n",
      "GCN loss on unlabled data: 1.9577665328979492\n",
      "GCN acc on unlabled data: 0.1493963782696177\n",
      "attack loss: 1.958251953125\n",
      "GCN loss on unlabled data: 1.913517713546753\n",
      "GCN acc on unlabled data: 0.19416498993963785\n"
     ]
    },
    {
     "name": "stderr",
     "output_type": "stream",
     "text": [
      "Perturbing graph:  29%|██████████████████                                             | 145/506 [00:03<00:09, 39.67it/s]"
     ]
    },
    {
     "name": "stdout",
     "output_type": "stream",
     "text": [
      "attack loss: 1.9101775884628296\n",
      "GCN loss on unlabled data: 1.9140468835830688\n",
      "GCN acc on unlabled data: 0.23390342052313887\n",
      "attack loss: 1.920182466506958\n",
      "GCN loss on unlabled data: 1.9970862865447998\n",
      "GCN acc on unlabled data: 0.11921529175050302\n",
      "attack loss: 1.9921047687530518\n",
      "GCN loss on unlabled data: 1.9471794366836548\n",
      "GCN acc on unlabled data: 0.15694164989939638\n",
      "attack loss: 1.9455384016036987\n",
      "GCN loss on unlabled data: 1.9440723657608032\n",
      "GCN acc on unlabled data: 0.1448692152917505\n",
      "attack loss: 1.9367306232452393\n",
      "GCN loss on unlabled data: 1.961594581604004\n",
      "GCN acc on unlabled data: 0.15593561368209258\n",
      "attack loss: 1.9720488786697388\n",
      "GCN loss on unlabled data: 1.992042899131775\n",
      "GCN acc on unlabled data: 0.15040241448692154\n",
      "attack loss: 1.9949272871017456\n",
      "GCN loss on unlabled data: 2.002235174179077\n",
      "GCN acc on unlabled data: 0.10965794768611671\n",
      "attack loss: 2.000638008117676\n",
      "GCN loss on unlabled data: 1.9366059303283691\n",
      "GCN acc on unlabled data: 0.16851106639839036\n",
      "attack loss: 1.931093454360962\n"
     ]
    },
    {
     "name": "stderr",
     "output_type": "stream",
     "text": [
      "Perturbing graph:  31%|███████████████████▎                                           | 155/506 [00:03<00:08, 39.99it/s]"
     ]
    },
    {
     "name": "stdout",
     "output_type": "stream",
     "text": [
      "GCN loss on unlabled data: 1.9686514139175415\n",
      "GCN acc on unlabled data: 0.15543259557344066\n",
      "attack loss: 1.967211127281189\n",
      "GCN loss on unlabled data: 1.9822584390640259\n",
      "GCN acc on unlabled data: 0.15694164989939638\n",
      "attack loss: 1.9921321868896484\n",
      "GCN loss on unlabled data: 1.984961986541748\n",
      "GCN acc on unlabled data: 0.12776659959758552\n",
      "attack loss: 1.9897187948226929\n",
      "GCN loss on unlabled data: 2.075392723083496\n",
      "GCN acc on unlabled data: 0.12575452716297789\n",
      "attack loss: 2.0619089603424072\n",
      "GCN loss on unlabled data: 1.9878103733062744\n",
      "GCN acc on unlabled data: 0.12877263581488935\n",
      "attack loss: 1.9895578622817993\n",
      "GCN loss on unlabled data: 1.9627960920333862\n",
      "GCN acc on unlabled data: 0.1222334004024145\n",
      "attack loss: 1.9574333429336548\n",
      "GCN loss on unlabled data: 2.0169074535369873\n",
      "GCN acc on unlabled data: 0.10412474849094568\n",
      "attack loss: 2.0219199657440186\n",
      "GCN loss on unlabled data: 1.9213305711746216\n",
      "GCN acc on unlabled data: 0.1921529175050302\n",
      "attack loss: 1.9261988401412964\n"
     ]
    },
    {
     "name": "stderr",
     "output_type": "stream",
     "text": [
      "Perturbing graph:  32%|████████████████████▍                                          | 164/506 [00:04<00:08, 39.76it/s]"
     ]
    },
    {
     "name": "stdout",
     "output_type": "stream",
     "text": [
      "GCN loss on unlabled data: 1.9752929210662842\n",
      "GCN acc on unlabled data: 0.12474849094567406\n",
      "attack loss: 1.9743517637252808\n",
      "GCN loss on unlabled data: 2.0036885738372803\n",
      "GCN acc on unlabled data: 0.1262575452716298\n",
      "attack loss: 1.998000144958496\n",
      "GCN loss on unlabled data: 2.022765636444092\n",
      "GCN acc on unlabled data: 0.09909456740442657\n",
      "attack loss: 2.0228729248046875\n",
      "GCN loss on unlabled data: 2.020256757736206\n",
      "GCN acc on unlabled data: 0.09557344064386318\n",
      "attack loss: 2.025834798812866\n",
      "GCN loss on unlabled data: 1.9505622386932373\n",
      "GCN acc on unlabled data: 0.1348088531187123\n",
      "attack loss: 1.9542911052703857\n",
      "GCN loss on unlabled data: 1.9775172472000122\n",
      "GCN acc on unlabled data: 0.12323943661971833\n",
      "attack loss: 1.988539695739746\n",
      "GCN loss on unlabled data: 1.9401867389678955\n",
      "GCN acc on unlabled data: 0.2007042253521127\n",
      "attack loss: 1.9445922374725342\n",
      "GCN loss on unlabled data: 1.9949902296066284\n",
      "GCN acc on unlabled data: 0.09708249496981892\n",
      "attack loss: 1.9898967742919922\n",
      "GCN loss on unlabled data: 2.008949041366577\n",
      "GCN acc on unlabled data: 0.08702213279678069\n",
      "attack loss: 2.00321364402771\n"
     ]
    },
    {
     "name": "stderr",
     "output_type": "stream",
     "text": [
      "Perturbing graph:  34%|█████████████████████▌                                         | 173/506 [00:04<00:08, 39.95it/s]"
     ]
    },
    {
     "name": "stdout",
     "output_type": "stream",
     "text": [
      "GCN loss on unlabled data: 1.973942756652832\n",
      "GCN acc on unlabled data: 0.12173038229376258\n",
      "attack loss: 1.9738082885742188\n",
      "GCN loss on unlabled data: 1.947779655456543\n",
      "GCN acc on unlabled data: 0.18008048289738432\n",
      "attack loss: 1.9550009965896606\n",
      "GCN loss on unlabled data: 1.930550217628479\n",
      "GCN acc on unlabled data: 0.23038229376257546\n",
      "attack loss: 1.923763394355774\n",
      "GCN loss on unlabled data: 2.0212254524230957\n",
      "GCN acc on unlabled data: 0.08651911468812878\n",
      "attack loss: 2.022801637649536\n",
      "GCN loss on unlabled data: 2.009488821029663\n",
      "GCN acc on unlabled data: 0.113682092555332\n",
      "attack loss: 2.0126826763153076\n",
      "GCN loss on unlabled data: 2.0324220657348633\n",
      "GCN acc on unlabled data: 0.09859154929577466\n",
      "attack loss: 2.033295154571533\n",
      "GCN loss on unlabled data: 1.940517783164978\n",
      "GCN acc on unlabled data: 0.15593561368209258\n",
      "attack loss: 1.9416139125823975\n",
      "GCN loss on unlabled data: 2.002655267715454\n",
      "GCN acc on unlabled data: 0.11317907444668009\n",
      "attack loss: 2.00954008102417\n",
      "GCN loss on unlabled data: 1.9833917617797852\n",
      "GCN acc on unlabled data: 0.15895372233400404\n",
      "attack loss: 1.9791760444641113\n"
     ]
    },
    {
     "name": "stderr",
     "output_type": "stream",
     "text": [
      "Perturbing graph:  36%|██████████████████████▋                                        | 182/506 [00:04<00:08, 40.03it/s]"
     ]
    },
    {
     "name": "stdout",
     "output_type": "stream",
     "text": [
      "GCN loss on unlabled data: 2.0294253826141357\n",
      "GCN acc on unlabled data: 0.07142857142857144\n",
      "attack loss: 2.0263006687164307\n",
      "GCN loss on unlabled data: 1.9362049102783203\n",
      "GCN acc on unlabled data: 0.21327967806841047\n",
      "attack loss: 1.941520094871521\n",
      "GCN loss on unlabled data: 1.9776625633239746\n",
      "GCN acc on unlabled data: 0.17454728370221329\n",
      "attack loss: 1.9722075462341309\n",
      "GCN loss on unlabled data: 2.0244405269622803\n",
      "GCN acc on unlabled data: 0.13531187122736418\n",
      "attack loss: 2.026524782180786\n",
      "GCN loss on unlabled data: 1.9433159828186035\n",
      "GCN acc on unlabled data: 0.18309859154929578\n",
      "attack loss: 1.942708134651184\n",
      "GCN loss on unlabled data: 1.9290882349014282\n",
      "GCN acc on unlabled data: 0.19466800804828976\n",
      "attack loss: 1.930700421333313\n",
      "GCN loss on unlabled data: 2.0050570964813232\n",
      "GCN acc on unlabled data: 0.10110663983903422\n",
      "attack loss: 2.014282703399658\n",
      "GCN loss on unlabled data: 1.8979237079620361\n",
      "GCN acc on unlabled data: 0.2570422535211268\n",
      "attack loss: 1.8969149589538574\n",
      "GCN loss on unlabled data: 1.9720509052276611\n",
      "GCN acc on unlabled data: 0.1529175050301811\n",
      "attack loss: 1.9746787548065186\n"
     ]
    },
    {
     "name": "stderr",
     "output_type": "stream",
     "text": [
      "Perturbing graph:  37%|███████████████████████▏                                       | 186/506 [00:04<00:08, 39.79it/s]"
     ]
    },
    {
     "name": "stdout",
     "output_type": "stream",
     "text": [
      "GCN loss on unlabled data: 1.911853313446045\n",
      "GCN acc on unlabled data: 0.23943661971830987\n",
      "attack loss: 1.9165573120117188\n",
      "GCN loss on unlabled data: 1.960938572883606\n",
      "GCN acc on unlabled data: 0.16096579476861167\n",
      "attack loss: 1.9587007761001587\n",
      "GCN loss on unlabled data: 1.9682071208953857\n",
      "GCN acc on unlabled data: 0.10160965794768613\n",
      "attack loss: 1.9638067483901978\n"
     ]
    },
    {
     "name": "stderr",
     "output_type": "stream",
     "text": [
      "Perturbing graph:  37%|███████████████████████▏                                       | 186/506 [00:05<00:09, 34.08it/s]\n"
     ]
    },
    {
     "ename": "OutOfMemoryError",
     "evalue": "CUDA out of memory. Tried to allocate 24.00 MiB (GPU 0; 31.74 GiB total capacity; 31.28 GiB already allocated; 21.12 MiB free; 31.29 GiB reserved in total by PyTorch) If reserved memory is >> allocated memory try setting max_split_size_mb to avoid fragmentation.  See documentation for Memory Management and PYTORCH_CUDA_ALLOC_CONF",
     "output_type": "error",
     "traceback": [
      "\u001b[0;31m---------------------------------------------------------------------------\u001b[0m",
      "\u001b[0;31mOutOfMemoryError\u001b[0m                          Traceback (most recent call last)",
      "Cell \u001b[0;32mIn[9], line 3\u001b[0m\n\u001b[1;32m      1\u001b[0m \u001b[38;5;28;01mif\u001b[39;00m \u001b[38;5;18m__name__\u001b[39m \u001b[38;5;241m==\u001b[39m \u001b[38;5;124m'\u001b[39m\u001b[38;5;124m__main__\u001b[39m\u001b[38;5;124m'\u001b[39m:\n\u001b[1;32m      2\u001b[0m     torch\u001b[38;5;241m.\u001b[39mcuda\u001b[38;5;241m.\u001b[39mempty_cache()\n\u001b[0;32m----> 3\u001b[0m     results \u001b[38;5;241m=\u001b[39m \u001b[43mrun_attack\u001b[49m\u001b[43m(\u001b[49m\u001b[43m)\u001b[49m\n\u001b[1;32m      5\u001b[0m     \u001b[38;5;66;03m# Print comparative summary\u001b[39;00m\n\u001b[1;32m      6\u001b[0m     \u001b[38;5;28mprint\u001b[39m(\u001b[38;5;124m\"\u001b[39m\u001b[38;5;130;01m\\n\u001b[39;00m\u001b[38;5;124m=== Comparative Analysis ===\u001b[39m\u001b[38;5;124m\"\u001b[39m)\n",
      "Cell \u001b[0;32mIn[8], line 38\u001b[0m, in \u001b[0;36mrun_attack\u001b[0;34m()\u001b[0m\n\u001b[1;32m     35\u001b[0m \u001b[38;5;66;03m# Generate adversarial adjacency matrix focusing on test nodes\u001b[39;00m\n\u001b[1;32m     36\u001b[0m \u001b[38;5;28mprint\u001b[39m(\u001b[38;5;124mf\u001b[39m\u001b[38;5;124m'\u001b[39m\u001b[38;5;124m=== Perturbing graph with \u001b[39m\u001b[38;5;132;01m{\u001b[39;00mperturbations\u001b[38;5;132;01m}\u001b[39;00m\u001b[38;5;124m edge modifications ===\u001b[39m\u001b[38;5;124m'\u001b[39m)\n\u001b[0;32m---> 38\u001b[0m modified_adj \u001b[38;5;241m=\u001b[39m \u001b[43mmodel\u001b[49m\u001b[43m(\u001b[49m\u001b[43mfeatures\u001b[49m\u001b[43m,\u001b[49m\u001b[43m \u001b[49m\u001b[43madj\u001b[49m\u001b[43m,\u001b[49m\u001b[43m \u001b[49m\u001b[43mlabels\u001b[49m\u001b[43m,\u001b[49m\u001b[43m \u001b[49m\u001b[43midx_train\u001b[49m\u001b[43m,\u001b[49m\u001b[43m \u001b[49m\u001b[43midx_test\u001b[49m\u001b[43m,\u001b[49m\u001b[43m \u001b[49m\u001b[43mperturbations\u001b[49m\u001b[43m,\u001b[49m\u001b[43m \u001b[49m\u001b[43mll_constraint\u001b[49m\u001b[38;5;241;43m=\u001b[39;49m\u001b[38;5;28;43;01mFalse\u001b[39;49;00m\u001b[43m)\u001b[49m\n\u001b[1;32m     39\u001b[0m modified_adj \u001b[38;5;241m=\u001b[39m modified_adj\u001b[38;5;241m.\u001b[39mdetach()\n\u001b[1;32m     41\u001b[0m runs \u001b[38;5;241m=\u001b[39m \u001b[38;5;241m3\u001b[39m  \u001b[38;5;66;03m# Reduced from 10 to 3 for quicker execution\u001b[39;00m\n",
      "File \u001b[0;32m~/miniconda3/envs/ersp_v2/lib/python3.9/site-packages/torch/nn/modules/module.py:1190\u001b[0m, in \u001b[0;36mModule._call_impl\u001b[0;34m(self, *input, **kwargs)\u001b[0m\n\u001b[1;32m   1186\u001b[0m \u001b[38;5;66;03m# If we don't have any hooks, we want to skip the rest of the logic in\u001b[39;00m\n\u001b[1;32m   1187\u001b[0m \u001b[38;5;66;03m# this function, and just call forward.\u001b[39;00m\n\u001b[1;32m   1188\u001b[0m \u001b[38;5;28;01mif\u001b[39;00m \u001b[38;5;129;01mnot\u001b[39;00m (\u001b[38;5;28mself\u001b[39m\u001b[38;5;241m.\u001b[39m_backward_hooks \u001b[38;5;129;01mor\u001b[39;00m \u001b[38;5;28mself\u001b[39m\u001b[38;5;241m.\u001b[39m_forward_hooks \u001b[38;5;129;01mor\u001b[39;00m \u001b[38;5;28mself\u001b[39m\u001b[38;5;241m.\u001b[39m_forward_pre_hooks \u001b[38;5;129;01mor\u001b[39;00m _global_backward_hooks\n\u001b[1;32m   1189\u001b[0m         \u001b[38;5;129;01mor\u001b[39;00m _global_forward_hooks \u001b[38;5;129;01mor\u001b[39;00m _global_forward_pre_hooks):\n\u001b[0;32m-> 1190\u001b[0m     \u001b[38;5;28;01mreturn\u001b[39;00m \u001b[43mforward_call\u001b[49m\u001b[43m(\u001b[49m\u001b[38;5;241;43m*\u001b[39;49m\u001b[38;5;28;43minput\u001b[39;49m\u001b[43m,\u001b[49m\u001b[43m \u001b[49m\u001b[38;5;241;43m*\u001b[39;49m\u001b[38;5;241;43m*\u001b[39;49m\u001b[43mkwargs\u001b[49m\u001b[43m)\u001b[49m\n\u001b[1;32m   1191\u001b[0m \u001b[38;5;66;03m# Do not call functions when jit is used\u001b[39;00m\n\u001b[1;32m   1192\u001b[0m full_backward_hooks, non_full_backward_hooks \u001b[38;5;241m=\u001b[39m [], []\n",
      "File \u001b[0;32m~/ERSP/2-phase-attack/experiments/Metattack_2/metattack.py:235\u001b[0m, in \u001b[0;36mMetattack.forward\u001b[0;34m(self, features, ori_adj, labels, idx_train, idx_unlabeled, perturbations, ll_constraint, ll_cutoff)\u001b[0m\n\u001b[1;32m    232\u001b[0m adj_changes_symm \u001b[38;5;241m=\u001b[39m torch\u001b[38;5;241m.\u001b[39mclamp(adj_changes_square \u001b[38;5;241m+\u001b[39m torch\u001b[38;5;241m.\u001b[39mtranspose(adj_changes_square, \u001b[38;5;241m1\u001b[39m, \u001b[38;5;241m0\u001b[39m), \u001b[38;5;241m-\u001b[39m\u001b[38;5;241m1\u001b[39m, \u001b[38;5;241m1\u001b[39m)\n\u001b[1;32m    233\u001b[0m modified_adj \u001b[38;5;241m=\u001b[39m adj_changes_symm \u001b[38;5;241m+\u001b[39m ori_adj\n\u001b[0;32m--> 235\u001b[0m adj_norm \u001b[38;5;241m=\u001b[39m \u001b[43mutils\u001b[49m\u001b[38;5;241;43m.\u001b[39;49m\u001b[43mnormalize_adj_tensor\u001b[49m\u001b[43m(\u001b[49m\u001b[43mmodified_adj\u001b[49m\u001b[43m)\u001b[49m\n\u001b[1;32m    236\u001b[0m \u001b[38;5;28mself\u001b[39m\u001b[38;5;241m.\u001b[39minner_train(features, adj_norm, idx_train, idx_unlabeled, labels)\n\u001b[1;32m    237\u001b[0m adj_grad \u001b[38;5;241m=\u001b[39m \u001b[38;5;28mself\u001b[39m\u001b[38;5;241m.\u001b[39mget_meta_grad(features, adj_norm, idx_train, idx_unlabeled, labels, labels_self_training)\n",
      "File \u001b[0;32m~/ERSP/2-phase-attack/experiments/Metattack_2/utils.py:150\u001b[0m, in \u001b[0;36mnormalize_adj_tensor\u001b[0;34m(adj, sparse)\u001b[0m\n\u001b[1;32m    148\u001b[0m     r_inv[torch\u001b[38;5;241m.\u001b[39misinf(r_inv)] \u001b[38;5;241m=\u001b[39m \u001b[38;5;241m0.\u001b[39m\n\u001b[1;32m    149\u001b[0m     r_mat_inv \u001b[38;5;241m=\u001b[39m torch\u001b[38;5;241m.\u001b[39mdiag(r_inv)\n\u001b[0;32m--> 150\u001b[0m     mx \u001b[38;5;241m=\u001b[39m \u001b[43mr_mat_inv\u001b[49m\u001b[43m \u001b[49m\u001b[38;5;241;43m@\u001b[39;49m\u001b[43m \u001b[49m\u001b[43mmx\u001b[49m\n\u001b[1;32m    151\u001b[0m     mx \u001b[38;5;241m=\u001b[39m mx \u001b[38;5;241m@\u001b[39m r_mat_inv\n\u001b[1;32m    152\u001b[0m \u001b[38;5;28;01mreturn\u001b[39;00m mx\n",
      "\u001b[0;31mOutOfMemoryError\u001b[0m: CUDA out of memory. Tried to allocate 24.00 MiB (GPU 0; 31.74 GiB total capacity; 31.28 GiB already allocated; 21.12 MiB free; 31.29 GiB reserved in total by PyTorch) If reserved memory is >> allocated memory try setting max_split_size_mb to avoid fragmentation.  See documentation for Memory Management and PYTORCH_CUDA_ALLOC_CONF"
     ]
    }
   ],
   "source": [
    "if __name__ == '__main__':\n",
    "    torch.cuda.empty_cache()\n",
    "    results = run_attack()\n",
    "    \n",
    "    # Print comparative summary\n",
    "    print(\"\\n=== Comparative Analysis ===\")\n",
    "    print(\"Perturbation Rate | Accuracy Drop | Relative Drop | Effectiveness Ratio\")\n",
    "    print(\"-\" * 65)\n",
    "    for ptb_rate in ptb_rates:\n",
    "        print(f\"{ptb_rate*100:15.1f}% | {results[ptb_rate]['accuracy_drop']:12.4f} | {results[ptb_rate]['relative_drop']:12.2f}% | {results[ptb_rate]['effectiveness_ratio']:18.4f}\")"
   ]
  },
  {
   "cell_type": "code",
   "execution_count": null,
   "id": "8e082f52-5d05-4e54-b3c1-797966e74402",
   "metadata": {},
   "outputs": [],
   "source": []
  }
 ],
 "metadata": {
  "kernelspec": {
   "display_name": "Python 3 (ipykernel)",
   "language": "python",
   "name": "python3"
  },
  "language_info": {
   "codemirror_mode": {
    "name": "ipython",
    "version": 3
   },
   "file_extension": ".py",
   "mimetype": "text/x-python",
   "name": "python",
   "nbconvert_exporter": "python",
   "pygments_lexer": "ipython3",
   "version": "3.9.18"
  }
 },
 "nbformat": 4,
 "nbformat_minor": 5
}
