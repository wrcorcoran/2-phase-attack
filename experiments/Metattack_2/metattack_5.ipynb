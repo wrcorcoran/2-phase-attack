{
 "cells": [
  {
   "cell_type": "code",
   "execution_count": 1,
   "id": "8e2a2992-eab5-4d34-8cbf-22c181d44662",
   "metadata": {},
   "outputs": [],
   "source": [
    "import torch\n",
    "from gcn import GCN\n",
    "from utils import load_data, preprocess, normalize_adj_tensor, accuracy, get_train_val_test\n",
    "import numpy as np\n",
    "import torch.nn.functional as F\n",
    "import torch.optim as optim\n",
    "from matplotlib import pyplot as plt\n",
    "from metattack import MetaApprox, Metattack\n",
    "import seaborn as sns\n",
    "import gc"
   ]
  },
  {
   "cell_type": "code",
   "execution_count": 3,
   "id": "e432f317-2742-44aa-b21d-6d30835cdf25",
   "metadata": {},
   "outputs": [],
   "source": [
    "# Fixed parameters for Cora dataset\n",
    "seed = 15\n",
    "epochs = 200\n",
    "lr = 0.01\n",
    "hidden = 16\n",
    "dataset = 'cora'\n",
    "ptb_rate = 0.05\n",
    "model_variant = 'Meta-Self'  # Options: 'A-Meta-Self', 'Meta-Self'"
   ]
  },
  {
   "cell_type": "code",
   "execution_count": 4,
   "id": "0b1434c8-90f3-40a5-b595-e134523a15c3",
   "metadata": {},
   "outputs": [
    {
     "name": "stdout",
     "output_type": "stream",
     "text": [
      "Loading cora dataset...\n",
      "reading cora...\n",
      "Selecting 1 largest connected components\n"
     ]
    }
   ],
   "source": [
    "# Set seeds for reproducibility\n",
    "np.random.seed(seed)\n",
    "torch.manual_seed(seed)\n",
    "device = torch.device(\"cuda:0\" if torch.cuda.is_available() else \"cpu\")\n",
    "if device != 'cpu':\n",
    "    torch.cuda.manual_seed(seed)\n",
    "\n",
    "# Load Cora dataset\n",
    "adj, features, labels = load_data(dataset=dataset)\n",
    "nclass = max(labels) + 1"
   ]
  },
  {
   "cell_type": "code",
   "execution_count": 5,
   "id": "17b27d9a-5594-4e23-b560-01b9560c89ab",
   "metadata": {},
   "outputs": [],
   "source": [
    "# Split dataset\n",
    "val_size = 0.1\n",
    "test_size = 0.8\n",
    "train_size = 1 - test_size - val_size\n",
    "\n",
    "idx = np.arange(adj.shape[0])\n",
    "idx_train, idx_val, idx_test = get_train_val_test(idx, train_size, val_size, test_size, stratify=labels)\n",
    "idx_unlabeled = np.union1d(idx_val, idx_test)\n",
    "perturbations = int(ptb_rate * (adj.sum()//2))\n",
    "\n",
    "# Preprocess without normalizing adjacency yet\n",
    "adj, features, labels = preprocess(adj, features, labels, preprocess_adj=False)"
   ]
  },
  {
   "cell_type": "code",
   "execution_count": 6,
   "id": "804f1035-4f45-4e8b-ad3c-a37e3bec744b",
   "metadata": {},
   "outputs": [],
   "source": [
    "# Move data to device\n",
    "if device != 'cpu':\n",
    "    adj = adj.to(device)\n",
    "    features = features.to(device)\n",
    "    labels = labels.to(device)"
   ]
  },
  {
   "cell_type": "code",
   "execution_count": 7,
   "id": "7c96790d-61f4-424c-8824-62179be66312",
   "metadata": {},
   "outputs": [],
   "source": [
    "def train_gcn(adj):\n",
    "    ''' Train GCN on the given adjacency matrix '''\n",
    "    # Normalize adjacency matrix for GCN\n",
    "    norm_adj = normalize_adj_tensor(adj)\n",
    "    \n",
    "    # Initialize GCN model\n",
    "    gcn = GCN(nfeat=features.shape[1],\n",
    "              nhid=hidden,\n",
    "              nclass=labels.max().item() + 1,\n",
    "              dropout=0.5)\n",
    "    \n",
    "    if device != 'cpu':\n",
    "        gcn = gcn.to(device)\n",
    "    \n",
    "    optimizer = optim.Adam(gcn.parameters(),\n",
    "                           lr=lr, weight_decay=5e-4)\n",
    "    \n",
    "    # Train GCN\n",
    "    gcn.train()\n",
    "    for epoch in range(epochs):\n",
    "        optimizer.zero_grad()\n",
    "        output = gcn(features, norm_adj)\n",
    "        loss_train = F.nll_loss(output[idx_train], labels[idx_train])\n",
    "        loss_train.backward()\n",
    "        optimizer.step()\n",
    "    \n",
    "    return gcn\n"
   ]
  },
  {
   "cell_type": "code",
   "execution_count": 8,
   "id": "6a453218-1aa6-4fe4-ae54-360a43dfe597",
   "metadata": {},
   "outputs": [],
   "source": [
    "def evaluate(gcn, adj, idx):\n",
    "    ''' Evaluate GCN on the given adjacency matrix and index '''\n",
    "    # Normalize adjacency matrix for evaluation\n",
    "    norm_adj = normalize_adj_tensor(adj)\n",
    "    \n",
    "    gcn.eval()\n",
    "    with torch.no_grad():\n",
    "        output = gcn(features, norm_adj)\n",
    "        loss = F.nll_loss(output[idx], labels[idx])\n",
    "        acc = accuracy(output[idx], labels[idx])\n",
    "    \n",
    "    return acc.item()"
   ]
  },
  {
   "cell_type": "code",
   "execution_count": 11,
   "id": "5698f645-7a9c-4702-8cfc-5c121bef9a50",
   "metadata": {},
   "outputs": [],
   "source": [
    "def run_attack():\n",
    "\n",
    "    \n",
    "    print('=== Training GCN on original(clean) graph ===')\n",
    "    # First, train the GCN on the clean graph\n",
    "    trained_gcn = train_gcn(adj)\n",
    "    \n",
    "    print('=== Setting up attack model ===')\n",
    "    # Set up attack model parameters\n",
    "    if 'Self' in model_variant:\n",
    "        lambda_ = 0\n",
    "    if 'Train' in model_variant:\n",
    "        lambda_ = 1\n",
    "    if 'Both' in model_variant:\n",
    "        lambda_ = 0.5\n",
    "    if 'A' in model_variant:\n",
    "        model = MetaApprox(nfeat=features.shape[1], hidden_sizes=[hidden],\n",
    "                        nnodes=adj.shape[0], nclass=nclass, dropout=0.5,\n",
    "                        train_iters=0, attack_features=False, lambda_=lambda_, device=device)\n",
    "    else:\n",
    "        model = Metattack(nfeat=features.shape[1], hidden_sizes=[hidden],\n",
    "                        nnodes=adj.shape[0], nclass=nclass, dropout=0.5,\n",
    "                        train_iters=0, attack_features=False, lambda_=lambda_, device=device)\n",
    "    \n",
    "    if device != 'cpu':\n",
    "        model = model.to(device)\n",
    "        \n",
    "    # Generate adversarial adjacency matrix focusing on test nodes\n",
    "    print('=== Perturbing graph for evasion attack ===')\n",
    "    \n",
    "    modified_adj = model(features, adj, labels, idx_train, idx_test, perturbations, ll_constraint=False)\n",
    "    modified_adj = modified_adj.detach()\n",
    "    \n",
    "    \n",
    "    \n",
    "    \n",
    "    runs = 3  # Reduced from 10 to 3 for quicker execution in kernel\n",
    "    clean_acc = []\n",
    "    attacked_acc = []\n",
    "    \n",
    "    print('=== Evaluating GCN performance ===')\n",
    "    # Test the already trained GCN on both clean and perturbed graph\n",
    "    for i in range(runs):\n",
    "        # Reset the GCN for each run\n",
    "        trained_gcn = train_gcn(adj)\n",
    "        \n",
    "        # Evaluate on clean test data\n",
    "        clean_acc.append(evaluate(trained_gcn, adj, idx_test))\n",
    "        \n",
    "        # Evaluate on perturbed test data (evasion)\n",
    "        attacked_acc.append(evaluate(trained_gcn, modified_adj, idx_test))\n",
    "        \n",
    "        print(f\"Run {i+1}/{runs}: Clean acc = {clean_acc[-1]:.4f}, Attacked acc = {attacked_acc[-1]:.4f}\")\n",
    "    \n",
    "    # Calculate effectiveness metrics\n",
    "    clean_mean = np.mean(clean_acc)\n",
    "    clean_std = np.std(clean_acc)\n",
    "    attack_mean = np.mean(attacked_acc)\n",
    "    attack_std = np.std(attacked_acc)\n",
    "    acc_drop = clean_mean - attack_mean\n",
    "    relative_drop = (acc_drop / clean_mean) * 100\n",
    "    \n",
    "    # Print summary statistics without plotting\n",
    "    print(\"\\n=== Attack Effectiveness Summary ===\")\n",
    "    print(f\"Clean accuracy: {clean_mean:.4f} ± {clean_std:.4f}\")\n",
    "    print(f\"Attacked accuracy: {attack_mean:.4f} ± {attack_std:.4f}\")\n",
    "    print(f\"Absolute accuracy drop: {acc_drop:.4f}\")\n",
    "    print(f\"Relative accuracy drop: {relative_drop:.2f}%\")\n",
    "    print(f\"Perturbation rate: {ptb_rate*100:.2f}% of edges\")\n",
    "    print(f\"Effectiveness ratio: {acc_drop/ptb_rate:.4f} (drop per perturbation unit)\")\n",
    "    \n",
    "    # Assessment\n",
    "    if acc_drop > 0.10:\n",
    "        print(\"Attack assessment: Highly effective\")\n",
    "    elif acc_drop > 0.05:\n",
    "        print(\"Attack assessment: Moderately effective\")\n",
    "    elif acc_drop > 0.02:\n",
    "        print(\"Attack assessment: Slightly effective\")\n",
    "    else:\n",
    "        print(\"Attack assessment: Minimally effective\")\n",
    "    \n",
    "    return {\n",
    "        'clean_adj': adj,\n",
    "        'modified_adj': modified_adj,\n",
    "        'clean_acc': clean_acc,\n",
    "        'attacked_acc': attacked_acc,\n",
    "        'accuracy_drop': acc_drop,\n",
    "        'relative_drop': relative_drop,\n",
    "        'effectiveness_ratio': acc_drop/ptb_rate\n",
    "    }"
   ]
  },
  {
   "cell_type": "code",
   "execution_count": 12,
   "id": "60557e99-1892-4944-84ec-ce60f0fb0476",
   "metadata": {},
   "outputs": [
    {
     "name": "stdout",
     "output_type": "stream",
     "text": [
      "=== Training GCN on original(clean) graph ===\n",
      "=== Setting up attack model ===\n",
      "=== Perturbing graph for evasion attack ===\n",
      "=== training surrogate model to predict unlabled data for self-training\n"
     ]
    },
    {
     "name": "stderr",
     "output_type": "stream",
     "text": [
      "Perturbing graph:   3%|█▊                                                               | 7/253 [00:00<00:07, 31.84it/s]"
     ]
    },
    {
     "name": "stdout",
     "output_type": "stream",
     "text": [
      "GCN loss on unlabled data: 1.9424426555633545\n",
      "GCN acc on unlabled data: 0.1529175050301811\n",
      "attack loss: 1.938445806503296\n",
      "GCN loss on unlabled data: 1.9954707622528076\n",
      "GCN acc on unlabled data: 0.11921529175050302\n",
      "attack loss: 1.993355393409729\n",
      "GCN loss on unlabled data: 1.9460983276367188\n",
      "GCN acc on unlabled data: 0.1579476861167002\n",
      "attack loss: 1.9494891166687012\n",
      "GCN loss on unlabled data: 1.9732766151428223\n",
      "GCN acc on unlabled data: 0.1433601609657948\n",
      "attack loss: 1.9742162227630615\n",
      "GCN loss on unlabled data: 1.9716851711273193\n",
      "GCN acc on unlabled data: 0.15392354124748492\n",
      "attack loss: 1.9786776304244995\n",
      "GCN loss on unlabled data: 2.0223653316497803\n",
      "GCN acc on unlabled data: 0.10261569416498995\n",
      "attack loss: 2.020887613296509\n",
      "GCN loss on unlabled data: 1.951534628868103\n",
      "GCN acc on unlabled data: 0.17002012072434608\n",
      "attack loss: 1.9435147047042847\n"
     ]
    },
    {
     "name": "stderr",
     "output_type": "stream",
     "text": [
      "Perturbing graph:   6%|███▊                                                            | 15/253 [00:00<00:06, 34.82it/s]"
     ]
    },
    {
     "name": "stdout",
     "output_type": "stream",
     "text": [
      "GCN loss on unlabled data: 1.964990258216858\n",
      "GCN acc on unlabled data: 0.1267605633802817\n",
      "attack loss: 1.967976689338684\n",
      "GCN loss on unlabled data: 1.9173896312713623\n",
      "GCN acc on unlabled data: 0.25201207243460766\n",
      "attack loss: 1.9163750410079956\n",
      "GCN loss on unlabled data: 1.9755786657333374\n",
      "GCN acc on unlabled data: 0.10110663983903422\n",
      "attack loss: 1.9717317819595337\n",
      "GCN loss on unlabled data: 2.0282528400421143\n",
      "GCN acc on unlabled data: 0.1051307847082495\n",
      "attack loss: 2.0330450534820557\n",
      "GCN loss on unlabled data: 2.018251419067383\n",
      "GCN acc on unlabled data: 0.11468812877263583\n",
      "attack loss: 2.0134027004241943\n",
      "GCN loss on unlabled data: 1.9227910041809082\n",
      "GCN acc on unlabled data: 0.16851106639839036\n",
      "attack loss: 1.9240869283676147\n",
      "GCN loss on unlabled data: 1.9946948289871216\n",
      "GCN acc on unlabled data: 0.0875251509054326\n",
      "attack loss: 1.9988640546798706\n",
      "GCN loss on unlabled data: 2.0041208267211914\n",
      "GCN acc on unlabled data: 0.130784708249497\n",
      "attack loss: 2.0121963024139404\n"
     ]
    },
    {
     "name": "stderr",
     "output_type": "stream",
     "text": [
      "Perturbing graph:   9%|█████▊                                                          | 23/253 [00:00<00:06, 36.56it/s]"
     ]
    },
    {
     "name": "stdout",
     "output_type": "stream",
     "text": [
      "GCN loss on unlabled data: 1.9440891742706299\n",
      "GCN acc on unlabled data: 0.18108651911468815\n",
      "attack loss: 1.948327898979187\n",
      "GCN loss on unlabled data: 2.04691481590271\n",
      "GCN acc on unlabled data: 0.09305835010060363\n",
      "attack loss: 2.0487213134765625\n",
      "GCN loss on unlabled data: 1.9688061475753784\n",
      "GCN acc on unlabled data: 0.09959758551307848\n",
      "attack loss: 1.9692628383636475\n",
      "GCN loss on unlabled data: 1.9014482498168945\n",
      "GCN acc on unlabled data: 0.17857142857142858\n",
      "attack loss: 1.8978543281555176\n",
      "GCN loss on unlabled data: 2.0244555473327637\n",
      "GCN acc on unlabled data: 0.10965794768611671\n",
      "attack loss: 2.018897533416748\n",
      "GCN loss on unlabled data: 2.0155303478240967\n",
      "GCN acc on unlabled data: 0.09708249496981892\n",
      "attack loss: 2.0128653049468994\n",
      "GCN loss on unlabled data: 1.9110562801361084\n",
      "GCN acc on unlabled data: 0.19919517102615697\n",
      "attack loss: 1.90144944190979\n",
      "GCN loss on unlabled data: 2.0169408321380615\n",
      "GCN acc on unlabled data: 0.12022132796780685\n",
      "attack loss: 2.0168707370758057\n"
     ]
    },
    {
     "name": "stderr",
     "output_type": "stream",
     "text": [
      "Perturbing graph:  12%|███████▊                                                        | 31/253 [00:00<00:05, 37.37it/s]"
     ]
    },
    {
     "name": "stdout",
     "output_type": "stream",
     "text": [
      "GCN loss on unlabled data: 1.9336791038513184\n",
      "GCN acc on unlabled data: 0.14235412474849096\n",
      "attack loss: 1.9362695217132568\n",
      "GCN loss on unlabled data: 1.9865318536758423\n",
      "GCN acc on unlabled data: 0.08400402414486922\n",
      "attack loss: 1.9840223789215088\n",
      "GCN loss on unlabled data: 1.9056494235992432\n",
      "GCN acc on unlabled data: 0.18661971830985918\n",
      "attack loss: 1.9061254262924194\n",
      "GCN loss on unlabled data: 1.98152756690979\n",
      "GCN acc on unlabled data: 0.1051307847082495\n",
      "attack loss: 1.9828546047210693\n",
      "GCN loss on unlabled data: 1.9552236795425415\n",
      "GCN acc on unlabled data: 0.12474849094567406\n",
      "attack loss: 1.9514827728271484\n",
      "GCN loss on unlabled data: 1.90066659450531\n",
      "GCN acc on unlabled data: 0.2399396378269618\n",
      "attack loss: 1.8983863592147827\n",
      "GCN loss on unlabled data: 1.9970041513442993\n",
      "GCN acc on unlabled data: 0.14386317907444668\n",
      "attack loss: 2.003915548324585\n",
      "GCN loss on unlabled data: 1.9604272842407227\n",
      "GCN acc on unlabled data: 0.13782696177062376\n",
      "attack loss: 1.9653998613357544\n"
     ]
    },
    {
     "name": "stderr",
     "output_type": "stream",
     "text": [
      "Perturbing graph:  14%|████████▊                                                       | 35/253 [00:00<00:05, 37.62it/s]"
     ]
    },
    {
     "name": "stdout",
     "output_type": "stream",
     "text": [
      "GCN loss on unlabled data: 1.9560678005218506\n",
      "GCN acc on unlabled data: 0.1403420523138833\n",
      "attack loss: 1.9553645849227905\n",
      "GCN loss on unlabled data: 1.9149757623672485\n",
      "GCN acc on unlabled data: 0.2701207243460765\n",
      "attack loss: 1.917990803718567\n",
      "GCN loss on unlabled data: 1.9599264860153198\n",
      "GCN acc on unlabled data: 0.2052313883299799\n",
      "attack loss: 1.9518601894378662\n",
      "GCN loss on unlabled data: 1.910346508026123\n",
      "GCN acc on unlabled data: 0.19768611670020123\n",
      "attack loss: 1.9116911888122559\n",
      "GCN loss on unlabled data: 1.9822548627853394\n",
      "GCN acc on unlabled data: 0.1317907444668008\n",
      "attack loss: 1.9835776090621948\n",
      "GCN loss on unlabled data: 1.9235482215881348\n",
      "GCN acc on unlabled data: 0.1795774647887324\n",
      "attack loss: 1.9158538579940796\n",
      "GCN loss on unlabled data: 1.985001802444458\n",
      "GCN acc on unlabled data: 0.12122736418511068\n",
      "attack loss: 1.9859529733657837\n",
      "GCN loss on unlabled data: 1.956196665763855\n",
      "GCN acc on unlabled data: 0.1574446680080483\n",
      "attack loss: 1.9472906589508057\n",
      "GCN loss on unlabled data: 1.9688184261322021\n",
      "GCN acc on unlabled data: 0.1272635814889336\n",
      "attack loss: 1.969646692276001\n"
     ]
    },
    {
     "name": "stderr",
     "output_type": "stream",
     "text": [
      "Perturbing graph:  18%|███████████▍                                                    | 45/253 [00:01<00:05, 39.14it/s]"
     ]
    },
    {
     "name": "stdout",
     "output_type": "stream",
     "text": [
      "GCN loss on unlabled data: 1.957675576210022\n",
      "GCN acc on unlabled data: 0.17605633802816903\n",
      "attack loss: 1.9534549713134766\n",
      "GCN loss on unlabled data: 1.9725359678268433\n",
      "GCN acc on unlabled data: 0.16247484909456741\n",
      "attack loss: 1.9850995540618896\n",
      "GCN loss on unlabled data: 1.9404773712158203\n",
      "GCN acc on unlabled data: 0.18460764587525152\n",
      "attack loss: 1.9332685470581055\n",
      "GCN loss on unlabled data: 1.9772711992263794\n",
      "GCN acc on unlabled data: 0.10663983903420524\n",
      "attack loss: 1.9720720052719116\n",
      "GCN loss on unlabled data: 1.941292405128479\n",
      "GCN acc on unlabled data: 0.17303822937625757\n",
      "attack loss: 1.9370208978652954\n",
      "GCN loss on unlabled data: 1.965166449546814\n",
      "GCN acc on unlabled data: 0.1926559356136821\n",
      "attack loss: 1.966542363166809\n",
      "GCN loss on unlabled data: 1.9944076538085938\n",
      "GCN acc on unlabled data: 0.11167002012072436\n",
      "attack loss: 1.9812225103378296\n",
      "GCN loss on unlabled data: 2.0054471492767334\n",
      "GCN acc on unlabled data: 0.12877263581488935\n",
      "attack loss: 2.0014419555664062\n",
      "GCN loss on unlabled data: 1.9568370580673218\n",
      "GCN acc on unlabled data: 0.14688128772635817\n",
      "attack loss: 1.9640123844146729\n"
     ]
    },
    {
     "name": "stderr",
     "output_type": "stream",
     "text": [
      "Perturbing graph:  22%|█████████████▉                                                  | 55/253 [00:01<00:05, 39.15it/s]"
     ]
    },
    {
     "name": "stdout",
     "output_type": "stream",
     "text": [
      "GCN loss on unlabled data: 1.9795591831207275\n",
      "GCN acc on unlabled data: 0.15040241448692154\n",
      "attack loss: 1.9862639904022217\n",
      "GCN loss on unlabled data: 1.9333242177963257\n",
      "GCN acc on unlabled data: 0.18158953722334006\n",
      "attack loss: 1.9329649209976196\n",
      "GCN loss on unlabled data: 1.9855529069900513\n",
      "GCN acc on unlabled data: 0.11871227364185112\n",
      "attack loss: 1.9846867322921753\n",
      "GCN loss on unlabled data: 1.9032914638519287\n",
      "GCN acc on unlabled data: 0.21981891348088534\n",
      "attack loss: 1.9008702039718628\n",
      "GCN loss on unlabled data: 1.9343301057815552\n",
      "GCN acc on unlabled data: 0.18762575452716299\n",
      "attack loss: 1.934622049331665\n",
      "GCN loss on unlabled data: 2.0018889904022217\n",
      "GCN acc on unlabled data: 0.1267605633802817\n",
      "attack loss: 2.0052294731140137\n",
      "GCN loss on unlabled data: 1.9834166765213013\n",
      "GCN acc on unlabled data: 0.1006036217303823\n",
      "attack loss: 1.9809268712997437\n",
      "GCN loss on unlabled data: 1.927987813949585\n",
      "GCN acc on unlabled data: 0.2183098591549296\n",
      "attack loss: 1.9268264770507812\n"
     ]
    },
    {
     "name": "stderr",
     "output_type": "stream",
     "text": [
      "Perturbing graph:  26%|████████████████▍                                               | 65/253 [00:01<00:04, 39.94it/s]"
     ]
    },
    {
     "name": "stdout",
     "output_type": "stream",
     "text": [
      "GCN loss on unlabled data: 1.9951529502868652\n",
      "GCN acc on unlabled data: 0.12374245472837023\n",
      "attack loss: 1.9957854747772217\n",
      "GCN loss on unlabled data: 1.9831528663635254\n",
      "GCN acc on unlabled data: 0.09808853118712274\n",
      "attack loss: 1.9784555435180664\n",
      "GCN loss on unlabled data: 2.023817539215088\n",
      "GCN acc on unlabled data: 0.07545271629778673\n",
      "attack loss: 2.022615909576416\n",
      "GCN loss on unlabled data: 1.9356493949890137\n",
      "GCN acc on unlabled data: 0.1529175050301811\n",
      "attack loss: 1.9343788623809814\n",
      "GCN loss on unlabled data: 2.0062036514282227\n",
      "GCN acc on unlabled data: 0.10211267605633803\n",
      "attack loss: 2.001100778579712\n",
      "GCN loss on unlabled data: 1.9158191680908203\n",
      "GCN acc on unlabled data: 0.17706237424547286\n",
      "attack loss: 1.9176650047302246\n",
      "GCN loss on unlabled data: 1.9507808685302734\n",
      "GCN acc on unlabled data: 0.17605633802816903\n",
      "attack loss: 1.9471664428710938\n",
      "GCN loss on unlabled data: 1.91679847240448\n",
      "GCN acc on unlabled data: 0.21277665995975856\n",
      "attack loss: 1.9140053987503052\n",
      "GCN loss on unlabled data: 1.9252184629440308\n",
      "GCN acc on unlabled data: 0.1971830985915493\n",
      "attack loss: 1.9303196668624878\n"
     ]
    },
    {
     "name": "stderr",
     "output_type": "stream",
     "text": [
      "Perturbing graph:  30%|██████████████████▉                                             | 75/253 [00:01<00:04, 40.28it/s]"
     ]
    },
    {
     "name": "stdout",
     "output_type": "stream",
     "text": [
      "GCN loss on unlabled data: 1.9783800840377808\n",
      "GCN acc on unlabled data: 0.13430583501006038\n",
      "attack loss: 1.9836691617965698\n",
      "GCN loss on unlabled data: 1.9554543495178223\n",
      "GCN acc on unlabled data: 0.14386317907444668\n",
      "attack loss: 1.957747459411621\n",
      "GCN loss on unlabled data: 1.955538272857666\n",
      "GCN acc on unlabled data: 0.14989939637826963\n",
      "attack loss: 1.961342692375183\n",
      "GCN loss on unlabled data: 1.9548343420028687\n",
      "GCN acc on unlabled data: 0.16398390342052316\n",
      "attack loss: 1.9478482007980347\n",
      "GCN loss on unlabled data: 1.9640973806381226\n",
      "GCN acc on unlabled data: 0.164989939637827\n",
      "attack loss: 1.9731812477111816\n",
      "GCN loss on unlabled data: 1.9732730388641357\n",
      "GCN acc on unlabled data: 0.13531187122736418\n",
      "attack loss: 1.970390796661377\n",
      "GCN loss on unlabled data: 2.05741024017334\n",
      "GCN acc on unlabled data: 0.06338028169014084\n",
      "attack loss: 2.067352294921875\n",
      "GCN loss on unlabled data: 2.0064241886138916\n",
      "GCN acc on unlabled data: 0.08702213279678069\n",
      "attack loss: 2.0095882415771484\n",
      "GCN loss on unlabled data: 1.9692575931549072\n",
      "GCN acc on unlabled data: 0.1348088531187123\n",
      "attack loss: 1.9647527933120728\n"
     ]
    },
    {
     "name": "stderr",
     "output_type": "stream",
     "text": [
      "Perturbing graph:  32%|████████████████████▏                                           | 80/253 [00:02<00:04, 40.43it/s]"
     ]
    },
    {
     "name": "stdout",
     "output_type": "stream",
     "text": [
      "GCN loss on unlabled data: 2.003988742828369\n",
      "GCN acc on unlabled data: 0.1262575452716298\n",
      "attack loss: 2.0032875537872314\n",
      "GCN loss on unlabled data: 2.015249490737915\n",
      "GCN acc on unlabled data: 0.07746478873239437\n",
      "attack loss: 2.0142829418182373\n",
      "GCN loss on unlabled data: 1.9867770671844482\n",
      "GCN acc on unlabled data: 0.130784708249497\n",
      "attack loss: 1.9757815599441528\n",
      "GCN loss on unlabled data: 1.9586241245269775\n",
      "GCN acc on unlabled data: 0.16700201207243462\n",
      "attack loss: 1.9573893547058105\n",
      "GCN loss on unlabled data: 1.9331752061843872\n",
      "GCN acc on unlabled data: 0.21579476861167005\n",
      "attack loss: 1.9328320026397705\n",
      "GCN loss on unlabled data: 1.9578288793563843\n",
      "GCN acc on unlabled data: 0.10311871227364186\n",
      "attack loss: 1.954912781715393\n",
      "GCN loss on unlabled data: 1.9281706809997559\n",
      "GCN acc on unlabled data: 0.1579476861167002\n",
      "attack loss: 1.9316582679748535\n",
      "GCN loss on unlabled data: 1.9953675270080566\n",
      "GCN acc on unlabled data: 0.12525150905432597\n",
      "attack loss: 1.9905043840408325\n",
      "GCN loss on unlabled data: 1.9506916999816895\n",
      "GCN acc on unlabled data: 0.18913480885311873\n",
      "attack loss: 1.9497827291488647\n"
     ]
    },
    {
     "name": "stderr",
     "output_type": "stream",
     "text": [
      "Perturbing graph:  36%|██████████████████████▊                                         | 90/253 [00:02<00:04, 40.63it/s]"
     ]
    },
    {
     "name": "stdout",
     "output_type": "stream",
     "text": [
      "GCN loss on unlabled data: 1.9458526372909546\n",
      "GCN acc on unlabled data: 0.147887323943662\n",
      "attack loss: 1.9441360235214233\n",
      "GCN loss on unlabled data: 1.9937134981155396\n",
      "GCN acc on unlabled data: 0.10462776659959759\n",
      "attack loss: 1.9866245985031128\n",
      "GCN loss on unlabled data: 1.94077730178833\n",
      "GCN acc on unlabled data: 0.21227364185110667\n",
      "attack loss: 1.9451019763946533\n",
      "GCN loss on unlabled data: 1.9948128461837769\n",
      "GCN acc on unlabled data: 0.1564386317907445\n",
      "attack loss: 1.9939613342285156\n",
      "GCN loss on unlabled data: 1.9435076713562012\n",
      "GCN acc on unlabled data: 0.15995975855130787\n",
      "attack loss: 1.940446138381958\n",
      "GCN loss on unlabled data: 2.0321474075317383\n",
      "GCN acc on unlabled data: 0.1051307847082495\n",
      "attack loss: 2.0354933738708496\n",
      "GCN loss on unlabled data: 1.9695976972579956\n",
      "GCN acc on unlabled data: 0.12323943661971833\n",
      "attack loss: 1.969076156616211\n",
      "GCN loss on unlabled data: 1.9451175928115845\n",
      "GCN acc on unlabled data: 0.1574446680080483\n",
      "attack loss: 1.9362276792526245\n",
      "GCN loss on unlabled data: 2.000969171524048\n",
      "GCN acc on unlabled data: 0.1448692152917505\n",
      "attack loss: 2.0092713832855225\n"
     ]
    },
    {
     "name": "stderr",
     "output_type": "stream",
     "text": [
      "Perturbing graph:  40%|████████████████████████▉                                      | 100/253 [00:02<00:03, 40.61it/s]"
     ]
    },
    {
     "name": "stdout",
     "output_type": "stream",
     "text": [
      "GCN loss on unlabled data: 1.9820213317871094\n",
      "GCN acc on unlabled data: 0.10110663983903422\n",
      "attack loss: 1.9779177904129028\n",
      "GCN loss on unlabled data: 1.9361625909805298\n",
      "GCN acc on unlabled data: 0.22183098591549297\n",
      "attack loss: 1.93648362159729\n",
      "GCN loss on unlabled data: 2.004499673843384\n",
      "GCN acc on unlabled data: 0.14587525150905434\n",
      "attack loss: 2.0122268199920654\n",
      "GCN loss on unlabled data: 1.9562082290649414\n",
      "GCN acc on unlabled data: 0.15040241448692154\n",
      "attack loss: 1.9580949544906616\n",
      "GCN loss on unlabled data: 1.969467282295227\n",
      "GCN acc on unlabled data: 0.147887323943662\n",
      "attack loss: 1.9600790739059448\n",
      "GCN loss on unlabled data: 1.940055012702942\n",
      "GCN acc on unlabled data: 0.16146881287726358\n",
      "attack loss: 1.942987322807312\n",
      "GCN loss on unlabled data: 2.0111052989959717\n",
      "GCN acc on unlabled data: 0.09808853118712274\n",
      "attack loss: 2.005983591079712\n",
      "GCN loss on unlabled data: 1.9798864126205444\n",
      "GCN acc on unlabled data: 0.09909456740442657\n",
      "attack loss: 1.973766803741455\n",
      "GCN loss on unlabled data: 2.0122547149658203\n",
      "GCN acc on unlabled data: 0.06690140845070423\n",
      "attack loss: 2.015864372253418\n"
     ]
    },
    {
     "name": "stderr",
     "output_type": "stream",
     "text": [
      "Perturbing graph:  43%|███████████████████████████▍                                   | 110/253 [00:02<00:03, 40.60it/s]"
     ]
    },
    {
     "name": "stdout",
     "output_type": "stream",
     "text": [
      "GCN loss on unlabled data: 1.9441543817520142\n",
      "GCN acc on unlabled data: 0.19114688128772636\n",
      "attack loss: 1.9427282810211182\n",
      "GCN loss on unlabled data: 1.9186336994171143\n",
      "GCN acc on unlabled data: 0.2052313883299799\n",
      "attack loss: 1.9153337478637695\n",
      "GCN loss on unlabled data: 1.9573194980621338\n",
      "GCN acc on unlabled data: 0.08903420523138834\n",
      "attack loss: 1.951192855834961\n",
      "GCN loss on unlabled data: 1.9375250339508057\n",
      "GCN acc on unlabled data: 0.1966800804828974\n",
      "attack loss: 1.9393020868301392\n",
      "GCN loss on unlabled data: 2.0391416549682617\n",
      "GCN acc on unlabled data: 0.12927565392354126\n",
      "attack loss: 2.0422582626342773\n",
      "GCN loss on unlabled data: 1.9606386423110962\n",
      "GCN acc on unlabled data: 0.13832997987927567\n",
      "attack loss: 1.9550632238388062\n",
      "GCN loss on unlabled data: 1.9780330657958984\n",
      "GCN acc on unlabled data: 0.12575452716297789\n",
      "attack loss: 1.9697554111480713\n",
      "GCN loss on unlabled data: 1.9431560039520264\n",
      "GCN acc on unlabled data: 0.17655935613682094\n",
      "attack loss: 1.9521526098251343\n",
      "GCN loss on unlabled data: 1.9678657054901123\n",
      "GCN acc on unlabled data: 0.12323943661971833\n",
      "attack loss: 1.9702718257904053\n"
     ]
    },
    {
     "name": "stderr",
     "output_type": "stream",
     "text": [
      "Perturbing graph:  47%|█████████████████████████████▉                                 | 120/253 [00:03<00:03, 40.66it/s]"
     ]
    },
    {
     "name": "stdout",
     "output_type": "stream",
     "text": [
      "GCN loss on unlabled data: 2.0206212997436523\n",
      "GCN acc on unlabled data: 0.08651911468812878\n",
      "attack loss: 2.0161643028259277\n",
      "GCN loss on unlabled data: 1.9147772789001465\n",
      "GCN acc on unlabled data: 0.1926559356136821\n",
      "attack loss: 1.905505895614624\n",
      "GCN loss on unlabled data: 1.9473164081573486\n",
      "GCN acc on unlabled data: 0.1921529175050302\n",
      "attack loss: 1.9458822011947632\n",
      "GCN loss on unlabled data: 1.9833847284317017\n",
      "GCN acc on unlabled data: 0.12273641851106641\n",
      "attack loss: 1.990002155303955\n",
      "GCN loss on unlabled data: 1.9638605117797852\n",
      "GCN acc on unlabled data: 0.13279678068410464\n",
      "attack loss: 1.9605581760406494\n",
      "GCN loss on unlabled data: 2.002483606338501\n",
      "GCN acc on unlabled data: 0.09657947686116701\n",
      "attack loss: 2.0102787017822266\n",
      "GCN loss on unlabled data: 2.031475782394409\n",
      "GCN acc on unlabled data: 0.09557344064386318\n",
      "attack loss: 2.027662515640259\n",
      "GCN loss on unlabled data: 1.9542821645736694\n",
      "GCN acc on unlabled data: 0.20623742454728372\n",
      "attack loss: 1.9508166313171387\n",
      "GCN loss on unlabled data: 2.039137840270996\n",
      "GCN acc on unlabled data: 0.10965794768611671\n",
      "attack loss: 2.03686785697937\n"
     ]
    },
    {
     "name": "stderr",
     "output_type": "stream",
     "text": [
      "Perturbing graph:  49%|███████████████████████████████▏                               | 125/253 [00:03<00:03, 40.59it/s]"
     ]
    },
    {
     "name": "stdout",
     "output_type": "stream",
     "text": [
      "GCN loss on unlabled data: 1.9376870393753052\n",
      "GCN acc on unlabled data: 0.17756539235412477\n",
      "attack loss: 1.9429713487625122\n",
      "GCN loss on unlabled data: 1.9864404201507568\n",
      "GCN acc on unlabled data: 0.12022132796780685\n",
      "attack loss: 1.9932855367660522\n",
      "GCN loss on unlabled data: 1.9813909530639648\n",
      "GCN acc on unlabled data: 0.15090543259557346\n",
      "attack loss: 1.9864505529403687\n",
      "GCN loss on unlabled data: 1.9291988611221313\n",
      "GCN acc on unlabled data: 0.20271629778672035\n",
      "attack loss: 1.9289392232894897\n",
      "GCN loss on unlabled data: 1.9299430847167969\n",
      "GCN acc on unlabled data: 0.19014084507042256\n",
      "attack loss: 1.927764654159546\n",
      "GCN loss on unlabled data: 1.9478507041931152\n",
      "GCN acc on unlabled data: 0.18309859154929578\n",
      "attack loss: 1.9451721906661987\n",
      "GCN loss on unlabled data: 1.9944924116134644\n",
      "GCN acc on unlabled data: 0.12927565392354126\n",
      "attack loss: 1.9914817810058594\n",
      "GCN loss on unlabled data: 1.9225600957870483\n",
      "GCN acc on unlabled data: 0.19014084507042256\n",
      "attack loss: 1.936696171760559\n",
      "GCN loss on unlabled data: 1.934665322303772\n",
      "GCN acc on unlabled data: 0.164989939637827\n",
      "attack loss: 1.9352589845657349\n"
     ]
    },
    {
     "name": "stderr",
     "output_type": "stream",
     "text": [
      "Perturbing graph:  53%|█████████████████████████████████▌                             | 135/253 [00:03<00:02, 40.29it/s]"
     ]
    },
    {
     "name": "stdout",
     "output_type": "stream",
     "text": [
      "GCN loss on unlabled data: 1.9855942726135254\n",
      "GCN acc on unlabled data: 0.13329979879275655\n",
      "attack loss: 1.9839760065078735\n",
      "GCN loss on unlabled data: 1.9541091918945312\n",
      "GCN acc on unlabled data: 0.13430583501006038\n",
      "attack loss: 1.955335021018982\n",
      "GCN loss on unlabled data: 1.9982088804244995\n",
      "GCN acc on unlabled data: 0.11519114688128773\n",
      "attack loss: 1.9958051443099976\n",
      "GCN loss on unlabled data: 1.9365464448928833\n",
      "GCN acc on unlabled data: 0.1790744466800805\n",
      "attack loss: 1.9384766817092896\n",
      "GCN loss on unlabled data: 1.9465357065200806\n",
      "GCN acc on unlabled data: 0.15593561368209258\n",
      "attack loss: 1.9504142999649048\n",
      "GCN loss on unlabled data: 1.9178141355514526\n",
      "GCN acc on unlabled data: 0.19064386317907447\n",
      "attack loss: 1.9137266874313354\n",
      "GCN loss on unlabled data: 1.9965848922729492\n",
      "GCN acc on unlabled data: 0.11167002012072436\n",
      "attack loss: 1.9948475360870361\n",
      "GCN loss on unlabled data: 1.9753828048706055\n",
      "GCN acc on unlabled data: 0.10965794768611671\n",
      "attack loss: 1.9741016626358032\n",
      "GCN loss on unlabled data: 1.9286233186721802\n",
      "GCN acc on unlabled data: 0.17756539235412477\n",
      "attack loss: 1.9322181940078735\n"
     ]
    },
    {
     "name": "stderr",
     "output_type": "stream",
     "text": [
      "Perturbing graph:  57%|████████████████████████████████████                           | 145/253 [00:03<00:02, 40.20it/s]"
     ]
    },
    {
     "name": "stdout",
     "output_type": "stream",
     "text": [
      "GCN loss on unlabled data: 1.9942593574523926\n",
      "GCN acc on unlabled data: 0.10613682092555334\n",
      "attack loss: 1.997860074043274\n",
      "GCN loss on unlabled data: 1.9903535842895508\n",
      "GCN acc on unlabled data: 0.11116700201207244\n",
      "attack loss: 1.9886775016784668\n",
      "GCN loss on unlabled data: 1.9992107152938843\n",
      "GCN acc on unlabled data: 0.08802816901408451\n",
      "attack loss: 2.012989044189453\n",
      "GCN loss on unlabled data: 1.907663106918335\n",
      "GCN acc on unlabled data: 0.20724346076458755\n",
      "attack loss: 1.912548303604126\n",
      "GCN loss on unlabled data: 2.0291860103607178\n",
      "GCN acc on unlabled data: 0.10462776659959759\n",
      "attack loss: 2.0380852222442627\n",
      "GCN loss on unlabled data: 1.9572343826293945\n",
      "GCN acc on unlabled data: 0.15895372233400404\n",
      "attack loss: 1.9568637609481812\n",
      "GCN loss on unlabled data: 1.9611777067184448\n",
      "GCN acc on unlabled data: 0.13732394366197184\n",
      "attack loss: 1.9490758180618286\n",
      "GCN loss on unlabled data: 2.009984016418457\n",
      "GCN acc on unlabled data: 0.12575452716297789\n",
      "attack loss: 2.012533187866211\n",
      "GCN loss on unlabled data: 1.9838861227035522\n",
      "GCN acc on unlabled data: 0.15392354124748492\n",
      "attack loss: 1.9837812185287476\n"
     ]
    },
    {
     "name": "stderr",
     "output_type": "stream",
     "text": [
      "Perturbing graph:  61%|██████████████████████████████████████▌                        | 155/253 [00:03<00:02, 40.26it/s]"
     ]
    },
    {
     "name": "stdout",
     "output_type": "stream",
     "text": [
      "GCN loss on unlabled data: 1.9914891719818115\n",
      "GCN acc on unlabled data: 0.13430583501006038\n",
      "attack loss: 2.000270128250122\n",
      "GCN loss on unlabled data: 1.9697904586791992\n",
      "GCN acc on unlabled data: 0.14185110663983905\n",
      "attack loss: 1.970470905303955\n",
      "GCN loss on unlabled data: 2.0557620525360107\n",
      "GCN acc on unlabled data: 0.06790744466800805\n",
      "attack loss: 2.0464744567871094\n",
      "GCN loss on unlabled data: 1.9344005584716797\n",
      "GCN acc on unlabled data: 0.18762575452716299\n",
      "attack loss: 1.9362220764160156\n",
      "GCN loss on unlabled data: 1.9893492460250854\n",
      "GCN acc on unlabled data: 0.12374245472837023\n",
      "attack loss: 1.9823434352874756\n",
      "GCN loss on unlabled data: 1.9513599872589111\n",
      "GCN acc on unlabled data: 0.15895372233400404\n",
      "attack loss: 1.9507156610488892\n",
      "GCN loss on unlabled data: 1.9814141988754272\n",
      "GCN acc on unlabled data: 0.15442655935613683\n",
      "attack loss: 1.9733911752700806\n",
      "GCN loss on unlabled data: 1.9963189363479614\n",
      "GCN acc on unlabled data: 0.09708249496981892\n",
      "attack loss: 2.003872871398926\n",
      "GCN loss on unlabled data: 1.9595884084701538\n",
      "GCN acc on unlabled data: 0.1358148893360161\n",
      "attack loss: 1.9546496868133545\n"
     ]
    },
    {
     "name": "stderr",
     "output_type": "stream",
     "text": [
      "Perturbing graph:  65%|█████████████████████████████████████████                      | 165/253 [00:04<00:02, 40.37it/s]"
     ]
    },
    {
     "name": "stdout",
     "output_type": "stream",
     "text": [
      "GCN loss on unlabled data: 1.9779045581817627\n",
      "GCN acc on unlabled data: 0.1388329979879276\n",
      "attack loss: 1.9727976322174072\n",
      "GCN loss on unlabled data: 1.966676950454712\n",
      "GCN acc on unlabled data: 0.153420523138833\n",
      "attack loss: 1.9594039916992188\n",
      "GCN loss on unlabled data: 1.9663896560668945\n",
      "GCN acc on unlabled data: 0.17002012072434608\n",
      "attack loss: 1.966341257095337\n",
      "GCN loss on unlabled data: 1.9461249113082886\n",
      "GCN acc on unlabled data: 0.1790744466800805\n",
      "attack loss: 1.9471385478973389\n",
      "GCN loss on unlabled data: 1.955916166305542\n",
      "GCN acc on unlabled data: 0.1529175050301811\n",
      "attack loss: 1.9511367082595825\n",
      "GCN loss on unlabled data: 1.9902727603912354\n",
      "GCN acc on unlabled data: 0.1051307847082495\n",
      "attack loss: 1.9879964590072632\n",
      "GCN loss on unlabled data: 1.9900541305541992\n",
      "GCN acc on unlabled data: 0.11569416498993965\n",
      "attack loss: 1.985568642616272\n",
      "GCN loss on unlabled data: 1.9855836629867554\n",
      "GCN acc on unlabled data: 0.1398390342052314\n",
      "attack loss: 1.9784561395645142\n",
      "GCN loss on unlabled data: 1.9158471822738647\n",
      "GCN acc on unlabled data: 0.22484909456740446\n",
      "attack loss: 1.9195467233657837\n"
     ]
    },
    {
     "name": "stderr",
     "output_type": "stream",
     "text": [
      "Perturbing graph:  67%|██████████████████████████████████████████▎                    | 170/253 [00:04<00:02, 40.34it/s]"
     ]
    },
    {
     "name": "stdout",
     "output_type": "stream",
     "text": [
      "GCN loss on unlabled data: 2.000930070877075\n",
      "GCN acc on unlabled data: 0.1317907444668008\n",
      "attack loss: 2.0012519359588623\n",
      "GCN loss on unlabled data: 2.0120482444763184\n",
      "GCN acc on unlabled data: 0.10412474849094568\n",
      "attack loss: 2.010565996170044\n",
      "GCN loss on unlabled data: 2.014577865600586\n",
      "GCN acc on unlabled data: 0.13782696177062376\n",
      "attack loss: 2.0124967098236084\n",
      "GCN loss on unlabled data: 2.0068886280059814\n",
      "GCN acc on unlabled data: 0.12776659959758552\n",
      "attack loss: 2.0054984092712402\n",
      "GCN loss on unlabled data: 1.9529584646224976\n",
      "GCN acc on unlabled data: 0.19869215291750505\n",
      "attack loss: 1.9552887678146362\n",
      "GCN loss on unlabled data: 1.9609733819961548\n",
      "GCN acc on unlabled data: 0.12122736418511068\n",
      "attack loss: 1.9536689519882202\n",
      "GCN loss on unlabled data: 2.0034656524658203\n",
      "GCN acc on unlabled data: 0.11317907444668009\n",
      "attack loss: 1.996511459350586\n",
      "GCN loss on unlabled data: 1.9744547605514526\n",
      "GCN acc on unlabled data: 0.16750503018108653\n",
      "attack loss: 1.9786708354949951\n",
      "GCN loss on unlabled data: 1.9414873123168945\n",
      "GCN acc on unlabled data: 0.19114688128772636\n",
      "attack loss: 1.9438472986221313\n"
     ]
    },
    {
     "name": "stderr",
     "output_type": "stream",
     "text": [
      "Perturbing graph:  71%|████████████████████████████████████████████▊                  | 180/253 [00:04<00:01, 40.43it/s]"
     ]
    },
    {
     "name": "stdout",
     "output_type": "stream",
     "text": [
      "GCN loss on unlabled data: 1.9988622665405273\n",
      "GCN acc on unlabled data: 0.11267605633802819\n",
      "attack loss: 2.0010907649993896\n",
      "GCN loss on unlabled data: 1.9437252283096313\n",
      "GCN acc on unlabled data: 0.1971830985915493\n",
      "attack loss: 1.9390895366668701\n",
      "GCN loss on unlabled data: 1.9825539588928223\n",
      "GCN acc on unlabled data: 0.11418511066398392\n",
      "attack loss: 1.9849952459335327\n",
      "GCN loss on unlabled data: 1.9908417463302612\n",
      "GCN acc on unlabled data: 0.113682092555332\n",
      "attack loss: 2.007157325744629\n",
      "GCN loss on unlabled data: 1.9776949882507324\n",
      "GCN acc on unlabled data: 0.13782696177062376\n",
      "attack loss: 1.970544695854187\n",
      "GCN loss on unlabled data: 1.9805749654769897\n",
      "GCN acc on unlabled data: 0.1182092555331992\n",
      "attack loss: 1.9813437461853027\n",
      "GCN loss on unlabled data: 1.9906318187713623\n",
      "GCN acc on unlabled data: 0.10714285714285715\n",
      "attack loss: 1.995288372039795\n",
      "GCN loss on unlabled data: 1.9562604427337646\n",
      "GCN acc on unlabled data: 0.16146881287726358\n",
      "attack loss: 1.9633756875991821\n",
      "GCN loss on unlabled data: 1.9487037658691406\n",
      "GCN acc on unlabled data: 0.13682092555331993\n",
      "attack loss: 1.9523476362228394\n"
     ]
    },
    {
     "name": "stderr",
     "output_type": "stream",
     "text": [
      "Perturbing graph:  75%|███████████████████████████████████████████████▎               | 190/253 [00:04<00:01, 40.43it/s]"
     ]
    },
    {
     "name": "stdout",
     "output_type": "stream",
     "text": [
      "GCN loss on unlabled data: 2.049086093902588\n",
      "GCN acc on unlabled data: 0.07595573440643864\n",
      "attack loss: 2.046462059020996\n",
      "GCN loss on unlabled data: 1.9450737237930298\n",
      "GCN acc on unlabled data: 0.22233400402414488\n",
      "attack loss: 1.9502326250076294\n",
      "GCN loss on unlabled data: 1.9534233808517456\n",
      "GCN acc on unlabled data: 0.15492957746478875\n",
      "attack loss: 1.9442654848098755\n",
      "GCN loss on unlabled data: 1.9641327857971191\n",
      "GCN acc on unlabled data: 0.1091549295774648\n",
      "attack loss: 1.9713029861450195\n",
      "GCN loss on unlabled data: 1.9818063974380493\n",
      "GCN acc on unlabled data: 0.12474849094567406\n",
      "attack loss: 1.9824156761169434\n",
      "GCN loss on unlabled data: 1.9775768518447876\n",
      "GCN acc on unlabled data: 0.11167002012072436\n",
      "attack loss: 1.9721133708953857\n",
      "GCN loss on unlabled data: 1.983052134513855\n",
      "GCN acc on unlabled data: 0.130784708249497\n",
      "attack loss: 1.9768259525299072\n",
      "GCN loss on unlabled data: 1.9747920036315918\n",
      "GCN acc on unlabled data: 0.15593561368209258\n",
      "attack loss: 1.9749237298965454\n",
      "GCN loss on unlabled data: 1.9888551235198975\n",
      "GCN acc on unlabled data: 0.12022132796780685\n",
      "attack loss: 1.9872989654541016\n"
     ]
    },
    {
     "name": "stderr",
     "output_type": "stream",
     "text": [
      "Perturbing graph:  79%|█████████████████████████████████████████████████▊             | 200/253 [00:05<00:01, 40.28it/s]"
     ]
    },
    {
     "name": "stdout",
     "output_type": "stream",
     "text": [
      "GCN loss on unlabled data: 2.0558042526245117\n",
      "GCN acc on unlabled data: 0.10160965794768613\n",
      "attack loss: 2.0595524311065674\n",
      "GCN loss on unlabled data: 1.9364712238311768\n",
      "GCN acc on unlabled data: 0.1795774647887324\n",
      "attack loss: 1.9338940382003784\n",
      "GCN loss on unlabled data: 2.0682101249694824\n",
      "GCN acc on unlabled data: 0.07092555331991952\n",
      "attack loss: 2.0745558738708496\n",
      "GCN loss on unlabled data: 1.9809437990188599\n",
      "GCN acc on unlabled data: 0.10563380281690142\n",
      "attack loss: 1.986020803451538\n",
      "GCN loss on unlabled data: 1.9840803146362305\n",
      "GCN acc on unlabled data: 0.12424547283702214\n",
      "attack loss: 1.9862887859344482\n",
      "GCN loss on unlabled data: 2.0051355361938477\n",
      "GCN acc on unlabled data: 0.12022132796780685\n",
      "attack loss: 2.0099937915802\n",
      "GCN loss on unlabled data: 1.9992873668670654\n",
      "GCN acc on unlabled data: 0.10965794768611671\n",
      "attack loss: 2.0052051544189453\n",
      "GCN loss on unlabled data: 1.8928087949752808\n",
      "GCN acc on unlabled data: 0.28118712273641855\n",
      "attack loss: 1.8883490562438965\n",
      "GCN loss on unlabled data: 1.999066948890686\n"
     ]
    },
    {
     "name": "stderr",
     "output_type": "stream",
     "text": [
      "Perturbing graph:  81%|███████████████████████████████████████████████████            | 205/253 [00:05<00:01, 40.10it/s]"
     ]
    },
    {
     "name": "stdout",
     "output_type": "stream",
     "text": [
      "GCN acc on unlabled data: 0.12575452716297789\n",
      "attack loss: 2.0050718784332275\n",
      "GCN loss on unlabled data: 2.0459706783294678\n",
      "GCN acc on unlabled data: 0.08148893360160966\n",
      "attack loss: 2.0402588844299316\n",
      "GCN loss on unlabled data: 1.9932435750961304\n",
      "GCN acc on unlabled data: 0.13732394366197184\n",
      "attack loss: 2.0004782676696777\n",
      "GCN loss on unlabled data: 1.975598931312561\n",
      "GCN acc on unlabled data: 0.13531187122736418\n",
      "attack loss: 1.9782435894012451\n",
      "GCN loss on unlabled data: 1.937888264656067\n",
      "GCN acc on unlabled data: 0.19315895372233402\n",
      "attack loss: 1.926771640777588\n",
      "GCN loss on unlabled data: 1.9574437141418457\n",
      "GCN acc on unlabled data: 0.14587525150905434\n",
      "attack loss: 1.9629625082015991\n",
      "GCN loss on unlabled data: 1.9474382400512695\n",
      "GCN acc on unlabled data: 0.1664989939637827\n",
      "attack loss: 1.9501564502716064\n",
      "GCN loss on unlabled data: 1.968498945236206\n",
      "GCN acc on unlabled data: 0.13782696177062376\n",
      "attack loss: 1.968457818031311\n",
      "GCN loss on unlabled data: 1.9630006551742554\n",
      "GCN acc on unlabled data: 0.13732394366197184\n",
      "attack loss: 1.9706476926803589\n"
     ]
    },
    {
     "name": "stderr",
     "output_type": "stream",
     "text": [
      "Perturbing graph:  85%|█████████████████████████████████████████████████████▎         | 214/253 [00:05<00:00, 39.91it/s]"
     ]
    },
    {
     "name": "stdout",
     "output_type": "stream",
     "text": [
      "GCN loss on unlabled data: 1.9603524208068848\n",
      "GCN acc on unlabled data: 0.1262575452716298\n",
      "attack loss: 1.9648717641830444\n",
      "GCN loss on unlabled data: 1.9594392776489258\n",
      "GCN acc on unlabled data: 0.15593561368209258\n",
      "attack loss: 1.948398232460022\n",
      "GCN loss on unlabled data: 1.9348723888397217\n",
      "GCN acc on unlabled data: 0.15845070422535212\n",
      "attack loss: 1.9326262474060059\n",
      "GCN loss on unlabled data: 1.9888248443603516\n",
      "GCN acc on unlabled data: 0.14386317907444668\n",
      "attack loss: 1.9906045198440552\n",
      "GCN loss on unlabled data: 1.9858229160308838\n",
      "GCN acc on unlabled data: 0.11720321931589538\n",
      "attack loss: 1.9846291542053223\n",
      "GCN loss on unlabled data: 1.9846923351287842\n",
      "GCN acc on unlabled data: 0.14839034205231388\n",
      "attack loss: 1.9888824224472046\n",
      "GCN loss on unlabled data: 1.9479762315750122\n",
      "GCN acc on unlabled data: 0.16901408450704228\n",
      "attack loss: 1.9447826147079468\n",
      "GCN loss on unlabled data: 1.9454370737075806\n",
      "GCN acc on unlabled data: 0.21277665995975856\n",
      "attack loss: 1.9416351318359375\n"
     ]
    },
    {
     "name": "stderr",
     "output_type": "stream",
     "text": [
      "Perturbing graph:  88%|███████████████████████████████████████████████████████▎       | 222/253 [00:05<00:00, 39.87it/s]"
     ]
    },
    {
     "name": "stdout",
     "output_type": "stream",
     "text": [
      "GCN loss on unlabled data: 1.9502661228179932\n",
      "GCN acc on unlabled data: 0.15694164989939638\n",
      "attack loss: 1.9478338956832886\n",
      "GCN loss on unlabled data: 1.9676507711410522\n",
      "GCN acc on unlabled data: 0.13832997987927567\n",
      "attack loss: 1.968545913696289\n",
      "GCN loss on unlabled data: 1.9755924940109253\n",
      "GCN acc on unlabled data: 0.12776659959758552\n",
      "attack loss: 1.9828822612762451\n",
      "GCN loss on unlabled data: 1.9410011768341064\n",
      "GCN acc on unlabled data: 0.1780684104627767\n",
      "attack loss: 1.939417839050293\n",
      "GCN loss on unlabled data: 1.990416169166565\n",
      "GCN acc on unlabled data: 0.11619718309859156\n",
      "attack loss: 1.9921256303787231\n",
      "GCN loss on unlabled data: 1.9279046058654785\n",
      "GCN acc on unlabled data: 0.21126760563380284\n",
      "attack loss: 1.9256250858306885\n",
      "GCN loss on unlabled data: 1.9444351196289062\n",
      "GCN acc on unlabled data: 0.136317907444668\n",
      "attack loss: 1.9483364820480347\n",
      "GCN loss on unlabled data: 1.9607102870941162\n",
      "GCN acc on unlabled data: 0.1529175050301811\n",
      "attack loss: 1.950231671333313\n"
     ]
    },
    {
     "name": "stderr",
     "output_type": "stream",
     "text": [
      "Perturbing graph:  91%|█████████████████████████████████████████████████████████▎     | 230/253 [00:05<00:00, 39.79it/s]"
     ]
    },
    {
     "name": "stdout",
     "output_type": "stream",
     "text": [
      "GCN loss on unlabled data: 1.975150227546692\n",
      "GCN acc on unlabled data: 0.10160965794768613\n",
      "attack loss: 1.9747573137283325\n",
      "GCN loss on unlabled data: 1.9686954021453857\n",
      "GCN acc on unlabled data: 0.16046277665995978\n",
      "attack loss: 1.9645277261734009\n",
      "GCN loss on unlabled data: 1.9483304023742676\n",
      "GCN acc on unlabled data: 0.14084507042253522\n",
      "attack loss: 1.9463136196136475\n",
      "GCN loss on unlabled data: 1.9731924533843994\n",
      "GCN acc on unlabled data: 0.16750503018108653\n",
      "attack loss: 1.979431390762329\n",
      "GCN loss on unlabled data: 1.9538617134094238\n",
      "GCN acc on unlabled data: 0.14637826961770625\n",
      "attack loss: 1.965556025505066\n",
      "GCN loss on unlabled data: 1.9995051622390747\n",
      "GCN acc on unlabled data: 0.08400402414486922\n",
      "attack loss: 1.9978142976760864\n",
      "GCN loss on unlabled data: 1.9572802782058716\n",
      "GCN acc on unlabled data: 0.15090543259557346\n",
      "attack loss: 1.9595403671264648\n",
      "GCN loss on unlabled data: 1.9284743070602417\n",
      "GCN acc on unlabled data: 0.1710261569416499\n",
      "attack loss: 1.9291647672653198\n"
     ]
    },
    {
     "name": "stderr",
     "output_type": "stream",
     "text": [
      "Perturbing graph:  94%|███████████████████████████████████████████████████████████▎   | 238/253 [00:06<00:00, 39.74it/s]"
     ]
    },
    {
     "name": "stdout",
     "output_type": "stream",
     "text": [
      "GCN loss on unlabled data: 1.9787498712539673\n",
      "GCN acc on unlabled data: 0.12525150905432597\n",
      "attack loss: 1.975260853767395\n",
      "GCN loss on unlabled data: 1.974736213684082\n",
      "GCN acc on unlabled data: 0.10462776659959759\n",
      "attack loss: 1.9715099334716797\n",
      "GCN loss on unlabled data: 2.000192642211914\n",
      "GCN acc on unlabled data: 0.1695171026156942\n",
      "attack loss: 1.9929574728012085\n",
      "GCN loss on unlabled data: 1.9362059831619263\n",
      "GCN acc on unlabled data: 0.1579476861167002\n",
      "attack loss: 1.9320331811904907\n",
      "GCN loss on unlabled data: 2.042463541030884\n",
      "GCN acc on unlabled data: 0.13329979879275655\n",
      "attack loss: 2.0278778076171875\n",
      "GCN loss on unlabled data: 2.0394742488861084\n",
      "GCN acc on unlabled data: 0.14839034205231388\n",
      "attack loss: 2.0293078422546387\n",
      "GCN loss on unlabled data: 2.016479253768921\n",
      "GCN acc on unlabled data: 0.11519114688128773\n",
      "attack loss: 2.0204854011535645\n",
      "GCN loss on unlabled data: 1.9687978029251099\n",
      "GCN acc on unlabled data: 0.12273641851106641\n",
      "attack loss: 1.9627153873443604\n"
     ]
    },
    {
     "name": "stderr",
     "output_type": "stream",
     "text": [
      "Perturbing graph:  97%|█████████████████████████████████████████████████████████████▎ | 246/253 [00:06<00:00, 39.70it/s]"
     ]
    },
    {
     "name": "stdout",
     "output_type": "stream",
     "text": [
      "GCN loss on unlabled data: 1.9654208421707153\n",
      "GCN acc on unlabled data: 0.1388329979879276\n",
      "attack loss: 1.963767170906067\n",
      "GCN loss on unlabled data: 1.9767869710922241\n",
      "GCN acc on unlabled data: 0.11016096579476863\n",
      "attack loss: 1.9709746837615967\n",
      "GCN loss on unlabled data: 1.9062830209732056\n",
      "GCN acc on unlabled data: 0.22082494969818917\n",
      "attack loss: 1.8989132642745972\n",
      "GCN loss on unlabled data: 1.9855810403823853\n",
      "GCN acc on unlabled data: 0.1262575452716298\n",
      "attack loss: 1.9799253940582275\n",
      "GCN loss on unlabled data: 1.9758323431015015\n",
      "GCN acc on unlabled data: 0.12173038229376258\n",
      "attack loss: 1.9715839624404907\n",
      "GCN loss on unlabled data: 1.9792414903640747\n",
      "GCN acc on unlabled data: 0.10412474849094568\n",
      "attack loss: 1.984615683555603\n",
      "GCN loss on unlabled data: 1.9923369884490967\n",
      "GCN acc on unlabled data: 0.1006036217303823\n",
      "attack loss: 1.9897130727767944\n",
      "GCN loss on unlabled data: 1.9636690616607666\n",
      "GCN acc on unlabled data: 0.15543259557344066\n",
      "attack loss: 1.96160089969635\n"
     ]
    },
    {
     "name": "stderr",
     "output_type": "stream",
     "text": [
      "Perturbing graph: 100%|███████████████████████████████████████████████████████████████| 253/253 [00:06<00:00, 39.54it/s]\n"
     ]
    },
    {
     "name": "stdout",
     "output_type": "stream",
     "text": [
      "GCN loss on unlabled data: 1.9515295028686523\n",
      "GCN acc on unlabled data: 0.13229376257545272\n",
      "attack loss: 1.9533600807189941\n",
      "GCN loss on unlabled data: 2.016955852508545\n",
      "GCN acc on unlabled data: 0.09507042253521128\n",
      "attack loss: 2.0216972827911377\n",
      "GCN loss on unlabled data: 1.9484362602233887\n",
      "GCN acc on unlabled data: 0.14738430583501008\n",
      "attack loss: 1.9518476724624634\n",
      "GCN loss on unlabled data: 1.9677075147628784\n",
      "GCN acc on unlabled data: 0.16096579476861167\n",
      "attack loss: 1.9651166200637817\n",
      "=== Evaluating GCN performance ===\n",
      "Run 1/3: Clean acc = 0.8305, Attacked acc = 0.7998\n",
      "Run 2/3: Clean acc = 0.8249, Attacked acc = 0.7918\n",
      "Run 3/3: Clean acc = 0.8270, Attacked acc = 0.8033\n",
      "\n",
      "=== Attack Effectiveness Summary ===\n",
      "Clean accuracy: 0.8275 ± 0.0023\n",
      "Attacked accuracy: 0.7983 ± 0.0048\n",
      "Absolute accuracy drop: 0.0292\n",
      "Relative accuracy drop: 3.53%\n",
      "Perturbation rate: 5.00% of edges\n",
      "Effectiveness ratio: 0.5835 (drop per perturbation unit)\n",
      "Attack assessment: Slightly effective\n"
     ]
    }
   ],
   "source": [
    "if __name__ == '__main__':\n",
    "    torch.cuda.empty_cache()\n",
    "    results = run_attack()"
   ]
  },
  {
   "cell_type": "code",
   "execution_count": null,
   "id": "9edf213f-102a-4a60-91c7-06dbba28d537",
   "metadata": {},
   "outputs": [],
   "source": []
  }
 ],
 "metadata": {
  "kernelspec": {
   "display_name": "Python 3 (ipykernel)",
   "language": "python",
   "name": "python3"
  },
  "language_info": {
   "codemirror_mode": {
    "name": "ipython",
    "version": 3
   },
   "file_extension": ".py",
   "mimetype": "text/x-python",
   "name": "python",
   "nbconvert_exporter": "python",
   "pygments_lexer": "ipython3",
   "version": "3.9.18"
  }
 },
 "nbformat": 4,
 "nbformat_minor": 5
}
