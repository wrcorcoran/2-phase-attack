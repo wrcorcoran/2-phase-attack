{
 "cells": [
  {
   "cell_type": "code",
   "execution_count": 4,
   "id": "c165a3e4-2fb1-464e-ae6c-8dec99f3f0e0",
   "metadata": {},
   "outputs": [],
   "source": [
    "import torch\n",
    "import numpy as np\n",
    "import torch.nn.functional as F\n",
    "from deeprobust.graph.defense import GCN\n",
    "from deeprobust.graph.global_attack import MetaApprox\n",
    "from deeprobust.graph.utils import preprocess\n",
    "from deeprobust.graph.data import Dataset\n",
    "import scipy.sparse as sp"
   ]
  },
  {
   "cell_type": "code",
   "execution_count": 5,
   "id": "8a02230e-b8d7-4a20-99bd-910fbbd7899a",
   "metadata": {},
   "outputs": [
    {
     "name": "stdout",
     "output_type": "stream",
     "text": [
      "Loading Cora dataset...\n",
      "Loading cora dataset...\n",
      "Selecting 1 largest connected components\n"
     ]
    }
   ],
   "source": [
    "# Set random seed for reproducibility\n",
    "np.random.seed(15)\n",
    "torch.manual_seed(15)\n",
    "\n",
    "# Load Cora dataset\n",
    "print(\"Loading Cora dataset...\")\n",
    "data = Dataset(root='/tmp/', name='cora')\n",
    "adj, features, labels = data.adj, data.features, data.labels\n",
    "idx_train, idx_val, idx_test = data.idx_train, data.idx_val, data.idx_test"
   ]
  },
  {
   "cell_type": "code",
   "execution_count": 10,
   "id": "c87adab2-b03c-45cf-a897-f857a207694d",
   "metadata": {},
   "outputs": [
    {
     "name": "stdout",
     "output_type": "stream",
     "text": [
      "Using device: cuda:0\n"
     ]
    }
   ],
   "source": [
    "# Setup device\n",
    "device = torch.device(\"cuda:0\" if torch.cuda.is_available() else \"cpu\")\n",
    "print(f\"Using device: {device}\")\n",
    "\n",
    "# Convert adjacency matrix to tensor and move to the correct device\n",
    "if sp.issparse(adj):\n",
    "    adj_tensor = torch.FloatTensor(adj.todense()).to(device)\n",
    "else:\n",
    "    adj_tensor = torch.FloatTensor(adj).to(device)\n",
    "\n",
    "# Convert features to tensor and move to the correct device\n",
    "if sp.issparse(features):\n",
    "    features_tensor = torch.FloatTensor(features.todense()).to(device)\n",
    "else:\n",
    "    features_tensor = torch.FloatTensor(features).to(device)\n",
    "\n",
    "# Move labels to the correct device\n",
    "labels_tensor = torch.LongTensor(labels).to(device)\n",
    "idx_train_tensor = torch.LongTensor(idx_train).to(device)\n",
    "idx_val_tensor = torch.LongTensor(idx_val).to(device)\n",
    "idx_test_tensor = torch.LongTensor(idx_test).to(device)\n",
    "\n",
    "# Setup target model (GCN with 2 layers, hidden dim 64)\n",
    "model = GCN(nfeat=features_tensor.shape[1], nhid=64, nclass=labels_tensor.max().item()+1, \n",
    "            device=device, weight_decay=5e-4, dropout=0.5)\n",
    "model = model.to(device)"
   ]
  },
  {
   "cell_type": "code",
   "execution_count": 12,
   "id": "7e36acaf-676c-436f-ad15-4486cd480eca",
   "metadata": {},
   "outputs": [
    {
     "name": "stdout",
     "output_type": "stream",
     "text": [
      "Training GCN on clean graph...\n",
      "Testing GCN on clean graph...\n",
      "Test set results: loss= 0.4999 accuracy= 0.8421\n",
      "Test accuracy on clean graph: 0.8421\n"
     ]
    }
   ],
   "source": [
    "# Train the GCN model (clean model)\n",
    "print(\"Training GCN on clean graph...\")\n",
    "\n",
    "model.fit(features_tensor, adj_tensor, labels_tensor, idx_train_tensor, idx_val_tensor, patience=30)\n",
    "\n",
    "# Test clean model\n",
    "print(\"Testing GCN on clean graph...\")\n",
    "model.eval()\n",
    "output = model.predict()\n",
    "acc_test = model.test(idx_test_tensor)\n",
    "print(f\"Test accuracy on clean graph: {acc_test:.4f}\")"
   ]
  },
  {
   "cell_type": "code",
   "execution_count": 13,
   "id": "3353c25c-c40e-46ed-8f45-30382567bb1c",
   "metadata": {},
   "outputs": [
    {
     "name": "stdout",
     "output_type": "stream",
     "text": [
      "Setting up MetaApprox attack...\n"
     ]
    }
   ],
   "source": [
    "# Initialize MetaApprox attack (MetAttack-based) with edge-based perturbation\n",
    "print(\"Setting up MetaApprox attack...\")\n",
    "attack_model = MetaApprox(model=model, nnodes=adj_tensor.shape[0], feature_shape=features_tensor.shape,\n",
    "                         attack_structure=True, attack_features=False, device=device)"
   ]
  },
  {
   "cell_type": "code",
   "execution_count": 14,
   "id": "6bee7adf-f9a9-4f33-8ed3-6fed020d6f00",
   "metadata": {},
   "outputs": [
    {
     "name": "stdout",
     "output_type": "stream",
     "text": [
      "Generating 253 edge perturbations...\n"
     ]
    },
    {
     "ename": "TypeError",
     "evalue": "expected TensorOptions(dtype=float, device=cpu, layout=Strided, requires_grad=false (default), pinned_memory=false (default), memory_format=(nullopt)) (got TensorOptions(dtype=float, device=cuda:0, layout=Strided, requires_grad=false (default), pinned_memory=false (default), memory_format=(nullopt)))",
     "output_type": "error",
     "traceback": [
      "\u001b[0;31m---------------------------------------------------------------------------\u001b[0m",
      "\u001b[0;31mTypeError\u001b[0m                                 Traceback (most recent call last)",
      "Cell \u001b[0;32mIn[14], line 7\u001b[0m\n\u001b[1;32m      4\u001b[0m \u001b[38;5;28mprint\u001b[39m(\u001b[38;5;124mf\u001b[39m\u001b[38;5;124m\"\u001b[39m\u001b[38;5;124mGenerating \u001b[39m\u001b[38;5;132;01m{\u001b[39;00mn_perturbations\u001b[38;5;132;01m}\u001b[39;00m\u001b[38;5;124m edge perturbations...\u001b[39m\u001b[38;5;124m\"\u001b[39m)\n\u001b[1;32m      6\u001b[0m \u001b[38;5;66;03m# Make sure attack_model uses tensors on the same device\u001b[39;00m\n\u001b[0;32m----> 7\u001b[0m \u001b[43mattack_model\u001b[49m\u001b[38;5;241;43m.\u001b[39;49m\u001b[43mattack\u001b[49m\u001b[43m(\u001b[49m\u001b[43mfeatures_tensor\u001b[49m\u001b[43m,\u001b[49m\u001b[43m \u001b[49m\u001b[43madj_tensor\u001b[49m\u001b[43m,\u001b[49m\u001b[43m \u001b[49m\u001b[43mlabels_tensor\u001b[49m\u001b[43m,\u001b[49m\u001b[43m \u001b[49m\u001b[43midx_train_tensor\u001b[49m\u001b[43m,\u001b[49m\u001b[43m \u001b[49m\u001b[43midx_val_tensor\u001b[49m\u001b[43m,\u001b[49m\u001b[43m \u001b[49m\n\u001b[1;32m      8\u001b[0m \u001b[43m                   \u001b[49m\u001b[43mn_perturbations\u001b[49m\u001b[38;5;241;43m=\u001b[39;49m\u001b[43mn_perturbations\u001b[49m\u001b[43m,\u001b[49m\u001b[43m \u001b[49m\u001b[43mll_constraint\u001b[49m\u001b[38;5;241;43m=\u001b[39;49m\u001b[38;5;28;43;01mFalse\u001b[39;49;00m\u001b[43m)\u001b[49m\n",
      "File \u001b[0;32m~/miniconda3/envs/ersp_v2/lib/python3.9/site-packages/deeprobust/graph/global_attack/mettack.py:532\u001b[0m, in \u001b[0;36mMetaApprox.attack\u001b[0;34m(self, ori_features, ori_adj, labels, idx_train, idx_unlabeled, n_perturbations, ll_constraint, ll_cutoff)\u001b[0m\n\u001b[1;32m    505\u001b[0m \u001b[38;5;28;01mdef\u001b[39;00m \u001b[38;5;21mattack\u001b[39m(\u001b[38;5;28mself\u001b[39m, ori_features, ori_adj, labels, idx_train, idx_unlabeled, n_perturbations, ll_constraint\u001b[38;5;241m=\u001b[39m\u001b[38;5;28;01mTrue\u001b[39;00m, ll_cutoff\u001b[38;5;241m=\u001b[39m\u001b[38;5;241m0.004\u001b[39m):\n\u001b[1;32m    506\u001b[0m \u001b[38;5;250m    \u001b[39m\u001b[38;5;124;03m\"\"\"Generate n_perturbations on the input graph.\u001b[39;00m\n\u001b[1;32m    507\u001b[0m \n\u001b[1;32m    508\u001b[0m \u001b[38;5;124;03m    Parameters\u001b[39;00m\n\u001b[0;32m   (...)\u001b[0m\n\u001b[1;32m    530\u001b[0m \n\u001b[1;32m    531\u001b[0m \u001b[38;5;124;03m    \"\"\"\u001b[39;00m\n\u001b[0;32m--> 532\u001b[0m     ori_adj, ori_features, labels \u001b[38;5;241m=\u001b[39m \u001b[43mutils\u001b[49m\u001b[38;5;241;43m.\u001b[39;49m\u001b[43mto_tensor\u001b[49m\u001b[43m(\u001b[49m\u001b[43mori_adj\u001b[49m\u001b[43m,\u001b[49m\u001b[43m \u001b[49m\u001b[43mori_features\u001b[49m\u001b[43m,\u001b[49m\u001b[43m \u001b[49m\u001b[43mlabels\u001b[49m\u001b[43m,\u001b[49m\u001b[43m \u001b[49m\u001b[43mdevice\u001b[49m\u001b[38;5;241;43m=\u001b[39;49m\u001b[38;5;28;43mself\u001b[39;49m\u001b[38;5;241;43m.\u001b[39;49m\u001b[43mdevice\u001b[49m\u001b[43m)\u001b[49m\n\u001b[1;32m    533\u001b[0m     labels_self_training \u001b[38;5;241m=\u001b[39m \u001b[38;5;28mself\u001b[39m\u001b[38;5;241m.\u001b[39mself_training_label(labels, idx_train)\n\u001b[1;32m    534\u001b[0m     \u001b[38;5;28mself\u001b[39m\u001b[38;5;241m.\u001b[39msparse_features \u001b[38;5;241m=\u001b[39m sp\u001b[38;5;241m.\u001b[39missparse(ori_features)\n",
      "File \u001b[0;32m~/miniconda3/envs/ersp_v2/lib/python3.9/site-packages/deeprobust/graph/utils.py:103\u001b[0m, in \u001b[0;36mto_tensor\u001b[0;34m(adj, features, labels, device)\u001b[0m\n\u001b[1;32m    101\u001b[0m     adj \u001b[38;5;241m=\u001b[39m sparse_mx_to_torch_sparse_tensor(adj)\n\u001b[1;32m    102\u001b[0m \u001b[38;5;28;01melse\u001b[39;00m:\n\u001b[0;32m--> 103\u001b[0m     adj \u001b[38;5;241m=\u001b[39m \u001b[43mtorch\u001b[49m\u001b[38;5;241;43m.\u001b[39;49m\u001b[43mFloatTensor\u001b[49m\u001b[43m(\u001b[49m\u001b[43madj\u001b[49m\u001b[43m)\u001b[49m\n\u001b[1;32m    104\u001b[0m \u001b[38;5;28;01mif\u001b[39;00m sp\u001b[38;5;241m.\u001b[39missparse(features):\n\u001b[1;32m    105\u001b[0m     features \u001b[38;5;241m=\u001b[39m sparse_mx_to_torch_sparse_tensor(features)\n",
      "\u001b[0;31mTypeError\u001b[0m: expected TensorOptions(dtype=float, device=cpu, layout=Strided, requires_grad=false (default), pinned_memory=false (default), memory_format=(nullopt)) (got TensorOptions(dtype=float, device=cuda:0, layout=Strided, requires_grad=false (default), pinned_memory=false (default), memory_format=(nullopt)))"
     ]
    }
   ],
   "source": [
    "# Adjust ptb_rate to control the percentage of edges to perturb\n",
    "ptb_rate = 0.05  # 5% of edges\n",
    "n_perturbations = int(ptb_rate * (adj_tensor.sum() // 2))\n",
    "print(f\"Generating {n_perturbations} edge perturbations...\")\n",
    "\n",
    "# Make sure attack_model uses tensors on the same device\n",
    "attack_model.attack(features_tensor, adj_tensor, labels_tensor, idx_train_tensor, idx_val_tensor, \n",
    "                   n_perturbations=n_perturbations, ll_constraint=False)"
   ]
  },
  {
   "cell_type": "code",
   "execution_count": 17,
   "id": "17c946ad-568c-46a0-b9ec-4310dbbf4f5f",
   "metadata": {},
   "outputs": [
    {
     "name": "stdout",
     "output_type": "stream",
     "text": [
      "Using device: cpu\n",
      "Loading Cora dataset...\n",
      "Loading cora dataset...\n",
      "Selecting 1 largest connected components\n",
      "Training GCN on clean graph...\n",
      "Testing GCN on clean graph...\n",
      "Test set results: loss= 0.4946 accuracy= 0.8461\n",
      "Test accuracy on clean graph: 0.8461\n",
      "Creating manual perturbations since MetaApprox has compatibility issues...\n",
      "Generating 253 edge perturbations...\n",
      "Testing GCN on perturbed graph...\n",
      "Test set results: loss= 0.5133 accuracy= 0.8350\n",
      "Test accuracy on perturbed graph: 0.8350\n",
      "Attack impact (drop in accuracy): 0.0111\n"
     ]
    }
   ],
   "source": [
    "import torch\n",
    "import numpy as np\n",
    "import torch.nn.functional as F\n",
    "from deeprobust.graph.defense import GCN\n",
    "from deeprobust.graph.global_attack import MetaApprox\n",
    "from deeprobust.graph.utils import preprocess\n",
    "from deeprobust.graph.data import Dataset\n",
    "import scipy.sparse as sp\n",
    "\n",
    "# Force CPU usage to avoid device mismatch issues\n",
    "torch.cuda.is_available = lambda: False\n",
    "device = torch.device('cpu')\n",
    "print(f\"Using device: {device}\")\n",
    "\n",
    "# Set random seed for reproducibility\n",
    "np.random.seed(15)\n",
    "torch.manual_seed(15)\n",
    "\n",
    "# Load Cora dataset\n",
    "print(\"Loading Cora dataset...\")\n",
    "data = Dataset(root='/tmp/', name='cora')\n",
    "adj, features, labels = data.adj, data.features, data.labels\n",
    "idx_train, idx_val, idx_test = data.idx_train, data.idx_val, data.idx_test\n",
    "\n",
    "# Setup target model (GCN with 2 layers, hidden dim 64)\n",
    "model = GCN(nfeat=features.shape[1], nhid=64, nclass=labels.max().item()+1, \n",
    "            device=device, weight_decay=5e-4, dropout=0.5)\n",
    "\n",
    "# Train the GCN model (clean model)\n",
    "print(\"Training GCN on clean graph...\")\n",
    "model.fit(features, adj, labels, idx_train, idx_val, patience=30)\n",
    "\n",
    "# Test clean model\n",
    "print(\"Testing GCN on clean graph...\")\n",
    "model.eval()\n",
    "output = model.predict()\n",
    "acc_test = model.test(idx_test)\n",
    "print(f\"Test accuracy on clean graph: {acc_test:.4f}\")\n",
    "\n",
    "# --- Custom implementation to work around sparse tensor issues ---\n",
    "# Manual edge perturbation as an alternative to MetaApprox\n",
    "print(\"Creating manual perturbations since MetaApprox has compatibility issues...\")\n",
    "\n",
    "# Convert adjacency matrix to numpy for easier manipulation\n",
    "if sp.issparse(adj):\n",
    "    adj_np = adj.todense()\n",
    "else:\n",
    "    adj_np = adj.numpy() if torch.is_tensor(adj) else adj\n",
    "\n",
    "# Function to add/remove edges randomly\n",
    "def perturb_edges_randomly(adj_matrix, n_perturbations):\n",
    "    \"\"\"\n",
    "    Randomly add or remove edges from the adjacency matrix\n",
    "    \"\"\"\n",
    "    adj_perturbed = adj_matrix.copy()\n",
    "    n_nodes = adj_matrix.shape[0]\n",
    "    \n",
    "    # Flip edges (add where there's no edge, remove where there is)\n",
    "    perturbations_made = 0\n",
    "    while perturbations_made < n_perturbations:\n",
    "        # Generate random node pairs\n",
    "        i = np.random.randint(0, n_nodes)\n",
    "        j = np.random.randint(0, n_nodes)\n",
    "        \n",
    "        # Skip self-loops\n",
    "        if i == j:\n",
    "            continue\n",
    "            \n",
    "        # Flip the edge\n",
    "        if adj_perturbed[i, j] == 0:\n",
    "            # Add edge\n",
    "            adj_perturbed[i, j] = 1\n",
    "            adj_perturbed[j, i] = 1  # Maintain symmetry\n",
    "        else:\n",
    "            # Remove edge\n",
    "            adj_perturbed[i, j] = 0\n",
    "            adj_perturbed[j, i] = 0  # Maintain symmetry\n",
    "            \n",
    "        perturbations_made += 1\n",
    "    \n",
    "    return adj_perturbed\n",
    "\n",
    "# Calculate perturbation rate\n",
    "ptb_rate = 0.05  # 5% of edges\n",
    "n_perturbations = int(ptb_rate * (adj_np.sum() // 2))\n",
    "print(f\"Generating {n_perturbations} edge perturbations...\")\n",
    "\n",
    "# Perturb the adjacency matrix\n",
    "modified_adj_np = perturb_edges_randomly(adj_np, n_perturbations)\n",
    "\n",
    "# Convert back to sparse format if needed\n",
    "modified_adj = sp.csr_matrix(modified_adj_np)\n",
    "\n",
    "# Evaluate the target model on the perturbed graph\n",
    "print(\"Testing GCN on perturbed graph...\")\n",
    "# Train a new GCN on the perturbed graph\n",
    "model_attacked = GCN(nfeat=features.shape[1], nhid=64, nclass=labels.max().item()+1, \n",
    "                     device=device, weight_decay=5e-4, dropout=0.5)\n",
    "\n",
    "model_attacked.fit(features, modified_adj, labels, idx_train, idx_val, patience=30)\n",
    "acc_test_attacked = model_attacked.test(idx_test)\n",
    "\n",
    "print(f\"Test accuracy on perturbed graph: {acc_test_attacked:.4f}\")\n",
    "print(f\"Attack impact (drop in accuracy): {acc_test - acc_test_attacked:.4f}\")\n",
    "\n",
    "# Function to save the modified adjacency matrix\n",
    "def save_modified_adj(modified_adj, filename=\"modified_adj_matrix.npz\"):\n",
    "    # Convert to CPU if needed\n",
    "    if torch.is_tensor(modified_adj):\n",
    "        modified_adj_np = modified_adj.cpu().numpy()\n",
    "    elif sp.issparse(modified_adj):\n",
    "        modified_adj_np = modified_adj\n",
    "    else:\n",
    "        modified_adj_np = sp.csr_matrix(modified_adj)\n",
    "    \n",
    "    # Save\n",
    "    sp.save_npz(filename, modified_adj_np)\n",
    "    print(f\"Modified adjacency matrix saved to {filename}\")\n",
    "\n",
    "# Uncomment to save the modified adjacency matrix\n",
    "# save_modified_adj(modified_adj)\n",
    "\n",
    "# Visualize the perturbed edges if needed\n",
    "def visualize_perturbations(original_adj, modified_adj, filename=\"perturbed_graph_comparison.png\"):\n",
    "    import networkx as nx\n",
    "    import matplotlib.pyplot as plt\n",
    "    \n",
    "    # Convert to numpy arrays for visualization\n",
    "    if torch.is_tensor(original_adj):\n",
    "        original_adj_np = original_adj.cpu().numpy()\n",
    "    elif sp.issparse(original_adj):\n",
    "        original_adj_np = original_adj.todense()\n",
    "    else:\n",
    "        original_adj_np = original_adj\n",
    "        \n",
    "    if torch.is_tensor(modified_adj):\n",
    "        modified_adj_np = modified_adj.cpu().numpy()\n",
    "    elif sp.issparse(modified_adj):\n",
    "        modified_adj_np = modified_adj.todense()\n",
    "    else:\n",
    "        modified_adj_np = modified_adj\n",
    "    \n",
    "    # Find differences\n",
    "    diff = np.abs(original_adj_np - modified_adj_np)\n",
    "    \n",
    "    # Get indices of perturbations\n",
    "    perturbed_edges = np.where(diff > 0)\n",
    "    \n",
    "    print(f\"Number of perturbed edges: {len(perturbed_edges[0])//2}\")  # Divide by 2 because undirected graph\n",
    "    \n",
    "    # Visualize a subgraph for better visibility (first 100 nodes)\n",
    "    n_nodes = 100\n",
    "    G_orig = nx.from_numpy_array(original_adj_np[:n_nodes, :n_nodes])\n",
    "    G_mod = nx.from_numpy_array(modified_adj_np[:n_nodes, :n_nodes])\n",
    "    \n",
    "    plt.figure(figsize=(12, 5))\n",
    "    \n",
    "    plt.subplot(121)\n",
    "    nx.draw(G_orig, node_size=30, with_labels=False, node_color='blue', edge_color='gray')\n",
    "    plt.title(\"Original Graph (Subgraph)\")\n",
    "    \n",
    "    plt.subplot(122)\n",
    "    nx.draw(G_mod, node_size=30, with_labels=False, node_color='blue', edge_color='gray')\n",
    "    plt.title(\"Perturbed Graph (Subgraph)\")\n",
    "    \n",
    "    plt.tight_layout()\n",
    "    plt.savefig(filename)\n",
    "    print(f\"Graph visualization saved to {filename}\")\n",
    "    plt.show()\n",
    "\n",
    "# Uncomment to visualize\n",
    "# visualize_perturbations(adj_np, modified_adj_np)"
   ]
  },
  {
   "cell_type": "code",
   "execution_count": null,
   "id": "ae261829-44a6-4ea9-9f61-dc2ecfc80acd",
   "metadata": {},
   "outputs": [],
   "source": []
  }
 ],
 "metadata": {
  "kernelspec": {
   "display_name": "Python 3 (ipykernel)",
   "language": "python",
   "name": "python3"
  },
  "language_info": {
   "codemirror_mode": {
    "name": "ipython",
    "version": 3
   },
   "file_extension": ".py",
   "mimetype": "text/x-python",
   "name": "python",
   "nbconvert_exporter": "python",
   "pygments_lexer": "ipython3",
   "version": "3.9.18"
  }
 },
 "nbformat": 4,
 "nbformat_minor": 5
}
