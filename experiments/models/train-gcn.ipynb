{
 "cells": [
  {
   "cell_type": "code",
   "execution_count": 1,
   "id": "c7e5a193-3986-42b5-8a93-8921d6ef3246",
   "metadata": {},
   "outputs": [],
   "source": [
    "import sys\n",
    "sys.path.append(\"../../\")\n",
    "\n",
    "from src.models.gcn import *\n",
    "from src.models.trainable import *\n",
    "from src.utils.datasets import *"
   ]
  },
  {
   "cell_type": "code",
   "execution_count": 2,
   "id": "813854b0-8f65-4a68-b6c3-cc15e75bc063",
   "metadata": {},
   "outputs": [],
   "source": [
    "device = \"cuda\" if torch.cuda.is_available() else \"cpu\""
   ]
  },
  {
   "cell_type": "code",
   "execution_count": 12,
   "id": "5e953c5e-475a-4465-9bdc-d19febbb89ec",
   "metadata": {},
   "outputs": [
    {
     "name": "stdout",
     "output_type": "stream",
     "text": [
      "Data(x=[2708, 1433], edge_index=[2, 10556], y=[2708], train_mask=[2708], val_mask=[2708], test_mask=[2708])\n"
     ]
    }
   ],
   "source": [
    "# dataset_directory = \"../Cora\"\n",
    "cora_dataset = Planetoid(root='', name='Cora')\n",
    "data = cora_dataset[0].to(device)\n",
    "print(data)"
   ]
  },
  {
   "cell_type": "code",
   "execution_count": 13,
   "id": "53290538-d585-4c13-a031-811cd2d276fc",
   "metadata": {},
   "outputs": [],
   "source": [
    "model = GCN(data.x.shape[1], cora_dataset.num_classes, [16]).to(device)"
   ]
  },
  {
   "cell_type": "code",
   "execution_count": 17,
   "id": "636231bc-3748-4483-96c4-25626b076349",
   "metadata": {},
   "outputs": [
    {
     "name": "stdout",
     "output_type": "stream",
     "text": [
      "Epoch 0, Train Loss - 4.224255561828613, Val Loss - 2.9259417057037354, Val Accuracy - 0.231\n",
      "Epoch 20, Train Loss - 0.35687801241874695, Val Loss - 1.3808292150497437, Val Accuracy - 0.684\n",
      "Epoch 40, Train Loss - 0.21283474564552307, Val Loss - 1.7607171535491943, Val Accuracy - 0.701\n",
      "Epoch 60, Train Loss - 0.10011978447437286, Val Loss - 2.030062437057495, Val Accuracy - 0.694\n",
      "Epoch 80, Train Loss - 0.14146612584590912, Val Loss - 2.184114933013916, Val Accuracy - 0.695\n",
      "Epoch 100, Train Loss - 0.03864485025405884, Val Loss - 2.302903890609741, Val Accuracy - 0.712\n",
      "Epoch 120, Train Loss - 0.040774766355752945, Val Loss - 2.426664113998413, Val Accuracy - 0.734\n",
      "Epoch 140, Train Loss - 0.0512729287147522, Val Loss - 2.58318829536438, Val Accuracy - 0.702\n",
      "Epoch 160, Train Loss - 0.06031158193945885, Val Loss - 2.3427746295928955, Val Accuracy - 0.71\n",
      "Epoch 180, Train Loss - 0.035777825862169266, Val Loss - 2.186750888824463, Val Accuracy - 0.724\n",
      "Epoch 200, Train Loss - 0.04942846670746803, Val Loss - 2.3411448001861572, Val Accuracy - 0.732\n",
      "Epoch 220, Train Loss - 0.0675840899348259, Val Loss - 2.1303203105926514, Val Accuracy - 0.722\n",
      "Epoch 240, Train Loss - 0.019289635121822357, Val Loss - 2.3655693531036377, Val Accuracy - 0.722\n",
      "Epoch 260, Train Loss - 0.05273452773690224, Val Loss - 2.4626829624176025, Val Accuracy - 0.724\n",
      "Epoch 280, Train Loss - 0.03591189533472061, Val Loss - 3.3450212478637695, Val Accuracy - 0.699\n",
      "Epoch 300, Train Loss - 0.051556188613176346, Val Loss - 2.362919330596924, Val Accuracy - 0.72\n",
      "Epoch 320, Train Loss - 0.020753299817442894, Val Loss - 2.1885876655578613, Val Accuracy - 0.744\n",
      "Epoch 340, Train Loss - 0.03157168626785278, Val Loss - 2.4617152214050293, Val Accuracy - 0.739\n",
      "Epoch 360, Train Loss - 0.008853890933096409, Val Loss - 2.336884021759033, Val Accuracy - 0.748\n",
      "Epoch 380, Train Loss - 0.01835126429796219, Val Loss - 2.419368028640747, Val Accuracy - 0.755\n",
      "Epoch 400, Train Loss - 0.032827652990818024, Val Loss - 2.425438404083252, Val Accuracy - 0.748\n",
      "Epoch 420, Train Loss - 0.0052061607129871845, Val Loss - 2.3217055797576904, Val Accuracy - 0.753\n",
      "Epoch 440, Train Loss - 0.015975045040249825, Val Loss - 2.5413084030151367, Val Accuracy - 0.738\n",
      "Epoch 460, Train Loss - 0.01638822816312313, Val Loss - 2.3391659259796143, Val Accuracy - 0.753\n",
      "Epoch 480, Train Loss - 0.0670304149389267, Val Loss - 2.0629098415374756, Val Accuracy - 0.747\n",
      "Epoch 500, Train Loss - 0.058991532772779465, Val Loss - 2.5838875770568848, Val Accuracy - 0.713\n",
      "Epoch 520, Train Loss - 0.023887811228632927, Val Loss - 2.167229652404785, Val Accuracy - 0.741\n",
      "Epoch 540, Train Loss - 0.015717683359980583, Val Loss - 2.2624683380126953, Val Accuracy - 0.728\n",
      "Epoch 560, Train Loss - 0.01491579320281744, Val Loss - 2.4285998344421387, Val Accuracy - 0.738\n",
      "Epoch 580, Train Loss - 0.014265925623476505, Val Loss - 2.4702558517456055, Val Accuracy - 0.73\n",
      "Epoch 600, Train Loss - 0.00732283154502511, Val Loss - 2.5113561153411865, Val Accuracy - 0.728\n",
      "Epoch 620, Train Loss - 0.031736671924591064, Val Loss - 2.3653180599212646, Val Accuracy - 0.73\n",
      "Epoch 640, Train Loss - 0.014058944769203663, Val Loss - 2.4157464504241943, Val Accuracy - 0.745\n",
      "Epoch 660, Train Loss - 0.03351401165127754, Val Loss - 2.005401611328125, Val Accuracy - 0.739\n",
      "Epoch 680, Train Loss - 0.019219573587179184, Val Loss - 2.3155314922332764, Val Accuracy - 0.749\n",
      "Epoch 700, Train Loss - 0.013408755883574486, Val Loss - 2.4384634494781494, Val Accuracy - 0.717\n",
      "Epoch 720, Train Loss - 0.08538935333490372, Val Loss - 2.3981587886810303, Val Accuracy - 0.702\n",
      "Epoch 740, Train Loss - 0.006065119989216328, Val Loss - 2.2901997566223145, Val Accuracy - 0.735\n",
      "Epoch 760, Train Loss - 0.03821326792240143, Val Loss - 2.049455165863037, Val Accuracy - 0.741\n",
      "Epoch 780, Train Loss - 0.017028404399752617, Val Loss - 2.329873561859131, Val Accuracy - 0.732\n",
      "Epoch 800, Train Loss - 0.02315833978354931, Val Loss - 2.3116867542266846, Val Accuracy - 0.732\n",
      "Epoch 820, Train Loss - 0.007337220013141632, Val Loss - 2.5295069217681885, Val Accuracy - 0.697\n",
      "Epoch 840, Train Loss - 0.028378011658787727, Val Loss - 2.653212070465088, Val Accuracy - 0.714\n",
      "Epoch 860, Train Loss - 0.01332972664386034, Val Loss - 2.1928060054779053, Val Accuracy - 0.721\n",
      "Epoch 880, Train Loss - 0.005475886631757021, Val Loss - 2.3915553092956543, Val Accuracy - 0.735\n",
      "Epoch 900, Train Loss - 0.029858358204364777, Val Loss - 2.5578067302703857, Val Accuracy - 0.732\n",
      "Epoch 920, Train Loss - 0.00881766714155674, Val Loss - 2.6171464920043945, Val Accuracy - 0.734\n",
      "Epoch 940, Train Loss - 0.015108094550669193, Val Loss - 2.5039236545562744, Val Accuracy - 0.749\n",
      "Epoch 960, Train Loss - 0.02173507586121559, Val Loss - 2.3613898754119873, Val Accuracy - 0.745\n",
      "Epoch 980, Train Loss - 0.020601261407136917, Val Loss - 2.3191018104553223, Val Accuracy - 0.742\n",
      "Epoch 1000, Train Loss - 0.028547951951622963, Val Loss - 1.91191828250885, Val Accuracy - 0.759\n"
     ]
    }
   ],
   "source": [
    "model.reset_parameters()\n",
    "train = Trainable(model)\n",
    "train.fit(data, 1000)"
   ]
  },
  {
   "cell_type": "code",
   "execution_count": 18,
   "id": "9dc3ae50-3553-4bdf-bdbb-b8da6132dbac",
   "metadata": {},
   "outputs": [
    {
     "name": "stdout",
     "output_type": "stream",
     "text": [
      "Initial Accuracy: 0.759\n",
      "Initial Loss: 1.91191828250885\n"
     ]
    }
   ],
   "source": [
    "# Get initial accuracy\n",
    "initial_loss, initial_accuracy = train.test(data)\n",
    "print(f\"Initial Accuracy: {initial_accuracy}\")\n",
    "print(f\"Initial Loss: {initial_loss}\")"
   ]
  },
  {
   "cell_type": "code",
   "execution_count": 19,
   "id": "0e0bc825-0e52-40dc-b801-206c66e148d8",
   "metadata": {},
   "outputs": [],
   "source": [
    "model_save_path = \"cora_gcn_model.pth\"\n",
    "torch.save(model.state_dict(), model_save_path)"
   ]
  },
  {
   "cell_type": "code",
   "execution_count": 20,
   "id": "0df08f42-ed26-4402-bb16-f39479646096",
   "metadata": {},
   "outputs": [
    {
     "name": "stdout",
     "output_type": "stream",
     "text": [
      "Data(x=[3327, 3703], edge_index=[2, 9104], y=[3327], train_mask=[3327], val_mask=[3327], test_mask=[3327])\n"
     ]
    }
   ],
   "source": [
    "# dataset_directory = \"../Cora\"\n",
    "citeseer_dataset = Planetoid(root='', name='Citeseer')\n",
    "data = citeseer_dataset[0].to(device)\n",
    "print(data)"
   ]
  },
  {
   "cell_type": "code",
   "execution_count": 21,
   "id": "0552008f-13e3-49c5-8888-778b0212030c",
   "metadata": {},
   "outputs": [],
   "source": [
    "model_citeseer = GCN(data.x.shape[1], citeseer_dataset.num_classes, [16]).to(device)"
   ]
  },
  {
   "cell_type": "code",
   "execution_count": 24,
   "id": "cae9a9b1-8897-421d-a042-b039f8e99380",
   "metadata": {},
   "outputs": [
    {
     "name": "stdout",
     "output_type": "stream",
     "text": [
      "Epoch 0, Train Loss - 3.5502333641052246, Val Loss - 3.549018621444702, Val Accuracy - 0.189\n",
      "Epoch 20, Train Loss - 0.5127353668212891, Val Loss - 1.9051663875579834, Val Accuracy - 0.569\n",
      "Epoch 40, Train Loss - 0.2762203812599182, Val Loss - 2.2763054370880127, Val Accuracy - 0.6\n",
      "Epoch 60, Train Loss - 0.14861968159675598, Val Loss - 2.556178569793701, Val Accuracy - 0.602\n",
      "Epoch 80, Train Loss - 0.18094314634799957, Val Loss - 2.6551058292388916, Val Accuracy - 0.598\n",
      "Epoch 100, Train Loss - 0.1277497112751007, Val Loss - 2.7227842807769775, Val Accuracy - 0.595\n",
      "Epoch 120, Train Loss - 0.15280680358409882, Val Loss - 3.1927943229675293, Val Accuracy - 0.602\n",
      "Epoch 140, Train Loss - 0.2015506774187088, Val Loss - 3.1084132194519043, Val Accuracy - 0.596\n",
      "Epoch 160, Train Loss - 0.1750190258026123, Val Loss - 3.3440613746643066, Val Accuracy - 0.577\n",
      "Epoch 180, Train Loss - 0.21127580106258392, Val Loss - 3.404085159301758, Val Accuracy - 0.585\n",
      "Epoch 200, Train Loss - 0.11460604518651962, Val Loss - 3.5021138191223145, Val Accuracy - 0.593\n",
      "Epoch 220, Train Loss - 0.16685764491558075, Val Loss - 3.5194239616394043, Val Accuracy - 0.602\n",
      "Epoch 240, Train Loss - 0.12342469394207001, Val Loss - 3.488940715789795, Val Accuracy - 0.609\n",
      "Epoch 260, Train Loss - 0.1199503242969513, Val Loss - 3.4587199687957764, Val Accuracy - 0.617\n",
      "Epoch 280, Train Loss - 0.1265047937631607, Val Loss - 3.615851640701294, Val Accuracy - 0.612\n",
      "Epoch 300, Train Loss - 0.13898399472236633, Val Loss - 3.9643359184265137, Val Accuracy - 0.602\n",
      "Epoch 320, Train Loss - 0.1134258508682251, Val Loss - 3.9558956623077393, Val Accuracy - 0.601\n",
      "Epoch 340, Train Loss - 0.12199754267930984, Val Loss - 3.564305067062378, Val Accuracy - 0.61\n",
      "Epoch 360, Train Loss - 0.18592238426208496, Val Loss - 3.495231866836548, Val Accuracy - 0.615\n",
      "Epoch 380, Train Loss - 0.07086459547281265, Val Loss - 3.5655934810638428, Val Accuracy - 0.608\n",
      "Epoch 400, Train Loss - 0.168192058801651, Val Loss - 3.838351249694824, Val Accuracy - 0.606\n",
      "Epoch 420, Train Loss - 0.10772131383419037, Val Loss - 3.64438533782959, Val Accuracy - 0.612\n",
      "Epoch 440, Train Loss - 0.08494057506322861, Val Loss - 3.429337978363037, Val Accuracy - 0.611\n",
      "Epoch 460, Train Loss - 0.08799996972084045, Val Loss - 3.415415048599243, Val Accuracy - 0.601\n",
      "Epoch 480, Train Loss - 0.17062513530254364, Val Loss - 3.7547905445098877, Val Accuracy - 0.59\n",
      "Epoch 500, Train Loss - 0.08078502118587494, Val Loss - 3.6265039443969727, Val Accuracy - 0.598\n",
      "Epoch 520, Train Loss - 0.06945136934518814, Val Loss - 3.842815637588501, Val Accuracy - 0.594\n",
      "Epoch 540, Train Loss - 0.13098207116127014, Val Loss - 3.711272716522217, Val Accuracy - 0.603\n",
      "Epoch 560, Train Loss - 0.09036855399608612, Val Loss - 4.249290943145752, Val Accuracy - 0.609\n",
      "Epoch 580, Train Loss - 0.10789059102535248, Val Loss - 3.7316811084747314, Val Accuracy - 0.61\n",
      "Epoch 600, Train Loss - 0.06253921985626221, Val Loss - 3.906233072280884, Val Accuracy - 0.596\n",
      "Epoch 620, Train Loss - 0.10997743159532547, Val Loss - 4.141628265380859, Val Accuracy - 0.595\n",
      "Epoch 640, Train Loss - 0.12931446731090546, Val Loss - 4.3293352127075195, Val Accuracy - 0.594\n",
      "Epoch 660, Train Loss - 0.1170371025800705, Val Loss - 4.152126789093018, Val Accuracy - 0.584\n",
      "Epoch 680, Train Loss - 0.06613196432590485, Val Loss - 4.181787967681885, Val Accuracy - 0.588\n",
      "Epoch 700, Train Loss - 0.06949207931756973, Val Loss - 4.035004615783691, Val Accuracy - 0.592\n",
      "Epoch 720, Train Loss - 0.033744633197784424, Val Loss - 4.1508588790893555, Val Accuracy - 0.602\n",
      "Epoch 740, Train Loss - 0.10579955577850342, Val Loss - 4.334266185760498, Val Accuracy - 0.592\n",
      "Epoch 760, Train Loss - 0.09273208677768707, Val Loss - 4.314772129058838, Val Accuracy - 0.577\n",
      "Epoch 780, Train Loss - 0.040616199374198914, Val Loss - 3.9776575565338135, Val Accuracy - 0.603\n",
      "Epoch 800, Train Loss - 0.07517440617084503, Val Loss - 3.9921789169311523, Val Accuracy - 0.599\n",
      "Epoch 820, Train Loss - 0.19436073303222656, Val Loss - 4.159286975860596, Val Accuracy - 0.613\n",
      "Epoch 840, Train Loss - 0.058269597589969635, Val Loss - 4.5289387702941895, Val Accuracy - 0.606\n",
      "Epoch 860, Train Loss - 0.0536540262401104, Val Loss - 4.392604827880859, Val Accuracy - 0.613\n",
      "Epoch 880, Train Loss - 0.14162348210811615, Val Loss - 4.313007354736328, Val Accuracy - 0.631\n",
      "Epoch 900, Train Loss - 0.09652626514434814, Val Loss - 4.689296722412109, Val Accuracy - 0.592\n",
      "Epoch 920, Train Loss - 0.10931967198848724, Val Loss - 4.69808292388916, Val Accuracy - 0.594\n",
      "Epoch 940, Train Loss - 0.082069531083107, Val Loss - 4.192317008972168, Val Accuracy - 0.606\n",
      "Epoch 960, Train Loss - 0.04889851063489914, Val Loss - 4.544974327087402, Val Accuracy - 0.598\n",
      "Epoch 980, Train Loss - 0.091792531311512, Val Loss - 4.328580379486084, Val Accuracy - 0.613\n",
      "Epoch 1000, Train Loss - 0.036084696650505066, Val Loss - 3.921365737915039, Val Accuracy - 0.581\n"
     ]
    }
   ],
   "source": [
    "model_citeseer.reset_parameters()\n",
    "train = Trainable(model_citeseer)\n",
    "train.fit(data, 1000)"
   ]
  },
  {
   "cell_type": "code",
   "execution_count": 25,
   "id": "6e147875-0d95-4cd9-82b2-8315f5fb6140",
   "metadata": {},
   "outputs": [],
   "source": [
    "model_save_path = \"citeseer_gcn_model.pth\"\n",
    "torch.save(model_citeseer.state_dict(), model_save_path)"
   ]
  },
  {
   "cell_type": "code",
   "execution_count": 26,
   "id": "a3a87081-14c7-4195-9724-b9882fc67405",
   "metadata": {},
   "outputs": [
    {
     "name": "stdout",
     "output_type": "stream",
     "text": [
      "Data(x=[19717, 500], edge_index=[2, 88648], y=[19717], train_mask=[19717], val_mask=[19717], test_mask=[19717])\n"
     ]
    }
   ],
   "source": [
    "# dataset_directory = \"../Cora\"\n",
    "pubmed_dataset = Planetoid(root='', name='Pubmed')\n",
    "data = pubmed_dataset[0].to(device)\n",
    "print(data)"
   ]
  },
  {
   "cell_type": "code",
   "execution_count": 27,
   "id": "c777f9bd-1d0a-4779-9c86-7ab5b57514e2",
   "metadata": {},
   "outputs": [],
   "source": [
    "model_pm = GCN(data.x.shape[1], pubmed_dataset.num_classes, [16]).to(device)"
   ]
  },
  {
   "cell_type": "code",
   "execution_count": 28,
   "id": "a4b046e2-239a-4ed0-b8c4-eda05c8cdb4d",
   "metadata": {},
   "outputs": [
    {
     "name": "stdout",
     "output_type": "stream",
     "text": [
      "Epoch 0, Train Loss - 1.1345442533493042, Val Loss - 0.9763661026954651, Val Accuracy - 0.601\n",
      "Epoch 20, Train Loss - 0.2014079988002777, Val Loss - 1.026811122894287, Val Accuracy - 0.774\n",
      "Epoch 40, Train Loss - 0.04307858273386955, Val Loss - 1.4943939447402954, Val Accuracy - 0.777\n",
      "Epoch 60, Train Loss - 0.042217373847961426, Val Loss - 1.7198059558868408, Val Accuracy - 0.76\n",
      "Epoch 80, Train Loss - 0.01917932741343975, Val Loss - 1.7314130067825317, Val Accuracy - 0.782\n",
      "Epoch 100, Train Loss - 0.020681265741586685, Val Loss - 1.818172812461853, Val Accuracy - 0.782\n",
      "Epoch 120, Train Loss - 0.010099946521222591, Val Loss - 1.7091612815856934, Val Accuracy - 0.766\n",
      "Epoch 140, Train Loss - 0.039227280765771866, Val Loss - 1.632042646408081, Val Accuracy - 0.768\n",
      "Epoch 160, Train Loss - 0.022432317957282066, Val Loss - 1.6307324171066284, Val Accuracy - 0.78\n",
      "Epoch 180, Train Loss - 0.017011595889925957, Val Loss - 1.881808876991272, Val Accuracy - 0.772\n",
      "Epoch 200, Train Loss - 0.02703511156141758, Val Loss - 1.8873950242996216, Val Accuracy - 0.776\n",
      "Epoch 220, Train Loss - 0.002261190442368388, Val Loss - 1.822664499282837, Val Accuracy - 0.775\n",
      "Epoch 240, Train Loss - 0.011120503768324852, Val Loss - 2.054668664932251, Val Accuracy - 0.776\n",
      "Epoch 260, Train Loss - 0.017972998321056366, Val Loss - 1.9998385906219482, Val Accuracy - 0.777\n",
      "Epoch 280, Train Loss - 0.021983565762639046, Val Loss - 1.9443615674972534, Val Accuracy - 0.771\n",
      "Epoch 300, Train Loss - 0.006583383772522211, Val Loss - 2.2972946166992188, Val Accuracy - 0.774\n",
      "Epoch 320, Train Loss - 0.0056112781167030334, Val Loss - 2.0636520385742188, Val Accuracy - 0.765\n",
      "Epoch 340, Train Loss - 0.01510793250054121, Val Loss - 1.6102887392044067, Val Accuracy - 0.759\n",
      "Epoch 360, Train Loss - 0.012815910391509533, Val Loss - 2.0485012531280518, Val Accuracy - 0.768\n",
      "Epoch 380, Train Loss - 0.012034443207085133, Val Loss - 2.1230995655059814, Val Accuracy - 0.773\n",
      "Epoch 400, Train Loss - 0.0036421692930161953, Val Loss - 2.146942615509033, Val Accuracy - 0.766\n",
      "Epoch 420, Train Loss - 0.014969120733439922, Val Loss - 2.081825017929077, Val Accuracy - 0.782\n",
      "Epoch 440, Train Loss - 0.011701267212629318, Val Loss - 1.8294248580932617, Val Accuracy - 0.773\n",
      "Epoch 460, Train Loss - 0.001628940925002098, Val Loss - 2.0496981143951416, Val Accuracy - 0.784\n",
      "Epoch 480, Train Loss - 0.009227228350937366, Val Loss - 1.9953068494796753, Val Accuracy - 0.776\n",
      "Epoch 500, Train Loss - 0.01797749660909176, Val Loss - 2.0648107528686523, Val Accuracy - 0.774\n",
      "Epoch 520, Train Loss - 0.0098465820774436, Val Loss - 1.8674060106277466, Val Accuracy - 0.778\n",
      "Epoch 540, Train Loss - 0.0047125737182796, Val Loss - 1.9003069400787354, Val Accuracy - 0.779\n",
      "Epoch 560, Train Loss - 0.006652049720287323, Val Loss - 1.9854164123535156, Val Accuracy - 0.779\n",
      "Epoch 580, Train Loss - 0.01493568904697895, Val Loss - 2.039205551147461, Val Accuracy - 0.779\n",
      "Epoch 600, Train Loss - 0.008434849791228771, Val Loss - 2.0651183128356934, Val Accuracy - 0.78\n",
      "Epoch 620, Train Loss - 0.005400285590440035, Val Loss - 2.0641562938690186, Val Accuracy - 0.78\n",
      "Epoch 640, Train Loss - 0.003120801877230406, Val Loss - 2.0473885536193848, Val Accuracy - 0.784\n",
      "Epoch 660, Train Loss - 0.0007239591795951128, Val Loss - 1.9704320430755615, Val Accuracy - 0.779\n",
      "Epoch 680, Train Loss - 0.00543947285041213, Val Loss - 1.9794025421142578, Val Accuracy - 0.77\n",
      "Epoch 700, Train Loss - 0.0013341138837859035, Val Loss - 1.993586778640747, Val Accuracy - 0.777\n",
      "Epoch 720, Train Loss - 0.012964229099452496, Val Loss - 1.833706021308899, Val Accuracy - 0.781\n",
      "Epoch 740, Train Loss - 0.010855430737137794, Val Loss - 1.893971562385559, Val Accuracy - 0.777\n",
      "Epoch 760, Train Loss - 0.03307138383388519, Val Loss - 1.9093717336654663, Val Accuracy - 0.772\n",
      "Epoch 780, Train Loss - 0.020260699093341827, Val Loss - 1.9465359449386597, Val Accuracy - 0.788\n",
      "Epoch 800, Train Loss - 0.01948532834649086, Val Loss - 2.066697597503662, Val Accuracy - 0.754\n",
      "Epoch 820, Train Loss - 0.01260838471353054, Val Loss - 2.1886937618255615, Val Accuracy - 0.764\n",
      "Epoch 840, Train Loss - 0.02032376080751419, Val Loss - 2.3383145332336426, Val Accuracy - 0.754\n",
      "Epoch 860, Train Loss - 0.0031091596465557814, Val Loss - 2.5196285247802734, Val Accuracy - 0.778\n",
      "Epoch 880, Train Loss - 0.008524890057742596, Val Loss - 2.6416943073272705, Val Accuracy - 0.778\n",
      "Epoch 900, Train Loss - 0.0013747148914262652, Val Loss - 2.181953191757202, Val Accuracy - 0.78\n",
      "Epoch 920, Train Loss - 0.0015773727791383862, Val Loss - 2.1431519985198975, Val Accuracy - 0.781\n",
      "Epoch 940, Train Loss - 0.0005188984796404839, Val Loss - 2.1071791648864746, Val Accuracy - 0.787\n",
      "Epoch 960, Train Loss - 0.012420427985489368, Val Loss - 2.204500913619995, Val Accuracy - 0.786\n",
      "Epoch 980, Train Loss - 0.019305843859910965, Val Loss - 2.239082098007202, Val Accuracy - 0.792\n",
      "Epoch 1000, Train Loss - 0.012139693833887577, Val Loss - 2.5195000171661377, Val Accuracy - 0.748\n"
     ]
    }
   ],
   "source": [
    "model_pm.reset_parameters()\n",
    "train = Trainable(model_pm)\n",
    "train.fit(data, 1000)"
   ]
  },
  {
   "cell_type": "code",
   "execution_count": 29,
   "id": "7f91c220-19c3-4ba5-919e-ea3688b0cb33",
   "metadata": {},
   "outputs": [],
   "source": [
    "model_save_path = \"pubmed_gcn_model.pth\"\n",
    "torch.save(model_pm.state_dict(), model_save_path)"
   ]
  }
 ],
 "metadata": {
  "kernelspec": {
   "display_name": "Python 3 (ipykernel)",
   "language": "python",
   "name": "python3"
  },
  "language_info": {
   "codemirror_mode": {
    "name": "ipython",
    "version": 3
   },
   "file_extension": ".py",
   "mimetype": "text/x-python",
   "name": "python",
   "nbconvert_exporter": "python",
   "pygments_lexer": "ipython3",
   "version": "3.8.18"
  }
 },
 "nbformat": 4,
 "nbformat_minor": 5
}
