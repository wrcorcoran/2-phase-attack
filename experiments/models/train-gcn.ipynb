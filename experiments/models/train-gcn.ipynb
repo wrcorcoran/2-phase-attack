{
 "cells": [
  {
   "cell_type": "code",
   "execution_count": 1,
   "id": "c7e5a193-3986-42b5-8a93-8921d6ef3246",
   "metadata": {},
   "outputs": [],
   "source": [
    "import sys\n",
    "sys.path.append(\"../../\")\n",
    "\n",
    "from src.models.gcn import *\n",
    "from src.models.trainable import *\n",
    "from src.utils.datasets import *"
   ]
  },
  {
   "cell_type": "code",
   "execution_count": 2,
   "id": "813854b0-8f65-4a68-b6c3-cc15e75bc063",
   "metadata": {},
   "outputs": [],
   "source": [
    "device = \"cuda\" if torch.cuda.is_available() else \"cpu\""
   ]
  },
  {
   "cell_type": "code",
   "execution_count": 3,
   "id": "5e953c5e-475a-4465-9bdc-d19febbb89ec",
   "metadata": {},
   "outputs": [
    {
     "name": "stdout",
     "output_type": "stream",
     "text": [
      "Data(x=[2708, 1433], edge_index=[2, 10556], y=[2708], train_mask=[2708], val_mask=[2708], test_mask=[2708])\n"
     ]
    }
   ],
   "source": [
    "# dataset_directory = \"../Cora\"\n",
    "cora_dataset = Planetoid(root='', name='Cora')\n",
    "data = cora_dataset[0].to(device)\n",
    "print(data)"
   ]
  },
  {
   "cell_type": "code",
   "execution_count": 4,
   "id": "53290538-d585-4c13-a031-811cd2d276fc",
   "metadata": {},
   "outputs": [],
   "source": [
    "model = GCN(data.x.shape[1], cora_dataset.num_classes, [16]).to(device)"
   ]
  },
  {
   "cell_type": "code",
   "execution_count": 5,
   "id": "636231bc-3748-4483-96c4-25626b076349",
   "metadata": {},
   "outputs": [
    {
     "name": "stdout",
     "output_type": "stream",
     "text": [
      "Epoch 0, Train Loss - 1.9406806230545044, Val Loss - 1.8616442680358887, Val Accuracy - 0.498\n",
      "Epoch 20, Train Loss - 0.19662079215049744, Val Loss - 0.7330755591392517, Val Accuracy - 0.766\n",
      "Epoch 40, Train Loss - 0.051634371280670166, Val Loss - 0.715770423412323, Val Accuracy - 0.77\n",
      "Epoch 60, Train Loss - 0.03529077768325806, Val Loss - 0.730455756187439, Val Accuracy - 0.774\n",
      "Epoch 80, Train Loss - 0.06697511672973633, Val Loss - 0.7316685914993286, Val Accuracy - 0.778\n",
      "Epoch 100, Train Loss - 0.04019812121987343, Val Loss - 0.7457674145698547, Val Accuracy - 0.774\n",
      "Epoch 120, Train Loss - 0.036273639649152756, Val Loss - 0.7152151465415955, Val Accuracy - 0.782\n",
      "Epoch 140, Train Loss - 0.03767301142215729, Val Loss - 0.7624191045761108, Val Accuracy - 0.762\n",
      "Epoch 160, Train Loss - 0.025780340656638145, Val Loss - 0.7550540566444397, Val Accuracy - 0.764\n",
      "Epoch 180, Train Loss - 0.028253521770238876, Val Loss - 0.7492799758911133, Val Accuracy - 0.772\n",
      "Epoch 200, Train Loss - 0.03312017768621445, Val Loss - 0.7636149525642395, Val Accuracy - 0.764\n",
      "Epoch 220, Train Loss - 0.021933868527412415, Val Loss - 0.7774487137794495, Val Accuracy - 0.762\n",
      "Epoch 240, Train Loss - 0.03269289806485176, Val Loss - 0.7677567601203918, Val Accuracy - 0.766\n",
      "Epoch 260, Train Loss - 0.020516429096460342, Val Loss - 0.7721314430236816, Val Accuracy - 0.762\n",
      "Epoch 280, Train Loss - 0.021841516718268394, Val Loss - 0.8104905486106873, Val Accuracy - 0.762\n",
      "Epoch 300, Train Loss - 0.024775328114628792, Val Loss - 0.8060464859008789, Val Accuracy - 0.76\n",
      "Epoch 320, Train Loss - 0.017037728801369667, Val Loss - 0.8163777589797974, Val Accuracy - 0.754\n",
      "Epoch 340, Train Loss - 0.01954483613371849, Val Loss - 0.8010731935501099, Val Accuracy - 0.764\n",
      "Epoch 360, Train Loss - 0.016239246353507042, Val Loss - 0.826967716217041, Val Accuracy - 0.762\n",
      "Epoch 380, Train Loss - 0.015341545455157757, Val Loss - 0.8072710037231445, Val Accuracy - 0.762\n",
      "Epoch 400, Train Loss - 0.01303369551897049, Val Loss - 0.8034321069717407, Val Accuracy - 0.762\n",
      "Epoch 420, Train Loss - 0.02019359916448593, Val Loss - 0.8186176419258118, Val Accuracy - 0.764\n",
      "Epoch 440, Train Loss - 0.016463452950119972, Val Loss - 0.816727876663208, Val Accuracy - 0.76\n",
      "Epoch 460, Train Loss - 0.012431129813194275, Val Loss - 0.8183230757713318, Val Accuracy - 0.766\n",
      "Epoch 480, Train Loss - 0.01594274863600731, Val Loss - 0.8327252268791199, Val Accuracy - 0.762\n",
      "Epoch 500, Train Loss - 0.02614552341401577, Val Loss - 0.8018803596496582, Val Accuracy - 0.768\n",
      "Epoch 520, Train Loss - 0.03777702525258064, Val Loss - 0.8101446628570557, Val Accuracy - 0.764\n",
      "Epoch 540, Train Loss - 0.023581448942422867, Val Loss - 0.8245488405227661, Val Accuracy - 0.758\n",
      "Epoch 560, Train Loss - 0.03889351710677147, Val Loss - 0.8154615163803101, Val Accuracy - 0.764\n",
      "Epoch 580, Train Loss - 0.014339243061840534, Val Loss - 0.8171546459197998, Val Accuracy - 0.762\n",
      "Epoch 600, Train Loss - 0.02172945812344551, Val Loss - 0.8097458481788635, Val Accuracy - 0.764\n",
      "Epoch 620, Train Loss - 0.021737443283200264, Val Loss - 0.7812098860740662, Val Accuracy - 0.776\n",
      "Epoch 640, Train Loss - 0.013077424839138985, Val Loss - 0.8219372034072876, Val Accuracy - 0.76\n",
      "Epoch 660, Train Loss - 0.020228644832968712, Val Loss - 0.8365593552589417, Val Accuracy - 0.758\n",
      "Epoch 680, Train Loss - 0.013044812716543674, Val Loss - 0.8466022610664368, Val Accuracy - 0.762\n",
      "Epoch 700, Train Loss - 0.02026020735502243, Val Loss - 0.8545737862586975, Val Accuracy - 0.762\n",
      "Epoch 720, Train Loss - 0.013838927261531353, Val Loss - 0.8375160098075867, Val Accuracy - 0.764\n",
      "Epoch 740, Train Loss - 0.01990431360900402, Val Loss - 0.7977397441864014, Val Accuracy - 0.77\n",
      "Epoch 760, Train Loss - 0.02025723271071911, Val Loss - 0.794658362865448, Val Accuracy - 0.766\n",
      "Epoch 780, Train Loss - 0.01646970771253109, Val Loss - 0.8202279806137085, Val Accuracy - 0.764\n",
      "Epoch 800, Train Loss - 0.01137971505522728, Val Loss - 0.8314927220344543, Val Accuracy - 0.762\n",
      "Epoch 820, Train Loss - 0.016032105311751366, Val Loss - 0.8052000403404236, Val Accuracy - 0.76\n",
      "Epoch 840, Train Loss - 0.0243200846016407, Val Loss - 0.8471298813819885, Val Accuracy - 0.766\n",
      "Epoch 860, Train Loss - 0.01520739495754242, Val Loss - 0.8419318199157715, Val Accuracy - 0.762\n",
      "Epoch 880, Train Loss - 0.025287361815571785, Val Loss - 0.8541635274887085, Val Accuracy - 0.768\n",
      "Epoch 900, Train Loss - 0.02026553824543953, Val Loss - 0.7937914133071899, Val Accuracy - 0.784\n",
      "Epoch 920, Train Loss - 0.027720851823687553, Val Loss - 0.8103684186935425, Val Accuracy - 0.766\n",
      "Epoch 940, Train Loss - 0.030364081263542175, Val Loss - 0.7776718735694885, Val Accuracy - 0.782\n",
      "Epoch 960, Train Loss - 0.02783363126218319, Val Loss - 0.844001054763794, Val Accuracy - 0.766\n",
      "Epoch 980, Train Loss - 0.02282014489173889, Val Loss - 0.8139744400978088, Val Accuracy - 0.776\n",
      "Epoch 1000, Train Loss - 0.023997684940695763, Val Loss - 0.7942602038383484, Val Accuracy - 0.776\n",
      "Loaded best model with Val Accuracy: 0.7880\n"
     ]
    }
   ],
   "source": [
    "model.reset_parameters()\n",
    "train = Trainable(model)\n",
    "train.fit(data, 1000)"
   ]
  },
  {
   "cell_type": "code",
   "execution_count": 6,
   "id": "9dc3ae50-3553-4bdf-bdbb-b8da6132dbac",
   "metadata": {},
   "outputs": [
    {
     "name": "stdout",
     "output_type": "stream",
     "text": [
      "Initial Accuracy: 0.806\n",
      "Initial Loss: 0.655889093875885\n"
     ]
    }
   ],
   "source": [
    "# Get initial accuracy\n",
    "initial_loss, initial_accuracy = train.test(data)\n",
    "print(f\"Initial Accuracy: {initial_accuracy}\")\n",
    "print(f\"Initial Loss: {initial_loss}\")"
   ]
  },
  {
   "cell_type": "code",
   "execution_count": 7,
   "id": "0e0bc825-0e52-40dc-b801-206c66e148d8",
   "metadata": {},
   "outputs": [],
   "source": [
    "model_save_path = \"cora_gcn_model.pth\"\n",
    "torch.save(model.state_dict(), model_save_path)"
   ]
  },
  {
   "cell_type": "code",
   "execution_count": 8,
   "id": "0df08f42-ed26-4402-bb16-f39479646096",
   "metadata": {},
   "outputs": [
    {
     "name": "stdout",
     "output_type": "stream",
     "text": [
      "Data(x=[3327, 3703], edge_index=[2, 9104], y=[3327], train_mask=[3327], val_mask=[3327], test_mask=[3327])\n"
     ]
    }
   ],
   "source": [
    "# dataset_directory = \"../Cora\"\n",
    "citeseer_dataset = Planetoid(root='', name='Citeseer')\n",
    "data = citeseer_dataset[0].to(device)\n",
    "print(data)"
   ]
  },
  {
   "cell_type": "code",
   "execution_count": 9,
   "id": "0552008f-13e3-49c5-8888-778b0212030c",
   "metadata": {},
   "outputs": [],
   "source": [
    "model_citeseer = GCN(data.x.shape[1], citeseer_dataset.num_classes, [16]).to(device)"
   ]
  },
  {
   "cell_type": "code",
   "execution_count": 10,
   "id": "cae9a9b1-8897-421d-a042-b039f8e99380",
   "metadata": {},
   "outputs": [
    {
     "name": "stdout",
     "output_type": "stream",
     "text": [
      "Epoch 0, Train Loss - 1.782078504562378, Val Loss - 1.7396845817565918, Val Accuracy - 0.418\n",
      "Epoch 20, Train Loss - 0.1463148295879364, Val Loss - 1.0530569553375244, Val Accuracy - 0.686\n",
      "Epoch 40, Train Loss - 0.04337730631232262, Val Loss - 1.0957694053649902, Val Accuracy - 0.676\n",
      "Epoch 60, Train Loss - 0.028418447822332382, Val Loss - 1.0620445013046265, Val Accuracy - 0.692\n",
      "Epoch 80, Train Loss - 0.04406058415770531, Val Loss - 1.064539909362793, Val Accuracy - 0.698\n",
      "Epoch 100, Train Loss - 0.051131948828697205, Val Loss - 1.0739496946334839, Val Accuracy - 0.692\n",
      "Epoch 120, Train Loss - 0.03954043239355087, Val Loss - 1.1431055068969727, Val Accuracy - 0.676\n",
      "Epoch 140, Train Loss - 0.05622728914022446, Val Loss - 1.1369200944900513, Val Accuracy - 0.666\n",
      "Epoch 160, Train Loss - 0.02218095399439335, Val Loss - 1.1412909030914307, Val Accuracy - 0.686\n",
      "Epoch 180, Train Loss - 0.029370499774813652, Val Loss - 1.1234887838363647, Val Accuracy - 0.682\n",
      "Epoch 200, Train Loss - 0.046907730400562286, Val Loss - 1.138249397277832, Val Accuracy - 0.666\n",
      "Epoch 220, Train Loss - 0.021838000044226646, Val Loss - 1.2067735195159912, Val Accuracy - 0.672\n",
      "Epoch 240, Train Loss - 0.016543034464120865, Val Loss - 1.198767900466919, Val Accuracy - 0.676\n",
      "Epoch 260, Train Loss - 0.02910350076854229, Val Loss - 1.1771516799926758, Val Accuracy - 0.684\n",
      "Epoch 280, Train Loss - 0.022959686815738678, Val Loss - 1.238460659980774, Val Accuracy - 0.678\n",
      "Epoch 300, Train Loss - 0.02306702546775341, Val Loss - 1.1791577339172363, Val Accuracy - 0.694\n",
      "Epoch 320, Train Loss - 0.019026534631848335, Val Loss - 1.201746940612793, Val Accuracy - 0.696\n",
      "Epoch 340, Train Loss - 0.026063719764351845, Val Loss - 1.2388873100280762, Val Accuracy - 0.686\n",
      "Epoch 360, Train Loss - 0.024458739906549454, Val Loss - 1.2673007249832153, Val Accuracy - 0.68\n",
      "Epoch 380, Train Loss - 0.017772281542420387, Val Loss - 1.2402304410934448, Val Accuracy - 0.692\n",
      "Epoch 400, Train Loss - 0.02313266135752201, Val Loss - 1.226341962814331, Val Accuracy - 0.694\n",
      "Epoch 420, Train Loss - 0.015601343475282192, Val Loss - 1.253085970878601, Val Accuracy - 0.682\n",
      "Epoch 440, Train Loss - 0.026167698204517365, Val Loss - 1.204020380973816, Val Accuracy - 0.684\n",
      "Epoch 460, Train Loss - 0.020645463839173317, Val Loss - 1.2646504640579224, Val Accuracy - 0.684\n",
      "Epoch 480, Train Loss - 0.035097885876894, Val Loss - 1.2418792247772217, Val Accuracy - 0.688\n",
      "Epoch 500, Train Loss - 0.026904433965682983, Val Loss - 1.2626829147338867, Val Accuracy - 0.668\n",
      "Epoch 520, Train Loss - 0.010020120069384575, Val Loss - 1.2661970853805542, Val Accuracy - 0.692\n",
      "Epoch 540, Train Loss - 0.020019153133034706, Val Loss - 1.291748285293579, Val Accuracy - 0.676\n",
      "Epoch 560, Train Loss - 0.048475995659828186, Val Loss - 1.3464877605438232, Val Accuracy - 0.668\n",
      "Epoch 580, Train Loss - 0.02557796612381935, Val Loss - 1.2793222665786743, Val Accuracy - 0.684\n",
      "Epoch 600, Train Loss - 0.015164792537689209, Val Loss - 1.2916085720062256, Val Accuracy - 0.678\n",
      "Epoch 620, Train Loss - 0.012852747924625874, Val Loss - 1.2927660942077637, Val Accuracy - 0.666\n",
      "Epoch 640, Train Loss - 0.01670810393989086, Val Loss - 1.3374758958816528, Val Accuracy - 0.678\n",
      "Epoch 660, Train Loss - 0.014430942013859749, Val Loss - 1.2762246131896973, Val Accuracy - 0.686\n",
      "Epoch 680, Train Loss - 0.02205556258559227, Val Loss - 1.3766285181045532, Val Accuracy - 0.678\n",
      "Epoch 700, Train Loss - 0.0297603327780962, Val Loss - 1.3007853031158447, Val Accuracy - 0.694\n",
      "Epoch 720, Train Loss - 0.015216756612062454, Val Loss - 1.2658976316452026, Val Accuracy - 0.686\n",
      "Epoch 740, Train Loss - 0.027346018701791763, Val Loss - 1.3123635053634644, Val Accuracy - 0.694\n",
      "Epoch 760, Train Loss - 0.014345870353281498, Val Loss - 1.3058651685714722, Val Accuracy - 0.684\n",
      "Epoch 780, Train Loss - 0.013905730098485947, Val Loss - 1.3837369680404663, Val Accuracy - 0.664\n",
      "Epoch 800, Train Loss - 0.013588879257440567, Val Loss - 1.2686138153076172, Val Accuracy - 0.678\n",
      "Epoch 820, Train Loss - 0.016997093334794044, Val Loss - 1.254279375076294, Val Accuracy - 0.688\n",
      "Epoch 840, Train Loss - 0.02431366965174675, Val Loss - 1.2854483127593994, Val Accuracy - 0.684\n",
      "Epoch 860, Train Loss - 0.019650591537356377, Val Loss - 1.349813461303711, Val Accuracy - 0.682\n",
      "Epoch 880, Train Loss - 0.012465786188840866, Val Loss - 1.3098738193511963, Val Accuracy - 0.678\n",
      "Epoch 900, Train Loss - 0.019322454929351807, Val Loss - 1.2729580402374268, Val Accuracy - 0.688\n",
      "Epoch 920, Train Loss - 0.026080790907144547, Val Loss - 1.321244478225708, Val Accuracy - 0.674\n",
      "Epoch 940, Train Loss - 0.01958312653005123, Val Loss - 1.3383510112762451, Val Accuracy - 0.666\n",
      "Epoch 960, Train Loss - 0.007802491541951895, Val Loss - 1.3282712697982788, Val Accuracy - 0.676\n",
      "Epoch 980, Train Loss - 0.031933486461639404, Val Loss - 1.3393079042434692, Val Accuracy - 0.678\n",
      "Epoch 1000, Train Loss - 0.014900288544595242, Val Loss - 1.324267864227295, Val Accuracy - 0.666\n",
      "Loaded best model with Val Accuracy: 0.7120\n"
     ]
    }
   ],
   "source": [
    "model_citeseer.reset_parameters()\n",
    "train = Trainable(model_citeseer)\n",
    "train.fit(data, 1000)"
   ]
  },
  {
   "cell_type": "code",
   "execution_count": 11,
   "id": "6e147875-0d95-4cd9-82b2-8315f5fb6140",
   "metadata": {},
   "outputs": [],
   "source": [
    "model_save_path = \"citeseer_gcn_model.pth\"\n",
    "torch.save(model_citeseer.state_dict(), model_save_path)"
   ]
  },
  {
   "cell_type": "code",
   "execution_count": 12,
   "id": "a3a87081-14c7-4195-9724-b9882fc67405",
   "metadata": {},
   "outputs": [
    {
     "name": "stdout",
     "output_type": "stream",
     "text": [
      "Data(x=[19717, 500], edge_index=[2, 88648], y=[19717], train_mask=[19717], val_mask=[19717], test_mask=[19717])\n"
     ]
    }
   ],
   "source": [
    "# dataset_directory = \"../Cora\"\n",
    "pubmed_dataset = Planetoid(root='', name='Pubmed')\n",
    "data = pubmed_dataset[0].to(device)\n",
    "print(data)"
   ]
  },
  {
   "cell_type": "code",
   "execution_count": 13,
   "id": "c777f9bd-1d0a-4779-9c86-7ab5b57514e2",
   "metadata": {},
   "outputs": [],
   "source": [
    "model_pm = GCN(data.x.shape[1], pubmed_dataset.num_classes, [16]).to(device)"
   ]
  },
  {
   "cell_type": "code",
   "execution_count": 14,
   "id": "a4b046e2-239a-4ed0-b8c4-eda05c8cdb4d",
   "metadata": {},
   "outputs": [
    {
     "name": "stdout",
     "output_type": "stream",
     "text": [
      "Epoch 0, Train Loss - 1.0993696451187134, Val Loss - 1.0941781997680664, Val Accuracy - 0.49\n",
      "Epoch 20, Train Loss - 0.7041409015655518, Val Loss - 0.8412094712257385, Val Accuracy - 0.756\n",
      "Epoch 40, Train Loss - 0.408238023519516, Val Loss - 0.6440209150314331, Val Accuracy - 0.76\n",
      "Epoch 60, Train Loss - 0.228180393576622, Val Loss - 0.5836856365203857, Val Accuracy - 0.776\n",
      "Epoch 80, Train Loss - 0.16857758164405823, Val Loss - 0.5742493867874146, Val Accuracy - 0.772\n",
      "Epoch 100, Train Loss - 0.12406549602746964, Val Loss - 0.5639376640319824, Val Accuracy - 0.774\n",
      "Epoch 120, Train Loss - 0.10311029106378555, Val Loss - 0.5579476356506348, Val Accuracy - 0.776\n",
      "Epoch 140, Train Loss - 0.1005888357758522, Val Loss - 0.5493046641349792, Val Accuracy - 0.788\n",
      "Epoch 160, Train Loss - 0.09770898520946503, Val Loss - 0.5532939434051514, Val Accuracy - 0.78\n",
      "Epoch 180, Train Loss - 0.10283046215772629, Val Loss - 0.5553749203681946, Val Accuracy - 0.782\n",
      "Epoch 200, Train Loss - 0.1144714206457138, Val Loss - 0.5468818545341492, Val Accuracy - 0.786\n",
      "Epoch 220, Train Loss - 0.054542072117328644, Val Loss - 0.5466458797454834, Val Accuracy - 0.782\n",
      "Epoch 240, Train Loss - 0.07557833194732666, Val Loss - 0.5516214370727539, Val Accuracy - 0.78\n",
      "Epoch 260, Train Loss - 0.0855160653591156, Val Loss - 0.5605270266532898, Val Accuracy - 0.79\n",
      "Epoch 280, Train Loss - 0.0739525705575943, Val Loss - 0.5667259693145752, Val Accuracy - 0.782\n",
      "Epoch 300, Train Loss - 0.09199599921703339, Val Loss - 0.5578659176826477, Val Accuracy - 0.784\n",
      "Epoch 320, Train Loss - 0.06193383410573006, Val Loss - 0.5552554130554199, Val Accuracy - 0.782\n",
      "Epoch 340, Train Loss - 0.06431214511394501, Val Loss - 0.5571703910827637, Val Accuracy - 0.776\n",
      "Epoch 360, Train Loss - 0.06272019445896149, Val Loss - 0.5776249766349792, Val Accuracy - 0.768\n",
      "Epoch 380, Train Loss - 0.06482104957103729, Val Loss - 0.5722958445549011, Val Accuracy - 0.77\n",
      "Epoch 400, Train Loss - 0.05123516172170639, Val Loss - 0.568600058555603, Val Accuracy - 0.778\n",
      "Epoch 420, Train Loss - 0.06638203561306, Val Loss - 0.5606029033660889, Val Accuracy - 0.778\n",
      "Epoch 440, Train Loss - 0.048070263117551804, Val Loss - 0.567452073097229, Val Accuracy - 0.778\n",
      "Epoch 460, Train Loss - 0.06397730857133865, Val Loss - 0.5801855325698853, Val Accuracy - 0.782\n",
      "Epoch 480, Train Loss - 0.06248615309596062, Val Loss - 0.572479784488678, Val Accuracy - 0.776\n",
      "Epoch 500, Train Loss - 0.04935629293322563, Val Loss - 0.572925329208374, Val Accuracy - 0.78\n",
      "Epoch 520, Train Loss - 0.04097932577133179, Val Loss - 0.569377601146698, Val Accuracy - 0.778\n",
      "Epoch 540, Train Loss - 0.06553749740123749, Val Loss - 0.5696991086006165, Val Accuracy - 0.78\n",
      "Epoch 560, Train Loss - 0.04967977851629257, Val Loss - 0.576011061668396, Val Accuracy - 0.77\n",
      "Epoch 580, Train Loss - 0.0648028552532196, Val Loss - 0.580354630947113, Val Accuracy - 0.776\n",
      "Epoch 600, Train Loss - 0.04882800951600075, Val Loss - 0.5690762400627136, Val Accuracy - 0.778\n",
      "Epoch 620, Train Loss - 0.03924362733960152, Val Loss - 0.5763428211212158, Val Accuracy - 0.778\n",
      "Epoch 640, Train Loss - 0.06290710717439651, Val Loss - 0.5810796618461609, Val Accuracy - 0.776\n",
      "Epoch 660, Train Loss - 0.054844990372657776, Val Loss - 0.5773753523826599, Val Accuracy - 0.78\n",
      "Epoch 680, Train Loss - 0.0515003576874733, Val Loss - 0.5759933590888977, Val Accuracy - 0.78\n",
      "Epoch 700, Train Loss - 0.039979271590709686, Val Loss - 0.5780442357063293, Val Accuracy - 0.776\n",
      "Epoch 720, Train Loss - 0.03953275457024574, Val Loss - 0.5692273378372192, Val Accuracy - 0.776\n",
      "Epoch 740, Train Loss - 0.057228121906518936, Val Loss - 0.576733410358429, Val Accuracy - 0.778\n",
      "Epoch 760, Train Loss - 0.04234516620635986, Val Loss - 0.5898022055625916, Val Accuracy - 0.776\n",
      "Epoch 780, Train Loss - 0.0637691468000412, Val Loss - 0.5759523510932922, Val Accuracy - 0.776\n",
      "Epoch 800, Train Loss - 0.0474490188062191, Val Loss - 0.5988157391548157, Val Accuracy - 0.766\n",
      "Epoch 820, Train Loss - 0.06987331062555313, Val Loss - 0.5776000618934631, Val Accuracy - 0.78\n",
      "Epoch 840, Train Loss - 0.0678846463561058, Val Loss - 0.5789923071861267, Val Accuracy - 0.782\n",
      "Epoch 860, Train Loss - 0.053409453481435776, Val Loss - 0.5817092657089233, Val Accuracy - 0.776\n",
      "Epoch 880, Train Loss - 0.050373341888189316, Val Loss - 0.5824272036552429, Val Accuracy - 0.78\n",
      "Epoch 900, Train Loss - 0.035733044147491455, Val Loss - 0.584321916103363, Val Accuracy - 0.772\n",
      "Epoch 920, Train Loss - 0.04970832169055939, Val Loss - 0.5899207592010498, Val Accuracy - 0.784\n",
      "Epoch 940, Train Loss - 0.0337270051240921, Val Loss - 0.5798056721687317, Val Accuracy - 0.776\n",
      "Epoch 960, Train Loss - 0.052728958427906036, Val Loss - 0.5884321331977844, Val Accuracy - 0.772\n",
      "Epoch 980, Train Loss - 0.03299718722701073, Val Loss - 0.5861411690711975, Val Accuracy - 0.774\n",
      "Epoch 1000, Train Loss - 0.05113576725125313, Val Loss - 0.6005992889404297, Val Accuracy - 0.766\n",
      "Loaded best model with Val Accuracy: 0.7900\n"
     ]
    }
   ],
   "source": [
    "model_pm.reset_parameters()\n",
    "train = Trainable(model_pm)\n",
    "train.fit(data, 1000)"
   ]
  },
  {
   "cell_type": "code",
   "execution_count": 15,
   "id": "7f91c220-19c3-4ba5-919e-ea3688b0cb33",
   "metadata": {},
   "outputs": [],
   "source": [
    "model_save_path = \"pubmed_gcn_model.pth\"\n",
    "torch.save(model_pm.state_dict(), model_save_path)"
   ]
  }
 ],
 "metadata": {
  "kernelspec": {
   "display_name": "Python 3 (ipykernel)",
   "language": "python",
   "name": "python3"
  },
  "language_info": {
   "codemirror_mode": {
    "name": "ipython",
    "version": 3
   },
   "file_extension": ".py",
   "mimetype": "text/x-python",
   "name": "python",
   "nbconvert_exporter": "python",
   "pygments_lexer": "ipython3",
   "version": "3.8.18"
  }
 },
 "nbformat": 4,
 "nbformat_minor": 5
}
