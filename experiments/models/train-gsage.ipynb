{
 "cells": [
  {
   "cell_type": "code",
   "execution_count": 1,
   "id": "c7e5a193-3986-42b5-8a93-8921d6ef3246",
   "metadata": {},
   "outputs": [],
   "source": [
    "import sys\n",
    "sys.path.append(\"../../\")\n",
    "\n",
    "from src.models.gsage import *\n",
    "from src.models.trainable import *\n",
    "from src.utils.datasets import *"
   ]
  },
  {
   "cell_type": "code",
   "execution_count": 2,
   "id": "813854b0-8f65-4a68-b6c3-cc15e75bc063",
   "metadata": {},
   "outputs": [],
   "source": [
    "device = \"cuda\" if torch.cuda.is_available() else \"cpu\""
   ]
  },
  {
   "cell_type": "code",
   "execution_count": 3,
   "id": "5e953c5e-475a-4465-9bdc-d19febbb89ec",
   "metadata": {},
   "outputs": [
    {
     "name": "stdout",
     "output_type": "stream",
     "text": [
      "Data(x=[2708, 1433], edge_index=[2, 10556], y=[2708], train_mask=[2708], val_mask=[2708], test_mask=[2708])\n"
     ]
    }
   ],
   "source": [
    "# dataset_directory = \"../Cora\"\n",
    "cora_dataset = Planetoid(root='', name='Cora')\n",
    "data = cora_dataset[0].to(device)\n",
    "print(data)"
   ]
  },
  {
   "cell_type": "code",
   "execution_count": 4,
   "id": "53290538-d585-4c13-a031-811cd2d276fc",
   "metadata": {},
   "outputs": [],
   "source": [
    "model = GraphSAGE(data.x.shape[1], cora_dataset.num_classes, [16]).to(device)"
   ]
  },
  {
   "cell_type": "code",
   "execution_count": 5,
   "id": "636231bc-3748-4483-96c4-25626b076349",
   "metadata": {},
   "outputs": [
    {
     "name": "stdout",
     "output_type": "stream",
     "text": [
      "Epoch 0, Train Loss - 1.9659276008605957, Val Loss - 1.973232626914978, Val Accuracy - 0.191\n",
      "Epoch 20, Train Loss - 0.08769622445106506, Val Loss - 0.7544721364974976, Val Accuracy - 0.754\n",
      "Epoch 40, Train Loss - 0.020874742418527603, Val Loss - 0.736168622970581, Val Accuracy - 0.776\n",
      "Epoch 60, Train Loss - 0.022696711122989655, Val Loss - 0.7518669366836548, Val Accuracy - 0.776\n",
      "Epoch 80, Train Loss - 0.019557422026991844, Val Loss - 0.7114182710647583, Val Accuracy - 0.785\n",
      "Epoch 100, Train Loss - 0.026900220662355423, Val Loss - 0.7129030227661133, Val Accuracy - 0.786\n",
      "Epoch 120, Train Loss - 0.02570221573114395, Val Loss - 0.6819232106208801, Val Accuracy - 0.8\n",
      "Epoch 140, Train Loss - 0.017635783180594444, Val Loss - 0.6810007691383362, Val Accuracy - 0.808\n",
      "Epoch 160, Train Loss - 0.02701626345515251, Val Loss - 0.6845752596855164, Val Accuracy - 0.796\n",
      "Epoch 180, Train Loss - 0.016653209924697876, Val Loss - 0.6976307034492493, Val Accuracy - 0.801\n",
      "Epoch 200, Train Loss - 0.02073371410369873, Val Loss - 0.7526146173477173, Val Accuracy - 0.789\n",
      "Epoch 220, Train Loss - 0.01595764048397541, Val Loss - 0.7262797951698303, Val Accuracy - 0.793\n",
      "Epoch 240, Train Loss - 0.014652893878519535, Val Loss - 0.7283706665039062, Val Accuracy - 0.795\n",
      "Epoch 260, Train Loss - 0.0070741018280386925, Val Loss - 0.744437038898468, Val Accuracy - 0.784\n",
      "Epoch 280, Train Loss - 0.018919967114925385, Val Loss - 0.7175990343093872, Val Accuracy - 0.799\n",
      "Epoch 300, Train Loss - 0.012485535815358162, Val Loss - 0.7470235228538513, Val Accuracy - 0.792\n",
      "Epoch 320, Train Loss - 0.01671968773007393, Val Loss - 0.7049543857574463, Val Accuracy - 0.797\n",
      "Epoch 340, Train Loss - 0.00744015583768487, Val Loss - 0.771960973739624, Val Accuracy - 0.787\n",
      "Epoch 360, Train Loss - 0.014204245992004871, Val Loss - 0.692450761795044, Val Accuracy - 0.801\n",
      "Epoch 380, Train Loss - 0.015132006257772446, Val Loss - 0.7122960090637207, Val Accuracy - 0.808\n",
      "Epoch 400, Train Loss - 0.014200245030224323, Val Loss - 0.764574408531189, Val Accuracy - 0.801\n",
      "Epoch 420, Train Loss - 0.011474715545773506, Val Loss - 0.7221677899360657, Val Accuracy - 0.809\n",
      "Epoch 440, Train Loss - 0.008937032893300056, Val Loss - 0.7272329926490784, Val Accuracy - 0.808\n",
      "Epoch 460, Train Loss - 0.01117020659148693, Val Loss - 0.7516648769378662, Val Accuracy - 0.799\n",
      "Epoch 480, Train Loss - 0.016097236424684525, Val Loss - 0.7539072632789612, Val Accuracy - 0.797\n",
      "Epoch 500, Train Loss - 0.009887902066111565, Val Loss - 0.7766606211662292, Val Accuracy - 0.791\n",
      "Epoch 520, Train Loss - 0.01651926338672638, Val Loss - 0.7580323815345764, Val Accuracy - 0.801\n",
      "Epoch 540, Train Loss - 0.0073786242865026, Val Loss - 0.7473108172416687, Val Accuracy - 0.804\n",
      "Epoch 560, Train Loss - 0.024670571088790894, Val Loss - 0.7105668187141418, Val Accuracy - 0.809\n",
      "Epoch 580, Train Loss - 0.007916959933936596, Val Loss - 0.7198848128318787, Val Accuracy - 0.81\n",
      "Epoch 600, Train Loss - 0.003441912354901433, Val Loss - 0.7509796023368835, Val Accuracy - 0.803\n",
      "Epoch 620, Train Loss - 0.005976562853902578, Val Loss - 0.7460241317749023, Val Accuracy - 0.796\n",
      "Epoch 640, Train Loss - 0.018846888095140457, Val Loss - 0.7431929111480713, Val Accuracy - 0.799\n",
      "Epoch 660, Train Loss - 0.00801996048539877, Val Loss - 0.7491800785064697, Val Accuracy - 0.806\n",
      "Epoch 680, Train Loss - 0.008008326403796673, Val Loss - 0.7301470041275024, Val Accuracy - 0.801\n",
      "Epoch 700, Train Loss - 0.00994807854294777, Val Loss - 0.750694215297699, Val Accuracy - 0.803\n",
      "Epoch 720, Train Loss - 0.009985112585127354, Val Loss - 0.7215758562088013, Val Accuracy - 0.804\n",
      "Epoch 740, Train Loss - 0.014117119833827019, Val Loss - 0.7512038350105286, Val Accuracy - 0.799\n",
      "Epoch 760, Train Loss - 0.014854955486953259, Val Loss - 0.7376556396484375, Val Accuracy - 0.813\n",
      "Epoch 780, Train Loss - 0.01135732140392065, Val Loss - 0.7419452667236328, Val Accuracy - 0.801\n",
      "Epoch 800, Train Loss - 0.022558793425559998, Val Loss - 0.7553278803825378, Val Accuracy - 0.799\n",
      "Epoch 820, Train Loss - 0.008306351490318775, Val Loss - 0.7813685536384583, Val Accuracy - 0.794\n",
      "Epoch 840, Train Loss - 0.0072348034009337425, Val Loss - 0.8521723747253418, Val Accuracy - 0.785\n",
      "Epoch 860, Train Loss - 0.007944020442664623, Val Loss - 0.7998736500740051, Val Accuracy - 0.797\n",
      "Epoch 880, Train Loss - 0.010599812492728233, Val Loss - 0.7709370255470276, Val Accuracy - 0.795\n",
      "Epoch 900, Train Loss - 0.008269050158560276, Val Loss - 0.7721981406211853, Val Accuracy - 0.811\n",
      "Epoch 920, Train Loss - 0.011742355301976204, Val Loss - 0.78861403465271, Val Accuracy - 0.795\n",
      "Epoch 940, Train Loss - 0.00766400620341301, Val Loss - 0.7208913564682007, Val Accuracy - 0.808\n",
      "Epoch 960, Train Loss - 0.01657133735716343, Val Loss - 0.688301146030426, Val Accuracy - 0.811\n",
      "Epoch 980, Train Loss - 0.007448805961757898, Val Loss - 0.7223471999168396, Val Accuracy - 0.812\n",
      "Epoch 1000, Train Loss - 0.014109250158071518, Val Loss - 0.7111045122146606, Val Accuracy - 0.804\n"
     ]
    }
   ],
   "source": [
    "model.reset_parameters()\n",
    "train = Trainable(model)\n",
    "train.fit(data, 1000)"
   ]
  },
  {
   "cell_type": "code",
   "execution_count": 6,
   "id": "9dc3ae50-3553-4bdf-bdbb-b8da6132dbac",
   "metadata": {},
   "outputs": [
    {
     "name": "stdout",
     "output_type": "stream",
     "text": [
      "Initial Accuracy: 0.804\n",
      "Initial Loss: 0.7111045122146606\n"
     ]
    }
   ],
   "source": [
    "# Get initial accuracy\n",
    "initial_loss, initial_accuracy = train.test(data)\n",
    "print(f\"Initial Accuracy: {initial_accuracy}\")\n",
    "print(f\"Initial Loss: {initial_loss}\")"
   ]
  },
  {
   "cell_type": "code",
   "execution_count": 7,
   "id": "0e0bc825-0e52-40dc-b801-206c66e148d8",
   "metadata": {},
   "outputs": [],
   "source": [
    "model_save_path = \"cora_gsage_model.pth\"\n",
    "torch.save(model.state_dict(), model_save_path)"
   ]
  },
  {
   "cell_type": "code",
   "execution_count": 8,
   "id": "0df08f42-ed26-4402-bb16-f39479646096",
   "metadata": {},
   "outputs": [
    {
     "name": "stdout",
     "output_type": "stream",
     "text": [
      "Data(x=[3327, 3703], edge_index=[2, 9104], y=[3327], train_mask=[3327], val_mask=[3327], test_mask=[3327])\n"
     ]
    }
   ],
   "source": [
    "# dataset_directory = \"../Cora\"\n",
    "citeseer_dataset = Planetoid(root='', name='Citeseer')\n",
    "data = citeseer_dataset[0].to(device)\n",
    "print(data)"
   ]
  },
  {
   "cell_type": "code",
   "execution_count": 9,
   "id": "0552008f-13e3-49c5-8888-778b0212030c",
   "metadata": {},
   "outputs": [],
   "source": [
    "model_citeseer = GraphSAGE(data.x.shape[1], citeseer_dataset.num_classes, [16]).to(device)"
   ]
  },
  {
   "cell_type": "code",
   "execution_count": 10,
   "id": "cae9a9b1-8897-421d-a042-b039f8e99380",
   "metadata": {},
   "outputs": [
    {
     "name": "stdout",
     "output_type": "stream",
     "text": [
      "Epoch 0, Train Loss - 1.8074030876159668, Val Loss - 1.7662405967712402, Val Accuracy - 0.159\n",
      "Epoch 20, Train Loss - 0.049575600773096085, Val Loss - 1.3380486965179443, Val Accuracy - 0.57\n",
      "Epoch 40, Train Loss - 0.012540665455162525, Val Loss - 1.5621106624603271, Val Accuracy - 0.548\n",
      "Epoch 60, Train Loss - 0.02795947715640068, Val Loss - 1.3099181652069092, Val Accuracy - 0.619\n",
      "Epoch 80, Train Loss - 0.023515138775110245, Val Loss - 1.3277784585952759, Val Accuracy - 0.607\n",
      "Epoch 100, Train Loss - 0.014586728997528553, Val Loss - 1.3153791427612305, Val Accuracy - 0.603\n",
      "Epoch 120, Train Loss - 0.02092350460588932, Val Loss - 1.2877691984176636, Val Accuracy - 0.61\n",
      "Epoch 140, Train Loss - 0.011926990002393723, Val Loss - 1.254800796508789, Val Accuracy - 0.633\n",
      "Epoch 160, Train Loss - 0.030688313767313957, Val Loss - 1.2614805698394775, Val Accuracy - 0.626\n",
      "Epoch 180, Train Loss - 0.027685748413205147, Val Loss - 1.2952141761779785, Val Accuracy - 0.652\n",
      "Epoch 200, Train Loss - 0.010171321220695972, Val Loss - 1.271621584892273, Val Accuracy - 0.641\n",
      "Epoch 220, Train Loss - 0.01666840724647045, Val Loss - 1.3157485723495483, Val Accuracy - 0.638\n",
      "Epoch 240, Train Loss - 0.02540154568850994, Val Loss - 1.340484619140625, Val Accuracy - 0.639\n",
      "Epoch 260, Train Loss - 0.006374838296324015, Val Loss - 1.2941704988479614, Val Accuracy - 0.643\n",
      "Epoch 280, Train Loss - 0.0163551215082407, Val Loss - 1.2717341184616089, Val Accuracy - 0.656\n",
      "Epoch 300, Train Loss - 0.020151257514953613, Val Loss - 1.2528629302978516, Val Accuracy - 0.653\n",
      "Epoch 320, Train Loss - 0.018329521641135216, Val Loss - 1.3013520240783691, Val Accuracy - 0.655\n",
      "Epoch 340, Train Loss - 0.0331806056201458, Val Loss - 1.3606702089309692, Val Accuracy - 0.64\n",
      "Epoch 360, Train Loss - 0.010286257602274418, Val Loss - 1.4247647523880005, Val Accuracy - 0.643\n",
      "Epoch 380, Train Loss - 0.01128469966351986, Val Loss - 1.3661442995071411, Val Accuracy - 0.649\n",
      "Epoch 400, Train Loss - 0.005913182627409697, Val Loss - 1.3788442611694336, Val Accuracy - 0.644\n",
      "Epoch 420, Train Loss - 0.032333455979824066, Val Loss - 1.3701003789901733, Val Accuracy - 0.651\n",
      "Epoch 440, Train Loss - 0.012291631661355495, Val Loss - 1.361060619354248, Val Accuracy - 0.66\n",
      "Epoch 460, Train Loss - 0.02678077481687069, Val Loss - 1.3339245319366455, Val Accuracy - 0.667\n",
      "Epoch 480, Train Loss - 0.0027655886951833963, Val Loss - 1.316606044769287, Val Accuracy - 0.66\n",
      "Epoch 500, Train Loss - 0.008512157015502453, Val Loss - 1.2922065258026123, Val Accuracy - 0.671\n",
      "Epoch 520, Train Loss - 0.014196188189089298, Val Loss - 1.4002851247787476, Val Accuracy - 0.669\n",
      "Epoch 540, Train Loss - 0.011541678570210934, Val Loss - 1.3297702074050903, Val Accuracy - 0.668\n",
      "Epoch 560, Train Loss - 0.009296406991779804, Val Loss - 1.3501293659210205, Val Accuracy - 0.657\n",
      "Epoch 580, Train Loss - 0.015272376127541065, Val Loss - 1.4231230020523071, Val Accuracy - 0.666\n",
      "Epoch 600, Train Loss - 0.01109449565410614, Val Loss - 1.3836559057235718, Val Accuracy - 0.652\n",
      "Epoch 620, Train Loss - 0.01875862292945385, Val Loss - 1.366986870765686, Val Accuracy - 0.677\n",
      "Epoch 640, Train Loss - 0.011895113624632359, Val Loss - 1.4192326068878174, Val Accuracy - 0.665\n",
      "Epoch 660, Train Loss - 0.008746828883886337, Val Loss - 1.4147015810012817, Val Accuracy - 0.676\n",
      "Epoch 680, Train Loss - 0.011425193399190903, Val Loss - 1.3512773513793945, Val Accuracy - 0.669\n",
      "Epoch 700, Train Loss - 0.013837011530995369, Val Loss - 1.4086910486221313, Val Accuracy - 0.665\n",
      "Epoch 720, Train Loss - 0.010783405974507332, Val Loss - 1.4708974361419678, Val Accuracy - 0.679\n",
      "Epoch 740, Train Loss - 0.03189229592680931, Val Loss - 1.3869209289550781, Val Accuracy - 0.676\n",
      "Epoch 760, Train Loss - 0.03946905955672264, Val Loss - 1.4617208242416382, Val Accuracy - 0.646\n",
      "Epoch 780, Train Loss - 0.011297667399048805, Val Loss - 1.443098783493042, Val Accuracy - 0.651\n",
      "Epoch 800, Train Loss - 0.0077557070180773735, Val Loss - 1.4003045558929443, Val Accuracy - 0.665\n",
      "Epoch 820, Train Loss - 0.0038994126953184605, Val Loss - 1.3751038312911987, Val Accuracy - 0.666\n",
      "Epoch 840, Train Loss - 0.022250168025493622, Val Loss - 1.442486047744751, Val Accuracy - 0.669\n",
      "Epoch 860, Train Loss - 0.04189514368772507, Val Loss - 1.4961296319961548, Val Accuracy - 0.667\n",
      "Epoch 880, Train Loss - 0.015011548064649105, Val Loss - 1.4822930097579956, Val Accuracy - 0.656\n",
      "Epoch 900, Train Loss - 0.00900599267333746, Val Loss - 1.452506184577942, Val Accuracy - 0.676\n",
      "Epoch 920, Train Loss - 0.01124410331249237, Val Loss - 1.4899306297302246, Val Accuracy - 0.689\n",
      "Epoch 940, Train Loss - 0.004469354171305895, Val Loss - 1.5112040042877197, Val Accuracy - 0.665\n",
      "Epoch 960, Train Loss - 0.007429054006934166, Val Loss - 1.5259716510772705, Val Accuracy - 0.648\n",
      "Epoch 980, Train Loss - 0.01433655433356762, Val Loss - 1.4443228244781494, Val Accuracy - 0.675\n",
      "Epoch 1000, Train Loss - 0.01435603853315115, Val Loss - 1.4953724145889282, Val Accuracy - 0.654\n"
     ]
    }
   ],
   "source": [
    "model_citeseer.reset_parameters()\n",
    "train = Trainable(model_citeseer)\n",
    "train.fit(data, 1000)"
   ]
  },
  {
   "cell_type": "code",
   "execution_count": 11,
   "id": "6e147875-0d95-4cd9-82b2-8315f5fb6140",
   "metadata": {},
   "outputs": [],
   "source": [
    "model_save_path = \"citeseer_gsage_model.pth\"\n",
    "torch.save(model_citeseer.state_dict(), model_save_path)"
   ]
  },
  {
   "cell_type": "code",
   "execution_count": 12,
   "id": "a3a87081-14c7-4195-9724-b9882fc67405",
   "metadata": {},
   "outputs": [
    {
     "name": "stdout",
     "output_type": "stream",
     "text": [
      "Data(x=[19717, 500], edge_index=[2, 88648], y=[19717], train_mask=[19717], val_mask=[19717], test_mask=[19717])\n"
     ]
    }
   ],
   "source": [
    "# dataset_directory = \"../Cora\"\n",
    "pubmed_dataset = Planetoid(root='', name='Pubmed')\n",
    "data = pubmed_dataset[0].to(device)\n",
    "print(data)"
   ]
  },
  {
   "cell_type": "code",
   "execution_count": 13,
   "id": "c777f9bd-1d0a-4779-9c86-7ab5b57514e2",
   "metadata": {},
   "outputs": [],
   "source": [
    "model_pubmed = GraphSAGE(data.x.shape[1], pubmed_dataset.num_classes, [16]).to(device)"
   ]
  },
  {
   "cell_type": "code",
   "execution_count": 14,
   "id": "a4b046e2-239a-4ed0-b8c4-eda05c8cdb4d",
   "metadata": {},
   "outputs": [
    {
     "name": "stdout",
     "output_type": "stream",
     "text": [
      "Epoch 0, Train Loss - 1.1111137866973877, Val Loss - 1.145468831062317, Val Accuracy - 0.18\n",
      "Epoch 20, Train Loss - 0.4548541009426117, Val Loss - 0.7500870227813721, Val Accuracy - 0.715\n",
      "Epoch 40, Train Loss - 0.10970357805490494, Val Loss - 0.6111049056053162, Val Accuracy - 0.751\n",
      "Epoch 60, Train Loss - 0.0634944960474968, Val Loss - 0.6255913376808167, Val Accuracy - 0.767\n",
      "Epoch 80, Train Loss - 0.039290618151426315, Val Loss - 0.6209375262260437, Val Accuracy - 0.758\n",
      "Epoch 100, Train Loss - 0.0798816978931427, Val Loss - 0.6223451495170593, Val Accuracy - 0.758\n",
      "Epoch 120, Train Loss - 0.044149596244096756, Val Loss - 0.6297682523727417, Val Accuracy - 0.761\n",
      "Epoch 140, Train Loss - 0.029286453500390053, Val Loss - 0.6409002542495728, Val Accuracy - 0.768\n",
      "Epoch 160, Train Loss - 0.04940580576658249, Val Loss - 0.6468634605407715, Val Accuracy - 0.772\n",
      "Epoch 180, Train Loss - 0.03276805207133293, Val Loss - 0.6513179540634155, Val Accuracy - 0.761\n",
      "Epoch 200, Train Loss - 0.03590739518404007, Val Loss - 0.6540223956108093, Val Accuracy - 0.77\n",
      "Epoch 220, Train Loss - 0.02541041001677513, Val Loss - 0.6682661771774292, Val Accuracy - 0.759\n",
      "Epoch 240, Train Loss - 0.015649186447262764, Val Loss - 0.6616576910018921, Val Accuracy - 0.764\n",
      "Epoch 260, Train Loss - 0.03361828997731209, Val Loss - 0.6799957156181335, Val Accuracy - 0.759\n",
      "Epoch 280, Train Loss - 0.020217427983880043, Val Loss - 0.6882720589637756, Val Accuracy - 0.763\n",
      "Epoch 300, Train Loss - 0.035058312118053436, Val Loss - 0.6703405976295471, Val Accuracy - 0.761\n",
      "Epoch 320, Train Loss - 0.02093435451388359, Val Loss - 0.6724923253059387, Val Accuracy - 0.762\n",
      "Epoch 340, Train Loss - 0.02696908824145794, Val Loss - 0.6821277737617493, Val Accuracy - 0.764\n",
      "Epoch 360, Train Loss - 0.027001937851309776, Val Loss - 0.6803396344184875, Val Accuracy - 0.764\n",
      "Epoch 380, Train Loss - 0.020149894058704376, Val Loss - 0.7084546089172363, Val Accuracy - 0.759\n",
      "Epoch 400, Train Loss - 0.020418690517544746, Val Loss - 0.6911903619766235, Val Accuracy - 0.77\n",
      "Epoch 420, Train Loss - 0.01890404336154461, Val Loss - 0.6936478018760681, Val Accuracy - 0.761\n",
      "Epoch 440, Train Loss - 0.03142837435007095, Val Loss - 0.6966482996940613, Val Accuracy - 0.769\n",
      "Epoch 460, Train Loss - 0.02776166796684265, Val Loss - 0.6986692547798157, Val Accuracy - 0.763\n",
      "Epoch 480, Train Loss - 0.02967851236462593, Val Loss - 0.6987317800521851, Val Accuracy - 0.764\n",
      "Epoch 500, Train Loss - 0.04765455424785614, Val Loss - 0.696625292301178, Val Accuracy - 0.764\n",
      "Epoch 520, Train Loss - 0.012219329364597797, Val Loss - 0.6945715546607971, Val Accuracy - 0.765\n",
      "Epoch 540, Train Loss - 0.018073169514536858, Val Loss - 0.7304370999336243, Val Accuracy - 0.764\n",
      "Epoch 560, Train Loss - 0.01918874867260456, Val Loss - 0.7190524339675903, Val Accuracy - 0.761\n",
      "Epoch 580, Train Loss - 0.008639905601739883, Val Loss - 0.7137753963470459, Val Accuracy - 0.761\n",
      "Epoch 600, Train Loss - 0.014847462065517902, Val Loss - 0.7144810557365417, Val Accuracy - 0.767\n",
      "Epoch 620, Train Loss - 0.03598754107952118, Val Loss - 0.7168538570404053, Val Accuracy - 0.761\n",
      "Epoch 640, Train Loss - 0.013971402309834957, Val Loss - 0.717363715171814, Val Accuracy - 0.768\n",
      "Epoch 660, Train Loss - 0.01909150369465351, Val Loss - 0.7426477670669556, Val Accuracy - 0.769\n",
      "Epoch 680, Train Loss - 0.015593873336911201, Val Loss - 0.7297960519790649, Val Accuracy - 0.76\n",
      "Epoch 700, Train Loss - 0.028314698487520218, Val Loss - 0.718845784664154, Val Accuracy - 0.758\n",
      "Epoch 720, Train Loss - 0.020372679457068443, Val Loss - 0.706510603427887, Val Accuracy - 0.769\n",
      "Epoch 740, Train Loss - 0.0188005231320858, Val Loss - 0.7200755476951599, Val Accuracy - 0.774\n",
      "Epoch 760, Train Loss - 0.019097018986940384, Val Loss - 0.7069973349571228, Val Accuracy - 0.764\n",
      "Epoch 780, Train Loss - 0.024058956652879715, Val Loss - 0.7042765021324158, Val Accuracy - 0.77\n",
      "Epoch 800, Train Loss - 0.016626575961709023, Val Loss - 0.747978150844574, Val Accuracy - 0.761\n",
      "Epoch 820, Train Loss - 0.01467055268585682, Val Loss - 0.7185781002044678, Val Accuracy - 0.765\n",
      "Epoch 840, Train Loss - 0.019404439255595207, Val Loss - 0.7543177008628845, Val Accuracy - 0.774\n",
      "Epoch 860, Train Loss - 0.03745751455426216, Val Loss - 0.7151175737380981, Val Accuracy - 0.763\n",
      "Epoch 880, Train Loss - 0.015385756269097328, Val Loss - 0.7215403914451599, Val Accuracy - 0.767\n",
      "Epoch 900, Train Loss - 0.0120948301628232, Val Loss - 0.7260342836380005, Val Accuracy - 0.759\n",
      "Epoch 920, Train Loss - 0.014680148102343082, Val Loss - 0.7133029699325562, Val Accuracy - 0.764\n",
      "Epoch 940, Train Loss - 0.015429089777171612, Val Loss - 0.7132353186607361, Val Accuracy - 0.773\n",
      "Epoch 960, Train Loss - 0.012231011874973774, Val Loss - 0.7163777947425842, Val Accuracy - 0.76\n",
      "Epoch 980, Train Loss - 0.016081979498267174, Val Loss - 0.7276708483695984, Val Accuracy - 0.775\n",
      "Epoch 1000, Train Loss - 0.01080887671560049, Val Loss - 0.7067811489105225, Val Accuracy - 0.771\n"
     ]
    }
   ],
   "source": [
    "model_pubmed.reset_parameters()\n",
    "train = Trainable(model_pubmed)\n",
    "train.fit(data, 1000)"
   ]
  },
  {
   "cell_type": "code",
   "execution_count": 15,
   "id": "7f91c220-19c3-4ba5-919e-ea3688b0cb33",
   "metadata": {},
   "outputs": [],
   "source": [
    "model_save_path = \"pubmed_gsage_model.pth\"\n",
    "torch.save(model_pubmed.state_dict(), model_save_path)"
   ]
  }
 ],
 "metadata": {
  "kernelspec": {
   "display_name": "Python 3 (ipykernel)",
   "language": "python",
   "name": "python3"
  },
  "language_info": {
   "codemirror_mode": {
    "name": "ipython",
    "version": 3
   },
   "file_extension": ".py",
   "mimetype": "text/x-python",
   "name": "python",
   "nbconvert_exporter": "python",
   "pygments_lexer": "ipython3",
   "version": "3.8.18"
  }
 },
 "nbformat": 4,
 "nbformat_minor": 5
}
