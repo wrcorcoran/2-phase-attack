{
 "cells": [
  {
   "cell_type": "code",
   "execution_count": 1,
   "id": "2f7bd744-ecc5-4d22-85eb-fd4121a1eb87",
   "metadata": {},
   "outputs": [],
   "source": [
    "import sys\n",
    "sys.path.append('../../src/')\n",
    "from models.gcn import *\n",
    "from utils.datasets import *\n",
    "\n",
    "device = torch.device('cuda' if torch.cuda.is_available() else 'cpu')"
   ]
  },
  {
   "cell_type": "code",
   "execution_count": 2,
   "id": "5f23af3a-7f9d-4240-95a2-ddeeada157c1",
   "metadata": {},
   "outputs": [],
   "source": [
    "cora_dataset = Planetoid(root='/tmp/Cora', name='Cora')\n",
    "data = cora_dataset[0].to(device)\n",
    "model = GCN(data.x.shape[1], 64, cora_dataset.num_classes).to(device)"
   ]
  },
  {
   "cell_type": "code",
   "execution_count": 3,
   "id": "f2f69a4e-3046-49a3-817c-25c5620da1f6",
   "metadata": {},
   "outputs": [
    {
     "data": {
      "application/vnd.jupyter.widget-view+json": {
       "model_id": "15c9569ac93c45c093fd062e4e2af43e",
       "version_major": 2,
       "version_minor": 0
      },
      "text/plain": [
       "Training Epochs:   0%|          | 0/200 [00:00<?, ?it/s]"
      ]
     },
     "metadata": {},
     "output_type": "display_data"
    }
   ],
   "source": [
    "model.fit(data, 200)"
   ]
  },
  {
   "cell_type": "code",
   "execution_count": 4,
   "id": "b1eb4cd0-3204-4808-8294-3cf48173e6c3",
   "metadata": {},
   "outputs": [
    {
     "data": {
      "text/plain": [
       "0.787"
      ]
     },
     "execution_count": 4,
     "metadata": {},
     "output_type": "execute_result"
    }
   ],
   "source": [
    "model.test(data)"
   ]
  }
 ],
 "metadata": {
  "kernelspec": {
   "display_name": "Python 3 (ipykernel)",
   "language": "python",
   "name": "python3"
  },
  "language_info": {
   "codemirror_mode": {
    "name": "ipython",
    "version": 3
   },
   "file_extension": ".py",
   "mimetype": "text/x-python",
   "name": "python",
   "nbconvert_exporter": "python",
   "pygments_lexer": "ipython3",
   "version": "3.9.18"
  }
 },
 "nbformat": 4,
 "nbformat_minor": 5
}
