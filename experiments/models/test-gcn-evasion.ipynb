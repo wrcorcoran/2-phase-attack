{
 "cells": [
  {
   "cell_type": "code",
   "execution_count": 1,
   "id": "c7e5a193-3986-42b5-8a93-8921d6ef3246",
   "metadata": {},
   "outputs": [],
   "source": [
    "import sys\n",
    "from torch_geometric.utils import dense_to_sparse, from_networkx, to_networkx\n",
    "import copy\n",
    "from collections import defaultdict\n",
    "sys.path.append(\"../../\")\n",
    "\n",
    "from src.models.gcn import *\n",
    "from src.models.trainable import *\n",
    "from src.utils.datasets import *\n",
    "from src.attacks.greedy_gd import *"
   ]
  },
  {
   "cell_type": "code",
   "execution_count": 2,
   "id": "813854b0-8f65-4a68-b6c3-cc15e75bc063",
   "metadata": {},
   "outputs": [],
   "source": [
    "device = \"cuda\" if torch.cuda.is_available() else \"cpu\""
   ]
  },
  {
   "cell_type": "code",
   "execution_count": 3,
   "id": "5e953c5e-475a-4465-9bdc-d19febbb89ec",
   "metadata": {},
   "outputs": [
    {
     "name": "stdout",
     "output_type": "stream",
     "text": [
      "Data(x=[2708, 1433], edge_index=[2, 10556], y=[2708], train_mask=[2708], val_mask=[2708], test_mask=[2708])\n"
     ]
    }
   ],
   "source": [
    "# dataset_directory = \"../Cora\"\n",
    "cora_dataset = Planetoid(root='', name='Cora')\n",
    "data = cora_dataset[0].to(device)\n",
    "print(data)"
   ]
  },
  {
   "cell_type": "code",
   "execution_count": 4,
   "id": "53290538-d585-4c13-a031-811cd2d276fc",
   "metadata": {},
   "outputs": [],
   "source": [
    "model = GCN(data.x.shape[1], cora_dataset.num_classes, [16]).to(device)"
   ]
  },
  {
   "cell_type": "code",
   "execution_count": 5,
   "id": "636231bc-3748-4483-96c4-25626b076349",
   "metadata": {},
   "outputs": [
    {
     "name": "stdout",
     "output_type": "stream",
     "text": [
      "Epoch 0, Train Loss - 4.468594074249268, Val Loss - 4.261735916137695, Val Accuracy - 0.116\n",
      "Epoch 20, Train Loss - 0.47768130898475647, Val Loss - 1.3832261562347412, Val Accuracy - 0.71\n",
      "Epoch 40, Train Loss - 0.20140530169010162, Val Loss - 1.3341807126998901, Val Accuracy - 0.729\n",
      "Epoch 60, Train Loss - 0.10291904956102371, Val Loss - 1.6533875465393066, Val Accuracy - 0.716\n",
      "Epoch 80, Train Loss - 0.17522713541984558, Val Loss - 1.6424568891525269, Val Accuracy - 0.735\n",
      "Epoch 100, Train Loss - 0.11405123025178909, Val Loss - 2.1050448417663574, Val Accuracy - 0.72\n",
      "Epoch 120, Train Loss - 0.08180216699838638, Val Loss - 2.17435622215271, Val Accuracy - 0.726\n",
      "Epoch 140, Train Loss - 0.046544719487428665, Val Loss - 2.046952247619629, Val Accuracy - 0.726\n",
      "Epoch 160, Train Loss - 0.07635019719600677, Val Loss - 2.295947551727295, Val Accuracy - 0.727\n",
      "Epoch 180, Train Loss - 0.11360016465187073, Val Loss - 1.84902822971344, Val Accuracy - 0.755\n",
      "Epoch 200, Train Loss - 0.05644615367054939, Val Loss - 2.1244397163391113, Val Accuracy - 0.729\n",
      "Loaded best model with Val Accuracy: 0.7550\n"
     ]
    }
   ],
   "source": [
    "model.reset_parameters()\n",
    "train = Trainable(model)\n",
    "train.fit(data, 200)"
   ]
  },
  {
   "cell_type": "code",
   "execution_count": 6,
   "id": "9dc3ae50-3553-4bdf-bdbb-b8da6132dbac",
   "metadata": {},
   "outputs": [
    {
     "name": "stdout",
     "output_type": "stream",
     "text": [
      "Initial Accuracy: 0.755\n",
      "Initial Loss: 1.84902822971344\n"
     ]
    }
   ],
   "source": [
    "# Get initial accuracy\n",
    "initial_loss, initial_accuracy = train.test(data)\n",
    "print(f\"Initial Accuracy: {initial_accuracy}\")\n",
    "print(f\"Initial Loss: {initial_loss}\")"
   ]
  },
  {
   "cell_type": "code",
   "execution_count": 7,
   "id": "0ec962bd-3a5d-49ca-adb9-9302e5c72c80",
   "metadata": {},
   "outputs": [
    {
     "data": {
      "application/vnd.jupyter.widget-view+json": {
       "model_id": "942d88b23d8548a2b045684644b64554",
       "version_major": 2,
       "version_minor": 0
      },
      "text/plain": [
       "Peturbing graph...:   0%|          | 0/395 [00:00<?, ?it/s]"
      ]
     },
     "metadata": {},
     "output_type": "display_data"
    },
    {
     "data": {
      "text/plain": [
       "Metattack(\n",
       "  (surrogate): GCN(\n",
       "    (conv): Sequential(\n",
       "      (0): GCNConv()\n",
       "      (1): ReLU()\n",
       "      (2): Dropout(p=0.5, inplace=False)\n",
       "      (3): GCNConv()\n",
       "    )\n",
       "  )\n",
       ")"
      ]
     },
     "execution_count": 7,
     "metadata": {},
     "output_type": "execute_result"
    }
   ],
   "source": [
    "# attack\n",
    "# attacked_data = from_networkx(data).to(device)\n",
    "# attacked_data.x = data.x\n",
    "# attacked_data.y = data.y\n",
    "# attacked_data.train_mask = data.train_mask\n",
    "# attacked_data.test_mask = data.test_mask\n",
    "attacked_data = copy.deepcopy(data)\n",
    "\n",
    "attacker_dirty = Metattack(attacked_data, device=device)\n",
    "attacker_dirty.setup_surrogate(\n",
    "        model,\n",
    "        labeled_nodes=attacked_data.train_mask,\n",
    "        unlabeled_nodes=attacked_data.test_mask,\n",
    "        lambda_=0.0,\n",
    ")\n",
    "attacker_dirty.reset()\n",
    "attacker_dirty.attack(0.075)#15%"
   ]
  },
  {
   "cell_type": "code",
   "execution_count": 8,
   "id": "47ca6888-5bbe-42ea-a07f-6335760cd01f",
   "metadata": {},
   "outputs": [],
   "source": [
    "G_dirty = to_networkx(data)"
   ]
  },
  {
   "cell_type": "code",
   "execution_count": 9,
   "id": "a09c878e-d847-4945-b8cf-8ce985142ba7",
   "metadata": {},
   "outputs": [
    {
     "data": {
      "text/plain": [
       "10556"
      ]
     },
     "execution_count": 9,
     "metadata": {},
     "output_type": "execute_result"
    }
   ],
   "source": [
    "G_dirty.number_of_edges()"
   ]
  },
  {
   "cell_type": "code",
   "execution_count": 10,
   "id": "ffd23e77-70ac-4dfe-b6a5-408a2b3852ef",
   "metadata": {},
   "outputs": [],
   "source": [
    "degs_dirty = defaultdict(tuple)\n",
    "\n",
    "for k, v in attacker_dirty._added_edges.items():\n",
    "    degs_dirty[v] = (k, True)\n",
    "\n",
    "for k, v in attacker_dirty._removed_edges.items():\n",
    "    degs_dirty[v] = (k, False)\n",
    "\n",
    "for _, second in degs_dirty.items():\n",
    "    u, v = second[0]\n",
    "    if second[1]:\n",
    "        G_dirty.add_edge(u, v)\n",
    "    else:\n",
    "        G_dirty.remove_edge(u, v)"
   ]
  },
  {
   "cell_type": "code",
   "execution_count": 11,
   "id": "8ad9c729-c3e3-45ee-a243-7d39d3c81575",
   "metadata": {},
   "outputs": [
    {
     "data": {
      "text/plain": [
       "10939"
      ]
     },
     "execution_count": 11,
     "metadata": {},
     "output_type": "execute_result"
    }
   ],
   "source": [
    "G_dirty.number_of_edges()"
   ]
  },
  {
   "cell_type": "code",
   "execution_count": 12,
   "id": "5a4ebb1f-d6d0-444f-a649-ba0d2f0de581",
   "metadata": {},
   "outputs": [],
   "source": [
    "attacked_data_2 = from_networkx(G_dirty).to(device)\n",
    "attacked_data_2.x = attacked_data.x\n",
    "attacked_data_2.y = attacked_data.y\n",
    "attacked_data_2.train_mask = attacked_data.train_mask\n",
    "attacked_data_2.test_mask = attacked_data.test_mask"
   ]
  },
  {
   "cell_type": "code",
   "execution_count": 13,
   "id": "34c2735e-11b9-4349-834e-4cee741b4a00",
   "metadata": {},
   "outputs": [
    {
     "name": "stdout",
     "output_type": "stream",
     "text": [
      "Poisoned:\n",
      "\n",
      "Poisoned Accuracy: 0.736\n",
      "Poisoned Loss: 2.014631748199463\n"
     ]
    }
   ],
   "source": [
    "# Get initial accuracy\n",
    "print(\"Poisoned:\\n\")\n",
    "initial_loss, initial_accuracy = train.test(attacked_data_2)\n",
    "print(f\"Poisoned Accuracy: {initial_accuracy}\")\n",
    "print(f\"Poisoned Loss: {initial_loss}\")"
   ]
  },
  {
   "cell_type": "code",
   "execution_count": 14,
   "id": "c7c855dd-0104-40d7-98de-f8cea8003825",
   "metadata": {},
   "outputs": [],
   "source": [
    "model_2 = GCN(data.x.shape[1], cora_dataset.num_classes, [16]).to(device)"
   ]
  },
  {
   "cell_type": "code",
   "execution_count": 15,
   "id": "8b1f8937-1da7-448b-a659-b0d12b570872",
   "metadata": {},
   "outputs": [
    {
     "name": "stdout",
     "output_type": "stream",
     "text": [
      "Epoch 0, Train Loss - 3.721851348876953, Val Loss - 5.060287952423096, Val Accuracy - 0.168\n",
      "Epoch 20, Train Loss - 0.359022855758667, Val Loss - 1.5024776458740234, Val Accuracy - 0.68\n",
      "Epoch 40, Train Loss - 0.23323506116867065, Val Loss - 1.689511775970459, Val Accuracy - 0.679\n",
      "Epoch 60, Train Loss - 0.1821385771036148, Val Loss - 1.6681135892868042, Val Accuracy - 0.693\n",
      "Epoch 80, Train Loss - 0.121980682015419, Val Loss - 1.6432948112487793, Val Accuracy - 0.71\n",
      "Epoch 100, Train Loss - 0.1093253567814827, Val Loss - 1.7486178874969482, Val Accuracy - 0.714\n",
      "Epoch 120, Train Loss - 0.09885122627019882, Val Loss - 1.9071998596191406, Val Accuracy - 0.709\n",
      "Epoch 140, Train Loss - 0.056614816188812256, Val Loss - 1.756057620048523, Val Accuracy - 0.723\n",
      "Epoch 160, Train Loss - 0.08454537391662598, Val Loss - 1.8248765468597412, Val Accuracy - 0.721\n",
      "Epoch 180, Train Loss - 0.08353882282972336, Val Loss - 1.9403897523880005, Val Accuracy - 0.707\n",
      "Epoch 200, Train Loss - 0.06822417676448822, Val Loss - 2.0010924339294434, Val Accuracy - 0.706\n",
      "Loaded best model with Val Accuracy: 0.7270\n"
     ]
    }
   ],
   "source": [
    "model_2.reset_parameters()\n",
    "train_2 = Trainable(model_2)\n",
    "train_2.fit(attacked_data_2, 200)"
   ]
  },
  {
   "cell_type": "code",
   "execution_count": 16,
   "id": "eca51ac3-87ee-4aa2-96e8-7dd100045ca7",
   "metadata": {},
   "outputs": [
    {
     "name": "stdout",
     "output_type": "stream",
     "text": [
      "Evasion:\n",
      "\n",
      "Evasion Accuracy: 0.727\n",
      "Evasion Loss: 1.9504480361938477\n"
     ]
    }
   ],
   "source": [
    "# Get initial accuracy\n",
    "print(\"Evasion:\\n\")\n",
    "initial_loss, initial_accuracy = train_2.test(attacked_data_2)\n",
    "print(f\"Evasion Accuracy: {initial_accuracy}\")\n",
    "print(f\"Evasion Loss: {initial_loss}\")"
   ]
  },
  {
   "cell_type": "code",
   "execution_count": 17,
   "id": "0e0bc825-0e52-40dc-b801-206c66e148d8",
   "metadata": {},
   "outputs": [],
   "source": [
    "# model_save_path = \"cora_gcn_model.pth\"\n",
    "# torch.save(model.state_dict(), model_save_path)"
   ]
  }
 ],
 "metadata": {
  "kernelspec": {
   "display_name": "Python 3 (ipykernel)",
   "language": "python",
   "name": "python3"
  },
  "language_info": {
   "codemirror_mode": {
    "name": "ipython",
    "version": 3
   },
   "file_extension": ".py",
   "mimetype": "text/x-python",
   "name": "python",
   "nbconvert_exporter": "python",
   "pygments_lexer": "ipython3",
   "version": "3.8.18"
  }
 },
 "nbformat": 4,
 "nbformat_minor": 5
}
