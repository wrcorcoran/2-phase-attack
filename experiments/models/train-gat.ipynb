{
 "cells": [
  {
   "cell_type": "code",
   "execution_count": 1,
   "id": "c7e5a193-3986-42b5-8a93-8921d6ef3246",
   "metadata": {},
   "outputs": [],
   "source": [
    "import sys\n",
    "sys.path.append(\"../../\")\n",
    "\n",
    "from src.models.gat import *\n",
    "from src.models.trainable import *\n",
    "from src.utils.datasets import *"
   ]
  },
  {
   "cell_type": "code",
   "execution_count": 2,
   "id": "813854b0-8f65-4a68-b6c3-cc15e75bc063",
   "metadata": {},
   "outputs": [],
   "source": [
    "device = \"cuda\" if torch.cuda.is_available() else \"cpu\""
   ]
  },
  {
   "cell_type": "code",
   "execution_count": 3,
   "id": "5e953c5e-475a-4465-9bdc-d19febbb89ec",
   "metadata": {},
   "outputs": [
    {
     "name": "stdout",
     "output_type": "stream",
     "text": [
      "Data(x=[2708, 1433], edge_index=[2, 10556], y=[2708], train_mask=[2708], val_mask=[2708], test_mask=[2708])\n"
     ]
    }
   ],
   "source": [
    "# dataset_directory = \"../Cora\"\n",
    "cora_dataset = Planetoid(root='', name='Cora')\n",
    "data = cora_dataset[0].to(device)\n",
    "print(data)"
   ]
  },
  {
   "cell_type": "code",
   "execution_count": 4,
   "id": "53290538-d585-4c13-a031-811cd2d276fc",
   "metadata": {},
   "outputs": [],
   "source": [
    "model = GAT(data.x.shape[1], cora_dataset.num_classes, [16]).to(device)"
   ]
  },
  {
   "cell_type": "code",
   "execution_count": 5,
   "id": "636231bc-3748-4483-96c4-25626b076349",
   "metadata": {},
   "outputs": [
    {
     "name": "stdout",
     "output_type": "stream",
     "text": [
      "Epoch 0, Train Loss - 1.9578181505203247, Val Loss - 1.8510514497756958, Val Accuracy - 0.446\n",
      "Epoch 20, Train Loss - 0.4094915986061096, Val Loss - 0.6809505224227905, Val Accuracy - 0.788\n",
      "Epoch 40, Train Loss - 0.23917445540428162, Val Loss - 0.6896176338195801, Val Accuracy - 0.797\n",
      "Epoch 60, Train Loss - 0.19930358231067657, Val Loss - 0.7097822427749634, Val Accuracy - 0.808\n",
      "Epoch 80, Train Loss - 0.25528189539909363, Val Loss - 0.7223581671714783, Val Accuracy - 0.804\n",
      "Epoch 100, Train Loss - 0.34893596172332764, Val Loss - 0.7288333177566528, Val Accuracy - 0.812\n",
      "Epoch 120, Train Loss - 0.20513813197612762, Val Loss - 0.7434492707252502, Val Accuracy - 0.806\n",
      "Epoch 140, Train Loss - 0.18262191116809845, Val Loss - 0.775157630443573, Val Accuracy - 0.808\n",
      "Epoch 160, Train Loss - 0.24398234486579895, Val Loss - 0.8836939930915833, Val Accuracy - 0.787\n",
      "Epoch 180, Train Loss - 0.19659657776355743, Val Loss - 0.8022385835647583, Val Accuracy - 0.802\n",
      "Epoch 200, Train Loss - 0.2490750402212143, Val Loss - 0.8020427823066711, Val Accuracy - 0.808\n",
      "Epoch 220, Train Loss - 0.27937746047973633, Val Loss - 0.7979496121406555, Val Accuracy - 0.803\n",
      "Epoch 240, Train Loss - 0.1941106617450714, Val Loss - 0.8131393790245056, Val Accuracy - 0.806\n",
      "Epoch 260, Train Loss - 0.2118675857782364, Val Loss - 0.8679352402687073, Val Accuracy - 0.8\n",
      "Epoch 280, Train Loss - 0.2354089766740799, Val Loss - 0.8727618455886841, Val Accuracy - 0.807\n",
      "Epoch 300, Train Loss - 0.19554029405117035, Val Loss - 0.911180317401886, Val Accuracy - 0.784\n",
      "Epoch 320, Train Loss - 0.23024088144302368, Val Loss - 0.82725989818573, Val Accuracy - 0.815\n",
      "Epoch 340, Train Loss - 0.2157161682844162, Val Loss - 0.8895173668861389, Val Accuracy - 0.791\n",
      "Epoch 360, Train Loss - 0.1560317575931549, Val Loss - 0.8135508894920349, Val Accuracy - 0.811\n",
      "Epoch 380, Train Loss - 0.11488310992717743, Val Loss - 0.8337852954864502, Val Accuracy - 0.798\n",
      "Epoch 400, Train Loss - 0.23652973771095276, Val Loss - 0.8238847851753235, Val Accuracy - 0.801\n",
      "Epoch 420, Train Loss - 0.14404135942459106, Val Loss - 0.8344644904136658, Val Accuracy - 0.794\n",
      "Epoch 440, Train Loss - 0.3009478449821472, Val Loss - 0.8061376810073853, Val Accuracy - 0.812\n",
      "Epoch 460, Train Loss - 0.2661454677581787, Val Loss - 0.8796922564506531, Val Accuracy - 0.805\n",
      "Epoch 480, Train Loss - 0.22533102333545685, Val Loss - 0.818379282951355, Val Accuracy - 0.806\n",
      "Epoch 500, Train Loss - 0.20711088180541992, Val Loss - 0.777735710144043, Val Accuracy - 0.818\n",
      "Epoch 520, Train Loss - 0.15319731831550598, Val Loss - 0.8307197093963623, Val Accuracy - 0.817\n",
      "Epoch 540, Train Loss - 0.21307680010795593, Val Loss - 0.8813983798027039, Val Accuracy - 0.804\n",
      "Epoch 560, Train Loss - 0.265791654586792, Val Loss - 0.8213257193565369, Val Accuracy - 0.811\n",
      "Epoch 580, Train Loss - 0.22314052283763885, Val Loss - 0.8513477444648743, Val Accuracy - 0.797\n",
      "Epoch 600, Train Loss - 0.1064942255616188, Val Loss - 0.8517963290214539, Val Accuracy - 0.804\n",
      "Epoch 620, Train Loss - 0.20489907264709473, Val Loss - 0.9239746928215027, Val Accuracy - 0.793\n",
      "Epoch 640, Train Loss - 0.19304808974266052, Val Loss - 0.8952131271362305, Val Accuracy - 0.792\n",
      "Epoch 660, Train Loss - 0.13284969329833984, Val Loss - 0.8091108202934265, Val Accuracy - 0.811\n",
      "Epoch 680, Train Loss - 0.24997735023498535, Val Loss - 0.8897081613540649, Val Accuracy - 0.795\n",
      "Epoch 700, Train Loss - 0.19496476650238037, Val Loss - 0.8633670210838318, Val Accuracy - 0.787\n",
      "Epoch 720, Train Loss - 0.2479647547006607, Val Loss - 0.8898282051086426, Val Accuracy - 0.805\n",
      "Epoch 740, Train Loss - 0.20552994310855865, Val Loss - 0.8321949243545532, Val Accuracy - 0.802\n",
      "Epoch 760, Train Loss - 0.1894809454679489, Val Loss - 0.8865110874176025, Val Accuracy - 0.805\n",
      "Epoch 780, Train Loss - 0.1512649953365326, Val Loss - 0.8906877636909485, Val Accuracy - 0.802\n",
      "Epoch 800, Train Loss - 0.14501763880252838, Val Loss - 0.8482670187950134, Val Accuracy - 0.803\n",
      "Epoch 820, Train Loss - 0.2618022859096527, Val Loss - 0.8458683490753174, Val Accuracy - 0.8\n",
      "Epoch 840, Train Loss - 0.1275022178888321, Val Loss - 0.9506402611732483, Val Accuracy - 0.789\n",
      "Epoch 860, Train Loss - 0.22332052886486053, Val Loss - 0.871733546257019, Val Accuracy - 0.802\n",
      "Epoch 880, Train Loss - 0.15694594383239746, Val Loss - 0.872219979763031, Val Accuracy - 0.809\n",
      "Epoch 900, Train Loss - 0.24433904886245728, Val Loss - 0.8575106263160706, Val Accuracy - 0.81\n",
      "Epoch 920, Train Loss - 0.2329474538564682, Val Loss - 0.8551796674728394, Val Accuracy - 0.798\n",
      "Epoch 940, Train Loss - 0.2302573025226593, Val Loss - 0.8586440086364746, Val Accuracy - 0.799\n",
      "Epoch 960, Train Loss - 0.18271280825138092, Val Loss - 0.8633955717086792, Val Accuracy - 0.804\n",
      "Epoch 980, Train Loss - 0.21908360719680786, Val Loss - 0.8130338788032532, Val Accuracy - 0.809\n",
      "Epoch 1000, Train Loss - 0.14700838923454285, Val Loss - 0.9002668261528015, Val Accuracy - 0.779\n"
     ]
    }
   ],
   "source": [
    "model.reset_parameters()\n",
    "train = Trainable(model)\n",
    "train.fit(data, 1000)"
   ]
  },
  {
   "cell_type": "code",
   "execution_count": 6,
   "id": "9dc3ae50-3553-4bdf-bdbb-b8da6132dbac",
   "metadata": {},
   "outputs": [
    {
     "name": "stdout",
     "output_type": "stream",
     "text": [
      "Initial Accuracy: 0.779\n",
      "Initial Loss: 0.9002667665481567\n"
     ]
    }
   ],
   "source": [
    "# Get initial accuracy\n",
    "initial_loss, initial_accuracy = train.test(data)\n",
    "print(f\"Initial Accuracy: {initial_accuracy}\")\n",
    "print(f\"Initial Loss: {initial_loss}\")"
   ]
  },
  {
   "cell_type": "code",
   "execution_count": 7,
   "id": "0e0bc825-0e52-40dc-b801-206c66e148d8",
   "metadata": {},
   "outputs": [],
   "source": [
    "model_save_path = \"cora_gat_model.pth\"\n",
    "torch.save(model.state_dict(), model_save_path)"
   ]
  },
  {
   "cell_type": "code",
   "execution_count": 8,
   "id": "0df08f42-ed26-4402-bb16-f39479646096",
   "metadata": {},
   "outputs": [
    {
     "name": "stdout",
     "output_type": "stream",
     "text": [
      "Data(x=[3327, 3703], edge_index=[2, 9104], y=[3327], train_mask=[3327], val_mask=[3327], test_mask=[3327])\n"
     ]
    }
   ],
   "source": [
    "# dataset_directory = \"../Cora\"\n",
    "citeseer_dataset = Planetoid(root='', name='Citeseer')\n",
    "data = citeseer_dataset[0].to(device)\n",
    "print(data)"
   ]
  },
  {
   "cell_type": "code",
   "execution_count": 9,
   "id": "0552008f-13e3-49c5-8888-778b0212030c",
   "metadata": {},
   "outputs": [],
   "source": [
    "model_citeseer = GAT(data.x.shape[1], citeseer_dataset.num_classes, [16]).to(device)"
   ]
  },
  {
   "cell_type": "code",
   "execution_count": 10,
   "id": "cae9a9b1-8897-421d-a042-b039f8e99380",
   "metadata": {},
   "outputs": [
    {
     "name": "stdout",
     "output_type": "stream",
     "text": [
      "Epoch 0, Train Loss - 1.797200083732605, Val Loss - 1.6919684410095215, Val Accuracy - 0.332\n",
      "Epoch 20, Train Loss - 0.4424000084400177, Val Loss - 1.2331387996673584, Val Accuracy - 0.592\n",
      "Epoch 40, Train Loss - 0.34984296560287476, Val Loss - 1.1701319217681885, Val Accuracy - 0.668\n",
      "Epoch 60, Train Loss - 0.3461589515209198, Val Loss - 1.1754422187805176, Val Accuracy - 0.66\n",
      "Epoch 80, Train Loss - 0.353056401014328, Val Loss - 1.2766289710998535, Val Accuracy - 0.659\n",
      "Epoch 100, Train Loss - 0.3230849802494049, Val Loss - 1.2276031970977783, Val Accuracy - 0.665\n",
      "Epoch 120, Train Loss - 0.272409588098526, Val Loss - 1.2899796962738037, Val Accuracy - 0.671\n",
      "Epoch 140, Train Loss - 0.292556494474411, Val Loss - 1.3028827905654907, Val Accuracy - 0.657\n",
      "Epoch 160, Train Loss - 0.3647339642047882, Val Loss - 1.339919090270996, Val Accuracy - 0.664\n",
      "Epoch 180, Train Loss - 0.3076830208301544, Val Loss - 1.2933536767959595, Val Accuracy - 0.685\n",
      "Epoch 200, Train Loss - 0.20238544046878815, Val Loss - 1.3517701625823975, Val Accuracy - 0.658\n",
      "Epoch 220, Train Loss - 0.28421542048454285, Val Loss - 1.4090501070022583, Val Accuracy - 0.67\n",
      "Epoch 240, Train Loss - 0.2740134298801422, Val Loss - 1.3677191734313965, Val Accuracy - 0.675\n",
      "Epoch 260, Train Loss - 0.29472413659095764, Val Loss - 1.5022259950637817, Val Accuracy - 0.663\n",
      "Epoch 280, Train Loss - 0.3327454924583435, Val Loss - 1.3817709684371948, Val Accuracy - 0.671\n",
      "Epoch 300, Train Loss - 0.28195226192474365, Val Loss - 1.4478851556777954, Val Accuracy - 0.648\n",
      "Epoch 320, Train Loss - 0.33357661962509155, Val Loss - 1.4523793458938599, Val Accuracy - 0.666\n",
      "Epoch 340, Train Loss - 0.26500165462493896, Val Loss - 1.3721964359283447, Val Accuracy - 0.665\n",
      "Epoch 360, Train Loss - 0.2904186546802521, Val Loss - 1.4078779220581055, Val Accuracy - 0.674\n",
      "Epoch 380, Train Loss - 0.34685009717941284, Val Loss - 1.5178122520446777, Val Accuracy - 0.671\n",
      "Epoch 400, Train Loss - 0.20410187542438507, Val Loss - 1.4210119247436523, Val Accuracy - 0.688\n",
      "Epoch 420, Train Loss - 0.3130439817905426, Val Loss - 1.5313299894332886, Val Accuracy - 0.662\n",
      "Epoch 440, Train Loss - 0.18065524101257324, Val Loss - 1.4536850452423096, Val Accuracy - 0.681\n",
      "Epoch 460, Train Loss - 0.2756028473377228, Val Loss - 1.4309848546981812, Val Accuracy - 0.675\n",
      "Epoch 480, Train Loss - 0.3022543787956238, Val Loss - 1.5425220727920532, Val Accuracy - 0.659\n",
      "Epoch 500, Train Loss - 0.21727345883846283, Val Loss - 1.435163140296936, Val Accuracy - 0.672\n",
      "Epoch 520, Train Loss - 0.3104654848575592, Val Loss - 1.5016511678695679, Val Accuracy - 0.666\n",
      "Epoch 540, Train Loss - 0.38018953800201416, Val Loss - 1.6072357892990112, Val Accuracy - 0.657\n",
      "Epoch 560, Train Loss - 0.24747313559055328, Val Loss - 1.5804778337478638, Val Accuracy - 0.652\n",
      "Epoch 580, Train Loss - 0.3346558213233948, Val Loss - 1.5884590148925781, Val Accuracy - 0.646\n",
      "Epoch 600, Train Loss - 0.39751720428466797, Val Loss - 1.6670070886611938, Val Accuracy - 0.652\n",
      "Epoch 620, Train Loss - 0.25447776913642883, Val Loss - 1.6855084896087646, Val Accuracy - 0.64\n",
      "Epoch 640, Train Loss - 0.3410094082355499, Val Loss - 1.5780771970748901, Val Accuracy - 0.669\n",
      "Epoch 660, Train Loss - 0.388602077960968, Val Loss - 1.642554759979248, Val Accuracy - 0.657\n",
      "Epoch 680, Train Loss - 0.17857643961906433, Val Loss - 1.5668483972549438, Val Accuracy - 0.667\n",
      "Epoch 700, Train Loss - 0.4396320879459381, Val Loss - 1.645811915397644, Val Accuracy - 0.659\n",
      "Epoch 720, Train Loss - 0.2865942418575287, Val Loss - 1.5766139030456543, Val Accuracy - 0.656\n",
      "Epoch 740, Train Loss - 0.3002772927284241, Val Loss - 1.6851147413253784, Val Accuracy - 0.641\n",
      "Epoch 760, Train Loss - 0.32160988450050354, Val Loss - 1.7014328241348267, Val Accuracy - 0.637\n",
      "Epoch 780, Train Loss - 0.29307520389556885, Val Loss - 1.5009266138076782, Val Accuracy - 0.674\n",
      "Epoch 800, Train Loss - 0.3726237714290619, Val Loss - 1.4923039674758911, Val Accuracy - 0.69\n",
      "Epoch 820, Train Loss - 0.3497457504272461, Val Loss - 1.587739109992981, Val Accuracy - 0.661\n",
      "Epoch 840, Train Loss - 0.25402721762657166, Val Loss - 1.5118709802627563, Val Accuracy - 0.685\n",
      "Epoch 860, Train Loss - 0.30707377195358276, Val Loss - 1.680419683456421, Val Accuracy - 0.655\n",
      "Epoch 880, Train Loss - 0.31502991914749146, Val Loss - 1.5845551490783691, Val Accuracy - 0.67\n",
      "Epoch 900, Train Loss - 0.351727157831192, Val Loss - 1.6661304235458374, Val Accuracy - 0.667\n",
      "Epoch 920, Train Loss - 0.39471685886383057, Val Loss - 1.6209806203842163, Val Accuracy - 0.663\n",
      "Epoch 940, Train Loss - 0.2736719250679016, Val Loss - 1.544380784034729, Val Accuracy - 0.68\n",
      "Epoch 960, Train Loss - 0.21262195706367493, Val Loss - 1.5178207159042358, Val Accuracy - 0.684\n",
      "Epoch 980, Train Loss - 0.3254794776439667, Val Loss - 1.607495903968811, Val Accuracy - 0.684\n",
      "Epoch 1000, Train Loss - 0.3941790759563446, Val Loss - 1.6974283456802368, Val Accuracy - 0.669\n"
     ]
    }
   ],
   "source": [
    "model_citeseer.reset_parameters()\n",
    "train = Trainable(model_citeseer)\n",
    "train.fit(data, 1000)"
   ]
  },
  {
   "cell_type": "code",
   "execution_count": 11,
   "id": "6e147875-0d95-4cd9-82b2-8315f5fb6140",
   "metadata": {},
   "outputs": [],
   "source": [
    "model_save_path = \"citeseer_gat_model.pth\"\n",
    "torch.save(model_citeseer.state_dict(), model_save_path)"
   ]
  },
  {
   "cell_type": "code",
   "execution_count": 12,
   "id": "a3a87081-14c7-4195-9724-b9882fc67405",
   "metadata": {},
   "outputs": [
    {
     "name": "stdout",
     "output_type": "stream",
     "text": [
      "Data(x=[19717, 500], edge_index=[2, 88648], y=[19717], train_mask=[19717], val_mask=[19717], test_mask=[19717])\n"
     ]
    }
   ],
   "source": [
    "# dataset_directory = \"../Cora\"\n",
    "pubmed_dataset = Planetoid(root='', name='Pubmed')\n",
    "data = pubmed_dataset[0].to(device)\n",
    "print(data)"
   ]
  },
  {
   "cell_type": "code",
   "execution_count": 13,
   "id": "c777f9bd-1d0a-4779-9c86-7ab5b57514e2",
   "metadata": {},
   "outputs": [],
   "source": [
    "model_pm = GAT(data.x.shape[1], pubmed_dataset.num_classes, [16]).to(device)"
   ]
  },
  {
   "cell_type": "code",
   "execution_count": 14,
   "id": "a4b046e2-239a-4ed0-b8c4-eda05c8cdb4d",
   "metadata": {},
   "outputs": [
    {
     "name": "stdout",
     "output_type": "stream",
     "text": [
      "Epoch 0, Train Loss - 1.100932002067566, Val Loss - 1.0886934995651245, Val Accuracy - 0.538\n",
      "Epoch 20, Train Loss - 0.5325583815574646, Val Loss - 0.7011521458625793, Val Accuracy - 0.737\n",
      "Epoch 40, Train Loss - 0.3513410687446594, Val Loss - 0.5992346405982971, Val Accuracy - 0.763\n",
      "Epoch 60, Train Loss - 0.4034312665462494, Val Loss - 0.5963032245635986, Val Accuracy - 0.763\n",
      "Epoch 80, Train Loss - 0.22975918650627136, Val Loss - 0.5996137261390686, Val Accuracy - 0.772\n",
      "Epoch 100, Train Loss - 0.21160967648029327, Val Loss - 0.6103052496910095, Val Accuracy - 0.767\n",
      "Epoch 120, Train Loss - 0.25358521938323975, Val Loss - 0.6282087564468384, Val Accuracy - 0.76\n",
      "Epoch 140, Train Loss - 0.15731410682201385, Val Loss - 0.6408684253692627, Val Accuracy - 0.761\n",
      "Epoch 160, Train Loss - 0.16627642512321472, Val Loss - 0.6256036758422852, Val Accuracy - 0.763\n",
      "Epoch 180, Train Loss - 0.1070978194475174, Val Loss - 0.6328104138374329, Val Accuracy - 0.773\n",
      "Epoch 200, Train Loss - 0.20483925938606262, Val Loss - 0.6639912724494934, Val Accuracy - 0.762\n",
      "Epoch 220, Train Loss - 0.205243781208992, Val Loss - 0.6425449848175049, Val Accuracy - 0.766\n",
      "Epoch 240, Train Loss - 0.2889270484447479, Val Loss - 0.6548436284065247, Val Accuracy - 0.763\n",
      "Epoch 260, Train Loss - 0.2143719494342804, Val Loss - 0.6720922589302063, Val Accuracy - 0.77\n",
      "Epoch 280, Train Loss - 0.20970530807971954, Val Loss - 0.6696416735649109, Val Accuracy - 0.769\n",
      "Epoch 300, Train Loss - 0.22057172656059265, Val Loss - 0.6800727248191833, Val Accuracy - 0.759\n",
      "Epoch 320, Train Loss - 0.10580835491418839, Val Loss - 0.7193344235420227, Val Accuracy - 0.766\n",
      "Epoch 340, Train Loss - 0.17061510682106018, Val Loss - 0.685815691947937, Val Accuracy - 0.769\n",
      "Epoch 360, Train Loss - 0.21656523644924164, Val Loss - 0.6698431968688965, Val Accuracy - 0.772\n",
      "Epoch 380, Train Loss - 0.1250530183315277, Val Loss - 0.6711723804473877, Val Accuracy - 0.778\n",
      "Epoch 400, Train Loss - 0.2570434808731079, Val Loss - 0.6785885691642761, Val Accuracy - 0.754\n",
      "Epoch 420, Train Loss - 0.26333388686180115, Val Loss - 0.6809836626052856, Val Accuracy - 0.761\n",
      "Epoch 440, Train Loss - 0.16240936517715454, Val Loss - 0.6865639090538025, Val Accuracy - 0.765\n",
      "Epoch 460, Train Loss - 0.19974207878112793, Val Loss - 0.6669668555259705, Val Accuracy - 0.771\n",
      "Epoch 480, Train Loss - 0.19514349102973938, Val Loss - 0.7031553983688354, Val Accuracy - 0.768\n",
      "Epoch 500, Train Loss - 0.28249210119247437, Val Loss - 0.684891939163208, Val Accuracy - 0.765\n",
      "Epoch 520, Train Loss - 0.14299625158309937, Val Loss - 0.696744978427887, Val Accuracy - 0.762\n",
      "Epoch 540, Train Loss - 0.1500346064567566, Val Loss - 0.6852661967277527, Val Accuracy - 0.767\n",
      "Epoch 560, Train Loss - 0.16902895271778107, Val Loss - 0.6976625323295593, Val Accuracy - 0.757\n",
      "Epoch 580, Train Loss - 0.1369832307100296, Val Loss - 0.666105329990387, Val Accuracy - 0.775\n",
      "Epoch 600, Train Loss - 0.165310338139534, Val Loss - 0.6882939338684082, Val Accuracy - 0.769\n",
      "Epoch 620, Train Loss - 0.20449334383010864, Val Loss - 0.6785628795623779, Val Accuracy - 0.766\n",
      "Epoch 640, Train Loss - 0.10450584441423416, Val Loss - 0.6730137467384338, Val Accuracy - 0.764\n",
      "Epoch 660, Train Loss - 0.2086411416530609, Val Loss - 0.7112864851951599, Val Accuracy - 0.771\n",
      "Epoch 680, Train Loss - 0.23783351480960846, Val Loss - 0.7079503536224365, Val Accuracy - 0.762\n",
      "Epoch 700, Train Loss - 0.21796993911266327, Val Loss - 0.6838226914405823, Val Accuracy - 0.761\n",
      "Epoch 720, Train Loss - 0.21985578536987305, Val Loss - 0.6901514530181885, Val Accuracy - 0.767\n",
      "Epoch 740, Train Loss - 0.21223317086696625, Val Loss - 0.6875525712966919, Val Accuracy - 0.768\n",
      "Epoch 760, Train Loss - 0.11409320682287216, Val Loss - 0.6821284294128418, Val Accuracy - 0.772\n",
      "Epoch 780, Train Loss - 0.19708825647830963, Val Loss - 0.7146328091621399, Val Accuracy - 0.756\n",
      "Epoch 800, Train Loss - 0.14597508311271667, Val Loss - 0.7082240581512451, Val Accuracy - 0.756\n",
      "Epoch 820, Train Loss - 0.18083973228931427, Val Loss - 0.7277634143829346, Val Accuracy - 0.763\n",
      "Epoch 840, Train Loss - 0.20956707000732422, Val Loss - 0.7242977619171143, Val Accuracy - 0.757\n",
      "Epoch 860, Train Loss - 0.15821821987628937, Val Loss - 0.6843945384025574, Val Accuracy - 0.769\n",
      "Epoch 880, Train Loss - 0.1902288943529129, Val Loss - 0.6709654331207275, Val Accuracy - 0.775\n",
      "Epoch 900, Train Loss - 0.2360358089208603, Val Loss - 0.7007225751876831, Val Accuracy - 0.767\n",
      "Epoch 920, Train Loss - 0.2682478129863739, Val Loss - 0.69310462474823, Val Accuracy - 0.768\n",
      "Epoch 940, Train Loss - 0.20270462334156036, Val Loss - 0.6827885508537292, Val Accuracy - 0.769\n",
      "Epoch 960, Train Loss - 0.16277973353862762, Val Loss - 0.6894301772117615, Val Accuracy - 0.772\n",
      "Epoch 980, Train Loss - 0.11208566278219223, Val Loss - 0.6895592212677002, Val Accuracy - 0.762\n",
      "Epoch 1000, Train Loss - 0.24697743356227875, Val Loss - 0.6772979497909546, Val Accuracy - 0.769\n"
     ]
    }
   ],
   "source": [
    "model_pm.reset_parameters()\n",
    "train = Trainable(model_pm)\n",
    "train.fit(data, 1000)"
   ]
  },
  {
   "cell_type": "code",
   "execution_count": 15,
   "id": "7f91c220-19c3-4ba5-919e-ea3688b0cb33",
   "metadata": {},
   "outputs": [],
   "source": [
    "model_save_path = \"pubmed_gat_model.pth\"\n",
    "torch.save(model_citeseer.state_dict(), model_save_path)"
   ]
  }
 ],
 "metadata": {
  "kernelspec": {
   "display_name": "Python 3 (ipykernel)",
   "language": "python",
   "name": "python3"
  },
  "language_info": {
   "codemirror_mode": {
    "name": "ipython",
    "version": 3
   },
   "file_extension": ".py",
   "mimetype": "text/x-python",
   "name": "python",
   "nbconvert_exporter": "python",
   "pygments_lexer": "ipython3",
   "version": "3.8.18"
  }
 },
 "nbformat": 4,
 "nbformat_minor": 5
}
