{
 "cells": [
  {
   "cell_type": "code",
   "execution_count": 1,
   "id": "bf379708-66da-4a3a-9f1b-f2d10fcd097b",
   "metadata": {},
   "outputs": [],
   "source": [
    "from greatx.nn.models import GCN\n",
    "from greatx.training import Trainer\n",
    "from torch_geometric.datasets import Planetoid\n",
    "from greatx.attack.untargeted import Metattack\n",
    "import torch\n",
    "\n",
    "device = torch.device(\"cuda\" if torch.cuda.is_available() else \"cpu\")"
   ]
  },
  {
   "cell_type": "code",
   "execution_count": 2,
   "id": "c13da126-94a4-4d74-8f15-c21dd0008110",
   "metadata": {},
   "outputs": [],
   "source": [
    "dataset = Planetoid(root='.', name='Cora')\n",
    "data = dataset[0]"
   ]
  },
  {
   "cell_type": "code",
   "execution_count": 3,
   "id": "5829d1b1-c067-4b09-bbc5-ad474915a342",
   "metadata": {},
   "outputs": [],
   "source": [
    "model = GCN(dataset.num_features, dataset.num_classes)"
   ]
  },
  {
   "cell_type": "code",
   "execution_count": 4,
   "id": "0d345504-459d-4d23-b65e-96bbd66f1a46",
   "metadata": {},
   "outputs": [],
   "source": [
    "trainer_before = Trainer(model, device=device)"
   ]
  },
  {
   "cell_type": "code",
   "execution_count": 5,
   "id": "a3aa04fa-4993-4d7d-bb38-f9c066242487",
   "metadata": {},
   "outputs": [
    {
     "name": "stdout",
     "output_type": "stream",
     "text": [
      "Training...\n",
      "100/100 [====================] - Total: 867.18ms - 8ms/step- loss: 0.0374 - acc: 1\n",
      "Evaluating...\n",
      "1/1 [====================] - Total: 1.69ms - 1ms/step- loss: 0.667 - acc: 0.787\n"
     ]
    },
    {
     "data": {
      "text/plain": [
       "╒═════════╤═══════════╕\n",
       "│ Names   │   Objects │\n",
       "╞═════════╪═══════════╡\n",
       "│ loss    │  0.666689 │\n",
       "├─────────┼───────────┤\n",
       "│ acc     │  0.787    │\n",
       "╘═════════╧═══════════╛"
      ]
     },
     "execution_count": 5,
     "metadata": {},
     "output_type": "execute_result"
    }
   ],
   "source": [
    "trainer_before.fit(data, mask=data.train_mask)\n",
    "trainer_before.evaluate(data, mask=data.test_mask)"
   ]
  },
  {
   "cell_type": "code",
   "execution_count": 6,
   "id": "ae3dfa7a-7c86-4a7c-9683-21ab02272728",
   "metadata": {},
   "outputs": [
    {
     "data": {
      "application/vnd.jupyter.widget-view+json": {
       "model_id": "3d7c6fbc2600469d8896622fd141e44e",
       "version_major": 2,
       "version_minor": 0
      },
      "text/plain": [
       "Peturbing graph...:   0%|          | 0/263 [00:00<?, ?it/s]"
      ]
     },
     "metadata": {},
     "output_type": "display_data"
    },
    {
     "data": {
      "text/plain": [
       "Metattack(\n",
       "  device=cuda, seed=None,\n",
       "  (surrogate): GCN(\n",
       "    (conv): Sequential(\n",
       "      (0): GCNConv(1433, 16)\n",
       "      (1): ReLU()\n",
       "      (2): Dropout(p=0.5, inplace=False)\n",
       "      (3): GCNConv(16, 7)\n",
       "    )\n",
       "  )\n",
       ")"
      ]
     },
     "execution_count": 6,
     "metadata": {},
     "output_type": "execute_result"
    }
   ],
   "source": [
    "attacker = Metattack(data, device=device)\n",
    "attacker.setup_surrogate(trainer_before.model,\n",
    "                         labeled_nodes=dataset.train_mask,\n",
    "                         unlabeled_nodes=dataset.test_mask, lambda_=0.)\n",
    "attacker.reset()\n",
    "attacker.attack(0.05)"
   ]
  },
  {
   "cell_type": "code",
   "execution_count": 7,
   "id": "5fc0056d-bf1b-4294-82e3-a9afe3977dae",
   "metadata": {},
   "outputs": [
    {
     "data": {
      "text/plain": [
       "Data(x=[2708, 1433], edge_index=[2, 11082], y=[2708], train_mask=[2708], val_mask=[2708], test_mask=[2708])"
      ]
     },
     "execution_count": 7,
     "metadata": {},
     "output_type": "execute_result"
    }
   ],
   "source": [
    "attacker.data()"
   ]
  },
  {
   "cell_type": "code",
   "execution_count": 7,
   "id": "af1009dc-4b86-43ff-8f70-99f7a7a192e3",
   "metadata": {},
   "outputs": [
    {
     "name": "stdout",
     "output_type": "stream",
     "text": [
      "Evaluating...\n",
      "1/1 [====================] - Total: 2.45ms - 2ms/step- loss: 0.666 - acc: 0.788\n",
      "After evasion attack\n",
      " ╒═════════╤═══════════╕\n",
      "│ Names   │   Objects │\n",
      "╞═════════╪═══════════╡\n",
      "│ loss    │  0.665707 │\n",
      "├─────────┼───────────┤\n",
      "│ acc     │  0.788    │\n",
      "╘═════════╧═══════════╛\n"
     ]
    }
   ],
   "source": [
    "logs = trainer_before.evaluate(attacker.data(), dataset.test_mask)\n",
    "print(f\"After evasion attack\\n {logs}\")"
   ]
  },
  {
   "cell_type": "code",
   "execution_count": 8,
   "id": "a2eb6c96-b8d3-4a67-b72f-9c44e4d576b4",
   "metadata": {},
   "outputs": [
    {
     "name": "stdout",
     "output_type": "stream",
     "text": [
      "Training...\n",
      "100/100 [====================] - Total: 268.66ms - 2ms/step- loss: 0.0489 - acc: 1\n",
      "Evaluating...\n",
      "1/1 [====================] - Total: 1.30ms - 1ms/step- loss: 1.55 - acc: 0.588\n",
      "After poisoning attack\n",
      " ╒═════════╤═══════════╕\n",
      "│ Names   │   Objects │\n",
      "╞═════════╪═══════════╡\n",
      "│ loss    │   1.54722 │\n",
      "├─────────┼───────────┤\n",
      "│ acc     │   0.588   │\n",
      "╘═════════╧═══════════╛\n"
     ]
    }
   ],
   "source": [
    "trainer_after = Trainer(GCN(dataset.num_features, dataset.num_classes), device=device)\n",
    "trainer_after.fit(attacker.data(), mask=dataset.train_mask)\n",
    "logs = trainer_after.evaluate(attacker.data(), dataset.test_mask)\n",
    "print(f\"After poisoning attack\\n {logs}\")"
   ]
  }
 ],
 "metadata": {
  "kernelspec": {
   "display_name": "Python 3 (ipykernel)",
   "language": "python",
   "name": "python3"
  },
  "language_info": {
   "codemirror_mode": {
    "name": "ipython",
    "version": 3
   },
   "file_extension": ".py",
   "mimetype": "text/x-python",
   "name": "python",
   "nbconvert_exporter": "python",
   "pygments_lexer": "ipython3",
   "version": "3.8.18"
  }
 },
 "nbformat": 4,
 "nbformat_minor": 5
}
