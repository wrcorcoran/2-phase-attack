{
 "cells": [
  {
   "cell_type": "code",
   "execution_count": 1,
   "id": "95e643e9-a903-47fb-b6e4-b3852a5a93b8",
   "metadata": {},
   "outputs": [],
   "source": [
    "import sys\n",
    "from itertools import count\n",
    "from torch import autograd\n",
    "import copy\n",
    "\n",
    "sys.path.append('../')\n",
    "from models.gcn import *\n",
    "from utils.datasets import *"
   ]
  },
  {
   "cell_type": "code",
   "execution_count": 2,
   "id": "203e6975-e5e8-4074-9fac-01a2da488454",
   "metadata": {},
   "outputs": [],
   "source": [
    "device = torch.device('cuda' if torch.cuda.is_available() else 'cpu')\n",
    "data = get_cora(device)"
   ]
  },
  {
   "cell_type": "code",
   "execution_count": 3,
   "id": "1a642191-4965-4452-9bab-9d8359bb13b0",
   "metadata": {},
   "outputs": [],
   "source": [
    "num_classes = torch.unique(data.y).shape[0]"
   ]
  },
  {
   "cell_type": "code",
   "execution_count": 4,
   "id": "34a99557-cd53-452f-986c-5cdca3ae2096",
   "metadata": {},
   "outputs": [],
   "source": [
    "def _sym(triu):\n",
    "    triu = triu.triu(diagonal=1)\n",
    "    return triu + triu.T"
   ]
  },
  {
   "cell_type": "code",
   "execution_count": 5,
   "id": "46a7fc6d-02f7-48db-bf51-96c8c8ea6481",
   "metadata": {},
   "outputs": [],
   "source": [
    "def greedy_metattack(\n",
    "        flip_shape,\n",
    "        budget,\n",
    "        device,\n",
    "        grad_fn,\n",
    "        symmetric = True,\n",
    "        *, flips_per_iteration = 1,\n",
    "        max_iterations = None,\n",
    "        progress = True\n",
    "):\n",
    "    flip = torch.zeros(flip_shape, device=device, requires_grad=True)\n",
    "    used_budget = 0\n",
    "    perts = []\n",
    "\n",
    "    pbar = tqdm(total=budget, leave=False) if progress and max_iterations != 1 else None\n",
    "    for _ in range(max_iterations) if max_iterations is not None else count():\n",
    "        if symmetric:\n",
    "            flip_sym = _sym(flip)\n",
    "            grad = autograd.grad(flip_sym, flip, grad_outputs=grad_fn(flip_sym))[0]\n",
    "        else:\n",
    "            grad = grad_fn(flip)\n",
    "\n",
    "        with torch.no_grad():\n",
    "            # Note: If we wanted to maximize the loss, the != would be a ==, but as we want to minimize it, we have to\n",
    "            # take the \"opposite\" gradient.\n",
    "            grad[(grad < 0) != (flip == 0)] = 0\n",
    "            flt = grad.abs().flatten()\n",
    "            # Note: When we only look for one entry to flip, use max() instead of topk() as it's a lot faster.\n",
    "            for v, linear_idx in [flt.max(dim=0)] if flips_per_iteration == 1 else zip(*flt.topk(flips_per_iteration)):\n",
    "                if v == 0:\n",
    "                    break\n",
    "                linear_idx = linear_idx.item()\n",
    "                idx_2d = (linear_idx // flip.shape[1], linear_idx % flip.shape[1])\n",
    "                # Case 1: The edge has not been flipped previously.\n",
    "                if flip[idx_2d] == 0:\n",
    "                    flip[idx_2d] = 1\n",
    "                    used_budget += 1\n",
    "                    # If we have reached the next higher budget, save its perturbation and drop the budget.\n",
    "                    if used_budget == budget:\n",
    "                        break\n",
    "                # Case 2: The edge has been flipped previously, so flip it back.\n",
    "                else:\n",
    "                    flip[idx_2d] = 0\n",
    "                    used_budget -= 1\n",
    "        if pbar:\n",
    "            pbar.update(used_budget - pbar.n)\n",
    "        # Stop if we have found perturbations for all budgets.\n",
    "        if used_budget == budget:\n",
    "            break\n",
    "    if pbar:\n",
    "        pbar.close()\n",
    "    return perts"
   ]
  },
  {
   "cell_type": "code",
   "execution_count": 6,
   "id": "ab675157-b0f0-4eb8-8c5d-a7ea22a6931d",
   "metadata": {},
   "outputs": [],
   "source": [
    "A = edge_index_to_A(data.edge_index, data.y.shape[0], device)"
   ]
  },
  {
   "cell_type": "code",
   "execution_count": 7,
   "id": "f68b5439-161b-43ba-a750-80ef7c54ba93",
   "metadata": {},
   "outputs": [
    {
     "data": {
      "application/vnd.jupyter.widget-view+json": {
       "model_id": "19a8a37cfb004ebeb26116d261d72a29",
       "version_major": 2,
       "version_minor": 0
      },
      "text/plain": [
       "Training Epochs:   0%|          | 0/200 [00:00<?, ?it/s]"
      ]
     },
     "metadata": {},
     "output_type": "display_data"
    }
   ],
   "source": [
    "def make_model():\n",
    "    return GCN(data.x.shape[1], 64, num_classes).to(device)\n",
    "model = make_model()\n",
    "model.fit(data)"
   ]
  },
  {
   "cell_type": "code",
   "execution_count": 8,
   "id": "93a8c799-fafe-4aa1-8fc6-b762f3938c29",
   "metadata": {},
   "outputs": [
    {
     "data": {
      "text/plain": [
       "Data(x=[2708, 1433], edge_index=[2, 10556], y=[2708], train_mask=[2708], val_mask=[2708], test_mask=[2708])"
      ]
     },
     "execution_count": 8,
     "metadata": {},
     "output_type": "execute_result"
    }
   ],
   "source": [
    "data"
   ]
  },
  {
   "cell_type": "code",
   "execution_count": 31,
   "id": "bdc83950-a524-4579-bbc4-cdcad11ec99e",
   "metadata": {},
   "outputs": [],
   "source": [
    "def loss_fn(A_flip):\n",
    "    A_pert = A + A_flip * (1 - 2 * A)\n",
    "    pert_edge_index = A_to_edge_index(A_pert)\n",
    "\n",
    "    data_copy = data.clone() \n",
    "    data_copy.edge_index = pert_edge_index\n",
    "    model = make_model()\n",
    "    \n",
    "    # model.fit(data_copy, differentiable=A_pert.requires_grad)\n",
    "    model.fit(data_copy)\n",
    "\n",
    "    scores = model(data_copy)\n",
    "    # loss = -F.cross_entropy(scores[data_copy.test_mask, :], data_copy.y[data_copy.test_mask])\n",
    "    # loss = loss.mean()\n",
    "    loss = - F.cross_entropy(scores[data_copy.test_mask], data_copy.y[data_copy.test_mask], reduction='mean')\n",
    "    print(f\"Loss: {loss}, Shape: {loss.shape}\")  # Should be a single scalar, shape should be torch.Size([]) for a scalar\n",
    "\n",
    "    return loss\n",
    "\n",
    "def grad_fn(A_flip):\n",
    "    return torch.autograd.grad(loss_fn(A_flip), A_flip, allow_unused=True)[0]"
   ]
  },
  {
   "cell_type": "code",
   "execution_count": 32,
   "id": "5d818e1c-29e4-44bb-97f6-10420b9370f9",
   "metadata": {},
   "outputs": [
    {
     "data": {
      "application/vnd.jupyter.widget-view+json": {
       "model_id": "0bb36a241ba34f10943811b994cf1d64",
       "version_major": 2,
       "version_minor": 0
      },
      "text/plain": [
       "  0%|          | 0/300 [00:00<?, ?it/s]"
      ]
     },
     "metadata": {},
     "output_type": "display_data"
    },
    {
     "data": {
      "application/vnd.jupyter.widget-view+json": {
       "model_id": "77df22331edb443bb4488e895af1b168",
       "version_major": 2,
       "version_minor": 0
      },
      "text/plain": [
       "Training Epochs:   0%|          | 0/200 [00:00<?, ?it/s]"
      ]
     },
     "metadata": {},
     "output_type": "display_data"
    },
    {
     "name": "stdout",
     "output_type": "stream",
     "text": [
      "Loss: -0.9727743864059448, Shape: torch.Size([])\n"
     ]
    },
    {
     "ename": "RuntimeError",
     "evalue": "grad can be implicitly created only for scalar outputs",
     "output_type": "error",
     "traceback": [
      "\u001b[0;31m---------------------------------------------------------------------------\u001b[0m",
      "\u001b[0;31mRuntimeError\u001b[0m                              Traceback (most recent call last)",
      "Cell \u001b[0;32mIn[32], line 2\u001b[0m\n\u001b[1;32m      1\u001b[0m budget \u001b[38;5;241m=\u001b[39m \u001b[38;5;241m300\u001b[39m\n\u001b[0;32m----> 2\u001b[0m pert \u001b[38;5;241m=\u001b[39m \u001b[43mgreedy_metattack\u001b[49m\u001b[43m(\u001b[49m\u001b[43mA\u001b[49m\u001b[38;5;241;43m.\u001b[39;49m\u001b[43mshape\u001b[49m\u001b[43m,\u001b[49m\u001b[43m \u001b[49m\u001b[43mbudget\u001b[49m\u001b[43m,\u001b[49m\u001b[43m \u001b[49m\u001b[43mA\u001b[49m\u001b[38;5;241;43m.\u001b[39;49m\u001b[43mdevice\u001b[49m\u001b[43m,\u001b[49m\u001b[43m \u001b[49m\u001b[43mgrad_fn\u001b[49m\u001b[43m)\u001b[49m[\u001b[38;5;241m0\u001b[39m]\n",
      "Cell \u001b[0;32mIn[5], line 19\u001b[0m, in \u001b[0;36mgreedy_metattack\u001b[0;34m(flip_shape, budget, device, grad_fn, symmetric, flips_per_iteration, max_iterations, progress)\u001b[0m\n\u001b[1;32m     17\u001b[0m \u001b[38;5;28;01mif\u001b[39;00m symmetric:\n\u001b[1;32m     18\u001b[0m     flip_sym \u001b[38;5;241m=\u001b[39m _sym(flip)\n\u001b[0;32m---> 19\u001b[0m     grad \u001b[38;5;241m=\u001b[39m \u001b[43mautograd\u001b[49m\u001b[38;5;241;43m.\u001b[39;49m\u001b[43mgrad\u001b[49m\u001b[43m(\u001b[49m\u001b[43mflip_sym\u001b[49m\u001b[43m,\u001b[49m\u001b[43m \u001b[49m\u001b[43mflip\u001b[49m\u001b[43m,\u001b[49m\u001b[43m \u001b[49m\u001b[43mgrad_outputs\u001b[49m\u001b[38;5;241;43m=\u001b[39;49m\u001b[43mgrad_fn\u001b[49m\u001b[43m(\u001b[49m\u001b[43mflip_sym\u001b[49m\u001b[43m)\u001b[49m\u001b[43m)\u001b[49m[\u001b[38;5;241m0\u001b[39m]\n\u001b[1;32m     20\u001b[0m \u001b[38;5;28;01melse\u001b[39;00m:\n\u001b[1;32m     21\u001b[0m     grad \u001b[38;5;241m=\u001b[39m grad_fn(flip)\n",
      "File \u001b[0;32m~/anaconda3/envs/mesp/lib/python3.8/site-packages/torch/autograd/__init__.py:288\u001b[0m, in \u001b[0;36mgrad\u001b[0;34m(outputs, inputs, grad_outputs, retain_graph, create_graph, only_inputs, allow_unused, is_grads_batched)\u001b[0m\n\u001b[1;32m    283\u001b[0m     warnings\u001b[38;5;241m.\u001b[39mwarn(\u001b[38;5;124m\"\u001b[39m\u001b[38;5;124monly_inputs argument is deprecated and is ignored now \u001b[39m\u001b[38;5;124m\"\u001b[39m\n\u001b[1;32m    284\u001b[0m                   \u001b[38;5;124m\"\u001b[39m\u001b[38;5;124m(defaults to True). To accumulate gradient for other \u001b[39m\u001b[38;5;124m\"\u001b[39m\n\u001b[1;32m    285\u001b[0m                   \u001b[38;5;124m\"\u001b[39m\u001b[38;5;124mparts of the graph, please use torch.autograd.backward.\u001b[39m\u001b[38;5;124m\"\u001b[39m)\n\u001b[1;32m    287\u001b[0m grad_outputs_ \u001b[38;5;241m=\u001b[39m _tensor_or_tensors_to_tuple(grad_outputs, \u001b[38;5;28mlen\u001b[39m(t_outputs))\n\u001b[0;32m--> 288\u001b[0m grad_outputs_ \u001b[38;5;241m=\u001b[39m \u001b[43m_make_grads\u001b[49m\u001b[43m(\u001b[49m\u001b[43mt_outputs\u001b[49m\u001b[43m,\u001b[49m\u001b[43m \u001b[49m\u001b[43mgrad_outputs_\u001b[49m\u001b[43m,\u001b[49m\u001b[43m \u001b[49m\u001b[43mis_grads_batched\u001b[49m\u001b[38;5;241;43m=\u001b[39;49m\u001b[43mis_grads_batched\u001b[49m\u001b[43m)\u001b[49m\n\u001b[1;32m    290\u001b[0m \u001b[38;5;28;01mif\u001b[39;00m retain_graph \u001b[38;5;129;01mis\u001b[39;00m \u001b[38;5;28;01mNone\u001b[39;00m:\n\u001b[1;32m    291\u001b[0m     retain_graph \u001b[38;5;241m=\u001b[39m create_graph\n",
      "File \u001b[0;32m~/anaconda3/envs/mesp/lib/python3.8/site-packages/torch/autograd/__init__.py:88\u001b[0m, in \u001b[0;36m_make_grads\u001b[0;34m(outputs, grads, is_grads_batched)\u001b[0m\n\u001b[1;32m     86\u001b[0m \u001b[38;5;28;01mif\u001b[39;00m out\u001b[38;5;241m.\u001b[39mrequires_grad:\n\u001b[1;32m     87\u001b[0m     \u001b[38;5;28;01mif\u001b[39;00m out\u001b[38;5;241m.\u001b[39mnumel() \u001b[38;5;241m!=\u001b[39m \u001b[38;5;241m1\u001b[39m:\n\u001b[0;32m---> 88\u001b[0m         \u001b[38;5;28;01mraise\u001b[39;00m \u001b[38;5;167;01mRuntimeError\u001b[39;00m(\u001b[38;5;124m\"\u001b[39m\u001b[38;5;124mgrad can be implicitly created only for scalar outputs\u001b[39m\u001b[38;5;124m\"\u001b[39m)\n\u001b[1;32m     89\u001b[0m     new_grads\u001b[38;5;241m.\u001b[39mappend(torch\u001b[38;5;241m.\u001b[39mones_like(out, memory_format\u001b[38;5;241m=\u001b[39mtorch\u001b[38;5;241m.\u001b[39mpreserve_format))\n\u001b[1;32m     90\u001b[0m \u001b[38;5;28;01melse\u001b[39;00m:\n",
      "\u001b[0;31mRuntimeError\u001b[0m: grad can be implicitly created only for scalar outputs"
     ]
    }
   ],
   "source": [
    "budget = 300\n",
    "pert = greedy_metattack(A.shape, budget, A.device, grad_fn)[0]"
   ]
  }
 ],
 "metadata": {
  "kernelspec": {
   "display_name": "Python 3 (ipykernel)",
   "language": "python",
   "name": "python3"
  },
  "language_info": {
   "codemirror_mode": {
    "name": "ipython",
    "version": 3
   },
   "file_extension": ".py",
   "mimetype": "text/x-python",
   "name": "python",
   "nbconvert_exporter": "python",
   "pygments_lexer": "ipython3",
   "version": "3.9.18"
  }
 },
 "nbformat": 4,
 "nbformat_minor": 5
}
