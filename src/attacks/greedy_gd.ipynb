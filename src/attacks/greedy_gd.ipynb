{
 "cells": [
  {
   "cell_type": "code",
   "execution_count": 1,
   "id": "95e643e9-a903-47fb-b6e4-b3852a5a93b8",
   "metadata": {},
   "outputs": [],
   "source": [
    "import sys\n",
    "from itertools import count\n",
    "from torch import autograd\n",
    "import copy\n",
    "\n",
    "sys.path.append('../')\n",
    "from models.gcn import *\n",
    "from utils.datasets import get_cora"
   ]
  },
  {
   "cell_type": "code",
   "execution_count": 2,
   "id": "203e6975-e5e8-4074-9fac-01a2da488454",
   "metadata": {},
   "outputs": [],
   "source": [
    "device = torch.device('cuda' if torch.cuda.is_available() else 'cpu')\n",
    "data = get_cora(device)"
   ]
  },
  {
   "cell_type": "code",
   "execution_count": 13,
   "id": "1a642191-4965-4452-9bab-9d8359bb13b0",
   "metadata": {},
   "outputs": [],
   "source": [
    "num_classes = torch.unique(data.y).shape[0]"
   ]
  },
  {
   "cell_type": "code",
   "execution_count": 4,
   "id": "34a99557-cd53-452f-986c-5cdca3ae2096",
   "metadata": {},
   "outputs": [],
   "source": [
    "def _sym(triu):\n",
    "    triu = triu.triu(diagonal=1)\n",
    "    return triu + triu.T"
   ]
  },
  {
   "cell_type": "code",
   "execution_count": 5,
   "id": "46a7fc6d-02f7-48db-bf51-96c8c8ea6481",
   "metadata": {},
   "outputs": [],
   "source": [
    "def greedy_metattack(\n",
    "        flip_shape,\n",
    "        budget,\n",
    "        device,\n",
    "        grad_fn,\n",
    "        symmetric = True,\n",
    "        *, flips_per_iteration = 1,\n",
    "        max_iterations = None,\n",
    "        progress = True\n",
    "):\n",
    "    flip = torch.zeros(flip_shape, device=device, requires_grad=True)\n",
    "    used_budget = 0\n",
    "    perts = []\n",
    "\n",
    "    pbar = tqdm(total=budget, leave=False) if progress and max_iterations != 1 else None\n",
    "    for _ in range(max_iterations) if max_iterations is not None else count():\n",
    "        if symmetric:\n",
    "            flip_sym = _sym(flip)\n",
    "            grad = autograd.grad(flip_sym, flip, grad_outputs=grad_fn(flip_sym))[0]\n",
    "        else:\n",
    "            grad = grad_fn(flip)\n",
    "\n",
    "        with torch.no_grad():\n",
    "            # Note: If we wanted to maximize the loss, the != would be a ==, but as we want to minimize it, we have to\n",
    "            # take the \"opposite\" gradient.\n",
    "            grad[(grad < 0) != (flip == 0)] = 0\n",
    "            flt = grad.abs().flatten()\n",
    "            # Note: When we only look for one entry to flip, use max() instead of topk() as it's a lot faster.\n",
    "            for v, linear_idx in [flt.max(dim=0)] if flips_per_iteration == 1 else zip(*flt.topk(flips_per_iteration)):\n",
    "                if v == 0:\n",
    "                    break\n",
    "                linear_idx = linear_idx.item()\n",
    "                idx_2d = (linear_idx // flip.shape[1], linear_idx % flip.shape[1])\n",
    "                # Case 1: The edge has not been flipped previously.\n",
    "                if flip[idx_2d] == 0:\n",
    "                    flip[idx_2d] = 1\n",
    "                    used_budget += 1\n",
    "                    # If we have reached the next higher budget, save its perturbation and drop the budget.\n",
    "                    if used_budget == budget:\n",
    "                        break\n",
    "                # Case 2: The edge has been flipped previously, so flip it back.\n",
    "                else:\n",
    "                    flip[idx_2d] = 0\n",
    "                    used_budget -= 1\n",
    "        if pbar:\n",
    "            pbar.update(used_budget - pbar.n)\n",
    "        # Stop if we have found perturbations for all budgets.\n",
    "        if used_budget == budget:\n",
    "            break\n",
    "    if pbar:\n",
    "        pbar.close()\n",
    "    return perts"
   ]
  },
  {
   "cell_type": "code",
   "execution_count": 6,
   "id": "375c8663-18cc-4bb3-873b-8173dd141b0a",
   "metadata": {},
   "outputs": [],
   "source": [
    "def edge_index_to_A(edge_index, num_nodes):\n",
    "    A = torch.sparse_coo_tensor(\n",
    "        edge_index, torch.ones(edge_index.size(1)).to(device), size=(num_nodes, num_nodes)\n",
    "    )\n",
    "\n",
    "    return A.to_dense()"
   ]
  },
  {
   "cell_type": "code",
   "execution_count": 7,
   "id": "401348bc-2cf4-4967-959f-a6c048a66e6f",
   "metadata": {},
   "outputs": [],
   "source": [
    "def A_to_edge_index(adj_matrix):\n",
    "    edge_index = adj_matrix.nonzero(as_tuple=False).t()\n",
    "    return edge_index"
   ]
  },
  {
   "cell_type": "code",
   "execution_count": 8,
   "id": "ab675157-b0f0-4eb8-8c5d-a7ea22a6931d",
   "metadata": {},
   "outputs": [],
   "source": [
    "A = edge_index_to_A(data.edge_index, data.y.shape[0])"
   ]
  },
  {
   "cell_type": "code",
   "execution_count": 15,
   "id": "f68b5439-161b-43ba-a750-80ef7c54ba93",
   "metadata": {},
   "outputs": [
    {
     "data": {
      "application/vnd.jupyter.widget-view+json": {
       "model_id": "1ce9e4796a594460b975343ded877af3",
       "version_major": 2,
       "version_minor": 0
      },
      "text/plain": [
       "Training Epochs:   0%|          | 0/200 [00:00<?, ?it/s]"
      ]
     },
     "metadata": {},
     "output_type": "display_data"
    }
   ],
   "source": [
    "def make_model():\n",
    "    return GCN(data.x.shape[1], 64, num_classes).to(device)\n",
    "model = make_model()\n",
    "model.fit(data)"
   ]
  },
  {
   "cell_type": "code",
   "execution_count": 16,
   "id": "93a8c799-fafe-4aa1-8fc6-b762f3938c29",
   "metadata": {},
   "outputs": [
    {
     "data": {
      "text/plain": [
       "Data(x=[2708, 1433], edge_index=[2, 10556], y=[2708], train_mask=[2708], val_mask=[2708], test_mask=[2708])"
      ]
     },
     "execution_count": 16,
     "metadata": {},
     "output_type": "execute_result"
    }
   ],
   "source": [
    "data"
   ]
  },
  {
   "cell_type": "code",
   "execution_count": 26,
   "id": "bdc83950-a524-4579-bbc4-cdcad11ec99e",
   "metadata": {},
   "outputs": [],
   "source": [
    "def loss_fn(A_flip):\n",
    "    A_pert = A + A_flip * (1 - 2 * A)\n",
    "\n",
    "    pert_edge_index = A_to_edge_index(A_pert)\n",
    "\n",
    "    data_copy = copy.deepcopy(data)\n",
    "    data_copy.edge_index = pert_edge_index\n",
    "\n",
    "    model = make_model()\n",
    "    model.fit(data_copy)\n",
    "\n",
    "    scores = model(data_copy)\n",
    "    return - F.cross_entropy(scores[data_copy.test_mask, :], data_copy.y[data_copy.test_mask])\n",
    "\n",
    "def grad_fn(A_flip):\n",
    "    return torch.autograd.grad(loss_fn(A_flip), A_flip)[0]"
   ]
  },
  {
   "cell_type": "code",
   "execution_count": 27,
   "id": "5d818e1c-29e4-44bb-97f6-10420b9370f9",
   "metadata": {},
   "outputs": [
    {
     "data": {
      "application/vnd.jupyter.widget-view+json": {
       "model_id": "fc711446831d4750a9403c5e6fe05ebe",
       "version_major": 2,
       "version_minor": 0
      },
      "text/plain": [
       "  0%|          | 0/300 [00:00<?, ?it/s]"
      ]
     },
     "metadata": {},
     "output_type": "display_data"
    },
    {
     "data": {
      "application/vnd.jupyter.widget-view+json": {
       "model_id": "7c676adfe7ac45e585ac9f613d211929",
       "version_major": 2,
       "version_minor": 0
      },
      "text/plain": [
       "Training Epochs:   0%|          | 0/200 [00:00<?, ?it/s]"
      ]
     },
     "metadata": {},
     "output_type": "display_data"
    },
    {
     "ename": "RuntimeError",
     "evalue": "One of the differentiated Tensors appears to not have been used in the graph. Set allow_unused=True if this is the desired behavior.",
     "output_type": "error",
     "traceback": [
      "\u001b[0;31m---------------------------------------------------------------------------\u001b[0m",
      "\u001b[0;31mRuntimeError\u001b[0m                              Traceback (most recent call last)",
      "Cell \u001b[0;32mIn[27], line 2\u001b[0m\n\u001b[1;32m      1\u001b[0m budget \u001b[38;5;241m=\u001b[39m \u001b[38;5;241m300\u001b[39m\n\u001b[0;32m----> 2\u001b[0m pert \u001b[38;5;241m=\u001b[39m \u001b[43mgreedy_metattack\u001b[49m\u001b[43m(\u001b[49m\u001b[43mA\u001b[49m\u001b[38;5;241;43m.\u001b[39;49m\u001b[43mshape\u001b[49m\u001b[43m,\u001b[49m\u001b[43m \u001b[49m\u001b[43mbudget\u001b[49m\u001b[43m,\u001b[49m\u001b[43m \u001b[49m\u001b[43mA\u001b[49m\u001b[38;5;241;43m.\u001b[39;49m\u001b[43mdevice\u001b[49m\u001b[43m,\u001b[49m\u001b[43m \u001b[49m\u001b[43mgrad_fn\u001b[49m\u001b[43m)\u001b[49m[\u001b[38;5;241m0\u001b[39m]\n",
      "Cell \u001b[0;32mIn[5], line 19\u001b[0m, in \u001b[0;36mgreedy_metattack\u001b[0;34m(flip_shape, budget, device, grad_fn, symmetric, flips_per_iteration, max_iterations, progress)\u001b[0m\n\u001b[1;32m     17\u001b[0m \u001b[38;5;28;01mif\u001b[39;00m symmetric:\n\u001b[1;32m     18\u001b[0m     flip_sym \u001b[38;5;241m=\u001b[39m _sym(flip)\n\u001b[0;32m---> 19\u001b[0m     grad \u001b[38;5;241m=\u001b[39m autograd\u001b[38;5;241m.\u001b[39mgrad(flip_sym, flip, grad_outputs\u001b[38;5;241m=\u001b[39m\u001b[43mgrad_fn\u001b[49m\u001b[43m(\u001b[49m\u001b[43mflip_sym\u001b[49m\u001b[43m)\u001b[49m)[\u001b[38;5;241m0\u001b[39m]\n\u001b[1;32m     20\u001b[0m \u001b[38;5;28;01melse\u001b[39;00m:\n\u001b[1;32m     21\u001b[0m     grad \u001b[38;5;241m=\u001b[39m grad_fn(flip)\n",
      "Cell \u001b[0;32mIn[26], line 16\u001b[0m, in \u001b[0;36mgrad_fn\u001b[0;34m(A_flip)\u001b[0m\n\u001b[1;32m     15\u001b[0m \u001b[38;5;28;01mdef\u001b[39;00m \u001b[38;5;21mgrad_fn\u001b[39m(A_flip):\n\u001b[0;32m---> 16\u001b[0m     \u001b[38;5;28;01mreturn\u001b[39;00m \u001b[43mtorch\u001b[49m\u001b[38;5;241;43m.\u001b[39;49m\u001b[43mautograd\u001b[49m\u001b[38;5;241;43m.\u001b[39;49m\u001b[43mgrad\u001b[49m\u001b[43m(\u001b[49m\u001b[43mloss_fn\u001b[49m\u001b[43m(\u001b[49m\u001b[43mA_flip\u001b[49m\u001b[43m)\u001b[49m\u001b[43m,\u001b[49m\u001b[43m \u001b[49m\u001b[43mA_flip\u001b[49m\u001b[43m)\u001b[49m[\u001b[38;5;241m0\u001b[39m]\n",
      "File \u001b[0;32m~/anaconda3/envs/mesp/lib/python3.8/site-packages/torch/autograd/__init__.py:303\u001b[0m, in \u001b[0;36mgrad\u001b[0;34m(outputs, inputs, grad_outputs, retain_graph, create_graph, only_inputs, allow_unused, is_grads_batched)\u001b[0m\n\u001b[1;32m    301\u001b[0m     \u001b[38;5;28;01mreturn\u001b[39;00m _vmap_internals\u001b[38;5;241m.\u001b[39m_vmap(vjp, \u001b[38;5;241m0\u001b[39m, \u001b[38;5;241m0\u001b[39m, allow_none_pass_through\u001b[38;5;241m=\u001b[39m\u001b[38;5;28;01mTrue\u001b[39;00m)(grad_outputs_)\n\u001b[1;32m    302\u001b[0m \u001b[38;5;28;01melse\u001b[39;00m:\n\u001b[0;32m--> 303\u001b[0m     \u001b[38;5;28;01mreturn\u001b[39;00m \u001b[43mVariable\u001b[49m\u001b[38;5;241;43m.\u001b[39;49m\u001b[43m_execution_engine\u001b[49m\u001b[38;5;241;43m.\u001b[39;49m\u001b[43mrun_backward\u001b[49m\u001b[43m(\u001b[49m\u001b[43m  \u001b[49m\u001b[38;5;66;43;03m# Calls into the C++ engine to run the backward pass\u001b[39;49;00m\n\u001b[1;32m    304\u001b[0m \u001b[43m        \u001b[49m\u001b[43mt_outputs\u001b[49m\u001b[43m,\u001b[49m\u001b[43m \u001b[49m\u001b[43mgrad_outputs_\u001b[49m\u001b[43m,\u001b[49m\u001b[43m \u001b[49m\u001b[43mretain_graph\u001b[49m\u001b[43m,\u001b[49m\u001b[43m \u001b[49m\u001b[43mcreate_graph\u001b[49m\u001b[43m,\u001b[49m\u001b[43m \u001b[49m\u001b[43mt_inputs\u001b[49m\u001b[43m,\u001b[49m\n\u001b[1;32m    305\u001b[0m \u001b[43m        \u001b[49m\u001b[43mallow_unused\u001b[49m\u001b[43m,\u001b[49m\u001b[43m \u001b[49m\u001b[43maccumulate_grad\u001b[49m\u001b[38;5;241;43m=\u001b[39;49m\u001b[38;5;28;43;01mFalse\u001b[39;49;00m\u001b[43m)\u001b[49m\n",
      "\u001b[0;31mRuntimeError\u001b[0m: One of the differentiated Tensors appears to not have been used in the graph. Set allow_unused=True if this is the desired behavior."
     ]
    }
   ],
   "source": [
    "budget = 300\n",
    "pert = greedy_metattack(A.shape, budget, A.device, grad_fn)[0]"
   ]
  }
 ],
 "metadata": {
  "kernelspec": {
   "display_name": "Python 3 (ipykernel)",
   "language": "python",
   "name": "python3"
  },
  "language_info": {
   "codemirror_mode": {
    "name": "ipython",
    "version": 3
   },
   "file_extension": ".py",
   "mimetype": "text/x-python",
   "name": "python",
   "nbconvert_exporter": "python",
   "pygments_lexer": "ipython3",
   "version": "3.8.18"
  }
 },
 "nbformat": 4,
 "nbformat_minor": 5
}
