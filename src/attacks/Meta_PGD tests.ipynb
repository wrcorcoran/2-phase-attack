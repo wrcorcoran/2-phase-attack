{
 "cells": [
  {
   "cell_type": "code",
   "execution_count": 1,
   "id": "27cc2eb1-fdcd-4040-92c7-cde4e8203844",
   "metadata": {},
   "outputs": [],
   "source": [
    "import sys\n",
    "from itertools import count\n",
    "from torch import autograd\n",
    "from torch_geometric.utils import dense_to_sparse\n",
    "import copy\n",
    "\n",
    "sys.path.append('../')\n",
    "from models.gcn import *\n",
    "from utils.datasets import *"
   ]
  },
  {
   "cell_type": "code",
   "execution_count": 2,
   "id": "b90ce4ab-0dc6-44b8-8006-cede2d45e916",
   "metadata": {},
   "outputs": [
    {
     "name": "stdout",
     "output_type": "stream",
     "text": [
      "CUDA_VISIBLE_DEVICES: 0\n"
     ]
    }
   ],
   "source": [
    "import os\n",
    "print(\"CUDA_VISIBLE_DEVICES:\", os.environ.get(\"CUDA_VISIBLE_DEVICES\"))"
   ]
  },
  {
   "cell_type": "code",
   "execution_count": null,
   "id": "f3a81868-6d4b-43e7-b78d-d8af3f48292f",
   "metadata": {},
   "outputs": [],
   "source": []
  },
  {
   "cell_type": "code",
   "execution_count": 3,
   "id": "94bb0fd2-9014-49e8-974c-5177f3cf31fd",
   "metadata": {},
   "outputs": [
    {
     "name": "stdout",
     "output_type": "stream",
     "text": [
      "CUDA Device Count: 1\n",
      "Device 0: NVIDIA H200 MIG 1c.3g.71gb\n"
     ]
    }
   ],
   "source": [
    "import torch\n",
    "\n",
    "print(\"CUDA Device Count:\", torch.cuda.device_count())\n",
    "\n",
    "for i in range(torch.cuda.device_count()):\n",
    "    print(f\"Device {i}: {torch.cuda.get_device_name(i)}\")"
   ]
  },
  {
   "cell_type": "code",
   "execution_count": 4,
   "id": "1d01a5f7-69eb-47d1-a3a7-fa102f6b2c3f",
   "metadata": {},
   "outputs": [],
   "source": [
    "device = \"cuda:0\" if torch.cuda.is_available() else \"cpu\""
   ]
  },
  {
   "cell_type": "code",
   "execution_count": 5,
   "id": "f6fcb57e-955c-4365-a31d-076c11c1d890",
   "metadata": {},
   "outputs": [],
   "source": [
    "from models.trainable import *"
   ]
  },
  {
   "cell_type": "code",
   "execution_count": 6,
   "id": "05a9d608-d66c-4432-a5d5-5b8c4d46f85a",
   "metadata": {},
   "outputs": [],
   "source": [
    "from meta_pgd import *"
   ]
  },
  {
   "cell_type": "code",
   "execution_count": 7,
   "id": "63f7f8aa-0298-45af-ac20-0627430494bc",
   "metadata": {},
   "outputs": [
    {
     "name": "stdout",
     "output_type": "stream",
     "text": [
      "Data(x=[2708, 1433], edge_index=[2, 10556], y=[2708], train_mask=[2708], val_mask=[2708], test_mask=[2708])\n"
     ]
    }
   ],
   "source": [
    "# dataset_directory = \"../Cora\"\n",
    "cora_dataset = Planetoid(root='', name='Cora')\n",
    "data = cora_dataset[0].to(device)\n",
    "print(data)"
   ]
  },
  {
   "cell_type": "code",
   "execution_count": 8,
   "id": "61fe2c20-6688-4598-90bf-e446bf6e640b",
   "metadata": {},
   "outputs": [],
   "source": [
    "data.train_mask[0:248]=True"
   ]
  },
  {
   "cell_type": "code",
   "execution_count": 9,
   "id": "0691d29c-a2cf-4219-9373-629c9927a275",
   "metadata": {},
   "outputs": [],
   "source": [
    "data.val_mask[0:248] = False"
   ]
  },
  {
   "cell_type": "code",
   "execution_count": 10,
   "id": "06460569-37d4-4efa-892e-bf29540022a8",
   "metadata": {},
   "outputs": [],
   "source": [
    "data.val_mask[248:500] = True"
   ]
  },
  {
   "cell_type": "code",
   "execution_count": 11,
   "id": "664b3a7e-d5ca-44ab-9c95-d2a77fafd25f",
   "metadata": {},
   "outputs": [],
   "source": [
    "data.test_mask[140+500:]=True"
   ]
  },
  {
   "cell_type": "code",
   "execution_count": 12,
   "id": "e4ccbf14-90d1-4788-9757-2916b2d3c41e",
   "metadata": {},
   "outputs": [
    {
     "data": {
      "text/plain": [
       "tensor(2068, device='cuda:0')"
      ]
     },
     "execution_count": 12,
     "metadata": {},
     "output_type": "execute_result"
    }
   ],
   "source": [
    "data.test_mask[140+500:].sum()"
   ]
  },
  {
   "cell_type": "code",
   "execution_count": 13,
   "id": "c4fde4bb-3f6a-4581-b501-ec0858e578cd",
   "metadata": {},
   "outputs": [
    {
     "data": {
      "text/plain": [
       "tensor(392, device='cuda:0')"
      ]
     },
     "execution_count": 13,
     "metadata": {},
     "output_type": "execute_result"
    }
   ],
   "source": [
    "data.val_mask[248:140+500].sum()"
   ]
  },
  {
   "cell_type": "code",
   "execution_count": 14,
   "id": "80e4bf46-8d64-4faf-ae4f-bf19bc707932",
   "metadata": {},
   "outputs": [
    {
     "data": {
      "text/plain": [
       "tensor(248, device='cuda:0')"
      ]
     },
     "execution_count": 14,
     "metadata": {},
     "output_type": "execute_result"
    }
   ],
   "source": [
    "data.train_mask.sum()"
   ]
  },
  {
   "cell_type": "code",
   "execution_count": 15,
   "id": "326700b0-3901-4093-9620-32d5496c26cf",
   "metadata": {},
   "outputs": [],
   "source": [
    "model = GCN(data.x.shape[1], cora_dataset.num_classes, [64]).to(device)"
   ]
  },
  {
   "cell_type": "code",
   "execution_count": 16,
   "id": "9a60babb-797d-4196-a3a9-b6398aee4cac",
   "metadata": {},
   "outputs": [
    {
     "name": "stdout",
     "output_type": "stream",
     "text": [
      "Epoch 0, Train Loss - 1.9450644254684448, Val Loss - 1.7690825462341309, Val Accuracy - 0.49489795918367346\n",
      "Epoch 20, Train Loss - 0.02871800772845745, Val Loss - 0.68980872631073, Val Accuracy - 0.8010204081632653\n",
      "Epoch 40, Train Loss - 0.010691264644265175, Val Loss - 0.6796865463256836, Val Accuracy - 0.8061224489795918\n",
      "Epoch 60, Train Loss - 0.021859560161828995, Val Loss - 0.6291465163230896, Val Accuracy - 0.8010204081632653\n",
      "Epoch 80, Train Loss - 0.021179623901844025, Val Loss - 0.634373128414154, Val Accuracy - 0.7933673469387755\n",
      "Epoch 100, Train Loss - 0.0160499420017004, Val Loss - 0.6341055631637573, Val Accuracy - 0.7959183673469388\n",
      "Epoch 120, Train Loss - 0.014182561077177525, Val Loss - 0.6532086730003357, Val Accuracy - 0.7959183673469388\n",
      "Epoch 140, Train Loss - 0.01754961535334587, Val Loss - 0.6482744216918945, Val Accuracy - 0.8112244897959183\n",
      "Epoch 160, Train Loss - 0.012850947678089142, Val Loss - 0.6511685252189636, Val Accuracy - 0.8061224489795918\n",
      "Epoch 180, Train Loss - 0.013170172460377216, Val Loss - 0.6702962517738342, Val Accuracy - 0.8061224489795918\n",
      "Epoch 200, Train Loss - 0.013613002374768257, Val Loss - 0.6618742942810059, Val Accuracy - 0.8112244897959183\n"
     ]
    }
   ],
   "source": [
    "model.reset_parameters()\n",
    "train = Trainable(model)\n",
    "train.fit(data, 200)"
   ]
  },
  {
   "cell_type": "code",
   "execution_count": 17,
   "id": "e871321d-e415-4235-9bd9-1ba00f46fc6e",
   "metadata": {},
   "outputs": [
    {
     "name": "stdout",
     "output_type": "stream",
     "text": [
      "Loss: 0.5219756960868835, Acc: 0.8452611218568665\n"
     ]
    }
   ],
   "source": [
    "loss, acc = train.test(data)\n",
    "print(f'Loss: {loss}, Acc: {acc}')"
   ]
  },
  {
   "cell_type": "markdown",
   "id": "5e6cc883-3f47-4066-b9d8-1940753e6ec1",
   "metadata": {},
   "source": [
    "# MetaPGD Tests"
   ]
  },
  {
   "cell_type": "code",
   "execution_count": 18,
   "id": "68177866-75e3-414d-bf96-eb4bd455e145",
   "metadata": {},
   "outputs": [],
   "source": [
    "attacker = MetaPGD(data, device=device)"
   ]
  },
  {
   "cell_type": "code",
   "execution_count": 19,
   "id": "16e63f1d-1c8f-4f79-97c4-58966931c785",
   "metadata": {},
   "outputs": [],
   "source": [
    "attacker.setup_surrogate(\n",
    "    model,\n",
    "    labeled_nodes=data.train_mask,\n",
    "    unlabeled_nodes=data.test_mask,\n",
    "    lambda_=0.0,\n",
    ")"
   ]
  },
  {
   "cell_type": "code",
   "execution_count": 20,
   "id": "a745b9e1-6cb4-4b32-b33b-bb784996f416",
   "metadata": {},
   "outputs": [
    {
     "data": {
      "text/plain": [
       "Data(x=[2708, 1433], edge_index=[2, 10556], y=[2708], train_mask=[2708], val_mask=[2708], test_mask=[2708])"
      ]
     },
     "execution_count": 20,
     "metadata": {},
     "output_type": "execute_result"
    }
   ],
   "source": [
    "data"
   ]
  },
  {
   "cell_type": "code",
   "execution_count": 21,
   "id": "df7ffc1a-c764-4b5b-b4a9-35a52e3609c7",
   "metadata": {},
   "outputs": [
    {
     "data": {
      "text/plain": [
       "tensor(248, device='cuda:0')"
      ]
     },
     "execution_count": 21,
     "metadata": {},
     "output_type": "execute_result"
    }
   ],
   "source": [
    "data.train_mask.sum()"
   ]
  },
  {
   "cell_type": "code",
   "execution_count": 22,
   "id": "d2c61244-94ba-422b-8cee-07b8b0bc6a31",
   "metadata": {},
   "outputs": [
    {
     "data": {
      "text/plain": [
       "tensor(2068, device='cuda:0')"
      ]
     },
     "execution_count": 22,
     "metadata": {},
     "output_type": "execute_result"
    }
   ],
   "source": [
    "data.test_mask.sum()"
   ]
  },
  {
   "cell_type": "code",
   "execution_count": 23,
   "id": "5e73e6b5-744b-4203-bb63-9411fc068249",
   "metadata": {},
   "outputs": [
    {
     "data": {
      "text/plain": [
       "tensor(392, device='cuda:0')"
      ]
     },
     "execution_count": 23,
     "metadata": {},
     "output_type": "execute_result"
    }
   ],
   "source": [
    "data.val_mask.sum()"
   ]
  },
  {
   "cell_type": "code",
   "execution_count": 24,
   "id": "7284cecb-078b-4f73-9dc1-73c9a5d29f92",
   "metadata": {},
   "outputs": [
    {
     "data": {
      "text/plain": [
       "Data(x=[2708, 1433], edge_index=[2, 10556], y=[2708], train_mask=[2708], val_mask=[2708], test_mask=[2708])"
      ]
     },
     "execution_count": 24,
     "metadata": {},
     "output_type": "execute_result"
    }
   ],
   "source": [
    "data"
   ]
  },
  {
   "cell_type": "code",
   "execution_count": 25,
   "id": "ffe442eb-1db1-414e-8c3e-fdc5dc0f3c62",
   "metadata": {
    "scrolled": true
   },
   "outputs": [
    {
     "data": {
      "application/vnd.jupyter.widget-view+json": {
       "model_id": "34b9c22e98c74113b2b8f6633cf68b32",
       "version_major": 2,
       "version_minor": 0
      },
      "text/plain": [
       "Running PGD Attack...:   0%|          | 0/400 [00:00<?, ?it/s]"
      ]
     },
     "metadata": {},
     "output_type": "display_data"
    },
    {
     "data": {
      "application/vnd.jupyter.widget-view+json": {
       "model_id": "fc80b88509d04f698f65febfb4c07008",
       "version_major": 2,
       "version_minor": 0
      },
      "text/plain": [
       "  0%|          | 0/100 [00:00<?, ?it/s]"
      ]
     },
     "metadata": {},
     "output_type": "display_data"
    },
    {
     "name": "stdout",
     "output_type": "stream",
     "text": [
      "263 tensor(258, device='cuda:0')\n",
      "263 tensor(258, device='cuda:0')\n",
      "263 tensor(258, device='cuda:0')\n",
      "263 tensor(258, device='cuda:0')\n",
      "263 tensor(258, device='cuda:0')\n",
      "263 tensor(258, device='cuda:0')\n",
      "263 tensor(258, device='cuda:0')\n",
      "263 tensor(258, device='cuda:0')\n",
      "263 tensor(258, device='cuda:0')\n",
      "263 tensor(258, device='cuda:0')\n",
      "263 tensor(258, device='cuda:0')\n",
      "263 tensor(258, device='cuda:0')\n",
      "263 tensor(258, device='cuda:0')\n",
      "263 tensor(258, device='cuda:0')\n",
      "263 tensor(258, device='cuda:0')\n",
      "263 tensor(258, device='cuda:0')\n",
      "263 tensor(258, device='cuda:0')\n",
      "263 tensor(258, device='cuda:0')\n",
      "263 tensor(258, device='cuda:0')\n",
      "263 tensor(258, device='cuda:0')\n",
      "263 tensor(258, device='cuda:0')\n",
      "263 tensor(258, device='cuda:0')\n",
      "263 tensor(258, device='cuda:0')\n",
      "263 tensor(258, device='cuda:0')\n",
      "263 tensor(258, device='cuda:0')\n",
      "263 tensor(258, device='cuda:0')\n",
      "263 tensor(258, device='cuda:0')\n",
      "263 tensor(258, device='cuda:0')\n",
      "263 tensor(258, device='cuda:0')\n",
      "263 tensor(258, device='cuda:0')\n",
      "263 tensor(258, device='cuda:0')\n",
      "263 tensor(258, device='cuda:0')\n",
      "263 tensor(258, device='cuda:0')\n",
      "263 tensor(258, device='cuda:0')\n",
      "263 tensor(258, device='cuda:0')\n",
      "263 tensor(258, device='cuda:0')\n",
      "263 tensor(258, device='cuda:0')\n",
      "263 tensor(258, device='cuda:0')\n",
      "263 tensor(258, device='cuda:0')\n",
      "263 tensor(258, device='cuda:0')\n",
      "263 tensor(258, device='cuda:0')\n",
      "263 tensor(258, device='cuda:0')\n",
      "263 tensor(258, device='cuda:0')\n",
      "263 tensor(258, device='cuda:0')\n",
      "263 tensor(258, device='cuda:0')\n",
      "263 tensor(258, device='cuda:0')\n",
      "263 tensor(258, device='cuda:0')\n",
      "263 tensor(258, device='cuda:0')\n",
      "263 tensor(258, device='cuda:0')\n",
      "263 tensor(258, device='cuda:0')\n",
      "263 tensor(258, device='cuda:0')\n",
      "263 tensor(258, device='cuda:0')\n",
      "263 tensor(258, device='cuda:0')\n",
      "263 tensor(258, device='cuda:0')\n",
      "263 tensor(258, device='cuda:0')\n",
      "263 tensor(258, device='cuda:0')\n",
      "263 tensor(258, device='cuda:0')\n",
      "263 tensor(258, device='cuda:0')\n",
      "263 tensor(258, device='cuda:0')\n",
      "263 tensor(258, device='cuda:0')\n",
      "263 tensor(258, device='cuda:0')\n",
      "263 tensor(258, device='cuda:0')\n",
      "263 tensor(258, device='cuda:0')\n",
      "263 tensor(258, device='cuda:0')\n",
      "263 tensor(258, device='cuda:0')\n",
      "263 tensor(258, device='cuda:0')\n",
      "263 tensor(258, device='cuda:0')\n",
      "263 tensor(258, device='cuda:0')\n",
      "263 tensor(258, device='cuda:0')\n",
      "263 tensor(258, device='cuda:0')\n",
      "263 tensor(258, device='cuda:0')\n",
      "263 tensor(258, device='cuda:0')\n",
      "263 tensor(258, device='cuda:0')\n",
      "263 tensor(258, device='cuda:0')\n",
      "263 tensor(258, device='cuda:0')\n",
      "263 tensor(258, device='cuda:0')\n",
      "263 tensor(258, device='cuda:0')\n",
      "263 tensor(258, device='cuda:0')\n",
      "263 tensor(258, device='cuda:0')\n",
      "263 tensor(258, device='cuda:0')\n",
      "263 tensor(258, device='cuda:0')\n",
      "263 tensor(258, device='cuda:0')\n",
      "263 tensor(258, device='cuda:0')\n",
      "263 tensor(258, device='cuda:0')\n",
      "263 tensor(258, device='cuda:0')\n",
      "263 tensor(258, device='cuda:0')\n",
      "263 tensor(258, device='cuda:0')\n",
      "263 tensor(258, device='cuda:0')\n",
      "263 tensor(258, device='cuda:0')\n",
      "263 tensor(258, device='cuda:0')\n",
      "263 tensor(258, device='cuda:0')\n",
      "263 tensor(258, device='cuda:0')\n",
      "263 tensor(258, device='cuda:0')\n",
      "263 tensor(258, device='cuda:0')\n",
      "263 tensor(258, device='cuda:0')\n",
      "263 tensor(258, device='cuda:0')\n",
      "263 tensor(258, device='cuda:0')\n",
      "263 tensor(258, device='cuda:0')\n",
      "263 tensor(258, device='cuda:0')\n",
      "263 tensor(258, device='cuda:0')\n"
     ]
    }
   ],
   "source": [
    "attacker.reset()\n",
    "#losses,\n",
    "best_loss, best_pert = attacker.attack(0.05,base_lr=0.01, grad_clip=1, iterations=400)"
   ]
  },
  {
   "cell_type": "code",
   "execution_count": 26,
   "id": "92734e71-db4c-4380-94a0-6d46ecb9bb88",
   "metadata": {
    "scrolled": true
   },
   "outputs": [
    {
     "data": {
      "text/plain": [
       "[tensor(0.8438, device='cuda:0', grad_fn=<MeanBackward0>),\n",
       " tensor(0.6395, device='cuda:0', grad_fn=<MeanBackward0>),\n",
       " tensor(0.5208, device='cuda:0', grad_fn=<MeanBackward0>),\n",
       " tensor(0.4211, device='cuda:0', grad_fn=<MeanBackward0>),\n",
       " tensor(0.3593, device='cuda:0', grad_fn=<MeanBackward0>),\n",
       " tensor(0.3108, device='cuda:0', grad_fn=<MeanBackward0>),\n",
       " tensor(0.2738, device='cuda:0', grad_fn=<MeanBackward0>),\n",
       " tensor(0.2438, device='cuda:0', grad_fn=<MeanBackward0>),\n",
       " tensor(0.2193, device='cuda:0', grad_fn=<MeanBackward0>),\n",
       " tensor(0.2000, device='cuda:0', grad_fn=<MeanBackward0>),\n",
       " tensor(0.1825, device='cuda:0', grad_fn=<MeanBackward0>),\n",
       " tensor(0.1666, device='cuda:0', grad_fn=<MeanBackward0>),\n",
       " tensor(0.1541, device='cuda:0', grad_fn=<MeanBackward0>),\n",
       " tensor(0.1406, device='cuda:0', grad_fn=<MeanBackward0>),\n",
       " tensor(0.1273, device='cuda:0', grad_fn=<MeanBackward0>),\n",
       " tensor(0.1150, device='cuda:0', grad_fn=<MeanBackward0>),\n",
       " tensor(0.1023, device='cuda:0', grad_fn=<MeanBackward0>),\n",
       " tensor(0.0908, device='cuda:0', grad_fn=<MeanBackward0>),\n",
       " tensor(0.0823, device='cuda:0', grad_fn=<MeanBackward0>),\n",
       " tensor(0.0744, device='cuda:0', grad_fn=<MeanBackward0>),\n",
       " tensor(0.0667, device='cuda:0', grad_fn=<MeanBackward0>),\n",
       " tensor(0.0594, device='cuda:0', grad_fn=<MeanBackward0>),\n",
       " tensor(0.0531, device='cuda:0', grad_fn=<MeanBackward0>),\n",
       " tensor(0.0481, device='cuda:0', grad_fn=<MeanBackward0>),\n",
       " tensor(0.0423, device='cuda:0', grad_fn=<MeanBackward0>),\n",
       " tensor(0.0374, device='cuda:0', grad_fn=<MeanBackward0>),\n",
       " tensor(0.0329, device='cuda:0', grad_fn=<MeanBackward0>),\n",
       " tensor(0.0295, device='cuda:0', grad_fn=<MeanBackward0>),\n",
       " tensor(0.0256, device='cuda:0', grad_fn=<MeanBackward0>),\n",
       " tensor(0.0222, device='cuda:0', grad_fn=<MeanBackward0>),\n",
       " tensor(0.0189, device='cuda:0', grad_fn=<MeanBackward0>),\n",
       " tensor(0.0159, device='cuda:0', grad_fn=<MeanBackward0>),\n",
       " tensor(0.0133, device='cuda:0', grad_fn=<MeanBackward0>),\n",
       " tensor(0.0109, device='cuda:0', grad_fn=<MeanBackward0>),\n",
       " tensor(0.0085, device='cuda:0', grad_fn=<MeanBackward0>),\n",
       " tensor(0.0057, device='cuda:0', grad_fn=<MeanBackward0>),\n",
       " tensor(0.0033, device='cuda:0', grad_fn=<MeanBackward0>),\n",
       " tensor(0.0008, device='cuda:0', grad_fn=<MeanBackward0>),\n",
       " tensor(-0.0012, device='cuda:0', grad_fn=<MeanBackward0>),\n",
       " tensor(-0.0034, device='cuda:0', grad_fn=<MeanBackward0>),\n",
       " tensor(-0.0055, device='cuda:0', grad_fn=<MeanBackward0>),\n",
       " tensor(-0.0075, device='cuda:0', grad_fn=<MeanBackward0>),\n",
       " tensor(-0.0094, device='cuda:0', grad_fn=<MeanBackward0>),\n",
       " tensor(-0.0114, device='cuda:0', grad_fn=<MeanBackward0>),\n",
       " tensor(-0.0129, device='cuda:0', grad_fn=<MeanBackward0>),\n",
       " tensor(-0.0151, device='cuda:0', grad_fn=<MeanBackward0>),\n",
       " tensor(-0.0166, device='cuda:0', grad_fn=<MeanBackward0>),\n",
       " tensor(-0.0182, device='cuda:0', grad_fn=<MeanBackward0>),\n",
       " tensor(-0.0198, device='cuda:0', grad_fn=<MeanBackward0>),\n",
       " tensor(-0.0214, device='cuda:0', grad_fn=<MeanBackward0>),\n",
       " tensor(-0.0224, device='cuda:0', grad_fn=<MeanBackward0>),\n",
       " tensor(-0.0242, device='cuda:0', grad_fn=<MeanBackward0>),\n",
       " tensor(-0.0250, device='cuda:0', grad_fn=<MeanBackward0>),\n",
       " tensor(-0.0267, device='cuda:0', grad_fn=<MeanBackward0>),\n",
       " tensor(-0.0280, device='cuda:0', grad_fn=<MeanBackward0>),\n",
       " tensor(-0.0288, device='cuda:0', grad_fn=<MeanBackward0>),\n",
       " tensor(-0.0301, device='cuda:0', grad_fn=<MeanBackward0>),\n",
       " tensor(-0.0315, device='cuda:0', grad_fn=<MeanBackward0>),\n",
       " tensor(-0.0326, device='cuda:0', grad_fn=<MeanBackward0>),\n",
       " tensor(-0.0333, device='cuda:0', grad_fn=<MeanBackward0>),\n",
       " tensor(-0.0343, device='cuda:0', grad_fn=<MeanBackward0>),\n",
       " tensor(-0.0356, device='cuda:0', grad_fn=<MeanBackward0>),\n",
       " tensor(-0.0364, device='cuda:0', grad_fn=<MeanBackward0>),\n",
       " tensor(-0.0375, device='cuda:0', grad_fn=<MeanBackward0>),\n",
       " tensor(-0.0384, device='cuda:0', grad_fn=<MeanBackward0>),\n",
       " tensor(-0.0389, device='cuda:0', grad_fn=<MeanBackward0>),\n",
       " tensor(-0.0398, device='cuda:0', grad_fn=<MeanBackward0>),\n",
       " tensor(-0.0404, device='cuda:0', grad_fn=<MeanBackward0>),\n",
       " tensor(-0.0413, device='cuda:0', grad_fn=<MeanBackward0>),\n",
       " tensor(-0.0420, device='cuda:0', grad_fn=<MeanBackward0>),\n",
       " tensor(-0.0430, device='cuda:0', grad_fn=<MeanBackward0>),\n",
       " tensor(-0.0438, device='cuda:0', grad_fn=<MeanBackward0>),\n",
       " tensor(-0.0443, device='cuda:0', grad_fn=<MeanBackward0>),\n",
       " tensor(-0.0447, device='cuda:0', grad_fn=<MeanBackward0>),\n",
       " tensor(-0.0455, device='cuda:0', grad_fn=<MeanBackward0>),\n",
       " tensor(-0.0460, device='cuda:0', grad_fn=<MeanBackward0>),\n",
       " tensor(-0.0470, device='cuda:0', grad_fn=<MeanBackward0>),\n",
       " tensor(-0.0477, device='cuda:0', grad_fn=<MeanBackward0>),\n",
       " tensor(-0.0482, device='cuda:0', grad_fn=<MeanBackward0>),\n",
       " tensor(-0.0486, device='cuda:0', grad_fn=<MeanBackward0>),\n",
       " tensor(-0.0494, device='cuda:0', grad_fn=<MeanBackward0>),\n",
       " tensor(-0.0499, device='cuda:0', grad_fn=<MeanBackward0>),\n",
       " tensor(-0.0504, device='cuda:0', grad_fn=<MeanBackward0>),\n",
       " tensor(-0.0512, device='cuda:0', grad_fn=<MeanBackward0>),\n",
       " tensor(-0.0519, device='cuda:0', grad_fn=<MeanBackward0>),\n",
       " tensor(-0.0524, device='cuda:0', grad_fn=<MeanBackward0>),\n",
       " tensor(-0.0527, device='cuda:0', grad_fn=<MeanBackward0>),\n",
       " tensor(-0.0534, device='cuda:0', grad_fn=<MeanBackward0>),\n",
       " tensor(-0.0535, device='cuda:0', grad_fn=<MeanBackward0>),\n",
       " tensor(-0.0540, device='cuda:0', grad_fn=<MeanBackward0>),\n",
       " tensor(-0.0549, device='cuda:0', grad_fn=<MeanBackward0>),\n",
       " tensor(-0.0550, device='cuda:0', grad_fn=<MeanBackward0>),\n",
       " tensor(-0.0557, device='cuda:0', grad_fn=<MeanBackward0>),\n",
       " tensor(-0.0562, device='cuda:0', grad_fn=<MeanBackward0>),\n",
       " tensor(-0.0566, device='cuda:0', grad_fn=<MeanBackward0>),\n",
       " tensor(-0.0568, device='cuda:0', grad_fn=<MeanBackward0>),\n",
       " tensor(-0.0571, device='cuda:0', grad_fn=<MeanBackward0>),\n",
       " tensor(-0.0578, device='cuda:0', grad_fn=<MeanBackward0>),\n",
       " tensor(-0.0584, device='cuda:0', grad_fn=<MeanBackward0>),\n",
       " tensor(-0.0588, device='cuda:0', grad_fn=<MeanBackward0>),\n",
       " tensor(-0.0592, device='cuda:0', grad_fn=<MeanBackward0>),\n",
       " tensor(-0.0595, device='cuda:0', grad_fn=<MeanBackward0>),\n",
       " tensor(-0.0598, device='cuda:0', grad_fn=<MeanBackward0>),\n",
       " tensor(-0.0606, device='cuda:0', grad_fn=<MeanBackward0>),\n",
       " tensor(-0.0608, device='cuda:0', grad_fn=<MeanBackward0>),\n",
       " tensor(-0.0614, device='cuda:0', grad_fn=<MeanBackward0>),\n",
       " tensor(-0.0619, device='cuda:0', grad_fn=<MeanBackward0>),\n",
       " tensor(-0.0622, device='cuda:0', grad_fn=<MeanBackward0>),\n",
       " tensor(-0.0624, device='cuda:0', grad_fn=<MeanBackward0>),\n",
       " tensor(-0.0626, device='cuda:0', grad_fn=<MeanBackward0>),\n",
       " tensor(-0.0633, device='cuda:0', grad_fn=<MeanBackward0>),\n",
       " tensor(-0.0639, device='cuda:0', grad_fn=<MeanBackward0>),\n",
       " tensor(-0.0638, device='cuda:0', grad_fn=<MeanBackward0>),\n",
       " tensor(-0.0643, device='cuda:0', grad_fn=<MeanBackward0>),\n",
       " tensor(-0.0647, device='cuda:0', grad_fn=<MeanBackward0>),\n",
       " tensor(-0.0650, device='cuda:0', grad_fn=<MeanBackward0>),\n",
       " tensor(-0.0653, device='cuda:0', grad_fn=<MeanBackward0>),\n",
       " tensor(-0.0661, device='cuda:0', grad_fn=<MeanBackward0>),\n",
       " tensor(-0.0662, device='cuda:0', grad_fn=<MeanBackward0>),\n",
       " tensor(-0.0668, device='cuda:0', grad_fn=<MeanBackward0>),\n",
       " tensor(-0.0668, device='cuda:0', grad_fn=<MeanBackward0>),\n",
       " tensor(-0.0674, device='cuda:0', grad_fn=<MeanBackward0>),\n",
       " tensor(-0.0678, device='cuda:0', grad_fn=<MeanBackward0>),\n",
       " tensor(-0.0683, device='cuda:0', grad_fn=<MeanBackward0>),\n",
       " tensor(-0.0686, device='cuda:0', grad_fn=<MeanBackward0>),\n",
       " tensor(-0.0688, device='cuda:0', grad_fn=<MeanBackward0>),\n",
       " tensor(-0.0690, device='cuda:0', grad_fn=<MeanBackward0>),\n",
       " tensor(-0.0697, device='cuda:0', grad_fn=<MeanBackward0>),\n",
       " tensor(-0.0697, device='cuda:0', grad_fn=<MeanBackward0>),\n",
       " tensor(-0.0703, device='cuda:0', grad_fn=<MeanBackward0>),\n",
       " tensor(-0.0707, device='cuda:0', grad_fn=<MeanBackward0>),\n",
       " tensor(-0.0706, device='cuda:0', grad_fn=<MeanBackward0>),\n",
       " tensor(-0.0711, device='cuda:0', grad_fn=<MeanBackward0>),\n",
       " tensor(-0.0715, device='cuda:0', grad_fn=<MeanBackward0>),\n",
       " tensor(-0.0719, device='cuda:0', grad_fn=<MeanBackward0>),\n",
       " tensor(-0.0723, device='cuda:0', grad_fn=<MeanBackward0>),\n",
       " tensor(-0.0727, device='cuda:0', grad_fn=<MeanBackward0>),\n",
       " tensor(-0.0730, device='cuda:0', grad_fn=<MeanBackward0>),\n",
       " tensor(-0.0733, device='cuda:0', grad_fn=<MeanBackward0>),\n",
       " tensor(-0.0735, device='cuda:0', grad_fn=<MeanBackward0>),\n",
       " tensor(-0.0743, device='cuda:0', grad_fn=<MeanBackward0>),\n",
       " tensor(-0.0743, device='cuda:0', grad_fn=<MeanBackward0>),\n",
       " tensor(-0.0749, device='cuda:0', grad_fn=<MeanBackward0>),\n",
       " tensor(-0.0748, device='cuda:0', grad_fn=<MeanBackward0>),\n",
       " tensor(-0.0753, device='cuda:0', grad_fn=<MeanBackward0>),\n",
       " tensor(-0.0757, device='cuda:0', grad_fn=<MeanBackward0>),\n",
       " tensor(-0.0760, device='cuda:0', grad_fn=<MeanBackward0>),\n",
       " tensor(-0.0763, device='cuda:0', grad_fn=<MeanBackward0>),\n",
       " tensor(-0.0766, device='cuda:0', grad_fn=<MeanBackward0>),\n",
       " tensor(-0.0769, device='cuda:0', grad_fn=<MeanBackward0>),\n",
       " tensor(-0.0772, device='cuda:0', grad_fn=<MeanBackward0>),\n",
       " tensor(-0.0774, device='cuda:0', grad_fn=<MeanBackward0>),\n",
       " tensor(-0.0782, device='cuda:0', grad_fn=<MeanBackward0>),\n",
       " tensor(-0.0782, device='cuda:0', grad_fn=<MeanBackward0>),\n",
       " tensor(-0.0783, device='cuda:0', grad_fn=<MeanBackward0>),\n",
       " tensor(-0.0789, device='cuda:0', grad_fn=<MeanBackward0>),\n",
       " tensor(-0.0789, device='cuda:0', grad_fn=<MeanBackward0>),\n",
       " tensor(-0.0795, device='cuda:0', grad_fn=<MeanBackward0>),\n",
       " tensor(-0.0802, device='cuda:0', grad_fn=<MeanBackward0>),\n",
       " tensor(-0.0805, device='cuda:0', grad_fn=<MeanBackward0>),\n",
       " tensor(-0.0813, device='cuda:0', grad_fn=<MeanBackward0>),\n",
       " tensor(-0.0818, device='cuda:0', grad_fn=<MeanBackward0>),\n",
       " tensor(-0.0822, device='cuda:0', grad_fn=<MeanBackward0>),\n",
       " tensor(-0.0826, device='cuda:0', grad_fn=<MeanBackward0>),\n",
       " tensor(-0.0830, device='cuda:0', grad_fn=<MeanBackward0>),\n",
       " tensor(-0.0833, device='cuda:0', grad_fn=<MeanBackward0>),\n",
       " tensor(-0.0835, device='cuda:0', grad_fn=<MeanBackward0>),\n",
       " tensor(-0.0837, device='cuda:0', grad_fn=<MeanBackward0>),\n",
       " tensor(-0.0843, device='cuda:0', grad_fn=<MeanBackward0>),\n",
       " tensor(-0.0844, device='cuda:0', grad_fn=<MeanBackward0>),\n",
       " tensor(-0.0845, device='cuda:0', grad_fn=<MeanBackward0>),\n",
       " tensor(-0.0851, device='cuda:0', grad_fn=<MeanBackward0>),\n",
       " tensor(-0.0851, device='cuda:0', grad_fn=<MeanBackward0>),\n",
       " tensor(-0.0857, device='cuda:0', grad_fn=<MeanBackward0>),\n",
       " tensor(-0.0857, device='cuda:0', grad_fn=<MeanBackward0>),\n",
       " tensor(-0.0862, device='cuda:0', grad_fn=<MeanBackward0>),\n",
       " tensor(-0.0866, device='cuda:0', grad_fn=<MeanBackward0>),\n",
       " tensor(-0.0871, device='cuda:0', grad_fn=<MeanBackward0>),\n",
       " tensor(-0.0869, device='cuda:0', grad_fn=<MeanBackward0>),\n",
       " tensor(-0.0874, device='cuda:0', grad_fn=<MeanBackward0>),\n",
       " tensor(-0.0878, device='cuda:0', grad_fn=<MeanBackward0>),\n",
       " tensor(-0.0881, device='cuda:0', grad_fn=<MeanBackward0>),\n",
       " tensor(-0.0884, device='cuda:0', grad_fn=<MeanBackward0>),\n",
       " tensor(-0.0887, device='cuda:0', grad_fn=<MeanBackward0>),\n",
       " tensor(-0.0890, device='cuda:0', grad_fn=<MeanBackward0>),\n",
       " tensor(-0.0892, device='cuda:0', grad_fn=<MeanBackward0>),\n",
       " tensor(-0.0894, device='cuda:0', grad_fn=<MeanBackward0>),\n",
       " tensor(-0.0902, device='cuda:0', grad_fn=<MeanBackward0>),\n",
       " tensor(-0.0902, device='cuda:0', grad_fn=<MeanBackward0>),\n",
       " tensor(-0.0904, device='cuda:0', grad_fn=<MeanBackward0>),\n",
       " tensor(-0.0910, device='cuda:0', grad_fn=<MeanBackward0>),\n",
       " tensor(-0.0912, device='cuda:0', grad_fn=<MeanBackward0>),\n",
       " tensor(-0.0914, device='cuda:0', grad_fn=<MeanBackward0>),\n",
       " tensor(-0.0920, device='cuda:0', grad_fn=<MeanBackward0>),\n",
       " tensor(-0.0922, device='cuda:0', grad_fn=<MeanBackward0>),\n",
       " tensor(-0.0927, device='cuda:0', grad_fn=<MeanBackward0>),\n",
       " tensor(-0.0929, device='cuda:0', grad_fn=<MeanBackward0>),\n",
       " tensor(-0.0934, device='cuda:0', grad_fn=<MeanBackward0>),\n",
       " tensor(-0.0937, device='cuda:0', grad_fn=<MeanBackward0>),\n",
       " tensor(-0.0943, device='cuda:0', grad_fn=<MeanBackward0>),\n",
       " tensor(-0.0945, device='cuda:0', grad_fn=<MeanBackward0>),\n",
       " tensor(-0.0952, device='cuda:0', grad_fn=<MeanBackward0>),\n",
       " tensor(-0.0956, device='cuda:0', grad_fn=<MeanBackward0>),\n",
       " tensor(-0.0966, device='cuda:0', grad_fn=<MeanBackward0>),\n",
       " tensor(-0.0973, device='cuda:0', grad_fn=<MeanBackward0>),\n",
       " tensor(-0.0983, device='cuda:0', grad_fn=<MeanBackward0>),\n",
       " tensor(-0.0993, device='cuda:0', grad_fn=<MeanBackward0>),\n",
       " tensor(-0.1013, device='cuda:0', grad_fn=<MeanBackward0>),\n",
       " tensor(-0.1029, device='cuda:0', grad_fn=<MeanBackward0>),\n",
       " tensor(-0.1041, device='cuda:0', grad_fn=<MeanBackward0>),\n",
       " tensor(-0.1048, device='cuda:0', grad_fn=<MeanBackward0>),\n",
       " tensor(-0.1060, device='cuda:0', grad_fn=<MeanBackward0>),\n",
       " tensor(-0.1066, device='cuda:0', grad_fn=<MeanBackward0>),\n",
       " tensor(-0.1073, device='cuda:0', grad_fn=<MeanBackward0>),\n",
       " tensor(-0.1083, device='cuda:0', grad_fn=<MeanBackward0>),\n",
       " tensor(-0.1091, device='cuda:0', grad_fn=<MeanBackward0>),\n",
       " tensor(-0.1097, device='cuda:0', grad_fn=<MeanBackward0>),\n",
       " tensor(-0.1103, device='cuda:0', grad_fn=<MeanBackward0>),\n",
       " tensor(-0.1107, device='cuda:0', grad_fn=<MeanBackward0>),\n",
       " tensor(-0.1111, device='cuda:0', grad_fn=<MeanBackward0>),\n",
       " tensor(-0.1117, device='cuda:0', grad_fn=<MeanBackward0>),\n",
       " tensor(-0.1122, device='cuda:0', grad_fn=<MeanBackward0>),\n",
       " tensor(-0.1127, device='cuda:0', grad_fn=<MeanBackward0>),\n",
       " tensor(-0.1127, device='cuda:0', grad_fn=<MeanBackward0>),\n",
       " tensor(-0.1131, device='cuda:0', grad_fn=<MeanBackward0>),\n",
       " tensor(-0.1135, device='cuda:0', grad_fn=<MeanBackward0>),\n",
       " tensor(-0.1142, device='cuda:0', grad_fn=<MeanBackward0>),\n",
       " tensor(-0.1145, device='cuda:0', grad_fn=<MeanBackward0>),\n",
       " tensor(-0.1147, device='cuda:0', grad_fn=<MeanBackward0>),\n",
       " tensor(-0.1150, device='cuda:0', grad_fn=<MeanBackward0>),\n",
       " tensor(-0.1157, device='cuda:0', grad_fn=<MeanBackward0>),\n",
       " tensor(-0.1162, device='cuda:0', grad_fn=<MeanBackward0>),\n",
       " tensor(-0.1166, device='cuda:0', grad_fn=<MeanBackward0>),\n",
       " tensor(-0.1169, device='cuda:0', grad_fn=<MeanBackward0>),\n",
       " tensor(-0.1174, device='cuda:0', grad_fn=<MeanBackward0>),\n",
       " tensor(-0.1179, device='cuda:0', grad_fn=<MeanBackward0>),\n",
       " tensor(-0.1183, device='cuda:0', grad_fn=<MeanBackward0>),\n",
       " tensor(-0.1187, device='cuda:0', grad_fn=<MeanBackward0>),\n",
       " tensor(-0.1190, device='cuda:0', grad_fn=<MeanBackward0>),\n",
       " tensor(-0.1193, device='cuda:0', grad_fn=<MeanBackward0>),\n",
       " tensor(-0.1196, device='cuda:0', grad_fn=<MeanBackward0>),\n",
       " tensor(-0.1198, device='cuda:0', grad_fn=<MeanBackward0>),\n",
       " tensor(-0.1200, device='cuda:0', grad_fn=<MeanBackward0>),\n",
       " tensor(-0.1206, device='cuda:0', grad_fn=<MeanBackward0>),\n",
       " tensor(-0.1207, device='cuda:0', grad_fn=<MeanBackward0>),\n",
       " tensor(-0.1213, device='cuda:0', grad_fn=<MeanBackward0>),\n",
       " tensor(-0.1214, device='cuda:0', grad_fn=<MeanBackward0>),\n",
       " tensor(-0.1218, device='cuda:0', grad_fn=<MeanBackward0>),\n",
       " tensor(-0.1219, device='cuda:0', grad_fn=<MeanBackward0>),\n",
       " tensor(-0.1223, device='cuda:0', grad_fn=<MeanBackward0>),\n",
       " tensor(-0.1227, device='cuda:0', grad_fn=<MeanBackward0>),\n",
       " tensor(-0.1230, device='cuda:0', grad_fn=<MeanBackward0>),\n",
       " tensor(-0.1234, device='cuda:0', grad_fn=<MeanBackward0>),\n",
       " tensor(-0.1234, device='cuda:0', grad_fn=<MeanBackward0>),\n",
       " tensor(-0.1237, device='cuda:0', grad_fn=<MeanBackward0>),\n",
       " tensor(-0.1240, device='cuda:0', grad_fn=<MeanBackward0>),\n",
       " tensor(-0.1243, device='cuda:0', grad_fn=<MeanBackward0>),\n",
       " tensor(-0.1246, device='cuda:0', grad_fn=<MeanBackward0>),\n",
       " tensor(-0.1250, device='cuda:0', grad_fn=<MeanBackward0>),\n",
       " tensor(-0.1254, device='cuda:0', grad_fn=<MeanBackward0>),\n",
       " tensor(-0.1258, device='cuda:0', grad_fn=<MeanBackward0>),\n",
       " tensor(-0.1262, device='cuda:0', grad_fn=<MeanBackward0>),\n",
       " tensor(-0.1268, device='cuda:0', grad_fn=<MeanBackward0>),\n",
       " tensor(-0.1273, device='cuda:0', grad_fn=<MeanBackward0>),\n",
       " tensor(-0.1278, device='cuda:0', grad_fn=<MeanBackward0>),\n",
       " tensor(-0.1281, device='cuda:0', grad_fn=<MeanBackward0>),\n",
       " tensor(-0.1285, device='cuda:0', grad_fn=<MeanBackward0>),\n",
       " tensor(-0.1288, device='cuda:0', grad_fn=<MeanBackward0>),\n",
       " tensor(-0.1291, device='cuda:0', grad_fn=<MeanBackward0>),\n",
       " tensor(-0.1297, device='cuda:0', grad_fn=<MeanBackward0>),\n",
       " tensor(-0.1301, device='cuda:0', grad_fn=<MeanBackward0>),\n",
       " tensor(-0.1305, device='cuda:0', grad_fn=<MeanBackward0>),\n",
       " tensor(-0.1310, device='cuda:0', grad_fn=<MeanBackward0>),\n",
       " tensor(-0.1317, device='cuda:0', grad_fn=<MeanBackward0>),\n",
       " tensor(-0.1324, device='cuda:0', grad_fn=<MeanBackward0>),\n",
       " tensor(-0.1329, device='cuda:0', grad_fn=<MeanBackward0>),\n",
       " tensor(-0.1339, device='cuda:0', grad_fn=<MeanBackward0>),\n",
       " tensor(-0.1345, device='cuda:0', grad_fn=<MeanBackward0>),\n",
       " tensor(-0.1354, device='cuda:0', grad_fn=<MeanBackward0>),\n",
       " tensor(-0.1362, device='cuda:0', grad_fn=<MeanBackward0>),\n",
       " tensor(-0.1369, device='cuda:0', grad_fn=<MeanBackward0>),\n",
       " tensor(-0.1376, device='cuda:0', grad_fn=<MeanBackward0>),\n",
       " tensor(-0.1381, device='cuda:0', grad_fn=<MeanBackward0>),\n",
       " tensor(-0.1386, device='cuda:0', grad_fn=<MeanBackward0>),\n",
       " tensor(-0.1393, device='cuda:0', grad_fn=<MeanBackward0>),\n",
       " tensor(-0.1396, device='cuda:0', grad_fn=<MeanBackward0>),\n",
       " tensor(-0.1402, device='cuda:0', grad_fn=<MeanBackward0>),\n",
       " tensor(-0.1405, device='cuda:0', grad_fn=<MeanBackward0>),\n",
       " tensor(-0.1410, device='cuda:0', grad_fn=<MeanBackward0>),\n",
       " tensor(-0.1411, device='cuda:0', grad_fn=<MeanBackward0>),\n",
       " tensor(-0.1416, device='cuda:0', grad_fn=<MeanBackward0>),\n",
       " tensor(-0.1420, device='cuda:0', grad_fn=<MeanBackward0>),\n",
       " tensor(-0.1423, device='cuda:0', grad_fn=<MeanBackward0>),\n",
       " tensor(-0.1427, device='cuda:0', grad_fn=<MeanBackward0>),\n",
       " tensor(-0.1429, device='cuda:0', grad_fn=<MeanBackward0>),\n",
       " tensor(-0.1432, device='cuda:0', grad_fn=<MeanBackward0>),\n",
       " tensor(-0.1437, device='cuda:0', grad_fn=<MeanBackward0>),\n",
       " tensor(-0.1439, device='cuda:0', grad_fn=<MeanBackward0>),\n",
       " tensor(-0.1440, device='cuda:0', grad_fn=<MeanBackward0>),\n",
       " tensor(-0.1445, device='cuda:0', grad_fn=<MeanBackward0>),\n",
       " tensor(-0.1446, device='cuda:0', grad_fn=<MeanBackward0>),\n",
       " tensor(-0.1450, device='cuda:0', grad_fn=<MeanBackward0>),\n",
       " tensor(-0.1453, device='cuda:0', grad_fn=<MeanBackward0>),\n",
       " tensor(-0.1453, device='cuda:0', grad_fn=<MeanBackward0>),\n",
       " tensor(-0.1457, device='cuda:0', grad_fn=<MeanBackward0>),\n",
       " tensor(-0.1460, device='cuda:0', grad_fn=<MeanBackward0>),\n",
       " tensor(-0.1463, device='cuda:0', grad_fn=<MeanBackward0>),\n",
       " tensor(-0.1466, device='cuda:0', grad_fn=<MeanBackward0>),\n",
       " tensor(-0.1468, device='cuda:0', grad_fn=<MeanBackward0>),\n",
       " tensor(-0.1470, device='cuda:0', grad_fn=<MeanBackward0>),\n",
       " tensor(-0.1472, device='cuda:0', grad_fn=<MeanBackward0>),\n",
       " tensor(-0.1474, device='cuda:0', grad_fn=<MeanBackward0>),\n",
       " tensor(-0.1476, device='cuda:0', grad_fn=<MeanBackward0>),\n",
       " tensor(-0.1481, device='cuda:0', grad_fn=<MeanBackward0>),\n",
       " tensor(-0.1481, device='cuda:0', grad_fn=<MeanBackward0>),\n",
       " tensor(-0.1482, device='cuda:0', grad_fn=<MeanBackward0>),\n",
       " tensor(-0.1487, device='cuda:0', grad_fn=<MeanBackward0>),\n",
       " tensor(-0.1487, device='cuda:0', grad_fn=<MeanBackward0>),\n",
       " tensor(-0.1491, device='cuda:0', grad_fn=<MeanBackward0>),\n",
       " tensor(-0.1492, device='cuda:0', grad_fn=<MeanBackward0>),\n",
       " tensor(-0.1496, device='cuda:0', grad_fn=<MeanBackward0>),\n",
       " tensor(-0.1499, device='cuda:0', grad_fn=<MeanBackward0>),\n",
       " tensor(-0.1499, device='cuda:0', grad_fn=<MeanBackward0>),\n",
       " tensor(-0.1502, device='cuda:0', grad_fn=<MeanBackward0>),\n",
       " tensor(-0.1505, device='cuda:0', grad_fn=<MeanBackward0>),\n",
       " tensor(-0.1508, device='cuda:0', grad_fn=<MeanBackward0>),\n",
       " tensor(-0.1511, device='cuda:0', grad_fn=<MeanBackward0>),\n",
       " tensor(-0.1513, device='cuda:0', grad_fn=<MeanBackward0>),\n",
       " tensor(-0.1515, device='cuda:0', grad_fn=<MeanBackward0>),\n",
       " tensor(-0.1517, device='cuda:0', grad_fn=<MeanBackward0>),\n",
       " tensor(-0.1519, device='cuda:0', grad_fn=<MeanBackward0>),\n",
       " tensor(-0.1521, device='cuda:0', grad_fn=<MeanBackward0>),\n",
       " tensor(-0.1522, device='cuda:0', grad_fn=<MeanBackward0>),\n",
       " tensor(-0.1524, device='cuda:0', grad_fn=<MeanBackward0>),\n",
       " tensor(-0.1529, device='cuda:0', grad_fn=<MeanBackward0>),\n",
       " tensor(-0.1529, device='cuda:0', grad_fn=<MeanBackward0>),\n",
       " tensor(-0.1530, device='cuda:0', grad_fn=<MeanBackward0>),\n",
       " tensor(-0.1535, device='cuda:0', grad_fn=<MeanBackward0>),\n",
       " tensor(-0.1535, device='cuda:0', grad_fn=<MeanBackward0>),\n",
       " tensor(-0.1536, device='cuda:0', grad_fn=<MeanBackward0>),\n",
       " tensor(-0.1540, device='cuda:0', grad_fn=<MeanBackward0>),\n",
       " tensor(-0.1541, device='cuda:0', grad_fn=<MeanBackward0>),\n",
       " tensor(-0.1544, device='cuda:0', grad_fn=<MeanBackward0>),\n",
       " tensor(-0.1544, device='cuda:0', grad_fn=<MeanBackward0>),\n",
       " tensor(-0.1548, device='cuda:0', grad_fn=<MeanBackward0>),\n",
       " tensor(-0.1552, device='cuda:0', grad_fn=<MeanBackward0>),\n",
       " tensor(-0.1551, device='cuda:0', grad_fn=<MeanBackward0>),\n",
       " tensor(-0.1555, device='cuda:0', grad_fn=<MeanBackward0>),\n",
       " tensor(-0.1558, device='cuda:0', grad_fn=<MeanBackward0>),\n",
       " tensor(-0.1557, device='cuda:0', grad_fn=<MeanBackward0>),\n",
       " tensor(-0.1560, device='cuda:0', grad_fn=<MeanBackward0>),\n",
       " tensor(-0.1563, device='cuda:0', grad_fn=<MeanBackward0>),\n",
       " tensor(-0.1566, device='cuda:0', grad_fn=<MeanBackward0>),\n",
       " tensor(-0.1568, device='cuda:0', grad_fn=<MeanBackward0>),\n",
       " tensor(-0.1571, device='cuda:0', grad_fn=<MeanBackward0>),\n",
       " tensor(-0.1570, device='cuda:0', grad_fn=<MeanBackward0>),\n",
       " tensor(-0.1572, device='cuda:0', grad_fn=<MeanBackward0>),\n",
       " tensor(-0.1574, device='cuda:0', grad_fn=<MeanBackward0>),\n",
       " tensor(-0.1577, device='cuda:0', grad_fn=<MeanBackward0>),\n",
       " tensor(-0.1579, device='cuda:0', grad_fn=<MeanBackward0>),\n",
       " tensor(-0.1581, device='cuda:0', grad_fn=<MeanBackward0>),\n",
       " tensor(-0.1583, device='cuda:0', grad_fn=<MeanBackward0>),\n",
       " tensor(-0.1585, device='cuda:0', grad_fn=<MeanBackward0>),\n",
       " tensor(-0.1591, device='cuda:0', grad_fn=<MeanBackward0>),\n",
       " tensor(-0.1592, device='cuda:0', grad_fn=<MeanBackward0>),\n",
       " tensor(-0.1594, device='cuda:0', grad_fn=<MeanBackward0>),\n",
       " tensor(-0.1595, device='cuda:0', grad_fn=<MeanBackward0>),\n",
       " tensor(-0.1597, device='cuda:0', grad_fn=<MeanBackward0>),\n",
       " tensor(-0.1599, device='cuda:0', grad_fn=<MeanBackward0>),\n",
       " tensor(-0.1604, device='cuda:0', grad_fn=<MeanBackward0>),\n",
       " tensor(-0.1605, device='cuda:0', grad_fn=<MeanBackward0>),\n",
       " tensor(-0.1606, device='cuda:0', grad_fn=<MeanBackward0>),\n",
       " tensor(-0.1608, device='cuda:0', grad_fn=<MeanBackward0>),\n",
       " tensor(-0.1612, device='cuda:0', grad_fn=<MeanBackward0>),\n",
       " tensor(-0.1613, device='cuda:0', grad_fn=<MeanBackward0>),\n",
       " tensor(-0.1614, device='cuda:0', grad_fn=<MeanBackward0>),\n",
       " tensor(-0.1619, device='cuda:0', grad_fn=<MeanBackward0>),\n",
       " tensor(-0.1620, device='cuda:0', grad_fn=<MeanBackward0>),\n",
       " tensor(-0.1621, device='cuda:0', grad_fn=<MeanBackward0>),\n",
       " tensor(-0.1625, device='cuda:0', grad_fn=<MeanBackward0>),\n",
       " tensor(-0.1626, device='cuda:0', grad_fn=<MeanBackward0>),\n",
       " tensor(-0.1630, device='cuda:0', grad_fn=<MeanBackward0>),\n",
       " tensor(-0.1631, device='cuda:0', grad_fn=<MeanBackward0>),\n",
       " tensor(-0.1635, device='cuda:0', grad_fn=<MeanBackward0>),\n",
       " tensor(-0.1636, device='cuda:0', grad_fn=<MeanBackward0>),\n",
       " tensor(-0.1640, device='cuda:0', grad_fn=<MeanBackward0>),\n",
       " tensor(-0.1643, device='cuda:0', grad_fn=<MeanBackward0>),\n",
       " tensor(-0.1643, device='cuda:0', grad_fn=<MeanBackward0>),\n",
       " tensor(-0.1647, device='cuda:0', grad_fn=<MeanBackward0>),\n",
       " tensor(-0.1651, device='cuda:0', grad_fn=<MeanBackward0>),\n",
       " tensor(-0.1650, device='cuda:0', grad_fn=<MeanBackward0>),\n",
       " tensor(-0.1653, device='cuda:0', grad_fn=<MeanBackward0>),\n",
       " tensor(-0.1656, device='cuda:0', grad_fn=<MeanBackward0>),\n",
       " tensor(-0.1659, device='cuda:0', grad_fn=<MeanBackward0>),\n",
       " tensor(-0.1663, device='cuda:0', grad_fn=<MeanBackward0>),\n",
       " tensor(-0.1666, device='cuda:0', grad_fn=<MeanBackward0>),\n",
       " tensor(-0.1665, device='cuda:0', grad_fn=<MeanBackward0>),\n",
       " tensor(-0.1667, device='cuda:0', grad_fn=<MeanBackward0>),\n",
       " tensor(-0.1670, device='cuda:0', grad_fn=<MeanBackward0>),\n",
       " tensor(-0.1673, device='cuda:0', grad_fn=<MeanBackward0>)]"
      ]
     },
     "execution_count": 26,
     "metadata": {},
     "output_type": "execute_result"
    }
   ],
   "source": [
    "attacker.loss_list"
   ]
  },
  {
   "cell_type": "code",
   "execution_count": 33,
   "id": "73759427-78f3-4441-a470-964801fc2d80",
   "metadata": {},
   "outputs": [
    {
     "name": "stdout",
     "output_type": "stream",
     "text": [
      "Updated edge index: torch.Size([2, 11072])\n"
     ]
    }
   ],
   "source": [
    "new_data = handle_new_edges(data, attacker, device)"
   ]
  },
  {
   "cell_type": "code",
   "execution_count": 34,
   "id": "a18a441b-ee32-4c9e-acf6-4d977f2ae267",
   "metadata": {},
   "outputs": [
    {
     "name": "stdout",
     "output_type": "stream",
     "text": [
      "Loss: 0.8418100476264954, Acc: 0.7412959381044487\n"
     ]
    }
   ],
   "source": [
    "loss, acc = train.test(new_data)\n",
    "print(f'Loss: {loss}, Acc: {acc}')"
   ]
  },
  {
   "cell_type": "code",
   "execution_count": 35,
   "id": "a0a2c8db-ecf0-446e-8600-4f3c7d8c6d04",
   "metadata": {},
   "outputs": [
    {
     "name": "stdout",
     "output_type": "stream",
     "text": [
      "Loss: 0.7666090130805969, Acc: 0.7654738878143134\n"
     ]
    }
   ],
   "source": [
    "loss, acc = train.test(data)\n",
    "print(f'Loss: {loss}, Acc: {acc}')"
   ]
  },
  {
   "cell_type": "code",
   "execution_count": 36,
   "id": "f98e4584-cc42-40d9-bf2c-bf2848854c95",
   "metadata": {},
   "outputs": [],
   "source": [
    "model2 = GCN(data.x.shape[1], cora_dataset.num_classes, [64]).to(device)"
   ]
  },
  {
   "cell_type": "code",
   "execution_count": 37,
   "id": "dae1bcc8-0076-4a71-9ef7-4a235a938e2a",
   "metadata": {
    "scrolled": true
   },
   "outputs": [
    {
     "name": "stdout",
     "output_type": "stream",
     "text": [
      "Epoch 0, Train Loss - 1.9522827863693237, Val Loss - 1.795912504196167, Val Accuracy - 0.3903061224489796\n",
      "Epoch 20, Train Loss - 0.0434366874396801, Val Loss - 0.8872222304344177, Val Accuracy - 0.7193877551020408\n",
      "Epoch 40, Train Loss - 0.022290103137493134, Val Loss - 0.936191737651825, Val Accuracy - 0.7321428571428571\n",
      "Epoch 60, Train Loss - 0.0303592998534441, Val Loss - 0.8773747086524963, Val Accuracy - 0.7295918367346939\n",
      "Epoch 80, Train Loss - 0.023370638489723206, Val Loss - 0.879871129989624, Val Accuracy - 0.7219387755102041\n",
      "Epoch 100, Train Loss - 0.01833762228488922, Val Loss - 0.8985812664031982, Val Accuracy - 0.7295918367346939\n",
      "Epoch 120, Train Loss - 0.017679989337921143, Val Loss - 0.9322783946990967, Val Accuracy - 0.7219387755102041\n",
      "Epoch 140, Train Loss - 0.014953047968447208, Val Loss - 0.9448068737983704, Val Accuracy - 0.7091836734693877\n",
      "Epoch 160, Train Loss - 0.015368962660431862, Val Loss - 0.9612876176834106, Val Accuracy - 0.7142857142857143\n",
      "Epoch 180, Train Loss - 0.01612456887960434, Val Loss - 0.9143023490905762, Val Accuracy - 0.7397959183673469\n",
      "Epoch 200, Train Loss - 0.014778412878513336, Val Loss - 0.9559417963027954, Val Accuracy - 0.7193877551020408\n"
     ]
    }
   ],
   "source": [
    "model2.reset_parameters()\n",
    "train = Trainable(model2)\n",
    "train.fit(new_data, 200)"
   ]
  },
  {
   "cell_type": "code",
   "execution_count": 38,
   "id": "db229ae6-5c1f-4eec-ad42-0d8f88473e77",
   "metadata": {},
   "outputs": [
    {
     "name": "stdout",
     "output_type": "stream",
     "text": [
      "Loss: 0.8876636028289795, Acc: 0.7263056092843327\n"
     ]
    }
   ],
   "source": [
    "loss, acc = train.test(new_data)\n",
    "print(f'Loss: {loss}, Acc: {acc}')"
   ]
  },
  {
   "cell_type": "markdown",
   "id": "0f224434-fc78-4869-9344-1511901788b6",
   "metadata": {},
   "source": [
    "# Meta Greedy Tests"
   ]
  },
  {
   "cell_type": "code",
   "execution_count": null,
   "id": "d1159d2f-022d-49bc-bbdd-46caa5b3e1ab",
   "metadata": {},
   "outputs": [],
   "source": [
    "from greedy_gd import *"
   ]
  },
  {
   "cell_type": "code",
   "execution_count": null,
   "id": "ed03f021-4973-408f-b319-3d2a9c500632",
   "metadata": {},
   "outputs": [],
   "source": [
    "device = 'cuda:0'"
   ]
  },
  {
   "cell_type": "code",
   "execution_count": null,
   "id": "140a1630-dad3-4eeb-87cf-32860e04ab06",
   "metadata": {},
   "outputs": [],
   "source": [
    "attacker = Metattack(data, device=device)\n",
    "attacker.setup_surrogate(\n",
    "    model,\n",
    "    labeled_nodes=data.train_mask,\n",
    "    unlabeled_nodes=data.test_mask,\n",
    "    lambda_=0.0,\n",
    ")"
   ]
  },
  {
   "cell_type": "code",
   "execution_count": 11,
   "id": "b9eb3de3-25e7-47f8-8b8a-f577831563b9",
   "metadata": {},
   "outputs": [
    {
     "name": "stdout",
     "output_type": "stream",
     "text": [
      "CUDA Device Count: 4\n",
      "Device 0: NVIDIA H200\n",
      "Device 1: NVIDIA H200 MIG 1g.18gb\n",
      "Device 2: NVIDIA H200 MIG 1g.18gb\n",
      "Device 3: NVIDIA H200 MIG 1g.18gb\n"
     ]
    }
   ],
   "source": [
    "import torch\n",
    "\n",
    "# Number of GPUs visible to PyTorch\n",
    "print(\"CUDA Device Count:\", torch.cuda.device_count())\n",
    "\n",
    "# List all visible devices\n",
    "for i in range(torch.cuda.device_count()):\n",
    "    print(f\"Device {i}: {torch.cuda.get_device_name(i)}\")"
   ]
  },
  {
   "cell_type": "code",
   "execution_count": 12,
   "id": "2e216211-9983-49dc-bc05-6d12cdc4c20d",
   "metadata": {},
   "outputs": [
    {
     "data": {
      "application/vnd.jupyter.widget-view+json": {
       "model_id": "ad775b37b1d649f0b0ccb74e4dc1561a",
       "version_major": 2,
       "version_minor": 0
      },
      "text/plain": [
       "Peturbing graph...:   0%|          | 0/5278 [00:00<?, ?it/s]"
      ]
     },
     "metadata": {},
     "output_type": "display_data"
    },
    {
     "ename": "KeyboardInterrupt",
     "evalue": "",
     "output_type": "error",
     "traceback": [
      "\u001b[0;31m---------------------------------------------------------------------------\u001b[0m",
      "\u001b[0;31mKeyboardInterrupt\u001b[0m                         Traceback (most recent call last)",
      "Cell \u001b[0;32mIn[12], line 2\u001b[0m\n\u001b[1;32m      1\u001b[0m attacker\u001b[38;5;241m.\u001b[39mreset()\n\u001b[0;32m----> 2\u001b[0m \u001b[43mattacker\u001b[49m\u001b[38;5;241;43m.\u001b[39;49m\u001b[43mattack\u001b[49m\u001b[43m(\u001b[49m\u001b[38;5;241;43m1.00\u001b[39;49m\u001b[43m)\u001b[49m\n",
      "File \u001b[0;32m~/2-phase-attack/src/attacks/greedy_gd.py:250\u001b[0m, in \u001b[0;36mMetattack.attack\u001b[0;34m(self, num_budgets, structure_attack, feature_attack, disable, ll_cutoff)\u001b[0m\n\u001b[1;32m    247\u001b[0m adj_norm \u001b[38;5;241m=\u001b[39m \u001b[38;5;28mself\u001b[39m\u001b[38;5;241m.\u001b[39mdense_gcn_norm(modified_adj)\n\u001b[1;32m    248\u001b[0m \u001b[38;5;28mself\u001b[39m\u001b[38;5;241m.\u001b[39minner_train(adj_norm, modified_feat)\n\u001b[0;32m--> 250\u001b[0m adj_grad, feat_grad \u001b[38;5;241m=\u001b[39m \u001b[38;5;28;43mself\u001b[39;49m\u001b[38;5;241;43m.\u001b[39;49m\u001b[43mcompute_gradients\u001b[49m\u001b[43m(\u001b[49m\n\u001b[1;32m    251\u001b[0m \u001b[43m    \u001b[49m\u001b[43madj_norm\u001b[49m\u001b[43m,\u001b[49m\u001b[43m \u001b[49m\u001b[43mmodified_feat\u001b[49m\u001b[43m)\u001b[49m\n\u001b[1;32m    253\u001b[0m adj_grad_score \u001b[38;5;241m=\u001b[39m modified_adj\u001b[38;5;241m.\u001b[39mnew_zeros(\u001b[38;5;241m1\u001b[39m)\n\u001b[1;32m    254\u001b[0m feat_grad_score \u001b[38;5;241m=\u001b[39m modified_feat\u001b[38;5;241m.\u001b[39mnew_zeros(\u001b[38;5;241m1\u001b[39m)\n",
      "File \u001b[0;32m~/2-phase-attack/src/attacks/greedy_gd.py:369\u001b[0m, in \u001b[0;36mMetattack.compute_gradients\u001b[0;34m(self, modified_adj, modified_feat)\u001b[0m\n\u001b[1;32m    366\u001b[0m     \u001b[38;5;28;01mreturn\u001b[39;00m grad(loss, [\u001b[38;5;28mself\u001b[39m\u001b[38;5;241m.\u001b[39madj_changes, \u001b[38;5;28mself\u001b[39m\u001b[38;5;241m.\u001b[39mfeat_changes])\n\u001b[1;32m    368\u001b[0m \u001b[38;5;28;01mif\u001b[39;00m \u001b[38;5;28mself\u001b[39m\u001b[38;5;241m.\u001b[39mstructure_attack:\n\u001b[0;32m--> 369\u001b[0m     \u001b[38;5;28;01mreturn\u001b[39;00m \u001b[43mgrad\u001b[49m\u001b[43m(\u001b[49m\u001b[43mloss\u001b[49m\u001b[43m,\u001b[49m\u001b[43m \u001b[49m\u001b[38;5;28;43mself\u001b[39;49m\u001b[38;5;241;43m.\u001b[39;49m\u001b[43madj_changes\u001b[49m\u001b[43m)\u001b[49m[\u001b[38;5;241m0\u001b[39m], \u001b[38;5;28;01mNone\u001b[39;00m\n\u001b[1;32m    371\u001b[0m \u001b[38;5;28;01mif\u001b[39;00m \u001b[38;5;28mself\u001b[39m\u001b[38;5;241m.\u001b[39mfeature_attack:\n\u001b[1;32m    372\u001b[0m     \u001b[38;5;28;01mreturn\u001b[39;00m \u001b[38;5;28;01mNone\u001b[39;00m, grad(loss, \u001b[38;5;28mself\u001b[39m\u001b[38;5;241m.\u001b[39mfeat_changes)[\u001b[38;5;241m0\u001b[39m]\n",
      "File \u001b[0;32m~/miniconda3/envs/mindeye/lib/python3.10/site-packages/torch/autograd/__init__.py:394\u001b[0m, in \u001b[0;36mgrad\u001b[0;34m(outputs, inputs, grad_outputs, retain_graph, create_graph, only_inputs, allow_unused, is_grads_batched, materialize_grads)\u001b[0m\n\u001b[1;32m    390\u001b[0m     result \u001b[38;5;241m=\u001b[39m _vmap_internals\u001b[38;5;241m.\u001b[39m_vmap(vjp, \u001b[38;5;241m0\u001b[39m, \u001b[38;5;241m0\u001b[39m, allow_none_pass_through\u001b[38;5;241m=\u001b[39m\u001b[38;5;28;01mTrue\u001b[39;00m)(\n\u001b[1;32m    391\u001b[0m         grad_outputs_\n\u001b[1;32m    392\u001b[0m     )\n\u001b[1;32m    393\u001b[0m \u001b[38;5;28;01melse\u001b[39;00m:\n\u001b[0;32m--> 394\u001b[0m     result \u001b[38;5;241m=\u001b[39m \u001b[43mVariable\u001b[49m\u001b[38;5;241;43m.\u001b[39;49m\u001b[43m_execution_engine\u001b[49m\u001b[38;5;241;43m.\u001b[39;49m\u001b[43mrun_backward\u001b[49m\u001b[43m(\u001b[49m\u001b[43m  \u001b[49m\u001b[38;5;66;43;03m# Calls into the C++ engine to run the backward pass\u001b[39;49;00m\n\u001b[1;32m    395\u001b[0m \u001b[43m        \u001b[49m\u001b[43mt_outputs\u001b[49m\u001b[43m,\u001b[49m\n\u001b[1;32m    396\u001b[0m \u001b[43m        \u001b[49m\u001b[43mgrad_outputs_\u001b[49m\u001b[43m,\u001b[49m\n\u001b[1;32m    397\u001b[0m \u001b[43m        \u001b[49m\u001b[43mretain_graph\u001b[49m\u001b[43m,\u001b[49m\n\u001b[1;32m    398\u001b[0m \u001b[43m        \u001b[49m\u001b[43mcreate_graph\u001b[49m\u001b[43m,\u001b[49m\n\u001b[1;32m    399\u001b[0m \u001b[43m        \u001b[49m\u001b[43mt_inputs\u001b[49m\u001b[43m,\u001b[49m\n\u001b[1;32m    400\u001b[0m \u001b[43m        \u001b[49m\u001b[43mallow_unused\u001b[49m\u001b[43m,\u001b[49m\n\u001b[1;32m    401\u001b[0m \u001b[43m        \u001b[49m\u001b[43maccumulate_grad\u001b[49m\u001b[38;5;241;43m=\u001b[39;49m\u001b[38;5;28;43;01mFalse\u001b[39;49;00m\u001b[43m,\u001b[49m\n\u001b[1;32m    402\u001b[0m \u001b[43m    \u001b[49m\u001b[43m)\u001b[49m  \u001b[38;5;66;03m# Calls into the C++ engine to run the backward pass\u001b[39;00m\n\u001b[1;32m    403\u001b[0m \u001b[38;5;28;01mif\u001b[39;00m materialize_grads:\n\u001b[1;32m    404\u001b[0m     result \u001b[38;5;241m=\u001b[39m \u001b[38;5;28mtuple\u001b[39m(\n\u001b[1;32m    405\u001b[0m         output\n\u001b[1;32m    406\u001b[0m         \u001b[38;5;28;01mif\u001b[39;00m output \u001b[38;5;129;01mis\u001b[39;00m \u001b[38;5;129;01mnot\u001b[39;00m \u001b[38;5;28;01mNone\u001b[39;00m\n\u001b[1;32m    407\u001b[0m         \u001b[38;5;28;01melse\u001b[39;00m torch\u001b[38;5;241m.\u001b[39mzeros_like(\u001b[38;5;28minput\u001b[39m, requires_grad\u001b[38;5;241m=\u001b[39m\u001b[38;5;28;01mTrue\u001b[39;00m)\n\u001b[1;32m    408\u001b[0m         \u001b[38;5;28;01mfor\u001b[39;00m (output, \u001b[38;5;28minput\u001b[39m) \u001b[38;5;129;01min\u001b[39;00m \u001b[38;5;28mzip\u001b[39m(result, t_inputs)\n\u001b[1;32m    409\u001b[0m     )\n",
      "\u001b[0;31mKeyboardInterrupt\u001b[0m: "
     ]
    }
   ],
   "source": [
    "attacker.reset()\n",
    "attacker.attack(1.00)"
   ]
  },
  {
   "cell_type": "code",
   "execution_count": 10,
   "id": "91ae9068-e4ea-4a2c-b374-28c4322547fd",
   "metadata": {},
   "outputs": [
    {
     "name": "stdout",
     "output_type": "stream",
     "text": [
      "Updated edge index: torch.Size([2, 11078])\n"
     ]
    }
   ],
   "source": [
    "new_data = handle_new_edges(data, attacker, device)"
   ]
  },
  {
   "cell_type": "code",
   "execution_count": 11,
   "id": "6961d6bc-a529-40a5-8d68-57c3a332d749",
   "metadata": {},
   "outputs": [
    {
     "name": "stdout",
     "output_type": "stream",
     "text": [
      "Loss: 0.6588292121887207, Acc: 0.799\n"
     ]
    }
   ],
   "source": [
    "loss, acc = train.test(new_data)\n",
    "print(f'Loss: {loss}, Acc: {acc}')"
   ]
  },
  {
   "cell_type": "code",
   "execution_count": 12,
   "id": "29884e65-1259-4289-ae19-335d5b3e5be3",
   "metadata": {},
   "outputs": [
    {
     "name": "stdout",
     "output_type": "stream",
     "text": [
      "Loss: 0.6605153679847717, Acc: 0.8\n"
     ]
    }
   ],
   "source": [
    "loss, acc = train.test(data)\n",
    "print(f'Loss: {loss}, Acc: {acc}')"
   ]
  },
  {
   "cell_type": "code",
   "execution_count": 30,
   "id": "d0507038-5ccb-482e-8500-bc540140c65a",
   "metadata": {},
   "outputs": [],
   "source": [
    "model2 = GCN(data.x.shape[1], cora_dataset.num_classes, [64]).to(device)"
   ]
  },
  {
   "cell_type": "code",
   "execution_count": 31,
   "id": "83163b5c-1319-408c-8899-47b98bff762f",
   "metadata": {},
   "outputs": [
    {
     "name": "stdout",
     "output_type": "stream",
     "text": [
      "Epoch 0, Train Loss - 1.946224570274353, Val Loss - 1.8570330142974854, Val Accuracy - 0.325\n",
      "Epoch 20, Train Loss - 0.11124295741319656, Val Loss - 2.7840189933776855, Val Accuracy - 0.408\n",
      "Epoch 40, Train Loss - 0.04103148356080055, Val Loss - 3.818260908126831, Val Accuracy - 0.412\n",
      "Epoch 60, Train Loss - 0.03561371564865112, Val Loss - 3.7860445976257324, Val Accuracy - 0.411\n",
      "Epoch 80, Train Loss - 0.03578553348779678, Val Loss - 3.9414350986480713, Val Accuracy - 0.417\n",
      "Epoch 100, Train Loss - 0.035183899104595184, Val Loss - 4.1424689292907715, Val Accuracy - 0.407\n",
      "Epoch 120, Train Loss - 0.030303457751870155, Val Loss - 4.432448387145996, Val Accuracy - 0.401\n",
      "Epoch 140, Train Loss - 0.03577311709523201, Val Loss - 4.602138519287109, Val Accuracy - 0.399\n",
      "Epoch 160, Train Loss - 0.021818237379193306, Val Loss - 4.818694591522217, Val Accuracy - 0.405\n",
      "Epoch 180, Train Loss - 0.021507030352950096, Val Loss - 4.969539165496826, Val Accuracy - 0.405\n",
      "Epoch 200, Train Loss - 0.028842618688941002, Val Loss - 5.154062271118164, Val Accuracy - 0.402\n"
     ]
    }
   ],
   "source": [
    "model2.reset_parameters()\n",
    "train = Trainable(model2)\n",
    "train.fit(new_data, 200)"
   ]
  },
  {
   "cell_type": "code",
   "execution_count": null,
   "id": "386d34b5-c3a7-4272-a63c-b0832bda8227",
   "metadata": {},
   "outputs": [],
   "source": []
  }
 ],
 "metadata": {
  "kernelspec": {
   "display_name": "Python 3 (ipykernel)",
   "language": "python",
   "name": "python3"
  },
  "language_info": {
   "codemirror_mode": {
    "name": "ipython",
    "version": 3
   },
   "file_extension": ".py",
   "mimetype": "text/x-python",
   "name": "python",
   "nbconvert_exporter": "python",
   "pygments_lexer": "ipython3",
   "version": "3.10.16"
  }
 },
 "nbformat": 4,
 "nbformat_minor": 5
}
