{
 "cells": [
  {
   "cell_type": "code",
   "execution_count": 1,
   "id": "27cc2eb1-fdcd-4040-92c7-cde4e8203844",
   "metadata": {},
   "outputs": [],
   "source": [
    "import sys\n",
    "from itertools import count\n",
    "from torch import autograd\n",
    "from torch_geometric.utils import dense_to_sparse\n",
    "import copy\n",
    "\n",
    "sys.path.append('../')\n",
    "from models.gcn import *\n",
    "from utils.datasets import *"
   ]
  },
  {
   "cell_type": "code",
   "execution_count": 1,
   "id": "b90ce4ab-0dc6-44b8-8006-cede2d45e916",
   "metadata": {},
   "outputs": [
    {
     "name": "stdout",
     "output_type": "stream",
     "text": [
      "CUDA_VISIBLE_DEVICES: 1,2,3,4,5,6,7,8,9,10\n"
     ]
    }
   ],
   "source": [
    "import os\n",
    "print(\"CUDA_VISIBLE_DEVICES:\", os.environ.get(\"CUDA_VISIBLE_DEVICES\"))"
   ]
  },
  {
   "cell_type": "code",
   "execution_count": 2,
   "id": "94bb0fd2-9014-49e8-974c-5177f3cf31fd",
   "metadata": {},
   "outputs": [
    {
     "name": "stdout",
     "output_type": "stream",
     "text": [
      "CUDA Device Count: 3\n",
      "Device 0: NVIDIA H200 MIG 1g.18gb\n",
      "Device 1: NVIDIA H200 MIG 1g.18gb\n",
      "Device 2: NVIDIA H200 MIG 1g.18gb\n"
     ]
    }
   ],
   "source": [
    "import torch\n",
    "\n",
    "print(\"CUDA Device Count:\", torch.cuda.device_count())\n",
    "\n",
    "for i in range(torch.cuda.device_count()):\n",
    "    print(f\"Device {i}: {torch.cuda.get_device_name(i)}\")"
   ]
  },
  {
   "cell_type": "code",
   "execution_count": 3,
   "id": "1d92c440-48cb-4334-8f1d-296025bf2dd7",
   "metadata": {},
   "outputs": [
    {
     "name": "stdout",
     "output_type": "stream",
     "text": [
      "Sun Mar  2 21:52:20 2025       \n",
      "+-----------------------------------------------------------------------------------------+\n",
      "| NVIDIA-SMI 565.57.01              Driver Version: 565.57.01      CUDA Version: 12.7     |\n",
      "|-----------------------------------------+------------------------+----------------------+\n",
      "| GPU  Name                 Persistence-M | Bus-Id          Disp.A | Volatile Uncorr. ECC |\n",
      "| Fan  Temp   Perf          Pwr:Usage/Cap |           Memory-Usage | GPU-Util  Compute M. |\n",
      "|                                         |                        |               MIG M. |\n",
      "|=========================================+========================+======================|\n",
      "|   0  NVIDIA H200                    On  |   00000000:1C:00.0 Off |                   On |\n",
      "| N/A   36C    P0             77W /  700W |     107MiB / 143771MiB |     N/A      Default |\n",
      "|                                         |                        |              Enabled |\n",
      "+-----------------------------------------+------------------------+----------------------+\n",
      "|   1  NVIDIA H200                    On  |   00000000:2B:00.0 Off |                   On |\n",
      "| N/A   39C    P0            168W /  700W |    2826MiB / 143771MiB |     N/A      Default |\n",
      "|                                         |                        |              Enabled |\n",
      "+-----------------------------------------+------------------------+----------------------+\n",
      "|   2  NVIDIA H200                    On  |   00000000:AC:00.0 Off |                   On |\n",
      "| N/A   33C    P0             80W /  700W |      83MiB / 143771MiB |     N/A      Default |\n",
      "|                                         |                        |              Enabled |\n",
      "+-----------------------------------------+------------------------+----------------------+\n",
      "|   3  NVIDIA H200                    On  |   00000000:BC:00.0 Off |                    0 |\n",
      "| N/A   43C    P0            205W /  700W |   17841MiB / 143771MiB |     26%      Default |\n",
      "|                                         |                        |             Disabled |\n",
      "+-----------------------------------------+------------------------+----------------------+\n",
      "\n",
      "+-----------------------------------------------------------------------------------------+\n",
      "| MIG devices:                                                                            |\n",
      "+------------------+----------------------------------+-----------+-----------------------+\n",
      "| GPU  GI  CI  MIG |                     Memory-Usage |        Vol|        Shared         |\n",
      "|      ID  ID  Dev |                       BAR1-Usage | SM     Unc| CE ENC  DEC  OFA  JPG |\n",
      "|                  |                                  |        ECC|                       |\n",
      "|==================+==================================+===========+=======================|\n",
      "|  0    7   0   0  |              16MiB / 16384MiB    | 16      0 |  1   0    1    0    1 |\n",
      "|                  |                 0MiB / 32767MiB  |           |                       |\n",
      "+------------------+----------------------------------+-----------+-----------------------+\n",
      "|  0    8   0   1  |              16MiB / 16384MiB    | 16      0 |  1   0    1    0    1 |\n",
      "|                  |                 0MiB / 32767MiB  |           |                       |\n",
      "+------------------+----------------------------------+-----------+-----------------------+\n",
      "|  0    9   0   2  |              16MiB / 16384MiB    | 16      0 |  1   0    1    0    1 |\n",
      "|                  |                 0MiB / 32767MiB  |           |                       |\n",
      "+------------------+----------------------------------+-----------+-----------------------+\n",
      "|  0   10   0   3  |              16MiB / 16384MiB    | 16      0 |  1   0    1    0    1 |\n",
      "|                  |                 0MiB / 32767MiB  |           |                       |\n",
      "+------------------+----------------------------------+-----------+-----------------------+\n",
      "|  0   11   0   4  |              16MiB / 16384MiB    | 16      0 |  1   0    1    0    1 |\n",
      "|                  |                 0MiB / 32767MiB  |           |                       |\n",
      "+------------------+----------------------------------+-----------+-----------------------+\n",
      "|  0   12   0   5  |              16MiB / 16384MiB    | 16      0 |  1   0    1    0    1 |\n",
      "|                  |                 0MiB / 32767MiB  |           |                       |\n",
      "+------------------+----------------------------------+-----------+-----------------------+\n",
      "|  0   13   0   6  |              16MiB / 16384MiB    | 16      0 |  1   0    1    0    1 |\n",
      "|                  |                 0MiB / 32767MiB  |           |                       |\n",
      "+------------------+----------------------------------+-----------+-----------------------+\n",
      "|  1    3   0   0  |            1093MiB / 33280MiB    | 16      0 |  1   0    1    0    1 |\n",
      "|                  |                 2MiB / 65535MiB  |           |                       |\n",
      "+------------------+----------------------------------+-----------+-----------------------+\n",
      "|  1    4   0   1  |            1459MiB / 33280MiB    | 16      0 |  1   0    1    0    1 |\n",
      "|                  |                 2MiB / 65535MiB  |           |                       |\n",
      "+------------------+----------------------------------+-----------+-----------------------+\n",
      "|  1    5   0   2  |              16MiB / 33280MiB    | 16      0 |  1   0    1    0    1 |\n",
      "|                  |                 0MiB / 65535MiB  |           |                       |\n",
      "+------------------+----------------------------------+-----------+-----------------------+\n",
      "|  1    6   0   3  |              16MiB / 33280MiB    | 16      0 |  1   0    1    0    1 |\n",
      "|                  |                 0MiB / 65535MiB  |           |                       |\n",
      "+------------------+----------------------------------+-----------+-----------------------+\n",
      "|  2    1   0   0  |              42MiB / 71424MiB    | 16      0 |  3   0    3    0    3 |\n",
      "|                  |                 1MiB / 131071MiB |           |                       |\n",
      "+------------------+----------------------------------+-----------+-----------------------+\n",
      "|  2    2   0   1  |              42MiB / 71424MiB    | 16      0 |  3   0    3    0    3 |\n",
      "|                  |                 1MiB / 131071MiB |           |                       |\n",
      "+------------------+----------------------------------+-----------+-----------------------+\n",
      "                                                                                         \n",
      "+-----------------------------------------------------------------------------------------+\n",
      "| Processes:                                                                              |\n",
      "|  GPU   GI   CI        PID   Type   Process name                              GPU Memory |\n",
      "|        ID   ID                                                               Usage      |\n",
      "|=========================================================================================|\n",
      "|    1    3    0     122589      C   python                                        930MiB |\n",
      "|    1    4    0     140983      C   python                                        992MiB |\n",
      "|    3   N/A  N/A    105061      C   ...gos/miniconda3/envs/fmri/bin/python        764MiB |\n",
      "|    3   N/A  N/A    159363      C   python                                       1890MiB |\n",
      "+-----------------------------------------------------------------------------------------+\n"
     ]
    }
   ],
   "source": [
    "!nvidia-smi"
   ]
  },
  {
   "cell_type": "code",
   "execution_count": 4,
   "id": "1d01a5f7-69eb-47d1-a3a7-fa102f6b2c3f",
   "metadata": {},
   "outputs": [],
   "source": [
    "device = \"cuda:1\" if torch.cuda.is_available() else \"cpu\""
   ]
  },
  {
   "cell_type": "code",
   "execution_count": 5,
   "id": "f6fcb57e-955c-4365-a31d-076c11c1d890",
   "metadata": {},
   "outputs": [],
   "source": [
    "from models.trainable import *"
   ]
  },
  {
   "cell_type": "code",
   "execution_count": 6,
   "id": "05a9d608-d66c-4432-a5d5-5b8c4d46f85a",
   "metadata": {},
   "outputs": [],
   "source": [
    "from meta_pgd import *"
   ]
  },
  {
   "cell_type": "code",
   "execution_count": 7,
   "id": "63f7f8aa-0298-45af-ac20-0627430494bc",
   "metadata": {},
   "outputs": [
    {
     "name": "stdout",
     "output_type": "stream",
     "text": [
      "Data(x=[2708, 1433], edge_index=[2, 10556], y=[2708], train_mask=[2708], val_mask=[2708], test_mask=[2708])\n"
     ]
    }
   ],
   "source": [
    "# dataset_directory = \"../Cora\"\n",
    "cora_dataset = Planetoid(root='', name='Cora')\n",
    "data = cora_dataset[0].to(device)\n",
    "print(data)"
   ]
  },
  {
   "cell_type": "code",
   "execution_count": 8,
   "id": "326700b0-3901-4093-9620-32d5496c26cf",
   "metadata": {},
   "outputs": [],
   "source": [
    "model = GCN(data.x.shape[1], cora_dataset.num_classes, [64]).to(device)"
   ]
  },
  {
   "cell_type": "code",
   "execution_count": 9,
   "id": "9a60babb-797d-4196-a3a9-b6398aee4cac",
   "metadata": {},
   "outputs": [
    {
     "name": "stdout",
     "output_type": "stream",
     "text": [
      "Epoch 0, Train Loss - 1.9533783197402954, Val Loss - 1.8056105375289917, Val Accuracy - 0.623\n",
      "Epoch 20, Train Loss - 0.010077104903757572, Val Loss - 0.6095793843269348, Val Accuracy - 0.801\n",
      "Epoch 40, Train Loss - 0.010379408486187458, Val Loss - 0.6340352892875671, Val Accuracy - 0.803\n",
      "Epoch 60, Train Loss - 0.015796003863215446, Val Loss - 0.5837293863296509, Val Accuracy - 0.818\n",
      "Epoch 80, Train Loss - 0.012594752945005894, Val Loss - 0.6316797137260437, Val Accuracy - 0.8\n",
      "Epoch 100, Train Loss - 0.01380453072488308, Val Loss - 0.5937012434005737, Val Accuracy - 0.817\n",
      "Epoch 120, Train Loss - 0.013288289308547974, Val Loss - 0.6193312406539917, Val Accuracy - 0.81\n",
      "Epoch 140, Train Loss - 0.01103497575968504, Val Loss - 0.6200186610221863, Val Accuracy - 0.81\n",
      "Epoch 160, Train Loss - 0.010321670211851597, Val Loss - 0.6277612447738647, Val Accuracy - 0.811\n",
      "Epoch 180, Train Loss - 0.010367141105234623, Val Loss - 0.6063375473022461, Val Accuracy - 0.816\n",
      "Epoch 200, Train Loss - 0.0099227549508214, Val Loss - 0.6362916231155396, Val Accuracy - 0.8\n"
     ]
    }
   ],
   "source": [
    "model.reset_parameters()\n",
    "train = Trainable(model)\n",
    "train.fit(data, 200)"
   ]
  },
  {
   "cell_type": "code",
   "execution_count": null,
   "id": "f5512633-7688-4a24-a134-12a889c4f135",
   "metadata": {},
   "outputs": [],
   "source": [
    "!nvidia-smi"
   ]
  },
  {
   "cell_type": "markdown",
   "id": "5e6cc883-3f47-4066-b9d8-1940753e6ec1",
   "metadata": {},
   "source": [
    "# MetaPGD Tests"
   ]
  },
  {
   "cell_type": "code",
   "execution_count": 8,
   "id": "68177866-75e3-414d-bf96-eb4bd455e145",
   "metadata": {},
   "outputs": [],
   "source": [
    "attacker = MetaPGD(data, device=device)"
   ]
  },
  {
   "cell_type": "code",
   "execution_count": 9,
   "id": "16e63f1d-1c8f-4f79-97c4-58966931c785",
   "metadata": {},
   "outputs": [],
   "source": [
    "attacker.setup_surrogate(\n",
    "    model,\n",
    "    labeled_nodes=data.train_mask,\n",
    "    unlabeled_nodes=data.test_mask,\n",
    "    lambda_=0.0,\n",
    ")"
   ]
  },
  {
   "cell_type": "code",
   "execution_count": 10,
   "id": "5e73e6b5-744b-4203-bb63-9411fc068249",
   "metadata": {},
   "outputs": [],
   "source": [
    "attacker.num_budgets"
   ]
  },
  {
   "cell_type": "code",
   "execution_count": 11,
   "id": "7284cecb-078b-4f73-9dc1-73c9a5d29f92",
   "metadata": {},
   "outputs": [
    {
     "data": {
      "text/plain": [
       "Data(x=[2708, 1433], edge_index=[2, 10556], y=[2708], train_mask=[2708], val_mask=[2708], test_mask=[2708])"
      ]
     },
     "execution_count": 11,
     "metadata": {},
     "output_type": "execute_result"
    }
   ],
   "source": [
    "data"
   ]
  },
  {
   "cell_type": "code",
   "execution_count": 12,
   "id": "5b2ab24e-eddb-4bef-b88b-f80de29005bf",
   "metadata": {},
   "outputs": [
    {
     "name": "stdout",
     "output_type": "stream",
     "text": [
      "Current allocated memory: 0.13 GB\n"
     ]
    }
   ],
   "source": [
    "allocated_memory = torch.cuda.memory_allocated(device)\n",
    "print(f\"Current allocated memory: {allocated_memory / (1024**3):.2f} GB\")"
   ]
  },
  {
   "cell_type": "code",
   "execution_count": 14,
   "id": "ffe442eb-1db1-414e-8c3e-fdc5dc0f3c62",
   "metadata": {
    "scrolled": true
   },
   "outputs": [
    {
     "data": {
      "application/vnd.jupyter.widget-view+json": {
       "model_id": "040fd5c3ab194c7185bfdb38c9e9d121",
       "version_major": 2,
       "version_minor": 0
      },
      "text/plain": [
       "Running PGD Attack...:   0%|          | 0/400 [00:00<?, ?it/s]"
      ]
     },
     "metadata": {},
     "output_type": "display_data"
    },
    {
     "data": {
      "application/vnd.jupyter.widget-view+json": {
       "model_id": "8a4572b407d14d0da53286a9edaa2ed5",
       "version_major": 2,
       "version_minor": 0
      },
      "text/plain": [
       "  0%|          | 0/100 [00:00<?, ?it/s]"
      ]
     },
     "metadata": {},
     "output_type": "display_data"
    },
    {
     "name": "stdout",
     "output_type": "stream",
     "text": [
      "1055 tensor(1065, device='cuda:0')\n",
      "1055 tensor(1054, device='cuda:0')\n",
      "1055 tensor(1065, device='cuda:0')\n",
      "1055 tensor(1054, device='cuda:0')\n",
      "1055 tensor(1065, device='cuda:0')\n",
      "1055 tensor(1054, device='cuda:0')\n",
      "1055 tensor(1065, device='cuda:0')\n",
      "1055 tensor(1054, device='cuda:0')\n",
      "1055 tensor(1065, device='cuda:0')\n",
      "1055 tensor(1054, device='cuda:0')\n",
      "1055 tensor(1065, device='cuda:0')\n",
      "1055 tensor(1054, device='cuda:0')\n",
      "1055 tensor(1065, device='cuda:0')\n",
      "1055 tensor(1054, device='cuda:0')\n",
      "1055 tensor(1065, device='cuda:0')\n",
      "1055 tensor(1054, device='cuda:0')\n",
      "1055 tensor(1065, device='cuda:0')\n",
      "1055 tensor(1054, device='cuda:0')\n",
      "1055 tensor(1065, device='cuda:0')\n",
      "1055 tensor(1054, device='cuda:0')\n",
      "1055 tensor(1065, device='cuda:0')\n",
      "1055 tensor(1054, device='cuda:0')\n",
      "1055 tensor(1065, device='cuda:0')\n",
      "1055 tensor(1054, device='cuda:0')\n",
      "1055 tensor(1065, device='cuda:0')\n",
      "1055 tensor(1054, device='cuda:0')\n",
      "1055 tensor(1065, device='cuda:0')\n",
      "1055 tensor(1054, device='cuda:0')\n",
      "1055 tensor(1065, device='cuda:0')\n",
      "1055 tensor(1054, device='cuda:0')\n",
      "1055 tensor(1065, device='cuda:0')\n",
      "1055 tensor(1054, device='cuda:0')\n",
      "1055 tensor(1065, device='cuda:0')\n",
      "1055 tensor(1054, device='cuda:0')\n",
      "1055 tensor(1065, device='cuda:0')\n",
      "1055 tensor(1054, device='cuda:0')\n",
      "1055 tensor(1065, device='cuda:0')\n",
      "1055 tensor(1054, device='cuda:0')\n",
      "1055 tensor(1065, device='cuda:0')\n",
      "tensor(1054, device='cuda:0')\n",
      "1055 tensor(1065, device='cuda:0')\n",
      "1055 tensor(1054, device='cuda:0')\n",
      "1055 tensor(1065, device='cuda:0')\n",
      "1055 tensor(1054, device='cuda:0')\n",
      "1055 tensor(1065, device='cuda:0')\n",
      "1055 tensor(1054, device='cuda:0')\n",
      "1055 tensor(1065, device='cuda:0')\n",
      "1055 tensor(1054, device='cuda:0')\n",
      "1055 tensor(1065, device='cuda:0')\n",
      "1055 tensor(1054, device='cuda:0')\n",
      "1055 tensor(1065, device='cuda:0')\n",
      "1055 tensor(1054, device='cuda:0')\n",
      "1055 tensor(1065, device='cuda:0')\n",
      "1055 tensor(1054, device='cuda:0')\n",
      "1055 tensor(1065, device='cuda:0')\n",
      "1055 tensor(1054, device='cuda:0')\n",
      "1055 tensor(1065, device='cuda:0')\n",
      "1055 tensor(1054, device='cuda:0')\n",
      "1055 tensor(1065, device='cuda:0')\n",
      "1055 tensor(1054, device='cuda:0')\n",
      "1055 tensor(1065, device='cuda:0')\n",
      "1055 tensor(1054, device='cuda:0')\n",
      "1055 tensor(1065, device='cuda:0')\n",
      "1055 tensor(1054, device='cuda:0')\n",
      "1055 tensor(1065, device='cuda:0')\n",
      "1055 tensor(1054, device='cuda:0')\n",
      "1055 tensor(1065, device='cuda:0')\n",
      "1055 tensor(1054, device='cuda:0')\n",
      "1055 tensor(1065, device='cuda:0')\n",
      "1055 tensor(1054, device='cuda:0')\n",
      "1055 tensor(1065, device='cuda:0')\n",
      "1055 tensor(1054, device='cuda:0')\n",
      "1055 tensor(1065, device='cuda:0')\n",
      "1055 tensor(1054, device='cuda:0')\n",
      "1055 tensor(1065, device='cuda:0')\n",
      "1055 tensor(1054, device='cuda:0')\n",
      "1055 tensor(1065, device='cuda:0')\n",
      "1055 tensor(1054, device='cuda:0')\n",
      "1055 tensor(1065, device='cuda:0')\n",
      "1055 tensor(1054, device='cuda:0')\n",
      "1055 tensor(1065, device='cuda:0')\n",
      "1055 tensor(1054, device='cuda:0')\n",
      "1055 tensor(1065, device='cuda:0')\n",
      "1055 tensor(1054, device='cuda:0')\n",
      "1055 tensor(1065, device='cuda:0')\n",
      "1055 tensor(1054, device='cuda:0')\n",
      "1055 tensor(1065, device='cuda:0')\n",
      "1055 tensor(1054, device='cuda:0')\n",
      "1055 tensor(1065, device='cuda:0')\n",
      "1055 tensor(1054, device='cuda:0')\n",
      "1055 tensor(1065, device='cuda:0')\n",
      "1055 tensor(1054, device='cuda:0')\n",
      "1055 tensor(1065, device='cuda:0')\n",
      "1055 tensor(1054, device='cuda:0')\n",
      "1055 tensor(1065, device='cuda:0')\n",
      "1055 tensor(1054, device='cuda:0')\n",
      "1055 tensor(1065, device='cuda:0')\n",
      "1055 tensor(1054, device='cuda:0')\n",
      "1055 tensor(1065, device='cuda:0')\n",
      "1055 tensor(1054, device='cuda:0')\n",
      "1055 tensor(1065, device='cuda:0')\n",
      "1055 tensor(1054, device='cuda:0')\n",
      "1055 tensor(1065, device='cuda:0')\n",
      "1055 tensor(1054, device='cuda:0')\n",
      "1055 tensor(1065, device='cuda:0')\n",
      "1055 tensor(1054, device='cuda:0')\n",
      "1055 tensor(1065, device='cuda:0')\n",
      "1055 tensor(1054, device='cuda:0')\n",
      "1055 tensor(1065, device='cuda:0')\n",
      "1055 tensor(1054, device='cuda:0')\n",
      "1055 tensor(1065, device='cuda:0')\n",
      "1055 tensor(1054, device='cuda:0')\n",
      "1055 tensor(1065, device='cuda:0')\n",
      "1055 tensor(1054, device='cuda:0')\n",
      "1055 tensor(1065, device='cuda:0')\n",
      "1055 tensor(1054, device='cuda:0')\n",
      "1055 tensor(1065, device='cuda:0')\n",
      "1055 tensor(1054, device='cuda:0')\n",
      "1055 tensor(1065, device='cuda:0')\n",
      "1055 tensor(1054, device='cuda:0')\n",
      "1055 tensor(1065, device='cuda:0')\n",
      "1055 tensor(1054, device='cuda:0')\n",
      "1055 tensor(1065, device='cuda:0')\n",
      "1055 tensor(1054, device='cuda:0')\n",
      "1055 tensor(1065, device='cuda:0')\n",
      "1055 tensor(1054, device='cuda:0')\n",
      "1055 tensor(1065, device='cuda:0')\n",
      "1055 tensor(1054, device='cuda:0')\n",
      "1055 tensor(1065, device='cuda:0')\n",
      "1055 tensor(1054, device='cuda:0')\n",
      "1055 tensor(1065, device='cuda:0')\n",
      "1055 tensor(1054, device='cuda:0')\n",
      "1055 tensor(1065, device='cuda:0')\n",
      "1055 tensor(1054, device='cuda:0')\n",
      "1055 tensor(1065, device='cuda:0')\n",
      "1055 tensor(1054, device='cuda:0')\n",
      "1055 tensor(1065, device='cuda:0')\n",
      "1055 tensor(1054, device='cuda:0')\n",
      "1055 tensor(1065, device='cuda:0')\n",
      "1055 tensor(1054, device='cuda:0')\n",
      "1055 tensor(1065, device='cuda:0')\n",
      "1055 tensor(1054, device='cuda:0')\n",
      "1055 tensor(1065, device='cuda:0')\n",
      "1055 tensor(1054, device='cuda:0')\n",
      "1055 tensor(1065, device='cuda:0')\n",
      "1055 tensor(1054, device='cuda:0')\n",
      "1055 tensor(1065, device='cuda:0')\n",
      "1055 tensor(1054, device='cuda:0')\n",
      "1055 tensor(1065, device='cuda:0')\n",
      "1055 tensor(1054, device='cuda:0')\n",
      "1055 tensor(1065, device='cuda:0')\n",
      "1055 tensor(1054, device='cuda:0')\n",
      "1055 tensor(1065, device='cuda:0')\n",
      "1055 tensor(1054, device='cuda:0')\n",
      "1055 tensor(1065, device='cuda:0')\n",
      "1055 tensor(1054, device='cuda:0')\n",
      "1055 tensor(1065, device='cuda:0')\n",
      "1055 tensor(1054, device='cuda:0')\n",
      "1055 tensor(1065, device='cuda:0')\n",
      "1055 tensor(1054, device='cuda:0')\n",
      "1055 tensor(1065, device='cuda:0')\n",
      "1055 tensor(1054, device='cuda:0')\n",
      "1055 tensor(1065, device='cuda:0')\n",
      "1055 tensor(1054, device='cuda:0')\n",
      "1055 tensor(1065, device='cuda:0')\n",
      "1055 tensor(1054, device='cuda:0')\n",
      "1055 tensor(1065, device='cuda:0')\n",
      "1055 tensor(1054, device='cuda:0')\n",
      "1055 tensor(1065, device='cuda:0')\n",
      "tensor(1054, device='cuda:0')\n",
      "1055 tensor(1065, device='cuda:0')\n",
      "1055 tensor(1054, device='cuda:0')\n",
      "1055 tensor(1065, device='cuda:0')\n",
      "1055 tensor(1054, device='cuda:0')\n",
      "1055 tensor(1065, device='cuda:0')\n",
      "1055 tensor(1054, device='cuda:0')\n",
      "1055 tensor(1065, device='cuda:0')\n",
      "1055 tensor(1054, device='cuda:0')\n",
      "1055 tensor(1065, device='cuda:0')\n",
      "1055 tensor(1054, device='cuda:0')\n",
      "1055 tensor(1065, device='cuda:0')\n",
      "1055 tensor(1054, device='cuda:0')\n",
      "1055 tensor(1065, device='cuda:0')\n",
      "1055 tensor(1054, device='cuda:0')\n",
      "1055 tensor(1065, device='cuda:0')\n",
      "1055 tensor(1054, device='cuda:0')\n",
      "1055 tensor(1065, device='cuda:0')\n",
      "1055 tensor(1054, device='cuda:0')\n",
      "1055 tensor(1065, device='cuda:0')\n",
      "1055 tensor(1054, device='cuda:0')\n",
      "1055 tensor(1065, device='cuda:0')\n",
      "1055 tensor(1054, device='cuda:0')\n",
      "1055 tensor(1065, device='cuda:0')\n",
      "1055 tensor(1054, device='cuda:0')\n",
      "1055 tensor(1065, device='cuda:0')\n",
      "1055 tensor(1054, device='cuda:0')\n",
      "1055 tensor(1065, device='cuda:0')\n",
      "1055 tensor(1054, device='cuda:0')\n",
      "1055 tensor(1065, device='cuda:0')\n",
      "1055 tensor(1054, device='cuda:0')\n"
     ]
    }
   ],
   "source": [
    "attacker.reset()\n",
    "#losses,\n",
    "best_loss, best_pert = attacker.attack(0.2,base_lr=0.01, grad_clip=1, iterations=400)"
   ]
  },
  {
   "cell_type": "code",
   "execution_count": 15,
   "id": "92734e71-db4c-4380-94a0-6d46ecb9bb88",
   "metadata": {
    "scrolled": true
   },
   "outputs": [
    {
     "data": {
      "text/plain": [
       "[tensor(0.0269, device='cuda:0', grad_fn=<NllLossBackward0>),\n",
       " tensor(0.1528, device='cuda:0', grad_fn=<NllLossBackward0>),\n",
       " tensor(0.3311, device='cuda:0', grad_fn=<NllLossBackward0>),\n",
       " tensor(0.6627, device='cuda:0', grad_fn=<NllLossBackward0>),\n",
       " tensor(0.6281, device='cuda:0', grad_fn=<NllLossBackward0>),\n",
       " tensor(0.7855, device='cuda:0', grad_fn=<NllLossBackward0>),\n",
       " tensor(0.9303, device='cuda:0', grad_fn=<NllLossBackward0>),\n",
       " tensor(1.0057, device='cuda:0', grad_fn=<NllLossBackward0>),\n",
       " tensor(1.0864, device='cuda:0', grad_fn=<NllLossBackward0>),\n",
       " tensor(1.1026, device='cuda:0', grad_fn=<NllLossBackward0>),\n",
       " tensor(1.1333, device='cuda:0', grad_fn=<NllLossBackward0>),\n",
       " tensor(1.1612, device='cuda:0', grad_fn=<NllLossBackward0>),\n",
       " tensor(1.1964, device='cuda:0', grad_fn=<NllLossBackward0>),\n",
       " tensor(1.2772, device='cuda:0', grad_fn=<NllLossBackward0>),\n",
       " tensor(1.2269, device='cuda:0', grad_fn=<NllLossBackward0>),\n",
       " tensor(1.2123, device='cuda:0', grad_fn=<NllLossBackward0>),\n",
       " tensor(1.3287, device='cuda:0', grad_fn=<NllLossBackward0>),\n",
       " tensor(1.2984, device='cuda:0', grad_fn=<NllLossBackward0>),\n",
       " tensor(1.3401, device='cuda:0', grad_fn=<NllLossBackward0>),\n",
       " tensor(1.3593, device='cuda:0', grad_fn=<NllLossBackward0>),\n",
       " tensor(1.3817, device='cuda:0', grad_fn=<NllLossBackward0>),\n",
       " tensor(1.3245, device='cuda:0', grad_fn=<NllLossBackward0>),\n",
       " tensor(1.2804, device='cuda:0', grad_fn=<NllLossBackward0>),\n",
       " tensor(1.3077, device='cuda:0', grad_fn=<NllLossBackward0>),\n",
       " tensor(1.3240, device='cuda:0', grad_fn=<NllLossBackward0>),\n",
       " tensor(1.3771, device='cuda:0', grad_fn=<NllLossBackward0>),\n",
       " tensor(1.3956, device='cuda:0', grad_fn=<NllLossBackward0>),\n",
       " tensor(1.4174, device='cuda:0', grad_fn=<NllLossBackward0>),\n",
       " tensor(1.4093, device='cuda:0', grad_fn=<NllLossBackward0>),\n",
       " tensor(1.4203, device='cuda:0', grad_fn=<NllLossBackward0>),\n",
       " tensor(1.3972, device='cuda:0', grad_fn=<NllLossBackward0>),\n",
       " tensor(1.4283, device='cuda:0', grad_fn=<NllLossBackward0>),\n",
       " tensor(1.4184, device='cuda:0', grad_fn=<NllLossBackward0>),\n",
       " tensor(1.4295, device='cuda:0', grad_fn=<NllLossBackward0>),\n",
       " tensor(1.4195, device='cuda:0', grad_fn=<NllLossBackward0>),\n",
       " tensor(1.4443, device='cuda:0', grad_fn=<NllLossBackward0>),\n",
       " tensor(1.4420, device='cuda:0', grad_fn=<NllLossBackward0>),\n",
       " tensor(1.4613, device='cuda:0', grad_fn=<NllLossBackward0>),\n",
       " tensor(1.4399, device='cuda:0', grad_fn=<NllLossBackward0>),\n",
       " tensor(1.4534, device='cuda:0', grad_fn=<NllLossBackward0>),\n",
       " tensor(1.3637, device='cuda:0', grad_fn=<NllLossBackward0>),\n",
       " tensor(1.4555, device='cuda:0', grad_fn=<NllLossBackward0>),\n",
       " tensor(1.4052, device='cuda:0', grad_fn=<NllLossBackward0>),\n",
       " tensor(1.4241, device='cuda:0', grad_fn=<NllLossBackward0>),\n",
       " tensor(1.3915, device='cuda:0', grad_fn=<NllLossBackward0>),\n",
       " tensor(1.4339, device='cuda:0', grad_fn=<NllLossBackward0>),\n",
       " tensor(1.4293, device='cuda:0', grad_fn=<NllLossBackward0>),\n",
       " tensor(1.4263, device='cuda:0', grad_fn=<NllLossBackward0>),\n",
       " tensor(1.4603, device='cuda:0', grad_fn=<NllLossBackward0>),\n",
       " tensor(1.4699, device='cuda:0', grad_fn=<NllLossBackward0>),\n",
       " tensor(1.4731, device='cuda:0', grad_fn=<NllLossBackward0>),\n",
       " tensor(1.4583, device='cuda:0', grad_fn=<NllLossBackward0>),\n",
       " tensor(1.4683, device='cuda:0', grad_fn=<NllLossBackward0>),\n",
       " tensor(1.4592, device='cuda:0', grad_fn=<NllLossBackward0>),\n",
       " tensor(1.4629, device='cuda:0', grad_fn=<NllLossBackward0>),\n",
       " tensor(1.4609, device='cuda:0', grad_fn=<NllLossBackward0>),\n",
       " tensor(1.4643, device='cuda:0', grad_fn=<NllLossBackward0>),\n",
       " tensor(1.4645, device='cuda:0', grad_fn=<NllLossBackward0>),\n",
       " tensor(1.4676, device='cuda:0', grad_fn=<NllLossBackward0>),\n",
       " tensor(1.4717, device='cuda:0', grad_fn=<NllLossBackward0>),\n",
       " tensor(1.4823, device='cuda:0', grad_fn=<NllLossBackward0>),\n",
       " tensor(1.4797, device='cuda:0', grad_fn=<NllLossBackward0>),\n",
       " tensor(1.4849, device='cuda:0', grad_fn=<NllLossBackward0>),\n",
       " tensor(1.4662, device='cuda:0', grad_fn=<NllLossBackward0>),\n",
       " tensor(1.4821, device='cuda:0', grad_fn=<NllLossBackward0>),\n",
       " tensor(1.4786, device='cuda:0', grad_fn=<NllLossBackward0>),\n",
       " tensor(1.4833, device='cuda:0', grad_fn=<NllLossBackward0>),\n",
       " tensor(1.4889, device='cuda:0', grad_fn=<NllLossBackward0>),\n",
       " tensor(1.4855, device='cuda:0', grad_fn=<NllLossBackward0>),\n",
       " tensor(1.4922, device='cuda:0', grad_fn=<NllLossBackward0>),\n",
       " tensor(1.4898, device='cuda:0', grad_fn=<NllLossBackward0>),\n",
       " tensor(1.4968, device='cuda:0', grad_fn=<NllLossBackward0>),\n",
       " tensor(1.4997, device='cuda:0', grad_fn=<NllLossBackward0>),\n",
       " tensor(1.5069, device='cuda:0', grad_fn=<NllLossBackward0>),\n",
       " tensor(1.5099, device='cuda:0', grad_fn=<NllLossBackward0>),\n",
       " tensor(1.5123, device='cuda:0', grad_fn=<NllLossBackward0>),\n",
       " tensor(1.5165, device='cuda:0', grad_fn=<NllLossBackward0>),\n",
       " tensor(1.5151, device='cuda:0', grad_fn=<NllLossBackward0>),\n",
       " tensor(1.5180, device='cuda:0', grad_fn=<NllLossBackward0>),\n",
       " tensor(1.5143, device='cuda:0', grad_fn=<NllLossBackward0>),\n",
       " tensor(1.5167, device='cuda:0', grad_fn=<NllLossBackward0>),\n",
       " tensor(1.5111, device='cuda:0', grad_fn=<NllLossBackward0>),\n",
       " tensor(1.5120, device='cuda:0', grad_fn=<NllLossBackward0>),\n",
       " tensor(1.5064, device='cuda:0', grad_fn=<NllLossBackward0>),\n",
       " tensor(1.5010, device='cuda:0', grad_fn=<NllLossBackward0>),\n",
       " tensor(1.4966, device='cuda:0', grad_fn=<NllLossBackward0>),\n",
       " tensor(1.4880, device='cuda:0', grad_fn=<NllLossBackward0>),\n",
       " tensor(1.4869, device='cuda:0', grad_fn=<NllLossBackward0>),\n",
       " tensor(1.4791, device='cuda:0', grad_fn=<NllLossBackward0>),\n",
       " tensor(1.4751, device='cuda:0', grad_fn=<NllLossBackward0>),\n",
       " tensor(1.4731, device='cuda:0', grad_fn=<NllLossBackward0>),\n",
       " tensor(1.4685, device='cuda:0', grad_fn=<NllLossBackward0>),\n",
       " tensor(1.4717, device='cuda:0', grad_fn=<NllLossBackward0>),\n",
       " tensor(1.4737, device='cuda:0', grad_fn=<NllLossBackward0>),\n",
       " tensor(1.4908, device='cuda:0', grad_fn=<NllLossBackward0>),\n",
       " tensor(1.4988, device='cuda:0', grad_fn=<NllLossBackward0>),\n",
       " tensor(1.5135, device='cuda:0', grad_fn=<NllLossBackward0>),\n",
       " tensor(1.5102, device='cuda:0', grad_fn=<NllLossBackward0>),\n",
       " tensor(1.5086, device='cuda:0', grad_fn=<NllLossBackward0>),\n",
       " tensor(1.4968, device='cuda:0', grad_fn=<NllLossBackward0>),\n",
       " tensor(1.4895, device='cuda:0', grad_fn=<NllLossBackward0>),\n",
       " tensor(1.4822, device='cuda:0', grad_fn=<NllLossBackward0>),\n",
       " tensor(1.4719, device='cuda:0', grad_fn=<NllLossBackward0>),\n",
       " tensor(1.4807, device='cuda:0', grad_fn=<NllLossBackward0>),\n",
       " tensor(1.4877, device='cuda:0', grad_fn=<NllLossBackward0>),\n",
       " tensor(1.4982, device='cuda:0', grad_fn=<NllLossBackward0>),\n",
       " tensor(1.5150, device='cuda:0', grad_fn=<NllLossBackward0>),\n",
       " tensor(1.5199, device='cuda:0', grad_fn=<NllLossBackward0>),\n",
       " tensor(1.5293, device='cuda:0', grad_fn=<NllLossBackward0>),\n",
       " tensor(1.5223, device='cuda:0', grad_fn=<NllLossBackward0>),\n",
       " tensor(1.5329, device='cuda:0', grad_fn=<NllLossBackward0>),\n",
       " tensor(1.5206, device='cuda:0', grad_fn=<NllLossBackward0>),\n",
       " tensor(1.5344, device='cuda:0', grad_fn=<NllLossBackward0>),\n",
       " tensor(1.5183, device='cuda:0', grad_fn=<NllLossBackward0>),\n",
       " tensor(1.5338, device='cuda:0', grad_fn=<NllLossBackward0>),\n",
       " tensor(1.5177, device='cuda:0', grad_fn=<NllLossBackward0>),\n",
       " tensor(1.5321, device='cuda:0', grad_fn=<NllLossBackward0>),\n",
       " tensor(1.5173, device='cuda:0', grad_fn=<NllLossBackward0>),\n",
       " tensor(1.5309, device='cuda:0', grad_fn=<NllLossBackward0>),\n",
       " tensor(1.5184, device='cuda:0', grad_fn=<NllLossBackward0>),\n",
       " tensor(1.5306, device='cuda:0', grad_fn=<NllLossBackward0>),\n",
       " tensor(1.5201, device='cuda:0', grad_fn=<NllLossBackward0>),\n",
       " tensor(1.5314, device='cuda:0', grad_fn=<NllLossBackward0>),\n",
       " tensor(1.5228, device='cuda:0', grad_fn=<NllLossBackward0>),\n",
       " tensor(1.5328, device='cuda:0', grad_fn=<NllLossBackward0>),\n",
       " tensor(1.5255, device='cuda:0', grad_fn=<NllLossBackward0>),\n",
       " tensor(1.5350, device='cuda:0', grad_fn=<NllLossBackward0>),\n",
       " tensor(1.5288, device='cuda:0', grad_fn=<NllLossBackward0>),\n",
       " tensor(1.5376, device='cuda:0', grad_fn=<NllLossBackward0>),\n",
       " tensor(1.5320, device='cuda:0', grad_fn=<NllLossBackward0>),\n",
       " tensor(1.5399, device='cuda:0', grad_fn=<NllLossBackward0>),\n",
       " tensor(1.5360, device='cuda:0', grad_fn=<NllLossBackward0>),\n",
       " tensor(1.5425, device='cuda:0', grad_fn=<NllLossBackward0>),\n",
       " tensor(1.5396, device='cuda:0', grad_fn=<NllLossBackward0>),\n",
       " tensor(1.5451, device='cuda:0', grad_fn=<NllLossBackward0>),\n",
       " tensor(1.5435, device='cuda:0', grad_fn=<NllLossBackward0>),\n",
       " tensor(1.5473, device='cuda:0', grad_fn=<NllLossBackward0>),\n",
       " tensor(1.5463, device='cuda:0', grad_fn=<NllLossBackward0>),\n",
       " tensor(1.5493, device='cuda:0', grad_fn=<NllLossBackward0>),\n",
       " tensor(1.5490, device='cuda:0', grad_fn=<NllLossBackward0>),\n",
       " tensor(1.5511, device='cuda:0', grad_fn=<NllLossBackward0>),\n",
       " tensor(1.5515, device='cuda:0', grad_fn=<NllLossBackward0>),\n",
       " tensor(1.5524, device='cuda:0', grad_fn=<NllLossBackward0>),\n",
       " tensor(1.5530, device='cuda:0', grad_fn=<NllLossBackward0>),\n",
       " tensor(1.5537, device='cuda:0', grad_fn=<NllLossBackward0>),\n",
       " tensor(1.5538, device='cuda:0', grad_fn=<NllLossBackward0>),\n",
       " tensor(1.5548, device='cuda:0', grad_fn=<NllLossBackward0>),\n",
       " tensor(1.5549, device='cuda:0', grad_fn=<NllLossBackward0>),\n",
       " tensor(1.5547, device='cuda:0', grad_fn=<NllLossBackward0>),\n",
       " tensor(1.5544, device='cuda:0', grad_fn=<NllLossBackward0>),\n",
       " tensor(1.5544, device='cuda:0', grad_fn=<NllLossBackward0>),\n",
       " tensor(1.5547, device='cuda:0', grad_fn=<NllLossBackward0>),\n",
       " tensor(1.5547, device='cuda:0', grad_fn=<NllLossBackward0>),\n",
       " tensor(1.5547, device='cuda:0', grad_fn=<NllLossBackward0>),\n",
       " tensor(1.5547, device='cuda:0', grad_fn=<NllLossBackward0>),\n",
       " tensor(1.5547, device='cuda:0', grad_fn=<NllLossBackward0>),\n",
       " tensor(1.5547, device='cuda:0', grad_fn=<NllLossBackward0>),\n",
       " tensor(1.5547, device='cuda:0', grad_fn=<NllLossBackward0>),\n",
       " tensor(1.5547, device='cuda:0', grad_fn=<NllLossBackward0>),\n",
       " tensor(1.5547, device='cuda:0', grad_fn=<NllLossBackward0>),\n",
       " tensor(1.5547, device='cuda:0', grad_fn=<NllLossBackward0>),\n",
       " tensor(1.5547, device='cuda:0', grad_fn=<NllLossBackward0>),\n",
       " tensor(1.5553, device='cuda:0', grad_fn=<NllLossBackward0>),\n",
       " tensor(1.5552, device='cuda:0', grad_fn=<NllLossBackward0>),\n",
       " tensor(1.5551, device='cuda:0', grad_fn=<NllLossBackward0>),\n",
       " tensor(1.5550, device='cuda:0', grad_fn=<NllLossBackward0>),\n",
       " tensor(1.5550, device='cuda:0', grad_fn=<NllLossBackward0>),\n",
       " tensor(1.5555, device='cuda:0', grad_fn=<NllLossBackward0>),\n",
       " tensor(1.5553, device='cuda:0', grad_fn=<NllLossBackward0>),\n",
       " tensor(1.5552, device='cuda:0', grad_fn=<NllLossBackward0>),\n",
       " tensor(1.5551, device='cuda:0', grad_fn=<NllLossBackward0>),\n",
       " tensor(1.5556, device='cuda:0', grad_fn=<NllLossBackward0>),\n",
       " tensor(1.5554, device='cuda:0', grad_fn=<NllLossBackward0>),\n",
       " tensor(1.5554, device='cuda:0', grad_fn=<NllLossBackward0>),\n",
       " tensor(1.5558, device='cuda:0', grad_fn=<NllLossBackward0>),\n",
       " tensor(1.5557, device='cuda:0', grad_fn=<NllLossBackward0>),\n",
       " tensor(1.5555, device='cuda:0', grad_fn=<NllLossBackward0>),\n",
       " tensor(1.5560, device='cuda:0', grad_fn=<NllLossBackward0>),\n",
       " tensor(1.5558, device='cuda:0', grad_fn=<NllLossBackward0>),\n",
       " tensor(1.5562, device='cuda:0', grad_fn=<NllLossBackward0>),\n",
       " tensor(1.5560, device='cuda:0', grad_fn=<NllLossBackward0>),\n",
       " tensor(1.5558, device='cuda:0', grad_fn=<NllLossBackward0>),\n",
       " tensor(1.5562, device='cuda:0', grad_fn=<NllLossBackward0>),\n",
       " tensor(1.5560, device='cuda:0', grad_fn=<NllLossBackward0>),\n",
       " tensor(1.5558, device='cuda:0', grad_fn=<NllLossBackward0>),\n",
       " tensor(1.5562, device='cuda:0', grad_fn=<NllLossBackward0>),\n",
       " tensor(1.5560, device='cuda:0', grad_fn=<NllLossBackward0>),\n",
       " tensor(1.5564, device='cuda:0', grad_fn=<NllLossBackward0>),\n",
       " tensor(1.5560, device='cuda:0', grad_fn=<NllLossBackward0>),\n",
       " tensor(1.5557, device='cuda:0', grad_fn=<NllLossBackward0>),\n",
       " tensor(1.5560, device='cuda:0', grad_fn=<NllLossBackward0>),\n",
       " tensor(1.5557, device='cuda:0', grad_fn=<NllLossBackward0>),\n",
       " tensor(1.5560, device='cuda:0', grad_fn=<NllLossBackward0>),\n",
       " tensor(1.5556, device='cuda:0', grad_fn=<NllLossBackward0>),\n",
       " tensor(1.5558, device='cuda:0', grad_fn=<NllLossBackward0>),\n",
       " tensor(1.5554, device='cuda:0', grad_fn=<NllLossBackward0>),\n",
       " tensor(1.5558, device='cuda:0', grad_fn=<NllLossBackward0>),\n",
       " tensor(1.5559, device='cuda:0', grad_fn=<NllLossBackward0>),\n",
       " tensor(1.5554, device='cuda:0', grad_fn=<NllLossBackward0>),\n",
       " tensor(1.5557, device='cuda:0', grad_fn=<NllLossBackward0>),\n",
       " tensor(1.5559, device='cuda:0', grad_fn=<NllLossBackward0>),\n",
       " tensor(1.5560, device='cuda:0', grad_fn=<NllLossBackward0>),\n",
       " tensor(1.5555, device='cuda:0', grad_fn=<NllLossBackward0>),\n",
       " tensor(1.5557, device='cuda:0', grad_fn=<NllLossBackward0>),\n",
       " tensor(1.5558, device='cuda:0', grad_fn=<NllLossBackward0>),\n",
       " tensor(1.5559, device='cuda:0', grad_fn=<NllLossBackward0>),\n",
       " tensor(1.5560, device='cuda:0', grad_fn=<NllLossBackward0>),\n",
       " tensor(1.5561, device='cuda:0', grad_fn=<NllLossBackward0>),\n",
       " tensor(1.5562, device='cuda:0', grad_fn=<NllLossBackward0>),\n",
       " tensor(1.5562, device='cuda:0', grad_fn=<NllLossBackward0>),\n",
       " tensor(1.5563, device='cuda:0', grad_fn=<NllLossBackward0>),\n",
       " tensor(1.5563, device='cuda:0', grad_fn=<NllLossBackward0>),\n",
       " tensor(1.5564, device='cuda:0', grad_fn=<NllLossBackward0>),\n",
       " tensor(1.5564, device='cuda:0', grad_fn=<NllLossBackward0>),\n",
       " tensor(1.5564, device='cuda:0', grad_fn=<NllLossBackward0>),\n",
       " tensor(1.5565, device='cuda:0', grad_fn=<NllLossBackward0>),\n",
       " tensor(1.5565, device='cuda:0', grad_fn=<NllLossBackward0>),\n",
       " tensor(1.5566, device='cuda:0', grad_fn=<NllLossBackward0>),\n",
       " tensor(1.5566, device='cuda:0', grad_fn=<NllLossBackward0>),\n",
       " tensor(1.5566, device='cuda:0', grad_fn=<NllLossBackward0>),\n",
       " tensor(1.5572, device='cuda:0', grad_fn=<NllLossBackward0>),\n",
       " tensor(1.5570, device='cuda:0', grad_fn=<NllLossBackward0>),\n",
       " tensor(1.5569, device='cuda:0', grad_fn=<NllLossBackward0>),\n",
       " tensor(1.5569, device='cuda:0', grad_fn=<NllLossBackward0>),\n",
       " tensor(1.5568, device='cuda:0', grad_fn=<NllLossBackward0>),\n",
       " tensor(1.5574, device='cuda:0', grad_fn=<NllLossBackward0>),\n",
       " tensor(1.5572, device='cuda:0', grad_fn=<NllLossBackward0>),\n",
       " tensor(1.5571, device='cuda:0', grad_fn=<NllLossBackward0>),\n",
       " tensor(1.5575, device='cuda:0', grad_fn=<NllLossBackward0>),\n",
       " tensor(1.5574, device='cuda:0', grad_fn=<NllLossBackward0>),\n",
       " tensor(1.5572, device='cuda:0', grad_fn=<NllLossBackward0>),\n",
       " tensor(1.5576, device='cuda:0', grad_fn=<NllLossBackward0>),\n",
       " tensor(1.5575, device='cuda:0', grad_fn=<NllLossBackward0>),\n",
       " tensor(1.5573, device='cuda:0', grad_fn=<NllLossBackward0>),\n",
       " tensor(1.5577, device='cuda:0', grad_fn=<NllLossBackward0>),\n",
       " tensor(1.5576, device='cuda:0', grad_fn=<NllLossBackward0>),\n",
       " tensor(1.5574, device='cuda:0', grad_fn=<NllLossBackward0>),\n",
       " tensor(1.5578, device='cuda:0', grad_fn=<NllLossBackward0>),\n",
       " tensor(1.5576, device='cuda:0', grad_fn=<NllLossBackward0>),\n",
       " tensor(1.5580, device='cuda:0', grad_fn=<NllLossBackward0>),\n",
       " tensor(1.5578, device='cuda:0', grad_fn=<NllLossBackward0>),\n",
       " tensor(1.5575, device='cuda:0', grad_fn=<NllLossBackward0>),\n",
       " tensor(1.5580, device='cuda:0', grad_fn=<NllLossBackward0>),\n",
       " tensor(1.5577, device='cuda:0', grad_fn=<NllLossBackward0>),\n",
       " tensor(1.5581, device='cuda:0', grad_fn=<NllLossBackward0>),\n",
       " tensor(1.5578, device='cuda:0', grad_fn=<NllLossBackward0>),\n",
       " tensor(1.5582, device='cuda:0', grad_fn=<NllLossBackward0>),\n",
       " tensor(1.5580, device='cuda:0', grad_fn=<NllLossBackward0>),\n",
       " tensor(1.5583, device='cuda:0', grad_fn=<NllLossBackward0>),\n",
       " tensor(1.5580, device='cuda:0', grad_fn=<NllLossBackward0>),\n",
       " tensor(1.5584, device='cuda:0', grad_fn=<NllLossBackward0>),\n",
       " tensor(1.5582, device='cuda:0', grad_fn=<NllLossBackward0>),\n",
       " tensor(1.5585, device='cuda:0', grad_fn=<NllLossBackward0>),\n",
       " tensor(1.5588, device='cuda:0', grad_fn=<NllLossBackward0>),\n",
       " tensor(1.5584, device='cuda:0', grad_fn=<NllLossBackward0>),\n",
       " tensor(1.5587, device='cuda:0', grad_fn=<NllLossBackward0>),\n",
       " tensor(1.5584, device='cuda:0', grad_fn=<NllLossBackward0>),\n",
       " tensor(1.5586, device='cuda:0', grad_fn=<NllLossBackward0>),\n",
       " tensor(1.5589, device='cuda:0', grad_fn=<NllLossBackward0>),\n",
       " tensor(1.5586, device='cuda:0', grad_fn=<NllLossBackward0>),\n",
       " tensor(1.5588, device='cuda:0', grad_fn=<NllLossBackward0>),\n",
       " tensor(1.5585, device='cuda:0', grad_fn=<NllLossBackward0>),\n",
       " tensor(1.5587, device='cuda:0', grad_fn=<NllLossBackward0>),\n",
       " tensor(1.5590, device='cuda:0', grad_fn=<NllLossBackward0>),\n",
       " tensor(1.5586, device='cuda:0', grad_fn=<NllLossBackward0>),\n",
       " tensor(1.5589, device='cuda:0', grad_fn=<NllLossBackward0>),\n",
       " tensor(1.5591, device='cuda:0', grad_fn=<NllLossBackward0>),\n",
       " tensor(1.5587, device='cuda:0', grad_fn=<NllLossBackward0>),\n",
       " tensor(1.5590, device='cuda:0', grad_fn=<NllLossBackward0>),\n",
       " tensor(1.5591, device='cuda:0', grad_fn=<NllLossBackward0>),\n",
       " tensor(1.5588, device='cuda:0', grad_fn=<NllLossBackward0>),\n",
       " tensor(1.5590, device='cuda:0', grad_fn=<NllLossBackward0>),\n",
       " tensor(1.5592, device='cuda:0', grad_fn=<NllLossBackward0>),\n",
       " tensor(1.5588, device='cuda:0', grad_fn=<NllLossBackward0>),\n",
       " tensor(1.5591, device='cuda:0', grad_fn=<NllLossBackward0>),\n",
       " tensor(1.5592, device='cuda:0', grad_fn=<NllLossBackward0>),\n",
       " tensor(1.5588, device='cuda:0', grad_fn=<NllLossBackward0>),\n",
       " tensor(1.5591, device='cuda:0', grad_fn=<NllLossBackward0>),\n",
       " tensor(1.5593, device='cuda:0', grad_fn=<NllLossBackward0>),\n",
       " tensor(1.5588, device='cuda:0', grad_fn=<NllLossBackward0>),\n",
       " tensor(1.5592, device='cuda:0', grad_fn=<NllLossBackward0>),\n",
       " tensor(1.5593, device='cuda:0', grad_fn=<NllLossBackward0>),\n",
       " tensor(1.5589, device='cuda:0', grad_fn=<NllLossBackward0>),\n",
       " tensor(1.5592, device='cuda:0', grad_fn=<NllLossBackward0>),\n",
       " tensor(1.5587, device='cuda:0', grad_fn=<NllLossBackward0>),\n",
       " tensor(1.5590, device='cuda:0', grad_fn=<NllLossBackward0>),\n",
       " tensor(1.5587, device='cuda:0', grad_fn=<NllLossBackward0>),\n",
       " tensor(1.5589, device='cuda:0', grad_fn=<NllLossBackward0>),\n",
       " tensor(1.5585, device='cuda:0', grad_fn=<NllLossBackward0>),\n",
       " tensor(1.5589, device='cuda:0', grad_fn=<NllLossBackward0>),\n",
       " tensor(1.5585, device='cuda:0', grad_fn=<NllLossBackward0>),\n",
       " tensor(1.5588, device='cuda:0', grad_fn=<NllLossBackward0>),\n",
       " tensor(1.5585, device='cuda:0', grad_fn=<NllLossBackward0>),\n",
       " tensor(1.5582, device='cuda:0', grad_fn=<NllLossBackward0>),\n",
       " tensor(1.5586, device='cuda:0', grad_fn=<NllLossBackward0>),\n",
       " tensor(1.5583, device='cuda:0', grad_fn=<NllLossBackward0>),\n",
       " tensor(1.5580, device='cuda:0', grad_fn=<NllLossBackward0>),\n",
       " tensor(1.5584, device='cuda:0', grad_fn=<NllLossBackward0>),\n",
       " tensor(1.5581, device='cuda:0', grad_fn=<NllLossBackward0>),\n",
       " tensor(1.5579, device='cuda:0', grad_fn=<NllLossBackward0>),\n",
       " tensor(1.5583, device='cuda:0', grad_fn=<NllLossBackward0>),\n",
       " tensor(1.5580, device='cuda:0', grad_fn=<NllLossBackward0>),\n",
       " tensor(1.5578, device='cuda:0', grad_fn=<NllLossBackward0>),\n",
       " tensor(1.5581, device='cuda:0', grad_fn=<NllLossBackward0>),\n",
       " tensor(1.5579, device='cuda:0', grad_fn=<NllLossBackward0>),\n",
       " tensor(1.5576, device='cuda:0', grad_fn=<NllLossBackward0>),\n",
       " tensor(1.5581, device='cuda:0', grad_fn=<NllLossBackward0>),\n",
       " tensor(1.5578, device='cuda:0', grad_fn=<NllLossBackward0>),\n",
       " tensor(1.5581, device='cuda:0', grad_fn=<NllLossBackward0>),\n",
       " tensor(1.5578, device='cuda:0', grad_fn=<NllLossBackward0>),\n",
       " tensor(1.5582, device='cuda:0', grad_fn=<NllLossBackward0>),\n",
       " tensor(1.5584, device='cuda:0', grad_fn=<NllLossBackward0>),\n",
       " tensor(1.5581, device='cuda:0', grad_fn=<NllLossBackward0>),\n",
       " tensor(1.5584, device='cuda:0', grad_fn=<NllLossBackward0>),\n",
       " tensor(1.5586, device='cuda:0', grad_fn=<NllLossBackward0>),\n",
       " tensor(1.5582, device='cuda:0', grad_fn=<NllLossBackward0>),\n",
       " tensor(1.5585, device='cuda:0', grad_fn=<NllLossBackward0>),\n",
       " tensor(1.5587, device='cuda:0', grad_fn=<NllLossBackward0>),\n",
       " tensor(1.5589, device='cuda:0', grad_fn=<NllLossBackward0>),\n",
       " tensor(1.5590, device='cuda:0', grad_fn=<NllLossBackward0>),\n",
       " tensor(1.5586, device='cuda:0', grad_fn=<NllLossBackward0>),\n",
       " tensor(1.5588, device='cuda:0', grad_fn=<NllLossBackward0>),\n",
       " tensor(1.5590, device='cuda:0', grad_fn=<NllLossBackward0>),\n",
       " tensor(1.5591, device='cuda:0', grad_fn=<NllLossBackward0>),\n",
       " tensor(1.5592, device='cuda:0', grad_fn=<NllLossBackward0>),\n",
       " tensor(1.5594, device='cuda:0', grad_fn=<NllLossBackward0>),\n",
       " tensor(1.5594, device='cuda:0', grad_fn=<NllLossBackward0>),\n",
       " tensor(1.5596, device='cuda:0', grad_fn=<NllLossBackward0>),\n",
       " tensor(1.5595, device='cuda:0', grad_fn=<NllLossBackward0>),\n",
       " tensor(1.5597, device='cuda:0', grad_fn=<NllLossBackward0>),\n",
       " tensor(1.5596, device='cuda:0', grad_fn=<NllLossBackward0>),\n",
       " tensor(1.5598, device='cuda:0', grad_fn=<NllLossBackward0>),\n",
       " tensor(1.5598, device='cuda:0', grad_fn=<NllLossBackward0>),\n",
       " tensor(1.5599, device='cuda:0', grad_fn=<NllLossBackward0>),\n",
       " tensor(1.5598, device='cuda:0', grad_fn=<NllLossBackward0>),\n",
       " tensor(1.5599, device='cuda:0', grad_fn=<NllLossBackward0>),\n",
       " tensor(1.5600, device='cuda:0', grad_fn=<NllLossBackward0>),\n",
       " tensor(1.5600, device='cuda:0', grad_fn=<NllLossBackward0>),\n",
       " tensor(1.5600, device='cuda:0', grad_fn=<NllLossBackward0>),\n",
       " tensor(1.5600, device='cuda:0', grad_fn=<NllLossBackward0>),\n",
       " tensor(1.5606, device='cuda:0', grad_fn=<NllLossBackward0>),\n",
       " tensor(1.5605, device='cuda:0', grad_fn=<NllLossBackward0>),\n",
       " tensor(1.5605, device='cuda:0', grad_fn=<NllLossBackward0>),\n",
       " tensor(1.5604, device='cuda:0', grad_fn=<NllLossBackward0>),\n",
       " tensor(1.5604, device='cuda:0', grad_fn=<NllLossBackward0>),\n",
       " tensor(1.5604, device='cuda:0', grad_fn=<NllLossBackward0>),\n",
       " tensor(1.5609, device='cuda:0', grad_fn=<NllLossBackward0>),\n",
       " tensor(1.5608, device='cuda:0', grad_fn=<NllLossBackward0>),\n",
       " tensor(1.5607, device='cuda:0', grad_fn=<NllLossBackward0>),\n",
       " tensor(1.5607, device='cuda:0', grad_fn=<NllLossBackward0>),\n",
       " tensor(1.5606, device='cuda:0', grad_fn=<NllLossBackward0>),\n",
       " tensor(1.5611, device='cuda:0', grad_fn=<NllLossBackward0>),\n",
       " tensor(1.5610, device='cuda:0', grad_fn=<NllLossBackward0>),\n",
       " tensor(1.5609, device='cuda:0', grad_fn=<NllLossBackward0>),\n",
       " tensor(1.5608, device='cuda:0', grad_fn=<NllLossBackward0>),\n",
       " tensor(1.5613, device='cuda:0', grad_fn=<NllLossBackward0>),\n",
       " tensor(1.5611, device='cuda:0', grad_fn=<NllLossBackward0>),\n",
       " tensor(1.5610, device='cuda:0', grad_fn=<NllLossBackward0>),\n",
       " tensor(1.5615, device='cuda:0', grad_fn=<NllLossBackward0>),\n",
       " tensor(1.5613, device='cuda:0', grad_fn=<NllLossBackward0>),\n",
       " tensor(1.5611, device='cuda:0', grad_fn=<NllLossBackward0>),\n",
       " tensor(1.5616, device='cuda:0', grad_fn=<NllLossBackward0>),\n",
       " tensor(1.5614, device='cuda:0', grad_fn=<NllLossBackward0>),\n",
       " tensor(1.5613, device='cuda:0', grad_fn=<NllLossBackward0>),\n",
       " tensor(1.5617, device='cuda:0', grad_fn=<NllLossBackward0>),\n",
       " tensor(1.5614, device='cuda:0', grad_fn=<NllLossBackward0>),\n",
       " tensor(1.5614, device='cuda:0', grad_fn=<NllLossBackward0>),\n",
       " tensor(1.5617, device='cuda:0', grad_fn=<NllLossBackward0>),\n",
       " tensor(1.5616, device='cuda:0', grad_fn=<NllLossBackward0>),\n",
       " tensor(1.5613, device='cuda:0', grad_fn=<NllLossBackward0>),\n",
       " tensor(1.5618, device='cuda:0', grad_fn=<NllLossBackward0>),\n",
       " tensor(1.5616, device='cuda:0', grad_fn=<NllLossBackward0>),\n",
       " tensor(1.5618, device='cuda:0', grad_fn=<NllLossBackward0>),\n",
       " tensor(1.5618, device='cuda:0', grad_fn=<NllLossBackward0>),\n",
       " tensor(1.5621, device='cuda:0', grad_fn=<NllLossBackward0>),\n",
       " tensor(1.5619, device='cuda:0', grad_fn=<NllLossBackward0>),\n",
       " tensor(1.5616, device='cuda:0', grad_fn=<NllLossBackward0>),\n",
       " tensor(1.5621, device='cuda:0', grad_fn=<NllLossBackward0>),\n",
       " tensor(1.5618, device='cuda:0', grad_fn=<NllLossBackward0>),\n",
       " tensor(1.5622, device='cuda:0', grad_fn=<NllLossBackward0>),\n",
       " tensor(1.5620, device='cuda:0', grad_fn=<NllLossBackward0>),\n",
       " tensor(1.5623, device='cuda:0', grad_fn=<NllLossBackward0>),\n",
       " tensor(1.5620, device='cuda:0', grad_fn=<NllLossBackward0>),\n",
       " tensor(1.5624, device='cuda:0', grad_fn=<NllLossBackward0>),\n",
       " tensor(1.5621, device='cuda:0', grad_fn=<NllLossBackward0>),\n",
       " tensor(1.5625, device='cuda:0', grad_fn=<NllLossBackward0>),\n",
       " tensor(1.5622, device='cuda:0', grad_fn=<NllLossBackward0>),\n",
       " tensor(1.5624, device='cuda:0', grad_fn=<NllLossBackward0>),\n",
       " tensor(1.5622, device='cuda:0', grad_fn=<NllLossBackward0>),\n",
       " tensor(1.5626, device='cuda:0', grad_fn=<NllLossBackward0>),\n",
       " tensor(1.5622, device='cuda:0', grad_fn=<NllLossBackward0>),\n",
       " tensor(1.5626, device='cuda:0', grad_fn=<NllLossBackward0>),\n",
       " tensor(1.5623, device='cuda:0', grad_fn=<NllLossBackward0>),\n",
       " tensor(1.5626, device='cuda:0', grad_fn=<NllLossBackward0>),\n",
       " tensor(1.5623, device='cuda:0', grad_fn=<NllLossBackward0>),\n",
       " tensor(1.5626, device='cuda:0', grad_fn=<NllLossBackward0>),\n",
       " tensor(1.5623, device='cuda:0', grad_fn=<NllLossBackward0>),\n",
       " tensor(1.5627, device='cuda:0', grad_fn=<NllLossBackward0>),\n",
       " tensor(1.5624, device='cuda:0', grad_fn=<NllLossBackward0>),\n",
       " tensor(1.5627, device='cuda:0', grad_fn=<NllLossBackward0>)]"
      ]
     },
     "execution_count": 15,
     "metadata": {},
     "output_type": "execute_result"
    }
   ],
   "source": [
    "attacker.loss_list"
   ]
  },
  {
   "cell_type": "code",
   "execution_count": 16,
   "id": "73759427-78f3-4441-a470-964801fc2d80",
   "metadata": {},
   "outputs": [
    {
     "name": "stdout",
     "output_type": "stream",
     "text": [
      "Updated edge index: torch.Size([2, 12664])\n"
     ]
    }
   ],
   "source": [
    "new_data = handle_new_edges(data, attacker, device)"
   ]
  },
  {
   "cell_type": "code",
   "execution_count": 17,
   "id": "a18a441b-ee32-4c9e-acf6-4d977f2ae267",
   "metadata": {},
   "outputs": [
    {
     "name": "stdout",
     "output_type": "stream",
     "text": [
      "Loss: 0.6584149599075317, Acc: 0.793\n"
     ]
    }
   ],
   "source": [
    "loss, acc = train.test(new_data)\n",
    "print(f'Loss: {loss}, Acc: {acc}')"
   ]
  },
  {
   "cell_type": "code",
   "execution_count": 18,
   "id": "a0a2c8db-ecf0-446e-8600-4f3c7d8c6d04",
   "metadata": {},
   "outputs": [
    {
     "name": "stdout",
     "output_type": "stream",
     "text": [
      "Loss: 0.6534879207611084, Acc: 0.802\n"
     ]
    }
   ],
   "source": [
    "loss, acc = train.test(data)\n",
    "print(f'Loss: {loss}, Acc: {acc}')"
   ]
  },
  {
   "cell_type": "code",
   "execution_count": 19,
   "id": "f98e4584-cc42-40d9-bf2c-bf2848854c95",
   "metadata": {},
   "outputs": [],
   "source": [
    "model2 = GCN(data.x.shape[1], cora_dataset.num_classes, [64]).to(device)"
   ]
  },
  {
   "cell_type": "code",
   "execution_count": 20,
   "id": "dae1bcc8-0076-4a71-9ef7-4a235a938e2a",
   "metadata": {
    "scrolled": true
   },
   "outputs": [
    {
     "name": "stdout",
     "output_type": "stream",
     "text": [
      "Epoch 0, Train Loss - 1.9460113048553467, Val Loss - 1.848807692527771, Val Accuracy - 0.434\n",
      "Epoch 20, Train Loss - 0.2179020792245865, Val Loss - 1.0081311464309692, Val Accuracy - 0.65\n",
      "Epoch 40, Train Loss - 0.05260324478149414, Val Loss - 1.2403444051742554, Val Accuracy - 0.617\n",
      "Epoch 60, Train Loss - 0.05846146121621132, Val Loss - 1.2221503257751465, Val Accuracy - 0.619\n",
      "Epoch 80, Train Loss - 0.04941694810986519, Val Loss - 1.3108630180358887, Val Accuracy - 0.597\n",
      "Epoch 100, Train Loss - 0.04585389792919159, Val Loss - 1.3905452489852905, Val Accuracy - 0.589\n",
      "Epoch 120, Train Loss - 0.03984278440475464, Val Loss - 1.3938337564468384, Val Accuracy - 0.583\n",
      "Epoch 140, Train Loss - 0.04062098264694214, Val Loss - 1.4042916297912598, Val Accuracy - 0.592\n",
      "Epoch 160, Train Loss - 0.04401300847530365, Val Loss - 1.403091549873352, Val Accuracy - 0.599\n",
      "Epoch 180, Train Loss - 0.048639800399541855, Val Loss - 1.4306875467300415, Val Accuracy - 0.598\n",
      "Epoch 200, Train Loss - 0.03870876878499985, Val Loss - 1.4634348154067993, Val Accuracy - 0.58\n"
     ]
    }
   ],
   "source": [
    "model2.reset_parameters()\n",
    "train = Trainable(model2)\n",
    "train.fit(new_data, 200)"
   ]
  },
  {
   "cell_type": "markdown",
   "id": "0f224434-fc78-4869-9344-1511901788b6",
   "metadata": {},
   "source": [
    "# Meta Greedy Tests"
   ]
  },
  {
   "cell_type": "code",
   "execution_count": 8,
   "id": "d1159d2f-022d-49bc-bbdd-46caa5b3e1ab",
   "metadata": {},
   "outputs": [],
   "source": [
    "from greedy_gd import *"
   ]
  },
  {
   "cell_type": "code",
   "execution_count": 9,
   "id": "ed03f021-4973-408f-b319-3d2a9c500632",
   "metadata": {},
   "outputs": [],
   "source": [
    "device = 'cuda:1'"
   ]
  },
  {
   "cell_type": "code",
   "execution_count": 10,
   "id": "140a1630-dad3-4eeb-87cf-32860e04ab06",
   "metadata": {},
   "outputs": [],
   "source": [
    "attacker = Metattack(data, device=device)\n",
    "attacker.setup_surrogate(\n",
    "    model,\n",
    "    labeled_nodes=data.train_mask,\n",
    "    unlabeled_nodes=data.test_mask,\n",
    "    lambda_=0.5,\n",
    ")"
   ]
  },
  {
   "cell_type": "code",
   "execution_count": 11,
   "id": "b9eb3de3-25e7-47f8-8b8a-f577831563b9",
   "metadata": {},
   "outputs": [
    {
     "name": "stdout",
     "output_type": "stream",
     "text": [
      "CUDA Device Count: 4\n",
      "Device 0: NVIDIA H200\n",
      "Device 1: NVIDIA H200 MIG 1g.18gb\n",
      "Device 2: NVIDIA H200 MIG 1g.18gb\n",
      "Device 3: NVIDIA H200 MIG 1g.18gb\n"
     ]
    }
   ],
   "source": [
    "import torch\n",
    "\n",
    "# Number of GPUs visible to PyTorch\n",
    "print(\"CUDA Device Count:\", torch.cuda.device_count())\n",
    "\n",
    "# List all visible devices\n",
    "for i in range(torch.cuda.device_count()):\n",
    "    print(f\"Device {i}: {torch.cuda.get_device_name(i)}\")"
   ]
  },
  {
   "cell_type": "code",
   "execution_count": 12,
   "id": "2e216211-9983-49dc-bc05-6d12cdc4c20d",
   "metadata": {},
   "outputs": [
    {
     "data": {
      "application/vnd.jupyter.widget-view+json": {
       "model_id": "ad775b37b1d649f0b0ccb74e4dc1561a",
       "version_major": 2,
       "version_minor": 0
      },
      "text/plain": [
       "Peturbing graph...:   0%|          | 0/5278 [00:00<?, ?it/s]"
      ]
     },
     "metadata": {},
     "output_type": "display_data"
    },
    {
     "ename": "KeyboardInterrupt",
     "evalue": "",
     "output_type": "error",
     "traceback": [
      "\u001b[0;31m---------------------------------------------------------------------------\u001b[0m",
      "\u001b[0;31mKeyboardInterrupt\u001b[0m                         Traceback (most recent call last)",
      "Cell \u001b[0;32mIn[12], line 2\u001b[0m\n\u001b[1;32m      1\u001b[0m attacker\u001b[38;5;241m.\u001b[39mreset()\n\u001b[0;32m----> 2\u001b[0m \u001b[43mattacker\u001b[49m\u001b[38;5;241;43m.\u001b[39;49m\u001b[43mattack\u001b[49m\u001b[43m(\u001b[49m\u001b[38;5;241;43m1.00\u001b[39;49m\u001b[43m)\u001b[49m\n",
      "File \u001b[0;32m~/2-phase-attack/src/attacks/greedy_gd.py:250\u001b[0m, in \u001b[0;36mMetattack.attack\u001b[0;34m(self, num_budgets, structure_attack, feature_attack, disable, ll_cutoff)\u001b[0m\n\u001b[1;32m    247\u001b[0m adj_norm \u001b[38;5;241m=\u001b[39m \u001b[38;5;28mself\u001b[39m\u001b[38;5;241m.\u001b[39mdense_gcn_norm(modified_adj)\n\u001b[1;32m    248\u001b[0m \u001b[38;5;28mself\u001b[39m\u001b[38;5;241m.\u001b[39minner_train(adj_norm, modified_feat)\n\u001b[0;32m--> 250\u001b[0m adj_grad, feat_grad \u001b[38;5;241m=\u001b[39m \u001b[38;5;28;43mself\u001b[39;49m\u001b[38;5;241;43m.\u001b[39;49m\u001b[43mcompute_gradients\u001b[49m\u001b[43m(\u001b[49m\n\u001b[1;32m    251\u001b[0m \u001b[43m    \u001b[49m\u001b[43madj_norm\u001b[49m\u001b[43m,\u001b[49m\u001b[43m \u001b[49m\u001b[43mmodified_feat\u001b[49m\u001b[43m)\u001b[49m\n\u001b[1;32m    253\u001b[0m adj_grad_score \u001b[38;5;241m=\u001b[39m modified_adj\u001b[38;5;241m.\u001b[39mnew_zeros(\u001b[38;5;241m1\u001b[39m)\n\u001b[1;32m    254\u001b[0m feat_grad_score \u001b[38;5;241m=\u001b[39m modified_feat\u001b[38;5;241m.\u001b[39mnew_zeros(\u001b[38;5;241m1\u001b[39m)\n",
      "File \u001b[0;32m~/2-phase-attack/src/attacks/greedy_gd.py:369\u001b[0m, in \u001b[0;36mMetattack.compute_gradients\u001b[0;34m(self, modified_adj, modified_feat)\u001b[0m\n\u001b[1;32m    366\u001b[0m     \u001b[38;5;28;01mreturn\u001b[39;00m grad(loss, [\u001b[38;5;28mself\u001b[39m\u001b[38;5;241m.\u001b[39madj_changes, \u001b[38;5;28mself\u001b[39m\u001b[38;5;241m.\u001b[39mfeat_changes])\n\u001b[1;32m    368\u001b[0m \u001b[38;5;28;01mif\u001b[39;00m \u001b[38;5;28mself\u001b[39m\u001b[38;5;241m.\u001b[39mstructure_attack:\n\u001b[0;32m--> 369\u001b[0m     \u001b[38;5;28;01mreturn\u001b[39;00m \u001b[43mgrad\u001b[49m\u001b[43m(\u001b[49m\u001b[43mloss\u001b[49m\u001b[43m,\u001b[49m\u001b[43m \u001b[49m\u001b[38;5;28;43mself\u001b[39;49m\u001b[38;5;241;43m.\u001b[39;49m\u001b[43madj_changes\u001b[49m\u001b[43m)\u001b[49m[\u001b[38;5;241m0\u001b[39m], \u001b[38;5;28;01mNone\u001b[39;00m\n\u001b[1;32m    371\u001b[0m \u001b[38;5;28;01mif\u001b[39;00m \u001b[38;5;28mself\u001b[39m\u001b[38;5;241m.\u001b[39mfeature_attack:\n\u001b[1;32m    372\u001b[0m     \u001b[38;5;28;01mreturn\u001b[39;00m \u001b[38;5;28;01mNone\u001b[39;00m, grad(loss, \u001b[38;5;28mself\u001b[39m\u001b[38;5;241m.\u001b[39mfeat_changes)[\u001b[38;5;241m0\u001b[39m]\n",
      "File \u001b[0;32m~/miniconda3/envs/mindeye/lib/python3.10/site-packages/torch/autograd/__init__.py:394\u001b[0m, in \u001b[0;36mgrad\u001b[0;34m(outputs, inputs, grad_outputs, retain_graph, create_graph, only_inputs, allow_unused, is_grads_batched, materialize_grads)\u001b[0m\n\u001b[1;32m    390\u001b[0m     result \u001b[38;5;241m=\u001b[39m _vmap_internals\u001b[38;5;241m.\u001b[39m_vmap(vjp, \u001b[38;5;241m0\u001b[39m, \u001b[38;5;241m0\u001b[39m, allow_none_pass_through\u001b[38;5;241m=\u001b[39m\u001b[38;5;28;01mTrue\u001b[39;00m)(\n\u001b[1;32m    391\u001b[0m         grad_outputs_\n\u001b[1;32m    392\u001b[0m     )\n\u001b[1;32m    393\u001b[0m \u001b[38;5;28;01melse\u001b[39;00m:\n\u001b[0;32m--> 394\u001b[0m     result \u001b[38;5;241m=\u001b[39m \u001b[43mVariable\u001b[49m\u001b[38;5;241;43m.\u001b[39;49m\u001b[43m_execution_engine\u001b[49m\u001b[38;5;241;43m.\u001b[39;49m\u001b[43mrun_backward\u001b[49m\u001b[43m(\u001b[49m\u001b[43m  \u001b[49m\u001b[38;5;66;43;03m# Calls into the C++ engine to run the backward pass\u001b[39;49;00m\n\u001b[1;32m    395\u001b[0m \u001b[43m        \u001b[49m\u001b[43mt_outputs\u001b[49m\u001b[43m,\u001b[49m\n\u001b[1;32m    396\u001b[0m \u001b[43m        \u001b[49m\u001b[43mgrad_outputs_\u001b[49m\u001b[43m,\u001b[49m\n\u001b[1;32m    397\u001b[0m \u001b[43m        \u001b[49m\u001b[43mretain_graph\u001b[49m\u001b[43m,\u001b[49m\n\u001b[1;32m    398\u001b[0m \u001b[43m        \u001b[49m\u001b[43mcreate_graph\u001b[49m\u001b[43m,\u001b[49m\n\u001b[1;32m    399\u001b[0m \u001b[43m        \u001b[49m\u001b[43mt_inputs\u001b[49m\u001b[43m,\u001b[49m\n\u001b[1;32m    400\u001b[0m \u001b[43m        \u001b[49m\u001b[43mallow_unused\u001b[49m\u001b[43m,\u001b[49m\n\u001b[1;32m    401\u001b[0m \u001b[43m        \u001b[49m\u001b[43maccumulate_grad\u001b[49m\u001b[38;5;241;43m=\u001b[39;49m\u001b[38;5;28;43;01mFalse\u001b[39;49;00m\u001b[43m,\u001b[49m\n\u001b[1;32m    402\u001b[0m \u001b[43m    \u001b[49m\u001b[43m)\u001b[49m  \u001b[38;5;66;03m# Calls into the C++ engine to run the backward pass\u001b[39;00m\n\u001b[1;32m    403\u001b[0m \u001b[38;5;28;01mif\u001b[39;00m materialize_grads:\n\u001b[1;32m    404\u001b[0m     result \u001b[38;5;241m=\u001b[39m \u001b[38;5;28mtuple\u001b[39m(\n\u001b[1;32m    405\u001b[0m         output\n\u001b[1;32m    406\u001b[0m         \u001b[38;5;28;01mif\u001b[39;00m output \u001b[38;5;129;01mis\u001b[39;00m \u001b[38;5;129;01mnot\u001b[39;00m \u001b[38;5;28;01mNone\u001b[39;00m\n\u001b[1;32m    407\u001b[0m         \u001b[38;5;28;01melse\u001b[39;00m torch\u001b[38;5;241m.\u001b[39mzeros_like(\u001b[38;5;28minput\u001b[39m, requires_grad\u001b[38;5;241m=\u001b[39m\u001b[38;5;28;01mTrue\u001b[39;00m)\n\u001b[1;32m    408\u001b[0m         \u001b[38;5;28;01mfor\u001b[39;00m (output, \u001b[38;5;28minput\u001b[39m) \u001b[38;5;129;01min\u001b[39;00m \u001b[38;5;28mzip\u001b[39m(result, t_inputs)\n\u001b[1;32m    409\u001b[0m     )\n",
      "\u001b[0;31mKeyboardInterrupt\u001b[0m: "
     ]
    }
   ],
   "source": [
    "attacker.reset()\n",
    "attacker.attack(1.00)"
   ]
  },
  {
   "cell_type": "code",
   "execution_count": 10,
   "id": "91ae9068-e4ea-4a2c-b374-28c4322547fd",
   "metadata": {},
   "outputs": [
    {
     "name": "stdout",
     "output_type": "stream",
     "text": [
      "Updated edge index: torch.Size([2, 11078])\n"
     ]
    }
   ],
   "source": [
    "new_data = handle_new_edges(data, attacker, device)"
   ]
  },
  {
   "cell_type": "code",
   "execution_count": 11,
   "id": "6961d6bc-a529-40a5-8d68-57c3a332d749",
   "metadata": {},
   "outputs": [
    {
     "name": "stdout",
     "output_type": "stream",
     "text": [
      "Loss: 0.6588292121887207, Acc: 0.799\n"
     ]
    }
   ],
   "source": [
    "loss, acc = train.test(new_data)\n",
    "print(f'Loss: {loss}, Acc: {acc}')"
   ]
  },
  {
   "cell_type": "code",
   "execution_count": 12,
   "id": "29884e65-1259-4289-ae19-335d5b3e5be3",
   "metadata": {},
   "outputs": [
    {
     "name": "stdout",
     "output_type": "stream",
     "text": [
      "Loss: 0.6605153679847717, Acc: 0.8\n"
     ]
    }
   ],
   "source": [
    "loss, acc = train.test(data)\n",
    "print(f'Loss: {loss}, Acc: {acc}')"
   ]
  },
  {
   "cell_type": "code",
   "execution_count": 30,
   "id": "d0507038-5ccb-482e-8500-bc540140c65a",
   "metadata": {},
   "outputs": [],
   "source": [
    "model2 = GCN(data.x.shape[1], cora_dataset.num_classes, [64]).to(device)"
   ]
  },
  {
   "cell_type": "code",
   "execution_count": 31,
   "id": "83163b5c-1319-408c-8899-47b98bff762f",
   "metadata": {},
   "outputs": [
    {
     "name": "stdout",
     "output_type": "stream",
     "text": [
      "Epoch 0, Train Loss - 1.946224570274353, Val Loss - 1.8570330142974854, Val Accuracy - 0.325\n",
      "Epoch 20, Train Loss - 0.11124295741319656, Val Loss - 2.7840189933776855, Val Accuracy - 0.408\n",
      "Epoch 40, Train Loss - 0.04103148356080055, Val Loss - 3.818260908126831, Val Accuracy - 0.412\n",
      "Epoch 60, Train Loss - 0.03561371564865112, Val Loss - 3.7860445976257324, Val Accuracy - 0.411\n",
      "Epoch 80, Train Loss - 0.03578553348779678, Val Loss - 3.9414350986480713, Val Accuracy - 0.417\n",
      "Epoch 100, Train Loss - 0.035183899104595184, Val Loss - 4.1424689292907715, Val Accuracy - 0.407\n",
      "Epoch 120, Train Loss - 0.030303457751870155, Val Loss - 4.432448387145996, Val Accuracy - 0.401\n",
      "Epoch 140, Train Loss - 0.03577311709523201, Val Loss - 4.602138519287109, Val Accuracy - 0.399\n",
      "Epoch 160, Train Loss - 0.021818237379193306, Val Loss - 4.818694591522217, Val Accuracy - 0.405\n",
      "Epoch 180, Train Loss - 0.021507030352950096, Val Loss - 4.969539165496826, Val Accuracy - 0.405\n",
      "Epoch 200, Train Loss - 0.028842618688941002, Val Loss - 5.154062271118164, Val Accuracy - 0.402\n"
     ]
    }
   ],
   "source": [
    "model2.reset_parameters()\n",
    "train = Trainable(model2)\n",
    "train.fit(new_data, 200)"
   ]
  },
  {
   "cell_type": "code",
   "execution_count": null,
   "id": "386d34b5-c3a7-4272-a63c-b0832bda8227",
   "metadata": {},
   "outputs": [],
   "source": []
  }
 ],
 "metadata": {
  "kernelspec": {
   "display_name": "Python 3 (ipykernel)",
   "language": "python",
   "name": "python3"
  },
  "language_info": {
   "codemirror_mode": {
    "name": "ipython",
    "version": 3
   },
   "file_extension": ".py",
   "mimetype": "text/x-python",
   "name": "python",
   "nbconvert_exporter": "python",
   "pygments_lexer": "ipython3",
   "version": "3.9.18"
  }
 },
 "nbformat": 4,
 "nbformat_minor": 5
}
