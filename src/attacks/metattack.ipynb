{
 "cells": [
  {
   "cell_type": "code",
   "execution_count": 1,
   "id": "23e8f3cf-3bef-4e00-aadc-6516cfde3d18",
   "metadata": {},
   "outputs": [],
   "source": [
    "import sys\n",
    "from greedy_gd import *\n",
    "sys.path.append('../../src/')\n",
    "from utils.datasets import *\n",
    "from models.gcn import *\n",
    "from models.trainable import *"
   ]
  },
  {
   "cell_type": "code",
   "execution_count": 2,
   "id": "88fa87fa-f020-446c-8747-ea6fb9a72ed0",
   "metadata": {},
   "outputs": [],
   "source": [
    "device = torch.device('cuda' if torch.cuda.is_available() else 'cpu')"
   ]
  },
  {
   "cell_type": "code",
   "execution_count": 3,
   "id": "fdafde87-a22b-4bfc-b57d-e4620fdff9fd",
   "metadata": {},
   "outputs": [],
   "source": [
    "cora_dataset = Planetoid(root='/tmp/Cora', name='Cora')\n",
    "data = cora_dataset[0].to(device)"
   ]
  },
  {
   "cell_type": "code",
   "execution_count": 4,
   "id": "114a7300-faad-4587-961f-58e598dee0d3",
   "metadata": {},
   "outputs": [
    {
     "data": {
      "text/plain": [
       "Data(x=[2708, 1433], edge_index=[2, 10556], y=[2708], train_mask=[2708], val_mask=[2708], test_mask=[2708])"
      ]
     },
     "execution_count": 4,
     "metadata": {},
     "output_type": "execute_result"
    }
   ],
   "source": [
    "data"
   ]
  },
  {
   "cell_type": "code",
   "execution_count": 5,
   "id": "1b53c53c-b0de-44b4-82b7-b52275eedb1f",
   "metadata": {},
   "outputs": [],
   "source": [
    "model = GCN(data.x.shape[1], cora_dataset.num_classes, [16]).to(device)"
   ]
  },
  {
   "cell_type": "code",
   "execution_count": 6,
   "id": "eeb415aa-fcde-4071-bdcb-e801b5b114b3",
   "metadata": {},
   "outputs": [
    {
     "name": "stdout",
     "output_type": "stream",
     "text": [
      "Epoch 0, Train Loss - 5.478855609893799, Val Loss - 4.702391624450684, Val Accuracy - 0.148\n",
      "Epoch 20, Train Loss - 0.4100540578365326, Val Loss - 1.5207810401916504, Val Accuracy - 0.675\n",
      "Epoch 40, Train Loss - 0.19337578117847443, Val Loss - 2.0321872234344482, Val Accuracy - 0.707\n",
      "Epoch 60, Train Loss - 0.20138266682624817, Val Loss - 2.4971835613250732, Val Accuracy - 0.695\n",
      "Epoch 80, Train Loss - 0.1840072125196457, Val Loss - 1.74685537815094, Val Accuracy - 0.757\n",
      "Epoch 100, Train Loss - 0.07175112515687943, Val Loss - 2.2633869647979736, Val Accuracy - 0.742\n",
      "Epoch 120, Train Loss - 0.1489279866218567, Val Loss - 2.2969183921813965, Val Accuracy - 0.74\n",
      "Epoch 140, Train Loss - 0.06463632732629776, Val Loss - 2.1674234867095947, Val Accuracy - 0.75\n",
      "Epoch 160, Train Loss - 0.08632328361272812, Val Loss - 2.3993489742279053, Val Accuracy - 0.723\n",
      "Epoch 180, Train Loss - 0.07616014778614044, Val Loss - 2.177175283432007, Val Accuracy - 0.741\n",
      "Epoch 200, Train Loss - 0.060268327593803406, Val Loss - 2.3429248332977295, Val Accuracy - 0.743\n",
      "Epoch 220, Train Loss - 0.029938459396362305, Val Loss - 2.547259569168091, Val Accuracy - 0.74\n",
      "Epoch 240, Train Loss - 0.08211752027273178, Val Loss - 2.3642401695251465, Val Accuracy - 0.745\n",
      "Epoch 260, Train Loss - 0.08255688846111298, Val Loss - 2.2891902923583984, Val Accuracy - 0.752\n",
      "Epoch 280, Train Loss - 0.05399291589856148, Val Loss - 2.3916358947753906, Val Accuracy - 0.747\n",
      "Epoch 300, Train Loss - 0.042190246284008026, Val Loss - 2.761373519897461, Val Accuracy - 0.725\n",
      "Epoch 320, Train Loss - 0.03115861490368843, Val Loss - 2.8318660259246826, Val Accuracy - 0.731\n",
      "Epoch 340, Train Loss - 0.038536109030246735, Val Loss - 2.0872364044189453, Val Accuracy - 0.753\n",
      "Epoch 360, Train Loss - 0.014498126693069935, Val Loss - 2.5154595375061035, Val Accuracy - 0.739\n",
      "Epoch 380, Train Loss - 0.07556864619255066, Val Loss - 2.9653754234313965, Val Accuracy - 0.738\n",
      "Epoch 400, Train Loss - 0.054854266345500946, Val Loss - 3.0094966888427734, Val Accuracy - 0.73\n",
      "Epoch 420, Train Loss - 0.077255018055439, Val Loss - 2.2356600761413574, Val Accuracy - 0.715\n",
      "Epoch 440, Train Loss - 0.05244117230176926, Val Loss - 2.4916434288024902, Val Accuracy - 0.729\n",
      "Epoch 460, Train Loss - 0.03305603563785553, Val Loss - 2.662269115447998, Val Accuracy - 0.725\n",
      "Epoch 480, Train Loss - 0.042626120150089264, Val Loss - 2.8477847576141357, Val Accuracy - 0.727\n",
      "Epoch 500, Train Loss - 0.04959471896290779, Val Loss - 2.7113866806030273, Val Accuracy - 0.727\n"
     ]
    }
   ],
   "source": [
    "model.reset_parameters()\n",
    "train = Trainable(model)\n",
    "train.fit(data, 500)"
   ]
  },
  {
   "cell_type": "code",
   "execution_count": 7,
   "id": "be82f13a-aa40-45eb-8b54-fa1a764993fc",
   "metadata": {},
   "outputs": [
    {
     "data": {
      "text/plain": [
       "tensor([[   0,    0,    0,  ..., 2707, 2707, 2707],\n",
       "        [ 633, 1862, 2582,  ...,  598, 1473, 2706]], device='cuda:0')"
      ]
     },
     "execution_count": 7,
     "metadata": {},
     "output_type": "execute_result"
    }
   ],
   "source": [
    "data.edge_index"
   ]
  },
  {
   "cell_type": "code",
   "execution_count": 8,
   "id": "b1fec496-e4e5-4834-9d9e-0c96051d8d9c",
   "metadata": {},
   "outputs": [],
   "source": [
    "attacker = Metattack(data, device=device)"
   ]
  },
  {
   "cell_type": "code",
   "execution_count": 9,
   "id": "fadf8178-4616-4055-8d82-72a1c3778131",
   "metadata": {},
   "outputs": [],
   "source": [
    "attacker.setup_surrogate(model,\n",
    "                         labeled_nodes=data.train_mask,\n",
    "                         unlabeled_nodes=data.test_mask, lambda_=0.)"
   ]
  },
  {
   "cell_type": "code",
   "execution_count": 10,
   "id": "d6300fcc-fa8b-46ba-b625-9f9b5ad83311",
   "metadata": {},
   "outputs": [
    {
     "data": {
      "application/vnd.jupyter.widget-view+json": {
       "model_id": "ecd519dde713440599b5abc00b52897b",
       "version_major": 2,
       "version_minor": 0
      },
      "text/plain": [
       "Peturbing graph...:   0%|          | 0/527 [00:00<?, ?it/s]"
      ]
     },
     "metadata": {},
     "output_type": "display_data"
    },
    {
     "data": {
      "text/plain": [
       "Metattack(\n",
       "  (surrogate): GCN(\n",
       "    (conv): ModuleList(\n",
       "      (0): GCNConv()\n",
       "      (1): ReLU()\n",
       "      (2): Dropout(p=0.5, inplace=False)\n",
       "      (3): GCNConv()\n",
       "    )\n",
       "  )\n",
       ")"
      ]
     },
     "execution_count": 10,
     "metadata": {},
     "output_type": "execute_result"
    }
   ],
   "source": [
    "attacker.reset()\n",
    "attacker.attack(0.1)"
   ]
  },
  {
   "cell_type": "code",
   "execution_count": 11,
   "id": "07afcfac-6524-4678-986c-a1073ce8aef4",
   "metadata": {},
   "outputs": [
    {
     "name": "stdout",
     "output_type": "stream",
     "text": [
      "torch.Size([2, 11592])\n"
     ]
    }
   ],
   "source": [
    "new_data = handle_new_edges(data, attacker, device)"
   ]
  },
  {
   "cell_type": "code",
   "execution_count": 12,
   "id": "506e569b-58a7-499c-99bf-97692dfc77d1",
   "metadata": {},
   "outputs": [
    {
     "name": "stdout",
     "output_type": "stream",
     "text": [
      "Loss: 3.3026821613311768, Acc: 0.71\n"
     ]
    }
   ],
   "source": [
    "loss, acc = train.test(new_data)\n",
    "print(f'Loss: {loss}, Acc: {acc}')"
   ]
  },
  {
   "cell_type": "code",
   "execution_count": 15,
   "id": "1b65f6b4-2c22-4956-ab5c-74caf821ef5b",
   "metadata": {},
   "outputs": [
    {
     "name": "stdout",
     "output_type": "stream",
     "text": [
      "Epoch 0, Train Loss - 5.352356433868408, Val Loss - 5.4662699699401855, Val Accuracy - 0.176\n",
      "Epoch 20, Train Loss - 1.2599878311157227, Val Loss - 2.112591505050659, Val Accuracy - 0.483\n",
      "Epoch 40, Train Loss - 0.8465968370437622, Val Loss - 2.542515516281128, Val Accuracy - 0.559\n",
      "Epoch 60, Train Loss - 0.5768699645996094, Val Loss - 3.0360071659088135, Val Accuracy - 0.563\n",
      "Epoch 80, Train Loss - 0.29088255763053894, Val Loss - 2.876858711242676, Val Accuracy - 0.589\n",
      "Epoch 100, Train Loss - 0.19641634821891785, Val Loss - 2.9545750617980957, Val Accuracy - 0.58\n",
      "Epoch 120, Train Loss - 0.16808176040649414, Val Loss - 3.40596866607666, Val Accuracy - 0.59\n",
      "Epoch 140, Train Loss - 0.08979274332523346, Val Loss - 3.5005459785461426, Val Accuracy - 0.574\n",
      "Epoch 160, Train Loss - 0.10731571167707443, Val Loss - 3.7003884315490723, Val Accuracy - 0.593\n",
      "Epoch 180, Train Loss - 0.10311038047075272, Val Loss - 3.7477071285247803, Val Accuracy - 0.593\n",
      "Epoch 200, Train Loss - 0.07701707631349564, Val Loss - 3.795413017272949, Val Accuracy - 0.599\n",
      "Epoch 220, Train Loss - 0.0717143639922142, Val Loss - 4.111926555633545, Val Accuracy - 0.592\n",
      "Epoch 240, Train Loss - 0.0419456772506237, Val Loss - 3.427978992462158, Val Accuracy - 0.603\n",
      "Epoch 260, Train Loss - 0.03410464525222778, Val Loss - 4.01891565322876, Val Accuracy - 0.602\n",
      "Epoch 280, Train Loss - 0.034355685114860535, Val Loss - 3.945262908935547, Val Accuracy - 0.6\n",
      "Epoch 300, Train Loss - 0.06831526756286621, Val Loss - 3.895754337310791, Val Accuracy - 0.607\n",
      "Epoch 320, Train Loss - 0.058881133794784546, Val Loss - 3.5462100505828857, Val Accuracy - 0.612\n",
      "Epoch 340, Train Loss - 0.04361291602253914, Val Loss - 3.9451119899749756, Val Accuracy - 0.606\n",
      "Epoch 360, Train Loss - 0.041915711015462875, Val Loss - 4.214870452880859, Val Accuracy - 0.612\n",
      "Epoch 380, Train Loss - 0.06637407094240189, Val Loss - 4.22703218460083, Val Accuracy - 0.603\n",
      "Epoch 400, Train Loss - 0.008135035634040833, Val Loss - 3.7353410720825195, Val Accuracy - 0.603\n",
      "Epoch 420, Train Loss - 0.03475061431527138, Val Loss - 3.9479851722717285, Val Accuracy - 0.604\n",
      "Epoch 440, Train Loss - 0.036538418382406235, Val Loss - 4.094483375549316, Val Accuracy - 0.606\n",
      "Epoch 460, Train Loss - 0.13462325930595398, Val Loss - 4.021929740905762, Val Accuracy - 0.611\n",
      "Epoch 480, Train Loss - 0.033090535551309586, Val Loss - 3.702544927597046, Val Accuracy - 0.593\n",
      "Epoch 500, Train Loss - 0.03821801394224167, Val Loss - 3.971081256866455, Val Accuracy - 0.606\n"
     ]
    }
   ],
   "source": [
    "trainer_poison = Trainable(GCN(data.x.shape[1], cora_dataset.num_classes, [16]).to(device))\n",
    "trainer_poison.fit(new_data, 500)"
   ]
  },
  {
   "cell_type": "code",
   "execution_count": 14,
   "id": "4c2e732d-c233-4275-8a55-598ef8b56d19",
   "metadata": {},
   "outputs": [
    {
     "name": "stdout",
     "output_type": "stream",
     "text": [
      "Loss: 3.2340550422668457, Acc: 0.594\n"
     ]
    }
   ],
   "source": [
    "loss, acc = trainer_poison.test(new_data)\n",
    "print(f'Loss: {loss}, Acc: {acc}')"
   ]
  }
 ],
 "metadata": {
  "kernelspec": {
   "display_name": "Python 3 (ipykernel)",
   "language": "python",
   "name": "python3"
  },
  "language_info": {
   "codemirror_mode": {
    "name": "ipython",
    "version": 3
   },
   "file_extension": ".py",
   "mimetype": "text/x-python",
   "name": "python",
   "nbconvert_exporter": "python",
   "pygments_lexer": "ipython3",
   "version": "3.8.18"
  }
 },
 "nbformat": 4,
 "nbformat_minor": 5
}
