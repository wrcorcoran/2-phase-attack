{
 "cells": [
  {
   "cell_type": "code",
   "execution_count": 1,
   "id": "23e8f3cf-3bef-4e00-aadc-6516cfde3d18",
   "metadata": {},
   "outputs": [],
   "source": [
    "import sys\n",
    "from greedy_gd import *\n",
    "sys.path.append('../../src/')\n",
    "from utils.datasets import *\n",
    "from models.gcn import *\n",
    "from models.trainable import *"
   ]
  },
  {
   "cell_type": "code",
   "execution_count": 2,
   "id": "88fa87fa-f020-446c-8747-ea6fb9a72ed0",
   "metadata": {},
   "outputs": [],
   "source": [
    "device = torch.device('cuda' if torch.cuda.is_available() else 'cpu')"
   ]
  },
  {
   "cell_type": "code",
   "execution_count": 3,
   "id": "fdafde87-a22b-4bfc-b57d-e4620fdff9fd",
   "metadata": {},
   "outputs": [],
   "source": [
    "cora_dataset = Planetoid(root='/tmp/Cora', name='Cora')\n",
    "data = cora_dataset[0].to(device)"
   ]
  },
  {
   "cell_type": "code",
   "execution_count": 4,
   "id": "114a7300-faad-4587-961f-58e598dee0d3",
   "metadata": {},
   "outputs": [
    {
     "data": {
      "text/plain": [
       "Data(x=[2708, 1433], edge_index=[2, 10556], y=[2708], train_mask=[2708], val_mask=[2708], test_mask=[2708])"
      ]
     },
     "execution_count": 4,
     "metadata": {},
     "output_type": "execute_result"
    }
   ],
   "source": [
    "data"
   ]
  },
  {
   "cell_type": "code",
   "execution_count": 5,
   "id": "1b53c53c-b0de-44b4-82b7-b52275eedb1f",
   "metadata": {},
   "outputs": [],
   "source": [
    "model = GCN(data.x.shape[1], cora_dataset.num_classes, [16]).to(device)"
   ]
  },
  {
   "cell_type": "code",
   "execution_count": 6,
   "id": "eeb415aa-fcde-4071-bdcb-e801b5b114b3",
   "metadata": {},
   "outputs": [
    {
     "name": "stdout",
     "output_type": "stream",
     "text": [
      "Epoch 0, Train Loss - 4.637295722961426, Val Loss - 2.314457654953003, Val Accuracy - 0.246\n",
      "Epoch 20, Train Loss - 0.6201252937316895, Val Loss - 1.2113299369812012, Val Accuracy - 0.643\n",
      "Epoch 40, Train Loss - 0.2878643274307251, Val Loss - 1.19075608253479, Val Accuracy - 0.755\n",
      "Epoch 60, Train Loss - 0.12992607057094574, Val Loss - 1.7180954217910767, Val Accuracy - 0.746\n",
      "Epoch 80, Train Loss - 0.15639245510101318, Val Loss - 1.5200910568237305, Val Accuracy - 0.761\n",
      "Epoch 100, Train Loss - 0.06581344455480576, Val Loss - 1.92869234085083, Val Accuracy - 0.743\n",
      "Epoch 120, Train Loss - 0.10606756806373596, Val Loss - 1.9283720254898071, Val Accuracy - 0.742\n",
      "Epoch 140, Train Loss - 0.09140774607658386, Val Loss - 1.8906110525131226, Val Accuracy - 0.738\n",
      "Epoch 160, Train Loss - 0.036504678428173065, Val Loss - 2.0055768489837646, Val Accuracy - 0.759\n",
      "Epoch 180, Train Loss - 0.08692602068185806, Val Loss - 1.8264003992080688, Val Accuracy - 0.774\n",
      "Epoch 200, Train Loss - 0.05655069649219513, Val Loss - 2.0515835285186768, Val Accuracy - 0.772\n",
      "Epoch 220, Train Loss - 0.12235716730356216, Val Loss - 2.043562173843384, Val Accuracy - 0.764\n",
      "Epoch 240, Train Loss - 0.02391926571726799, Val Loss - 2.1163508892059326, Val Accuracy - 0.77\n",
      "Epoch 260, Train Loss - 0.059041041880846024, Val Loss - 2.1217119693756104, Val Accuracy - 0.748\n",
      "Epoch 280, Train Loss - 0.08316121250391006, Val Loss - 2.0992140769958496, Val Accuracy - 0.74\n",
      "Epoch 300, Train Loss - 0.03287896141409874, Val Loss - 1.786361813545227, Val Accuracy - 0.756\n",
      "Epoch 320, Train Loss - 0.07248128950595856, Val Loss - 2.0421528816223145, Val Accuracy - 0.742\n",
      "Epoch 340, Train Loss - 0.010228686034679413, Val Loss - 2.100306510925293, Val Accuracy - 0.765\n",
      "Epoch 360, Train Loss - 0.02106526494026184, Val Loss - 2.390305995941162, Val Accuracy - 0.768\n",
      "Epoch 380, Train Loss - 0.08992279320955276, Val Loss - 2.0783302783966064, Val Accuracy - 0.779\n",
      "Epoch 400, Train Loss - 0.03066455014050007, Val Loss - 2.269378185272217, Val Accuracy - 0.768\n",
      "Epoch 420, Train Loss - 0.057026565074920654, Val Loss - 2.5753676891326904, Val Accuracy - 0.762\n",
      "Epoch 440, Train Loss - 0.03416961804032326, Val Loss - 2.3323707580566406, Val Accuracy - 0.769\n",
      "Epoch 460, Train Loss - 0.017148206010460854, Val Loss - 2.2955429553985596, Val Accuracy - 0.754\n",
      "Epoch 480, Train Loss - 0.06498578935861588, Val Loss - 2.3588199615478516, Val Accuracy - 0.758\n",
      "Epoch 500, Train Loss - 0.04518866911530495, Val Loss - 2.563220977783203, Val Accuracy - 0.75\n"
     ]
    }
   ],
   "source": [
    "model.reset_parameters()\n",
    "train = Trainable(model)\n",
    "train.fit(data, 500)"
   ]
  },
  {
   "cell_type": "code",
   "execution_count": 7,
   "id": "be82f13a-aa40-45eb-8b54-fa1a764993fc",
   "metadata": {},
   "outputs": [
    {
     "data": {
      "text/plain": [
       "tensor([[   0,    0,    0,  ..., 2707, 2707, 2707],\n",
       "        [ 633, 1862, 2582,  ...,  598, 1473, 2706]], device='cuda:0')"
      ]
     },
     "execution_count": 7,
     "metadata": {},
     "output_type": "execute_result"
    }
   ],
   "source": [
    "data.edge_index"
   ]
  },
  {
   "cell_type": "code",
   "execution_count": 8,
   "id": "b1fec496-e4e5-4834-9d9e-0c96051d8d9c",
   "metadata": {},
   "outputs": [],
   "source": [
    "attacker = Metattack(data, device=device)"
   ]
  },
  {
   "cell_type": "code",
   "execution_count": 9,
   "id": "fadf8178-4616-4055-8d82-72a1c3778131",
   "metadata": {},
   "outputs": [],
   "source": [
    "attacker.setup_surrogate(model,\n",
    "                         labeled_nodes=data.train_mask,\n",
    "                         unlabeled_nodes=data.test_mask, lambda_=0.)"
   ]
  },
  {
   "cell_type": "code",
   "execution_count": 10,
   "id": "d6300fcc-fa8b-46ba-b625-9f9b5ad83311",
   "metadata": {},
   "outputs": [
    {
     "data": {
      "application/vnd.jupyter.widget-view+json": {
       "model_id": "d0c26988b37a4b5e84e2b5d668acadfd",
       "version_major": 2,
       "version_minor": 0
      },
      "text/plain": [
       "Peturbing graph...:   0%|          | 0/527 [00:00<?, ?it/s]"
      ]
     },
     "metadata": {},
     "output_type": "display_data"
    },
    {
     "name": "stdout",
     "output_type": "stream",
     "text": [
      "tensor(0.0971, device='cuda:0') tensor(156766, device='cuda:0')\n",
      "max weight: 0.0\n",
      "tensor(0.0801, device='cuda:0') tensor(64539, device='cuda:0')\n",
      "max weight: 0.0\n",
      "tensor(0.0730, device='cuda:0') tensor(20547, device='cuda:0')\n",
      "max weight: 0.0\n",
      "tensor(0.0719, device='cuda:0') tensor(135109, device='cuda:0')\n",
      "max weight: 0.0\n",
      "tensor(0.0784, device='cuda:0') tensor(11332, device='cuda:0')\n",
      "max weight: 0.0\n",
      "tensor(0.0778, device='cuda:0') tensor(313932, device='cuda:0')\n",
      "max weight: 0.0\n",
      "tensor(0.0728, device='cuda:0') tensor(64981, device='cuda:0')\n",
      "max weight: 0.0\n",
      "tensor(0.0771, device='cuda:0') tensor(36163, device='cuda:0')\n",
      "max weight: 0.0\n",
      "tensor(0.0777, device='cuda:0') tensor(75955, device='cuda:0')\n",
      "max weight: 0.0\n",
      "tensor(0.0846, device='cuda:0') tensor(64797, device='cuda:0')\n",
      "max weight: 0.0\n",
      "tensor(0.0757, device='cuda:0') tensor(357350, device='cuda:0')\n",
      "max weight: 0.0\n",
      "tensor(0.0633, device='cuda:0') tensor(59279, device='cuda:0')\n",
      "max weight: 0.0\n",
      "tensor(0.0636, device='cuda:0') tensor(370891, device='cuda:0')\n",
      "max weight: 0.0\n",
      "tensor(0.0592, device='cuda:0') tensor(355070, device='cuda:0')\n",
      "max weight: 0.0\n",
      "tensor(0.0494, device='cuda:0') tensor(63448, device='cuda:0')\n",
      "max weight: 0.0\n",
      "tensor(0.0454, device='cuda:0') tensor(62415, device='cuda:0')\n",
      "max weight: 0.0\n",
      "tensor(0.0522, device='cuda:0') tensor(54045, device='cuda:0')\n",
      "max weight: 0.0\n",
      "tensor(0.0517, device='cuda:0') tensor(148374, device='cuda:0')\n",
      "max weight: 0.0\n",
      "tensor(0.0631, device='cuda:0') tensor(146419, device='cuda:0')\n",
      "max weight: 0.0\n",
      "tensor(0.0511, device='cuda:0') tensor(206055, device='cuda:0')\n",
      "max weight: 0.0\n",
      "tensor(0.0516, device='cuda:0') tensor(63594, device='cuda:0')\n",
      "max weight: 0.0\n"
     ]
    },
    {
     "ename": "KeyboardInterrupt",
     "evalue": "",
     "output_type": "error",
     "traceback": [
      "\u001b[0;31m---------------------------------------------------------------------------\u001b[0m",
      "\u001b[0;31mKeyboardInterrupt\u001b[0m                         Traceback (most recent call last)",
      "Cell \u001b[0;32mIn[10], line 2\u001b[0m\n\u001b[1;32m      1\u001b[0m attacker\u001b[38;5;241m.\u001b[39mreset()\n\u001b[0;32m----> 2\u001b[0m \u001b[43mattacker\u001b[49m\u001b[38;5;241;43m.\u001b[39;49m\u001b[43mattack\u001b[49m\u001b[43m(\u001b[49m\u001b[38;5;241;43m0.1\u001b[39;49m\u001b[43m)\u001b[49m\n",
      "File \u001b[0;32m~/research/2-phase-attack/src/attacks/greedy_gd.py:241\u001b[0m, in \u001b[0;36mMetattack.attack\u001b[0;34m(self, num_budgets, structure_attack, feature_attack, disable)\u001b[0m\n\u001b[1;32m    238\u001b[0m adj_max, adj_argmax \u001b[38;5;241m=\u001b[39m torch\u001b[38;5;241m.\u001b[39mmax(adj_grad_score, dim\u001b[38;5;241m=\u001b[39m\u001b[38;5;241m0\u001b[39m)\n\u001b[1;32m    239\u001b[0m feat_max, feat_argmax \u001b[38;5;241m=\u001b[39m torch\u001b[38;5;241m.\u001b[39mmax(feat_grad_score, dim\u001b[38;5;241m=\u001b[39m\u001b[38;5;241m0\u001b[39m)\n\u001b[0;32m--> 241\u001b[0m \u001b[38;5;28;43mprint\u001b[39;49m\u001b[43m(\u001b[49m\u001b[43madj_max\u001b[49m\u001b[43m,\u001b[49m\u001b[43m \u001b[49m\u001b[43madj_argmax\u001b[49m\u001b[43m)\u001b[49m\n\u001b[1;32m    243\u001b[0m \u001b[38;5;28;01mif\u001b[39;00m adj_max \u001b[38;5;241m>\u001b[39m\u001b[38;5;241m=\u001b[39m feat_max:\n\u001b[1;32m    244\u001b[0m     u, v \u001b[38;5;241m=\u001b[39m \u001b[38;5;28mdivmod\u001b[39m(adj_argmax\u001b[38;5;241m.\u001b[39mitem(), num_nodes)\n",
      "File \u001b[0;32m~/anaconda3/envs/mesp/lib/python3.8/site-packages/torch/_tensor.py:426\u001b[0m, in \u001b[0;36mTensor.__repr__\u001b[0;34m(self, tensor_contents)\u001b[0m\n\u001b[1;32m    422\u001b[0m     \u001b[38;5;28;01mreturn\u001b[39;00m handle_torch_function(\n\u001b[1;32m    423\u001b[0m         Tensor\u001b[38;5;241m.\u001b[39m\u001b[38;5;21m__repr__\u001b[39m, (\u001b[38;5;28mself\u001b[39m,), \u001b[38;5;28mself\u001b[39m, tensor_contents\u001b[38;5;241m=\u001b[39mtensor_contents\n\u001b[1;32m    424\u001b[0m     )\n\u001b[1;32m    425\u001b[0m \u001b[38;5;66;03m# All strings are unicode in Python 3.\u001b[39;00m\n\u001b[0;32m--> 426\u001b[0m \u001b[38;5;28;01mreturn\u001b[39;00m \u001b[43mtorch\u001b[49m\u001b[38;5;241;43m.\u001b[39;49m\u001b[43m_tensor_str\u001b[49m\u001b[38;5;241;43m.\u001b[39;49m\u001b[43m_str\u001b[49m\u001b[43m(\u001b[49m\u001b[38;5;28;43mself\u001b[39;49m\u001b[43m,\u001b[49m\u001b[43m \u001b[49m\u001b[43mtensor_contents\u001b[49m\u001b[38;5;241;43m=\u001b[39;49m\u001b[43mtensor_contents\u001b[49m\u001b[43m)\u001b[49m\n",
      "File \u001b[0;32m~/anaconda3/envs/mesp/lib/python3.8/site-packages/torch/_tensor_str.py:636\u001b[0m, in \u001b[0;36m_str\u001b[0;34m(self, tensor_contents)\u001b[0m\n\u001b[1;32m    634\u001b[0m \u001b[38;5;28;01mwith\u001b[39;00m torch\u001b[38;5;241m.\u001b[39mno_grad(), torch\u001b[38;5;241m.\u001b[39mutils\u001b[38;5;241m.\u001b[39m_python_dispatch\u001b[38;5;241m.\u001b[39m_disable_current_modes():\n\u001b[1;32m    635\u001b[0m     guard \u001b[38;5;241m=\u001b[39m torch\u001b[38;5;241m.\u001b[39m_C\u001b[38;5;241m.\u001b[39m_DisableFuncTorch()\n\u001b[0;32m--> 636\u001b[0m     \u001b[38;5;28;01mreturn\u001b[39;00m \u001b[43m_str_intern\u001b[49m\u001b[43m(\u001b[49m\u001b[38;5;28;43mself\u001b[39;49m\u001b[43m,\u001b[49m\u001b[43m \u001b[49m\u001b[43mtensor_contents\u001b[49m\u001b[38;5;241;43m=\u001b[39;49m\u001b[43mtensor_contents\u001b[49m\u001b[43m)\u001b[49m\n",
      "File \u001b[0;32m~/anaconda3/envs/mesp/lib/python3.8/site-packages/torch/_tensor_str.py:567\u001b[0m, in \u001b[0;36m_str_intern\u001b[0;34m(inp, tensor_contents)\u001b[0m\n\u001b[1;32m    565\u001b[0m                     tensor_str \u001b[38;5;241m=\u001b[39m _tensor_str(\u001b[38;5;28mself\u001b[39m\u001b[38;5;241m.\u001b[39mto_dense(), indent)\n\u001b[1;32m    566\u001b[0m                 \u001b[38;5;28;01melse\u001b[39;00m:\n\u001b[0;32m--> 567\u001b[0m                     tensor_str \u001b[38;5;241m=\u001b[39m \u001b[43m_tensor_str\u001b[49m\u001b[43m(\u001b[49m\u001b[38;5;28;43mself\u001b[39;49m\u001b[43m,\u001b[49m\u001b[43m \u001b[49m\u001b[43mindent\u001b[49m\u001b[43m)\u001b[49m\n\u001b[1;32m    569\u001b[0m \u001b[38;5;28;01mif\u001b[39;00m \u001b[38;5;28mself\u001b[39m\u001b[38;5;241m.\u001b[39mlayout \u001b[38;5;241m!=\u001b[39m torch\u001b[38;5;241m.\u001b[39mstrided:\n\u001b[1;32m    570\u001b[0m     suffixes\u001b[38;5;241m.\u001b[39mappend(\u001b[38;5;124m\"\u001b[39m\u001b[38;5;124mlayout=\u001b[39m\u001b[38;5;124m\"\u001b[39m \u001b[38;5;241m+\u001b[39m \u001b[38;5;28mstr\u001b[39m(\u001b[38;5;28mself\u001b[39m\u001b[38;5;241m.\u001b[39mlayout))\n",
      "File \u001b[0;32m~/anaconda3/envs/mesp/lib/python3.8/site-packages/torch/_tensor_str.py:327\u001b[0m, in \u001b[0;36m_tensor_str\u001b[0;34m(self, indent)\u001b[0m\n\u001b[1;32m    323\u001b[0m     \u001b[38;5;28;01mreturn\u001b[39;00m _tensor_str_with_formatter(\n\u001b[1;32m    324\u001b[0m         \u001b[38;5;28mself\u001b[39m, indent, summarize, real_formatter, imag_formatter\n\u001b[1;32m    325\u001b[0m     )\n\u001b[1;32m    326\u001b[0m \u001b[38;5;28;01melse\u001b[39;00m:\n\u001b[0;32m--> 327\u001b[0m     formatter \u001b[38;5;241m=\u001b[39m \u001b[43m_Formatter\u001b[49m\u001b[43m(\u001b[49m\u001b[43mget_summarized_data\u001b[49m\u001b[43m(\u001b[49m\u001b[38;5;28;43mself\u001b[39;49m\u001b[43m)\u001b[49m\u001b[43m \u001b[49m\u001b[38;5;28;43;01mif\u001b[39;49;00m\u001b[43m \u001b[49m\u001b[43msummarize\u001b[49m\u001b[43m \u001b[49m\u001b[38;5;28;43;01melse\u001b[39;49;00m\u001b[43m \u001b[49m\u001b[38;5;28;43mself\u001b[39;49m\u001b[43m)\u001b[49m\n\u001b[1;32m    328\u001b[0m     \u001b[38;5;28;01mreturn\u001b[39;00m _tensor_str_with_formatter(\u001b[38;5;28mself\u001b[39m, indent, summarize, formatter)\n",
      "File \u001b[0;32m~/anaconda3/envs/mesp/lib/python3.8/site-packages/torch/_tensor_str.py:115\u001b[0m, in \u001b[0;36m_Formatter.__init__\u001b[0;34m(self, tensor)\u001b[0m\n\u001b[1;32m    112\u001b[0m         \u001b[38;5;28mself\u001b[39m\u001b[38;5;241m.\u001b[39mmax_width \u001b[38;5;241m=\u001b[39m \u001b[38;5;28mmax\u001b[39m(\u001b[38;5;28mself\u001b[39m\u001b[38;5;241m.\u001b[39mmax_width, \u001b[38;5;28mlen\u001b[39m(value_str))\n\u001b[1;32m    114\u001b[0m \u001b[38;5;28;01melse\u001b[39;00m:\n\u001b[0;32m--> 115\u001b[0m     nonzero_finite_vals \u001b[38;5;241m=\u001b[39m \u001b[43mtorch\u001b[49m\u001b[38;5;241;43m.\u001b[39;49m\u001b[43mmasked_select\u001b[49m\u001b[43m(\u001b[49m\n\u001b[1;32m    116\u001b[0m \u001b[43m        \u001b[49m\u001b[43mtensor_view\u001b[49m\u001b[43m,\u001b[49m\u001b[43m \u001b[49m\u001b[43mtorch\u001b[49m\u001b[38;5;241;43m.\u001b[39;49m\u001b[43misfinite\u001b[49m\u001b[43m(\u001b[49m\u001b[43mtensor_view\u001b[49m\u001b[43m)\u001b[49m\u001b[43m \u001b[49m\u001b[38;5;241;43m&\u001b[39;49m\u001b[43m \u001b[49m\u001b[43mtensor_view\u001b[49m\u001b[38;5;241;43m.\u001b[39;49m\u001b[43mne\u001b[49m\u001b[43m(\u001b[49m\u001b[38;5;241;43m0\u001b[39;49m\u001b[43m)\u001b[49m\n\u001b[1;32m    117\u001b[0m \u001b[43m    \u001b[49m\u001b[43m)\u001b[49m\n\u001b[1;32m    119\u001b[0m     \u001b[38;5;28;01mif\u001b[39;00m nonzero_finite_vals\u001b[38;5;241m.\u001b[39mnumel() \u001b[38;5;241m==\u001b[39m \u001b[38;5;241m0\u001b[39m:\n\u001b[1;32m    120\u001b[0m         \u001b[38;5;66;03m# no valid number, do nothing\u001b[39;00m\n\u001b[1;32m    121\u001b[0m         \u001b[38;5;28;01mreturn\u001b[39;00m\n",
      "\u001b[0;31mKeyboardInterrupt\u001b[0m: "
     ]
    }
   ],
   "source": [
    "attacker.reset()\n",
    "attacker.attack(0.1)"
   ]
  },
  {
   "cell_type": "code",
   "execution_count": 11,
   "id": "07afcfac-6524-4678-986c-a1073ce8aef4",
   "metadata": {},
   "outputs": [
    {
     "name": "stdout",
     "output_type": "stream",
     "text": [
      "torch.Size([2, 11592])\n"
     ]
    }
   ],
   "source": [
    "new_data = handle_new_edges(data, attacker, device)"
   ]
  },
  {
   "cell_type": "code",
   "execution_count": 12,
   "id": "506e569b-58a7-499c-99bf-97692dfc77d1",
   "metadata": {},
   "outputs": [
    {
     "name": "stdout",
     "output_type": "stream",
     "text": [
      "Loss: 3.3026821613311768, Acc: 0.71\n"
     ]
    }
   ],
   "source": [
    "loss, acc = train.test(new_data)\n",
    "print(f'Loss: {loss}, Acc: {acc}')"
   ]
  },
  {
   "cell_type": "code",
   "execution_count": 15,
   "id": "1b65f6b4-2c22-4956-ab5c-74caf821ef5b",
   "metadata": {},
   "outputs": [
    {
     "name": "stdout",
     "output_type": "stream",
     "text": [
      "Epoch 0, Train Loss - 5.352356433868408, Val Loss - 5.4662699699401855, Val Accuracy - 0.176\n",
      "Epoch 20, Train Loss - 1.2599878311157227, Val Loss - 2.112591505050659, Val Accuracy - 0.483\n",
      "Epoch 40, Train Loss - 0.8465968370437622, Val Loss - 2.542515516281128, Val Accuracy - 0.559\n",
      "Epoch 60, Train Loss - 0.5768699645996094, Val Loss - 3.0360071659088135, Val Accuracy - 0.563\n",
      "Epoch 80, Train Loss - 0.29088255763053894, Val Loss - 2.876858711242676, Val Accuracy - 0.589\n",
      "Epoch 100, Train Loss - 0.19641634821891785, Val Loss - 2.9545750617980957, Val Accuracy - 0.58\n",
      "Epoch 120, Train Loss - 0.16808176040649414, Val Loss - 3.40596866607666, Val Accuracy - 0.59\n",
      "Epoch 140, Train Loss - 0.08979274332523346, Val Loss - 3.5005459785461426, Val Accuracy - 0.574\n",
      "Epoch 160, Train Loss - 0.10731571167707443, Val Loss - 3.7003884315490723, Val Accuracy - 0.593\n",
      "Epoch 180, Train Loss - 0.10311038047075272, Val Loss - 3.7477071285247803, Val Accuracy - 0.593\n",
      "Epoch 200, Train Loss - 0.07701707631349564, Val Loss - 3.795413017272949, Val Accuracy - 0.599\n",
      "Epoch 220, Train Loss - 0.0717143639922142, Val Loss - 4.111926555633545, Val Accuracy - 0.592\n",
      "Epoch 240, Train Loss - 0.0419456772506237, Val Loss - 3.427978992462158, Val Accuracy - 0.603\n",
      "Epoch 260, Train Loss - 0.03410464525222778, Val Loss - 4.01891565322876, Val Accuracy - 0.602\n",
      "Epoch 280, Train Loss - 0.034355685114860535, Val Loss - 3.945262908935547, Val Accuracy - 0.6\n",
      "Epoch 300, Train Loss - 0.06831526756286621, Val Loss - 3.895754337310791, Val Accuracy - 0.607\n",
      "Epoch 320, Train Loss - 0.058881133794784546, Val Loss - 3.5462100505828857, Val Accuracy - 0.612\n",
      "Epoch 340, Train Loss - 0.04361291602253914, Val Loss - 3.9451119899749756, Val Accuracy - 0.606\n",
      "Epoch 360, Train Loss - 0.041915711015462875, Val Loss - 4.214870452880859, Val Accuracy - 0.612\n",
      "Epoch 380, Train Loss - 0.06637407094240189, Val Loss - 4.22703218460083, Val Accuracy - 0.603\n",
      "Epoch 400, Train Loss - 0.008135035634040833, Val Loss - 3.7353410720825195, Val Accuracy - 0.603\n",
      "Epoch 420, Train Loss - 0.03475061431527138, Val Loss - 3.9479851722717285, Val Accuracy - 0.604\n",
      "Epoch 440, Train Loss - 0.036538418382406235, Val Loss - 4.094483375549316, Val Accuracy - 0.606\n",
      "Epoch 460, Train Loss - 0.13462325930595398, Val Loss - 4.021929740905762, Val Accuracy - 0.611\n",
      "Epoch 480, Train Loss - 0.033090535551309586, Val Loss - 3.702544927597046, Val Accuracy - 0.593\n",
      "Epoch 500, Train Loss - 0.03821801394224167, Val Loss - 3.971081256866455, Val Accuracy - 0.606\n"
     ]
    }
   ],
   "source": [
    "trainer_poison = Trainable(GCN(data.x.shape[1], cora_dataset.num_classes, [16]).to(device))\n",
    "trainer_poison.fit(new_data, 500)"
   ]
  },
  {
   "cell_type": "code",
   "execution_count": 14,
   "id": "4c2e732d-c233-4275-8a55-598ef8b56d19",
   "metadata": {},
   "outputs": [
    {
     "name": "stdout",
     "output_type": "stream",
     "text": [
      "Loss: 3.2340550422668457, Acc: 0.594\n"
     ]
    }
   ],
   "source": [
    "loss, acc = trainer_poison.test(new_data)\n",
    "print(f'Loss: {loss}, Acc: {acc}')"
   ]
  }
 ],
 "metadata": {
  "kernelspec": {
   "display_name": "Python 3 (ipykernel)",
   "language": "python",
   "name": "python3"
  },
  "language_info": {
   "codemirror_mode": {
    "name": "ipython",
    "version": 3
   },
   "file_extension": ".py",
   "mimetype": "text/x-python",
   "name": "python",
   "nbconvert_exporter": "python",
   "pygments_lexer": "ipython3",
   "version": "3.10.16"
  }
 },
 "nbformat": 4,
 "nbformat_minor": 5
}
