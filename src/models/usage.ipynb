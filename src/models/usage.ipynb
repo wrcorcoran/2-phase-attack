{
 "cells": [
  {
   "cell_type": "code",
   "execution_count": 1,
   "id": "35345d8b-68d4-4546-a47b-eed2e8e7d6af",
   "metadata": {},
   "outputs": [],
   "source": [
    "from gcn import *\n",
    "from trainable import *\n",
    "\n",
    "import sys\n",
    "sys.path.append('../../src/')\n",
    "from utils.datasets import *"
   ]
  },
  {
   "cell_type": "code",
   "execution_count": 2,
   "id": "cb26a7d8-0ae5-44e4-b8b7-13b2aecb21e8",
   "metadata": {},
   "outputs": [],
   "source": [
    "device = torch.device('cuda' if torch.cuda.is_available() else 'cpu')"
   ]
  },
  {
   "cell_type": "code",
   "execution_count": 3,
   "id": "b6e04b24-84df-491b-adcd-7d9fd895f756",
   "metadata": {},
   "outputs": [],
   "source": [
    "cora_dataset = Planetoid(root='/tmp/Cora', name='Cora')\n",
    "data = cora_dataset[0].to(device)"
   ]
  },
  {
   "cell_type": "code",
   "execution_count": 4,
   "id": "6fabb6fc-91b3-4db8-9b1a-95c609fccb7c",
   "metadata": {},
   "outputs": [
    {
     "data": {
      "text/plain": [
       "Data(x=[2708, 1433], edge_index=[2, 10556], y=[2708], train_mask=[2708], val_mask=[2708], test_mask=[2708])"
      ]
     },
     "execution_count": 4,
     "metadata": {},
     "output_type": "execute_result"
    }
   ],
   "source": [
    "data"
   ]
  },
  {
   "cell_type": "code",
   "execution_count": 5,
   "id": "6ddfc700-74a8-4a28-938b-b21353619fc0",
   "metadata": {},
   "outputs": [],
   "source": [
    "model = GCN(data.x.shape[1], cora_dataset.num_classes, [16]).to(device)"
   ]
  },
  {
   "cell_type": "code",
   "execution_count": 8,
   "id": "05c16462-c92a-4c3d-ac3d-4b357aaa41cc",
   "metadata": {},
   "outputs": [
    {
     "name": "stdout",
     "output_type": "stream",
     "text": [
      "Epoch 0, Train Loss - 3.025104284286499, Val Loss - 2.145056962966919, Val Accuracy - 0.321\n",
      "Epoch 20, Train Loss - 0.4934925138950348, Val Loss - 1.4481903314590454, Val Accuracy - 0.773\n",
      "Epoch 40, Train Loss - 0.13599713146686554, Val Loss - 1.5238736867904663, Val Accuracy - 0.763\n",
      "Epoch 60, Train Loss - 0.10588140040636063, Val Loss - 2.048942804336548, Val Accuracy - 0.727\n",
      "Epoch 80, Train Loss - 0.04767227545380592, Val Loss - 1.9505414962768555, Val Accuracy - 0.758\n",
      "Epoch 100, Train Loss - 0.06696074455976486, Val Loss - 2.49196720123291, Val Accuracy - 0.732\n",
      "Epoch 120, Train Loss - 0.07901035994291306, Val Loss - 2.081334114074707, Val Accuracy - 0.768\n",
      "Epoch 140, Train Loss - 0.07968156039714813, Val Loss - 2.1950807571411133, Val Accuracy - 0.769\n",
      "Epoch 160, Train Loss - 0.020733896642923355, Val Loss - 2.128279447555542, Val Accuracy - 0.785\n",
      "Epoch 180, Train Loss - 0.0436830148100853, Val Loss - 2.2207133769989014, Val Accuracy - 0.778\n",
      "Epoch 200, Train Loss - 0.025848135352134705, Val Loss - 2.3159263134002686, Val Accuracy - 0.776\n"
     ]
    }
   ],
   "source": [
    "model.reset_parameters()\n",
    "train = Trainable(model)\n",
    "train.fit(data, 200)"
   ]
  }
 ],
 "metadata": {
  "kernelspec": {
   "display_name": "Python 3 (ipykernel)",
   "language": "python",
   "name": "python3"
  },
  "language_info": {
   "codemirror_mode": {
    "name": "ipython",
    "version": 3
   },
   "file_extension": ".py",
   "mimetype": "text/x-python",
   "name": "python",
   "nbconvert_exporter": "python",
   "pygments_lexer": "ipython3",
   "version": "3.8.18"
  }
 },
 "nbformat": 4,
 "nbformat_minor": 5
}
