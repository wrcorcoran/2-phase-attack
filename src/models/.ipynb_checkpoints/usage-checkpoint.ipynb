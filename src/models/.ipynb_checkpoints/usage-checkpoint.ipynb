{
 "cells": [
  {
   "cell_type": "code",
   "execution_count": 15,
   "id": "35345d8b-68d4-4546-a47b-eed2e8e7d6af",
   "metadata": {},
   "outputs": [],
   "source": [
    "import torch.nn as nn\n",
    "import torch\n",
    "from torch_geometric.nn import GCNConv\n",
    "import torch.nn.functional as F\n",
    "\n",
    "import sys\n",
    "sys.path.append('../../src/')\n",
    "from utils.datasets import *"
   ]
  },
  {
   "cell_type": "code",
   "execution_count": 43,
   "id": "f03376f5-daa7-4b92-8540-39c2fb649c64",
   "metadata": {},
   "outputs": [],
   "source": [
    "class GCN(nn.Module):\n",
    "    def __init__(self, in_channels, out_channels, hidden_dims = [16], dropout = 0.5):\n",
    "        super().__init__()\n",
    "        conv = []\n",
    "\n",
    "        for dim in hidden_dims:\n",
    "            conv.append(GCNConv(in_channels, dim))\n",
    "            conv.append(nn.ReLU())\n",
    "            conv.append(nn.Dropout(dropout))\n",
    "            in_channels = dim\n",
    "        conv.append(GCNConv(in_channels, out_channels))\n",
    "        self.conv = nn.ModuleList(conv)\n",
    "        \n",
    "    def forward(self, x, edge_index):\n",
    "        for layer in self.conv:\n",
    "            if isinstance(layer, GCNConv):\n",
    "                x = layer(x, edge_index)\n",
    "            else:\n",
    "                x = layer(x)\n",
    "        return x\n",
    "\n",
    "def train(model, data, optimizer, criterion, device):\n",
    "    model.train()\n",
    "    data = data.to(device)\n",
    "    optimizer.zero_grad()\n",
    "    output = model(data.x, data.edge_index)\n",
    "    loss = criterion(output[data.train_mask], data.y[data.train_mask])\n",
    "    loss.backward()\n",
    "    optimizer.step()\n",
    "    return loss.item()\n",
    "\n",
    "def test(model, data, criterion, device):\n",
    "    model.eval()\n",
    "    data = data.to(device)\n",
    "    with torch.no_grad():\n",
    "        output = model(data.x, data.edge_index)\n",
    "        val_loss = criterion(output[data.val_mask], data.y[data.val_mask]).item()\n",
    "        pred = output.argmax(dim=1)\n",
    "        correct = (pred[data.val_mask] == data.y[data.val_mask]).sum().item()\n",
    "        accuracy = correct / data.val_mask.sum().item()\n",
    "    return val_loss, accuracy"
   ]
  },
  {
   "cell_type": "code",
   "execution_count": 9,
   "id": "cb26a7d8-0ae5-44e4-b8b7-13b2aecb21e8",
   "metadata": {},
   "outputs": [],
   "source": [
    "device = torch.device('cuda' if torch.cuda.is_available() else 'cpu')"
   ]
  },
  {
   "cell_type": "code",
   "execution_count": 17,
   "id": "b6e04b24-84df-491b-adcd-7d9fd895f756",
   "metadata": {},
   "outputs": [],
   "source": [
    "cora_dataset = Planetoid(root='/tmp/Cora', name='Cora')\n",
    "data = cora_dataset[0].to(device)"
   ]
  },
  {
   "cell_type": "code",
   "execution_count": 18,
   "id": "6fabb6fc-91b3-4db8-9b1a-95c609fccb7c",
   "metadata": {},
   "outputs": [
    {
     "data": {
      "text/plain": [
       "Data(x=[2708, 1433], edge_index=[2, 10556], y=[2708], train_mask=[2708], val_mask=[2708], test_mask=[2708])"
      ]
     },
     "execution_count": 18,
     "metadata": {},
     "output_type": "execute_result"
    }
   ],
   "source": [
    "data"
   ]
  },
  {
   "cell_type": "code",
   "execution_count": 48,
   "id": "6ddfc700-74a8-4a28-938b-b21353619fc0",
   "metadata": {},
   "outputs": [],
   "source": [
    "model = GCN(data.x.shape[1], cora_dataset.num_classes, [16]).to(device)"
   ]
  },
  {
   "cell_type": "code",
   "execution_count": 49,
   "id": "05c16462-c92a-4c3d-ac3d-4b357aaa41cc",
   "metadata": {},
   "outputs": [
    {
     "name": "stdout",
     "output_type": "stream",
     "text": [
      "Epoch 20, Train Loss - 0.22458970546722412, Val Loss - 0.7786887288093567, Val Accuracy - 0.772\n",
      "Epoch 40, Train Loss - 0.06594665348529816, Val Loss - 0.7225316166877747, Val Accuracy - 0.77\n",
      "Epoch 60, Train Loss - 0.03585854172706604, Val Loss - 0.7300599217414856, Val Accuracy - 0.778\n",
      "Epoch 80, Train Loss - 0.046450234949588776, Val Loss - 0.7358435988426208, Val Accuracy - 0.76\n",
      "Epoch 100, Train Loss - 0.04005562514066696, Val Loss - 0.7371999025344849, Val Accuracy - 0.748\n",
      "Epoch 120, Train Loss - 0.03932250291109085, Val Loss - 0.7474761605262756, Val Accuracy - 0.762\n",
      "Epoch 140, Train Loss - 0.02957715280354023, Val Loss - 0.758110523223877, Val Accuracy - 0.76\n",
      "Epoch 160, Train Loss - 0.033548079431056976, Val Loss - 0.7405297756195068, Val Accuracy - 0.774\n",
      "Epoch 180, Train Loss - 0.04427113011479378, Val Loss - 0.771914541721344, Val Accuracy - 0.76\n",
      "Epoch 200, Train Loss - 0.02660244330763817, Val Loss - 0.7440562844276428, Val Accuracy - 0.764\n"
     ]
    }
   ],
   "source": [
    "optimizer = torch.optim.Adam(model.parameters(), lr=0.01, weight_decay=5e-4)\n",
    "criterion = torch.nn.CrossEntropyLoss()\n",
    "\n",
    "for epoch in range(1, 201):\n",
    "    train_loss = train(model, data, optimizer, criterion, device)\n",
    "    val_loss, val_accuracy = test(model, data, criterion, device)\n",
    "    if epoch % 20 == 0:\n",
    "        print(f'Epoch {epoch}, Train Loss - {train_loss}, Val Loss - {val_loss}, Val Accuracy - {val_accuracy}')"
   ]
  }
 ],
 "metadata": {
  "kernelspec": {
   "display_name": "Python 3 (ipykernel)",
   "language": "python",
   "name": "python3"
  },
  "language_info": {
   "codemirror_mode": {
    "name": "ipython",
    "version": 3
   },
   "file_extension": ".py",
   "mimetype": "text/x-python",
   "name": "python",
   "nbconvert_exporter": "python",
   "pygments_lexer": "ipython3",
   "version": "3.8.18"
  }
 },
 "nbformat": 4,
 "nbformat_minor": 5
}
